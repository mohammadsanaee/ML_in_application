{
  "nbformat": 4,
  "nbformat_minor": 0,
  "metadata": {
    "colab": {
      "provenance": [],
      "include_colab_link": true
    },
    "kernelspec": {
      "name": "python3",
      "display_name": "Python 3"
    },
    "language_info": {
      "name": "python"
    }
  },
  "cells": [
    {
      "cell_type": "markdown",
      "metadata": {
        "id": "view-in-github",
        "colab_type": "text"
      },
      "source": [
        "<a href=\"https://colab.research.google.com/github/mohammadsanaee/ML_in_application/blob/main/Copy_of_1_introduction_linear_models.ipynb\" target=\"_parent\"><img src=\"https://colab.research.google.com/assets/colab-badge.svg\" alt=\"Open In Colab\"/></a>"
      ]
    },
    {
      "cell_type": "markdown",
      "source": [
        "# Learning objectives\n",
        "1. Refresh basic ML tools\n",
        "- Get the data\n",
        "- Train a linear model\n",
        "- Measure the model performance\n",
        "- Select the best model\n",
        "2. Learn some data preprocessing and feature engineering techniques for linear models\n",
        "- Binning\n",
        "- Polynomial features\n",
        "3. Get familiar with factorization machines\n"
      ],
      "metadata": {
        "id": "ymMs8aJtToPg"
      }
    },
    {
      "cell_type": "markdown",
      "source": [
        "# Working with data in Python\n",
        "In this course we will use several Python libraries that simplify and speed-up data processing and visualization."
      ],
      "metadata": {
        "id": "7pkMkA9XUU-I"
      }
    },
    {
      "cell_type": "markdown",
      "source": [
        "## numpy\n",
        "`numpy` (https://www.numpy.org/) is a library that provides effective implementation of large multi-dimensional arrays and matrices, along with a large collection of high-level mathematical operations.\n",
        "We will use numpy arrays to store features and labels."
      ],
      "metadata": {
        "id": "qOeYcLgoUZtS"
      }
    },
    {
      "cell_type": "code",
      "execution_count": 2,
      "metadata": {
        "colab": {
          "base_uri": "https://localhost:8080/"
        },
        "id": "fPFCvmEN48iS",
        "outputId": "90f07e3a-11e9-40cb-b70e-e8c9aad3f759"
      },
      "outputs": [
        {
          "output_type": "stream",
          "name": "stdout",
          "text": [
            "shape: (3, 2)\n",
            "ndim: 2\n",
            "second row: [1 4]\n",
            "all columns except the first:\n",
            " [[2]\n",
            " [4]\n",
            " [5]]\n"
          ]
        }
      ],
      "source": [
        "import numpy as np\n",
        "\n",
        "a = np.array([\n",
        "    [3, 2],\n",
        "    [1, 4],\n",
        "    [5, 5],\n",
        "])\n",
        "print(\"shape:\", a.shape)\n",
        "print(\"ndim:\", a.ndim)\n",
        "print(\"second row:\", a[1, :])\n",
        "print(\"all columns except the first:\\n\", a[:, 1:])"
      ]
    },
    {
      "cell_type": "code",
      "source": [
        "b = np.array([1,1,0])\n",
        "\n",
        "print(\"shape:\", b.shape)\n",
        "print(\"ndim:\", b.ndim)\n",
        "print(\"second element:\", b[1])\n",
        "print(b[1:2])\n",
        "\n",
        "print(\"mean:\", np.mean(b))\n",
        "print(\"std:\", np.std(b))\n",
        "print(\"b normalized:\", (b - np.mean(b)) / np.std(b))"
      ],
      "metadata": {
        "colab": {
          "base_uri": "https://localhost:8080/"
        },
        "id": "WFQ8hsZxUqMi",
        "outputId": "1b29589e-01fe-4183-c8cd-71ca803274b6"
      },
      "execution_count": 3,
      "outputs": [
        {
          "output_type": "stream",
          "name": "stdout",
          "text": [
            "shape: (3,)\n",
            "ndim: 1\n",
            "second element: 1\n",
            "[1]\n",
            "mean: 0.6666666666666666\n",
            "std: 0.4714045207910317\n",
            "b normalized: [ 0.70710678  0.70710678 -1.41421356]\n"
          ]
        }
      ]
    },
    {
      "cell_type": "markdown",
      "source": [
        "More examples of numpy usage: https://docs.scipy.org/doc/numpy/user/quickstart.html"
      ],
      "metadata": {
        "id": "SMlyED-hU-AN"
      }
    },
    {
      "cell_type": "markdown",
      "source": [
        "## pandas\n",
        "`pandas` (https://pandas.pydata.org/) is a library for manipulating tabular data.\n",
        "Pandas provides a data structure `Series` which basically represents a column of a table.\n",
        "A collection of `Series` is called `DataFrame`.\n",
        "Pandas is a powerful tool for manipulations with data, however in our course we will use it mostly for simple operations with data (such as basic data description, I/O and simple column transformations)."
      ],
      "metadata": {
        "id": "4G8koOIGU_gV"
      }
    },
    {
      "cell_type": "code",
      "source": [
        "import pandas as pd\n",
        "\n",
        "s1 = pd.Series([1, 2, 3])\n",
        "s2 = pd.Series(['a', 'b', 'b'])\n",
        "\n",
        "# create Pandas dataframe\n",
        "df = pd.DataFrame({\n",
        "    'numeric': s1,\n",
        "    'categorical': s2,\n",
        "    'n2': pd.Series([4, 5, 6]),\n",
        "})"
      ],
      "metadata": {
        "id": "l6Oh1FeBVGfc"
      },
      "execution_count": 4,
      "outputs": []
    },
    {
      "cell_type": "code",
      "source": [
        "df.head()"
      ],
      "metadata": {
        "colab": {
          "base_uri": "https://localhost:8080/",
          "height": 143
        },
        "id": "9sl-KoHmVRye",
        "outputId": "1181e677-304a-4286-c29b-6a6046841eaf"
      },
      "execution_count": 5,
      "outputs": [
        {
          "output_type": "execute_result",
          "data": {
            "text/plain": [
              "   numeric categorical  n2\n",
              "0        1           a   4\n",
              "1        2           b   5\n",
              "2        3           b   6"
            ],
            "text/html": [
              "\n",
              "  <div id=\"df-19a8d9c9-529c-458f-b53f-28b8408ad493\">\n",
              "    <div class=\"colab-df-container\">\n",
              "      <div>\n",
              "<style scoped>\n",
              "    .dataframe tbody tr th:only-of-type {\n",
              "        vertical-align: middle;\n",
              "    }\n",
              "\n",
              "    .dataframe tbody tr th {\n",
              "        vertical-align: top;\n",
              "    }\n",
              "\n",
              "    .dataframe thead th {\n",
              "        text-align: right;\n",
              "    }\n",
              "</style>\n",
              "<table border=\"1\" class=\"dataframe\">\n",
              "  <thead>\n",
              "    <tr style=\"text-align: right;\">\n",
              "      <th></th>\n",
              "      <th>numeric</th>\n",
              "      <th>categorical</th>\n",
              "      <th>n2</th>\n",
              "    </tr>\n",
              "  </thead>\n",
              "  <tbody>\n",
              "    <tr>\n",
              "      <th>0</th>\n",
              "      <td>1</td>\n",
              "      <td>a</td>\n",
              "      <td>4</td>\n",
              "    </tr>\n",
              "    <tr>\n",
              "      <th>1</th>\n",
              "      <td>2</td>\n",
              "      <td>b</td>\n",
              "      <td>5</td>\n",
              "    </tr>\n",
              "    <tr>\n",
              "      <th>2</th>\n",
              "      <td>3</td>\n",
              "      <td>b</td>\n",
              "      <td>6</td>\n",
              "    </tr>\n",
              "  </tbody>\n",
              "</table>\n",
              "</div>\n",
              "      <button class=\"colab-df-convert\" onclick=\"convertToInteractive('df-19a8d9c9-529c-458f-b53f-28b8408ad493')\"\n",
              "              title=\"Convert this dataframe to an interactive table.\"\n",
              "              style=\"display:none;\">\n",
              "        \n",
              "  <svg xmlns=\"http://www.w3.org/2000/svg\" height=\"24px\"viewBox=\"0 0 24 24\"\n",
              "       width=\"24px\">\n",
              "    <path d=\"M0 0h24v24H0V0z\" fill=\"none\"/>\n",
              "    <path d=\"M18.56 5.44l.94 2.06.94-2.06 2.06-.94-2.06-.94-.94-2.06-.94 2.06-2.06.94zm-11 1L8.5 8.5l.94-2.06 2.06-.94-2.06-.94L8.5 2.5l-.94 2.06-2.06.94zm10 10l.94 2.06.94-2.06 2.06-.94-2.06-.94-.94-2.06-.94 2.06-2.06.94z\"/><path d=\"M17.41 7.96l-1.37-1.37c-.4-.4-.92-.59-1.43-.59-.52 0-1.04.2-1.43.59L10.3 9.45l-7.72 7.72c-.78.78-.78 2.05 0 2.83L4 21.41c.39.39.9.59 1.41.59.51 0 1.02-.2 1.41-.59l7.78-7.78 2.81-2.81c.8-.78.8-2.07 0-2.86zM5.41 20L4 18.59l7.72-7.72 1.47 1.35L5.41 20z\"/>\n",
              "  </svg>\n",
              "      </button>\n",
              "      \n",
              "  <style>\n",
              "    .colab-df-container {\n",
              "      display:flex;\n",
              "      flex-wrap:wrap;\n",
              "      gap: 12px;\n",
              "    }\n",
              "\n",
              "    .colab-df-convert {\n",
              "      background-color: #E8F0FE;\n",
              "      border: none;\n",
              "      border-radius: 50%;\n",
              "      cursor: pointer;\n",
              "      display: none;\n",
              "      fill: #1967D2;\n",
              "      height: 32px;\n",
              "      padding: 0 0 0 0;\n",
              "      width: 32px;\n",
              "    }\n",
              "\n",
              "    .colab-df-convert:hover {\n",
              "      background-color: #E2EBFA;\n",
              "      box-shadow: 0px 1px 2px rgba(60, 64, 67, 0.3), 0px 1px 3px 1px rgba(60, 64, 67, 0.15);\n",
              "      fill: #174EA6;\n",
              "    }\n",
              "\n",
              "    [theme=dark] .colab-df-convert {\n",
              "      background-color: #3B4455;\n",
              "      fill: #D2E3FC;\n",
              "    }\n",
              "\n",
              "    [theme=dark] .colab-df-convert:hover {\n",
              "      background-color: #434B5C;\n",
              "      box-shadow: 0px 1px 3px 1px rgba(0, 0, 0, 0.15);\n",
              "      filter: drop-shadow(0px 1px 2px rgba(0, 0, 0, 0.3));\n",
              "      fill: #FFFFFF;\n",
              "    }\n",
              "  </style>\n",
              "\n",
              "      <script>\n",
              "        const buttonEl =\n",
              "          document.querySelector('#df-19a8d9c9-529c-458f-b53f-28b8408ad493 button.colab-df-convert');\n",
              "        buttonEl.style.display =\n",
              "          google.colab.kernel.accessAllowed ? 'block' : 'none';\n",
              "\n",
              "        async function convertToInteractive(key) {\n",
              "          const element = document.querySelector('#df-19a8d9c9-529c-458f-b53f-28b8408ad493');\n",
              "          const dataTable =\n",
              "            await google.colab.kernel.invokeFunction('convertToInteractive',\n",
              "                                                     [key], {});\n",
              "          if (!dataTable) return;\n",
              "\n",
              "          const docLinkHtml = 'Like what you see? Visit the ' +\n",
              "            '<a target=\"_blank\" href=https://colab.research.google.com/notebooks/data_table.ipynb>data table notebook</a>'\n",
              "            + ' to learn more about interactive tables.';\n",
              "          element.innerHTML = '';\n",
              "          dataTable['output_type'] = 'display_data';\n",
              "          await google.colab.output.renderOutput(dataTable, element);\n",
              "          const docLink = document.createElement('div');\n",
              "          docLink.innerHTML = docLinkHtml;\n",
              "          element.appendChild(docLink);\n",
              "        }\n",
              "      </script>\n",
              "    </div>\n",
              "  </div>\n",
              "  "
            ]
          },
          "metadata": {},
          "execution_count": 5
        }
      ]
    },
    {
      "cell_type": "code",
      "source": [
        "df.describe()"
      ],
      "metadata": {
        "colab": {
          "base_uri": "https://localhost:8080/",
          "height": 300
        },
        "id": "gDbTFT_2VU7P",
        "outputId": "e4f18dd5-674d-429d-d7a3-051ed1c5501b"
      },
      "execution_count": 6,
      "outputs": [
        {
          "output_type": "execute_result",
          "data": {
            "text/plain": [
              "       numeric   n2\n",
              "count      3.0  3.0\n",
              "mean       2.0  5.0\n",
              "std        1.0  1.0\n",
              "min        1.0  4.0\n",
              "25%        1.5  4.5\n",
              "50%        2.0  5.0\n",
              "75%        2.5  5.5\n",
              "max        3.0  6.0"
            ],
            "text/html": [
              "\n",
              "  <div id=\"df-1c0e8aad-acc8-4ac9-bc8a-4e8a179ed80f\">\n",
              "    <div class=\"colab-df-container\">\n",
              "      <div>\n",
              "<style scoped>\n",
              "    .dataframe tbody tr th:only-of-type {\n",
              "        vertical-align: middle;\n",
              "    }\n",
              "\n",
              "    .dataframe tbody tr th {\n",
              "        vertical-align: top;\n",
              "    }\n",
              "\n",
              "    .dataframe thead th {\n",
              "        text-align: right;\n",
              "    }\n",
              "</style>\n",
              "<table border=\"1\" class=\"dataframe\">\n",
              "  <thead>\n",
              "    <tr style=\"text-align: right;\">\n",
              "      <th></th>\n",
              "      <th>numeric</th>\n",
              "      <th>n2</th>\n",
              "    </tr>\n",
              "  </thead>\n",
              "  <tbody>\n",
              "    <tr>\n",
              "      <th>count</th>\n",
              "      <td>3.0</td>\n",
              "      <td>3.0</td>\n",
              "    </tr>\n",
              "    <tr>\n",
              "      <th>mean</th>\n",
              "      <td>2.0</td>\n",
              "      <td>5.0</td>\n",
              "    </tr>\n",
              "    <tr>\n",
              "      <th>std</th>\n",
              "      <td>1.0</td>\n",
              "      <td>1.0</td>\n",
              "    </tr>\n",
              "    <tr>\n",
              "      <th>min</th>\n",
              "      <td>1.0</td>\n",
              "      <td>4.0</td>\n",
              "    </tr>\n",
              "    <tr>\n",
              "      <th>25%</th>\n",
              "      <td>1.5</td>\n",
              "      <td>4.5</td>\n",
              "    </tr>\n",
              "    <tr>\n",
              "      <th>50%</th>\n",
              "      <td>2.0</td>\n",
              "      <td>5.0</td>\n",
              "    </tr>\n",
              "    <tr>\n",
              "      <th>75%</th>\n",
              "      <td>2.5</td>\n",
              "      <td>5.5</td>\n",
              "    </tr>\n",
              "    <tr>\n",
              "      <th>max</th>\n",
              "      <td>3.0</td>\n",
              "      <td>6.0</td>\n",
              "    </tr>\n",
              "  </tbody>\n",
              "</table>\n",
              "</div>\n",
              "      <button class=\"colab-df-convert\" onclick=\"convertToInteractive('df-1c0e8aad-acc8-4ac9-bc8a-4e8a179ed80f')\"\n",
              "              title=\"Convert this dataframe to an interactive table.\"\n",
              "              style=\"display:none;\">\n",
              "        \n",
              "  <svg xmlns=\"http://www.w3.org/2000/svg\" height=\"24px\"viewBox=\"0 0 24 24\"\n",
              "       width=\"24px\">\n",
              "    <path d=\"M0 0h24v24H0V0z\" fill=\"none\"/>\n",
              "    <path d=\"M18.56 5.44l.94 2.06.94-2.06 2.06-.94-2.06-.94-.94-2.06-.94 2.06-2.06.94zm-11 1L8.5 8.5l.94-2.06 2.06-.94-2.06-.94L8.5 2.5l-.94 2.06-2.06.94zm10 10l.94 2.06.94-2.06 2.06-.94-2.06-.94-.94-2.06-.94 2.06-2.06.94z\"/><path d=\"M17.41 7.96l-1.37-1.37c-.4-.4-.92-.59-1.43-.59-.52 0-1.04.2-1.43.59L10.3 9.45l-7.72 7.72c-.78.78-.78 2.05 0 2.83L4 21.41c.39.39.9.59 1.41.59.51 0 1.02-.2 1.41-.59l7.78-7.78 2.81-2.81c.8-.78.8-2.07 0-2.86zM5.41 20L4 18.59l7.72-7.72 1.47 1.35L5.41 20z\"/>\n",
              "  </svg>\n",
              "      </button>\n",
              "      \n",
              "  <style>\n",
              "    .colab-df-container {\n",
              "      display:flex;\n",
              "      flex-wrap:wrap;\n",
              "      gap: 12px;\n",
              "    }\n",
              "\n",
              "    .colab-df-convert {\n",
              "      background-color: #E8F0FE;\n",
              "      border: none;\n",
              "      border-radius: 50%;\n",
              "      cursor: pointer;\n",
              "      display: none;\n",
              "      fill: #1967D2;\n",
              "      height: 32px;\n",
              "      padding: 0 0 0 0;\n",
              "      width: 32px;\n",
              "    }\n",
              "\n",
              "    .colab-df-convert:hover {\n",
              "      background-color: #E2EBFA;\n",
              "      box-shadow: 0px 1px 2px rgba(60, 64, 67, 0.3), 0px 1px 3px 1px rgba(60, 64, 67, 0.15);\n",
              "      fill: #174EA6;\n",
              "    }\n",
              "\n",
              "    [theme=dark] .colab-df-convert {\n",
              "      background-color: #3B4455;\n",
              "      fill: #D2E3FC;\n",
              "    }\n",
              "\n",
              "    [theme=dark] .colab-df-convert:hover {\n",
              "      background-color: #434B5C;\n",
              "      box-shadow: 0px 1px 3px 1px rgba(0, 0, 0, 0.15);\n",
              "      filter: drop-shadow(0px 1px 2px rgba(0, 0, 0, 0.3));\n",
              "      fill: #FFFFFF;\n",
              "    }\n",
              "  </style>\n",
              "\n",
              "      <script>\n",
              "        const buttonEl =\n",
              "          document.querySelector('#df-1c0e8aad-acc8-4ac9-bc8a-4e8a179ed80f button.colab-df-convert');\n",
              "        buttonEl.style.display =\n",
              "          google.colab.kernel.accessAllowed ? 'block' : 'none';\n",
              "\n",
              "        async function convertToInteractive(key) {\n",
              "          const element = document.querySelector('#df-1c0e8aad-acc8-4ac9-bc8a-4e8a179ed80f');\n",
              "          const dataTable =\n",
              "            await google.colab.kernel.invokeFunction('convertToInteractive',\n",
              "                                                     [key], {});\n",
              "          if (!dataTable) return;\n",
              "\n",
              "          const docLinkHtml = 'Like what you see? Visit the ' +\n",
              "            '<a target=\"_blank\" href=https://colab.research.google.com/notebooks/data_table.ipynb>data table notebook</a>'\n",
              "            + ' to learn more about interactive tables.';\n",
              "          element.innerHTML = '';\n",
              "          dataTable['output_type'] = 'display_data';\n",
              "          await google.colab.output.renderOutput(dataTable, element);\n",
              "          const docLink = document.createElement('div');\n",
              "          docLink.innerHTML = docLinkHtml;\n",
              "          element.appendChild(docLink);\n",
              "        }\n",
              "      </script>\n",
              "    </div>\n",
              "  </div>\n",
              "  "
            ]
          },
          "metadata": {},
          "execution_count": 6
        }
      ]
    },
    {
      "cell_type": "code",
      "source": [
        "df['categorical'].value_counts()"
      ],
      "metadata": {
        "colab": {
          "base_uri": "https://localhost:8080/"
        },
        "id": "GuFBZ9-NVmv_",
        "outputId": "d3d7ce4e-47cf-4b18-a1e7-1c84251118e6"
      },
      "execution_count": 7,
      "outputs": [
        {
          "output_type": "execute_result",
          "data": {
            "text/plain": [
              "b    2\n",
              "a    1\n",
              "Name: categorical, dtype: int64"
            ]
          },
          "metadata": {},
          "execution_count": 7
        }
      ]
    },
    {
      "cell_type": "markdown",
      "source": [
        "More examples of pandas usage: https://pandas.pydata.org/pandas-docs/stable/getting_started/10min.html"
      ],
      "metadata": {
        "id": "XcyS_6-hVa7T"
      }
    },
    {
      "cell_type": "markdown",
      "source": [
        "## matplotlib\n",
        "`matplotlib` (https://matplotlib.org/) is a plotting library."
      ],
      "metadata": {
        "id": "3suHis1qV7YN"
      }
    },
    {
      "cell_type": "code",
      "source": [
        "import matplotlib.pyplot as plt\n",
        "\n",
        "import numpy as np\n",
        "x = np.array(range(10))\n",
        "y = x**2\n",
        "print(y)\n",
        "plt.plot(x, y, color='r', marker='o', linestyle='-')"
      ],
      "metadata": {
        "colab": {
          "base_uri": "https://localhost:8080/",
          "height": 301
        },
        "id": "REjPvEhbVbWu",
        "outputId": "50921aaf-5c26-476e-a530-6e25fc44a032"
      },
      "execution_count": 8,
      "outputs": [
        {
          "output_type": "stream",
          "name": "stdout",
          "text": [
            "[ 0  1  4  9 16 25 36 49 64 81]\n"
          ]
        },
        {
          "output_type": "execute_result",
          "data": {
            "text/plain": [
              "[<matplotlib.lines.Line2D at 0x7f3b9f0abdf0>]"
            ]
          },
          "metadata": {},
          "execution_count": 8
        },
        {
          "output_type": "display_data",
          "data": {
            "text/plain": [
              "<Figure size 432x288 with 1 Axes>"
            ],
            "image/png": "[encoded data removed]"
          },
          "metadata": {
            "needs_background": "light"
          }
        }
      ]
    },
    {
      "cell_type": "code",
      "source": [
        "x = np.random.random(10) * 10\n",
        "y = np.random.random(10)\n",
        "plt.scatter(x, y)"
      ],
      "metadata": {
        "colab": {
          "base_uri": "https://localhost:8080/",
          "height": 283
        },
        "id": "9vpPRgoGWB7a",
        "outputId": "f38bdd78-63b1-4f5b-8352-eae35cedee5a"
      },
      "execution_count": 9,
      "outputs": [
        {
          "output_type": "execute_result",
          "data": {
            "text/plain": [
              "<matplotlib.collections.PathCollection at 0x7f3b9ec04130>"
            ]
          },
          "metadata": {},
          "execution_count": 9
        },
        {
          "output_type": "display_data",
          "data": {
            "text/plain": [
              "<Figure size 432x288 with 1 Axes>"
            ],
            "image/png": "[encoded data removed]"
          },
          "metadata": {
            "needs_background": "light"
          }
        }
      ]
    },
    {
      "cell_type": "markdown",
      "source": [
        "# Getting the data\n",
        "\n",
        "In this exercise, we will try to predict median house prices in California city blocks (districts).\n",
        "This is a *regression* problem.\n",
        "The original dataset can be found here: https://github.com/ageron/handson-ml/tree/master/datasets/housing\n",
        "\n",
        "The target value is stored in `median_house_value` column.\n",
        "\n",
        "1. **longitude**: A measure of how far west a house is; a higher value is farther west\n",
        "2. **latitude**: A measure of how far north a house is; a higher value is farther north\n",
        "3. **housing_median_age**: Median age of a house within a block; a lower number is a newer building\n",
        "4. **total_rooms**: Total number of rooms within a block\n",
        "5. **total_bedrooms**: Total number of bedrooms within a block\n",
        "6. **population**: Total number of people residing within a block\n",
        "7. **households**: Total number of households, a group of people residing within a home unit, for a block\n",
        "8. **median_income**: Median income for households within a block of houses (measured in tens of thousands of US Dollars)\n",
        "9. **median_house_value**: Median house value for households within a block (measured in US Dollars)\n",
        "10. **ocean_proximity**: Location of the house w.r.t ocean/sea\n",
        "\n",
        "(see https://www.kaggle.com/camnugent/california-housing-prices)"
      ],
      "metadata": {
        "id": "WcU1aOB_WgRX"
      }
    },
    {
      "cell_type": "code",
      "source": [
        "original_df = pd.read_csv('https://raw.githubusercontent.com/horoshenkih/harbour-space-ds210/master/datasets/california_housing_prices.csv')\n",
        "original_df.head()"
      ],
      "metadata": {
        "colab": {
          "base_uri": "https://localhost:8080/",
          "height": 206
        },
        "id": "8qOq5NPyXU-j",
        "outputId": "852e421e-8670-4a29-9af3-6392ae367442"
      },
      "execution_count": 10,
      "outputs": [
        {
          "output_type": "execute_result",
          "data": {
            "text/plain": [
              "   longitude  latitude  housing_median_age  total_rooms  total_bedrooms  \\\n",
              "0    -122.23     37.88                41.0        880.0           129.0   \n",
              "1    -122.22     37.86                21.0       7099.0          1106.0   \n",
              "2    -122.24     37.85                52.0       1467.0           190.0   \n",
              "3    -122.25     37.85                52.0       1274.0           235.0   \n",
              "4    -122.25     37.85                52.0       1627.0           280.0   \n",
              "\n",
              "   population  households  median_income  median_house_value ocean_proximity  \n",
              "0       322.0       126.0         8.3252            452600.0        NEAR BAY  \n",
              "1      2401.0      1138.0         8.3014            358500.0        NEAR BAY  \n",
              "2       496.0       177.0         7.2574            352100.0        NEAR BAY  \n",
              "3       558.0       219.0         5.6431            341300.0        NEAR BAY  \n",
              "4       565.0       259.0         3.8462            342200.0        NEAR BAY  "
            ],
            "text/html": [
              "\n",
              "  <div id=\"df-05210e42-9a3e-4969-8db1-505f07a8e52e\">\n",
              "    <div class=\"colab-df-container\">\n",
              "      <div>\n",
              "<style scoped>\n",
              "    .dataframe tbody tr th:only-of-type {\n",
              "        vertical-align: middle;\n",
              "    }\n",
              "\n",
              "    .dataframe tbody tr th {\n",
              "        vertical-align: top;\n",
              "    }\n",
              "\n",
              "    .dataframe thead th {\n",
              "        text-align: right;\n",
              "    }\n",
              "</style>\n",
              "<table border=\"1\" class=\"dataframe\">\n",
              "  <thead>\n",
              "    <tr style=\"text-align: right;\">\n",
              "      <th></th>\n",
              "      <th>longitude</th>\n",
              "      <th>latitude</th>\n",
              "      <th>housing_median_age</th>\n",
              "      <th>total_rooms</th>\n",
              "      <th>total_bedrooms</th>\n",
              "      <th>population</th>\n",
              "      <th>households</th>\n",
              "      <th>median_income</th>\n",
              "      <th>median_house_value</th>\n",
              "      <th>ocean_proximity</th>\n",
              "    </tr>\n",
              "  </thead>\n",
              "  <tbody>\n",
              "    <tr>\n",
              "      <th>0</th>\n",
              "      <td>-122.23</td>\n",
              "      <td>37.88</td>\n",
              "      <td>41.0</td>\n",
              "      <td>880.0</td>\n",
              "      <td>129.0</td>\n",
              "      <td>322.0</td>\n",
              "      <td>126.0</td>\n",
              "      <td>8.3252</td>\n",
              "      <td>452600.0</td>\n",
              "      <td>NEAR BAY</td>\n",
              "    </tr>\n",
              "    <tr>\n",
              "      <th>1</th>\n",
              "      <td>-122.22</td>\n",
              "      <td>37.86</td>\n",
              "      <td>21.0</td>\n",
              "      <td>7099.0</td>\n",
              "      <td>1106.0</td>\n",
              "      <td>2401.0</td>\n",
              "      <td>1138.0</td>\n",
              "      <td>8.3014</td>\n",
              "      <td>358500.0</td>\n",
              "      <td>NEAR BAY</td>\n",
              "    </tr>\n",
              "    <tr>\n",
              "      <th>2</th>\n",
              "      <td>-122.24</td>\n",
              "      <td>37.85</td>\n",
              "      <td>52.0</td>\n",
              "      <td>1467.0</td>\n",
              "      <td>190.0</td>\n",
              "      <td>496.0</td>\n",
              "      <td>177.0</td>\n",
              "      <td>7.2574</td>\n",
              "      <td>352100.0</td>\n",
              "      <td>NEAR BAY</td>\n",
              "    </tr>\n",
              "    <tr>\n",
              "      <th>3</th>\n",
              "      <td>-122.25</td>\n",
              "      <td>37.85</td>\n",
              "      <td>52.0</td>\n",
              "      <td>1274.0</td>\n",
              "      <td>235.0</td>\n",
              "      <td>558.0</td>\n",
              "      <td>219.0</td>\n",
              "      <td>5.6431</td>\n",
              "      <td>341300.0</td>\n",
              "      <td>NEAR BAY</td>\n",
              "    </tr>\n",
              "    <tr>\n",
              "      <th>4</th>\n",
              "      <td>-122.25</td>\n",
              "      <td>37.85</td>\n",
              "      <td>52.0</td>\n",
              "      <td>1627.0</td>\n",
              "      <td>280.0</td>\n",
              "      <td>565.0</td>\n",
              "      <td>259.0</td>\n",
              "      <td>3.8462</td>\n",
              "      <td>342200.0</td>\n",
              "      <td>NEAR BAY</td>\n",
              "    </tr>\n",
              "  </tbody>\n",
              "</table>\n",
              "</div>\n",
              "      <button class=\"colab-df-convert\" onclick=\"convertToInteractive('df-05210e42-9a3e-4969-8db1-505f07a8e52e')\"\n",
              "              title=\"Convert this dataframe to an interactive table.\"\n",
              "              style=\"display:none;\">\n",
              "        \n",
              "  <svg xmlns=\"http://www.w3.org/2000/svg\" height=\"24px\"viewBox=\"0 0 24 24\"\n",
              "       width=\"24px\">\n",
              "    <path d=\"M0 0h24v24H0V0z\" fill=\"none\"/>\n",
              "    <path d=\"M18.56 5.44l.94 2.06.94-2.06 2.06-.94-2.06-.94-.94-2.06-.94 2.06-2.06.94zm-11 1L8.5 8.5l.94-2.06 2.06-.94-2.06-.94L8.5 2.5l-.94 2.06-2.06.94zm10 10l.94 2.06.94-2.06 2.06-.94-2.06-.94-.94-2.06-.94 2.06-2.06.94z\"/><path d=\"M17.41 7.96l-1.37-1.37c-.4-.4-.92-.59-1.43-.59-.52 0-1.04.2-1.43.59L10.3 9.45l-7.72 7.72c-.78.78-.78 2.05 0 2.83L4 21.41c.39.39.9.59 1.41.59.51 0 1.02-.2 1.41-.59l7.78-7.78 2.81-2.81c.8-.78.8-2.07 0-2.86zM5.41 20L4 18.59l7.72-7.72 1.47 1.35L5.41 20z\"/>\n",
              "  </svg>\n",
              "      </button>\n",
              "      \n",
              "  <style>\n",
              "    .colab-df-container {\n",
              "      display:flex;\n",
              "      flex-wrap:wrap;\n",
              "      gap: 12px;\n",
              "    }\n",
              "\n",
              "    .colab-df-convert {\n",
              "      background-color: #E8F0FE;\n",
              "      border: none;\n",
              "      border-radius: 50%;\n",
              "      cursor: pointer;\n",
              "      display: none;\n",
              "      fill: #1967D2;\n",
              "      height: 32px;\n",
              "      padding: 0 0 0 0;\n",
              "      width: 32px;\n",
              "    }\n",
              "\n",
              "    .colab-df-convert:hover {\n",
              "      background-color: #E2EBFA;\n",
              "      box-shadow: 0px 1px 2px rgba(60, 64, 67, 0.3), 0px 1px 3px 1px rgba(60, 64, 67, 0.15);\n",
              "      fill: #174EA6;\n",
              "    }\n",
              "\n",
              "    [theme=dark] .colab-df-convert {\n",
              "      background-color: #3B4455;\n",
              "      fill: #D2E3FC;\n",
              "    }\n",
              "\n",
              "    [theme=dark] .colab-df-convert:hover {\n",
              "      background-color: #434B5C;\n",
              "      box-shadow: 0px 1px 3px 1px rgba(0, 0, 0, 0.15);\n",
              "      filter: drop-shadow(0px 1px 2px rgba(0, 0, 0, 0.3));\n",
              "      fill: #FFFFFF;\n",
              "    }\n",
              "  </style>\n",
              "\n",
              "      <script>\n",
              "        const buttonEl =\n",
              "          document.querySelector('#df-05210e42-9a3e-4969-8db1-505f07a8e52e button.colab-df-convert');\n",
              "        buttonEl.style.display =\n",
              "          google.colab.kernel.accessAllowed ? 'block' : 'none';\n",
              "\n",
              "        async function convertToInteractive(key) {\n",
              "          const element = document.querySelector('#df-05210e42-9a3e-4969-8db1-505f07a8e52e');\n",
              "          const dataTable =\n",
              "            await google.colab.kernel.invokeFunction('convertToInteractive',\n",
              "                                                     [key], {});\n",
              "          if (!dataTable) return;\n",
              "\n",
              "          const docLinkHtml = 'Like what you see? Visit the ' +\n",
              "            '<a target=\"_blank\" href=https://colab.research.google.com/notebooks/data_table.ipynb>data table notebook</a>'\n",
              "            + ' to learn more about interactive tables.';\n",
              "          element.innerHTML = '';\n",
              "          dataTable['output_type'] = 'display_data';\n",
              "          await google.colab.output.renderOutput(dataTable, element);\n",
              "          const docLink = document.createElement('div');\n",
              "          docLink.innerHTML = docLinkHtml;\n",
              "          element.appendChild(docLink);\n",
              "        }\n",
              "      </script>\n",
              "    </div>\n",
              "  </div>\n",
              "  "
            ]
          },
          "metadata": {},
          "execution_count": 10
        }
      ]
    },
    {
      "cell_type": "markdown",
      "source": [
        "Explore numeric data"
      ],
      "metadata": {
        "id": "wlDOUzJUfOgB"
      }
    },
    {
      "cell_type": "code",
      "source": [
        "original_df.describe()"
      ],
      "metadata": {
        "colab": {
          "base_uri": "https://localhost:8080/",
          "height": 300
        },
        "id": "33Vufc4sfNkV",
        "outputId": "ca1b7d4c-cbf1-4126-db2f-fc0eb60e9d67"
      },
      "execution_count": 11,
      "outputs": [
        {
          "output_type": "execute_result",
          "data": {
            "text/plain": [
              "          longitude      latitude  housing_median_age   total_rooms  \\\n",
              "count  20640.000000  20640.000000        20640.000000  20640.000000   \n",
              "mean    -119.569704     35.631861           28.639486   2635.763081   \n",
              "std        2.003532      2.135952           12.585558   2181.615252   \n",
              "min     -124.350000     32.540000            1.000000      2.000000   \n",
              "25%     -121.800000     33.930000           18.000000   1447.750000   \n",
              "50%     -118.490000     34.260000           29.000000   2127.000000   \n",
              "75%     -118.010000     37.710000           37.000000   3148.000000   \n",
              "max     -114.310000     41.950000           52.000000  39320.000000   \n",
              "\n",
              "       total_bedrooms    population    households  median_income  \\\n",
              "count    20433.000000  20640.000000  20640.000000   20640.000000   \n",
              "mean       537.870553   1425.476744    499.539680       3.870671   \n",
              "std        421.385070   1132.462122    382.329753       1.899822   \n",
              "min          1.000000      3.000000      1.000000       0.499900   \n",
              "25%        296.000000    787.000000    280.000000       2.563400   \n",
              "50%        435.000000   1166.000000    409.000000       3.534800   \n",
              "75%        647.000000   1725.000000    605.000000       4.743250   \n",
              "max       6445.000000  35682.000000   6082.000000      15.000100   \n",
              "\n",
              "       median_house_value  \n",
              "count        20640.000000  \n",
              "mean        206855.816909  \n",
              "std         115395.615874  \n",
              "min          14999.000000  \n",
              "25%         119600.000000  \n",
              "50%         179700.000000  \n",
              "75%         264725.000000  \n",
              "max         500001.000000  "
            ],
            "text/html": [
              "\n",
              "  <div id=\"df-7ca5ca27-1628-4607-8de2-f04c2b4eecb4\">\n",
              "    <div class=\"colab-df-container\">\n",
              "      <div>\n",
              "<style scoped>\n",
              "    .dataframe tbody tr th:only-of-type {\n",
              "        vertical-align: middle;\n",
              "    }\n",
              "\n",
              "    .dataframe tbody tr th {\n",
              "        vertical-align: top;\n",
              "    }\n",
              "\n",
              "    .dataframe thead th {\n",
              "        text-align: right;\n",
              "    }\n",
              "</style>\n",
              "<table border=\"1\" class=\"dataframe\">\n",
              "  <thead>\n",
              "    <tr style=\"text-align: right;\">\n",
              "      <th></th>\n",
              "      <th>longitude</th>\n",
              "      <th>latitude</th>\n",
              "      <th>housing_median_age</th>\n",
              "      <th>total_rooms</th>\n",
              "      <th>total_bedrooms</th>\n",
              "      <th>population</th>\n",
              "      <th>households</th>\n",
              "      <th>median_income</th>\n",
              "      <th>median_house_value</th>\n",
              "    </tr>\n",
              "  </thead>\n",
              "  <tbody>\n",
              "    <tr>\n",
              "      <th>count</th>\n",
              "      <td>20640.000000</td>\n",
              "      <td>20640.000000</td>\n",
              "      <td>20640.000000</td>\n",
              "      <td>20640.000000</td>\n",
              "      <td>20433.000000</td>\n",
              "      <td>20640.000000</td>\n",
              "      <td>20640.000000</td>\n",
              "      <td>20640.000000</td>\n",
              "      <td>20640.000000</td>\n",
              "    </tr>\n",
              "    <tr>\n",
              "      <th>mean</th>\n",
              "      <td>-119.569704</td>\n",
              "      <td>35.631861</td>\n",
              "      <td>28.639486</td>\n",
              "      <td>2635.763081</td>\n",
              "      <td>537.870553</td>\n",
              "      <td>1425.476744</td>\n",
              "      <td>499.539680</td>\n",
              "      <td>3.870671</td>\n",
              "      <td>206855.816909</td>\n",
              "    </tr>\n",
              "    <tr>\n",
              "      <th>std</th>\n",
              "      <td>2.003532</td>\n",
              "      <td>2.135952</td>\n",
              "      <td>12.585558</td>\n",
              "      <td>2181.615252</td>\n",
              "      <td>421.385070</td>\n",
              "      <td>1132.462122</td>\n",
              "      <td>382.329753</td>\n",
              "      <td>1.899822</td>\n",
              "      <td>115395.615874</td>\n",
              "    </tr>\n",
              "    <tr>\n",
              "      <th>min</th>\n",
              "      <td>-124.350000</td>\n",
              "      <td>32.540000</td>\n",
              "      <td>1.000000</td>\n",
              "      <td>2.000000</td>\n",
              "      <td>1.000000</td>\n",
              "      <td>3.000000</td>\n",
              "      <td>1.000000</td>\n",
              "      <td>0.499900</td>\n",
              "      <td>14999.000000</td>\n",
              "    </tr>\n",
              "    <tr>\n",
              "      <th>25%</th>\n",
              "      <td>-121.800000</td>\n",
              "      <td>33.930000</td>\n",
              "      <td>18.000000</td>\n",
              "      <td>1447.750000</td>\n",
              "      <td>296.000000</td>\n",
              "      <td>787.000000</td>\n",
              "      <td>280.000000</td>\n",
              "      <td>2.563400</td>\n",
              "      <td>119600.000000</td>\n",
              "    </tr>\n",
              "    <tr>\n",
              "      <th>50%</th>\n",
              "      <td>-118.490000</td>\n",
              "      <td>34.260000</td>\n",
              "      <td>29.000000</td>\n",
              "      <td>2127.000000</td>\n",
              "      <td>435.000000</td>\n",
              "      <td>1166.000000</td>\n",
              "      <td>409.000000</td>\n",
              "      <td>3.534800</td>\n",
              "      <td>179700.000000</td>\n",
              "    </tr>\n",
              "    <tr>\n",
              "      <th>75%</th>\n",
              "      <td>-118.010000</td>\n",
              "      <td>37.710000</td>\n",
              "      <td>37.000000</td>\n",
              "      <td>3148.000000</td>\n",
              "      <td>647.000000</td>\n",
              "      <td>1725.000000</td>\n",
              "      <td>605.000000</td>\n",
              "      <td>4.743250</td>\n",
              "      <td>264725.000000</td>\n",
              "    </tr>\n",
              "    <tr>\n",
              "      <th>max</th>\n",
              "      <td>-114.310000</td>\n",
              "      <td>41.950000</td>\n",
              "      <td>52.000000</td>\n",
              "      <td>39320.000000</td>\n",
              "      <td>6445.000000</td>\n",
              "      <td>35682.000000</td>\n",
              "      <td>6082.000000</td>\n",
              "      <td>15.000100</td>\n",
              "      <td>500001.000000</td>\n",
              "    </tr>\n",
              "  </tbody>\n",
              "</table>\n",
              "</div>\n",
              "      <button class=\"colab-df-convert\" onclick=\"convertToInteractive('df-7ca5ca27-1628-4607-8de2-f04c2b4eecb4')\"\n",
              "              title=\"Convert this dataframe to an interactive table.\"\n",
              "              style=\"display:none;\">\n",
              "        \n",
              "  <svg xmlns=\"http://www.w3.org/2000/svg\" height=\"24px\"viewBox=\"0 0 24 24\"\n",
              "       width=\"24px\">\n",
              "    <path d=\"M0 0h24v24H0V0z\" fill=\"none\"/>\n",
              "    <path d=\"M18.56 5.44l.94 2.06.94-2.06 2.06-.94-2.06-.94-.94-2.06-.94 2.06-2.06.94zm-11 1L8.5 8.5l.94-2.06 2.06-.94-2.06-.94L8.5 2.5l-.94 2.06-2.06.94zm10 10l.94 2.06.94-2.06 2.06-.94-2.06-.94-.94-2.06-.94 2.06-2.06.94z\"/><path d=\"M17.41 7.96l-1.37-1.37c-.4-.4-.92-.59-1.43-.59-.52 0-1.04.2-1.43.59L10.3 9.45l-7.72 7.72c-.78.78-.78 2.05 0 2.83L4 21.41c.39.39.9.59 1.41.59.51 0 1.02-.2 1.41-.59l7.78-7.78 2.81-2.81c.8-.78.8-2.07 0-2.86zM5.41 20L4 18.59l7.72-7.72 1.47 1.35L5.41 20z\"/>\n",
              "  </svg>\n",
              "      </button>\n",
              "      \n",
              "  <style>\n",
              "    .colab-df-container {\n",
              "      display:flex;\n",
              "      flex-wrap:wrap;\n",
              "      gap: 12px;\n",
              "    }\n",
              "\n",
              "    .colab-df-convert {\n",
              "      background-color: #E8F0FE;\n",
              "      border: none;\n",
              "      border-radius: 50%;\n",
              "      cursor: pointer;\n",
              "      display: none;\n",
              "      fill: #1967D2;\n",
              "      height: 32px;\n",
              "      padding: 0 0 0 0;\n",
              "      width: 32px;\n",
              "    }\n",
              "\n",
              "    .colab-df-convert:hover {\n",
              "      background-color: #E2EBFA;\n",
              "      box-shadow: 0px 1px 2px rgba(60, 64, 67, 0.3), 0px 1px 3px 1px rgba(60, 64, 67, 0.15);\n",
              "      fill: #174EA6;\n",
              "    }\n",
              "\n",
              "    [theme=dark] .colab-df-convert {\n",
              "      background-color: #3B4455;\n",
              "      fill: #D2E3FC;\n",
              "    }\n",
              "\n",
              "    [theme=dark] .colab-df-convert:hover {\n",
              "      background-color: #434B5C;\n",
              "      box-shadow: 0px 1px 3px 1px rgba(0, 0, 0, 0.15);\n",
              "      filter: drop-shadow(0px 1px 2px rgba(0, 0, 0, 0.3));\n",
              "      fill: #FFFFFF;\n",
              "    }\n",
              "  </style>\n",
              "\n",
              "      <script>\n",
              "        const buttonEl =\n",
              "          document.querySelector('#df-7ca5ca27-1628-4607-8de2-f04c2b4eecb4 button.colab-df-convert');\n",
              "        buttonEl.style.display =\n",
              "          google.colab.kernel.accessAllowed ? 'block' : 'none';\n",
              "\n",
              "        async function convertToInteractive(key) {\n",
              "          const element = document.querySelector('#df-7ca5ca27-1628-4607-8de2-f04c2b4eecb4');\n",
              "          const dataTable =\n",
              "            await google.colab.kernel.invokeFunction('convertToInteractive',\n",
              "                                                     [key], {});\n",
              "          if (!dataTable) return;\n",
              "\n",
              "          const docLinkHtml = 'Like what you see? Visit the ' +\n",
              "            '<a target=\"_blank\" href=https://colab.research.google.com/notebooks/data_table.ipynb>data table notebook</a>'\n",
              "            + ' to learn more about interactive tables.';\n",
              "          element.innerHTML = '';\n",
              "          dataTable['output_type'] = 'display_data';\n",
              "          await google.colab.output.renderOutput(dataTable, element);\n",
              "          const docLink = document.createElement('div');\n",
              "          docLink.innerHTML = docLinkHtml;\n",
              "          element.appendChild(docLink);\n",
              "        }\n",
              "      </script>\n",
              "    </div>\n",
              "  </div>\n",
              "  "
            ]
          },
          "metadata": {},
          "execution_count": 11
        }
      ]
    },
    {
      "cell_type": "markdown",
      "source": [
        "Explore categorical data"
      ],
      "metadata": {
        "id": "i3ExdH-zfXEu"
      }
    },
    {
      "cell_type": "code",
      "source": [
        "original_df['ocean_proximity'].value_counts()"
      ],
      "metadata": {
        "colab": {
          "base_uri": "https://localhost:8080/"
        },
        "id": "RiNP5hJrfacs",
        "outputId": "1a5c81e8-095e-402e-80a9-dbb4e319cd5d"
      },
      "execution_count": 12,
      "outputs": [
        {
          "output_type": "execute_result",
          "data": {
            "text/plain": [
              "<1H OCEAN     9136\n",
              "INLAND        6551\n",
              "NEAR OCEAN    2658\n",
              "NEAR BAY      2290\n",
              "ISLAND           5\n",
              "Name: ocean_proximity, dtype: int64"
            ]
          },
          "metadata": {},
          "execution_count": 12
        }
      ]
    },
    {
      "cell_type": "markdown",
      "source": [
        "Explore spatial data"
      ],
      "metadata": {
        "id": "etWQ4EtCfgD9"
      }
    },
    {
      "cell_type": "code",
      "source": [
        "import matplotlib.pyplot as plt\n",
        "plt.figure(figsize=(10,7))\n",
        "plt.scatter(original_df.longitude, original_df.latitude, c=original_df.median_house_value,\n",
        "            cmap=plt.cm.coolwarm, linewidths=0, alpha=0.9)\n",
        "plt.xlabel(\"longitude\")\n",
        "plt.ylabel(\"latitude\")"
      ],
      "metadata": {
        "colab": {
          "base_uri": "https://localhost:8080/",
          "height": 460
        },
        "id": "di3zeXhwZNj-",
        "outputId": "eb67d0d7-8cea-4ce7-ce0a-3e7160a5a1d9"
      },
      "execution_count": 13,
      "outputs": [
        {
          "output_type": "execute_result",
          "data": {
            "text/plain": [
              "Text(0, 0.5, 'latitude')"
            ]
          },
          "metadata": {},
          "execution_count": 13
        },
        {
          "output_type": "display_data",
          "data": {
            "text/plain": [
              "<Figure size 720x504 with 1 Axes>"
            ],
            "image/png": "[encoded data removed]"
          },
          "metadata": {
            "needs_background": "light"
          }
        }
      ]
    },
    {
      "cell_type": "markdown",
      "source": [
        "Check whether there are missing values"
      ],
      "metadata": {
        "id": "dSfVkpWNf8nj"
      }
    },
    {
      "cell_type": "code",
      "source": [
        "original_df.isnull().sum()"
      ],
      "metadata": {
        "colab": {
          "base_uri": "https://localhost:8080/"
        },
        "id": "K0ouesX3f5vj",
        "outputId": "28154b6e-b7a6-49fd-fb8f-ef7fca74537a"
      },
      "execution_count": 14,
      "outputs": [
        {
          "output_type": "execute_result",
          "data": {
            "text/plain": [
              "longitude               0\n",
              "latitude                0\n",
              "housing_median_age      0\n",
              "total_rooms             0\n",
              "total_bedrooms        207\n",
              "population              0\n",
              "households              0\n",
              "median_income           0\n",
              "median_house_value      0\n",
              "ocean_proximity         0\n",
              "dtype: int64"
            ]
          },
          "metadata": {},
          "execution_count": 14
        }
      ]
    },
    {
      "cell_type": "markdown",
      "source": [
        "Fill missing values using the average value across the column"
      ],
      "metadata": {
        "id": "VrY46-l3gbff"
      }
    },
    {
      "cell_type": "code",
      "source": [
        "# df.fillna(value) -- replace missing values\n",
        "original_df['total_bedrooms'].fillna(\n",
        "    original_df['total_bedrooms'].mean(),\n",
        "    inplace=True\n",
        ")\n",
        "# check there are no missing values anymore\n",
        "original_df.isnull().sum()"
      ],
      "metadata": {
        "colab": {
          "base_uri": "https://localhost:8080/"
        },
        "id": "Y9vY_BV4gcJx",
        "outputId": "4177deba-930f-4ee6-b14b-a0c7dc9da8bb"
      },
      "execution_count": 15,
      "outputs": [
        {
          "output_type": "execute_result",
          "data": {
            "text/plain": [
              "longitude             0\n",
              "latitude              0\n",
              "housing_median_age    0\n",
              "total_rooms           0\n",
              "total_bedrooms        0\n",
              "population            0\n",
              "households            0\n",
              "median_income         0\n",
              "median_house_value    0\n",
              "ocean_proximity       0\n",
              "dtype: int64"
            ]
          },
          "metadata": {},
          "execution_count": 15
        }
      ]
    },
    {
      "cell_type": "markdown",
      "source": [
        "# Invent (mathematical) linear model for the data\n",
        "\n",
        "According to the description of features, we may deduce that the target value (`median_house_value`) may depend linearly on:\n",
        "- `median_income` (the higher the income, the higher the house price)\n",
        "- `housing_median_age` (the higher the age, the lower the price)\n",
        "- Housing area. Since we don't have exact data about it, we may use \"proxy\" features: number of rooms and bedrooms per household\n",
        "\n",
        "Also, `ocean_proximity` may improve prediction, because location is clearly important, but we cannot directly use `longitude` and `latitude` (yet). Since we assume linear dependence, the only way to use `ocean_proximity` is to use *one-hot encoding*. The resulting linear model looks as follows:\n",
        "\n",
        "$$\n",
        "median\\_house\\_value \\approx\n",
        "w_1\\,\\cdot\\,median\\_income + w_2\\,\\cdot\\,housing\\_median\\_age + w_3\\,\\cdot\\,rooms\\_per\\_household + w_4\\,\\cdot\\,bedrooms\\_per\\_household + w_5\\,\\cdot\\,I(ocean\\_proximity == \\textrm{\"<1H OCEAN\"}) + w_6\\,\\cdot\\,I(ocean\\_proximity == \\textrm{\"INLAND\"}) + w_7\\,\\cdot\\,I(ocean\\_proximity == \\textrm{\"NEAR OCEAN\"}) + w_8\\,\\cdot\\,I(ocean\\_proximity == \\textrm{\"NEAR BAY\"}) + w_9\\,\\cdot\\,I(ocean\\_proximity == \\textrm{\"ISLAND\"})$$\n",
        "\n",
        "where $I(x)$ is *indicator function*: it equals 1 when $x$ is true and 0 otherwise.\n",
        "\n",
        "Let's check the dependence for `median_income`:"
      ],
      "metadata": {
        "id": "c0KuWHX1M7qA"
      }
    },
    {
      "cell_type": "code",
      "source": [
        "original_df.plot.scatter('median_house_value', 'median_income')"
      ],
      "metadata": {
        "colab": {
          "base_uri": "https://localhost:8080/",
          "height": 298
        },
        "id": "4BKaCGhyQh42",
        "outputId": "ada8e085-6924-4619-e04f-0e45a7c41834"
      },
      "execution_count": 16,
      "outputs": [
        {
          "output_type": "execute_result",
          "data": {
            "text/plain": [
              "<matplotlib.axes._subplots.AxesSubplot at 0x7f3b9e4edcd0>"
            ]
          },
          "metadata": {},
          "execution_count": 16
        },
        {
          "output_type": "display_data",
          "data": {
            "text/plain": [
              "<Figure size 432x288 with 1 Axes>"
            ],
            "image/png": "[encoded data removed]"
          },
          "metadata": {
            "needs_background": "light"
          }
        }
      ]
    },
    {
      "cell_type": "markdown",
      "source": [
        "In practice, there is no need to remove remaining features: if there is no linear dependence, a linear model (properly trained) should ignore them (learn zero weights)."
      ],
      "metadata": {
        "id": "8EDp5C8EcOQe"
      }
    },
    {
      "cell_type": "markdown",
      "source": [
        "# Machine learning algorithms in Python\n",
        "One of the main tools to be studied in our course is `scikit-learn` library (https://scikit-learn.org/stable/index.html).\n",
        "It contains implementations of many machine learning algorithms and also provides tools for ML-specific data preprocessing, model selection, evaluation etc."
      ],
      "metadata": {
        "id": "_KKPimhQYp7c"
      }
    },
    {
      "cell_type": "markdown",
      "source": [
        "First, deal with the categorical feature `ocean_proximity`. This is how \"one-hot encoding\" is implemented in Pandas."
      ],
      "metadata": {
        "id": "FSGN7m4rbPj4"
      }
    },
    {
      "cell_type": "code",
      "source": [
        "pd.get_dummies(original_df['ocean_proximity']).head()"
      ],
      "metadata": {
        "colab": {
          "base_uri": "https://localhost:8080/",
          "height": 206
        },
        "id": "CTtDZCaXbekz",
        "outputId": "21c05303-d4a1-4ad0-e514-f5f7d85a8ddb"
      },
      "execution_count": 17,
      "outputs": [
        {
          "output_type": "execute_result",
          "data": {
            "text/plain": [
              "   <1H OCEAN  INLAND  ISLAND  NEAR BAY  NEAR OCEAN\n",
              "0          0       0       0         1           0\n",
              "1          0       0       0         1           0\n",
              "2          0       0       0         1           0\n",
              "3          0       0       0         1           0\n",
              "4          0       0       0         1           0"
            ],
            "text/html": [
              "\n",
              "  <div id=\"df-e3945b85-5769-49a7-9f4c-695a83e9f310\">\n",
              "    <div class=\"colab-df-container\">\n",
              "      <div>\n",
              "<style scoped>\n",
              "    .dataframe tbody tr th:only-of-type {\n",
              "        vertical-align: middle;\n",
              "    }\n",
              "\n",
              "    .dataframe tbody tr th {\n",
              "        vertical-align: top;\n",
              "    }\n",
              "\n",
              "    .dataframe thead th {\n",
              "        text-align: right;\n",
              "    }\n",
              "</style>\n",
              "<table border=\"1\" class=\"dataframe\">\n",
              "  <thead>\n",
              "    <tr style=\"text-align: right;\">\n",
              "      <th></th>\n",
              "      <th>&lt;1H OCEAN</th>\n",
              "      <th>INLAND</th>\n",
              "      <th>ISLAND</th>\n",
              "      <th>NEAR BAY</th>\n",
              "      <th>NEAR OCEAN</th>\n",
              "    </tr>\n",
              "  </thead>\n",
              "  <tbody>\n",
              "    <tr>\n",
              "      <th>0</th>\n",
              "      <td>0</td>\n",
              "      <td>0</td>\n",
              "      <td>0</td>\n",
              "      <td>1</td>\n",
              "      <td>0</td>\n",
              "    </tr>\n",
              "    <tr>\n",
              "      <th>1</th>\n",
              "      <td>0</td>\n",
              "      <td>0</td>\n",
              "      <td>0</td>\n",
              "      <td>1</td>\n",
              "      <td>0</td>\n",
              "    </tr>\n",
              "    <tr>\n",
              "      <th>2</th>\n",
              "      <td>0</td>\n",
              "      <td>0</td>\n",
              "      <td>0</td>\n",
              "      <td>1</td>\n",
              "      <td>0</td>\n",
              "    </tr>\n",
              "    <tr>\n",
              "      <th>3</th>\n",
              "      <td>0</td>\n",
              "      <td>0</td>\n",
              "      <td>0</td>\n",
              "      <td>1</td>\n",
              "      <td>0</td>\n",
              "    </tr>\n",
              "    <tr>\n",
              "      <th>4</th>\n",
              "      <td>0</td>\n",
              "      <td>0</td>\n",
              "      <td>0</td>\n",
              "      <td>1</td>\n",
              "      <td>0</td>\n",
              "    </tr>\n",
              "  </tbody>\n",
              "</table>\n",
              "</div>\n",
              "      <button class=\"colab-df-convert\" onclick=\"convertToInteractive('df-e3945b85-5769-49a7-9f4c-695a83e9f310')\"\n",
              "              title=\"Convert this dataframe to an interactive table.\"\n",
              "              style=\"display:none;\">\n",
              "        \n",
              "  <svg xmlns=\"http://www.w3.org/2000/svg\" height=\"24px\"viewBox=\"0 0 24 24\"\n",
              "       width=\"24px\">\n",
              "    <path d=\"M0 0h24v24H0V0z\" fill=\"none\"/>\n",
              "    <path d=\"M18.56 5.44l.94 2.06.94-2.06 2.06-.94-2.06-.94-.94-2.06-.94 2.06-2.06.94zm-11 1L8.5 8.5l.94-2.06 2.06-.94-2.06-.94L8.5 2.5l-.94 2.06-2.06.94zm10 10l.94 2.06.94-2.06 2.06-.94-2.06-.94-.94-2.06-.94 2.06-2.06.94z\"/><path d=\"M17.41 7.96l-1.37-1.37c-.4-.4-.92-.59-1.43-.59-.52 0-1.04.2-1.43.59L10.3 9.45l-7.72 7.72c-.78.78-.78 2.05 0 2.83L4 21.41c.39.39.9.59 1.41.59.51 0 1.02-.2 1.41-.59l7.78-7.78 2.81-2.81c.8-.78.8-2.07 0-2.86zM5.41 20L4 18.59l7.72-7.72 1.47 1.35L5.41 20z\"/>\n",
              "  </svg>\n",
              "      </button>\n",
              "      \n",
              "  <style>\n",
              "    .colab-df-container {\n",
              "      display:flex;\n",
              "      flex-wrap:wrap;\n",
              "      gap: 12px;\n",
              "    }\n",
              "\n",
              "    .colab-df-convert {\n",
              "      background-color: #E8F0FE;\n",
              "      border: none;\n",
              "      border-radius: 50%;\n",
              "      cursor: pointer;\n",
              "      display: none;\n",
              "      fill: #1967D2;\n",
              "      height: 32px;\n",
              "      padding: 0 0 0 0;\n",
              "      width: 32px;\n",
              "    }\n",
              "\n",
              "    .colab-df-convert:hover {\n",
              "      background-color: #E2EBFA;\n",
              "      box-shadow: 0px 1px 2px rgba(60, 64, 67, 0.3), 0px 1px 3px 1px rgba(60, 64, 67, 0.15);\n",
              "      fill: #174EA6;\n",
              "    }\n",
              "\n",
              "    [theme=dark] .colab-df-convert {\n",
              "      background-color: #3B4455;\n",
              "      fill: #D2E3FC;\n",
              "    }\n",
              "\n",
              "    [theme=dark] .colab-df-convert:hover {\n",
              "      background-color: #434B5C;\n",
              "      box-shadow: 0px 1px 3px 1px rgba(0, 0, 0, 0.15);\n",
              "      filter: drop-shadow(0px 1px 2px rgba(0, 0, 0, 0.3));\n",
              "      fill: #FFFFFF;\n",
              "    }\n",
              "  </style>\n",
              "\n",
              "      <script>\n",
              "        const buttonEl =\n",
              "          document.querySelector('#df-e3945b85-5769-49a7-9f4c-695a83e9f310 button.colab-df-convert');\n",
              "        buttonEl.style.display =\n",
              "          google.colab.kernel.accessAllowed ? 'block' : 'none';\n",
              "\n",
              "        async function convertToInteractive(key) {\n",
              "          const element = document.querySelector('#df-e3945b85-5769-49a7-9f4c-695a83e9f310');\n",
              "          const dataTable =\n",
              "            await google.colab.kernel.invokeFunction('convertToInteractive',\n",
              "                                                     [key], {});\n",
              "          if (!dataTable) return;\n",
              "\n",
              "          const docLinkHtml = 'Like what you see? Visit the ' +\n",
              "            '<a target=\"_blank\" href=https://colab.research.google.com/notebooks/data_table.ipynb>data table notebook</a>'\n",
              "            + ' to learn more about interactive tables.';\n",
              "          element.innerHTML = '';\n",
              "          dataTable['output_type'] = 'display_data';\n",
              "          await google.colab.output.renderOutput(dataTable, element);\n",
              "          const docLink = document.createElement('div');\n",
              "          docLink.innerHTML = docLinkHtml;\n",
              "          element.appendChild(docLink);\n",
              "        }\n",
              "      </script>\n",
              "    </div>\n",
              "  </div>\n",
              "  "
            ]
          },
          "metadata": {},
          "execution_count": 17
        }
      ]
    },
    {
      "cell_type": "code",
      "source": [
        "df = pd.concat([original_df, pd.get_dummies(original_df['ocean_proximity'])], axis=1)\n",
        "df.head()"
      ],
      "metadata": {
        "colab": {
          "base_uri": "https://localhost:8080/",
          "height": 288
        },
        "id": "zUF-A8gobhic",
        "outputId": "3671d9fa-e66d-43cc-894f-7c8eb5d8a2e9"
      },
      "execution_count": 18,
      "outputs": [
        {
          "output_type": "execute_result",
          "data": {
            "text/plain": [
              "   longitude  latitude  housing_median_age  total_rooms  total_bedrooms  \\\n",
              "0    -122.23     37.88                41.0        880.0           129.0   \n",
              "1    -122.22     37.86                21.0       7099.0          1106.0   \n",
              "2    -122.24     37.85                52.0       1467.0           190.0   \n",
              "3    -122.25     37.85                52.0       1274.0           235.0   \n",
              "4    -122.25     37.85                52.0       1627.0           280.0   \n",
              "\n",
              "   population  households  median_income  median_house_value ocean_proximity  \\\n",
              "0       322.0       126.0         8.3252            452600.0        NEAR BAY   \n",
              "1      2401.0      1138.0         8.3014            358500.0        NEAR BAY   \n",
              "2       496.0       177.0         7.2574            352100.0        NEAR BAY   \n",
              "3       558.0       219.0         5.6431            341300.0        NEAR BAY   \n",
              "4       565.0       259.0         3.8462            342200.0        NEAR BAY   \n",
              "\n",
              "   <1H OCEAN  INLAND  ISLAND  NEAR BAY  NEAR OCEAN  \n",
              "0          0       0       0         1           0  \n",
              "1          0       0       0         1           0  \n",
              "2          0       0       0         1           0  \n",
              "3          0       0       0         1           0  \n",
              "4          0       0       0         1           0  "
            ],
            "text/html": [
              "\n",
              "  <div id=\"df-77a583f6-525c-47ed-a4e3-ededdc52f48d\">\n",
              "    <div class=\"colab-df-container\">\n",
              "      <div>\n",
              "<style scoped>\n",
              "    .dataframe tbody tr th:only-of-type {\n",
              "        vertical-align: middle;\n",
              "    }\n",
              "\n",
              "    .dataframe tbody tr th {\n",
              "        vertical-align: top;\n",
              "    }\n",
              "\n",
              "    .dataframe thead th {\n",
              "        text-align: right;\n",
              "    }\n",
              "</style>\n",
              "<table border=\"1\" class=\"dataframe\">\n",
              "  <thead>\n",
              "    <tr style=\"text-align: right;\">\n",
              "      <th></th>\n",
              "      <th>longitude</th>\n",
              "      <th>latitude</th>\n",
              "      <th>housing_median_age</th>\n",
              "      <th>total_rooms</th>\n",
              "      <th>total_bedrooms</th>\n",
              "      <th>population</th>\n",
              "      <th>households</th>\n",
              "      <th>median_income</th>\n",
              "      <th>median_house_value</th>\n",
              "      <th>ocean_proximity</th>\n",
              "      <th>&lt;1H OCEAN</th>\n",
              "      <th>INLAND</th>\n",
              "      <th>ISLAND</th>\n",
              "      <th>NEAR BAY</th>\n",
              "      <th>NEAR OCEAN</th>\n",
              "    </tr>\n",
              "  </thead>\n",
              "  <tbody>\n",
              "    <tr>\n",
              "      <th>0</th>\n",
              "      <td>-122.23</td>\n",
              "      <td>37.88</td>\n",
              "      <td>41.0</td>\n",
              "      <td>880.0</td>\n",
              "      <td>129.0</td>\n",
              "      <td>322.0</td>\n",
              "      <td>126.0</td>\n",
              "      <td>8.3252</td>\n",
              "      <td>452600.0</td>\n",
              "      <td>NEAR BAY</td>\n",
              "      <td>0</td>\n",
              "      <td>0</td>\n",
              "      <td>0</td>\n",
              "      <td>1</td>\n",
              "      <td>0</td>\n",
              "    </tr>\n",
              "    <tr>\n",
              "      <th>1</th>\n",
              "      <td>-122.22</td>\n",
              "      <td>37.86</td>\n",
              "      <td>21.0</td>\n",
              "      <td>7099.0</td>\n",
              "      <td>1106.0</td>\n",
              "      <td>2401.0</td>\n",
              "      <td>1138.0</td>\n",
              "      <td>8.3014</td>\n",
              "      <td>358500.0</td>\n",
              "      <td>NEAR BAY</td>\n",
              "      <td>0</td>\n",
              "      <td>0</td>\n",
              "      <td>0</td>\n",
              "      <td>1</td>\n",
              "      <td>0</td>\n",
              "    </tr>\n",
              "    <tr>\n",
              "      <th>2</th>\n",
              "      <td>-122.24</td>\n",
              "      <td>37.85</td>\n",
              "      <td>52.0</td>\n",
              "      <td>1467.0</td>\n",
              "      <td>190.0</td>\n",
              "      <td>496.0</td>\n",
              "      <td>177.0</td>\n",
              "      <td>7.2574</td>\n",
              "      <td>352100.0</td>\n",
              "      <td>NEAR BAY</td>\n",
              "      <td>0</td>\n",
              "      <td>0</td>\n",
              "      <td>0</td>\n",
              "      <td>1</td>\n",
              "      <td>0</td>\n",
              "    </tr>\n",
              "    <tr>\n",
              "      <th>3</th>\n",
              "      <td>-122.25</td>\n",
              "      <td>37.85</td>\n",
              "      <td>52.0</td>\n",
              "      <td>1274.0</td>\n",
              "      <td>235.0</td>\n",
              "      <td>558.0</td>\n",
              "      <td>219.0</td>\n",
              "      <td>5.6431</td>\n",
              "      <td>341300.0</td>\n",
              "      <td>NEAR BAY</td>\n",
              "      <td>0</td>\n",
              "      <td>0</td>\n",
              "      <td>0</td>\n",
              "      <td>1</td>\n",
              "      <td>0</td>\n",
              "    </tr>\n",
              "    <tr>\n",
              "      <th>4</th>\n",
              "      <td>-122.25</td>\n",
              "      <td>37.85</td>\n",
              "      <td>52.0</td>\n",
              "      <td>1627.0</td>\n",
              "      <td>280.0</td>\n",
              "      <td>565.0</td>\n",
              "      <td>259.0</td>\n",
              "      <td>3.8462</td>\n",
              "      <td>342200.0</td>\n",
              "      <td>NEAR BAY</td>\n",
              "      <td>0</td>\n",
              "      <td>0</td>\n",
              "      <td>0</td>\n",
              "      <td>1</td>\n",
              "      <td>0</td>\n",
              "    </tr>\n",
              "  </tbody>\n",
              "</table>\n",
              "</div>\n",
              "      <button class=\"colab-df-convert\" onclick=\"convertToInteractive('df-77a583f6-525c-47ed-a4e3-ededdc52f48d')\"\n",
              "              title=\"Convert this dataframe to an interactive table.\"\n",
              "              style=\"display:none;\">\n",
              "        \n",
              "  <svg xmlns=\"http://www.w3.org/2000/svg\" height=\"24px\"viewBox=\"0 0 24 24\"\n",
              "       width=\"24px\">\n",
              "    <path d=\"M0 0h24v24H0V0z\" fill=\"none\"/>\n",
              "    <path d=\"M18.56 5.44l.94 2.06.94-2.06 2.06-.94-2.06-.94-.94-2.06-.94 2.06-2.06.94zm-11 1L8.5 8.5l.94-2.06 2.06-.94-2.06-.94L8.5 2.5l-.94 2.06-2.06.94zm10 10l.94 2.06.94-2.06 2.06-.94-2.06-.94-.94-2.06-.94 2.06-2.06.94z\"/><path d=\"M17.41 7.96l-1.37-1.37c-.4-.4-.92-.59-1.43-.59-.52 0-1.04.2-1.43.59L10.3 9.45l-7.72 7.72c-.78.78-.78 2.05 0 2.83L4 21.41c.39.39.9.59 1.41.59.51 0 1.02-.2 1.41-.59l7.78-7.78 2.81-2.81c.8-.78.8-2.07 0-2.86zM5.41 20L4 18.59l7.72-7.72 1.47 1.35L5.41 20z\"/>\n",
              "  </svg>\n",
              "      </button>\n",
              "      \n",
              "  <style>\n",
              "    .colab-df-container {\n",
              "      display:flex;\n",
              "      flex-wrap:wrap;\n",
              "      gap: 12px;\n",
              "    }\n",
              "\n",
              "    .colab-df-convert {\n",
              "      background-color: #E8F0FE;\n",
              "      border: none;\n",
              "      border-radius: 50%;\n",
              "      cursor: pointer;\n",
              "      display: none;\n",
              "      fill: #1967D2;\n",
              "      height: 32px;\n",
              "      padding: 0 0 0 0;\n",
              "      width: 32px;\n",
              "    }\n",
              "\n",
              "    .colab-df-convert:hover {\n",
              "      background-color: #E2EBFA;\n",
              "      box-shadow: 0px 1px 2px rgba(60, 64, 67, 0.3), 0px 1px 3px 1px rgba(60, 64, 67, 0.15);\n",
              "      fill: #174EA6;\n",
              "    }\n",
              "\n",
              "    [theme=dark] .colab-df-convert {\n",
              "      background-color: #3B4455;\n",
              "      fill: #D2E3FC;\n",
              "    }\n",
              "\n",
              "    [theme=dark] .colab-df-convert:hover {\n",
              "      background-color: #434B5C;\n",
              "      box-shadow: 0px 1px 3px 1px rgba(0, 0, 0, 0.15);\n",
              "      filter: drop-shadow(0px 1px 2px rgba(0, 0, 0, 0.3));\n",
              "      fill: #FFFFFF;\n",
              "    }\n",
              "  </style>\n",
              "\n",
              "      <script>\n",
              "        const buttonEl =\n",
              "          document.querySelector('#df-77a583f6-525c-47ed-a4e3-ededdc52f48d button.colab-df-convert');\n",
              "        buttonEl.style.display =\n",
              "          google.colab.kernel.accessAllowed ? 'block' : 'none';\n",
              "\n",
              "        async function convertToInteractive(key) {\n",
              "          const element = document.querySelector('#df-77a583f6-525c-47ed-a4e3-ededdc52f48d');\n",
              "          const dataTable =\n",
              "            await google.colab.kernel.invokeFunction('convertToInteractive',\n",
              "                                                     [key], {});\n",
              "          if (!dataTable) return;\n",
              "\n",
              "          const docLinkHtml = 'Like what you see? Visit the ' +\n",
              "            '<a target=\"_blank\" href=https://colab.research.google.com/notebooks/data_table.ipynb>data table notebook</a>'\n",
              "            + ' to learn more about interactive tables.';\n",
              "          element.innerHTML = '';\n",
              "          dataTable['output_type'] = 'display_data';\n",
              "          await google.colab.output.renderOutput(dataTable, element);\n",
              "          const docLink = document.createElement('div');\n",
              "          docLink.innerHTML = docLinkHtml;\n",
              "          element.appendChild(docLink);\n",
              "        }\n",
              "      </script>\n",
              "    </div>\n",
              "  </div>\n",
              "  "
            ]
          },
          "metadata": {},
          "execution_count": 18
        }
      ]
    },
    {
      "cell_type": "markdown",
      "source": [
        "Perform feature engineering according to our [mathematical model](https://colab.research.google.com/drive/1u1wxIiqjFZyhZKrjwcfnHC02P9dP2gFp#scrollTo=c0KuWHX1M7qA&line=2&uniqifier=1). It's easy with Pandas:"
      ],
      "metadata": {
        "id": "_OecU0VmNKxs"
      }
    },
    {
      "cell_type": "code",
      "source": [
        "df['rooms_per_household'] = df['total_rooms'] / df['households']\n",
        "df['bedrooms_per_household'] = df['total_bedrooms'] / df['households']\n",
        "# look at the dataset after feature engineering\n",
        "df.describe()"
      ],
      "metadata": {
        "colab": {
          "base_uri": "https://localhost:8080/",
          "height": 364
        },
        "id": "FzXNXNKlNsf4",
        "outputId": "cb70ae19-ab33-4dfe-9398-db08dedaa7d9"
      },
      "execution_count": 19,
      "outputs": [
        {
          "output_type": "execute_result",
          "data": {
            "text/plain": [
              "          longitude      latitude  housing_median_age   total_rooms  \\\n",
              "count  20640.000000  20640.000000        20640.000000  20640.000000   \n",
              "mean    -119.569704     35.631861           28.639486   2635.763081   \n",
              "std        2.003532      2.135952           12.585558   2181.615252   \n",
              "min     -124.350000     32.540000            1.000000      2.000000   \n",
              "25%     -121.800000     33.930000           18.000000   1447.750000   \n",
              "50%     -118.490000     34.260000           29.000000   2127.000000   \n",
              "75%     -118.010000     37.710000           37.000000   3148.000000   \n",
              "max     -114.310000     41.950000           52.000000  39320.000000   \n",
              "\n",
              "       total_bedrooms    population    households  median_income  \\\n",
              "count    20640.000000  20640.000000  20640.000000   20640.000000   \n",
              "mean       537.870553   1425.476744    499.539680       3.870671   \n",
              "std        419.266592   1132.462122    382.329753       1.899822   \n",
              "min          1.000000      3.000000      1.000000       0.499900   \n",
              "25%        297.000000    787.000000    280.000000       2.563400   \n",
              "50%        438.000000   1166.000000    409.000000       3.534800   \n",
              "75%        643.250000   1725.000000    605.000000       4.743250   \n",
              "max       6445.000000  35682.000000   6082.000000      15.000100   \n",
              "\n",
              "       median_house_value     <1H OCEAN        INLAND        ISLAND  \\\n",
              "count        20640.000000  20640.000000  20640.000000  20640.000000   \n",
              "mean        206855.816909      0.442636      0.317393      0.000242   \n",
              "std         115395.615874      0.496710      0.465473      0.015563   \n",
              "min          14999.000000      0.000000      0.000000      0.000000   \n",
              "25%         119600.000000      0.000000      0.000000      0.000000   \n",
              "50%         179700.000000      0.000000      0.000000      0.000000   \n",
              "75%         264725.000000      1.000000      1.000000      0.000000   \n",
              "max         500001.000000      1.000000      1.000000      1.000000   \n",
              "\n",
              "           NEAR BAY    NEAR OCEAN  rooms_per_household  bedrooms_per_household  \n",
              "count  20640.000000  20640.000000         20640.000000            20640.000000  \n",
              "mean       0.110950      0.128779             5.429000                1.104422  \n",
              "std        0.314077      0.334963             2.474173                0.544522  \n",
              "min        0.000000      0.000000             0.846154                0.149866  \n",
              "25%        0.000000      0.000000             4.440716                1.005857  \n",
              "50%        0.000000      0.000000             5.229129                1.049084  \n",
              "75%        0.000000      0.000000             6.052381                1.100398  \n",
              "max        1.000000      1.000000           141.909091               34.066667  "
            ],
            "text/html": [
              "\n",
              "  <div id=\"df-c3929347-5cb5-4b74-a777-76b6e5dfc174\">\n",
              "    <div class=\"colab-df-container\">\n",
              "      <div>\n",
              "<style scoped>\n",
              "    .dataframe tbody tr th:only-of-type {\n",
              "        vertical-align: middle;\n",
              "    }\n",
              "\n",
              "    .dataframe tbody tr th {\n",
              "        vertical-align: top;\n",
              "    }\n",
              "\n",
              "    .dataframe thead th {\n",
              "        text-align: right;\n",
              "    }\n",
              "</style>\n",
              "<table border=\"1\" class=\"dataframe\">\n",
              "  <thead>\n",
              "    <tr style=\"text-align: right;\">\n",
              "      <th></th>\n",
              "      <th>longitude</th>\n",
              "      <th>latitude</th>\n",
              "      <th>housing_median_age</th>\n",
              "      <th>total_rooms</th>\n",
              "      <th>total_bedrooms</th>\n",
              "      <th>population</th>\n",
              "      <th>households</th>\n",
              "      <th>median_income</th>\n",
              "      <th>median_house_value</th>\n",
              "      <th>&lt;1H OCEAN</th>\n",
              "      <th>INLAND</th>\n",
              "      <th>ISLAND</th>\n",
              "      <th>NEAR BAY</th>\n",
              "      <th>NEAR OCEAN</th>\n",
              "      <th>rooms_per_household</th>\n",
              "      <th>bedrooms_per_household</th>\n",
              "    </tr>\n",
              "  </thead>\n",
              "  <tbody>\n",
              "    <tr>\n",
              "      <th>count</th>\n",
              "      <td>20640.000000</td>\n",
              "      <td>20640.000000</td>\n",
              "      <td>20640.000000</td>\n",
              "      <td>20640.000000</td>\n",
              "      <td>20640.000000</td>\n",
              "      <td>20640.000000</td>\n",
              "      <td>20640.000000</td>\n",
              "      <td>20640.000000</td>\n",
              "      <td>20640.000000</td>\n",
              "      <td>20640.000000</td>\n",
              "      <td>20640.000000</td>\n",
              "      <td>20640.000000</td>\n",
              "      <td>20640.000000</td>\n",
              "      <td>20640.000000</td>\n",
              "      <td>20640.000000</td>\n",
              "      <td>20640.000000</td>\n",
              "    </tr>\n",
              "    <tr>\n",
              "      <th>mean</th>\n",
              "      <td>-119.569704</td>\n",
              "      <td>35.631861</td>\n",
              "      <td>28.639486</td>\n",
              "      <td>2635.763081</td>\n",
              "      <td>537.870553</td>\n",
              "      <td>1425.476744</td>\n",
              "      <td>499.539680</td>\n",
              "      <td>3.870671</td>\n",
              "      <td>206855.816909</td>\n",
              "      <td>0.442636</td>\n",
              "      <td>0.317393</td>\n",
              "      <td>0.000242</td>\n",
              "      <td>0.110950</td>\n",
              "      <td>0.128779</td>\n",
              "      <td>5.429000</td>\n",
              "      <td>1.104422</td>\n",
              "    </tr>\n",
              "    <tr>\n",
              "      <th>std</th>\n",
              "      <td>2.003532</td>\n",
              "      <td>2.135952</td>\n",
              "      <td>12.585558</td>\n",
              "      <td>2181.615252</td>\n",
              "      <td>419.266592</td>\n",
              "      <td>1132.462122</td>\n",
              "      <td>382.329753</td>\n",
              "      <td>1.899822</td>\n",
              "      <td>115395.615874</td>\n",
              "      <td>0.496710</td>\n",
              "      <td>0.465473</td>\n",
              "      <td>0.015563</td>\n",
              "      <td>0.314077</td>\n",
              "      <td>0.334963</td>\n",
              "      <td>2.474173</td>\n",
              "      <td>0.544522</td>\n",
              "    </tr>\n",
              "    <tr>\n",
              "      <th>min</th>\n",
              "      <td>-124.350000</td>\n",
              "      <td>32.540000</td>\n",
              "      <td>1.000000</td>\n",
              "      <td>2.000000</td>\n",
              "      <td>1.000000</td>\n",
              "      <td>3.000000</td>\n",
              "      <td>1.000000</td>\n",
              "      <td>0.499900</td>\n",
              "      <td>14999.000000</td>\n",
              "      <td>0.000000</td>\n",
              "      <td>0.000000</td>\n",
              "      <td>0.000000</td>\n",
              "      <td>0.000000</td>\n",
              "      <td>0.000000</td>\n",
              "      <td>0.846154</td>\n",
              "      <td>0.149866</td>\n",
              "    </tr>\n",
              "    <tr>\n",
              "      <th>25%</th>\n",
              "      <td>-121.800000</td>\n",
              "      <td>33.930000</td>\n",
              "      <td>18.000000</td>\n",
              "      <td>1447.750000</td>\n",
              "      <td>297.000000</td>\n",
              "      <td>787.000000</td>\n",
              "      <td>280.000000</td>\n",
              "      <td>2.563400</td>\n",
              "      <td>119600.000000</td>\n",
              "      <td>0.000000</td>\n",
              "      <td>0.000000</td>\n",
              "      <td>0.000000</td>\n",
              "      <td>0.000000</td>\n",
              "      <td>0.000000</td>\n",
              "      <td>4.440716</td>\n",
              "      <td>1.005857</td>\n",
              "    </tr>\n",
              "    <tr>\n",
              "      <th>50%</th>\n",
              "      <td>-118.490000</td>\n",
              "      <td>34.260000</td>\n",
              "      <td>29.000000</td>\n",
              "      <td>2127.000000</td>\n",
              "      <td>438.000000</td>\n",
              "      <td>1166.000000</td>\n",
              "      <td>409.000000</td>\n",
              "      <td>3.534800</td>\n",
              "      <td>179700.000000</td>\n",
              "      <td>0.000000</td>\n",
              "      <td>0.000000</td>\n",
              "      <td>0.000000</td>\n",
              "      <td>0.000000</td>\n",
              "      <td>0.000000</td>\n",
              "      <td>5.229129</td>\n",
              "      <td>1.049084</td>\n",
              "    </tr>\n",
              "    <tr>\n",
              "      <th>75%</th>\n",
              "      <td>-118.010000</td>\n",
              "      <td>37.710000</td>\n",
              "      <td>37.000000</td>\n",
              "      <td>3148.000000</td>\n",
              "      <td>643.250000</td>\n",
              "      <td>1725.000000</td>\n",
              "      <td>605.000000</td>\n",
              "      <td>4.743250</td>\n",
              "      <td>264725.000000</td>\n",
              "      <td>1.000000</td>\n",
              "      <td>1.000000</td>\n",
              "      <td>0.000000</td>\n",
              "      <td>0.000000</td>\n",
              "      <td>0.000000</td>\n",
              "      <td>6.052381</td>\n",
              "      <td>1.100398</td>\n",
              "    </tr>\n",
              "    <tr>\n",
              "      <th>max</th>\n",
              "      <td>-114.310000</td>\n",
              "      <td>41.950000</td>\n",
              "      <td>52.000000</td>\n",
              "      <td>39320.000000</td>\n",
              "      <td>6445.000000</td>\n",
              "      <td>35682.000000</td>\n",
              "      <td>6082.000000</td>\n",
              "      <td>15.000100</td>\n",
              "      <td>500001.000000</td>\n",
              "      <td>1.000000</td>\n",
              "      <td>1.000000</td>\n",
              "      <td>1.000000</td>\n",
              "      <td>1.000000</td>\n",
              "      <td>1.000000</td>\n",
              "      <td>141.909091</td>\n",
              "      <td>34.066667</td>\n",
              "    </tr>\n",
              "  </tbody>\n",
              "</table>\n",
              "</div>\n",
              "      <button class=\"colab-df-convert\" onclick=\"convertToInteractive('df-c3929347-5cb5-4b74-a777-76b6e5dfc174')\"\n",
              "              title=\"Convert this dataframe to an interactive table.\"\n",
              "              style=\"display:none;\">\n",
              "        \n",
              "  <svg xmlns=\"http://www.w3.org/2000/svg\" height=\"24px\"viewBox=\"0 0 24 24\"\n",
              "       width=\"24px\">\n",
              "    <path d=\"M0 0h24v24H0V0z\" fill=\"none\"/>\n",
              "    <path d=\"M18.56 5.44l.94 2.06.94-2.06 2.06-.94-2.06-.94-.94-2.06-.94 2.06-2.06.94zm-11 1L8.5 8.5l.94-2.06 2.06-.94-2.06-.94L8.5 2.5l-.94 2.06-2.06.94zm10 10l.94 2.06.94-2.06 2.06-.94-2.06-.94-.94-2.06-.94 2.06-2.06.94z\"/><path d=\"M17.41 7.96l-1.37-1.37c-.4-.4-.92-.59-1.43-.59-.52 0-1.04.2-1.43.59L10.3 9.45l-7.72 7.72c-.78.78-.78 2.05 0 2.83L4 21.41c.39.39.9.59 1.41.59.51 0 1.02-.2 1.41-.59l7.78-7.78 2.81-2.81c.8-.78.8-2.07 0-2.86zM5.41 20L4 18.59l7.72-7.72 1.47 1.35L5.41 20z\"/>\n",
              "  </svg>\n",
              "      </button>\n",
              "      \n",
              "  <style>\n",
              "    .colab-df-container {\n",
              "      display:flex;\n",
              "      flex-wrap:wrap;\n",
              "      gap: 12px;\n",
              "    }\n",
              "\n",
              "    .colab-df-convert {\n",
              "      background-color: #E8F0FE;\n",
              "      border: none;\n",
              "      border-radius: 50%;\n",
              "      cursor: pointer;\n",
              "      display: none;\n",
              "      fill: #1967D2;\n",
              "      height: 32px;\n",
              "      padding: 0 0 0 0;\n",
              "      width: 32px;\n",
              "    }\n",
              "\n",
              "    .colab-df-convert:hover {\n",
              "      background-color: #E2EBFA;\n",
              "      box-shadow: 0px 1px 2px rgba(60, 64, 67, 0.3), 0px 1px 3px 1px rgba(60, 64, 67, 0.15);\n",
              "      fill: #174EA6;\n",
              "    }\n",
              "\n",
              "    [theme=dark] .colab-df-convert {\n",
              "      background-color: #3B4455;\n",
              "      fill: #D2E3FC;\n",
              "    }\n",
              "\n",
              "    [theme=dark] .colab-df-convert:hover {\n",
              "      background-color: #434B5C;\n",
              "      box-shadow: 0px 1px 3px 1px rgba(0, 0, 0, 0.15);\n",
              "      filter: drop-shadow(0px 1px 2px rgba(0, 0, 0, 0.3));\n",
              "      fill: #FFFFFF;\n",
              "    }\n",
              "  </style>\n",
              "\n",
              "      <script>\n",
              "        const buttonEl =\n",
              "          document.querySelector('#df-c3929347-5cb5-4b74-a777-76b6e5dfc174 button.colab-df-convert');\n",
              "        buttonEl.style.display =\n",
              "          google.colab.kernel.accessAllowed ? 'block' : 'none';\n",
              "\n",
              "        async function convertToInteractive(key) {\n",
              "          const element = document.querySelector('#df-c3929347-5cb5-4b74-a777-76b6e5dfc174');\n",
              "          const dataTable =\n",
              "            await google.colab.kernel.invokeFunction('convertToInteractive',\n",
              "                                                     [key], {});\n",
              "          if (!dataTable) return;\n",
              "\n",
              "          const docLinkHtml = 'Like what you see? Visit the ' +\n",
              "            '<a target=\"_blank\" href=https://colab.research.google.com/notebooks/data_table.ipynb>data table notebook</a>'\n",
              "            + ' to learn more about interactive tables.';\n",
              "          element.innerHTML = '';\n",
              "          dataTable['output_type'] = 'display_data';\n",
              "          await google.colab.output.renderOutput(dataTable, element);\n",
              "          const docLink = document.createElement('div');\n",
              "          docLink.innerHTML = docLinkHtml;\n",
              "          element.appendChild(docLink);\n",
              "        }\n",
              "      </script>\n",
              "    </div>\n",
              "  </div>\n",
              "  "
            ]
          },
          "metadata": {},
          "execution_count": 19
        }
      ]
    },
    {
      "cell_type": "code",
      "source": [
        "from sklearn.model_selection import train_test_split\n",
        "\n",
        "X_columns = list(df.columns)\n",
        "X_columns.remove('median_house_value')  # this is the target\n",
        "X_columns.remove('ocean_proximity')  # this is one-hot encoded\n",
        "\n",
        "X = df[X_columns].to_numpy()\n",
        "y = df.median_house_value.to_numpy()\n",
        "\n",
        "X_train, X_test, y_train, y_test = train_test_split(X, y, test_size=0.33, random_state=42)\n",
        "print(\"X_train has shape\", X_train.shape)\n",
        "print(\"X_test has shape\", X_test.shape)\n",
        "print(\"y_train has shape\", y_train.shape)\n",
        "print(\"y_test has shape\", y_test.shape)"
      ],
      "metadata": {
        "colab": {
          "base_uri": "https://localhost:8080/"
        },
        "id": "4JNxy8_majg8",
        "outputId": "84d8f625-fac7-43e5-b893-6008bc543f62"
      },
      "execution_count": 20,
      "outputs": [
        {
          "output_type": "stream",
          "name": "stdout",
          "text": [
            "X_train has shape (13828, 15)\n",
            "X_test has shape (6812, 15)\n",
            "y_train has shape (13828,)\n",
            "y_test has shape (6812,)\n"
          ]
        }
      ]
    },
    {
      "cell_type": "markdown",
      "source": [
        "The class `sklearn.linear_model.SGDRegressor` with `penalty='elasticnet'` implements the linear regression algorithm that minimizes the following objective function using Stochastic Gradient Descent:\n",
        "$\n",
        "\\frac{1}{2 N} ||y - Xw||^2_2\n",
        "+ \\alpha  \\beta  ||w||_1\n",
        "+ \\frac{1}{2} \\alpha (1 - \\beta) ||w||^2_2\n",
        "$\n",
        "\n",
        "As any other regressor (or classifier), implemented in `sklearn`,  `SGDRegressor` has the following interface:\n",
        "- `fit(self, X, y)`: train the regressor using feature vectors `X` and corresponding labels `y`\n",
        "- `predict(self, X)`: return an array of predictions for given feature vectors `X`"
      ],
      "metadata": {
        "id": "QiQOf1Ewdr3T"
      }
    },
    {
      "cell_type": "code",
      "source": [
        "from sklearn.linear_model import SGDRegressor\n",
        "\n",
        "def base_regressor():\n",
        "    return SGDRegressor(penalty='elasticnet')\n",
        "\n",
        "clf = base_regressor()\n",
        "clf.fit(X_train, y_train)"
      ],
      "metadata": {
        "colab": {
          "base_uri": "https://localhost:8080/"
        },
        "id": "a2u0k5Donvff",
        "outputId": "246be311-eb60-482c-9fbd-0277ee768498"
      },
      "execution_count": 21,
      "outputs": [
        {
          "output_type": "execute_result",
          "data": {
            "text/plain": [
              "SGDRegressor(penalty='elasticnet')"
            ]
          },
          "metadata": {},
          "execution_count": 21
        }
      ]
    },
    {
      "cell_type": "markdown",
      "source": [
        "# Estimating model performance\n",
        "Have we trained a good model?\n",
        "In order to answer this question, we need to compare predictions of the model with the answers on new data.\n",
        "Here the \"test\" part of the data comes into play.\n",
        "\n",
        "How do we compare predicitons with true labels?\n",
        "Clearly, for each particular example in the test data, predicted value will be different from the true value (just because we predict the real-valued quantity), but it doesn't mean the model is bad.\n",
        "If the difference between true and predicted label is not so high, we will be okay with that.\n",
        "So for each example in the test set we can compute the \"discrepancy\" between true and predicted target, and after that we will average the results (because we need just one number to decide if the model is good or bad).\n",
        "\n",
        "A popular quality measure for regression problem is the *mean squared error*, or MSE:\n",
        "$$\n",
        "MSE = \\dfrac{1}{N}\\sum\\limits_{i=1}^N(y_{true} - y_{predicted})^2\n",
        "$$\n",
        "In order to have the quality measure in the same scale with the target, the *root mean squared error* (or RMSE) is often used:\n",
        "$$\n",
        "RMSE = \\sqrt{MSE}\n",
        "$$\n",
        "\n",
        "Let us compute RMSE on both train and test data.\n"
      ],
      "metadata": {
        "id": "DXKhO2gwn23n"
      }
    },
    {
      "cell_type": "code",
      "source": [
        "from sklearn.metrics import mean_squared_error\n",
        "\n",
        "def print_training_report(clf, X_train, y_train, X_test, y_test):\n",
        "    pred_y_train = clf.predict(X_train)\n",
        "    pred_y_test = clf.predict(X_test)\n",
        "    train_rmse = np.sqrt(mean_squared_error(y_train, pred_y_train))\n",
        "    test_rmse = np.sqrt(mean_squared_error(y_test, pred_y_test))\n",
        "\n",
        "    print(\"RMSE on train data: {} (relative error {:.1f}%)\".format(train_rmse, 100 * train_rmse / np.mean(y_train)))\n",
        "    print(\"RMSE on test data: {} (relative error {:.1f}%)\".format(test_rmse, 100 * test_rmse / np.mean(y_train)))\n",
        "\n",
        "print_training_report(clf, X_train, y_train, X_test, y_test)"
      ],
      "metadata": {
        "colab": {
          "base_uri": "https://localhost:8080/"
        },
        "id": "T5skEP7UoB1W",
        "outputId": "38c74797-8c86-4f69-f64c-e1693addca70"
      },
      "execution_count": 22,
      "outputs": [
        {
          "output_type": "stream",
          "name": "stdout",
          "text": [
            "RMSE on train data: 1774970110419034.0 (relative error 858869164439.7%)\n",
            "RMSE on test data: 1801258007884332.0 (relative error 871589302316.0%)\n"
          ]
        }
      ]
    },
    {
      "cell_type": "markdown",
      "source": [
        "As we see, train and test errors \"blow up\". It is not surprising, because we used default values of hyperparameters for `SGDRegressor`. Let's see how to find better hyperparameters (in other words, how to _select_ a better model)."
      ],
      "metadata": {
        "id": "mS1AeZLjEjSZ"
      }
    },
    {
      "cell_type": "markdown",
      "source": [
        "# Cross-validation. Model selection\n",
        "\n",
        "**We cannot use the test data to choose optimal hyperparameters!** In this case we lose the way to reliably estimate the performance.\n",
        "Remember the following principle: *if the data is somehow used to tune the model, it becomes the training data*.\n",
        "\n",
        "Instead, we can use *cross-validation*:\n",
        "- First, we split the training data into $k$ equally-sized parts (folds).\n",
        "- Then, we perform $k$ iterations of learning and validation: $k$-th fold is used for validation, other folds are for training.\n",
        "- Finally, we aggregate the results from all $k$ folds.\n",
        "\n",
        "![Cross-validation](https://scikit-learn.org/stable/_images/grid_search_cross_validation.png)\n",
        "\n",
        "The advantage of this method is that uses all training samples for training and evaluation; however, it may be slow for large datasets.\n",
        "\n",
        "For more information about cross-validation and model selection in `sklearn`, read [the documentation](https://scikit-learn.org/stable/modules/cross_validation.html).\n",
        "\n",
        "Cross-validation gives the estimated value of desired mectric (RMSE in our case) for a given combination of hyperparameters.\n",
        "\n",
        "Two generic approaches to parameter search are provided in scikit-learn: \n",
        "- `GridSearchCV` exhaustively considers all parameter combinations;\n",
        "- `RandomizedSearchCV` can sample a given number of candidates from a parameter space with a specified distribution.\n",
        "\n",
        "For more information, see [the documentation](https://scikit-learn.org/stable/modules/grid_search.html).\n",
        "\n",
        "A nice property of random search is that it is effectively explores more values of important parameters. Consider the case below:\n",
        "![Grid search vs. Random search](https://i.stack.imgur.com/cIDuR.png)\n",
        "\n",
        "Both Grid searcn and Random search need to explore 9 combinations. But since one of the parameters is unimportant, we may ignore it (it does not affect the result of cross-validation); thus, only 3 parameters are effectively explored in Grid search, and 9 in Random search.\n",
        "\n",
        "Let's see how to perform model selection using cross-validation and randomized search strategy.\n"
      ],
      "metadata": {
        "id": "wCpbTn1c8cVX"
      }
    },
    {
      "cell_type": "code",
      "source": [
        "from sklearn.model_selection import RandomizedSearchCV\n",
        "from sklearn.utils.fixes import loguniform\n",
        "from scipy.stats import uniform\n"
      ],
      "metadata": {
        "id": "Trd_nPCnv3re"
      },
      "execution_count": 23,
      "outputs": []
    },
    {
      "cell_type": "code",
      "source": [
        "from sklearn.model_selection import RandomizedSearchCV\n",
        "from sklearn.utils.fixes import loguniform\n",
        "from scipy.stats import uniform\n",
        "\n",
        "# sample uniformly in log scale\n",
        "params_distributions = {\n",
        "    # regularization parameters\n",
        "    'alpha': loguniform(0.1, 10),\n",
        "    'l1_ratio': uniform(0.1, 0.9),  # corresponds to U[0.1, 0.1+0.9]\n",
        "    # learning rate\n",
        "    'eta0': loguniform(1e-9, 1e-2),\n",
        "}\n",
        "\n",
        "# RandomizedSearchCV is a 'wrapper' which accepts the initial classifier (ElasticNet())\n",
        "# and distribution of parameters to sample from\n",
        "randomized_search_clf = RandomizedSearchCV(\n",
        "    base_regressor(),\n",
        "    params_distributions,\n",
        "    n_iter=20,  # try 20 combinations of parameters\n",
        "    cv=3,  # for each combination, perform 3-fold cross-validation\n",
        "    random_state=0,\n",
        ")\n",
        "randomized_search_clf.fit(X_train, y_train)\n"
      ],
      "metadata": {
        "id": "GtlaFdKnRxwo",
        "colab": {
          "base_uri": "https://localhost:8080/"
        },
        "outputId": "054e2416-0537-4da6-e49a-ad6fd1c468cd"
      },
      "execution_count": 22,
      "outputs": [
        {
          "output_type": "execute_result",
          "data": {
            "text/plain": [
              "RandomizedSearchCV(cv=3, estimator=SGDRegressor(penalty='elasticnet'),\n",
              "                   n_iter=20,\n",
              "                   param_distributions={'alpha': <scipy.stats._distn_infrastructure.rv_frozen object at 0x7f61548ad940>,\n",
              "                                        'eta0': <scipy.stats._distn_infrastructure.rv_frozen object at 0x7f61548ade50>,\n",
              "                                        'l1_ratio': <scipy.stats._distn_infrastructure.rv_frozen object at 0x7f61548adc70>},\n",
              "                   random_state=0)"
            ]
          },
          "metadata": {},
          "execution_count": 22
        }
      ]
    },
    {
      "cell_type": "markdown",
      "source": [
        "Let's see which values of parameters have been chosen"
      ],
      "metadata": {
        "id": "yaGU7tfYZDvM"
      }
    },
    {
      "cell_type": "code",
      "source": [
        "randomized_search_clf.best_params_"
      ],
      "metadata": {
        "colab": {
          "base_uri": "https://localhost:8080/"
        },
        "id": "OLsaux0PZEE0",
        "outputId": "28e40a2e-3287-4044-8d44-152d8bce329a"
      },
      "execution_count": 23,
      "outputs": [
        {
          "output_type": "execute_result",
          "data": {
            "text/plain": [
              "{'alpha': 0.26166974560854456,\n",
              " 'eta0': 1.346376817604109e-08,\n",
              " 'l1_ratio': 0.6877974929188586}"
            ]
          },
          "metadata": {},
          "execution_count": 23
        }
      ]
    },
    {
      "cell_type": "markdown",
      "source": [
        "Compare train/test errors as before"
      ],
      "metadata": {
        "id": "dgoTy3cuZxnk"
      }
    },
    {
      "cell_type": "code",
      "source": [
        "print_training_report(randomized_search_clf, X_train, y_train, X_test, y_test)"
      ],
      "metadata": {
        "colab": {
          "base_uri": "https://localhost:8080/"
        },
        "id": "IsXmbYF9ZpsT",
        "outputId": "b218e4e1-97d2-4604-98db-9f667f5ec9e5"
      },
      "execution_count": 24,
      "outputs": [
        {
          "output_type": "stream",
          "name": "stdout",
          "text": [
            "RMSE on train data: 106950.07996560502 (relative error 51.8%)\n",
            "RMSE on test data: 107850.5739273118 (relative error 52.2%)\n"
          ]
        }
      ]
    },
    {
      "cell_type": "markdown",
      "source": [
        "The error decreased but it's still high. Let's explore feature engineering techniques that improve performance of linear models."
      ],
      "metadata": {
        "id": "h9f4M0IeaY2c"
      }
    },
    {
      "cell_type": "markdown",
      "source": [
        "# Feature engineering 1: binning"
      ],
      "metadata": {
        "id": "Z77Qr346dOoM"
      }
    },
    {
      "cell_type": "markdown",
      "source": [
        "The data has clear spatial dependence"
      ],
      "metadata": {
        "id": "vOSU1MdSpfA5"
      }
    },
    {
      "cell_type": "code",
      "source": [
        "plt.scatter(original_df.longitude, original_df.latitude, c=original_df.median_house_value,\n",
        "            cmap=plt.cm.coolwarm, linewidths=0, alpha=0.9)"
      ],
      "metadata": {
        "colab": {
          "base_uri": "https://localhost:8080/",
          "height": 283
        },
        "id": "xsW2Ch9lpiRw",
        "outputId": "97bf4508-b6dc-4797-84a3-9aaa7a1626b7"
      },
      "execution_count": 25,
      "outputs": [
        {
          "output_type": "execute_result",
          "data": {
            "text/plain": [
              "<matplotlib.collections.PathCollection at 0x7f6151f34550>"
            ]
          },
          "metadata": {},
          "execution_count": 25
        },
        {
          "output_type": "display_data",
          "data": {
            "text/plain": [
              "<Figure size 432x288 with 1 Axes>"
            ],
            "image/png": "[encoded data removed]"
          },
          "metadata": {
            "needs_background": "light"
          }
        }
      ]
    },
    {
      "cell_type": "markdown",
      "source": [
        "However, dependence between the target variable and longitude/latitude is clearly nonlinear:"
      ],
      "metadata": {
        "id": "mQ9nnDPfp443"
      }
    },
    {
      "cell_type": "code",
      "source": [
        "df.plot.scatter('median_house_value', 'longitude')"
      ],
      "metadata": {
        "colab": {
          "base_uri": "https://localhost:8080/",
          "height": 298
        },
        "id": "F7RcPUmxp1W1",
        "outputId": "0af78822-398b-4d56-af25-6a3a78e17c0c"
      },
      "execution_count": 26,
      "outputs": [
        {
          "output_type": "execute_result",
          "data": {
            "text/plain": [
              "<matplotlib.axes._subplots.AxesSubplot at 0x7f6151ee1fa0>"
            ]
          },
          "metadata": {},
          "execution_count": 26
        },
        {
          "output_type": "display_data",
          "data": {
            "text/plain": [
              "<Figure size 432x288 with 1 Axes>"
            ],
            "image/png": "[encoded data removed]"
          },
          "metadata": {
            "needs_background": "light"
          }
        }
      ]
    },
    {
      "cell_type": "code",
      "source": [
        "df.plot.scatter('median_house_value', 'latitude')"
      ],
      "metadata": {
        "colab": {
          "base_uri": "https://localhost:8080/",
          "height": 298
        },
        "id": "O3wnLc4YqBpi",
        "outputId": "4a3f39ab-6c4c-48d7-a673-d4622ec2ea48"
      },
      "execution_count": 27,
      "outputs": [
        {
          "output_type": "execute_result",
          "data": {
            "text/plain": [
              "<matplotlib.axes._subplots.AxesSubplot at 0x7f6151ee1760>"
            ]
          },
          "metadata": {},
          "execution_count": 27
        },
        {
          "output_type": "display_data",
          "data": {
            "text/plain": [
              "<Figure size 432x288 with 1 Axes>"
            ],
            "image/png": "[encoded data removed]"
          },
          "metadata": {
            "needs_background": "light"
          }
        }
      ]
    },
    {
      "cell_type": "markdown",
      "source": [
        "Instead of using one weight for each feature we can use *binning*\n",
        "1. Split the range of values of the feature into \"regions\"\n",
        "2. Create a boolean feature for each region (much like one-hot encoding).\n",
        "\n",
        "We will use splits which have equal number of training examples in each region. See the example below:"
      ],
      "metadata": {
        "id": "1TSB-u8wqNER"
      }
    },
    {
      "cell_type": "code",
      "source": [
        "import numpy as np\n",
        "from sklearn.preprocessing import KBinsDiscretizer\n",
        "\n",
        "a = np.array([\n",
        "    [1],\n",
        "    [3],\n",
        "])\n",
        "b = np.array([\n",
        "    [0],\n",
        "    [1],\n",
        "    [4],\n",
        "    [2.1],\n",
        "])\n",
        "\n",
        "bn = KBinsDiscretizer(n_bins=2, encode='onehot', strategy='quantile')\n",
        "bn.fit(a)\n",
        "# by default, KBinsDiscretizer transforms into sparse matrices, use .todense() method for clarity\n",
        "print(\"a=\\n\", bn.transform(a).todense())\n",
        "print(\"b=\\n\", bn.transform(b).todense())"
      ],
      "metadata": {
        "colab": {
          "base_uri": "https://localhost:8080/"
        },
        "id": "tCHSD3nQqZ8v",
        "outputId": "1b6da43f-a15c-4729-b45b-0236a0a3f6ac"
      },
      "execution_count": 24,
      "outputs": [
        {
          "output_type": "stream",
          "name": "stdout",
          "text": [
            "a=\n",
            " [[1. 0.]\n",
            " [0. 1.]]\n",
            "b=\n",
            " [[1. 0.]\n",
            " [1. 0.]\n",
            " [0. 1.]\n",
            " [0. 1.]]\n"
          ]
        }
      ]
    },
    {
      "cell_type": "markdown",
      "source": [
        "`KBinsDiscretizer` has `fit()/transform()` interface:\n",
        "- Using `fit()`, it \"learns\" how to split features into bins\n",
        "- Using `transform()`, it splits each feature in the input array into bins\n",
        "\n",
        "Since there is another stage that needs to \"learn\" (and transform) something, we combine stages into so-called *Pipeline*.\n",
        "\n",
        "`sklearn.pipeline.Pipeline` allows to create a chain of \"transformers\" and classifiers."
      ],
      "metadata": {
        "id": "0FEBiTC_qiNs"
      }
    },
    {
      "cell_type": "code",
      "source": [
        "from sklearn.pipeline import Pipeline\n",
        "from sklearn.preprocessing import KBinsDiscretizer\n",
        "\n",
        "# Pipeline accepts a list of stages\n",
        "# each stage is a tuple (name, class)\n",
        "# name is needed to set parameters of the pipeline: name__parametername\n",
        "pipe = Pipeline([\n",
        "    ('binner', KBinsDiscretizer(n_bins=10, encode='onehot', strategy='quantile')),\n",
        "    ('clf', base_regressor()),\n",
        "])\n",
        "\n",
        "# note the names of parameters: clf__<param name>\n",
        "params_distributions = {\n",
        "    'clf__alpha': loguniform(0.1, 10),\n",
        "    'clf__l1_ratio': uniform(0.1, 0.9),\n",
        "    'clf__eta0': loguniform(1e-9, 1e-2),\n",
        "}\n",
        "randomized_search_clf = RandomizedSearchCV(\n",
        "    pipe,  # Pipeline has the same interface as Estimator\n",
        "    params_distributions,\n",
        "    n_iter=20,\n",
        "    cv=3,\n",
        "    random_state=0,\n",
        ")\n",
        "randomized_search_clf.fit(X_train, y_train)"
      ],
      "metadata": {
        "id": "Hcc-LYrieJ8N"
      },
      "execution_count": null,
      "outputs": []
    },
    {
      "cell_type": "code",
      "source": [
        "randomized_search_clf.best_params_"
      ],
      "metadata": {
        "colab": {
          "base_uri": "https://localhost:8080/"
        },
        "id": "ILYdMGHte9C-",
        "outputId": "81651df7-6576-4a26-9ed3-e3b1acbcf66c"
      },
      "execution_count": 30,
      "outputs": [
        {
          "output_type": "execute_result",
          "data": {
            "text/plain": [
              "{'clf__alpha': 0.7501954443620119,\n",
              " 'clf__eta0': 0.0017474751375465012,\n",
              " 'clf__l1_ratio': 0.9672964844509263}"
            ]
          },
          "metadata": {},
          "execution_count": 30
        }
      ]
    },
    {
      "cell_type": "code",
      "source": [
        "print_training_report(randomized_search_clf, X_train, y_train, X_test, y_test)"
      ],
      "metadata": {
        "colab": {
          "base_uri": "https://localhost:8080/"
        },
        "id": "qturQRa1e1bf",
        "outputId": "4cb0442b-f460-4b71-9c7a-6545fd1dc0fe"
      },
      "execution_count": 31,
      "outputs": [
        {
          "output_type": "stream",
          "name": "stdout",
          "text": [
            "RMSE on train data: 69820.72800970064 (relative error 33.8%)\n",
            "RMSE on test data: 70904.33933127526 (relative error 34.3%)\n"
          ]
        }
      ]
    },
    {
      "cell_type": "markdown",
      "source": [
        "As we see, error dropped significantly."
      ],
      "metadata": {
        "id": "9dDHRdfXsY32"
      }
    },
    {
      "cell_type": "markdown",
      "source": [
        "# Feature engineering 2: polynomial features"
      ],
      "metadata": {
        "id": "Cvx4as-Msc1v"
      }
    },
    {
      "cell_type": "markdown",
      "source": [
        "Some features (like latitude and longitude) may interact to each other.\n",
        "Linear model is linear by **weights**, but the features may be polynomial.\n",
        "Since after the previous step we are using only boolean features, we are not interested in features like $x_i^2$, because for boolean features $x_i^2 = x_i$.\n",
        "\n",
        "See the example below:"
      ],
      "metadata": {
        "id": "vT1EzENVss64"
      }
    },
    {
      "cell_type": "code",
      "source": [
        "from sklearn.preprocessing import PolynomialFeatures\n",
        "\n",
        "a = np.array([\n",
        "    [0, 0],\n",
        "    [0, 1],\n",
        "    [1, 0],\n",
        "    [1, 1],\n",
        "])\n",
        "\n",
        "trf = PolynomialFeatures(2, interaction_only=True, include_bias=False)\n",
        "print(trf.fit(a).transform(a))"
      ],
      "metadata": {
        "colab": {
          "base_uri": "https://localhost:8080/"
        },
        "id": "WWXdCW5Ps4NQ",
        "outputId": "31025fff-fe0f-48b1-850c-f981ea42b9c2"
      },
      "execution_count": 26,
      "outputs": [
        {
          "output_type": "stream",
          "name": "stdout",
          "text": [
            "[[0. 0. 0.]\n",
            " [0. 1. 0.]\n",
            " [1. 0. 0.]\n",
            " [1. 1. 1.]]\n"
          ]
        }
      ]
    },
    {
      "cell_type": "code",
      "source": [
        "# add PolynomialFeatures to the pipeline\n",
        "pipe = Pipeline([\n",
        "    ('binner', KBinsDiscretizer(n_bins=10, encode='onehot', strategy='quantile')),\n",
        "    ('poly', PolynomialFeatures(2, interaction_only=True, include_bias=False)), \n",
        "    ('clf', base_regressor()),\n",
        "])\n",
        "\n",
        "# note the names of parameters: clf__<param name>\n",
        "params_distributions = {\n",
        "    'clf__alpha': loguniform(0.1, 10),\n",
        "    'clf__l1_ratio': uniform(0.1, 0.9),\n",
        "    'clf__eta0': loguniform(1e-9, 1e-2),\n",
        "}\n",
        "randomized_search_clf = RandomizedSearchCV(\n",
        "    pipe,  # Pipeline has the same interface as Estimator\n",
        "    params_distributions,\n",
        "    n_iter=20,\n",
        "    cv=3,\n",
        "    random_state=0,\n",
        ")\n",
        "randomized_search_clf.fit(X_train, y_train)"
      ],
      "metadata": {
        "id": "rNSXVRlGtFBI"
      },
      "execution_count": null,
      "outputs": []
    },
    {
      "cell_type": "code",
      "source": [
        "randomized_search_clf.best_params_"
      ],
      "metadata": {
        "id": "xhr822OJthPI",
        "colab": {
          "base_uri": "https://localhost:8080/"
        },
        "outputId": "da55defa-83b1-4935-f93d-eaa35ae14d16"
      },
      "execution_count": 34,
      "outputs": [
        {
          "output_type": "execute_result",
          "data": {
            "text/plain": [
              "{'clf__alpha': 0.7501954443620119,\n",
              " 'clf__eta0': 0.0017474751375465012,\n",
              " 'clf__l1_ratio': 0.9672964844509263}"
            ]
          },
          "metadata": {},
          "execution_count": 34
        }
      ]
    },
    {
      "cell_type": "code",
      "source": [
        "print_training_report(randomized_search_clf, X_train, y_train, X_test, y_test)"
      ],
      "metadata": {
        "id": "INY7ft_Itj2V",
        "colab": {
          "base_uri": "https://localhost:8080/"
        },
        "outputId": "04cbf8af-a18c-47c4-faa7-1ddb3c44acce"
      },
      "execution_count": 35,
      "outputs": [
        {
          "output_type": "stream",
          "name": "stdout",
          "text": [
            "RMSE on train data: 56978.69181729004 (relative error 27.6%)\n",
            "RMSE on test data: 61738.57414733971 (relative error 29.9%)\n"
          ]
        }
      ]
    },
    {
      "cell_type": "markdown",
      "source": [
        "Error drops significantly, but the thaining slows down due to large number of features."
      ],
      "metadata": {
        "id": "JD9ZoxYlvXg6"
      }
    },
    {
      "cell_type": "markdown",
      "source": [
        "# Factorization machines"
      ],
      "metadata": {
        "id": "nByAc84hvhAM"
      }
    },
    {
      "cell_type": "code",
      "source": [
        "!pip install sklearn-contrib-lightning\n",
        "!pip install polylearn"
      ],
      "metadata": {
        "id": "HJA_QrevxcyU",
        "colab": {
          "base_uri": "https://localhost:8080/"
        },
        "outputId": "f27ddcd3-a77c-4b0a-e273-1f7975e29dc3"
      },
      "execution_count": 36,
      "outputs": [
        {
          "output_type": "stream",
          "name": "stdout",
          "text": [
            "Looking in indexes: https://pypi.org/simple, https://us-python.pkg.dev/colab-wheels/public/simple/\n",
            "Collecting sklearn-contrib-lightning\n",
            "  Downloading sklearn_contrib_lightning-0.6.2.post0-cp38-cp38-manylinux2014_x86_64.whl (3.4 MB)\n",
            "\u001b[2K     \u001b[90m━━━━━━━━━━━━━━━━━━━━━━━━━━━━━━━━━━━━━━━━\u001b[0m \u001b[32m3.4/3.4 MB\u001b[0m \u001b[31m18.9 MB/s\u001b[0m eta \u001b[36m0:00:00\u001b[0m\n",
            "\u001b[?25hRequirement already satisfied: numpy in /usr/local/lib/python3.8/dist-packages (from sklearn-contrib-lightning) (1.21.6)\n",
            "Requirement already satisfied: scikit-learn in /usr/local/lib/python3.8/dist-packages (from sklearn-contrib-lightning) (1.0.2)\n",
            "Requirement already satisfied: joblib in /usr/local/lib/python3.8/dist-packages (from sklearn-contrib-lightning) (1.2.0)\n",
            "Requirement already satisfied: scipy in /usr/local/lib/python3.8/dist-packages (from sklearn-contrib-lightning) (1.7.3)\n",
            "Requirement already satisfied: threadpoolctl>=2.0.0 in /usr/local/lib/python3.8/dist-packages (from scikit-learn->sklearn-contrib-lightning) (3.1.0)\n",
            "Installing collected packages: sklearn-contrib-lightning\n",
            "Successfully installed sklearn-contrib-lightning-0.6.2.post0\n",
            "Looking in indexes: https://pypi.org/simple, https://us-python.pkg.dev/colab-wheels/public/simple/\n",
            "\u001b[31mERROR: Could not find a version that satisfies the requirement polylearn (from versions: none)\u001b[0m\u001b[31m\n",
            "\u001b[0m\u001b[31mERROR: No matching distribution found for polylearn\u001b[0m\u001b[31m\n",
            "\u001b[0m"
          ]
        }
      ]
    },
    {
      "cell_type": "code",
      "source": [
        "from polylearn import FactorizationMachineRegressor\n",
        "pipe = Pipeline([\n",
        "    ('binner', KBinsDiscretizer(n_bins=10, encode='onehot', strategy='quantile')),\n",
        "    ('clf', FactorizationMachineRegressor()),\n",
        "])\n",
        "\n",
        "# note the names of parameters: clf__<param name>\n",
        "params_distributions = {\n",
        "    'clf__alpha': loguniform(0.1, 10),\n",
        "    'clf__beta': loguniform(0.1, 10),\n",
        "}\n",
        "randomized_search_clf = RandomizedSearchCV(\n",
        "    pipe,\n",
        "    params_distributions,\n",
        "    n_iter=1,  # unfortunately the implementation is too slow to run all iterations during demonstration\n",
        "    cv=3,\n",
        "    random_state=0,\n",
        ")\n",
        "randomized_search_clf.fit(X_train, y_train)"
      ],
      "metadata": {
        "id": "TkJ2U633v4hq",
        "colab": {
          "base_uri": "https://localhost:8080/",
          "height": 383
        },
        "outputId": "f98da775-9720-42e6-d25e-a8b80a49f701"
      },
      "execution_count": 37,
      "outputs": [
        {
          "output_type": "error",
          "ename": "ModuleNotFoundError",
          "evalue": "ignored",
          "traceback": [
            "\u001b[0;31m---------------------------------------------------------------------------\u001b[0m",
            "\u001b[0;31mModuleNotFoundError\u001b[0m                       Traceback (most recent call last)",
            "\u001b[0;32m<ipython-input-37-3efb63174c0f>\u001b[0m in \u001b[0;36m<module>\u001b[0;34m\u001b[0m\n\u001b[0;32m----> 1\u001b[0;31m \u001b[0;32mfrom\u001b[0m \u001b[0mpolylearn\u001b[0m \u001b[0;32mimport\u001b[0m \u001b[0mFactorizationMachineRegressor\u001b[0m\u001b[0;34m\u001b[0m\u001b[0;34m\u001b[0m\u001b[0m\n\u001b[0m\u001b[1;32m      2\u001b[0m pipe = Pipeline([\n\u001b[1;32m      3\u001b[0m     \u001b[0;34m(\u001b[0m\u001b[0;34m'binner'\u001b[0m\u001b[0;34m,\u001b[0m \u001b[0mKBinsDiscretizer\u001b[0m\u001b[0;34m(\u001b[0m\u001b[0mn_bins\u001b[0m\u001b[0;34m=\u001b[0m\u001b[0;36m10\u001b[0m\u001b[0;34m,\u001b[0m \u001b[0mencode\u001b[0m\u001b[0;34m=\u001b[0m\u001b[0;34m'onehot'\u001b[0m\u001b[0;34m,\u001b[0m \u001b[0mstrategy\u001b[0m\u001b[0;34m=\u001b[0m\u001b[0;34m'quantile'\u001b[0m\u001b[0;34m)\u001b[0m\u001b[0;34m)\u001b[0m\u001b[0;34m,\u001b[0m\u001b[0;34m\u001b[0m\u001b[0;34m\u001b[0m\u001b[0m\n\u001b[1;32m      4\u001b[0m     \u001b[0;34m(\u001b[0m\u001b[0;34m'clf'\u001b[0m\u001b[0;34m,\u001b[0m \u001b[0mFactorizationMachineRegressor\u001b[0m\u001b[0;34m(\u001b[0m\u001b[0;34m)\u001b[0m\u001b[0;34m)\u001b[0m\u001b[0;34m,\u001b[0m\u001b[0;34m\u001b[0m\u001b[0;34m\u001b[0m\u001b[0m\n\u001b[1;32m      5\u001b[0m ])\n",
            "\u001b[0;31mModuleNotFoundError\u001b[0m: No module named 'polylearn'",
            "",
            "\u001b[0;31m---------------------------------------------------------------------------\u001b[0;32m\nNOTE: If your import is failing due to a missing package, you can\nmanually install dependencies using either !pip or !apt.\n\nTo view examples of installing some common dependencies, click the\n\"Open Examples\" button below.\n\u001b[0;31m---------------------------------------------------------------------------\u001b[0m\n"
          ],
          "errorDetails": {
            "actions": [
              {
                "action": "open_url",
                "actionText": "Open Examples",
                "url": "/notebooks/snippets/importing_libraries.ipynb"
              }
            ]
          }
        }
      ]
    },
    {
      "cell_type": "code",
      "source": [
        "randomized_search_clf.best_params_"
      ],
      "metadata": {
        "id": "3hewWND90SZB"
      },
      "execution_count": null,
      "outputs": []
    },
    {
      "cell_type": "code",
      "source": [
        "print_training_report(randomized_search_clf, X_train, y_train, X_test, y_test)"
      ],
      "metadata": {
        "id": "_G95zNTH0VpW"
      },
      "execution_count": null,
      "outputs": []
    },
    {
      "cell_type": "markdown",
      "source": [
        "As we see, the quality is comparable to \"bruteforce\" approach with polynomial features."
      ],
      "metadata": {
        "id": "MTigEJskWdHU"
      }
    },
    {
      "cell_type": "markdown",
      "source": [
        "# Home assignment\n"
      ],
      "metadata": {
        "id": "3XpwZYfL16kI"
      }
    },
    {
      "cell_type": "markdown",
      "source": [
        "## Exercise 1 (2 points)\n",
        "One more preprocessing techniques frequently used for linear models is *normalization*. The idea is to transform all features to the same scale (typically in range (0,1) or (-1,1)).\n",
        "\n",
        "In the package `sklearn.preprocessing` the following scalers are implemented:\n",
        "- `StandardScaler`\n",
        "- `MinMaxScaler`\n",
        "- `MaxAbsScaler`\n",
        "- `RobustScaler`\n",
        "\n",
        "You can read more about these implementations in the [documentation](https://scikit-learn.org/stable/modules/classes.html#module-sklearn.preprocessing).\n",
        "\n",
        "Try these techniques on the dataset from the lesson. Use `sklearn.pipeline.Pipeline` and `SGDRegressor`. In this exercise you don't need binning or polynomial features.\n",
        "\n",
        "Does any of aforementioned techniques improve the quality of the model?"
      ],
      "metadata": {
        "id": "YZ20F43K2D9h"
      }
    },
    {
      "cell_type": "code",
      "source": [
        "from sklearn.preprocessing import MinMaxScaler,StandardScaler,MaxAbsScaler,RobustScaler\n"
      ],
      "metadata": {
        "id": "yTAKlrW4CacH"
      },
      "execution_count": 27,
      "outputs": []
    },
    {
      "cell_type": "code",
      "source": [
        "pipe = Pipeline([\n",
        "    ('scaler', StandardScaler()),\n",
        "    ('clf', base_regressor()),\n",
        "])\n",
        "pipe.fit(X_train,y_train)\n",
        "print_training_report(pipe, X_train, y_train, X_test, y_test)"
      ],
      "metadata": {
        "colab": {
          "base_uri": "https://localhost:8080/"
        },
        "id": "qyZJU2njDajq",
        "outputId": "167e8709-488c-4fb4-de31-0fb653bd9a53"
      },
      "execution_count": 28,
      "outputs": [
        {
          "output_type": "stream",
          "name": "stdout",
          "text": [
            "RMSE on train data: 24914680106.015324 (relative error 12055668.1%)\n",
            "RMSE on test data: 28982846177.83577 (relative error 14024164.5%)\n"
          ]
        }
      ]
    },
    {
      "cell_type": "code",
      "source": [
        "pipe = Pipeline([\n",
        "    ('scaler', MinMaxScaler()),\n",
        "    ('clf', base_regressor()),\n",
        "])\n",
        "pipe.fit(X_train,y_train)\n",
        "print_training_report(pipe, X_train, y_train, X_test, y_test)"
      ],
      "metadata": {
        "id": "nnyEn3xT61Pt",
        "colab": {
          "base_uri": "https://localhost:8080/"
        },
        "outputId": "23a02fc3-af48-4841-e8ca-b9893b98a1f5"
      },
      "execution_count": 29,
      "outputs": [
        {
          "output_type": "stream",
          "name": "stdout",
          "text": [
            "RMSE on train data: 70283.23809164211 (relative error 34.0%)\n",
            "RMSE on test data: 70819.33259557959 (relative error 34.3%)\n"
          ]
        }
      ]
    },
    {
      "cell_type": "code",
      "source": [
        "pipe = Pipeline([\n",
        "    ('scaler', MaxAbsScaler()),\n",
        "    ('clf', base_regressor()),\n",
        "])\n",
        "pipe.fit(X_train,y_train)\n",
        "print_training_report(pipe, X_train, y_train, X_test, y_test)"
      ],
      "metadata": {
        "colab": {
          "base_uri": "https://localhost:8080/"
        },
        "outputId": "8e4a63dd-83a3-4439-b63c-c8ddd52f59c5",
        "id": "30Z2Ms5-DttW"
      },
      "execution_count": 30,
      "outputs": [
        {
          "output_type": "stream",
          "name": "stdout",
          "text": [
            "RMSE on train data: 71836.45013810418 (relative error 34.8%)\n",
            "RMSE on test data: 72204.72797757012 (relative error 34.9%)\n"
          ]
        }
      ]
    },
    {
      "cell_type": "code",
      "source": [
        "pipe = Pipeline([\n",
        "    ('scaler', RobustScaler()),\n",
        "    ('clf', base_regressor()),\n",
        "])\n",
        "pipe.fit(X_train,y_train)\n",
        "print_training_report(pipe, X_train, y_train, X_test, y_test)"
      ],
      "metadata": {
        "colab": {
          "base_uri": "https://localhost:8080/"
        },
        "outputId": "9e9f0dc2-f69d-4a1a-df90-c1b5edfcf671",
        "id": "5T7fC9jzDtFE"
      },
      "execution_count": 31,
      "outputs": [
        {
          "output_type": "stream",
          "name": "stdout",
          "text": [
            "RMSE on train data: 115419.62442398096 (relative error 55.8%)\n",
            "RMSE on test data: 124666.55588047404 (relative error 60.3%)\n"
          ]
        }
      ]
    },
    {
      "cell_type": "markdown",
      "source": [
        "**MinMaxScaler,MaxAbsScaler and RobustScaler improved the quality of the model and MinMaxScaler gives the best results.**\n",
        "\n",
        "\n",
        "---\n",
        "\n"
      ],
      "metadata": {
        "id": "0kyHhMvbEAAT"
      }
    },
    {
      "cell_type": "code",
      "source": [
        "import warnings\n",
        "warnings.filterwarnings(\"ignore\")"
      ],
      "metadata": {
        "id": "BrHiCcTliV15"
      },
      "execution_count": 32,
      "outputs": []
    },
    {
      "cell_type": "markdown",
      "source": [
        "## Exercise 2 (3 points)\n",
        "Combine `RobustScaler` with `PolynomialFeatures` and find good hyperparameters for the resulting pipeline. You need to use `sklearn.pipeline.Pipeline`, which will look like this: `RobustScaler -> PolynomialFeatures -> SGDRegressor`. Compare the results with the previous exercise."
      ],
      "metadata": {
        "id": "nXR9U4Lq2GHs"
      }
    },
    {
      "cell_type": "code",
      "source": [
        "pipe = Pipeline([\n",
        "    ('scaler', RobustScaler()),\n",
        "    ('poly', PolynomialFeatures()),\n",
        "    ('clf', base_regressor()),\n",
        "])\n",
        "params_distributions = {\n",
        "    'poly__degree':[1,2,3],\n",
        "    'poly__interaction_only':[True,False],\n",
        "    'poly__include_bias':[True,False],\n",
        "    'clf__alpha': loguniform(0.1, 10),\n",
        "    'clf__l1_ratio': uniform(0.1, 0.9),\n",
        "    'clf__eta0': loguniform(1e-9, 1e-2),\n",
        "}\n",
        "randomized_search_clf = RandomizedSearchCV(\n",
        "    pipe, \n",
        "    params_distributions,\n",
        "    n_iter=20,\n",
        "    cv=5,\n",
        "    random_state=0,\n",
        ")\n",
        "randomized_search_clf.fit(X_train,y_train)\n",
        "print_training_report(randomized_search_clf, X_train, y_train, X_test, y_test)"
      ],
      "metadata": {
        "id": "N-vnQ_UjnoW2"
      },
      "execution_count": 33,
      "outputs": []
    },
    {
      "cell_type": "code",
      "source": [
        "randomized_search_clf.best_params_"
      ],
      "metadata": {
        "colab": {
          "base_uri": "https://localhost:8080/"
        },
        "id": "ugeMPaTsoo7P",
        "outputId": "130506fb-1a2b-4d57-aa32-81021328757e"
      },
      "execution_count": 34,
      "outputs": [
        {
          "output_type": "execute_result",
          "data": {
            "text/plain": [
              "{'clf__alpha': 0.10903843281968523,\n",
              " 'clf__eta0': 2.1059520545246603e-05,\n",
              " 'clf__l1_ratio': 0.6508861504501793,\n",
              " 'poly__degree': 1,\n",
              " 'poly__include_bias': False,\n",
              " 'poly__interaction_only': False}"
            ]
          },
          "metadata": {},
          "execution_count": 34
        }
      ]
    },
    {
      "cell_type": "markdown",
      "source": [
        "**As we can see reletive error on test data has decreased from 37% to 35.4% so the model has improved.\n",
        "It is worth mentioning that the best degree among (1,2,3) is 1st degree.**"
      ],
      "metadata": {
        "id": "wS5NoymwldTu"
      }
    },
    {
      "cell_type": "markdown",
      "source": [
        "## Exercise 3 (1 point)\n",
        "\n",
        "Find better hyperparameters for the pipeline `KBinsDiscretizer -> PolynomialFeatures -> SGDRegressor` used in the lesson. Which hyperparameters of `KBinsDiscretizer` and `PolynomialFeatures` are the most important?"
      ],
      "metadata": {
        "id": "C51UFGuq8aWi"
      }
    },
    {
      "cell_type": "code",
      "source": [
        "pipe = Pipeline([\n",
        "    ('binner', KBinsDiscretizer()),\n",
        "    ('poly', PolynomialFeatures()),\n",
        "    ('clf', base_regressor()),\n",
        "])\n",
        "params_distributions = {\n",
        "    'binner__n_bins':range(3,10),\n",
        "    'binner__encode':['onehot', 'onehot-dense', 'ordinal'],\n",
        "    'binner__strategy' : ['uniform', 'quantile', 'kmeans'],\n",
        "    'poly__degree':[1,2,3],\n",
        "    'poly__interaction_only':[True,False],\n",
        "    'poly__include_bias':[True,False],\n",
        "    'clf__alpha': loguniform(0.1, 10),\n",
        "    'clf__l1_ratio': uniform(0.1, 0.9),\n",
        "    'clf__eta0': loguniform(1e-9, 1e-2),\n",
        "}\n",
        "randomized_search_clf = RandomizedSearchCV(\n",
        "    pipe, \n",
        "    params_distributions,\n",
        "    n_iter=20,\n",
        "    cv=5,\n",
        "    random_state=0,\n",
        ")\n",
        "randomized_search_clf.fit(X_train,y_train)\n",
        "print_training_report(randomized_search_clf, X_train, y_train, X_test, y_test)"
      ],
      "metadata": {
        "id": "biCvo17382Su",
        "colab": {
          "base_uri": "https://localhost:8080/"
        },
        "outputId": "c4ad40d1-9d91-475c-c616-e0e0e00e6618"
      },
      "execution_count": 35,
      "outputs": [
        {
          "output_type": "stream",
          "name": "stdout",
          "text": [
            "RMSE on train data: 60283.37755814118 (relative error 29.2%)\n",
            "RMSE on test data: 65090.36213359228 (relative error 31.5%)\n"
          ]
        }
      ]
    },
    {
      "cell_type": "code",
      "source": [
        "randomized_search_clf.best_params_"
      ],
      "metadata": {
        "colab": {
          "base_uri": "https://localhost:8080/"
        },
        "id": "2_yj8aDVq4WR",
        "outputId": "8bcb4203-9a32-4246-c8f1-26beae5bc3c7"
      },
      "execution_count": 36,
      "outputs": [
        {
          "output_type": "execute_result",
          "data": {
            "text/plain": [
              "{'binner__encode': 'onehot-dense',\n",
              " 'binner__n_bins': 8,\n",
              " 'binner__strategy': 'quantile',\n",
              " 'clf__alpha': 0.430926779925876,\n",
              " 'clf__eta0': 0.00028081375326121847,\n",
              " 'clf__l1_ratio': 0.9546139481056679,\n",
              " 'poly__degree': 2,\n",
              " 'poly__include_bias': True,\n",
              " 'poly__interaction_only': True}"
            ]
          },
          "metadata": {},
          "execution_count": 36
        }
      ]
    },
    {
      "cell_type": "markdown",
      "source": [
        "**The number of bins and polynomial degree are the most important parameters**"
      ],
      "metadata": {
        "id": "6ym48_VxGgip"
      }
    },
    {
      "cell_type": "code",
      "source": [],
      "metadata": {
        "id": "1deHDMrOGaTa"
      },
      "execution_count": null,
      "outputs": []
    }
  ]
}