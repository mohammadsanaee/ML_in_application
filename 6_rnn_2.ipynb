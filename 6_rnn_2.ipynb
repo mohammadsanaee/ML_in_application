{
  "nbformat": 4,
  "nbformat_minor": 0,
  "metadata": {
    "colab": {
      "provenance": [],
      "toc_visible": true,
      "include_colab_link": true
    },
    "kernelspec": {
      "name": "python3",
      "display_name": "Python 3"
    },
    "widgets": {
      "application/vnd.jupyter.widget-state+json": {
        "4d6b10cb5cd6493ebe9f30a8b65260a0": {
          "model_module": "@jupyter-widgets/controls",
          "model_name": "HBoxModel",
          "model_module_version": "1.5.0",
          "state": {
            "_dom_classes": [],
            "_model_module": "@jupyter-widgets/controls",
            "_model_module_version": "1.5.0",
            "_model_name": "HBoxModel",
            "_view_count": null,
            "_view_module": "@jupyter-widgets/controls",
            "_view_module_version": "1.5.0",
            "_view_name": "HBoxView",
            "box_style": "",
            "children": [
              "IPY_MODEL_a58a4b124de947a0aa961764ade8c6af",
              "IPY_MODEL_7d0e3e0790094088909b42eddc61ce4f",
              "IPY_MODEL_3c4d410c6e114ed1b992c02b2c5a1eae"
            ],
            "layout": "IPY_MODEL_dba5b6294df1408abbb7b795d046d059"
          }
        },
        "a58a4b124de947a0aa961764ade8c6af": {
          "model_module": "@jupyter-widgets/controls",
          "model_name": "HTMLModel",
          "model_module_version": "1.5.0",
          "state": {
            "_dom_classes": [],
            "_model_module": "@jupyter-widgets/controls",
            "_model_module_version": "1.5.0",
            "_model_name": "HTMLModel",
            "_view_count": null,
            "_view_module": "@jupyter-widgets/controls",
            "_view_module_version": "1.5.0",
            "_view_name": "HTMLView",
            "description": "",
            "description_tooltip": null,
            "layout": "IPY_MODEL_a2b1a892a1b04c7a92429f04f5756fb6",
            "placeholder": "​",
            "style": "IPY_MODEL_5d90e443efeb413b907b2637063e28fd",
            "value": "100%"
          }
        },
        "7d0e3e0790094088909b42eddc61ce4f": {
          "model_module": "@jupyter-widgets/controls",
          "model_name": "FloatProgressModel",
          "model_module_version": "1.5.0",
          "state": {
            "_dom_classes": [],
            "_model_module": "@jupyter-widgets/controls",
            "_model_module_version": "1.5.0",
            "_model_name": "FloatProgressModel",
            "_view_count": null,
            "_view_module": "@jupyter-widgets/controls",
            "_view_module_version": "1.5.0",
            "_view_name": "ProgressView",
            "bar_style": "success",
            "description": "",
            "description_tooltip": null,
            "layout": "IPY_MODEL_2436aee797444d9a9f3bf4207e819f9d",
            "max": 1500,
            "min": 0,
            "orientation": "horizontal",
            "style": "IPY_MODEL_53bb361ffec34a12afe375f550e117f3",
            "value": 1500
          }
        },
        "3c4d410c6e114ed1b992c02b2c5a1eae": {
          "model_module": "@jupyter-widgets/controls",
          "model_name": "HTMLModel",
          "model_module_version": "1.5.0",
          "state": {
            "_dom_classes": [],
            "_model_module": "@jupyter-widgets/controls",
            "_model_module_version": "1.5.0",
            "_model_name": "HTMLModel",
            "_view_count": null,
            "_view_module": "@jupyter-widgets/controls",
            "_view_module_version": "1.5.0",
            "_view_name": "HTMLView",
            "description": "",
            "description_tooltip": null,
            "layout": "IPY_MODEL_09a4653ba57f404587fb1a10fac2369e",
            "placeholder": "​",
            "style": "IPY_MODEL_884854dec45a4a239b54f017d0f4f6fc",
            "value": " 1500/1500 [00:24&lt;00:00, 54.43it/s]"
          }
        },
        "dba5b6294df1408abbb7b795d046d059": {
          "model_module": "@jupyter-widgets/base",
          "model_name": "LayoutModel",
          "model_module_version": "1.2.0",
          "state": {
            "_model_module": "@jupyter-widgets/base",
            "_model_module_version": "1.2.0",
            "_model_name": "LayoutModel",
            "_view_count": null,
            "_view_module": "@jupyter-widgets/base",
            "_view_module_version": "1.2.0",
            "_view_name": "LayoutView",
            "align_content": null,
            "align_items": null,
            "align_self": null,
            "border": null,
            "bottom": null,
            "display": null,
            "flex": null,
            "flex_flow": null,
            "grid_area": null,
            "grid_auto_columns": null,
            "grid_auto_flow": null,
            "grid_auto_rows": null,
            "grid_column": null,
            "grid_gap": null,
            "grid_row": null,
            "grid_template_areas": null,
            "grid_template_columns": null,
            "grid_template_rows": null,
            "height": null,
            "justify_content": null,
            "justify_items": null,
            "left": null,
            "margin": null,
            "max_height": null,
            "max_width": null,
            "min_height": null,
            "min_width": null,
            "object_fit": null,
            "object_position": null,
            "order": null,
            "overflow": null,
            "overflow_x": null,
            "overflow_y": null,
            "padding": null,
            "right": null,
            "top": null,
            "visibility": null,
            "width": null
          }
        },
        "a2b1a892a1b04c7a92429f04f5756fb6": {
          "model_module": "@jupyter-widgets/base",
          "model_name": "LayoutModel",
          "model_module_version": "1.2.0",
          "state": {
            "_model_module": "@jupyter-widgets/base",
            "_model_module_version": "1.2.0",
            "_model_name": "LayoutModel",
            "_view_count": null,
            "_view_module": "@jupyter-widgets/base",
            "_view_module_version": "1.2.0",
            "_view_name": "LayoutView",
            "align_content": null,
            "align_items": null,
            "align_self": null,
            "border": null,
            "bottom": null,
            "display": null,
            "flex": null,
            "flex_flow": null,
            "grid_area": null,
            "grid_auto_columns": null,
            "grid_auto_flow": null,
            "grid_auto_rows": null,
            "grid_column": null,
            "grid_gap": null,
            "grid_row": null,
            "grid_template_areas": null,
            "grid_template_columns": null,
            "grid_template_rows": null,
            "height": null,
            "justify_content": null,
            "justify_items": null,
            "left": null,
            "margin": null,
            "max_height": null,
            "max_width": null,
            "min_height": null,
            "min_width": null,
            "object_fit": null,
            "object_position": null,
            "order": null,
            "overflow": null,
            "overflow_x": null,
            "overflow_y": null,
            "padding": null,
            "right": null,
            "top": null,
            "visibility": null,
            "width": null
          }
        },
        "5d90e443efeb413b907b2637063e28fd": {
          "model_module": "@jupyter-widgets/controls",
          "model_name": "DescriptionStyleModel",
          "model_module_version": "1.5.0",
          "state": {
            "_model_module": "@jupyter-widgets/controls",
            "_model_module_version": "1.5.0",
            "_model_name": "DescriptionStyleModel",
            "_view_count": null,
            "_view_module": "@jupyter-widgets/base",
            "_view_module_version": "1.2.0",
            "_view_name": "StyleView",
            "description_width": ""
          }
        },
        "2436aee797444d9a9f3bf4207e819f9d": {
          "model_module": "@jupyter-widgets/base",
          "model_name": "LayoutModel",
          "model_module_version": "1.2.0",
          "state": {
            "_model_module": "@jupyter-widgets/base",
            "_model_module_version": "1.2.0",
            "_model_name": "LayoutModel",
            "_view_count": null,
            "_view_module": "@jupyter-widgets/base",
            "_view_module_version": "1.2.0",
            "_view_name": "LayoutView",
            "align_content": null,
            "align_items": null,
            "align_self": null,
            "border": null,
            "bottom": null,
            "display": null,
            "flex": null,
            "flex_flow": null,
            "grid_area": null,
            "grid_auto_columns": null,
            "grid_auto_flow": null,
            "grid_auto_rows": null,
            "grid_column": null,
            "grid_gap": null,
            "grid_row": null,
            "grid_template_areas": null,
            "grid_template_columns": null,
            "grid_template_rows": null,
            "height": null,
            "justify_content": null,
            "justify_items": null,
            "left": null,
            "margin": null,
            "max_height": null,
            "max_width": null,
            "min_height": null,
            "min_width": null,
            "object_fit": null,
            "object_position": null,
            "order": null,
            "overflow": null,
            "overflow_x": null,
            "overflow_y": null,
            "padding": null,
            "right": null,
            "top": null,
            "visibility": null,
            "width": null
          }
        },
        "53bb361ffec34a12afe375f550e117f3": {
          "model_module": "@jupyter-widgets/controls",
          "model_name": "ProgressStyleModel",
          "model_module_version": "1.5.0",
          "state": {
            "_model_module": "@jupyter-widgets/controls",
            "_model_module_version": "1.5.0",
            "_model_name": "ProgressStyleModel",
            "_view_count": null,
            "_view_module": "@jupyter-widgets/base",
            "_view_module_version": "1.2.0",
            "_view_name": "StyleView",
            "bar_color": null,
            "description_width": ""
          }
        },
        "09a4653ba57f404587fb1a10fac2369e": {
          "model_module": "@jupyter-widgets/base",
          "model_name": "LayoutModel",
          "model_module_version": "1.2.0",
          "state": {
            "_model_module": "@jupyter-widgets/base",
            "_model_module_version": "1.2.0",
            "_model_name": "LayoutModel",
            "_view_count": null,
            "_view_module": "@jupyter-widgets/base",
            "_view_module_version": "1.2.0",
            "_view_name": "LayoutView",
            "align_content": null,
            "align_items": null,
            "align_self": null,
            "border": null,
            "bottom": null,
            "display": null,
            "flex": null,
            "flex_flow": null,
            "grid_area": null,
            "grid_auto_columns": null,
            "grid_auto_flow": null,
            "grid_auto_rows": null,
            "grid_column": null,
            "grid_gap": null,
            "grid_row": null,
            "grid_template_areas": null,
            "grid_template_columns": null,
            "grid_template_rows": null,
            "height": null,
            "justify_content": null,
            "justify_items": null,
            "left": null,
            "margin": null,
            "max_height": null,
            "max_width": null,
            "min_height": null,
            "min_width": null,
            "object_fit": null,
            "object_position": null,
            "order": null,
            "overflow": null,
            "overflow_x": null,
            "overflow_y": null,
            "padding": null,
            "right": null,
            "top": null,
            "visibility": null,
            "width": null
          }
        },
        "884854dec45a4a239b54f017d0f4f6fc": {
          "model_module": "@jupyter-widgets/controls",
          "model_name": "DescriptionStyleModel",
          "model_module_version": "1.5.0",
          "state": {
            "_model_module": "@jupyter-widgets/controls",
            "_model_module_version": "1.5.0",
            "_model_name": "DescriptionStyleModel",
            "_view_count": null,
            "_view_module": "@jupyter-widgets/base",
            "_view_module_version": "1.2.0",
            "_view_name": "StyleView",
            "description_width": ""
          }
        },
        "c4e1aba88d744cfeb3ef521afed161b3": {
          "model_module": "@jupyter-widgets/controls",
          "model_name": "HBoxModel",
          "model_module_version": "1.5.0",
          "state": {
            "_dom_classes": [],
            "_model_module": "@jupyter-widgets/controls",
            "_model_module_version": "1.5.0",
            "_model_name": "HBoxModel",
            "_view_count": null,
            "_view_module": "@jupyter-widgets/controls",
            "_view_module_version": "1.5.0",
            "_view_name": "HBoxView",
            "box_style": "",
            "children": [
              "IPY_MODEL_c561e2c0f8b8492a8b18665e82486fc1",
              "IPY_MODEL_383b4a17858b4ac9bb50b3a47564a8a2",
              "IPY_MODEL_3dda06ad235d4b1b8e018ce6631224e0"
            ],
            "layout": "IPY_MODEL_3282f65970b9489dacfeebf465eb0f4f"
          }
        },
        "c561e2c0f8b8492a8b18665e82486fc1": {
          "model_module": "@jupyter-widgets/controls",
          "model_name": "HTMLModel",
          "model_module_version": "1.5.0",
          "state": {
            "_dom_classes": [],
            "_model_module": "@jupyter-widgets/controls",
            "_model_module_version": "1.5.0",
            "_model_name": "HTMLModel",
            "_view_count": null,
            "_view_module": "@jupyter-widgets/controls",
            "_view_module_version": "1.5.0",
            "_view_name": "HTMLView",
            "description": "",
            "description_tooltip": null,
            "layout": "IPY_MODEL_2af2b3798ee54a888720869bbde7d504",
            "placeholder": "​",
            "style": "IPY_MODEL_0374c44c98b94b08afea2c096036dace",
            "value": "100%"
          }
        },
        "383b4a17858b4ac9bb50b3a47564a8a2": {
          "model_module": "@jupyter-widgets/controls",
          "model_name": "FloatProgressModel",
          "model_module_version": "1.5.0",
          "state": {
            "_dom_classes": [],
            "_model_module": "@jupyter-widgets/controls",
            "_model_module_version": "1.5.0",
            "_model_name": "FloatProgressModel",
            "_view_count": null,
            "_view_module": "@jupyter-widgets/controls",
            "_view_module_version": "1.5.0",
            "_view_name": "ProgressView",
            "bar_style": "success",
            "description": "",
            "description_tooltip": null,
            "layout": "IPY_MODEL_1412e233554648efb5769c244fdbaf2b",
            "max": 4000,
            "min": 0,
            "orientation": "horizontal",
            "style": "IPY_MODEL_ece005475b4e4c1783d024916f4fb5fa",
            "value": 4000
          }
        },
        "3dda06ad235d4b1b8e018ce6631224e0": {
          "model_module": "@jupyter-widgets/controls",
          "model_name": "HTMLModel",
          "model_module_version": "1.5.0",
          "state": {
            "_dom_classes": [],
            "_model_module": "@jupyter-widgets/controls",
            "_model_module_version": "1.5.0",
            "_model_name": "HTMLModel",
            "_view_count": null,
            "_view_module": "@jupyter-widgets/controls",
            "_view_module_version": "1.5.0",
            "_view_name": "HTMLView",
            "description": "",
            "description_tooltip": null,
            "layout": "IPY_MODEL_7bb69879b3c94ca8beeca273e154bddc",
            "placeholder": "​",
            "style": "IPY_MODEL_5cf7f08c4a6d49d08125337bd3c50dc5",
            "value": " 4000/4000 [00:59&lt;00:00, 54.78it/s]"
          }
        },
        "3282f65970b9489dacfeebf465eb0f4f": {
          "model_module": "@jupyter-widgets/base",
          "model_name": "LayoutModel",
          "model_module_version": "1.2.0",
          "state": {
            "_model_module": "@jupyter-widgets/base",
            "_model_module_version": "1.2.0",
            "_model_name": "LayoutModel",
            "_view_count": null,
            "_view_module": "@jupyter-widgets/base",
            "_view_module_version": "1.2.0",
            "_view_name": "LayoutView",
            "align_content": null,
            "align_items": null,
            "align_self": null,
            "border": null,
            "bottom": null,
            "display": null,
            "flex": null,
            "flex_flow": null,
            "grid_area": null,
            "grid_auto_columns": null,
            "grid_auto_flow": null,
            "grid_auto_rows": null,
            "grid_column": null,
            "grid_gap": null,
            "grid_row": null,
            "grid_template_areas": null,
            "grid_template_columns": null,
            "grid_template_rows": null,
            "height": null,
            "justify_content": null,
            "justify_items": null,
            "left": null,
            "margin": null,
            "max_height": null,
            "max_width": null,
            "min_height": null,
            "min_width": null,
            "object_fit": null,
            "object_position": null,
            "order": null,
            "overflow": null,
            "overflow_x": null,
            "overflow_y": null,
            "padding": null,
            "right": null,
            "top": null,
            "visibility": null,
            "width": null
          }
        },
        "2af2b3798ee54a888720869bbde7d504": {
          "model_module": "@jupyter-widgets/base",
          "model_name": "LayoutModel",
          "model_module_version": "1.2.0",
          "state": {
            "_model_module": "@jupyter-widgets/base",
            "_model_module_version": "1.2.0",
            "_model_name": "LayoutModel",
            "_view_count": null,
            "_view_module": "@jupyter-widgets/base",
            "_view_module_version": "1.2.0",
            "_view_name": "LayoutView",
            "align_content": null,
            "align_items": null,
            "align_self": null,
            "border": null,
            "bottom": null,
            "display": null,
            "flex": null,
            "flex_flow": null,
            "grid_area": null,
            "grid_auto_columns": null,
            "grid_auto_flow": null,
            "grid_auto_rows": null,
            "grid_column": null,
            "grid_gap": null,
            "grid_row": null,
            "grid_template_areas": null,
            "grid_template_columns": null,
            "grid_template_rows": null,
            "height": null,
            "justify_content": null,
            "justify_items": null,
            "left": null,
            "margin": null,
            "max_height": null,
            "max_width": null,
            "min_height": null,
            "min_width": null,
            "object_fit": null,
            "object_position": null,
            "order": null,
            "overflow": null,
            "overflow_x": null,
            "overflow_y": null,
            "padding": null,
            "right": null,
            "top": null,
            "visibility": null,
            "width": null
          }
        },
        "0374c44c98b94b08afea2c096036dace": {
          "model_module": "@jupyter-widgets/controls",
          "model_name": "DescriptionStyleModel",
          "model_module_version": "1.5.0",
          "state": {
            "_model_module": "@jupyter-widgets/controls",
            "_model_module_version": "1.5.0",
            "_model_name": "DescriptionStyleModel",
            "_view_count": null,
            "_view_module": "@jupyter-widgets/base",
            "_view_module_version": "1.2.0",
            "_view_name": "StyleView",
            "description_width": ""
          }
        },
        "1412e233554648efb5769c244fdbaf2b": {
          "model_module": "@jupyter-widgets/base",
          "model_name": "LayoutModel",
          "model_module_version": "1.2.0",
          "state": {
            "_model_module": "@jupyter-widgets/base",
            "_model_module_version": "1.2.0",
            "_model_name": "LayoutModel",
            "_view_count": null,
            "_view_module": "@jupyter-widgets/base",
            "_view_module_version": "1.2.0",
            "_view_name": "LayoutView",
            "align_content": null,
            "align_items": null,
            "align_self": null,
            "border": null,
            "bottom": null,
            "display": null,
            "flex": null,
            "flex_flow": null,
            "grid_area": null,
            "grid_auto_columns": null,
            "grid_auto_flow": null,
            "grid_auto_rows": null,
            "grid_column": null,
            "grid_gap": null,
            "grid_row": null,
            "grid_template_areas": null,
            "grid_template_columns": null,
            "grid_template_rows": null,
            "height": null,
            "justify_content": null,
            "justify_items": null,
            "left": null,
            "margin": null,
            "max_height": null,
            "max_width": null,
            "min_height": null,
            "min_width": null,
            "object_fit": null,
            "object_position": null,
            "order": null,
            "overflow": null,
            "overflow_x": null,
            "overflow_y": null,
            "padding": null,
            "right": null,
            "top": null,
            "visibility": null,
            "width": null
          }
        },
        "ece005475b4e4c1783d024916f4fb5fa": {
          "model_module": "@jupyter-widgets/controls",
          "model_name": "ProgressStyleModel",
          "model_module_version": "1.5.0",
          "state": {
            "_model_module": "@jupyter-widgets/controls",
            "_model_module_version": "1.5.0",
            "_model_name": "ProgressStyleModel",
            "_view_count": null,
            "_view_module": "@jupyter-widgets/base",
            "_view_module_version": "1.2.0",
            "_view_name": "StyleView",
            "bar_color": null,
            "description_width": ""
          }
        },
        "7bb69879b3c94ca8beeca273e154bddc": {
          "model_module": "@jupyter-widgets/base",
          "model_name": "LayoutModel",
          "model_module_version": "1.2.0",
          "state": {
            "_model_module": "@jupyter-widgets/base",
            "_model_module_version": "1.2.0",
            "_model_name": "LayoutModel",
            "_view_count": null,
            "_view_module": "@jupyter-widgets/base",
            "_view_module_version": "1.2.0",
            "_view_name": "LayoutView",
            "align_content": null,
            "align_items": null,
            "align_self": null,
            "border": null,
            "bottom": null,
            "display": null,
            "flex": null,
            "flex_flow": null,
            "grid_area": null,
            "grid_auto_columns": null,
            "grid_auto_flow": null,
            "grid_auto_rows": null,
            "grid_column": null,
            "grid_gap": null,
            "grid_row": null,
            "grid_template_areas": null,
            "grid_template_columns": null,
            "grid_template_rows": null,
            "height": null,
            "justify_content": null,
            "justify_items": null,
            "left": null,
            "margin": null,
            "max_height": null,
            "max_width": null,
            "min_height": null,
            "min_width": null,
            "object_fit": null,
            "object_position": null,
            "order": null,
            "overflow": null,
            "overflow_x": null,
            "overflow_y": null,
            "padding": null,
            "right": null,
            "top": null,
            "visibility": null,
            "width": null
          }
        },
        "5cf7f08c4a6d49d08125337bd3c50dc5": {
          "model_module": "@jupyter-widgets/controls",
          "model_name": "DescriptionStyleModel",
          "model_module_version": "1.5.0",
          "state": {
            "_model_module": "@jupyter-widgets/controls",
            "_model_module_version": "1.5.0",
            "_model_name": "DescriptionStyleModel",
            "_view_count": null,
            "_view_module": "@jupyter-widgets/base",
            "_view_module_version": "1.2.0",
            "_view_name": "StyleView",
            "description_width": ""
          }
        },
        "85e7313cf70143dd88a188dfd8f30cb4": {
          "model_module": "@jupyter-widgets/controls",
          "model_name": "HBoxModel",
          "model_module_version": "1.5.0",
          "state": {
            "_dom_classes": [],
            "_model_module": "@jupyter-widgets/controls",
            "_model_module_version": "1.5.0",
            "_model_name": "HBoxModel",
            "_view_count": null,
            "_view_module": "@jupyter-widgets/controls",
            "_view_module_version": "1.5.0",
            "_view_name": "HBoxView",
            "box_style": "",
            "children": [
              "IPY_MODEL_afbe003a5a574646926fa087d8ae47de",
              "IPY_MODEL_2e9ca4de68324f5d81601b6758d30954",
              "IPY_MODEL_63670cb5a5c04ac0a94228cbd01d88e7"
            ],
            "layout": "IPY_MODEL_f12aabaa8b3d41fba63ace51510c5dcf"
          }
        },
        "afbe003a5a574646926fa087d8ae47de": {
          "model_module": "@jupyter-widgets/controls",
          "model_name": "HTMLModel",
          "model_module_version": "1.5.0",
          "state": {
            "_dom_classes": [],
            "_model_module": "@jupyter-widgets/controls",
            "_model_module_version": "1.5.0",
            "_model_name": "HTMLModel",
            "_view_count": null,
            "_view_module": "@jupyter-widgets/controls",
            "_view_module_version": "1.5.0",
            "_view_name": "HTMLView",
            "description": "",
            "description_tooltip": null,
            "layout": "IPY_MODEL_72714516964b4d56be7e5b54592bce4b",
            "placeholder": "​",
            "style": "IPY_MODEL_28a85d014de54eebab7cd761bbe10cc9",
            "value": "100%"
          }
        },
        "2e9ca4de68324f5d81601b6758d30954": {
          "model_module": "@jupyter-widgets/controls",
          "model_name": "FloatProgressModel",
          "model_module_version": "1.5.0",
          "state": {
            "_dom_classes": [],
            "_model_module": "@jupyter-widgets/controls",
            "_model_module_version": "1.5.0",
            "_model_name": "FloatProgressModel",
            "_view_count": null,
            "_view_module": "@jupyter-widgets/controls",
            "_view_module_version": "1.5.0",
            "_view_name": "ProgressView",
            "bar_style": "success",
            "description": "",
            "description_tooltip": null,
            "layout": "IPY_MODEL_e8ce658d7c384ac48fc1e69a2cbfe2e4",
            "max": 15000,
            "min": 0,
            "orientation": "horizontal",
            "style": "IPY_MODEL_618025c1792e4293928b50c99e7d2394",
            "value": 15000
          }
        },
        "63670cb5a5c04ac0a94228cbd01d88e7": {
          "model_module": "@jupyter-widgets/controls",
          "model_name": "HTMLModel",
          "model_module_version": "1.5.0",
          "state": {
            "_dom_classes": [],
            "_model_module": "@jupyter-widgets/controls",
            "_model_module_version": "1.5.0",
            "_model_name": "HTMLModel",
            "_view_count": null,
            "_view_module": "@jupyter-widgets/controls",
            "_view_module_version": "1.5.0",
            "_view_name": "HTMLView",
            "description": "",
            "description_tooltip": null,
            "layout": "IPY_MODEL_7124450fc4b2409ba73b92bc19cbb045",
            "placeholder": "​",
            "style": "IPY_MODEL_14b3f72897d9495bbf0d4b2f9cefe695",
            "value": " 15000/15000 [03:35&lt;00:00, 60.53it/s]"
          }
        },
        "f12aabaa8b3d41fba63ace51510c5dcf": {
          "model_module": "@jupyter-widgets/base",
          "model_name": "LayoutModel",
          "model_module_version": "1.2.0",
          "state": {
            "_model_module": "@jupyter-widgets/base",
            "_model_module_version": "1.2.0",
            "_model_name": "LayoutModel",
            "_view_count": null,
            "_view_module": "@jupyter-widgets/base",
            "_view_module_version": "1.2.0",
            "_view_name": "LayoutView",
            "align_content": null,
            "align_items": null,
            "align_self": null,
            "border": null,
            "bottom": null,
            "display": null,
            "flex": null,
            "flex_flow": null,
            "grid_area": null,
            "grid_auto_columns": null,
            "grid_auto_flow": null,
            "grid_auto_rows": null,
            "grid_column": null,
            "grid_gap": null,
            "grid_row": null,
            "grid_template_areas": null,
            "grid_template_columns": null,
            "grid_template_rows": null,
            "height": null,
            "justify_content": null,
            "justify_items": null,
            "left": null,
            "margin": null,
            "max_height": null,
            "max_width": null,
            "min_height": null,
            "min_width": null,
            "object_fit": null,
            "object_position": null,
            "order": null,
            "overflow": null,
            "overflow_x": null,
            "overflow_y": null,
            "padding": null,
            "right": null,
            "top": null,
            "visibility": null,
            "width": null
          }
        },
        "72714516964b4d56be7e5b54592bce4b": {
          "model_module": "@jupyter-widgets/base",
          "model_name": "LayoutModel",
          "model_module_version": "1.2.0",
          "state": {
            "_model_module": "@jupyter-widgets/base",
            "_model_module_version": "1.2.0",
            "_model_name": "LayoutModel",
            "_view_count": null,
            "_view_module": "@jupyter-widgets/base",
            "_view_module_version": "1.2.0",
            "_view_name": "LayoutView",
            "align_content": null,
            "align_items": null,
            "align_self": null,
            "border": null,
            "bottom": null,
            "display": null,
            "flex": null,
            "flex_flow": null,
            "grid_area": null,
            "grid_auto_columns": null,
            "grid_auto_flow": null,
            "grid_auto_rows": null,
            "grid_column": null,
            "grid_gap": null,
            "grid_row": null,
            "grid_template_areas": null,
            "grid_template_columns": null,
            "grid_template_rows": null,
            "height": null,
            "justify_content": null,
            "justify_items": null,
            "left": null,
            "margin": null,
            "max_height": null,
            "max_width": null,
            "min_height": null,
            "min_width": null,
            "object_fit": null,
            "object_position": null,
            "order": null,
            "overflow": null,
            "overflow_x": null,
            "overflow_y": null,
            "padding": null,
            "right": null,
            "top": null,
            "visibility": null,
            "width": null
          }
        },
        "28a85d014de54eebab7cd761bbe10cc9": {
          "model_module": "@jupyter-widgets/controls",
          "model_name": "DescriptionStyleModel",
          "model_module_version": "1.5.0",
          "state": {
            "_model_module": "@jupyter-widgets/controls",
            "_model_module_version": "1.5.0",
            "_model_name": "DescriptionStyleModel",
            "_view_count": null,
            "_view_module": "@jupyter-widgets/base",
            "_view_module_version": "1.2.0",
            "_view_name": "StyleView",
            "description_width": ""
          }
        },
        "e8ce658d7c384ac48fc1e69a2cbfe2e4": {
          "model_module": "@jupyter-widgets/base",
          "model_name": "LayoutModel",
          "model_module_version": "1.2.0",
          "state": {
            "_model_module": "@jupyter-widgets/base",
            "_model_module_version": "1.2.0",
            "_model_name": "LayoutModel",
            "_view_count": null,
            "_view_module": "@jupyter-widgets/base",
            "_view_module_version": "1.2.0",
            "_view_name": "LayoutView",
            "align_content": null,
            "align_items": null,
            "align_self": null,
            "border": null,
            "bottom": null,
            "display": null,
            "flex": null,
            "flex_flow": null,
            "grid_area": null,
            "grid_auto_columns": null,
            "grid_auto_flow": null,
            "grid_auto_rows": null,
            "grid_column": null,
            "grid_gap": null,
            "grid_row": null,
            "grid_template_areas": null,
            "grid_template_columns": null,
            "grid_template_rows": null,
            "height": null,
            "justify_content": null,
            "justify_items": null,
            "left": null,
            "margin": null,
            "max_height": null,
            "max_width": null,
            "min_height": null,
            "min_width": null,
            "object_fit": null,
            "object_position": null,
            "order": null,
            "overflow": null,
            "overflow_x": null,
            "overflow_y": null,
            "padding": null,
            "right": null,
            "top": null,
            "visibility": null,
            "width": null
          }
        },
        "618025c1792e4293928b50c99e7d2394": {
          "model_module": "@jupyter-widgets/controls",
          "model_name": "ProgressStyleModel",
          "model_module_version": "1.5.0",
          "state": {
            "_model_module": "@jupyter-widgets/controls",
            "_model_module_version": "1.5.0",
            "_model_name": "ProgressStyleModel",
            "_view_count": null,
            "_view_module": "@jupyter-widgets/base",
            "_view_module_version": "1.2.0",
            "_view_name": "StyleView",
            "bar_color": null,
            "description_width": ""
          }
        },
        "7124450fc4b2409ba73b92bc19cbb045": {
          "model_module": "@jupyter-widgets/base",
          "model_name": "LayoutModel",
          "model_module_version": "1.2.0",
          "state": {
            "_model_module": "@jupyter-widgets/base",
            "_model_module_version": "1.2.0",
            "_model_name": "LayoutModel",
            "_view_count": null,
            "_view_module": "@jupyter-widgets/base",
            "_view_module_version": "1.2.0",
            "_view_name": "LayoutView",
            "align_content": null,
            "align_items": null,
            "align_self": null,
            "border": null,
            "bottom": null,
            "display": null,
            "flex": null,
            "flex_flow": null,
            "grid_area": null,
            "grid_auto_columns": null,
            "grid_auto_flow": null,
            "grid_auto_rows": null,
            "grid_column": null,
            "grid_gap": null,
            "grid_row": null,
            "grid_template_areas": null,
            "grid_template_columns": null,
            "grid_template_rows": null,
            "height": null,
            "justify_content": null,
            "justify_items": null,
            "left": null,
            "margin": null,
            "max_height": null,
            "max_width": null,
            "min_height": null,
            "min_width": null,
            "object_fit": null,
            "object_position": null,
            "order": null,
            "overflow": null,
            "overflow_x": null,
            "overflow_y": null,
            "padding": null,
            "right": null,
            "top": null,
            "visibility": null,
            "width": null
          }
        },
        "14b3f72897d9495bbf0d4b2f9cefe695": {
          "model_module": "@jupyter-widgets/controls",
          "model_name": "DescriptionStyleModel",
          "model_module_version": "1.5.0",
          "state": {
            "_model_module": "@jupyter-widgets/controls",
            "_model_module_version": "1.5.0",
            "_model_name": "DescriptionStyleModel",
            "_view_count": null,
            "_view_module": "@jupyter-widgets/base",
            "_view_module_version": "1.2.0",
            "_view_name": "StyleView",
            "description_width": ""
          }
        },
        "69491fbd7fae4f38a8dca52f4e1d2589": {
          "model_module": "@jupyter-widgets/controls",
          "model_name": "HBoxModel",
          "model_module_version": "1.5.0",
          "state": {
            "_dom_classes": [],
            "_model_module": "@jupyter-widgets/controls",
            "_model_module_version": "1.5.0",
            "_model_name": "HBoxModel",
            "_view_count": null,
            "_view_module": "@jupyter-widgets/controls",
            "_view_module_version": "1.5.0",
            "_view_name": "HBoxView",
            "box_style": "",
            "children": [
              "IPY_MODEL_9c65766b2922439491c46b736dd5a281",
              "IPY_MODEL_ab896132231d4e18935a92cd924965aa",
              "IPY_MODEL_faa5d947d88b4add9fd67cd7d48c7aa9"
            ],
            "layout": "IPY_MODEL_18a942425a1444a0a44fd9c6e5765916"
          }
        },
        "9c65766b2922439491c46b736dd5a281": {
          "model_module": "@jupyter-widgets/controls",
          "model_name": "HTMLModel",
          "model_module_version": "1.5.0",
          "state": {
            "_dom_classes": [],
            "_model_module": "@jupyter-widgets/controls",
            "_model_module_version": "1.5.0",
            "_model_name": "HTMLModel",
            "_view_count": null,
            "_view_module": "@jupyter-widgets/controls",
            "_view_module_version": "1.5.0",
            "_view_name": "HTMLView",
            "description": "",
            "description_tooltip": null,
            "layout": "IPY_MODEL_2cfa20f781c9456cb9241e8a60258fbd",
            "placeholder": "​",
            "style": "IPY_MODEL_6d2486b7dae248f48ad2e31a27ab3e7c",
            "value": "100%"
          }
        },
        "ab896132231d4e18935a92cd924965aa": {
          "model_module": "@jupyter-widgets/controls",
          "model_name": "FloatProgressModel",
          "model_module_version": "1.5.0",
          "state": {
            "_dom_classes": [],
            "_model_module": "@jupyter-widgets/controls",
            "_model_module_version": "1.5.0",
            "_model_name": "FloatProgressModel",
            "_view_count": null,
            "_view_module": "@jupyter-widgets/controls",
            "_view_module_version": "1.5.0",
            "_view_name": "ProgressView",
            "bar_style": "success",
            "description": "",
            "description_tooltip": null,
            "layout": "IPY_MODEL_51c6e56222364052b8f5c0d4af8f58ea",
            "max": 4200,
            "min": 0,
            "orientation": "horizontal",
            "style": "IPY_MODEL_5f8544fe608d493f83e358c8efa9d95e",
            "value": 4200
          }
        },
        "faa5d947d88b4add9fd67cd7d48c7aa9": {
          "model_module": "@jupyter-widgets/controls",
          "model_name": "HTMLModel",
          "model_module_version": "1.5.0",
          "state": {
            "_dom_classes": [],
            "_model_module": "@jupyter-widgets/controls",
            "_model_module_version": "1.5.0",
            "_model_name": "HTMLModel",
            "_view_count": null,
            "_view_module": "@jupyter-widgets/controls",
            "_view_module_version": "1.5.0",
            "_view_name": "HTMLView",
            "description": "",
            "description_tooltip": null,
            "layout": "IPY_MODEL_7560cb1dac6f4e2b89eecaa7728fcf2c",
            "placeholder": "​",
            "style": "IPY_MODEL_2594018dd5b04f3e8a1a7aefbea909e3",
            "value": " 4200/4200 [02:50&lt;00:00, 25.79it/s]"
          }
        },
        "18a942425a1444a0a44fd9c6e5765916": {
          "model_module": "@jupyter-widgets/base",
          "model_name": "LayoutModel",
          "model_module_version": "1.2.0",
          "state": {
            "_model_module": "@jupyter-widgets/base",
            "_model_module_version": "1.2.0",
            "_model_name": "LayoutModel",
            "_view_count": null,
            "_view_module": "@jupyter-widgets/base",
            "_view_module_version": "1.2.0",
            "_view_name": "LayoutView",
            "align_content": null,
            "align_items": null,
            "align_self": null,
            "border": null,
            "bottom": null,
            "display": null,
            "flex": null,
            "flex_flow": null,
            "grid_area": null,
            "grid_auto_columns": null,
            "grid_auto_flow": null,
            "grid_auto_rows": null,
            "grid_column": null,
            "grid_gap": null,
            "grid_row": null,
            "grid_template_areas": null,
            "grid_template_columns": null,
            "grid_template_rows": null,
            "height": null,
            "justify_content": null,
            "justify_items": null,
            "left": null,
            "margin": null,
            "max_height": null,
            "max_width": null,
            "min_height": null,
            "min_width": null,
            "object_fit": null,
            "object_position": null,
            "order": null,
            "overflow": null,
            "overflow_x": null,
            "overflow_y": null,
            "padding": null,
            "right": null,
            "top": null,
            "visibility": null,
            "width": null
          }
        },
        "2cfa20f781c9456cb9241e8a60258fbd": {
          "model_module": "@jupyter-widgets/base",
          "model_name": "LayoutModel",
          "model_module_version": "1.2.0",
          "state": {
            "_model_module": "@jupyter-widgets/base",
            "_model_module_version": "1.2.0",
            "_model_name": "LayoutModel",
            "_view_count": null,
            "_view_module": "@jupyter-widgets/base",
            "_view_module_version": "1.2.0",
            "_view_name": "LayoutView",
            "align_content": null,
            "align_items": null,
            "align_self": null,
            "border": null,
            "bottom": null,
            "display": null,
            "flex": null,
            "flex_flow": null,
            "grid_area": null,
            "grid_auto_columns": null,
            "grid_auto_flow": null,
            "grid_auto_rows": null,
            "grid_column": null,
            "grid_gap": null,
            "grid_row": null,
            "grid_template_areas": null,
            "grid_template_columns": null,
            "grid_template_rows": null,
            "height": null,
            "justify_content": null,
            "justify_items": null,
            "left": null,
            "margin": null,
            "max_height": null,
            "max_width": null,
            "min_height": null,
            "min_width": null,
            "object_fit": null,
            "object_position": null,
            "order": null,
            "overflow": null,
            "overflow_x": null,
            "overflow_y": null,
            "padding": null,
            "right": null,
            "top": null,
            "visibility": null,
            "width": null
          }
        },
        "6d2486b7dae248f48ad2e31a27ab3e7c": {
          "model_module": "@jupyter-widgets/controls",
          "model_name": "DescriptionStyleModel",
          "model_module_version": "1.5.0",
          "state": {
            "_model_module": "@jupyter-widgets/controls",
            "_model_module_version": "1.5.0",
            "_model_name": "DescriptionStyleModel",
            "_view_count": null,
            "_view_module": "@jupyter-widgets/base",
            "_view_module_version": "1.2.0",
            "_view_name": "StyleView",
            "description_width": ""
          }
        },
        "51c6e56222364052b8f5c0d4af8f58ea": {
          "model_module": "@jupyter-widgets/base",
          "model_name": "LayoutModel",
          "model_module_version": "1.2.0",
          "state": {
            "_model_module": "@jupyter-widgets/base",
            "_model_module_version": "1.2.0",
            "_model_name": "LayoutModel",
            "_view_count": null,
            "_view_module": "@jupyter-widgets/base",
            "_view_module_version": "1.2.0",
            "_view_name": "LayoutView",
            "align_content": null,
            "align_items": null,
            "align_self": null,
            "border": null,
            "bottom": null,
            "display": null,
            "flex": null,
            "flex_flow": null,
            "grid_area": null,
            "grid_auto_columns": null,
            "grid_auto_flow": null,
            "grid_auto_rows": null,
            "grid_column": null,
            "grid_gap": null,
            "grid_row": null,
            "grid_template_areas": null,
            "grid_template_columns": null,
            "grid_template_rows": null,
            "height": null,
            "justify_content": null,
            "justify_items": null,
            "left": null,
            "margin": null,
            "max_height": null,
            "max_width": null,
            "min_height": null,
            "min_width": null,
            "object_fit": null,
            "object_position": null,
            "order": null,
            "overflow": null,
            "overflow_x": null,
            "overflow_y": null,
            "padding": null,
            "right": null,
            "top": null,
            "visibility": null,
            "width": null
          }
        },
        "5f8544fe608d493f83e358c8efa9d95e": {
          "model_module": "@jupyter-widgets/controls",
          "model_name": "ProgressStyleModel",
          "model_module_version": "1.5.0",
          "state": {
            "_model_module": "@jupyter-widgets/controls",
            "_model_module_version": "1.5.0",
            "_model_name": "ProgressStyleModel",
            "_view_count": null,
            "_view_module": "@jupyter-widgets/base",
            "_view_module_version": "1.2.0",
            "_view_name": "StyleView",
            "bar_color": null,
            "description_width": ""
          }
        },
        "7560cb1dac6f4e2b89eecaa7728fcf2c": {
          "model_module": "@jupyter-widgets/base",
          "model_name": "LayoutModel",
          "model_module_version": "1.2.0",
          "state": {
            "_model_module": "@jupyter-widgets/base",
            "_model_module_version": "1.2.0",
            "_model_name": "LayoutModel",
            "_view_count": null,
            "_view_module": "@jupyter-widgets/base",
            "_view_module_version": "1.2.0",
            "_view_name": "LayoutView",
            "align_content": null,
            "align_items": null,
            "align_self": null,
            "border": null,
            "bottom": null,
            "display": null,
            "flex": null,
            "flex_flow": null,
            "grid_area": null,
            "grid_auto_columns": null,
            "grid_auto_flow": null,
            "grid_auto_rows": null,
            "grid_column": null,
            "grid_gap": null,
            "grid_row": null,
            "grid_template_areas": null,
            "grid_template_columns": null,
            "grid_template_rows": null,
            "height": null,
            "justify_content": null,
            "justify_items": null,
            "left": null,
            "margin": null,
            "max_height": null,
            "max_width": null,
            "min_height": null,
            "min_width": null,
            "object_fit": null,
            "object_position": null,
            "order": null,
            "overflow": null,
            "overflow_x": null,
            "overflow_y": null,
            "padding": null,
            "right": null,
            "top": null,
            "visibility": null,
            "width": null
          }
        },
        "2594018dd5b04f3e8a1a7aefbea909e3": {
          "model_module": "@jupyter-widgets/controls",
          "model_name": "DescriptionStyleModel",
          "model_module_version": "1.5.0",
          "state": {
            "_model_module": "@jupyter-widgets/controls",
            "_model_module_version": "1.5.0",
            "_model_name": "DescriptionStyleModel",
            "_view_count": null,
            "_view_module": "@jupyter-widgets/base",
            "_view_module_version": "1.2.0",
            "_view_name": "StyleView",
            "description_width": ""
          }
        },
        "42d6c3cdde444e9d9862f94a4ad23ca6": {
          "model_module": "@jupyter-widgets/controls",
          "model_name": "HBoxModel",
          "model_module_version": "1.5.0",
          "state": {
            "_dom_classes": [],
            "_model_module": "@jupyter-widgets/controls",
            "_model_module_version": "1.5.0",
            "_model_name": "HBoxModel",
            "_view_count": null,
            "_view_module": "@jupyter-widgets/controls",
            "_view_module_version": "1.5.0",
            "_view_name": "HBoxView",
            "box_style": "",
            "children": [
              "IPY_MODEL_feb039ef6f5b4e269e178df422b486a3",
              "IPY_MODEL_dfa89a3afb984e07b877a01fe09e521d",
              "IPY_MODEL_0a914bc8318f4523b2b9915c422ebea8"
            ],
            "layout": "IPY_MODEL_177871bff4e2425ca53822a644cbe222"
          }
        },
        "feb039ef6f5b4e269e178df422b486a3": {
          "model_module": "@jupyter-widgets/controls",
          "model_name": "HTMLModel",
          "model_module_version": "1.5.0",
          "state": {
            "_dom_classes": [],
            "_model_module": "@jupyter-widgets/controls",
            "_model_module_version": "1.5.0",
            "_model_name": "HTMLModel",
            "_view_count": null,
            "_view_module": "@jupyter-widgets/controls",
            "_view_module_version": "1.5.0",
            "_view_name": "HTMLView",
            "description": "",
            "description_tooltip": null,
            "layout": "IPY_MODEL_6d6db3d70dd54929bf62c4f4a7c9d019",
            "placeholder": "​",
            "style": "IPY_MODEL_056ec8877efb4773b61dc6dec431d64d",
            "value": "100%"
          }
        },
        "dfa89a3afb984e07b877a01fe09e521d": {
          "model_module": "@jupyter-widgets/controls",
          "model_name": "FloatProgressModel",
          "model_module_version": "1.5.0",
          "state": {
            "_dom_classes": [],
            "_model_module": "@jupyter-widgets/controls",
            "_model_module_version": "1.5.0",
            "_model_name": "FloatProgressModel",
            "_view_count": null,
            "_view_module": "@jupyter-widgets/controls",
            "_view_module_version": "1.5.0",
            "_view_name": "ProgressView",
            "bar_style": "success",
            "description": "",
            "description_tooltip": null,
            "layout": "IPY_MODEL_5db93896282747f8a5396852a2d97b1a",
            "max": 1500,
            "min": 0,
            "orientation": "horizontal",
            "style": "IPY_MODEL_6ba310e9255f4b96a8a93628f7921e12",
            "value": 1500
          }
        },
        "0a914bc8318f4523b2b9915c422ebea8": {
          "model_module": "@jupyter-widgets/controls",
          "model_name": "HTMLModel",
          "model_module_version": "1.5.0",
          "state": {
            "_dom_classes": [],
            "_model_module": "@jupyter-widgets/controls",
            "_model_module_version": "1.5.0",
            "_model_name": "HTMLModel",
            "_view_count": null,
            "_view_module": "@jupyter-widgets/controls",
            "_view_module_version": "1.5.0",
            "_view_name": "HTMLView",
            "description": "",
            "description_tooltip": null,
            "layout": "IPY_MODEL_ae456250cf8d4cd4824fe9455c16e957",
            "placeholder": "​",
            "style": "IPY_MODEL_1b05b80d39e34e0ebc75047b0892ee31",
            "value": " 1500/1500 [00:59&lt;00:00, 27.31it/s]"
          }
        },
        "177871bff4e2425ca53822a644cbe222": {
          "model_module": "@jupyter-widgets/base",
          "model_name": "LayoutModel",
          "model_module_version": "1.2.0",
          "state": {
            "_model_module": "@jupyter-widgets/base",
            "_model_module_version": "1.2.0",
            "_model_name": "LayoutModel",
            "_view_count": null,
            "_view_module": "@jupyter-widgets/base",
            "_view_module_version": "1.2.0",
            "_view_name": "LayoutView",
            "align_content": null,
            "align_items": null,
            "align_self": null,
            "border": null,
            "bottom": null,
            "display": null,
            "flex": null,
            "flex_flow": null,
            "grid_area": null,
            "grid_auto_columns": null,
            "grid_auto_flow": null,
            "grid_auto_rows": null,
            "grid_column": null,
            "grid_gap": null,
            "grid_row": null,
            "grid_template_areas": null,
            "grid_template_columns": null,
            "grid_template_rows": null,
            "height": null,
            "justify_content": null,
            "justify_items": null,
            "left": null,
            "margin": null,
            "max_height": null,
            "max_width": null,
            "min_height": null,
            "min_width": null,
            "object_fit": null,
            "object_position": null,
            "order": null,
            "overflow": null,
            "overflow_x": null,
            "overflow_y": null,
            "padding": null,
            "right": null,
            "top": null,
            "visibility": null,
            "width": null
          }
        },
        "6d6db3d70dd54929bf62c4f4a7c9d019": {
          "model_module": "@jupyter-widgets/base",
          "model_name": "LayoutModel",
          "model_module_version": "1.2.0",
          "state": {
            "_model_module": "@jupyter-widgets/base",
            "_model_module_version": "1.2.0",
            "_model_name": "LayoutModel",
            "_view_count": null,
            "_view_module": "@jupyter-widgets/base",
            "_view_module_version": "1.2.0",
            "_view_name": "LayoutView",
            "align_content": null,
            "align_items": null,
            "align_self": null,
            "border": null,
            "bottom": null,
            "display": null,
            "flex": null,
            "flex_flow": null,
            "grid_area": null,
            "grid_auto_columns": null,
            "grid_auto_flow": null,
            "grid_auto_rows": null,
            "grid_column": null,
            "grid_gap": null,
            "grid_row": null,
            "grid_template_areas": null,
            "grid_template_columns": null,
            "grid_template_rows": null,
            "height": null,
            "justify_content": null,
            "justify_items": null,
            "left": null,
            "margin": null,
            "max_height": null,
            "max_width": null,
            "min_height": null,
            "min_width": null,
            "object_fit": null,
            "object_position": null,
            "order": null,
            "overflow": null,
            "overflow_x": null,
            "overflow_y": null,
            "padding": null,
            "right": null,
            "top": null,
            "visibility": null,
            "width": null
          }
        },
        "056ec8877efb4773b61dc6dec431d64d": {
          "model_module": "@jupyter-widgets/controls",
          "model_name": "DescriptionStyleModel",
          "model_module_version": "1.5.0",
          "state": {
            "_model_module": "@jupyter-widgets/controls",
            "_model_module_version": "1.5.0",
            "_model_name": "DescriptionStyleModel",
            "_view_count": null,
            "_view_module": "@jupyter-widgets/base",
            "_view_module_version": "1.2.0",
            "_view_name": "StyleView",
            "description_width": ""
          }
        },
        "5db93896282747f8a5396852a2d97b1a": {
          "model_module": "@jupyter-widgets/base",
          "model_name": "LayoutModel",
          "model_module_version": "1.2.0",
          "state": {
            "_model_module": "@jupyter-widgets/base",
            "_model_module_version": "1.2.0",
            "_model_name": "LayoutModel",
            "_view_count": null,
            "_view_module": "@jupyter-widgets/base",
            "_view_module_version": "1.2.0",
            "_view_name": "LayoutView",
            "align_content": null,
            "align_items": null,
            "align_self": null,
            "border": null,
            "bottom": null,
            "display": null,
            "flex": null,
            "flex_flow": null,
            "grid_area": null,
            "grid_auto_columns": null,
            "grid_auto_flow": null,
            "grid_auto_rows": null,
            "grid_column": null,
            "grid_gap": null,
            "grid_row": null,
            "grid_template_areas": null,
            "grid_template_columns": null,
            "grid_template_rows": null,
            "height": null,
            "justify_content": null,
            "justify_items": null,
            "left": null,
            "margin": null,
            "max_height": null,
            "max_width": null,
            "min_height": null,
            "min_width": null,
            "object_fit": null,
            "object_position": null,
            "order": null,
            "overflow": null,
            "overflow_x": null,
            "overflow_y": null,
            "padding": null,
            "right": null,
            "top": null,
            "visibility": null,
            "width": null
          }
        },
        "6ba310e9255f4b96a8a93628f7921e12": {
          "model_module": "@jupyter-widgets/controls",
          "model_name": "ProgressStyleModel",
          "model_module_version": "1.5.0",
          "state": {
            "_model_module": "@jupyter-widgets/controls",
            "_model_module_version": "1.5.0",
            "_model_name": "ProgressStyleModel",
            "_view_count": null,
            "_view_module": "@jupyter-widgets/base",
            "_view_module_version": "1.2.0",
            "_view_name": "StyleView",
            "bar_color": null,
            "description_width": ""
          }
        },
        "ae456250cf8d4cd4824fe9455c16e957": {
          "model_module": "@jupyter-widgets/base",
          "model_name": "LayoutModel",
          "model_module_version": "1.2.0",
          "state": {
            "_model_module": "@jupyter-widgets/base",
            "_model_module_version": "1.2.0",
            "_model_name": "LayoutModel",
            "_view_count": null,
            "_view_module": "@jupyter-widgets/base",
            "_view_module_version": "1.2.0",
            "_view_name": "LayoutView",
            "align_content": null,
            "align_items": null,
            "align_self": null,
            "border": null,
            "bottom": null,
            "display": null,
            "flex": null,
            "flex_flow": null,
            "grid_area": null,
            "grid_auto_columns": null,
            "grid_auto_flow": null,
            "grid_auto_rows": null,
            "grid_column": null,
            "grid_gap": null,
            "grid_row": null,
            "grid_template_areas": null,
            "grid_template_columns": null,
            "grid_template_rows": null,
            "height": null,
            "justify_content": null,
            "justify_items": null,
            "left": null,
            "margin": null,
            "max_height": null,
            "max_width": null,
            "min_height": null,
            "min_width": null,
            "object_fit": null,
            "object_position": null,
            "order": null,
            "overflow": null,
            "overflow_x": null,
            "overflow_y": null,
            "padding": null,
            "right": null,
            "top": null,
            "visibility": null,
            "width": null
          }
        },
        "1b05b80d39e34e0ebc75047b0892ee31": {
          "model_module": "@jupyter-widgets/controls",
          "model_name": "DescriptionStyleModel",
          "model_module_version": "1.5.0",
          "state": {
            "_model_module": "@jupyter-widgets/controls",
            "_model_module_version": "1.5.0",
            "_model_name": "DescriptionStyleModel",
            "_view_count": null,
            "_view_module": "@jupyter-widgets/base",
            "_view_module_version": "1.2.0",
            "_view_name": "StyleView",
            "description_width": ""
          }
        },
        "092243280aff42e0bfa6b144cfe954ec": {
          "model_module": "@jupyter-widgets/controls",
          "model_name": "HBoxModel",
          "model_module_version": "1.5.0",
          "state": {
            "_dom_classes": [],
            "_model_module": "@jupyter-widgets/controls",
            "_model_module_version": "1.5.0",
            "_model_name": "HBoxModel",
            "_view_count": null,
            "_view_module": "@jupyter-widgets/controls",
            "_view_module_version": "1.5.0",
            "_view_name": "HBoxView",
            "box_style": "",
            "children": [
              "IPY_MODEL_cd72b3b59a724058900d34b0be58fb8b",
              "IPY_MODEL_bca323cc65df4f3d8f4b0912b1513bc8",
              "IPY_MODEL_ffe18f644b9c479899244793c88f6f77"
            ],
            "layout": "IPY_MODEL_6c9cc53186454d52812bec562c83a726"
          }
        },
        "cd72b3b59a724058900d34b0be58fb8b": {
          "model_module": "@jupyter-widgets/controls",
          "model_name": "HTMLModel",
          "model_module_version": "1.5.0",
          "state": {
            "_dom_classes": [],
            "_model_module": "@jupyter-widgets/controls",
            "_model_module_version": "1.5.0",
            "_model_name": "HTMLModel",
            "_view_count": null,
            "_view_module": "@jupyter-widgets/controls",
            "_view_module_version": "1.5.0",
            "_view_name": "HTMLView",
            "description": "",
            "description_tooltip": null,
            "layout": "IPY_MODEL_f7ac071c5090462e8b5d8b9bf0966217",
            "placeholder": "​",
            "style": "IPY_MODEL_b460f677edd94b60b2715d78e2a3a713",
            "value": "100%"
          }
        },
        "bca323cc65df4f3d8f4b0912b1513bc8": {
          "model_module": "@jupyter-widgets/controls",
          "model_name": "FloatProgressModel",
          "model_module_version": "1.5.0",
          "state": {
            "_dom_classes": [],
            "_model_module": "@jupyter-widgets/controls",
            "_model_module_version": "1.5.0",
            "_model_name": "FloatProgressModel",
            "_view_count": null,
            "_view_module": "@jupyter-widgets/controls",
            "_view_module_version": "1.5.0",
            "_view_name": "ProgressView",
            "bar_style": "success",
            "description": "",
            "description_tooltip": null,
            "layout": "IPY_MODEL_35bff58206884f589ff8bd0f3332eff0",
            "max": 30000,
            "min": 0,
            "orientation": "horizontal",
            "style": "IPY_MODEL_be1493f7e9e845ac82f686df375b2560",
            "value": 30000
          }
        },
        "ffe18f644b9c479899244793c88f6f77": {
          "model_module": "@jupyter-widgets/controls",
          "model_name": "HTMLModel",
          "model_module_version": "1.5.0",
          "state": {
            "_dom_classes": [],
            "_model_module": "@jupyter-widgets/controls",
            "_model_module_version": "1.5.0",
            "_model_name": "HTMLModel",
            "_view_count": null,
            "_view_module": "@jupyter-widgets/controls",
            "_view_module_version": "1.5.0",
            "_view_name": "HTMLView",
            "description": "",
            "description_tooltip": null,
            "layout": "IPY_MODEL_7c3e1e743434460389ef42ab2fa29de2",
            "placeholder": "​",
            "style": "IPY_MODEL_365677a6bfd54ce89c288dd0fac5a4c8",
            "value": " 30000/30000 [02:34&lt;00:00, 220.67it/s]"
          }
        },
        "6c9cc53186454d52812bec562c83a726": {
          "model_module": "@jupyter-widgets/base",
          "model_name": "LayoutModel",
          "model_module_version": "1.2.0",
          "state": {
            "_model_module": "@jupyter-widgets/base",
            "_model_module_version": "1.2.0",
            "_model_name": "LayoutModel",
            "_view_count": null,
            "_view_module": "@jupyter-widgets/base",
            "_view_module_version": "1.2.0",
            "_view_name": "LayoutView",
            "align_content": null,
            "align_items": null,
            "align_self": null,
            "border": null,
            "bottom": null,
            "display": null,
            "flex": null,
            "flex_flow": null,
            "grid_area": null,
            "grid_auto_columns": null,
            "grid_auto_flow": null,
            "grid_auto_rows": null,
            "grid_column": null,
            "grid_gap": null,
            "grid_row": null,
            "grid_template_areas": null,
            "grid_template_columns": null,
            "grid_template_rows": null,
            "height": null,
            "justify_content": null,
            "justify_items": null,
            "left": null,
            "margin": null,
            "max_height": null,
            "max_width": null,
            "min_height": null,
            "min_width": null,
            "object_fit": null,
            "object_position": null,
            "order": null,
            "overflow": null,
            "overflow_x": null,
            "overflow_y": null,
            "padding": null,
            "right": null,
            "top": null,
            "visibility": null,
            "width": null
          }
        },
        "f7ac071c5090462e8b5d8b9bf0966217": {
          "model_module": "@jupyter-widgets/base",
          "model_name": "LayoutModel",
          "model_module_version": "1.2.0",
          "state": {
            "_model_module": "@jupyter-widgets/base",
            "_model_module_version": "1.2.0",
            "_model_name": "LayoutModel",
            "_view_count": null,
            "_view_module": "@jupyter-widgets/base",
            "_view_module_version": "1.2.0",
            "_view_name": "LayoutView",
            "align_content": null,
            "align_items": null,
            "align_self": null,
            "border": null,
            "bottom": null,
            "display": null,
            "flex": null,
            "flex_flow": null,
            "grid_area": null,
            "grid_auto_columns": null,
            "grid_auto_flow": null,
            "grid_auto_rows": null,
            "grid_column": null,
            "grid_gap": null,
            "grid_row": null,
            "grid_template_areas": null,
            "grid_template_columns": null,
            "grid_template_rows": null,
            "height": null,
            "justify_content": null,
            "justify_items": null,
            "left": null,
            "margin": null,
            "max_height": null,
            "max_width": null,
            "min_height": null,
            "min_width": null,
            "object_fit": null,
            "object_position": null,
            "order": null,
            "overflow": null,
            "overflow_x": null,
            "overflow_y": null,
            "padding": null,
            "right": null,
            "top": null,
            "visibility": null,
            "width": null
          }
        },
        "b460f677edd94b60b2715d78e2a3a713": {
          "model_module": "@jupyter-widgets/controls",
          "model_name": "DescriptionStyleModel",
          "model_module_version": "1.5.0",
          "state": {
            "_model_module": "@jupyter-widgets/controls",
            "_model_module_version": "1.5.0",
            "_model_name": "DescriptionStyleModel",
            "_view_count": null,
            "_view_module": "@jupyter-widgets/base",
            "_view_module_version": "1.2.0",
            "_view_name": "StyleView",
            "description_width": ""
          }
        },
        "35bff58206884f589ff8bd0f3332eff0": {
          "model_module": "@jupyter-widgets/base",
          "model_name": "LayoutModel",
          "model_module_version": "1.2.0",
          "state": {
            "_model_module": "@jupyter-widgets/base",
            "_model_module_version": "1.2.0",
            "_model_name": "LayoutModel",
            "_view_count": null,
            "_view_module": "@jupyter-widgets/base",
            "_view_module_version": "1.2.0",
            "_view_name": "LayoutView",
            "align_content": null,
            "align_items": null,
            "align_self": null,
            "border": null,
            "bottom": null,
            "display": null,
            "flex": null,
            "flex_flow": null,
            "grid_area": null,
            "grid_auto_columns": null,
            "grid_auto_flow": null,
            "grid_auto_rows": null,
            "grid_column": null,
            "grid_gap": null,
            "grid_row": null,
            "grid_template_areas": null,
            "grid_template_columns": null,
            "grid_template_rows": null,
            "height": null,
            "justify_content": null,
            "justify_items": null,
            "left": null,
            "margin": null,
            "max_height": null,
            "max_width": null,
            "min_height": null,
            "min_width": null,
            "object_fit": null,
            "object_position": null,
            "order": null,
            "overflow": null,
            "overflow_x": null,
            "overflow_y": null,
            "padding": null,
            "right": null,
            "top": null,
            "visibility": null,
            "width": null
          }
        },
        "be1493f7e9e845ac82f686df375b2560": {
          "model_module": "@jupyter-widgets/controls",
          "model_name": "ProgressStyleModel",
          "model_module_version": "1.5.0",
          "state": {
            "_model_module": "@jupyter-widgets/controls",
            "_model_module_version": "1.5.0",
            "_model_name": "ProgressStyleModel",
            "_view_count": null,
            "_view_module": "@jupyter-widgets/base",
            "_view_module_version": "1.2.0",
            "_view_name": "StyleView",
            "bar_color": null,
            "description_width": ""
          }
        },
        "7c3e1e743434460389ef42ab2fa29de2": {
          "model_module": "@jupyter-widgets/base",
          "model_name": "LayoutModel",
          "model_module_version": "1.2.0",
          "state": {
            "_model_module": "@jupyter-widgets/base",
            "_model_module_version": "1.2.0",
            "_model_name": "LayoutModel",
            "_view_count": null,
            "_view_module": "@jupyter-widgets/base",
            "_view_module_version": "1.2.0",
            "_view_name": "LayoutView",
            "align_content": null,
            "align_items": null,
            "align_self": null,
            "border": null,
            "bottom": null,
            "display": null,
            "flex": null,
            "flex_flow": null,
            "grid_area": null,
            "grid_auto_columns": null,
            "grid_auto_flow": null,
            "grid_auto_rows": null,
            "grid_column": null,
            "grid_gap": null,
            "grid_row": null,
            "grid_template_areas": null,
            "grid_template_columns": null,
            "grid_template_rows": null,
            "height": null,
            "justify_content": null,
            "justify_items": null,
            "left": null,
            "margin": null,
            "max_height": null,
            "max_width": null,
            "min_height": null,
            "min_width": null,
            "object_fit": null,
            "object_position": null,
            "order": null,
            "overflow": null,
            "overflow_x": null,
            "overflow_y": null,
            "padding": null,
            "right": null,
            "top": null,
            "visibility": null,
            "width": null
          }
        },
        "365677a6bfd54ce89c288dd0fac5a4c8": {
          "model_module": "@jupyter-widgets/controls",
          "model_name": "DescriptionStyleModel",
          "model_module_version": "1.5.0",
          "state": {
            "_model_module": "@jupyter-widgets/controls",
            "_model_module_version": "1.5.0",
            "_model_name": "DescriptionStyleModel",
            "_view_count": null,
            "_view_module": "@jupyter-widgets/base",
            "_view_module_version": "1.2.0",
            "_view_name": "StyleView",
            "description_width": ""
          }
        },
        "a09f1528982d4d15a939de4f9e2e292c": {
          "model_module": "@jupyter-widgets/controls",
          "model_name": "HBoxModel",
          "model_module_version": "1.5.0",
          "state": {
            "_dom_classes": [],
            "_model_module": "@jupyter-widgets/controls",
            "_model_module_version": "1.5.0",
            "_model_name": "HBoxModel",
            "_view_count": null,
            "_view_module": "@jupyter-widgets/controls",
            "_view_module_version": "1.5.0",
            "_view_name": "HBoxView",
            "box_style": "",
            "children": [
              "IPY_MODEL_6943891bdc364a2c9a0ff9c31c05e74c",
              "IPY_MODEL_5493993a8aed44a2ac344f2f61f5cdba",
              "IPY_MODEL_c4f0ca1a8aa641e4b4ddb7fd0db839d6"
            ],
            "layout": "IPY_MODEL_83f7054e0cc34bb3b91875e64b246b9d"
          }
        },
        "6943891bdc364a2c9a0ff9c31c05e74c": {
          "model_module": "@jupyter-widgets/controls",
          "model_name": "HTMLModel",
          "model_module_version": "1.5.0",
          "state": {
            "_dom_classes": [],
            "_model_module": "@jupyter-widgets/controls",
            "_model_module_version": "1.5.0",
            "_model_name": "HTMLModel",
            "_view_count": null,
            "_view_module": "@jupyter-widgets/controls",
            "_view_module_version": "1.5.0",
            "_view_name": "HTMLView",
            "description": "",
            "description_tooltip": null,
            "layout": "IPY_MODEL_aed4c5ab0897497383e2c9efeb623b94",
            "placeholder": "​",
            "style": "IPY_MODEL_221bae3f5be64fc28cb3607d3b727726",
            "value": "100%"
          }
        },
        "5493993a8aed44a2ac344f2f61f5cdba": {
          "model_module": "@jupyter-widgets/controls",
          "model_name": "FloatProgressModel",
          "model_module_version": "1.5.0",
          "state": {
            "_dom_classes": [],
            "_model_module": "@jupyter-widgets/controls",
            "_model_module_version": "1.5.0",
            "_model_name": "FloatProgressModel",
            "_view_count": null,
            "_view_module": "@jupyter-widgets/controls",
            "_view_module_version": "1.5.0",
            "_view_name": "ProgressView",
            "bar_style": "success",
            "description": "",
            "description_tooltip": null,
            "layout": "IPY_MODEL_e473e5af7f6e44f38227d69137b5b6db",
            "max": 10000,
            "min": 0,
            "orientation": "horizontal",
            "style": "IPY_MODEL_ed0165c6b754428fbab0ca72190de398",
            "value": 10000
          }
        },
        "c4f0ca1a8aa641e4b4ddb7fd0db839d6": {
          "model_module": "@jupyter-widgets/controls",
          "model_name": "HTMLModel",
          "model_module_version": "1.5.0",
          "state": {
            "_dom_classes": [],
            "_model_module": "@jupyter-widgets/controls",
            "_model_module_version": "1.5.0",
            "_model_name": "HTMLModel",
            "_view_count": null,
            "_view_module": "@jupyter-widgets/controls",
            "_view_module_version": "1.5.0",
            "_view_name": "HTMLView",
            "description": "",
            "description_tooltip": null,
            "layout": "IPY_MODEL_4d9aca0eb91e4466a0bf1e7d4a203728",
            "placeholder": "​",
            "style": "IPY_MODEL_cd5945ced01d48babc3609bb5a2c5563",
            "value": " 10000/10000 [00:13&lt;00:00, 839.11it/s]"
          }
        },
        "83f7054e0cc34bb3b91875e64b246b9d": {
          "model_module": "@jupyter-widgets/base",
          "model_name": "LayoutModel",
          "model_module_version": "1.2.0",
          "state": {
            "_model_module": "@jupyter-widgets/base",
            "_model_module_version": "1.2.0",
            "_model_name": "LayoutModel",
            "_view_count": null,
            "_view_module": "@jupyter-widgets/base",
            "_view_module_version": "1.2.0",
            "_view_name": "LayoutView",
            "align_content": null,
            "align_items": null,
            "align_self": null,
            "border": null,
            "bottom": null,
            "display": null,
            "flex": null,
            "flex_flow": null,
            "grid_area": null,
            "grid_auto_columns": null,
            "grid_auto_flow": null,
            "grid_auto_rows": null,
            "grid_column": null,
            "grid_gap": null,
            "grid_row": null,
            "grid_template_areas": null,
            "grid_template_columns": null,
            "grid_template_rows": null,
            "height": null,
            "justify_content": null,
            "justify_items": null,
            "left": null,
            "margin": null,
            "max_height": null,
            "max_width": null,
            "min_height": null,
            "min_width": null,
            "object_fit": null,
            "object_position": null,
            "order": null,
            "overflow": null,
            "overflow_x": null,
            "overflow_y": null,
            "padding": null,
            "right": null,
            "top": null,
            "visibility": null,
            "width": null
          }
        },
        "aed4c5ab0897497383e2c9efeb623b94": {
          "model_module": "@jupyter-widgets/base",
          "model_name": "LayoutModel",
          "model_module_version": "1.2.0",
          "state": {
            "_model_module": "@jupyter-widgets/base",
            "_model_module_version": "1.2.0",
            "_model_name": "LayoutModel",
            "_view_count": null,
            "_view_module": "@jupyter-widgets/base",
            "_view_module_version": "1.2.0",
            "_view_name": "LayoutView",
            "align_content": null,
            "align_items": null,
            "align_self": null,
            "border": null,
            "bottom": null,
            "display": null,
            "flex": null,
            "flex_flow": null,
            "grid_area": null,
            "grid_auto_columns": null,
            "grid_auto_flow": null,
            "grid_auto_rows": null,
            "grid_column": null,
            "grid_gap": null,
            "grid_row": null,
            "grid_template_areas": null,
            "grid_template_columns": null,
            "grid_template_rows": null,
            "height": null,
            "justify_content": null,
            "justify_items": null,
            "left": null,
            "margin": null,
            "max_height": null,
            "max_width": null,
            "min_height": null,
            "min_width": null,
            "object_fit": null,
            "object_position": null,
            "order": null,
            "overflow": null,
            "overflow_x": null,
            "overflow_y": null,
            "padding": null,
            "right": null,
            "top": null,
            "visibility": null,
            "width": null
          }
        },
        "221bae3f5be64fc28cb3607d3b727726": {
          "model_module": "@jupyter-widgets/controls",
          "model_name": "DescriptionStyleModel",
          "model_module_version": "1.5.0",
          "state": {
            "_model_module": "@jupyter-widgets/controls",
            "_model_module_version": "1.5.0",
            "_model_name": "DescriptionStyleModel",
            "_view_count": null,
            "_view_module": "@jupyter-widgets/base",
            "_view_module_version": "1.2.0",
            "_view_name": "StyleView",
            "description_width": ""
          }
        },
        "e473e5af7f6e44f38227d69137b5b6db": {
          "model_module": "@jupyter-widgets/base",
          "model_name": "LayoutModel",
          "model_module_version": "1.2.0",
          "state": {
            "_model_module": "@jupyter-widgets/base",
            "_model_module_version": "1.2.0",
            "_model_name": "LayoutModel",
            "_view_count": null,
            "_view_module": "@jupyter-widgets/base",
            "_view_module_version": "1.2.0",
            "_view_name": "LayoutView",
            "align_content": null,
            "align_items": null,
            "align_self": null,
            "border": null,
            "bottom": null,
            "display": null,
            "flex": null,
            "flex_flow": null,
            "grid_area": null,
            "grid_auto_columns": null,
            "grid_auto_flow": null,
            "grid_auto_rows": null,
            "grid_column": null,
            "grid_gap": null,
            "grid_row": null,
            "grid_template_areas": null,
            "grid_template_columns": null,
            "grid_template_rows": null,
            "height": null,
            "justify_content": null,
            "justify_items": null,
            "left": null,
            "margin": null,
            "max_height": null,
            "max_width": null,
            "min_height": null,
            "min_width": null,
            "object_fit": null,
            "object_position": null,
            "order": null,
            "overflow": null,
            "overflow_x": null,
            "overflow_y": null,
            "padding": null,
            "right": null,
            "top": null,
            "visibility": null,
            "width": null
          }
        },
        "ed0165c6b754428fbab0ca72190de398": {
          "model_module": "@jupyter-widgets/controls",
          "model_name": "ProgressStyleModel",
          "model_module_version": "1.5.0",
          "state": {
            "_model_module": "@jupyter-widgets/controls",
            "_model_module_version": "1.5.0",
            "_model_name": "ProgressStyleModel",
            "_view_count": null,
            "_view_module": "@jupyter-widgets/base",
            "_view_module_version": "1.2.0",
            "_view_name": "StyleView",
            "bar_color": null,
            "description_width": ""
          }
        },
        "4d9aca0eb91e4466a0bf1e7d4a203728": {
          "model_module": "@jupyter-widgets/base",
          "model_name": "LayoutModel",
          "model_module_version": "1.2.0",
          "state": {
            "_model_module": "@jupyter-widgets/base",
            "_model_module_version": "1.2.0",
            "_model_name": "LayoutModel",
            "_view_count": null,
            "_view_module": "@jupyter-widgets/base",
            "_view_module_version": "1.2.0",
            "_view_name": "LayoutView",
            "align_content": null,
            "align_items": null,
            "align_self": null,
            "border": null,
            "bottom": null,
            "display": null,
            "flex": null,
            "flex_flow": null,
            "grid_area": null,
            "grid_auto_columns": null,
            "grid_auto_flow": null,
            "grid_auto_rows": null,
            "grid_column": null,
            "grid_gap": null,
            "grid_row": null,
            "grid_template_areas": null,
            "grid_template_columns": null,
            "grid_template_rows": null,
            "height": null,
            "justify_content": null,
            "justify_items": null,
            "left": null,
            "margin": null,
            "max_height": null,
            "max_width": null,
            "min_height": null,
            "min_width": null,
            "object_fit": null,
            "object_position": null,
            "order": null,
            "overflow": null,
            "overflow_x": null,
            "overflow_y": null,
            "padding": null,
            "right": null,
            "top": null,
            "visibility": null,
            "width": null
          }
        },
        "cd5945ced01d48babc3609bb5a2c5563": {
          "model_module": "@jupyter-widgets/controls",
          "model_name": "DescriptionStyleModel",
          "model_module_version": "1.5.0",
          "state": {
            "_model_module": "@jupyter-widgets/controls",
            "_model_module_version": "1.5.0",
            "_model_name": "DescriptionStyleModel",
            "_view_count": null,
            "_view_module": "@jupyter-widgets/base",
            "_view_module_version": "1.2.0",
            "_view_name": "StyleView",
            "description_width": ""
          }
        },
        "fc33988cb8a645d0a68935bf0e80b343": {
          "model_module": "@jupyter-widgets/controls",
          "model_name": "HBoxModel",
          "model_module_version": "1.5.0",
          "state": {
            "_dom_classes": [],
            "_model_module": "@jupyter-widgets/controls",
            "_model_module_version": "1.5.0",
            "_model_name": "HBoxModel",
            "_view_count": null,
            "_view_module": "@jupyter-widgets/controls",
            "_view_module_version": "1.5.0",
            "_view_name": "HBoxView",
            "box_style": "",
            "children": [
              "IPY_MODEL_be65b6d8d36143dd95a531a68c68d1f4",
              "IPY_MODEL_5f5eba7bbf9e4cb3a9347f563a31d412",
              "IPY_MODEL_473c607b501c4014b55d21de1375655e"
            ],
            "layout": "IPY_MODEL_a8a9fbfc0cf14732aee68c90801ed71e"
          }
        },
        "be65b6d8d36143dd95a531a68c68d1f4": {
          "model_module": "@jupyter-widgets/controls",
          "model_name": "HTMLModel",
          "model_module_version": "1.5.0",
          "state": {
            "_dom_classes": [],
            "_model_module": "@jupyter-widgets/controls",
            "_model_module_version": "1.5.0",
            "_model_name": "HTMLModel",
            "_view_count": null,
            "_view_module": "@jupyter-widgets/controls",
            "_view_module_version": "1.5.0",
            "_view_name": "HTMLView",
            "description": "",
            "description_tooltip": null,
            "layout": "IPY_MODEL_4da6b483892943e3a412b62db8ed0b4c",
            "placeholder": "​",
            "style": "IPY_MODEL_8f2f8a826ea0421984518587079c63d4",
            "value": "  0%"
          }
        },
        "5f5eba7bbf9e4cb3a9347f563a31d412": {
          "model_module": "@jupyter-widgets/controls",
          "model_name": "FloatProgressModel",
          "model_module_version": "1.5.0",
          "state": {
            "_dom_classes": [],
            "_model_module": "@jupyter-widgets/controls",
            "_model_module_version": "1.5.0",
            "_model_name": "FloatProgressModel",
            "_view_count": null,
            "_view_module": "@jupyter-widgets/controls",
            "_view_module_version": "1.5.0",
            "_view_name": "ProgressView",
            "bar_style": "danger",
            "description": "",
            "description_tooltip": null,
            "layout": "IPY_MODEL_92168b27c72a4b50a5b6172535bc6178",
            "max": 10,
            "min": 0,
            "orientation": "horizontal",
            "style": "IPY_MODEL_ce5dd637c2c945b0a1d0c56a52ba5c0b",
            "value": 0
          }
        },
        "473c607b501c4014b55d21de1375655e": {
          "model_module": "@jupyter-widgets/controls",
          "model_name": "HTMLModel",
          "model_module_version": "1.5.0",
          "state": {
            "_dom_classes": [],
            "_model_module": "@jupyter-widgets/controls",
            "_model_module_version": "1.5.0",
            "_model_name": "HTMLModel",
            "_view_count": null,
            "_view_module": "@jupyter-widgets/controls",
            "_view_module_version": "1.5.0",
            "_view_name": "HTMLView",
            "description": "",
            "description_tooltip": null,
            "layout": "IPY_MODEL_42c0d658797e4bac855188a2ac665b11",
            "placeholder": "​",
            "style": "IPY_MODEL_534803fc5171436499c96dc2e982c32c",
            "value": " 0/10 [00:00&lt;?, ?it/s]"
          }
        },
        "a8a9fbfc0cf14732aee68c90801ed71e": {
          "model_module": "@jupyter-widgets/base",
          "model_name": "LayoutModel",
          "model_module_version": "1.2.0",
          "state": {
            "_model_module": "@jupyter-widgets/base",
            "_model_module_version": "1.2.0",
            "_model_name": "LayoutModel",
            "_view_count": null,
            "_view_module": "@jupyter-widgets/base",
            "_view_module_version": "1.2.0",
            "_view_name": "LayoutView",
            "align_content": null,
            "align_items": null,
            "align_self": null,
            "border": null,
            "bottom": null,
            "display": null,
            "flex": null,
            "flex_flow": null,
            "grid_area": null,
            "grid_auto_columns": null,
            "grid_auto_flow": null,
            "grid_auto_rows": null,
            "grid_column": null,
            "grid_gap": null,
            "grid_row": null,
            "grid_template_areas": null,
            "grid_template_columns": null,
            "grid_template_rows": null,
            "height": null,
            "justify_content": null,
            "justify_items": null,
            "left": null,
            "margin": null,
            "max_height": null,
            "max_width": null,
            "min_height": null,
            "min_width": null,
            "object_fit": null,
            "object_position": null,
            "order": null,
            "overflow": null,
            "overflow_x": null,
            "overflow_y": null,
            "padding": null,
            "right": null,
            "top": null,
            "visibility": null,
            "width": null
          }
        },
        "4da6b483892943e3a412b62db8ed0b4c": {
          "model_module": "@jupyter-widgets/base",
          "model_name": "LayoutModel",
          "model_module_version": "1.2.0",
          "state": {
            "_model_module": "@jupyter-widgets/base",
            "_model_module_version": "1.2.0",
            "_model_name": "LayoutModel",
            "_view_count": null,
            "_view_module": "@jupyter-widgets/base",
            "_view_module_version": "1.2.0",
            "_view_name": "LayoutView",
            "align_content": null,
            "align_items": null,
            "align_self": null,
            "border": null,
            "bottom": null,
            "display": null,
            "flex": null,
            "flex_flow": null,
            "grid_area": null,
            "grid_auto_columns": null,
            "grid_auto_flow": null,
            "grid_auto_rows": null,
            "grid_column": null,
            "grid_gap": null,
            "grid_row": null,
            "grid_template_areas": null,
            "grid_template_columns": null,
            "grid_template_rows": null,
            "height": null,
            "justify_content": null,
            "justify_items": null,
            "left": null,
            "margin": null,
            "max_height": null,
            "max_width": null,
            "min_height": null,
            "min_width": null,
            "object_fit": null,
            "object_position": null,
            "order": null,
            "overflow": null,
            "overflow_x": null,
            "overflow_y": null,
            "padding": null,
            "right": null,
            "top": null,
            "visibility": null,
            "width": null
          }
        },
        "8f2f8a826ea0421984518587079c63d4": {
          "model_module": "@jupyter-widgets/controls",
          "model_name": "DescriptionStyleModel",
          "model_module_version": "1.5.0",
          "state": {
            "_model_module": "@jupyter-widgets/controls",
            "_model_module_version": "1.5.0",
            "_model_name": "DescriptionStyleModel",
            "_view_count": null,
            "_view_module": "@jupyter-widgets/base",
            "_view_module_version": "1.2.0",
            "_view_name": "StyleView",
            "description_width": ""
          }
        },
        "92168b27c72a4b50a5b6172535bc6178": {
          "model_module": "@jupyter-widgets/base",
          "model_name": "LayoutModel",
          "model_module_version": "1.2.0",
          "state": {
            "_model_module": "@jupyter-widgets/base",
            "_model_module_version": "1.2.0",
            "_model_name": "LayoutModel",
            "_view_count": null,
            "_view_module": "@jupyter-widgets/base",
            "_view_module_version": "1.2.0",
            "_view_name": "LayoutView",
            "align_content": null,
            "align_items": null,
            "align_self": null,
            "border": null,
            "bottom": null,
            "display": null,
            "flex": null,
            "flex_flow": null,
            "grid_area": null,
            "grid_auto_columns": null,
            "grid_auto_flow": null,
            "grid_auto_rows": null,
            "grid_column": null,
            "grid_gap": null,
            "grid_row": null,
            "grid_template_areas": null,
            "grid_template_columns": null,
            "grid_template_rows": null,
            "height": null,
            "justify_content": null,
            "justify_items": null,
            "left": null,
            "margin": null,
            "max_height": null,
            "max_width": null,
            "min_height": null,
            "min_width": null,
            "object_fit": null,
            "object_position": null,
            "order": null,
            "overflow": null,
            "overflow_x": null,
            "overflow_y": null,
            "padding": null,
            "right": null,
            "top": null,
            "visibility": null,
            "width": null
          }
        },
        "ce5dd637c2c945b0a1d0c56a52ba5c0b": {
          "model_module": "@jupyter-widgets/controls",
          "model_name": "ProgressStyleModel",
          "model_module_version": "1.5.0",
          "state": {
            "_model_module": "@jupyter-widgets/controls",
            "_model_module_version": "1.5.0",
            "_model_name": "ProgressStyleModel",
            "_view_count": null,
            "_view_module": "@jupyter-widgets/base",
            "_view_module_version": "1.2.0",
            "_view_name": "StyleView",
            "bar_color": null,
            "description_width": ""
          }
        },
        "42c0d658797e4bac855188a2ac665b11": {
          "model_module": "@jupyter-widgets/base",
          "model_name": "LayoutModel",
          "model_module_version": "1.2.0",
          "state": {
            "_model_module": "@jupyter-widgets/base",
            "_model_module_version": "1.2.0",
            "_model_name": "LayoutModel",
            "_view_count": null,
            "_view_module": "@jupyter-widgets/base",
            "_view_module_version": "1.2.0",
            "_view_name": "LayoutView",
            "align_content": null,
            "align_items": null,
            "align_self": null,
            "border": null,
            "bottom": null,
            "display": null,
            "flex": null,
            "flex_flow": null,
            "grid_area": null,
            "grid_auto_columns": null,
            "grid_auto_flow": null,
            "grid_auto_rows": null,
            "grid_column": null,
            "grid_gap": null,
            "grid_row": null,
            "grid_template_areas": null,
            "grid_template_columns": null,
            "grid_template_rows": null,
            "height": null,
            "justify_content": null,
            "justify_items": null,
            "left": null,
            "margin": null,
            "max_height": null,
            "max_width": null,
            "min_height": null,
            "min_width": null,
            "object_fit": null,
            "object_position": null,
            "order": null,
            "overflow": null,
            "overflow_x": null,
            "overflow_y": null,
            "padding": null,
            "right": null,
            "top": null,
            "visibility": null,
            "width": null
          }
        },
        "534803fc5171436499c96dc2e982c32c": {
          "model_module": "@jupyter-widgets/controls",
          "model_name": "DescriptionStyleModel",
          "model_module_version": "1.5.0",
          "state": {
            "_model_module": "@jupyter-widgets/controls",
            "_model_module_version": "1.5.0",
            "_model_name": "DescriptionStyleModel",
            "_view_count": null,
            "_view_module": "@jupyter-widgets/base",
            "_view_module_version": "1.2.0",
            "_view_name": "StyleView",
            "description_width": ""
          }
        },
        "3935084e1ede47d1b58fe4540fdbcf9c": {
          "model_module": "@jupyter-widgets/controls",
          "model_name": "HBoxModel",
          "model_module_version": "1.5.0",
          "state": {
            "_dom_classes": [],
            "_model_module": "@jupyter-widgets/controls",
            "_model_module_version": "1.5.0",
            "_model_name": "HBoxModel",
            "_view_count": null,
            "_view_module": "@jupyter-widgets/controls",
            "_view_module_version": "1.5.0",
            "_view_name": "HBoxView",
            "box_style": "",
            "children": [
              "IPY_MODEL_1b5329c0e5fc4311b69f0b46842501b8",
              "IPY_MODEL_1f838ec352c44c38bc7b0601d9884aad",
              "IPY_MODEL_af9e2a4e9c574fad93383766cf168c09"
            ],
            "layout": "IPY_MODEL_7eb06085e3b749d4ab1c7270ae1d2150"
          }
        },
        "1b5329c0e5fc4311b69f0b46842501b8": {
          "model_module": "@jupyter-widgets/controls",
          "model_name": "HTMLModel",
          "model_module_version": "1.5.0",
          "state": {
            "_dom_classes": [],
            "_model_module": "@jupyter-widgets/controls",
            "_model_module_version": "1.5.0",
            "_model_name": "HTMLModel",
            "_view_count": null,
            "_view_module": "@jupyter-widgets/controls",
            "_view_module_version": "1.5.0",
            "_view_name": "HTMLView",
            "description": "",
            "description_tooltip": null,
            "layout": "IPY_MODEL_4e5773af686848c796640081ba7a2ff5",
            "placeholder": "​",
            "style": "IPY_MODEL_64b68696bcc848f4bb19d933657b6db6",
            "value": "100%"
          }
        },
        "1f838ec352c44c38bc7b0601d9884aad": {
          "model_module": "@jupyter-widgets/controls",
          "model_name": "FloatProgressModel",
          "model_module_version": "1.5.0",
          "state": {
            "_dom_classes": [],
            "_model_module": "@jupyter-widgets/controls",
            "_model_module_version": "1.5.0",
            "_model_name": "FloatProgressModel",
            "_view_count": null,
            "_view_module": "@jupyter-widgets/controls",
            "_view_module_version": "1.5.0",
            "_view_name": "ProgressView",
            "bar_style": "success",
            "description": "",
            "description_tooltip": null,
            "layout": "IPY_MODEL_520690e80e2048d28fa3547fc5f3b7bf",
            "max": 100000,
            "min": 0,
            "orientation": "horizontal",
            "style": "IPY_MODEL_96f526b0ddfc431a9832bea8f45a0184",
            "value": 100000
          }
        },
        "af9e2a4e9c574fad93383766cf168c09": {
          "model_module": "@jupyter-widgets/controls",
          "model_name": "HTMLModel",
          "model_module_version": "1.5.0",
          "state": {
            "_dom_classes": [],
            "_model_module": "@jupyter-widgets/controls",
            "_model_module_version": "1.5.0",
            "_model_name": "HTMLModel",
            "_view_count": null,
            "_view_module": "@jupyter-widgets/controls",
            "_view_module_version": "1.5.0",
            "_view_name": "HTMLView",
            "description": "",
            "description_tooltip": null,
            "layout": "IPY_MODEL_86a04765ca1e44ce892478cc3f6faac7",
            "placeholder": "​",
            "style": "IPY_MODEL_f0c3d6b0477a49e8932474c2203a9752",
            "value": " 100000/100000 [10:44&lt;00:00, 144.41it/s]"
          }
        },
        "7eb06085e3b749d4ab1c7270ae1d2150": {
          "model_module": "@jupyter-widgets/base",
          "model_name": "LayoutModel",
          "model_module_version": "1.2.0",
          "state": {
            "_model_module": "@jupyter-widgets/base",
            "_model_module_version": "1.2.0",
            "_model_name": "LayoutModel",
            "_view_count": null,
            "_view_module": "@jupyter-widgets/base",
            "_view_module_version": "1.2.0",
            "_view_name": "LayoutView",
            "align_content": null,
            "align_items": null,
            "align_self": null,
            "border": null,
            "bottom": null,
            "display": null,
            "flex": null,
            "flex_flow": null,
            "grid_area": null,
            "grid_auto_columns": null,
            "grid_auto_flow": null,
            "grid_auto_rows": null,
            "grid_column": null,
            "grid_gap": null,
            "grid_row": null,
            "grid_template_areas": null,
            "grid_template_columns": null,
            "grid_template_rows": null,
            "height": null,
            "justify_content": null,
            "justify_items": null,
            "left": null,
            "margin": null,
            "max_height": null,
            "max_width": null,
            "min_height": null,
            "min_width": null,
            "object_fit": null,
            "object_position": null,
            "order": null,
            "overflow": null,
            "overflow_x": null,
            "overflow_y": null,
            "padding": null,
            "right": null,
            "top": null,
            "visibility": null,
            "width": null
          }
        },
        "4e5773af686848c796640081ba7a2ff5": {
          "model_module": "@jupyter-widgets/base",
          "model_name": "LayoutModel",
          "model_module_version": "1.2.0",
          "state": {
            "_model_module": "@jupyter-widgets/base",
            "_model_module_version": "1.2.0",
            "_model_name": "LayoutModel",
            "_view_count": null,
            "_view_module": "@jupyter-widgets/base",
            "_view_module_version": "1.2.0",
            "_view_name": "LayoutView",
            "align_content": null,
            "align_items": null,
            "align_self": null,
            "border": null,
            "bottom": null,
            "display": null,
            "flex": null,
            "flex_flow": null,
            "grid_area": null,
            "grid_auto_columns": null,
            "grid_auto_flow": null,
            "grid_auto_rows": null,
            "grid_column": null,
            "grid_gap": null,
            "grid_row": null,
            "grid_template_areas": null,
            "grid_template_columns": null,
            "grid_template_rows": null,
            "height": null,
            "justify_content": null,
            "justify_items": null,
            "left": null,
            "margin": null,
            "max_height": null,
            "max_width": null,
            "min_height": null,
            "min_width": null,
            "object_fit": null,
            "object_position": null,
            "order": null,
            "overflow": null,
            "overflow_x": null,
            "overflow_y": null,
            "padding": null,
            "right": null,
            "top": null,
            "visibility": null,
            "width": null
          }
        },
        "64b68696bcc848f4bb19d933657b6db6": {
          "model_module": "@jupyter-widgets/controls",
          "model_name": "DescriptionStyleModel",
          "model_module_version": "1.5.0",
          "state": {
            "_model_module": "@jupyter-widgets/controls",
            "_model_module_version": "1.5.0",
            "_model_name": "DescriptionStyleModel",
            "_view_count": null,
            "_view_module": "@jupyter-widgets/base",
            "_view_module_version": "1.2.0",
            "_view_name": "StyleView",
            "description_width": ""
          }
        },
        "520690e80e2048d28fa3547fc5f3b7bf": {
          "model_module": "@jupyter-widgets/base",
          "model_name": "LayoutModel",
          "model_module_version": "1.2.0",
          "state": {
            "_model_module": "@jupyter-widgets/base",
            "_model_module_version": "1.2.0",
            "_model_name": "LayoutModel",
            "_view_count": null,
            "_view_module": "@jupyter-widgets/base",
            "_view_module_version": "1.2.0",
            "_view_name": "LayoutView",
            "align_content": null,
            "align_items": null,
            "align_self": null,
            "border": null,
            "bottom": null,
            "display": null,
            "flex": null,
            "flex_flow": null,
            "grid_area": null,
            "grid_auto_columns": null,
            "grid_auto_flow": null,
            "grid_auto_rows": null,
            "grid_column": null,
            "grid_gap": null,
            "grid_row": null,
            "grid_template_areas": null,
            "grid_template_columns": null,
            "grid_template_rows": null,
            "height": null,
            "justify_content": null,
            "justify_items": null,
            "left": null,
            "margin": null,
            "max_height": null,
            "max_width": null,
            "min_height": null,
            "min_width": null,
            "object_fit": null,
            "object_position": null,
            "order": null,
            "overflow": null,
            "overflow_x": null,
            "overflow_y": null,
            "padding": null,
            "right": null,
            "top": null,
            "visibility": null,
            "width": null
          }
        },
        "96f526b0ddfc431a9832bea8f45a0184": {
          "model_module": "@jupyter-widgets/controls",
          "model_name": "ProgressStyleModel",
          "model_module_version": "1.5.0",
          "state": {
            "_model_module": "@jupyter-widgets/controls",
            "_model_module_version": "1.5.0",
            "_model_name": "ProgressStyleModel",
            "_view_count": null,
            "_view_module": "@jupyter-widgets/base",
            "_view_module_version": "1.2.0",
            "_view_name": "StyleView",
            "bar_color": null,
            "description_width": ""
          }
        },
        "86a04765ca1e44ce892478cc3f6faac7": {
          "model_module": "@jupyter-widgets/base",
          "model_name": "LayoutModel",
          "model_module_version": "1.2.0",
          "state": {
            "_model_module": "@jupyter-widgets/base",
            "_model_module_version": "1.2.0",
            "_model_name": "LayoutModel",
            "_view_count": null,
            "_view_module": "@jupyter-widgets/base",
            "_view_module_version": "1.2.0",
            "_view_name": "LayoutView",
            "align_content": null,
            "align_items": null,
            "align_self": null,
            "border": null,
            "bottom": null,
            "display": null,
            "flex": null,
            "flex_flow": null,
            "grid_area": null,
            "grid_auto_columns": null,
            "grid_auto_flow": null,
            "grid_auto_rows": null,
            "grid_column": null,
            "grid_gap": null,
            "grid_row": null,
            "grid_template_areas": null,
            "grid_template_columns": null,
            "grid_template_rows": null,
            "height": null,
            "justify_content": null,
            "justify_items": null,
            "left": null,
            "margin": null,
            "max_height": null,
            "max_width": null,
            "min_height": null,
            "min_width": null,
            "object_fit": null,
            "object_position": null,
            "order": null,
            "overflow": null,
            "overflow_x": null,
            "overflow_y": null,
            "padding": null,
            "right": null,
            "top": null,
            "visibility": null,
            "width": null
          }
        },
        "f0c3d6b0477a49e8932474c2203a9752": {
          "model_module": "@jupyter-widgets/controls",
          "model_name": "DescriptionStyleModel",
          "model_module_version": "1.5.0",
          "state": {
            "_model_module": "@jupyter-widgets/controls",
            "_model_module_version": "1.5.0",
            "_model_name": "DescriptionStyleModel",
            "_view_count": null,
            "_view_module": "@jupyter-widgets/base",
            "_view_module_version": "1.2.0",
            "_view_name": "StyleView",
            "description_width": ""
          }
        }
      }
    }
  },
  "cells": [
    {
      "cell_type": "markdown",
      "metadata": {
        "id": "view-in-github",
        "colab_type": "text"
      },
      "source": [
        "<a href=\"https://colab.research.google.com/github/mohammadsanaee/ML_in_application/blob/main/6_rnn_2.ipynb\" target=\"_parent\"><img src=\"https://colab.research.google.com/assets/colab-badge.svg\" alt=\"Open In Colab\"/></a>"
      ]
    },
    {
      "cell_type": "code",
      "metadata": {
        "id": "pK3ktocHYvfn",
        "outputId": "1e028f86-ede7-4852-a45c-4d455bb45893",
        "colab": {
          "base_uri": "https://localhost:8080/"
        }
      },
      "source": [
        "#@title <b><font color=\"red\">▶</font><font color=\"black\"> run this cell to prepare supplementary materials for the lesson</font></b>\n",
        "\n",
        "!rm -rf harbour-space-text-mining-course\n",
        "!git clone https://github.com/horoshenkih/harbour-space-text-mining-course.git\n",
        "import sys\n",
        "if 'harbour-space-text-mining-course' not in sys.path:\n",
        "    sys.path.append('harbour-space-text-mining-course')\n",
        "\n",
        "# from tmcourse.demo import (\n",
        "# )\n",
        "# from tmcourse.quiz import (\n",
        "# )\n",
        "from tmcourse.ipyquiz import Quiz, Function\n",
        "from tmcourse.utils import enable_mathjax_in_cell\n",
        "\n",
        "from IPython.display import HTML, display\n",
        "\n",
        "# get_ipython().events.register('pre_run_cell', enable_mathjax_in_cell)\n",
        "from IPython.display import set_matplotlib_formats\n",
        "%matplotlib inline\n",
        "set_matplotlib_formats('svg')\n",
        "import matplotlib.pyplot as plt\n",
        "plt.rcParams['figure.figsize'] = (10.0, 6.0)\n",
        "\n",
        "import torch\n",
        "torch.manual_seed(0)\n"
      ],
      "execution_count": 1,
      "outputs": [
        {
          "output_type": "stream",
          "name": "stdout",
          "text": [
            "Cloning into 'harbour-space-text-mining-course'...\n",
            "remote: Enumerating objects: 738, done.\u001b[K\n",
            "remote: Counting objects: 100% (175/175), done.\u001b[K\n",
            "remote: Compressing objects: 100% (105/105), done.\u001b[K\n",
            "remote: Total 738 (delta 79), reused 158 (delta 69), pack-reused 563\u001b[K\n",
            "Receiving objects: 100% (738/738), 179.50 MiB | 14.63 MiB/s, done.\n",
            "Resolving deltas: 100% (403/403), done.\n",
            "Updating files: 100% (129/129), done.\n"
          ]
        },
        {
          "output_type": "execute_result",
          "data": {
            "text/plain": [
              "<torch._C.Generator at 0x7fcde26dc890>"
            ]
          },
          "metadata": {},
          "execution_count": 1
        }
      ]
    },
    {
      "cell_type": "markdown",
      "metadata": {
        "id": "HWUdCXVWY14f"
      },
      "source": [
        "<!--@slideshow slide-->\n",
        "<h1><center>Recurrent Neural Networks - 2</center></h1>\n"
      ]
    },
    {
      "cell_type": "markdown",
      "metadata": {
        "id": "FEt3UbfvjoD2"
      },
      "source": [
        "<!--@slideshow slide-->\n",
        "# Last time\n",
        "1. Recurrent functions accept sequences as inputs.\n",
        "$$\n",
        "h_t = f(x_t, h_{t-1})\n",
        "$$\n",
        "1. Recurrent Neural Networks are recurrent _layers_: they consist of linear transformations followed by activation functions.\n",
        "$$\n",
        "h_t = \\mathrm{SomeFunction}(W_{xh}x_t + W_{hh}h_{t-1})\n",
        "$$\n",
        "1. RNNs are trained with backpropagation on \"unrolled\" computational graph.\n",
        "1. Example: classification of names with RNN."
      ]
    },
    {
      "cell_type": "markdown",
      "metadata": {
        "id": "ScWoVz4Oh2xV"
      },
      "source": [
        "<!--@slideshow slide-->\n",
        "# Plan for today\n",
        "1. Methods of gradient optimization.\n",
        "1. When RNN fails: conflicting updates.\n",
        "1. Long Short-Term Memory (LSTM)"
      ]
    },
    {
      "cell_type": "markdown",
      "metadata": {
        "id": "yu2KTrZO0Aed"
      },
      "source": [
        "<!--@slideshow slide-->\n",
        "# Methods of gradient optimization\n",
        "## Colab demo: gradient methods for neural networks\n",
        "[link](https://colab.research.google.com/drive/1TEX4GuQLU1oEYes-zhAMvoahRZ1yJHMl?usp=sharing)"
      ]
    },
    {
      "cell_type": "markdown",
      "metadata": {
        "id": "I57-p0vR0P94"
      },
      "source": [
        "<!--@slideshow slide-->\n",
        "## Colab demo: PyTorch optimizers"
      ]
    },
    {
      "cell_type": "code",
      "metadata": {
        "id": "lSYsQ-jxiuIu"
      },
      "source": [
        "import torch\n",
        "import torch.nn as nn\n",
        "\n",
        "class RNN(nn.Module):\n",
        "    # the same as LanguageModelRNN from the previous lecture, but without conditioning\n",
        "    def __init__(self, input_size, hidden_size, output_size):\n",
        "        super().__init__()\n",
        "        self.hidden_size = hidden_size\n",
        "\n",
        "        # hidden -> hidden\n",
        "        self.hh = nn.Linear(hidden_size, hidden_size)\n",
        "        # input -> hidden\n",
        "        self.xh = nn.Linear(input_size, hidden_size)\n",
        "        # hidden -> output\n",
        "        self.hy = nn.Linear(hidden_size, output_size)\n",
        "        self.relu = nn.ReLU()\n",
        "        self.softmax = nn.LogSoftmax(dim=1)\n",
        "\n",
        "    def forward(self, x, h):\n",
        "        # h_t = f(h_{t-1}, x_t)\n",
        "        hidden = self.relu(self.hh(h) + self.xh(x))\n",
        "        # o_t = g(h_t)\n",
        "        output = self.softmax(self.hy(hidden))\n",
        "        return output, hidden\n",
        "\n",
        "    def h0(self):\n",
        "        return torch.zeros(1, self.hidden_size)"
      ],
      "execution_count": null,
      "outputs": []
    },
    {
      "cell_type": "markdown",
      "metadata": {
        "id": "4HRqTaomZCpN"
      },
      "source": [
        "`process_sequence_rnn()` builds many-to-many computational graph.\n",
        "\n",
        "![link text](https://raw.githubusercontent.com/horoshenkih/harbour-space-text-mining-course/master/pic/rnn-lm.png)"
      ]
    },
    {
      "cell_type": "code",
      "metadata": {
        "id": "AS3PX3TXj5H5"
      },
      "source": [
        "def process_sequence_rnn(\n",
        "    rnn,\n",
        "    input_line_tensor,\n",
        "    target_line_tensor,\n",
        "    learning_rate\n",
        "):\n",
        "    # instead of manual parameter update, we will use PyTorch optimizer\n",
        "    # create the optimizer\n",
        "    optimizer = torch.optim.Adam(rnn.parameters(), lr=learning_rate)\n",
        "    optimizer.zero_grad()\n",
        "\n",
        "    loss_function = nn.NLLLoss()\n",
        "    hidden = rnn.h0()\n",
        "\n",
        "    loss = 0\n",
        "\n",
        "    for i in range(input_line_tensor.size(0)):\n",
        "        output, hidden = rnn(input_line_tensor[i], hidden)\n",
        "        # update the loss for each element x_t\n",
        "        l = loss_function(output, target_line_tensor[i])\n",
        "        loss += l\n",
        "\n",
        "    loss.backward()\n",
        "\n",
        "    # perform gradient step\n",
        "    \n",
        "    # last time, we implemented the gradient step like this:\n",
        "    # >> with torch.no_grad():\n",
        "    # >>     for parameter in rnn.parameters():\n",
        "    # >>         parameter -= learning_rate * parameter.grad\n",
        "\n",
        "    # now, we use optimizer\n",
        "    optimizer.step()\n",
        "\n",
        "    return loss.item() / input_line_tensor.size(0)"
      ],
      "execution_count": null,
      "outputs": []
    },
    {
      "cell_type": "markdown",
      "metadata": {
        "id": "s87ShI65k_7k"
      },
      "source": [
        "<!--@slideshow slide-->\n",
        "# When RNN fails: conflicting updates"
      ]
    },
    {
      "cell_type": "code",
      "metadata": {
        "id": "W29TFsznLSWP",
        "outputId": "92fd639f-2fd6-4b0e-c8cc-4d8cc2f0c29e",
        "colab": {
          "base_uri": "https://localhost:8080/"
        }
      },
      "source": [
        "#@slideshow slide\n",
        "def toy_example(char_seq):\n",
        "    \"\"\"\n",
        "    Synthetic dataset.\n",
        "    Input: sequence of characters `char_seq`.\n",
        "    Target: \"turn on\" 1 if \"+\" is found, wait for \"-\" to \"turn off\".\n",
        "    \"\"\"\n",
        "    target = []\n",
        "    turned_on = 0\n",
        "    for c in char_seq:\n",
        "        if c == \"+\":\n",
        "            turned_on = 1\n",
        "        elif c == \"-\":\n",
        "            turned_on = 0\n",
        "        target.append(turned_on)\n",
        "    return target\n",
        "\n",
        "inp = \"aajh-dd+dklddf+dd-jjola\"\n",
        "print(\"input: \", inp)\n",
        "print(\"target:\", \"\".join(map(str, toy_example(inp))))"
      ],
      "execution_count": null,
      "outputs": [
        {
          "output_type": "stream",
          "name": "stdout",
          "text": [
            "input:  aajh-dd+dklddf+dd-jjola\n",
            "target: 00000001111111111000000\n"
          ]
        }
      ]
    },
    {
      "cell_type": "markdown",
      "metadata": {
        "id": "-h1lwdlRYRZT"
      },
      "source": [
        "<!--@slideshow slide-->\n",
        "## Colab demo: train RNN on the toy dataset"
      ]
    },
    {
      "cell_type": "markdown",
      "metadata": {
        "id": "nOibJHVvYjkc"
      },
      "source": [
        "Generate synthetic sequences with `generate_data()`."
      ]
    },
    {
      "cell_type": "code",
      "metadata": {
        "id": "jNJgP5FPYCLL",
        "outputId": "83fa6714-adfa-4ff3-97b7-a22675c0ad17",
        "colab": {
          "base_uri": "https://localhost:8080/"
        }
      },
      "source": [
        "import torch\n",
        "import random\n",
        "\n",
        "def get_vocabulary(n_additional_symbols):\n",
        "    lower = \"abcdefghijklmnopqrstuvwxyz\"\n",
        "    return list(\"+-\" + lower[:n_additional_symbols])\n",
        "\n",
        "def generate_data(n_samples, seed=0, n_additional_symbols=0):\n",
        "    alphabet = get_vocabulary(n_additional_symbols)\n",
        "    random.seed(seed)\n",
        "\n",
        "    char_tensor = torch.zeros(n_samples, 1, len(alphabet))  # one-hotted, 1 batch\n",
        "    target_tensor = torch.zeros(n_samples, 1)\n",
        "    index_seq = random.choices(range(len(alphabet)), k=n_samples)\n",
        "    char_seq = [alphabet[i] for i in index_seq]  # human-readable\n",
        "    for k, idx in enumerate(index_seq):\n",
        "        char_tensor[k][0][idx] = 1\n",
        "    \n",
        "    # target: turn on if \"+\", turn off if \"-\"\n",
        "    target_seq = toy_example(char_seq)\n",
        "    for i, target in enumerate(target_seq):\n",
        "        target_tensor[i][0] = target\n",
        "\n",
        "    return \"\".join(char_seq), \"\".join(map(str, target_seq)), char_tensor, target_tensor.type(torch.LongTensor)\n",
        "\n",
        "print(\"0 additional symbols\")\n",
        "chars, target, chars_tensor, target_tensor = generate_data(100)\n",
        "print(chars)\n",
        "print(target)\n",
        "print()\n",
        "\n",
        "print(\"10 additional symbols\")\n",
        "chars, target, chars_tensor, target_tensor = generate_data(100, n_additional_symbols=10)\n",
        "print(chars)\n",
        "print(target)"
      ],
      "execution_count": null,
      "outputs": [
        {
          "output_type": "stream",
          "name": "stdout",
          "text": [
            "0 additional symbols\n",
            "--++-+-++---+--+----+---+++---+-+--+-+--++-++-+-+--+++--+--------+-+-+++--++-------+-+------+----+-+\n",
            "0011010110001001000010001110001010010100110110101001110010000000010101110011000000010100000010000101\n",
            "\n",
            "10 additional symbols\n",
            "ihdbechbdfiebhfbijhibgigd-dfijdibhe+gchg+diabiaeajhd+bej-egehejffdfcebaaffd-hijiijecgbhiifjedfjjh+fd\n",
            "0000000000000000000000000000000000011111111111111111111100000000000000000000000000000000000000000111\n"
          ]
        }
      ]
    },
    {
      "cell_type": "markdown",
      "metadata": {
        "id": "xST9N3bNYrZE"
      },
      "source": [
        "Training loop for many-to-many RNN."
      ]
    },
    {
      "cell_type": "code",
      "metadata": {
        "id": "ZmImnQJJnOsP"
      },
      "source": [
        "def train_many_to_many_rnn(\n",
        "    n_additional_symbols=0,\n",
        "    hidden_size=16,\n",
        "    sequence_length=50,\n",
        "    n_iters=1000,\n",
        "    learning_rate=0.0005\n",
        "):\n",
        "    from tqdm.notebook import tqdm\n",
        "    import numpy as np\n",
        "    import matplotlib.pyplot as plt\n",
        "    print_every = n_iters // 20\n",
        "\n",
        "    rnn = RNN(n_additional_symbols + 2, hidden_size, 2)\n",
        "    all_losses = []\n",
        "    iterations = []\n",
        "    losses = []\n",
        "\n",
        "    for i in tqdm(range(1, n_iters + 1)):\n",
        "        # random sample\n",
        "        chars, target, input_tensor, target_tensor = generate_data(\n",
        "            sequence_length,\n",
        "            seed=i,\n",
        "            n_additional_symbols=n_additional_symbols\n",
        "        )\n",
        "        loss = process_sequence_rnn(\n",
        "            rnn,\n",
        "            input_tensor,\n",
        "            target_tensor,\n",
        "            learning_rate\n",
        "        )\n",
        "\n",
        "        all_losses.append(loss)\n",
        "\n",
        "        if i % print_every == 0:\n",
        "            iterations.append(i)\n",
        "            avg_loss = np.mean(all_losses[-print_every:])\n",
        "            losses.append(avg_loss)\n",
        "            print(f\"iteration {i}: loss {avg_loss}\")\n",
        "\n",
        "    plt.plot(iterations, losses)\n",
        "    plt.show()\n",
        "\n",
        "    return rnn"
      ],
      "execution_count": null,
      "outputs": []
    },
    {
      "cell_type": "markdown",
      "metadata": {
        "id": "3t3sdcXcZPjV"
      },
      "source": [
        "Auxiliary functions."
      ]
    },
    {
      "cell_type": "code",
      "metadata": {
        "id": "KH3mmPR_rWjE"
      },
      "source": [
        "def evaluate(rnn, input_tensor):\n",
        "    # read the sequence and return the final output\n",
        "    hidden = rnn.h0()\n",
        "\n",
        "    outputs = torch.zeros(input_tensor.size()[0], 1, 2)\n",
        "    for i in range(input_tensor.size()[0]):\n",
        "        output, hidden = rnn(input_tensor[i], hidden)\n",
        "        outputs[i][0] = output\n",
        "\n",
        "    return outputs\n",
        "\n",
        "def prediction_chars(prediction_tensor):\n",
        "    chars = []\n",
        "    for i in range(prediction_tensor.size()[0]):\n",
        "        if prediction_tensor[i][0][0] > prediction_tensor[i][0][1]:\n",
        "            chars.append('0')\n",
        "        else:\n",
        "            chars.append('1')\n",
        "    return chars\n",
        "\n",
        "def visualize_predictions(rnn, seed, n_additional_symbols, sequence_length=50):\n",
        "    chars, target, input_tensor, target_tensor = generate_data(\n",
        "        sequence_length,\n",
        "        seed=seed,\n",
        "        n_additional_symbols=n_additional_symbols\n",
        "    )\n",
        "\n",
        "    prediction = evaluate(rnn, input_tensor)\n",
        "\n",
        "    print(\"input:     \", \"\".join(chars))\n",
        "    print(\"target:    \", \"\".join(target))\n",
        "    print(\"prediction:\", \"\".join(prediction_chars(prediction)))"
      ],
      "execution_count": null,
      "outputs": []
    },
    {
      "cell_type": "markdown",
      "metadata": {
        "id": "IJs4XnwpuPrV"
      },
      "source": [
        "### Case 1: 2 symbols in the input sequence (no additional symbols)\n",
        "\n",
        "This is an easy task for RNN, training converges quickly, the resulting loss is close to 0."
      ]
    },
    {
      "cell_type": "code",
      "metadata": {
        "id": "LXlykNnbnf5v",
        "outputId": "67001aba-51e3-4053-d02c-56d2f54fbac9",
        "colab": {
          "base_uri": "https://localhost:8080/",
          "height": 886,
          "referenced_widgets": [
            "4d6b10cb5cd6493ebe9f30a8b65260a0",
            "a58a4b124de947a0aa961764ade8c6af",
            "7d0e3e0790094088909b42eddc61ce4f",
            "3c4d410c6e114ed1b992c02b2c5a1eae",
            "dba5b6294df1408abbb7b795d046d059",
            "a2b1a892a1b04c7a92429f04f5756fb6",
            "5d90e443efeb413b907b2637063e28fd",
            "2436aee797444d9a9f3bf4207e819f9d",
            "53bb361ffec34a12afe375f550e117f3",
            "09a4653ba57f404587fb1a10fac2369e",
            "884854dec45a4a239b54f017d0f4f6fc"
          ]
        }
      },
      "source": [
        "rnn = train_many_to_many_rnn(n_additional_symbols=0, n_iters=1500)"
      ],
      "execution_count": null,
      "outputs": [
        {
          "output_type": "display_data",
          "data": {
            "text/plain": [
              "  0%|          | 0/1500 [00:00<?, ?it/s]"
            ],
            "application/vnd.jupyter.widget-view+json": {
              "version_major": 2,
              "version_minor": 0,
              "model_id": "4d6b10cb5cd6493ebe9f30a8b65260a0"
            }
          },
          "metadata": {}
        },
        {
          "output_type": "stream",
          "name": "stdout",
          "text": [
            "iteration 75: loss 0.544311473083496\n",
            "iteration 150: loss 0.42214077301025393\n",
            "iteration 225: loss 0.31967441050211587\n",
            "iteration 300: loss 0.22095592498779293\n",
            "iteration 375: loss 0.14910698827107743\n",
            "iteration 450: loss 0.09697605520884196\n",
            "iteration 525: loss 0.060243048159281415\n",
            "iteration 600: loss 0.03533760083516439\n",
            "iteration 675: loss 0.019528934288024904\n",
            "iteration 750: loss 0.010323584135373435\n",
            "iteration 825: loss 0.005165799605846405\n",
            "iteration 900: loss 0.0024941306233406063\n",
            "iteration 975: loss 0.0011250098546346028\n",
            "iteration 1050: loss 0.0004877078967789808\n",
            "iteration 1125: loss 0.00020081621396044892\n",
            "iteration 1200: loss 7.876471616327763e-05\n",
            "iteration 1275: loss 2.9897694739823537e-05\n",
            "iteration 1350: loss 1.0367474316929779e-05\n",
            "iteration 1425: loss 3.2356778916437177e-06\n",
            "iteration 1500: loss 1.0028510174985666e-06\n"
          ]
        },
        {
          "output_type": "display_data",
          "data": {
            "text/plain": [
              "<Figure size 720x432 with 1 Axes>"
            ],
            "image/svg+xml": "<?xml version=\"1.0\" encoding=\"utf-8\" standalone=\"no\"?>\n<!DOCTYPE svg PUBLIC \"-//W3C//DTD SVG 1.1//EN\"\n  \"http://www.w3.org/Graphics/SVG/1.1/DTD/svg11.dtd\">\n<!-- Created with matplotlib (https://matplotlib.org/) -->\n<svg height=\"357.238125pt\" version=\"1.1\" viewBox=\"0 0 595.303125 357.238125\" width=\"595.303125pt\" xmlns=\"http://www.w3.org/2000/svg\" xmlns:xlink=\"http://www.w3.org/1999/xlink\">\n <defs>\n  <style type=\"text/css\">\n*{stroke-linecap:butt;stroke-linejoin:round;}\n  </style>\n </defs>\n <g id=\"figure_1\">\n  <g id=\"patch_1\">\n   <path d=\"M -0 357.238125 \nL 595.303125 357.238125 \nL 595.303125 0 \nL -0 0 \nz\n\" style=\"fill:none;\"/>\n  </g>\n  <g id=\"axes_1\">\n   <g id=\"patch_2\">\n    <path d=\"M 30.103125 333.36 \nL 588.103125 333.36 \nL 588.103125 7.2 \nL 30.103125 7.2 \nz\n\" style=\"fill:#ffffff;\"/>\n   </g>\n   <g id=\"matplotlib.axis_1\">\n    <g id=\"xtick_1\">\n     <g id=\"line2d_1\">\n      <defs>\n       <path d=\"M 0 0 \nL 0 3.5 \n\" id=\"mcbf3dcf3da\" style=\"stroke:#000000;stroke-width:0.8;\"/>\n      </defs>\n      <g>\n       <use style=\"stroke:#000000;stroke-width:0.8;\" x=\"99.964369\" xlink:href=\"#mcbf3dcf3da\" y=\"333.36\"/>\n      </g>\n     </g>\n     <g id=\"text_1\">\n      <!-- 200 -->\n      <defs>\n       <path d=\"M 19.1875 8.296875 \nL 53.609375 8.296875 \nL 53.609375 0 \nL 7.328125 0 \nL 7.328125 8.296875 \nQ 12.9375 14.109375 22.625 23.890625 \nQ 32.328125 33.6875 34.8125 36.53125 \nQ 39.546875 41.84375 41.421875 45.53125 \nQ 43.3125 49.21875 43.3125 52.78125 \nQ 43.3125 58.59375 39.234375 62.25 \nQ 35.15625 65.921875 28.609375 65.921875 \nQ 23.96875 65.921875 18.8125 64.3125 \nQ 13.671875 62.703125 7.8125 59.421875 \nL 7.8125 69.390625 \nQ 13.765625 71.78125 18.9375 73 \nQ 24.125 74.21875 28.421875 74.21875 \nQ 39.75 74.21875 46.484375 68.546875 \nQ 53.21875 62.890625 53.21875 53.421875 \nQ 53.21875 48.921875 51.53125 44.890625 \nQ 49.859375 40.875 45.40625 35.40625 \nQ 44.1875 33.984375 37.640625 27.21875 \nQ 31.109375 20.453125 19.1875 8.296875 \nz\n\" id=\"DejaVuSans-50\"/>\n       <path d=\"M 31.78125 66.40625 \nQ 24.171875 66.40625 20.328125 58.90625 \nQ 16.5 51.421875 16.5 36.375 \nQ 16.5 21.390625 20.328125 13.890625 \nQ 24.171875 6.390625 31.78125 6.390625 \nQ 39.453125 6.390625 43.28125 13.890625 \nQ 47.125 21.390625 47.125 36.375 \nQ 47.125 51.421875 43.28125 58.90625 \nQ 39.453125 66.40625 31.78125 66.40625 \nz\nM 31.78125 74.21875 \nQ 44.046875 74.21875 50.515625 64.515625 \nQ 56.984375 54.828125 56.984375 36.375 \nQ 56.984375 17.96875 50.515625 8.265625 \nQ 44.046875 -1.421875 31.78125 -1.421875 \nQ 19.53125 -1.421875 13.0625 8.265625 \nQ 6.59375 17.96875 6.59375 36.375 \nQ 6.59375 54.828125 13.0625 64.515625 \nQ 19.53125 74.21875 31.78125 74.21875 \nz\n\" id=\"DejaVuSans-48\"/>\n      </defs>\n      <g transform=\"translate(90.420619 347.958438)scale(0.1 -0.1)\">\n       <use xlink:href=\"#DejaVuSans-50\"/>\n       <use x=\"63.623047\" xlink:href=\"#DejaVuSans-48\"/>\n       <use x=\"127.246094\" xlink:href=\"#DejaVuSans-48\"/>\n      </g>\n     </g>\n    </g>\n    <g id=\"xtick_2\">\n     <g id=\"line2d_2\">\n      <g>\n       <use style=\"stroke:#000000;stroke-width:0.8;\" x=\"171.160541\" xlink:href=\"#mcbf3dcf3da\" y=\"333.36\"/>\n      </g>\n     </g>\n     <g id=\"text_2\">\n      <!-- 400 -->\n      <defs>\n       <path d=\"M 37.796875 64.3125 \nL 12.890625 25.390625 \nL 37.796875 25.390625 \nz\nM 35.203125 72.90625 \nL 47.609375 72.90625 \nL 47.609375 25.390625 \nL 58.015625 25.390625 \nL 58.015625 17.1875 \nL 47.609375 17.1875 \nL 47.609375 0 \nL 37.796875 0 \nL 37.796875 17.1875 \nL 4.890625 17.1875 \nL 4.890625 26.703125 \nz\n\" id=\"DejaVuSans-52\"/>\n      </defs>\n      <g transform=\"translate(161.616791 347.958438)scale(0.1 -0.1)\">\n       <use xlink:href=\"#DejaVuSans-52\"/>\n       <use x=\"63.623047\" xlink:href=\"#DejaVuSans-48\"/>\n       <use x=\"127.246094\" xlink:href=\"#DejaVuSans-48\"/>\n      </g>\n     </g>\n    </g>\n    <g id=\"xtick_3\">\n     <g id=\"line2d_3\">\n      <g>\n       <use style=\"stroke:#000000;stroke-width:0.8;\" x=\"242.356714\" xlink:href=\"#mcbf3dcf3da\" y=\"333.36\"/>\n      </g>\n     </g>\n     <g id=\"text_3\">\n      <!-- 600 -->\n      <defs>\n       <path d=\"M 33.015625 40.375 \nQ 26.375 40.375 22.484375 35.828125 \nQ 18.609375 31.296875 18.609375 23.390625 \nQ 18.609375 15.53125 22.484375 10.953125 \nQ 26.375 6.390625 33.015625 6.390625 \nQ 39.65625 6.390625 43.53125 10.953125 \nQ 47.40625 15.53125 47.40625 23.390625 \nQ 47.40625 31.296875 43.53125 35.828125 \nQ 39.65625 40.375 33.015625 40.375 \nz\nM 52.59375 71.296875 \nL 52.59375 62.3125 \nQ 48.875 64.0625 45.09375 64.984375 \nQ 41.3125 65.921875 37.59375 65.921875 \nQ 27.828125 65.921875 22.671875 59.328125 \nQ 17.53125 52.734375 16.796875 39.40625 \nQ 19.671875 43.65625 24.015625 45.921875 \nQ 28.375 48.1875 33.59375 48.1875 \nQ 44.578125 48.1875 50.953125 41.515625 \nQ 57.328125 34.859375 57.328125 23.390625 \nQ 57.328125 12.15625 50.6875 5.359375 \nQ 44.046875 -1.421875 33.015625 -1.421875 \nQ 20.359375 -1.421875 13.671875 8.265625 \nQ 6.984375 17.96875 6.984375 36.375 \nQ 6.984375 53.65625 15.1875 63.9375 \nQ 23.390625 74.21875 37.203125 74.21875 \nQ 40.921875 74.21875 44.703125 73.484375 \nQ 48.484375 72.75 52.59375 71.296875 \nz\n\" id=\"DejaVuSans-54\"/>\n      </defs>\n      <g transform=\"translate(232.812964 347.958438)scale(0.1 -0.1)\">\n       <use xlink:href=\"#DejaVuSans-54\"/>\n       <use x=\"63.623047\" xlink:href=\"#DejaVuSans-48\"/>\n       <use x=\"127.246094\" xlink:href=\"#DejaVuSans-48\"/>\n      </g>\n     </g>\n    </g>\n    <g id=\"xtick_4\">\n     <g id=\"line2d_4\">\n      <g>\n       <use style=\"stroke:#000000;stroke-width:0.8;\" x=\"313.552886\" xlink:href=\"#mcbf3dcf3da\" y=\"333.36\"/>\n      </g>\n     </g>\n     <g id=\"text_4\">\n      <!-- 800 -->\n      <defs>\n       <path d=\"M 31.78125 34.625 \nQ 24.75 34.625 20.71875 30.859375 \nQ 16.703125 27.09375 16.703125 20.515625 \nQ 16.703125 13.921875 20.71875 10.15625 \nQ 24.75 6.390625 31.78125 6.390625 \nQ 38.8125 6.390625 42.859375 10.171875 \nQ 46.921875 13.96875 46.921875 20.515625 \nQ 46.921875 27.09375 42.890625 30.859375 \nQ 38.875 34.625 31.78125 34.625 \nz\nM 21.921875 38.8125 \nQ 15.578125 40.375 12.03125 44.71875 \nQ 8.5 49.078125 8.5 55.328125 \nQ 8.5 64.0625 14.71875 69.140625 \nQ 20.953125 74.21875 31.78125 74.21875 \nQ 42.671875 74.21875 48.875 69.140625 \nQ 55.078125 64.0625 55.078125 55.328125 \nQ 55.078125 49.078125 51.53125 44.71875 \nQ 48 40.375 41.703125 38.8125 \nQ 48.828125 37.15625 52.796875 32.3125 \nQ 56.78125 27.484375 56.78125 20.515625 \nQ 56.78125 9.90625 50.3125 4.234375 \nQ 43.84375 -1.421875 31.78125 -1.421875 \nQ 19.734375 -1.421875 13.25 4.234375 \nQ 6.78125 9.90625 6.78125 20.515625 \nQ 6.78125 27.484375 10.78125 32.3125 \nQ 14.796875 37.15625 21.921875 38.8125 \nz\nM 18.3125 54.390625 \nQ 18.3125 48.734375 21.84375 45.5625 \nQ 25.390625 42.390625 31.78125 42.390625 \nQ 38.140625 42.390625 41.71875 45.5625 \nQ 45.3125 48.734375 45.3125 54.390625 \nQ 45.3125 60.0625 41.71875 63.234375 \nQ 38.140625 66.40625 31.78125 66.40625 \nQ 25.390625 66.40625 21.84375 63.234375 \nQ 18.3125 60.0625 18.3125 54.390625 \nz\n\" id=\"DejaVuSans-56\"/>\n      </defs>\n      <g transform=\"translate(304.009136 347.958438)scale(0.1 -0.1)\">\n       <use xlink:href=\"#DejaVuSans-56\"/>\n       <use x=\"63.623047\" xlink:href=\"#DejaVuSans-48\"/>\n       <use x=\"127.246094\" xlink:href=\"#DejaVuSans-48\"/>\n      </g>\n     </g>\n    </g>\n    <g id=\"xtick_5\">\n     <g id=\"line2d_5\">\n      <g>\n       <use style=\"stroke:#000000;stroke-width:0.8;\" x=\"384.749058\" xlink:href=\"#mcbf3dcf3da\" y=\"333.36\"/>\n      </g>\n     </g>\n     <g id=\"text_5\">\n      <!-- 1000 -->\n      <defs>\n       <path d=\"M 12.40625 8.296875 \nL 28.515625 8.296875 \nL 28.515625 63.921875 \nL 10.984375 60.40625 \nL 10.984375 69.390625 \nL 28.421875 72.90625 \nL 38.28125 72.90625 \nL 38.28125 8.296875 \nL 54.390625 8.296875 \nL 54.390625 0 \nL 12.40625 0 \nz\n\" id=\"DejaVuSans-49\"/>\n      </defs>\n      <g transform=\"translate(372.024058 347.958438)scale(0.1 -0.1)\">\n       <use xlink:href=\"#DejaVuSans-49\"/>\n       <use x=\"63.623047\" xlink:href=\"#DejaVuSans-48\"/>\n       <use x=\"127.246094\" xlink:href=\"#DejaVuSans-48\"/>\n       <use x=\"190.869141\" xlink:href=\"#DejaVuSans-48\"/>\n      </g>\n     </g>\n    </g>\n    <g id=\"xtick_6\">\n     <g id=\"line2d_6\">\n      <g>\n       <use style=\"stroke:#000000;stroke-width:0.8;\" x=\"455.94523\" xlink:href=\"#mcbf3dcf3da\" y=\"333.36\"/>\n      </g>\n     </g>\n     <g id=\"text_6\">\n      <!-- 1200 -->\n      <g transform=\"translate(443.22023 347.958438)scale(0.1 -0.1)\">\n       <use xlink:href=\"#DejaVuSans-49\"/>\n       <use x=\"63.623047\" xlink:href=\"#DejaVuSans-50\"/>\n       <use x=\"127.246094\" xlink:href=\"#DejaVuSans-48\"/>\n       <use x=\"190.869141\" xlink:href=\"#DejaVuSans-48\"/>\n      </g>\n     </g>\n    </g>\n    <g id=\"xtick_7\">\n     <g id=\"line2d_7\">\n      <g>\n       <use style=\"stroke:#000000;stroke-width:0.8;\" x=\"527.141403\" xlink:href=\"#mcbf3dcf3da\" y=\"333.36\"/>\n      </g>\n     </g>\n     <g id=\"text_7\">\n      <!-- 1400 -->\n      <g transform=\"translate(514.416403 347.958438)scale(0.1 -0.1)\">\n       <use xlink:href=\"#DejaVuSans-49\"/>\n       <use x=\"63.623047\" xlink:href=\"#DejaVuSans-52\"/>\n       <use x=\"127.246094\" xlink:href=\"#DejaVuSans-48\"/>\n       <use x=\"190.869141\" xlink:href=\"#DejaVuSans-48\"/>\n      </g>\n     </g>\n    </g>\n   </g>\n   <g id=\"matplotlib.axis_2\">\n    <g id=\"ytick_1\">\n     <g id=\"line2d_8\">\n      <defs>\n       <path d=\"M 0 0 \nL -3.5 0 \n\" id=\"m7e3fa417fd\" style=\"stroke:#000000;stroke-width:0.8;\"/>\n      </defs>\n      <g>\n       <use style=\"stroke:#000000;stroke-width:0.8;\" x=\"30.103125\" xlink:href=\"#m7e3fa417fd\" y=\"318.535092\"/>\n      </g>\n     </g>\n     <g id=\"text_8\">\n      <!-- 0.0 -->\n      <defs>\n       <path d=\"M 10.6875 12.40625 \nL 21 12.40625 \nL 21 0 \nL 10.6875 0 \nz\n\" id=\"DejaVuSans-46\"/>\n      </defs>\n      <g transform=\"translate(7.2 322.334311)scale(0.1 -0.1)\">\n       <use xlink:href=\"#DejaVuSans-48\"/>\n       <use x=\"63.623047\" xlink:href=\"#DejaVuSans-46\"/>\n       <use x=\"95.410156\" xlink:href=\"#DejaVuSans-48\"/>\n      </g>\n     </g>\n    </g>\n    <g id=\"ytick_2\">\n     <g id=\"line2d_9\">\n      <g>\n       <use style=\"stroke:#000000;stroke-width:0.8;\" x=\"30.103125\" xlink:href=\"#m7e3fa417fd\" y=\"264.060834\"/>\n      </g>\n     </g>\n     <g id=\"text_9\">\n      <!-- 0.1 -->\n      <g transform=\"translate(7.2 267.860052)scale(0.1 -0.1)\">\n       <use xlink:href=\"#DejaVuSans-48\"/>\n       <use x=\"63.623047\" xlink:href=\"#DejaVuSans-46\"/>\n       <use x=\"95.410156\" xlink:href=\"#DejaVuSans-49\"/>\n      </g>\n     </g>\n    </g>\n    <g id=\"ytick_3\">\n     <g id=\"line2d_10\">\n      <g>\n       <use style=\"stroke:#000000;stroke-width:0.8;\" x=\"30.103125\" xlink:href=\"#m7e3fa417fd\" y=\"209.586575\"/>\n      </g>\n     </g>\n     <g id=\"text_10\">\n      <!-- 0.2 -->\n      <g transform=\"translate(7.2 213.385794)scale(0.1 -0.1)\">\n       <use xlink:href=\"#DejaVuSans-48\"/>\n       <use x=\"63.623047\" xlink:href=\"#DejaVuSans-46\"/>\n       <use x=\"95.410156\" xlink:href=\"#DejaVuSans-50\"/>\n      </g>\n     </g>\n    </g>\n    <g id=\"ytick_4\">\n     <g id=\"line2d_11\">\n      <g>\n       <use style=\"stroke:#000000;stroke-width:0.8;\" x=\"30.103125\" xlink:href=\"#m7e3fa417fd\" y=\"155.112317\"/>\n      </g>\n     </g>\n     <g id=\"text_11\">\n      <!-- 0.3 -->\n      <defs>\n       <path d=\"M 40.578125 39.3125 \nQ 47.65625 37.796875 51.625 33 \nQ 55.609375 28.21875 55.609375 21.1875 \nQ 55.609375 10.40625 48.1875 4.484375 \nQ 40.765625 -1.421875 27.09375 -1.421875 \nQ 22.515625 -1.421875 17.65625 -0.515625 \nQ 12.796875 0.390625 7.625 2.203125 \nL 7.625 11.71875 \nQ 11.71875 9.328125 16.59375 8.109375 \nQ 21.484375 6.890625 26.8125 6.890625 \nQ 36.078125 6.890625 40.9375 10.546875 \nQ 45.796875 14.203125 45.796875 21.1875 \nQ 45.796875 27.640625 41.28125 31.265625 \nQ 36.765625 34.90625 28.71875 34.90625 \nL 20.21875 34.90625 \nL 20.21875 43.015625 \nL 29.109375 43.015625 \nQ 36.375 43.015625 40.234375 45.921875 \nQ 44.09375 48.828125 44.09375 54.296875 \nQ 44.09375 59.90625 40.109375 62.90625 \nQ 36.140625 65.921875 28.71875 65.921875 \nQ 24.65625 65.921875 20.015625 65.03125 \nQ 15.375 64.15625 9.8125 62.3125 \nL 9.8125 71.09375 \nQ 15.4375 72.65625 20.34375 73.4375 \nQ 25.25 74.21875 29.59375 74.21875 \nQ 40.828125 74.21875 47.359375 69.109375 \nQ 53.90625 64.015625 53.90625 55.328125 \nQ 53.90625 49.265625 50.4375 45.09375 \nQ 46.96875 40.921875 40.578125 39.3125 \nz\n\" id=\"DejaVuSans-51\"/>\n      </defs>\n      <g transform=\"translate(7.2 158.911536)scale(0.1 -0.1)\">\n       <use xlink:href=\"#DejaVuSans-48\"/>\n       <use x=\"63.623047\" xlink:href=\"#DejaVuSans-46\"/>\n       <use x=\"95.410156\" xlink:href=\"#DejaVuSans-51\"/>\n      </g>\n     </g>\n    </g>\n    <g id=\"ytick_5\">\n     <g id=\"line2d_12\">\n      <g>\n       <use style=\"stroke:#000000;stroke-width:0.8;\" x=\"30.103125\" xlink:href=\"#m7e3fa417fd\" y=\"100.638059\"/>\n      </g>\n     </g>\n     <g id=\"text_12\">\n      <!-- 0.4 -->\n      <g transform=\"translate(7.2 104.437278)scale(0.1 -0.1)\">\n       <use xlink:href=\"#DejaVuSans-48\"/>\n       <use x=\"63.623047\" xlink:href=\"#DejaVuSans-46\"/>\n       <use x=\"95.410156\" xlink:href=\"#DejaVuSans-52\"/>\n      </g>\n     </g>\n    </g>\n    <g id=\"ytick_6\">\n     <g id=\"line2d_13\">\n      <g>\n       <use style=\"stroke:#000000;stroke-width:0.8;\" x=\"30.103125\" xlink:href=\"#m7e3fa417fd\" y=\"46.163801\"/>\n      </g>\n     </g>\n     <g id=\"text_13\">\n      <!-- 0.5 -->\n      <defs>\n       <path d=\"M 10.796875 72.90625 \nL 49.515625 72.90625 \nL 49.515625 64.59375 \nL 19.828125 64.59375 \nL 19.828125 46.734375 \nQ 21.96875 47.46875 24.109375 47.828125 \nQ 26.265625 48.1875 28.421875 48.1875 \nQ 40.625 48.1875 47.75 41.5 \nQ 54.890625 34.8125 54.890625 23.390625 \nQ 54.890625 11.625 47.5625 5.09375 \nQ 40.234375 -1.421875 26.90625 -1.421875 \nQ 22.3125 -1.421875 17.546875 -0.640625 \nQ 12.796875 0.140625 7.71875 1.703125 \nL 7.71875 11.625 \nQ 12.109375 9.234375 16.796875 8.0625 \nQ 21.484375 6.890625 26.703125 6.890625 \nQ 35.15625 6.890625 40.078125 11.328125 \nQ 45.015625 15.765625 45.015625 23.390625 \nQ 45.015625 31 40.078125 35.4375 \nQ 35.15625 39.890625 26.703125 39.890625 \nQ 22.75 39.890625 18.8125 39.015625 \nQ 14.890625 38.140625 10.796875 36.28125 \nz\n\" id=\"DejaVuSans-53\"/>\n      </defs>\n      <g transform=\"translate(7.2 49.96302)scale(0.1 -0.1)\">\n       <use xlink:href=\"#DejaVuSans-48\"/>\n       <use x=\"63.623047\" xlink:href=\"#DejaVuSans-46\"/>\n       <use x=\"95.410156\" xlink:href=\"#DejaVuSans-53\"/>\n      </g>\n     </g>\n    </g>\n   </g>\n   <g id=\"line2d_14\">\n    <path clip-path=\"url(#p565ab0ccfd)\" d=\"M 55.466761 22.025455 \nL 82.165326 88.577037 \nL 108.863891 144.394828 \nL 135.562455 198.170991 \nL 162.26102 237.310166 \nL 188.959584 265.708105 \nL 215.658149 285.718138 \nL 242.356714 299.285196 \nL 269.055278 307.89685 \nL 295.753843 312.911396 \nL 322.452407 315.721061 \nL 349.150972 317.176433 \nL 375.849536 317.922251 \nL 402.548101 318.269416 \nL 429.246666 318.425699 \nL 455.94523 318.492185 \nL 482.643795 318.518805 \nL 509.342359 318.529444 \nL 536.040924 318.533329 \nL 562.739489 318.534545 \n\" style=\"fill:none;stroke:#1f77b4;stroke-linecap:square;stroke-width:1.5;\"/>\n   </g>\n   <g id=\"patch_3\">\n    <path d=\"M 30.103125 333.36 \nL 30.103125 7.2 \n\" style=\"fill:none;stroke:#000000;stroke-linecap:square;stroke-linejoin:miter;stroke-width:0.8;\"/>\n   </g>\n   <g id=\"patch_4\">\n    <path d=\"M 588.103125 333.36 \nL 588.103125 7.2 \n\" style=\"fill:none;stroke:#000000;stroke-linecap:square;stroke-linejoin:miter;stroke-width:0.8;\"/>\n   </g>\n   <g id=\"patch_5\">\n    <path d=\"M 30.103125 333.36 \nL 588.103125 333.36 \n\" style=\"fill:none;stroke:#000000;stroke-linecap:square;stroke-linejoin:miter;stroke-width:0.8;\"/>\n   </g>\n   <g id=\"patch_6\">\n    <path d=\"M 30.103125 7.2 \nL 588.103125 7.2 \n\" style=\"fill:none;stroke:#000000;stroke-linecap:square;stroke-linejoin:miter;stroke-width:0.8;\"/>\n   </g>\n  </g>\n </g>\n <defs>\n  <clipPath id=\"p565ab0ccfd\">\n   <rect height=\"326.16\" width=\"558\" x=\"30.103125\" y=\"7.2\"/>\n  </clipPath>\n </defs>\n</svg>\n"
          },
          "metadata": {
            "needs_background": "light"
          }
        }
      ]
    },
    {
      "cell_type": "code",
      "metadata": {
        "id": "3Tc_PZcEuhzI",
        "outputId": "1cb0652f-572a-4769-e42c-97a8a0f8df25",
        "colab": {
          "base_uri": "https://localhost:8080/"
        }
      },
      "source": [
        "visualize_predictions(rnn, 99999, 0)"
      ],
      "execution_count": null,
      "outputs": [
        {
          "output_type": "stream",
          "name": "stdout",
          "text": [
            "input:      ++--+++---+++----+-+--+-+-----+-+--+-++++-+----+++\n",
            "target:     11001110001110000101001010000010100101111010000111\n",
            "prediction: 11001110001110000101001010000010100101111010000111\n"
          ]
        }
      ]
    },
    {
      "cell_type": "markdown",
      "metadata": {
        "id": "QJzp5JjWuUDT"
      },
      "source": [
        "### Case 2: 10 additional symbols\n",
        "More iterations are needed to converge, the resulting loss is higher."
      ]
    },
    {
      "cell_type": "code",
      "metadata": {
        "id": "KaM16YwauV5L",
        "outputId": "5681b801-619f-4751-9d39-f856857a5fa2",
        "colab": {
          "base_uri": "https://localhost:8080/",
          "height": 886,
          "referenced_widgets": [
            "c4e1aba88d744cfeb3ef521afed161b3",
            "c561e2c0f8b8492a8b18665e82486fc1",
            "383b4a17858b4ac9bb50b3a47564a8a2",
            "3dda06ad235d4b1b8e018ce6631224e0",
            "3282f65970b9489dacfeebf465eb0f4f",
            "2af2b3798ee54a888720869bbde7d504",
            "0374c44c98b94b08afea2c096036dace",
            "1412e233554648efb5769c244fdbaf2b",
            "ece005475b4e4c1783d024916f4fb5fa",
            "7bb69879b3c94ca8beeca273e154bddc",
            "5cf7f08c4a6d49d08125337bd3c50dc5"
          ]
        }
      },
      "source": [
        "rnn = train_many_to_many_rnn(n_additional_symbols=10, n_iters=4000)"
      ],
      "execution_count": null,
      "outputs": [
        {
          "data": {
            "application/vnd.jupyter.widget-view+json": {
              "model_id": "c4e1aba88d744cfeb3ef521afed161b3",
              "version_major": 2,
              "version_minor": 0
            },
            "text/plain": [
              "  0%|          | 0/4000 [00:00<?, ?it/s]"
            ]
          },
          "metadata": {},
          "output_type": "display_data"
        },
        {
          "output_type": "stream",
          "name": "stdout",
          "text": [
            "iteration 200: loss 0.6791394058227539\n",
            "iteration 400: loss 0.6509730596542359\n",
            "iteration 600: loss 0.597001141166687\n",
            "iteration 800: loss 0.46430978860855104\n",
            "iteration 1000: loss 0.36185636272430416\n",
            "iteration 1200: loss 0.29194607143402096\n",
            "iteration 1400: loss 0.28743749458789825\n",
            "iteration 1600: loss 0.2028092038154602\n",
            "iteration 1800: loss 0.202685067820549\n",
            "iteration 2000: loss 0.1377129690170288\n",
            "iteration 2200: loss 0.09727391933202745\n",
            "iteration 2400: loss 0.0916478097230196\n",
            "iteration 2600: loss 0.11027652328461411\n",
            "iteration 2800: loss 0.06830874230563641\n",
            "iteration 3000: loss 0.08100080782547593\n",
            "iteration 3200: loss 0.11970627084597947\n",
            "iteration 3400: loss 0.07670870947539807\n",
            "iteration 3600: loss 0.12555780127756297\n",
            "iteration 3800: loss 0.07170886358032003\n",
            "iteration 4000: loss 0.08038174585886299\n"
          ]
        },
        {
          "output_type": "display_data",
          "data": {
            "text/plain": [
              "<Figure size 720x432 with 1 Axes>"
            ],
            "image/svg+xml": "<?xml version=\"1.0\" encoding=\"utf-8\" standalone=\"no\"?>\n<!DOCTYPE svg PUBLIC \"-//W3C//DTD SVG 1.1//EN\"\n  \"http://www.w3.org/Graphics/SVG/1.1/DTD/svg11.dtd\">\n<!-- Created with matplotlib (https://matplotlib.org/) -->\n<svg height=\"357.238125pt\" version=\"1.1\" viewBox=\"0 0 595.303125 357.238125\" width=\"595.303125pt\" xmlns=\"http://www.w3.org/2000/svg\" xmlns:xlink=\"http://www.w3.org/1999/xlink\">\n <defs>\n  <style type=\"text/css\">\n*{stroke-linecap:butt;stroke-linejoin:round;}\n  </style>\n </defs>\n <g id=\"figure_1\">\n  <g id=\"patch_1\">\n   <path d=\"M -0 357.238125 \nL 595.303125 357.238125 \nL 595.303125 0 \nL -0 0 \nz\n\" style=\"fill:none;\"/>\n  </g>\n  <g id=\"axes_1\">\n   <g id=\"patch_2\">\n    <path d=\"M 30.103125 333.36 \nL 588.103125 333.36 \nL 588.103125 7.2 \nL 30.103125 7.2 \nz\n\" style=\"fill:#ffffff;\"/>\n   </g>\n   <g id=\"matplotlib.axis_1\">\n    <g id=\"xtick_1\">\n     <g id=\"line2d_1\">\n      <defs>\n       <path d=\"M 0 0 \nL 0 3.5 \n\" id=\"mb6afd6f3a5\" style=\"stroke:#000000;stroke-width:0.8;\"/>\n      </defs>\n      <g>\n       <use style=\"stroke:#000000;stroke-width:0.8;\" x=\"95.514608\" xlink:href=\"#mb6afd6f3a5\" y=\"333.36\"/>\n      </g>\n     </g>\n     <g id=\"text_1\">\n      <!-- 500 -->\n      <defs>\n       <path d=\"M 10.796875 72.90625 \nL 49.515625 72.90625 \nL 49.515625 64.59375 \nL 19.828125 64.59375 \nL 19.828125 46.734375 \nQ 21.96875 47.46875 24.109375 47.828125 \nQ 26.265625 48.1875 28.421875 48.1875 \nQ 40.625 48.1875 47.75 41.5 \nQ 54.890625 34.8125 54.890625 23.390625 \nQ 54.890625 11.625 47.5625 5.09375 \nQ 40.234375 -1.421875 26.90625 -1.421875 \nQ 22.3125 -1.421875 17.546875 -0.640625 \nQ 12.796875 0.140625 7.71875 1.703125 \nL 7.71875 11.625 \nQ 12.109375 9.234375 16.796875 8.0625 \nQ 21.484375 6.890625 26.703125 6.890625 \nQ 35.15625 6.890625 40.078125 11.328125 \nQ 45.015625 15.765625 45.015625 23.390625 \nQ 45.015625 31 40.078125 35.4375 \nQ 35.15625 39.890625 26.703125 39.890625 \nQ 22.75 39.890625 18.8125 39.015625 \nQ 14.890625 38.140625 10.796875 36.28125 \nz\n\" id=\"DejaVuSans-53\"/>\n       <path d=\"M 31.78125 66.40625 \nQ 24.171875 66.40625 20.328125 58.90625 \nQ 16.5 51.421875 16.5 36.375 \nQ 16.5 21.390625 20.328125 13.890625 \nQ 24.171875 6.390625 31.78125 6.390625 \nQ 39.453125 6.390625 43.28125 13.890625 \nQ 47.125 21.390625 47.125 36.375 \nQ 47.125 51.421875 43.28125 58.90625 \nQ 39.453125 66.40625 31.78125 66.40625 \nz\nM 31.78125 74.21875 \nQ 44.046875 74.21875 50.515625 64.515625 \nQ 56.984375 54.828125 56.984375 36.375 \nQ 56.984375 17.96875 50.515625 8.265625 \nQ 44.046875 -1.421875 31.78125 -1.421875 \nQ 19.53125 -1.421875 13.0625 8.265625 \nQ 6.59375 17.96875 6.59375 36.375 \nQ 6.59375 54.828125 13.0625 64.515625 \nQ 19.53125 74.21875 31.78125 74.21875 \nz\n\" id=\"DejaVuSans-48\"/>\n      </defs>\n      <g transform=\"translate(85.970858 347.958438)scale(0.1 -0.1)\">\n       <use xlink:href=\"#DejaVuSans-53\"/>\n       <use x=\"63.623047\" xlink:href=\"#DejaVuSans-48\"/>\n       <use x=\"127.246094\" xlink:href=\"#DejaVuSans-48\"/>\n      </g>\n     </g>\n    </g>\n    <g id=\"xtick_2\">\n     <g id=\"line2d_2\">\n      <g>\n       <use style=\"stroke:#000000;stroke-width:0.8;\" x=\"162.26102\" xlink:href=\"#mb6afd6f3a5\" y=\"333.36\"/>\n      </g>\n     </g>\n     <g id=\"text_2\">\n      <!-- 1000 -->\n      <defs>\n       <path d=\"M 12.40625 8.296875 \nL 28.515625 8.296875 \nL 28.515625 63.921875 \nL 10.984375 60.40625 \nL 10.984375 69.390625 \nL 28.421875 72.90625 \nL 38.28125 72.90625 \nL 38.28125 8.296875 \nL 54.390625 8.296875 \nL 54.390625 0 \nL 12.40625 0 \nz\n\" id=\"DejaVuSans-49\"/>\n      </defs>\n      <g transform=\"translate(149.53602 347.958438)scale(0.1 -0.1)\">\n       <use xlink:href=\"#DejaVuSans-49\"/>\n       <use x=\"63.623047\" xlink:href=\"#DejaVuSans-48\"/>\n       <use x=\"127.246094\" xlink:href=\"#DejaVuSans-48\"/>\n       <use x=\"190.869141\" xlink:href=\"#DejaVuSans-48\"/>\n      </g>\n     </g>\n    </g>\n    <g id=\"xtick_3\">\n     <g id=\"line2d_3\">\n      <g>\n       <use style=\"stroke:#000000;stroke-width:0.8;\" x=\"229.007431\" xlink:href=\"#mb6afd6f3a5\" y=\"333.36\"/>\n      </g>\n     </g>\n     <g id=\"text_3\">\n      <!-- 1500 -->\n      <g transform=\"translate(216.282431 347.958438)scale(0.1 -0.1)\">\n       <use xlink:href=\"#DejaVuSans-49\"/>\n       <use x=\"63.623047\" xlink:href=\"#DejaVuSans-53\"/>\n       <use x=\"127.246094\" xlink:href=\"#DejaVuSans-48\"/>\n       <use x=\"190.869141\" xlink:href=\"#DejaVuSans-48\"/>\n      </g>\n     </g>\n    </g>\n    <g id=\"xtick_4\">\n     <g id=\"line2d_4\">\n      <g>\n       <use style=\"stroke:#000000;stroke-width:0.8;\" x=\"295.753843\" xlink:href=\"#mb6afd6f3a5\" y=\"333.36\"/>\n      </g>\n     </g>\n     <g id=\"text_4\">\n      <!-- 2000 -->\n      <defs>\n       <path d=\"M 19.1875 8.296875 \nL 53.609375 8.296875 \nL 53.609375 0 \nL 7.328125 0 \nL 7.328125 8.296875 \nQ 12.9375 14.109375 22.625 23.890625 \nQ 32.328125 33.6875 34.8125 36.53125 \nQ 39.546875 41.84375 41.421875 45.53125 \nQ 43.3125 49.21875 43.3125 52.78125 \nQ 43.3125 58.59375 39.234375 62.25 \nQ 35.15625 65.921875 28.609375 65.921875 \nQ 23.96875 65.921875 18.8125 64.3125 \nQ 13.671875 62.703125 7.8125 59.421875 \nL 7.8125 69.390625 \nQ 13.765625 71.78125 18.9375 73 \nQ 24.125 74.21875 28.421875 74.21875 \nQ 39.75 74.21875 46.484375 68.546875 \nQ 53.21875 62.890625 53.21875 53.421875 \nQ 53.21875 48.921875 51.53125 44.890625 \nQ 49.859375 40.875 45.40625 35.40625 \nQ 44.1875 33.984375 37.640625 27.21875 \nQ 31.109375 20.453125 19.1875 8.296875 \nz\n\" id=\"DejaVuSans-50\"/>\n      </defs>\n      <g transform=\"translate(283.028843 347.958438)scale(0.1 -0.1)\">\n       <use xlink:href=\"#DejaVuSans-50\"/>\n       <use x=\"63.623047\" xlink:href=\"#DejaVuSans-48\"/>\n       <use x=\"127.246094\" xlink:href=\"#DejaVuSans-48\"/>\n       <use x=\"190.869141\" xlink:href=\"#DejaVuSans-48\"/>\n      </g>\n     </g>\n    </g>\n    <g id=\"xtick_5\">\n     <g id=\"line2d_5\">\n      <g>\n       <use style=\"stroke:#000000;stroke-width:0.8;\" x=\"362.500254\" xlink:href=\"#mb6afd6f3a5\" y=\"333.36\"/>\n      </g>\n     </g>\n     <g id=\"text_5\">\n      <!-- 2500 -->\n      <g transform=\"translate(349.775254 347.958438)scale(0.1 -0.1)\">\n       <use xlink:href=\"#DejaVuSans-50\"/>\n       <use x=\"63.623047\" xlink:href=\"#DejaVuSans-53\"/>\n       <use x=\"127.246094\" xlink:href=\"#DejaVuSans-48\"/>\n       <use x=\"190.869141\" xlink:href=\"#DejaVuSans-48\"/>\n      </g>\n     </g>\n    </g>\n    <g id=\"xtick_6\">\n     <g id=\"line2d_6\">\n      <g>\n       <use style=\"stroke:#000000;stroke-width:0.8;\" x=\"429.246666\" xlink:href=\"#mb6afd6f3a5\" y=\"333.36\"/>\n      </g>\n     </g>\n     <g id=\"text_6\">\n      <!-- 3000 -->\n      <defs>\n       <path d=\"M 40.578125 39.3125 \nQ 47.65625 37.796875 51.625 33 \nQ 55.609375 28.21875 55.609375 21.1875 \nQ 55.609375 10.40625 48.1875 4.484375 \nQ 40.765625 -1.421875 27.09375 -1.421875 \nQ 22.515625 -1.421875 17.65625 -0.515625 \nQ 12.796875 0.390625 7.625 2.203125 \nL 7.625 11.71875 \nQ 11.71875 9.328125 16.59375 8.109375 \nQ 21.484375 6.890625 26.8125 6.890625 \nQ 36.078125 6.890625 40.9375 10.546875 \nQ 45.796875 14.203125 45.796875 21.1875 \nQ 45.796875 27.640625 41.28125 31.265625 \nQ 36.765625 34.90625 28.71875 34.90625 \nL 20.21875 34.90625 \nL 20.21875 43.015625 \nL 29.109375 43.015625 \nQ 36.375 43.015625 40.234375 45.921875 \nQ 44.09375 48.828125 44.09375 54.296875 \nQ 44.09375 59.90625 40.109375 62.90625 \nQ 36.140625 65.921875 28.71875 65.921875 \nQ 24.65625 65.921875 20.015625 65.03125 \nQ 15.375 64.15625 9.8125 62.3125 \nL 9.8125 71.09375 \nQ 15.4375 72.65625 20.34375 73.4375 \nQ 25.25 74.21875 29.59375 74.21875 \nQ 40.828125 74.21875 47.359375 69.109375 \nQ 53.90625 64.015625 53.90625 55.328125 \nQ 53.90625 49.265625 50.4375 45.09375 \nQ 46.96875 40.921875 40.578125 39.3125 \nz\n\" id=\"DejaVuSans-51\"/>\n      </defs>\n      <g transform=\"translate(416.521666 347.958438)scale(0.1 -0.1)\">\n       <use xlink:href=\"#DejaVuSans-51\"/>\n       <use x=\"63.623047\" xlink:href=\"#DejaVuSans-48\"/>\n       <use x=\"127.246094\" xlink:href=\"#DejaVuSans-48\"/>\n       <use x=\"190.869141\" xlink:href=\"#DejaVuSans-48\"/>\n      </g>\n     </g>\n    </g>\n    <g id=\"xtick_7\">\n     <g id=\"line2d_7\">\n      <g>\n       <use style=\"stroke:#000000;stroke-width:0.8;\" x=\"495.993077\" xlink:href=\"#mb6afd6f3a5\" y=\"333.36\"/>\n      </g>\n     </g>\n     <g id=\"text_7\">\n      <!-- 3500 -->\n      <g transform=\"translate(483.268077 347.958438)scale(0.1 -0.1)\">\n       <use xlink:href=\"#DejaVuSans-51\"/>\n       <use x=\"63.623047\" xlink:href=\"#DejaVuSans-53\"/>\n       <use x=\"127.246094\" xlink:href=\"#DejaVuSans-48\"/>\n       <use x=\"190.869141\" xlink:href=\"#DejaVuSans-48\"/>\n      </g>\n     </g>\n    </g>\n    <g id=\"xtick_8\">\n     <g id=\"line2d_8\">\n      <g>\n       <use style=\"stroke:#000000;stroke-width:0.8;\" x=\"562.739489\" xlink:href=\"#mb6afd6f3a5\" y=\"333.36\"/>\n      </g>\n     </g>\n     <g id=\"text_8\">\n      <!-- 4000 -->\n      <defs>\n       <path d=\"M 37.796875 64.3125 \nL 12.890625 25.390625 \nL 37.796875 25.390625 \nz\nM 35.203125 72.90625 \nL 47.609375 72.90625 \nL 47.609375 25.390625 \nL 58.015625 25.390625 \nL 58.015625 17.1875 \nL 47.609375 17.1875 \nL 47.609375 0 \nL 37.796875 0 \nL 37.796875 17.1875 \nL 4.890625 17.1875 \nL 4.890625 26.703125 \nz\n\" id=\"DejaVuSans-52\"/>\n      </defs>\n      <g transform=\"translate(550.014489 347.958438)scale(0.1 -0.1)\">\n       <use xlink:href=\"#DejaVuSans-52\"/>\n       <use x=\"63.623047\" xlink:href=\"#DejaVuSans-48\"/>\n       <use x=\"127.246094\" xlink:href=\"#DejaVuSans-48\"/>\n       <use x=\"190.869141\" xlink:href=\"#DejaVuSans-48\"/>\n      </g>\n     </g>\n    </g>\n   </g>\n   <g id=\"matplotlib.axis_2\">\n    <g id=\"ytick_1\">\n     <g id=\"line2d_9\">\n      <defs>\n       <path d=\"M 0 0 \nL -3.5 0 \n\" id=\"me476b2bec4\" style=\"stroke:#000000;stroke-width:0.8;\"/>\n      </defs>\n      <g>\n       <use style=\"stroke:#000000;stroke-width:0.8;\" x=\"30.103125\" xlink:href=\"#me476b2bec4\" y=\"303.150992\"/>\n      </g>\n     </g>\n     <g id=\"text_9\">\n      <!-- 0.1 -->\n      <defs>\n       <path d=\"M 10.6875 12.40625 \nL 21 12.40625 \nL 21 0 \nL 10.6875 0 \nz\n\" id=\"DejaVuSans-46\"/>\n      </defs>\n      <g transform=\"translate(7.2 306.950211)scale(0.1 -0.1)\">\n       <use xlink:href=\"#DejaVuSans-48\"/>\n       <use x=\"63.623047\" xlink:href=\"#DejaVuSans-46\"/>\n       <use x=\"95.410156\" xlink:href=\"#DejaVuSans-49\"/>\n      </g>\n     </g>\n    </g>\n    <g id=\"ytick_2\">\n     <g id=\"line2d_10\">\n      <g>\n       <use style=\"stroke:#000000;stroke-width:0.8;\" x=\"30.103125\" xlink:href=\"#me476b2bec4\" y=\"254.609046\"/>\n      </g>\n     </g>\n     <g id=\"text_10\">\n      <!-- 0.2 -->\n      <g transform=\"translate(7.2 258.408265)scale(0.1 -0.1)\">\n       <use xlink:href=\"#DejaVuSans-48\"/>\n       <use x=\"63.623047\" xlink:href=\"#DejaVuSans-46\"/>\n       <use x=\"95.410156\" xlink:href=\"#DejaVuSans-50\"/>\n      </g>\n     </g>\n    </g>\n    <g id=\"ytick_3\">\n     <g id=\"line2d_11\">\n      <g>\n       <use style=\"stroke:#000000;stroke-width:0.8;\" x=\"30.103125\" xlink:href=\"#me476b2bec4\" y=\"206.0671\"/>\n      </g>\n     </g>\n     <g id=\"text_11\">\n      <!-- 0.3 -->\n      <g transform=\"translate(7.2 209.866319)scale(0.1 -0.1)\">\n       <use xlink:href=\"#DejaVuSans-48\"/>\n       <use x=\"63.623047\" xlink:href=\"#DejaVuSans-46\"/>\n       <use x=\"95.410156\" xlink:href=\"#DejaVuSans-51\"/>\n      </g>\n     </g>\n    </g>\n    <g id=\"ytick_4\">\n     <g id=\"line2d_12\">\n      <g>\n       <use style=\"stroke:#000000;stroke-width:0.8;\" x=\"30.103125\" xlink:href=\"#me476b2bec4\" y=\"157.525154\"/>\n      </g>\n     </g>\n     <g id=\"text_12\">\n      <!-- 0.4 -->\n      <g transform=\"translate(7.2 161.324373)scale(0.1 -0.1)\">\n       <use xlink:href=\"#DejaVuSans-48\"/>\n       <use x=\"63.623047\" xlink:href=\"#DejaVuSans-46\"/>\n       <use x=\"95.410156\" xlink:href=\"#DejaVuSans-52\"/>\n      </g>\n     </g>\n    </g>\n    <g id=\"ytick_5\">\n     <g id=\"line2d_13\">\n      <g>\n       <use style=\"stroke:#000000;stroke-width:0.8;\" x=\"30.103125\" xlink:href=\"#me476b2bec4\" y=\"108.983208\"/>\n      </g>\n     </g>\n     <g id=\"text_13\">\n      <!-- 0.5 -->\n      <g transform=\"translate(7.2 112.782427)scale(0.1 -0.1)\">\n       <use xlink:href=\"#DejaVuSans-48\"/>\n       <use x=\"63.623047\" xlink:href=\"#DejaVuSans-46\"/>\n       <use x=\"95.410156\" xlink:href=\"#DejaVuSans-53\"/>\n      </g>\n     </g>\n    </g>\n    <g id=\"ytick_6\">\n     <g id=\"line2d_14\">\n      <g>\n       <use style=\"stroke:#000000;stroke-width:0.8;\" x=\"30.103125\" xlink:href=\"#me476b2bec4\" y=\"60.441262\"/>\n      </g>\n     </g>\n     <g id=\"text_14\">\n      <!-- 0.6 -->\n      <defs>\n       <path d=\"M 33.015625 40.375 \nQ 26.375 40.375 22.484375 35.828125 \nQ 18.609375 31.296875 18.609375 23.390625 \nQ 18.609375 15.53125 22.484375 10.953125 \nQ 26.375 6.390625 33.015625 6.390625 \nQ 39.65625 6.390625 43.53125 10.953125 \nQ 47.40625 15.53125 47.40625 23.390625 \nQ 47.40625 31.296875 43.53125 35.828125 \nQ 39.65625 40.375 33.015625 40.375 \nz\nM 52.59375 71.296875 \nL 52.59375 62.3125 \nQ 48.875 64.0625 45.09375 64.984375 \nQ 41.3125 65.921875 37.59375 65.921875 \nQ 27.828125 65.921875 22.671875 59.328125 \nQ 17.53125 52.734375 16.796875 39.40625 \nQ 19.671875 43.65625 24.015625 45.921875 \nQ 28.375 48.1875 33.59375 48.1875 \nQ 44.578125 48.1875 50.953125 41.515625 \nQ 57.328125 34.859375 57.328125 23.390625 \nQ 57.328125 12.15625 50.6875 5.359375 \nQ 44.046875 -1.421875 33.015625 -1.421875 \nQ 20.359375 -1.421875 13.671875 8.265625 \nQ 6.984375 17.96875 6.984375 36.375 \nQ 6.984375 53.65625 15.1875 63.9375 \nQ 23.390625 74.21875 37.203125 74.21875 \nQ 40.921875 74.21875 44.703125 73.484375 \nQ 48.484375 72.75 52.59375 71.296875 \nz\n\" id=\"DejaVuSans-54\"/>\n      </defs>\n      <g transform=\"translate(7.2 64.240481)scale(0.1 -0.1)\">\n       <use xlink:href=\"#DejaVuSans-48\"/>\n       <use x=\"63.623047\" xlink:href=\"#DejaVuSans-46\"/>\n       <use x=\"95.410156\" xlink:href=\"#DejaVuSans-54\"/>\n      </g>\n     </g>\n    </g>\n    <g id=\"ytick_7\">\n     <g id=\"line2d_15\">\n      <g>\n       <use style=\"stroke:#000000;stroke-width:0.8;\" x=\"30.103125\" xlink:href=\"#me476b2bec4\" y=\"11.899316\"/>\n      </g>\n     </g>\n     <g id=\"text_15\">\n      <!-- 0.7 -->\n      <defs>\n       <path d=\"M 8.203125 72.90625 \nL 55.078125 72.90625 \nL 55.078125 68.703125 \nL 28.609375 0 \nL 18.3125 0 \nL 43.21875 64.59375 \nL 8.203125 64.59375 \nz\n\" id=\"DejaVuSans-55\"/>\n      </defs>\n      <g transform=\"translate(7.2 15.698535)scale(0.1 -0.1)\">\n       <use xlink:href=\"#DejaVuSans-48\"/>\n       <use x=\"63.623047\" xlink:href=\"#DejaVuSans-46\"/>\n       <use x=\"95.410156\" xlink:href=\"#DejaVuSans-55\"/>\n      </g>\n     </g>\n    </g>\n   </g>\n   <g id=\"line2d_16\">\n    <path clip-path=\"url(#p6172f99c45)\" d=\"M 55.466761 22.025455 \nL 82.165326 35.697947 \nL 108.863891 61.896967 \nL 135.562455 126.307931 \nL 162.26102 176.040818 \nL 188.959584 209.976634 \nL 215.658149 212.165185 \nL 242.356714 253.245404 \nL 269.055278 253.305662 \nL 295.753843 284.844383 \nL 322.452407 304.474285 \nL 349.150972 307.205308 \nL 375.849536 298.162568 \nL 402.548101 318.534545 \nL 429.246666 312.37357 \nL 455.94523 293.585185 \nL 482.643795 314.457038 \nL 509.342359 290.744738 \nL 536.040924 316.88406 \nL 562.739489 312.674075 \n\" style=\"fill:none;stroke:#1f77b4;stroke-linecap:square;stroke-width:1.5;\"/>\n   </g>\n   <g id=\"patch_3\">\n    <path d=\"M 30.103125 333.36 \nL 30.103125 7.2 \n\" style=\"fill:none;stroke:#000000;stroke-linecap:square;stroke-linejoin:miter;stroke-width:0.8;\"/>\n   </g>\n   <g id=\"patch_4\">\n    <path d=\"M 588.103125 333.36 \nL 588.103125 7.2 \n\" style=\"fill:none;stroke:#000000;stroke-linecap:square;stroke-linejoin:miter;stroke-width:0.8;\"/>\n   </g>\n   <g id=\"patch_5\">\n    <path d=\"M 30.103125 333.36 \nL 588.103125 333.36 \n\" style=\"fill:none;stroke:#000000;stroke-linecap:square;stroke-linejoin:miter;stroke-width:0.8;\"/>\n   </g>\n   <g id=\"patch_6\">\n    <path d=\"M 30.103125 7.2 \nL 588.103125 7.2 \n\" style=\"fill:none;stroke:#000000;stroke-linecap:square;stroke-linejoin:miter;stroke-width:0.8;\"/>\n   </g>\n  </g>\n </g>\n <defs>\n  <clipPath id=\"p6172f99c45\">\n   <rect height=\"326.16\" width=\"558\" x=\"30.103125\" y=\"7.2\"/>\n  </clipPath>\n </defs>\n</svg>\n"
          },
          "metadata": {
            "needs_background": "light"
          }
        }
      ]
    },
    {
      "cell_type": "code",
      "metadata": {
        "id": "uZe08YT5yvI7",
        "outputId": "45d482a3-4182-4b45-a0ea-472f6a27f7eb",
        "colab": {
          "base_uri": "https://localhost:8080/"
        }
      },
      "source": [
        "visualize_predictions(rnn, 99999, 10)"
      ],
      "execution_count": null,
      "outputs": [
        {
          "metadata": {
            "tags": null
          },
          "name": "stdout",
          "output_type": "stream",
          "text": [
            "input:      -bjgcacjfh+bcehegajbhg-f-fiefjchcge-ic++dh+iehfb+c\n",
            "target:     00000000001111111111110000000000000000111111111111\n",
            "prediction: 00000000001111111111110000000000000000111111111111\n"
          ]
        }
      ]
    },
    {
      "cell_type": "markdown",
      "metadata": {
        "id": "keemCRz71hPU"
      },
      "source": [
        "### Case 3: 26 additional symbols\n",
        "Note that there are 28 symbols but only 16 components in the hidden state.\n",
        "This is typical for practical applications: the size of vocabulary is larger than the number of components of the hidden state.\n",
        "\n",
        "The loss is high during training, more iterations don't help."
      ]
    },
    {
      "cell_type": "code",
      "metadata": {
        "id": "wgfNPYIovpq6",
        "outputId": "042884f3-6d30-48a2-e03a-03efd7f0a4a8",
        "colab": {
          "base_uri": "https://localhost:8080/",
          "height": 886,
          "referenced_widgets": [
            "85e7313cf70143dd88a188dfd8f30cb4",
            "afbe003a5a574646926fa087d8ae47de",
            "2e9ca4de68324f5d81601b6758d30954",
            "63670cb5a5c04ac0a94228cbd01d88e7",
            "f12aabaa8b3d41fba63ace51510c5dcf",
            "72714516964b4d56be7e5b54592bce4b",
            "28a85d014de54eebab7cd761bbe10cc9",
            "e8ce658d7c384ac48fc1e69a2cbfe2e4",
            "618025c1792e4293928b50c99e7d2394",
            "7124450fc4b2409ba73b92bc19cbb045",
            "14b3f72897d9495bbf0d4b2f9cefe695"
          ]
        }
      },
      "source": [
        "rnn = train_many_to_many_rnn(n_additional_symbols=26, n_iters=15000)"
      ],
      "execution_count": null,
      "outputs": [
        {
          "output_type": "display_data",
          "data": {
            "text/plain": [
              "  0%|          | 0/15000 [00:00<?, ?it/s]"
            ],
            "application/vnd.jupyter.widget-view+json": {
              "version_major": 2,
              "version_minor": 0,
              "model_id": "85e7313cf70143dd88a188dfd8f30cb4"
            }
          },
          "metadata": {}
        },
        {
          "output_type": "stream",
          "name": "stdout",
          "text": [
            "iteration 750: loss 0.6752082318623861\n",
            "iteration 1500: loss 0.6003898242696126\n",
            "iteration 2250: loss 0.5261197650766373\n",
            "iteration 3000: loss 1.3373707332658769\n",
            "iteration 3750: loss 0.2629711418664456\n",
            "iteration 4500: loss 0.16076250575383505\n",
            "iteration 5250: loss 0.1678879845571192\n",
            "iteration 6000: loss 0.2180692776807553\n",
            "iteration 6750: loss 0.21443809777196515\n",
            "iteration 7500: loss 0.2402392353184087\n",
            "iteration 8250: loss 0.29097282886009934\n",
            "iteration 9000: loss 0.34977231500032024\n",
            "iteration 9750: loss 0.2900275364629866\n",
            "iteration 10500: loss 0.6044278183942958\n",
            "iteration 11250: loss 1.6986582884546884\n",
            "iteration 12000: loss 3.6633193520338687\n",
            "iteration 12750: loss 6.110853751262439\n",
            "iteration 13500: loss 11.269623892651133\n",
            "iteration 14250: loss 12.428363972543531\n",
            "iteration 15000: loss 7.6246637913960935\n"
          ]
        },
        {
          "output_type": "display_data",
          "data": {
            "text/plain": [
              "<Figure size 720x432 with 1 Axes>"
            ],
            "image/svg+xml": "<?xml version=\"1.0\" encoding=\"utf-8\" standalone=\"no\"?>\n<!DOCTYPE svg PUBLIC \"-//W3C//DTD SVG 1.1//EN\"\n  \"http://www.w3.org/Graphics/SVG/1.1/DTD/svg11.dtd\">\n<!-- Created with matplotlib (https://matplotlib.org/) -->\n<svg height=\"357.238125pt\" version=\"1.1\" viewBox=\"0 0 592.125 357.238125\" width=\"592.125pt\" xmlns=\"http://www.w3.org/2000/svg\" xmlns:xlink=\"http://www.w3.org/1999/xlink\">\n <defs>\n  <style type=\"text/css\">\n*{stroke-linecap:butt;stroke-linejoin:round;}\n  </style>\n </defs>\n <g id=\"figure_1\">\n  <g id=\"patch_1\">\n   <path d=\"M 0 357.238125 \nL 592.125 357.238125 \nL 592.125 0 \nL 0 0 \nz\n\" style=\"fill:none;\"/>\n  </g>\n  <g id=\"axes_1\">\n   <g id=\"patch_2\">\n    <path d=\"M 26.925 333.36 \nL 584.925 333.36 \nL 584.925 7.2 \nL 26.925 7.2 \nz\n\" style=\"fill:#ffffff;\"/>\n   </g>\n   <g id=\"matplotlib.axis_1\">\n    <g id=\"xtick_1\">\n     <g id=\"line2d_1\">\n      <defs>\n       <path d=\"M 0 0 \nL 0 3.5 \n\" id=\"mf11dc2c415\" style=\"stroke:#000000;stroke-width:0.8;\"/>\n      </defs>\n      <g>\n       <use style=\"stroke:#000000;stroke-width:0.8;\" x=\"96.786244\" xlink:href=\"#mf11dc2c415\" y=\"333.36\"/>\n      </g>\n     </g>\n     <g id=\"text_1\">\n      <!-- 2000 -->\n      <defs>\n       <path d=\"M 19.1875 8.296875 \nL 53.609375 8.296875 \nL 53.609375 0 \nL 7.328125 0 \nL 7.328125 8.296875 \nQ 12.9375 14.109375 22.625 23.890625 \nQ 32.328125 33.6875 34.8125 36.53125 \nQ 39.546875 41.84375 41.421875 45.53125 \nQ 43.3125 49.21875 43.3125 52.78125 \nQ 43.3125 58.59375 39.234375 62.25 \nQ 35.15625 65.921875 28.609375 65.921875 \nQ 23.96875 65.921875 18.8125 64.3125 \nQ 13.671875 62.703125 7.8125 59.421875 \nL 7.8125 69.390625 \nQ 13.765625 71.78125 18.9375 73 \nQ 24.125 74.21875 28.421875 74.21875 \nQ 39.75 74.21875 46.484375 68.546875 \nQ 53.21875 62.890625 53.21875 53.421875 \nQ 53.21875 48.921875 51.53125 44.890625 \nQ 49.859375 40.875 45.40625 35.40625 \nQ 44.1875 33.984375 37.640625 27.21875 \nQ 31.109375 20.453125 19.1875 8.296875 \nz\n\" id=\"DejaVuSans-50\"/>\n       <path d=\"M 31.78125 66.40625 \nQ 24.171875 66.40625 20.328125 58.90625 \nQ 16.5 51.421875 16.5 36.375 \nQ 16.5 21.390625 20.328125 13.890625 \nQ 24.171875 6.390625 31.78125 6.390625 \nQ 39.453125 6.390625 43.28125 13.890625 \nQ 47.125 21.390625 47.125 36.375 \nQ 47.125 51.421875 43.28125 58.90625 \nQ 39.453125 66.40625 31.78125 66.40625 \nz\nM 31.78125 74.21875 \nQ 44.046875 74.21875 50.515625 64.515625 \nQ 56.984375 54.828125 56.984375 36.375 \nQ 56.984375 17.96875 50.515625 8.265625 \nQ 44.046875 -1.421875 31.78125 -1.421875 \nQ 19.53125 -1.421875 13.0625 8.265625 \nQ 6.59375 17.96875 6.59375 36.375 \nQ 6.59375 54.828125 13.0625 64.515625 \nQ 19.53125 74.21875 31.78125 74.21875 \nz\n\" id=\"DejaVuSans-48\"/>\n      </defs>\n      <g transform=\"translate(84.061244 347.958438)scale(0.1 -0.1)\">\n       <use xlink:href=\"#DejaVuSans-50\"/>\n       <use x=\"63.623047\" xlink:href=\"#DejaVuSans-48\"/>\n       <use x=\"127.246094\" xlink:href=\"#DejaVuSans-48\"/>\n       <use x=\"190.869141\" xlink:href=\"#DejaVuSans-48\"/>\n      </g>\n     </g>\n    </g>\n    <g id=\"xtick_2\">\n     <g id=\"line2d_2\">\n      <g>\n       <use style=\"stroke:#000000;stroke-width:0.8;\" x=\"167.982416\" xlink:href=\"#mf11dc2c415\" y=\"333.36\"/>\n      </g>\n     </g>\n     <g id=\"text_2\">\n      <!-- 4000 -->\n      <defs>\n       <path d=\"M 37.796875 64.3125 \nL 12.890625 25.390625 \nL 37.796875 25.390625 \nz\nM 35.203125 72.90625 \nL 47.609375 72.90625 \nL 47.609375 25.390625 \nL 58.015625 25.390625 \nL 58.015625 17.1875 \nL 47.609375 17.1875 \nL 47.609375 0 \nL 37.796875 0 \nL 37.796875 17.1875 \nL 4.890625 17.1875 \nL 4.890625 26.703125 \nz\n\" id=\"DejaVuSans-52\"/>\n      </defs>\n      <g transform=\"translate(155.257416 347.958438)scale(0.1 -0.1)\">\n       <use xlink:href=\"#DejaVuSans-52\"/>\n       <use x=\"63.623047\" xlink:href=\"#DejaVuSans-48\"/>\n       <use x=\"127.246094\" xlink:href=\"#DejaVuSans-48\"/>\n       <use x=\"190.869141\" xlink:href=\"#DejaVuSans-48\"/>\n      </g>\n     </g>\n    </g>\n    <g id=\"xtick_3\">\n     <g id=\"line2d_3\">\n      <g>\n       <use style=\"stroke:#000000;stroke-width:0.8;\" x=\"239.178589\" xlink:href=\"#mf11dc2c415\" y=\"333.36\"/>\n      </g>\n     </g>\n     <g id=\"text_3\">\n      <!-- 6000 -->\n      <defs>\n       <path d=\"M 33.015625 40.375 \nQ 26.375 40.375 22.484375 35.828125 \nQ 18.609375 31.296875 18.609375 23.390625 \nQ 18.609375 15.53125 22.484375 10.953125 \nQ 26.375 6.390625 33.015625 6.390625 \nQ 39.65625 6.390625 43.53125 10.953125 \nQ 47.40625 15.53125 47.40625 23.390625 \nQ 47.40625 31.296875 43.53125 35.828125 \nQ 39.65625 40.375 33.015625 40.375 \nz\nM 52.59375 71.296875 \nL 52.59375 62.3125 \nQ 48.875 64.0625 45.09375 64.984375 \nQ 41.3125 65.921875 37.59375 65.921875 \nQ 27.828125 65.921875 22.671875 59.328125 \nQ 17.53125 52.734375 16.796875 39.40625 \nQ 19.671875 43.65625 24.015625 45.921875 \nQ 28.375 48.1875 33.59375 48.1875 \nQ 44.578125 48.1875 50.953125 41.515625 \nQ 57.328125 34.859375 57.328125 23.390625 \nQ 57.328125 12.15625 50.6875 5.359375 \nQ 44.046875 -1.421875 33.015625 -1.421875 \nQ 20.359375 -1.421875 13.671875 8.265625 \nQ 6.984375 17.96875 6.984375 36.375 \nQ 6.984375 53.65625 15.1875 63.9375 \nQ 23.390625 74.21875 37.203125 74.21875 \nQ 40.921875 74.21875 44.703125 73.484375 \nQ 48.484375 72.75 52.59375 71.296875 \nz\n\" id=\"DejaVuSans-54\"/>\n      </defs>\n      <g transform=\"translate(226.453589 347.958438)scale(0.1 -0.1)\">\n       <use xlink:href=\"#DejaVuSans-54\"/>\n       <use x=\"63.623047\" xlink:href=\"#DejaVuSans-48\"/>\n       <use x=\"127.246094\" xlink:href=\"#DejaVuSans-48\"/>\n       <use x=\"190.869141\" xlink:href=\"#DejaVuSans-48\"/>\n      </g>\n     </g>\n    </g>\n    <g id=\"xtick_4\">\n     <g id=\"line2d_4\">\n      <g>\n       <use style=\"stroke:#000000;stroke-width:0.8;\" x=\"310.374761\" xlink:href=\"#mf11dc2c415\" y=\"333.36\"/>\n      </g>\n     </g>\n     <g id=\"text_4\">\n      <!-- 8000 -->\n      <defs>\n       <path d=\"M 31.78125 34.625 \nQ 24.75 34.625 20.71875 30.859375 \nQ 16.703125 27.09375 16.703125 20.515625 \nQ 16.703125 13.921875 20.71875 10.15625 \nQ 24.75 6.390625 31.78125 6.390625 \nQ 38.8125 6.390625 42.859375 10.171875 \nQ 46.921875 13.96875 46.921875 20.515625 \nQ 46.921875 27.09375 42.890625 30.859375 \nQ 38.875 34.625 31.78125 34.625 \nz\nM 21.921875 38.8125 \nQ 15.578125 40.375 12.03125 44.71875 \nQ 8.5 49.078125 8.5 55.328125 \nQ 8.5 64.0625 14.71875 69.140625 \nQ 20.953125 74.21875 31.78125 74.21875 \nQ 42.671875 74.21875 48.875 69.140625 \nQ 55.078125 64.0625 55.078125 55.328125 \nQ 55.078125 49.078125 51.53125 44.71875 \nQ 48 40.375 41.703125 38.8125 \nQ 48.828125 37.15625 52.796875 32.3125 \nQ 56.78125 27.484375 56.78125 20.515625 \nQ 56.78125 9.90625 50.3125 4.234375 \nQ 43.84375 -1.421875 31.78125 -1.421875 \nQ 19.734375 -1.421875 13.25 4.234375 \nQ 6.78125 9.90625 6.78125 20.515625 \nQ 6.78125 27.484375 10.78125 32.3125 \nQ 14.796875 37.15625 21.921875 38.8125 \nz\nM 18.3125 54.390625 \nQ 18.3125 48.734375 21.84375 45.5625 \nQ 25.390625 42.390625 31.78125 42.390625 \nQ 38.140625 42.390625 41.71875 45.5625 \nQ 45.3125 48.734375 45.3125 54.390625 \nQ 45.3125 60.0625 41.71875 63.234375 \nQ 38.140625 66.40625 31.78125 66.40625 \nQ 25.390625 66.40625 21.84375 63.234375 \nQ 18.3125 60.0625 18.3125 54.390625 \nz\n\" id=\"DejaVuSans-56\"/>\n      </defs>\n      <g transform=\"translate(297.649761 347.958438)scale(0.1 -0.1)\">\n       <use xlink:href=\"#DejaVuSans-56\"/>\n       <use x=\"63.623047\" xlink:href=\"#DejaVuSans-48\"/>\n       <use x=\"127.246094\" xlink:href=\"#DejaVuSans-48\"/>\n       <use x=\"190.869141\" xlink:href=\"#DejaVuSans-48\"/>\n      </g>\n     </g>\n    </g>\n    <g id=\"xtick_5\">\n     <g id=\"line2d_5\">\n      <g>\n       <use style=\"stroke:#000000;stroke-width:0.8;\" x=\"381.570933\" xlink:href=\"#mf11dc2c415\" y=\"333.36\"/>\n      </g>\n     </g>\n     <g id=\"text_5\">\n      <!-- 10000 -->\n      <defs>\n       <path d=\"M 12.40625 8.296875 \nL 28.515625 8.296875 \nL 28.515625 63.921875 \nL 10.984375 60.40625 \nL 10.984375 69.390625 \nL 28.421875 72.90625 \nL 38.28125 72.90625 \nL 38.28125 8.296875 \nL 54.390625 8.296875 \nL 54.390625 0 \nL 12.40625 0 \nz\n\" id=\"DejaVuSans-49\"/>\n      </defs>\n      <g transform=\"translate(365.664683 347.958438)scale(0.1 -0.1)\">\n       <use xlink:href=\"#DejaVuSans-49\"/>\n       <use x=\"63.623047\" xlink:href=\"#DejaVuSans-48\"/>\n       <use x=\"127.246094\" xlink:href=\"#DejaVuSans-48\"/>\n       <use x=\"190.869141\" xlink:href=\"#DejaVuSans-48\"/>\n       <use x=\"254.492188\" xlink:href=\"#DejaVuSans-48\"/>\n      </g>\n     </g>\n    </g>\n    <g id=\"xtick_6\">\n     <g id=\"line2d_6\">\n      <g>\n       <use style=\"stroke:#000000;stroke-width:0.8;\" x=\"452.767105\" xlink:href=\"#mf11dc2c415\" y=\"333.36\"/>\n      </g>\n     </g>\n     <g id=\"text_6\">\n      <!-- 12000 -->\n      <g transform=\"translate(436.860855 347.958438)scale(0.1 -0.1)\">\n       <use xlink:href=\"#DejaVuSans-49\"/>\n       <use x=\"63.623047\" xlink:href=\"#DejaVuSans-50\"/>\n       <use x=\"127.246094\" xlink:href=\"#DejaVuSans-48\"/>\n       <use x=\"190.869141\" xlink:href=\"#DejaVuSans-48\"/>\n       <use x=\"254.492188\" xlink:href=\"#DejaVuSans-48\"/>\n      </g>\n     </g>\n    </g>\n    <g id=\"xtick_7\">\n     <g id=\"line2d_7\">\n      <g>\n       <use style=\"stroke:#000000;stroke-width:0.8;\" x=\"523.963278\" xlink:href=\"#mf11dc2c415\" y=\"333.36\"/>\n      </g>\n     </g>\n     <g id=\"text_7\">\n      <!-- 14000 -->\n      <g transform=\"translate(508.057028 347.958438)scale(0.1 -0.1)\">\n       <use xlink:href=\"#DejaVuSans-49\"/>\n       <use x=\"63.623047\" xlink:href=\"#DejaVuSans-52\"/>\n       <use x=\"127.246094\" xlink:href=\"#DejaVuSans-48\"/>\n       <use x=\"190.869141\" xlink:href=\"#DejaVuSans-48\"/>\n       <use x=\"254.492188\" xlink:href=\"#DejaVuSans-48\"/>\n      </g>\n     </g>\n    </g>\n   </g>\n   <g id=\"matplotlib.axis_2\">\n    <g id=\"ytick_1\">\n     <g id=\"line2d_8\">\n      <defs>\n       <path d=\"M 0 0 \nL -3.5 0 \n\" id=\"m5364918b6c\" style=\"stroke:#000000;stroke-width:0.8;\"/>\n      </defs>\n      <g>\n       <use style=\"stroke:#000000;stroke-width:0.8;\" x=\"26.925\" xlink:href=\"#m5364918b6c\" y=\"322.42019\"/>\n      </g>\n     </g>\n     <g id=\"text_8\">\n      <!-- 0 -->\n      <g transform=\"translate(13.5625 326.219409)scale(0.1 -0.1)\">\n       <use xlink:href=\"#DejaVuSans-48\"/>\n      </g>\n     </g>\n    </g>\n    <g id=\"ytick_2\">\n     <g id=\"line2d_9\">\n      <g>\n       <use style=\"stroke:#000000;stroke-width:0.8;\" x=\"26.925\" xlink:href=\"#m5364918b6c\" y=\"274.080001\"/>\n      </g>\n     </g>\n     <g id=\"text_9\">\n      <!-- 2 -->\n      <g transform=\"translate(13.5625 277.87922)scale(0.1 -0.1)\">\n       <use xlink:href=\"#DejaVuSans-50\"/>\n      </g>\n     </g>\n    </g>\n    <g id=\"ytick_3\">\n     <g id=\"line2d_10\">\n      <g>\n       <use style=\"stroke:#000000;stroke-width:0.8;\" x=\"26.925\" xlink:href=\"#m5364918b6c\" y=\"225.739811\"/>\n      </g>\n     </g>\n     <g id=\"text_10\">\n      <!-- 4 -->\n      <g transform=\"translate(13.5625 229.53903)scale(0.1 -0.1)\">\n       <use xlink:href=\"#DejaVuSans-52\"/>\n      </g>\n     </g>\n    </g>\n    <g id=\"ytick_4\">\n     <g id=\"line2d_11\">\n      <g>\n       <use style=\"stroke:#000000;stroke-width:0.8;\" x=\"26.925\" xlink:href=\"#m5364918b6c\" y=\"177.399621\"/>\n      </g>\n     </g>\n     <g id=\"text_11\">\n      <!-- 6 -->\n      <g transform=\"translate(13.5625 181.19884)scale(0.1 -0.1)\">\n       <use xlink:href=\"#DejaVuSans-54\"/>\n      </g>\n     </g>\n    </g>\n    <g id=\"ytick_5\">\n     <g id=\"line2d_12\">\n      <g>\n       <use style=\"stroke:#000000;stroke-width:0.8;\" x=\"26.925\" xlink:href=\"#m5364918b6c\" y=\"129.059432\"/>\n      </g>\n     </g>\n     <g id=\"text_12\">\n      <!-- 8 -->\n      <g transform=\"translate(13.5625 132.85865)scale(0.1 -0.1)\">\n       <use xlink:href=\"#DejaVuSans-56\"/>\n      </g>\n     </g>\n    </g>\n    <g id=\"ytick_6\">\n     <g id=\"line2d_13\">\n      <g>\n       <use style=\"stroke:#000000;stroke-width:0.8;\" x=\"26.925\" xlink:href=\"#m5364918b6c\" y=\"80.719242\"/>\n      </g>\n     </g>\n     <g id=\"text_13\">\n      <!-- 10 -->\n      <g transform=\"translate(7.2 84.518461)scale(0.1 -0.1)\">\n       <use xlink:href=\"#DejaVuSans-49\"/>\n       <use x=\"63.623047\" xlink:href=\"#DejaVuSans-48\"/>\n      </g>\n     </g>\n    </g>\n    <g id=\"ytick_7\">\n     <g id=\"line2d_14\">\n      <g>\n       <use style=\"stroke:#000000;stroke-width:0.8;\" x=\"26.925\" xlink:href=\"#m5364918b6c\" y=\"32.379052\"/>\n      </g>\n     </g>\n     <g id=\"text_14\">\n      <!-- 12 -->\n      <g transform=\"translate(7.2 36.178271)scale(0.1 -0.1)\">\n       <use xlink:href=\"#DejaVuSans-49\"/>\n       <use x=\"63.623047\" xlink:href=\"#DejaVuSans-50\"/>\n      </g>\n     </g>\n    </g>\n   </g>\n   <g id=\"line2d_15\">\n    <path clip-path=\"url(#pab8afdb403)\" d=\"M 52.288636 306.100343 \nL 78.987201 307.908711 \nL 105.685766 309.703826 \nL 132.38433 290.095813 \nL 159.082895 316.064153 \nL 185.781459 318.534545 \nL 212.480024 318.362322 \nL 239.178589 317.149435 \nL 265.877153 317.237201 \nL 292.575718 316.613585 \nL 319.274282 315.38735 \nL 345.972847 313.96616 \nL 372.671411 315.410197 \nL 399.369976 307.811113 \nL 426.068541 281.363459 \nL 452.767105 233.877414 \nL 479.46567 174.720276 \nL 506.164234 50.032312 \nL 532.862799 22.025455 \nL 559.561364 138.131344 \n\" style=\"fill:none;stroke:#1f77b4;stroke-linecap:square;stroke-width:1.5;\"/>\n   </g>\n   <g id=\"patch_3\">\n    <path d=\"M 26.925 333.36 \nL 26.925 7.2 \n\" style=\"fill:none;stroke:#000000;stroke-linecap:square;stroke-linejoin:miter;stroke-width:0.8;\"/>\n   </g>\n   <g id=\"patch_4\">\n    <path d=\"M 584.925 333.36 \nL 584.925 7.2 \n\" style=\"fill:none;stroke:#000000;stroke-linecap:square;stroke-linejoin:miter;stroke-width:0.8;\"/>\n   </g>\n   <g id=\"patch_5\">\n    <path d=\"M 26.925 333.36 \nL 584.925 333.36 \n\" style=\"fill:none;stroke:#000000;stroke-linecap:square;stroke-linejoin:miter;stroke-width:0.8;\"/>\n   </g>\n   <g id=\"patch_6\">\n    <path d=\"M 26.925 7.2 \nL 584.925 7.2 \n\" style=\"fill:none;stroke:#000000;stroke-linecap:square;stroke-linejoin:miter;stroke-width:0.8;\"/>\n   </g>\n  </g>\n </g>\n <defs>\n  <clipPath id=\"pab8afdb403\">\n   <rect height=\"326.16\" width=\"558\" x=\"26.925\" y=\"7.2\"/>\n  </clipPath>\n </defs>\n</svg>\n"
          },
          "metadata": {
            "needs_background": "light"
          }
        }
      ]
    },
    {
      "cell_type": "code",
      "metadata": {
        "id": "PcG5dECzyw8y",
        "outputId": "c5fbeb08-7206-479b-8e8c-459d159d7639",
        "colab": {
          "base_uri": "https://localhost:8080/"
        }
      },
      "source": [
        "visualize_predictions(rnn, 99999, 26)"
      ],
      "execution_count": null,
      "outputs": [
        {
          "metadata": {
            "tags": null
          },
          "name": "stdout",
          "output_type": "stream",
          "text": [
            "input:      bgyshdjxov-hioumrczhusaqboxmqzjuismbvj++jt-xnuqg+h\n",
            "target:     00000000000000000000000000000000000000111100000011\n",
            "prediction: 00000000000000000000000000000000000000111111111111\n"
          ]
        }
      ]
    },
    {
      "cell_type": "markdown",
      "metadata": {
        "id": "GDCDre9iZvhV"
      },
      "source": [
        "<!--@slideshow slide-->\n",
        "## Problem: conflicting updates\n",
        "\n",
        "RNN update rule:\n",
        "$$\n",
        "h_t = f(W_{xh} x_t + W_{hh} h_{t-1})\n",
        "$$\n",
        "\n",
        "**Problem**: $h_t$ is always updated, but _sometimes_ (for some inputs) we want to protect it from updates.\n"
      ]
    },
    {
      "cell_type": "markdown",
      "metadata": {
        "id": "5_753zy54LCv"
      },
      "source": [
        "<!--@slideshow slide-->\n",
        "\n",
        "**Notation**: one-hot encoding of inputs and outputs.\n",
        "\n",
        "**Input**:\n",
        "$x = (0, 1, \\dots)^T$\n",
        "corresponds to `\"+\"` character, and\n",
        "$x = (1, 0, \\dots)^T$\n",
        "corresponds to `\"-\"` character.\n",
        "\n",
        "Any other character is represented as\n",
        "$x = (0, 0, \\dots)^T$\n",
        "\n",
        "**Output**:\n",
        "$h = (0, 1)^T$\n",
        "corresponds to label 1, and\n",
        "$h = (1, 0)^T$\n",
        "corresponds to label 0."
      ]
    },
    {
      "cell_type": "markdown",
      "metadata": {
        "id": "_IzG2sLXZ2-3"
      },
      "source": [
        "<!--@slideshow fragment-->\n",
        "Only the first two components of $x_t$ are relevant, so we want\n",
        "$$\n",
        "W_{xh} = \\begin{pmatrix}\n",
        "1 & 0 & 0 & 0 & \\dots\\\\\n",
        "0 & 1 & 0 & 0 & \\dots\\\\\n",
        "\\end{pmatrix}\n",
        "$$\n",
        "\n",
        "We need the update rule with \"protection\":\n",
        "$$\n",
        "h_t = \\begin{cases}\n",
        "W_{xh} x_t & \\textrm{if }W_{xh} x_t \\textrm{ is nonzero}\\\\\n",
        "h_{t-1}, & \\textrm{if }W_{xh} x_t \\textrm{ is zero}\n",
        "\\end{cases}\n",
        "$$"
      ]
    },
    {
      "cell_type": "markdown",
      "metadata": {
        "id": "Qxr3b0WsW8FX"
      },
      "source": [
        "<!--@slideshow slide-->\n",
        "# Long Short-Term Memory (LSTM)\n",
        "\n",
        "[Sepp Hochreiter and Jürgen Schmidhuber, “Long Short-Term Memory,” Neural Computation 9, no. 8 (1997).](http://citeseerx.ist.psu.edu/viewdoc/download?doi=10.1.1.676.4320&rep=rep1&type=pdf)\n",
        "\n",
        "<table>\n",
        "  <tr>\n",
        "    <td><img src=\"https://3qeqpr26caki16dnhd19sv6by6v-wpengine.netdna-ssl.com/wp-content/uploads/2017/05/Example-of-LSTM-Architecture.png\" height=\"400\"/></td>\n",
        "    <td><img src=\"https://static.tvtropes.org/pmwiki/pub/images/6db_3.jpg\" height=\"400\"/> </td> \n",
        "  </tr>\n",
        "</table>\n"
      ]
    },
    {
      "cell_type": "markdown",
      "metadata": {
        "id": "1tw07ACyaG9z"
      },
      "source": [
        "<!--@slideshow slide-->\n",
        "**Idea**: treat the hidden state as \"memory\" and control its updates depending on the input.\n",
        "\n",
        "> This is the same what we do in the toy example: update the state only for the particular inputs (`\"+\"` or `\"-\"`)."
      ]
    },
    {
      "cell_type": "markdown",
      "metadata": {
        "id": "WrOpWl1ObN8j"
      },
      "source": [
        "<!--@slideshow fragment-->\n",
        "**What we have**: layers (matrices + nonlinearities).\n",
        "\n",
        "**What we want**: memory, conditions (if-else)."
      ]
    },
    {
      "cell_type": "markdown",
      "metadata": {
        "id": "68bKJzYEcGUY"
      },
      "source": [
        "<!--@slideshow slide-->\n",
        "**Memory** will be represented as a vector.\n",
        "- Each element stores a real number.\n",
        "- An element can be erased.\n",
        "- An element can be incremented/decremented."
      ]
    },
    {
      "cell_type": "markdown",
      "metadata": {
        "id": "twT7fysWc8Vq"
      },
      "source": [
        "<!--@slideshow fragment-->\n",
        "**Conditions** correspond to the _sigmoid function_, which returns values between 0 (\"False\") and 1 (\"True\")."
      ]
    },
    {
      "cell_type": "markdown",
      "metadata": {
        "id": "6VLrBYT4doda"
      },
      "source": [
        "<!--@slideshow fragment-->\n",
        "**Memory updates** (increments and decrements) correspond to _tanh_, which returns values between -1 (\"decrement\") and 1 (\"increment\")."
      ]
    },
    {
      "cell_type": "markdown",
      "metadata": {
        "id": "et25hp09jwrK"
      },
      "source": [
        "<!--@slideshow slide-->\n",
        "## 1. Cell state and output gate\n",
        "\n",
        "In general, algorithms don't return the full memory state. So we need to\n",
        "1. Separate the full memory state from the returning state\n",
        "1. Decide which parts of the full memory state to return\n"
      ]
    },
    {
      "cell_type": "markdown",
      "metadata": {
        "id": "OPLv99eVblqw"
      },
      "source": [
        "<!--@slideshow fragment-->\n",
        "The full memory state is called **cell state** $c_t$.\n",
        "\n",
        "From the cell state $c_t$, we \"return\" only some elements.\n"
      ]
    },
    {
      "cell_type": "markdown",
      "metadata": {
        "id": "VPW2_UW0bm8u"
      },
      "source": [
        "<!--@slideshow slide-->\n",
        "We need a function $o_t$ that tells which elements of $c_t$ should be returned:\n",
        "- This function depends on inputs: $o_t(x_t, h_{t-1})$.\n",
        "- For each element, it should \"return\" 0 or 1.\n",
        "- We will _learn_ this function, so represent it as a layer:\n",
        "$$\n",
        "o_t = \\sigma(W_{io} x_t + b_{io} + W_{ho} h_{t-1} + b_{ho})\n",
        "$$\n",
        "\n",
        "The function $o_t$ that decides which parts of memory to return is called **output gate**.\n"
      ]
    },
    {
      "cell_type": "markdown",
      "metadata": {
        "id": "XSyxrcLiboPk"
      },
      "source": [
        "<!--@slideshow fragment-->\n",
        "Also, we control the magnitute of the output using tanh:\n",
        "$$\n",
        "h_t = o_t \\odot \\mathrm{tanh}(c_t)\n",
        "$$"
      ]
    },
    {
      "cell_type": "markdown",
      "metadata": {
        "id": "UyGZO7htvSth"
      },
      "source": [
        "<!--@slideshow slide-->\n",
        "## 2. Update cell state\n",
        "\n",
        "From the input $x_t, h_{t-1}$, we decide how to update the cell state $c_t$ (increment or decrement elements).\n",
        "$$\n",
        "g_t = \\mathrm{tanh}(W_{ig}x_t + b_{ig} + W_{hg}h_{t-1} + b_{hg})\n",
        "$$\n",
        "\n",
        "\n"
      ]
    },
    {
      "cell_type": "markdown",
      "metadata": {
        "id": "kP85swC9b5f_"
      },
      "source": [
        "<!--@slideshow fragment-->\n",
        "But we cannot write\n",
        "$$\n",
        "c_t = g_t\n",
        "$$\n",
        "because we also need to _protect_ some parts of memory."
      ]
    },
    {
      "cell_type": "markdown",
      "metadata": {
        "id": "e9adHtreeyOQ"
      },
      "source": [
        "<!--@slideshow slide-->\n",
        "## 3. Input gate and forget gate\n",
        "\n",
        "To _protect_ some parts of memory $c_t$ from overwriting, we need a function $i_t$ that tells which elements should be overwritten.\n"
      ]
    },
    {
      "cell_type": "markdown",
      "metadata": {
        "id": "Cg4Rm_WkcdNM"
      },
      "source": [
        "<!--@slideshow fragment-->\n",
        "Again, it should return \"boolean\" (between 0 and 1) values, and we learn it, so it is a layer:\n",
        "$$\n",
        "i_t = \\sigma(W_{ii} x_t + b_{ii} + W_{hi}h_{t-1} + b_{hi})\n",
        "$$\n",
        "\n",
        "This function is called **input gate**."
      ]
    },
    {
      "cell_type": "markdown",
      "metadata": {
        "id": "5qlT2KQLiYSI"
      },
      "source": [
        "<!--@slideshow slide-->\n",
        "Similarly, we need to erase (forget) some parts of memory.\n",
        "\n",
        "\n"
      ]
    },
    {
      "cell_type": "markdown",
      "metadata": {
        "id": "f3AeMPgycjoM"
      },
      "source": [
        "<!--@slideshow fragment-->\n",
        "We need a function $f_t$  (**forget gate**) that \"zeroes out\" some elements of $c_t$ depending on input.\n",
        "$$\n",
        "f_t = \\sigma(W_{if}x_t + b_{if} + W_{hf} h_{t-1} + b_{hf})\n",
        "$$"
      ]
    },
    {
      "cell_type": "markdown",
      "metadata": {
        "id": "8_3EGNvQxahU"
      },
      "source": [
        "<!--@slideshow slide-->\n",
        "The final update of the cell state is\n",
        "$$\n",
        "c_t = f_t \\odot c_{t-1} + i_t \\odot g_t\n",
        "$$"
      ]
    },
    {
      "cell_type": "markdown",
      "metadata": {
        "id": "Q51OXZBNx-LW"
      },
      "source": [
        "<!--@slideshow slide-->\n",
        "Putting it all together, we obtain _LSTM equations_:\n",
        "\n",
        "$$\n",
        "i_t = \\sigma(W_{ii} x_t + b_{ii} + W_{hi}h_{t-1} + b_{hi})\n",
        "$$\n",
        "$$\n",
        "f_t = \\sigma(W_{if}x_t + b_{if} + W_{hf} h_{t-1} + b_{hf})\n",
        "$$\n",
        "$$\n",
        "g_t = \\mathrm{tanh}(W_{ig}x_t + b_{ig} + W_{hg}h_{t-1} + b_{hg})\n",
        "$$\n",
        "$$\n",
        "o_t = \\sigma(W_{io} x_t + b_{io} + W_{ho} h_{t-1} + b_{ho})\n",
        "$$\n",
        "$$\n",
        "c_t = f_t \\odot c_{t-1} + i_t \\odot g_t\n",
        "$$\n",
        "$$\n",
        "h_t = o_t \\odot \\mathrm{tanh}(c_t)\n",
        "$$"
      ]
    },
    {
      "cell_type": "markdown",
      "metadata": {
        "id": "KjC8ZmXhjpTy"
      },
      "source": [
        "<!--@slideshow slide-->\n",
        "## Colab demo: LSTM implementation in PyTorch"
      ]
    },
    {
      "cell_type": "code",
      "metadata": {
        "id": "8MGZofsM7isy"
      },
      "source": [
        "class LSTM(nn.Module):\n",
        "    def __init__(self, input_size, hidden_size, output_size):\n",
        "        super().__init__()\n",
        "        self.hidden_size = hidden_size\n",
        "\n",
        "        # input gate\n",
        "        self.ii = nn.Linear(input_size, hidden_size)\n",
        "        self.hi = nn.Linear(hidden_size, hidden_size)\n",
        "\n",
        "        # forget gate\n",
        "        self.if_ = nn.Linear(input_size, hidden_size)\n",
        "        self.hf = nn.Linear(hidden_size, hidden_size)\n",
        "\n",
        "        # cell\n",
        "        self.ig = nn.Linear(input_size, hidden_size)\n",
        "        self.hg = nn.Linear(hidden_size, hidden_size)\n",
        "\n",
        "        # output gate\n",
        "        self.io = nn.Linear(input_size, hidden_size)\n",
        "        self.ho = nn.Linear(hidden_size, hidden_size)\n",
        "\n",
        "        self.tanh = nn.Tanh()\n",
        "        self.sigmoid = nn.Sigmoid()\n",
        "\n",
        "        # transformation of LSTM output to log-probabilities\n",
        "        self.oo = nn.Linear(hidden_size, output_size)\n",
        "        self.softmax = nn.LogSoftmax(dim=1)\n",
        "\n",
        "    def forward(self, x, state):\n",
        "        h, c = state  # state is a pair of hidden state and cell state\n",
        "\n",
        "        # input gate\n",
        "        i = self.sigmoid(self.ii(x) + self.hi(h))\n",
        "        # forget gate\n",
        "        f = self.sigmoid(self.if_(x) + self.hf(h))\n",
        "        # cell\n",
        "        g = self.tanh(self.ig(x) + self.hg(h))\n",
        "        # output gate\n",
        "        o = self.sigmoid(self.io(x) + self.ho(h))\n",
        "\n",
        "        # update cell state\n",
        "        cell = f * c + i * g\n",
        "        # update hidden state\n",
        "        hidden = o * self.tanh(cell)\n",
        "\n",
        "        # output\n",
        "        output = self.softmax(self.oo(hidden))\n",
        "\n",
        "        return output, (hidden, cell)\n",
        "\n",
        "    def h0c0(self):\n",
        "        return torch.zeros(1, self.hidden_size), torch.zeros(1, self.hidden_size)"
      ],
      "execution_count": null,
      "outputs": []
    },
    {
      "cell_type": "code",
      "metadata": {
        "id": "I8-vontN_fIC"
      },
      "source": [
        "def process_sequence_lstm(\n",
        "    lstm,\n",
        "    input_line_tensor,\n",
        "    target_line_tensor,\n",
        "    learning_rate\n",
        "):\n",
        "    loss_function = nn.NLLLoss()\n",
        "    state = lstm.h0c0()\n",
        "    lstm.zero_grad()\n",
        "\n",
        "    loss = 0\n",
        "\n",
        "    for i in range(input_line_tensor.size(0)):\n",
        "        output, state = lstm(input_line_tensor[i], state)\n",
        "        # update the loss for each element x_t\n",
        "        l = loss_function(output, target_line_tensor[i])\n",
        "        loss += l\n",
        "\n",
        "    loss.backward()\n",
        "\n",
        "    # instead of manual parameter update, we use PyTorch optimizer\n",
        "    # create the optimizer\n",
        "    optimizer = torch.optim.Adam(lstm.parameters(), lr=learning_rate)\n",
        "    # perform gradient step\n",
        "    optimizer.step()\n",
        "\n",
        "    return loss.item() / input_line_tensor.size(0)"
      ],
      "execution_count": null,
      "outputs": []
    },
    {
      "cell_type": "code",
      "metadata": {
        "id": "PXjGTRepBTVO"
      },
      "source": [
        "def train_many_to_many_lstm(\n",
        "    n_additional_symbols=0,\n",
        "    hidden_size=16,\n",
        "    sequence_length=50,\n",
        "    n_iters=1000,\n",
        "    learning_rate=0.0005\n",
        "):\n",
        "    from tqdm.notebook import tqdm\n",
        "    import numpy as np\n",
        "    import matplotlib.pyplot as plt\n",
        "    print_every = n_iters // 20\n",
        "\n",
        "    lstm = LSTM(n_additional_symbols + 2, hidden_size, 2)\n",
        "    all_losses = []\n",
        "    iterations = []\n",
        "    losses = []\n",
        "\n",
        "    for i in tqdm(range(1, n_iters + 1)):\n",
        "        # random sample\n",
        "        chars, target, input_tensor, target_tensor = generate_data(\n",
        "            sequence_length,\n",
        "            seed=i,\n",
        "            n_additional_symbols=n_additional_symbols\n",
        "        )\n",
        "        loss = process_sequence_lstm(\n",
        "            lstm,\n",
        "            input_tensor,\n",
        "            target_tensor,\n",
        "            learning_rate\n",
        "        )\n",
        "\n",
        "        all_losses.append(loss)\n",
        "\n",
        "        if i % print_every == 0:\n",
        "            iterations.append(i)\n",
        "            avg_loss = np.mean(all_losses[-print_every:])\n",
        "            losses.append(avg_loss)\n",
        "            print(f\"iteration {i}: loss {avg_loss}\")\n",
        "\n",
        "    plt.plot(iterations, losses)\n",
        "    plt.show()\n",
        "\n",
        "    return lstm"
      ],
      "execution_count": null,
      "outputs": []
    },
    {
      "cell_type": "markdown",
      "metadata": {
        "id": "dWqJLaYnctp3"
      },
      "source": [
        "### Case 1: 2 symbols in the input sequence (no additional symbols)\n",
        "\n",
        "Sanity check: LSTM converges quickly."
      ]
    },
    {
      "cell_type": "code",
      "metadata": {
        "id": "UAG_eWJ1BvqQ",
        "outputId": "3515d3f2-d351-464c-8fdd-888e2c39bc90",
        "colab": {
          "base_uri": "https://localhost:8080/",
          "height": 344,
          "referenced_widgets": [
            "fc33988cb8a645d0a68935bf0e80b343",
            "be65b6d8d36143dd95a531a68c68d1f4",
            "5f5eba7bbf9e4cb3a9347f563a31d412",
            "473c607b501c4014b55d21de1375655e",
            "a8a9fbfc0cf14732aee68c90801ed71e",
            "4da6b483892943e3a412b62db8ed0b4c",
            "8f2f8a826ea0421984518587079c63d4",
            "92168b27c72a4b50a5b6172535bc6178",
            "ce5dd637c2c945b0a1d0c56a52ba5c0b",
            "42c0d658797e4bac855188a2ac665b11",
            "534803fc5171436499c96dc2e982c32c"
          ]
        }
      },
      "source": [
        "train_many_to_many_lstm(n_additional_symbols=0, n_iters=10)"
      ],
      "execution_count": null,
      "outputs": [
        {
          "output_type": "display_data",
          "data": {
            "text/plain": [
              "  0%|          | 0/10 [00:00<?, ?it/s]"
            ],
            "application/vnd.jupyter.widget-view+json": {
              "version_major": 2,
              "version_minor": 0,
              "model_id": "fc33988cb8a645d0a68935bf0e80b343"
            }
          },
          "metadata": {}
        },
        {
          "output_type": "error",
          "ename": "NameError",
          "evalue": "ignored",
          "traceback": [
            "\u001b[0;31m---------------------------------------------------------------------------\u001b[0m",
            "\u001b[0;31mNameError\u001b[0m                                 Traceback (most recent call last)",
            "\u001b[0;32m<ipython-input-23-ec5300e68092>\u001b[0m in \u001b[0;36m<module>\u001b[0;34m\u001b[0m\n\u001b[0;32m----> 1\u001b[0;31m \u001b[0mtrain_many_to_many_lstm\u001b[0m\u001b[0;34m(\u001b[0m\u001b[0mn_additional_symbols\u001b[0m\u001b[0;34m=\u001b[0m\u001b[0;36m0\u001b[0m\u001b[0;34m,\u001b[0m \u001b[0mn_iters\u001b[0m\u001b[0;34m=\u001b[0m\u001b[0;36m10\u001b[0m\u001b[0;34m)\u001b[0m\u001b[0;34m\u001b[0m\u001b[0;34m\u001b[0m\u001b[0m\n\u001b[0m",
            "\u001b[0;32m<ipython-input-22-b5eeacf28ffa>\u001b[0m in \u001b[0;36mtrain_many_to_many_lstm\u001b[0;34m(n_additional_symbols, hidden_size, sequence_length, n_iters, learning_rate)\u001b[0m\n\u001b[1;32m     18\u001b[0m     \u001b[0;32mfor\u001b[0m \u001b[0mi\u001b[0m \u001b[0;32min\u001b[0m \u001b[0mtqdm\u001b[0m\u001b[0;34m(\u001b[0m\u001b[0mrange\u001b[0m\u001b[0;34m(\u001b[0m\u001b[0;36m1\u001b[0m\u001b[0;34m,\u001b[0m \u001b[0mn_iters\u001b[0m \u001b[0;34m+\u001b[0m \u001b[0;36m1\u001b[0m\u001b[0;34m)\u001b[0m\u001b[0;34m)\u001b[0m\u001b[0;34m:\u001b[0m\u001b[0;34m\u001b[0m\u001b[0;34m\u001b[0m\u001b[0m\n\u001b[1;32m     19\u001b[0m         \u001b[0;31m# random sample\u001b[0m\u001b[0;34m\u001b[0m\u001b[0;34m\u001b[0m\u001b[0;34m\u001b[0m\u001b[0m\n\u001b[0;32m---> 20\u001b[0;31m         chars, target, input_tensor, target_tensor = generate_data(\n\u001b[0m\u001b[1;32m     21\u001b[0m             \u001b[0msequence_length\u001b[0m\u001b[0;34m,\u001b[0m\u001b[0;34m\u001b[0m\u001b[0;34m\u001b[0m\u001b[0m\n\u001b[1;32m     22\u001b[0m             \u001b[0mseed\u001b[0m\u001b[0;34m=\u001b[0m\u001b[0mi\u001b[0m\u001b[0;34m,\u001b[0m\u001b[0;34m\u001b[0m\u001b[0;34m\u001b[0m\u001b[0m\n",
            "\u001b[0;31mNameError\u001b[0m: name 'generate_data' is not defined"
          ]
        }
      ]
    },
    {
      "cell_type": "markdown",
      "metadata": {
        "id": "CeqyFiBUc3Gg"
      },
      "source": [
        "### Case 2: 10 additional symbols\n",
        "\n",
        "LSTM has lower loss compared to RNN."
      ]
    },
    {
      "cell_type": "code",
      "metadata": {
        "id": "Cq0PsLyWD6m1",
        "outputId": "d593a980-c314-40ab-bd90-4136f47621d0",
        "colab": {
          "base_uri": "https://localhost:8080/",
          "height": 1000,
          "referenced_widgets": [
            "69491fbd7fae4f38a8dca52f4e1d2589",
            "9c65766b2922439491c46b736dd5a281",
            "ab896132231d4e18935a92cd924965aa",
            "faa5d947d88b4add9fd67cd7d48c7aa9",
            "18a942425a1444a0a44fd9c6e5765916",
            "2cfa20f781c9456cb9241e8a60258fbd",
            "6d2486b7dae248f48ad2e31a27ab3e7c",
            "51c6e56222364052b8f5c0d4af8f58ea",
            "5f8544fe608d493f83e358c8efa9d95e",
            "7560cb1dac6f4e2b89eecaa7728fcf2c",
            "2594018dd5b04f3e8a1a7aefbea909e3"
          ]
        }
      },
      "source": [
        "train_many_to_many_lstm(n_additional_symbols=10, n_iters=4200)"
      ],
      "execution_count": null,
      "outputs": [
        {
          "output_type": "display_data",
          "data": {
            "text/plain": [
              "  0%|          | 0/4200 [00:00<?, ?it/s]"
            ],
            "application/vnd.jupyter.widget-view+json": {
              "version_major": 2,
              "version_minor": 0,
              "model_id": "69491fbd7fae4f38a8dca52f4e1d2589"
            }
          },
          "metadata": {}
        },
        {
          "output_type": "stream",
          "name": "stdout",
          "text": [
            "iteration 210: loss 0.6839922561645507\n",
            "iteration 420: loss 0.6452383827936081\n",
            "iteration 630: loss 0.555979918888637\n",
            "iteration 840: loss 0.44411776297433037\n",
            "iteration 1050: loss 0.3826439650853475\n",
            "iteration 1260: loss 0.3094546903882707\n",
            "iteration 1470: loss 0.2785807252611433\n",
            "iteration 1680: loss 0.22065555972144715\n",
            "iteration 1890: loss 0.15937646693275087\n",
            "iteration 2100: loss 0.09918712352571034\n",
            "iteration 2310: loss 0.05663982012726011\n",
            "iteration 2520: loss 0.025908915593510582\n",
            "iteration 2730: loss 0.009466806627455212\n",
            "iteration 2940: loss 0.003073982688820078\n",
            "iteration 3150: loss 0.000782057714537673\n",
            "iteration 3360: loss 0.00016357334851220784\n",
            "iteration 3570: loss 3.820124652702362e-05\n",
            "iteration 3780: loss 6.6883866551766646e-06\n",
            "iteration 3990: loss 1.390329252368853e-06\n",
            "iteration 4200: loss 3.8886122623404436e-07\n"
          ]
        },
        {
          "output_type": "display_data",
          "data": {
            "text/plain": [
              "<Figure size 720x432 with 1 Axes>"
            ],
            "image/svg+xml": "<?xml version=\"1.0\" encoding=\"utf-8\" standalone=\"no\"?>\n<!DOCTYPE svg PUBLIC \"-//W3C//DTD SVG 1.1//EN\"\n  \"http://www.w3.org/Graphics/SVG/1.1/DTD/svg11.dtd\">\n<!-- Created with matplotlib (https://matplotlib.org/) -->\n<svg height=\"357.238125pt\" version=\"1.1\" viewBox=\"0 0 595.303125 357.238125\" width=\"595.303125pt\" xmlns=\"http://www.w3.org/2000/svg\" xmlns:xlink=\"http://www.w3.org/1999/xlink\">\n <defs>\n  <style type=\"text/css\">\n*{stroke-linecap:butt;stroke-linejoin:round;}\n  </style>\n </defs>\n <g id=\"figure_1\">\n  <g id=\"patch_1\">\n   <path d=\"M -0 357.238125 \nL 595.303125 357.238125 \nL 595.303125 0 \nL -0 0 \nz\n\" style=\"fill:none;\"/>\n  </g>\n  <g id=\"axes_1\">\n   <g id=\"patch_2\">\n    <path d=\"M 30.103125 333.36 \nL 588.103125 333.36 \nL 588.103125 7.2 \nL 30.103125 7.2 \nz\n\" style=\"fill:#ffffff;\"/>\n   </g>\n   <g id=\"matplotlib.axis_1\">\n    <g id=\"xtick_1\">\n     <g id=\"line2d_1\">\n      <defs>\n       <path d=\"M 0 0 \nL 0 3.5 \n\" id=\"mab3a53df0c\" style=\"stroke:#000000;stroke-width:0.8;\"/>\n      </defs>\n      <g>\n       <use style=\"stroke:#000000;stroke-width:0.8;\" x=\"92.336208\" xlink:href=\"#mab3a53df0c\" y=\"333.36\"/>\n      </g>\n     </g>\n     <g id=\"text_1\">\n      <!-- 500 -->\n      <defs>\n       <path d=\"M 10.796875 72.90625 \nL 49.515625 72.90625 \nL 49.515625 64.59375 \nL 19.828125 64.59375 \nL 19.828125 46.734375 \nQ 21.96875 47.46875 24.109375 47.828125 \nQ 26.265625 48.1875 28.421875 48.1875 \nQ 40.625 48.1875 47.75 41.5 \nQ 54.890625 34.8125 54.890625 23.390625 \nQ 54.890625 11.625 47.5625 5.09375 \nQ 40.234375 -1.421875 26.90625 -1.421875 \nQ 22.3125 -1.421875 17.546875 -0.640625 \nQ 12.796875 0.140625 7.71875 1.703125 \nL 7.71875 11.625 \nQ 12.109375 9.234375 16.796875 8.0625 \nQ 21.484375 6.890625 26.703125 6.890625 \nQ 35.15625 6.890625 40.078125 11.328125 \nQ 45.015625 15.765625 45.015625 23.390625 \nQ 45.015625 31 40.078125 35.4375 \nQ 35.15625 39.890625 26.703125 39.890625 \nQ 22.75 39.890625 18.8125 39.015625 \nQ 14.890625 38.140625 10.796875 36.28125 \nz\n\" id=\"DejaVuSans-53\"/>\n       <path d=\"M 31.78125 66.40625 \nQ 24.171875 66.40625 20.328125 58.90625 \nQ 16.5 51.421875 16.5 36.375 \nQ 16.5 21.390625 20.328125 13.890625 \nQ 24.171875 6.390625 31.78125 6.390625 \nQ 39.453125 6.390625 43.28125 13.890625 \nQ 47.125 21.390625 47.125 36.375 \nQ 47.125 51.421875 43.28125 58.90625 \nQ 39.453125 66.40625 31.78125 66.40625 \nz\nM 31.78125 74.21875 \nQ 44.046875 74.21875 50.515625 64.515625 \nQ 56.984375 54.828125 56.984375 36.375 \nQ 56.984375 17.96875 50.515625 8.265625 \nQ 44.046875 -1.421875 31.78125 -1.421875 \nQ 19.53125 -1.421875 13.0625 8.265625 \nQ 6.59375 17.96875 6.59375 36.375 \nQ 6.59375 54.828125 13.0625 64.515625 \nQ 19.53125 74.21875 31.78125 74.21875 \nz\n\" id=\"DejaVuSans-48\"/>\n      </defs>\n      <g transform=\"translate(82.792458 347.958438)scale(0.1 -0.1)\">\n       <use xlink:href=\"#DejaVuSans-53\"/>\n       <use x=\"63.623047\" xlink:href=\"#DejaVuSans-48\"/>\n       <use x=\"127.246094\" xlink:href=\"#DejaVuSans-48\"/>\n      </g>\n     </g>\n    </g>\n    <g id=\"xtick_2\">\n     <g id=\"line2d_2\">\n      <g>\n       <use style=\"stroke:#000000;stroke-width:0.8;\" x=\"155.904219\" xlink:href=\"#mab3a53df0c\" y=\"333.36\"/>\n      </g>\n     </g>\n     <g id=\"text_2\">\n      <!-- 1000 -->\n      <defs>\n       <path d=\"M 12.40625 8.296875 \nL 28.515625 8.296875 \nL 28.515625 63.921875 \nL 10.984375 60.40625 \nL 10.984375 69.390625 \nL 28.421875 72.90625 \nL 38.28125 72.90625 \nL 38.28125 8.296875 \nL 54.390625 8.296875 \nL 54.390625 0 \nL 12.40625 0 \nz\n\" id=\"DejaVuSans-49\"/>\n      </defs>\n      <g transform=\"translate(143.179219 347.958438)scale(0.1 -0.1)\">\n       <use xlink:href=\"#DejaVuSans-49\"/>\n       <use x=\"63.623047\" xlink:href=\"#DejaVuSans-48\"/>\n       <use x=\"127.246094\" xlink:href=\"#DejaVuSans-48\"/>\n       <use x=\"190.869141\" xlink:href=\"#DejaVuSans-48\"/>\n      </g>\n     </g>\n    </g>\n    <g id=\"xtick_3\">\n     <g id=\"line2d_3\">\n      <g>\n       <use style=\"stroke:#000000;stroke-width:0.8;\" x=\"219.47223\" xlink:href=\"#mab3a53df0c\" y=\"333.36\"/>\n      </g>\n     </g>\n     <g id=\"text_3\">\n      <!-- 1500 -->\n      <g transform=\"translate(206.74723 347.958438)scale(0.1 -0.1)\">\n       <use xlink:href=\"#DejaVuSans-49\"/>\n       <use x=\"63.623047\" xlink:href=\"#DejaVuSans-53\"/>\n       <use x=\"127.246094\" xlink:href=\"#DejaVuSans-48\"/>\n       <use x=\"190.869141\" xlink:href=\"#DejaVuSans-48\"/>\n      </g>\n     </g>\n    </g>\n    <g id=\"xtick_4\">\n     <g id=\"line2d_4\">\n      <g>\n       <use style=\"stroke:#000000;stroke-width:0.8;\" x=\"283.040241\" xlink:href=\"#mab3a53df0c\" y=\"333.36\"/>\n      </g>\n     </g>\n     <g id=\"text_4\">\n      <!-- 2000 -->\n      <defs>\n       <path d=\"M 19.1875 8.296875 \nL 53.609375 8.296875 \nL 53.609375 0 \nL 7.328125 0 \nL 7.328125 8.296875 \nQ 12.9375 14.109375 22.625 23.890625 \nQ 32.328125 33.6875 34.8125 36.53125 \nQ 39.546875 41.84375 41.421875 45.53125 \nQ 43.3125 49.21875 43.3125 52.78125 \nQ 43.3125 58.59375 39.234375 62.25 \nQ 35.15625 65.921875 28.609375 65.921875 \nQ 23.96875 65.921875 18.8125 64.3125 \nQ 13.671875 62.703125 7.8125 59.421875 \nL 7.8125 69.390625 \nQ 13.765625 71.78125 18.9375 73 \nQ 24.125 74.21875 28.421875 74.21875 \nQ 39.75 74.21875 46.484375 68.546875 \nQ 53.21875 62.890625 53.21875 53.421875 \nQ 53.21875 48.921875 51.53125 44.890625 \nQ 49.859375 40.875 45.40625 35.40625 \nQ 44.1875 33.984375 37.640625 27.21875 \nQ 31.109375 20.453125 19.1875 8.296875 \nz\n\" id=\"DejaVuSans-50\"/>\n      </defs>\n      <g transform=\"translate(270.315241 347.958438)scale(0.1 -0.1)\">\n       <use xlink:href=\"#DejaVuSans-50\"/>\n       <use x=\"63.623047\" xlink:href=\"#DejaVuSans-48\"/>\n       <use x=\"127.246094\" xlink:href=\"#DejaVuSans-48\"/>\n       <use x=\"190.869141\" xlink:href=\"#DejaVuSans-48\"/>\n      </g>\n     </g>\n    </g>\n    <g id=\"xtick_5\">\n     <g id=\"line2d_5\">\n      <g>\n       <use style=\"stroke:#000000;stroke-width:0.8;\" x=\"346.608251\" xlink:href=\"#mab3a53df0c\" y=\"333.36\"/>\n      </g>\n     </g>\n     <g id=\"text_5\">\n      <!-- 2500 -->\n      <g transform=\"translate(333.883251 347.958438)scale(0.1 -0.1)\">\n       <use xlink:href=\"#DejaVuSans-50\"/>\n       <use x=\"63.623047\" xlink:href=\"#DejaVuSans-53\"/>\n       <use x=\"127.246094\" xlink:href=\"#DejaVuSans-48\"/>\n       <use x=\"190.869141\" xlink:href=\"#DejaVuSans-48\"/>\n      </g>\n     </g>\n    </g>\n    <g id=\"xtick_6\">\n     <g id=\"line2d_6\">\n      <g>\n       <use style=\"stroke:#000000;stroke-width:0.8;\" x=\"410.176262\" xlink:href=\"#mab3a53df0c\" y=\"333.36\"/>\n      </g>\n     </g>\n     <g id=\"text_6\">\n      <!-- 3000 -->\n      <defs>\n       <path d=\"M 40.578125 39.3125 \nQ 47.65625 37.796875 51.625 33 \nQ 55.609375 28.21875 55.609375 21.1875 \nQ 55.609375 10.40625 48.1875 4.484375 \nQ 40.765625 -1.421875 27.09375 -1.421875 \nQ 22.515625 -1.421875 17.65625 -0.515625 \nQ 12.796875 0.390625 7.625 2.203125 \nL 7.625 11.71875 \nQ 11.71875 9.328125 16.59375 8.109375 \nQ 21.484375 6.890625 26.8125 6.890625 \nQ 36.078125 6.890625 40.9375 10.546875 \nQ 45.796875 14.203125 45.796875 21.1875 \nQ 45.796875 27.640625 41.28125 31.265625 \nQ 36.765625 34.90625 28.71875 34.90625 \nL 20.21875 34.90625 \nL 20.21875 43.015625 \nL 29.109375 43.015625 \nQ 36.375 43.015625 40.234375 45.921875 \nQ 44.09375 48.828125 44.09375 54.296875 \nQ 44.09375 59.90625 40.109375 62.90625 \nQ 36.140625 65.921875 28.71875 65.921875 \nQ 24.65625 65.921875 20.015625 65.03125 \nQ 15.375 64.15625 9.8125 62.3125 \nL 9.8125 71.09375 \nQ 15.4375 72.65625 20.34375 73.4375 \nQ 25.25 74.21875 29.59375 74.21875 \nQ 40.828125 74.21875 47.359375 69.109375 \nQ 53.90625 64.015625 53.90625 55.328125 \nQ 53.90625 49.265625 50.4375 45.09375 \nQ 46.96875 40.921875 40.578125 39.3125 \nz\n\" id=\"DejaVuSans-51\"/>\n      </defs>\n      <g transform=\"translate(397.451262 347.958438)scale(0.1 -0.1)\">\n       <use xlink:href=\"#DejaVuSans-51\"/>\n       <use x=\"63.623047\" xlink:href=\"#DejaVuSans-48\"/>\n       <use x=\"127.246094\" xlink:href=\"#DejaVuSans-48\"/>\n       <use x=\"190.869141\" xlink:href=\"#DejaVuSans-48\"/>\n      </g>\n     </g>\n    </g>\n    <g id=\"xtick_7\">\n     <g id=\"line2d_7\">\n      <g>\n       <use style=\"stroke:#000000;stroke-width:0.8;\" x=\"473.744273\" xlink:href=\"#mab3a53df0c\" y=\"333.36\"/>\n      </g>\n     </g>\n     <g id=\"text_7\">\n      <!-- 3500 -->\n      <g transform=\"translate(461.019273 347.958438)scale(0.1 -0.1)\">\n       <use xlink:href=\"#DejaVuSans-51\"/>\n       <use x=\"63.623047\" xlink:href=\"#DejaVuSans-53\"/>\n       <use x=\"127.246094\" xlink:href=\"#DejaVuSans-48\"/>\n       <use x=\"190.869141\" xlink:href=\"#DejaVuSans-48\"/>\n      </g>\n     </g>\n    </g>\n    <g id=\"xtick_8\">\n     <g id=\"line2d_8\">\n      <g>\n       <use style=\"stroke:#000000;stroke-width:0.8;\" x=\"537.312284\" xlink:href=\"#mab3a53df0c\" y=\"333.36\"/>\n      </g>\n     </g>\n     <g id=\"text_8\">\n      <!-- 4000 -->\n      <defs>\n       <path d=\"M 37.796875 64.3125 \nL 12.890625 25.390625 \nL 37.796875 25.390625 \nz\nM 35.203125 72.90625 \nL 47.609375 72.90625 \nL 47.609375 25.390625 \nL 58.015625 25.390625 \nL 58.015625 17.1875 \nL 47.609375 17.1875 \nL 47.609375 0 \nL 37.796875 0 \nL 37.796875 17.1875 \nL 4.890625 17.1875 \nL 4.890625 26.703125 \nz\n\" id=\"DejaVuSans-52\"/>\n      </defs>\n      <g transform=\"translate(524.587284 347.958438)scale(0.1 -0.1)\">\n       <use xlink:href=\"#DejaVuSans-52\"/>\n       <use x=\"63.623047\" xlink:href=\"#DejaVuSans-48\"/>\n       <use x=\"127.246094\" xlink:href=\"#DejaVuSans-48\"/>\n       <use x=\"190.869141\" xlink:href=\"#DejaVuSans-48\"/>\n      </g>\n     </g>\n    </g>\n   </g>\n   <g id=\"matplotlib.axis_2\">\n    <g id=\"ytick_1\">\n     <g id=\"line2d_9\">\n      <defs>\n       <path d=\"M 0 0 \nL -3.5 0 \n\" id=\"m83bc9ef448\" style=\"stroke:#000000;stroke-width:0.8;\"/>\n      </defs>\n      <g>\n       <use style=\"stroke:#000000;stroke-width:0.8;\" x=\"30.103125\" xlink:href=\"#m83bc9ef448\" y=\"318.534714\"/>\n      </g>\n     </g>\n     <g id=\"text_9\">\n      <!-- 0.0 -->\n      <defs>\n       <path d=\"M 10.6875 12.40625 \nL 21 12.40625 \nL 21 0 \nL 10.6875 0 \nz\n\" id=\"DejaVuSans-46\"/>\n      </defs>\n      <g transform=\"translate(7.2 322.333933)scale(0.1 -0.1)\">\n       <use xlink:href=\"#DejaVuSans-48\"/>\n       <use x=\"63.623047\" xlink:href=\"#DejaVuSans-46\"/>\n       <use x=\"95.410156\" xlink:href=\"#DejaVuSans-48\"/>\n      </g>\n     </g>\n    </g>\n    <g id=\"ytick_2\">\n     <g id=\"line2d_10\">\n      <g>\n       <use style=\"stroke:#000000;stroke-width:0.8;\" x=\"30.103125\" xlink:href=\"#m83bc9ef448\" y=\"275.184916\"/>\n      </g>\n     </g>\n     <g id=\"text_10\">\n      <!-- 0.1 -->\n      <g transform=\"translate(7.2 278.984135)scale(0.1 -0.1)\">\n       <use xlink:href=\"#DejaVuSans-48\"/>\n       <use x=\"63.623047\" xlink:href=\"#DejaVuSans-46\"/>\n       <use x=\"95.410156\" xlink:href=\"#DejaVuSans-49\"/>\n      </g>\n     </g>\n    </g>\n    <g id=\"ytick_3\">\n     <g id=\"line2d_11\">\n      <g>\n       <use style=\"stroke:#000000;stroke-width:0.8;\" x=\"30.103125\" xlink:href=\"#m83bc9ef448\" y=\"231.835119\"/>\n      </g>\n     </g>\n     <g id=\"text_11\">\n      <!-- 0.2 -->\n      <g transform=\"translate(7.2 235.634337)scale(0.1 -0.1)\">\n       <use xlink:href=\"#DejaVuSans-48\"/>\n       <use x=\"63.623047\" xlink:href=\"#DejaVuSans-46\"/>\n       <use x=\"95.410156\" xlink:href=\"#DejaVuSans-50\"/>\n      </g>\n     </g>\n    </g>\n    <g id=\"ytick_4\">\n     <g id=\"line2d_12\">\n      <g>\n       <use style=\"stroke:#000000;stroke-width:0.8;\" x=\"30.103125\" xlink:href=\"#m83bc9ef448\" y=\"188.485321\"/>\n      </g>\n     </g>\n     <g id=\"text_12\">\n      <!-- 0.3 -->\n      <g transform=\"translate(7.2 192.28454)scale(0.1 -0.1)\">\n       <use xlink:href=\"#DejaVuSans-48\"/>\n       <use x=\"63.623047\" xlink:href=\"#DejaVuSans-46\"/>\n       <use x=\"95.410156\" xlink:href=\"#DejaVuSans-51\"/>\n      </g>\n     </g>\n    </g>\n    <g id=\"ytick_5\">\n     <g id=\"line2d_13\">\n      <g>\n       <use style=\"stroke:#000000;stroke-width:0.8;\" x=\"30.103125\" xlink:href=\"#m83bc9ef448\" y=\"145.135523\"/>\n      </g>\n     </g>\n     <g id=\"text_13\">\n      <!-- 0.4 -->\n      <g transform=\"translate(7.2 148.934742)scale(0.1 -0.1)\">\n       <use xlink:href=\"#DejaVuSans-48\"/>\n       <use x=\"63.623047\" xlink:href=\"#DejaVuSans-46\"/>\n       <use x=\"95.410156\" xlink:href=\"#DejaVuSans-52\"/>\n      </g>\n     </g>\n    </g>\n    <g id=\"ytick_6\">\n     <g id=\"line2d_14\">\n      <g>\n       <use style=\"stroke:#000000;stroke-width:0.8;\" x=\"30.103125\" xlink:href=\"#m83bc9ef448\" y=\"101.785725\"/>\n      </g>\n     </g>\n     <g id=\"text_14\">\n      <!-- 0.5 -->\n      <g transform=\"translate(7.2 105.584944)scale(0.1 -0.1)\">\n       <use xlink:href=\"#DejaVuSans-48\"/>\n       <use x=\"63.623047\" xlink:href=\"#DejaVuSans-46\"/>\n       <use x=\"95.410156\" xlink:href=\"#DejaVuSans-53\"/>\n      </g>\n     </g>\n    </g>\n    <g id=\"ytick_7\">\n     <g id=\"line2d_15\">\n      <g>\n       <use style=\"stroke:#000000;stroke-width:0.8;\" x=\"30.103125\" xlink:href=\"#m83bc9ef448\" y=\"58.435928\"/>\n      </g>\n     </g>\n     <g id=\"text_15\">\n      <!-- 0.6 -->\n      <defs>\n       <path d=\"M 33.015625 40.375 \nQ 26.375 40.375 22.484375 35.828125 \nQ 18.609375 31.296875 18.609375 23.390625 \nQ 18.609375 15.53125 22.484375 10.953125 \nQ 26.375 6.390625 33.015625 6.390625 \nQ 39.65625 6.390625 43.53125 10.953125 \nQ 47.40625 15.53125 47.40625 23.390625 \nQ 47.40625 31.296875 43.53125 35.828125 \nQ 39.65625 40.375 33.015625 40.375 \nz\nM 52.59375 71.296875 \nL 52.59375 62.3125 \nQ 48.875 64.0625 45.09375 64.984375 \nQ 41.3125 65.921875 37.59375 65.921875 \nQ 27.828125 65.921875 22.671875 59.328125 \nQ 17.53125 52.734375 16.796875 39.40625 \nQ 19.671875 43.65625 24.015625 45.921875 \nQ 28.375 48.1875 33.59375 48.1875 \nQ 44.578125 48.1875 50.953125 41.515625 \nQ 57.328125 34.859375 57.328125 23.390625 \nQ 57.328125 12.15625 50.6875 5.359375 \nQ 44.046875 -1.421875 33.015625 -1.421875 \nQ 20.359375 -1.421875 13.671875 8.265625 \nQ 6.984375 17.96875 6.984375 36.375 \nQ 6.984375 53.65625 15.1875 63.9375 \nQ 23.390625 74.21875 37.203125 74.21875 \nQ 40.921875 74.21875 44.703125 73.484375 \nQ 48.484375 72.75 52.59375 71.296875 \nz\n\" id=\"DejaVuSans-54\"/>\n      </defs>\n      <g transform=\"translate(7.2 62.235146)scale(0.1 -0.1)\">\n       <use xlink:href=\"#DejaVuSans-48\"/>\n       <use x=\"63.623047\" xlink:href=\"#DejaVuSans-46\"/>\n       <use x=\"95.410156\" xlink:href=\"#DejaVuSans-54\"/>\n      </g>\n     </g>\n    </g>\n    <g id=\"ytick_8\">\n     <g id=\"line2d_16\">\n      <g>\n       <use style=\"stroke:#000000;stroke-width:0.8;\" x=\"30.103125\" xlink:href=\"#m83bc9ef448\" y=\"15.08613\"/>\n      </g>\n     </g>\n     <g id=\"text_16\">\n      <!-- 0.7 -->\n      <defs>\n       <path d=\"M 8.203125 72.90625 \nL 55.078125 72.90625 \nL 55.078125 68.703125 \nL 28.609375 0 \nL 18.3125 0 \nL 43.21875 64.59375 \nL 8.203125 64.59375 \nz\n\" id=\"DejaVuSans-55\"/>\n      </defs>\n      <g transform=\"translate(7.2 18.885349)scale(0.1 -0.1)\">\n       <use xlink:href=\"#DejaVuSans-48\"/>\n       <use x=\"63.623047\" xlink:href=\"#DejaVuSans-46\"/>\n       <use x=\"95.410156\" xlink:href=\"#DejaVuSans-55\"/>\n      </g>\n     </g>\n    </g>\n   </g>\n   <g id=\"line2d_17\">\n    <path clip-path=\"url(#p7de9decf42)\" d=\"M 55.466761 22.025455 \nL 82.165326 38.82518 \nL 108.863891 77.518544 \nL 135.562455 126.010562 \nL 162.26102 152.659329 \nL 188.959584 184.386732 \nL 215.658149 197.770533 \nL 242.356714 222.880975 \nL 269.055278 249.445338 \nL 295.753843 275.537297 \nL 322.452407 293.981467 \nL 349.150972 307.303252 \nL 375.849536 314.430873 \nL 402.548101 317.202149 \nL 429.246666 318.195694 \nL 455.94523 318.463805 \nL 482.643795 318.518154 \nL 509.342359 318.531815 \nL 536.040924 318.534111 \nL 562.739489 318.534545 \n\" style=\"fill:none;stroke:#1f77b4;stroke-linecap:square;stroke-width:1.5;\"/>\n   </g>\n   <g id=\"patch_3\">\n    <path d=\"M 30.103125 333.36 \nL 30.103125 7.2 \n\" style=\"fill:none;stroke:#000000;stroke-linecap:square;stroke-linejoin:miter;stroke-width:0.8;\"/>\n   </g>\n   <g id=\"patch_4\">\n    <path d=\"M 588.103125 333.36 \nL 588.103125 7.2 \n\" style=\"fill:none;stroke:#000000;stroke-linecap:square;stroke-linejoin:miter;stroke-width:0.8;\"/>\n   </g>\n   <g id=\"patch_5\">\n    <path d=\"M 30.103125 333.36 \nL 588.103125 333.36 \n\" style=\"fill:none;stroke:#000000;stroke-linecap:square;stroke-linejoin:miter;stroke-width:0.8;\"/>\n   </g>\n   <g id=\"patch_6\">\n    <path d=\"M 30.103125 7.2 \nL 588.103125 7.2 \n\" style=\"fill:none;stroke:#000000;stroke-linecap:square;stroke-linejoin:miter;stroke-width:0.8;\"/>\n   </g>\n  </g>\n </g>\n <defs>\n  <clipPath id=\"p7de9decf42\">\n   <rect height=\"326.16\" width=\"558\" x=\"30.103125\" y=\"7.2\"/>\n  </clipPath>\n </defs>\n</svg>\n"
          },
          "metadata": {
            "needs_background": "light"
          }
        },
        {
          "output_type": "execute_result",
          "data": {
            "text/plain": [
              "LSTM(\n",
              "  (ii): Linear(in_features=12, out_features=16, bias=True)\n",
              "  (hi): Linear(in_features=16, out_features=16, bias=True)\n",
              "  (if_): Linear(in_features=12, out_features=16, bias=True)\n",
              "  (hf): Linear(in_features=16, out_features=16, bias=True)\n",
              "  (ig): Linear(in_features=12, out_features=16, bias=True)\n",
              "  (hg): Linear(in_features=16, out_features=16, bias=True)\n",
              "  (io): Linear(in_features=12, out_features=16, bias=True)\n",
              "  (ho): Linear(in_features=16, out_features=16, bias=True)\n",
              "  (tanh): Tanh()\n",
              "  (sigmoid): Sigmoid()\n",
              "  (oo): Linear(in_features=16, out_features=2, bias=True)\n",
              "  (softmax): LogSoftmax(dim=1)\n",
              ")"
            ]
          },
          "metadata": {},
          "execution_count": 73
        }
      ]
    },
    {
      "cell_type": "markdown",
      "metadata": {
        "id": "nibBl8Nqc6A_"
      },
      "source": [
        "### Case 3: 26 additional symbols\n",
        "\n",
        "Training converges, more iterations are better."
      ]
    },
    {
      "cell_type": "code",
      "metadata": {
        "id": "RsMYA6vLD-Qw",
        "outputId": "b64810ea-2a26-44b6-c730-bb9335529823",
        "colab": {
          "base_uri": "https://localhost:8080/",
          "height": 886,
          "referenced_widgets": [
            "42d6c3cdde444e9d9862f94a4ad23ca6",
            "feb039ef6f5b4e269e178df422b486a3",
            "dfa89a3afb984e07b877a01fe09e521d",
            "0a914bc8318f4523b2b9915c422ebea8",
            "177871bff4e2425ca53822a644cbe222",
            "6d6db3d70dd54929bf62c4f4a7c9d019",
            "056ec8877efb4773b61dc6dec431d64d",
            "5db93896282747f8a5396852a2d97b1a",
            "6ba310e9255f4b96a8a93628f7921e12",
            "ae456250cf8d4cd4824fe9455c16e957",
            "1b05b80d39e34e0ebc75047b0892ee31"
          ]
        }
      },
      "source": [
        "lstm = train_many_to_many_lstm(n_additional_symbols=26, n_iters=1500)"
      ],
      "execution_count": null,
      "outputs": [
        {
          "output_type": "display_data",
          "data": {
            "text/plain": [
              "  0%|          | 0/1500 [00:00<?, ?it/s]"
            ],
            "application/vnd.jupyter.widget-view+json": {
              "version_major": 2,
              "version_minor": 0,
              "model_id": "42d6c3cdde444e9d9862f94a4ad23ca6"
            }
          },
          "metadata": {}
        },
        {
          "output_type": "stream",
          "name": "stdout",
          "text": [
            "iteration 75: loss 0.6817577997843426\n",
            "iteration 150: loss 0.6785185938517253\n",
            "iteration 225: loss 0.6677266789754234\n",
            "iteration 300: loss 0.645179633585612\n",
            "iteration 375: loss 0.6724300827026368\n",
            "iteration 450: loss 0.6594034606933593\n",
            "iteration 525: loss 0.6284150563557942\n",
            "iteration 600: loss 0.640025205485026\n",
            "iteration 675: loss 0.5995218409220378\n",
            "iteration 750: loss 0.6498767313639323\n",
            "iteration 825: loss 0.5704502187093097\n",
            "iteration 900: loss 0.5493912465413412\n",
            "iteration 975: loss 0.45413517265319825\n",
            "iteration 1050: loss 0.49840948524475104\n",
            "iteration 1125: loss 0.45343442560831704\n",
            "iteration 1200: loss 0.4421963097890218\n",
            "iteration 1275: loss 0.43323378016153974\n",
            "iteration 1350: loss 0.3761661420822143\n",
            "iteration 1425: loss 0.38481111272176105\n",
            "iteration 1500: loss 0.37567300011316934\n"
          ]
        },
        {
          "output_type": "display_data",
          "data": {
            "text/plain": [
              "<Figure size 720x432 with 1 Axes>"
            ],
            "image/svg+xml": "<?xml version=\"1.0\" encoding=\"utf-8\" standalone=\"no\"?>\n<!DOCTYPE svg PUBLIC \"-//W3C//DTD SVG 1.1//EN\"\n  \"http://www.w3.org/Graphics/SVG/1.1/DTD/svg11.dtd\">\n<!-- Created with matplotlib (https://matplotlib.org/) -->\n<svg height=\"357.238125pt\" version=\"1.1\" viewBox=\"0 0 601.665625 357.238125\" width=\"601.665625pt\" xmlns=\"http://www.w3.org/2000/svg\" xmlns:xlink=\"http://www.w3.org/1999/xlink\">\n <defs>\n  <style type=\"text/css\">\n*{stroke-linecap:butt;stroke-linejoin:round;}\n  </style>\n </defs>\n <g id=\"figure_1\">\n  <g id=\"patch_1\">\n   <path d=\"M 0 357.238125 \nL 601.665625 357.238125 \nL 601.665625 0 \nL 0 0 \nz\n\" style=\"fill:none;\"/>\n  </g>\n  <g id=\"axes_1\">\n   <g id=\"patch_2\">\n    <path d=\"M 36.465625 333.36 \nL 594.465625 333.36 \nL 594.465625 7.2 \nL 36.465625 7.2 \nz\n\" style=\"fill:#ffffff;\"/>\n   </g>\n   <g id=\"matplotlib.axis_1\">\n    <g id=\"xtick_1\">\n     <g id=\"line2d_1\">\n      <defs>\n       <path d=\"M 0 0 \nL 0 3.5 \n\" id=\"m5d13f71834\" style=\"stroke:#000000;stroke-width:0.8;\"/>\n      </defs>\n      <g>\n       <use style=\"stroke:#000000;stroke-width:0.8;\" x=\"106.326869\" xlink:href=\"#m5d13f71834\" y=\"333.36\"/>\n      </g>\n     </g>\n     <g id=\"text_1\">\n      <!-- 200 -->\n      <defs>\n       <path d=\"M 19.1875 8.296875 \nL 53.609375 8.296875 \nL 53.609375 0 \nL 7.328125 0 \nL 7.328125 8.296875 \nQ 12.9375 14.109375 22.625 23.890625 \nQ 32.328125 33.6875 34.8125 36.53125 \nQ 39.546875 41.84375 41.421875 45.53125 \nQ 43.3125 49.21875 43.3125 52.78125 \nQ 43.3125 58.59375 39.234375 62.25 \nQ 35.15625 65.921875 28.609375 65.921875 \nQ 23.96875 65.921875 18.8125 64.3125 \nQ 13.671875 62.703125 7.8125 59.421875 \nL 7.8125 69.390625 \nQ 13.765625 71.78125 18.9375 73 \nQ 24.125 74.21875 28.421875 74.21875 \nQ 39.75 74.21875 46.484375 68.546875 \nQ 53.21875 62.890625 53.21875 53.421875 \nQ 53.21875 48.921875 51.53125 44.890625 \nQ 49.859375 40.875 45.40625 35.40625 \nQ 44.1875 33.984375 37.640625 27.21875 \nQ 31.109375 20.453125 19.1875 8.296875 \nz\n\" id=\"DejaVuSans-50\"/>\n       <path d=\"M 31.78125 66.40625 \nQ 24.171875 66.40625 20.328125 58.90625 \nQ 16.5 51.421875 16.5 36.375 \nQ 16.5 21.390625 20.328125 13.890625 \nQ 24.171875 6.390625 31.78125 6.390625 \nQ 39.453125 6.390625 43.28125 13.890625 \nQ 47.125 21.390625 47.125 36.375 \nQ 47.125 51.421875 43.28125 58.90625 \nQ 39.453125 66.40625 31.78125 66.40625 \nz\nM 31.78125 74.21875 \nQ 44.046875 74.21875 50.515625 64.515625 \nQ 56.984375 54.828125 56.984375 36.375 \nQ 56.984375 17.96875 50.515625 8.265625 \nQ 44.046875 -1.421875 31.78125 -1.421875 \nQ 19.53125 -1.421875 13.0625 8.265625 \nQ 6.59375 17.96875 6.59375 36.375 \nQ 6.59375 54.828125 13.0625 64.515625 \nQ 19.53125 74.21875 31.78125 74.21875 \nz\n\" id=\"DejaVuSans-48\"/>\n      </defs>\n      <g transform=\"translate(96.783119 347.958438)scale(0.1 -0.1)\">\n       <use xlink:href=\"#DejaVuSans-50\"/>\n       <use x=\"63.623047\" xlink:href=\"#DejaVuSans-48\"/>\n       <use x=\"127.246094\" xlink:href=\"#DejaVuSans-48\"/>\n      </g>\n     </g>\n    </g>\n    <g id=\"xtick_2\">\n     <g id=\"line2d_2\">\n      <g>\n       <use style=\"stroke:#000000;stroke-width:0.8;\" x=\"177.523041\" xlink:href=\"#m5d13f71834\" y=\"333.36\"/>\n      </g>\n     </g>\n     <g id=\"text_2\">\n      <!-- 400 -->\n      <defs>\n       <path d=\"M 37.796875 64.3125 \nL 12.890625 25.390625 \nL 37.796875 25.390625 \nz\nM 35.203125 72.90625 \nL 47.609375 72.90625 \nL 47.609375 25.390625 \nL 58.015625 25.390625 \nL 58.015625 17.1875 \nL 47.609375 17.1875 \nL 47.609375 0 \nL 37.796875 0 \nL 37.796875 17.1875 \nL 4.890625 17.1875 \nL 4.890625 26.703125 \nz\n\" id=\"DejaVuSans-52\"/>\n      </defs>\n      <g transform=\"translate(167.979291 347.958438)scale(0.1 -0.1)\">\n       <use xlink:href=\"#DejaVuSans-52\"/>\n       <use x=\"63.623047\" xlink:href=\"#DejaVuSans-48\"/>\n       <use x=\"127.246094\" xlink:href=\"#DejaVuSans-48\"/>\n      </g>\n     </g>\n    </g>\n    <g id=\"xtick_3\">\n     <g id=\"line2d_3\">\n      <g>\n       <use style=\"stroke:#000000;stroke-width:0.8;\" x=\"248.719214\" xlink:href=\"#m5d13f71834\" y=\"333.36\"/>\n      </g>\n     </g>\n     <g id=\"text_3\">\n      <!-- 600 -->\n      <defs>\n       <path d=\"M 33.015625 40.375 \nQ 26.375 40.375 22.484375 35.828125 \nQ 18.609375 31.296875 18.609375 23.390625 \nQ 18.609375 15.53125 22.484375 10.953125 \nQ 26.375 6.390625 33.015625 6.390625 \nQ 39.65625 6.390625 43.53125 10.953125 \nQ 47.40625 15.53125 47.40625 23.390625 \nQ 47.40625 31.296875 43.53125 35.828125 \nQ 39.65625 40.375 33.015625 40.375 \nz\nM 52.59375 71.296875 \nL 52.59375 62.3125 \nQ 48.875 64.0625 45.09375 64.984375 \nQ 41.3125 65.921875 37.59375 65.921875 \nQ 27.828125 65.921875 22.671875 59.328125 \nQ 17.53125 52.734375 16.796875 39.40625 \nQ 19.671875 43.65625 24.015625 45.921875 \nQ 28.375 48.1875 33.59375 48.1875 \nQ 44.578125 48.1875 50.953125 41.515625 \nQ 57.328125 34.859375 57.328125 23.390625 \nQ 57.328125 12.15625 50.6875 5.359375 \nQ 44.046875 -1.421875 33.015625 -1.421875 \nQ 20.359375 -1.421875 13.671875 8.265625 \nQ 6.984375 17.96875 6.984375 36.375 \nQ 6.984375 53.65625 15.1875 63.9375 \nQ 23.390625 74.21875 37.203125 74.21875 \nQ 40.921875 74.21875 44.703125 73.484375 \nQ 48.484375 72.75 52.59375 71.296875 \nz\n\" id=\"DejaVuSans-54\"/>\n      </defs>\n      <g transform=\"translate(239.175464 347.958438)scale(0.1 -0.1)\">\n       <use xlink:href=\"#DejaVuSans-54\"/>\n       <use x=\"63.623047\" xlink:href=\"#DejaVuSans-48\"/>\n       <use x=\"127.246094\" xlink:href=\"#DejaVuSans-48\"/>\n      </g>\n     </g>\n    </g>\n    <g id=\"xtick_4\">\n     <g id=\"line2d_4\">\n      <g>\n       <use style=\"stroke:#000000;stroke-width:0.8;\" x=\"319.915386\" xlink:href=\"#m5d13f71834\" y=\"333.36\"/>\n      </g>\n     </g>\n     <g id=\"text_4\">\n      <!-- 800 -->\n      <defs>\n       <path d=\"M 31.78125 34.625 \nQ 24.75 34.625 20.71875 30.859375 \nQ 16.703125 27.09375 16.703125 20.515625 \nQ 16.703125 13.921875 20.71875 10.15625 \nQ 24.75 6.390625 31.78125 6.390625 \nQ 38.8125 6.390625 42.859375 10.171875 \nQ 46.921875 13.96875 46.921875 20.515625 \nQ 46.921875 27.09375 42.890625 30.859375 \nQ 38.875 34.625 31.78125 34.625 \nz\nM 21.921875 38.8125 \nQ 15.578125 40.375 12.03125 44.71875 \nQ 8.5 49.078125 8.5 55.328125 \nQ 8.5 64.0625 14.71875 69.140625 \nQ 20.953125 74.21875 31.78125 74.21875 \nQ 42.671875 74.21875 48.875 69.140625 \nQ 55.078125 64.0625 55.078125 55.328125 \nQ 55.078125 49.078125 51.53125 44.71875 \nQ 48 40.375 41.703125 38.8125 \nQ 48.828125 37.15625 52.796875 32.3125 \nQ 56.78125 27.484375 56.78125 20.515625 \nQ 56.78125 9.90625 50.3125 4.234375 \nQ 43.84375 -1.421875 31.78125 -1.421875 \nQ 19.734375 -1.421875 13.25 4.234375 \nQ 6.78125 9.90625 6.78125 20.515625 \nQ 6.78125 27.484375 10.78125 32.3125 \nQ 14.796875 37.15625 21.921875 38.8125 \nz\nM 18.3125 54.390625 \nQ 18.3125 48.734375 21.84375 45.5625 \nQ 25.390625 42.390625 31.78125 42.390625 \nQ 38.140625 42.390625 41.71875 45.5625 \nQ 45.3125 48.734375 45.3125 54.390625 \nQ 45.3125 60.0625 41.71875 63.234375 \nQ 38.140625 66.40625 31.78125 66.40625 \nQ 25.390625 66.40625 21.84375 63.234375 \nQ 18.3125 60.0625 18.3125 54.390625 \nz\n\" id=\"DejaVuSans-56\"/>\n      </defs>\n      <g transform=\"translate(310.371636 347.958438)scale(0.1 -0.1)\">\n       <use xlink:href=\"#DejaVuSans-56\"/>\n       <use x=\"63.623047\" xlink:href=\"#DejaVuSans-48\"/>\n       <use x=\"127.246094\" xlink:href=\"#DejaVuSans-48\"/>\n      </g>\n     </g>\n    </g>\n    <g id=\"xtick_5\">\n     <g id=\"line2d_5\">\n      <g>\n       <use style=\"stroke:#000000;stroke-width:0.8;\" x=\"391.111558\" xlink:href=\"#m5d13f71834\" y=\"333.36\"/>\n      </g>\n     </g>\n     <g id=\"text_5\">\n      <!-- 1000 -->\n      <defs>\n       <path d=\"M 12.40625 8.296875 \nL 28.515625 8.296875 \nL 28.515625 63.921875 \nL 10.984375 60.40625 \nL 10.984375 69.390625 \nL 28.421875 72.90625 \nL 38.28125 72.90625 \nL 38.28125 8.296875 \nL 54.390625 8.296875 \nL 54.390625 0 \nL 12.40625 0 \nz\n\" id=\"DejaVuSans-49\"/>\n      </defs>\n      <g transform=\"translate(378.386558 347.958438)scale(0.1 -0.1)\">\n       <use xlink:href=\"#DejaVuSans-49\"/>\n       <use x=\"63.623047\" xlink:href=\"#DejaVuSans-48\"/>\n       <use x=\"127.246094\" xlink:href=\"#DejaVuSans-48\"/>\n       <use x=\"190.869141\" xlink:href=\"#DejaVuSans-48\"/>\n      </g>\n     </g>\n    </g>\n    <g id=\"xtick_6\">\n     <g id=\"line2d_6\">\n      <g>\n       <use style=\"stroke:#000000;stroke-width:0.8;\" x=\"462.30773\" xlink:href=\"#m5d13f71834\" y=\"333.36\"/>\n      </g>\n     </g>\n     <g id=\"text_6\">\n      <!-- 1200 -->\n      <g transform=\"translate(449.58273 347.958438)scale(0.1 -0.1)\">\n       <use xlink:href=\"#DejaVuSans-49\"/>\n       <use x=\"63.623047\" xlink:href=\"#DejaVuSans-50\"/>\n       <use x=\"127.246094\" xlink:href=\"#DejaVuSans-48\"/>\n       <use x=\"190.869141\" xlink:href=\"#DejaVuSans-48\"/>\n      </g>\n     </g>\n    </g>\n    <g id=\"xtick_7\">\n     <g id=\"line2d_7\">\n      <g>\n       <use style=\"stroke:#000000;stroke-width:0.8;\" x=\"533.503903\" xlink:href=\"#m5d13f71834\" y=\"333.36\"/>\n      </g>\n     </g>\n     <g id=\"text_7\">\n      <!-- 1400 -->\n      <g transform=\"translate(520.778903 347.958438)scale(0.1 -0.1)\">\n       <use xlink:href=\"#DejaVuSans-49\"/>\n       <use x=\"63.623047\" xlink:href=\"#DejaVuSans-52\"/>\n       <use x=\"127.246094\" xlink:href=\"#DejaVuSans-48\"/>\n       <use x=\"190.869141\" xlink:href=\"#DejaVuSans-48\"/>\n      </g>\n     </g>\n    </g>\n   </g>\n   <g id=\"matplotlib.axis_2\">\n    <g id=\"ytick_1\">\n     <g id=\"line2d_8\">\n      <defs>\n       <path d=\"M 0 0 \nL -3.5 0 \n\" id=\"m92bd865329\" style=\"stroke:#000000;stroke-width:0.8;\"/>\n      </defs>\n      <g>\n       <use style=\"stroke:#000000;stroke-width:0.8;\" x=\"36.465625\" xlink:href=\"#m92bd865329\" y=\"294.968604\"/>\n      </g>\n     </g>\n     <g id=\"text_8\">\n      <!-- 0.40 -->\n      <defs>\n       <path d=\"M 10.6875 12.40625 \nL 21 12.40625 \nL 21 0 \nL 10.6875 0 \nz\n\" id=\"DejaVuSans-46\"/>\n      </defs>\n      <g transform=\"translate(7.2 298.767822)scale(0.1 -0.1)\">\n       <use xlink:href=\"#DejaVuSans-48\"/>\n       <use x=\"63.623047\" xlink:href=\"#DejaVuSans-46\"/>\n       <use x=\"95.410156\" xlink:href=\"#DejaVuSans-52\"/>\n       <use x=\"159.033203\" xlink:href=\"#DejaVuSans-48\"/>\n      </g>\n     </g>\n    </g>\n    <g id=\"ytick_2\">\n     <g id=\"line2d_9\">\n      <g>\n       <use style=\"stroke:#000000;stroke-width:0.8;\" x=\"36.465625\" xlink:href=\"#m92bd865329\" y=\"246.532828\"/>\n      </g>\n     </g>\n     <g id=\"text_9\">\n      <!-- 0.45 -->\n      <defs>\n       <path d=\"M 10.796875 72.90625 \nL 49.515625 72.90625 \nL 49.515625 64.59375 \nL 19.828125 64.59375 \nL 19.828125 46.734375 \nQ 21.96875 47.46875 24.109375 47.828125 \nQ 26.265625 48.1875 28.421875 48.1875 \nQ 40.625 48.1875 47.75 41.5 \nQ 54.890625 34.8125 54.890625 23.390625 \nQ 54.890625 11.625 47.5625 5.09375 \nQ 40.234375 -1.421875 26.90625 -1.421875 \nQ 22.3125 -1.421875 17.546875 -0.640625 \nQ 12.796875 0.140625 7.71875 1.703125 \nL 7.71875 11.625 \nQ 12.109375 9.234375 16.796875 8.0625 \nQ 21.484375 6.890625 26.703125 6.890625 \nQ 35.15625 6.890625 40.078125 11.328125 \nQ 45.015625 15.765625 45.015625 23.390625 \nQ 45.015625 31 40.078125 35.4375 \nQ 35.15625 39.890625 26.703125 39.890625 \nQ 22.75 39.890625 18.8125 39.015625 \nQ 14.890625 38.140625 10.796875 36.28125 \nz\n\" id=\"DejaVuSans-53\"/>\n      </defs>\n      <g transform=\"translate(7.2 250.332047)scale(0.1 -0.1)\">\n       <use xlink:href=\"#DejaVuSans-48\"/>\n       <use x=\"63.623047\" xlink:href=\"#DejaVuSans-46\"/>\n       <use x=\"95.410156\" xlink:href=\"#DejaVuSans-52\"/>\n       <use x=\"159.033203\" xlink:href=\"#DejaVuSans-53\"/>\n      </g>\n     </g>\n    </g>\n    <g id=\"ytick_3\">\n     <g id=\"line2d_10\">\n      <g>\n       <use style=\"stroke:#000000;stroke-width:0.8;\" x=\"36.465625\" xlink:href=\"#m92bd865329\" y=\"198.097053\"/>\n      </g>\n     </g>\n     <g id=\"text_10\">\n      <!-- 0.50 -->\n      <g transform=\"translate(7.2 201.896272)scale(0.1 -0.1)\">\n       <use xlink:href=\"#DejaVuSans-48\"/>\n       <use x=\"63.623047\" xlink:href=\"#DejaVuSans-46\"/>\n       <use x=\"95.410156\" xlink:href=\"#DejaVuSans-53\"/>\n       <use x=\"159.033203\" xlink:href=\"#DejaVuSans-48\"/>\n      </g>\n     </g>\n    </g>\n    <g id=\"ytick_4\">\n     <g id=\"line2d_11\">\n      <g>\n       <use style=\"stroke:#000000;stroke-width:0.8;\" x=\"36.465625\" xlink:href=\"#m92bd865329\" y=\"149.661278\"/>\n      </g>\n     </g>\n     <g id=\"text_11\">\n      <!-- 0.55 -->\n      <g transform=\"translate(7.2 153.460497)scale(0.1 -0.1)\">\n       <use xlink:href=\"#DejaVuSans-48\"/>\n       <use x=\"63.623047\" xlink:href=\"#DejaVuSans-46\"/>\n       <use x=\"95.410156\" xlink:href=\"#DejaVuSans-53\"/>\n       <use x=\"159.033203\" xlink:href=\"#DejaVuSans-53\"/>\n      </g>\n     </g>\n    </g>\n    <g id=\"ytick_5\">\n     <g id=\"line2d_12\">\n      <g>\n       <use style=\"stroke:#000000;stroke-width:0.8;\" x=\"36.465625\" xlink:href=\"#m92bd865329\" y=\"101.225503\"/>\n      </g>\n     </g>\n     <g id=\"text_12\">\n      <!-- 0.60 -->\n      <g transform=\"translate(7.2 105.024722)scale(0.1 -0.1)\">\n       <use xlink:href=\"#DejaVuSans-48\"/>\n       <use x=\"63.623047\" xlink:href=\"#DejaVuSans-46\"/>\n       <use x=\"95.410156\" xlink:href=\"#DejaVuSans-54\"/>\n       <use x=\"159.033203\" xlink:href=\"#DejaVuSans-48\"/>\n      </g>\n     </g>\n    </g>\n    <g id=\"ytick_6\">\n     <g id=\"line2d_13\">\n      <g>\n       <use style=\"stroke:#000000;stroke-width:0.8;\" x=\"36.465625\" xlink:href=\"#m92bd865329\" y=\"52.789728\"/>\n      </g>\n     </g>\n     <g id=\"text_13\">\n      <!-- 0.65 -->\n      <g transform=\"translate(7.2 56.588946)scale(0.1 -0.1)\">\n       <use xlink:href=\"#DejaVuSans-48\"/>\n       <use x=\"63.623047\" xlink:href=\"#DejaVuSans-46\"/>\n       <use x=\"95.410156\" xlink:href=\"#DejaVuSans-54\"/>\n       <use x=\"159.033203\" xlink:href=\"#DejaVuSans-53\"/>\n      </g>\n     </g>\n    </g>\n   </g>\n   <g id=\"line2d_14\">\n    <path clip-path=\"url(#pca416d4c8f)\" d=\"M 61.829261 22.025455 \nL 88.527826 25.163324 \nL 115.226391 35.617619 \nL 141.924955 57.459291 \nL 168.62352 31.061359 \nL 195.322084 43.680449 \nL 222.020649 73.699397 \nL 248.719214 62.452466 \nL 275.417778 101.688703 \nL 302.116343 52.90914 \nL 328.814907 129.850834 \nL 355.513472 150.250987 \nL 382.212036 242.527022 \nL 408.910601 199.637809 \nL 435.609166 243.205847 \nL 462.30773 254.092384 \nL 489.006295 262.774525 \nL 515.704859 318.056831 \nL 542.403424 309.682314 \nL 569.101989 318.534545 \n\" style=\"fill:none;stroke:#1f77b4;stroke-linecap:square;stroke-width:1.5;\"/>\n   </g>\n   <g id=\"patch_3\">\n    <path d=\"M 36.465625 333.36 \nL 36.465625 7.2 \n\" style=\"fill:none;stroke:#000000;stroke-linecap:square;stroke-linejoin:miter;stroke-width:0.8;\"/>\n   </g>\n   <g id=\"patch_4\">\n    <path d=\"M 594.465625 333.36 \nL 594.465625 7.2 \n\" style=\"fill:none;stroke:#000000;stroke-linecap:square;stroke-linejoin:miter;stroke-width:0.8;\"/>\n   </g>\n   <g id=\"patch_5\">\n    <path d=\"M 36.465625 333.36 \nL 594.465625 333.36 \n\" style=\"fill:none;stroke:#000000;stroke-linecap:square;stroke-linejoin:miter;stroke-width:0.8;\"/>\n   </g>\n   <g id=\"patch_6\">\n    <path d=\"M 36.465625 7.2 \nL 594.465625 7.2 \n\" style=\"fill:none;stroke:#000000;stroke-linecap:square;stroke-linejoin:miter;stroke-width:0.8;\"/>\n   </g>\n  </g>\n </g>\n <defs>\n  <clipPath id=\"pca416d4c8f\">\n   <rect height=\"326.16\" width=\"558\" x=\"36.465625\" y=\"7.2\"/>\n  </clipPath>\n </defs>\n</svg>\n"
          },
          "metadata": {
            "needs_background": "light"
          }
        }
      ]
    },
    {
      "cell_type": "markdown",
      "metadata": {
        "id": "rgYAIwyuEZy9"
      },
      "source": [
        "<!--@slideshow slide-->\n",
        "## Colab demo: `nn.LSTM`"
      ]
    },
    {
      "cell_type": "code",
      "metadata": {
        "id": "YDIqf6uTydn0"
      },
      "source": [
        "import torch\n",
        "import torch.nn as nn\n",
        "\n",
        "class ClassificationLSTM(nn.Module):\n",
        "    def __init__(self, input_size, hidden_size, output_size):\n",
        "        super().__init__()\n",
        "        self.lstm = nn.LSTM(input_size, hidden_size)\n",
        "        self.out = nn.Linear(hidden_size, output_size)\n",
        "        self.softmax = nn.LogSoftmax(dim=1)\n",
        "\n",
        "        # keep hidden sise for initialization of h_0, c_0\n",
        "        self.hidden_size = hidden_size\n",
        "\n",
        "    def forward(self, x):\n",
        "        # Set initial states\n",
        "        h0 = torch.zeros(1, 1, self.hidden_size)\n",
        "        c0 = torch.zeros(1, 1, self.hidden_size)\n",
        "        \n",
        "        # Forward propagate LSTM\n",
        "        out, _ = self.lstm(x, (h0, c0))  # out: tensor of shape (seq_len, batch, hidden_size)\n",
        "        \n",
        "        # Decode the hidden state of the last time step\n",
        "        out = self.out(out[-1, :, :])\n",
        "\n",
        "        return self.softmax(out)"
      ],
      "execution_count": 107,
      "outputs": []
    },
    {
      "cell_type": "code",
      "metadata": {
        "id": "z6TKHuZt14u9"
      },
      "source": [
        "def process_sequence_classification_lstm(lstm, target_tensor, input_tensor, learning_rate):\n",
        "    loss_function = nn.NLLLoss()\n",
        "    optimizer = torch.optim.Adam(lstm.parameters(), lr=learning_rate)\n",
        "\n",
        "    output = lstm(input_tensor)\n",
        "    loss = loss_function(output, target_tensor)\n",
        "\n",
        "    # backprop + update\n",
        "    optimizer.zero_grad()\n",
        "    loss.backward()\n",
        "    optimizer.step()\n",
        "\n",
        "    return loss.item()"
      ],
      "execution_count": 108,
      "outputs": []
    },
    {
      "cell_type": "markdown",
      "metadata": {
        "id": "Rguye2iJ3El0"
      },
      "source": [
        "Get the data"
      ]
    },
    {
      "cell_type": "code",
      "metadata": {
        "id": "jb8zSRwA3JUt"
      },
      "source": [
        "#@title run this cell to copy-paste the code from the previous lecture: get the data, define ClassificationRNN\n",
        "\n",
        "from collections import defaultdict\n",
        "category_to_names = defaultdict(list)\n",
        "with open(\"harbour-space-text-mining-course/datasets/pytorch_tutorial/names_by_language.txt\") as f:\n",
        "    for line in f:\n",
        "        name, category = line.strip().split(\"\\t\")\n",
        "        category_to_names[category].append(name)\n",
        "\n",
        "# count total number of letters\n",
        "all_letters = set()\n",
        "all_categories = set()\n",
        "\n",
        "for category, names in category_to_names.items():\n",
        "    all_categories.add(category)\n",
        "    for name in names:\n",
        "        all_letters.update(list(name))\n",
        "all_letters = list(sorted(all_letters))\n",
        "all_categories = list(sorted(all_categories))\n",
        "\n",
        "def name_to_tensor(name, all_letters):\n",
        "    tensor = torch.zeros(len(name), 1, len(all_letters))\n",
        "    for li, letter in enumerate(name):\n",
        "        letter_idx = all_letters.index(letter)\n",
        "        tensor[li][0][letter_idx] = 1  # one-hot encoding\n",
        "    return tensor\n",
        "\n",
        "category_to_training_samples = defaultdict(list)\n",
        "for category, names in category_to_names.items():\n",
        "    category_tensor = torch.tensor([all_categories.index(category)], dtype=torch.long)\n",
        "    for name in names:\n",
        "        name_tensor = name_to_tensor(name, all_letters)\n",
        "        sample = category_tensor, name_tensor\n",
        "        category_to_training_samples[category].append(sample)\n",
        "\n",
        "class ClassificationRNN(nn.Module):\n",
        "    def __init__(self, input_size, hidden_size, output_size):\n",
        "        super().__init__()\n",
        "        # instead of explicit matrix multiplications, we use Linear layers\n",
        "        # W_hh: hidden -> hidden\n",
        "        self.hh = nn.Linear(hidden_size, hidden_size)\n",
        "        # W_xh: input -> hidden\n",
        "        self.xh = nn.Linear(input_size, hidden_size)\n",
        "        # W_hy: hidden -> output\n",
        "        self.hy = nn.Linear(hidden_size, output_size)\n",
        "\n",
        "        # nonlinearities we will use:\n",
        "        # ReLU for h_t = f(h_{t-1}, x_t)\n",
        "        self.relu = nn.ReLU()\n",
        "        # LogSoftmax for y_t = g(h_t) (because we are doing classification)\n",
        "        self.softmax = nn.LogSoftmax(dim=1)\n",
        "\n",
        "        # keep hidden sise for initialization of h_0\n",
        "        self.hidden_size = hidden_size\n",
        "\n",
        "    def forward(self, x, h):\n",
        "        # h_t = f(h_{t-1}, x_t)\n",
        "        hidden = self.relu(self.hh(h) + self.xh(x))\n",
        "        # y_t = g(h_t)\n",
        "        output = self.softmax(self.hy(hidden))\n",
        "        return output, hidden\n",
        "\n",
        "    def h0(self):\n",
        "        # compute the initial value (all zeros) for the hidden state\n",
        "        return torch.zeros(1, self.hidden_size)\n",
        "import torch\n",
        "\n",
        "def process_sequence_classification(rnn, target_tensor, input_tensor, learning_rate):\n",
        "    \"\"\"\n",
        "    The algorithm:\n",
        "    - Read the input sequence left-to-right\n",
        "    - At each step, compute new hidden state and new output\n",
        "    - Get the last output (probability distribution over classes) and compute loss\n",
        "    - Backpropagate gradients and update parameters\n",
        "\n",
        "    input_tensor is a 3-dimensional tensor: sequence length x 1 x vocabulary size\n",
        "     - the first dimension: each element in this dimension corresponds to x_t\n",
        "     - the second dimension is a \"batch dimension\", in our case it always contains 1 element\n",
        "     - the last dimension contains components of x_t\n",
        "    \"\"\"\n",
        "\n",
        "    # prepare for backprop\n",
        "    rnn.zero_grad()\n",
        "    # initialize hidden state\n",
        "    hidden = rnn.h0()\n",
        "\n",
        "    # read all elements of the input sequence, update hidden state and output\n",
        "    for i in range(input_tensor.size()[0]):\n",
        "        output, hidden = rnn(input_tensor[i], hidden)\n",
        "\n",
        "    # get the last output, compute the loss function and backpropagate\n",
        "    loss_function = nn.NLLLoss()\n",
        "    loss = loss_function(output, target_tensor)\n",
        "    loss.backward()\n",
        "\n",
        "    # update parameters\n",
        "    with torch.no_grad():\n",
        "        for parameter in rnn.parameters():\n",
        "            parameter -= learning_rate * parameter.grad\n",
        "\n",
        "    return loss.item()"
      ],
      "execution_count": null,
      "outputs": []
    },
    {
      "cell_type": "markdown",
      "metadata": {
        "id": "A29gI4gB4dTp"
      },
      "source": [
        "Create and train `ClassificationLSTM`. Compare with `ClassificationRNN`."
      ]
    },
    {
      "cell_type": "code",
      "metadata": {
        "id": "jC-bKoFO3dfQ",
        "outputId": "ee38d771-6c8d-423f-8976-7619df43eb18",
        "colab": {
          "base_uri": "https://localhost:8080/",
          "height": 886,
          "referenced_widgets": [
            "092243280aff42e0bfa6b144cfe954ec",
            "cd72b3b59a724058900d34b0be58fb8b",
            "bca323cc65df4f3d8f4b0912b1513bc8",
            "ffe18f644b9c479899244793c88f6f77",
            "6c9cc53186454d52812bec562c83a726",
            "f7ac071c5090462e8b5d8b9bf0966217",
            "b460f677edd94b60b2715d78e2a3a713",
            "35bff58206884f589ff8bd0f3332eff0",
            "be1493f7e9e845ac82f686df375b2560",
            "7c3e1e743434460389ef42ab2fa29de2",
            "365677a6bfd54ce89c288dd0fac5a4c8"
          ]
        }
      },
      "source": [
        "n_hidden = 128\n",
        "classification_lstm = ClassificationLSTM(len(all_letters), n_hidden, len(all_categories))\n",
        "classification_rnn = ClassificationRNN(len(all_letters), n_hidden, len(all_categories))\n",
        "\n",
        "import math\n",
        "from tqdm.notebook import tqdm\n",
        "import random\n",
        "import numpy as np\n",
        "import matplotlib.pyplot as plt\n",
        "random.seed(0)\n",
        "\n",
        "n_iters = 30000\n",
        "print_every = 1500\n",
        "\n",
        "all_losses = []\n",
        "iterations = []\n",
        "losses = []\n",
        "all_rnn_losses = []\n",
        "rnn_losses = []\n",
        "\n",
        "for i in tqdm(range(1, n_iters + 1)):\n",
        "    random_category = random.choice(all_categories)\n",
        "    category_tensor, name_tensor = random.choice(category_to_training_samples[random_category])\n",
        "\n",
        "    loss = process_sequence_classification_lstm(classification_lstm, category_tensor, name_tensor, 0.0005)\n",
        "    all_losses.append(loss)\n",
        "\n",
        "    rnn_loss = process_sequence_classification(classification_rnn, category_tensor, name_tensor, 0.001)\n",
        "    all_rnn_losses.append(rnn_loss)\n",
        "    if i % print_every == 0:\n",
        "        iterations.append(i)\n",
        "        avg_loss = np.mean(all_losses[-print_every:])\n",
        "        losses.append(avg_loss)\n",
        "        avg_rnn_loss = np.mean(all_rnn_losses[-print_every:])\n",
        "        rnn_losses.append(avg_rnn_loss)\n",
        "        print(f\"iteration {i}: LSTM loss {avg_loss}, RNN loss {avg_rnn_loss}\")\n",
        "\n",
        "plt.plot(iterations, losses, label=\"lstm\")\n",
        "plt.plot(iterations, rnn_losses, label=\"rnn\")\n",
        "plt.legend()\n",
        "plt.show()"
      ],
      "execution_count": null,
      "outputs": [
        {
          "output_type": "display_data",
          "data": {
            "text/plain": [
              "  0%|          | 0/30000 [00:00<?, ?it/s]"
            ],
            "application/vnd.jupyter.widget-view+json": {
              "version_major": 2,
              "version_minor": 0,
              "model_id": "092243280aff42e0bfa6b144cfe954ec"
            }
          },
          "metadata": {}
        },
        {
          "output_type": "stream",
          "name": "stdout",
          "text": [
            "iteration 1500: LSTM loss 2.894873099565506, RNN loss 2.881076582590739\n",
            "iteration 3000: LSTM loss 2.7473600008090338, RNN loss 2.8791540959676105\n",
            "iteration 4500: LSTM loss 2.6561076455911, RNN loss 2.8719852242469788\n",
            "iteration 6000: LSTM loss 2.6675141136447587, RNN loss 2.85947118139267\n",
            "iteration 7500: LSTM loss 2.580185228347778, RNN loss 2.8544569341341655\n",
            "iteration 9000: LSTM loss 2.5998510634799796, RNN loss 2.843252766450246\n",
            "iteration 10500: LSTM loss 2.5457689182162286, RNN loss 2.835365706125895\n",
            "iteration 12000: LSTM loss 2.6813925033807755, RNN loss 2.827980145454407\n",
            "iteration 13500: LSTM loss 2.571714149509867, RNN loss 2.809374224503835\n",
            "iteration 15000: LSTM loss 2.4846291289660147, RNN loss 2.797473304748535\n",
            "iteration 16500: LSTM loss 2.4468680186614704, RNN loss 2.7824748633702594\n",
            "iteration 18000: LSTM loss 2.3647461305273074, RNN loss 2.7638352039655047\n",
            "iteration 19500: LSTM loss 2.324906009063125, RNN loss 2.750302448431651\n",
            "iteration 21000: LSTM loss 2.1754984594999502, RNN loss 2.700983225663503\n",
            "iteration 22500: LSTM loss 2.175117164983104, RNN loss 2.643208221832911\n",
            "iteration 24000: LSTM loss 2.2368644187673925, RNN loss 2.578930633187294\n",
            "iteration 25500: LSTM loss 2.0960752048439657, RNN loss 2.4913008249402044\n",
            "iteration 27000: LSTM loss 2.0509344929608826, RNN loss 2.4161236725846926\n",
            "iteration 28500: LSTM loss 2.058572649888927, RNN loss 2.3596679372588794\n",
            "iteration 30000: LSTM loss 2.091881714912578, RNN loss 2.3106530298988024\n"
          ]
        },
        {
          "output_type": "display_data",
          "data": {
            "text/plain": [
              "<Figure size 720x432 with 1 Axes>"
            ],
            "image/svg+xml": "<?xml version=\"1.0\" encoding=\"utf-8\" standalone=\"no\"?>\n<!DOCTYPE svg PUBLIC \"-//W3C//DTD SVG 1.1//EN\"\n  \"http://www.w3.org/Graphics/SVG/1.1/DTD/svg11.dtd\">\n<!-- Created with matplotlib (https://matplotlib.org/) -->\n<svg height=\"357.238125pt\" version=\"1.1\" viewBox=\"0 0 595.303125 357.238125\" width=\"595.303125pt\" xmlns=\"http://www.w3.org/2000/svg\" xmlns:xlink=\"http://www.w3.org/1999/xlink\">\n <defs>\n  <style type=\"text/css\">\n*{stroke-linecap:butt;stroke-linejoin:round;}\n  </style>\n </defs>\n <g id=\"figure_1\">\n  <g id=\"patch_1\">\n   <path d=\"M -0 357.238125 \nL 595.303125 357.238125 \nL 595.303125 0 \nL -0 0 \nz\n\" style=\"fill:none;\"/>\n  </g>\n  <g id=\"axes_1\">\n   <g id=\"patch_2\">\n    <path d=\"M 30.103125 333.36 \nL 588.103125 333.36 \nL 588.103125 7.2 \nL 30.103125 7.2 \nz\n\" style=\"fill:#ffffff;\"/>\n   </g>\n   <g id=\"matplotlib.axis_1\">\n    <g id=\"xtick_1\">\n     <g id=\"line2d_1\">\n      <defs>\n       <path d=\"M 0 0 \nL 0 3.5 \n\" id=\"m8e1d58e9e5\" style=\"stroke:#000000;stroke-width:0.8;\"/>\n      </defs>\n      <g>\n       <use style=\"stroke:#000000;stroke-width:0.8;\" x=\"117.763412\" xlink:href=\"#m8e1d58e9e5\" y=\"333.36\"/>\n      </g>\n     </g>\n     <g id=\"text_1\">\n      <!-- 5000 -->\n      <defs>\n       <path d=\"M 10.796875 72.90625 \nL 49.515625 72.90625 \nL 49.515625 64.59375 \nL 19.828125 64.59375 \nL 19.828125 46.734375 \nQ 21.96875 47.46875 24.109375 47.828125 \nQ 26.265625 48.1875 28.421875 48.1875 \nQ 40.625 48.1875 47.75 41.5 \nQ 54.890625 34.8125 54.890625 23.390625 \nQ 54.890625 11.625 47.5625 5.09375 \nQ 40.234375 -1.421875 26.90625 -1.421875 \nQ 22.3125 -1.421875 17.546875 -0.640625 \nQ 12.796875 0.140625 7.71875 1.703125 \nL 7.71875 11.625 \nQ 12.109375 9.234375 16.796875 8.0625 \nQ 21.484375 6.890625 26.703125 6.890625 \nQ 35.15625 6.890625 40.078125 11.328125 \nQ 45.015625 15.765625 45.015625 23.390625 \nQ 45.015625 31 40.078125 35.4375 \nQ 35.15625 39.890625 26.703125 39.890625 \nQ 22.75 39.890625 18.8125 39.015625 \nQ 14.890625 38.140625 10.796875 36.28125 \nz\n\" id=\"DejaVuSans-53\"/>\n       <path d=\"M 31.78125 66.40625 \nQ 24.171875 66.40625 20.328125 58.90625 \nQ 16.5 51.421875 16.5 36.375 \nQ 16.5 21.390625 20.328125 13.890625 \nQ 24.171875 6.390625 31.78125 6.390625 \nQ 39.453125 6.390625 43.28125 13.890625 \nQ 47.125 21.390625 47.125 36.375 \nQ 47.125 51.421875 43.28125 58.90625 \nQ 39.453125 66.40625 31.78125 66.40625 \nz\nM 31.78125 74.21875 \nQ 44.046875 74.21875 50.515625 64.515625 \nQ 56.984375 54.828125 56.984375 36.375 \nQ 56.984375 17.96875 50.515625 8.265625 \nQ 44.046875 -1.421875 31.78125 -1.421875 \nQ 19.53125 -1.421875 13.0625 8.265625 \nQ 6.59375 17.96875 6.59375 36.375 \nQ 6.59375 54.828125 13.0625 64.515625 \nQ 19.53125 74.21875 31.78125 74.21875 \nz\n\" id=\"DejaVuSans-48\"/>\n      </defs>\n      <g transform=\"translate(105.038412 347.958438)scale(0.1 -0.1)\">\n       <use xlink:href=\"#DejaVuSans-53\"/>\n       <use x=\"63.623047\" xlink:href=\"#DejaVuSans-48\"/>\n       <use x=\"127.246094\" xlink:href=\"#DejaVuSans-48\"/>\n       <use x=\"190.869141\" xlink:href=\"#DejaVuSans-48\"/>\n      </g>\n     </g>\n    </g>\n    <g id=\"xtick_2\">\n     <g id=\"line2d_2\">\n      <g>\n       <use style=\"stroke:#000000;stroke-width:0.8;\" x=\"206.758627\" xlink:href=\"#m8e1d58e9e5\" y=\"333.36\"/>\n      </g>\n     </g>\n     <g id=\"text_2\">\n      <!-- 10000 -->\n      <defs>\n       <path d=\"M 12.40625 8.296875 \nL 28.515625 8.296875 \nL 28.515625 63.921875 \nL 10.984375 60.40625 \nL 10.984375 69.390625 \nL 28.421875 72.90625 \nL 38.28125 72.90625 \nL 38.28125 8.296875 \nL 54.390625 8.296875 \nL 54.390625 0 \nL 12.40625 0 \nz\n\" id=\"DejaVuSans-49\"/>\n      </defs>\n      <g transform=\"translate(190.852377 347.958438)scale(0.1 -0.1)\">\n       <use xlink:href=\"#DejaVuSans-49\"/>\n       <use x=\"63.623047\" xlink:href=\"#DejaVuSans-48\"/>\n       <use x=\"127.246094\" xlink:href=\"#DejaVuSans-48\"/>\n       <use x=\"190.869141\" xlink:href=\"#DejaVuSans-48\"/>\n       <use x=\"254.492188\" xlink:href=\"#DejaVuSans-48\"/>\n      </g>\n     </g>\n    </g>\n    <g id=\"xtick_3\">\n     <g id=\"line2d_3\">\n      <g>\n       <use style=\"stroke:#000000;stroke-width:0.8;\" x=\"295.753843\" xlink:href=\"#m8e1d58e9e5\" y=\"333.36\"/>\n      </g>\n     </g>\n     <g id=\"text_3\">\n      <!-- 15000 -->\n      <g transform=\"translate(279.847593 347.958438)scale(0.1 -0.1)\">\n       <use xlink:href=\"#DejaVuSans-49\"/>\n       <use x=\"63.623047\" xlink:href=\"#DejaVuSans-53\"/>\n       <use x=\"127.246094\" xlink:href=\"#DejaVuSans-48\"/>\n       <use x=\"190.869141\" xlink:href=\"#DejaVuSans-48\"/>\n       <use x=\"254.492188\" xlink:href=\"#DejaVuSans-48\"/>\n      </g>\n     </g>\n    </g>\n    <g id=\"xtick_4\">\n     <g id=\"line2d_4\">\n      <g>\n       <use style=\"stroke:#000000;stroke-width:0.8;\" x=\"384.749058\" xlink:href=\"#m8e1d58e9e5\" y=\"333.36\"/>\n      </g>\n     </g>\n     <g id=\"text_4\">\n      <!-- 20000 -->\n      <defs>\n       <path d=\"M 19.1875 8.296875 \nL 53.609375 8.296875 \nL 53.609375 0 \nL 7.328125 0 \nL 7.328125 8.296875 \nQ 12.9375 14.109375 22.625 23.890625 \nQ 32.328125 33.6875 34.8125 36.53125 \nQ 39.546875 41.84375 41.421875 45.53125 \nQ 43.3125 49.21875 43.3125 52.78125 \nQ 43.3125 58.59375 39.234375 62.25 \nQ 35.15625 65.921875 28.609375 65.921875 \nQ 23.96875 65.921875 18.8125 64.3125 \nQ 13.671875 62.703125 7.8125 59.421875 \nL 7.8125 69.390625 \nQ 13.765625 71.78125 18.9375 73 \nQ 24.125 74.21875 28.421875 74.21875 \nQ 39.75 74.21875 46.484375 68.546875 \nQ 53.21875 62.890625 53.21875 53.421875 \nQ 53.21875 48.921875 51.53125 44.890625 \nQ 49.859375 40.875 45.40625 35.40625 \nQ 44.1875 33.984375 37.640625 27.21875 \nQ 31.109375 20.453125 19.1875 8.296875 \nz\n\" id=\"DejaVuSans-50\"/>\n      </defs>\n      <g transform=\"translate(368.842808 347.958438)scale(0.1 -0.1)\">\n       <use xlink:href=\"#DejaVuSans-50\"/>\n       <use x=\"63.623047\" xlink:href=\"#DejaVuSans-48\"/>\n       <use x=\"127.246094\" xlink:href=\"#DejaVuSans-48\"/>\n       <use x=\"190.869141\" xlink:href=\"#DejaVuSans-48\"/>\n       <use x=\"254.492188\" xlink:href=\"#DejaVuSans-48\"/>\n      </g>\n     </g>\n    </g>\n    <g id=\"xtick_5\">\n     <g id=\"line2d_5\">\n      <g>\n       <use style=\"stroke:#000000;stroke-width:0.8;\" x=\"473.744273\" xlink:href=\"#m8e1d58e9e5\" y=\"333.36\"/>\n      </g>\n     </g>\n     <g id=\"text_5\">\n      <!-- 25000 -->\n      <g transform=\"translate(457.838023 347.958438)scale(0.1 -0.1)\">\n       <use xlink:href=\"#DejaVuSans-50\"/>\n       <use x=\"63.623047\" xlink:href=\"#DejaVuSans-53\"/>\n       <use x=\"127.246094\" xlink:href=\"#DejaVuSans-48\"/>\n       <use x=\"190.869141\" xlink:href=\"#DejaVuSans-48\"/>\n       <use x=\"254.492188\" xlink:href=\"#DejaVuSans-48\"/>\n      </g>\n     </g>\n    </g>\n    <g id=\"xtick_6\">\n     <g id=\"line2d_6\">\n      <g>\n       <use style=\"stroke:#000000;stroke-width:0.8;\" x=\"562.739489\" xlink:href=\"#m8e1d58e9e5\" y=\"333.36\"/>\n      </g>\n     </g>\n     <g id=\"text_6\">\n      <!-- 30000 -->\n      <defs>\n       <path d=\"M 40.578125 39.3125 \nQ 47.65625 37.796875 51.625 33 \nQ 55.609375 28.21875 55.609375 21.1875 \nQ 55.609375 10.40625 48.1875 4.484375 \nQ 40.765625 -1.421875 27.09375 -1.421875 \nQ 22.515625 -1.421875 17.65625 -0.515625 \nQ 12.796875 0.390625 7.625 2.203125 \nL 7.625 11.71875 \nQ 11.71875 9.328125 16.59375 8.109375 \nQ 21.484375 6.890625 26.8125 6.890625 \nQ 36.078125 6.890625 40.9375 10.546875 \nQ 45.796875 14.203125 45.796875 21.1875 \nQ 45.796875 27.640625 41.28125 31.265625 \nQ 36.765625 34.90625 28.71875 34.90625 \nL 20.21875 34.90625 \nL 20.21875 43.015625 \nL 29.109375 43.015625 \nQ 36.375 43.015625 40.234375 45.921875 \nQ 44.09375 48.828125 44.09375 54.296875 \nQ 44.09375 59.90625 40.109375 62.90625 \nQ 36.140625 65.921875 28.71875 65.921875 \nQ 24.65625 65.921875 20.015625 65.03125 \nQ 15.375 64.15625 9.8125 62.3125 \nL 9.8125 71.09375 \nQ 15.4375 72.65625 20.34375 73.4375 \nQ 25.25 74.21875 29.59375 74.21875 \nQ 40.828125 74.21875 47.359375 69.109375 \nQ 53.90625 64.015625 53.90625 55.328125 \nQ 53.90625 49.265625 50.4375 45.09375 \nQ 46.96875 40.921875 40.578125 39.3125 \nz\n\" id=\"DejaVuSans-51\"/>\n      </defs>\n      <g transform=\"translate(546.833239 347.958438)scale(0.1 -0.1)\">\n       <use xlink:href=\"#DejaVuSans-51\"/>\n       <use x=\"63.623047\" xlink:href=\"#DejaVuSans-48\"/>\n       <use x=\"127.246094\" xlink:href=\"#DejaVuSans-48\"/>\n       <use x=\"190.869141\" xlink:href=\"#DejaVuSans-48\"/>\n       <use x=\"254.492188\" xlink:href=\"#DejaVuSans-48\"/>\n      </g>\n     </g>\n    </g>\n   </g>\n   <g id=\"matplotlib.axis_2\">\n    <g id=\"ytick_1\">\n     <g id=\"line2d_7\">\n      <defs>\n       <path d=\"M 0 0 \nL -3.5 0 \n\" id=\"m1b53cabbb5\" style=\"stroke:#000000;stroke-width:0.8;\"/>\n      </defs>\n      <g>\n       <use style=\"stroke:#000000;stroke-width:0.8;\" x=\"30.103125\" xlink:href=\"#m1b53cabbb5\" y=\"266.161923\"/>\n      </g>\n     </g>\n     <g id=\"text_7\">\n      <!-- 2.2 -->\n      <defs>\n       <path d=\"M 10.6875 12.40625 \nL 21 12.40625 \nL 21 0 \nL 10.6875 0 \nz\n\" id=\"DejaVuSans-46\"/>\n      </defs>\n      <g transform=\"translate(7.2 269.961142)scale(0.1 -0.1)\">\n       <use xlink:href=\"#DejaVuSans-50\"/>\n       <use x=\"63.623047\" xlink:href=\"#DejaVuSans-46\"/>\n       <use x=\"95.410156\" xlink:href=\"#DejaVuSans-50\"/>\n      </g>\n     </g>\n    </g>\n    <g id=\"ytick_2\">\n     <g id=\"line2d_8\">\n      <g>\n       <use style=\"stroke:#000000;stroke-width:0.8;\" x=\"30.103125\" xlink:href=\"#m1b53cabbb5\" y=\"195.893994\"/>\n      </g>\n     </g>\n     <g id=\"text_8\">\n      <!-- 2.4 -->\n      <defs>\n       <path d=\"M 37.796875 64.3125 \nL 12.890625 25.390625 \nL 37.796875 25.390625 \nz\nM 35.203125 72.90625 \nL 47.609375 72.90625 \nL 47.609375 25.390625 \nL 58.015625 25.390625 \nL 58.015625 17.1875 \nL 47.609375 17.1875 \nL 47.609375 0 \nL 37.796875 0 \nL 37.796875 17.1875 \nL 4.890625 17.1875 \nL 4.890625 26.703125 \nz\n\" id=\"DejaVuSans-52\"/>\n      </defs>\n      <g transform=\"translate(7.2 199.693213)scale(0.1 -0.1)\">\n       <use xlink:href=\"#DejaVuSans-50\"/>\n       <use x=\"63.623047\" xlink:href=\"#DejaVuSans-46\"/>\n       <use x=\"95.410156\" xlink:href=\"#DejaVuSans-52\"/>\n      </g>\n     </g>\n    </g>\n    <g id=\"ytick_3\">\n     <g id=\"line2d_9\">\n      <g>\n       <use style=\"stroke:#000000;stroke-width:0.8;\" x=\"30.103125\" xlink:href=\"#m1b53cabbb5\" y=\"125.626065\"/>\n      </g>\n     </g>\n     <g id=\"text_9\">\n      <!-- 2.6 -->\n      <defs>\n       <path d=\"M 33.015625 40.375 \nQ 26.375 40.375 22.484375 35.828125 \nQ 18.609375 31.296875 18.609375 23.390625 \nQ 18.609375 15.53125 22.484375 10.953125 \nQ 26.375 6.390625 33.015625 6.390625 \nQ 39.65625 6.390625 43.53125 10.953125 \nQ 47.40625 15.53125 47.40625 23.390625 \nQ 47.40625 31.296875 43.53125 35.828125 \nQ 39.65625 40.375 33.015625 40.375 \nz\nM 52.59375 71.296875 \nL 52.59375 62.3125 \nQ 48.875 64.0625 45.09375 64.984375 \nQ 41.3125 65.921875 37.59375 65.921875 \nQ 27.828125 65.921875 22.671875 59.328125 \nQ 17.53125 52.734375 16.796875 39.40625 \nQ 19.671875 43.65625 24.015625 45.921875 \nQ 28.375 48.1875 33.59375 48.1875 \nQ 44.578125 48.1875 50.953125 41.515625 \nQ 57.328125 34.859375 57.328125 23.390625 \nQ 57.328125 12.15625 50.6875 5.359375 \nQ 44.046875 -1.421875 33.015625 -1.421875 \nQ 20.359375 -1.421875 13.671875 8.265625 \nQ 6.984375 17.96875 6.984375 36.375 \nQ 6.984375 53.65625 15.1875 63.9375 \nQ 23.390625 74.21875 37.203125 74.21875 \nQ 40.921875 74.21875 44.703125 73.484375 \nQ 48.484375 72.75 52.59375 71.296875 \nz\n\" id=\"DejaVuSans-54\"/>\n      </defs>\n      <g transform=\"translate(7.2 129.425284)scale(0.1 -0.1)\">\n       <use xlink:href=\"#DejaVuSans-50\"/>\n       <use x=\"63.623047\" xlink:href=\"#DejaVuSans-46\"/>\n       <use x=\"95.410156\" xlink:href=\"#DejaVuSans-54\"/>\n      </g>\n     </g>\n    </g>\n    <g id=\"ytick_4\">\n     <g id=\"line2d_10\">\n      <g>\n       <use style=\"stroke:#000000;stroke-width:0.8;\" x=\"30.103125\" xlink:href=\"#m1b53cabbb5\" y=\"55.358136\"/>\n      </g>\n     </g>\n     <g id=\"text_10\">\n      <!-- 2.8 -->\n      <defs>\n       <path d=\"M 31.78125 34.625 \nQ 24.75 34.625 20.71875 30.859375 \nQ 16.703125 27.09375 16.703125 20.515625 \nQ 16.703125 13.921875 20.71875 10.15625 \nQ 24.75 6.390625 31.78125 6.390625 \nQ 38.8125 6.390625 42.859375 10.171875 \nQ 46.921875 13.96875 46.921875 20.515625 \nQ 46.921875 27.09375 42.890625 30.859375 \nQ 38.875 34.625 31.78125 34.625 \nz\nM 21.921875 38.8125 \nQ 15.578125 40.375 12.03125 44.71875 \nQ 8.5 49.078125 8.5 55.328125 \nQ 8.5 64.0625 14.71875 69.140625 \nQ 20.953125 74.21875 31.78125 74.21875 \nQ 42.671875 74.21875 48.875 69.140625 \nQ 55.078125 64.0625 55.078125 55.328125 \nQ 55.078125 49.078125 51.53125 44.71875 \nQ 48 40.375 41.703125 38.8125 \nQ 48.828125 37.15625 52.796875 32.3125 \nQ 56.78125 27.484375 56.78125 20.515625 \nQ 56.78125 9.90625 50.3125 4.234375 \nQ 43.84375 -1.421875 31.78125 -1.421875 \nQ 19.734375 -1.421875 13.25 4.234375 \nQ 6.78125 9.90625 6.78125 20.515625 \nQ 6.78125 27.484375 10.78125 32.3125 \nQ 14.796875 37.15625 21.921875 38.8125 \nz\nM 18.3125 54.390625 \nQ 18.3125 48.734375 21.84375 45.5625 \nQ 25.390625 42.390625 31.78125 42.390625 \nQ 38.140625 42.390625 41.71875 45.5625 \nQ 45.3125 48.734375 45.3125 54.390625 \nQ 45.3125 60.0625 41.71875 63.234375 \nQ 38.140625 66.40625 31.78125 66.40625 \nQ 25.390625 66.40625 21.84375 63.234375 \nQ 18.3125 60.0625 18.3125 54.390625 \nz\n\" id=\"DejaVuSans-56\"/>\n      </defs>\n      <g transform=\"translate(7.2 59.157354)scale(0.1 -0.1)\">\n       <use xlink:href=\"#DejaVuSans-50\"/>\n       <use x=\"63.623047\" xlink:href=\"#DejaVuSans-46\"/>\n       <use x=\"95.410156\" xlink:href=\"#DejaVuSans-56\"/>\n      </g>\n     </g>\n    </g>\n   </g>\n   <g id=\"line2d_11\">\n    <path clip-path=\"url(#p15c34eee78)\" d=\"M 55.466761 22.025455 \nL 82.165326 73.852654 \nL 108.863891 105.913225 \nL 135.562455 101.90568 \nL 162.26102 132.58778 \nL 188.959584 125.678392 \nL 215.658149 144.679594 \nL 242.356714 97.029652 \nL 269.055278 135.564006 \nL 295.753843 166.160426 \nL 322.452407 179.427401 \nL 349.150972 208.280076 \nL 375.849536 222.27749 \nL 402.548101 274.770286 \nL 429.246666 274.904249 \nL 455.94523 253.209991 \nL 482.643795 302.674824 \nL 509.342359 318.534545 \nL 536.040924 315.850958 \nL 562.739489 304.148163 \n\" style=\"fill:none;stroke:#1f77b4;stroke-linecap:square;stroke-width:1.5;\"/>\n   </g>\n   <g id=\"line2d_12\">\n    <path clip-path=\"url(#p15c34eee78)\" d=\"M 55.466761 26.872718 \nL 82.165326 27.548164 \nL 108.863891 30.066873 \nL 135.562455 34.463552 \nL 162.26102 36.225256 \nL 188.959584 40.161724 \nL 215.658149 42.932761 \nL 242.356714 45.527601 \nL 269.055278 52.064599 \nL 295.753843 56.245864 \nL 322.452407 61.515411 \nL 349.150972 68.064262 \nL 375.849536 72.818856 \nL 402.548101 90.146654 \nL 429.246666 110.445303 \nL 455.94523 133.028569 \nL 482.643795 163.816394 \nL 509.342359 190.229109 \nL 536.040924 210.064247 \nL 562.739489 227.285127 \n\" style=\"fill:none;stroke:#ff7f0e;stroke-linecap:square;stroke-width:1.5;\"/>\n   </g>\n   <g id=\"patch_3\">\n    <path d=\"M 30.103125 333.36 \nL 30.103125 7.2 \n\" style=\"fill:none;stroke:#000000;stroke-linecap:square;stroke-linejoin:miter;stroke-width:0.8;\"/>\n   </g>\n   <g id=\"patch_4\">\n    <path d=\"M 588.103125 333.36 \nL 588.103125 7.2 \n\" style=\"fill:none;stroke:#000000;stroke-linecap:square;stroke-linejoin:miter;stroke-width:0.8;\"/>\n   </g>\n   <g id=\"patch_5\">\n    <path d=\"M 30.103125 333.36 \nL 588.103125 333.36 \n\" style=\"fill:none;stroke:#000000;stroke-linecap:square;stroke-linejoin:miter;stroke-width:0.8;\"/>\n   </g>\n   <g id=\"patch_6\">\n    <path d=\"M 30.103125 7.2 \nL 588.103125 7.2 \n\" style=\"fill:none;stroke:#000000;stroke-linecap:square;stroke-linejoin:miter;stroke-width:0.8;\"/>\n   </g>\n   <g id=\"legend_1\">\n    <g id=\"patch_7\">\n     <path d=\"M 527.454687 44.55625 \nL 581.103125 44.55625 \nQ 583.103125 44.55625 583.103125 42.55625 \nL 583.103125 14.2 \nQ 583.103125 12.2 581.103125 12.2 \nL 527.454687 12.2 \nQ 525.454687 12.2 525.454687 14.2 \nL 525.454687 42.55625 \nQ 525.454687 44.55625 527.454687 44.55625 \nz\n\" style=\"fill:#ffffff;opacity:0.8;stroke:#cccccc;stroke-linejoin:miter;\"/>\n    </g>\n    <g id=\"line2d_13\">\n     <path d=\"M 529.454687 20.298438 \nL 549.454687 20.298438 \n\" style=\"fill:none;stroke:#1f77b4;stroke-linecap:square;stroke-width:1.5;\"/>\n    </g>\n    <g id=\"line2d_14\"/>\n    <g id=\"text_11\">\n     <!-- lstm -->\n     <defs>\n      <path d=\"M 9.421875 75.984375 \nL 18.40625 75.984375 \nL 18.40625 0 \nL 9.421875 0 \nz\n\" id=\"DejaVuSans-108\"/>\n      <path d=\"M 44.28125 53.078125 \nL 44.28125 44.578125 \nQ 40.484375 46.53125 36.375 47.5 \nQ 32.28125 48.484375 27.875 48.484375 \nQ 21.1875 48.484375 17.84375 46.4375 \nQ 14.5 44.390625 14.5 40.28125 \nQ 14.5 37.15625 16.890625 35.375 \nQ 19.28125 33.59375 26.515625 31.984375 \nL 29.59375 31.296875 \nQ 39.15625 29.25 43.1875 25.515625 \nQ 47.21875 21.78125 47.21875 15.09375 \nQ 47.21875 7.46875 41.1875 3.015625 \nQ 35.15625 -1.421875 24.609375 -1.421875 \nQ 20.21875 -1.421875 15.453125 -0.5625 \nQ 10.6875 0.296875 5.421875 2 \nL 5.421875 11.28125 \nQ 10.40625 8.6875 15.234375 7.390625 \nQ 20.0625 6.109375 24.8125 6.109375 \nQ 31.15625 6.109375 34.5625 8.28125 \nQ 37.984375 10.453125 37.984375 14.40625 \nQ 37.984375 18.0625 35.515625 20.015625 \nQ 33.0625 21.96875 24.703125 23.78125 \nL 21.578125 24.515625 \nQ 13.234375 26.265625 9.515625 29.90625 \nQ 5.8125 33.546875 5.8125 39.890625 \nQ 5.8125 47.609375 11.28125 51.796875 \nQ 16.75 56 26.8125 56 \nQ 31.78125 56 36.171875 55.265625 \nQ 40.578125 54.546875 44.28125 53.078125 \nz\n\" id=\"DejaVuSans-115\"/>\n      <path d=\"M 18.3125 70.21875 \nL 18.3125 54.6875 \nL 36.8125 54.6875 \nL 36.8125 47.703125 \nL 18.3125 47.703125 \nL 18.3125 18.015625 \nQ 18.3125 11.328125 20.140625 9.421875 \nQ 21.96875 7.515625 27.59375 7.515625 \nL 36.8125 7.515625 \nL 36.8125 0 \nL 27.59375 0 \nQ 17.1875 0 13.234375 3.875 \nQ 9.28125 7.765625 9.28125 18.015625 \nL 9.28125 47.703125 \nL 2.6875 47.703125 \nL 2.6875 54.6875 \nL 9.28125 54.6875 \nL 9.28125 70.21875 \nz\n\" id=\"DejaVuSans-116\"/>\n      <path d=\"M 52 44.1875 \nQ 55.375 50.25 60.0625 53.125 \nQ 64.75 56 71.09375 56 \nQ 79.640625 56 84.28125 50.015625 \nQ 88.921875 44.046875 88.921875 33.015625 \nL 88.921875 0 \nL 79.890625 0 \nL 79.890625 32.71875 \nQ 79.890625 40.578125 77.09375 44.375 \nQ 74.3125 48.1875 68.609375 48.1875 \nQ 61.625 48.1875 57.5625 43.546875 \nQ 53.515625 38.921875 53.515625 30.90625 \nL 53.515625 0 \nL 44.484375 0 \nL 44.484375 32.71875 \nQ 44.484375 40.625 41.703125 44.40625 \nQ 38.921875 48.1875 33.109375 48.1875 \nQ 26.21875 48.1875 22.15625 43.53125 \nQ 18.109375 38.875 18.109375 30.90625 \nL 18.109375 0 \nL 9.078125 0 \nL 9.078125 54.6875 \nL 18.109375 54.6875 \nL 18.109375 46.1875 \nQ 21.1875 51.21875 25.484375 53.609375 \nQ 29.78125 56 35.6875 56 \nQ 41.65625 56 45.828125 52.96875 \nQ 50 49.953125 52 44.1875 \nz\n\" id=\"DejaVuSans-109\"/>\n     </defs>\n     <g transform=\"translate(557.454687 23.798438)scale(0.1 -0.1)\">\n      <use xlink:href=\"#DejaVuSans-108\"/>\n      <use x=\"27.783203\" xlink:href=\"#DejaVuSans-115\"/>\n      <use x=\"79.882812\" xlink:href=\"#DejaVuSans-116\"/>\n      <use x=\"119.091797\" xlink:href=\"#DejaVuSans-109\"/>\n     </g>\n    </g>\n    <g id=\"line2d_15\">\n     <path d=\"M 529.454687 34.976563 \nL 549.454687 34.976563 \n\" style=\"fill:none;stroke:#ff7f0e;stroke-linecap:square;stroke-width:1.5;\"/>\n    </g>\n    <g id=\"line2d_16\"/>\n    <g id=\"text_12\">\n     <!-- rnn -->\n     <defs>\n      <path d=\"M 41.109375 46.296875 \nQ 39.59375 47.171875 37.8125 47.578125 \nQ 36.03125 48 33.890625 48 \nQ 26.265625 48 22.1875 43.046875 \nQ 18.109375 38.09375 18.109375 28.8125 \nL 18.109375 0 \nL 9.078125 0 \nL 9.078125 54.6875 \nL 18.109375 54.6875 \nL 18.109375 46.1875 \nQ 20.953125 51.171875 25.484375 53.578125 \nQ 30.03125 56 36.53125 56 \nQ 37.453125 56 38.578125 55.875 \nQ 39.703125 55.765625 41.0625 55.515625 \nz\n\" id=\"DejaVuSans-114\"/>\n      <path d=\"M 54.890625 33.015625 \nL 54.890625 0 \nL 45.90625 0 \nL 45.90625 32.71875 \nQ 45.90625 40.484375 42.875 44.328125 \nQ 39.84375 48.1875 33.796875 48.1875 \nQ 26.515625 48.1875 22.3125 43.546875 \nQ 18.109375 38.921875 18.109375 30.90625 \nL 18.109375 0 \nL 9.078125 0 \nL 9.078125 54.6875 \nL 18.109375 54.6875 \nL 18.109375 46.1875 \nQ 21.34375 51.125 25.703125 53.5625 \nQ 30.078125 56 35.796875 56 \nQ 45.21875 56 50.046875 50.171875 \nQ 54.890625 44.34375 54.890625 33.015625 \nz\n\" id=\"DejaVuSans-110\"/>\n     </defs>\n     <g transform=\"translate(557.454687 38.476563)scale(0.1 -0.1)\">\n      <use xlink:href=\"#DejaVuSans-114\"/>\n      <use x=\"39.363281\" xlink:href=\"#DejaVuSans-110\"/>\n      <use x=\"102.742188\" xlink:href=\"#DejaVuSans-110\"/>\n     </g>\n    </g>\n   </g>\n  </g>\n </g>\n <defs>\n  <clipPath id=\"p15c34eee78\">\n   <rect height=\"326.16\" width=\"558\" x=\"30.103125\" y=\"7.2\"/>\n  </clipPath>\n </defs>\n</svg>\n"
          },
          "metadata": {
            "needs_background": "light"
          }
        }
      ]
    },
    {
      "cell_type": "markdown",
      "metadata": {
        "id": "C_8XL2wPC6bt"
      },
      "source": [
        "<!--@slideshow slide-->\n",
        "# Summary\n",
        "1. Methods of gradient optimization: \"vanilla\", momentum, Nesterov momentum, Adagrad, RMSProp, Adam.\n",
        "1. Conflicting updates in RNN\n",
        "1. Long Short-Term Memory (LSTM)\n",
        "  - Treat the hidden state as \"memory\" and control its updates depending on the input.\n",
        "  - Cell state and cell update\n",
        "  - Output gate\n",
        "  - Input gate\n",
        "  - Forget gate"
      ]
    },
    {
      "cell_type": "markdown",
      "metadata": {
        "id": "wLgrgziTAvMp"
      },
      "source": [
        "<!--@slideshow slide-->\n",
        "# Recommended resources\n",
        "- [Deep Learning Book, ch. 10: Sequence Modeling: Recurrentand Recursive Nets](https://www.deeplearningbook.org/contents/rnn.html)\n",
        "- [Understanding LSTMs](https://colah.github.io/posts/2015-08-Understanding-LSTMs/)\n",
        "- [Sepp Hochreiter and Jürgen Schmidhuber, “Long Short-Term Memory,” Neural Computation 9, no. 8 (1997).](http://citeseerx.ist.psu.edu/viewdoc/download?doi=10.1.1.676.4320&rep=rep1&type=pdf)"
      ]
    },
    {
      "cell_type": "markdown",
      "metadata": {
        "id": "tN33OgFouZH6"
      },
      "source": [
        "<!--@slideshow slide-->\n",
        "# Home assignment 6\n",
        "## Exercise 1 (2 points)\n",
        "Refactor your solution from the Home Assignment 4: in the function `train_clf`, use Adam optimizer.\n",
        "\n",
        "## Exercise 2 (4 points)\n",
        "Refactor your solution from the Home Assignment 5 (Exercise 2): use `nn.LSTM` in `ClassificationRNN`."
      ]
    },
    {
      "cell_type": "code",
      "source": [
        "import numpy as np\n",
        "from tqdm.notebook import tqdm\n",
        "import matplotlib.pyplot as plt\n",
        "import torch\n",
        "\n",
        "def generate_data(xmin=-15, xmax=15, ymin=-15, ymax=15):\n",
        "    points = []\n",
        "    labels = []\n",
        "    for x in range(xmin, xmax):\n",
        "        for y in range(ymin, ymax):\n",
        "            points.append((float(x), float(y)))\n",
        "            labels.append(int(x * y < 0))\n",
        "    return points, labels\n",
        "\n",
        "def visualize_clf(clf, points):\n",
        "    import matplotlib.pyplot as plt\n",
        "    plt.axis('equal')\n",
        "    X = []\n",
        "    Y = []\n",
        "    C = []\n",
        "    for p in points:\n",
        "        x, y = p  # x1, x2 instead of x, y\n",
        "        r, g, b, a = 0, 0, 0, 0\n",
        "        result = clf.forward(torch.tensor([x, y]))\n",
        "        prob_1 = result[1].item()\n",
        "        if prob_1 > 0.5:\n",
        "            b = 1\n",
        "        else:\n",
        "            r = 1\n",
        "        a = max(prob_1, 1 - prob_1)\n",
        "        X.append(x)\n",
        "        Y.append(y)\n",
        "        C.append((r, g, b, a))\n",
        "    plt.scatter(X, Y, c=C)\n",
        "    plt.show()"
      ],
      "metadata": {
        "id": "tG8PxrthpQZ-"
      },
      "execution_count": null,
      "outputs": []
    },
    {
      "cell_type": "code",
      "source": [
        "import torch\n",
        "from torch import nn\n",
        "\n",
        "\n",
        "class XORSolver(nn.Module):\n",
        "    def __init__(self, N=10):\n",
        "        super().__init__()\n",
        "        torch.manual_seed(0)\n",
        "        # YOUR CODE HERE\n",
        "        # define the parameters W1, b1, W2, b2, W3, b3\n",
        "        # initialize randomly\n",
        "        self.N = N\n",
        "        self.W1 = nn.Parameter(torch.randn(N, 2)-0.5)\n",
        "        self.b1 = nn.Parameter(torch.randn(N)-0.5)\n",
        "        self.W2 = nn.Parameter(torch.randn(N, N)-0.5)\n",
        "        self.b2 = nn.Parameter(torch.randn(N)-0.5)\n",
        "        self.W3 = nn.Parameter(torch.randn(2, N)-0.5)\n",
        "        self.b3 = nn.Parameter(torch.randn(2)-0.5)\n",
        "    def relu(self, x):\n",
        "        return torch.max(x, torch.tensor([0.0], dtype=torch.float))\n",
        "    def forward(self, xy):\n",
        "        # YOUR CODE HERE\n",
        "        A = torch.matmul(xy, self.W1.t()) + self.b1\n",
        "        B = self.relu(A)\n",
        "        C = torch.matmul(B, self.W2.t()) + self.b2\n",
        "        D = self.relu(C)\n",
        "        E = torch.matmul(D, self.W3.t()) + self.b3\n",
        "        F = torch.softmax(E, dim=0)\n",
        "        return F"
      ],
      "metadata": {
        "id": "2qQhUDGooqSt"
      },
      "execution_count": null,
      "outputs": []
    },
    {
      "cell_type": "code",
      "source": [
        "def train_clf(clf, points, labels, num_iterations, learning_rate, seed=0):\n",
        "    np.random.seed(seed)\n",
        "    loss_function = nn.CrossEntropyLoss()\n",
        "    optimizer = torch.optim.Adam(clf.parameters(), lr=learning_rate)\n",
        "    for t in tqdm(range(num_iterations)):\n",
        "        idx = np.random.choice(range(len(points)))\n",
        "        x, y = points[idx]\n",
        "        label = labels[idx]   \n",
        "        target = torch.tensor([label], dtype=torch.long)\n",
        "        prediction = clf(torch.tensor([x, y])).unsqueeze(dim=0)\n",
        "        loss = loss_function(prediction, target)\n",
        "        optimizer.zero_grad()\n",
        "        loss.backward()\n",
        "        with torch.no_grad():\n",
        "            optimizer.step()\n"
      ],
      "metadata": {
        "id": "VdA6R_5Lv4Bj"
      },
      "execution_count": null,
      "outputs": []
    },
    {
      "cell_type": "code",
      "source": [
        "import torch\n",
        "import torch.nn as nn\n",
        "points, labels = generate_data()\n",
        "N = 10"
      ],
      "metadata": {
        "id": "_P8ZSS2rpcq3"
      },
      "execution_count": null,
      "outputs": []
    },
    {
      "cell_type": "code",
      "source": [
        "clf = XORSolver(N)\n",
        "num_iterations=10000\n",
        "learning_rate =0.01\n",
        "train_clf(clf, points, labels, num_iterations, learning_rate, seed=0)\n",
        "visualize_clf(clf, points)"
      ],
      "metadata": {
        "colab": {
          "base_uri": "https://localhost:8080/",
          "height": 529,
          "referenced_widgets": [
            "a09f1528982d4d15a939de4f9e2e292c",
            "6943891bdc364a2c9a0ff9c31c05e74c",
            "5493993a8aed44a2ac344f2f61f5cdba",
            "c4f0ca1a8aa641e4b4ddb7fd0db839d6",
            "83f7054e0cc34bb3b91875e64b246b9d",
            "aed4c5ab0897497383e2c9efeb623b94",
            "221bae3f5be64fc28cb3607d3b727726",
            "e473e5af7f6e44f38227d69137b5b6db",
            "ed0165c6b754428fbab0ca72190de398",
            "4d9aca0eb91e4466a0bf1e7d4a203728",
            "cd5945ced01d48babc3609bb5a2c5563"
          ]
        },
        "id": "ddwA5fN_o4If",
        "outputId": "d827ca2b-5624-49ad-f052-91c23d09693a"
      },
      "execution_count": null,
      "outputs": [
        {
          "output_type": "display_data",
          "data": {
            "text/plain": [
              "  0%|          | 0/10000 [00:00<?, ?it/s]"
            ],
            "application/vnd.jupyter.widget-view+json": {
              "version_major": 2,
              "version_minor": 0,
              "model_id": "a09f1528982d4d15a939de4f9e2e292c"
            }
          },
          "metadata": {}
        },
        {
          "output_type": "display_data",
          "data": {
            "text/plain": [
              "<Figure size 720x432 with 1 Axes>"
            ],
            "image/svg+xml": "<?xml version=\"1.0\" encoding=\"utf-8\" standalone=\"no\"?>\n<!DOCTYPE svg PUBLIC \"-//W3C//DTD SVG 1.1//EN\"\n  \"http://www.w3.org/Graphics/SVG/1.1/DTD/svg11.dtd\">\n<!-- Created with matplotlib (https://matplotlib.org/) -->\n<svg height=\"357.238125pt\" version=\"1.1\" viewBox=\"0 0 600.504688 357.238125\" width=\"600.504688pt\" xmlns=\"http://www.w3.org/2000/svg\" xmlns:xlink=\"http://www.w3.org/1999/xlink\">\n <defs>\n  <style type=\"text/css\">\n*{stroke-linecap:butt;stroke-linejoin:round;}\n  </style>\n </defs>\n <g id=\"figure_1\">\n  <g id=\"patch_1\">\n   <path d=\"M 0 357.238125 \nL 600.504688 357.238125 \nL 600.504688 0 \nL 0 0 \nz\n\" style=\"fill:none;\"/>\n  </g>\n  <g id=\"axes_1\">\n   <g id=\"patch_2\">\n    <path d=\"M 35.304688 333.36 \nL 593.304688 333.36 \nL 593.304688 7.2 \nL 35.304688 7.2 \nz\n\" style=\"fill:#ffffff;\"/>\n   </g>\n   <g id=\"PathCollection_1\">\n    <defs>\n     <path d=\"M 0 3 \nC 0.795609 3 1.55874 2.683901 2.12132 2.12132 \nC 2.683901 1.55874 3 0.795609 3 0 \nC 3 -0.795609 2.683901 -1.55874 2.12132 -2.12132 \nC 1.55874 -2.683901 0.795609 -3 0 -3 \nC -0.795609 -3 -1.55874 -2.683901 -2.12132 -2.12132 \nC -2.683901 -1.55874 -3 -0.795609 -3 0 \nC -3 0.795609 -2.683901 1.55874 -2.12132 2.12132 \nC -1.55874 2.683901 -0.795609 3 0 3 \nz\n\" id=\"C0_0_2293063c7b\"/>\n    </defs>\n    <g clip-path=\"url(#p5f4c5ece80)\">\n     <use style=\"fill:#ff0000;stroke:#ff0000;\" x=\"166.050142\" xlink:href=\"#C0_0_2293063c7b\" y=\"318.534545\"/>\n    </g>\n    <g clip-path=\"url(#p5f4c5ece80)\">\n     <use style=\"fill:#ff0000;stroke:#ff0000;\" x=\"166.050142\" xlink:href=\"#C0_0_2293063c7b\" y=\"308.310094\"/>\n    </g>\n    <g clip-path=\"url(#p5f4c5ece80)\">\n     <use style=\"fill:#ff0000;stroke:#ff0000;\" x=\"166.050142\" xlink:href=\"#C0_0_2293063c7b\" y=\"298.085643\"/>\n    </g>\n    <g clip-path=\"url(#p5f4c5ece80)\">\n     <use style=\"fill:#ff0000;stroke:#ff0000;\" x=\"166.050142\" xlink:href=\"#C0_0_2293063c7b\" y=\"287.861191\"/>\n    </g>\n    <g clip-path=\"url(#p5f4c5ece80)\">\n     <use style=\"fill:#ff0000;stroke:#ff0000;\" x=\"166.050142\" xlink:href=\"#C0_0_2293063c7b\" y=\"277.63674\"/>\n    </g>\n    <g clip-path=\"url(#p5f4c5ece80)\">\n     <use style=\"fill:#ff0000;stroke:#ff0000;\" x=\"166.050142\" xlink:href=\"#C0_0_2293063c7b\" y=\"267.412288\"/>\n    </g>\n    <g clip-path=\"url(#p5f4c5ece80)\">\n     <use style=\"fill:#ff0000;stroke:#ff0000;\" x=\"166.050142\" xlink:href=\"#C0_0_2293063c7b\" y=\"257.187837\"/>\n    </g>\n    <g clip-path=\"url(#p5f4c5ece80)\">\n     <use style=\"fill:#ff0000;stroke:#ff0000;\" x=\"166.050142\" xlink:href=\"#C0_0_2293063c7b\" y=\"246.963386\"/>\n    </g>\n    <g clip-path=\"url(#p5f4c5ece80)\">\n     <use style=\"fill:#ff0000;stroke:#ff0000;\" x=\"166.050142\" xlink:href=\"#C0_0_2293063c7b\" y=\"236.738934\"/>\n    </g>\n    <g clip-path=\"url(#p5f4c5ece80)\">\n     <use style=\"fill:#ff0000;stroke:#ff0000;\" x=\"166.050142\" xlink:href=\"#C0_0_2293063c7b\" y=\"226.514483\"/>\n    </g>\n    <g clip-path=\"url(#p5f4c5ece80)\">\n     <use style=\"fill:#ff0000;stroke:#ff0000;\" x=\"166.050142\" xlink:href=\"#C0_0_2293063c7b\" y=\"216.290031\"/>\n    </g>\n    <g clip-path=\"url(#p5f4c5ece80)\">\n     <use style=\"fill:#ff0000;stroke:#ff0000;\" x=\"166.050142\" xlink:href=\"#C0_0_2293063c7b\" y=\"206.06558\"/>\n    </g>\n    <g clip-path=\"url(#p5f4c5ece80)\">\n     <use style=\"fill:#ff0000;stroke:#ff0000;\" x=\"166.050142\" xlink:href=\"#C0_0_2293063c7b\" y=\"195.841129\"/>\n    </g>\n    <g clip-path=\"url(#p5f4c5ece80)\">\n     <use style=\"fill:#ff0000;stroke:#ff0000;\" x=\"166.050142\" xlink:href=\"#C0_0_2293063c7b\" y=\"185.616677\"/>\n    </g>\n    <g clip-path=\"url(#p5f4c5ece80)\">\n     <use style=\"fill:#ff0000;fill-opacity:1;stroke:#ff0000;stroke-opacity:1;\" x=\"166.050142\" xlink:href=\"#C0_0_2293063c7b\" y=\"175.392226\"/>\n    </g>\n    <g clip-path=\"url(#p5f4c5ece80)\">\n     <use style=\"fill:#0000ff;fill-opacity:0.999997;stroke:#0000ff;stroke-opacity:0.999997;\" x=\"166.050142\" xlink:href=\"#C0_0_2293063c7b\" y=\"165.167774\"/>\n    </g>\n    <g clip-path=\"url(#p5f4c5ece80)\">\n     <use style=\"fill:#0000ff;stroke:#0000ff;\" x=\"166.050142\" xlink:href=\"#C0_0_2293063c7b\" y=\"154.943323\"/>\n    </g>\n    <g clip-path=\"url(#p5f4c5ece80)\">\n     <use style=\"fill:#0000ff;stroke:#0000ff;\" x=\"166.050142\" xlink:href=\"#C0_0_2293063c7b\" y=\"144.718871\"/>\n    </g>\n    <g clip-path=\"url(#p5f4c5ece80)\">\n     <use style=\"fill:#0000ff;stroke:#0000ff;\" x=\"166.050142\" xlink:href=\"#C0_0_2293063c7b\" y=\"134.49442\"/>\n    </g>\n    <g clip-path=\"url(#p5f4c5ece80)\">\n     <use style=\"fill:#0000ff;stroke:#0000ff;\" x=\"166.050142\" xlink:href=\"#C0_0_2293063c7b\" y=\"124.269969\"/>\n    </g>\n    <g clip-path=\"url(#p5f4c5ece80)\">\n     <use style=\"fill:#0000ff;stroke:#0000ff;\" x=\"166.050142\" xlink:href=\"#C0_0_2293063c7b\" y=\"114.045517\"/>\n    </g>\n    <g clip-path=\"url(#p5f4c5ece80)\">\n     <use style=\"fill:#0000ff;stroke:#0000ff;\" x=\"166.050142\" xlink:href=\"#C0_0_2293063c7b\" y=\"103.821066\"/>\n    </g>\n    <g clip-path=\"url(#p5f4c5ece80)\">\n     <use style=\"fill:#0000ff;stroke:#0000ff;\" x=\"166.050142\" xlink:href=\"#C0_0_2293063c7b\" y=\"93.596614\"/>\n    </g>\n    <g clip-path=\"url(#p5f4c5ece80)\">\n     <use style=\"fill:#0000ff;stroke:#0000ff;\" x=\"166.050142\" xlink:href=\"#C0_0_2293063c7b\" y=\"83.372163\"/>\n    </g>\n    <g clip-path=\"url(#p5f4c5ece80)\">\n     <use style=\"fill:#0000ff;stroke:#0000ff;\" x=\"166.050142\" xlink:href=\"#C0_0_2293063c7b\" y=\"73.147712\"/>\n    </g>\n    <g clip-path=\"url(#p5f4c5ece80)\">\n     <use style=\"fill:#0000ff;stroke:#0000ff;\" x=\"166.050142\" xlink:href=\"#C0_0_2293063c7b\" y=\"62.92326\"/>\n    </g>\n    <g clip-path=\"url(#p5f4c5ece80)\">\n     <use style=\"fill:#0000ff;stroke:#0000ff;\" x=\"166.050142\" xlink:href=\"#C0_0_2293063c7b\" y=\"52.698809\"/>\n    </g>\n    <g clip-path=\"url(#p5f4c5ece80)\">\n     <use style=\"fill:#0000ff;stroke:#0000ff;\" x=\"166.050142\" xlink:href=\"#C0_0_2293063c7b\" y=\"42.474357\"/>\n    </g>\n    <g clip-path=\"url(#p5f4c5ece80)\">\n     <use style=\"fill:#0000ff;stroke:#0000ff;\" x=\"166.050142\" xlink:href=\"#C0_0_2293063c7b\" y=\"32.249906\"/>\n    </g>\n    <g clip-path=\"url(#p5f4c5ece80)\">\n     <use style=\"fill:#0000ff;stroke:#0000ff;\" x=\"166.050142\" xlink:href=\"#C0_0_2293063c7b\" y=\"22.025455\"/>\n    </g>\n    <g clip-path=\"url(#p5f4c5ece80)\">\n     <use style=\"fill:#ff0000;stroke:#ff0000;\" x=\"176.274593\" xlink:href=\"#C0_0_2293063c7b\" y=\"318.534545\"/>\n    </g>\n    <g clip-path=\"url(#p5f4c5ece80)\">\n     <use style=\"fill:#ff0000;stroke:#ff0000;\" x=\"176.274593\" xlink:href=\"#C0_0_2293063c7b\" y=\"308.310094\"/>\n    </g>\n    <g clip-path=\"url(#p5f4c5ece80)\">\n     <use style=\"fill:#ff0000;stroke:#ff0000;\" x=\"176.274593\" xlink:href=\"#C0_0_2293063c7b\" y=\"298.085643\"/>\n    </g>\n    <g clip-path=\"url(#p5f4c5ece80)\">\n     <use style=\"fill:#ff0000;stroke:#ff0000;\" x=\"176.274593\" xlink:href=\"#C0_0_2293063c7b\" y=\"287.861191\"/>\n    </g>\n    <g clip-path=\"url(#p5f4c5ece80)\">\n     <use style=\"fill:#ff0000;stroke:#ff0000;\" x=\"176.274593\" xlink:href=\"#C0_0_2293063c7b\" y=\"277.63674\"/>\n    </g>\n    <g clip-path=\"url(#p5f4c5ece80)\">\n     <use style=\"fill:#ff0000;stroke:#ff0000;\" x=\"176.274593\" xlink:href=\"#C0_0_2293063c7b\" y=\"267.412288\"/>\n    </g>\n    <g clip-path=\"url(#p5f4c5ece80)\">\n     <use style=\"fill:#ff0000;stroke:#ff0000;\" x=\"176.274593\" xlink:href=\"#C0_0_2293063c7b\" y=\"257.187837\"/>\n    </g>\n    <g clip-path=\"url(#p5f4c5ece80)\">\n     <use style=\"fill:#ff0000;stroke:#ff0000;\" x=\"176.274593\" xlink:href=\"#C0_0_2293063c7b\" y=\"246.963386\"/>\n    </g>\n    <g clip-path=\"url(#p5f4c5ece80)\">\n     <use style=\"fill:#ff0000;stroke:#ff0000;\" x=\"176.274593\" xlink:href=\"#C0_0_2293063c7b\" y=\"236.738934\"/>\n    </g>\n    <g clip-path=\"url(#p5f4c5ece80)\">\n     <use style=\"fill:#ff0000;stroke:#ff0000;\" x=\"176.274593\" xlink:href=\"#C0_0_2293063c7b\" y=\"226.514483\"/>\n    </g>\n    <g clip-path=\"url(#p5f4c5ece80)\">\n     <use style=\"fill:#ff0000;stroke:#ff0000;\" x=\"176.274593\" xlink:href=\"#C0_0_2293063c7b\" y=\"216.290031\"/>\n    </g>\n    <g clip-path=\"url(#p5f4c5ece80)\">\n     <use style=\"fill:#ff0000;stroke:#ff0000;\" x=\"176.274593\" xlink:href=\"#C0_0_2293063c7b\" y=\"206.06558\"/>\n    </g>\n    <g clip-path=\"url(#p5f4c5ece80)\">\n     <use style=\"fill:#ff0000;stroke:#ff0000;\" x=\"176.274593\" xlink:href=\"#C0_0_2293063c7b\" y=\"195.841129\"/>\n    </g>\n    <g clip-path=\"url(#p5f4c5ece80)\">\n     <use style=\"fill:#ff0000;stroke:#ff0000;\" x=\"176.274593\" xlink:href=\"#C0_0_2293063c7b\" y=\"185.616677\"/>\n    </g>\n    <g clip-path=\"url(#p5f4c5ece80)\">\n     <use style=\"fill:#ff0000;fill-opacity:1;stroke:#ff0000;stroke-opacity:1;\" x=\"176.274593\" xlink:href=\"#C0_0_2293063c7b\" y=\"175.392226\"/>\n    </g>\n    <g clip-path=\"url(#p5f4c5ece80)\">\n     <use style=\"fill:#0000ff;fill-opacity:0.999989;stroke:#0000ff;stroke-opacity:0.999989;\" x=\"176.274593\" xlink:href=\"#C0_0_2293063c7b\" y=\"165.167774\"/>\n    </g>\n    <g clip-path=\"url(#p5f4c5ece80)\">\n     <use style=\"fill:#0000ff;stroke:#0000ff;\" x=\"176.274593\" xlink:href=\"#C0_0_2293063c7b\" y=\"154.943323\"/>\n    </g>\n    <g clip-path=\"url(#p5f4c5ece80)\">\n     <use style=\"fill:#0000ff;stroke:#0000ff;\" x=\"176.274593\" xlink:href=\"#C0_0_2293063c7b\" y=\"144.718871\"/>\n    </g>\n    <g clip-path=\"url(#p5f4c5ece80)\">\n     <use style=\"fill:#0000ff;stroke:#0000ff;\" x=\"176.274593\" xlink:href=\"#C0_0_2293063c7b\" y=\"134.49442\"/>\n    </g>\n    <g clip-path=\"url(#p5f4c5ece80)\">\n     <use style=\"fill:#0000ff;stroke:#0000ff;\" x=\"176.274593\" xlink:href=\"#C0_0_2293063c7b\" y=\"124.269969\"/>\n    </g>\n    <g clip-path=\"url(#p5f4c5ece80)\">\n     <use style=\"fill:#0000ff;stroke:#0000ff;\" x=\"176.274593\" xlink:href=\"#C0_0_2293063c7b\" y=\"114.045517\"/>\n    </g>\n    <g clip-path=\"url(#p5f4c5ece80)\">\n     <use style=\"fill:#0000ff;stroke:#0000ff;\" x=\"176.274593\" xlink:href=\"#C0_0_2293063c7b\" y=\"103.821066\"/>\n    </g>\n    <g clip-path=\"url(#p5f4c5ece80)\">\n     <use style=\"fill:#0000ff;stroke:#0000ff;\" x=\"176.274593\" xlink:href=\"#C0_0_2293063c7b\" y=\"93.596614\"/>\n    </g>\n    <g clip-path=\"url(#p5f4c5ece80)\">\n     <use style=\"fill:#0000ff;stroke:#0000ff;\" x=\"176.274593\" xlink:href=\"#C0_0_2293063c7b\" y=\"83.372163\"/>\n    </g>\n    <g clip-path=\"url(#p5f4c5ece80)\">\n     <use style=\"fill:#0000ff;stroke:#0000ff;\" x=\"176.274593\" xlink:href=\"#C0_0_2293063c7b\" y=\"73.147712\"/>\n    </g>\n    <g clip-path=\"url(#p5f4c5ece80)\">\n     <use style=\"fill:#0000ff;stroke:#0000ff;\" x=\"176.274593\" xlink:href=\"#C0_0_2293063c7b\" y=\"62.92326\"/>\n    </g>\n    <g clip-path=\"url(#p5f4c5ece80)\">\n     <use style=\"fill:#0000ff;stroke:#0000ff;\" x=\"176.274593\" xlink:href=\"#C0_0_2293063c7b\" y=\"52.698809\"/>\n    </g>\n    <g clip-path=\"url(#p5f4c5ece80)\">\n     <use style=\"fill:#0000ff;stroke:#0000ff;\" x=\"176.274593\" xlink:href=\"#C0_0_2293063c7b\" y=\"42.474357\"/>\n    </g>\n    <g clip-path=\"url(#p5f4c5ece80)\">\n     <use style=\"fill:#0000ff;stroke:#0000ff;\" x=\"176.274593\" xlink:href=\"#C0_0_2293063c7b\" y=\"32.249906\"/>\n    </g>\n    <g clip-path=\"url(#p5f4c5ece80)\">\n     <use style=\"fill:#0000ff;stroke:#0000ff;\" x=\"176.274593\" xlink:href=\"#C0_0_2293063c7b\" y=\"22.025455\"/>\n    </g>\n    <g clip-path=\"url(#p5f4c5ece80)\">\n     <use style=\"fill:#ff0000;stroke:#ff0000;\" x=\"186.499045\" xlink:href=\"#C0_0_2293063c7b\" y=\"318.534545\"/>\n    </g>\n    <g clip-path=\"url(#p5f4c5ece80)\">\n     <use style=\"fill:#ff0000;stroke:#ff0000;\" x=\"186.499045\" xlink:href=\"#C0_0_2293063c7b\" y=\"308.310094\"/>\n    </g>\n    <g clip-path=\"url(#p5f4c5ece80)\">\n     <use style=\"fill:#ff0000;stroke:#ff0000;\" x=\"186.499045\" xlink:href=\"#C0_0_2293063c7b\" y=\"298.085643\"/>\n    </g>\n    <g clip-path=\"url(#p5f4c5ece80)\">\n     <use style=\"fill:#ff0000;stroke:#ff0000;\" x=\"186.499045\" xlink:href=\"#C0_0_2293063c7b\" y=\"287.861191\"/>\n    </g>\n    <g clip-path=\"url(#p5f4c5ece80)\">\n     <use style=\"fill:#ff0000;stroke:#ff0000;\" x=\"186.499045\" xlink:href=\"#C0_0_2293063c7b\" y=\"277.63674\"/>\n    </g>\n    <g clip-path=\"url(#p5f4c5ece80)\">\n     <use style=\"fill:#ff0000;stroke:#ff0000;\" x=\"186.499045\" xlink:href=\"#C0_0_2293063c7b\" y=\"267.412288\"/>\n    </g>\n    <g clip-path=\"url(#p5f4c5ece80)\">\n     <use style=\"fill:#ff0000;stroke:#ff0000;\" x=\"186.499045\" xlink:href=\"#C0_0_2293063c7b\" y=\"257.187837\"/>\n    </g>\n    <g clip-path=\"url(#p5f4c5ece80)\">\n     <use style=\"fill:#ff0000;stroke:#ff0000;\" x=\"186.499045\" xlink:href=\"#C0_0_2293063c7b\" y=\"246.963386\"/>\n    </g>\n    <g clip-path=\"url(#p5f4c5ece80)\">\n     <use style=\"fill:#ff0000;stroke:#ff0000;\" x=\"186.499045\" xlink:href=\"#C0_0_2293063c7b\" y=\"236.738934\"/>\n    </g>\n    <g clip-path=\"url(#p5f4c5ece80)\">\n     <use style=\"fill:#ff0000;stroke:#ff0000;\" x=\"186.499045\" xlink:href=\"#C0_0_2293063c7b\" y=\"226.514483\"/>\n    </g>\n    <g clip-path=\"url(#p5f4c5ece80)\">\n     <use style=\"fill:#ff0000;stroke:#ff0000;\" x=\"186.499045\" xlink:href=\"#C0_0_2293063c7b\" y=\"216.290031\"/>\n    </g>\n    <g clip-path=\"url(#p5f4c5ece80)\">\n     <use style=\"fill:#ff0000;stroke:#ff0000;\" x=\"186.499045\" xlink:href=\"#C0_0_2293063c7b\" y=\"206.06558\"/>\n    </g>\n    <g clip-path=\"url(#p5f4c5ece80)\">\n     <use style=\"fill:#ff0000;stroke:#ff0000;\" x=\"186.499045\" xlink:href=\"#C0_0_2293063c7b\" y=\"195.841129\"/>\n    </g>\n    <g clip-path=\"url(#p5f4c5ece80)\">\n     <use style=\"fill:#ff0000;stroke:#ff0000;\" x=\"186.499045\" xlink:href=\"#C0_0_2293063c7b\" y=\"185.616677\"/>\n    </g>\n    <g clip-path=\"url(#p5f4c5ece80)\">\n     <use style=\"fill:#ff0000;fill-opacity:1;stroke:#ff0000;stroke-opacity:1;\" x=\"186.499045\" xlink:href=\"#C0_0_2293063c7b\" y=\"175.392226\"/>\n    </g>\n    <g clip-path=\"url(#p5f4c5ece80)\">\n     <use style=\"fill:#0000ff;fill-opacity:0.999961;stroke:#0000ff;stroke-opacity:0.999961;\" x=\"186.499045\" xlink:href=\"#C0_0_2293063c7b\" y=\"165.167774\"/>\n    </g>\n    <g clip-path=\"url(#p5f4c5ece80)\">\n     <use style=\"fill:#0000ff;stroke:#0000ff;\" x=\"186.499045\" xlink:href=\"#C0_0_2293063c7b\" y=\"154.943323\"/>\n    </g>\n    <g clip-path=\"url(#p5f4c5ece80)\">\n     <use style=\"fill:#0000ff;stroke:#0000ff;\" x=\"186.499045\" xlink:href=\"#C0_0_2293063c7b\" y=\"144.718871\"/>\n    </g>\n    <g clip-path=\"url(#p5f4c5ece80)\">\n     <use style=\"fill:#0000ff;stroke:#0000ff;\" x=\"186.499045\" xlink:href=\"#C0_0_2293063c7b\" y=\"134.49442\"/>\n    </g>\n    <g clip-path=\"url(#p5f4c5ece80)\">\n     <use style=\"fill:#0000ff;stroke:#0000ff;\" x=\"186.499045\" xlink:href=\"#C0_0_2293063c7b\" y=\"124.269969\"/>\n    </g>\n    <g clip-path=\"url(#p5f4c5ece80)\">\n     <use style=\"fill:#0000ff;stroke:#0000ff;\" x=\"186.499045\" xlink:href=\"#C0_0_2293063c7b\" y=\"114.045517\"/>\n    </g>\n    <g clip-path=\"url(#p5f4c5ece80)\">\n     <use style=\"fill:#0000ff;stroke:#0000ff;\" x=\"186.499045\" xlink:href=\"#C0_0_2293063c7b\" y=\"103.821066\"/>\n    </g>\n    <g clip-path=\"url(#p5f4c5ece80)\">\n     <use style=\"fill:#0000ff;stroke:#0000ff;\" x=\"186.499045\" xlink:href=\"#C0_0_2293063c7b\" y=\"93.596614\"/>\n    </g>\n    <g clip-path=\"url(#p5f4c5ece80)\">\n     <use style=\"fill:#0000ff;stroke:#0000ff;\" x=\"186.499045\" xlink:href=\"#C0_0_2293063c7b\" y=\"83.372163\"/>\n    </g>\n    <g clip-path=\"url(#p5f4c5ece80)\">\n     <use style=\"fill:#0000ff;stroke:#0000ff;\" x=\"186.499045\" xlink:href=\"#C0_0_2293063c7b\" y=\"73.147712\"/>\n    </g>\n    <g clip-path=\"url(#p5f4c5ece80)\">\n     <use style=\"fill:#0000ff;stroke:#0000ff;\" x=\"186.499045\" xlink:href=\"#C0_0_2293063c7b\" y=\"62.92326\"/>\n    </g>\n    <g clip-path=\"url(#p5f4c5ece80)\">\n     <use style=\"fill:#0000ff;stroke:#0000ff;\" x=\"186.499045\" xlink:href=\"#C0_0_2293063c7b\" y=\"52.698809\"/>\n    </g>\n    <g clip-path=\"url(#p5f4c5ece80)\">\n     <use style=\"fill:#0000ff;stroke:#0000ff;\" x=\"186.499045\" xlink:href=\"#C0_0_2293063c7b\" y=\"42.474357\"/>\n    </g>\n    <g clip-path=\"url(#p5f4c5ece80)\">\n     <use style=\"fill:#0000ff;stroke:#0000ff;\" x=\"186.499045\" xlink:href=\"#C0_0_2293063c7b\" y=\"32.249906\"/>\n    </g>\n    <g clip-path=\"url(#p5f4c5ece80)\">\n     <use style=\"fill:#0000ff;stroke:#0000ff;\" x=\"186.499045\" xlink:href=\"#C0_0_2293063c7b\" y=\"22.025455\"/>\n    </g>\n    <g clip-path=\"url(#p5f4c5ece80)\">\n     <use style=\"fill:#ff0000;stroke:#ff0000;\" x=\"196.723496\" xlink:href=\"#C0_0_2293063c7b\" y=\"318.534545\"/>\n    </g>\n    <g clip-path=\"url(#p5f4c5ece80)\">\n     <use style=\"fill:#ff0000;stroke:#ff0000;\" x=\"196.723496\" xlink:href=\"#C0_0_2293063c7b\" y=\"308.310094\"/>\n    </g>\n    <g clip-path=\"url(#p5f4c5ece80)\">\n     <use style=\"fill:#ff0000;stroke:#ff0000;\" x=\"196.723496\" xlink:href=\"#C0_0_2293063c7b\" y=\"298.085643\"/>\n    </g>\n    <g clip-path=\"url(#p5f4c5ece80)\">\n     <use style=\"fill:#ff0000;stroke:#ff0000;\" x=\"196.723496\" xlink:href=\"#C0_0_2293063c7b\" y=\"287.861191\"/>\n    </g>\n    <g clip-path=\"url(#p5f4c5ece80)\">\n     <use style=\"fill:#ff0000;stroke:#ff0000;\" x=\"196.723496\" xlink:href=\"#C0_0_2293063c7b\" y=\"277.63674\"/>\n    </g>\n    <g clip-path=\"url(#p5f4c5ece80)\">\n     <use style=\"fill:#ff0000;stroke:#ff0000;\" x=\"196.723496\" xlink:href=\"#C0_0_2293063c7b\" y=\"267.412288\"/>\n    </g>\n    <g clip-path=\"url(#p5f4c5ece80)\">\n     <use style=\"fill:#ff0000;stroke:#ff0000;\" x=\"196.723496\" xlink:href=\"#C0_0_2293063c7b\" y=\"257.187837\"/>\n    </g>\n    <g clip-path=\"url(#p5f4c5ece80)\">\n     <use style=\"fill:#ff0000;stroke:#ff0000;\" x=\"196.723496\" xlink:href=\"#C0_0_2293063c7b\" y=\"246.963386\"/>\n    </g>\n    <g clip-path=\"url(#p5f4c5ece80)\">\n     <use style=\"fill:#ff0000;stroke:#ff0000;\" x=\"196.723496\" xlink:href=\"#C0_0_2293063c7b\" y=\"236.738934\"/>\n    </g>\n    <g clip-path=\"url(#p5f4c5ece80)\">\n     <use style=\"fill:#ff0000;stroke:#ff0000;\" x=\"196.723496\" xlink:href=\"#C0_0_2293063c7b\" y=\"226.514483\"/>\n    </g>\n    <g clip-path=\"url(#p5f4c5ece80)\">\n     <use style=\"fill:#ff0000;stroke:#ff0000;\" x=\"196.723496\" xlink:href=\"#C0_0_2293063c7b\" y=\"216.290031\"/>\n    </g>\n    <g clip-path=\"url(#p5f4c5ece80)\">\n     <use style=\"fill:#ff0000;stroke:#ff0000;\" x=\"196.723496\" xlink:href=\"#C0_0_2293063c7b\" y=\"206.06558\"/>\n    </g>\n    <g clip-path=\"url(#p5f4c5ece80)\">\n     <use style=\"fill:#ff0000;stroke:#ff0000;\" x=\"196.723496\" xlink:href=\"#C0_0_2293063c7b\" y=\"195.841129\"/>\n    </g>\n    <g clip-path=\"url(#p5f4c5ece80)\">\n     <use style=\"fill:#ff0000;stroke:#ff0000;\" x=\"196.723496\" xlink:href=\"#C0_0_2293063c7b\" y=\"185.616677\"/>\n    </g>\n    <g clip-path=\"url(#p5f4c5ece80)\">\n     <use style=\"fill:#ff0000;fill-opacity:1;stroke:#ff0000;stroke-opacity:1;\" x=\"196.723496\" xlink:href=\"#C0_0_2293063c7b\" y=\"175.392226\"/>\n    </g>\n    <g clip-path=\"url(#p5f4c5ece80)\">\n     <use style=\"fill:#0000ff;fill-opacity:0.999868;stroke:#0000ff;stroke-opacity:0.999868;\" x=\"196.723496\" xlink:href=\"#C0_0_2293063c7b\" y=\"165.167774\"/>\n    </g>\n    <g clip-path=\"url(#p5f4c5ece80)\">\n     <use style=\"fill:#0000ff;stroke:#0000ff;\" x=\"196.723496\" xlink:href=\"#C0_0_2293063c7b\" y=\"154.943323\"/>\n    </g>\n    <g clip-path=\"url(#p5f4c5ece80)\">\n     <use style=\"fill:#0000ff;stroke:#0000ff;\" x=\"196.723496\" xlink:href=\"#C0_0_2293063c7b\" y=\"144.718871\"/>\n    </g>\n    <g clip-path=\"url(#p5f4c5ece80)\">\n     <use style=\"fill:#0000ff;stroke:#0000ff;\" x=\"196.723496\" xlink:href=\"#C0_0_2293063c7b\" y=\"134.49442\"/>\n    </g>\n    <g clip-path=\"url(#p5f4c5ece80)\">\n     <use style=\"fill:#0000ff;stroke:#0000ff;\" x=\"196.723496\" xlink:href=\"#C0_0_2293063c7b\" y=\"124.269969\"/>\n    </g>\n    <g clip-path=\"url(#p5f4c5ece80)\">\n     <use style=\"fill:#0000ff;stroke:#0000ff;\" x=\"196.723496\" xlink:href=\"#C0_0_2293063c7b\" y=\"114.045517\"/>\n    </g>\n    <g clip-path=\"url(#p5f4c5ece80)\">\n     <use style=\"fill:#0000ff;stroke:#0000ff;\" x=\"196.723496\" xlink:href=\"#C0_0_2293063c7b\" y=\"103.821066\"/>\n    </g>\n    <g clip-path=\"url(#p5f4c5ece80)\">\n     <use style=\"fill:#0000ff;stroke:#0000ff;\" x=\"196.723496\" xlink:href=\"#C0_0_2293063c7b\" y=\"93.596614\"/>\n    </g>\n    <g clip-path=\"url(#p5f4c5ece80)\">\n     <use style=\"fill:#0000ff;stroke:#0000ff;\" x=\"196.723496\" xlink:href=\"#C0_0_2293063c7b\" y=\"83.372163\"/>\n    </g>\n    <g clip-path=\"url(#p5f4c5ece80)\">\n     <use style=\"fill:#0000ff;stroke:#0000ff;\" x=\"196.723496\" xlink:href=\"#C0_0_2293063c7b\" y=\"73.147712\"/>\n    </g>\n    <g clip-path=\"url(#p5f4c5ece80)\">\n     <use style=\"fill:#0000ff;stroke:#0000ff;\" x=\"196.723496\" xlink:href=\"#C0_0_2293063c7b\" y=\"62.92326\"/>\n    </g>\n    <g clip-path=\"url(#p5f4c5ece80)\">\n     <use style=\"fill:#0000ff;stroke:#0000ff;\" x=\"196.723496\" xlink:href=\"#C0_0_2293063c7b\" y=\"52.698809\"/>\n    </g>\n    <g clip-path=\"url(#p5f4c5ece80)\">\n     <use style=\"fill:#0000ff;stroke:#0000ff;\" x=\"196.723496\" xlink:href=\"#C0_0_2293063c7b\" y=\"42.474357\"/>\n    </g>\n    <g clip-path=\"url(#p5f4c5ece80)\">\n     <use style=\"fill:#0000ff;stroke:#0000ff;\" x=\"196.723496\" xlink:href=\"#C0_0_2293063c7b\" y=\"32.249906\"/>\n    </g>\n    <g clip-path=\"url(#p5f4c5ece80)\">\n     <use style=\"fill:#0000ff;stroke:#0000ff;\" x=\"196.723496\" xlink:href=\"#C0_0_2293063c7b\" y=\"22.025455\"/>\n    </g>\n    <g clip-path=\"url(#p5f4c5ece80)\">\n     <use style=\"fill:#ff0000;stroke:#ff0000;\" x=\"206.947948\" xlink:href=\"#C0_0_2293063c7b\" y=\"318.534545\"/>\n    </g>\n    <g clip-path=\"url(#p5f4c5ece80)\">\n     <use style=\"fill:#ff0000;stroke:#ff0000;\" x=\"206.947948\" xlink:href=\"#C0_0_2293063c7b\" y=\"308.310094\"/>\n    </g>\n    <g clip-path=\"url(#p5f4c5ece80)\">\n     <use style=\"fill:#ff0000;stroke:#ff0000;\" x=\"206.947948\" xlink:href=\"#C0_0_2293063c7b\" y=\"298.085643\"/>\n    </g>\n    <g clip-path=\"url(#p5f4c5ece80)\">\n     <use style=\"fill:#ff0000;stroke:#ff0000;\" x=\"206.947948\" xlink:href=\"#C0_0_2293063c7b\" y=\"287.861191\"/>\n    </g>\n    <g clip-path=\"url(#p5f4c5ece80)\">\n     <use style=\"fill:#ff0000;stroke:#ff0000;\" x=\"206.947948\" xlink:href=\"#C0_0_2293063c7b\" y=\"277.63674\"/>\n    </g>\n    <g clip-path=\"url(#p5f4c5ece80)\">\n     <use style=\"fill:#ff0000;stroke:#ff0000;\" x=\"206.947948\" xlink:href=\"#C0_0_2293063c7b\" y=\"267.412288\"/>\n    </g>\n    <g clip-path=\"url(#p5f4c5ece80)\">\n     <use style=\"fill:#ff0000;stroke:#ff0000;\" x=\"206.947948\" xlink:href=\"#C0_0_2293063c7b\" y=\"257.187837\"/>\n    </g>\n    <g clip-path=\"url(#p5f4c5ece80)\">\n     <use style=\"fill:#ff0000;stroke:#ff0000;\" x=\"206.947948\" xlink:href=\"#C0_0_2293063c7b\" y=\"246.963386\"/>\n    </g>\n    <g clip-path=\"url(#p5f4c5ece80)\">\n     <use style=\"fill:#ff0000;stroke:#ff0000;\" x=\"206.947948\" xlink:href=\"#C0_0_2293063c7b\" y=\"236.738934\"/>\n    </g>\n    <g clip-path=\"url(#p5f4c5ece80)\">\n     <use style=\"fill:#ff0000;stroke:#ff0000;\" x=\"206.947948\" xlink:href=\"#C0_0_2293063c7b\" y=\"226.514483\"/>\n    </g>\n    <g clip-path=\"url(#p5f4c5ece80)\">\n     <use style=\"fill:#ff0000;stroke:#ff0000;\" x=\"206.947948\" xlink:href=\"#C0_0_2293063c7b\" y=\"216.290031\"/>\n    </g>\n    <g clip-path=\"url(#p5f4c5ece80)\">\n     <use style=\"fill:#ff0000;stroke:#ff0000;\" x=\"206.947948\" xlink:href=\"#C0_0_2293063c7b\" y=\"206.06558\"/>\n    </g>\n    <g clip-path=\"url(#p5f4c5ece80)\">\n     <use style=\"fill:#ff0000;stroke:#ff0000;\" x=\"206.947948\" xlink:href=\"#C0_0_2293063c7b\" y=\"195.841129\"/>\n    </g>\n    <g clip-path=\"url(#p5f4c5ece80)\">\n     <use style=\"fill:#ff0000;stroke:#ff0000;\" x=\"206.947948\" xlink:href=\"#C0_0_2293063c7b\" y=\"185.616677\"/>\n    </g>\n    <g clip-path=\"url(#p5f4c5ece80)\">\n     <use style=\"fill:#ff0000;fill-opacity:1;stroke:#ff0000;stroke-opacity:1;\" x=\"206.947948\" xlink:href=\"#C0_0_2293063c7b\" y=\"175.392226\"/>\n    </g>\n    <g clip-path=\"url(#p5f4c5ece80)\">\n     <use style=\"fill:#0000ff;fill-opacity:0.999554;stroke:#0000ff;stroke-opacity:0.999554;\" x=\"206.947948\" xlink:href=\"#C0_0_2293063c7b\" y=\"165.167774\"/>\n    </g>\n    <g clip-path=\"url(#p5f4c5ece80)\">\n     <use style=\"fill:#0000ff;stroke:#0000ff;\" x=\"206.947948\" xlink:href=\"#C0_0_2293063c7b\" y=\"154.943323\"/>\n    </g>\n    <g clip-path=\"url(#p5f4c5ece80)\">\n     <use style=\"fill:#0000ff;stroke:#0000ff;\" x=\"206.947948\" xlink:href=\"#C0_0_2293063c7b\" y=\"144.718871\"/>\n    </g>\n    <g clip-path=\"url(#p5f4c5ece80)\">\n     <use style=\"fill:#0000ff;stroke:#0000ff;\" x=\"206.947948\" xlink:href=\"#C0_0_2293063c7b\" y=\"134.49442\"/>\n    </g>\n    <g clip-path=\"url(#p5f4c5ece80)\">\n     <use style=\"fill:#0000ff;stroke:#0000ff;\" x=\"206.947948\" xlink:href=\"#C0_0_2293063c7b\" y=\"124.269969\"/>\n    </g>\n    <g clip-path=\"url(#p5f4c5ece80)\">\n     <use style=\"fill:#0000ff;stroke:#0000ff;\" x=\"206.947948\" xlink:href=\"#C0_0_2293063c7b\" y=\"114.045517\"/>\n    </g>\n    <g clip-path=\"url(#p5f4c5ece80)\">\n     <use style=\"fill:#0000ff;stroke:#0000ff;\" x=\"206.947948\" xlink:href=\"#C0_0_2293063c7b\" y=\"103.821066\"/>\n    </g>\n    <g clip-path=\"url(#p5f4c5ece80)\">\n     <use style=\"fill:#0000ff;stroke:#0000ff;\" x=\"206.947948\" xlink:href=\"#C0_0_2293063c7b\" y=\"93.596614\"/>\n    </g>\n    <g clip-path=\"url(#p5f4c5ece80)\">\n     <use style=\"fill:#0000ff;stroke:#0000ff;\" x=\"206.947948\" xlink:href=\"#C0_0_2293063c7b\" y=\"83.372163\"/>\n    </g>\n    <g clip-path=\"url(#p5f4c5ece80)\">\n     <use style=\"fill:#0000ff;stroke:#0000ff;\" x=\"206.947948\" xlink:href=\"#C0_0_2293063c7b\" y=\"73.147712\"/>\n    </g>\n    <g clip-path=\"url(#p5f4c5ece80)\">\n     <use style=\"fill:#0000ff;stroke:#0000ff;\" x=\"206.947948\" xlink:href=\"#C0_0_2293063c7b\" y=\"62.92326\"/>\n    </g>\n    <g clip-path=\"url(#p5f4c5ece80)\">\n     <use style=\"fill:#0000ff;stroke:#0000ff;\" x=\"206.947948\" xlink:href=\"#C0_0_2293063c7b\" y=\"52.698809\"/>\n    </g>\n    <g clip-path=\"url(#p5f4c5ece80)\">\n     <use style=\"fill:#0000ff;stroke:#0000ff;\" x=\"206.947948\" xlink:href=\"#C0_0_2293063c7b\" y=\"42.474357\"/>\n    </g>\n    <g clip-path=\"url(#p5f4c5ece80)\">\n     <use style=\"fill:#0000ff;stroke:#0000ff;\" x=\"206.947948\" xlink:href=\"#C0_0_2293063c7b\" y=\"32.249906\"/>\n    </g>\n    <g clip-path=\"url(#p5f4c5ece80)\">\n     <use style=\"fill:#0000ff;stroke:#0000ff;\" x=\"206.947948\" xlink:href=\"#C0_0_2293063c7b\" y=\"22.025455\"/>\n    </g>\n    <g clip-path=\"url(#p5f4c5ece80)\">\n     <use style=\"fill:#ff0000;stroke:#ff0000;\" x=\"217.172399\" xlink:href=\"#C0_0_2293063c7b\" y=\"318.534545\"/>\n    </g>\n    <g clip-path=\"url(#p5f4c5ece80)\">\n     <use style=\"fill:#ff0000;stroke:#ff0000;\" x=\"217.172399\" xlink:href=\"#C0_0_2293063c7b\" y=\"308.310094\"/>\n    </g>\n    <g clip-path=\"url(#p5f4c5ece80)\">\n     <use style=\"fill:#ff0000;stroke:#ff0000;\" x=\"217.172399\" xlink:href=\"#C0_0_2293063c7b\" y=\"298.085643\"/>\n    </g>\n    <g clip-path=\"url(#p5f4c5ece80)\">\n     <use style=\"fill:#ff0000;stroke:#ff0000;\" x=\"217.172399\" xlink:href=\"#C0_0_2293063c7b\" y=\"287.861191\"/>\n    </g>\n    <g clip-path=\"url(#p5f4c5ece80)\">\n     <use style=\"fill:#ff0000;stroke:#ff0000;\" x=\"217.172399\" xlink:href=\"#C0_0_2293063c7b\" y=\"277.63674\"/>\n    </g>\n    <g clip-path=\"url(#p5f4c5ece80)\">\n     <use style=\"fill:#ff0000;stroke:#ff0000;\" x=\"217.172399\" xlink:href=\"#C0_0_2293063c7b\" y=\"267.412288\"/>\n    </g>\n    <g clip-path=\"url(#p5f4c5ece80)\">\n     <use style=\"fill:#ff0000;stroke:#ff0000;\" x=\"217.172399\" xlink:href=\"#C0_0_2293063c7b\" y=\"257.187837\"/>\n    </g>\n    <g clip-path=\"url(#p5f4c5ece80)\">\n     <use style=\"fill:#ff0000;stroke:#ff0000;\" x=\"217.172399\" xlink:href=\"#C0_0_2293063c7b\" y=\"246.963386\"/>\n    </g>\n    <g clip-path=\"url(#p5f4c5ece80)\">\n     <use style=\"fill:#ff0000;stroke:#ff0000;\" x=\"217.172399\" xlink:href=\"#C0_0_2293063c7b\" y=\"236.738934\"/>\n    </g>\n    <g clip-path=\"url(#p5f4c5ece80)\">\n     <use style=\"fill:#ff0000;stroke:#ff0000;\" x=\"217.172399\" xlink:href=\"#C0_0_2293063c7b\" y=\"226.514483\"/>\n    </g>\n    <g clip-path=\"url(#p5f4c5ece80)\">\n     <use style=\"fill:#ff0000;stroke:#ff0000;\" x=\"217.172399\" xlink:href=\"#C0_0_2293063c7b\" y=\"216.290031\"/>\n    </g>\n    <g clip-path=\"url(#p5f4c5ece80)\">\n     <use style=\"fill:#ff0000;stroke:#ff0000;\" x=\"217.172399\" xlink:href=\"#C0_0_2293063c7b\" y=\"206.06558\"/>\n    </g>\n    <g clip-path=\"url(#p5f4c5ece80)\">\n     <use style=\"fill:#ff0000;stroke:#ff0000;\" x=\"217.172399\" xlink:href=\"#C0_0_2293063c7b\" y=\"195.841129\"/>\n    </g>\n    <g clip-path=\"url(#p5f4c5ece80)\">\n     <use style=\"fill:#ff0000;stroke:#ff0000;\" x=\"217.172399\" xlink:href=\"#C0_0_2293063c7b\" y=\"185.616677\"/>\n    </g>\n    <g clip-path=\"url(#p5f4c5ece80)\">\n     <use style=\"fill:#ff0000;fill-opacity:1;stroke:#ff0000;stroke-opacity:1;\" x=\"217.172399\" xlink:href=\"#C0_0_2293063c7b\" y=\"175.392226\"/>\n    </g>\n    <g clip-path=\"url(#p5f4c5ece80)\">\n     <use style=\"fill:#0000ff;fill-opacity:0.998487;stroke:#0000ff;stroke-opacity:0.998487;\" x=\"217.172399\" xlink:href=\"#C0_0_2293063c7b\" y=\"165.167774\"/>\n    </g>\n    <g clip-path=\"url(#p5f4c5ece80)\">\n     <use style=\"fill:#0000ff;stroke:#0000ff;\" x=\"217.172399\" xlink:href=\"#C0_0_2293063c7b\" y=\"154.943323\"/>\n    </g>\n    <g clip-path=\"url(#p5f4c5ece80)\">\n     <use style=\"fill:#0000ff;stroke:#0000ff;\" x=\"217.172399\" xlink:href=\"#C0_0_2293063c7b\" y=\"144.718871\"/>\n    </g>\n    <g clip-path=\"url(#p5f4c5ece80)\">\n     <use style=\"fill:#0000ff;stroke:#0000ff;\" x=\"217.172399\" xlink:href=\"#C0_0_2293063c7b\" y=\"134.49442\"/>\n    </g>\n    <g clip-path=\"url(#p5f4c5ece80)\">\n     <use style=\"fill:#0000ff;stroke:#0000ff;\" x=\"217.172399\" xlink:href=\"#C0_0_2293063c7b\" y=\"124.269969\"/>\n    </g>\n    <g clip-path=\"url(#p5f4c5ece80)\">\n     <use style=\"fill:#0000ff;stroke:#0000ff;\" x=\"217.172399\" xlink:href=\"#C0_0_2293063c7b\" y=\"114.045517\"/>\n    </g>\n    <g clip-path=\"url(#p5f4c5ece80)\">\n     <use style=\"fill:#0000ff;stroke:#0000ff;\" x=\"217.172399\" xlink:href=\"#C0_0_2293063c7b\" y=\"103.821066\"/>\n    </g>\n    <g clip-path=\"url(#p5f4c5ece80)\">\n     <use style=\"fill:#0000ff;stroke:#0000ff;\" x=\"217.172399\" xlink:href=\"#C0_0_2293063c7b\" y=\"93.596614\"/>\n    </g>\n    <g clip-path=\"url(#p5f4c5ece80)\">\n     <use style=\"fill:#0000ff;stroke:#0000ff;\" x=\"217.172399\" xlink:href=\"#C0_0_2293063c7b\" y=\"83.372163\"/>\n    </g>\n    <g clip-path=\"url(#p5f4c5ece80)\">\n     <use style=\"fill:#0000ff;stroke:#0000ff;\" x=\"217.172399\" xlink:href=\"#C0_0_2293063c7b\" y=\"73.147712\"/>\n    </g>\n    <g clip-path=\"url(#p5f4c5ece80)\">\n     <use style=\"fill:#0000ff;stroke:#0000ff;\" x=\"217.172399\" xlink:href=\"#C0_0_2293063c7b\" y=\"62.92326\"/>\n    </g>\n    <g clip-path=\"url(#p5f4c5ece80)\">\n     <use style=\"fill:#0000ff;stroke:#0000ff;\" x=\"217.172399\" xlink:href=\"#C0_0_2293063c7b\" y=\"52.698809\"/>\n    </g>\n    <g clip-path=\"url(#p5f4c5ece80)\">\n     <use style=\"fill:#0000ff;stroke:#0000ff;\" x=\"217.172399\" xlink:href=\"#C0_0_2293063c7b\" y=\"42.474357\"/>\n    </g>\n    <g clip-path=\"url(#p5f4c5ece80)\">\n     <use style=\"fill:#0000ff;stroke:#0000ff;\" x=\"217.172399\" xlink:href=\"#C0_0_2293063c7b\" y=\"32.249906\"/>\n    </g>\n    <g clip-path=\"url(#p5f4c5ece80)\">\n     <use style=\"fill:#0000ff;stroke:#0000ff;\" x=\"217.172399\" xlink:href=\"#C0_0_2293063c7b\" y=\"22.025455\"/>\n    </g>\n    <g clip-path=\"url(#p5f4c5ece80)\">\n     <use style=\"fill:#ff0000;stroke:#ff0000;\" x=\"227.396851\" xlink:href=\"#C0_0_2293063c7b\" y=\"318.534545\"/>\n    </g>\n    <g clip-path=\"url(#p5f4c5ece80)\">\n     <use style=\"fill:#ff0000;stroke:#ff0000;\" x=\"227.396851\" xlink:href=\"#C0_0_2293063c7b\" y=\"308.310094\"/>\n    </g>\n    <g clip-path=\"url(#p5f4c5ece80)\">\n     <use style=\"fill:#ff0000;stroke:#ff0000;\" x=\"227.396851\" xlink:href=\"#C0_0_2293063c7b\" y=\"298.085643\"/>\n    </g>\n    <g clip-path=\"url(#p5f4c5ece80)\">\n     <use style=\"fill:#ff0000;stroke:#ff0000;\" x=\"227.396851\" xlink:href=\"#C0_0_2293063c7b\" y=\"287.861191\"/>\n    </g>\n    <g clip-path=\"url(#p5f4c5ece80)\">\n     <use style=\"fill:#ff0000;stroke:#ff0000;\" x=\"227.396851\" xlink:href=\"#C0_0_2293063c7b\" y=\"277.63674\"/>\n    </g>\n    <g clip-path=\"url(#p5f4c5ece80)\">\n     <use style=\"fill:#ff0000;stroke:#ff0000;\" x=\"227.396851\" xlink:href=\"#C0_0_2293063c7b\" y=\"267.412288\"/>\n    </g>\n    <g clip-path=\"url(#p5f4c5ece80)\">\n     <use style=\"fill:#ff0000;stroke:#ff0000;\" x=\"227.396851\" xlink:href=\"#C0_0_2293063c7b\" y=\"257.187837\"/>\n    </g>\n    <g clip-path=\"url(#p5f4c5ece80)\">\n     <use style=\"fill:#ff0000;stroke:#ff0000;\" x=\"227.396851\" xlink:href=\"#C0_0_2293063c7b\" y=\"246.963386\"/>\n    </g>\n    <g clip-path=\"url(#p5f4c5ece80)\">\n     <use style=\"fill:#ff0000;stroke:#ff0000;\" x=\"227.396851\" xlink:href=\"#C0_0_2293063c7b\" y=\"236.738934\"/>\n    </g>\n    <g clip-path=\"url(#p5f4c5ece80)\">\n     <use style=\"fill:#ff0000;stroke:#ff0000;\" x=\"227.396851\" xlink:href=\"#C0_0_2293063c7b\" y=\"226.514483\"/>\n    </g>\n    <g clip-path=\"url(#p5f4c5ece80)\">\n     <use style=\"fill:#ff0000;stroke:#ff0000;\" x=\"227.396851\" xlink:href=\"#C0_0_2293063c7b\" y=\"216.290031\"/>\n    </g>\n    <g clip-path=\"url(#p5f4c5ece80)\">\n     <use style=\"fill:#ff0000;stroke:#ff0000;\" x=\"227.396851\" xlink:href=\"#C0_0_2293063c7b\" y=\"206.06558\"/>\n    </g>\n    <g clip-path=\"url(#p5f4c5ece80)\">\n     <use style=\"fill:#ff0000;stroke:#ff0000;\" x=\"227.396851\" xlink:href=\"#C0_0_2293063c7b\" y=\"195.841129\"/>\n    </g>\n    <g clip-path=\"url(#p5f4c5ece80)\">\n     <use style=\"fill:#ff0000;stroke:#ff0000;\" x=\"227.396851\" xlink:href=\"#C0_0_2293063c7b\" y=\"185.616677\"/>\n    </g>\n    <g clip-path=\"url(#p5f4c5ece80)\">\n     <use style=\"fill:#ff0000;fill-opacity:1;stroke:#ff0000;stroke-opacity:1;\" x=\"227.396851\" xlink:href=\"#C0_0_2293063c7b\" y=\"175.392226\"/>\n    </g>\n    <g clip-path=\"url(#p5f4c5ece80)\">\n     <use style=\"fill:#0000ff;fill-opacity:0.994884;stroke:#0000ff;stroke-opacity:0.994884;\" x=\"227.396851\" xlink:href=\"#C0_0_2293063c7b\" y=\"165.167774\"/>\n    </g>\n    <g clip-path=\"url(#p5f4c5ece80)\">\n     <use style=\"fill:#0000ff;stroke:#0000ff;\" x=\"227.396851\" xlink:href=\"#C0_0_2293063c7b\" y=\"154.943323\"/>\n    </g>\n    <g clip-path=\"url(#p5f4c5ece80)\">\n     <use style=\"fill:#0000ff;stroke:#0000ff;\" x=\"227.396851\" xlink:href=\"#C0_0_2293063c7b\" y=\"144.718871\"/>\n    </g>\n    <g clip-path=\"url(#p5f4c5ece80)\">\n     <use style=\"fill:#0000ff;stroke:#0000ff;\" x=\"227.396851\" xlink:href=\"#C0_0_2293063c7b\" y=\"134.49442\"/>\n    </g>\n    <g clip-path=\"url(#p5f4c5ece80)\">\n     <use style=\"fill:#0000ff;stroke:#0000ff;\" x=\"227.396851\" xlink:href=\"#C0_0_2293063c7b\" y=\"124.269969\"/>\n    </g>\n    <g clip-path=\"url(#p5f4c5ece80)\">\n     <use style=\"fill:#0000ff;stroke:#0000ff;\" x=\"227.396851\" xlink:href=\"#C0_0_2293063c7b\" y=\"114.045517\"/>\n    </g>\n    <g clip-path=\"url(#p5f4c5ece80)\">\n     <use style=\"fill:#0000ff;stroke:#0000ff;\" x=\"227.396851\" xlink:href=\"#C0_0_2293063c7b\" y=\"103.821066\"/>\n    </g>\n    <g clip-path=\"url(#p5f4c5ece80)\">\n     <use style=\"fill:#0000ff;stroke:#0000ff;\" x=\"227.396851\" xlink:href=\"#C0_0_2293063c7b\" y=\"93.596614\"/>\n    </g>\n    <g clip-path=\"url(#p5f4c5ece80)\">\n     <use style=\"fill:#0000ff;stroke:#0000ff;\" x=\"227.396851\" xlink:href=\"#C0_0_2293063c7b\" y=\"83.372163\"/>\n    </g>\n    <g clip-path=\"url(#p5f4c5ece80)\">\n     <use style=\"fill:#0000ff;stroke:#0000ff;\" x=\"227.396851\" xlink:href=\"#C0_0_2293063c7b\" y=\"73.147712\"/>\n    </g>\n    <g clip-path=\"url(#p5f4c5ece80)\">\n     <use style=\"fill:#0000ff;stroke:#0000ff;\" x=\"227.396851\" xlink:href=\"#C0_0_2293063c7b\" y=\"62.92326\"/>\n    </g>\n    <g clip-path=\"url(#p5f4c5ece80)\">\n     <use style=\"fill:#0000ff;stroke:#0000ff;\" x=\"227.396851\" xlink:href=\"#C0_0_2293063c7b\" y=\"52.698809\"/>\n    </g>\n    <g clip-path=\"url(#p5f4c5ece80)\">\n     <use style=\"fill:#0000ff;stroke:#0000ff;\" x=\"227.396851\" xlink:href=\"#C0_0_2293063c7b\" y=\"42.474357\"/>\n    </g>\n    <g clip-path=\"url(#p5f4c5ece80)\">\n     <use style=\"fill:#0000ff;stroke:#0000ff;\" x=\"227.396851\" xlink:href=\"#C0_0_2293063c7b\" y=\"32.249906\"/>\n    </g>\n    <g clip-path=\"url(#p5f4c5ece80)\">\n     <use style=\"fill:#0000ff;stroke:#0000ff;\" x=\"227.396851\" xlink:href=\"#C0_0_2293063c7b\" y=\"22.025455\"/>\n    </g>\n    <g clip-path=\"url(#p5f4c5ece80)\">\n     <use style=\"fill:#ff0000;stroke:#ff0000;\" x=\"237.621302\" xlink:href=\"#C0_0_2293063c7b\" y=\"318.534545\"/>\n    </g>\n    <g clip-path=\"url(#p5f4c5ece80)\">\n     <use style=\"fill:#ff0000;stroke:#ff0000;\" x=\"237.621302\" xlink:href=\"#C0_0_2293063c7b\" y=\"308.310094\"/>\n    </g>\n    <g clip-path=\"url(#p5f4c5ece80)\">\n     <use style=\"fill:#ff0000;stroke:#ff0000;\" x=\"237.621302\" xlink:href=\"#C0_0_2293063c7b\" y=\"298.085643\"/>\n    </g>\n    <g clip-path=\"url(#p5f4c5ece80)\">\n     <use style=\"fill:#ff0000;stroke:#ff0000;\" x=\"237.621302\" xlink:href=\"#C0_0_2293063c7b\" y=\"287.861191\"/>\n    </g>\n    <g clip-path=\"url(#p5f4c5ece80)\">\n     <use style=\"fill:#ff0000;stroke:#ff0000;\" x=\"237.621302\" xlink:href=\"#C0_0_2293063c7b\" y=\"277.63674\"/>\n    </g>\n    <g clip-path=\"url(#p5f4c5ece80)\">\n     <use style=\"fill:#ff0000;stroke:#ff0000;\" x=\"237.621302\" xlink:href=\"#C0_0_2293063c7b\" y=\"267.412288\"/>\n    </g>\n    <g clip-path=\"url(#p5f4c5ece80)\">\n     <use style=\"fill:#ff0000;stroke:#ff0000;\" x=\"237.621302\" xlink:href=\"#C0_0_2293063c7b\" y=\"257.187837\"/>\n    </g>\n    <g clip-path=\"url(#p5f4c5ece80)\">\n     <use style=\"fill:#ff0000;stroke:#ff0000;\" x=\"237.621302\" xlink:href=\"#C0_0_2293063c7b\" y=\"246.963386\"/>\n    </g>\n    <g clip-path=\"url(#p5f4c5ece80)\">\n     <use style=\"fill:#ff0000;stroke:#ff0000;\" x=\"237.621302\" xlink:href=\"#C0_0_2293063c7b\" y=\"236.738934\"/>\n    </g>\n    <g clip-path=\"url(#p5f4c5ece80)\">\n     <use style=\"fill:#ff0000;stroke:#ff0000;\" x=\"237.621302\" xlink:href=\"#C0_0_2293063c7b\" y=\"226.514483\"/>\n    </g>\n    <g clip-path=\"url(#p5f4c5ece80)\">\n     <use style=\"fill:#ff0000;stroke:#ff0000;\" x=\"237.621302\" xlink:href=\"#C0_0_2293063c7b\" y=\"216.290031\"/>\n    </g>\n    <g clip-path=\"url(#p5f4c5ece80)\">\n     <use style=\"fill:#ff0000;stroke:#ff0000;\" x=\"237.621302\" xlink:href=\"#C0_0_2293063c7b\" y=\"206.06558\"/>\n    </g>\n    <g clip-path=\"url(#p5f4c5ece80)\">\n     <use style=\"fill:#ff0000;stroke:#ff0000;\" x=\"237.621302\" xlink:href=\"#C0_0_2293063c7b\" y=\"195.841129\"/>\n    </g>\n    <g clip-path=\"url(#p5f4c5ece80)\">\n     <use style=\"fill:#ff0000;stroke:#ff0000;\" x=\"237.621302\" xlink:href=\"#C0_0_2293063c7b\" y=\"185.616677\"/>\n    </g>\n    <g clip-path=\"url(#p5f4c5ece80)\">\n     <use style=\"fill:#ff0000;fill-opacity:1;stroke:#ff0000;stroke-opacity:1;\" x=\"237.621302\" xlink:href=\"#C0_0_2293063c7b\" y=\"175.392226\"/>\n    </g>\n    <g clip-path=\"url(#p5f4c5ece80)\">\n     <use style=\"fill:#0000ff;fill-opacity:0.982853;stroke:#0000ff;stroke-opacity:0.982853;\" x=\"237.621302\" xlink:href=\"#C0_0_2293063c7b\" y=\"165.167774\"/>\n    </g>\n    <g clip-path=\"url(#p5f4c5ece80)\">\n     <use style=\"fill:#0000ff;stroke:#0000ff;\" x=\"237.621302\" xlink:href=\"#C0_0_2293063c7b\" y=\"154.943323\"/>\n    </g>\n    <g clip-path=\"url(#p5f4c5ece80)\">\n     <use style=\"fill:#0000ff;stroke:#0000ff;\" x=\"237.621302\" xlink:href=\"#C0_0_2293063c7b\" y=\"144.718871\"/>\n    </g>\n    <g clip-path=\"url(#p5f4c5ece80)\">\n     <use style=\"fill:#0000ff;stroke:#0000ff;\" x=\"237.621302\" xlink:href=\"#C0_0_2293063c7b\" y=\"134.49442\"/>\n    </g>\n    <g clip-path=\"url(#p5f4c5ece80)\">\n     <use style=\"fill:#0000ff;stroke:#0000ff;\" x=\"237.621302\" xlink:href=\"#C0_0_2293063c7b\" y=\"124.269969\"/>\n    </g>\n    <g clip-path=\"url(#p5f4c5ece80)\">\n     <use style=\"fill:#0000ff;stroke:#0000ff;\" x=\"237.621302\" xlink:href=\"#C0_0_2293063c7b\" y=\"114.045517\"/>\n    </g>\n    <g clip-path=\"url(#p5f4c5ece80)\">\n     <use style=\"fill:#0000ff;stroke:#0000ff;\" x=\"237.621302\" xlink:href=\"#C0_0_2293063c7b\" y=\"103.821066\"/>\n    </g>\n    <g clip-path=\"url(#p5f4c5ece80)\">\n     <use style=\"fill:#0000ff;stroke:#0000ff;\" x=\"237.621302\" xlink:href=\"#C0_0_2293063c7b\" y=\"93.596614\"/>\n    </g>\n    <g clip-path=\"url(#p5f4c5ece80)\">\n     <use style=\"fill:#0000ff;stroke:#0000ff;\" x=\"237.621302\" xlink:href=\"#C0_0_2293063c7b\" y=\"83.372163\"/>\n    </g>\n    <g clip-path=\"url(#p5f4c5ece80)\">\n     <use style=\"fill:#0000ff;stroke:#0000ff;\" x=\"237.621302\" xlink:href=\"#C0_0_2293063c7b\" y=\"73.147712\"/>\n    </g>\n    <g clip-path=\"url(#p5f4c5ece80)\">\n     <use style=\"fill:#0000ff;stroke:#0000ff;\" x=\"237.621302\" xlink:href=\"#C0_0_2293063c7b\" y=\"62.92326\"/>\n    </g>\n    <g clip-path=\"url(#p5f4c5ece80)\">\n     <use style=\"fill:#0000ff;stroke:#0000ff;\" x=\"237.621302\" xlink:href=\"#C0_0_2293063c7b\" y=\"52.698809\"/>\n    </g>\n    <g clip-path=\"url(#p5f4c5ece80)\">\n     <use style=\"fill:#0000ff;stroke:#0000ff;\" x=\"237.621302\" xlink:href=\"#C0_0_2293063c7b\" y=\"42.474357\"/>\n    </g>\n    <g clip-path=\"url(#p5f4c5ece80)\">\n     <use style=\"fill:#0000ff;stroke:#0000ff;\" x=\"237.621302\" xlink:href=\"#C0_0_2293063c7b\" y=\"32.249906\"/>\n    </g>\n    <g clip-path=\"url(#p5f4c5ece80)\">\n     <use style=\"fill:#0000ff;stroke:#0000ff;\" x=\"237.621302\" xlink:href=\"#C0_0_2293063c7b\" y=\"22.025455\"/>\n    </g>\n    <g clip-path=\"url(#p5f4c5ece80)\">\n     <use style=\"fill:#ff0000;stroke:#ff0000;\" x=\"247.845753\" xlink:href=\"#C0_0_2293063c7b\" y=\"318.534545\"/>\n    </g>\n    <g clip-path=\"url(#p5f4c5ece80)\">\n     <use style=\"fill:#ff0000;stroke:#ff0000;\" x=\"247.845753\" xlink:href=\"#C0_0_2293063c7b\" y=\"308.310094\"/>\n    </g>\n    <g clip-path=\"url(#p5f4c5ece80)\">\n     <use style=\"fill:#ff0000;stroke:#ff0000;\" x=\"247.845753\" xlink:href=\"#C0_0_2293063c7b\" y=\"298.085643\"/>\n    </g>\n    <g clip-path=\"url(#p5f4c5ece80)\">\n     <use style=\"fill:#ff0000;stroke:#ff0000;\" x=\"247.845753\" xlink:href=\"#C0_0_2293063c7b\" y=\"287.861191\"/>\n    </g>\n    <g clip-path=\"url(#p5f4c5ece80)\">\n     <use style=\"fill:#ff0000;stroke:#ff0000;\" x=\"247.845753\" xlink:href=\"#C0_0_2293063c7b\" y=\"277.63674\"/>\n    </g>\n    <g clip-path=\"url(#p5f4c5ece80)\">\n     <use style=\"fill:#ff0000;stroke:#ff0000;\" x=\"247.845753\" xlink:href=\"#C0_0_2293063c7b\" y=\"267.412288\"/>\n    </g>\n    <g clip-path=\"url(#p5f4c5ece80)\">\n     <use style=\"fill:#ff0000;stroke:#ff0000;\" x=\"247.845753\" xlink:href=\"#C0_0_2293063c7b\" y=\"257.187837\"/>\n    </g>\n    <g clip-path=\"url(#p5f4c5ece80)\">\n     <use style=\"fill:#ff0000;stroke:#ff0000;\" x=\"247.845753\" xlink:href=\"#C0_0_2293063c7b\" y=\"246.963386\"/>\n    </g>\n    <g clip-path=\"url(#p5f4c5ece80)\">\n     <use style=\"fill:#ff0000;stroke:#ff0000;\" x=\"247.845753\" xlink:href=\"#C0_0_2293063c7b\" y=\"236.738934\"/>\n    </g>\n    <g clip-path=\"url(#p5f4c5ece80)\">\n     <use style=\"fill:#ff0000;stroke:#ff0000;\" x=\"247.845753\" xlink:href=\"#C0_0_2293063c7b\" y=\"226.514483\"/>\n    </g>\n    <g clip-path=\"url(#p5f4c5ece80)\">\n     <use style=\"fill:#ff0000;stroke:#ff0000;\" x=\"247.845753\" xlink:href=\"#C0_0_2293063c7b\" y=\"216.290031\"/>\n    </g>\n    <g clip-path=\"url(#p5f4c5ece80)\">\n     <use style=\"fill:#ff0000;stroke:#ff0000;\" x=\"247.845753\" xlink:href=\"#C0_0_2293063c7b\" y=\"206.06558\"/>\n    </g>\n    <g clip-path=\"url(#p5f4c5ece80)\">\n     <use style=\"fill:#ff0000;stroke:#ff0000;\" x=\"247.845753\" xlink:href=\"#C0_0_2293063c7b\" y=\"195.841129\"/>\n    </g>\n    <g clip-path=\"url(#p5f4c5ece80)\">\n     <use style=\"fill:#ff0000;stroke:#ff0000;\" x=\"247.845753\" xlink:href=\"#C0_0_2293063c7b\" y=\"185.616677\"/>\n    </g>\n    <g clip-path=\"url(#p5f4c5ece80)\">\n     <use style=\"fill:#ff0000;fill-opacity:1;stroke:#ff0000;stroke-opacity:1;\" x=\"247.845753\" xlink:href=\"#C0_0_2293063c7b\" y=\"175.392226\"/>\n    </g>\n    <g clip-path=\"url(#p5f4c5ece80)\">\n     <use style=\"fill:#0000ff;fill-opacity:0.944118;stroke:#0000ff;stroke-opacity:0.944118;\" x=\"247.845753\" xlink:href=\"#C0_0_2293063c7b\" y=\"165.167774\"/>\n    </g>\n    <g clip-path=\"url(#p5f4c5ece80)\">\n     <use style=\"fill:#0000ff;stroke:#0000ff;\" x=\"247.845753\" xlink:href=\"#C0_0_2293063c7b\" y=\"154.943323\"/>\n    </g>\n    <g clip-path=\"url(#p5f4c5ece80)\">\n     <use style=\"fill:#0000ff;stroke:#0000ff;\" x=\"247.845753\" xlink:href=\"#C0_0_2293063c7b\" y=\"144.718871\"/>\n    </g>\n    <g clip-path=\"url(#p5f4c5ece80)\">\n     <use style=\"fill:#0000ff;stroke:#0000ff;\" x=\"247.845753\" xlink:href=\"#C0_0_2293063c7b\" y=\"134.49442\"/>\n    </g>\n    <g clip-path=\"url(#p5f4c5ece80)\">\n     <use style=\"fill:#0000ff;stroke:#0000ff;\" x=\"247.845753\" xlink:href=\"#C0_0_2293063c7b\" y=\"124.269969\"/>\n    </g>\n    <g clip-path=\"url(#p5f4c5ece80)\">\n     <use style=\"fill:#0000ff;stroke:#0000ff;\" x=\"247.845753\" xlink:href=\"#C0_0_2293063c7b\" y=\"114.045517\"/>\n    </g>\n    <g clip-path=\"url(#p5f4c5ece80)\">\n     <use style=\"fill:#0000ff;stroke:#0000ff;\" x=\"247.845753\" xlink:href=\"#C0_0_2293063c7b\" y=\"103.821066\"/>\n    </g>\n    <g clip-path=\"url(#p5f4c5ece80)\">\n     <use style=\"fill:#0000ff;stroke:#0000ff;\" x=\"247.845753\" xlink:href=\"#C0_0_2293063c7b\" y=\"93.596614\"/>\n    </g>\n    <g clip-path=\"url(#p5f4c5ece80)\">\n     <use style=\"fill:#0000ff;stroke:#0000ff;\" x=\"247.845753\" xlink:href=\"#C0_0_2293063c7b\" y=\"83.372163\"/>\n    </g>\n    <g clip-path=\"url(#p5f4c5ece80)\">\n     <use style=\"fill:#0000ff;stroke:#0000ff;\" x=\"247.845753\" xlink:href=\"#C0_0_2293063c7b\" y=\"73.147712\"/>\n    </g>\n    <g clip-path=\"url(#p5f4c5ece80)\">\n     <use style=\"fill:#0000ff;stroke:#0000ff;\" x=\"247.845753\" xlink:href=\"#C0_0_2293063c7b\" y=\"62.92326\"/>\n    </g>\n    <g clip-path=\"url(#p5f4c5ece80)\">\n     <use style=\"fill:#0000ff;stroke:#0000ff;\" x=\"247.845753\" xlink:href=\"#C0_0_2293063c7b\" y=\"52.698809\"/>\n    </g>\n    <g clip-path=\"url(#p5f4c5ece80)\">\n     <use style=\"fill:#0000ff;stroke:#0000ff;\" x=\"247.845753\" xlink:href=\"#C0_0_2293063c7b\" y=\"42.474357\"/>\n    </g>\n    <g clip-path=\"url(#p5f4c5ece80)\">\n     <use style=\"fill:#0000ff;stroke:#0000ff;\" x=\"247.845753\" xlink:href=\"#C0_0_2293063c7b\" y=\"32.249906\"/>\n    </g>\n    <g clip-path=\"url(#p5f4c5ece80)\">\n     <use style=\"fill:#0000ff;stroke:#0000ff;\" x=\"247.845753\" xlink:href=\"#C0_0_2293063c7b\" y=\"22.025455\"/>\n    </g>\n    <g clip-path=\"url(#p5f4c5ece80)\">\n     <use style=\"fill:#ff0000;stroke:#ff0000;\" x=\"258.070205\" xlink:href=\"#C0_0_2293063c7b\" y=\"318.534545\"/>\n    </g>\n    <g clip-path=\"url(#p5f4c5ece80)\">\n     <use style=\"fill:#ff0000;stroke:#ff0000;\" x=\"258.070205\" xlink:href=\"#C0_0_2293063c7b\" y=\"308.310094\"/>\n    </g>\n    <g clip-path=\"url(#p5f4c5ece80)\">\n     <use style=\"fill:#ff0000;stroke:#ff0000;\" x=\"258.070205\" xlink:href=\"#C0_0_2293063c7b\" y=\"298.085643\"/>\n    </g>\n    <g clip-path=\"url(#p5f4c5ece80)\">\n     <use style=\"fill:#ff0000;stroke:#ff0000;\" x=\"258.070205\" xlink:href=\"#C0_0_2293063c7b\" y=\"287.861191\"/>\n    </g>\n    <g clip-path=\"url(#p5f4c5ece80)\">\n     <use style=\"fill:#ff0000;stroke:#ff0000;\" x=\"258.070205\" xlink:href=\"#C0_0_2293063c7b\" y=\"277.63674\"/>\n    </g>\n    <g clip-path=\"url(#p5f4c5ece80)\">\n     <use style=\"fill:#ff0000;stroke:#ff0000;\" x=\"258.070205\" xlink:href=\"#C0_0_2293063c7b\" y=\"267.412288\"/>\n    </g>\n    <g clip-path=\"url(#p5f4c5ece80)\">\n     <use style=\"fill:#ff0000;stroke:#ff0000;\" x=\"258.070205\" xlink:href=\"#C0_0_2293063c7b\" y=\"257.187837\"/>\n    </g>\n    <g clip-path=\"url(#p5f4c5ece80)\">\n     <use style=\"fill:#ff0000;stroke:#ff0000;\" x=\"258.070205\" xlink:href=\"#C0_0_2293063c7b\" y=\"246.963386\"/>\n    </g>\n    <g clip-path=\"url(#p5f4c5ece80)\">\n     <use style=\"fill:#ff0000;stroke:#ff0000;\" x=\"258.070205\" xlink:href=\"#C0_0_2293063c7b\" y=\"236.738934\"/>\n    </g>\n    <g clip-path=\"url(#p5f4c5ece80)\">\n     <use style=\"fill:#ff0000;stroke:#ff0000;\" x=\"258.070205\" xlink:href=\"#C0_0_2293063c7b\" y=\"226.514483\"/>\n    </g>\n    <g clip-path=\"url(#p5f4c5ece80)\">\n     <use style=\"fill:#ff0000;stroke:#ff0000;\" x=\"258.070205\" xlink:href=\"#C0_0_2293063c7b\" y=\"216.290031\"/>\n    </g>\n    <g clip-path=\"url(#p5f4c5ece80)\">\n     <use style=\"fill:#ff0000;stroke:#ff0000;\" x=\"258.070205\" xlink:href=\"#C0_0_2293063c7b\" y=\"206.06558\"/>\n    </g>\n    <g clip-path=\"url(#p5f4c5ece80)\">\n     <use style=\"fill:#ff0000;stroke:#ff0000;\" x=\"258.070205\" xlink:href=\"#C0_0_2293063c7b\" y=\"195.841129\"/>\n    </g>\n    <g clip-path=\"url(#p5f4c5ece80)\">\n     <use style=\"fill:#ff0000;stroke:#ff0000;\" x=\"258.070205\" xlink:href=\"#C0_0_2293063c7b\" y=\"185.616677\"/>\n    </g>\n    <g clip-path=\"url(#p5f4c5ece80)\">\n     <use style=\"fill:#ff0000;fill-opacity:1;stroke:#ff0000;stroke-opacity:1;\" x=\"258.070205\" xlink:href=\"#C0_0_2293063c7b\" y=\"175.392226\"/>\n    </g>\n    <g clip-path=\"url(#p5f4c5ece80)\">\n     <use style=\"fill:#0000ff;fill-opacity:0.832764;stroke:#0000ff;stroke-opacity:0.832764;\" x=\"258.070205\" xlink:href=\"#C0_0_2293063c7b\" y=\"165.167774\"/>\n    </g>\n    <g clip-path=\"url(#p5f4c5ece80)\">\n     <use style=\"fill:#0000ff;stroke:#0000ff;\" x=\"258.070205\" xlink:href=\"#C0_0_2293063c7b\" y=\"154.943323\"/>\n    </g>\n    <g clip-path=\"url(#p5f4c5ece80)\">\n     <use style=\"fill:#0000ff;stroke:#0000ff;\" x=\"258.070205\" xlink:href=\"#C0_0_2293063c7b\" y=\"144.718871\"/>\n    </g>\n    <g clip-path=\"url(#p5f4c5ece80)\">\n     <use style=\"fill:#0000ff;stroke:#0000ff;\" x=\"258.070205\" xlink:href=\"#C0_0_2293063c7b\" y=\"134.49442\"/>\n    </g>\n    <g clip-path=\"url(#p5f4c5ece80)\">\n     <use style=\"fill:#0000ff;stroke:#0000ff;\" x=\"258.070205\" xlink:href=\"#C0_0_2293063c7b\" y=\"124.269969\"/>\n    </g>\n    <g clip-path=\"url(#p5f4c5ece80)\">\n     <use style=\"fill:#0000ff;stroke:#0000ff;\" x=\"258.070205\" xlink:href=\"#C0_0_2293063c7b\" y=\"114.045517\"/>\n    </g>\n    <g clip-path=\"url(#p5f4c5ece80)\">\n     <use style=\"fill:#0000ff;stroke:#0000ff;\" x=\"258.070205\" xlink:href=\"#C0_0_2293063c7b\" y=\"103.821066\"/>\n    </g>\n    <g clip-path=\"url(#p5f4c5ece80)\">\n     <use style=\"fill:#0000ff;stroke:#0000ff;\" x=\"258.070205\" xlink:href=\"#C0_0_2293063c7b\" y=\"93.596614\"/>\n    </g>\n    <g clip-path=\"url(#p5f4c5ece80)\">\n     <use style=\"fill:#0000ff;stroke:#0000ff;\" x=\"258.070205\" xlink:href=\"#C0_0_2293063c7b\" y=\"83.372163\"/>\n    </g>\n    <g clip-path=\"url(#p5f4c5ece80)\">\n     <use style=\"fill:#0000ff;stroke:#0000ff;\" x=\"258.070205\" xlink:href=\"#C0_0_2293063c7b\" y=\"73.147712\"/>\n    </g>\n    <g clip-path=\"url(#p5f4c5ece80)\">\n     <use style=\"fill:#0000ff;stroke:#0000ff;\" x=\"258.070205\" xlink:href=\"#C0_0_2293063c7b\" y=\"62.92326\"/>\n    </g>\n    <g clip-path=\"url(#p5f4c5ece80)\">\n     <use style=\"fill:#0000ff;stroke:#0000ff;\" x=\"258.070205\" xlink:href=\"#C0_0_2293063c7b\" y=\"52.698809\"/>\n    </g>\n    <g clip-path=\"url(#p5f4c5ece80)\">\n     <use style=\"fill:#0000ff;stroke:#0000ff;\" x=\"258.070205\" xlink:href=\"#C0_0_2293063c7b\" y=\"42.474357\"/>\n    </g>\n    <g clip-path=\"url(#p5f4c5ece80)\">\n     <use style=\"fill:#0000ff;stroke:#0000ff;\" x=\"258.070205\" xlink:href=\"#C0_0_2293063c7b\" y=\"32.249906\"/>\n    </g>\n    <g clip-path=\"url(#p5f4c5ece80)\">\n     <use style=\"fill:#0000ff;stroke:#0000ff;\" x=\"258.070205\" xlink:href=\"#C0_0_2293063c7b\" y=\"22.025455\"/>\n    </g>\n    <g clip-path=\"url(#p5f4c5ece80)\">\n     <use style=\"fill:#ff0000;stroke:#ff0000;\" x=\"268.294656\" xlink:href=\"#C0_0_2293063c7b\" y=\"318.534545\"/>\n    </g>\n    <g clip-path=\"url(#p5f4c5ece80)\">\n     <use style=\"fill:#ff0000;stroke:#ff0000;\" x=\"268.294656\" xlink:href=\"#C0_0_2293063c7b\" y=\"308.310094\"/>\n    </g>\n    <g clip-path=\"url(#p5f4c5ece80)\">\n     <use style=\"fill:#ff0000;stroke:#ff0000;\" x=\"268.294656\" xlink:href=\"#C0_0_2293063c7b\" y=\"298.085643\"/>\n    </g>\n    <g clip-path=\"url(#p5f4c5ece80)\">\n     <use style=\"fill:#ff0000;stroke:#ff0000;\" x=\"268.294656\" xlink:href=\"#C0_0_2293063c7b\" y=\"287.861191\"/>\n    </g>\n    <g clip-path=\"url(#p5f4c5ece80)\">\n     <use style=\"fill:#ff0000;stroke:#ff0000;\" x=\"268.294656\" xlink:href=\"#C0_0_2293063c7b\" y=\"277.63674\"/>\n    </g>\n    <g clip-path=\"url(#p5f4c5ece80)\">\n     <use style=\"fill:#ff0000;stroke:#ff0000;\" x=\"268.294656\" xlink:href=\"#C0_0_2293063c7b\" y=\"267.412288\"/>\n    </g>\n    <g clip-path=\"url(#p5f4c5ece80)\">\n     <use style=\"fill:#ff0000;stroke:#ff0000;\" x=\"268.294656\" xlink:href=\"#C0_0_2293063c7b\" y=\"257.187837\"/>\n    </g>\n    <g clip-path=\"url(#p5f4c5ece80)\">\n     <use style=\"fill:#ff0000;stroke:#ff0000;\" x=\"268.294656\" xlink:href=\"#C0_0_2293063c7b\" y=\"246.963386\"/>\n    </g>\n    <g clip-path=\"url(#p5f4c5ece80)\">\n     <use style=\"fill:#ff0000;stroke:#ff0000;\" x=\"268.294656\" xlink:href=\"#C0_0_2293063c7b\" y=\"236.738934\"/>\n    </g>\n    <g clip-path=\"url(#p5f4c5ece80)\">\n     <use style=\"fill:#ff0000;stroke:#ff0000;\" x=\"268.294656\" xlink:href=\"#C0_0_2293063c7b\" y=\"226.514483\"/>\n    </g>\n    <g clip-path=\"url(#p5f4c5ece80)\">\n     <use style=\"fill:#ff0000;stroke:#ff0000;\" x=\"268.294656\" xlink:href=\"#C0_0_2293063c7b\" y=\"216.290031\"/>\n    </g>\n    <g clip-path=\"url(#p5f4c5ece80)\">\n     <use style=\"fill:#ff0000;stroke:#ff0000;\" x=\"268.294656\" xlink:href=\"#C0_0_2293063c7b\" y=\"206.06558\"/>\n    </g>\n    <g clip-path=\"url(#p5f4c5ece80)\">\n     <use style=\"fill:#ff0000;stroke:#ff0000;\" x=\"268.294656\" xlink:href=\"#C0_0_2293063c7b\" y=\"195.841129\"/>\n    </g>\n    <g clip-path=\"url(#p5f4c5ece80)\">\n     <use style=\"fill:#ff0000;fill-opacity:1;stroke:#ff0000;stroke-opacity:1;\" x=\"268.294656\" xlink:href=\"#C0_0_2293063c7b\" y=\"185.616677\"/>\n    </g>\n    <g clip-path=\"url(#p5f4c5ece80)\">\n     <use style=\"fill:#ff0000;fill-opacity:1;stroke:#ff0000;stroke-opacity:1;\" x=\"268.294656\" xlink:href=\"#C0_0_2293063c7b\" y=\"175.392226\"/>\n    </g>\n    <g clip-path=\"url(#p5f4c5ece80)\">\n     <use style=\"fill:#0000ff;fill-opacity:0.594759;stroke:#0000ff;stroke-opacity:0.594759;\" x=\"268.294656\" xlink:href=\"#C0_0_2293063c7b\" y=\"165.167774\"/>\n    </g>\n    <g clip-path=\"url(#p5f4c5ece80)\">\n     <use style=\"fill:#0000ff;stroke:#0000ff;\" x=\"268.294656\" xlink:href=\"#C0_0_2293063c7b\" y=\"154.943323\"/>\n    </g>\n    <g clip-path=\"url(#p5f4c5ece80)\">\n     <use style=\"fill:#0000ff;stroke:#0000ff;\" x=\"268.294656\" xlink:href=\"#C0_0_2293063c7b\" y=\"144.718871\"/>\n    </g>\n    <g clip-path=\"url(#p5f4c5ece80)\">\n     <use style=\"fill:#0000ff;stroke:#0000ff;\" x=\"268.294656\" xlink:href=\"#C0_0_2293063c7b\" y=\"134.49442\"/>\n    </g>\n    <g clip-path=\"url(#p5f4c5ece80)\">\n     <use style=\"fill:#0000ff;stroke:#0000ff;\" x=\"268.294656\" xlink:href=\"#C0_0_2293063c7b\" y=\"124.269969\"/>\n    </g>\n    <g clip-path=\"url(#p5f4c5ece80)\">\n     <use style=\"fill:#0000ff;stroke:#0000ff;\" x=\"268.294656\" xlink:href=\"#C0_0_2293063c7b\" y=\"114.045517\"/>\n    </g>\n    <g clip-path=\"url(#p5f4c5ece80)\">\n     <use style=\"fill:#0000ff;stroke:#0000ff;\" x=\"268.294656\" xlink:href=\"#C0_0_2293063c7b\" y=\"103.821066\"/>\n    </g>\n    <g clip-path=\"url(#p5f4c5ece80)\">\n     <use style=\"fill:#0000ff;stroke:#0000ff;\" x=\"268.294656\" xlink:href=\"#C0_0_2293063c7b\" y=\"93.596614\"/>\n    </g>\n    <g clip-path=\"url(#p5f4c5ece80)\">\n     <use style=\"fill:#0000ff;stroke:#0000ff;\" x=\"268.294656\" xlink:href=\"#C0_0_2293063c7b\" y=\"83.372163\"/>\n    </g>\n    <g clip-path=\"url(#p5f4c5ece80)\">\n     <use style=\"fill:#0000ff;stroke:#0000ff;\" x=\"268.294656\" xlink:href=\"#C0_0_2293063c7b\" y=\"73.147712\"/>\n    </g>\n    <g clip-path=\"url(#p5f4c5ece80)\">\n     <use style=\"fill:#0000ff;stroke:#0000ff;\" x=\"268.294656\" xlink:href=\"#C0_0_2293063c7b\" y=\"62.92326\"/>\n    </g>\n    <g clip-path=\"url(#p5f4c5ece80)\">\n     <use style=\"fill:#0000ff;stroke:#0000ff;\" x=\"268.294656\" xlink:href=\"#C0_0_2293063c7b\" y=\"52.698809\"/>\n    </g>\n    <g clip-path=\"url(#p5f4c5ece80)\">\n     <use style=\"fill:#0000ff;stroke:#0000ff;\" x=\"268.294656\" xlink:href=\"#C0_0_2293063c7b\" y=\"42.474357\"/>\n    </g>\n    <g clip-path=\"url(#p5f4c5ece80)\">\n     <use style=\"fill:#0000ff;stroke:#0000ff;\" x=\"268.294656\" xlink:href=\"#C0_0_2293063c7b\" y=\"32.249906\"/>\n    </g>\n    <g clip-path=\"url(#p5f4c5ece80)\">\n     <use style=\"fill:#0000ff;stroke:#0000ff;\" x=\"268.294656\" xlink:href=\"#C0_0_2293063c7b\" y=\"22.025455\"/>\n    </g>\n    <g clip-path=\"url(#p5f4c5ece80)\">\n     <use style=\"fill:#ff0000;stroke:#ff0000;\" x=\"278.519108\" xlink:href=\"#C0_0_2293063c7b\" y=\"318.534545\"/>\n    </g>\n    <g clip-path=\"url(#p5f4c5ece80)\">\n     <use style=\"fill:#ff0000;stroke:#ff0000;\" x=\"278.519108\" xlink:href=\"#C0_0_2293063c7b\" y=\"308.310094\"/>\n    </g>\n    <g clip-path=\"url(#p5f4c5ece80)\">\n     <use style=\"fill:#ff0000;stroke:#ff0000;\" x=\"278.519108\" xlink:href=\"#C0_0_2293063c7b\" y=\"298.085643\"/>\n    </g>\n    <g clip-path=\"url(#p5f4c5ece80)\">\n     <use style=\"fill:#ff0000;stroke:#ff0000;\" x=\"278.519108\" xlink:href=\"#C0_0_2293063c7b\" y=\"287.861191\"/>\n    </g>\n    <g clip-path=\"url(#p5f4c5ece80)\">\n     <use style=\"fill:#ff0000;stroke:#ff0000;\" x=\"278.519108\" xlink:href=\"#C0_0_2293063c7b\" y=\"277.63674\"/>\n    </g>\n    <g clip-path=\"url(#p5f4c5ece80)\">\n     <use style=\"fill:#ff0000;stroke:#ff0000;\" x=\"278.519108\" xlink:href=\"#C0_0_2293063c7b\" y=\"267.412288\"/>\n    </g>\n    <g clip-path=\"url(#p5f4c5ece80)\">\n     <use style=\"fill:#ff0000;stroke:#ff0000;\" x=\"278.519108\" xlink:href=\"#C0_0_2293063c7b\" y=\"257.187837\"/>\n    </g>\n    <g clip-path=\"url(#p5f4c5ece80)\">\n     <use style=\"fill:#ff0000;stroke:#ff0000;\" x=\"278.519108\" xlink:href=\"#C0_0_2293063c7b\" y=\"246.963386\"/>\n    </g>\n    <g clip-path=\"url(#p5f4c5ece80)\">\n     <use style=\"fill:#ff0000;stroke:#ff0000;\" x=\"278.519108\" xlink:href=\"#C0_0_2293063c7b\" y=\"236.738934\"/>\n    </g>\n    <g clip-path=\"url(#p5f4c5ece80)\">\n     <use style=\"fill:#ff0000;stroke:#ff0000;\" x=\"278.519108\" xlink:href=\"#C0_0_2293063c7b\" y=\"226.514483\"/>\n    </g>\n    <g clip-path=\"url(#p5f4c5ece80)\">\n     <use style=\"fill:#ff0000;stroke:#ff0000;\" x=\"278.519108\" xlink:href=\"#C0_0_2293063c7b\" y=\"216.290031\"/>\n    </g>\n    <g clip-path=\"url(#p5f4c5ece80)\">\n     <use style=\"fill:#ff0000;stroke:#ff0000;\" x=\"278.519108\" xlink:href=\"#C0_0_2293063c7b\" y=\"206.06558\"/>\n    </g>\n    <g clip-path=\"url(#p5f4c5ece80)\">\n     <use style=\"fill:#ff0000;stroke:#ff0000;\" x=\"278.519108\" xlink:href=\"#C0_0_2293063c7b\" y=\"195.841129\"/>\n    </g>\n    <g clip-path=\"url(#p5f4c5ece80)\">\n     <use style=\"fill:#ff0000;fill-opacity:1;stroke:#ff0000;stroke-opacity:1;\" x=\"278.519108\" xlink:href=\"#C0_0_2293063c7b\" y=\"185.616677\"/>\n    </g>\n    <g clip-path=\"url(#p5f4c5ece80)\">\n     <use style=\"fill:#ff0000;fill-opacity:1;stroke:#ff0000;stroke-opacity:1;\" x=\"278.519108\" xlink:href=\"#C0_0_2293063c7b\" y=\"175.392226\"/>\n    </g>\n    <g clip-path=\"url(#p5f4c5ece80)\">\n     <use style=\"fill:#ff0000;fill-opacity:0.698041;stroke:#ff0000;stroke-opacity:0.698041;\" x=\"278.519108\" xlink:href=\"#C0_0_2293063c7b\" y=\"165.167774\"/>\n    </g>\n    <g clip-path=\"url(#p5f4c5ece80)\">\n     <use style=\"fill:#0000ff;stroke:#0000ff;\" x=\"278.519108\" xlink:href=\"#C0_0_2293063c7b\" y=\"154.943323\"/>\n    </g>\n    <g clip-path=\"url(#p5f4c5ece80)\">\n     <use style=\"fill:#0000ff;stroke:#0000ff;\" x=\"278.519108\" xlink:href=\"#C0_0_2293063c7b\" y=\"144.718871\"/>\n    </g>\n    <g clip-path=\"url(#p5f4c5ece80)\">\n     <use style=\"fill:#0000ff;stroke:#0000ff;\" x=\"278.519108\" xlink:href=\"#C0_0_2293063c7b\" y=\"134.49442\"/>\n    </g>\n    <g clip-path=\"url(#p5f4c5ece80)\">\n     <use style=\"fill:#0000ff;stroke:#0000ff;\" x=\"278.519108\" xlink:href=\"#C0_0_2293063c7b\" y=\"124.269969\"/>\n    </g>\n    <g clip-path=\"url(#p5f4c5ece80)\">\n     <use style=\"fill:#0000ff;stroke:#0000ff;\" x=\"278.519108\" xlink:href=\"#C0_0_2293063c7b\" y=\"114.045517\"/>\n    </g>\n    <g clip-path=\"url(#p5f4c5ece80)\">\n     <use style=\"fill:#0000ff;stroke:#0000ff;\" x=\"278.519108\" xlink:href=\"#C0_0_2293063c7b\" y=\"103.821066\"/>\n    </g>\n    <g clip-path=\"url(#p5f4c5ece80)\">\n     <use style=\"fill:#0000ff;stroke:#0000ff;\" x=\"278.519108\" xlink:href=\"#C0_0_2293063c7b\" y=\"93.596614\"/>\n    </g>\n    <g clip-path=\"url(#p5f4c5ece80)\">\n     <use style=\"fill:#0000ff;stroke:#0000ff;\" x=\"278.519108\" xlink:href=\"#C0_0_2293063c7b\" y=\"83.372163\"/>\n    </g>\n    <g clip-path=\"url(#p5f4c5ece80)\">\n     <use style=\"fill:#0000ff;stroke:#0000ff;\" x=\"278.519108\" xlink:href=\"#C0_0_2293063c7b\" y=\"73.147712\"/>\n    </g>\n    <g clip-path=\"url(#p5f4c5ece80)\">\n     <use style=\"fill:#0000ff;stroke:#0000ff;\" x=\"278.519108\" xlink:href=\"#C0_0_2293063c7b\" y=\"62.92326\"/>\n    </g>\n    <g clip-path=\"url(#p5f4c5ece80)\">\n     <use style=\"fill:#0000ff;stroke:#0000ff;\" x=\"278.519108\" xlink:href=\"#C0_0_2293063c7b\" y=\"52.698809\"/>\n    </g>\n    <g clip-path=\"url(#p5f4c5ece80)\">\n     <use style=\"fill:#0000ff;stroke:#0000ff;\" x=\"278.519108\" xlink:href=\"#C0_0_2293063c7b\" y=\"42.474357\"/>\n    </g>\n    <g clip-path=\"url(#p5f4c5ece80)\">\n     <use style=\"fill:#0000ff;stroke:#0000ff;\" x=\"278.519108\" xlink:href=\"#C0_0_2293063c7b\" y=\"32.249906\"/>\n    </g>\n    <g clip-path=\"url(#p5f4c5ece80)\">\n     <use style=\"fill:#0000ff;stroke:#0000ff;\" x=\"278.519108\" xlink:href=\"#C0_0_2293063c7b\" y=\"22.025455\"/>\n    </g>\n    <g clip-path=\"url(#p5f4c5ece80)\">\n     <use style=\"fill:#ff0000;stroke:#ff0000;\" x=\"288.743559\" xlink:href=\"#C0_0_2293063c7b\" y=\"318.534545\"/>\n    </g>\n    <g clip-path=\"url(#p5f4c5ece80)\">\n     <use style=\"fill:#ff0000;stroke:#ff0000;\" x=\"288.743559\" xlink:href=\"#C0_0_2293063c7b\" y=\"308.310094\"/>\n    </g>\n    <g clip-path=\"url(#p5f4c5ece80)\">\n     <use style=\"fill:#ff0000;stroke:#ff0000;\" x=\"288.743559\" xlink:href=\"#C0_0_2293063c7b\" y=\"298.085643\"/>\n    </g>\n    <g clip-path=\"url(#p5f4c5ece80)\">\n     <use style=\"fill:#ff0000;stroke:#ff0000;\" x=\"288.743559\" xlink:href=\"#C0_0_2293063c7b\" y=\"287.861191\"/>\n    </g>\n    <g clip-path=\"url(#p5f4c5ece80)\">\n     <use style=\"fill:#ff0000;stroke:#ff0000;\" x=\"288.743559\" xlink:href=\"#C0_0_2293063c7b\" y=\"277.63674\"/>\n    </g>\n    <g clip-path=\"url(#p5f4c5ece80)\">\n     <use style=\"fill:#ff0000;stroke:#ff0000;\" x=\"288.743559\" xlink:href=\"#C0_0_2293063c7b\" y=\"267.412288\"/>\n    </g>\n    <g clip-path=\"url(#p5f4c5ece80)\">\n     <use style=\"fill:#ff0000;stroke:#ff0000;\" x=\"288.743559\" xlink:href=\"#C0_0_2293063c7b\" y=\"257.187837\"/>\n    </g>\n    <g clip-path=\"url(#p5f4c5ece80)\">\n     <use style=\"fill:#ff0000;stroke:#ff0000;\" x=\"288.743559\" xlink:href=\"#C0_0_2293063c7b\" y=\"246.963386\"/>\n    </g>\n    <g clip-path=\"url(#p5f4c5ece80)\">\n     <use style=\"fill:#ff0000;stroke:#ff0000;\" x=\"288.743559\" xlink:href=\"#C0_0_2293063c7b\" y=\"236.738934\"/>\n    </g>\n    <g clip-path=\"url(#p5f4c5ece80)\">\n     <use style=\"fill:#ff0000;stroke:#ff0000;\" x=\"288.743559\" xlink:href=\"#C0_0_2293063c7b\" y=\"226.514483\"/>\n    </g>\n    <g clip-path=\"url(#p5f4c5ece80)\">\n     <use style=\"fill:#ff0000;stroke:#ff0000;\" x=\"288.743559\" xlink:href=\"#C0_0_2293063c7b\" y=\"216.290031\"/>\n    </g>\n    <g clip-path=\"url(#p5f4c5ece80)\">\n     <use style=\"fill:#ff0000;stroke:#ff0000;\" x=\"288.743559\" xlink:href=\"#C0_0_2293063c7b\" y=\"206.06558\"/>\n    </g>\n    <g clip-path=\"url(#p5f4c5ece80)\">\n     <use style=\"fill:#ff0000;stroke:#ff0000;\" x=\"288.743559\" xlink:href=\"#C0_0_2293063c7b\" y=\"195.841129\"/>\n    </g>\n    <g clip-path=\"url(#p5f4c5ece80)\">\n     <use style=\"fill:#ff0000;fill-opacity:1;stroke:#ff0000;stroke-opacity:1;\" x=\"288.743559\" xlink:href=\"#C0_0_2293063c7b\" y=\"185.616677\"/>\n    </g>\n    <g clip-path=\"url(#p5f4c5ece80)\">\n     <use style=\"fill:#ff0000;fill-opacity:1;stroke:#ff0000;stroke-opacity:1;\" x=\"288.743559\" xlink:href=\"#C0_0_2293063c7b\" y=\"175.392226\"/>\n    </g>\n    <g clip-path=\"url(#p5f4c5ece80)\">\n     <use style=\"fill:#ff0000;fill-opacity:0.886919;stroke:#ff0000;stroke-opacity:0.886919;\" x=\"288.743559\" xlink:href=\"#C0_0_2293063c7b\" y=\"165.167774\"/>\n    </g>\n    <g clip-path=\"url(#p5f4c5ece80)\">\n     <use style=\"fill:#0000ff;stroke:#0000ff;\" x=\"288.743559\" xlink:href=\"#C0_0_2293063c7b\" y=\"154.943323\"/>\n    </g>\n    <g clip-path=\"url(#p5f4c5ece80)\">\n     <use style=\"fill:#0000ff;stroke:#0000ff;\" x=\"288.743559\" xlink:href=\"#C0_0_2293063c7b\" y=\"144.718871\"/>\n    </g>\n    <g clip-path=\"url(#p5f4c5ece80)\">\n     <use style=\"fill:#0000ff;stroke:#0000ff;\" x=\"288.743559\" xlink:href=\"#C0_0_2293063c7b\" y=\"134.49442\"/>\n    </g>\n    <g clip-path=\"url(#p5f4c5ece80)\">\n     <use style=\"fill:#0000ff;stroke:#0000ff;\" x=\"288.743559\" xlink:href=\"#C0_0_2293063c7b\" y=\"124.269969\"/>\n    </g>\n    <g clip-path=\"url(#p5f4c5ece80)\">\n     <use style=\"fill:#0000ff;stroke:#0000ff;\" x=\"288.743559\" xlink:href=\"#C0_0_2293063c7b\" y=\"114.045517\"/>\n    </g>\n    <g clip-path=\"url(#p5f4c5ece80)\">\n     <use style=\"fill:#0000ff;stroke:#0000ff;\" x=\"288.743559\" xlink:href=\"#C0_0_2293063c7b\" y=\"103.821066\"/>\n    </g>\n    <g clip-path=\"url(#p5f4c5ece80)\">\n     <use style=\"fill:#0000ff;stroke:#0000ff;\" x=\"288.743559\" xlink:href=\"#C0_0_2293063c7b\" y=\"93.596614\"/>\n    </g>\n    <g clip-path=\"url(#p5f4c5ece80)\">\n     <use style=\"fill:#0000ff;stroke:#0000ff;\" x=\"288.743559\" xlink:href=\"#C0_0_2293063c7b\" y=\"83.372163\"/>\n    </g>\n    <g clip-path=\"url(#p5f4c5ece80)\">\n     <use style=\"fill:#0000ff;stroke:#0000ff;\" x=\"288.743559\" xlink:href=\"#C0_0_2293063c7b\" y=\"73.147712\"/>\n    </g>\n    <g clip-path=\"url(#p5f4c5ece80)\">\n     <use style=\"fill:#0000ff;stroke:#0000ff;\" x=\"288.743559\" xlink:href=\"#C0_0_2293063c7b\" y=\"62.92326\"/>\n    </g>\n    <g clip-path=\"url(#p5f4c5ece80)\">\n     <use style=\"fill:#0000ff;stroke:#0000ff;\" x=\"288.743559\" xlink:href=\"#C0_0_2293063c7b\" y=\"52.698809\"/>\n    </g>\n    <g clip-path=\"url(#p5f4c5ece80)\">\n     <use style=\"fill:#0000ff;stroke:#0000ff;\" x=\"288.743559\" xlink:href=\"#C0_0_2293063c7b\" y=\"42.474357\"/>\n    </g>\n    <g clip-path=\"url(#p5f4c5ece80)\">\n     <use style=\"fill:#0000ff;stroke:#0000ff;\" x=\"288.743559\" xlink:href=\"#C0_0_2293063c7b\" y=\"32.249906\"/>\n    </g>\n    <g clip-path=\"url(#p5f4c5ece80)\">\n     <use style=\"fill:#0000ff;stroke:#0000ff;\" x=\"288.743559\" xlink:href=\"#C0_0_2293063c7b\" y=\"22.025455\"/>\n    </g>\n    <g clip-path=\"url(#p5f4c5ece80)\">\n     <use style=\"fill:#ff0000;stroke:#ff0000;\" x=\"298.96801\" xlink:href=\"#C0_0_2293063c7b\" y=\"318.534545\"/>\n    </g>\n    <g clip-path=\"url(#p5f4c5ece80)\">\n     <use style=\"fill:#ff0000;stroke:#ff0000;\" x=\"298.96801\" xlink:href=\"#C0_0_2293063c7b\" y=\"308.310094\"/>\n    </g>\n    <g clip-path=\"url(#p5f4c5ece80)\">\n     <use style=\"fill:#ff0000;stroke:#ff0000;\" x=\"298.96801\" xlink:href=\"#C0_0_2293063c7b\" y=\"298.085643\"/>\n    </g>\n    <g clip-path=\"url(#p5f4c5ece80)\">\n     <use style=\"fill:#ff0000;stroke:#ff0000;\" x=\"298.96801\" xlink:href=\"#C0_0_2293063c7b\" y=\"287.861191\"/>\n    </g>\n    <g clip-path=\"url(#p5f4c5ece80)\">\n     <use style=\"fill:#ff0000;stroke:#ff0000;\" x=\"298.96801\" xlink:href=\"#C0_0_2293063c7b\" y=\"277.63674\"/>\n    </g>\n    <g clip-path=\"url(#p5f4c5ece80)\">\n     <use style=\"fill:#ff0000;stroke:#ff0000;\" x=\"298.96801\" xlink:href=\"#C0_0_2293063c7b\" y=\"267.412288\"/>\n    </g>\n    <g clip-path=\"url(#p5f4c5ece80)\">\n     <use style=\"fill:#ff0000;stroke:#ff0000;\" x=\"298.96801\" xlink:href=\"#C0_0_2293063c7b\" y=\"257.187837\"/>\n    </g>\n    <g clip-path=\"url(#p5f4c5ece80)\">\n     <use style=\"fill:#ff0000;stroke:#ff0000;\" x=\"298.96801\" xlink:href=\"#C0_0_2293063c7b\" y=\"246.963386\"/>\n    </g>\n    <g clip-path=\"url(#p5f4c5ece80)\">\n     <use style=\"fill:#ff0000;stroke:#ff0000;\" x=\"298.96801\" xlink:href=\"#C0_0_2293063c7b\" y=\"236.738934\"/>\n    </g>\n    <g clip-path=\"url(#p5f4c5ece80)\">\n     <use style=\"fill:#ff0000;stroke:#ff0000;\" x=\"298.96801\" xlink:href=\"#C0_0_2293063c7b\" y=\"226.514483\"/>\n    </g>\n    <g clip-path=\"url(#p5f4c5ece80)\">\n     <use style=\"fill:#ff0000;stroke:#ff0000;\" x=\"298.96801\" xlink:href=\"#C0_0_2293063c7b\" y=\"216.290031\"/>\n    </g>\n    <g clip-path=\"url(#p5f4c5ece80)\">\n     <use style=\"fill:#ff0000;stroke:#ff0000;\" x=\"298.96801\" xlink:href=\"#C0_0_2293063c7b\" y=\"206.06558\"/>\n    </g>\n    <g clip-path=\"url(#p5f4c5ece80)\">\n     <use style=\"fill:#ff0000;fill-opacity:1;stroke:#ff0000;stroke-opacity:1;\" x=\"298.96801\" xlink:href=\"#C0_0_2293063c7b\" y=\"195.841129\"/>\n    </g>\n    <g clip-path=\"url(#p5f4c5ece80)\">\n     <use style=\"fill:#ff0000;fill-opacity:1;stroke:#ff0000;stroke-opacity:1;\" x=\"298.96801\" xlink:href=\"#C0_0_2293063c7b\" y=\"185.616677\"/>\n    </g>\n    <g clip-path=\"url(#p5f4c5ece80)\">\n     <use style=\"fill:#ff0000;fill-opacity:1;stroke:#ff0000;stroke-opacity:1;\" x=\"298.96801\" xlink:href=\"#C0_0_2293063c7b\" y=\"175.392226\"/>\n    </g>\n    <g clip-path=\"url(#p5f4c5ece80)\">\n     <use style=\"fill:#ff0000;fill-opacity:0.991159;stroke:#ff0000;stroke-opacity:0.991159;\" x=\"298.96801\" xlink:href=\"#C0_0_2293063c7b\" y=\"165.167774\"/>\n    </g>\n    <g clip-path=\"url(#p5f4c5ece80)\">\n     <use style=\"fill:#0000ff;stroke:#0000ff;\" x=\"298.96801\" xlink:href=\"#C0_0_2293063c7b\" y=\"154.943323\"/>\n    </g>\n    <g clip-path=\"url(#p5f4c5ece80)\">\n     <use style=\"fill:#0000ff;stroke:#0000ff;\" x=\"298.96801\" xlink:href=\"#C0_0_2293063c7b\" y=\"144.718871\"/>\n    </g>\n    <g clip-path=\"url(#p5f4c5ece80)\">\n     <use style=\"fill:#0000ff;stroke:#0000ff;\" x=\"298.96801\" xlink:href=\"#C0_0_2293063c7b\" y=\"134.49442\"/>\n    </g>\n    <g clip-path=\"url(#p5f4c5ece80)\">\n     <use style=\"fill:#0000ff;stroke:#0000ff;\" x=\"298.96801\" xlink:href=\"#C0_0_2293063c7b\" y=\"124.269969\"/>\n    </g>\n    <g clip-path=\"url(#p5f4c5ece80)\">\n     <use style=\"fill:#0000ff;stroke:#0000ff;\" x=\"298.96801\" xlink:href=\"#C0_0_2293063c7b\" y=\"114.045517\"/>\n    </g>\n    <g clip-path=\"url(#p5f4c5ece80)\">\n     <use style=\"fill:#0000ff;stroke:#0000ff;\" x=\"298.96801\" xlink:href=\"#C0_0_2293063c7b\" y=\"103.821066\"/>\n    </g>\n    <g clip-path=\"url(#p5f4c5ece80)\">\n     <use style=\"fill:#0000ff;stroke:#0000ff;\" x=\"298.96801\" xlink:href=\"#C0_0_2293063c7b\" y=\"93.596614\"/>\n    </g>\n    <g clip-path=\"url(#p5f4c5ece80)\">\n     <use style=\"fill:#0000ff;stroke:#0000ff;\" x=\"298.96801\" xlink:href=\"#C0_0_2293063c7b\" y=\"83.372163\"/>\n    </g>\n    <g clip-path=\"url(#p5f4c5ece80)\">\n     <use style=\"fill:#0000ff;stroke:#0000ff;\" x=\"298.96801\" xlink:href=\"#C0_0_2293063c7b\" y=\"73.147712\"/>\n    </g>\n    <g clip-path=\"url(#p5f4c5ece80)\">\n     <use style=\"fill:#0000ff;stroke:#0000ff;\" x=\"298.96801\" xlink:href=\"#C0_0_2293063c7b\" y=\"62.92326\"/>\n    </g>\n    <g clip-path=\"url(#p5f4c5ece80)\">\n     <use style=\"fill:#0000ff;stroke:#0000ff;\" x=\"298.96801\" xlink:href=\"#C0_0_2293063c7b\" y=\"52.698809\"/>\n    </g>\n    <g clip-path=\"url(#p5f4c5ece80)\">\n     <use style=\"fill:#0000ff;stroke:#0000ff;\" x=\"298.96801\" xlink:href=\"#C0_0_2293063c7b\" y=\"42.474357\"/>\n    </g>\n    <g clip-path=\"url(#p5f4c5ece80)\">\n     <use style=\"fill:#0000ff;stroke:#0000ff;\" x=\"298.96801\" xlink:href=\"#C0_0_2293063c7b\" y=\"32.249906\"/>\n    </g>\n    <g clip-path=\"url(#p5f4c5ece80)\">\n     <use style=\"fill:#0000ff;stroke:#0000ff;\" x=\"298.96801\" xlink:href=\"#C0_0_2293063c7b\" y=\"22.025455\"/>\n    </g>\n    <g clip-path=\"url(#p5f4c5ece80)\">\n     <use style=\"fill:#ff0000;stroke:#ff0000;\" x=\"309.192462\" xlink:href=\"#C0_0_2293063c7b\" y=\"318.534545\"/>\n    </g>\n    <g clip-path=\"url(#p5f4c5ece80)\">\n     <use style=\"fill:#ff0000;stroke:#ff0000;\" x=\"309.192462\" xlink:href=\"#C0_0_2293063c7b\" y=\"308.310094\"/>\n    </g>\n    <g clip-path=\"url(#p5f4c5ece80)\">\n     <use style=\"fill:#ff0000;stroke:#ff0000;\" x=\"309.192462\" xlink:href=\"#C0_0_2293063c7b\" y=\"298.085643\"/>\n    </g>\n    <g clip-path=\"url(#p5f4c5ece80)\">\n     <use style=\"fill:#ff0000;stroke:#ff0000;\" x=\"309.192462\" xlink:href=\"#C0_0_2293063c7b\" y=\"287.861191\"/>\n    </g>\n    <g clip-path=\"url(#p5f4c5ece80)\">\n     <use style=\"fill:#ff0000;stroke:#ff0000;\" x=\"309.192462\" xlink:href=\"#C0_0_2293063c7b\" y=\"277.63674\"/>\n    </g>\n    <g clip-path=\"url(#p5f4c5ece80)\">\n     <use style=\"fill:#ff0000;stroke:#ff0000;\" x=\"309.192462\" xlink:href=\"#C0_0_2293063c7b\" y=\"267.412288\"/>\n    </g>\n    <g clip-path=\"url(#p5f4c5ece80)\">\n     <use style=\"fill:#ff0000;stroke:#ff0000;\" x=\"309.192462\" xlink:href=\"#C0_0_2293063c7b\" y=\"257.187837\"/>\n    </g>\n    <g clip-path=\"url(#p5f4c5ece80)\">\n     <use style=\"fill:#ff0000;stroke:#ff0000;\" x=\"309.192462\" xlink:href=\"#C0_0_2293063c7b\" y=\"246.963386\"/>\n    </g>\n    <g clip-path=\"url(#p5f4c5ece80)\">\n     <use style=\"fill:#ff0000;stroke:#ff0000;\" x=\"309.192462\" xlink:href=\"#C0_0_2293063c7b\" y=\"236.738934\"/>\n    </g>\n    <g clip-path=\"url(#p5f4c5ece80)\">\n     <use style=\"fill:#ff0000;stroke:#ff0000;\" x=\"309.192462\" xlink:href=\"#C0_0_2293063c7b\" y=\"226.514483\"/>\n    </g>\n    <g clip-path=\"url(#p5f4c5ece80)\">\n     <use style=\"fill:#ff0000;stroke:#ff0000;\" x=\"309.192462\" xlink:href=\"#C0_0_2293063c7b\" y=\"216.290031\"/>\n    </g>\n    <g clip-path=\"url(#p5f4c5ece80)\">\n     <use style=\"fill:#ff0000;fill-opacity:1;stroke:#ff0000;stroke-opacity:1;\" x=\"309.192462\" xlink:href=\"#C0_0_2293063c7b\" y=\"206.06558\"/>\n    </g>\n    <g clip-path=\"url(#p5f4c5ece80)\">\n     <use style=\"fill:#ff0000;fill-opacity:1;stroke:#ff0000;stroke-opacity:1;\" x=\"309.192462\" xlink:href=\"#C0_0_2293063c7b\" y=\"195.841129\"/>\n    </g>\n    <g clip-path=\"url(#p5f4c5ece80)\">\n     <use style=\"fill:#ff0000;fill-opacity:1;stroke:#ff0000;stroke-opacity:1;\" x=\"309.192462\" xlink:href=\"#C0_0_2293063c7b\" y=\"185.616677\"/>\n    </g>\n    <g clip-path=\"url(#p5f4c5ece80)\">\n     <use style=\"fill:#ff0000;fill-opacity:1;stroke:#ff0000;stroke-opacity:1;\" x=\"309.192462\" xlink:href=\"#C0_0_2293063c7b\" y=\"175.392226\"/>\n    </g>\n    <g clip-path=\"url(#p5f4c5ece80)\">\n     <use style=\"fill:#ff0000;fill-opacity:0.999317;stroke:#ff0000;stroke-opacity:0.999317;\" x=\"309.192462\" xlink:href=\"#C0_0_2293063c7b\" y=\"165.167774\"/>\n    </g>\n    <g clip-path=\"url(#p5f4c5ece80)\">\n     <use style=\"fill:#0000ff;fill-opacity:1;stroke:#0000ff;stroke-opacity:1;\" x=\"309.192462\" xlink:href=\"#C0_0_2293063c7b\" y=\"154.943323\"/>\n    </g>\n    <g clip-path=\"url(#p5f4c5ece80)\">\n     <use style=\"fill:#0000ff;stroke:#0000ff;\" x=\"309.192462\" xlink:href=\"#C0_0_2293063c7b\" y=\"144.718871\"/>\n    </g>\n    <g clip-path=\"url(#p5f4c5ece80)\">\n     <use style=\"fill:#0000ff;stroke:#0000ff;\" x=\"309.192462\" xlink:href=\"#C0_0_2293063c7b\" y=\"134.49442\"/>\n    </g>\n    <g clip-path=\"url(#p5f4c5ece80)\">\n     <use style=\"fill:#0000ff;stroke:#0000ff;\" x=\"309.192462\" xlink:href=\"#C0_0_2293063c7b\" y=\"124.269969\"/>\n    </g>\n    <g clip-path=\"url(#p5f4c5ece80)\">\n     <use style=\"fill:#0000ff;stroke:#0000ff;\" x=\"309.192462\" xlink:href=\"#C0_0_2293063c7b\" y=\"114.045517\"/>\n    </g>\n    <g clip-path=\"url(#p5f4c5ece80)\">\n     <use style=\"fill:#0000ff;stroke:#0000ff;\" x=\"309.192462\" xlink:href=\"#C0_0_2293063c7b\" y=\"103.821066\"/>\n    </g>\n    <g clip-path=\"url(#p5f4c5ece80)\">\n     <use style=\"fill:#0000ff;stroke:#0000ff;\" x=\"309.192462\" xlink:href=\"#C0_0_2293063c7b\" y=\"93.596614\"/>\n    </g>\n    <g clip-path=\"url(#p5f4c5ece80)\">\n     <use style=\"fill:#0000ff;stroke:#0000ff;\" x=\"309.192462\" xlink:href=\"#C0_0_2293063c7b\" y=\"83.372163\"/>\n    </g>\n    <g clip-path=\"url(#p5f4c5ece80)\">\n     <use style=\"fill:#0000ff;stroke:#0000ff;\" x=\"309.192462\" xlink:href=\"#C0_0_2293063c7b\" y=\"73.147712\"/>\n    </g>\n    <g clip-path=\"url(#p5f4c5ece80)\">\n     <use style=\"fill:#0000ff;stroke:#0000ff;\" x=\"309.192462\" xlink:href=\"#C0_0_2293063c7b\" y=\"62.92326\"/>\n    </g>\n    <g clip-path=\"url(#p5f4c5ece80)\">\n     <use style=\"fill:#0000ff;stroke:#0000ff;\" x=\"309.192462\" xlink:href=\"#C0_0_2293063c7b\" y=\"52.698809\"/>\n    </g>\n    <g clip-path=\"url(#p5f4c5ece80)\">\n     <use style=\"fill:#0000ff;stroke:#0000ff;\" x=\"309.192462\" xlink:href=\"#C0_0_2293063c7b\" y=\"42.474357\"/>\n    </g>\n    <g clip-path=\"url(#p5f4c5ece80)\">\n     <use style=\"fill:#0000ff;stroke:#0000ff;\" x=\"309.192462\" xlink:href=\"#C0_0_2293063c7b\" y=\"32.249906\"/>\n    </g>\n    <g clip-path=\"url(#p5f4c5ece80)\">\n     <use style=\"fill:#0000ff;stroke:#0000ff;\" x=\"309.192462\" xlink:href=\"#C0_0_2293063c7b\" y=\"22.025455\"/>\n    </g>\n    <g clip-path=\"url(#p5f4c5ece80)\">\n     <use style=\"fill:#ff0000;fill-opacity:0.999674;stroke:#ff0000;stroke-opacity:0.999674;\" x=\"319.416913\" xlink:href=\"#C0_0_2293063c7b\" y=\"318.534545\"/>\n    </g>\n    <g clip-path=\"url(#p5f4c5ece80)\">\n     <use style=\"fill:#ff0000;fill-opacity:0.999862;stroke:#ff0000;stroke-opacity:0.999862;\" x=\"319.416913\" xlink:href=\"#C0_0_2293063c7b\" y=\"308.310094\"/>\n    </g>\n    <g clip-path=\"url(#p5f4c5ece80)\">\n     <use style=\"fill:#ff0000;fill-opacity:0.999942;stroke:#ff0000;stroke-opacity:0.999942;\" x=\"319.416913\" xlink:href=\"#C0_0_2293063c7b\" y=\"298.085643\"/>\n    </g>\n    <g clip-path=\"url(#p5f4c5ece80)\">\n     <use style=\"fill:#ff0000;fill-opacity:0.999975;stroke:#ff0000;stroke-opacity:0.999975;\" x=\"319.416913\" xlink:href=\"#C0_0_2293063c7b\" y=\"287.861191\"/>\n    </g>\n    <g clip-path=\"url(#p5f4c5ece80)\">\n     <use style=\"fill:#ff0000;fill-opacity:0.99999;stroke:#ff0000;stroke-opacity:0.99999;\" x=\"319.416913\" xlink:href=\"#C0_0_2293063c7b\" y=\"277.63674\"/>\n    </g>\n    <g clip-path=\"url(#p5f4c5ece80)\">\n     <use style=\"fill:#ff0000;fill-opacity:0.999996;stroke:#ff0000;stroke-opacity:0.999996;\" x=\"319.416913\" xlink:href=\"#C0_0_2293063c7b\" y=\"267.412288\"/>\n    </g>\n    <g clip-path=\"url(#p5f4c5ece80)\">\n     <use style=\"fill:#ff0000;fill-opacity:0.999998;stroke:#ff0000;stroke-opacity:0.999998;\" x=\"319.416913\" xlink:href=\"#C0_0_2293063c7b\" y=\"257.187837\"/>\n    </g>\n    <g clip-path=\"url(#p5f4c5ece80)\">\n     <use style=\"fill:#ff0000;fill-opacity:0.999999;stroke:#ff0000;stroke-opacity:0.999999;\" x=\"319.416913\" xlink:href=\"#C0_0_2293063c7b\" y=\"246.963386\"/>\n    </g>\n    <g clip-path=\"url(#p5f4c5ece80)\">\n     <use style=\"fill:#ff0000;fill-opacity:1;stroke:#ff0000;stroke-opacity:1;\" x=\"319.416913\" xlink:href=\"#C0_0_2293063c7b\" y=\"236.738934\"/>\n    </g>\n    <g clip-path=\"url(#p5f4c5ece80)\">\n     <use style=\"fill:#ff0000;fill-opacity:1;stroke:#ff0000;stroke-opacity:1;\" x=\"319.416913\" xlink:href=\"#C0_0_2293063c7b\" y=\"226.514483\"/>\n    </g>\n    <g clip-path=\"url(#p5f4c5ece80)\">\n     <use style=\"fill:#ff0000;fill-opacity:1;stroke:#ff0000;stroke-opacity:1;\" x=\"319.416913\" xlink:href=\"#C0_0_2293063c7b\" y=\"216.290031\"/>\n    </g>\n    <g clip-path=\"url(#p5f4c5ece80)\">\n     <use style=\"fill:#ff0000;fill-opacity:1;stroke:#ff0000;stroke-opacity:1;\" x=\"319.416913\" xlink:href=\"#C0_0_2293063c7b\" y=\"206.06558\"/>\n    </g>\n    <g clip-path=\"url(#p5f4c5ece80)\">\n     <use style=\"fill:#ff0000;fill-opacity:1;stroke:#ff0000;stroke-opacity:1;\" x=\"319.416913\" xlink:href=\"#C0_0_2293063c7b\" y=\"195.841129\"/>\n    </g>\n    <g clip-path=\"url(#p5f4c5ece80)\">\n     <use style=\"fill:#ff0000;fill-opacity:1;stroke:#ff0000;stroke-opacity:1;\" x=\"319.416913\" xlink:href=\"#C0_0_2293063c7b\" y=\"185.616677\"/>\n    </g>\n    <g clip-path=\"url(#p5f4c5ece80)\">\n     <use style=\"fill:#ff0000;fill-opacity:0.999961;stroke:#ff0000;stroke-opacity:0.999961;\" x=\"319.416913\" xlink:href=\"#C0_0_2293063c7b\" y=\"175.392226\"/>\n    </g>\n    <g clip-path=\"url(#p5f4c5ece80)\">\n     <use style=\"fill:#ff0000;fill-opacity:0.999262;stroke:#ff0000;stroke-opacity:0.999262;\" x=\"319.416913\" xlink:href=\"#C0_0_2293063c7b\" y=\"165.167774\"/>\n    </g>\n    <g clip-path=\"url(#p5f4c5ece80)\">\n     <use style=\"fill:#ff0000;fill-opacity:0.843874;stroke:#ff0000;stroke-opacity:0.843874;\" x=\"319.416913\" xlink:href=\"#C0_0_2293063c7b\" y=\"154.943323\"/>\n    </g>\n    <g clip-path=\"url(#p5f4c5ece80)\">\n     <use style=\"fill:#0000ff;fill-opacity:0.947169;stroke:#0000ff;stroke-opacity:0.947169;\" x=\"319.416913\" xlink:href=\"#C0_0_2293063c7b\" y=\"144.718871\"/>\n    </g>\n    <g clip-path=\"url(#p5f4c5ece80)\">\n     <use style=\"fill:#0000ff;fill-opacity:0.999988;stroke:#0000ff;stroke-opacity:0.999988;\" x=\"319.416913\" xlink:href=\"#C0_0_2293063c7b\" y=\"134.49442\"/>\n    </g>\n    <g clip-path=\"url(#p5f4c5ece80)\">\n     <use style=\"fill:#0000ff;stroke:#0000ff;\" x=\"319.416913\" xlink:href=\"#C0_0_2293063c7b\" y=\"124.269969\"/>\n    </g>\n    <g clip-path=\"url(#p5f4c5ece80)\">\n     <use style=\"fill:#0000ff;stroke:#0000ff;\" x=\"319.416913\" xlink:href=\"#C0_0_2293063c7b\" y=\"114.045517\"/>\n    </g>\n    <g clip-path=\"url(#p5f4c5ece80)\">\n     <use style=\"fill:#0000ff;stroke:#0000ff;\" x=\"319.416913\" xlink:href=\"#C0_0_2293063c7b\" y=\"103.821066\"/>\n    </g>\n    <g clip-path=\"url(#p5f4c5ece80)\">\n     <use style=\"fill:#0000ff;stroke:#0000ff;\" x=\"319.416913\" xlink:href=\"#C0_0_2293063c7b\" y=\"93.596614\"/>\n    </g>\n    <g clip-path=\"url(#p5f4c5ece80)\">\n     <use style=\"fill:#0000ff;stroke:#0000ff;\" x=\"319.416913\" xlink:href=\"#C0_0_2293063c7b\" y=\"83.372163\"/>\n    </g>\n    <g clip-path=\"url(#p5f4c5ece80)\">\n     <use style=\"fill:#0000ff;stroke:#0000ff;\" x=\"319.416913\" xlink:href=\"#C0_0_2293063c7b\" y=\"73.147712\"/>\n    </g>\n    <g clip-path=\"url(#p5f4c5ece80)\">\n     <use style=\"fill:#0000ff;stroke:#0000ff;\" x=\"319.416913\" xlink:href=\"#C0_0_2293063c7b\" y=\"62.92326\"/>\n    </g>\n    <g clip-path=\"url(#p5f4c5ece80)\">\n     <use style=\"fill:#0000ff;stroke:#0000ff;\" x=\"319.416913\" xlink:href=\"#C0_0_2293063c7b\" y=\"52.698809\"/>\n    </g>\n    <g clip-path=\"url(#p5f4c5ece80)\">\n     <use style=\"fill:#0000ff;stroke:#0000ff;\" x=\"319.416913\" xlink:href=\"#C0_0_2293063c7b\" y=\"42.474357\"/>\n    </g>\n    <g clip-path=\"url(#p5f4c5ece80)\">\n     <use style=\"fill:#0000ff;stroke:#0000ff;\" x=\"319.416913\" xlink:href=\"#C0_0_2293063c7b\" y=\"32.249906\"/>\n    </g>\n    <g clip-path=\"url(#p5f4c5ece80)\">\n     <use style=\"fill:#0000ff;stroke:#0000ff;\" x=\"319.416913\" xlink:href=\"#C0_0_2293063c7b\" y=\"22.025455\"/>\n    </g>\n    <g clip-path=\"url(#p5f4c5ece80)\">\n     <use style=\"fill:#0000ff;stroke:#0000ff;\" x=\"329.641365\" xlink:href=\"#C0_0_2293063c7b\" y=\"318.534545\"/>\n    </g>\n    <g clip-path=\"url(#p5f4c5ece80)\">\n     <use style=\"fill:#0000ff;stroke:#0000ff;\" x=\"329.641365\" xlink:href=\"#C0_0_2293063c7b\" y=\"308.310094\"/>\n    </g>\n    <g clip-path=\"url(#p5f4c5ece80)\">\n     <use style=\"fill:#0000ff;stroke:#0000ff;\" x=\"329.641365\" xlink:href=\"#C0_0_2293063c7b\" y=\"298.085643\"/>\n    </g>\n    <g clip-path=\"url(#p5f4c5ece80)\">\n     <use style=\"fill:#0000ff;stroke:#0000ff;\" x=\"329.641365\" xlink:href=\"#C0_0_2293063c7b\" y=\"287.861191\"/>\n    </g>\n    <g clip-path=\"url(#p5f4c5ece80)\">\n     <use style=\"fill:#0000ff;stroke:#0000ff;\" x=\"329.641365\" xlink:href=\"#C0_0_2293063c7b\" y=\"277.63674\"/>\n    </g>\n    <g clip-path=\"url(#p5f4c5ece80)\">\n     <use style=\"fill:#0000ff;stroke:#0000ff;\" x=\"329.641365\" xlink:href=\"#C0_0_2293063c7b\" y=\"267.412288\"/>\n    </g>\n    <g clip-path=\"url(#p5f4c5ece80)\">\n     <use style=\"fill:#0000ff;stroke:#0000ff;\" x=\"329.641365\" xlink:href=\"#C0_0_2293063c7b\" y=\"257.187837\"/>\n    </g>\n    <g clip-path=\"url(#p5f4c5ece80)\">\n     <use style=\"fill:#0000ff;stroke:#0000ff;\" x=\"329.641365\" xlink:href=\"#C0_0_2293063c7b\" y=\"246.963386\"/>\n    </g>\n    <g clip-path=\"url(#p5f4c5ece80)\">\n     <use style=\"fill:#0000ff;stroke:#0000ff;\" x=\"329.641365\" xlink:href=\"#C0_0_2293063c7b\" y=\"236.738934\"/>\n    </g>\n    <g clip-path=\"url(#p5f4c5ece80)\">\n     <use style=\"fill:#0000ff;stroke:#0000ff;\" x=\"329.641365\" xlink:href=\"#C0_0_2293063c7b\" y=\"226.514483\"/>\n    </g>\n    <g clip-path=\"url(#p5f4c5ece80)\">\n     <use style=\"fill:#0000ff;stroke:#0000ff;\" x=\"329.641365\" xlink:href=\"#C0_0_2293063c7b\" y=\"216.290031\"/>\n    </g>\n    <g clip-path=\"url(#p5f4c5ece80)\">\n     <use style=\"fill:#0000ff;stroke:#0000ff;\" x=\"329.641365\" xlink:href=\"#C0_0_2293063c7b\" y=\"206.06558\"/>\n    </g>\n    <g clip-path=\"url(#p5f4c5ece80)\">\n     <use style=\"fill:#0000ff;stroke:#0000ff;\" x=\"329.641365\" xlink:href=\"#C0_0_2293063c7b\" y=\"195.841129\"/>\n    </g>\n    <g clip-path=\"url(#p5f4c5ece80)\">\n     <use style=\"fill:#0000ff;stroke:#0000ff;\" x=\"329.641365\" xlink:href=\"#C0_0_2293063c7b\" y=\"185.616677\"/>\n    </g>\n    <g clip-path=\"url(#p5f4c5ece80)\">\n     <use style=\"fill:#0000ff;fill-opacity:0.999269;stroke:#0000ff;stroke-opacity:0.999269;\" x=\"329.641365\" xlink:href=\"#C0_0_2293063c7b\" y=\"175.392226\"/>\n    </g>\n    <g clip-path=\"url(#p5f4c5ece80)\">\n     <use style=\"fill:#ff0000;fill-opacity:0.999665;stroke:#ff0000;stroke-opacity:0.999665;\" x=\"329.641365\" xlink:href=\"#C0_0_2293063c7b\" y=\"165.167774\"/>\n    </g>\n    <g clip-path=\"url(#p5f4c5ece80)\">\n     <use style=\"fill:#ff0000;fill-opacity:0.999999;stroke:#ff0000;stroke-opacity:0.999999;\" x=\"329.641365\" xlink:href=\"#C0_0_2293063c7b\" y=\"154.943323\"/>\n    </g>\n    <g clip-path=\"url(#p5f4c5ece80)\">\n     <use style=\"fill:#ff0000;fill-opacity:1;stroke:#ff0000;stroke-opacity:1;\" x=\"329.641365\" xlink:href=\"#C0_0_2293063c7b\" y=\"144.718871\"/>\n    </g>\n    <g clip-path=\"url(#p5f4c5ece80)\">\n     <use style=\"fill:#ff0000;fill-opacity:0.999945;stroke:#ff0000;stroke-opacity:0.999945;\" x=\"329.641365\" xlink:href=\"#C0_0_2293063c7b\" y=\"134.49442\"/>\n    </g>\n    <g clip-path=\"url(#p5f4c5ece80)\">\n     <use style=\"fill:#ff0000;fill-opacity:0.991362;stroke:#ff0000;stroke-opacity:0.991362;\" x=\"329.641365\" xlink:href=\"#C0_0_2293063c7b\" y=\"124.269969\"/>\n    </g>\n    <g clip-path=\"url(#p5f4c5ece80)\">\n     <use style=\"fill:#0000ff;fill-opacity:0.581106;stroke:#0000ff;stroke-opacity:0.581106;\" x=\"329.641365\" xlink:href=\"#C0_0_2293063c7b\" y=\"114.045517\"/>\n    </g>\n    <g clip-path=\"url(#p5f4c5ece80)\">\n     <use style=\"fill:#0000ff;fill-opacity:0.995493;stroke:#0000ff;stroke-opacity:0.995493;\" x=\"329.641365\" xlink:href=\"#C0_0_2293063c7b\" y=\"103.821066\"/>\n    </g>\n    <g clip-path=\"url(#p5f4c5ece80)\">\n     <use style=\"fill:#0000ff;fill-opacity:0.999972;stroke:#0000ff;stroke-opacity:0.999972;\" x=\"329.641365\" xlink:href=\"#C0_0_2293063c7b\" y=\"93.596614\"/>\n    </g>\n    <g clip-path=\"url(#p5f4c5ece80)\">\n     <use style=\"fill:#0000ff;stroke:#0000ff;\" x=\"329.641365\" xlink:href=\"#C0_0_2293063c7b\" y=\"83.372163\"/>\n    </g>\n    <g clip-path=\"url(#p5f4c5ece80)\">\n     <use style=\"fill:#0000ff;stroke:#0000ff;\" x=\"329.641365\" xlink:href=\"#C0_0_2293063c7b\" y=\"73.147712\"/>\n    </g>\n    <g clip-path=\"url(#p5f4c5ece80)\">\n     <use style=\"fill:#0000ff;stroke:#0000ff;\" x=\"329.641365\" xlink:href=\"#C0_0_2293063c7b\" y=\"62.92326\"/>\n    </g>\n    <g clip-path=\"url(#p5f4c5ece80)\">\n     <use style=\"fill:#0000ff;stroke:#0000ff;\" x=\"329.641365\" xlink:href=\"#C0_0_2293063c7b\" y=\"52.698809\"/>\n    </g>\n    <g clip-path=\"url(#p5f4c5ece80)\">\n     <use style=\"fill:#0000ff;stroke:#0000ff;\" x=\"329.641365\" xlink:href=\"#C0_0_2293063c7b\" y=\"42.474357\"/>\n    </g>\n    <g clip-path=\"url(#p5f4c5ece80)\">\n     <use style=\"fill:#0000ff;stroke:#0000ff;\" x=\"329.641365\" xlink:href=\"#C0_0_2293063c7b\" y=\"32.249906\"/>\n    </g>\n    <g clip-path=\"url(#p5f4c5ece80)\">\n     <use style=\"fill:#0000ff;stroke:#0000ff;\" x=\"329.641365\" xlink:href=\"#C0_0_2293063c7b\" y=\"22.025455\"/>\n    </g>\n    <g clip-path=\"url(#p5f4c5ece80)\">\n     <use style=\"fill:#0000ff;stroke:#0000ff;\" x=\"339.865816\" xlink:href=\"#C0_0_2293063c7b\" y=\"318.534545\"/>\n    </g>\n    <g clip-path=\"url(#p5f4c5ece80)\">\n     <use style=\"fill:#0000ff;stroke:#0000ff;\" x=\"339.865816\" xlink:href=\"#C0_0_2293063c7b\" y=\"308.310094\"/>\n    </g>\n    <g clip-path=\"url(#p5f4c5ece80)\">\n     <use style=\"fill:#0000ff;stroke:#0000ff;\" x=\"339.865816\" xlink:href=\"#C0_0_2293063c7b\" y=\"298.085643\"/>\n    </g>\n    <g clip-path=\"url(#p5f4c5ece80)\">\n     <use style=\"fill:#0000ff;stroke:#0000ff;\" x=\"339.865816\" xlink:href=\"#C0_0_2293063c7b\" y=\"287.861191\"/>\n    </g>\n    <g clip-path=\"url(#p5f4c5ece80)\">\n     <use style=\"fill:#0000ff;stroke:#0000ff;\" x=\"339.865816\" xlink:href=\"#C0_0_2293063c7b\" y=\"277.63674\"/>\n    </g>\n    <g clip-path=\"url(#p5f4c5ece80)\">\n     <use style=\"fill:#0000ff;stroke:#0000ff;\" x=\"339.865816\" xlink:href=\"#C0_0_2293063c7b\" y=\"267.412288\"/>\n    </g>\n    <g clip-path=\"url(#p5f4c5ece80)\">\n     <use style=\"fill:#0000ff;stroke:#0000ff;\" x=\"339.865816\" xlink:href=\"#C0_0_2293063c7b\" y=\"257.187837\"/>\n    </g>\n    <g clip-path=\"url(#p5f4c5ece80)\">\n     <use style=\"fill:#0000ff;stroke:#0000ff;\" x=\"339.865816\" xlink:href=\"#C0_0_2293063c7b\" y=\"246.963386\"/>\n    </g>\n    <g clip-path=\"url(#p5f4c5ece80)\">\n     <use style=\"fill:#0000ff;stroke:#0000ff;\" x=\"339.865816\" xlink:href=\"#C0_0_2293063c7b\" y=\"236.738934\"/>\n    </g>\n    <g clip-path=\"url(#p5f4c5ece80)\">\n     <use style=\"fill:#0000ff;stroke:#0000ff;\" x=\"339.865816\" xlink:href=\"#C0_0_2293063c7b\" y=\"226.514483\"/>\n    </g>\n    <g clip-path=\"url(#p5f4c5ece80)\">\n     <use style=\"fill:#0000ff;stroke:#0000ff;\" x=\"339.865816\" xlink:href=\"#C0_0_2293063c7b\" y=\"216.290031\"/>\n    </g>\n    <g clip-path=\"url(#p5f4c5ece80)\">\n     <use style=\"fill:#0000ff;stroke:#0000ff;\" x=\"339.865816\" xlink:href=\"#C0_0_2293063c7b\" y=\"206.06558\"/>\n    </g>\n    <g clip-path=\"url(#p5f4c5ece80)\">\n     <use style=\"fill:#0000ff;stroke:#0000ff;\" x=\"339.865816\" xlink:href=\"#C0_0_2293063c7b\" y=\"195.841129\"/>\n    </g>\n    <g clip-path=\"url(#p5f4c5ece80)\">\n     <use style=\"fill:#0000ff;stroke:#0000ff;\" x=\"339.865816\" xlink:href=\"#C0_0_2293063c7b\" y=\"185.616677\"/>\n    </g>\n    <g clip-path=\"url(#p5f4c5ece80)\">\n     <use style=\"fill:#0000ff;fill-opacity:0.99999;stroke:#0000ff;stroke-opacity:0.99999;\" x=\"339.865816\" xlink:href=\"#C0_0_2293063c7b\" y=\"175.392226\"/>\n    </g>\n    <g clip-path=\"url(#p5f4c5ece80)\">\n     <use style=\"fill:#ff0000;fill-opacity:0.970232;stroke:#ff0000;stroke-opacity:0.970232;\" x=\"339.865816\" xlink:href=\"#C0_0_2293063c7b\" y=\"165.167774\"/>\n    </g>\n    <g clip-path=\"url(#p5f4c5ece80)\">\n     <use style=\"fill:#ff0000;fill-opacity:1;stroke:#ff0000;stroke-opacity:1;\" x=\"339.865816\" xlink:href=\"#C0_0_2293063c7b\" y=\"154.943323\"/>\n    </g>\n    <g clip-path=\"url(#p5f4c5ece80)\">\n     <use style=\"fill:#ff0000;fill-opacity:1;stroke:#ff0000;stroke-opacity:1;\" x=\"339.865816\" xlink:href=\"#C0_0_2293063c7b\" y=\"144.718871\"/>\n    </g>\n    <g clip-path=\"url(#p5f4c5ece80)\">\n     <use style=\"fill:#ff0000;fill-opacity:1;stroke:#ff0000;stroke-opacity:1;\" x=\"339.865816\" xlink:href=\"#C0_0_2293063c7b\" y=\"134.49442\"/>\n    </g>\n    <g clip-path=\"url(#p5f4c5ece80)\">\n     <use style=\"fill:#ff0000;fill-opacity:1;stroke:#ff0000;stroke-opacity:1;\" x=\"339.865816\" xlink:href=\"#C0_0_2293063c7b\" y=\"124.269969\"/>\n    </g>\n    <g clip-path=\"url(#p5f4c5ece80)\">\n     <use style=\"fill:#ff0000;fill-opacity:1;stroke:#ff0000;stroke-opacity:1;\" x=\"339.865816\" xlink:href=\"#C0_0_2293063c7b\" y=\"114.045517\"/>\n    </g>\n    <g clip-path=\"url(#p5f4c5ece80)\">\n     <use style=\"fill:#ff0000;fill-opacity:1;stroke:#ff0000;stroke-opacity:1;\" x=\"339.865816\" xlink:href=\"#C0_0_2293063c7b\" y=\"103.821066\"/>\n    </g>\n    <g clip-path=\"url(#p5f4c5ece80)\">\n     <use style=\"fill:#ff0000;fill-opacity:0.999973;stroke:#ff0000;stroke-opacity:0.999973;\" x=\"339.865816\" xlink:href=\"#C0_0_2293063c7b\" y=\"93.596614\"/>\n    </g>\n    <g clip-path=\"url(#p5f4c5ece80)\">\n     <use style=\"fill:#ff0000;fill-opacity:0.995693;stroke:#ff0000;stroke-opacity:0.995693;\" x=\"339.865816\" xlink:href=\"#C0_0_2293063c7b\" y=\"83.372163\"/>\n    </g>\n    <g clip-path=\"url(#p5f4c5ece80)\">\n     <use style=\"fill:#ff0000;fill-opacity:0.59221;stroke:#ff0000;stroke-opacity:0.59221;\" x=\"339.865816\" xlink:href=\"#C0_0_2293063c7b\" y=\"73.147712\"/>\n    </g>\n    <g clip-path=\"url(#p5f4c5ece80)\">\n     <use style=\"fill:#0000ff;fill-opacity:0.990961;stroke:#0000ff;stroke-opacity:0.990961;\" x=\"339.865816\" xlink:href=\"#C0_0_2293063c7b\" y=\"62.92326\"/>\n    </g>\n    <g clip-path=\"url(#p5f4c5ece80)\">\n     <use style=\"fill:#0000ff;fill-opacity:0.999943;stroke:#0000ff;stroke-opacity:0.999943;\" x=\"339.865816\" xlink:href=\"#C0_0_2293063c7b\" y=\"52.698809\"/>\n    </g>\n    <g clip-path=\"url(#p5f4c5ece80)\">\n     <use style=\"fill:#0000ff;fill-opacity:1;stroke:#0000ff;stroke-opacity:1;\" x=\"339.865816\" xlink:href=\"#C0_0_2293063c7b\" y=\"42.474357\"/>\n    </g>\n    <g clip-path=\"url(#p5f4c5ece80)\">\n     <use style=\"fill:#0000ff;stroke:#0000ff;\" x=\"339.865816\" xlink:href=\"#C0_0_2293063c7b\" y=\"32.249906\"/>\n    </g>\n    <g clip-path=\"url(#p5f4c5ece80)\">\n     <use style=\"fill:#0000ff;stroke:#0000ff;\" x=\"339.865816\" xlink:href=\"#C0_0_2293063c7b\" y=\"22.025455\"/>\n    </g>\n    <g clip-path=\"url(#p5f4c5ece80)\">\n     <use style=\"fill:#0000ff;stroke:#0000ff;\" x=\"350.090267\" xlink:href=\"#C0_0_2293063c7b\" y=\"318.534545\"/>\n    </g>\n    <g clip-path=\"url(#p5f4c5ece80)\">\n     <use style=\"fill:#0000ff;stroke:#0000ff;\" x=\"350.090267\" xlink:href=\"#C0_0_2293063c7b\" y=\"308.310094\"/>\n    </g>\n    <g clip-path=\"url(#p5f4c5ece80)\">\n     <use style=\"fill:#0000ff;stroke:#0000ff;\" x=\"350.090267\" xlink:href=\"#C0_0_2293063c7b\" y=\"298.085643\"/>\n    </g>\n    <g clip-path=\"url(#p5f4c5ece80)\">\n     <use style=\"fill:#0000ff;stroke:#0000ff;\" x=\"350.090267\" xlink:href=\"#C0_0_2293063c7b\" y=\"287.861191\"/>\n    </g>\n    <g clip-path=\"url(#p5f4c5ece80)\">\n     <use style=\"fill:#0000ff;stroke:#0000ff;\" x=\"350.090267\" xlink:href=\"#C0_0_2293063c7b\" y=\"277.63674\"/>\n    </g>\n    <g clip-path=\"url(#p5f4c5ece80)\">\n     <use style=\"fill:#0000ff;stroke:#0000ff;\" x=\"350.090267\" xlink:href=\"#C0_0_2293063c7b\" y=\"267.412288\"/>\n    </g>\n    <g clip-path=\"url(#p5f4c5ece80)\">\n     <use style=\"fill:#0000ff;stroke:#0000ff;\" x=\"350.090267\" xlink:href=\"#C0_0_2293063c7b\" y=\"257.187837\"/>\n    </g>\n    <g clip-path=\"url(#p5f4c5ece80)\">\n     <use style=\"fill:#0000ff;stroke:#0000ff;\" x=\"350.090267\" xlink:href=\"#C0_0_2293063c7b\" y=\"246.963386\"/>\n    </g>\n    <g clip-path=\"url(#p5f4c5ece80)\">\n     <use style=\"fill:#0000ff;stroke:#0000ff;\" x=\"350.090267\" xlink:href=\"#C0_0_2293063c7b\" y=\"236.738934\"/>\n    </g>\n    <g clip-path=\"url(#p5f4c5ece80)\">\n     <use style=\"fill:#0000ff;stroke:#0000ff;\" x=\"350.090267\" xlink:href=\"#C0_0_2293063c7b\" y=\"226.514483\"/>\n    </g>\n    <g clip-path=\"url(#p5f4c5ece80)\">\n     <use style=\"fill:#0000ff;stroke:#0000ff;\" x=\"350.090267\" xlink:href=\"#C0_0_2293063c7b\" y=\"216.290031\"/>\n    </g>\n    <g clip-path=\"url(#p5f4c5ece80)\">\n     <use style=\"fill:#0000ff;stroke:#0000ff;\" x=\"350.090267\" xlink:href=\"#C0_0_2293063c7b\" y=\"206.06558\"/>\n    </g>\n    <g clip-path=\"url(#p5f4c5ece80)\">\n     <use style=\"fill:#0000ff;stroke:#0000ff;\" x=\"350.090267\" xlink:href=\"#C0_0_2293063c7b\" y=\"195.841129\"/>\n    </g>\n    <g clip-path=\"url(#p5f4c5ece80)\">\n     <use style=\"fill:#0000ff;stroke:#0000ff;\" x=\"350.090267\" xlink:href=\"#C0_0_2293063c7b\" y=\"185.616677\"/>\n    </g>\n    <g clip-path=\"url(#p5f4c5ece80)\">\n     <use style=\"fill:#0000ff;fill-opacity:1;stroke:#0000ff;stroke-opacity:1;\" x=\"350.090267\" xlink:href=\"#C0_0_2293063c7b\" y=\"175.392226\"/>\n    </g>\n    <g clip-path=\"url(#p5f4c5ece80)\">\n     <use style=\"fill:#ff0000;fill-opacity:0.892831;stroke:#ff0000;stroke-opacity:0.892831;\" x=\"350.090267\" xlink:href=\"#C0_0_2293063c7b\" y=\"165.167774\"/>\n    </g>\n    <g clip-path=\"url(#p5f4c5ece80)\">\n     <use style=\"fill:#ff0000;fill-opacity:1;stroke:#ff0000;stroke-opacity:1;\" x=\"350.090267\" xlink:href=\"#C0_0_2293063c7b\" y=\"154.943323\"/>\n    </g>\n    <g clip-path=\"url(#p5f4c5ece80)\">\n     <use style=\"fill:#ff0000;fill-opacity:1;stroke:#ff0000;stroke-opacity:1;\" x=\"350.090267\" xlink:href=\"#C0_0_2293063c7b\" y=\"144.718871\"/>\n    </g>\n    <g clip-path=\"url(#p5f4c5ece80)\">\n     <use style=\"fill:#ff0000;fill-opacity:1;stroke:#ff0000;stroke-opacity:1;\" x=\"350.090267\" xlink:href=\"#C0_0_2293063c7b\" y=\"134.49442\"/>\n    </g>\n    <g clip-path=\"url(#p5f4c5ece80)\">\n     <use style=\"fill:#ff0000;stroke:#ff0000;\" x=\"350.090267\" xlink:href=\"#C0_0_2293063c7b\" y=\"124.269969\"/>\n    </g>\n    <g clip-path=\"url(#p5f4c5ece80)\">\n     <use style=\"fill:#ff0000;stroke:#ff0000;\" x=\"350.090267\" xlink:href=\"#C0_0_2293063c7b\" y=\"114.045517\"/>\n    </g>\n    <g clip-path=\"url(#p5f4c5ece80)\">\n     <use style=\"fill:#ff0000;fill-opacity:1;stroke:#ff0000;stroke-opacity:1;\" x=\"350.090267\" xlink:href=\"#C0_0_2293063c7b\" y=\"103.821066\"/>\n    </g>\n    <g clip-path=\"url(#p5f4c5ece80)\">\n     <use style=\"fill:#ff0000;fill-opacity:1;stroke:#ff0000;stroke-opacity:1;\" x=\"350.090267\" xlink:href=\"#C0_0_2293063c7b\" y=\"93.596614\"/>\n    </g>\n    <g clip-path=\"url(#p5f4c5ece80)\">\n     <use style=\"fill:#ff0000;fill-opacity:1;stroke:#ff0000;stroke-opacity:1;\" x=\"350.090267\" xlink:href=\"#C0_0_2293063c7b\" y=\"83.372163\"/>\n    </g>\n    <g clip-path=\"url(#p5f4c5ece80)\">\n     <use style=\"fill:#ff0000;fill-opacity:1;stroke:#ff0000;stroke-opacity:1;\" x=\"350.090267\" xlink:href=\"#C0_0_2293063c7b\" y=\"73.147712\"/>\n    </g>\n    <g clip-path=\"url(#p5f4c5ece80)\">\n     <use style=\"fill:#ff0000;fill-opacity:1;stroke:#ff0000;stroke-opacity:1;\" x=\"350.090267\" xlink:href=\"#C0_0_2293063c7b\" y=\"62.92326\"/>\n    </g>\n    <g clip-path=\"url(#p5f4c5ece80)\">\n     <use style=\"fill:#ff0000;fill-opacity:0.999987;stroke:#ff0000;stroke-opacity:0.999987;\" x=\"350.090267\" xlink:href=\"#C0_0_2293063c7b\" y=\"52.698809\"/>\n    </g>\n    <g clip-path=\"url(#p5f4c5ece80)\">\n     <use style=\"fill:#ff0000;fill-opacity:0.997858;stroke:#ff0000;stroke-opacity:0.997858;\" x=\"350.090267\" xlink:href=\"#C0_0_2293063c7b\" y=\"42.474357\"/>\n    </g>\n    <g clip-path=\"url(#p5f4c5ece80)\">\n     <use style=\"fill:#ff0000;fill-opacity:0.745267;stroke:#ff0000;stroke-opacity:0.745267;\" x=\"350.090267\" xlink:href=\"#C0_0_2293063c7b\" y=\"32.249906\"/>\n    </g>\n    <g clip-path=\"url(#p5f4c5ece80)\">\n     <use style=\"fill:#0000ff;fill-opacity:0.981955;stroke:#0000ff;stroke-opacity:0.981955;\" x=\"350.090267\" xlink:href=\"#C0_0_2293063c7b\" y=\"22.025455\"/>\n    </g>\n    <g clip-path=\"url(#p5f4c5ece80)\">\n     <use style=\"fill:#0000ff;stroke:#0000ff;\" x=\"360.314719\" xlink:href=\"#C0_0_2293063c7b\" y=\"318.534545\"/>\n    </g>\n    <g clip-path=\"url(#p5f4c5ece80)\">\n     <use style=\"fill:#0000ff;stroke:#0000ff;\" x=\"360.314719\" xlink:href=\"#C0_0_2293063c7b\" y=\"308.310094\"/>\n    </g>\n    <g clip-path=\"url(#p5f4c5ece80)\">\n     <use style=\"fill:#0000ff;stroke:#0000ff;\" x=\"360.314719\" xlink:href=\"#C0_0_2293063c7b\" y=\"298.085643\"/>\n    </g>\n    <g clip-path=\"url(#p5f4c5ece80)\">\n     <use style=\"fill:#0000ff;stroke:#0000ff;\" x=\"360.314719\" xlink:href=\"#C0_0_2293063c7b\" y=\"287.861191\"/>\n    </g>\n    <g clip-path=\"url(#p5f4c5ece80)\">\n     <use style=\"fill:#0000ff;stroke:#0000ff;\" x=\"360.314719\" xlink:href=\"#C0_0_2293063c7b\" y=\"277.63674\"/>\n    </g>\n    <g clip-path=\"url(#p5f4c5ece80)\">\n     <use style=\"fill:#0000ff;stroke:#0000ff;\" x=\"360.314719\" xlink:href=\"#C0_0_2293063c7b\" y=\"267.412288\"/>\n    </g>\n    <g clip-path=\"url(#p5f4c5ece80)\">\n     <use style=\"fill:#0000ff;stroke:#0000ff;\" x=\"360.314719\" xlink:href=\"#C0_0_2293063c7b\" y=\"257.187837\"/>\n    </g>\n    <g clip-path=\"url(#p5f4c5ece80)\">\n     <use style=\"fill:#0000ff;stroke:#0000ff;\" x=\"360.314719\" xlink:href=\"#C0_0_2293063c7b\" y=\"246.963386\"/>\n    </g>\n    <g clip-path=\"url(#p5f4c5ece80)\">\n     <use style=\"fill:#0000ff;stroke:#0000ff;\" x=\"360.314719\" xlink:href=\"#C0_0_2293063c7b\" y=\"236.738934\"/>\n    </g>\n    <g clip-path=\"url(#p5f4c5ece80)\">\n     <use style=\"fill:#0000ff;stroke:#0000ff;\" x=\"360.314719\" xlink:href=\"#C0_0_2293063c7b\" y=\"226.514483\"/>\n    </g>\n    <g clip-path=\"url(#p5f4c5ece80)\">\n     <use style=\"fill:#0000ff;stroke:#0000ff;\" x=\"360.314719\" xlink:href=\"#C0_0_2293063c7b\" y=\"216.290031\"/>\n    </g>\n    <g clip-path=\"url(#p5f4c5ece80)\">\n     <use style=\"fill:#0000ff;stroke:#0000ff;\" x=\"360.314719\" xlink:href=\"#C0_0_2293063c7b\" y=\"206.06558\"/>\n    </g>\n    <g clip-path=\"url(#p5f4c5ece80)\">\n     <use style=\"fill:#0000ff;stroke:#0000ff;\" x=\"360.314719\" xlink:href=\"#C0_0_2293063c7b\" y=\"195.841129\"/>\n    </g>\n    <g clip-path=\"url(#p5f4c5ece80)\">\n     <use style=\"fill:#0000ff;stroke:#0000ff;\" x=\"360.314719\" xlink:href=\"#C0_0_2293063c7b\" y=\"185.616677\"/>\n    </g>\n    <g clip-path=\"url(#p5f4c5ece80)\">\n     <use style=\"fill:#0000ff;stroke:#0000ff;\" x=\"360.314719\" xlink:href=\"#C0_0_2293063c7b\" y=\"175.392226\"/>\n    </g>\n    <g clip-path=\"url(#p5f4c5ece80)\">\n     <use style=\"fill:#ff0000;fill-opacity:0.876677;stroke:#ff0000;stroke-opacity:0.876677;\" x=\"360.314719\" xlink:href=\"#C0_0_2293063c7b\" y=\"165.167774\"/>\n    </g>\n    <g clip-path=\"url(#p5f4c5ece80)\">\n     <use style=\"fill:#ff0000;fill-opacity:1;stroke:#ff0000;stroke-opacity:1;\" x=\"360.314719\" xlink:href=\"#C0_0_2293063c7b\" y=\"154.943323\"/>\n    </g>\n    <g clip-path=\"url(#p5f4c5ece80)\">\n     <use style=\"fill:#ff0000;fill-opacity:1;stroke:#ff0000;stroke-opacity:1;\" x=\"360.314719\" xlink:href=\"#C0_0_2293063c7b\" y=\"144.718871\"/>\n    </g>\n    <g clip-path=\"url(#p5f4c5ece80)\">\n     <use style=\"fill:#ff0000;fill-opacity:1;stroke:#ff0000;stroke-opacity:1;\" x=\"360.314719\" xlink:href=\"#C0_0_2293063c7b\" y=\"134.49442\"/>\n    </g>\n    <g clip-path=\"url(#p5f4c5ece80)\">\n     <use style=\"fill:#ff0000;stroke:#ff0000;\" x=\"360.314719\" xlink:href=\"#C0_0_2293063c7b\" y=\"124.269969\"/>\n    </g>\n    <g clip-path=\"url(#p5f4c5ece80)\">\n     <use style=\"fill:#ff0000;stroke:#ff0000;\" x=\"360.314719\" xlink:href=\"#C0_0_2293063c7b\" y=\"114.045517\"/>\n    </g>\n    <g clip-path=\"url(#p5f4c5ece80)\">\n     <use style=\"fill:#ff0000;stroke:#ff0000;\" x=\"360.314719\" xlink:href=\"#C0_0_2293063c7b\" y=\"103.821066\"/>\n    </g>\n    <g clip-path=\"url(#p5f4c5ece80)\">\n     <use style=\"fill:#ff0000;stroke:#ff0000;\" x=\"360.314719\" xlink:href=\"#C0_0_2293063c7b\" y=\"93.596614\"/>\n    </g>\n    <g clip-path=\"url(#p5f4c5ece80)\">\n     <use style=\"fill:#ff0000;stroke:#ff0000;\" x=\"360.314719\" xlink:href=\"#C0_0_2293063c7b\" y=\"83.372163\"/>\n    </g>\n    <g clip-path=\"url(#p5f4c5ece80)\">\n     <use style=\"fill:#ff0000;stroke:#ff0000;\" x=\"360.314719\" xlink:href=\"#C0_0_2293063c7b\" y=\"73.147712\"/>\n    </g>\n    <g clip-path=\"url(#p5f4c5ece80)\">\n     <use style=\"fill:#ff0000;fill-opacity:1;stroke:#ff0000;stroke-opacity:1;\" x=\"360.314719\" xlink:href=\"#C0_0_2293063c7b\" y=\"62.92326\"/>\n    </g>\n    <g clip-path=\"url(#p5f4c5ece80)\">\n     <use style=\"fill:#ff0000;fill-opacity:1;stroke:#ff0000;stroke-opacity:1;\" x=\"360.314719\" xlink:href=\"#C0_0_2293063c7b\" y=\"52.698809\"/>\n    </g>\n    <g clip-path=\"url(#p5f4c5ece80)\">\n     <use style=\"fill:#ff0000;fill-opacity:1;stroke:#ff0000;stroke-opacity:1;\" x=\"360.314719\" xlink:href=\"#C0_0_2293063c7b\" y=\"42.474357\"/>\n    </g>\n    <g clip-path=\"url(#p5f4c5ece80)\">\n     <use style=\"fill:#ff0000;fill-opacity:1;stroke:#ff0000;stroke-opacity:1;\" x=\"360.314719\" xlink:href=\"#C0_0_2293063c7b\" y=\"32.249906\"/>\n    </g>\n    <g clip-path=\"url(#p5f4c5ece80)\">\n     <use style=\"fill:#ff0000;fill-opacity:1;stroke:#ff0000;stroke-opacity:1;\" x=\"360.314719\" xlink:href=\"#C0_0_2293063c7b\" y=\"22.025455\"/>\n    </g>\n    <g clip-path=\"url(#p5f4c5ece80)\">\n     <use style=\"fill:#0000ff;stroke:#0000ff;\" x=\"370.53917\" xlink:href=\"#C0_0_2293063c7b\" y=\"318.534545\"/>\n    </g>\n    <g clip-path=\"url(#p5f4c5ece80)\">\n     <use style=\"fill:#0000ff;stroke:#0000ff;\" x=\"370.53917\" xlink:href=\"#C0_0_2293063c7b\" y=\"308.310094\"/>\n    </g>\n    <g clip-path=\"url(#p5f4c5ece80)\">\n     <use style=\"fill:#0000ff;stroke:#0000ff;\" x=\"370.53917\" xlink:href=\"#C0_0_2293063c7b\" y=\"298.085643\"/>\n    </g>\n    <g clip-path=\"url(#p5f4c5ece80)\">\n     <use style=\"fill:#0000ff;stroke:#0000ff;\" x=\"370.53917\" xlink:href=\"#C0_0_2293063c7b\" y=\"287.861191\"/>\n    </g>\n    <g clip-path=\"url(#p5f4c5ece80)\">\n     <use style=\"fill:#0000ff;stroke:#0000ff;\" x=\"370.53917\" xlink:href=\"#C0_0_2293063c7b\" y=\"277.63674\"/>\n    </g>\n    <g clip-path=\"url(#p5f4c5ece80)\">\n     <use style=\"fill:#0000ff;stroke:#0000ff;\" x=\"370.53917\" xlink:href=\"#C0_0_2293063c7b\" y=\"267.412288\"/>\n    </g>\n    <g clip-path=\"url(#p5f4c5ece80)\">\n     <use style=\"fill:#0000ff;stroke:#0000ff;\" x=\"370.53917\" xlink:href=\"#C0_0_2293063c7b\" y=\"257.187837\"/>\n    </g>\n    <g clip-path=\"url(#p5f4c5ece80)\">\n     <use style=\"fill:#0000ff;stroke:#0000ff;\" x=\"370.53917\" xlink:href=\"#C0_0_2293063c7b\" y=\"246.963386\"/>\n    </g>\n    <g clip-path=\"url(#p5f4c5ece80)\">\n     <use style=\"fill:#0000ff;stroke:#0000ff;\" x=\"370.53917\" xlink:href=\"#C0_0_2293063c7b\" y=\"236.738934\"/>\n    </g>\n    <g clip-path=\"url(#p5f4c5ece80)\">\n     <use style=\"fill:#0000ff;stroke:#0000ff;\" x=\"370.53917\" xlink:href=\"#C0_0_2293063c7b\" y=\"226.514483\"/>\n    </g>\n    <g clip-path=\"url(#p5f4c5ece80)\">\n     <use style=\"fill:#0000ff;stroke:#0000ff;\" x=\"370.53917\" xlink:href=\"#C0_0_2293063c7b\" y=\"216.290031\"/>\n    </g>\n    <g clip-path=\"url(#p5f4c5ece80)\">\n     <use style=\"fill:#0000ff;stroke:#0000ff;\" x=\"370.53917\" xlink:href=\"#C0_0_2293063c7b\" y=\"206.06558\"/>\n    </g>\n    <g clip-path=\"url(#p5f4c5ece80)\">\n     <use style=\"fill:#0000ff;stroke:#0000ff;\" x=\"370.53917\" xlink:href=\"#C0_0_2293063c7b\" y=\"195.841129\"/>\n    </g>\n    <g clip-path=\"url(#p5f4c5ece80)\">\n     <use style=\"fill:#0000ff;stroke:#0000ff;\" x=\"370.53917\" xlink:href=\"#C0_0_2293063c7b\" y=\"185.616677\"/>\n    </g>\n    <g clip-path=\"url(#p5f4c5ece80)\">\n     <use style=\"fill:#0000ff;stroke:#0000ff;\" x=\"370.53917\" xlink:href=\"#C0_0_2293063c7b\" y=\"175.392226\"/>\n    </g>\n    <g clip-path=\"url(#p5f4c5ece80)\">\n     <use style=\"fill:#ff0000;fill-opacity:0.929186;stroke:#ff0000;stroke-opacity:0.929186;\" x=\"370.53917\" xlink:href=\"#C0_0_2293063c7b\" y=\"165.167774\"/>\n    </g>\n    <g clip-path=\"url(#p5f4c5ece80)\">\n     <use style=\"fill:#ff0000;fill-opacity:1;stroke:#ff0000;stroke-opacity:1;\" x=\"370.53917\" xlink:href=\"#C0_0_2293063c7b\" y=\"154.943323\"/>\n    </g>\n    <g clip-path=\"url(#p5f4c5ece80)\">\n     <use style=\"fill:#ff0000;fill-opacity:1;stroke:#ff0000;stroke-opacity:1;\" x=\"370.53917\" xlink:href=\"#C0_0_2293063c7b\" y=\"144.718871\"/>\n    </g>\n    <g clip-path=\"url(#p5f4c5ece80)\">\n     <use style=\"fill:#ff0000;stroke:#ff0000;\" x=\"370.53917\" xlink:href=\"#C0_0_2293063c7b\" y=\"134.49442\"/>\n    </g>\n    <g clip-path=\"url(#p5f4c5ece80)\">\n     <use style=\"fill:#ff0000;stroke:#ff0000;\" x=\"370.53917\" xlink:href=\"#C0_0_2293063c7b\" y=\"124.269969\"/>\n    </g>\n    <g clip-path=\"url(#p5f4c5ece80)\">\n     <use style=\"fill:#ff0000;stroke:#ff0000;\" x=\"370.53917\" xlink:href=\"#C0_0_2293063c7b\" y=\"114.045517\"/>\n    </g>\n    <g clip-path=\"url(#p5f4c5ece80)\">\n     <use style=\"fill:#ff0000;stroke:#ff0000;\" x=\"370.53917\" xlink:href=\"#C0_0_2293063c7b\" y=\"103.821066\"/>\n    </g>\n    <g clip-path=\"url(#p5f4c5ece80)\">\n     <use style=\"fill:#ff0000;stroke:#ff0000;\" x=\"370.53917\" xlink:href=\"#C0_0_2293063c7b\" y=\"93.596614\"/>\n    </g>\n    <g clip-path=\"url(#p5f4c5ece80)\">\n     <use style=\"fill:#ff0000;stroke:#ff0000;\" x=\"370.53917\" xlink:href=\"#C0_0_2293063c7b\" y=\"83.372163\"/>\n    </g>\n    <g clip-path=\"url(#p5f4c5ece80)\">\n     <use style=\"fill:#ff0000;stroke:#ff0000;\" x=\"370.53917\" xlink:href=\"#C0_0_2293063c7b\" y=\"73.147712\"/>\n    </g>\n    <g clip-path=\"url(#p5f4c5ece80)\">\n     <use style=\"fill:#ff0000;stroke:#ff0000;\" x=\"370.53917\" xlink:href=\"#C0_0_2293063c7b\" y=\"62.92326\"/>\n    </g>\n    <g clip-path=\"url(#p5f4c5ece80)\">\n     <use style=\"fill:#ff0000;stroke:#ff0000;\" x=\"370.53917\" xlink:href=\"#C0_0_2293063c7b\" y=\"52.698809\"/>\n    </g>\n    <g clip-path=\"url(#p5f4c5ece80)\">\n     <use style=\"fill:#ff0000;stroke:#ff0000;\" x=\"370.53917\" xlink:href=\"#C0_0_2293063c7b\" y=\"42.474357\"/>\n    </g>\n    <g clip-path=\"url(#p5f4c5ece80)\">\n     <use style=\"fill:#ff0000;stroke:#ff0000;\" x=\"370.53917\" xlink:href=\"#C0_0_2293063c7b\" y=\"32.249906\"/>\n    </g>\n    <g clip-path=\"url(#p5f4c5ece80)\">\n     <use style=\"fill:#ff0000;stroke:#ff0000;\" x=\"370.53917\" xlink:href=\"#C0_0_2293063c7b\" y=\"22.025455\"/>\n    </g>\n    <g clip-path=\"url(#p5f4c5ece80)\">\n     <use style=\"fill:#0000ff;stroke:#0000ff;\" x=\"380.763622\" xlink:href=\"#C0_0_2293063c7b\" y=\"318.534545\"/>\n    </g>\n    <g clip-path=\"url(#p5f4c5ece80)\">\n     <use style=\"fill:#0000ff;stroke:#0000ff;\" x=\"380.763622\" xlink:href=\"#C0_0_2293063c7b\" y=\"308.310094\"/>\n    </g>\n    <g clip-path=\"url(#p5f4c5ece80)\">\n     <use style=\"fill:#0000ff;stroke:#0000ff;\" x=\"380.763622\" xlink:href=\"#C0_0_2293063c7b\" y=\"298.085643\"/>\n    </g>\n    <g clip-path=\"url(#p5f4c5ece80)\">\n     <use style=\"fill:#0000ff;stroke:#0000ff;\" x=\"380.763622\" xlink:href=\"#C0_0_2293063c7b\" y=\"287.861191\"/>\n    </g>\n    <g clip-path=\"url(#p5f4c5ece80)\">\n     <use style=\"fill:#0000ff;stroke:#0000ff;\" x=\"380.763622\" xlink:href=\"#C0_0_2293063c7b\" y=\"277.63674\"/>\n    </g>\n    <g clip-path=\"url(#p5f4c5ece80)\">\n     <use style=\"fill:#0000ff;stroke:#0000ff;\" x=\"380.763622\" xlink:href=\"#C0_0_2293063c7b\" y=\"267.412288\"/>\n    </g>\n    <g clip-path=\"url(#p5f4c5ece80)\">\n     <use style=\"fill:#0000ff;stroke:#0000ff;\" x=\"380.763622\" xlink:href=\"#C0_0_2293063c7b\" y=\"257.187837\"/>\n    </g>\n    <g clip-path=\"url(#p5f4c5ece80)\">\n     <use style=\"fill:#0000ff;stroke:#0000ff;\" x=\"380.763622\" xlink:href=\"#C0_0_2293063c7b\" y=\"246.963386\"/>\n    </g>\n    <g clip-path=\"url(#p5f4c5ece80)\">\n     <use style=\"fill:#0000ff;stroke:#0000ff;\" x=\"380.763622\" xlink:href=\"#C0_0_2293063c7b\" y=\"236.738934\"/>\n    </g>\n    <g clip-path=\"url(#p5f4c5ece80)\">\n     <use style=\"fill:#0000ff;stroke:#0000ff;\" x=\"380.763622\" xlink:href=\"#C0_0_2293063c7b\" y=\"226.514483\"/>\n    </g>\n    <g clip-path=\"url(#p5f4c5ece80)\">\n     <use style=\"fill:#0000ff;stroke:#0000ff;\" x=\"380.763622\" xlink:href=\"#C0_0_2293063c7b\" y=\"216.290031\"/>\n    </g>\n    <g clip-path=\"url(#p5f4c5ece80)\">\n     <use style=\"fill:#0000ff;stroke:#0000ff;\" x=\"380.763622\" xlink:href=\"#C0_0_2293063c7b\" y=\"206.06558\"/>\n    </g>\n    <g clip-path=\"url(#p5f4c5ece80)\">\n     <use style=\"fill:#0000ff;stroke:#0000ff;\" x=\"380.763622\" xlink:href=\"#C0_0_2293063c7b\" y=\"195.841129\"/>\n    </g>\n    <g clip-path=\"url(#p5f4c5ece80)\">\n     <use style=\"fill:#0000ff;stroke:#0000ff;\" x=\"380.763622\" xlink:href=\"#C0_0_2293063c7b\" y=\"185.616677\"/>\n    </g>\n    <g clip-path=\"url(#p5f4c5ece80)\">\n     <use style=\"fill:#0000ff;stroke:#0000ff;\" x=\"380.763622\" xlink:href=\"#C0_0_2293063c7b\" y=\"175.392226\"/>\n    </g>\n    <g clip-path=\"url(#p5f4c5ece80)\">\n     <use style=\"fill:#ff0000;fill-opacity:0.960349;stroke:#ff0000;stroke-opacity:0.960349;\" x=\"380.763622\" xlink:href=\"#C0_0_2293063c7b\" y=\"165.167774\"/>\n    </g>\n    <g clip-path=\"url(#p5f4c5ece80)\">\n     <use style=\"fill:#ff0000;fill-opacity:1;stroke:#ff0000;stroke-opacity:1;\" x=\"380.763622\" xlink:href=\"#C0_0_2293063c7b\" y=\"154.943323\"/>\n    </g>\n    <g clip-path=\"url(#p5f4c5ece80)\">\n     <use style=\"fill:#ff0000;fill-opacity:1;stroke:#ff0000;stroke-opacity:1;\" x=\"380.763622\" xlink:href=\"#C0_0_2293063c7b\" y=\"144.718871\"/>\n    </g>\n    <g clip-path=\"url(#p5f4c5ece80)\">\n     <use style=\"fill:#ff0000;stroke:#ff0000;\" x=\"380.763622\" xlink:href=\"#C0_0_2293063c7b\" y=\"134.49442\"/>\n    </g>\n    <g clip-path=\"url(#p5f4c5ece80)\">\n     <use style=\"fill:#ff0000;stroke:#ff0000;\" x=\"380.763622\" xlink:href=\"#C0_0_2293063c7b\" y=\"124.269969\"/>\n    </g>\n    <g clip-path=\"url(#p5f4c5ece80)\">\n     <use style=\"fill:#ff0000;stroke:#ff0000;\" x=\"380.763622\" xlink:href=\"#C0_0_2293063c7b\" y=\"114.045517\"/>\n    </g>\n    <g clip-path=\"url(#p5f4c5ece80)\">\n     <use style=\"fill:#ff0000;stroke:#ff0000;\" x=\"380.763622\" xlink:href=\"#C0_0_2293063c7b\" y=\"103.821066\"/>\n    </g>\n    <g clip-path=\"url(#p5f4c5ece80)\">\n     <use style=\"fill:#ff0000;stroke:#ff0000;\" x=\"380.763622\" xlink:href=\"#C0_0_2293063c7b\" y=\"93.596614\"/>\n    </g>\n    <g clip-path=\"url(#p5f4c5ece80)\">\n     <use style=\"fill:#ff0000;stroke:#ff0000;\" x=\"380.763622\" xlink:href=\"#C0_0_2293063c7b\" y=\"83.372163\"/>\n    </g>\n    <g clip-path=\"url(#p5f4c5ece80)\">\n     <use style=\"fill:#ff0000;stroke:#ff0000;\" x=\"380.763622\" xlink:href=\"#C0_0_2293063c7b\" y=\"73.147712\"/>\n    </g>\n    <g clip-path=\"url(#p5f4c5ece80)\">\n     <use style=\"fill:#ff0000;stroke:#ff0000;\" x=\"380.763622\" xlink:href=\"#C0_0_2293063c7b\" y=\"62.92326\"/>\n    </g>\n    <g clip-path=\"url(#p5f4c5ece80)\">\n     <use style=\"fill:#ff0000;stroke:#ff0000;\" x=\"380.763622\" xlink:href=\"#C0_0_2293063c7b\" y=\"52.698809\"/>\n    </g>\n    <g clip-path=\"url(#p5f4c5ece80)\">\n     <use style=\"fill:#ff0000;stroke:#ff0000;\" x=\"380.763622\" xlink:href=\"#C0_0_2293063c7b\" y=\"42.474357\"/>\n    </g>\n    <g clip-path=\"url(#p5f4c5ece80)\">\n     <use style=\"fill:#ff0000;stroke:#ff0000;\" x=\"380.763622\" xlink:href=\"#C0_0_2293063c7b\" y=\"32.249906\"/>\n    </g>\n    <g clip-path=\"url(#p5f4c5ece80)\">\n     <use style=\"fill:#ff0000;stroke:#ff0000;\" x=\"380.763622\" xlink:href=\"#C0_0_2293063c7b\" y=\"22.025455\"/>\n    </g>\n    <g clip-path=\"url(#p5f4c5ece80)\">\n     <use style=\"fill:#0000ff;stroke:#0000ff;\" x=\"390.988073\" xlink:href=\"#C0_0_2293063c7b\" y=\"318.534545\"/>\n    </g>\n    <g clip-path=\"url(#p5f4c5ece80)\">\n     <use style=\"fill:#0000ff;stroke:#0000ff;\" x=\"390.988073\" xlink:href=\"#C0_0_2293063c7b\" y=\"308.310094\"/>\n    </g>\n    <g clip-path=\"url(#p5f4c5ece80)\">\n     <use style=\"fill:#0000ff;stroke:#0000ff;\" x=\"390.988073\" xlink:href=\"#C0_0_2293063c7b\" y=\"298.085643\"/>\n    </g>\n    <g clip-path=\"url(#p5f4c5ece80)\">\n     <use style=\"fill:#0000ff;stroke:#0000ff;\" x=\"390.988073\" xlink:href=\"#C0_0_2293063c7b\" y=\"287.861191\"/>\n    </g>\n    <g clip-path=\"url(#p5f4c5ece80)\">\n     <use style=\"fill:#0000ff;stroke:#0000ff;\" x=\"390.988073\" xlink:href=\"#C0_0_2293063c7b\" y=\"277.63674\"/>\n    </g>\n    <g clip-path=\"url(#p5f4c5ece80)\">\n     <use style=\"fill:#0000ff;stroke:#0000ff;\" x=\"390.988073\" xlink:href=\"#C0_0_2293063c7b\" y=\"267.412288\"/>\n    </g>\n    <g clip-path=\"url(#p5f4c5ece80)\">\n     <use style=\"fill:#0000ff;stroke:#0000ff;\" x=\"390.988073\" xlink:href=\"#C0_0_2293063c7b\" y=\"257.187837\"/>\n    </g>\n    <g clip-path=\"url(#p5f4c5ece80)\">\n     <use style=\"fill:#0000ff;stroke:#0000ff;\" x=\"390.988073\" xlink:href=\"#C0_0_2293063c7b\" y=\"246.963386\"/>\n    </g>\n    <g clip-path=\"url(#p5f4c5ece80)\">\n     <use style=\"fill:#0000ff;stroke:#0000ff;\" x=\"390.988073\" xlink:href=\"#C0_0_2293063c7b\" y=\"236.738934\"/>\n    </g>\n    <g clip-path=\"url(#p5f4c5ece80)\">\n     <use style=\"fill:#0000ff;stroke:#0000ff;\" x=\"390.988073\" xlink:href=\"#C0_0_2293063c7b\" y=\"226.514483\"/>\n    </g>\n    <g clip-path=\"url(#p5f4c5ece80)\">\n     <use style=\"fill:#0000ff;stroke:#0000ff;\" x=\"390.988073\" xlink:href=\"#C0_0_2293063c7b\" y=\"216.290031\"/>\n    </g>\n    <g clip-path=\"url(#p5f4c5ece80)\">\n     <use style=\"fill:#0000ff;stroke:#0000ff;\" x=\"390.988073\" xlink:href=\"#C0_0_2293063c7b\" y=\"206.06558\"/>\n    </g>\n    <g clip-path=\"url(#p5f4c5ece80)\">\n     <use style=\"fill:#0000ff;stroke:#0000ff;\" x=\"390.988073\" xlink:href=\"#C0_0_2293063c7b\" y=\"195.841129\"/>\n    </g>\n    <g clip-path=\"url(#p5f4c5ece80)\">\n     <use style=\"fill:#0000ff;stroke:#0000ff;\" x=\"390.988073\" xlink:href=\"#C0_0_2293063c7b\" y=\"185.616677\"/>\n    </g>\n    <g clip-path=\"url(#p5f4c5ece80)\">\n     <use style=\"fill:#0000ff;stroke:#0000ff;\" x=\"390.988073\" xlink:href=\"#C0_0_2293063c7b\" y=\"175.392226\"/>\n    </g>\n    <g clip-path=\"url(#p5f4c5ece80)\">\n     <use style=\"fill:#ff0000;fill-opacity:0.978121;stroke:#ff0000;stroke-opacity:0.978121;\" x=\"390.988073\" xlink:href=\"#C0_0_2293063c7b\" y=\"165.167774\"/>\n    </g>\n    <g clip-path=\"url(#p5f4c5ece80)\">\n     <use style=\"fill:#ff0000;fill-opacity:1;stroke:#ff0000;stroke-opacity:1;\" x=\"390.988073\" xlink:href=\"#C0_0_2293063c7b\" y=\"154.943323\"/>\n    </g>\n    <g clip-path=\"url(#p5f4c5ece80)\">\n     <use style=\"fill:#ff0000;fill-opacity:1;stroke:#ff0000;stroke-opacity:1;\" x=\"390.988073\" xlink:href=\"#C0_0_2293063c7b\" y=\"144.718871\"/>\n    </g>\n    <g clip-path=\"url(#p5f4c5ece80)\">\n     <use style=\"fill:#ff0000;stroke:#ff0000;\" x=\"390.988073\" xlink:href=\"#C0_0_2293063c7b\" y=\"134.49442\"/>\n    </g>\n    <g clip-path=\"url(#p5f4c5ece80)\">\n     <use style=\"fill:#ff0000;stroke:#ff0000;\" x=\"390.988073\" xlink:href=\"#C0_0_2293063c7b\" y=\"124.269969\"/>\n    </g>\n    <g clip-path=\"url(#p5f4c5ece80)\">\n     <use style=\"fill:#ff0000;stroke:#ff0000;\" x=\"390.988073\" xlink:href=\"#C0_0_2293063c7b\" y=\"114.045517\"/>\n    </g>\n    <g clip-path=\"url(#p5f4c5ece80)\">\n     <use style=\"fill:#ff0000;stroke:#ff0000;\" x=\"390.988073\" xlink:href=\"#C0_0_2293063c7b\" y=\"103.821066\"/>\n    </g>\n    <g clip-path=\"url(#p5f4c5ece80)\">\n     <use style=\"fill:#ff0000;stroke:#ff0000;\" x=\"390.988073\" xlink:href=\"#C0_0_2293063c7b\" y=\"93.596614\"/>\n    </g>\n    <g clip-path=\"url(#p5f4c5ece80)\">\n     <use style=\"fill:#ff0000;stroke:#ff0000;\" x=\"390.988073\" xlink:href=\"#C0_0_2293063c7b\" y=\"83.372163\"/>\n    </g>\n    <g clip-path=\"url(#p5f4c5ece80)\">\n     <use style=\"fill:#ff0000;stroke:#ff0000;\" x=\"390.988073\" xlink:href=\"#C0_0_2293063c7b\" y=\"73.147712\"/>\n    </g>\n    <g clip-path=\"url(#p5f4c5ece80)\">\n     <use style=\"fill:#ff0000;stroke:#ff0000;\" x=\"390.988073\" xlink:href=\"#C0_0_2293063c7b\" y=\"62.92326\"/>\n    </g>\n    <g clip-path=\"url(#p5f4c5ece80)\">\n     <use style=\"fill:#ff0000;stroke:#ff0000;\" x=\"390.988073\" xlink:href=\"#C0_0_2293063c7b\" y=\"52.698809\"/>\n    </g>\n    <g clip-path=\"url(#p5f4c5ece80)\">\n     <use style=\"fill:#ff0000;stroke:#ff0000;\" x=\"390.988073\" xlink:href=\"#C0_0_2293063c7b\" y=\"42.474357\"/>\n    </g>\n    <g clip-path=\"url(#p5f4c5ece80)\">\n     <use style=\"fill:#ff0000;stroke:#ff0000;\" x=\"390.988073\" xlink:href=\"#C0_0_2293063c7b\" y=\"32.249906\"/>\n    </g>\n    <g clip-path=\"url(#p5f4c5ece80)\">\n     <use style=\"fill:#ff0000;stroke:#ff0000;\" x=\"390.988073\" xlink:href=\"#C0_0_2293063c7b\" y=\"22.025455\"/>\n    </g>\n    <g clip-path=\"url(#p5f4c5ece80)\">\n     <use style=\"fill:#0000ff;stroke:#0000ff;\" x=\"401.212524\" xlink:href=\"#C0_0_2293063c7b\" y=\"318.534545\"/>\n    </g>\n    <g clip-path=\"url(#p5f4c5ece80)\">\n     <use style=\"fill:#0000ff;stroke:#0000ff;\" x=\"401.212524\" xlink:href=\"#C0_0_2293063c7b\" y=\"308.310094\"/>\n    </g>\n    <g clip-path=\"url(#p5f4c5ece80)\">\n     <use style=\"fill:#0000ff;stroke:#0000ff;\" x=\"401.212524\" xlink:href=\"#C0_0_2293063c7b\" y=\"298.085643\"/>\n    </g>\n    <g clip-path=\"url(#p5f4c5ece80)\">\n     <use style=\"fill:#0000ff;stroke:#0000ff;\" x=\"401.212524\" xlink:href=\"#C0_0_2293063c7b\" y=\"287.861191\"/>\n    </g>\n    <g clip-path=\"url(#p5f4c5ece80)\">\n     <use style=\"fill:#0000ff;stroke:#0000ff;\" x=\"401.212524\" xlink:href=\"#C0_0_2293063c7b\" y=\"277.63674\"/>\n    </g>\n    <g clip-path=\"url(#p5f4c5ece80)\">\n     <use style=\"fill:#0000ff;stroke:#0000ff;\" x=\"401.212524\" xlink:href=\"#C0_0_2293063c7b\" y=\"267.412288\"/>\n    </g>\n    <g clip-path=\"url(#p5f4c5ece80)\">\n     <use style=\"fill:#0000ff;stroke:#0000ff;\" x=\"401.212524\" xlink:href=\"#C0_0_2293063c7b\" y=\"257.187837\"/>\n    </g>\n    <g clip-path=\"url(#p5f4c5ece80)\">\n     <use style=\"fill:#0000ff;stroke:#0000ff;\" x=\"401.212524\" xlink:href=\"#C0_0_2293063c7b\" y=\"246.963386\"/>\n    </g>\n    <g clip-path=\"url(#p5f4c5ece80)\">\n     <use style=\"fill:#0000ff;stroke:#0000ff;\" x=\"401.212524\" xlink:href=\"#C0_0_2293063c7b\" y=\"236.738934\"/>\n    </g>\n    <g clip-path=\"url(#p5f4c5ece80)\">\n     <use style=\"fill:#0000ff;stroke:#0000ff;\" x=\"401.212524\" xlink:href=\"#C0_0_2293063c7b\" y=\"226.514483\"/>\n    </g>\n    <g clip-path=\"url(#p5f4c5ece80)\">\n     <use style=\"fill:#0000ff;stroke:#0000ff;\" x=\"401.212524\" xlink:href=\"#C0_0_2293063c7b\" y=\"216.290031\"/>\n    </g>\n    <g clip-path=\"url(#p5f4c5ece80)\">\n     <use style=\"fill:#0000ff;stroke:#0000ff;\" x=\"401.212524\" xlink:href=\"#C0_0_2293063c7b\" y=\"206.06558\"/>\n    </g>\n    <g clip-path=\"url(#p5f4c5ece80)\">\n     <use style=\"fill:#0000ff;stroke:#0000ff;\" x=\"401.212524\" xlink:href=\"#C0_0_2293063c7b\" y=\"195.841129\"/>\n    </g>\n    <g clip-path=\"url(#p5f4c5ece80)\">\n     <use style=\"fill:#0000ff;stroke:#0000ff;\" x=\"401.212524\" xlink:href=\"#C0_0_2293063c7b\" y=\"185.616677\"/>\n    </g>\n    <g clip-path=\"url(#p5f4c5ece80)\">\n     <use style=\"fill:#0000ff;stroke:#0000ff;\" x=\"401.212524\" xlink:href=\"#C0_0_2293063c7b\" y=\"175.392226\"/>\n    </g>\n    <g clip-path=\"url(#p5f4c5ece80)\">\n     <use style=\"fill:#ff0000;fill-opacity:0.948253;stroke:#ff0000;stroke-opacity:0.948253;\" x=\"401.212524\" xlink:href=\"#C0_0_2293063c7b\" y=\"165.167774\"/>\n    </g>\n    <g clip-path=\"url(#p5f4c5ece80)\">\n     <use style=\"fill:#ff0000;fill-opacity:1;stroke:#ff0000;stroke-opacity:1;\" x=\"401.212524\" xlink:href=\"#C0_0_2293063c7b\" y=\"154.943323\"/>\n    </g>\n    <g clip-path=\"url(#p5f4c5ece80)\">\n     <use style=\"fill:#ff0000;fill-opacity:1;stroke:#ff0000;stroke-opacity:1;\" x=\"401.212524\" xlink:href=\"#C0_0_2293063c7b\" y=\"144.718871\"/>\n    </g>\n    <g clip-path=\"url(#p5f4c5ece80)\">\n     <use style=\"fill:#ff0000;stroke:#ff0000;\" x=\"401.212524\" xlink:href=\"#C0_0_2293063c7b\" y=\"134.49442\"/>\n    </g>\n    <g clip-path=\"url(#p5f4c5ece80)\">\n     <use style=\"fill:#ff0000;stroke:#ff0000;\" x=\"401.212524\" xlink:href=\"#C0_0_2293063c7b\" y=\"124.269969\"/>\n    </g>\n    <g clip-path=\"url(#p5f4c5ece80)\">\n     <use style=\"fill:#ff0000;stroke:#ff0000;\" x=\"401.212524\" xlink:href=\"#C0_0_2293063c7b\" y=\"114.045517\"/>\n    </g>\n    <g clip-path=\"url(#p5f4c5ece80)\">\n     <use style=\"fill:#ff0000;stroke:#ff0000;\" x=\"401.212524\" xlink:href=\"#C0_0_2293063c7b\" y=\"103.821066\"/>\n    </g>\n    <g clip-path=\"url(#p5f4c5ece80)\">\n     <use style=\"fill:#ff0000;stroke:#ff0000;\" x=\"401.212524\" xlink:href=\"#C0_0_2293063c7b\" y=\"93.596614\"/>\n    </g>\n    <g clip-path=\"url(#p5f4c5ece80)\">\n     <use style=\"fill:#ff0000;stroke:#ff0000;\" x=\"401.212524\" xlink:href=\"#C0_0_2293063c7b\" y=\"83.372163\"/>\n    </g>\n    <g clip-path=\"url(#p5f4c5ece80)\">\n     <use style=\"fill:#ff0000;stroke:#ff0000;\" x=\"401.212524\" xlink:href=\"#C0_0_2293063c7b\" y=\"73.147712\"/>\n    </g>\n    <g clip-path=\"url(#p5f4c5ece80)\">\n     <use style=\"fill:#ff0000;stroke:#ff0000;\" x=\"401.212524\" xlink:href=\"#C0_0_2293063c7b\" y=\"62.92326\"/>\n    </g>\n    <g clip-path=\"url(#p5f4c5ece80)\">\n     <use style=\"fill:#ff0000;stroke:#ff0000;\" x=\"401.212524\" xlink:href=\"#C0_0_2293063c7b\" y=\"52.698809\"/>\n    </g>\n    <g clip-path=\"url(#p5f4c5ece80)\">\n     <use style=\"fill:#ff0000;stroke:#ff0000;\" x=\"401.212524\" xlink:href=\"#C0_0_2293063c7b\" y=\"42.474357\"/>\n    </g>\n    <g clip-path=\"url(#p5f4c5ece80)\">\n     <use style=\"fill:#ff0000;stroke:#ff0000;\" x=\"401.212524\" xlink:href=\"#C0_0_2293063c7b\" y=\"32.249906\"/>\n    </g>\n    <g clip-path=\"url(#p5f4c5ece80)\">\n     <use style=\"fill:#ff0000;stroke:#ff0000;\" x=\"401.212524\" xlink:href=\"#C0_0_2293063c7b\" y=\"22.025455\"/>\n    </g>\n    <g clip-path=\"url(#p5f4c5ece80)\">\n     <use style=\"fill:#0000ff;stroke:#0000ff;\" x=\"411.436976\" xlink:href=\"#C0_0_2293063c7b\" y=\"318.534545\"/>\n    </g>\n    <g clip-path=\"url(#p5f4c5ece80)\">\n     <use style=\"fill:#0000ff;stroke:#0000ff;\" x=\"411.436976\" xlink:href=\"#C0_0_2293063c7b\" y=\"308.310094\"/>\n    </g>\n    <g clip-path=\"url(#p5f4c5ece80)\">\n     <use style=\"fill:#0000ff;stroke:#0000ff;\" x=\"411.436976\" xlink:href=\"#C0_0_2293063c7b\" y=\"298.085643\"/>\n    </g>\n    <g clip-path=\"url(#p5f4c5ece80)\">\n     <use style=\"fill:#0000ff;stroke:#0000ff;\" x=\"411.436976\" xlink:href=\"#C0_0_2293063c7b\" y=\"287.861191\"/>\n    </g>\n    <g clip-path=\"url(#p5f4c5ece80)\">\n     <use style=\"fill:#0000ff;stroke:#0000ff;\" x=\"411.436976\" xlink:href=\"#C0_0_2293063c7b\" y=\"277.63674\"/>\n    </g>\n    <g clip-path=\"url(#p5f4c5ece80)\">\n     <use style=\"fill:#0000ff;stroke:#0000ff;\" x=\"411.436976\" xlink:href=\"#C0_0_2293063c7b\" y=\"267.412288\"/>\n    </g>\n    <g clip-path=\"url(#p5f4c5ece80)\">\n     <use style=\"fill:#0000ff;stroke:#0000ff;\" x=\"411.436976\" xlink:href=\"#C0_0_2293063c7b\" y=\"257.187837\"/>\n    </g>\n    <g clip-path=\"url(#p5f4c5ece80)\">\n     <use style=\"fill:#0000ff;stroke:#0000ff;\" x=\"411.436976\" xlink:href=\"#C0_0_2293063c7b\" y=\"246.963386\"/>\n    </g>\n    <g clip-path=\"url(#p5f4c5ece80)\">\n     <use style=\"fill:#0000ff;stroke:#0000ff;\" x=\"411.436976\" xlink:href=\"#C0_0_2293063c7b\" y=\"236.738934\"/>\n    </g>\n    <g clip-path=\"url(#p5f4c5ece80)\">\n     <use style=\"fill:#0000ff;stroke:#0000ff;\" x=\"411.436976\" xlink:href=\"#C0_0_2293063c7b\" y=\"226.514483\"/>\n    </g>\n    <g clip-path=\"url(#p5f4c5ece80)\">\n     <use style=\"fill:#0000ff;stroke:#0000ff;\" x=\"411.436976\" xlink:href=\"#C0_0_2293063c7b\" y=\"216.290031\"/>\n    </g>\n    <g clip-path=\"url(#p5f4c5ece80)\">\n     <use style=\"fill:#0000ff;stroke:#0000ff;\" x=\"411.436976\" xlink:href=\"#C0_0_2293063c7b\" y=\"206.06558\"/>\n    </g>\n    <g clip-path=\"url(#p5f4c5ece80)\">\n     <use style=\"fill:#0000ff;stroke:#0000ff;\" x=\"411.436976\" xlink:href=\"#C0_0_2293063c7b\" y=\"195.841129\"/>\n    </g>\n    <g clip-path=\"url(#p5f4c5ece80)\">\n     <use style=\"fill:#0000ff;stroke:#0000ff;\" x=\"411.436976\" xlink:href=\"#C0_0_2293063c7b\" y=\"185.616677\"/>\n    </g>\n    <g clip-path=\"url(#p5f4c5ece80)\">\n     <use style=\"fill:#0000ff;stroke:#0000ff;\" x=\"411.436976\" xlink:href=\"#C0_0_2293063c7b\" y=\"175.392226\"/>\n    </g>\n    <g clip-path=\"url(#p5f4c5ece80)\">\n     <use style=\"fill:#ff0000;fill-opacity:0.810255;stroke:#ff0000;stroke-opacity:0.810255;\" x=\"411.436976\" xlink:href=\"#C0_0_2293063c7b\" y=\"165.167774\"/>\n    </g>\n    <g clip-path=\"url(#p5f4c5ece80)\">\n     <use style=\"fill:#ff0000;fill-opacity:1;stroke:#ff0000;stroke-opacity:1;\" x=\"411.436976\" xlink:href=\"#C0_0_2293063c7b\" y=\"154.943323\"/>\n    </g>\n    <g clip-path=\"url(#p5f4c5ece80)\">\n     <use style=\"fill:#ff0000;fill-opacity:1;stroke:#ff0000;stroke-opacity:1;\" x=\"411.436976\" xlink:href=\"#C0_0_2293063c7b\" y=\"144.718871\"/>\n    </g>\n    <g clip-path=\"url(#p5f4c5ece80)\">\n     <use style=\"fill:#ff0000;stroke:#ff0000;\" x=\"411.436976\" xlink:href=\"#C0_0_2293063c7b\" y=\"134.49442\"/>\n    </g>\n    <g clip-path=\"url(#p5f4c5ece80)\">\n     <use style=\"fill:#ff0000;stroke:#ff0000;\" x=\"411.436976\" xlink:href=\"#C0_0_2293063c7b\" y=\"124.269969\"/>\n    </g>\n    <g clip-path=\"url(#p5f4c5ece80)\">\n     <use style=\"fill:#ff0000;stroke:#ff0000;\" x=\"411.436976\" xlink:href=\"#C0_0_2293063c7b\" y=\"114.045517\"/>\n    </g>\n    <g clip-path=\"url(#p5f4c5ece80)\">\n     <use style=\"fill:#ff0000;stroke:#ff0000;\" x=\"411.436976\" xlink:href=\"#C0_0_2293063c7b\" y=\"103.821066\"/>\n    </g>\n    <g clip-path=\"url(#p5f4c5ece80)\">\n     <use style=\"fill:#ff0000;stroke:#ff0000;\" x=\"411.436976\" xlink:href=\"#C0_0_2293063c7b\" y=\"93.596614\"/>\n    </g>\n    <g clip-path=\"url(#p5f4c5ece80)\">\n     <use style=\"fill:#ff0000;stroke:#ff0000;\" x=\"411.436976\" xlink:href=\"#C0_0_2293063c7b\" y=\"83.372163\"/>\n    </g>\n    <g clip-path=\"url(#p5f4c5ece80)\">\n     <use style=\"fill:#ff0000;stroke:#ff0000;\" x=\"411.436976\" xlink:href=\"#C0_0_2293063c7b\" y=\"73.147712\"/>\n    </g>\n    <g clip-path=\"url(#p5f4c5ece80)\">\n     <use style=\"fill:#ff0000;stroke:#ff0000;\" x=\"411.436976\" xlink:href=\"#C0_0_2293063c7b\" y=\"62.92326\"/>\n    </g>\n    <g clip-path=\"url(#p5f4c5ece80)\">\n     <use style=\"fill:#ff0000;stroke:#ff0000;\" x=\"411.436976\" xlink:href=\"#C0_0_2293063c7b\" y=\"52.698809\"/>\n    </g>\n    <g clip-path=\"url(#p5f4c5ece80)\">\n     <use style=\"fill:#ff0000;stroke:#ff0000;\" x=\"411.436976\" xlink:href=\"#C0_0_2293063c7b\" y=\"42.474357\"/>\n    </g>\n    <g clip-path=\"url(#p5f4c5ece80)\">\n     <use style=\"fill:#ff0000;stroke:#ff0000;\" x=\"411.436976\" xlink:href=\"#C0_0_2293063c7b\" y=\"32.249906\"/>\n    </g>\n    <g clip-path=\"url(#p5f4c5ece80)\">\n     <use style=\"fill:#ff0000;stroke:#ff0000;\" x=\"411.436976\" xlink:href=\"#C0_0_2293063c7b\" y=\"22.025455\"/>\n    </g>\n    <g clip-path=\"url(#p5f4c5ece80)\">\n     <use style=\"fill:#0000ff;stroke:#0000ff;\" x=\"421.661427\" xlink:href=\"#C0_0_2293063c7b\" y=\"318.534545\"/>\n    </g>\n    <g clip-path=\"url(#p5f4c5ece80)\">\n     <use style=\"fill:#0000ff;stroke:#0000ff;\" x=\"421.661427\" xlink:href=\"#C0_0_2293063c7b\" y=\"308.310094\"/>\n    </g>\n    <g clip-path=\"url(#p5f4c5ece80)\">\n     <use style=\"fill:#0000ff;stroke:#0000ff;\" x=\"421.661427\" xlink:href=\"#C0_0_2293063c7b\" y=\"298.085643\"/>\n    </g>\n    <g clip-path=\"url(#p5f4c5ece80)\">\n     <use style=\"fill:#0000ff;stroke:#0000ff;\" x=\"421.661427\" xlink:href=\"#C0_0_2293063c7b\" y=\"287.861191\"/>\n    </g>\n    <g clip-path=\"url(#p5f4c5ece80)\">\n     <use style=\"fill:#0000ff;stroke:#0000ff;\" x=\"421.661427\" xlink:href=\"#C0_0_2293063c7b\" y=\"277.63674\"/>\n    </g>\n    <g clip-path=\"url(#p5f4c5ece80)\">\n     <use style=\"fill:#0000ff;stroke:#0000ff;\" x=\"421.661427\" xlink:href=\"#C0_0_2293063c7b\" y=\"267.412288\"/>\n    </g>\n    <g clip-path=\"url(#p5f4c5ece80)\">\n     <use style=\"fill:#0000ff;stroke:#0000ff;\" x=\"421.661427\" xlink:href=\"#C0_0_2293063c7b\" y=\"257.187837\"/>\n    </g>\n    <g clip-path=\"url(#p5f4c5ece80)\">\n     <use style=\"fill:#0000ff;stroke:#0000ff;\" x=\"421.661427\" xlink:href=\"#C0_0_2293063c7b\" y=\"246.963386\"/>\n    </g>\n    <g clip-path=\"url(#p5f4c5ece80)\">\n     <use style=\"fill:#0000ff;stroke:#0000ff;\" x=\"421.661427\" xlink:href=\"#C0_0_2293063c7b\" y=\"236.738934\"/>\n    </g>\n    <g clip-path=\"url(#p5f4c5ece80)\">\n     <use style=\"fill:#0000ff;stroke:#0000ff;\" x=\"421.661427\" xlink:href=\"#C0_0_2293063c7b\" y=\"226.514483\"/>\n    </g>\n    <g clip-path=\"url(#p5f4c5ece80)\">\n     <use style=\"fill:#0000ff;stroke:#0000ff;\" x=\"421.661427\" xlink:href=\"#C0_0_2293063c7b\" y=\"216.290031\"/>\n    </g>\n    <g clip-path=\"url(#p5f4c5ece80)\">\n     <use style=\"fill:#0000ff;stroke:#0000ff;\" x=\"421.661427\" xlink:href=\"#C0_0_2293063c7b\" y=\"206.06558\"/>\n    </g>\n    <g clip-path=\"url(#p5f4c5ece80)\">\n     <use style=\"fill:#0000ff;stroke:#0000ff;\" x=\"421.661427\" xlink:href=\"#C0_0_2293063c7b\" y=\"195.841129\"/>\n    </g>\n    <g clip-path=\"url(#p5f4c5ece80)\">\n     <use style=\"fill:#0000ff;stroke:#0000ff;\" x=\"421.661427\" xlink:href=\"#C0_0_2293063c7b\" y=\"185.616677\"/>\n    </g>\n    <g clip-path=\"url(#p5f4c5ece80)\">\n     <use style=\"fill:#0000ff;stroke:#0000ff;\" x=\"421.661427\" xlink:href=\"#C0_0_2293063c7b\" y=\"175.392226\"/>\n    </g>\n    <g clip-path=\"url(#p5f4c5ece80)\">\n     <use style=\"fill:#0000ff;fill-opacity:0.501228;stroke:#0000ff;stroke-opacity:0.501228;\" x=\"421.661427\" xlink:href=\"#C0_0_2293063c7b\" y=\"165.167774\"/>\n    </g>\n    <g clip-path=\"url(#p5f4c5ece80)\">\n     <use style=\"fill:#ff0000;fill-opacity:1;stroke:#ff0000;stroke-opacity:1;\" x=\"421.661427\" xlink:href=\"#C0_0_2293063c7b\" y=\"154.943323\"/>\n    </g>\n    <g clip-path=\"url(#p5f4c5ece80)\">\n     <use style=\"fill:#ff0000;fill-opacity:1;stroke:#ff0000;stroke-opacity:1;\" x=\"421.661427\" xlink:href=\"#C0_0_2293063c7b\" y=\"144.718871\"/>\n    </g>\n    <g clip-path=\"url(#p5f4c5ece80)\">\n     <use style=\"fill:#ff0000;stroke:#ff0000;\" x=\"421.661427\" xlink:href=\"#C0_0_2293063c7b\" y=\"134.49442\"/>\n    </g>\n    <g clip-path=\"url(#p5f4c5ece80)\">\n     <use style=\"fill:#ff0000;stroke:#ff0000;\" x=\"421.661427\" xlink:href=\"#C0_0_2293063c7b\" y=\"124.269969\"/>\n    </g>\n    <g clip-path=\"url(#p5f4c5ece80)\">\n     <use style=\"fill:#ff0000;stroke:#ff0000;\" x=\"421.661427\" xlink:href=\"#C0_0_2293063c7b\" y=\"114.045517\"/>\n    </g>\n    <g clip-path=\"url(#p5f4c5ece80)\">\n     <use style=\"fill:#ff0000;stroke:#ff0000;\" x=\"421.661427\" xlink:href=\"#C0_0_2293063c7b\" y=\"103.821066\"/>\n    </g>\n    <g clip-path=\"url(#p5f4c5ece80)\">\n     <use style=\"fill:#ff0000;stroke:#ff0000;\" x=\"421.661427\" xlink:href=\"#C0_0_2293063c7b\" y=\"93.596614\"/>\n    </g>\n    <g clip-path=\"url(#p5f4c5ece80)\">\n     <use style=\"fill:#ff0000;stroke:#ff0000;\" x=\"421.661427\" xlink:href=\"#C0_0_2293063c7b\" y=\"83.372163\"/>\n    </g>\n    <g clip-path=\"url(#p5f4c5ece80)\">\n     <use style=\"fill:#ff0000;stroke:#ff0000;\" x=\"421.661427\" xlink:href=\"#C0_0_2293063c7b\" y=\"73.147712\"/>\n    </g>\n    <g clip-path=\"url(#p5f4c5ece80)\">\n     <use style=\"fill:#ff0000;stroke:#ff0000;\" x=\"421.661427\" xlink:href=\"#C0_0_2293063c7b\" y=\"62.92326\"/>\n    </g>\n    <g clip-path=\"url(#p5f4c5ece80)\">\n     <use style=\"fill:#ff0000;stroke:#ff0000;\" x=\"421.661427\" xlink:href=\"#C0_0_2293063c7b\" y=\"52.698809\"/>\n    </g>\n    <g clip-path=\"url(#p5f4c5ece80)\">\n     <use style=\"fill:#ff0000;stroke:#ff0000;\" x=\"421.661427\" xlink:href=\"#C0_0_2293063c7b\" y=\"42.474357\"/>\n    </g>\n    <g clip-path=\"url(#p5f4c5ece80)\">\n     <use style=\"fill:#ff0000;stroke:#ff0000;\" x=\"421.661427\" xlink:href=\"#C0_0_2293063c7b\" y=\"32.249906\"/>\n    </g>\n    <g clip-path=\"url(#p5f4c5ece80)\">\n     <use style=\"fill:#ff0000;stroke:#ff0000;\" x=\"421.661427\" xlink:href=\"#C0_0_2293063c7b\" y=\"22.025455\"/>\n    </g>\n    <g clip-path=\"url(#p5f4c5ece80)\">\n     <use style=\"fill:#0000ff;stroke:#0000ff;\" x=\"431.885879\" xlink:href=\"#C0_0_2293063c7b\" y=\"318.534545\"/>\n    </g>\n    <g clip-path=\"url(#p5f4c5ece80)\">\n     <use style=\"fill:#0000ff;stroke:#0000ff;\" x=\"431.885879\" xlink:href=\"#C0_0_2293063c7b\" y=\"308.310094\"/>\n    </g>\n    <g clip-path=\"url(#p5f4c5ece80)\">\n     <use style=\"fill:#0000ff;stroke:#0000ff;\" x=\"431.885879\" xlink:href=\"#C0_0_2293063c7b\" y=\"298.085643\"/>\n    </g>\n    <g clip-path=\"url(#p5f4c5ece80)\">\n     <use style=\"fill:#0000ff;stroke:#0000ff;\" x=\"431.885879\" xlink:href=\"#C0_0_2293063c7b\" y=\"287.861191\"/>\n    </g>\n    <g clip-path=\"url(#p5f4c5ece80)\">\n     <use style=\"fill:#0000ff;stroke:#0000ff;\" x=\"431.885879\" xlink:href=\"#C0_0_2293063c7b\" y=\"277.63674\"/>\n    </g>\n    <g clip-path=\"url(#p5f4c5ece80)\">\n     <use style=\"fill:#0000ff;stroke:#0000ff;\" x=\"431.885879\" xlink:href=\"#C0_0_2293063c7b\" y=\"267.412288\"/>\n    </g>\n    <g clip-path=\"url(#p5f4c5ece80)\">\n     <use style=\"fill:#0000ff;stroke:#0000ff;\" x=\"431.885879\" xlink:href=\"#C0_0_2293063c7b\" y=\"257.187837\"/>\n    </g>\n    <g clip-path=\"url(#p5f4c5ece80)\">\n     <use style=\"fill:#0000ff;stroke:#0000ff;\" x=\"431.885879\" xlink:href=\"#C0_0_2293063c7b\" y=\"246.963386\"/>\n    </g>\n    <g clip-path=\"url(#p5f4c5ece80)\">\n     <use style=\"fill:#0000ff;stroke:#0000ff;\" x=\"431.885879\" xlink:href=\"#C0_0_2293063c7b\" y=\"236.738934\"/>\n    </g>\n    <g clip-path=\"url(#p5f4c5ece80)\">\n     <use style=\"fill:#0000ff;stroke:#0000ff;\" x=\"431.885879\" xlink:href=\"#C0_0_2293063c7b\" y=\"226.514483\"/>\n    </g>\n    <g clip-path=\"url(#p5f4c5ece80)\">\n     <use style=\"fill:#0000ff;stroke:#0000ff;\" x=\"431.885879\" xlink:href=\"#C0_0_2293063c7b\" y=\"216.290031\"/>\n    </g>\n    <g clip-path=\"url(#p5f4c5ece80)\">\n     <use style=\"fill:#0000ff;stroke:#0000ff;\" x=\"431.885879\" xlink:href=\"#C0_0_2293063c7b\" y=\"206.06558\"/>\n    </g>\n    <g clip-path=\"url(#p5f4c5ece80)\">\n     <use style=\"fill:#0000ff;stroke:#0000ff;\" x=\"431.885879\" xlink:href=\"#C0_0_2293063c7b\" y=\"195.841129\"/>\n    </g>\n    <g clip-path=\"url(#p5f4c5ece80)\">\n     <use style=\"fill:#0000ff;stroke:#0000ff;\" x=\"431.885879\" xlink:href=\"#C0_0_2293063c7b\" y=\"185.616677\"/>\n    </g>\n    <g clip-path=\"url(#p5f4c5ece80)\">\n     <use style=\"fill:#0000ff;stroke:#0000ff;\" x=\"431.885879\" xlink:href=\"#C0_0_2293063c7b\" y=\"175.392226\"/>\n    </g>\n    <g clip-path=\"url(#p5f4c5ece80)\">\n     <use style=\"fill:#0000ff;fill-opacity:0.811761;stroke:#0000ff;stroke-opacity:0.811761;\" x=\"431.885879\" xlink:href=\"#C0_0_2293063c7b\" y=\"165.167774\"/>\n    </g>\n    <g clip-path=\"url(#p5f4c5ece80)\">\n     <use style=\"fill:#ff0000;fill-opacity:1;stroke:#ff0000;stroke-opacity:1;\" x=\"431.885879\" xlink:href=\"#C0_0_2293063c7b\" y=\"154.943323\"/>\n    </g>\n    <g clip-path=\"url(#p5f4c5ece80)\">\n     <use style=\"fill:#ff0000;fill-opacity:1;stroke:#ff0000;stroke-opacity:1;\" x=\"431.885879\" xlink:href=\"#C0_0_2293063c7b\" y=\"144.718871\"/>\n    </g>\n    <g clip-path=\"url(#p5f4c5ece80)\">\n     <use style=\"fill:#ff0000;stroke:#ff0000;\" x=\"431.885879\" xlink:href=\"#C0_0_2293063c7b\" y=\"134.49442\"/>\n    </g>\n    <g clip-path=\"url(#p5f4c5ece80)\">\n     <use style=\"fill:#ff0000;stroke:#ff0000;\" x=\"431.885879\" xlink:href=\"#C0_0_2293063c7b\" y=\"124.269969\"/>\n    </g>\n    <g clip-path=\"url(#p5f4c5ece80)\">\n     <use style=\"fill:#ff0000;stroke:#ff0000;\" x=\"431.885879\" xlink:href=\"#C0_0_2293063c7b\" y=\"114.045517\"/>\n    </g>\n    <g clip-path=\"url(#p5f4c5ece80)\">\n     <use style=\"fill:#ff0000;stroke:#ff0000;\" x=\"431.885879\" xlink:href=\"#C0_0_2293063c7b\" y=\"103.821066\"/>\n    </g>\n    <g clip-path=\"url(#p5f4c5ece80)\">\n     <use style=\"fill:#ff0000;stroke:#ff0000;\" x=\"431.885879\" xlink:href=\"#C0_0_2293063c7b\" y=\"93.596614\"/>\n    </g>\n    <g clip-path=\"url(#p5f4c5ece80)\">\n     <use style=\"fill:#ff0000;stroke:#ff0000;\" x=\"431.885879\" xlink:href=\"#C0_0_2293063c7b\" y=\"83.372163\"/>\n    </g>\n    <g clip-path=\"url(#p5f4c5ece80)\">\n     <use style=\"fill:#ff0000;stroke:#ff0000;\" x=\"431.885879\" xlink:href=\"#C0_0_2293063c7b\" y=\"73.147712\"/>\n    </g>\n    <g clip-path=\"url(#p5f4c5ece80)\">\n     <use style=\"fill:#ff0000;stroke:#ff0000;\" x=\"431.885879\" xlink:href=\"#C0_0_2293063c7b\" y=\"62.92326\"/>\n    </g>\n    <g clip-path=\"url(#p5f4c5ece80)\">\n     <use style=\"fill:#ff0000;stroke:#ff0000;\" x=\"431.885879\" xlink:href=\"#C0_0_2293063c7b\" y=\"52.698809\"/>\n    </g>\n    <g clip-path=\"url(#p5f4c5ece80)\">\n     <use style=\"fill:#ff0000;stroke:#ff0000;\" x=\"431.885879\" xlink:href=\"#C0_0_2293063c7b\" y=\"42.474357\"/>\n    </g>\n    <g clip-path=\"url(#p5f4c5ece80)\">\n     <use style=\"fill:#ff0000;stroke:#ff0000;\" x=\"431.885879\" xlink:href=\"#C0_0_2293063c7b\" y=\"32.249906\"/>\n    </g>\n    <g clip-path=\"url(#p5f4c5ece80)\">\n     <use style=\"fill:#ff0000;stroke:#ff0000;\" x=\"431.885879\" xlink:href=\"#C0_0_2293063c7b\" y=\"22.025455\"/>\n    </g>\n    <g clip-path=\"url(#p5f4c5ece80)\">\n     <use style=\"fill:#0000ff;stroke:#0000ff;\" x=\"442.11033\" xlink:href=\"#C0_0_2293063c7b\" y=\"318.534545\"/>\n    </g>\n    <g clip-path=\"url(#p5f4c5ece80)\">\n     <use style=\"fill:#0000ff;stroke:#0000ff;\" x=\"442.11033\" xlink:href=\"#C0_0_2293063c7b\" y=\"308.310094\"/>\n    </g>\n    <g clip-path=\"url(#p5f4c5ece80)\">\n     <use style=\"fill:#0000ff;stroke:#0000ff;\" x=\"442.11033\" xlink:href=\"#C0_0_2293063c7b\" y=\"298.085643\"/>\n    </g>\n    <g clip-path=\"url(#p5f4c5ece80)\">\n     <use style=\"fill:#0000ff;stroke:#0000ff;\" x=\"442.11033\" xlink:href=\"#C0_0_2293063c7b\" y=\"287.861191\"/>\n    </g>\n    <g clip-path=\"url(#p5f4c5ece80)\">\n     <use style=\"fill:#0000ff;stroke:#0000ff;\" x=\"442.11033\" xlink:href=\"#C0_0_2293063c7b\" y=\"277.63674\"/>\n    </g>\n    <g clip-path=\"url(#p5f4c5ece80)\">\n     <use style=\"fill:#0000ff;stroke:#0000ff;\" x=\"442.11033\" xlink:href=\"#C0_0_2293063c7b\" y=\"267.412288\"/>\n    </g>\n    <g clip-path=\"url(#p5f4c5ece80)\">\n     <use style=\"fill:#0000ff;stroke:#0000ff;\" x=\"442.11033\" xlink:href=\"#C0_0_2293063c7b\" y=\"257.187837\"/>\n    </g>\n    <g clip-path=\"url(#p5f4c5ece80)\">\n     <use style=\"fill:#0000ff;stroke:#0000ff;\" x=\"442.11033\" xlink:href=\"#C0_0_2293063c7b\" y=\"246.963386\"/>\n    </g>\n    <g clip-path=\"url(#p5f4c5ece80)\">\n     <use style=\"fill:#0000ff;stroke:#0000ff;\" x=\"442.11033\" xlink:href=\"#C0_0_2293063c7b\" y=\"236.738934\"/>\n    </g>\n    <g clip-path=\"url(#p5f4c5ece80)\">\n     <use style=\"fill:#0000ff;stroke:#0000ff;\" x=\"442.11033\" xlink:href=\"#C0_0_2293063c7b\" y=\"226.514483\"/>\n    </g>\n    <g clip-path=\"url(#p5f4c5ece80)\">\n     <use style=\"fill:#0000ff;stroke:#0000ff;\" x=\"442.11033\" xlink:href=\"#C0_0_2293063c7b\" y=\"216.290031\"/>\n    </g>\n    <g clip-path=\"url(#p5f4c5ece80)\">\n     <use style=\"fill:#0000ff;stroke:#0000ff;\" x=\"442.11033\" xlink:href=\"#C0_0_2293063c7b\" y=\"206.06558\"/>\n    </g>\n    <g clip-path=\"url(#p5f4c5ece80)\">\n     <use style=\"fill:#0000ff;stroke:#0000ff;\" x=\"442.11033\" xlink:href=\"#C0_0_2293063c7b\" y=\"195.841129\"/>\n    </g>\n    <g clip-path=\"url(#p5f4c5ece80)\">\n     <use style=\"fill:#0000ff;stroke:#0000ff;\" x=\"442.11033\" xlink:href=\"#C0_0_2293063c7b\" y=\"185.616677\"/>\n    </g>\n    <g clip-path=\"url(#p5f4c5ece80)\">\n     <use style=\"fill:#0000ff;stroke:#0000ff;\" x=\"442.11033\" xlink:href=\"#C0_0_2293063c7b\" y=\"175.392226\"/>\n    </g>\n    <g clip-path=\"url(#p5f4c5ece80)\">\n     <use style=\"fill:#0000ff;fill-opacity:0.948732;stroke:#0000ff;stroke-opacity:0.948732;\" x=\"442.11033\" xlink:href=\"#C0_0_2293063c7b\" y=\"165.167774\"/>\n    </g>\n    <g clip-path=\"url(#p5f4c5ece80)\">\n     <use style=\"fill:#ff0000;fill-opacity:1;stroke:#ff0000;stroke-opacity:1;\" x=\"442.11033\" xlink:href=\"#C0_0_2293063c7b\" y=\"154.943323\"/>\n    </g>\n    <g clip-path=\"url(#p5f4c5ece80)\">\n     <use style=\"fill:#ff0000;fill-opacity:1;stroke:#ff0000;stroke-opacity:1;\" x=\"442.11033\" xlink:href=\"#C0_0_2293063c7b\" y=\"144.718871\"/>\n    </g>\n    <g clip-path=\"url(#p5f4c5ece80)\">\n     <use style=\"fill:#ff0000;stroke:#ff0000;\" x=\"442.11033\" xlink:href=\"#C0_0_2293063c7b\" y=\"134.49442\"/>\n    </g>\n    <g clip-path=\"url(#p5f4c5ece80)\">\n     <use style=\"fill:#ff0000;stroke:#ff0000;\" x=\"442.11033\" xlink:href=\"#C0_0_2293063c7b\" y=\"124.269969\"/>\n    </g>\n    <g clip-path=\"url(#p5f4c5ece80)\">\n     <use style=\"fill:#ff0000;stroke:#ff0000;\" x=\"442.11033\" xlink:href=\"#C0_0_2293063c7b\" y=\"114.045517\"/>\n    </g>\n    <g clip-path=\"url(#p5f4c5ece80)\">\n     <use style=\"fill:#ff0000;stroke:#ff0000;\" x=\"442.11033\" xlink:href=\"#C0_0_2293063c7b\" y=\"103.821066\"/>\n    </g>\n    <g clip-path=\"url(#p5f4c5ece80)\">\n     <use style=\"fill:#ff0000;stroke:#ff0000;\" x=\"442.11033\" xlink:href=\"#C0_0_2293063c7b\" y=\"93.596614\"/>\n    </g>\n    <g clip-path=\"url(#p5f4c5ece80)\">\n     <use style=\"fill:#ff0000;stroke:#ff0000;\" x=\"442.11033\" xlink:href=\"#C0_0_2293063c7b\" y=\"83.372163\"/>\n    </g>\n    <g clip-path=\"url(#p5f4c5ece80)\">\n     <use style=\"fill:#ff0000;stroke:#ff0000;\" x=\"442.11033\" xlink:href=\"#C0_0_2293063c7b\" y=\"73.147712\"/>\n    </g>\n    <g clip-path=\"url(#p5f4c5ece80)\">\n     <use style=\"fill:#ff0000;stroke:#ff0000;\" x=\"442.11033\" xlink:href=\"#C0_0_2293063c7b\" y=\"62.92326\"/>\n    </g>\n    <g clip-path=\"url(#p5f4c5ece80)\">\n     <use style=\"fill:#ff0000;stroke:#ff0000;\" x=\"442.11033\" xlink:href=\"#C0_0_2293063c7b\" y=\"52.698809\"/>\n    </g>\n    <g clip-path=\"url(#p5f4c5ece80)\">\n     <use style=\"fill:#ff0000;stroke:#ff0000;\" x=\"442.11033\" xlink:href=\"#C0_0_2293063c7b\" y=\"42.474357\"/>\n    </g>\n    <g clip-path=\"url(#p5f4c5ece80)\">\n     <use style=\"fill:#ff0000;stroke:#ff0000;\" x=\"442.11033\" xlink:href=\"#C0_0_2293063c7b\" y=\"32.249906\"/>\n    </g>\n    <g clip-path=\"url(#p5f4c5ece80)\">\n     <use style=\"fill:#ff0000;stroke:#ff0000;\" x=\"442.11033\" xlink:href=\"#C0_0_2293063c7b\" y=\"22.025455\"/>\n    </g>\n    <g clip-path=\"url(#p5f4c5ece80)\">\n     <use style=\"fill:#0000ff;stroke:#0000ff;\" x=\"452.334782\" xlink:href=\"#C0_0_2293063c7b\" y=\"318.534545\"/>\n    </g>\n    <g clip-path=\"url(#p5f4c5ece80)\">\n     <use style=\"fill:#0000ff;stroke:#0000ff;\" x=\"452.334782\" xlink:href=\"#C0_0_2293063c7b\" y=\"308.310094\"/>\n    </g>\n    <g clip-path=\"url(#p5f4c5ece80)\">\n     <use style=\"fill:#0000ff;stroke:#0000ff;\" x=\"452.334782\" xlink:href=\"#C0_0_2293063c7b\" y=\"298.085643\"/>\n    </g>\n    <g clip-path=\"url(#p5f4c5ece80)\">\n     <use style=\"fill:#0000ff;stroke:#0000ff;\" x=\"452.334782\" xlink:href=\"#C0_0_2293063c7b\" y=\"287.861191\"/>\n    </g>\n    <g clip-path=\"url(#p5f4c5ece80)\">\n     <use style=\"fill:#0000ff;stroke:#0000ff;\" x=\"452.334782\" xlink:href=\"#C0_0_2293063c7b\" y=\"277.63674\"/>\n    </g>\n    <g clip-path=\"url(#p5f4c5ece80)\">\n     <use style=\"fill:#0000ff;stroke:#0000ff;\" x=\"452.334782\" xlink:href=\"#C0_0_2293063c7b\" y=\"267.412288\"/>\n    </g>\n    <g clip-path=\"url(#p5f4c5ece80)\">\n     <use style=\"fill:#0000ff;stroke:#0000ff;\" x=\"452.334782\" xlink:href=\"#C0_0_2293063c7b\" y=\"257.187837\"/>\n    </g>\n    <g clip-path=\"url(#p5f4c5ece80)\">\n     <use style=\"fill:#0000ff;stroke:#0000ff;\" x=\"452.334782\" xlink:href=\"#C0_0_2293063c7b\" y=\"246.963386\"/>\n    </g>\n    <g clip-path=\"url(#p5f4c5ece80)\">\n     <use style=\"fill:#0000ff;stroke:#0000ff;\" x=\"452.334782\" xlink:href=\"#C0_0_2293063c7b\" y=\"236.738934\"/>\n    </g>\n    <g clip-path=\"url(#p5f4c5ece80)\">\n     <use style=\"fill:#0000ff;stroke:#0000ff;\" x=\"452.334782\" xlink:href=\"#C0_0_2293063c7b\" y=\"226.514483\"/>\n    </g>\n    <g clip-path=\"url(#p5f4c5ece80)\">\n     <use style=\"fill:#0000ff;stroke:#0000ff;\" x=\"452.334782\" xlink:href=\"#C0_0_2293063c7b\" y=\"216.290031\"/>\n    </g>\n    <g clip-path=\"url(#p5f4c5ece80)\">\n     <use style=\"fill:#0000ff;stroke:#0000ff;\" x=\"452.334782\" xlink:href=\"#C0_0_2293063c7b\" y=\"206.06558\"/>\n    </g>\n    <g clip-path=\"url(#p5f4c5ece80)\">\n     <use style=\"fill:#0000ff;stroke:#0000ff;\" x=\"452.334782\" xlink:href=\"#C0_0_2293063c7b\" y=\"195.841129\"/>\n    </g>\n    <g clip-path=\"url(#p5f4c5ece80)\">\n     <use style=\"fill:#0000ff;stroke:#0000ff;\" x=\"452.334782\" xlink:href=\"#C0_0_2293063c7b\" y=\"185.616677\"/>\n    </g>\n    <g clip-path=\"url(#p5f4c5ece80)\">\n     <use style=\"fill:#0000ff;stroke:#0000ff;\" x=\"452.334782\" xlink:href=\"#C0_0_2293063c7b\" y=\"175.392226\"/>\n    </g>\n    <g clip-path=\"url(#p5f4c5ece80)\">\n     <use style=\"fill:#0000ff;fill-opacity:0.987564;stroke:#0000ff;stroke-opacity:0.987564;\" x=\"452.334782\" xlink:href=\"#C0_0_2293063c7b\" y=\"165.167774\"/>\n    </g>\n    <g clip-path=\"url(#p5f4c5ece80)\">\n     <use style=\"fill:#ff0000;fill-opacity:1;stroke:#ff0000;stroke-opacity:1;\" x=\"452.334782\" xlink:href=\"#C0_0_2293063c7b\" y=\"154.943323\"/>\n    </g>\n    <g clip-path=\"url(#p5f4c5ece80)\">\n     <use style=\"fill:#ff0000;fill-opacity:1;stroke:#ff0000;stroke-opacity:1;\" x=\"452.334782\" xlink:href=\"#C0_0_2293063c7b\" y=\"144.718871\"/>\n    </g>\n    <g clip-path=\"url(#p5f4c5ece80)\">\n     <use style=\"fill:#ff0000;stroke:#ff0000;\" x=\"452.334782\" xlink:href=\"#C0_0_2293063c7b\" y=\"134.49442\"/>\n    </g>\n    <g clip-path=\"url(#p5f4c5ece80)\">\n     <use style=\"fill:#ff0000;stroke:#ff0000;\" x=\"452.334782\" xlink:href=\"#C0_0_2293063c7b\" y=\"124.269969\"/>\n    </g>\n    <g clip-path=\"url(#p5f4c5ece80)\">\n     <use style=\"fill:#ff0000;stroke:#ff0000;\" x=\"452.334782\" xlink:href=\"#C0_0_2293063c7b\" y=\"114.045517\"/>\n    </g>\n    <g clip-path=\"url(#p5f4c5ece80)\">\n     <use style=\"fill:#ff0000;stroke:#ff0000;\" x=\"452.334782\" xlink:href=\"#C0_0_2293063c7b\" y=\"103.821066\"/>\n    </g>\n    <g clip-path=\"url(#p5f4c5ece80)\">\n     <use style=\"fill:#ff0000;stroke:#ff0000;\" x=\"452.334782\" xlink:href=\"#C0_0_2293063c7b\" y=\"93.596614\"/>\n    </g>\n    <g clip-path=\"url(#p5f4c5ece80)\">\n     <use style=\"fill:#ff0000;stroke:#ff0000;\" x=\"452.334782\" xlink:href=\"#C0_0_2293063c7b\" y=\"83.372163\"/>\n    </g>\n    <g clip-path=\"url(#p5f4c5ece80)\">\n     <use style=\"fill:#ff0000;stroke:#ff0000;\" x=\"452.334782\" xlink:href=\"#C0_0_2293063c7b\" y=\"73.147712\"/>\n    </g>\n    <g clip-path=\"url(#p5f4c5ece80)\">\n     <use style=\"fill:#ff0000;stroke:#ff0000;\" x=\"452.334782\" xlink:href=\"#C0_0_2293063c7b\" y=\"62.92326\"/>\n    </g>\n    <g clip-path=\"url(#p5f4c5ece80)\">\n     <use style=\"fill:#ff0000;stroke:#ff0000;\" x=\"452.334782\" xlink:href=\"#C0_0_2293063c7b\" y=\"52.698809\"/>\n    </g>\n    <g clip-path=\"url(#p5f4c5ece80)\">\n     <use style=\"fill:#ff0000;stroke:#ff0000;\" x=\"452.334782\" xlink:href=\"#C0_0_2293063c7b\" y=\"42.474357\"/>\n    </g>\n    <g clip-path=\"url(#p5f4c5ece80)\">\n     <use style=\"fill:#ff0000;stroke:#ff0000;\" x=\"452.334782\" xlink:href=\"#C0_0_2293063c7b\" y=\"32.249906\"/>\n    </g>\n    <g clip-path=\"url(#p5f4c5ece80)\">\n     <use style=\"fill:#ff0000;stroke:#ff0000;\" x=\"452.334782\" xlink:href=\"#C0_0_2293063c7b\" y=\"22.025455\"/>\n    </g>\n    <g clip-path=\"url(#p5f4c5ece80)\">\n     <use style=\"fill:#0000ff;stroke:#0000ff;\" x=\"462.559233\" xlink:href=\"#C0_0_2293063c7b\" y=\"318.534545\"/>\n    </g>\n    <g clip-path=\"url(#p5f4c5ece80)\">\n     <use style=\"fill:#0000ff;stroke:#0000ff;\" x=\"462.559233\" xlink:href=\"#C0_0_2293063c7b\" y=\"308.310094\"/>\n    </g>\n    <g clip-path=\"url(#p5f4c5ece80)\">\n     <use style=\"fill:#0000ff;stroke:#0000ff;\" x=\"462.559233\" xlink:href=\"#C0_0_2293063c7b\" y=\"298.085643\"/>\n    </g>\n    <g clip-path=\"url(#p5f4c5ece80)\">\n     <use style=\"fill:#0000ff;stroke:#0000ff;\" x=\"462.559233\" xlink:href=\"#C0_0_2293063c7b\" y=\"287.861191\"/>\n    </g>\n    <g clip-path=\"url(#p5f4c5ece80)\">\n     <use style=\"fill:#0000ff;stroke:#0000ff;\" x=\"462.559233\" xlink:href=\"#C0_0_2293063c7b\" y=\"277.63674\"/>\n    </g>\n    <g clip-path=\"url(#p5f4c5ece80)\">\n     <use style=\"fill:#0000ff;stroke:#0000ff;\" x=\"462.559233\" xlink:href=\"#C0_0_2293063c7b\" y=\"267.412288\"/>\n    </g>\n    <g clip-path=\"url(#p5f4c5ece80)\">\n     <use style=\"fill:#0000ff;stroke:#0000ff;\" x=\"462.559233\" xlink:href=\"#C0_0_2293063c7b\" y=\"257.187837\"/>\n    </g>\n    <g clip-path=\"url(#p5f4c5ece80)\">\n     <use style=\"fill:#0000ff;stroke:#0000ff;\" x=\"462.559233\" xlink:href=\"#C0_0_2293063c7b\" y=\"246.963386\"/>\n    </g>\n    <g clip-path=\"url(#p5f4c5ece80)\">\n     <use style=\"fill:#0000ff;stroke:#0000ff;\" x=\"462.559233\" xlink:href=\"#C0_0_2293063c7b\" y=\"236.738934\"/>\n    </g>\n    <g clip-path=\"url(#p5f4c5ece80)\">\n     <use style=\"fill:#0000ff;stroke:#0000ff;\" x=\"462.559233\" xlink:href=\"#C0_0_2293063c7b\" y=\"226.514483\"/>\n    </g>\n    <g clip-path=\"url(#p5f4c5ece80)\">\n     <use style=\"fill:#0000ff;stroke:#0000ff;\" x=\"462.559233\" xlink:href=\"#C0_0_2293063c7b\" y=\"216.290031\"/>\n    </g>\n    <g clip-path=\"url(#p5f4c5ece80)\">\n     <use style=\"fill:#0000ff;stroke:#0000ff;\" x=\"462.559233\" xlink:href=\"#C0_0_2293063c7b\" y=\"206.06558\"/>\n    </g>\n    <g clip-path=\"url(#p5f4c5ece80)\">\n     <use style=\"fill:#0000ff;stroke:#0000ff;\" x=\"462.559233\" xlink:href=\"#C0_0_2293063c7b\" y=\"195.841129\"/>\n    </g>\n    <g clip-path=\"url(#p5f4c5ece80)\">\n     <use style=\"fill:#0000ff;stroke:#0000ff;\" x=\"462.559233\" xlink:href=\"#C0_0_2293063c7b\" y=\"185.616677\"/>\n    </g>\n    <g clip-path=\"url(#p5f4c5ece80)\">\n     <use style=\"fill:#0000ff;stroke:#0000ff;\" x=\"462.559233\" xlink:href=\"#C0_0_2293063c7b\" y=\"175.392226\"/>\n    </g>\n    <g clip-path=\"url(#p5f4c5ece80)\">\n     <use style=\"fill:#0000ff;fill-opacity:0.997074;stroke:#0000ff;stroke-opacity:0.997074;\" x=\"462.559233\" xlink:href=\"#C0_0_2293063c7b\" y=\"165.167774\"/>\n    </g>\n    <g clip-path=\"url(#p5f4c5ece80)\">\n     <use style=\"fill:#ff0000;fill-opacity:1;stroke:#ff0000;stroke-opacity:1;\" x=\"462.559233\" xlink:href=\"#C0_0_2293063c7b\" y=\"154.943323\"/>\n    </g>\n    <g clip-path=\"url(#p5f4c5ece80)\">\n     <use style=\"fill:#ff0000;fill-opacity:1;stroke:#ff0000;stroke-opacity:1;\" x=\"462.559233\" xlink:href=\"#C0_0_2293063c7b\" y=\"144.718871\"/>\n    </g>\n    <g clip-path=\"url(#p5f4c5ece80)\">\n     <use style=\"fill:#ff0000;stroke:#ff0000;\" x=\"462.559233\" xlink:href=\"#C0_0_2293063c7b\" y=\"134.49442\"/>\n    </g>\n    <g clip-path=\"url(#p5f4c5ece80)\">\n     <use style=\"fill:#ff0000;stroke:#ff0000;\" x=\"462.559233\" xlink:href=\"#C0_0_2293063c7b\" y=\"124.269969\"/>\n    </g>\n    <g clip-path=\"url(#p5f4c5ece80)\">\n     <use style=\"fill:#ff0000;stroke:#ff0000;\" x=\"462.559233\" xlink:href=\"#C0_0_2293063c7b\" y=\"114.045517\"/>\n    </g>\n    <g clip-path=\"url(#p5f4c5ece80)\">\n     <use style=\"fill:#ff0000;stroke:#ff0000;\" x=\"462.559233\" xlink:href=\"#C0_0_2293063c7b\" y=\"103.821066\"/>\n    </g>\n    <g clip-path=\"url(#p5f4c5ece80)\">\n     <use style=\"fill:#ff0000;stroke:#ff0000;\" x=\"462.559233\" xlink:href=\"#C0_0_2293063c7b\" y=\"93.596614\"/>\n    </g>\n    <g clip-path=\"url(#p5f4c5ece80)\">\n     <use style=\"fill:#ff0000;stroke:#ff0000;\" x=\"462.559233\" xlink:href=\"#C0_0_2293063c7b\" y=\"83.372163\"/>\n    </g>\n    <g clip-path=\"url(#p5f4c5ece80)\">\n     <use style=\"fill:#ff0000;stroke:#ff0000;\" x=\"462.559233\" xlink:href=\"#C0_0_2293063c7b\" y=\"73.147712\"/>\n    </g>\n    <g clip-path=\"url(#p5f4c5ece80)\">\n     <use style=\"fill:#ff0000;stroke:#ff0000;\" x=\"462.559233\" xlink:href=\"#C0_0_2293063c7b\" y=\"62.92326\"/>\n    </g>\n    <g clip-path=\"url(#p5f4c5ece80)\">\n     <use style=\"fill:#ff0000;stroke:#ff0000;\" x=\"462.559233\" xlink:href=\"#C0_0_2293063c7b\" y=\"52.698809\"/>\n    </g>\n    <g clip-path=\"url(#p5f4c5ece80)\">\n     <use style=\"fill:#ff0000;stroke:#ff0000;\" x=\"462.559233\" xlink:href=\"#C0_0_2293063c7b\" y=\"42.474357\"/>\n    </g>\n    <g clip-path=\"url(#p5f4c5ece80)\">\n     <use style=\"fill:#ff0000;stroke:#ff0000;\" x=\"462.559233\" xlink:href=\"#C0_0_2293063c7b\" y=\"32.249906\"/>\n    </g>\n    <g clip-path=\"url(#p5f4c5ece80)\">\n     <use style=\"fill:#ff0000;stroke:#ff0000;\" x=\"462.559233\" xlink:href=\"#C0_0_2293063c7b\" y=\"22.025455\"/>\n    </g>\n   </g>\n   <g id=\"matplotlib.axis_1\">\n    <g id=\"xtick_1\">\n     <g id=\"line2d_1\">\n      <defs>\n       <path d=\"M 0 0 \nL 0 3.5 \n\" id=\"m8cebcb89c6\" style=\"stroke:#000000;stroke-width:0.8;\"/>\n      </defs>\n      <g>\n       <use style=\"stroke:#000000;stroke-width:0.8;\" x=\"114.927885\" xlink:href=\"#m8cebcb89c6\" y=\"333.36\"/>\n      </g>\n     </g>\n     <g id=\"text_1\">\n      <!-- −20 -->\n      <defs>\n       <path d=\"M 10.59375 35.5 \nL 73.1875 35.5 \nL 73.1875 27.203125 \nL 10.59375 27.203125 \nz\n\" id=\"DejaVuSans-8722\"/>\n       <path d=\"M 19.1875 8.296875 \nL 53.609375 8.296875 \nL 53.609375 0 \nL 7.328125 0 \nL 7.328125 8.296875 \nQ 12.9375 14.109375 22.625 23.890625 \nQ 32.328125 33.6875 34.8125 36.53125 \nQ 39.546875 41.84375 41.421875 45.53125 \nQ 43.3125 49.21875 43.3125 52.78125 \nQ 43.3125 58.59375 39.234375 62.25 \nQ 35.15625 65.921875 28.609375 65.921875 \nQ 23.96875 65.921875 18.8125 64.3125 \nQ 13.671875 62.703125 7.8125 59.421875 \nL 7.8125 69.390625 \nQ 13.765625 71.78125 18.9375 73 \nQ 24.125 74.21875 28.421875 74.21875 \nQ 39.75 74.21875 46.484375 68.546875 \nQ 53.21875 62.890625 53.21875 53.421875 \nQ 53.21875 48.921875 51.53125 44.890625 \nQ 49.859375 40.875 45.40625 35.40625 \nQ 44.1875 33.984375 37.640625 27.21875 \nQ 31.109375 20.453125 19.1875 8.296875 \nz\n\" id=\"DejaVuSans-50\"/>\n       <path d=\"M 31.78125 66.40625 \nQ 24.171875 66.40625 20.328125 58.90625 \nQ 16.5 51.421875 16.5 36.375 \nQ 16.5 21.390625 20.328125 13.890625 \nQ 24.171875 6.390625 31.78125 6.390625 \nQ 39.453125 6.390625 43.28125 13.890625 \nQ 47.125 21.390625 47.125 36.375 \nQ 47.125 51.421875 43.28125 58.90625 \nQ 39.453125 66.40625 31.78125 66.40625 \nz\nM 31.78125 74.21875 \nQ 44.046875 74.21875 50.515625 64.515625 \nQ 56.984375 54.828125 56.984375 36.375 \nQ 56.984375 17.96875 50.515625 8.265625 \nQ 44.046875 -1.421875 31.78125 -1.421875 \nQ 19.53125 -1.421875 13.0625 8.265625 \nQ 6.59375 17.96875 6.59375 36.375 \nQ 6.59375 54.828125 13.0625 64.515625 \nQ 19.53125 74.21875 31.78125 74.21875 \nz\n\" id=\"DejaVuSans-48\"/>\n      </defs>\n      <g transform=\"translate(104.375541 347.958438)scale(0.1 -0.1)\">\n       <use xlink:href=\"#DejaVuSans-8722\"/>\n       <use x=\"83.789062\" xlink:href=\"#DejaVuSans-50\"/>\n       <use x=\"147.412109\" xlink:href=\"#DejaVuSans-48\"/>\n      </g>\n     </g>\n    </g>\n    <g id=\"xtick_2\">\n     <g id=\"line2d_2\">\n      <g>\n       <use style=\"stroke:#000000;stroke-width:0.8;\" x=\"217.172399\" xlink:href=\"#m8cebcb89c6\" y=\"333.36\"/>\n      </g>\n     </g>\n     <g id=\"text_2\">\n      <!-- −10 -->\n      <defs>\n       <path d=\"M 12.40625 8.296875 \nL 28.515625 8.296875 \nL 28.515625 63.921875 \nL 10.984375 60.40625 \nL 10.984375 69.390625 \nL 28.421875 72.90625 \nL 38.28125 72.90625 \nL 38.28125 8.296875 \nL 54.390625 8.296875 \nL 54.390625 0 \nL 12.40625 0 \nz\n\" id=\"DejaVuSans-49\"/>\n      </defs>\n      <g transform=\"translate(206.620055 347.958438)scale(0.1 -0.1)\">\n       <use xlink:href=\"#DejaVuSans-8722\"/>\n       <use x=\"83.789062\" xlink:href=\"#DejaVuSans-49\"/>\n       <use x=\"147.412109\" xlink:href=\"#DejaVuSans-48\"/>\n      </g>\n     </g>\n    </g>\n    <g id=\"xtick_3\">\n     <g id=\"line2d_3\">\n      <g>\n       <use style=\"stroke:#000000;stroke-width:0.8;\" x=\"319.416913\" xlink:href=\"#m8cebcb89c6\" y=\"333.36\"/>\n      </g>\n     </g>\n     <g id=\"text_3\">\n      <!-- 0 -->\n      <g transform=\"translate(316.235663 347.958438)scale(0.1 -0.1)\">\n       <use xlink:href=\"#DejaVuSans-48\"/>\n      </g>\n     </g>\n    </g>\n    <g id=\"xtick_4\">\n     <g id=\"line2d_4\">\n      <g>\n       <use style=\"stroke:#000000;stroke-width:0.8;\" x=\"421.661427\" xlink:href=\"#m8cebcb89c6\" y=\"333.36\"/>\n      </g>\n     </g>\n     <g id=\"text_4\">\n      <!-- 10 -->\n      <g transform=\"translate(415.298927 347.958438)scale(0.1 -0.1)\">\n       <use xlink:href=\"#DejaVuSans-49\"/>\n       <use x=\"63.623047\" xlink:href=\"#DejaVuSans-48\"/>\n      </g>\n     </g>\n    </g>\n    <g id=\"xtick_5\">\n     <g id=\"line2d_5\">\n      <g>\n       <use style=\"stroke:#000000;stroke-width:0.8;\" x=\"523.905941\" xlink:href=\"#m8cebcb89c6\" y=\"333.36\"/>\n      </g>\n     </g>\n     <g id=\"text_5\">\n      <!-- 20 -->\n      <g transform=\"translate(517.543441 347.958438)scale(0.1 -0.1)\">\n       <use xlink:href=\"#DejaVuSans-50\"/>\n       <use x=\"63.623047\" xlink:href=\"#DejaVuSans-48\"/>\n      </g>\n     </g>\n    </g>\n   </g>\n   <g id=\"matplotlib.axis_2\">\n    <g id=\"ytick_1\">\n     <g id=\"line2d_6\">\n      <defs>\n       <path d=\"M 0 0 \nL -3.5 0 \n\" id=\"m9c849a6ead\" style=\"stroke:#000000;stroke-width:0.8;\"/>\n      </defs>\n      <g>\n       <use style=\"stroke:#000000;stroke-width:0.8;\" x=\"35.304688\" xlink:href=\"#m9c849a6ead\" y=\"318.534545\"/>\n      </g>\n     </g>\n     <g id=\"text_6\">\n      <!-- −15 -->\n      <defs>\n       <path d=\"M 10.796875 72.90625 \nL 49.515625 72.90625 \nL 49.515625 64.59375 \nL 19.828125 64.59375 \nL 19.828125 46.734375 \nQ 21.96875 47.46875 24.109375 47.828125 \nQ 26.265625 48.1875 28.421875 48.1875 \nQ 40.625 48.1875 47.75 41.5 \nQ 54.890625 34.8125 54.890625 23.390625 \nQ 54.890625 11.625 47.5625 5.09375 \nQ 40.234375 -1.421875 26.90625 -1.421875 \nQ 22.3125 -1.421875 17.546875 -0.640625 \nQ 12.796875 0.140625 7.71875 1.703125 \nL 7.71875 11.625 \nQ 12.109375 9.234375 16.796875 8.0625 \nQ 21.484375 6.890625 26.703125 6.890625 \nQ 35.15625 6.890625 40.078125 11.328125 \nQ 45.015625 15.765625 45.015625 23.390625 \nQ 45.015625 31 40.078125 35.4375 \nQ 35.15625 39.890625 26.703125 39.890625 \nQ 22.75 39.890625 18.8125 39.015625 \nQ 14.890625 38.140625 10.796875 36.28125 \nz\n\" id=\"DejaVuSans-53\"/>\n      </defs>\n      <g transform=\"translate(7.2 322.333764)scale(0.1 -0.1)\">\n       <use xlink:href=\"#DejaVuSans-8722\"/>\n       <use x=\"83.789062\" xlink:href=\"#DejaVuSans-49\"/>\n       <use x=\"147.412109\" xlink:href=\"#DejaVuSans-53\"/>\n      </g>\n     </g>\n    </g>\n    <g id=\"ytick_2\">\n     <g id=\"line2d_7\">\n      <g>\n       <use style=\"stroke:#000000;stroke-width:0.8;\" x=\"35.304688\" xlink:href=\"#m9c849a6ead\" y=\"267.412288\"/>\n      </g>\n     </g>\n     <g id=\"text_7\">\n      <!-- −10 -->\n      <g transform=\"translate(7.2 271.211507)scale(0.1 -0.1)\">\n       <use xlink:href=\"#DejaVuSans-8722\"/>\n       <use x=\"83.789062\" xlink:href=\"#DejaVuSans-49\"/>\n       <use x=\"147.412109\" xlink:href=\"#DejaVuSans-48\"/>\n      </g>\n     </g>\n    </g>\n    <g id=\"ytick_3\">\n     <g id=\"line2d_8\">\n      <g>\n       <use style=\"stroke:#000000;stroke-width:0.8;\" x=\"35.304688\" xlink:href=\"#m9c849a6ead\" y=\"216.290031\"/>\n      </g>\n     </g>\n     <g id=\"text_8\">\n      <!-- −5 -->\n      <g transform=\"translate(13.5625 220.08925)scale(0.1 -0.1)\">\n       <use xlink:href=\"#DejaVuSans-8722\"/>\n       <use x=\"83.789062\" xlink:href=\"#DejaVuSans-53\"/>\n      </g>\n     </g>\n    </g>\n    <g id=\"ytick_4\">\n     <g id=\"line2d_9\">\n      <g>\n       <use style=\"stroke:#000000;stroke-width:0.8;\" x=\"35.304688\" xlink:href=\"#m9c849a6ead\" y=\"165.167774\"/>\n      </g>\n     </g>\n     <g id=\"text_9\">\n      <!-- 0 -->\n      <g transform=\"translate(21.942187 168.966993)scale(0.1 -0.1)\">\n       <use xlink:href=\"#DejaVuSans-48\"/>\n      </g>\n     </g>\n    </g>\n    <g id=\"ytick_5\">\n     <g id=\"line2d_10\">\n      <g>\n       <use style=\"stroke:#000000;stroke-width:0.8;\" x=\"35.304688\" xlink:href=\"#m9c849a6ead\" y=\"114.045517\"/>\n      </g>\n     </g>\n     <g id=\"text_10\">\n      <!-- 5 -->\n      <g transform=\"translate(21.942187 117.844736)scale(0.1 -0.1)\">\n       <use xlink:href=\"#DejaVuSans-53\"/>\n      </g>\n     </g>\n    </g>\n    <g id=\"ytick_6\">\n     <g id=\"line2d_11\">\n      <g>\n       <use style=\"stroke:#000000;stroke-width:0.8;\" x=\"35.304688\" xlink:href=\"#m9c849a6ead\" y=\"62.92326\"/>\n      </g>\n     </g>\n     <g id=\"text_11\">\n      <!-- 10 -->\n      <g transform=\"translate(15.579687 66.722479)scale(0.1 -0.1)\">\n       <use xlink:href=\"#DejaVuSans-49\"/>\n       <use x=\"63.623047\" xlink:href=\"#DejaVuSans-48\"/>\n      </g>\n     </g>\n    </g>\n    <g id=\"ytick_7\">\n     <g id=\"line2d_12\">\n      <g>\n       <use style=\"stroke:#000000;stroke-width:0.8;\" x=\"35.304688\" xlink:href=\"#m9c849a6ead\" y=\"11.801003\"/>\n      </g>\n     </g>\n     <g id=\"text_12\">\n      <!-- 15 -->\n      <g transform=\"translate(15.579687 15.600222)scale(0.1 -0.1)\">\n       <use xlink:href=\"#DejaVuSans-49\"/>\n       <use x=\"63.623047\" xlink:href=\"#DejaVuSans-53\"/>\n      </g>\n     </g>\n    </g>\n   </g>\n   <g id=\"patch_3\">\n    <path d=\"M 35.304688 333.36 \nL 35.304688 7.2 \n\" style=\"fill:none;stroke:#000000;stroke-linecap:square;stroke-linejoin:miter;stroke-width:0.8;\"/>\n   </g>\n   <g id=\"patch_4\">\n    <path d=\"M 593.304688 333.36 \nL 593.304688 7.2 \n\" style=\"fill:none;stroke:#000000;stroke-linecap:square;stroke-linejoin:miter;stroke-width:0.8;\"/>\n   </g>\n   <g id=\"patch_5\">\n    <path d=\"M 35.304687 333.36 \nL 593.304688 333.36 \n\" style=\"fill:none;stroke:#000000;stroke-linecap:square;stroke-linejoin:miter;stroke-width:0.8;\"/>\n   </g>\n   <g id=\"patch_6\">\n    <path d=\"M 35.304687 7.2 \nL 593.304688 7.2 \n\" style=\"fill:none;stroke:#000000;stroke-linecap:square;stroke-linejoin:miter;stroke-width:0.8;\"/>\n   </g>\n  </g>\n </g>\n <defs>\n  <clipPath id=\"p5f4c5ece80\">\n   <rect height=\"326.16\" width=\"558\" x=\"35.304688\" y=\"7.2\"/>\n  </clipPath>\n </defs>\n</svg>\n"
          },
          "metadata": {
            "needs_background": "light"
          }
        }
      ]
    },
    {
      "cell_type": "markdown",
      "source": [
        "**EXERCISE 2**"
      ],
      "metadata": {
        "id": "dgPNDWeUw--7"
      }
    },
    {
      "cell_type": "code",
      "source": [
        "import pandas as pd\n",
        "df = pd.read_csv(\"harbour-space-text-mining-course/datasets/startup_investments/investments_VC.csv\")\n",
        "df.head()"
      ],
      "metadata": {
        "colab": {
          "base_uri": "https://localhost:8080/",
          "height": 457
        },
        "id": "kVhVTBHcqhoj",
        "outputId": "b7f0a2c8-6e7b-42fd-b6ea-1ea4059856b2"
      },
      "execution_count": 91,
      "outputs": [
        {
          "output_type": "stream",
          "name": "stderr",
          "text": [
            "/usr/local/lib/python3.8/dist-packages/IPython/core/interactiveshell.py:3326: DtypeWarning: Columns (11,15,18) have mixed types.Specify dtype option on import or set low_memory=False.\n",
            "  exec(code_obj, self.user_global_ns, self.user_ns)\n"
          ]
        },
        {
          "output_type": "execute_result",
          "data": {
            "text/plain": [
              "                         permalink                name  \\\n",
              "0            /organization/waywire            #waywire   \n",
              "1  /organization/tv-communications  &TV Communications   \n",
              "2    /organization/rock-your-paper   'Rock' Your Paper   \n",
              "3   /organization/in-touch-network   (In)Touch Network   \n",
              "4   /organization/r-ranch-and-mine  -R- Ranch and Mine   \n",
              "\n",
              "                    homepage_url  \\\n",
              "0         http://www.waywire.com   \n",
              "1          http://enjoyandtv.com   \n",
              "2   http://www.rockyourpaper.org   \n",
              "3  http://www.InTouchNetwork.com   \n",
              "4                            NaN   \n",
              "\n",
              "                                       category_list         market  \\\n",
              "0         |Entertainment|Politics|Social Media|News|          News    \n",
              "1                                            |Games|         Games    \n",
              "2                             |Publishing|Education|    Publishing    \n",
              "3  |Electronics|Guides|Coffee|Restaurants|Music|i...   Electronics    \n",
              "4                      |Tourism|Entertainment|Games|       Tourism    \n",
              "\n",
              "  funding_total_usd     status country_code state_code         region  ...  \\\n",
              "0        17,50,000    acquired          USA         NY  New York City  ...   \n",
              "1        40,00,000   operating          USA         CA    Los Angeles  ...   \n",
              "2             40000  operating          EST        NaN        Tallinn  ...   \n",
              "3        15,00,000   operating          GBR        NaN         London  ...   \n",
              "4             60000  operating          USA         TX         Dallas  ...   \n",
              "\n",
              "  product_crowdfunding round_A round_B round_C round_D round_E round_F  \\\n",
              "0                    0       0       0       0       0       0       0   \n",
              "1                    0       0       0       0       0       0       0   \n",
              "2                    0       0       0       0       0       0       0   \n",
              "3                    0       0       0       0       0       0       0   \n",
              "4                    0       0       0       0       0       0       0   \n",
              "\n",
              "  round_G round_H  Unnamed: 39  \n",
              "0       0       0          NaN  \n",
              "1       0       0          NaN  \n",
              "2       0       0          NaN  \n",
              "3       0       0          NaN  \n",
              "4       0       0          NaN  \n",
              "\n",
              "[5 rows x 40 columns]"
            ],
            "text/html": [
              "\n",
              "  <div id=\"df-31bc0a5a-8973-4673-8b30-1fe6f1464e76\">\n",
              "    <div class=\"colab-df-container\">\n",
              "      <div>\n",
              "<style scoped>\n",
              "    .dataframe tbody tr th:only-of-type {\n",
              "        vertical-align: middle;\n",
              "    }\n",
              "\n",
              "    .dataframe tbody tr th {\n",
              "        vertical-align: top;\n",
              "    }\n",
              "\n",
              "    .dataframe thead th {\n",
              "        text-align: right;\n",
              "    }\n",
              "</style>\n",
              "<table border=\"1\" class=\"dataframe\">\n",
              "  <thead>\n",
              "    <tr style=\"text-align: right;\">\n",
              "      <th></th>\n",
              "      <th>permalink</th>\n",
              "      <th>name</th>\n",
              "      <th>homepage_url</th>\n",
              "      <th>category_list</th>\n",
              "      <th>market</th>\n",
              "      <th>funding_total_usd</th>\n",
              "      <th>status</th>\n",
              "      <th>country_code</th>\n",
              "      <th>state_code</th>\n",
              "      <th>region</th>\n",
              "      <th>...</th>\n",
              "      <th>product_crowdfunding</th>\n",
              "      <th>round_A</th>\n",
              "      <th>round_B</th>\n",
              "      <th>round_C</th>\n",
              "      <th>round_D</th>\n",
              "      <th>round_E</th>\n",
              "      <th>round_F</th>\n",
              "      <th>round_G</th>\n",
              "      <th>round_H</th>\n",
              "      <th>Unnamed: 39</th>\n",
              "    </tr>\n",
              "  </thead>\n",
              "  <tbody>\n",
              "    <tr>\n",
              "      <th>0</th>\n",
              "      <td>/organization/waywire</td>\n",
              "      <td>#waywire</td>\n",
              "      <td>http://www.waywire.com</td>\n",
              "      <td>|Entertainment|Politics|Social Media|News|</td>\n",
              "      <td>News</td>\n",
              "      <td>17,50,000</td>\n",
              "      <td>acquired</td>\n",
              "      <td>USA</td>\n",
              "      <td>NY</td>\n",
              "      <td>New York City</td>\n",
              "      <td>...</td>\n",
              "      <td>0</td>\n",
              "      <td>0</td>\n",
              "      <td>0</td>\n",
              "      <td>0</td>\n",
              "      <td>0</td>\n",
              "      <td>0</td>\n",
              "      <td>0</td>\n",
              "      <td>0</td>\n",
              "      <td>0</td>\n",
              "      <td>NaN</td>\n",
              "    </tr>\n",
              "    <tr>\n",
              "      <th>1</th>\n",
              "      <td>/organization/tv-communications</td>\n",
              "      <td>&amp;TV Communications</td>\n",
              "      <td>http://enjoyandtv.com</td>\n",
              "      <td>|Games|</td>\n",
              "      <td>Games</td>\n",
              "      <td>40,00,000</td>\n",
              "      <td>operating</td>\n",
              "      <td>USA</td>\n",
              "      <td>CA</td>\n",
              "      <td>Los Angeles</td>\n",
              "      <td>...</td>\n",
              "      <td>0</td>\n",
              "      <td>0</td>\n",
              "      <td>0</td>\n",
              "      <td>0</td>\n",
              "      <td>0</td>\n",
              "      <td>0</td>\n",
              "      <td>0</td>\n",
              "      <td>0</td>\n",
              "      <td>0</td>\n",
              "      <td>NaN</td>\n",
              "    </tr>\n",
              "    <tr>\n",
              "      <th>2</th>\n",
              "      <td>/organization/rock-your-paper</td>\n",
              "      <td>'Rock' Your Paper</td>\n",
              "      <td>http://www.rockyourpaper.org</td>\n",
              "      <td>|Publishing|Education|</td>\n",
              "      <td>Publishing</td>\n",
              "      <td>40000</td>\n",
              "      <td>operating</td>\n",
              "      <td>EST</td>\n",
              "      <td>NaN</td>\n",
              "      <td>Tallinn</td>\n",
              "      <td>...</td>\n",
              "      <td>0</td>\n",
              "      <td>0</td>\n",
              "      <td>0</td>\n",
              "      <td>0</td>\n",
              "      <td>0</td>\n",
              "      <td>0</td>\n",
              "      <td>0</td>\n",
              "      <td>0</td>\n",
              "      <td>0</td>\n",
              "      <td>NaN</td>\n",
              "    </tr>\n",
              "    <tr>\n",
              "      <th>3</th>\n",
              "      <td>/organization/in-touch-network</td>\n",
              "      <td>(In)Touch Network</td>\n",
              "      <td>http://www.InTouchNetwork.com</td>\n",
              "      <td>|Electronics|Guides|Coffee|Restaurants|Music|i...</td>\n",
              "      <td>Electronics</td>\n",
              "      <td>15,00,000</td>\n",
              "      <td>operating</td>\n",
              "      <td>GBR</td>\n",
              "      <td>NaN</td>\n",
              "      <td>London</td>\n",
              "      <td>...</td>\n",
              "      <td>0</td>\n",
              "      <td>0</td>\n",
              "      <td>0</td>\n",
              "      <td>0</td>\n",
              "      <td>0</td>\n",
              "      <td>0</td>\n",
              "      <td>0</td>\n",
              "      <td>0</td>\n",
              "      <td>0</td>\n",
              "      <td>NaN</td>\n",
              "    </tr>\n",
              "    <tr>\n",
              "      <th>4</th>\n",
              "      <td>/organization/r-ranch-and-mine</td>\n",
              "      <td>-R- Ranch and Mine</td>\n",
              "      <td>NaN</td>\n",
              "      <td>|Tourism|Entertainment|Games|</td>\n",
              "      <td>Tourism</td>\n",
              "      <td>60000</td>\n",
              "      <td>operating</td>\n",
              "      <td>USA</td>\n",
              "      <td>TX</td>\n",
              "      <td>Dallas</td>\n",
              "      <td>...</td>\n",
              "      <td>0</td>\n",
              "      <td>0</td>\n",
              "      <td>0</td>\n",
              "      <td>0</td>\n",
              "      <td>0</td>\n",
              "      <td>0</td>\n",
              "      <td>0</td>\n",
              "      <td>0</td>\n",
              "      <td>0</td>\n",
              "      <td>NaN</td>\n",
              "    </tr>\n",
              "  </tbody>\n",
              "</table>\n",
              "<p>5 rows × 40 columns</p>\n",
              "</div>\n",
              "      <button class=\"colab-df-convert\" onclick=\"convertToInteractive('df-31bc0a5a-8973-4673-8b30-1fe6f1464e76')\"\n",
              "              title=\"Convert this dataframe to an interactive table.\"\n",
              "              style=\"display:none;\">\n",
              "        \n",
              "  <svg xmlns=\"http://www.w3.org/2000/svg\" height=\"24px\"viewBox=\"0 0 24 24\"\n",
              "       width=\"24px\">\n",
              "    <path d=\"M0 0h24v24H0V0z\" fill=\"none\"/>\n",
              "    <path d=\"M18.56 5.44l.94 2.06.94-2.06 2.06-.94-2.06-.94-.94-2.06-.94 2.06-2.06.94zm-11 1L8.5 8.5l.94-2.06 2.06-.94-2.06-.94L8.5 2.5l-.94 2.06-2.06.94zm10 10l.94 2.06.94-2.06 2.06-.94-2.06-.94-.94-2.06-.94 2.06-2.06.94z\"/><path d=\"M17.41 7.96l-1.37-1.37c-.4-.4-.92-.59-1.43-.59-.52 0-1.04.2-1.43.59L10.3 9.45l-7.72 7.72c-.78.78-.78 2.05 0 2.83L4 21.41c.39.39.9.59 1.41.59.51 0 1.02-.2 1.41-.59l7.78-7.78 2.81-2.81c.8-.78.8-2.07 0-2.86zM5.41 20L4 18.59l7.72-7.72 1.47 1.35L5.41 20z\"/>\n",
              "  </svg>\n",
              "      </button>\n",
              "      \n",
              "  <style>\n",
              "    .colab-df-container {\n",
              "      display:flex;\n",
              "      flex-wrap:wrap;\n",
              "      gap: 12px;\n",
              "    }\n",
              "\n",
              "    .colab-df-convert {\n",
              "      background-color: #E8F0FE;\n",
              "      border: none;\n",
              "      border-radius: 50%;\n",
              "      cursor: pointer;\n",
              "      display: none;\n",
              "      fill: #1967D2;\n",
              "      height: 32px;\n",
              "      padding: 0 0 0 0;\n",
              "      width: 32px;\n",
              "    }\n",
              "\n",
              "    .colab-df-convert:hover {\n",
              "      background-color: #E2EBFA;\n",
              "      box-shadow: 0px 1px 2px rgba(60, 64, 67, 0.3), 0px 1px 3px 1px rgba(60, 64, 67, 0.15);\n",
              "      fill: #174EA6;\n",
              "    }\n",
              "\n",
              "    [theme=dark] .colab-df-convert {\n",
              "      background-color: #3B4455;\n",
              "      fill: #D2E3FC;\n",
              "    }\n",
              "\n",
              "    [theme=dark] .colab-df-convert:hover {\n",
              "      background-color: #434B5C;\n",
              "      box-shadow: 0px 1px 3px 1px rgba(0, 0, 0, 0.15);\n",
              "      filter: drop-shadow(0px 1px 2px rgba(0, 0, 0, 0.3));\n",
              "      fill: #FFFFFF;\n",
              "    }\n",
              "  </style>\n",
              "\n",
              "      <script>\n",
              "        const buttonEl =\n",
              "          document.querySelector('#df-31bc0a5a-8973-4673-8b30-1fe6f1464e76 button.colab-df-convert');\n",
              "        buttonEl.style.display =\n",
              "          google.colab.kernel.accessAllowed ? 'block' : 'none';\n",
              "\n",
              "        async function convertToInteractive(key) {\n",
              "          const element = document.querySelector('#df-31bc0a5a-8973-4673-8b30-1fe6f1464e76');\n",
              "          const dataTable =\n",
              "            await google.colab.kernel.invokeFunction('convertToInteractive',\n",
              "                                                     [key], {});\n",
              "          if (!dataTable) return;\n",
              "\n",
              "          const docLinkHtml = 'Like what you see? Visit the ' +\n",
              "            '<a target=\"_blank\" href=https://colab.research.google.com/notebooks/data_table.ipynb>data table notebook</a>'\n",
              "            + ' to learn more about interactive tables.';\n",
              "          element.innerHTML = '';\n",
              "          dataTable['output_type'] = 'display_data';\n",
              "          await google.colab.output.renderOutput(dataTable, element);\n",
              "          const docLink = document.createElement('div');\n",
              "          docLink.innerHTML = docLinkHtml;\n",
              "          element.appendChild(docLink);\n",
              "        }\n",
              "      </script>\n",
              "    </div>\n",
              "  </div>\n",
              "  "
            ]
          },
          "metadata": {},
          "execution_count": 91
        }
      ]
    },
    {
      "cell_type": "code",
      "source": [
        "df['market']=df['market'].str.strip()\n",
        "df['name']=df['name'].str.strip()"
      ],
      "metadata": {
        "id": "3czcy0YVmkkC"
      },
      "execution_count": 92,
      "outputs": []
    },
    {
      "cell_type": "code",
      "source": [
        "import pandas as pd\n",
        "import torch\n",
        "from sklearn.preprocessing import LabelEncoder\n",
        "from collections import defaultdict\n",
        "from pprint import pprint\n",
        "top_10_markets = df.groupby(\"market\").size().sort_values(ascending=False).head(10).index\n",
        "data_top_10 = df.loc[df['market'].isin(top_10_markets)].reset_index()\n",
        "markets = data_top_10['market'].unique()\n",
        "startup_names = data_top_10[\"name\"].values\n",
        "market_dic=defaultdict(list)\n",
        "for market in top_10_markets:\n",
        "  for i in range(data_top_10.shape[0]):\n",
        "    if data_top_10['market'][i]==market:\n",
        "      market_dic[market].append(data_top_10['name'][i])\n"
      ],
      "metadata": {
        "id": "nzStux7TmnWJ"
      },
      "execution_count": 93,
      "outputs": []
    },
    {
      "cell_type": "code",
      "source": [
        "\n",
        "# count the total number of letters\n",
        "all_letters = set()\n",
        "all_categories = set()\n",
        "for market , names in market_dic.items():\n",
        "  all_categories.add(market)\n",
        "  for name in names:\n",
        "    all_letters.update(list(name))\n",
        "all_letters = list(sorted(all_letters))\n",
        "all_categories = list(sorted(all_categories))"
      ],
      "metadata": {
        "id": "W8rtLV-LnBDb"
      },
      "execution_count": 94,
      "outputs": []
    },
    {
      "cell_type": "code",
      "source": [
        "def name_to_tensor(name, all_letters):\n",
        "    tensor = torch.zeros(len(name), 1, len(all_letters))\n",
        "    for li, letter in enumerate(name):\n",
        "        letter_idx = all_letters.index(letter)\n",
        "        tensor[li][0][letter_idx] = 1  # one-hot encoding\n",
        "    return tensor\n"
      ],
      "metadata": {
        "id": "2g6HbnFSrpt-"
      },
      "execution_count": 95,
      "outputs": []
    },
    {
      "cell_type": "code",
      "source": [
        "categories_to_training=defaultdict(list)\n",
        "le = LabelEncoder()\n",
        "le.fit(all_categories)\n",
        "\n",
        "for market,names in market_dic.items():\n",
        "  encoded_market = le.transform([market])\n",
        "  market_tensor = torch.tensor(encoded_market)\n",
        "\n",
        "\n",
        "  for name in names:\n",
        "    name_tensor=name_to_tensor(name,all_letters)\n",
        "    sample=market_tensor,name_tensor\n",
        "    categories_to_training[market].append(sample)"
      ],
      "metadata": {
        "id": "AdbM2-YVm4cq"
      },
      "execution_count": 96,
      "outputs": []
    },
    {
      "cell_type": "code",
      "source": [
        "import torch\n",
        "import torch.nn as nn\n",
        "\n",
        "\n",
        "class ClassificationLSTM(nn.Module):\n",
        "    def __init__(self, input_size, hidden_size, output_size):\n",
        "        super().__init__()\n",
        "        self.lstm = nn.LSTM(input_size, hidden_size)\n",
        "        self.out = nn.Linear(hidden_size, output_size)\n",
        "        self.softmax = nn.LogSoftmax(dim=1)\n",
        "\n",
        "        # keep hidden sise for initialization of h_0, c_0\n",
        "        self.hidden_size = hidden_size\n",
        "\n",
        "    def forward(self, x):\n",
        "        # Set initial states\n",
        "        h0 = torch.zeros(1, 1, self.hidden_size)\n",
        "        c0 = torch.zeros(1, 1, self.hidden_size)\n",
        "        \n",
        "        # Forward propagate LSTM\n",
        "        out, _ = self.lstm(x, (h0, c0))  # out: tensor of shape (seq_len, batch, hidden_size)\n",
        "        \n",
        "        # Decode the hidden state of the last time step\n",
        "        out = self.out(out[-1, :, :])\n",
        "\n",
        "        return self.softmax(out)"
      ],
      "metadata": {
        "id": "nzGBK7Oa1CMx"
      },
      "execution_count": 98,
      "outputs": []
    },
    {
      "cell_type": "code",
      "source": [
        "def process_sequence_classification_lstm(lstm, target_tensor, input_tensor, learning_rate):\n",
        "    loss_function = nn.NLLLoss()\n",
        "    optimizer = torch.optim.Adam(lstm.parameters(), lr=learning_rate)\n",
        "  \n",
        "    output = lstm(input_tensor)\n",
        "    loss = loss_function(output, target_tensor)\n",
        "\n",
        "    # backprop + update\n",
        "    optimizer.zero_grad()\n",
        "    loss.backward()\n",
        "    optimizer.step()\n",
        "\n",
        "    return loss.item()"
      ],
      "metadata": {
        "id": "B9FQcdU6AMax"
      },
      "execution_count": 99,
      "outputs": []
    },
    {
      "cell_type": "code",
      "source": [
        "n_hidden = 128\n",
        "classification_lstm = ClassificationLSTM(len(all_letters), n_hidden, len(all_categories))\n",
        "import math\n",
        "from tqdm.notebook import tqdm\n",
        "import random\n",
        "import numpy as np\n",
        "import matplotlib.pyplot as plt\n",
        "random.seed(0)\n",
        "\n",
        "n_iters = 100000\n",
        "print_every = 2000\n",
        "\n",
        "all_losses = []\n",
        "iterations = []\n",
        "losses = []\n",
        "all_rnn_losses = []\n",
        "rnn_losses = []\n",
        "\n",
        "for i in tqdm(range(1, n_iters + 1)):\n",
        "    random_category = random.choice(all_categories)\n",
        "    market_tensor, name_tensor = random.choice(categories_to_training[random_category])\n",
        "\n",
        "    loss = process_sequence_classification_lstm(classification_lstm, market_tensor, name_tensor, 0.0001)\n",
        "    all_losses.append(loss)\n",
        "    if i % print_every == 0:\n",
        "        iterations.append(i)\n",
        "        avg_loss = np.mean(all_losses[-print_every:])\n",
        "        losses.append(avg_loss)\n",
        "        print(f\"iteration {i}: LSTM loss {avg_loss}\")\n",
        "\n",
        "plt.plot(iterations, losses, label=\"lstm\")\n",
        "plt.legend()\n",
        "plt.show()"
      ],
      "metadata": {
        "id": "kXzAig3U0bGl",
        "colab": {
          "base_uri": "https://localhost:8080/",
          "height": 1000,
          "referenced_widgets": [
            "3935084e1ede47d1b58fe4540fdbcf9c",
            "1b5329c0e5fc4311b69f0b46842501b8",
            "1f838ec352c44c38bc7b0601d9884aad",
            "af9e2a4e9c574fad93383766cf168c09",
            "7eb06085e3b749d4ab1c7270ae1d2150",
            "4e5773af686848c796640081ba7a2ff5",
            "64b68696bcc848f4bb19d933657b6db6",
            "520690e80e2048d28fa3547fc5f3b7bf",
            "96f526b0ddfc431a9832bea8f45a0184",
            "86a04765ca1e44ce892478cc3f6faac7",
            "f0c3d6b0477a49e8932474c2203a9752"
          ]
        },
        "outputId": "f0aa1c61-a6b4-4950-9c00-cfebd7bcad33"
      },
      "execution_count": 115,
      "outputs": [
        {
          "output_type": "display_data",
          "data": {
            "text/plain": [
              "  0%|          | 0/100000 [00:00<?, ?it/s]"
            ],
            "application/vnd.jupyter.widget-view+json": {
              "version_major": 2,
              "version_minor": 0,
              "model_id": "3935084e1ede47d1b58fe4540fdbcf9c"
            }
          },
          "metadata": {}
        },
        {
          "output_type": "stream",
          "name": "stdout",
          "text": [
            "iteration 2000: LSTM loss 2.310136137187481\n",
            "iteration 4000: LSTM loss 2.327095701098442\n",
            "iteration 6000: LSTM loss 2.3568273252248764\n",
            "iteration 8000: LSTM loss 2.3117186874747278\n",
            "iteration 10000: LSTM loss 2.3068696585297586\n",
            "iteration 12000: LSTM loss 2.316883495390415\n",
            "iteration 14000: LSTM loss 2.3260959061384203\n",
            "iteration 16000: LSTM loss 2.3506985431313514\n",
            "iteration 18000: LSTM loss 2.3151720727682115\n",
            "iteration 20000: LSTM loss 2.334289676576853\n",
            "iteration 22000: LSTM loss 2.3380471895933153\n",
            "iteration 24000: LSTM loss 2.301299914956093\n",
            "iteration 26000: LSTM loss 2.3060642206668853\n",
            "iteration 28000: LSTM loss 2.325970287322998\n",
            "iteration 30000: LSTM loss 2.3338141882419587\n",
            "iteration 32000: LSTM loss 2.3510025328993795\n",
            "iteration 34000: LSTM loss 2.323480684906244\n",
            "iteration 36000: LSTM loss 2.345728683650494\n",
            "iteration 38000: LSTM loss 2.3335187377929687\n",
            "iteration 40000: LSTM loss 2.3652468779981137\n",
            "iteration 42000: LSTM loss 2.3392141647040843\n",
            "iteration 44000: LSTM loss 2.3556635040044784\n",
            "iteration 46000: LSTM loss 2.3770727104544638\n",
            "iteration 48000: LSTM loss 2.368107646614313\n",
            "iteration 50000: LSTM loss 2.367257398277521\n",
            "iteration 52000: LSTM loss 2.364103769928217\n",
            "iteration 54000: LSTM loss 2.3508328654170034\n",
            "iteration 56000: LSTM loss 2.332151353985071\n",
            "iteration 58000: LSTM loss 2.3693977390527725\n",
            "iteration 60000: LSTM loss 2.3615634660720826\n",
            "iteration 62000: LSTM loss 2.3979937418103217\n",
            "iteration 64000: LSTM loss 2.431694599986076\n",
            "iteration 66000: LSTM loss 2.42819992813468\n",
            "iteration 68000: LSTM loss 2.4760338747799397\n",
            "iteration 70000: LSTM loss 2.4386577992141247\n",
            "iteration 72000: LSTM loss 2.413323329657316\n",
            "iteration 74000: LSTM loss 2.4037818268239497\n",
            "iteration 76000: LSTM loss 2.4015670643448828\n",
            "iteration 78000: LSTM loss 2.39272616109252\n",
            "iteration 80000: LSTM loss 2.3632870860397817\n",
            "iteration 82000: LSTM loss 2.3482317591011523\n",
            "iteration 84000: LSTM loss 2.3438755937218665\n",
            "iteration 86000: LSTM loss 2.37225936794281\n",
            "iteration 88000: LSTM loss 2.405425829589367\n",
            "iteration 90000: LSTM loss 2.376600411117077\n",
            "iteration 92000: LSTM loss 2.3758933107256888\n",
            "iteration 94000: LSTM loss 2.3756391523480413\n",
            "iteration 96000: LSTM loss 2.4037468809485434\n",
            "iteration 98000: LSTM loss 2.378992960393429\n",
            "iteration 100000: LSTM loss 2.391476943731308\n"
          ]
        },
        {
          "output_type": "display_data",
          "data": {
            "text/plain": [
              "<Figure size 720x432 with 1 Axes>"
            ],
            "image/svg+xml": "<?xml version=\"1.0\" encoding=\"utf-8\" standalone=\"no\"?>\n<!DOCTYPE svg PUBLIC \"-//W3C//DTD SVG 1.1//EN\"\n  \"http://www.w3.org/Graphics/SVG/1.1/DTD/svg11.dtd\">\n<!-- Created with matplotlib (https://matplotlib.org/) -->\n<svg height=\"357.238125pt\" version=\"1.1\" viewBox=\"0 0 608.028125 357.238125\" width=\"608.028125pt\" xmlns=\"http://www.w3.org/2000/svg\" xmlns:xlink=\"http://www.w3.org/1999/xlink\">\n <defs>\n  <style type=\"text/css\">\n*{stroke-linecap:butt;stroke-linejoin:round;}\n  </style>\n </defs>\n <g id=\"figure_1\">\n  <g id=\"patch_1\">\n   <path d=\"M 0 357.238125 \nL 608.028125 357.238125 \nL 608.028125 0 \nL 0 0 \nz\n\" style=\"fill:none;\"/>\n  </g>\n  <g id=\"axes_1\">\n   <g id=\"patch_2\">\n    <path d=\"M 42.828125 333.36 \nL 600.828125 333.36 \nL 600.828125 7.2 \nL 42.828125 7.2 \nz\n\" style=\"fill:#ffffff;\"/>\n   </g>\n   <g id=\"matplotlib.axis_1\">\n    <g id=\"xtick_1\">\n     <g id=\"line2d_1\">\n      <defs>\n       <path d=\"M 0 0 \nL 0 3.5 \n\" id=\"ma7b026215e\" style=\"stroke:#000000;stroke-width:0.8;\"/>\n      </defs>\n      <g>\n       <use style=\"stroke:#000000;stroke-width:0.8;\" x=\"57.839257\" xlink:href=\"#ma7b026215e\" y=\"333.36\"/>\n      </g>\n     </g>\n     <g id=\"text_1\">\n      <!-- 0 -->\n      <defs>\n       <path d=\"M 31.78125 66.40625 \nQ 24.171875 66.40625 20.328125 58.90625 \nQ 16.5 51.421875 16.5 36.375 \nQ 16.5 21.390625 20.328125 13.890625 \nQ 24.171875 6.390625 31.78125 6.390625 \nQ 39.453125 6.390625 43.28125 13.890625 \nQ 47.125 21.390625 47.125 36.375 \nQ 47.125 51.421875 43.28125 58.90625 \nQ 39.453125 66.40625 31.78125 66.40625 \nz\nM 31.78125 74.21875 \nQ 44.046875 74.21875 50.515625 64.515625 \nQ 56.984375 54.828125 56.984375 36.375 \nQ 56.984375 17.96875 50.515625 8.265625 \nQ 44.046875 -1.421875 31.78125 -1.421875 \nQ 19.53125 -1.421875 13.0625 8.265625 \nQ 6.59375 17.96875 6.59375 36.375 \nQ 6.59375 54.828125 13.0625 64.515625 \nQ 19.53125 74.21875 31.78125 74.21875 \nz\n\" id=\"DejaVuSans-48\"/>\n      </defs>\n      <g transform=\"translate(54.658007 347.958438)scale(0.1 -0.1)\">\n       <use xlink:href=\"#DejaVuSans-48\"/>\n      </g>\n     </g>\n    </g>\n    <g id=\"xtick_2\">\n     <g id=\"line2d_2\">\n      <g>\n       <use style=\"stroke:#000000;stroke-width:0.8;\" x=\"161.364303\" xlink:href=\"#ma7b026215e\" y=\"333.36\"/>\n      </g>\n     </g>\n     <g id=\"text_2\">\n      <!-- 20000 -->\n      <defs>\n       <path d=\"M 19.1875 8.296875 \nL 53.609375 8.296875 \nL 53.609375 0 \nL 7.328125 0 \nL 7.328125 8.296875 \nQ 12.9375 14.109375 22.625 23.890625 \nQ 32.328125 33.6875 34.8125 36.53125 \nQ 39.546875 41.84375 41.421875 45.53125 \nQ 43.3125 49.21875 43.3125 52.78125 \nQ 43.3125 58.59375 39.234375 62.25 \nQ 35.15625 65.921875 28.609375 65.921875 \nQ 23.96875 65.921875 18.8125 64.3125 \nQ 13.671875 62.703125 7.8125 59.421875 \nL 7.8125 69.390625 \nQ 13.765625 71.78125 18.9375 73 \nQ 24.125 74.21875 28.421875 74.21875 \nQ 39.75 74.21875 46.484375 68.546875 \nQ 53.21875 62.890625 53.21875 53.421875 \nQ 53.21875 48.921875 51.53125 44.890625 \nQ 49.859375 40.875 45.40625 35.40625 \nQ 44.1875 33.984375 37.640625 27.21875 \nQ 31.109375 20.453125 19.1875 8.296875 \nz\n\" id=\"DejaVuSans-50\"/>\n      </defs>\n      <g transform=\"translate(145.458053 347.958438)scale(0.1 -0.1)\">\n       <use xlink:href=\"#DejaVuSans-50\"/>\n       <use x=\"63.623047\" xlink:href=\"#DejaVuSans-48\"/>\n       <use x=\"127.246094\" xlink:href=\"#DejaVuSans-48\"/>\n       <use x=\"190.869141\" xlink:href=\"#DejaVuSans-48\"/>\n       <use x=\"254.492188\" xlink:href=\"#DejaVuSans-48\"/>\n      </g>\n     </g>\n    </g>\n    <g id=\"xtick_3\">\n     <g id=\"line2d_3\">\n      <g>\n       <use style=\"stroke:#000000;stroke-width:0.8;\" x=\"264.889349\" xlink:href=\"#ma7b026215e\" y=\"333.36\"/>\n      </g>\n     </g>\n     <g id=\"text_3\">\n      <!-- 40000 -->\n      <defs>\n       <path d=\"M 37.796875 64.3125 \nL 12.890625 25.390625 \nL 37.796875 25.390625 \nz\nM 35.203125 72.90625 \nL 47.609375 72.90625 \nL 47.609375 25.390625 \nL 58.015625 25.390625 \nL 58.015625 17.1875 \nL 47.609375 17.1875 \nL 47.609375 0 \nL 37.796875 0 \nL 37.796875 17.1875 \nL 4.890625 17.1875 \nL 4.890625 26.703125 \nz\n\" id=\"DejaVuSans-52\"/>\n      </defs>\n      <g transform=\"translate(248.983099 347.958438)scale(0.1 -0.1)\">\n       <use xlink:href=\"#DejaVuSans-52\"/>\n       <use x=\"63.623047\" xlink:href=\"#DejaVuSans-48\"/>\n       <use x=\"127.246094\" xlink:href=\"#DejaVuSans-48\"/>\n       <use x=\"190.869141\" xlink:href=\"#DejaVuSans-48\"/>\n       <use x=\"254.492188\" xlink:href=\"#DejaVuSans-48\"/>\n      </g>\n     </g>\n    </g>\n    <g id=\"xtick_4\">\n     <g id=\"line2d_4\">\n      <g>\n       <use style=\"stroke:#000000;stroke-width:0.8;\" x=\"368.414396\" xlink:href=\"#ma7b026215e\" y=\"333.36\"/>\n      </g>\n     </g>\n     <g id=\"text_4\">\n      <!-- 60000 -->\n      <defs>\n       <path d=\"M 33.015625 40.375 \nQ 26.375 40.375 22.484375 35.828125 \nQ 18.609375 31.296875 18.609375 23.390625 \nQ 18.609375 15.53125 22.484375 10.953125 \nQ 26.375 6.390625 33.015625 6.390625 \nQ 39.65625 6.390625 43.53125 10.953125 \nQ 47.40625 15.53125 47.40625 23.390625 \nQ 47.40625 31.296875 43.53125 35.828125 \nQ 39.65625 40.375 33.015625 40.375 \nz\nM 52.59375 71.296875 \nL 52.59375 62.3125 \nQ 48.875 64.0625 45.09375 64.984375 \nQ 41.3125 65.921875 37.59375 65.921875 \nQ 27.828125 65.921875 22.671875 59.328125 \nQ 17.53125 52.734375 16.796875 39.40625 \nQ 19.671875 43.65625 24.015625 45.921875 \nQ 28.375 48.1875 33.59375 48.1875 \nQ 44.578125 48.1875 50.953125 41.515625 \nQ 57.328125 34.859375 57.328125 23.390625 \nQ 57.328125 12.15625 50.6875 5.359375 \nQ 44.046875 -1.421875 33.015625 -1.421875 \nQ 20.359375 -1.421875 13.671875 8.265625 \nQ 6.984375 17.96875 6.984375 36.375 \nQ 6.984375 53.65625 15.1875 63.9375 \nQ 23.390625 74.21875 37.203125 74.21875 \nQ 40.921875 74.21875 44.703125 73.484375 \nQ 48.484375 72.75 52.59375 71.296875 \nz\n\" id=\"DejaVuSans-54\"/>\n      </defs>\n      <g transform=\"translate(352.508146 347.958438)scale(0.1 -0.1)\">\n       <use xlink:href=\"#DejaVuSans-54\"/>\n       <use x=\"63.623047\" xlink:href=\"#DejaVuSans-48\"/>\n       <use x=\"127.246094\" xlink:href=\"#DejaVuSans-48\"/>\n       <use x=\"190.869141\" xlink:href=\"#DejaVuSans-48\"/>\n       <use x=\"254.492188\" xlink:href=\"#DejaVuSans-48\"/>\n      </g>\n     </g>\n    </g>\n    <g id=\"xtick_5\">\n     <g id=\"line2d_5\">\n      <g>\n       <use style=\"stroke:#000000;stroke-width:0.8;\" x=\"471.939442\" xlink:href=\"#ma7b026215e\" y=\"333.36\"/>\n      </g>\n     </g>\n     <g id=\"text_5\">\n      <!-- 80000 -->\n      <defs>\n       <path d=\"M 31.78125 34.625 \nQ 24.75 34.625 20.71875 30.859375 \nQ 16.703125 27.09375 16.703125 20.515625 \nQ 16.703125 13.921875 20.71875 10.15625 \nQ 24.75 6.390625 31.78125 6.390625 \nQ 38.8125 6.390625 42.859375 10.171875 \nQ 46.921875 13.96875 46.921875 20.515625 \nQ 46.921875 27.09375 42.890625 30.859375 \nQ 38.875 34.625 31.78125 34.625 \nz\nM 21.921875 38.8125 \nQ 15.578125 40.375 12.03125 44.71875 \nQ 8.5 49.078125 8.5 55.328125 \nQ 8.5 64.0625 14.71875 69.140625 \nQ 20.953125 74.21875 31.78125 74.21875 \nQ 42.671875 74.21875 48.875 69.140625 \nQ 55.078125 64.0625 55.078125 55.328125 \nQ 55.078125 49.078125 51.53125 44.71875 \nQ 48 40.375 41.703125 38.8125 \nQ 48.828125 37.15625 52.796875 32.3125 \nQ 56.78125 27.484375 56.78125 20.515625 \nQ 56.78125 9.90625 50.3125 4.234375 \nQ 43.84375 -1.421875 31.78125 -1.421875 \nQ 19.734375 -1.421875 13.25 4.234375 \nQ 6.78125 9.90625 6.78125 20.515625 \nQ 6.78125 27.484375 10.78125 32.3125 \nQ 14.796875 37.15625 21.921875 38.8125 \nz\nM 18.3125 54.390625 \nQ 18.3125 48.734375 21.84375 45.5625 \nQ 25.390625 42.390625 31.78125 42.390625 \nQ 38.140625 42.390625 41.71875 45.5625 \nQ 45.3125 48.734375 45.3125 54.390625 \nQ 45.3125 60.0625 41.71875 63.234375 \nQ 38.140625 66.40625 31.78125 66.40625 \nQ 25.390625 66.40625 21.84375 63.234375 \nQ 18.3125 60.0625 18.3125 54.390625 \nz\n\" id=\"DejaVuSans-56\"/>\n      </defs>\n      <g transform=\"translate(456.033192 347.958438)scale(0.1 -0.1)\">\n       <use xlink:href=\"#DejaVuSans-56\"/>\n       <use x=\"63.623047\" xlink:href=\"#DejaVuSans-48\"/>\n       <use x=\"127.246094\" xlink:href=\"#DejaVuSans-48\"/>\n       <use x=\"190.869141\" xlink:href=\"#DejaVuSans-48\"/>\n       <use x=\"254.492188\" xlink:href=\"#DejaVuSans-48\"/>\n      </g>\n     </g>\n    </g>\n    <g id=\"xtick_6\">\n     <g id=\"line2d_6\">\n      <g>\n       <use style=\"stroke:#000000;stroke-width:0.8;\" x=\"575.464489\" xlink:href=\"#ma7b026215e\" y=\"333.36\"/>\n      </g>\n     </g>\n     <g id=\"text_6\">\n      <!-- 100000 -->\n      <defs>\n       <path d=\"M 12.40625 8.296875 \nL 28.515625 8.296875 \nL 28.515625 63.921875 \nL 10.984375 60.40625 \nL 10.984375 69.390625 \nL 28.421875 72.90625 \nL 38.28125 72.90625 \nL 38.28125 8.296875 \nL 54.390625 8.296875 \nL 54.390625 0 \nL 12.40625 0 \nz\n\" id=\"DejaVuSans-49\"/>\n      </defs>\n      <g transform=\"translate(556.376989 347.958438)scale(0.1 -0.1)\">\n       <use xlink:href=\"#DejaVuSans-49\"/>\n       <use x=\"63.623047\" xlink:href=\"#DejaVuSans-48\"/>\n       <use x=\"127.246094\" xlink:href=\"#DejaVuSans-48\"/>\n       <use x=\"190.869141\" xlink:href=\"#DejaVuSans-48\"/>\n       <use x=\"254.492188\" xlink:href=\"#DejaVuSans-48\"/>\n       <use x=\"318.115234\" xlink:href=\"#DejaVuSans-48\"/>\n      </g>\n     </g>\n    </g>\n   </g>\n   <g id=\"matplotlib.axis_2\">\n    <g id=\"ytick_1\">\n     <g id=\"line2d_7\">\n      <defs>\n       <path d=\"M 0 0 \nL -3.5 0 \n\" id=\"m4bef90a137\" style=\"stroke:#000000;stroke-width:0.8;\"/>\n      </defs>\n      <g>\n       <use style=\"stroke:#000000;stroke-width:0.8;\" x=\"42.828125\" xlink:href=\"#m4bef90a137\" y=\"320.740394\"/>\n      </g>\n     </g>\n     <g id=\"text_7\">\n      <!-- 2.300 -->\n      <defs>\n       <path d=\"M 10.6875 12.40625 \nL 21 12.40625 \nL 21 0 \nL 10.6875 0 \nz\n\" id=\"DejaVuSans-46\"/>\n       <path d=\"M 40.578125 39.3125 \nQ 47.65625 37.796875 51.625 33 \nQ 55.609375 28.21875 55.609375 21.1875 \nQ 55.609375 10.40625 48.1875 4.484375 \nQ 40.765625 -1.421875 27.09375 -1.421875 \nQ 22.515625 -1.421875 17.65625 -0.515625 \nQ 12.796875 0.390625 7.625 2.203125 \nL 7.625 11.71875 \nQ 11.71875 9.328125 16.59375 8.109375 \nQ 21.484375 6.890625 26.8125 6.890625 \nQ 36.078125 6.890625 40.9375 10.546875 \nQ 45.796875 14.203125 45.796875 21.1875 \nQ 45.796875 27.640625 41.28125 31.265625 \nQ 36.765625 34.90625 28.71875 34.90625 \nL 20.21875 34.90625 \nL 20.21875 43.015625 \nL 29.109375 43.015625 \nQ 36.375 43.015625 40.234375 45.921875 \nQ 44.09375 48.828125 44.09375 54.296875 \nQ 44.09375 59.90625 40.109375 62.90625 \nQ 36.140625 65.921875 28.71875 65.921875 \nQ 24.65625 65.921875 20.015625 65.03125 \nQ 15.375 64.15625 9.8125 62.3125 \nL 9.8125 71.09375 \nQ 15.4375 72.65625 20.34375 73.4375 \nQ 25.25 74.21875 29.59375 74.21875 \nQ 40.828125 74.21875 47.359375 69.109375 \nQ 53.90625 64.015625 53.90625 55.328125 \nQ 53.90625 49.265625 50.4375 45.09375 \nQ 46.96875 40.921875 40.578125 39.3125 \nz\n\" id=\"DejaVuSans-51\"/>\n      </defs>\n      <g transform=\"translate(7.2 324.539612)scale(0.1 -0.1)\">\n       <use xlink:href=\"#DejaVuSans-50\"/>\n       <use x=\"63.623047\" xlink:href=\"#DejaVuSans-46\"/>\n       <use x=\"95.410156\" xlink:href=\"#DejaVuSans-51\"/>\n       <use x=\"159.033203\" xlink:href=\"#DejaVuSans-48\"/>\n       <use x=\"222.65625\" xlink:href=\"#DejaVuSans-48\"/>\n      </g>\n     </g>\n    </g>\n    <g id=\"ytick_2\">\n     <g id=\"line2d_8\">\n      <g>\n       <use style=\"stroke:#000000;stroke-width:0.8;\" x=\"42.828125\" xlink:href=\"#m4bef90a137\" y=\"278.31746\"/>\n      </g>\n     </g>\n     <g id=\"text_8\">\n      <!-- 2.325 -->\n      <defs>\n       <path d=\"M 10.796875 72.90625 \nL 49.515625 72.90625 \nL 49.515625 64.59375 \nL 19.828125 64.59375 \nL 19.828125 46.734375 \nQ 21.96875 47.46875 24.109375 47.828125 \nQ 26.265625 48.1875 28.421875 48.1875 \nQ 40.625 48.1875 47.75 41.5 \nQ 54.890625 34.8125 54.890625 23.390625 \nQ 54.890625 11.625 47.5625 5.09375 \nQ 40.234375 -1.421875 26.90625 -1.421875 \nQ 22.3125 -1.421875 17.546875 -0.640625 \nQ 12.796875 0.140625 7.71875 1.703125 \nL 7.71875 11.625 \nQ 12.109375 9.234375 16.796875 8.0625 \nQ 21.484375 6.890625 26.703125 6.890625 \nQ 35.15625 6.890625 40.078125 11.328125 \nQ 45.015625 15.765625 45.015625 23.390625 \nQ 45.015625 31 40.078125 35.4375 \nQ 35.15625 39.890625 26.703125 39.890625 \nQ 22.75 39.890625 18.8125 39.015625 \nQ 14.890625 38.140625 10.796875 36.28125 \nz\n\" id=\"DejaVuSans-53\"/>\n      </defs>\n      <g transform=\"translate(7.2 282.116678)scale(0.1 -0.1)\">\n       <use xlink:href=\"#DejaVuSans-50\"/>\n       <use x=\"63.623047\" xlink:href=\"#DejaVuSans-46\"/>\n       <use x=\"95.410156\" xlink:href=\"#DejaVuSans-51\"/>\n       <use x=\"159.033203\" xlink:href=\"#DejaVuSans-50\"/>\n       <use x=\"222.65625\" xlink:href=\"#DejaVuSans-53\"/>\n      </g>\n     </g>\n    </g>\n    <g id=\"ytick_3\">\n     <g id=\"line2d_9\">\n      <g>\n       <use style=\"stroke:#000000;stroke-width:0.8;\" x=\"42.828125\" xlink:href=\"#m4bef90a137\" y=\"235.894525\"/>\n      </g>\n     </g>\n     <g id=\"text_9\">\n      <!-- 2.350 -->\n      <g transform=\"translate(7.2 239.693744)scale(0.1 -0.1)\">\n       <use xlink:href=\"#DejaVuSans-50\"/>\n       <use x=\"63.623047\" xlink:href=\"#DejaVuSans-46\"/>\n       <use x=\"95.410156\" xlink:href=\"#DejaVuSans-51\"/>\n       <use x=\"159.033203\" xlink:href=\"#DejaVuSans-53\"/>\n       <use x=\"222.65625\" xlink:href=\"#DejaVuSans-48\"/>\n      </g>\n     </g>\n    </g>\n    <g id=\"ytick_4\">\n     <g id=\"line2d_10\">\n      <g>\n       <use style=\"stroke:#000000;stroke-width:0.8;\" x=\"42.828125\" xlink:href=\"#m4bef90a137\" y=\"193.471591\"/>\n      </g>\n     </g>\n     <g id=\"text_10\">\n      <!-- 2.375 -->\n      <defs>\n       <path d=\"M 8.203125 72.90625 \nL 55.078125 72.90625 \nL 55.078125 68.703125 \nL 28.609375 0 \nL 18.3125 0 \nL 43.21875 64.59375 \nL 8.203125 64.59375 \nz\n\" id=\"DejaVuSans-55\"/>\n      </defs>\n      <g transform=\"translate(7.2 197.27081)scale(0.1 -0.1)\">\n       <use xlink:href=\"#DejaVuSans-50\"/>\n       <use x=\"63.623047\" xlink:href=\"#DejaVuSans-46\"/>\n       <use x=\"95.410156\" xlink:href=\"#DejaVuSans-51\"/>\n       <use x=\"159.033203\" xlink:href=\"#DejaVuSans-55\"/>\n       <use x=\"222.65625\" xlink:href=\"#DejaVuSans-53\"/>\n      </g>\n     </g>\n    </g>\n    <g id=\"ytick_5\">\n     <g id=\"line2d_11\">\n      <g>\n       <use style=\"stroke:#000000;stroke-width:0.8;\" x=\"42.828125\" xlink:href=\"#m4bef90a137\" y=\"151.048657\"/>\n      </g>\n     </g>\n     <g id=\"text_11\">\n      <!-- 2.400 -->\n      <g transform=\"translate(7.2 154.847876)scale(0.1 -0.1)\">\n       <use xlink:href=\"#DejaVuSans-50\"/>\n       <use x=\"63.623047\" xlink:href=\"#DejaVuSans-46\"/>\n       <use x=\"95.410156\" xlink:href=\"#DejaVuSans-52\"/>\n       <use x=\"159.033203\" xlink:href=\"#DejaVuSans-48\"/>\n       <use x=\"222.65625\" xlink:href=\"#DejaVuSans-48\"/>\n      </g>\n     </g>\n    </g>\n    <g id=\"ytick_6\">\n     <g id=\"line2d_12\">\n      <g>\n       <use style=\"stroke:#000000;stroke-width:0.8;\" x=\"42.828125\" xlink:href=\"#m4bef90a137\" y=\"108.625723\"/>\n      </g>\n     </g>\n     <g id=\"text_12\">\n      <!-- 2.425 -->\n      <g transform=\"translate(7.2 112.424942)scale(0.1 -0.1)\">\n       <use xlink:href=\"#DejaVuSans-50\"/>\n       <use x=\"63.623047\" xlink:href=\"#DejaVuSans-46\"/>\n       <use x=\"95.410156\" xlink:href=\"#DejaVuSans-52\"/>\n       <use x=\"159.033203\" xlink:href=\"#DejaVuSans-50\"/>\n       <use x=\"222.65625\" xlink:href=\"#DejaVuSans-53\"/>\n      </g>\n     </g>\n    </g>\n    <g id=\"ytick_7\">\n     <g id=\"line2d_13\">\n      <g>\n       <use style=\"stroke:#000000;stroke-width:0.8;\" x=\"42.828125\" xlink:href=\"#m4bef90a137\" y=\"66.202789\"/>\n      </g>\n     </g>\n     <g id=\"text_13\">\n      <!-- 2.450 -->\n      <g transform=\"translate(7.2 70.002008)scale(0.1 -0.1)\">\n       <use xlink:href=\"#DejaVuSans-50\"/>\n       <use x=\"63.623047\" xlink:href=\"#DejaVuSans-46\"/>\n       <use x=\"95.410156\" xlink:href=\"#DejaVuSans-52\"/>\n       <use x=\"159.033203\" xlink:href=\"#DejaVuSans-53\"/>\n       <use x=\"222.65625\" xlink:href=\"#DejaVuSans-48\"/>\n      </g>\n     </g>\n    </g>\n    <g id=\"ytick_8\">\n     <g id=\"line2d_14\">\n      <g>\n       <use style=\"stroke:#000000;stroke-width:0.8;\" x=\"42.828125\" xlink:href=\"#m4bef90a137\" y=\"23.779855\"/>\n      </g>\n     </g>\n     <g id=\"text_14\">\n      <!-- 2.475 -->\n      <g transform=\"translate(7.2 27.579073)scale(0.1 -0.1)\">\n       <use xlink:href=\"#DejaVuSans-50\"/>\n       <use x=\"63.623047\" xlink:href=\"#DejaVuSans-46\"/>\n       <use x=\"95.410156\" xlink:href=\"#DejaVuSans-52\"/>\n       <use x=\"159.033203\" xlink:href=\"#DejaVuSans-55\"/>\n       <use x=\"222.65625\" xlink:href=\"#DejaVuSans-53\"/>\n      </g>\n     </g>\n    </g>\n   </g>\n   <g id=\"line2d_15\">\n    <path clip-path=\"url(#p1f8441ff98)\" d=\"M 68.191761 303.540206 \nL 78.544266 274.761228 \nL 88.896771 224.309119 \nL 99.249275 300.854749 \nL 109.60178 309.083151 \nL 119.954285 292.090497 \nL 130.306789 276.457797 \nL 140.659294 234.709155 \nL 151.011798 294.99464 \nL 161.364303 262.553646 \nL 171.716808 256.177457 \nL 182.069312 318.534545 \nL 192.421817 310.449912 \nL 202.774322 276.670962 \nL 213.126826 263.36051 \nL 223.479331 234.19331 \nL 233.831836 280.895612 \nL 244.18434 243.142596 \nL 254.536845 263.861865 \nL 264.889349 210.021833 \nL 275.241854 254.197197 \nL 285.594359 226.284027 \nL 295.946863 189.954373 \nL 306.299368 205.167345 \nL 316.651873 206.610147 \nL 327.004377 211.961593 \nL 337.356882 234.481222 \nL 347.709387 266.182203 \nL 358.061891 202.978165 \nL 368.414396 216.272279 \nL 378.766901 154.453111 \nL 389.119405 97.26554 \nL 399.47191 103.195709 \nL 409.824414 22.025455 \nL 420.176919 85.449566 \nL 430.529424 128.440068 \nL 440.881928 144.631209 \nL 451.234433 148.389478 \nL 461.586938 163.391761 \nL 471.939442 213.347438 \nL 482.291947 238.895084 \nL 492.644452 246.287137 \nL 502.996956 198.122217 \nL 513.349461 141.841473 \nL 523.701965 190.755826 \nL 534.05447 191.955717 \nL 544.406975 192.387003 \nL 554.759479 144.69051 \nL 565.111984 186.695867 \nL 575.464489 165.511579 \n\" style=\"fill:none;stroke:#1f77b4;stroke-linecap:square;stroke-width:1.5;\"/>\n   </g>\n   <g id=\"patch_3\">\n    <path d=\"M 42.828125 333.36 \nL 42.828125 7.2 \n\" style=\"fill:none;stroke:#000000;stroke-linecap:square;stroke-linejoin:miter;stroke-width:0.8;\"/>\n   </g>\n   <g id=\"patch_4\">\n    <path d=\"M 600.828125 333.36 \nL 600.828125 7.2 \n\" style=\"fill:none;stroke:#000000;stroke-linecap:square;stroke-linejoin:miter;stroke-width:0.8;\"/>\n   </g>\n   <g id=\"patch_5\">\n    <path d=\"M 42.828125 333.36 \nL 600.828125 333.36 \n\" style=\"fill:none;stroke:#000000;stroke-linecap:square;stroke-linejoin:miter;stroke-width:0.8;\"/>\n   </g>\n   <g id=\"patch_6\">\n    <path d=\"M 42.828125 7.2 \nL 600.828125 7.2 \n\" style=\"fill:none;stroke:#000000;stroke-linecap:square;stroke-linejoin:miter;stroke-width:0.8;\"/>\n   </g>\n   <g id=\"legend_1\">\n    <g id=\"patch_7\">\n     <path d=\"M 540.179688 29.878125 \nL 593.828125 29.878125 \nQ 595.828125 29.878125 595.828125 27.878125 \nL 595.828125 14.2 \nQ 595.828125 12.2 593.828125 12.2 \nL 540.179688 12.2 \nQ 538.179688 12.2 538.179688 14.2 \nL 538.179688 27.878125 \nQ 538.179688 29.878125 540.179688 29.878125 \nz\n\" style=\"fill:#ffffff;opacity:0.8;stroke:#cccccc;stroke-linejoin:miter;\"/>\n    </g>\n    <g id=\"line2d_16\">\n     <path d=\"M 542.179688 20.298438 \nL 562.179688 20.298438 \n\" style=\"fill:none;stroke:#1f77b4;stroke-linecap:square;stroke-width:1.5;\"/>\n    </g>\n    <g id=\"line2d_17\"/>\n    <g id=\"text_15\">\n     <!-- lstm -->\n     <defs>\n      <path d=\"M 9.421875 75.984375 \nL 18.40625 75.984375 \nL 18.40625 0 \nL 9.421875 0 \nz\n\" id=\"DejaVuSans-108\"/>\n      <path d=\"M 44.28125 53.078125 \nL 44.28125 44.578125 \nQ 40.484375 46.53125 36.375 47.5 \nQ 32.28125 48.484375 27.875 48.484375 \nQ 21.1875 48.484375 17.84375 46.4375 \nQ 14.5 44.390625 14.5 40.28125 \nQ 14.5 37.15625 16.890625 35.375 \nQ 19.28125 33.59375 26.515625 31.984375 \nL 29.59375 31.296875 \nQ 39.15625 29.25 43.1875 25.515625 \nQ 47.21875 21.78125 47.21875 15.09375 \nQ 47.21875 7.46875 41.1875 3.015625 \nQ 35.15625 -1.421875 24.609375 -1.421875 \nQ 20.21875 -1.421875 15.453125 -0.5625 \nQ 10.6875 0.296875 5.421875 2 \nL 5.421875 11.28125 \nQ 10.40625 8.6875 15.234375 7.390625 \nQ 20.0625 6.109375 24.8125 6.109375 \nQ 31.15625 6.109375 34.5625 8.28125 \nQ 37.984375 10.453125 37.984375 14.40625 \nQ 37.984375 18.0625 35.515625 20.015625 \nQ 33.0625 21.96875 24.703125 23.78125 \nL 21.578125 24.515625 \nQ 13.234375 26.265625 9.515625 29.90625 \nQ 5.8125 33.546875 5.8125 39.890625 \nQ 5.8125 47.609375 11.28125 51.796875 \nQ 16.75 56 26.8125 56 \nQ 31.78125 56 36.171875 55.265625 \nQ 40.578125 54.546875 44.28125 53.078125 \nz\n\" id=\"DejaVuSans-115\"/>\n      <path d=\"M 18.3125 70.21875 \nL 18.3125 54.6875 \nL 36.8125 54.6875 \nL 36.8125 47.703125 \nL 18.3125 47.703125 \nL 18.3125 18.015625 \nQ 18.3125 11.328125 20.140625 9.421875 \nQ 21.96875 7.515625 27.59375 7.515625 \nL 36.8125 7.515625 \nL 36.8125 0 \nL 27.59375 0 \nQ 17.1875 0 13.234375 3.875 \nQ 9.28125 7.765625 9.28125 18.015625 \nL 9.28125 47.703125 \nL 2.6875 47.703125 \nL 2.6875 54.6875 \nL 9.28125 54.6875 \nL 9.28125 70.21875 \nz\n\" id=\"DejaVuSans-116\"/>\n      <path d=\"M 52 44.1875 \nQ 55.375 50.25 60.0625 53.125 \nQ 64.75 56 71.09375 56 \nQ 79.640625 56 84.28125 50.015625 \nQ 88.921875 44.046875 88.921875 33.015625 \nL 88.921875 0 \nL 79.890625 0 \nL 79.890625 32.71875 \nQ 79.890625 40.578125 77.09375 44.375 \nQ 74.3125 48.1875 68.609375 48.1875 \nQ 61.625 48.1875 57.5625 43.546875 \nQ 53.515625 38.921875 53.515625 30.90625 \nL 53.515625 0 \nL 44.484375 0 \nL 44.484375 32.71875 \nQ 44.484375 40.625 41.703125 44.40625 \nQ 38.921875 48.1875 33.109375 48.1875 \nQ 26.21875 48.1875 22.15625 43.53125 \nQ 18.109375 38.875 18.109375 30.90625 \nL 18.109375 0 \nL 9.078125 0 \nL 9.078125 54.6875 \nL 18.109375 54.6875 \nL 18.109375 46.1875 \nQ 21.1875 51.21875 25.484375 53.609375 \nQ 29.78125 56 35.6875 56 \nQ 41.65625 56 45.828125 52.96875 \nQ 50 49.953125 52 44.1875 \nz\n\" id=\"DejaVuSans-109\"/>\n     </defs>\n     <g transform=\"translate(570.179688 23.798438)scale(0.1 -0.1)\">\n      <use xlink:href=\"#DejaVuSans-108\"/>\n      <use x=\"27.783203\" xlink:href=\"#DejaVuSans-115\"/>\n      <use x=\"79.882812\" xlink:href=\"#DejaVuSans-116\"/>\n      <use x=\"119.091797\" xlink:href=\"#DejaVuSans-109\"/>\n     </g>\n    </g>\n   </g>\n  </g>\n </g>\n <defs>\n  <clipPath id=\"p1f8441ff98\">\n   <rect height=\"326.16\" width=\"558\" x=\"42.828125\" y=\"7.2\"/>\n  </clipPath>\n </defs>\n</svg>\n"
          },
          "metadata": {
            "needs_background": "light"
          }
        }
      ]
    },
    {
      "cell_type": "code",
      "source": [],
      "metadata": {
        "id": "7eO0KZXQHVEW"
      },
      "execution_count": null,
      "outputs": []
    }
  ]
}