{
  "nbformat": 4,
  "nbformat_minor": 0,
  "metadata": {
    "colab": {
      "provenance": [],
      "toc_visible": true,
      "include_colab_link": true
    },
    "kernelspec": {
      "name": "python3",
      "display_name": "Python 3"
    },
    "widgets": {
      "application/vnd.jupyter.widget-state+json": {
        "8450326d916c421d884301065de65faa": {
          "model_module": "@jupyter-widgets/controls",
          "model_name": "HBoxModel",
          "model_module_version": "1.5.0",
          "state": {
            "_dom_classes": [],
            "_model_module": "@jupyter-widgets/controls",
            "_model_module_version": "1.5.0",
            "_model_name": "HBoxModel",
            "_view_count": null,
            "_view_module": "@jupyter-widgets/controls",
            "_view_module_version": "1.5.0",
            "_view_name": "HBoxView",
            "box_style": "",
            "children": [
              "IPY_MODEL_d4373f6c49e746f9b737ee5a5127f655",
              "IPY_MODEL_2b0090acb76140adb177bc20d2ed9d73",
              "IPY_MODEL_7b22b7a661a84f6292d4ba7fc51fc74d"
            ],
            "layout": "IPY_MODEL_bfa498dc7620442784c4f093c856805e"
          }
        },
        "d4373f6c49e746f9b737ee5a5127f655": {
          "model_module": "@jupyter-widgets/controls",
          "model_name": "HTMLModel",
          "model_module_version": "1.5.0",
          "state": {
            "_dom_classes": [],
            "_model_module": "@jupyter-widgets/controls",
            "_model_module_version": "1.5.0",
            "_model_name": "HTMLModel",
            "_view_count": null,
            "_view_module": "@jupyter-widgets/controls",
            "_view_module_version": "1.5.0",
            "_view_name": "HTMLView",
            "description": "",
            "description_tooltip": null,
            "layout": "IPY_MODEL_b2ae65a5ae1143d39503a1500e0a8365",
            "placeholder": "​",
            "style": "IPY_MODEL_f9a46f62c11f40f1bd5438fc335c62d8",
            "value": "100%"
          }
        },
        "2b0090acb76140adb177bc20d2ed9d73": {
          "model_module": "@jupyter-widgets/controls",
          "model_name": "FloatProgressModel",
          "model_module_version": "1.5.0",
          "state": {
            "_dom_classes": [],
            "_model_module": "@jupyter-widgets/controls",
            "_model_module_version": "1.5.0",
            "_model_name": "FloatProgressModel",
            "_view_count": null,
            "_view_module": "@jupyter-widgets/controls",
            "_view_module_version": "1.5.0",
            "_view_name": "ProgressView",
            "bar_style": "success",
            "description": "",
            "description_tooltip": null,
            "layout": "IPY_MODEL_7e67b8d1232e497cbd259b1418fa0342",
            "max": 100000,
            "min": 0,
            "orientation": "horizontal",
            "style": "IPY_MODEL_9eb399e0139b4abaa53421cfffdbb1ef",
            "value": 100000
          }
        },
        "7b22b7a661a84f6292d4ba7fc51fc74d": {
          "model_module": "@jupyter-widgets/controls",
          "model_name": "HTMLModel",
          "model_module_version": "1.5.0",
          "state": {
            "_dom_classes": [],
            "_model_module": "@jupyter-widgets/controls",
            "_model_module_version": "1.5.0",
            "_model_name": "HTMLModel",
            "_view_count": null,
            "_view_module": "@jupyter-widgets/controls",
            "_view_module_version": "1.5.0",
            "_view_name": "HTMLView",
            "description": "",
            "description_tooltip": null,
            "layout": "IPY_MODEL_77589400e0d845bb93c28b694f2ebe89",
            "placeholder": "​",
            "style": "IPY_MODEL_c40c1d4aff1d406599d3030f3f16e93a",
            "value": " 100000/100000 [02:53&lt;00:00, 588.16it/s]"
          }
        },
        "bfa498dc7620442784c4f093c856805e": {
          "model_module": "@jupyter-widgets/base",
          "model_name": "LayoutModel",
          "model_module_version": "1.2.0",
          "state": {
            "_model_module": "@jupyter-widgets/base",
            "_model_module_version": "1.2.0",
            "_model_name": "LayoutModel",
            "_view_count": null,
            "_view_module": "@jupyter-widgets/base",
            "_view_module_version": "1.2.0",
            "_view_name": "LayoutView",
            "align_content": null,
            "align_items": null,
            "align_self": null,
            "border": null,
            "bottom": null,
            "display": null,
            "flex": null,
            "flex_flow": null,
            "grid_area": null,
            "grid_auto_columns": null,
            "grid_auto_flow": null,
            "grid_auto_rows": null,
            "grid_column": null,
            "grid_gap": null,
            "grid_row": null,
            "grid_template_areas": null,
            "grid_template_columns": null,
            "grid_template_rows": null,
            "height": null,
            "justify_content": null,
            "justify_items": null,
            "left": null,
            "margin": null,
            "max_height": null,
            "max_width": null,
            "min_height": null,
            "min_width": null,
            "object_fit": null,
            "object_position": null,
            "order": null,
            "overflow": null,
            "overflow_x": null,
            "overflow_y": null,
            "padding": null,
            "right": null,
            "top": null,
            "visibility": null,
            "width": null
          }
        },
        "b2ae65a5ae1143d39503a1500e0a8365": {
          "model_module": "@jupyter-widgets/base",
          "model_name": "LayoutModel",
          "model_module_version": "1.2.0",
          "state": {
            "_model_module": "@jupyter-widgets/base",
            "_model_module_version": "1.2.0",
            "_model_name": "LayoutModel",
            "_view_count": null,
            "_view_module": "@jupyter-widgets/base",
            "_view_module_version": "1.2.0",
            "_view_name": "LayoutView",
            "align_content": null,
            "align_items": null,
            "align_self": null,
            "border": null,
            "bottom": null,
            "display": null,
            "flex": null,
            "flex_flow": null,
            "grid_area": null,
            "grid_auto_columns": null,
            "grid_auto_flow": null,
            "grid_auto_rows": null,
            "grid_column": null,
            "grid_gap": null,
            "grid_row": null,
            "grid_template_areas": null,
            "grid_template_columns": null,
            "grid_template_rows": null,
            "height": null,
            "justify_content": null,
            "justify_items": null,
            "left": null,
            "margin": null,
            "max_height": null,
            "max_width": null,
            "min_height": null,
            "min_width": null,
            "object_fit": null,
            "object_position": null,
            "order": null,
            "overflow": null,
            "overflow_x": null,
            "overflow_y": null,
            "padding": null,
            "right": null,
            "top": null,
            "visibility": null,
            "width": null
          }
        },
        "f9a46f62c11f40f1bd5438fc335c62d8": {
          "model_module": "@jupyter-widgets/controls",
          "model_name": "DescriptionStyleModel",
          "model_module_version": "1.5.0",
          "state": {
            "_model_module": "@jupyter-widgets/controls",
            "_model_module_version": "1.5.0",
            "_model_name": "DescriptionStyleModel",
            "_view_count": null,
            "_view_module": "@jupyter-widgets/base",
            "_view_module_version": "1.2.0",
            "_view_name": "StyleView",
            "description_width": ""
          }
        },
        "7e67b8d1232e497cbd259b1418fa0342": {
          "model_module": "@jupyter-widgets/base",
          "model_name": "LayoutModel",
          "model_module_version": "1.2.0",
          "state": {
            "_model_module": "@jupyter-widgets/base",
            "_model_module_version": "1.2.0",
            "_model_name": "LayoutModel",
            "_view_count": null,
            "_view_module": "@jupyter-widgets/base",
            "_view_module_version": "1.2.0",
            "_view_name": "LayoutView",
            "align_content": null,
            "align_items": null,
            "align_self": null,
            "border": null,
            "bottom": null,
            "display": null,
            "flex": null,
            "flex_flow": null,
            "grid_area": null,
            "grid_auto_columns": null,
            "grid_auto_flow": null,
            "grid_auto_rows": null,
            "grid_column": null,
            "grid_gap": null,
            "grid_row": null,
            "grid_template_areas": null,
            "grid_template_columns": null,
            "grid_template_rows": null,
            "height": null,
            "justify_content": null,
            "justify_items": null,
            "left": null,
            "margin": null,
            "max_height": null,
            "max_width": null,
            "min_height": null,
            "min_width": null,
            "object_fit": null,
            "object_position": null,
            "order": null,
            "overflow": null,
            "overflow_x": null,
            "overflow_y": null,
            "padding": null,
            "right": null,
            "top": null,
            "visibility": null,
            "width": null
          }
        },
        "9eb399e0139b4abaa53421cfffdbb1ef": {
          "model_module": "@jupyter-widgets/controls",
          "model_name": "ProgressStyleModel",
          "model_module_version": "1.5.0",
          "state": {
            "_model_module": "@jupyter-widgets/controls",
            "_model_module_version": "1.5.0",
            "_model_name": "ProgressStyleModel",
            "_view_count": null,
            "_view_module": "@jupyter-widgets/base",
            "_view_module_version": "1.2.0",
            "_view_name": "StyleView",
            "bar_color": null,
            "description_width": ""
          }
        },
        "77589400e0d845bb93c28b694f2ebe89": {
          "model_module": "@jupyter-widgets/base",
          "model_name": "LayoutModel",
          "model_module_version": "1.2.0",
          "state": {
            "_model_module": "@jupyter-widgets/base",
            "_model_module_version": "1.2.0",
            "_model_name": "LayoutModel",
            "_view_count": null,
            "_view_module": "@jupyter-widgets/base",
            "_view_module_version": "1.2.0",
            "_view_name": "LayoutView",
            "align_content": null,
            "align_items": null,
            "align_self": null,
            "border": null,
            "bottom": null,
            "display": null,
            "flex": null,
            "flex_flow": null,
            "grid_area": null,
            "grid_auto_columns": null,
            "grid_auto_flow": null,
            "grid_auto_rows": null,
            "grid_column": null,
            "grid_gap": null,
            "grid_row": null,
            "grid_template_areas": null,
            "grid_template_columns": null,
            "grid_template_rows": null,
            "height": null,
            "justify_content": null,
            "justify_items": null,
            "left": null,
            "margin": null,
            "max_height": null,
            "max_width": null,
            "min_height": null,
            "min_width": null,
            "object_fit": null,
            "object_position": null,
            "order": null,
            "overflow": null,
            "overflow_x": null,
            "overflow_y": null,
            "padding": null,
            "right": null,
            "top": null,
            "visibility": null,
            "width": null
          }
        },
        "c40c1d4aff1d406599d3030f3f16e93a": {
          "model_module": "@jupyter-widgets/controls",
          "model_name": "DescriptionStyleModel",
          "model_module_version": "1.5.0",
          "state": {
            "_model_module": "@jupyter-widgets/controls",
            "_model_module_version": "1.5.0",
            "_model_name": "DescriptionStyleModel",
            "_view_count": null,
            "_view_module": "@jupyter-widgets/base",
            "_view_module_version": "1.2.0",
            "_view_name": "StyleView",
            "description_width": ""
          }
        },
        "1a7e9de830224a198028a78ad8ae58a9": {
          "model_module": "@jupyter-widgets/controls",
          "model_name": "HBoxModel",
          "model_module_version": "1.5.0",
          "state": {
            "_dom_classes": [],
            "_model_module": "@jupyter-widgets/controls",
            "_model_module_version": "1.5.0",
            "_model_name": "HBoxModel",
            "_view_count": null,
            "_view_module": "@jupyter-widgets/controls",
            "_view_module_version": "1.5.0",
            "_view_name": "HBoxView",
            "box_style": "",
            "children": [
              "IPY_MODEL_ff366618ff274736a0a5112bdd2bb780",
              "IPY_MODEL_de073d5488bd4c4393eef26d2014b796",
              "IPY_MODEL_a101a13ab8f840a58232a78315f7a53d"
            ],
            "layout": "IPY_MODEL_09bf62a6c2ac489fb1dec5c167cd21bb"
          }
        },
        "ff366618ff274736a0a5112bdd2bb780": {
          "model_module": "@jupyter-widgets/controls",
          "model_name": "HTMLModel",
          "model_module_version": "1.5.0",
          "state": {
            "_dom_classes": [],
            "_model_module": "@jupyter-widgets/controls",
            "_model_module_version": "1.5.0",
            "_model_name": "HTMLModel",
            "_view_count": null,
            "_view_module": "@jupyter-widgets/controls",
            "_view_module_version": "1.5.0",
            "_view_name": "HTMLView",
            "description": "",
            "description_tooltip": null,
            "layout": "IPY_MODEL_add194585f5848d59b898d3393961332",
            "placeholder": "​",
            "style": "IPY_MODEL_fb076bab4bc649debd6f1f745429f7ed",
            "value": "100%"
          }
        },
        "de073d5488bd4c4393eef26d2014b796": {
          "model_module": "@jupyter-widgets/controls",
          "model_name": "FloatProgressModel",
          "model_module_version": "1.5.0",
          "state": {
            "_dom_classes": [],
            "_model_module": "@jupyter-widgets/controls",
            "_model_module_version": "1.5.0",
            "_model_name": "FloatProgressModel",
            "_view_count": null,
            "_view_module": "@jupyter-widgets/controls",
            "_view_module_version": "1.5.0",
            "_view_name": "ProgressView",
            "bar_style": "success",
            "description": "",
            "description_tooltip": null,
            "layout": "IPY_MODEL_98e230b332e640dea06ea70a2db990a3",
            "max": 100000,
            "min": 0,
            "orientation": "horizontal",
            "style": "IPY_MODEL_8a5d5cdbdcab4798b635f9cdc7204cc1",
            "value": 100000
          }
        },
        "a101a13ab8f840a58232a78315f7a53d": {
          "model_module": "@jupyter-widgets/controls",
          "model_name": "HTMLModel",
          "model_module_version": "1.5.0",
          "state": {
            "_dom_classes": [],
            "_model_module": "@jupyter-widgets/controls",
            "_model_module_version": "1.5.0",
            "_model_name": "HTMLModel",
            "_view_count": null,
            "_view_module": "@jupyter-widgets/controls",
            "_view_module_version": "1.5.0",
            "_view_name": "HTMLView",
            "description": "",
            "description_tooltip": null,
            "layout": "IPY_MODEL_5ebbd14933b74770bfb272410b8f9a96",
            "placeholder": "​",
            "style": "IPY_MODEL_845429fb218b43bfade28ae8e52b90bf",
            "value": " 100000/100000 [04:56&lt;00:00, 360.67it/s]"
          }
        },
        "09bf62a6c2ac489fb1dec5c167cd21bb": {
          "model_module": "@jupyter-widgets/base",
          "model_name": "LayoutModel",
          "model_module_version": "1.2.0",
          "state": {
            "_model_module": "@jupyter-widgets/base",
            "_model_module_version": "1.2.0",
            "_model_name": "LayoutModel",
            "_view_count": null,
            "_view_module": "@jupyter-widgets/base",
            "_view_module_version": "1.2.0",
            "_view_name": "LayoutView",
            "align_content": null,
            "align_items": null,
            "align_self": null,
            "border": null,
            "bottom": null,
            "display": null,
            "flex": null,
            "flex_flow": null,
            "grid_area": null,
            "grid_auto_columns": null,
            "grid_auto_flow": null,
            "grid_auto_rows": null,
            "grid_column": null,
            "grid_gap": null,
            "grid_row": null,
            "grid_template_areas": null,
            "grid_template_columns": null,
            "grid_template_rows": null,
            "height": null,
            "justify_content": null,
            "justify_items": null,
            "left": null,
            "margin": null,
            "max_height": null,
            "max_width": null,
            "min_height": null,
            "min_width": null,
            "object_fit": null,
            "object_position": null,
            "order": null,
            "overflow": null,
            "overflow_x": null,
            "overflow_y": null,
            "padding": null,
            "right": null,
            "top": null,
            "visibility": null,
            "width": null
          }
        },
        "add194585f5848d59b898d3393961332": {
          "model_module": "@jupyter-widgets/base",
          "model_name": "LayoutModel",
          "model_module_version": "1.2.0",
          "state": {
            "_model_module": "@jupyter-widgets/base",
            "_model_module_version": "1.2.0",
            "_model_name": "LayoutModel",
            "_view_count": null,
            "_view_module": "@jupyter-widgets/base",
            "_view_module_version": "1.2.0",
            "_view_name": "LayoutView",
            "align_content": null,
            "align_items": null,
            "align_self": null,
            "border": null,
            "bottom": null,
            "display": null,
            "flex": null,
            "flex_flow": null,
            "grid_area": null,
            "grid_auto_columns": null,
            "grid_auto_flow": null,
            "grid_auto_rows": null,
            "grid_column": null,
            "grid_gap": null,
            "grid_row": null,
            "grid_template_areas": null,
            "grid_template_columns": null,
            "grid_template_rows": null,
            "height": null,
            "justify_content": null,
            "justify_items": null,
            "left": null,
            "margin": null,
            "max_height": null,
            "max_width": null,
            "min_height": null,
            "min_width": null,
            "object_fit": null,
            "object_position": null,
            "order": null,
            "overflow": null,
            "overflow_x": null,
            "overflow_y": null,
            "padding": null,
            "right": null,
            "top": null,
            "visibility": null,
            "width": null
          }
        },
        "fb076bab4bc649debd6f1f745429f7ed": {
          "model_module": "@jupyter-widgets/controls",
          "model_name": "DescriptionStyleModel",
          "model_module_version": "1.5.0",
          "state": {
            "_model_module": "@jupyter-widgets/controls",
            "_model_module_version": "1.5.0",
            "_model_name": "DescriptionStyleModel",
            "_view_count": null,
            "_view_module": "@jupyter-widgets/base",
            "_view_module_version": "1.2.0",
            "_view_name": "StyleView",
            "description_width": ""
          }
        },
        "98e230b332e640dea06ea70a2db990a3": {
          "model_module": "@jupyter-widgets/base",
          "model_name": "LayoutModel",
          "model_module_version": "1.2.0",
          "state": {
            "_model_module": "@jupyter-widgets/base",
            "_model_module_version": "1.2.0",
            "_model_name": "LayoutModel",
            "_view_count": null,
            "_view_module": "@jupyter-widgets/base",
            "_view_module_version": "1.2.0",
            "_view_name": "LayoutView",
            "align_content": null,
            "align_items": null,
            "align_self": null,
            "border": null,
            "bottom": null,
            "display": null,
            "flex": null,
            "flex_flow": null,
            "grid_area": null,
            "grid_auto_columns": null,
            "grid_auto_flow": null,
            "grid_auto_rows": null,
            "grid_column": null,
            "grid_gap": null,
            "grid_row": null,
            "grid_template_areas": null,
            "grid_template_columns": null,
            "grid_template_rows": null,
            "height": null,
            "justify_content": null,
            "justify_items": null,
            "left": null,
            "margin": null,
            "max_height": null,
            "max_width": null,
            "min_height": null,
            "min_width": null,
            "object_fit": null,
            "object_position": null,
            "order": null,
            "overflow": null,
            "overflow_x": null,
            "overflow_y": null,
            "padding": null,
            "right": null,
            "top": null,
            "visibility": null,
            "width": null
          }
        },
        "8a5d5cdbdcab4798b635f9cdc7204cc1": {
          "model_module": "@jupyter-widgets/controls",
          "model_name": "ProgressStyleModel",
          "model_module_version": "1.5.0",
          "state": {
            "_model_module": "@jupyter-widgets/controls",
            "_model_module_version": "1.5.0",
            "_model_name": "ProgressStyleModel",
            "_view_count": null,
            "_view_module": "@jupyter-widgets/base",
            "_view_module_version": "1.2.0",
            "_view_name": "StyleView",
            "bar_color": null,
            "description_width": ""
          }
        },
        "5ebbd14933b74770bfb272410b8f9a96": {
          "model_module": "@jupyter-widgets/base",
          "model_name": "LayoutModel",
          "model_module_version": "1.2.0",
          "state": {
            "_model_module": "@jupyter-widgets/base",
            "_model_module_version": "1.2.0",
            "_model_name": "LayoutModel",
            "_view_count": null,
            "_view_module": "@jupyter-widgets/base",
            "_view_module_version": "1.2.0",
            "_view_name": "LayoutView",
            "align_content": null,
            "align_items": null,
            "align_self": null,
            "border": null,
            "bottom": null,
            "display": null,
            "flex": null,
            "flex_flow": null,
            "grid_area": null,
            "grid_auto_columns": null,
            "grid_auto_flow": null,
            "grid_auto_rows": null,
            "grid_column": null,
            "grid_gap": null,
            "grid_row": null,
            "grid_template_areas": null,
            "grid_template_columns": null,
            "grid_template_rows": null,
            "height": null,
            "justify_content": null,
            "justify_items": null,
            "left": null,
            "margin": null,
            "max_height": null,
            "max_width": null,
            "min_height": null,
            "min_width": null,
            "object_fit": null,
            "object_position": null,
            "order": null,
            "overflow": null,
            "overflow_x": null,
            "overflow_y": null,
            "padding": null,
            "right": null,
            "top": null,
            "visibility": null,
            "width": null
          }
        },
        "845429fb218b43bfade28ae8e52b90bf": {
          "model_module": "@jupyter-widgets/controls",
          "model_name": "DescriptionStyleModel",
          "model_module_version": "1.5.0",
          "state": {
            "_model_module": "@jupyter-widgets/controls",
            "_model_module_version": "1.5.0",
            "_model_name": "DescriptionStyleModel",
            "_view_count": null,
            "_view_module": "@jupyter-widgets/base",
            "_view_module_version": "1.2.0",
            "_view_name": "StyleView",
            "description_width": ""
          }
        }
      }
    }
  },
  "cells": [
    {
      "cell_type": "markdown",
      "metadata": {
        "id": "view-in-github",
        "colab_type": "text"
      },
      "source": [
        "<a href=\"https://colab.research.google.com/github/mohammadsanaee/ML_in_application/blob/main/5_rnn.ipynb\" target=\"_parent\"><img src=\"https://colab.research.google.com/assets/colab-badge.svg\" alt=\"Open In Colab\"/></a>"
      ]
    },
    {
      "cell_type": "code",
      "metadata": {
        "id": "M75S_55hdT2Z",
        "outputId": "36f22498-7260-410d-9948-26a3ffc7ea3a",
        "colab": {
          "base_uri": "https://localhost:8080/"
        }
      },
      "source": [
        "#@title <b><font color=\"red\">▶</font><font color=\"black\"> run this cell to prepare supplementary materials for the lesson</font></b>\n",
        "\n",
        "!rm -rf harbour-space-text-mining-course\n",
        "!git clone https://github.com/horoshenkih/harbour-space-text-mining-course.git\n",
        "import sys\n",
        "if 'harbour-space-text-mining-course' not in sys.path:\n",
        "    sys.path.append('harbour-space-text-mining-course')\n",
        "\n",
        "# from tmcourse.demo import (\n",
        "# )\n",
        "# from tmcourse.quiz import (\n",
        "# )\n",
        "from tmcourse.ipyquiz import Quiz, Function\n",
        "from tmcourse.utils import enable_mathjax_in_cell\n",
        "\n",
        "from IPython.display import HTML, display\n",
        "\n",
        "# get_ipython().events.register('pre_run_cell', enable_mathjax_in_cell)\n",
        "from IPython.display import set_matplotlib_formats\n",
        "%matplotlib inline\n",
        "set_matplotlib_formats('svg')\n",
        "import matplotlib.pyplot as plt\n",
        "plt.rcParams['figure.figsize'] = (10.0, 6.0)\n"
      ],
      "execution_count": 1,
      "outputs": [
        {
          "output_type": "stream",
          "name": "stdout",
          "text": [
            "Cloning into 'harbour-space-text-mining-course'...\n",
            "remote: Enumerating objects: 738, done.\u001b[K\n",
            "remote: Counting objects: 100% (175/175), done.\u001b[K\n",
            "remote: Compressing objects: 100% (105/105), done.\u001b[K\n",
            "remote: Total 738 (delta 79), reused 158 (delta 69), pack-reused 563\u001b[K\n",
            "Receiving objects: 100% (738/738), 179.50 MiB | 12.00 MiB/s, done.\n",
            "Resolving deltas: 100% (403/403), done.\n",
            "Updating files: 100% (129/129), done.\n"
          ]
        }
      ]
    },
    {
      "cell_type": "markdown",
      "metadata": {
        "id": "2brJTPK7HNJV"
      },
      "source": [
        "<!--@slideshow slide-->\n",
        "<center><h1>Recurrent Neural Networks</h1></center>"
      ]
    },
    {
      "cell_type": "markdown",
      "metadata": {
        "id": "u9imeBSWHThb"
      },
      "source": [
        "<!--@slideshow slide-->\n",
        "# Outline\n",
        "1. Motivation: order matters\n",
        "1. Sequences and recurrent functions\n",
        "1. Recurrent Neural Networks\n",
        "1. RNN for classification and language modeling"
      ]
    },
    {
      "cell_type": "markdown",
      "metadata": {
        "id": "1T_EbE70Hmet"
      },
      "source": [
        "<!--@slideshow slide-->\n",
        "# Motivation: order matters"
      ]
    },
    {
      "cell_type": "markdown",
      "metadata": {
        "id": "PmbYSK5eJm0q"
      },
      "source": [
        "<!--@slideshow slide-->\n",
        "- Machine Learning algorithms (and Neural Networks in particular) require to represent data as vectors (or tensors in general)\n",
        "- So far, we represented texts as vectors using one-hot encoding"
      ]
    },
    {
      "cell_type": "markdown",
      "metadata": {
        "id": "L9JKhkgiJowW"
      },
      "source": [
        "<!--@slideshow fragment-->\n",
        "**Problem**: one-hot encoding loses order of words!\n",
        "\n",
        "**Example**: two different hotel reviews\n",
        "- \"great location, but poor experience overall\"\n",
        "- \"poor location, but great experience overall\"\n",
        "\n",
        "Both have the same vector representation.\n"
      ]
    },
    {
      "cell_type": "markdown",
      "metadata": {
        "id": "QUQnDY5LJucr"
      },
      "source": [
        "<!--@slideshow fragment-->\n",
        "**What we want**: figure out how to process _sequences_ as inputs for neural networks."
      ]
    },
    {
      "cell_type": "markdown",
      "metadata": {
        "id": "bH1avijGCsHU"
      },
      "source": [
        "<!--@slideshow slide-->\n",
        "# Sequences and recurrent functions"
      ]
    },
    {
      "cell_type": "markdown",
      "metadata": {
        "id": "nLyUYZPxLVLQ"
      },
      "source": [
        "<!--@slideshow slide-->\n",
        "**Toy example**: for a sequence of numbers $x_1, x_2, \\dots, x_t, \\dots$, for each $t$ compute the average value $y_t$.\n",
        "\n",
        "**Our goal**:  _organize computations over sequences_ in the most general way."
      ]
    },
    {
      "cell_type": "markdown",
      "metadata": {
        "id": "pa750zkwMXYV"
      },
      "source": [
        "<!--@slideshow slide-->\n",
        "- $x_1 = 5 \\rightarrow y_1 = 5$"
      ]
    },
    {
      "cell_type": "markdown",
      "metadata": {
        "id": "2eRFSlDdN2_K"
      },
      "source": [
        "<!--@slideshow fragment-->\n",
        "- $x_2 = 3 \\rightarrow y_2 = \\dfrac{3 + 5}{2} = 4$\n"
      ]
    },
    {
      "cell_type": "markdown",
      "metadata": {
        "id": "XcpTeLHeN4Wp"
      },
      "source": [
        "<!--@slideshow fragment-->\n",
        "- $x_3 = 10 \\rightarrow y_3 = \\dfrac{3 + 5 + 10}{3} = 6$\n"
      ]
    },
    {
      "cell_type": "markdown",
      "metadata": {
        "id": "2kmnrlENN5gS"
      },
      "source": [
        "<!--@slideshow fragment-->\n",
        "- $\\dots$"
      ]
    },
    {
      "cell_type": "markdown",
      "metadata": {
        "id": "YNgOeqIMNEUJ"
      },
      "source": [
        "<!--@slideshow slide-->\n",
        "Let's organize computations as follows:\n",
        "\n",
        "- Keep the _hidden state_: the sum of previous elements $s_t$ and the number of previous elements $n_t$\n",
        "$$\n",
        "s_0 = 0, n_0 = 0\n",
        "$$\n",
        "- For each $t$:\n",
        "  - Update the hidden state:\n",
        "$$\n",
        "s_t = s_{t-1} + x_t\n",
        "$$\n",
        "$$\n",
        "n_t = n_{t-1} + 1\n",
        "$$\n",
        "  - Compute the output:\n",
        "$$\n",
        "y_t = \\dfrac{s_t}{n_t}\n",
        "$$"
      ]
    },
    {
      "cell_type": "markdown",
      "metadata": {
        "id": "EJDyfnpRQQWm"
      },
      "source": [
        "<!--@slideshow fragment-->\n",
        "\n",
        "Abstracting from the concrete algorithm, this is what we are doing:\n",
        "- Update the hidden state:\n",
        "$$\n",
        "h_t = f(\\color{red}{h_{t-1}}, x_t)\n",
        "$$\n",
        "- Compute the output from the hidden state:\n",
        "$$\n",
        "y_t = g(\\color{red}{h_{t}})\n",
        "$$"
      ]
    },
    {
      "cell_type": "markdown",
      "metadata": {
        "id": "HW49HkUmRbRY"
      },
      "source": [
        "<!--@slideshow fragment-->\n",
        "For this particular problem, we know the functions $f$ and $g$. In general, we will **learn them from data**."
      ]
    },
    {
      "cell_type": "markdown",
      "metadata": {
        "id": "gghfspOXRupx"
      },
      "source": [
        "<!--@slideshow slide-->\n",
        "![alt text](https://raw.githubusercontent.com/horoshenkih/harbour-space-text-mining-course/master/pic/ml_vs_cs.png)"
      ]
    },
    {
      "cell_type": "markdown",
      "metadata": {
        "id": "t0E-PAx1R8sl"
      },
      "source": [
        "<!--@slideshow slide-->\n",
        "The function\n",
        "$$\n",
        "h_t = f(h_{t-1}, x_t)\n",
        "$$\n",
        "is a _recurrent function_, because it depends on its previous values."
      ]
    },
    {
      "cell_type": "markdown",
      "metadata": {
        "id": "vIsLjUm6STiD"
      },
      "source": [
        "<!--@slideshow fragment-->\n",
        "We can \"unroll\" it back in time:\n",
        "$$\n",
        "h_t = f(h_{t-1}, x_t)\n",
        "$$\n"
      ]
    },
    {
      "cell_type": "markdown",
      "metadata": {
        "id": "FeOZJfc8TVt_"
      },
      "source": [
        "<!--@slideshow fragment-->\n",
        "$$\n",
        "= f(f(h_{t-2}, x_{t-1}), x_t)\n",
        "$$\n"
      ]
    },
    {
      "cell_type": "markdown",
      "metadata": {
        "id": "CyQlgC36TW6T"
      },
      "source": [
        "<!--@slideshow fragment-->\n",
        "$$\n",
        "= f(f(f(h_{t-3}, x_{t-2}), x_{t-1}), x_t)\n",
        "$$\n"
      ]
    },
    {
      "cell_type": "markdown",
      "metadata": {
        "id": "glRRVH8STX-U"
      },
      "source": [
        "<!--@slideshow fragment-->\n",
        "$$\n",
        "\\dots\n",
        "$$\n"
      ]
    },
    {
      "cell_type": "markdown",
      "metadata": {
        "id": "n_BgVyq1TY8X"
      },
      "source": [
        "<!--@slideshow fragment-->\n",
        "$$\n",
        "= f(f(f(\\dots \\color{red}{f(h_0, x_1)} \\dots, x_{t-2}), x_{t-1}), x_t)\n",
        "$$\n"
      ]
    },
    {
      "cell_type": "markdown",
      "metadata": {
        "id": "NefSVVUKTaFT"
      },
      "source": [
        "<!--@slideshow fragment-->\n",
        "So it has a _dynamic_ computational graph (built while reading the sequence $x_t$)."
      ]
    },
    {
      "cell_type": "markdown",
      "metadata": {
        "id": "oCmdiZe2YsML"
      },
      "source": [
        "<!--@slideshow slide-->\n",
        "Computational graphs may be different:\n",
        "\n",
        "<center><img src=\"https://raw.githubusercontent.com/horoshenkih/harbour-space-text-mining-course/master/pic/rnn-all.png\"></center>"
      ]
    },
    {
      "cell_type": "markdown",
      "metadata": {
        "id": "IQwIoeW9ZJFF"
      },
      "source": [
        "<!--@slideshow slide-->\n",
        "\"Vanilla\" (non-recurrent) function: one input, one output.\n",
        "\n",
        "<center><img src=\"https://raw.githubusercontent.com/horoshenkih/harbour-space-text-mining-course/master/pic/rnn-nn.png\"></center>"
      ]
    },
    {
      "cell_type": "markdown",
      "metadata": {
        "id": "eMruceN1ZkOv"
      },
      "source": [
        "<!--@slideshow slide-->\n",
        "Classification of a sequence: read the full sequence, return the predicted label in the end.\n",
        "\n",
        "<center><img src=\"https://raw.githubusercontent.com/horoshenkih/harbour-space-text-mining-course/master/pic/rnn-classification.png\"></center>"
      ]
    },
    {
      "cell_type": "markdown",
      "metadata": {
        "id": "6djmZ83HZ9l0"
      },
      "source": [
        "<!--@slideshow slide-->\n",
        "Language Model: for each input word, predict the next word.\n",
        "\n",
        "<center><img src=\"https://raw.githubusercontent.com/horoshenkih/harbour-space-text-mining-course/master/pic/rnn-lm.png\"></center>"
      ]
    },
    {
      "cell_type": "markdown",
      "metadata": {
        "id": "22lYFNajT8jg"
      },
      "source": [
        "<!--@slideshow slide-->\n",
        "# Recurrent Neural Networks"
      ]
    },
    {
      "cell_type": "markdown",
      "metadata": {
        "id": "G6Z0eXNwVQKS"
      },
      "source": [
        "<!--@slideshow slide-->\n",
        "We formalize computations over sequences using recurrent functions:\n",
        "$$\n",
        "h_t = f(h_{t-1}, x_t)\n",
        "$$\n",
        "$$\n",
        "y_t = g(h_{t})\n",
        "$$\n",
        "\n",
        "**Our goal**: learn functions $f$ and $g$ from data."
      ]
    },
    {
      "cell_type": "markdown",
      "metadata": {
        "id": "FX8f7DgKVnVt"
      },
      "source": [
        "<!--@slideshow slide-->\n",
        "**Idea**: $f$ and $g$ are _layers_.\n",
        "$$\n",
        "f(h_{t-1}, x_t) = \\mathrm{SomeFunction}(W_{hh}h_{t-1} + W_{xh} x_t)\n",
        "$$\n",
        "$$\n",
        "y_t = \\mathrm{SomeFunction}(W_{hy} h_t)\n",
        "$$\n",
        "\n",
        "Where $\\mathrm{SomeFunction}$ may be $\\mathrm{relu}$, $\\mathrm{tanh}$, identity, ..."
      ]
    },
    {
      "cell_type": "markdown",
      "metadata": {
        "id": "0ovDMaNzbQNj"
      },
      "source": [
        "<!--@slideshow fragment-->\n",
        "**Q**: how to find $W_{hh}, W_{xh}, W_{hy}$?\n",
        "\n",
        "**A**: \"unroll\" the computational graph and use backpropagation."
      ]
    },
    {
      "cell_type": "markdown",
      "metadata": {
        "id": "8GOlqHWwlMer"
      },
      "source": [
        "<!--@slideshow slide-->\n",
        "# Colab demo: classification with RNN\n",
        "\n",
        "`ClassificationRNN` implements a Recurrent Neural Network for classification:\n",
        "- Read the input sequence $x_1, x_2, \\dots, x_t, \\dots$\n",
        "- Outputs are probability distributions over classes.\n",
        "- Update hidden states and outputs according to RNN equations:\n",
        "$$\n",
        "h_t = f(h_{t-1}, x_t)\n",
        "$$\n",
        "$$\n",
        "y_t = g(h_t)\n",
        "$$\n",
        "- The last output is the result of classification: it is compared with the true category.\n"
      ]
    },
    {
      "cell_type": "code",
      "metadata": {
        "id": "GjlC882XkMAs"
      },
      "source": [
        "import torch.nn as nn\n",
        "\n",
        "class ClassificationRNN(nn.Module):\n",
        "    def __init__(self, input_size, hidden_size, output_size):\n",
        "        super().__init__()\n",
        "        # instead of explicit matrix multiplications, we use Linear layers\n",
        "        # W_hh: hidden -> hidden\n",
        "        self.hh = nn.Linear(hidden_size, hidden_size)\n",
        "        # W_xh: input -> hidden\n",
        "        self.xh = nn.Linear(input_size, hidden_size)\n",
        "        # W_hy: hidden -> output\n",
        "        self.hy = nn.Linear(hidden_size, output_size)\n",
        "\n",
        "        # nonlinearities we will use:\n",
        "        # ReLU for h_t = f(h_{t-1}, x_t)\n",
        "        self.relu = nn.ReLU()\n",
        "        # LogSoftmax for y_t = g(h_t) (because we are doing classification)\n",
        "        # for binary classification, it is 1 / (1 + exp(-x))\n",
        "        self.softmax = nn.LogSoftmax(dim=1)\n",
        "\n",
        "        # keep hidden size for initialization of h_0\n",
        "        self.hidden_size = hidden_size\n",
        "\n",
        "    def forward(self, x, h):\n",
        "        # h_t = f(h_{t-1}, x_t)\n",
        "        hidden = self.relu(self.hh(h) + self.xh(x))\n",
        "        # y_t = g(h_t)\n",
        "        output = self.softmax(self.hy(hidden))\n",
        "        return output, hidden\n",
        "\n",
        "    def h0(self):\n",
        "        # compute the initial value (all zeros) for the hidden state\n",
        "        return torch.zeros(1, self.hidden_size)"
      ],
      "execution_count": 2,
      "outputs": []
    },
    {
      "cell_type": "markdown",
      "metadata": {
        "id": "A5pBP-XYv3QF"
      },
      "source": [
        "RNN creates computational graph dynamically while reading the sequence. This is done in the function `process_sequence_classification`."
      ]
    },
    {
      "cell_type": "code",
      "metadata": {
        "id": "Rz7bhe2vgzal"
      },
      "source": [
        "import torch\n",
        "\n",
        "def process_sequence_classification(rnn, target_tensor, input_tensor, learning_rate):\n",
        "    \"\"\"\n",
        "    The algorithm:\n",
        "    - Read the input sequence (stored in `input_tensor`) left-to-right\n",
        "    - At each step, compute new hidden state and new output\n",
        "    - Get the last output (probability distribution over classes) and compute loss\n",
        "    - Backpropagate gradients and update parameters\n",
        "\n",
        "    input_tensor is a 3-dimensional tensor: sequence length * 1 * vocabulary size\n",
        "     - the first dimension: each element in this dimension corresponds to x_t\n",
        "     - the second dimension is a \"batch dimension\", in our case it always contains 1 element\n",
        "     - the last dimension contains components of x_t\n",
        "    \"\"\"\n",
        "\n",
        "    # prepare for backprop\n",
        "    rnn.zero_grad()\n",
        "    # initialize hidden state\n",
        "    hidden = rnn.h0()\n",
        "\n",
        "    # read all elements of the input sequence, update hidden state and output\n",
        "    for i in range(input_tensor.size()[0]):\n",
        "        output, hidden = rnn(input_tensor[i], hidden)\n",
        "\n",
        "    # get the last output, compute the loss function and backpropagate\n",
        "    loss_function = nn.NLLLoss()\n",
        "    loss = loss_function(output, target_tensor)\n",
        "    loss.backward()\n",
        "\n",
        "    # update parameters\n",
        "    with torch.no_grad():\n",
        "        for parameter in rnn.parameters():\n",
        "            parameter -= learning_rate * parameter.grad\n",
        "\n",
        "    return loss.item()"
      ],
      "execution_count": 3,
      "outputs": []
    },
    {
      "cell_type": "markdown",
      "metadata": {
        "id": "hVqS6B-9utz8"
      },
      "source": [
        "**Get the data**\n",
        "\n",
        "The dataset contains names in different languages."
      ]
    },
    {
      "cell_type": "code",
      "metadata": {
        "id": "oqarIwtDeCAo"
      },
      "source": [
        "from collections import defaultdict\n",
        "category_to_names = defaultdict(list)\n",
        "with open(\"harbour-space-text-mining-course/datasets/pytorch_tutorial/names_by_language.txt\") as f:\n",
        "    for line in f:\n",
        "        name, category = line.strip().split(\"\\t\")\n",
        "        category_to_names[category].append(name)"
      ],
      "execution_count": 4,
      "outputs": []
    },
    {
      "cell_type": "code",
      "metadata": {
        "id": "oxJjqqcNgpLx",
        "outputId": "d47a9aba-83d4-42de-c746-8dab902df47c",
        "colab": {
          "base_uri": "https://localhost:8080/"
        }
      },
      "source": [
        "from pprint import pprint\n",
        "print(\"Categories:\")\n",
        "pprint([(k, len(v)) for k, v in category_to_names.items()])\n",
        "print(\"Total categories:\", len(category_to_names))\n",
        "print(\"Total names:\", sum(len(v) for v in category_to_names.values()))\n",
        "print(\"Example for German:\", category_to_names[\"German\"][10])"
      ],
      "execution_count": 5,
      "outputs": [
        {
          "output_type": "stream",
          "name": "stdout",
          "text": [
            "Categories:\n",
            "[('Arabic', 2000),\n",
            " ('Chinese', 268),\n",
            " ('Czech', 519),\n",
            " ('Dutch', 297),\n",
            " ('English', 3668),\n",
            " ('French', 277),\n",
            " ('German', 724),\n",
            " ('Greek', 203),\n",
            " ('Irish', 232),\n",
            " ('Italian', 709),\n",
            " ('Japanese', 991),\n",
            " ('Korean', 94),\n",
            " ('Polish', 139),\n",
            " ('Portuguese', 74),\n",
            " ('Russian', 9408),\n",
            " ('Scottish', 100),\n",
            " ('Spanish', 298),\n",
            " ('Vietnamese', 73)]\n",
            "Total categories: 18\n",
            "Total names: 20074\n",
            "Example for German: Adler\n"
          ]
        }
      ]
    },
    {
      "cell_type": "markdown",
      "metadata": {
        "id": "Sr8VYLVymptV"
      },
      "source": [
        "**Turning Names into Tensors**\n",
        "\n",
        "Now that we have all the names organized, we need to turn them into Tensors to make any use of them.\n",
        "\n",
        "To represent a single letter, we use a “one-hot vector” of size `<1 x n_letters>`. A one-hot vector is filled with 0s except for a 1 at index of the current letter, e.g. `\"b\" = <0 1 0 0 0 ...>`.\n",
        "\n",
        "To make a word we join a bunch of those into a 2D matrix `<line_length x 1 x n_letters>`.\n",
        "\n",
        "That extra 1 dimension is because PyTorch assumes everything is in batches - we’re just using a batch size of 1 here."
      ]
    },
    {
      "cell_type": "code",
      "metadata": {
        "id": "hO2OLGHDgyMo"
      },
      "source": [
        "# count the total number of letters\n",
        "all_letters = set()\n",
        "all_categories = set()\n",
        "\n",
        "for category, names in category_to_names.items():\n",
        "    all_categories.add(category)\n",
        "    for name in names:\n",
        "        all_letters.update(list(name))\n",
        "all_letters = list(sorted(all_letters))\n",
        "all_categories = list(sorted(all_categories))"
      ],
      "execution_count": 6,
      "outputs": []
    },
    {
      "cell_type": "code",
      "metadata": {
        "id": "BHicPawFZ97D",
        "colab": {
          "base_uri": "https://localhost:8080/"
        },
        "outputId": "9d7c829b-8739-49ca-cab2-ddc3531872d5"
      },
      "source": [
        "from pprint import pprint\n",
        "pprint(all_letters, compact=True)"
      ],
      "execution_count": 7,
      "outputs": [
        {
          "output_type": "stream",
          "name": "stdout",
          "text": [
            "[' ', \"'\", ',', 'A', 'B', 'C', 'D', 'E', 'F', 'G', 'H', 'I', 'J', 'K', 'L', 'M',\n",
            " 'N', 'O', 'P', 'Q', 'R', 'S', 'T', 'U', 'V', 'W', 'X', 'Y', 'Z', 'a', 'b', 'c',\n",
            " 'd', 'e', 'f', 'g', 'h', 'i', 'j', 'k', 'l', 'm', 'n', 'o', 'p', 'q', 'r', 's',\n",
            " 't', 'u', 'v', 'w', 'x', 'y', 'z']\n"
          ]
        }
      ]
    },
    {
      "cell_type": "code",
      "metadata": {
        "id": "9WV_6HbXaIW5",
        "colab": {
          "base_uri": "https://localhost:8080/"
        },
        "outputId": "8816e5ac-3554-476e-f3fb-ee6aa689eeed"
      },
      "source": [
        "pprint(all_categories, compact=True)"
      ],
      "execution_count": 8,
      "outputs": [
        {
          "output_type": "stream",
          "name": "stdout",
          "text": [
            "['Arabic', 'Chinese', 'Czech', 'Dutch', 'English', 'French', 'German', 'Greek',\n",
            " 'Irish', 'Italian', 'Japanese', 'Korean', 'Polish', 'Portuguese', 'Russian',\n",
            " 'Scottish', 'Spanish', 'Vietnamese']\n"
          ]
        }
      ]
    },
    {
      "cell_type": "markdown",
      "metadata": {
        "id": "4RjX13ShwnoE"
      },
      "source": [
        "The function `name_to_tensor` creates 3-dimensional tensor from string `name`. It needs the \"vocabulary\" of all possible characters `all_letters`."
      ]
    },
    {
      "cell_type": "code",
      "metadata": {
        "id": "-hfZWqa-jQDZ",
        "outputId": "845fafae-de1d-458d-c0bf-74ebea6d627b",
        "colab": {
          "base_uri": "https://localhost:8080/"
        }
      },
      "source": [
        "def name_to_tensor(name, all_letters):\n",
        "    tensor = torch.zeros(len(name), 1, len(all_letters))\n",
        "    for li, letter in enumerate(name):\n",
        "        letter_idx = all_letters.index(letter)\n",
        "        tensor[li][0][letter_idx] = 1  # one-hot encoding\n",
        "    return tensor\n",
        "\n",
        "name_tensor = name_to_tensor(\"Tao\", all_letters)\n",
        "name_tensor.size(), name_tensor"
      ],
      "execution_count": 9,
      "outputs": [
        {
          "output_type": "execute_result",
          "data": {
            "text/plain": [
              "(torch.Size([3, 1, 55]),\n",
              " tensor([[[0., 0., 0., 0., 0., 0., 0., 0., 0., 0., 0., 0., 0., 0., 0., 0., 0.,\n",
              "           0., 0., 0., 0., 0., 1., 0., 0., 0., 0., 0., 0., 0., 0., 0., 0., 0.,\n",
              "           0., 0., 0., 0., 0., 0., 0., 0., 0., 0., 0., 0., 0., 0., 0., 0., 0.,\n",
              "           0., 0., 0., 0.]],\n",
              " \n",
              "         [[0., 0., 0., 0., 0., 0., 0., 0., 0., 0., 0., 0., 0., 0., 0., 0., 0.,\n",
              "           0., 0., 0., 0., 0., 0., 0., 0., 0., 0., 0., 0., 1., 0., 0., 0., 0.,\n",
              "           0., 0., 0., 0., 0., 0., 0., 0., 0., 0., 0., 0., 0., 0., 0., 0., 0.,\n",
              "           0., 0., 0., 0.]],\n",
              " \n",
              "         [[0., 0., 0., 0., 0., 0., 0., 0., 0., 0., 0., 0., 0., 0., 0., 0., 0.,\n",
              "           0., 0., 0., 0., 0., 0., 0., 0., 0., 0., 0., 0., 0., 0., 0., 0., 0.,\n",
              "           0., 0., 0., 0., 0., 0., 0., 0., 0., 1., 0., 0., 0., 0., 0., 0., 0.,\n",
              "           0., 0., 0., 0.]]]))"
            ]
          },
          "metadata": {},
          "execution_count": 9
        }
      ]
    },
    {
      "cell_type": "markdown",
      "metadata": {
        "id": "sRtcow39wQ22"
      },
      "source": [
        "Create training samples for stochastic gradient descent.\n",
        "\n",
        "We put them into a dictionary: keys are categories (languages), and values are pairs of tensors (tensor for category and for name).\n",
        "\n",
        "It helps to cope with disbalanced classes: for each iteration of SGD, first we will pick a random class and then a random name of this class."
      ]
    },
    {
      "cell_type": "code",
      "metadata": {
        "id": "ZxZB4adkloAb"
      },
      "source": [
        "category_to_training_samples = defaultdict(list)\n",
        "for category, names in category_to_names.items():\n",
        "    category_tensor = torch.tensor([all_categories.index(category)], dtype=torch.long)\n",
        "    for name in names:\n",
        "        name_tensor = name_to_tensor(name, all_letters)\n",
        "        sample = category_tensor, name_tensor\n",
        "        category_to_training_samples[category].append(sample)"
      ],
      "execution_count": 10,
      "outputs": []
    },
    {
      "cell_type": "code",
      "metadata": {
        "id": "e0euQ3ppbGzN",
        "colab": {
          "base_uri": "https://localhost:8080/"
        },
        "outputId": "46127ead-8251-447c-e41d-cea09b0e902d"
      },
      "source": [
        "category_to_training_samples[\"Russian\"][0]"
      ],
      "execution_count": 11,
      "outputs": [
        {
          "output_type": "execute_result",
          "data": {
            "text/plain": [
              "(tensor([14]),\n",
              " tensor([[[0., 0., 0., 1., 0., 0., 0., 0., 0., 0., 0., 0., 0., 0., 0., 0., 0.,\n",
              "           0., 0., 0., 0., 0., 0., 0., 0., 0., 0., 0., 0., 0., 0., 0., 0., 0.,\n",
              "           0., 0., 0., 0., 0., 0., 0., 0., 0., 0., 0., 0., 0., 0., 0., 0., 0.,\n",
              "           0., 0., 0., 0.]],\n",
              " \n",
              "         [[0., 0., 0., 0., 0., 0., 0., 0., 0., 0., 0., 0., 0., 0., 0., 0., 0.,\n",
              "           0., 0., 0., 0., 0., 0., 0., 0., 0., 0., 0., 0., 0., 1., 0., 0., 0.,\n",
              "           0., 0., 0., 0., 0., 0., 0., 0., 0., 0., 0., 0., 0., 0., 0., 0., 0.,\n",
              "           0., 0., 0., 0.]],\n",
              " \n",
              "         [[0., 0., 0., 0., 0., 0., 0., 0., 0., 0., 0., 0., 0., 0., 0., 0., 0.,\n",
              "           0., 0., 0., 0., 0., 0., 0., 0., 0., 0., 0., 0., 1., 0., 0., 0., 0.,\n",
              "           0., 0., 0., 0., 0., 0., 0., 0., 0., 0., 0., 0., 0., 0., 0., 0., 0.,\n",
              "           0., 0., 0., 0.]],\n",
              " \n",
              "         [[0., 0., 0., 0., 0., 0., 0., 0., 0., 0., 0., 0., 0., 0., 0., 0., 0.,\n",
              "           0., 0., 0., 0., 0., 0., 0., 0., 0., 0., 0., 0., 0., 1., 0., 0., 0.,\n",
              "           0., 0., 0., 0., 0., 0., 0., 0., 0., 0., 0., 0., 0., 0., 0., 0., 0.,\n",
              "           0., 0., 0., 0.]],\n",
              " \n",
              "         [[0., 0., 0., 0., 0., 0., 0., 0., 0., 0., 0., 0., 0., 0., 0., 0., 0.,\n",
              "           0., 0., 0., 0., 0., 0., 0., 0., 0., 0., 0., 0., 0., 0., 0., 0., 0.,\n",
              "           0., 0., 0., 0., 0., 1., 0., 0., 0., 0., 0., 0., 0., 0., 0., 0., 0.,\n",
              "           0., 0., 0., 0.]],\n",
              " \n",
              "         [[0., 0., 0., 0., 0., 0., 0., 0., 0., 0., 0., 0., 0., 0., 0., 0., 0.,\n",
              "           0., 0., 0., 0., 0., 0., 0., 0., 0., 0., 0., 0., 0., 0., 0., 0., 0.,\n",
              "           0., 0., 0., 0., 0., 0., 0., 0., 0., 1., 0., 0., 0., 0., 0., 0., 0.,\n",
              "           0., 0., 0., 0.]]]))"
            ]
          },
          "metadata": {},
          "execution_count": 11
        }
      ]
    },
    {
      "cell_type": "markdown",
      "metadata": {
        "id": "5CIw6vSDxqFi"
      },
      "source": [
        "Create the `rnn`:\n",
        "- It reads a sequence of one-hot encoded letters, so the input size is the number of letters.\n",
        "- It predicts one of `all_categories`, so the output size is the number of categories."
      ]
    },
    {
      "cell_type": "code",
      "metadata": {
        "id": "1GBDS3rXlsD4"
      },
      "source": [
        "n_hidden = 128\n",
        "rnn = ClassificationRNN(len(all_letters), n_hidden, len(all_categories))"
      ],
      "execution_count": 12,
      "outputs": []
    },
    {
      "cell_type": "markdown",
      "metadata": {
        "id": "4RZrkDm-ySxL"
      },
      "source": [
        "Apply `rnn` on a sample to get the idea how everything works together."
      ]
    },
    {
      "cell_type": "code",
      "metadata": {
        "id": "tSVu-6Qsk4Il",
        "outputId": "d33a8bc2-f18f-4458-e60e-3f28e60db6e8",
        "colab": {
          "base_uri": "https://localhost:8080/"
        }
      },
      "source": [
        "ts = category_to_training_samples[\"Arabic\"][999]\n",
        "print(\"Training sample:\")\n",
        "print(ts)\n",
        "print()\n",
        "category_tensor, i = ts\n",
        "h = rnn.h0()\n",
        "o, _ = rnn(i[0], h)\n",
        "print(o)"
      ],
      "execution_count": 13,
      "outputs": [
        {
          "output_type": "stream",
          "name": "stdout",
          "text": [
            "Training sample:\n",
            "(tensor([0]), tensor([[[0., 0., 0., 0., 0., 0., 0., 0., 0., 0., 0., 0., 0., 0., 0., 0., 0.,\n",
            "          0., 0., 0., 0., 1., 0., 0., 0., 0., 0., 0., 0., 0., 0., 0., 0., 0.,\n",
            "          0., 0., 0., 0., 0., 0., 0., 0., 0., 0., 0., 0., 0., 0., 0., 0., 0.,\n",
            "          0., 0., 0., 0.]],\n",
            "\n",
            "        [[0., 0., 0., 0., 0., 0., 0., 0., 0., 0., 0., 0., 0., 0., 0., 0., 0.,\n",
            "          0., 0., 0., 0., 0., 0., 0., 0., 0., 0., 0., 0., 0., 0., 0., 0., 0.,\n",
            "          0., 0., 1., 0., 0., 0., 0., 0., 0., 0., 0., 0., 0., 0., 0., 0., 0.,\n",
            "          0., 0., 0., 0.]],\n",
            "\n",
            "        [[0., 0., 0., 0., 0., 0., 0., 0., 0., 0., 0., 0., 0., 0., 0., 0., 0.,\n",
            "          0., 0., 0., 0., 0., 0., 0., 0., 0., 0., 0., 0., 1., 0., 0., 0., 0.,\n",
            "          0., 0., 0., 0., 0., 0., 0., 0., 0., 0., 0., 0., 0., 0., 0., 0., 0.,\n",
            "          0., 0., 0., 0.]],\n",
            "\n",
            "        [[0., 0., 0., 0., 0., 0., 0., 0., 0., 0., 0., 0., 0., 0., 0., 0., 0.,\n",
            "          0., 0., 0., 0., 0., 0., 0., 0., 0., 0., 0., 0., 0., 0., 0., 0., 0.,\n",
            "          0., 0., 0., 0., 0., 0., 0., 1., 0., 0., 0., 0., 0., 0., 0., 0., 0.,\n",
            "          0., 0., 0., 0.]],\n",
            "\n",
            "        [[0., 0., 0., 0., 0., 0., 0., 0., 0., 0., 0., 0., 0., 0., 0., 0., 0.,\n",
            "          0., 0., 0., 0., 0., 0., 0., 0., 0., 0., 0., 0., 0., 0., 0., 0., 0.,\n",
            "          0., 0., 0., 0., 0., 0., 0., 0., 0., 1., 0., 0., 0., 0., 0., 0., 0.,\n",
            "          0., 0., 0., 0.]],\n",
            "\n",
            "        [[0., 0., 0., 0., 0., 0., 0., 0., 0., 0., 0., 0., 0., 0., 0., 0., 0.,\n",
            "          0., 0., 0., 0., 0., 0., 0., 0., 0., 0., 0., 0., 0., 0., 0., 0., 0.,\n",
            "          0., 0., 0., 0., 0., 0., 0., 0., 0., 0., 0., 0., 0., 0., 0., 1., 0.,\n",
            "          0., 0., 0., 0.]],\n",
            "\n",
            "        [[0., 0., 0., 0., 0., 0., 0., 0., 0., 0., 0., 0., 0., 0., 0., 0., 0.,\n",
            "          0., 0., 0., 0., 0., 0., 0., 0., 0., 0., 0., 0., 0., 0., 0., 0., 0.,\n",
            "          0., 0., 0., 0., 0., 0., 0., 0., 1., 0., 0., 0., 0., 0., 0., 0., 0.,\n",
            "          0., 0., 0., 0.]]]))\n",
            "\n",
            "tensor([[-2.9643, -2.8684, -2.9561, -2.9368, -2.8759, -2.8836, -2.8261, -2.8903,\n",
            "         -2.8768, -2.9567, -2.8934, -2.8955, -2.8401, -2.9421, -2.8406, -2.9096,\n",
            "         -2.7961, -2.8934]], grad_fn=<LogSoftmaxBackward0>)\n"
          ]
        }
      ]
    },
    {
      "cell_type": "markdown",
      "metadata": {
        "id": "BiJOP99jyi-g"
      },
      "source": [
        "Train RNN using SGD:\n",
        "- Pick a random sample (first pick a category, then a name)\n",
        "- Update weights (`process_sequence`)\n",
        "- Keep losses"
      ]
    },
    {
      "cell_type": "code",
      "metadata": {
        "id": "BEGAkhRpm32m",
        "outputId": "ae9f299d-c13d-4fec-b200-6b16238780f4",
        "colab": {
          "base_uri": "https://localhost:8080/",
          "height": 406,
          "referenced_widgets": [
            "8450326d916c421d884301065de65faa",
            "d4373f6c49e746f9b737ee5a5127f655",
            "2b0090acb76140adb177bc20d2ed9d73",
            "7b22b7a661a84f6292d4ba7fc51fc74d",
            "bfa498dc7620442784c4f093c856805e",
            "b2ae65a5ae1143d39503a1500e0a8365",
            "f9a46f62c11f40f1bd5438fc335c62d8",
            "7e67b8d1232e497cbd259b1418fa0342",
            "9eb399e0139b4abaa53421cfffdbb1ef",
            "77589400e0d845bb93c28b694f2ebe89",
            "c40c1d4aff1d406599d3030f3f16e93a"
          ]
        }
      },
      "source": [
        "import math\n",
        "from tqdm.notebook import tqdm\n",
        "import random\n",
        "import numpy as np\n",
        "random.seed(0)\n",
        "\n",
        "n_iters = 100000\n",
        "print_every = 5000\n",
        "\n",
        "# Keep track of losses for plotting\n",
        "all_losses = []\n",
        "iterations = []\n",
        "losses = []\n",
        "\n",
        "for i in tqdm(range(1, n_iters + 1)):\n",
        "    # sample categories uniformly\n",
        "    random_category = random.choice(all_categories)\n",
        "    category_tensor, name_tensor = random.choice(category_to_training_samples[random_category])\n",
        "    # process sequence: update RNN weights and compute loss\n",
        "    loss = process_sequence_classification(rnn, category_tensor, name_tensor, 0.001)\n",
        "    all_losses.append(loss)\n",
        "\n",
        "    if i % print_every == 0:\n",
        "        iterations.append(i)\n",
        "        avg_loss = np.mean(all_losses[-print_every:])\n",
        "        losses.append(avg_loss)\n",
        "        print(f\"iteration {i}: loss {avg_loss}\")"
      ],
      "execution_count": 14,
      "outputs": [
        {
          "output_type": "display_data",
          "data": {
            "text/plain": [
              "  0%|          | 0/100000 [00:00<?, ?it/s]"
            ],
            "application/vnd.jupyter.widget-view+json": {
              "version_major": 2,
              "version_minor": 0,
              "model_id": "8450326d916c421d884301065de65faa"
            }
          },
          "metadata": {}
        },
        {
          "output_type": "stream",
          "name": "stdout",
          "text": [
            "iteration 5000: loss 2.8776259848594665\n",
            "iteration 10000: loss 2.8521624559402468\n",
            "iteration 15000: loss 2.8142798040390016\n",
            "iteration 20000: loss 2.7592024313211443\n",
            "iteration 25000: loss 2.605783422988653\n",
            "iteration 30000: loss 2.398449402627349\n",
            "iteration 35000: loss 2.2695354430168866\n",
            "iteration 40000: loss 2.172781303307414\n",
            "iteration 45000: loss 2.0636335524588825\n",
            "iteration 50000: loss 1.9780286606810986\n",
            "iteration 55000: loss 1.9301157499546184\n",
            "iteration 60000: loss 1.8540218016725034\n",
            "iteration 65000: loss 1.8356969156671314\n",
            "iteration 70000: loss 1.7791258492544293\n",
            "iteration 75000: loss 1.7636452547670343\n",
            "iteration 80000: loss 1.7020333143653348\n",
            "iteration 85000: loss 1.6587208009196446\n",
            "iteration 90000: loss 1.640000352520356\n",
            "iteration 95000: loss 1.6510675183363026\n",
            "iteration 100000: loss 1.5946469539843966\n"
          ]
        }
      ]
    },
    {
      "cell_type": "markdown",
      "metadata": {
        "id": "m8pVTNZhyxwg"
      },
      "source": [
        "Visualize losses"
      ]
    },
    {
      "cell_type": "code",
      "metadata": {
        "id": "-9bXNJwLnrTR",
        "outputId": "48858cf2-1622-4e4a-e4b0-1ef1ec863baf",
        "colab": {
          "base_uri": "https://localhost:8080/",
          "height": 497
        }
      },
      "source": [
        "import matplotlib.pyplot as plt\n",
        "\n",
        "plt.plot(iterations, losses)\n",
        "plt.show()"
      ],
      "execution_count": 15,
      "outputs": [
        {
          "output_type": "display_data",
          "data": {
            "text/plain": [
              "<Figure size 720x432 with 1 Axes>"
            ],
            "image/svg+xml": "<?xml version=\"1.0\" encoding=\"utf-8\" standalone=\"no\"?>\n<!DOCTYPE svg PUBLIC \"-//W3C//DTD SVG 1.1//EN\"\n  \"http://www.w3.org/Graphics/SVG/1.1/DTD/svg11.dtd\">\n<!-- Created with matplotlib (https://matplotlib.org/) -->\n<svg height=\"357.238125pt\" version=\"1.1\" viewBox=\"0 0 595.303125 357.238125\" width=\"595.303125pt\" xmlns=\"http://www.w3.org/2000/svg\" xmlns:xlink=\"http://www.w3.org/1999/xlink\">\n <defs>\n  <style type=\"text/css\">\n*{stroke-linecap:butt;stroke-linejoin:round;}\n  </style>\n </defs>\n <g id=\"figure_1\">\n  <g id=\"patch_1\">\n   <path d=\"M -0 357.238125 \nL 595.303125 357.238125 \nL 595.303125 0 \nL -0 0 \nz\n\" style=\"fill:none;\"/>\n  </g>\n  <g id=\"axes_1\">\n   <g id=\"patch_2\">\n    <path d=\"M 30.103125 333.36 \nL 588.103125 333.36 \nL 588.103125 7.2 \nL 30.103125 7.2 \nz\n\" style=\"fill:#ffffff;\"/>\n   </g>\n   <g id=\"matplotlib.axis_1\">\n    <g id=\"xtick_1\">\n     <g id=\"line2d_1\">\n      <defs>\n       <path d=\"M 0 0 \nL 0 3.5 \n\" id=\"mb71b1307fb\" style=\"stroke:#000000;stroke-width:0.8;\"/>\n      </defs>\n      <g>\n       <use style=\"stroke:#000000;stroke-width:0.8;\" x=\"135.562455\" xlink:href=\"#mb71b1307fb\" y=\"333.36\"/>\n      </g>\n     </g>\n     <g id=\"text_1\">\n      <!-- 20000 -->\n      <defs>\n       <path d=\"M 19.1875 8.296875 \nL 53.609375 8.296875 \nL 53.609375 0 \nL 7.328125 0 \nL 7.328125 8.296875 \nQ 12.9375 14.109375 22.625 23.890625 \nQ 32.328125 33.6875 34.8125 36.53125 \nQ 39.546875 41.84375 41.421875 45.53125 \nQ 43.3125 49.21875 43.3125 52.78125 \nQ 43.3125 58.59375 39.234375 62.25 \nQ 35.15625 65.921875 28.609375 65.921875 \nQ 23.96875 65.921875 18.8125 64.3125 \nQ 13.671875 62.703125 7.8125 59.421875 \nL 7.8125 69.390625 \nQ 13.765625 71.78125 18.9375 73 \nQ 24.125 74.21875 28.421875 74.21875 \nQ 39.75 74.21875 46.484375 68.546875 \nQ 53.21875 62.890625 53.21875 53.421875 \nQ 53.21875 48.921875 51.53125 44.890625 \nQ 49.859375 40.875 45.40625 35.40625 \nQ 44.1875 33.984375 37.640625 27.21875 \nQ 31.109375 20.453125 19.1875 8.296875 \nz\n\" id=\"DejaVuSans-50\"/>\n       <path d=\"M 31.78125 66.40625 \nQ 24.171875 66.40625 20.328125 58.90625 \nQ 16.5 51.421875 16.5 36.375 \nQ 16.5 21.390625 20.328125 13.890625 \nQ 24.171875 6.390625 31.78125 6.390625 \nQ 39.453125 6.390625 43.28125 13.890625 \nQ 47.125 21.390625 47.125 36.375 \nQ 47.125 51.421875 43.28125 58.90625 \nQ 39.453125 66.40625 31.78125 66.40625 \nz\nM 31.78125 74.21875 \nQ 44.046875 74.21875 50.515625 64.515625 \nQ 56.984375 54.828125 56.984375 36.375 \nQ 56.984375 17.96875 50.515625 8.265625 \nQ 44.046875 -1.421875 31.78125 -1.421875 \nQ 19.53125 -1.421875 13.0625 8.265625 \nQ 6.59375 17.96875 6.59375 36.375 \nQ 6.59375 54.828125 13.0625 64.515625 \nQ 19.53125 74.21875 31.78125 74.21875 \nz\n\" id=\"DejaVuSans-48\"/>\n      </defs>\n      <g transform=\"translate(119.656205 347.958438)scale(0.1 -0.1)\">\n       <use xlink:href=\"#DejaVuSans-50\"/>\n       <use x=\"63.623047\" xlink:href=\"#DejaVuSans-48\"/>\n       <use x=\"127.246094\" xlink:href=\"#DejaVuSans-48\"/>\n       <use x=\"190.869141\" xlink:href=\"#DejaVuSans-48\"/>\n       <use x=\"254.492188\" xlink:href=\"#DejaVuSans-48\"/>\n      </g>\n     </g>\n    </g>\n    <g id=\"xtick_2\">\n     <g id=\"line2d_2\">\n      <g>\n       <use style=\"stroke:#000000;stroke-width:0.8;\" x=\"242.356714\" xlink:href=\"#mb71b1307fb\" y=\"333.36\"/>\n      </g>\n     </g>\n     <g id=\"text_2\">\n      <!-- 40000 -->\n      <defs>\n       <path d=\"M 37.796875 64.3125 \nL 12.890625 25.390625 \nL 37.796875 25.390625 \nz\nM 35.203125 72.90625 \nL 47.609375 72.90625 \nL 47.609375 25.390625 \nL 58.015625 25.390625 \nL 58.015625 17.1875 \nL 47.609375 17.1875 \nL 47.609375 0 \nL 37.796875 0 \nL 37.796875 17.1875 \nL 4.890625 17.1875 \nL 4.890625 26.703125 \nz\n\" id=\"DejaVuSans-52\"/>\n      </defs>\n      <g transform=\"translate(226.450464 347.958438)scale(0.1 -0.1)\">\n       <use xlink:href=\"#DejaVuSans-52\"/>\n       <use x=\"63.623047\" xlink:href=\"#DejaVuSans-48\"/>\n       <use x=\"127.246094\" xlink:href=\"#DejaVuSans-48\"/>\n       <use x=\"190.869141\" xlink:href=\"#DejaVuSans-48\"/>\n       <use x=\"254.492188\" xlink:href=\"#DejaVuSans-48\"/>\n      </g>\n     </g>\n    </g>\n    <g id=\"xtick_3\">\n     <g id=\"line2d_3\">\n      <g>\n       <use style=\"stroke:#000000;stroke-width:0.8;\" x=\"349.150972\" xlink:href=\"#mb71b1307fb\" y=\"333.36\"/>\n      </g>\n     </g>\n     <g id=\"text_3\">\n      <!-- 60000 -->\n      <defs>\n       <path d=\"M 33.015625 40.375 \nQ 26.375 40.375 22.484375 35.828125 \nQ 18.609375 31.296875 18.609375 23.390625 \nQ 18.609375 15.53125 22.484375 10.953125 \nQ 26.375 6.390625 33.015625 6.390625 \nQ 39.65625 6.390625 43.53125 10.953125 \nQ 47.40625 15.53125 47.40625 23.390625 \nQ 47.40625 31.296875 43.53125 35.828125 \nQ 39.65625 40.375 33.015625 40.375 \nz\nM 52.59375 71.296875 \nL 52.59375 62.3125 \nQ 48.875 64.0625 45.09375 64.984375 \nQ 41.3125 65.921875 37.59375 65.921875 \nQ 27.828125 65.921875 22.671875 59.328125 \nQ 17.53125 52.734375 16.796875 39.40625 \nQ 19.671875 43.65625 24.015625 45.921875 \nQ 28.375 48.1875 33.59375 48.1875 \nQ 44.578125 48.1875 50.953125 41.515625 \nQ 57.328125 34.859375 57.328125 23.390625 \nQ 57.328125 12.15625 50.6875 5.359375 \nQ 44.046875 -1.421875 33.015625 -1.421875 \nQ 20.359375 -1.421875 13.671875 8.265625 \nQ 6.984375 17.96875 6.984375 36.375 \nQ 6.984375 53.65625 15.1875 63.9375 \nQ 23.390625 74.21875 37.203125 74.21875 \nQ 40.921875 74.21875 44.703125 73.484375 \nQ 48.484375 72.75 52.59375 71.296875 \nz\n\" id=\"DejaVuSans-54\"/>\n      </defs>\n      <g transform=\"translate(333.244722 347.958438)scale(0.1 -0.1)\">\n       <use xlink:href=\"#DejaVuSans-54\"/>\n       <use x=\"63.623047\" xlink:href=\"#DejaVuSans-48\"/>\n       <use x=\"127.246094\" xlink:href=\"#DejaVuSans-48\"/>\n       <use x=\"190.869141\" xlink:href=\"#DejaVuSans-48\"/>\n       <use x=\"254.492188\" xlink:href=\"#DejaVuSans-48\"/>\n      </g>\n     </g>\n    </g>\n    <g id=\"xtick_4\">\n     <g id=\"line2d_4\">\n      <g>\n       <use style=\"stroke:#000000;stroke-width:0.8;\" x=\"455.94523\" xlink:href=\"#mb71b1307fb\" y=\"333.36\"/>\n      </g>\n     </g>\n     <g id=\"text_4\">\n      <!-- 80000 -->\n      <defs>\n       <path d=\"M 31.78125 34.625 \nQ 24.75 34.625 20.71875 30.859375 \nQ 16.703125 27.09375 16.703125 20.515625 \nQ 16.703125 13.921875 20.71875 10.15625 \nQ 24.75 6.390625 31.78125 6.390625 \nQ 38.8125 6.390625 42.859375 10.171875 \nQ 46.921875 13.96875 46.921875 20.515625 \nQ 46.921875 27.09375 42.890625 30.859375 \nQ 38.875 34.625 31.78125 34.625 \nz\nM 21.921875 38.8125 \nQ 15.578125 40.375 12.03125 44.71875 \nQ 8.5 49.078125 8.5 55.328125 \nQ 8.5 64.0625 14.71875 69.140625 \nQ 20.953125 74.21875 31.78125 74.21875 \nQ 42.671875 74.21875 48.875 69.140625 \nQ 55.078125 64.0625 55.078125 55.328125 \nQ 55.078125 49.078125 51.53125 44.71875 \nQ 48 40.375 41.703125 38.8125 \nQ 48.828125 37.15625 52.796875 32.3125 \nQ 56.78125 27.484375 56.78125 20.515625 \nQ 56.78125 9.90625 50.3125 4.234375 \nQ 43.84375 -1.421875 31.78125 -1.421875 \nQ 19.734375 -1.421875 13.25 4.234375 \nQ 6.78125 9.90625 6.78125 20.515625 \nQ 6.78125 27.484375 10.78125 32.3125 \nQ 14.796875 37.15625 21.921875 38.8125 \nz\nM 18.3125 54.390625 \nQ 18.3125 48.734375 21.84375 45.5625 \nQ 25.390625 42.390625 31.78125 42.390625 \nQ 38.140625 42.390625 41.71875 45.5625 \nQ 45.3125 48.734375 45.3125 54.390625 \nQ 45.3125 60.0625 41.71875 63.234375 \nQ 38.140625 66.40625 31.78125 66.40625 \nQ 25.390625 66.40625 21.84375 63.234375 \nQ 18.3125 60.0625 18.3125 54.390625 \nz\n\" id=\"DejaVuSans-56\"/>\n      </defs>\n      <g transform=\"translate(440.03898 347.958438)scale(0.1 -0.1)\">\n       <use xlink:href=\"#DejaVuSans-56\"/>\n       <use x=\"63.623047\" xlink:href=\"#DejaVuSans-48\"/>\n       <use x=\"127.246094\" xlink:href=\"#DejaVuSans-48\"/>\n       <use x=\"190.869141\" xlink:href=\"#DejaVuSans-48\"/>\n       <use x=\"254.492188\" xlink:href=\"#DejaVuSans-48\"/>\n      </g>\n     </g>\n    </g>\n    <g id=\"xtick_5\">\n     <g id=\"line2d_5\">\n      <g>\n       <use style=\"stroke:#000000;stroke-width:0.8;\" x=\"562.739489\" xlink:href=\"#mb71b1307fb\" y=\"333.36\"/>\n      </g>\n     </g>\n     <g id=\"text_5\">\n      <!-- 100000 -->\n      <defs>\n       <path d=\"M 12.40625 8.296875 \nL 28.515625 8.296875 \nL 28.515625 63.921875 \nL 10.984375 60.40625 \nL 10.984375 69.390625 \nL 28.421875 72.90625 \nL 38.28125 72.90625 \nL 38.28125 8.296875 \nL 54.390625 8.296875 \nL 54.390625 0 \nL 12.40625 0 \nz\n\" id=\"DejaVuSans-49\"/>\n      </defs>\n      <g transform=\"translate(543.651989 347.958438)scale(0.1 -0.1)\">\n       <use xlink:href=\"#DejaVuSans-49\"/>\n       <use x=\"63.623047\" xlink:href=\"#DejaVuSans-48\"/>\n       <use x=\"127.246094\" xlink:href=\"#DejaVuSans-48\"/>\n       <use x=\"190.869141\" xlink:href=\"#DejaVuSans-48\"/>\n       <use x=\"254.492188\" xlink:href=\"#DejaVuSans-48\"/>\n       <use x=\"318.115234\" xlink:href=\"#DejaVuSans-48\"/>\n      </g>\n     </g>\n    </g>\n   </g>\n   <g id=\"matplotlib.axis_2\">\n    <g id=\"ytick_1\">\n     <g id=\"line2d_6\">\n      <defs>\n       <path d=\"M 0 0 \nL -3.5 0 \n\" id=\"m73483e63cf\" style=\"stroke:#000000;stroke-width:0.8;\"/>\n      </defs>\n      <g>\n       <use style=\"stroke:#000000;stroke-width:0.8;\" x=\"30.103125\" xlink:href=\"#m73483e63cf\" y=\"317.297404\"/>\n      </g>\n     </g>\n     <g id=\"text_6\">\n      <!-- 1.6 -->\n      <defs>\n       <path d=\"M 10.6875 12.40625 \nL 21 12.40625 \nL 21 0 \nL 10.6875 0 \nz\n\" id=\"DejaVuSans-46\"/>\n      </defs>\n      <g transform=\"translate(7.2 321.096623)scale(0.1 -0.1)\">\n       <use xlink:href=\"#DejaVuSans-49\"/>\n       <use x=\"63.623047\" xlink:href=\"#DejaVuSans-46\"/>\n       <use x=\"95.410156\" xlink:href=\"#DejaVuSans-54\"/>\n      </g>\n     </g>\n    </g>\n    <g id=\"ytick_2\">\n     <g id=\"line2d_7\">\n      <g>\n       <use style=\"stroke:#000000;stroke-width:0.8;\" x=\"30.103125\" xlink:href=\"#m73483e63cf\" y=\"271.075434\"/>\n      </g>\n     </g>\n     <g id=\"text_7\">\n      <!-- 1.8 -->\n      <g transform=\"translate(7.2 274.874653)scale(0.1 -0.1)\">\n       <use xlink:href=\"#DejaVuSans-49\"/>\n       <use x=\"63.623047\" xlink:href=\"#DejaVuSans-46\"/>\n       <use x=\"95.410156\" xlink:href=\"#DejaVuSans-56\"/>\n      </g>\n     </g>\n    </g>\n    <g id=\"ytick_3\">\n     <g id=\"line2d_8\">\n      <g>\n       <use style=\"stroke:#000000;stroke-width:0.8;\" x=\"30.103125\" xlink:href=\"#m73483e63cf\" y=\"224.853464\"/>\n      </g>\n     </g>\n     <g id=\"text_8\">\n      <!-- 2.0 -->\n      <g transform=\"translate(7.2 228.652683)scale(0.1 -0.1)\">\n       <use xlink:href=\"#DejaVuSans-50\"/>\n       <use x=\"63.623047\" xlink:href=\"#DejaVuSans-46\"/>\n       <use x=\"95.410156\" xlink:href=\"#DejaVuSans-48\"/>\n      </g>\n     </g>\n    </g>\n    <g id=\"ytick_4\">\n     <g id=\"line2d_9\">\n      <g>\n       <use style=\"stroke:#000000;stroke-width:0.8;\" x=\"30.103125\" xlink:href=\"#m73483e63cf\" y=\"178.631494\"/>\n      </g>\n     </g>\n     <g id=\"text_9\">\n      <!-- 2.2 -->\n      <g transform=\"translate(7.2 182.430713)scale(0.1 -0.1)\">\n       <use xlink:href=\"#DejaVuSans-50\"/>\n       <use x=\"63.623047\" xlink:href=\"#DejaVuSans-46\"/>\n       <use x=\"95.410156\" xlink:href=\"#DejaVuSans-50\"/>\n      </g>\n     </g>\n    </g>\n    <g id=\"ytick_5\">\n     <g id=\"line2d_10\">\n      <g>\n       <use style=\"stroke:#000000;stroke-width:0.8;\" x=\"30.103125\" xlink:href=\"#m73483e63cf\" y=\"132.409524\"/>\n      </g>\n     </g>\n     <g id=\"text_10\">\n      <!-- 2.4 -->\n      <g transform=\"translate(7.2 136.208743)scale(0.1 -0.1)\">\n       <use xlink:href=\"#DejaVuSans-50\"/>\n       <use x=\"63.623047\" xlink:href=\"#DejaVuSans-46\"/>\n       <use x=\"95.410156\" xlink:href=\"#DejaVuSans-52\"/>\n      </g>\n     </g>\n    </g>\n    <g id=\"ytick_6\">\n     <g id=\"line2d_11\">\n      <g>\n       <use style=\"stroke:#000000;stroke-width:0.8;\" x=\"30.103125\" xlink:href=\"#m73483e63cf\" y=\"86.187554\"/>\n      </g>\n     </g>\n     <g id=\"text_11\">\n      <!-- 2.6 -->\n      <g transform=\"translate(7.2 89.986773)scale(0.1 -0.1)\">\n       <use xlink:href=\"#DejaVuSans-50\"/>\n       <use x=\"63.623047\" xlink:href=\"#DejaVuSans-46\"/>\n       <use x=\"95.410156\" xlink:href=\"#DejaVuSans-54\"/>\n      </g>\n     </g>\n    </g>\n    <g id=\"ytick_7\">\n     <g id=\"line2d_12\">\n      <g>\n       <use style=\"stroke:#000000;stroke-width:0.8;\" x=\"30.103125\" xlink:href=\"#m73483e63cf\" y=\"39.965584\"/>\n      </g>\n     </g>\n     <g id=\"text_12\">\n      <!-- 2.8 -->\n      <g transform=\"translate(7.2 43.764803)scale(0.1 -0.1)\">\n       <use xlink:href=\"#DejaVuSans-50\"/>\n       <use x=\"63.623047\" xlink:href=\"#DejaVuSans-46\"/>\n       <use x=\"95.410156\" xlink:href=\"#DejaVuSans-56\"/>\n      </g>\n     </g>\n    </g>\n   </g>\n   <g id=\"line2d_13\">\n    <path clip-path=\"url(#p6e95f05720)\" d=\"M 55.466761 22.025455 \nL 82.165326 27.910327 \nL 108.863891 36.665381 \nL 135.562455 49.394304 \nL 162.26102 84.850948 \nL 188.959584 132.767882 \nL 215.658149 162.561168 \nL 242.356714 184.922003 \nL 269.055278 210.147123 \nL 295.753843 229.931257 \nL 322.452407 241.004402 \nL 349.150972 258.590463 \nL 375.849536 262.825525 \nL 402.548101 275.899656 \nL 429.246666 279.477374 \nL 455.94523 293.7165 \nL 482.643795 303.726448 \nL 509.342359 308.052928 \nL 536.040924 305.495197 \nL 562.739489 318.534545 \n\" style=\"fill:none;stroke:#1f77b4;stroke-linecap:square;stroke-width:1.5;\"/>\n   </g>\n   <g id=\"patch_3\">\n    <path d=\"M 30.103125 333.36 \nL 30.103125 7.2 \n\" style=\"fill:none;stroke:#000000;stroke-linecap:square;stroke-linejoin:miter;stroke-width:0.8;\"/>\n   </g>\n   <g id=\"patch_4\">\n    <path d=\"M 588.103125 333.36 \nL 588.103125 7.2 \n\" style=\"fill:none;stroke:#000000;stroke-linecap:square;stroke-linejoin:miter;stroke-width:0.8;\"/>\n   </g>\n   <g id=\"patch_5\">\n    <path d=\"M 30.103125 333.36 \nL 588.103125 333.36 \n\" style=\"fill:none;stroke:#000000;stroke-linecap:square;stroke-linejoin:miter;stroke-width:0.8;\"/>\n   </g>\n   <g id=\"patch_6\">\n    <path d=\"M 30.103125 7.2 \nL 588.103125 7.2 \n\" style=\"fill:none;stroke:#000000;stroke-linecap:square;stroke-linejoin:miter;stroke-width:0.8;\"/>\n   </g>\n  </g>\n </g>\n <defs>\n  <clipPath id=\"p6e95f05720\">\n   <rect height=\"326.16\" width=\"558\" x=\"30.103125\" y=\"7.2\"/>\n  </clipPath>\n </defs>\n</svg>\n"
          },
          "metadata": {
            "needs_background": "light"
          }
        }
      ]
    },
    {
      "cell_type": "markdown",
      "metadata": {
        "id": "syj8BgBnzJ-5"
      },
      "source": [
        "Look at the predictions."
      ]
    },
    {
      "cell_type": "code",
      "metadata": {
        "id": "f1BvYlU1zUfC"
      },
      "source": [
        "def evaluate(rnn, name_tensor):\n",
        "    # read the sequence and return the final output\n",
        "    hidden = rnn.h0()\n",
        "\n",
        "    for i in range(name_tensor.size()[0]):\n",
        "        output, hidden = rnn(name_tensor[i], hidden)\n",
        "\n",
        "    return output"
      ],
      "execution_count": 16,
      "outputs": []
    },
    {
      "cell_type": "code",
      "metadata": {
        "id": "IjAIjDX8onlH",
        "outputId": "a90b0fab-ff9e-4ced-e8c9-3963eabc41fc",
        "colab": {
          "base_uri": "https://localhost:8080/"
        }
      },
      "source": [
        "def predict(input_name, n_predictions=3):\n",
        "    print('\\n> %s' % input_name)\n",
        "    with torch.no_grad():\n",
        "        output = evaluate(rnn, name_to_tensor(input_name, all_letters))\n",
        "\n",
        "        # Get top N categories\n",
        "        topv, topi = output.topk(n_predictions, 1, True)\n",
        "        predictions = []\n",
        "\n",
        "        for i in range(n_predictions):\n",
        "            value = topv[0][i].item()\n",
        "            category_index = topi[0][i].item()\n",
        "            print('(%.2f) %s' % (value, all_categories[category_index]))\n",
        "            predictions.append([value, all_categories[category_index]])\n",
        "\n",
        "predict('Satoshi')\n",
        "predict('Khoroshenkikh')\n",
        "predict('Hinton')\n",
        "predict('Bengio')\n",
        "predict('Varathikul')"
      ],
      "execution_count": 17,
      "outputs": [
        {
          "output_type": "stream",
          "name": "stdout",
          "text": [
            "\n",
            "> Satoshi\n",
            "(-0.72) Japanese\n",
            "(-1.50) Polish\n",
            "(-2.25) Arabic\n",
            "\n",
            "> Khoroshenkikh\n",
            "(-0.37) Russian\n",
            "(-1.70) Polish\n",
            "(-2.69) Czech\n",
            "\n",
            "> Hinton\n",
            "(-1.21) Scottish\n",
            "(-1.75) Irish\n",
            "(-1.90) English\n",
            "\n",
            "> Bengio\n",
            "(-1.10) Portuguese\n",
            "(-1.55) Spanish\n",
            "(-1.94) Italian\n",
            "\n",
            "> Varathikul\n",
            "(-0.82) Russian\n",
            "(-1.94) Irish\n",
            "(-2.05) Czech\n"
          ]
        }
      ]
    },
    {
      "cell_type": "markdown",
      "metadata": {
        "id": "YCjdUfGrsqWr"
      },
      "source": [
        "<!--@slideshow slide-->\n",
        "# [OPTIONAL] Colab demo: language model with RNN\n",
        "\n",
        "`LanguageModelRNN` implements a Recurrent Neural Network for language modeling.\n",
        "\n",
        "We will train many language models for different languages at once using _conditioning_. It means that for each sequence we will add the category to the input.\n",
        "\n",
        "- Read the input sequence $x_1, x_2, \\dots, x_t, \\dots$\n",
        "- The input sequence has the category $c$.\n",
        "- Outputs are probability distributions over letters.\n",
        "- Update hidden states and outputs according to RNN equations:\n",
        "$$\n",
        "h_t = f(h_{t-1}, x_t, \\color{red}{c})\n",
        "$$\n",
        "$$\n",
        "y_t = g(h_t)\n",
        "$$\n",
        "- For each $t$, the target output is the next letter (with a special character for the end of a sequence). For example:\n",
        "<table>\n",
        "<thead>\n",
        "  <tr>\n",
        "    <th>t</th>\n",
        "    <th>input</th>\n",
        "    <th>target output</th>\n",
        "  </tr>\n",
        "</thead>\n",
        "<tbody>\n",
        "  <tr>\n",
        "    <td>1</td>\n",
        "    <td>T</td>\n",
        "    <td>u</td>\n",
        "  </tr>\n",
        "  <tr>\n",
        "    <td>2</td>\n",
        "    <td>u</td>\n",
        "    <td>r</td>\n",
        "  </tr>\n",
        "  <tr>\n",
        "    <td>3</td>\n",
        "    <td>r</td>\n",
        "    <td>i</td>\n",
        "  </tr>\n",
        "  <tr>\n",
        "    <td>4</td>\n",
        "    <td>i</td>\n",
        "    <td>n</td>\n",
        "  </tr>\n",
        "  <tr>\n",
        "    <td>4</td>\n",
        "    <td>n</td>\n",
        "    <td>g</td>\n",
        "  </tr>\n",
        "  <tr>\n",
        "    <td>6</td>\n",
        "    <td>g</td>\n",
        "    <td>&lt;EOS&gt;</td>\n",
        "  </tr>\n",
        "</tbody>\n",
        "</table>\n"
      ]
    },
    {
      "cell_type": "code",
      "metadata": {
        "id": "Un-tvvhWtVWy"
      },
      "source": [
        "import torch\n",
        "import torch.nn as nn\n",
        "\n",
        "class LanguageModelRNN(nn.Module):\n",
        "    def __init__(self, input_size, category_size, hidden_size, output_size):\n",
        "        super().__init__()\n",
        "        self.hidden_size = hidden_size\n",
        "\n",
        "        # hidden -> hidden\n",
        "        self.hh = nn.Linear(hidden_size, hidden_size)\n",
        "        # input -> hidden\n",
        "        self.xh = nn.Linear(input_size, hidden_size)\n",
        "        # category -> hidden\n",
        "        self.ch = nn.Linear(category_size, hidden_size)\n",
        "        # hidden -> output\n",
        "        self.hy = nn.Linear(hidden_size, output_size)\n",
        "        self.relu = nn.ReLU()\n",
        "        self.softmax = nn.LogSoftmax(dim=1)\n",
        "\n",
        "    def forward(self, c, x, h):\n",
        "        # h_t = f(h_{t-1}, x_t, c)\n",
        "        hidden = self.relu(self.hh(h) + self.xh(x) + self.ch(c))\n",
        "        output = self.softmax(self.hy(hidden))\n",
        "        return output, hidden\n",
        "\n",
        "    def h0(self):\n",
        "        return torch.zeros(1, self.hidden_size)"
      ],
      "execution_count": 18,
      "outputs": []
    },
    {
      "cell_type": "code",
      "metadata": {
        "id": "1kKKEbOvt2jE"
      },
      "source": [
        "def process_sequence_language_model(\n",
        "    category_tensor,\n",
        "    input_line_tensor,\n",
        "    target_line_tensor,\n",
        "    learning_rate\n",
        "):\n",
        "    loss_function = nn.NLLLoss()\n",
        "    hidden = rnn.h0()\n",
        "    rnn.zero_grad()\n",
        "\n",
        "    loss = 0\n",
        "\n",
        "    for i in range(input_line_tensor.size(0)):\n",
        "        output, hidden = rnn(category_tensor, input_line_tensor[i], hidden)\n",
        "        # update the loss for each element x_t\n",
        "        l = loss_function(output, target_line_tensor[i])\n",
        "        loss += l\n",
        "\n",
        "    loss.backward()\n",
        "\n",
        "    with torch.no_grad():\n",
        "        for parameter in rnn.parameters():\n",
        "            parameter -= learning_rate * parameter.grad\n",
        "\n",
        "    return loss.item() / input_line_tensor.size(0)"
      ],
      "execution_count": 19,
      "outputs": []
    },
    {
      "cell_type": "code",
      "metadata": {
        "id": "iNY1fZjftco_"
      },
      "source": [
        "# One-hot vector for category\n",
        "def get_category_tensor(category, all_categories):\n",
        "    li = all_categories.index(category)\n",
        "    tensor = torch.zeros(1, len(all_categories))\n",
        "    tensor[0][li] = 1\n",
        "    return tensor\n",
        "\n",
        "# One-hot matrix of first to last letters (not including <EOS>) for input\n",
        "def get_input_tensor(line, all_letters):\n",
        "    n_letters = len(all_letters) + 1\n",
        "    tensor = torch.zeros(len(line), 1, n_letters)\n",
        "    for li in range(len(line)):\n",
        "        letter = line[li]\n",
        "        tensor[li][0][all_letters.index(letter)] = 1\n",
        "    return tensor\n",
        "\n",
        "# LongTensor of second letter to end (<EOS>) for target\n",
        "def get_target_tensor(line, all_letters):\n",
        "    n_letters = len(all_letters) + 1\n",
        "    letter_indexes = [all_letters.index(line[li]) for li in range(1, len(line))]\n",
        "    letter_indexes.append(n_letters - 1)  # <EOS>\n",
        "    return torch.LongTensor(letter_indexes).unsqueeze(-1)"
      ],
      "execution_count": 20,
      "outputs": []
    },
    {
      "cell_type": "code",
      "metadata": {
        "id": "Fb2nqXpM-hWP"
      },
      "source": [
        "n_letters = len(all_letters) + 1  # Plus EOS marker\n",
        "n_categories = len(all_categories)\n",
        "rnn = LanguageModelRNN(n_letters, n_categories, 128, n_letters)"
      ],
      "execution_count": 21,
      "outputs": []
    },
    {
      "cell_type": "code",
      "metadata": {
        "id": "-HNIrt5juB8V",
        "outputId": "46823146-322a-4486-cf02-6730dec7df7e",
        "colab": {
          "base_uri": "https://localhost:8080/",
          "height": 406,
          "referenced_widgets": [
            "1a7e9de830224a198028a78ad8ae58a9",
            "ff366618ff274736a0a5112bdd2bb780",
            "de073d5488bd4c4393eef26d2014b796",
            "a101a13ab8f840a58232a78315f7a53d",
            "09bf62a6c2ac489fb1dec5c167cd21bb",
            "add194585f5848d59b898d3393961332",
            "fb076bab4bc649debd6f1f745429f7ed",
            "98e230b332e640dea06ea70a2db990a3",
            "8a5d5cdbdcab4798b635f9cdc7204cc1",
            "5ebbd14933b74770bfb272410b8f9a96",
            "845429fb218b43bfade28ae8e52b90bf"
          ]
        }
      },
      "source": [
        "n_iters = 100000\n",
        "print_every = 5000\n",
        "all_losses = []\n",
        "iterations = []\n",
        "losses = []\n",
        "\n",
        "for i in tqdm(range(1, n_iters + 1)):\n",
        "    # sample categories uniformly\n",
        "    random_category = random.choice(all_categories)\n",
        "    sample_idx = random.choice(range(len(category_to_training_samples[random_category])))\n",
        "    category_tensor, line_tensor = category_to_training_samples[random_category][sample_idx]\n",
        "    name = category_to_names[random_category][sample_idx]\n",
        "\n",
        "    category_tensor = get_category_tensor(random_category, all_categories)\n",
        "    input_tensor = get_input_tensor(name, all_letters)\n",
        "    target_tensor = get_target_tensor(name, all_letters)\n",
        "    loss = process_sequence_language_model(\n",
        "        category_tensor,\n",
        "        input_tensor,\n",
        "        target_tensor,\n",
        "        0.0005\n",
        "    )\n",
        "\n",
        "    all_losses.append(loss)\n",
        "\n",
        "    if i % print_every == 0:\n",
        "        iterations.append(i)\n",
        "        avg_loss = np.mean(all_losses[-print_every:])\n",
        "        losses.append(avg_loss)\n",
        "        print(f\"iteration {i}: loss {avg_loss}\")"
      ],
      "execution_count": 22,
      "outputs": [
        {
          "output_type": "display_data",
          "data": {
            "text/plain": [
              "  0%|          | 0/100000 [00:00<?, ?it/s]"
            ],
            "application/vnd.jupyter.widget-view+json": {
              "version_major": 2,
              "version_minor": 0,
              "model_id": "1a7e9de830224a198028a78ad8ae58a9"
            }
          },
          "metadata": {}
        },
        {
          "output_type": "stream",
          "name": "stdout",
          "text": [
            "iteration 5000: loss 2.9755424515639093\n",
            "iteration 10000: loss 2.6479966642606\n",
            "iteration 15000: loss 2.5372074682328374\n",
            "iteration 20000: loss 2.470385348842532\n",
            "iteration 25000: loss 2.4093600188447115\n",
            "iteration 30000: loss 2.354625090751626\n",
            "iteration 35000: loss 2.34116519470691\n",
            "iteration 40000: loss 2.2844180372233183\n",
            "iteration 45000: loss 2.2546191008570995\n",
            "iteration 50000: loss 2.2335110176186266\n",
            "iteration 55000: loss 2.2101571776532163\n",
            "iteration 60000: loss 2.1910661083094203\n",
            "iteration 65000: loss 2.15886271826124\n",
            "iteration 70000: loss 2.14188825842359\n",
            "iteration 75000: loss 2.1300663283642174\n",
            "iteration 80000: loss 2.113132736998272\n",
            "iteration 85000: loss 2.1150080334982273\n",
            "iteration 90000: loss 2.080617046918632\n",
            "iteration 95000: loss 2.0793407510473125\n",
            "iteration 100000: loss 2.059781778236596\n"
          ]
        }
      ]
    },
    {
      "cell_type": "code",
      "metadata": {
        "id": "S8zrZDYvuplG",
        "outputId": "8e3a66ef-8258-4b1d-e08e-f539068cab02",
        "colab": {
          "base_uri": "https://localhost:8080/",
          "height": 497
        }
      },
      "source": [
        "import matplotlib.pyplot as plt\n",
        "\n",
        "plt.plot(iterations, losses)\n",
        "plt.show()"
      ],
      "execution_count": 23,
      "outputs": [
        {
          "output_type": "display_data",
          "data": {
            "text/plain": [
              "<Figure size 720x432 with 1 Axes>"
            ],
            "image/svg+xml": "<?xml version=\"1.0\" encoding=\"utf-8\" standalone=\"no\"?>\n<!DOCTYPE svg PUBLIC \"-//W3C//DTD SVG 1.1//EN\"\n  \"http://www.w3.org/Graphics/SVG/1.1/DTD/svg11.dtd\">\n<!-- Created with matplotlib (https://matplotlib.org/) -->\n<svg height=\"357.238125pt\" version=\"1.1\" viewBox=\"0 0 595.303125 357.238125\" width=\"595.303125pt\" xmlns=\"http://www.w3.org/2000/svg\" xmlns:xlink=\"http://www.w3.org/1999/xlink\">\n <defs>\n  <style type=\"text/css\">\n*{stroke-linecap:butt;stroke-linejoin:round;}\n  </style>\n </defs>\n <g id=\"figure_1\">\n  <g id=\"patch_1\">\n   <path d=\"M -0 357.238125 \nL 595.303125 357.238125 \nL 595.303125 0 \nL -0 0 \nz\n\" style=\"fill:none;\"/>\n  </g>\n  <g id=\"axes_1\">\n   <g id=\"patch_2\">\n    <path d=\"M 30.103125 333.36 \nL 588.103125 333.36 \nL 588.103125 7.2 \nL 30.103125 7.2 \nz\n\" style=\"fill:#ffffff;\"/>\n   </g>\n   <g id=\"matplotlib.axis_1\">\n    <g id=\"xtick_1\">\n     <g id=\"line2d_1\">\n      <defs>\n       <path d=\"M 0 0 \nL 0 3.5 \n\" id=\"m5d5b8c6f8a\" style=\"stroke:#000000;stroke-width:0.8;\"/>\n      </defs>\n      <g>\n       <use style=\"stroke:#000000;stroke-width:0.8;\" x=\"135.562455\" xlink:href=\"#m5d5b8c6f8a\" y=\"333.36\"/>\n      </g>\n     </g>\n     <g id=\"text_1\">\n      <!-- 20000 -->\n      <defs>\n       <path d=\"M 19.1875 8.296875 \nL 53.609375 8.296875 \nL 53.609375 0 \nL 7.328125 0 \nL 7.328125 8.296875 \nQ 12.9375 14.109375 22.625 23.890625 \nQ 32.328125 33.6875 34.8125 36.53125 \nQ 39.546875 41.84375 41.421875 45.53125 \nQ 43.3125 49.21875 43.3125 52.78125 \nQ 43.3125 58.59375 39.234375 62.25 \nQ 35.15625 65.921875 28.609375 65.921875 \nQ 23.96875 65.921875 18.8125 64.3125 \nQ 13.671875 62.703125 7.8125 59.421875 \nL 7.8125 69.390625 \nQ 13.765625 71.78125 18.9375 73 \nQ 24.125 74.21875 28.421875 74.21875 \nQ 39.75 74.21875 46.484375 68.546875 \nQ 53.21875 62.890625 53.21875 53.421875 \nQ 53.21875 48.921875 51.53125 44.890625 \nQ 49.859375 40.875 45.40625 35.40625 \nQ 44.1875 33.984375 37.640625 27.21875 \nQ 31.109375 20.453125 19.1875 8.296875 \nz\n\" id=\"DejaVuSans-50\"/>\n       <path d=\"M 31.78125 66.40625 \nQ 24.171875 66.40625 20.328125 58.90625 \nQ 16.5 51.421875 16.5 36.375 \nQ 16.5 21.390625 20.328125 13.890625 \nQ 24.171875 6.390625 31.78125 6.390625 \nQ 39.453125 6.390625 43.28125 13.890625 \nQ 47.125 21.390625 47.125 36.375 \nQ 47.125 51.421875 43.28125 58.90625 \nQ 39.453125 66.40625 31.78125 66.40625 \nz\nM 31.78125 74.21875 \nQ 44.046875 74.21875 50.515625 64.515625 \nQ 56.984375 54.828125 56.984375 36.375 \nQ 56.984375 17.96875 50.515625 8.265625 \nQ 44.046875 -1.421875 31.78125 -1.421875 \nQ 19.53125 -1.421875 13.0625 8.265625 \nQ 6.59375 17.96875 6.59375 36.375 \nQ 6.59375 54.828125 13.0625 64.515625 \nQ 19.53125 74.21875 31.78125 74.21875 \nz\n\" id=\"DejaVuSans-48\"/>\n      </defs>\n      <g transform=\"translate(119.656205 347.958438)scale(0.1 -0.1)\">\n       <use xlink:href=\"#DejaVuSans-50\"/>\n       <use x=\"63.623047\" xlink:href=\"#DejaVuSans-48\"/>\n       <use x=\"127.246094\" xlink:href=\"#DejaVuSans-48\"/>\n       <use x=\"190.869141\" xlink:href=\"#DejaVuSans-48\"/>\n       <use x=\"254.492188\" xlink:href=\"#DejaVuSans-48\"/>\n      </g>\n     </g>\n    </g>\n    <g id=\"xtick_2\">\n     <g id=\"line2d_2\">\n      <g>\n       <use style=\"stroke:#000000;stroke-width:0.8;\" x=\"242.356714\" xlink:href=\"#m5d5b8c6f8a\" y=\"333.36\"/>\n      </g>\n     </g>\n     <g id=\"text_2\">\n      <!-- 40000 -->\n      <defs>\n       <path d=\"M 37.796875 64.3125 \nL 12.890625 25.390625 \nL 37.796875 25.390625 \nz\nM 35.203125 72.90625 \nL 47.609375 72.90625 \nL 47.609375 25.390625 \nL 58.015625 25.390625 \nL 58.015625 17.1875 \nL 47.609375 17.1875 \nL 47.609375 0 \nL 37.796875 0 \nL 37.796875 17.1875 \nL 4.890625 17.1875 \nL 4.890625 26.703125 \nz\n\" id=\"DejaVuSans-52\"/>\n      </defs>\n      <g transform=\"translate(226.450464 347.958438)scale(0.1 -0.1)\">\n       <use xlink:href=\"#DejaVuSans-52\"/>\n       <use x=\"63.623047\" xlink:href=\"#DejaVuSans-48\"/>\n       <use x=\"127.246094\" xlink:href=\"#DejaVuSans-48\"/>\n       <use x=\"190.869141\" xlink:href=\"#DejaVuSans-48\"/>\n       <use x=\"254.492188\" xlink:href=\"#DejaVuSans-48\"/>\n      </g>\n     </g>\n    </g>\n    <g id=\"xtick_3\">\n     <g id=\"line2d_3\">\n      <g>\n       <use style=\"stroke:#000000;stroke-width:0.8;\" x=\"349.150972\" xlink:href=\"#m5d5b8c6f8a\" y=\"333.36\"/>\n      </g>\n     </g>\n     <g id=\"text_3\">\n      <!-- 60000 -->\n      <defs>\n       <path d=\"M 33.015625 40.375 \nQ 26.375 40.375 22.484375 35.828125 \nQ 18.609375 31.296875 18.609375 23.390625 \nQ 18.609375 15.53125 22.484375 10.953125 \nQ 26.375 6.390625 33.015625 6.390625 \nQ 39.65625 6.390625 43.53125 10.953125 \nQ 47.40625 15.53125 47.40625 23.390625 \nQ 47.40625 31.296875 43.53125 35.828125 \nQ 39.65625 40.375 33.015625 40.375 \nz\nM 52.59375 71.296875 \nL 52.59375 62.3125 \nQ 48.875 64.0625 45.09375 64.984375 \nQ 41.3125 65.921875 37.59375 65.921875 \nQ 27.828125 65.921875 22.671875 59.328125 \nQ 17.53125 52.734375 16.796875 39.40625 \nQ 19.671875 43.65625 24.015625 45.921875 \nQ 28.375 48.1875 33.59375 48.1875 \nQ 44.578125 48.1875 50.953125 41.515625 \nQ 57.328125 34.859375 57.328125 23.390625 \nQ 57.328125 12.15625 50.6875 5.359375 \nQ 44.046875 -1.421875 33.015625 -1.421875 \nQ 20.359375 -1.421875 13.671875 8.265625 \nQ 6.984375 17.96875 6.984375 36.375 \nQ 6.984375 53.65625 15.1875 63.9375 \nQ 23.390625 74.21875 37.203125 74.21875 \nQ 40.921875 74.21875 44.703125 73.484375 \nQ 48.484375 72.75 52.59375 71.296875 \nz\n\" id=\"DejaVuSans-54\"/>\n      </defs>\n      <g transform=\"translate(333.244722 347.958438)scale(0.1 -0.1)\">\n       <use xlink:href=\"#DejaVuSans-54\"/>\n       <use x=\"63.623047\" xlink:href=\"#DejaVuSans-48\"/>\n       <use x=\"127.246094\" xlink:href=\"#DejaVuSans-48\"/>\n       <use x=\"190.869141\" xlink:href=\"#DejaVuSans-48\"/>\n       <use x=\"254.492188\" xlink:href=\"#DejaVuSans-48\"/>\n      </g>\n     </g>\n    </g>\n    <g id=\"xtick_4\">\n     <g id=\"line2d_4\">\n      <g>\n       <use style=\"stroke:#000000;stroke-width:0.8;\" x=\"455.94523\" xlink:href=\"#m5d5b8c6f8a\" y=\"333.36\"/>\n      </g>\n     </g>\n     <g id=\"text_4\">\n      <!-- 80000 -->\n      <defs>\n       <path d=\"M 31.78125 34.625 \nQ 24.75 34.625 20.71875 30.859375 \nQ 16.703125 27.09375 16.703125 20.515625 \nQ 16.703125 13.921875 20.71875 10.15625 \nQ 24.75 6.390625 31.78125 6.390625 \nQ 38.8125 6.390625 42.859375 10.171875 \nQ 46.921875 13.96875 46.921875 20.515625 \nQ 46.921875 27.09375 42.890625 30.859375 \nQ 38.875 34.625 31.78125 34.625 \nz\nM 21.921875 38.8125 \nQ 15.578125 40.375 12.03125 44.71875 \nQ 8.5 49.078125 8.5 55.328125 \nQ 8.5 64.0625 14.71875 69.140625 \nQ 20.953125 74.21875 31.78125 74.21875 \nQ 42.671875 74.21875 48.875 69.140625 \nQ 55.078125 64.0625 55.078125 55.328125 \nQ 55.078125 49.078125 51.53125 44.71875 \nQ 48 40.375 41.703125 38.8125 \nQ 48.828125 37.15625 52.796875 32.3125 \nQ 56.78125 27.484375 56.78125 20.515625 \nQ 56.78125 9.90625 50.3125 4.234375 \nQ 43.84375 -1.421875 31.78125 -1.421875 \nQ 19.734375 -1.421875 13.25 4.234375 \nQ 6.78125 9.90625 6.78125 20.515625 \nQ 6.78125 27.484375 10.78125 32.3125 \nQ 14.796875 37.15625 21.921875 38.8125 \nz\nM 18.3125 54.390625 \nQ 18.3125 48.734375 21.84375 45.5625 \nQ 25.390625 42.390625 31.78125 42.390625 \nQ 38.140625 42.390625 41.71875 45.5625 \nQ 45.3125 48.734375 45.3125 54.390625 \nQ 45.3125 60.0625 41.71875 63.234375 \nQ 38.140625 66.40625 31.78125 66.40625 \nQ 25.390625 66.40625 21.84375 63.234375 \nQ 18.3125 60.0625 18.3125 54.390625 \nz\n\" id=\"DejaVuSans-56\"/>\n      </defs>\n      <g transform=\"translate(440.03898 347.958438)scale(0.1 -0.1)\">\n       <use xlink:href=\"#DejaVuSans-56\"/>\n       <use x=\"63.623047\" xlink:href=\"#DejaVuSans-48\"/>\n       <use x=\"127.246094\" xlink:href=\"#DejaVuSans-48\"/>\n       <use x=\"190.869141\" xlink:href=\"#DejaVuSans-48\"/>\n       <use x=\"254.492188\" xlink:href=\"#DejaVuSans-48\"/>\n      </g>\n     </g>\n    </g>\n    <g id=\"xtick_5\">\n     <g id=\"line2d_5\">\n      <g>\n       <use style=\"stroke:#000000;stroke-width:0.8;\" x=\"562.739489\" xlink:href=\"#m5d5b8c6f8a\" y=\"333.36\"/>\n      </g>\n     </g>\n     <g id=\"text_5\">\n      <!-- 100000 -->\n      <defs>\n       <path d=\"M 12.40625 8.296875 \nL 28.515625 8.296875 \nL 28.515625 63.921875 \nL 10.984375 60.40625 \nL 10.984375 69.390625 \nL 28.421875 72.90625 \nL 38.28125 72.90625 \nL 38.28125 8.296875 \nL 54.390625 8.296875 \nL 54.390625 0 \nL 12.40625 0 \nz\n\" id=\"DejaVuSans-49\"/>\n      </defs>\n      <g transform=\"translate(543.651989 347.958438)scale(0.1 -0.1)\">\n       <use xlink:href=\"#DejaVuSans-49\"/>\n       <use x=\"63.623047\" xlink:href=\"#DejaVuSans-48\"/>\n       <use x=\"127.246094\" xlink:href=\"#DejaVuSans-48\"/>\n       <use x=\"190.869141\" xlink:href=\"#DejaVuSans-48\"/>\n       <use x=\"254.492188\" xlink:href=\"#DejaVuSans-48\"/>\n       <use x=\"318.115234\" xlink:href=\"#DejaVuSans-48\"/>\n      </g>\n     </g>\n    </g>\n   </g>\n   <g id=\"matplotlib.axis_2\">\n    <g id=\"ytick_1\">\n     <g id=\"line2d_6\">\n      <defs>\n       <path d=\"M 0 0 \nL -3.5 0 \n\" id=\"mc15763075f\" style=\"stroke:#000000;stroke-width:0.8;\"/>\n      </defs>\n      <g>\n       <use style=\"stroke:#000000;stroke-width:0.8;\" x=\"30.103125\" xlink:href=\"#mc15763075f\" y=\"273.134062\"/>\n      </g>\n     </g>\n     <g id=\"text_6\">\n      <!-- 2.2 -->\n      <defs>\n       <path d=\"M 10.6875 12.40625 \nL 21 12.40625 \nL 21 0 \nL 10.6875 0 \nz\n\" id=\"DejaVuSans-46\"/>\n      </defs>\n      <g transform=\"translate(7.2 276.933281)scale(0.1 -0.1)\">\n       <use xlink:href=\"#DejaVuSans-50\"/>\n       <use x=\"63.623047\" xlink:href=\"#DejaVuSans-46\"/>\n       <use x=\"95.410156\" xlink:href=\"#DejaVuSans-50\"/>\n      </g>\n     </g>\n    </g>\n    <g id=\"ytick_2\">\n     <g id=\"line2d_7\">\n      <g>\n       <use style=\"stroke:#000000;stroke-width:0.8;\" x=\"30.103125\" xlink:href=\"#mc15763075f\" y=\"208.377166\"/>\n      </g>\n     </g>\n     <g id=\"text_7\">\n      <!-- 2.4 -->\n      <g transform=\"translate(7.2 212.176385)scale(0.1 -0.1)\">\n       <use xlink:href=\"#DejaVuSans-50\"/>\n       <use x=\"63.623047\" xlink:href=\"#DejaVuSans-46\"/>\n       <use x=\"95.410156\" xlink:href=\"#DejaVuSans-52\"/>\n      </g>\n     </g>\n    </g>\n    <g id=\"ytick_3\">\n     <g id=\"line2d_8\">\n      <g>\n       <use style=\"stroke:#000000;stroke-width:0.8;\" x=\"30.103125\" xlink:href=\"#mc15763075f\" y=\"143.620271\"/>\n      </g>\n     </g>\n     <g id=\"text_8\">\n      <!-- 2.6 -->\n      <g transform=\"translate(7.2 147.41949)scale(0.1 -0.1)\">\n       <use xlink:href=\"#DejaVuSans-50\"/>\n       <use x=\"63.623047\" xlink:href=\"#DejaVuSans-46\"/>\n       <use x=\"95.410156\" xlink:href=\"#DejaVuSans-54\"/>\n      </g>\n     </g>\n    </g>\n    <g id=\"ytick_4\">\n     <g id=\"line2d_9\">\n      <g>\n       <use style=\"stroke:#000000;stroke-width:0.8;\" x=\"30.103125\" xlink:href=\"#mc15763075f\" y=\"78.863375\"/>\n      </g>\n     </g>\n     <g id=\"text_9\">\n      <!-- 2.8 -->\n      <g transform=\"translate(7.2 82.662594)scale(0.1 -0.1)\">\n       <use xlink:href=\"#DejaVuSans-50\"/>\n       <use x=\"63.623047\" xlink:href=\"#DejaVuSans-46\"/>\n       <use x=\"95.410156\" xlink:href=\"#DejaVuSans-56\"/>\n      </g>\n     </g>\n    </g>\n    <g id=\"ytick_5\">\n     <g id=\"line2d_10\">\n      <g>\n       <use style=\"stroke:#000000;stroke-width:0.8;\" x=\"30.103125\" xlink:href=\"#mc15763075f\" y=\"14.10648\"/>\n      </g>\n     </g>\n     <g id=\"text_10\">\n      <!-- 3.0 -->\n      <defs>\n       <path d=\"M 40.578125 39.3125 \nQ 47.65625 37.796875 51.625 33 \nQ 55.609375 28.21875 55.609375 21.1875 \nQ 55.609375 10.40625 48.1875 4.484375 \nQ 40.765625 -1.421875 27.09375 -1.421875 \nQ 22.515625 -1.421875 17.65625 -0.515625 \nQ 12.796875 0.390625 7.625 2.203125 \nL 7.625 11.71875 \nQ 11.71875 9.328125 16.59375 8.109375 \nQ 21.484375 6.890625 26.8125 6.890625 \nQ 36.078125 6.890625 40.9375 10.546875 \nQ 45.796875 14.203125 45.796875 21.1875 \nQ 45.796875 27.640625 41.28125 31.265625 \nQ 36.765625 34.90625 28.71875 34.90625 \nL 20.21875 34.90625 \nL 20.21875 43.015625 \nL 29.109375 43.015625 \nQ 36.375 43.015625 40.234375 45.921875 \nQ 44.09375 48.828125 44.09375 54.296875 \nQ 44.09375 59.90625 40.109375 62.90625 \nQ 36.140625 65.921875 28.71875 65.921875 \nQ 24.65625 65.921875 20.015625 65.03125 \nQ 15.375 64.15625 9.8125 62.3125 \nL 9.8125 71.09375 \nQ 15.4375 72.65625 20.34375 73.4375 \nQ 25.25 74.21875 29.59375 74.21875 \nQ 40.828125 74.21875 47.359375 69.109375 \nQ 53.90625 64.015625 53.90625 55.328125 \nQ 53.90625 49.265625 50.4375 45.09375 \nQ 46.96875 40.921875 40.578125 39.3125 \nz\n\" id=\"DejaVuSans-51\"/>\n      </defs>\n      <g transform=\"translate(7.2 17.905699)scale(0.1 -0.1)\">\n       <use xlink:href=\"#DejaVuSans-51\"/>\n       <use x=\"63.623047\" xlink:href=\"#DejaVuSans-46\"/>\n       <use x=\"95.410156\" xlink:href=\"#DejaVuSans-48\"/>\n      </g>\n     </g>\n    </g>\n   </g>\n   <g id=\"line2d_11\">\n    <path clip-path=\"url(#pc89577dffd)\" d=\"M 55.466761 22.025455 \nL 82.165326 128.079696 \nL 108.863891 163.951518 \nL 135.562455 185.587483 \nL 162.26102 205.346538 \nL 188.959584 223.068858 \nL 215.658149 227.426963 \nL 242.356714 245.800812 \nL 269.055278 255.449245 \nL 295.753843 262.283714 \nL 322.452407 269.845325 \nL 349.150972 276.026717 \nL 375.849536 286.453675 \nL 402.548101 291.949742 \nL 429.246666 295.777499 \nL 455.94523 301.260333 \nL 482.643795 300.653141 \nL 509.342359 311.788409 \nL 536.040924 312.201654 \nL 562.739489 318.534545 \n\" style=\"fill:none;stroke:#1f77b4;stroke-linecap:square;stroke-width:1.5;\"/>\n   </g>\n   <g id=\"patch_3\">\n    <path d=\"M 30.103125 333.36 \nL 30.103125 7.2 \n\" style=\"fill:none;stroke:#000000;stroke-linecap:square;stroke-linejoin:miter;stroke-width:0.8;\"/>\n   </g>\n   <g id=\"patch_4\">\n    <path d=\"M 588.103125 333.36 \nL 588.103125 7.2 \n\" style=\"fill:none;stroke:#000000;stroke-linecap:square;stroke-linejoin:miter;stroke-width:0.8;\"/>\n   </g>\n   <g id=\"patch_5\">\n    <path d=\"M 30.103125 333.36 \nL 588.103125 333.36 \n\" style=\"fill:none;stroke:#000000;stroke-linecap:square;stroke-linejoin:miter;stroke-width:0.8;\"/>\n   </g>\n   <g id=\"patch_6\">\n    <path d=\"M 30.103125 7.2 \nL 588.103125 7.2 \n\" style=\"fill:none;stroke:#000000;stroke-linecap:square;stroke-linejoin:miter;stroke-width:0.8;\"/>\n   </g>\n  </g>\n </g>\n <defs>\n  <clipPath id=\"pc89577dffd\">\n   <rect height=\"326.16\" width=\"558\" x=\"30.103125\" y=\"7.2\"/>\n  </clipPath>\n </defs>\n</svg>\n"
          },
          "metadata": {
            "needs_background": "light"
          }
        }
      ]
    },
    {
      "cell_type": "markdown",
      "metadata": {
        "id": "tbkTpiKtu2E3"
      },
      "source": [
        "Sampling"
      ]
    },
    {
      "cell_type": "code",
      "metadata": {
        "id": "vyHhslEXu3Aa",
        "outputId": "0d4c2c3e-b9b7-4095-e298-43b0823a1b3e",
        "colab": {
          "base_uri": "https://localhost:8080/"
        }
      },
      "source": [
        "max_length = 20\n",
        "\n",
        "# Sample from a category and starting letter\n",
        "def sample(category, start_letter='A'):\n",
        "    with torch.no_grad():  # no need to track history in sampling\n",
        "        category_tensor = get_category_tensor(category, all_categories)\n",
        "        input_tensor = get_input_tensor(start_letter, all_letters)\n",
        "        hidden = rnn.h0()\n",
        "\n",
        "        output_name = start_letter\n",
        "\n",
        "        for i in range(max_length):\n",
        "            output, hidden = rnn(category_tensor, input_tensor[0], hidden)\n",
        "            topv, topi = output.topk(1)\n",
        "            topi = topi[0][0]\n",
        "            if topi == n_letters - 1:\n",
        "                break\n",
        "            else:\n",
        "                letter = all_letters[topi]\n",
        "                output_name += letter\n",
        "            input_tensor = get_input_tensor(letter, all_letters)\n",
        "\n",
        "        return output_name\n",
        "\n",
        "# Get multiple samples from one category and multiple starting letters\n",
        "def samples(category, start_letters='ABC'):\n",
        "    for start_letter in start_letters:\n",
        "        print(sample(category, start_letter))\n",
        "\n",
        "samples('Russian', 'RUS')\n",
        "samples('German', 'GER')\n",
        "samples('Spanish', 'SPA')\n",
        "samples('Chinese', 'CHI')"
      ],
      "execution_count": 24,
      "outputs": [
        {
          "output_type": "stream",
          "name": "stdout",
          "text": [
            "Rakinov\n",
            "Uarinov\n",
            "Sakinov\n",
            "Garter\n",
            "Erent\n",
            "Roster\n",
            "Sarana\n",
            "Parano\n",
            "Allana\n",
            "Cha\n",
            "Han\n",
            "Iha\n"
          ]
        }
      ]
    },
    {
      "cell_type": "markdown",
      "metadata": {
        "id": "vH2HSKL6M9wm"
      },
      "source": [
        "<!--@slideshow slide-->\n",
        "# Summary\n",
        "1. Recurrent functions accept sequences as inputs\n",
        "1. Recurrent Neural Networks are recurrent _layers_: they consist of linear transformations followed by activation functions\n",
        "1. RNNs are trained with backpropagation on \"unrolled\" computational graph\n",
        "1. Examples of tasks solved by RNNs: classification and language modeling"
      ]
    },
    {
      "cell_type": "markdown",
      "metadata": {
        "id": "GVt5ill8fEf0"
      },
      "source": [
        "<!--@slideshow slide-->\n",
        "# Recommended resources\n",
        "- [CS224n Lecture 6: Language Models and Recurrent Neural Networks](https://web.stanford.edu/class/archive/cs/cs224n/cs224n.1194/slides/cs224n-2019-lecture06-rnnlm.pdf)\n",
        "- [CS231n Lecture 10: Recurrent Neural Networks](http://cs231n.stanford.edu/slides/2016/winter1516_lecture10.pdf)\n",
        "- [The Unreasonable Effectiveness of Recurrent Neural Networks](https://karpathy.github.io/2015/05/21/rnn-effectiveness/)\n",
        "- [NLP FROM SCRATCH: CLASSIFYING NAMES WITH A CHARACTER-LEVEL RNN](https://pytorch.org/tutorials/intermediate/char_rnn_classification_tutorial.html)\n",
        "- [NLP FROM SCRATCH: GENERATING NAMES WITH A CHARACTER-LEVEL RNN](https://pytorch.org/tutorials/intermediate/char_rnn_generation_tutorial.html)"
      ]
    },
    {
      "cell_type": "markdown",
      "metadata": {
        "id": "dN4jFu_r0rVP"
      },
      "source": [
        "<!--@slideshow slide-->\n",
        "# Home Assignment\n",
        "\n",
        "You are given the dataset with startup investments information: [link](https://www.kaggle.com/arindam235/startup-investments-crunchbase). It contains columns `name` and `market`.\n",
        "\n",
        "## Exercise 1\n",
        "- Find top 10 markets.\n",
        "- Get startup names that have markets from top-10.\n",
        "- Create tensors for `ClassificationRNN`. Encode each market with `sklearn.preprocessing.LabelEncoder`.\n",
        "\n",
        "## Exercise 2\n",
        "Predict market given a startup name. Use tensors from the Exercise 1."
      ]
    },
    {
      "cell_type": "code",
      "metadata": {
        "id": "19D724kpz_QT",
        "outputId": "d3b028d9-b48a-4756-d564-e487a3336992",
        "colab": {
          "base_uri": "https://localhost:8080/",
          "height": 457
        }
      },
      "source": [
        "import pandas as pd\n",
        "df = pd.read_csv(\"harbour-space-text-mining-course/datasets/startup_investments/investments_VC.csv\")\n",
        "df.head()"
      ],
      "execution_count": 25,
      "outputs": [
        {
          "output_type": "stream",
          "name": "stderr",
          "text": [
            "/usr/local/lib/python3.8/dist-packages/IPython/core/interactiveshell.py:3326: DtypeWarning: Columns (11,15,18) have mixed types.Specify dtype option on import or set low_memory=False.\n",
            "  exec(code_obj, self.user_global_ns, self.user_ns)\n"
          ]
        },
        {
          "output_type": "execute_result",
          "data": {
            "text/plain": [
              "                         permalink                name  \\\n",
              "0            /organization/waywire            #waywire   \n",
              "1  /organization/tv-communications  &TV Communications   \n",
              "2    /organization/rock-your-paper   'Rock' Your Paper   \n",
              "3   /organization/in-touch-network   (In)Touch Network   \n",
              "4   /organization/r-ranch-and-mine  -R- Ranch and Mine   \n",
              "\n",
              "                    homepage_url  \\\n",
              "0         http://www.waywire.com   \n",
              "1          http://enjoyandtv.com   \n",
              "2   http://www.rockyourpaper.org   \n",
              "3  http://www.InTouchNetwork.com   \n",
              "4                            NaN   \n",
              "\n",
              "                                       category_list         market  \\\n",
              "0         |Entertainment|Politics|Social Media|News|          News    \n",
              "1                                            |Games|         Games    \n",
              "2                             |Publishing|Education|    Publishing    \n",
              "3  |Electronics|Guides|Coffee|Restaurants|Music|i...   Electronics    \n",
              "4                      |Tourism|Entertainment|Games|       Tourism    \n",
              "\n",
              "  funding_total_usd     status country_code state_code         region  ...  \\\n",
              "0        17,50,000    acquired          USA         NY  New York City  ...   \n",
              "1        40,00,000   operating          USA         CA    Los Angeles  ...   \n",
              "2             40000  operating          EST        NaN        Tallinn  ...   \n",
              "3        15,00,000   operating          GBR        NaN         London  ...   \n",
              "4             60000  operating          USA         TX         Dallas  ...   \n",
              "\n",
              "  product_crowdfunding round_A round_B round_C round_D round_E round_F  \\\n",
              "0                    0       0       0       0       0       0       0   \n",
              "1                    0       0       0       0       0       0       0   \n",
              "2                    0       0       0       0       0       0       0   \n",
              "3                    0       0       0       0       0       0       0   \n",
              "4                    0       0       0       0       0       0       0   \n",
              "\n",
              "  round_G round_H  Unnamed: 39  \n",
              "0       0       0          NaN  \n",
              "1       0       0          NaN  \n",
              "2       0       0          NaN  \n",
              "3       0       0          NaN  \n",
              "4       0       0          NaN  \n",
              "\n",
              "[5 rows x 40 columns]"
            ],
            "text/html": [
              "\n",
              "  <div id=\"df-1fe5cd32-5230-47c2-b4ab-f1d4b8f52bb8\">\n",
              "    <div class=\"colab-df-container\">\n",
              "      <div>\n",
              "<style scoped>\n",
              "    .dataframe tbody tr th:only-of-type {\n",
              "        vertical-align: middle;\n",
              "    }\n",
              "\n",
              "    .dataframe tbody tr th {\n",
              "        vertical-align: top;\n",
              "    }\n",
              "\n",
              "    .dataframe thead th {\n",
              "        text-align: right;\n",
              "    }\n",
              "</style>\n",
              "<table border=\"1\" class=\"dataframe\">\n",
              "  <thead>\n",
              "    <tr style=\"text-align: right;\">\n",
              "      <th></th>\n",
              "      <th>permalink</th>\n",
              "      <th>name</th>\n",
              "      <th>homepage_url</th>\n",
              "      <th>category_list</th>\n",
              "      <th>market</th>\n",
              "      <th>funding_total_usd</th>\n",
              "      <th>status</th>\n",
              "      <th>country_code</th>\n",
              "      <th>state_code</th>\n",
              "      <th>region</th>\n",
              "      <th>...</th>\n",
              "      <th>product_crowdfunding</th>\n",
              "      <th>round_A</th>\n",
              "      <th>round_B</th>\n",
              "      <th>round_C</th>\n",
              "      <th>round_D</th>\n",
              "      <th>round_E</th>\n",
              "      <th>round_F</th>\n",
              "      <th>round_G</th>\n",
              "      <th>round_H</th>\n",
              "      <th>Unnamed: 39</th>\n",
              "    </tr>\n",
              "  </thead>\n",
              "  <tbody>\n",
              "    <tr>\n",
              "      <th>0</th>\n",
              "      <td>/organization/waywire</td>\n",
              "      <td>#waywire</td>\n",
              "      <td>http://www.waywire.com</td>\n",
              "      <td>|Entertainment|Politics|Social Media|News|</td>\n",
              "      <td>News</td>\n",
              "      <td>17,50,000</td>\n",
              "      <td>acquired</td>\n",
              "      <td>USA</td>\n",
              "      <td>NY</td>\n",
              "      <td>New York City</td>\n",
              "      <td>...</td>\n",
              "      <td>0</td>\n",
              "      <td>0</td>\n",
              "      <td>0</td>\n",
              "      <td>0</td>\n",
              "      <td>0</td>\n",
              "      <td>0</td>\n",
              "      <td>0</td>\n",
              "      <td>0</td>\n",
              "      <td>0</td>\n",
              "      <td>NaN</td>\n",
              "    </tr>\n",
              "    <tr>\n",
              "      <th>1</th>\n",
              "      <td>/organization/tv-communications</td>\n",
              "      <td>&amp;TV Communications</td>\n",
              "      <td>http://enjoyandtv.com</td>\n",
              "      <td>|Games|</td>\n",
              "      <td>Games</td>\n",
              "      <td>40,00,000</td>\n",
              "      <td>operating</td>\n",
              "      <td>USA</td>\n",
              "      <td>CA</td>\n",
              "      <td>Los Angeles</td>\n",
              "      <td>...</td>\n",
              "      <td>0</td>\n",
              "      <td>0</td>\n",
              "      <td>0</td>\n",
              "      <td>0</td>\n",
              "      <td>0</td>\n",
              "      <td>0</td>\n",
              "      <td>0</td>\n",
              "      <td>0</td>\n",
              "      <td>0</td>\n",
              "      <td>NaN</td>\n",
              "    </tr>\n",
              "    <tr>\n",
              "      <th>2</th>\n",
              "      <td>/organization/rock-your-paper</td>\n",
              "      <td>'Rock' Your Paper</td>\n",
              "      <td>http://www.rockyourpaper.org</td>\n",
              "      <td>|Publishing|Education|</td>\n",
              "      <td>Publishing</td>\n",
              "      <td>40000</td>\n",
              "      <td>operating</td>\n",
              "      <td>EST</td>\n",
              "      <td>NaN</td>\n",
              "      <td>Tallinn</td>\n",
              "      <td>...</td>\n",
              "      <td>0</td>\n",
              "      <td>0</td>\n",
              "      <td>0</td>\n",
              "      <td>0</td>\n",
              "      <td>0</td>\n",
              "      <td>0</td>\n",
              "      <td>0</td>\n",
              "      <td>0</td>\n",
              "      <td>0</td>\n",
              "      <td>NaN</td>\n",
              "    </tr>\n",
              "    <tr>\n",
              "      <th>3</th>\n",
              "      <td>/organization/in-touch-network</td>\n",
              "      <td>(In)Touch Network</td>\n",
              "      <td>http://www.InTouchNetwork.com</td>\n",
              "      <td>|Electronics|Guides|Coffee|Restaurants|Music|i...</td>\n",
              "      <td>Electronics</td>\n",
              "      <td>15,00,000</td>\n",
              "      <td>operating</td>\n",
              "      <td>GBR</td>\n",
              "      <td>NaN</td>\n",
              "      <td>London</td>\n",
              "      <td>...</td>\n",
              "      <td>0</td>\n",
              "      <td>0</td>\n",
              "      <td>0</td>\n",
              "      <td>0</td>\n",
              "      <td>0</td>\n",
              "      <td>0</td>\n",
              "      <td>0</td>\n",
              "      <td>0</td>\n",
              "      <td>0</td>\n",
              "      <td>NaN</td>\n",
              "    </tr>\n",
              "    <tr>\n",
              "      <th>4</th>\n",
              "      <td>/organization/r-ranch-and-mine</td>\n",
              "      <td>-R- Ranch and Mine</td>\n",
              "      <td>NaN</td>\n",
              "      <td>|Tourism|Entertainment|Games|</td>\n",
              "      <td>Tourism</td>\n",
              "      <td>60000</td>\n",
              "      <td>operating</td>\n",
              "      <td>USA</td>\n",
              "      <td>TX</td>\n",
              "      <td>Dallas</td>\n",
              "      <td>...</td>\n",
              "      <td>0</td>\n",
              "      <td>0</td>\n",
              "      <td>0</td>\n",
              "      <td>0</td>\n",
              "      <td>0</td>\n",
              "      <td>0</td>\n",
              "      <td>0</td>\n",
              "      <td>0</td>\n",
              "      <td>0</td>\n",
              "      <td>NaN</td>\n",
              "    </tr>\n",
              "  </tbody>\n",
              "</table>\n",
              "<p>5 rows × 40 columns</p>\n",
              "</div>\n",
              "      <button class=\"colab-df-convert\" onclick=\"convertToInteractive('df-1fe5cd32-5230-47c2-b4ab-f1d4b8f52bb8')\"\n",
              "              title=\"Convert this dataframe to an interactive table.\"\n",
              "              style=\"display:none;\">\n",
              "        \n",
              "  <svg xmlns=\"http://www.w3.org/2000/svg\" height=\"24px\"viewBox=\"0 0 24 24\"\n",
              "       width=\"24px\">\n",
              "    <path d=\"M0 0h24v24H0V0z\" fill=\"none\"/>\n",
              "    <path d=\"M18.56 5.44l.94 2.06.94-2.06 2.06-.94-2.06-.94-.94-2.06-.94 2.06-2.06.94zm-11 1L8.5 8.5l.94-2.06 2.06-.94-2.06-.94L8.5 2.5l-.94 2.06-2.06.94zm10 10l.94 2.06.94-2.06 2.06-.94-2.06-.94-.94-2.06-.94 2.06-2.06.94z\"/><path d=\"M17.41 7.96l-1.37-1.37c-.4-.4-.92-.59-1.43-.59-.52 0-1.04.2-1.43.59L10.3 9.45l-7.72 7.72c-.78.78-.78 2.05 0 2.83L4 21.41c.39.39.9.59 1.41.59.51 0 1.02-.2 1.41-.59l7.78-7.78 2.81-2.81c.8-.78.8-2.07 0-2.86zM5.41 20L4 18.59l7.72-7.72 1.47 1.35L5.41 20z\"/>\n",
              "  </svg>\n",
              "      </button>\n",
              "      \n",
              "  <style>\n",
              "    .colab-df-container {\n",
              "      display:flex;\n",
              "      flex-wrap:wrap;\n",
              "      gap: 12px;\n",
              "    }\n",
              "\n",
              "    .colab-df-convert {\n",
              "      background-color: #E8F0FE;\n",
              "      border: none;\n",
              "      border-radius: 50%;\n",
              "      cursor: pointer;\n",
              "      display: none;\n",
              "      fill: #1967D2;\n",
              "      height: 32px;\n",
              "      padding: 0 0 0 0;\n",
              "      width: 32px;\n",
              "    }\n",
              "\n",
              "    .colab-df-convert:hover {\n",
              "      background-color: #E2EBFA;\n",
              "      box-shadow: 0px 1px 2px rgba(60, 64, 67, 0.3), 0px 1px 3px 1px rgba(60, 64, 67, 0.15);\n",
              "      fill: #174EA6;\n",
              "    }\n",
              "\n",
              "    [theme=dark] .colab-df-convert {\n",
              "      background-color: #3B4455;\n",
              "      fill: #D2E3FC;\n",
              "    }\n",
              "\n",
              "    [theme=dark] .colab-df-convert:hover {\n",
              "      background-color: #434B5C;\n",
              "      box-shadow: 0px 1px 3px 1px rgba(0, 0, 0, 0.15);\n",
              "      filter: drop-shadow(0px 1px 2px rgba(0, 0, 0, 0.3));\n",
              "      fill: #FFFFFF;\n",
              "    }\n",
              "  </style>\n",
              "\n",
              "      <script>\n",
              "        const buttonEl =\n",
              "          document.querySelector('#df-1fe5cd32-5230-47c2-b4ab-f1d4b8f52bb8 button.colab-df-convert');\n",
              "        buttonEl.style.display =\n",
              "          google.colab.kernel.accessAllowed ? 'block' : 'none';\n",
              "\n",
              "        async function convertToInteractive(key) {\n",
              "          const element = document.querySelector('#df-1fe5cd32-5230-47c2-b4ab-f1d4b8f52bb8');\n",
              "          const dataTable =\n",
              "            await google.colab.kernel.invokeFunction('convertToInteractive',\n",
              "                                                     [key], {});\n",
              "          if (!dataTable) return;\n",
              "\n",
              "          const docLinkHtml = 'Like what you see? Visit the ' +\n",
              "            '<a target=\"_blank\" href=https://colab.research.google.com/notebooks/data_table.ipynb>data table notebook</a>'\n",
              "            + ' to learn more about interactive tables.';\n",
              "          element.innerHTML = '';\n",
              "          dataTable['output_type'] = 'display_data';\n",
              "          await google.colab.output.renderOutput(dataTable, element);\n",
              "          const docLink = document.createElement('div');\n",
              "          docLink.innerHTML = docLinkHtml;\n",
              "          element.appendChild(docLink);\n",
              "        }\n",
              "      </script>\n",
              "    </div>\n",
              "  </div>\n",
              "  "
            ]
          },
          "metadata": {},
          "execution_count": 25
        }
      ]
    },
    {
      "cell_type": "code",
      "metadata": {
        "id": "2-3ZtpLRLpJD"
      },
      "source": [
        "import pandas as pd\n",
        "import torch\n",
        "from sklearn.preprocessing import LabelEncoder\n",
        "\n",
        "# Load the data\n",
        "data = df\n",
        "\n",
        "# Find top 10 markets\n",
        "top_10_markets = data.groupby(\"market\").size().sort_values(ascending=False).head(10)\n",
        "\n",
        "# Get startup names that have markets from top-10\n",
        "data_top_10 = data.loc[data['market'].isin(top_10_markets.index)]\n",
        "startup_names = data_top_10[\"name\"].values\n",
        "le = LabelEncoder()\n",
        "encoded_market = le.fit_transform(data_top_10[\"market\"])\n",
        "encoded_names = le.fit_transform(data_top_10[\"name\"].values)\n",
        "# Create tensors for ClassificationRNN\n",
        "market_tensor = torch.tensor(encoded_market)\n",
        "market_tensor = market_tensor.type(torch.LongTensor)\n",
        "names_tensor = torch.tensor(encoded_names)\n",
        "names_tensor = names_tensor.type(torch.LongTensor)\n"
      ],
      "execution_count": 86,
      "outputs": []
    },
    {
      "cell_type": "code",
      "source": [],
      "metadata": {
        "id": "bzL0v29cyWw0",
        "outputId": "29c73596-f5b0-4dfd-df38-a3d9cb14ae00",
        "colab": {
          "base_uri": "https://localhost:8080/"
        }
      },
      "execution_count": 93,
      "outputs": [
        {
          "output_type": "execute_result",
          "data": {
            "text/plain": [
              "tensor([5, 9, 2,  ..., 4, 5, 4])"
            ]
          },
          "metadata": {},
          "execution_count": 93
        }
      ]
    },
    {
      "cell_type": "code",
      "source": [
        "import torch.nn as nn\n",
        "num_epochs=5\n",
        "# Define the model architecture\n",
        "class ClassificationModel(nn.Module):\n",
        "    def __init__(self):\n",
        "        super(ClassificationModel, self).__init__()\n",
        "        self.fc = nn.Linear(names_tensor.shape[0], 1)\n",
        "        \n",
        "    def forward(self, x):\n",
        "        x = self.fc(x)\n",
        "        return x\n",
        "\n",
        "# Instantiate the model\n",
        "model = ClassificationModel()\n",
        "\n",
        "# Define the loss function and optimizer\n",
        "criterion = nn.CrossEntropyLoss()\n",
        "optimizer = torch.optim.Adam(model.parameters())\n",
        "\n",
        "# Train the model\n",
        "for epoch in range(num_epochs):\n",
        "    # Convert numpy arrays to torch tensors\n",
        "    # inputs = torch.from_numpy(names_tensor)\n",
        "    inputs = names_tensor\n",
        "    labels = market_tensor\n",
        "\n",
        "    # labels = torch.from_numpy(market_tensor)\n",
        "\n",
        "    # Forward pass\n",
        "    outputs = model(inputs)\n",
        "    loss = criterion(outputs, labels)\n",
        "\n",
        "    # Backward and optimize\n",
        "    optimizer.zero_grad()\n",
        "    loss.backward()\n",
        "    optimizer.step()\n",
        "    print(epoch)\n"
      ],
      "metadata": {
        "id": "tw9aB6rftU9r",
        "outputId": "a71b411d-e640-4160-b041-15c25cf00378",
        "colab": {
          "base_uri": "https://localhost:8080/",
          "height": 389
        }
      },
      "execution_count": 91,
      "outputs": [
        {
          "output_type": "error",
          "ename": "RuntimeError",
          "evalue": "ignored",
          "traceback": [
            "\u001b[0;31m---------------------------------------------------------------------------\u001b[0m",
            "\u001b[0;31mRuntimeError\u001b[0m                              Traceback (most recent call last)",
            "\u001b[0;32m<ipython-input-91-0c7e546859b5>\u001b[0m in \u001b[0;36m<module>\u001b[0;34m\u001b[0m\n\u001b[1;32m     28\u001b[0m \u001b[0;34m\u001b[0m\u001b[0m\n\u001b[1;32m     29\u001b[0m     \u001b[0;31m# Forward pass\u001b[0m\u001b[0;34m\u001b[0m\u001b[0;34m\u001b[0m\u001b[0;34m\u001b[0m\u001b[0m\n\u001b[0;32m---> 30\u001b[0;31m     \u001b[0moutputs\u001b[0m \u001b[0;34m=\u001b[0m \u001b[0mmodel\u001b[0m\u001b[0;34m(\u001b[0m\u001b[0minputs\u001b[0m\u001b[0;34m)\u001b[0m\u001b[0;34m\u001b[0m\u001b[0;34m\u001b[0m\u001b[0m\n\u001b[0m\u001b[1;32m     31\u001b[0m     \u001b[0mloss\u001b[0m \u001b[0;34m=\u001b[0m \u001b[0mcriterion\u001b[0m\u001b[0;34m(\u001b[0m\u001b[0moutputs\u001b[0m\u001b[0;34m,\u001b[0m \u001b[0mlabels\u001b[0m\u001b[0;34m)\u001b[0m\u001b[0;34m\u001b[0m\u001b[0;34m\u001b[0m\u001b[0m\n\u001b[1;32m     32\u001b[0m \u001b[0;34m\u001b[0m\u001b[0m\n",
            "\u001b[0;32m/usr/local/lib/python3.8/dist-packages/torch/nn/modules/module.py\u001b[0m in \u001b[0;36m_call_impl\u001b[0;34m(self, *input, **kwargs)\u001b[0m\n\u001b[1;32m   1192\u001b[0m         if not (self._backward_hooks or self._forward_hooks or self._forward_pre_hooks or _global_backward_hooks\n\u001b[1;32m   1193\u001b[0m                 or _global_forward_hooks or _global_forward_pre_hooks):\n\u001b[0;32m-> 1194\u001b[0;31m             \u001b[0;32mreturn\u001b[0m \u001b[0mforward_call\u001b[0m\u001b[0;34m(\u001b[0m\u001b[0;34m*\u001b[0m\u001b[0minput\u001b[0m\u001b[0;34m,\u001b[0m \u001b[0;34m**\u001b[0m\u001b[0mkwargs\u001b[0m\u001b[0;34m)\u001b[0m\u001b[0;34m\u001b[0m\u001b[0;34m\u001b[0m\u001b[0m\n\u001b[0m\u001b[1;32m   1195\u001b[0m         \u001b[0;31m# Do not call functions when jit is used\u001b[0m\u001b[0;34m\u001b[0m\u001b[0;34m\u001b[0m\u001b[0;34m\u001b[0m\u001b[0m\n\u001b[1;32m   1196\u001b[0m         \u001b[0mfull_backward_hooks\u001b[0m\u001b[0;34m,\u001b[0m \u001b[0mnon_full_backward_hooks\u001b[0m \u001b[0;34m=\u001b[0m \u001b[0;34m[\u001b[0m\u001b[0;34m]\u001b[0m\u001b[0;34m,\u001b[0m \u001b[0;34m[\u001b[0m\u001b[0;34m]\u001b[0m\u001b[0;34m\u001b[0m\u001b[0;34m\u001b[0m\u001b[0m\n",
            "\u001b[0;32m<ipython-input-91-0c7e546859b5>\u001b[0m in \u001b[0;36mforward\u001b[0;34m(self, x)\u001b[0m\n\u001b[1;32m      8\u001b[0m \u001b[0;34m\u001b[0m\u001b[0m\n\u001b[1;32m      9\u001b[0m     \u001b[0;32mdef\u001b[0m \u001b[0mforward\u001b[0m\u001b[0;34m(\u001b[0m\u001b[0mself\u001b[0m\u001b[0;34m,\u001b[0m \u001b[0mx\u001b[0m\u001b[0;34m)\u001b[0m\u001b[0;34m:\u001b[0m\u001b[0;34m\u001b[0m\u001b[0;34m\u001b[0m\u001b[0m\n\u001b[0;32m---> 10\u001b[0;31m         \u001b[0mx\u001b[0m \u001b[0;34m=\u001b[0m \u001b[0mself\u001b[0m\u001b[0;34m.\u001b[0m\u001b[0mfc\u001b[0m\u001b[0;34m(\u001b[0m\u001b[0mx\u001b[0m\u001b[0;34m)\u001b[0m\u001b[0;34m\u001b[0m\u001b[0;34m\u001b[0m\u001b[0m\n\u001b[0m\u001b[1;32m     11\u001b[0m         \u001b[0;32mreturn\u001b[0m \u001b[0mx\u001b[0m\u001b[0;34m\u001b[0m\u001b[0;34m\u001b[0m\u001b[0m\n\u001b[1;32m     12\u001b[0m \u001b[0;34m\u001b[0m\u001b[0m\n",
            "\u001b[0;32m/usr/local/lib/python3.8/dist-packages/torch/nn/modules/module.py\u001b[0m in \u001b[0;36m_call_impl\u001b[0;34m(self, *input, **kwargs)\u001b[0m\n\u001b[1;32m   1192\u001b[0m         if not (self._backward_hooks or self._forward_hooks or self._forward_pre_hooks or _global_backward_hooks\n\u001b[1;32m   1193\u001b[0m                 or _global_forward_hooks or _global_forward_pre_hooks):\n\u001b[0;32m-> 1194\u001b[0;31m             \u001b[0;32mreturn\u001b[0m \u001b[0mforward_call\u001b[0m\u001b[0;34m(\u001b[0m\u001b[0;34m*\u001b[0m\u001b[0minput\u001b[0m\u001b[0;34m,\u001b[0m \u001b[0;34m**\u001b[0m\u001b[0mkwargs\u001b[0m\u001b[0;34m)\u001b[0m\u001b[0;34m\u001b[0m\u001b[0;34m\u001b[0m\u001b[0m\n\u001b[0m\u001b[1;32m   1195\u001b[0m         \u001b[0;31m# Do not call functions when jit is used\u001b[0m\u001b[0;34m\u001b[0m\u001b[0;34m\u001b[0m\u001b[0;34m\u001b[0m\u001b[0m\n\u001b[1;32m   1196\u001b[0m         \u001b[0mfull_backward_hooks\u001b[0m\u001b[0;34m,\u001b[0m \u001b[0mnon_full_backward_hooks\u001b[0m \u001b[0;34m=\u001b[0m \u001b[0;34m[\u001b[0m\u001b[0;34m]\u001b[0m\u001b[0;34m,\u001b[0m \u001b[0;34m[\u001b[0m\u001b[0;34m]\u001b[0m\u001b[0;34m\u001b[0m\u001b[0;34m\u001b[0m\u001b[0m\n",
            "\u001b[0;32m/usr/local/lib/python3.8/dist-packages/torch/nn/modules/linear.py\u001b[0m in \u001b[0;36mforward\u001b[0;34m(self, input)\u001b[0m\n\u001b[1;32m    112\u001b[0m \u001b[0;34m\u001b[0m\u001b[0m\n\u001b[1;32m    113\u001b[0m     \u001b[0;32mdef\u001b[0m \u001b[0mforward\u001b[0m\u001b[0;34m(\u001b[0m\u001b[0mself\u001b[0m\u001b[0;34m,\u001b[0m \u001b[0minput\u001b[0m\u001b[0;34m:\u001b[0m \u001b[0mTensor\u001b[0m\u001b[0;34m)\u001b[0m \u001b[0;34m->\u001b[0m \u001b[0mTensor\u001b[0m\u001b[0;34m:\u001b[0m\u001b[0;34m\u001b[0m\u001b[0;34m\u001b[0m\u001b[0m\n\u001b[0;32m--> 114\u001b[0;31m         \u001b[0;32mreturn\u001b[0m \u001b[0mF\u001b[0m\u001b[0;34m.\u001b[0m\u001b[0mlinear\u001b[0m\u001b[0;34m(\u001b[0m\u001b[0minput\u001b[0m\u001b[0;34m,\u001b[0m \u001b[0mself\u001b[0m\u001b[0;34m.\u001b[0m\u001b[0mweight\u001b[0m\u001b[0;34m,\u001b[0m \u001b[0mself\u001b[0m\u001b[0;34m.\u001b[0m\u001b[0mbias\u001b[0m\u001b[0;34m)\u001b[0m\u001b[0;34m\u001b[0m\u001b[0;34m\u001b[0m\u001b[0m\n\u001b[0m\u001b[1;32m    115\u001b[0m \u001b[0;34m\u001b[0m\u001b[0m\n\u001b[1;32m    116\u001b[0m     \u001b[0;32mdef\u001b[0m \u001b[0mextra_repr\u001b[0m\u001b[0;34m(\u001b[0m\u001b[0mself\u001b[0m\u001b[0;34m)\u001b[0m \u001b[0;34m->\u001b[0m \u001b[0mstr\u001b[0m\u001b[0;34m:\u001b[0m\u001b[0;34m\u001b[0m\u001b[0;34m\u001b[0m\u001b[0m\n",
            "\u001b[0;31mRuntimeError\u001b[0m: expected scalar type Long but found Float"
          ]
        }
      ]
    },
    {
      "cell_type": "code",
      "source": [],
      "metadata": {
        "id": "T92D980rvzRo"
      },
      "execution_count": null,
      "outputs": []
    }
  ]
}