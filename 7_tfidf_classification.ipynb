{
  "cells": [
    {
      "cell_type": "markdown",
      "metadata": {
        "id": "view-in-github",
        "colab_type": "text"
      },
      "source": [
        "<a href=\"https://colab.research.google.com/github/mohammadsanaee/ML_in_application/blob/main/7_tfidf_classification.ipynb\" target=\"_parent\"><img src=\"https://colab.research.google.com/assets/colab-badge.svg\" alt=\"Open In Colab\"/></a>"
      ]
    },
    {
      "cell_type": "code",
      "execution_count": 2,
      "metadata": {
        "colab": {
          "base_uri": "https://localhost:8080/"
        },
        "id": "iP2N3UpjarIA",
        "outputId": "00ae790f-e88f-4bfa-b3d9-612493f27583"
      },
      "outputs": [
        {
          "output_type": "stream",
          "name": "stdout",
          "text": [
            "Cloning into 'harbour-space-text-mining-course'...\n",
            "remote: Enumerating objects: 738, done.\u001b[K\n",
            "remote: Counting objects: 100% (175/175), done.\u001b[K\n",
            "remote: Compressing objects: 100% (105/105), done.\u001b[K\n",
            "remote: Total 738 (delta 79), reused 158 (delta 69), pack-reused 563\u001b[K\n",
            "Receiving objects: 100% (738/738), 179.50 MiB | 15.08 MiB/s, done.\n",
            "Resolving deltas: 100% (403/403), done.\n",
            "Updating files: 100% (129/129), done.\n"
          ]
        }
      ],
      "source": [
        "#@title <b><font color=\"red\">▶</font><font color=\"black\"> run this cell to prepare supplementary materials for the lesson</font></b>\n",
        "\n",
        "!rm -rf harbour-space-text-mining-course\n",
        "!git clone https://github.com/horoshenkih/harbour-space-text-mining-course.git\n",
        "import sys\n",
        "sys.path.append('harbour-space-text-mining-course')\n",
        "\n",
        "from tmcourse.utils import (\n",
        "    calendar_table,\n",
        "    visualize_term_counter,\n",
        "    enable_mathjax_in_cell,\n",
        "    plot_confusion_matrix,\n",
        "    show_vectorizer_largest_components,\n",
        "    display_cv_results,\n",
        ")\n",
        "from tmcourse.ipyquiz import Quiz, Function\n",
        "from tmcourse.quiz import (\n",
        "    quiz_tfidf,\n",
        "    quiz_kmeans,\n",
        "    quiz_estimate_clustering_quality,\n",
        ")\n",
        "\n",
        "from tmcourse.demo import (\n",
        "    demo_kmeans,\n",
        ")\n",
        "\n",
        "from collections import Counter, defaultdict\n",
        "from math import exp\n",
        "from tabulate import tabulate\n",
        "from pprint import pprint\n",
        "from tqdm.notebook import tqdm\n",
        "from IPython.display import HTML, display\n",
        "from datetime import date\n",
        "import pandas as pd\n",
        "import numpy as np\n",
        "import matplotlib.pyplot as plt\n",
        "from datetime import date\n",
        "import glob"
      ]
    },
    {
      "cell_type": "markdown",
      "metadata": {
        "id": "FWxF9IYN0zuo"
      },
      "source": [
        "<!--@slideshow slide-->\n",
        "<h1><center>TF-IDF. Text classification.</center></h1>"
      ]
    },
    {
      "cell_type": "markdown",
      "metadata": {
        "id": "TK92FbFeIpKD"
      },
      "source": [
        "<!--@slideshow slide-->\n",
        "# Dataset: Elon Musk tweets 2010-2021\n",
        "\n",
        "In this lesson, we will study [Elon Musk tweets](https://www.kaggle.com/ayhmrba/elon-musk-tweets-2010-2021) stored in CSV files in [the course repo on GitHub](https://github.com/horoshenkih/harbour-space-text-mining-course).\n"
      ]
    },
    {
      "cell_type": "code",
      "execution_count": null,
      "metadata": {
        "id": "vanZAFmHbEZM"
      },
      "outputs": [],
      "source": [
        "#@slideshow fragment\n",
        "import glob\n",
        "\n",
        "dataset_files = glob.glob(\"harbour-space-text-mining-course/datasets/musk/*.csv\")\n",
        "dfs = [pd.read_csv(f) for f in dataset_files]\n",
        "df = pd.concat(dfs, axis=0, ignore_index=True)"
      ]
    },
    {
      "cell_type": "markdown",
      "metadata": {
        "id": "9x7viXufIDh0"
      },
      "source": [
        "<!--@slideshow slide-->\n",
        "# \"Words of a day\"\n",
        "\n",
        "**Problem statement**\n",
        "\n",
        "For each day, find words which are \"specific\" for this day in Musk tweets.\n"
      ]
    },
    {
      "cell_type": "markdown",
      "metadata": {
        "id": "ToKZiA0YssNI"
      },
      "source": [
        "<!--@slideshow fragment-->\n",
        "**Definitions and notation**:\n",
        "- *Term* (notation: $t$) is a \"meaningful\" piece of text (lemma in our case).\n",
        "- *Document* (notation: $d$) is the collection of tweets created on a given day.\n",
        "- $D$ is the set of all documents (not tweets!)."
      ]
    },
    {
      "cell_type": "markdown",
      "metadata": {
        "id": "OD-b8SXwsZmb"
      },
      "source": [
        "<!--@slideshow slide-->\n",
        "The first attempt: find the most frequent term for each document."
      ]
    },
    {
      "cell_type": "code",
      "execution_count": null,
      "metadata": {
        "colab": {
          "base_uri": "https://localhost:8080/"
        },
        "id": "TQ4PifKW2BCL",
        "outputId": "2d30a985-5c3b-47c7-d0a7-0737c09b13ff",
        "cellView": "code"
      },
      "outputs": [
        {
          "output_type": "stream",
          "name": "stderr",
          "text": [
            "/usr/local/lib/python3.8/dist-packages/torch/cuda/__init__.py:497: UserWarning: Can't initialize NVML\n",
            "  warnings.warn(\"Can't initialize NVML\")\n"
          ]
        },
        {
          "output_type": "stream",
          "name": "stdout",
          "text": [
            "preprocessed_tweets = \n",
            "[(datetime.date(2012, 12, 25),\n",
            "  ['@karlschroeder', 'interesting', 'premise', '.', 'i', 'will', 'read', 'it',\n",
            "   '.']),\n",
            " (datetime.date(2012, 12, 25),\n",
            "  ['@tristanlaurent', 'v', 'cute', '!', 'merry', 'xmas', '.']),\n",
            " (datetime.date(2012, 12, 24),\n",
            "  ['cowboy', 'riding', 'the', 'rocket', 'no', 'problemo', ' ',\n",
            "   'http://t.co/yzdnpwx3'])]\n"
          ]
        }
      ],
      "source": [
        "#@slideshow fragment tags=remove_input\n",
        "from dateutil.parser import parse as parse_datetime  # convert a string in any format to a datetime object\n",
        "# preprocess the data: convert each tweet into a tuple (date, lemmas_list)\n",
        "\n",
        "import spacy\n",
        "nlp = spacy.load(\"en_core_web_sm\", disable=[\"parser\", \"ner\", \"tok2vec\"])\n",
        "\n",
        "def extract_lemmas(r):\n",
        "    # take the specifics of tweets into account: ignore tokens which represent https://t.co/... hyperlinks\n",
        "    return [\n",
        "        token.lemma_\n",
        "        for token in nlp(r['tweet'])\n",
        "        if not token.lemma_.startswith('https://t.co')\n",
        "    ]\n",
        "\n",
        "df['tweet_date'] = df.apply(lambda r: parse_datetime(r['date']).date(), axis=1)\n",
        "df['tweet_lemmas'] = df.apply(extract_lemmas, axis=1)\n",
        "preprocessed_tweets = [\n",
        "    (r['tweet_date'], r['tweet_lemmas'])\n",
        "    for _, r in\n",
        "    df.reset_index().iterrows()\n",
        "]\n",
        "\n",
        "# this is how the preprocessed data looks like\n",
        "print(\"preprocessed_tweets = \")\n",
        "pprint(preprocessed_tweets[:3], compact=True)"
      ]
    },
    {
      "cell_type": "code",
      "execution_count": null,
      "metadata": {
        "id": "007hE8r3s9ez"
      },
      "outputs": [],
      "source": [
        "NUM_WORDS_OF_A_DAY = 5  # how many words 'describe' a day"
      ]
    },
    {
      "cell_type": "code",
      "execution_count": null,
      "metadata": {
        "id": "ho9X-7DkCrqI",
        "colab": {
          "base_uri": "https://localhost:8080/",
          "height": 49,
          "referenced_widgets": [
            "9b3cb38641174b8b96cc03f3c4e9926c",
            "ae694ed9b0e44b7283c5d227da57d40b",
            "0943416d28d6454eb5d75ca285ebbb7b",
            "efad32d33edd4cddb081244adc7557e7",
            "227fe954797a4b57878b1ec2e5ac141a",
            "a66e17da265f4de9a41256d85932ba94",
            "5bb0387209fa4107b135737b6d90f3af",
            "fcf9175078ae4b5fa5d72a00b42f8d3e",
            "5d3cc34d84054c5a805ea2fe3415ae29",
            "afcb2391451d465dbca63b07fc0ecc91",
            "f52643ee91d64940a99e96d460271a5d"
          ]
        },
        "outputId": "7eb894c1-c130-4e67-fc9a-3e2e3da5f1fe"
      },
      "outputs": [
        {
          "output_type": "display_data",
          "data": {
            "text/plain": [
              "  0%|          | 0/43074 [00:00<?, ?it/s]"
            ],
            "application/vnd.jupyter.widget-view+json": {
              "version_major": 2,
              "version_minor": 0,
              "model_id": "9b3cb38641174b8b96cc03f3c4e9926c"
            }
          },
          "metadata": {}
        }
      ],
      "source": [
        "#@slideshow slide\n",
        "# term count for each document\n",
        "document_term_counter = defaultdict(Counter)\n",
        "for tweet_date, tweet_lemmas in tqdm(preprocessed_tweets):\n",
        "    for lemma in tweet_lemmas:\n",
        "        # tweet_date is the document\n",
        "        # lemma is the term\n",
        "        document_term_counter[tweet_date][lemma] += 1"
      ]
    },
    {
      "cell_type": "code",
      "execution_count": null,
      "metadata": {
        "id": "a8_8htmsbTjg",
        "colab": {
          "base_uri": "https://localhost:8080/",
          "height": 1000
        },
        "outputId": "93407e08-5735-4624-bd7e-0f1dc15f399f"
      },
      "outputs": [
        {
          "output_type": "display_data",
          "data": {
            "text/plain": [
              "<IPython.core.display.HTML object>"
            ],
            "text/html": [
              "<style>\n",
              "    th, td {\n",
              "      padding: 8px;\n",
              "      text-align: center;\n",
              "      border-bottom: 1px solid #ddd;\n",
              "      font-size: 20;\n",
              "    }\n",
              "    tr {\n",
              "      font-size: 20;\n",
              "    }\n",
              "    </style><table><tr><th>week</th><th>Mon</th><th>Tue</th><th>Wed</th><th>Thu</th><th>Fri</th><th>Sat</th><th>Sun</th></tr><tr><td>2020-03-30 - 2020-04-05</td><td><div style=\"color:rgba(0, 0, 255, 0.2363636363636364);font-weight:bold\">  for @ian1219 ok @renatakonkoly</div></td><td><div style=\"color:rgba(0, 0, 255, 0.38181818181818183);font-weight:bold\">. , be will the</div></td><td><div style=\"color:rgba(0, 0, 255, 0.27272727272727276);font-weight:bold\">, @kimitalvitie . need wider</div></td><td><div style=\"color:rgba(0, 0, 255, 0.4454545454545455);font-weight:bold\">. @thirdrowtesla , @28delayslater to</div></td><td><div style=\"color:rgba(0, 0, 255, 0.5363636363636364);font-weight:bold\">. to @thirdrowtesla , &</div></td><td><div style=\"color:rgba(0, 0, 255, 0.3090909090909091);font-weight:bold\">@28delayslater @thirdrowtesla .   @teslaownerssv</div></td><td><div style=\"color:rgba(0, 0, 255, 0.6090909090909091);font-weight:bold\">. , the in is</div></td></tr><tr><td>2020-04-06 - 2020-04-12</td><td><div style=\"color:rgba(0, 0, 255, 0.3090909090909091);font-weight:bold\">@thirdrowtesla 🤣 @morgan_murphy a not</div></td><td><div style=\"color:rgba(0, 0, 255, 0.24545454545454548);font-weight:bold\">@johnkrausphotos @erdayastronaut & amp ;</div></td><td><div style=\"color:rgba(0, 0, 255, 0.32727272727272727);font-weight:bold\">@thirdrowtesla in a . @flcnhvy</div></td><td><div style=\"color:rgba(0, 0, 255, 0.4727272727272727);font-weight:bold\">@thirdrowtesla @rationaletienne @sofiaan @icannot_enough @hein_the_slayer</div></td><td><div style=\"color:rgba(0, 0, 255, 0.28181818181818186);font-weight:bold\">to for but . @cleantechnica</div></td><td><div style=\"color:rgba(0, 0, 255, 0.4);font-weight:bold\">. , is a the</div></td><td><div style=\"color:rgba(0, 0, 255, 0.2909090909090909);font-weight:bold\">. the for @livingtesla @tesla</div></td></tr><tr><td>2020-04-13 - 2020-04-19</td><td><div style=\"color:rgba(0, 0, 255, 0.32727272727272727);font-weight:bold\">, @thirdrowtesla will just .</div></td><td><div style=\"color:rgba(0, 0, 255, 0.24545454545454548);font-weight:bold\">will giga berlin it ’s</div></td><td><div style=\"color:rgba(0, 0, 255, 0.2272727272727273);font-weight:bold\">to be , clear fremont</div></td><td><div style=\"color:rgba(0, 0, 255, 1.6636363636363638);font-weight:bold\">. , is @erdayastronaut @sciguyspace</div></td><td><div style=\"color:rgba(0, 0, 255, 0.4);font-weight:bold\">. , & amp ;</div></td><td><div style=\"color:rgba(0, 0, 255, 0.4090909090909091);font-weight:bold\">. , ! the @erdayastronaut</div></td><td><div style=\"color:rgba(0, 0, 255, 0.5545454545454546);font-weight:bold\">. , is the @erdayastronaut</div></td></tr><tr><td>2020-04-20 - 2020-04-26</td><td><div style=\"color:rgba(0, 0, 255, 0.3090909090909091);font-weight:bold\">! @kristennetten @thirdrowtesla @tesla i</div></td><td><div style=\"color:rgba(0, 0, 255, 0.24545454545454548);font-weight:bold\">on @ppathole @anniew the ,</div></td><td><div style=\"color:rgba(0, 0, 255, 0.4545454545454546);font-weight:bold\">. @thirdrowtesla @mfrunker , @supernova_style</div></td><td><div style=\"color:rgba(0, 0, 255, 0.49090909090909096);font-weight:bold\">, . @teslaownerssv is &</div></td><td><div style=\"color:rgba(0, 0, 255, 0.32727272727272727);font-weight:bold\">to 🤣 is @tesla .</div></td><td><div style=\"color:rgba(0, 0, 255, 0.5363636363636364);font-weight:bold\">. is to be ,</div></td><td><div style=\"color:rgba(0, 0, 255, 0.37272727272727274);font-weight:bold\">. of is @nasaspaceflight a</div></td></tr><tr><td>2020-04-27 - 2020-05-03</td><td><div style=\"color:rgba(0, 0, 255, 0.4);font-weight:bold\">is ! to . of</div></td><td><div style=\"color:rgba(0, 0, 255, 0.18181818181818182);font-weight:bold\">@redtheraider @tedhu @officialmcafee 💯</div></td><td><div style=\"color:rgba(0, 0, 255, 0.2545454545454546);font-weight:bold\">!   yes , @skorusark</div></td><td><div style=\"color:rgba(0, 0, 255, 0.2909090909090909);font-weight:bold\">is   this ! to</div></td><td><div style=\"color:rgba(0, 0, 255, 0.4545454545454546);font-weight:bold\">the . is to on</div></td><td><div style=\"color:rgba(0, 0, 255, 0.27272727272727276);font-weight:bold\">@grimezsz the @thirdrowtesla 🤣 @biogirl09</div></td><td><div style=\"color:rgba(0, 0, 255, 0.36363636363636365);font-weight:bold\">, a . ? that</div></td></tr><tr><td>2020-05-04 - 2020-05-10</td><td><div style=\"color:rgba(0, 0, 255, 0.49090909090909096);font-weight:bold\">. ! @blazingtorchic _ is</div></td><td><div style=\"color:rgba(0, 0, 255, 0.4272727272727273);font-weight:bold\">. a @priscillabanana @alexberenson @neil_ferguson</div></td><td><div style=\"color:rgba(0, 0, 255, 0.37272727272727274);font-weight:bold\">@grimezsz ! , the .</div></td><td><div style=\"color:rgba(0, 0, 255, 0.7363636363636363);font-weight:bold\">. , the a @erdayastronaut</div></td><td><div style=\"color:rgba(0, 0, 255, 0.5545454545454546);font-weight:bold\">, the . to @mayemusk</div></td><td><div style=\"color:rgba(0, 0, 255, 0.6636363636363637);font-weight:bold\">, . @thirdrowtesla @gerberkawasaki the</div></td><td><div style=\"color:rgba(0, 0, 255, 0.27272727272727276);font-weight:bold\">, to @rbreich they @legendaryenergy</div></td></tr><tr><td>2020-05-11 - 2020-05-17</td><td><div style=\"color:rgba(0, 0, 255, 0.4545454545454546);font-weight:bold\">. , is ! @thirdrowtesla</div></td><td><div style=\"color:rgba(0, 0, 255, 0.4363636363636364);font-weight:bold\">. , a that !</div></td><td><div style=\"color:rgba(0, 0, 255, 0.35454545454545455);font-weight:bold\">of is @sciguyspace ! heavy</div></td><td><div style=\"color:rgba(0, 0, 255, 0.2181818181818182);font-weight:bold\">exactly @jpr007   @alexberenson @nytimes</div></td><td><div style=\"color:rgba(0, 0, 255, 1.0363636363636364);font-weight:bold\">. the , is in</div></td><td></td><td><div style=\"color:rgba(0, 0, 255, 0.24545454545454548);font-weight:bold\">@jeff_foust @bluemoondance74 . & amp</div></td></tr><tr><td>2020-05-18 - 2020-05-24</td><td><div style=\"color:rgba(0, 0, 255, 0.2909090909090909);font-weight:bold\">. the to a fsd</div></td><td><div style=\"color:rgba(0, 0, 255, 0.2181818181818182);font-weight:bold\">! cancel 🤣 @rationaletienne i</div></td><td><div style=\"color:rgba(0, 0, 255, 0.16363636363636364);font-weight:bold\">@flcnhvy true</div></td><td><div style=\"color:rgba(0, 0, 255, 0.19090909090909092);font-weight:bold\">@janeidyeve sure @hackclub cool group</div></td><td><div style=\"color:rgba(0, 0, 255, 0.3090909090909091);font-weight:bold\">@spacex @whatsupfranks of to new</div></td><td><div style=\"color:rgba(0, 0, 255, 0.37272727272727274);font-weight:bold\">. to is be a</div></td><td><div style=\"color:rgba(0, 0, 255, 0.2363636363636364);font-weight:bold\">🤣 @jimkwik @jadescipioni @theonion a</div></td></tr><tr><td>2020-05-25 - 2020-05-31</td><td><div style=\"color:rgba(0, 0, 255, 0.2090909090909091);font-weight:bold\">. @virgin_orbit sorry to hear</div></td><td><div style=\"color:rgba(0, 0, 255, 0.2181818181818182);font-weight:bold\">!   @realclearnews @samtalkstesla @rationaletienne</div></td><td><div style=\"color:rgba(0, 0, 255, 0.2090909090909091);font-weight:bold\">@sciguyspace   he is great</div></td><td></td><td><div style=\"color:rgba(0, 0, 255, 0.24545454545454548);font-weight:bold\">, . @vincent13031925 to !</div></td><td><div style=\"color:rgba(0, 0, 255, 0.2272727272727273);font-weight:bold\">to , risk 5 mins</div></td><td><div style=\"color:rgba(0, 0, 255, 0.26363636363636367);font-weight:bold\">@spacex @nasa @space_station @nasaspaceflight ,</div></td></tr><tr><td>2020-06-01 - 2020-06-07</td><td><div style=\"color:rgba(0, 0, 255, 0.2545454545454546);font-weight:bold\">the to officers does ?</div></td><td><div style=\"color:rgba(0, 0, 255, 0.19090909090909092);font-weight:bold\">off twitter for a while</div></td><td></td><td><div style=\"color:rgba(0, 0, 255, 0.38181818181818183);font-weight:bold\">. is to years !</div></td><td><div style=\"color:rgba(0, 0, 255, 0.2272727272727273);font-weight:bold\">. @flcnhvy @jbw29pitt @ppathole @nasaspaceflight</div></td><td><div style=\"color:rgba(0, 0, 255, 0.30000000000000004);font-weight:bold\">the in ,   a</div></td><td><div style=\"color:rgba(0, 0, 255, 0.32727272727272727);font-weight:bold\">@nasaspaceflight . @erdayastronaut of @flcnhvy</div></td></tr><tr><td>2020-06-08 - 2020-06-14</td><td><div style=\"color:rgba(0, 0, 255, 0.4636363636363636);font-weight:bold\">. to is the &</div></td><td><div style=\"color:rgba(0, 0, 255, 0.2);font-weight:bold\">🤣 @univercurious size matters @xkcdcomic</div></td><td><div style=\"color:rgba(0, 0, 255, 0.8090909090909091);font-weight:bold\">. , of & amp</div></td><td><div style=\"color:rgba(0, 0, 255, 0.39090909090909093);font-weight:bold\">. @mrkylefield @cleantechnica , a</div></td><td></td><td></td><td><div style=\"color:rgba(0, 0, 255, 0.2181818181818182);font-weight:bold\">. in @futurejurvetson @spacexstarlink @spacex</div></td></tr><tr><td>2020-06-15 - 2020-06-21</td><td><div style=\"color:rgba(0, 0, 255, 0.5454545454545454);font-weight:bold\">. , the to is</div></td><td><div style=\"color:rgba(0, 0, 255, 0.4181818181818182);font-weight:bold\">. , is be &</div></td><td><div style=\"color:rgba(0, 0, 255, 0.2);font-weight:bold\">. @nyyscorekeep not sure they</div></td><td><div style=\"color:rgba(0, 0, 255, 0.2272727272727273);font-weight:bold\">@michaelaokla 🤣 @teslarati has @holy_schnitt</div></td><td><div style=\"color:rgba(0, 0, 255, 0.24545454545454548);font-weight:bold\">of a - is @tesla</div></td><td><div style=\"color:rgba(0, 0, 255, 0.34545454545454546);font-weight:bold\">. to the @cleantechnica ,</div></td><td><div style=\"color:rgba(0, 0, 255, 0.7272727272727273);font-weight:bold\">, . to the of</div></td></tr><tr><td>2020-06-22 - 2020-06-28</td><td><div style=\"color:rgba(0, 0, 255, 0.2909090909090909);font-weight:bold\">tesla . $ - @teslaownersebay</div></td><td><div style=\"color:rgba(0, 0, 255, 0.2272727272727273);font-weight:bold\">. this , @toscamusk congratulations</div></td><td><div style=\"color:rgba(0, 0, 255, 0.30000000000000004);font-weight:bold\">, @peternowak yes is to</div></td><td><div style=\"color:rgba(0, 0, 255, 0.36363636363636365);font-weight:bold\">the to & amp ;</div></td><td><div style=\"color:rgba(0, 0, 255, 0.34545454545454546);font-weight:bold\">is . ! a ,</div></td><td><div style=\"color:rgba(0, 0, 255, 0.27272727272727276);font-weight:bold\">for the , & amp</div></td><td><div style=\"color:rgba(0, 0, 255, 0.2363636363636364);font-weight:bold\">, tesla * automaker .</div></td></tr><tr><td>2020-06-29 - 2020-07-05</td><td><div style=\"color:rgba(0, 0, 255, 0.30000000000000004);font-weight:bold\">tests . are of positive</div></td><td><div style=\"color:rgba(0, 0, 255, 0.35454545454545455);font-weight:bold\">. , c19 @kimbal @whatsupfranks</div></td><td><div style=\"color:rgba(0, 0, 255, 0.4363636363636364);font-weight:bold\">. , to of &</div></td><td><div style=\"color:rgba(0, 0, 255, 0.8363636363636364);font-weight:bold\">. , to 🤣 !</div></td><td><div style=\"color:rgba(0, 0, 255, 0.6272727272727272);font-weight:bold\">. , of to is</div></td><td><div style=\"color:rgba(0, 0, 255, 0.8363636363636364);font-weight:bold\">, . a is to</div></td><td><div style=\"color:rgba(0, 0, 255, 0.4363636363636364);font-weight:bold\">, . @flcnhvy the of</div></td></tr><tr><td>2020-07-06 - 2020-07-12</td><td><div style=\"color:rgba(0, 0, 255, 0.2545454545454546);font-weight:bold\">! @teslarati for it .</div></td><td><div style=\"color:rgba(0, 0, 255, 0.30000000000000004);font-weight:bold\">, . of to @valleyhack</div></td><td><div style=\"color:rgba(0, 0, 255, 0.19090909090909092);font-weight:bold\">@vincent13031925 @teslacn @evafoxu tesla china</div></td><td><div style=\"color:rgba(0, 0, 255, 0.2909090909090909);font-weight:bold\">, & amp ; @ppathole</div></td><td><div style=\"color:rgba(0, 0, 255, 0.5818181818181818);font-weight:bold\">. the of , a</div></td><td><div style=\"color:rgba(0, 0, 255, 0.2363636363636364);font-weight:bold\">74 65 78 20 @mkbhd</div></td><td><div style=\"color:rgba(0, 0, 255, 0.2181818181818182);font-weight:bold\">. is @wholemarsblog thanks :)</div></td></tr><tr><td>2020-07-13 - 2020-07-19</td><td><div style=\"color:rgba(0, 0, 255, 0.5636363636363637);font-weight:bold\">. , @teslaratiteam @teslarati @jgrano305</div></td><td><div style=\"color:rgba(0, 0, 255, 0.4636363636363636);font-weight:bold\">, . to of the</div></td><td><div style=\"color:rgba(0, 0, 255, 0.4090909090909091);font-weight:bold\">is . @bbcsciencenews , a</div></td><td></td><td><div style=\"color:rgba(0, 0, 255, 0.19090909090909092);font-weight:bold\">💕 just stop @evafoxu</div></td><td><div style=\"color:rgba(0, 0, 255, 0.34545454545454546);font-weight:bold\">, @flcnhvy . @m4ttwegner is</div></td><td><div style=\"color:rgba(0, 0, 255, 0.4545454545454546);font-weight:bold\">. , to it is</div></td></tr><tr><td>2020-07-20 - 2020-07-26</td><td><div style=\"color:rgba(0, 0, 255, 0.3090909090909091);font-weight:bold\">. in @spacex ! long</div></td><td><div style=\"color:rgba(0, 0, 255, 0.32727272727272727);font-weight:bold\">to & amp ; we</div></td><td><div style=\"color:rgba(0, 0, 255, 0.31818181818181823);font-weight:bold\">, the a people in</div></td><td><div style=\"color:rgba(0, 0, 255, 0.36363636363636365);font-weight:bold\">. , for @tesla are</div></td><td><div style=\"color:rgba(0, 0, 255, 0.4545454545454546);font-weight:bold\">to . of the ,</div></td><td><div style=\"color:rgba(0, 0, 255, 0.2272727272727273);font-weight:bold\">@historyofarmani no , 🤣 @adolfo_morenos</div></td><td><div style=\"color:rgba(0, 0, 255, 0.37272727272727274);font-weight:bold\">the @ajtourville ! @maureendowd 🤣</div></td></tr><tr><td>2020-07-27 - 2020-08-02</td><td><div style=\"color:rgba(0, 0, 255, 0.4363636363636364);font-weight:bold\">. is the @theonion a</div></td><td><div style=\"color:rgba(0, 0, 255, 0.38181818181818183);font-weight:bold\">@berniesanders . @schristakos the to</div></td><td><div style=\"color:rgba(0, 0, 255, 0.28181818181818186);font-weight:bold\">@teslarati in the . !</div></td><td><div style=\"color:rgba(0, 0, 255, 0.6727272727272728);font-weight:bold\">.   of @ppathole for</div></td><td><div style=\"color:rgba(0, 0, 255, 0.28181818181818186);font-weight:bold\">the for , @engineers_feed was</div></td><td><div style=\"color:rgba(0, 0, 255, 0.2181818181818182);font-weight:bold\">the is . @engineeringvids simplest</div></td><td><div style=\"color:rgba(0, 0, 255, 0.37272727272727274);font-weight:bold\">, of @spacex in to</div></td></tr><tr><td>2020-08-03 - 2020-08-09</td><td><div style=\"color:rgba(0, 0, 255, 0.2363636363636364);font-weight:bold\">@erdayastronaut i in . @engineers_feed</div></td><td><div style=\"color:rgba(0, 0, 255, 0.2545454545454546);font-weight:bold\">@cleantechnica . likely @lindw0rm true</div></td><td><div style=\"color:rgba(0, 0, 255, 0.2545454545454546);font-weight:bold\">@trevormahlmann @arstechnica , legs will</div></td><td><div style=\"color:rgba(0, 0, 255, 0.16363636363636364);font-weight:bold\">sn5  </div></td><td><div style=\"color:rgba(0, 0, 255, 0.3090909090909091);font-weight:bold\">@nasaspaceflight / @teslarati @erdayastronaut @queue_max</div></td><td><div style=\"color:rgba(0, 0, 255, 0.4272727272727273);font-weight:bold\">. @berniesanders , to &</div></td><td><div style=\"color:rgba(0, 0, 255, 0.2090909090909091);font-weight:bold\">’s . @archillect twin peaks</div></td></tr><tr><td>2020-08-10 - 2020-08-16</td><td></td><td><div style=\"color:rgba(0, 0, 255, 0.32727272727272727);font-weight:bold\">to . & amp ;</div></td><td><div style=\"color:rgba(0, 0, 255, 0.17272727272727273);font-weight:bold\">@teslarati no surprise</div></td><td><div style=\"color:rgba(0, 0, 255, 0.36363636363636365);font-weight:bold\">. to @timfernholz that are</div></td><td><div style=\"color:rgba(0, 0, 255, 0.8181818181818181);font-weight:bold\">. , @erdayastronaut is the</div></td><td><div style=\"color:rgba(0, 0, 255, 0.4636363636363636);font-weight:bold\">. , @flcnhvy @icannot_enough @tesla</div></td><td><div style=\"color:rgba(0, 0, 255, 0.27272727272727276);font-weight:bold\">, you is @tbdnonymous 🤣</div></td></tr><tr><td>2020-08-17 - 2020-08-23</td><td><div style=\"color:rgba(0, 0, 255, 0.48181818181818187);font-weight:bold\">. of , that be</div></td><td><div style=\"color:rgba(0, 0, 255, 0.4);font-weight:bold\">. , in is are</div></td><td><div style=\"color:rgba(0, 0, 255, 0.8);font-weight:bold\">. , is & amp</div></td><td><div style=\"color:rgba(0, 0, 255, 0.32727272727272727);font-weight:bold\">to , a   @janeidyeve</div></td><td><div style=\"color:rgba(0, 0, 255, 0.2181818181818182);font-weight:bold\">is fundamental . @johnkrausphotos @nasaspaceflight</div></td><td></td><td></td></tr><tr><td>2020-08-24 - 2020-08-30</td><td><div style=\"color:rgba(0, 0, 255, 0.30000000000000004);font-weight:bold\">, . not / @erdayastronaut</div></td><td><div style=\"color:rgba(0, 0, 255, 0.34545454545454546);font-weight:bold\">. the ’s of &</div></td><td><div style=\"color:rgba(0, 0, 255, 0.38181818181818183);font-weight:bold\">. , @erdayastronaut the  </div></td><td><div style=\"color:rgba(0, 0, 255, 0.4181818181818182);font-weight:bold\">. the , to  </div></td><td><div style=\"color:rgba(0, 0, 255, 0.5727272727272728);font-weight:bold\">. a @djsnm of is</div></td><td><div style=\"color:rgba(0, 0, 255, 0.2909090909090909);font-weight:bold\">a , @ppathole @id_aa_carmack @tesmanian_com</div></td><td><div style=\"color:rgba(0, 0, 255, 0.9636363636363636);font-weight:bold\">, . the to of</div></td></tr><tr><td>2020-08-31 - 2020-09-06</td><td><div style=\"color:rgba(0, 0, 255, 0.2272727272727273);font-weight:bold\">@nigel_lockyer @penn @fermilab , @frydave</div></td><td><div style=\"color:rgba(0, 0, 255, 0.34545454545454546);font-weight:bold\">of . , have @tjmurphy_mit</div></td><td><div style=\"color:rgba(0, 0, 255, 0.19090909090909092);font-weight:bold\">@stefantpeterson @tesla trust ur butt</div></td><td><div style=\"color:rgba(0, 0, 255, 0.24545454545454548);font-weight:bold\">! to & amp ;</div></td><td><div style=\"color:rgba(0, 0, 255, 0.2);font-weight:bold\">. @tesmanian_com yes @skorusark chart</div></td><td><div style=\"color:rgba(0, 0, 255, 0.30000000000000004);font-weight:bold\">. @spacex is for @ppathole</div></td><td></td></tr><tr><td>2020-09-07 - 2020-09-13</td><td><div style=\"color:rgba(0, 0, 255, 0.26363636363636367);font-weight:bold\">& amp ; it (</div></td><td><div style=\"color:rgba(0, 0, 255, 0.2090909090909091);font-weight:bold\">la guerre a comme à</div></td><td><div style=\"color:rgba(0, 0, 255, 0.4181818181818182);font-weight:bold\">. to a , &</div></td><td><div style=\"color:rgba(0, 0, 255, 0.35454545454545455);font-weight:bold\">a is . tesla @univercurious</div></td><td><div style=\"color:rgba(0, 0, 255, 0.2090909090909091);font-weight:bold\">will day many exciting things</div></td><td><div style=\"color:rgba(0, 0, 255, 0.5545454545454546);font-weight:bold\">. to , @wholemarsblog &</div></td><td><div style=\"color:rgba(0, 0, 255, 0.28181818181818186);font-weight:bold\">@_rykllan @felixschlang @spacexcentric @marcushousegame @spacex</div></td></tr><tr><td>2020-09-14 - 2020-09-20</td><td><div style=\"color:rgba(0, 0, 255, 0.32727272727272727);font-weight:bold\">. , the of @sama</div></td><td><div style=\"color:rgba(0, 0, 255, 0.37272727272727274);font-weight:bold\">. , the are  </div></td><td><div style=\"color:rgba(0, 0, 255, 0.30000000000000004);font-weight:bold\">.   the & amp</div></td><td><div style=\"color:rgba(0, 0, 255, 0.2545454545454546);font-weight:bold\">, . in to that</div></td><td><div style=\"color:rgba(0, 0, 255, 0.2272727272727273);font-weight:bold\">@tenetfilm for to . of</div></td><td><div style=\"color:rgba(0, 0, 255, 0.4181818181818182);font-weight:bold\">the . to & ,</div></td><td><div style=\"color:rgba(0, 0, 255, 0.5636363636363637);font-weight:bold\">@id_aa_carmack , . a @soumiksf</div></td></tr><tr><td>2020-09-21 - 2020-09-27</td><td><div style=\"color:rgba(0, 0, 255, 0.4545454545454546);font-weight:bold\">, . we & amp</div></td><td><div style=\"color:rgba(0, 0, 255, 0.27272727272727276);font-weight:bold\">the . machine haha of</div></td><td><div style=\"color:rgba(0, 0, 255, 0.28181818181818186);font-weight:bold\">@gfilche @yahoofinance , a that</div></td><td><div style=\"color:rgba(0, 0, 255, 0.2181818181818182);font-weight:bold\">is @wholemarsblog . only thing</div></td><td><div style=\"color:rgba(0, 0, 255, 0.39090909090909093);font-weight:bold\">. , @marlonsix60 but @erdayastronaut</div></td><td><div style=\"color:rgba(0, 0, 255, 0.6090909090909091);font-weight:bold\">. , to the  </div></td><td></td></tr><tr><td>2020-09-28 - 2020-10-04</td><td><div style=\"color:rgba(0, 0, 255, 0.4363636363636364);font-weight:bold\">. , to we will</div></td><td><div style=\"color:rgba(0, 0, 255, 0.2181818181818182);font-weight:bold\">as a of @univercurious @physicsj</div></td><td><div style=\"color:rgba(0, 0, 255, 0.2090909090909091);font-weight:bold\">! @ppathole haha true .</div></td><td><div style=\"color:rgba(0, 0, 255, 0.35454545454545455);font-weight:bold\">to in . @futurejurvetson @cfs_energy</div></td><td><div style=\"color:rgba(0, 0, 255, 0.5727272727272728);font-weight:bold\">for . , @ppathole @thesheetztweetz</div></td><td><div style=\"color:rgba(0, 0, 255, 0.31818181818181823);font-weight:bold\">@spacex of , . a</div></td><td><div style=\"color:rgba(0, 0, 255, 0.2363636363636364);font-weight:bold\">of be , the new</div></td></tr><tr><td>2020-10-05 - 2020-10-11</td><td><div style=\"color:rgba(0, 0, 255, 0.39090909090909093);font-weight:bold\">the . to , a</div></td><td><div style=\"color:rgba(0, 0, 255, 0.5272727272727273);font-weight:bold\">. to for , of</div></td><td><div style=\"color:rgba(0, 0, 255, 1.0454545454545456);font-weight:bold\">. @wholemarsblog the , &</div></td><td><div style=\"color:rgba(0, 0, 255, 0.5909090909090909);font-weight:bold\">. of @tashaark , to</div></td><td><div style=\"color:rgba(0, 0, 255, 0.33636363636363636);font-weight:bold\">. the to or @spacex</div></td><td><div style=\"color:rgba(0, 0, 255, 0.32727272727272727);font-weight:bold\">. i , @erdayastronaut the</div></td><td><div style=\"color:rgba(0, 0, 255, 0.4363636363636364);font-weight:bold\">. to & amp ;</div></td></tr><tr><td>2020-10-12 - 2020-10-18</td><td><div style=\"color:rgba(0, 0, 255, 0.8636363636363638);font-weight:bold\">, . of to a</div></td><td><div style=\"color:rgba(0, 0, 255, 0.30000000000000004);font-weight:bold\">to . @twomad @teslaownerssv the</div></td><td><div style=\"color:rgba(0, 0, 255, 0.39090909090909093);font-weight:bold\">. , @tesla the !</div></td><td><div style=\"color:rgba(0, 0, 255, 0.19090909090909092);font-weight:bold\">@kristennetten @teslaownerssv you never know</div></td><td><div style=\"color:rgba(0, 0, 255, 0.31818181818181823);font-weight:bold\">of to . be that</div></td><td><div style=\"color:rgba(0, 0, 255, 0.36363636363636365);font-weight:bold\">. , - it @flyerandyp</div></td><td><div style=\"color:rgba(0, 0, 255, 0.16363636363636364);font-weight:bold\">@joshtownsend_96 yes</div></td></tr><tr><td>2020-10-19 - 2020-10-25</td><td><div style=\"color:rgba(0, 0, 255, 0.2363636363636364);font-weight:bold\">@toadmeister . life - months</div></td><td><div style=\"color:rgba(0, 0, 255, 0.2181818181818182);font-weight:bold\">. fsd beta rollout happening</div></td><td><div style=\"color:rgba(0, 0, 255, 0.4272727272727273);font-weight:bold\">. , bar to a</div></td><td><div style=\"color:rgba(0, 0, 255, 0.4181818181818182);font-weight:bold\">. , to will as</div></td><td><div style=\"color:rgba(0, 0, 255, 0.39090909090909093);font-weight:bold\">. , of @austinbarnard45 @superclusterhq</div></td><td><div style=\"color:rgba(0, 0, 255, 0.2090909090909091);font-weight:bold\">@teslaownerssv . congratulations spacex team</div></td><td><div style=\"color:rgba(0, 0, 255, 0.2);font-weight:bold\">, @arctechinc @tesla yes very</div></td></tr><tr><td>2020-10-26 - 2020-11-01</td><td><div style=\"color:rgba(0, 0, 255, 0.2);font-weight:bold\">, @hyperchangetv well tbh our</div></td><td><div style=\"color:rgba(0, 0, 255, 0.4090909090909091);font-weight:bold\">. the & amp ;</div></td><td><div style=\"color:rgba(0, 0, 255, 0.31818181818181823);font-weight:bold\">@pcgamer . , is a</div></td><td><div style=\"color:rgba(0, 0, 255, 0.30000000000000004);font-weight:bold\">, is a the truth</div></td><td><div style=\"color:rgba(0, 0, 255, 0.2272727272727273);font-weight:bold\">. @spacepadreisle @engineers_feed small fry</div></td><td><div style=\"color:rgba(0, 0, 255, 0.7363636363636363);font-weight:bold\">. , the to be</div></td><td><div style=\"color:rgba(0, 0, 255, 0.35454545454545455);font-weight:bold\">, a the @austinteslaclub @joetegtmeyer</div></td></tr><tr><td>2020-11-02 - 2020-11-08</td><td><div style=\"color:rgba(0, 0, 255, 0.33636363636363636);font-weight:bold\">. ! , @flcnhvy get</div></td><td><div style=\"color:rgba(0, 0, 255, 0.6818181818181819);font-weight:bold\">, . to in that</div></td><td><div style=\"color:rgba(0, 0, 255, 0.19090909090909092);font-weight:bold\">@techamazing einstein was great ,</div></td><td><div style=\"color:rgba(0, 0, 255, 0.2363636363636364);font-weight:bold\">. @chad_hurley @realdonaldtrump @kanyewest chad</div></td><td><div style=\"color:rgba(0, 0, 255, 0.38181818181818183);font-weight:bold\">, a . the -</div></td><td><div style=\"color:rgba(0, 0, 255, 0.2);font-weight:bold\">the phantom of opera  </div></td><td><div style=\"color:rgba(0, 0, 255, 0.5454545454545454);font-weight:bold\">. & amp ; a</div></td></tr><tr><td>2020-11-09 - 2020-11-15</td><td><div style=\"color:rgba(0, 0, 255, 0.33636363636363636);font-weight:bold\">. @mkbhd @tesla of this</div></td><td><div style=\"color:rgba(0, 0, 255, 0.2909090909090909);font-weight:bold\">to . i that work</div></td><td><div style=\"color:rgba(0, 0, 255, 0.16363636363636364);font-weight:bold\">@hiromichimizuno yes</div></td><td><div style=\"color:rgba(0, 0, 255, 0.2090909090909091);font-weight:bold\">🤣 . @drphiltill 👍 4</div></td><td><div style=\"color:rgba(0, 0, 255, 1.2);font-weight:bold\">. , to is the</div></td><td><div style=\"color:rgba(0, 0, 255, 0.6090909090909091);font-weight:bold\">. of , a you</div></td><td><div style=\"color:rgba(0, 0, 255, 0.5454545454545454);font-weight:bold\">, . a & amp</div></td></tr><tr><td>2020-11-16 - 2020-11-22</td><td><div style=\"color:rgba(0, 0, 255, 0.39090909090909093);font-weight:bold\">. , the for a</div></td><td><div style=\"color:rgba(0, 0, 255, 0.9454545454545455);font-weight:bold\">. , of the is</div></td><td><div style=\"color:rgba(0, 0, 255, 0.5727272727272728);font-weight:bold\">. , a is the</div></td><td><div style=\"color:rgba(0, 0, 255, 0.31818181818181823);font-weight:bold\">, . @flcnhvy of @teslaownerssv</div></td><td><div style=\"color:rgba(0, 0, 255, 0.5272727272727273);font-weight:bold\">. @tashaark , @mirojurcevic @space_station</div></td><td><div style=\"color:rgba(0, 0, 255, 0.4363636363636364);font-weight:bold\">the . , to but</div></td><td><div style=\"color:rgba(0, 0, 255, 0.2);font-weight:bold\">of tomorrow will be the</div></td></tr><tr><td>2020-11-23 - 2020-11-29</td><td><div style=\"color:rgba(0, 0, 255, 0.19090909090909092);font-weight:bold\">@xhnews exciting mission ! @vincent13031925</div></td><td><div style=\"color:rgba(0, 0, 255, 0.4272727272727273);font-weight:bold\">, . & amp ;</div></td><td><div style=\"color:rgba(0, 0, 255, 0.39090909090909093);font-weight:bold\">, @thesheetztweetz is we 🤣</div></td><td><div style=\"color:rgba(0, 0, 255, 0.24545454545454548);font-weight:bold\">. @thisisjendoll !   @johneg78</div></td><td></td><td><div style=\"color:rgba(0, 0, 255, 0.28181818181818186);font-weight:bold\">@id_aa_carmack , for a it</div></td><td><div style=\"color:rgba(0, 0, 255, 0.31818181818181823);font-weight:bold\">. @nextspaceflight @nasaspaceflight legs ,</div></td></tr><tr><td>2020-11-30 - 2020-12-06</td><td><div style=\"color:rgba(0, 0, 255, 0.2);font-weight:bold\">! @deepmind congrats @lrocket thanks</div></td><td><div style=\"color:rgba(0, 0, 255, 0.2);font-weight:bold\">a @engineers_feed paint makes hell</div></td><td><div style=\"color:rgba(0, 0, 255, 0.32727272727272727);font-weight:bold\">the , is a of</div></td><td><div style=\"color:rgba(0, 0, 255, 0.2);font-weight:bold\">🤣 @rationaletienne and no toilet</div></td><td></td><td><div style=\"color:rgba(0, 0, 255, 0.19090909090909092);font-weight:bold\">@haya2e_jaxa congratulations ! @rdanglephoto @spacex</div></td><td><div style=\"color:rgba(0, 0, 255, 0.19090909090909092);font-weight:bold\">i m gespräch mit mathias</div></td></tr><tr><td>2020-12-07 - 2020-12-13</td><td><div style=\"color:rgba(0, 0, 255, 0.24545454545454548);font-weight:bold\">, @lexfridman ! knock out</div></td><td><div style=\"color:rgba(0, 0, 255, 0.26363636363636367);font-weight:bold\">the @spacex - space long</div></td><td><div style=\"color:rgba(0, 0, 255, 0.32727272727272727);font-weight:bold\">! , we to yeah</div></td><td><div style=\"color:rgba(0, 0, 255, 0.3090909090909091);font-weight:bold\">! the , great to</div></td><td><div style=\"color:rgba(0, 0, 255, 0.19090909090909092);font-weight:bold\">@conexionspacial @pockn_cg yes @spacepadreisle @spacex</div></td><td><div style=\"color:rgba(0, 0, 255, 0.27272727272727276);font-weight:bold\">, @ercxspace @spacex @ppathole have</div></td><td><div style=\"color:rgba(0, 0, 255, 0.17272727272727273);font-weight:bold\">@quantamagazine init void</div></td></tr><tr><td>2020-12-14 - 2020-12-20</td><td><div style=\"color:rgba(0, 0, 255, 0.31818181818181823);font-weight:bold\">  @cyberpunkgame , . was</div></td><td><div style=\"color:rgba(0, 0, 255, 0.31818181818181823);font-weight:bold\">, to is advanced .</div></td><td><div style=\"color:rgba(0, 0, 255, 0.4454545454545455);font-weight:bold\">, . but the it</div></td><td><div style=\"color:rgba(0, 0, 255, 0.3090909090909091);font-weight:bold\">. , @spacex is !</div></td><td></td><td></td><td><div style=\"color:rgba(0, 0, 255, 0.30000000000000004);font-weight:bold\">. , the word even</div></td></tr><tr><td>2020-12-21 - 2020-12-27</td><td><div style=\"color:rgba(0, 0, 255, 0.28181818181818186);font-weight:bold\">. to tesla it ,</div></td><td><div style=\"color:rgba(0, 0, 255, 0.32727272727272727);font-weight:bold\">. the , to of</div></td><td><div style=\"color:rgba(0, 0, 255, 0.19090909090909092);font-weight:bold\">@deepmind @nature frictionless ai .</div></td><td><div style=\"color:rgba(0, 0, 255, 0.24545454545454548);font-weight:bold\">a @marcushousegame few , !</div></td><td><div style=\"color:rgba(0, 0, 255, 0.37272727272727274);font-weight:bold\">, . is the it</div></td><td><div style=\"color:rgba(0, 0, 255, 0.2909090909090909);font-weight:bold\">@teslaownerssv @erdayastronaut , @teslatruckclub @jeremyjudkins</div></td><td><div style=\"color:rgba(0, 0, 255, 0.5);font-weight:bold\">. , in the of</div></td></tr><tr><td>2020-12-28 - 2021-01-03</td><td><div style=\"color:rgba(0, 0, 255, 0.2363636363636364);font-weight:bold\">with . tesla of absolutely</div></td><td><div style=\"color:rgba(0, 0, 255, 0.31363636363636366);font-weight:bold\">. , ! the is</div></td><td><div style=\"color:rgba(0, 0, 255, 0.32727272727272727);font-weight:bold\">is @ercxspace . the to</div></td><td><div style=\"color:rgba(0, 0, 255, 0.2);font-weight:bold\">the @jack 🎩 ’s ignore</div></td><td><div style=\"color:rgba(0, 0, 255, 0.19545454545454546);font-weight:bold\">than is n’t , .</div></td><td><div style=\"color:rgba(0, 0, 255, 0.25);font-weight:bold\">of the . tesla for</div></td><td><div style=\"color:rgba(0, 0, 255, 0.1590909090909091);font-weight:bold\">@rgvaerialphotos @spacex yes</div></td></tr><tr><td>2021-01-04 - 2021-01-10</td><td><div style=\"color:rgba(0, 0, 255, 0.17272727272727273);font-weight:bold\">, because of the large</div></td><td><div style=\"color:rgba(0, 0, 255, 0.17727272727272728);font-weight:bold\">. & @dtrford @austinbarnard45 @alexsvanart</div></td><td></td><td><div style=\"color:rgba(0, 0, 255, 0.30454545454545456);font-weight:bold\">, . the is to</div></td><td><div style=\"color:rgba(0, 0, 255, 0.2);font-weight:bold\">, than a . the</div></td><td><div style=\"color:rgba(0, 0, 255, 0.34545454545454546);font-weight:bold\">the , . a to</div></td><td><div style=\"color:rgba(0, 0, 255, 0.19545454545454546);font-weight:bold\">to . @benmezrich 🤣 i</div></td></tr><tr><td>2021-01-11 - 2021-01-17</td><td><div style=\"color:rgba(0, 0, 255, 0.2272727272727273);font-weight:bold\">a the . more is</div></td><td><div style=\"color:rgba(0, 0, 255, 0.21363636363636365);font-weight:bold\">  you it … to</div></td><td><div style=\"color:rgba(0, 0, 255, 0.2545454545454546);font-weight:bold\">. to & amp ;</div></td><td><div style=\"color:rgba(0, 0, 255, 0.17727272727272728);font-weight:bold\">, is @skorusark prototypes are</div></td><td><div style=\"color:rgba(0, 0, 255, 0.2363636363636364);font-weight:bold\">. we ! you @breedlove22</div></td><td><div style=\"color:rgba(0, 0, 255, 0.17727272727272728);font-weight:bold\">@dmc_ryan @tesla @mrbeastyt i whistle</div></td><td><div style=\"color:rgba(0, 0, 255, 0.16818181818181818);font-weight:bold\">@teslaownerssv this is a good</div></td></tr><tr><td>2021-01-18 - 2021-01-24</td><td><div style=\"color:rgba(0, 0, 255, 0.29545454545454547);font-weight:bold\">& amp ; . the</div></td><td></td><td><div style=\"color:rgba(0, 0, 255, 0.16818181818181818);font-weight:bold\">@teslatino @tesla absolutely ! they</div></td><td><div style=\"color:rgba(0, 0, 255, 0.19090909090909092);font-weight:bold\">for @spacex @evafoxu @renatakonkoly @elonsworld</div></td><td><div style=\"color:rgba(0, 0, 255, 0.2363636363636364);font-weight:bold\">for of . to ,</div></td><td><div style=\"color:rgba(0, 0, 255, 0.19545454545454546);font-weight:bold\">to a more fsd &</div></td><td><div style=\"color:rgba(0, 0, 255, 0.19090909090909092);font-weight:bold\">@boringcompany vegas as 🤣 @flcnhvy</div></td></tr><tr><td>2021-01-25 - 2021-01-31</td><td><div style=\"color:rgba(0, 0, 255, 0.29545454545454547);font-weight:bold\">. to , the this</div></td><td><div style=\"color:rgba(0, 0, 255, 0.20454545454545456);font-weight:bold\">for   . faa !</div></td><td></td><td><div style=\"color:rgba(0, 0, 255, 0.4318181818181819);font-weight:bold\">. a , is to</div></td><td><div style=\"color:rgba(0, 0, 255, 0.22272727272727275);font-weight:bold\">& amp ; , that</div></td><td><div style=\"color:rgba(0, 0, 255, 0.2363636363636364);font-weight:bold\">, .   t /</div></td><td><div style=\"color:rgba(0, 0, 255, 0.26363636363636367);font-weight:bold\">. , of at that</div></td></tr><tr><td>2021-02-01 - 2021-02-07</td><td><div style=\"color:rgba(0, 0, 255, 0.19090909090909092);font-weight:bold\">be with _ is to</div></td><td><div style=\"color:rgba(0, 0, 255, 0.16818181818181818);font-weight:bold\">off twitter for a while</div></td><td></td><td><div style=\"color:rgba(0, 0, 255, 0.2681818181818182);font-weight:bold\">, @erdayastronaut is @spacex a</div></td><td><div style=\"color:rgba(0, 0, 255, 0.24090909090909093);font-weight:bold\">, @erdayastronaut @josh_bickett @ajtourville @spacex</div></td><td><div style=\"color:rgba(0, 0, 255, 0.23181818181818184);font-weight:bold\">that of the ! .</div></td><td><div style=\"color:rgba(0, 0, 255, 0.2090909090909091);font-weight:bold\">🤣 the ! so true</div></td></tr><tr><td>2021-02-08 - 2021-02-14</td><td><div style=\"color:rgba(0, 0, 255, 0.23181818181818184);font-weight:bold\">. to a is of</div></td><td><div style=\"color:rgba(0, 0, 255, 0.31363636363636366);font-weight:bold\">. to , the be</div></td><td><div style=\"color:rgba(0, 0, 255, 0.20454545454545456);font-weight:bold\">@freewalletorg the most is just</div></td><td><div style=\"color:rgba(0, 0, 255, 0.21363636363636365);font-weight:bold\">! . the for year</div></td><td><div style=\"color:rgba(0, 0, 255, 0.17272727272727273);font-weight:bold\">a @dixonspace @kristennetten @cathiedwood know</div></td><td><div style=\"color:rgba(0, 0, 255, 0.20454545454545456);font-weight:bold\">. , for on the</div></td><td><div style=\"color:rgba(0, 0, 255, 0.19545454545454546);font-weight:bold\">. is much @rationaletienne an</div></td></tr><tr><td>2021-02-15 - 2021-02-21</td><td><div style=\"color:rgba(0, 0, 255, 0.17727272727272728);font-weight:bold\">if @itsallrisky @mansourshahrokh only necessary</div></td><td><div style=\"color:rgba(0, 0, 255, 0.19090909090909092);font-weight:bold\">in & amp ; is</div></td><td><div style=\"color:rgba(0, 0, 255, 0.16818181818181818);font-weight:bold\">.@ercot_iso is not earning that</div></td><td><div style=\"color:rgba(0, 0, 255, 0.19545454545454546);font-weight:bold\">in & amp ; .</div></td><td><div style=\"color:rgba(0, 0, 255, 0.2772727272727273);font-weight:bold\">. , a is i</div></td><td><div style=\"color:rgba(0, 0, 255, 0.30454545454545456);font-weight:bold\">. the , that a</div></td><td><div style=\"color:rgba(0, 0, 255, 0.19090909090909092);font-weight:bold\">of ! we ? 🤣</div></td></tr><tr><td>2021-02-22 - 2021-02-28</td><td><div style=\"color:rgba(0, 0, 255, 0.2681818181818182);font-weight:bold\">, @austinteslaclub year the to</div></td><td><div style=\"color:rgba(0, 0, 255, 0.17272727272727273);font-weight:bold\">🔥 @askdrstupid just a surface</div></td><td><div style=\"color:rgba(0, 0, 255, 0.29545454545454547);font-weight:bold\">. , ; & amp</div></td><td><div style=\"color:rgba(0, 0, 255, 0.3318181818181818);font-weight:bold\">. , to is the</div></td><td><div style=\"color:rgba(0, 0, 255, 0.18636363636363637);font-weight:bold\">  @flcnhvy 🤣 @konstructivizm m</div></td><td></td><td></td></tr><tr><td>2021-03-01 - 2021-03-07</td><td><div style=\"color:rgba(0, 0, 255, 0.2090909090909091);font-weight:bold\">. @wholemarsblog , & amp</div></td><td><div style=\"color:rgba(0, 0, 255, 0.19545454545454546);font-weight:bold\">the , much & amp</div></td><td><div style=\"color:rgba(0, 0, 255, 0.2909090909090909);font-weight:bold\">. , @ppathole @labpadre is</div></td><td><div style=\"color:rgba(0, 0, 255, 0.21363636363636365);font-weight:bold\">are of . , is</div></td><td><div style=\"color:rgba(0, 0, 255, 0.18181818181818182);font-weight:bold\">is , @jason or this</div></td><td><div style=\"color:rgba(0, 0, 255, 0.4);font-weight:bold\">. , is the to</div></td><td><div style=\"color:rgba(0, 0, 255, 0.16818181818181818);font-weight:bold\">great band , too bad</div></td></tr><tr><td>2021-03-08 - 2021-03-14</td><td><div style=\"color:rgba(0, 0, 255, 0.24545454545454548);font-weight:bold\">, . to is the</div></td><td><div style=\"color:rgba(0, 0, 255, 0.26363636363636367);font-weight:bold\">. to , in of</div></td><td><div style=\"color:rgba(0, 0, 255, 0.2863636363636364);font-weight:bold\">. , the a just</div></td><td><div style=\"color:rgba(0, 0, 255, 0.29545454545454547);font-weight:bold\">. a , to of</div></td><td><div style=\"color:rgba(0, 0, 255, 0.27272727272727276);font-weight:bold\">. to the & amp</div></td><td><div style=\"color:rgba(0, 0, 255, 0.2363636363636364);font-weight:bold\">the of , doge day</div></td><td><div style=\"color:rgba(0, 0, 255, 0.25);font-weight:bold\">. is the this in</div></td></tr><tr><td>2021-03-15 - 2021-03-21</td><td><div style=\"color:rgba(0, 0, 255, 0.18181818181818182);font-weight:bold\">this to year @beeple 420</div></td><td><div style=\"color:rgba(0, 0, 255, 0.17272727272727273);font-weight:bold\">. actually , does n’t</div></td><td><div style=\"color:rgba(0, 0, 255, 0.17727272727272728);font-weight:bold\">@erdayastronaut @spacex @rjdlandscapes that ’s</div></td><td><div style=\"color:rgba(0, 0, 255, 0.2272727272727273);font-weight:bold\">. ; booster & amp</div></td><td><div style=\"color:rgba(0, 0, 255, 0.21363636363636365);font-weight:bold\">, the ! is @jordanbpeterson</div></td><td><div style=\"color:rgba(0, 0, 255, 0.19090909090909092);font-weight:bold\">to 🤣 , . @erdayastronaut</div></td><td><div style=\"color:rgba(0, 0, 255, 0.2363636363636364);font-weight:bold\">, to this i the</div></td></tr><tr><td>2021-03-22 - 2021-03-28</td><td><div style=\"color:rgba(0, 0, 255, 0.17272727272727273);font-weight:bold\">of @bluemoondance74 @nasaspaceflight going well</div></td><td></td><td></td><td></td><td></td><td></td><td></td></tr></table>"
            ]
          },
          "metadata": {}
        }
      ],
      "source": [
        "#@slideshow fragment tags=remove_input\n",
        "# visualize\n",
        "\n",
        "documents = []\n",
        "terms = []\n",
        "weights = []\n",
        "\n",
        "for d in sorted(document_term_counter):\n",
        "    documents.append(d)\n",
        "    # get the most frequent terms and their count\n",
        "    term_counts = document_term_counter[d].most_common(NUM_WORDS_OF_A_DAY)\n",
        "    total_weight = sum(_[1] for _ in term_counts)\n",
        "    terms.append(\" \".join(_[0] for _ in term_counts))\n",
        "    weights.append(total_weight)\n",
        "\n",
        "html = calendar_table(documents, terms, weights, from_datetime=date(2020, 3, 30))\n",
        "display(HTML(html))"
      ]
    },
    {
      "cell_type": "markdown",
      "metadata": {
        "id": "343B5HrUd1qo"
      },
      "source": [
        "<!--@slideshow slide-->\n",
        "- As expected, the most frequent terms overall are the most frequent in each document.\n",
        "- The most frequent terms are not informative\n",
        "- Does informativity depend on frequency?"
      ]
    },
    {
      "cell_type": "code",
      "execution_count": null,
      "metadata": {
        "id": "FiesZrYM7buE"
      },
      "outputs": [],
      "source": [
        "# count all terms\n",
        "term_counter = Counter()\n",
        "for tweet_date, tweet_lemmas in preprocessed_tweets:\n",
        "    for term in tweet_lemmas:\n",
        "        term_counter[term] += 1"
      ]
    },
    {
      "cell_type": "code",
      "execution_count": null,
      "metadata": {
        "id": "GuC-uVmp9SHN",
        "colab": {
          "base_uri": "https://localhost:8080/",
          "height": 543
        },
        "outputId": "c5535757-e62e-4228-e4a3-53751a710688"
      },
      "outputs": [
        {
          "output_type": "display_data",
          "data": {
            "text/plain": [
              "<Figure size 864x576 with 1 Axes>"
            ],
            "image/png": "[encoded data removed]"
          },
          "metadata": {
            "needs_background": "light"
          }
        }
      ],
      "source": [
        "#@slideshow slide tags=remove_input\n",
        "visualize_term_counter(term_counter, 0, \"Top 10 terms: frequent, not informative\", use_ggplot=False)"
      ]
    },
    {
      "cell_type": "code",
      "source": [
        "len(term_counter)"
      ],
      "metadata": {
        "id": "F3kPtCJ7uG8H",
        "colab": {
          "base_uri": "https://localhost:8080/"
        },
        "outputId": "e5b65195-6c2e-4a06-c2b2-8ea1699b0a1a"
      },
      "execution_count": null,
      "outputs": [
        {
          "output_type": "execute_result",
          "data": {
            "text/plain": [
              "18460"
            ]
          },
          "metadata": {},
          "execution_count": 9
        }
      ]
    },
    {
      "cell_type": "code",
      "execution_count": null,
      "metadata": {
        "id": "wBOCoXNI_nzu",
        "colab": {
          "base_uri": "https://localhost:8080/",
          "height": 538
        },
        "outputId": "6548378e-20c6-44e7-a43f-da6c9fffede2"
      },
      "outputs": [
        {
          "output_type": "display_data",
          "data": {
            "text/plain": [
              "<Figure size 864x576 with 1 Axes>"
            ],
            "image/png": "[encoded data removed]"
          },
          "metadata": {
            "needs_background": "light"
          }
        }
      ],
      "source": [
        "#@slideshow slide tags=remove_input\n",
        "shift = 1200\n",
        "visualize_term_counter(term_counter, shift, f\"Terms from {shift} to {shift+10}: not frequent, possibly informative\", use_ggplot=False)"
      ]
    },
    {
      "cell_type": "code",
      "execution_count": null,
      "metadata": {
        "id": "GTOL3HEW_5ww",
        "colab": {
          "base_uri": "https://localhost:8080/",
          "height": 543
        },
        "outputId": "a57af15e-b270-4da6-86eb-d9f01697f8ec"
      },
      "outputs": [
        {
          "output_type": "display_data",
          "data": {
            "text/plain": [
              "<Figure size 864x576 with 1 Axes>"
            ],
            "image/png": "[encoded data removed]"
          },
          "metadata": {
            "needs_background": "light"
          }
        }
      ],
      "source": [
        "#@slideshow slide tags=remove_input\n",
        "shift = 10000\n",
        "visualize_term_counter(term_counter, shift, f\"Terms from {shift} to {shift+10}: rare, not informative\", use_ggplot=False)"
      ]
    },
    {
      "cell_type": "markdown",
      "metadata": {
        "id": "jfOVd9sGpdOZ"
      },
      "source": [
        "<!--@slideshow slide-->\n",
        "# TF-IDF\n",
        "\n",
        "Try the following idea:\n",
        "> The term $t$ is specific (or informative) for the document $d$ if it is relatively rare in $D$ but frequent in $d$."
      ]
    },
    {
      "cell_type": "markdown",
      "metadata": {
        "id": "DKcHHLh4p0ER"
      },
      "source": [
        "<!--@slideshow fragment-->\n",
        "\n",
        "The measure of \"informativity\" of term $t$ for document $d$ should satisfy two properties:\n",
        "1. The higher the frequency of $t$ in $d$, the _higher_ the informativity.\n",
        "2. The higher the frequency of $t$ in the collection $D$, the _lower_ the informativity.\n",
        "\n",
        "\n",
        "\n"
      ]
    },
    {
      "cell_type": "markdown",
      "metadata": {
        "id": "LyIyrcmBzAzS"
      },
      "source": [
        "<!--@slideshow fragment-->\n",
        "It can be written as the product of two functions:\n",
        "$$TFIDF(t, d, D) = TF(t, d) \\cdot IDF(t, D)$$"
      ]
    },
    {
      "cell_type": "markdown",
      "metadata": {
        "id": "Fi9VsTBtIGJH"
      },
      "source": [
        "<!--@slideshow slide-->\n",
        "## Term frequency $TF(t, d)$\n",
        "\n",
        "Term frequency is just the number of occurrences of the term $t$ in the document $d$."
      ]
    },
    {
      "cell_type": "markdown",
      "metadata": {
        "id": "SsrTXoMvIT4Z"
      },
      "source": [
        "<!--@slideshow slide-->\n",
        "## Inverse document frequency $IDF(t, D)$\n",
        "\n",
        "- In practice, the range of \"informativity\" is wide.\n",
        "- Informative terms may occur in 1%, 0.1% or even 0.01% of all documents $D$.\n",
        "- That's why $IDF(t, D)$ depends on $t$'s frequency in $D$ _logarithmically_.\n",
        "> If $t_1$ is 10 times more frequent than $t_2$, then $IDF(t_1, D) - IDF(t_2, D) = \\mathrm{const}$"
      ]
    },
    {
      "cell_type": "markdown",
      "metadata": {
        "id": "R9-qXHr50cWR"
      },
      "source": [
        "<!--@slideshow slide-->\n",
        "$IDF(t, D)$ is computed in 3 steps:\n",
        "1. Compute the number of documents that contain $t$.\n",
        "2. Divide it by the total number of documents.\n",
        "  > The result is the probability to find term $t$ in a randomly chosen document.\n",
        "3. Take the $\\log$ of the _inverse_ quantity from the previous step.\n"
      ]
    },
    {
      "cell_type": "markdown",
      "metadata": {
        "id": "FOid8BSp0eFe"
      },
      "source": [
        "<!--@slideshow fragment-->\n",
        "Or, mathematically\n",
        "$$\n",
        "IDF(t, D) = \\log\\left(\\dfrac{|D|}{|\\{d \\in D | t \\in d\\}|}\\right)\n",
        "$$\n",
        "- $|D|$ is the total number of documents\n",
        "- $|\\{d \\in D | t \\in d\\}|$ is the number of documents that contain $t$"
      ]
    },
    {
      "cell_type": "markdown",
      "metadata": {
        "id": "CPn_v7ktrAhv"
      },
      "source": [
        "<!--@slideshow slide-->\n",
        "## TF-IDF example\n",
        "\n",
        "Consider the collection $D$ containing 3 documents\n",
        "\n",
        "1. $d_1$ = \"If you tell the truth you don’t have to remember anything.\"\n",
        "2. $d_2$ = \"If you don’t read the newspaper, you’re uninformed. If you read the newspaper, you’re misinformed.\"\n",
        "3. $d_3$ = \"A lie can travel half way around the world while the truth is putting on its shoes.\"\n",
        "\n",
        "Let us compute $TFIDF(\\mathrm{''newspaper''}, d_2, D)$:\n",
        "- $TF(\\mathrm{''newspaper''}, d_2) = 2$\n",
        "- $IDF(\\mathrm{''newspaper''}, D) = \\log\\left(\\dfrac{3}{1}\\right) \\approx 1.1$\n",
        "- $TFIDF(\\mathrm{''newspaper''}, d_2, D) \\approx 2.2$"
      ]
    },
    {
      "cell_type": "markdown",
      "metadata": {
        "id": "wRHzbWLkrOAU"
      },
      "source": [
        "<!--@slideshow slide-->\n",
        "## Colab quiz 1\n",
        "Compute $TFIDF(\\mathrm{''If''}, d_1, D)$\n",
        "\n",
        "\n"
      ]
    },
    {
      "cell_type": "code",
      "execution_count": null,
      "metadata": {
        "id": "M27jSRPa7_9I",
        "colab": {
          "base_uri": "https://localhost:8080/",
          "height": 276,
          "referenced_widgets": [
            "363072641bd141b68d7c1a9d4a25446d",
            "f64870b50fe44c949134149fd01fe9ca",
            "885fd02a797a4595ab9578e9475f089d",
            "3962d88a3b044e7e92600ef1ad85ee51",
            "5168c85140eb4eca888523880ddf6624",
            "a4471bd8d81444df8f4a6a845be6c130",
            "34e5759261274cfdbcd540a0139c937e",
            "c41acfca50684dcc9f69aa44da531fe2",
            "ce81643eff114709babbcc60ce599df2",
            "dd122c0fab184bdfa0a6b7a5d341aed0",
            "7aaf30ff0d944044bff8803e8b10910b",
            "cb2f32ecb8ae455a873df2743130f835",
            "613a63f606a2445f97fdaddbc09c7292",
            "e9caf40f2a414b4f9c928eaba163c1f7",
            "bb97dbc0d5bf467b833be9f70a453a40",
            "4e425a24cb654693b550b71f9a2aaa08",
            "6907c4298fa040718fc909bd1144a1b4",
            "8592445cf8ac47798ad924e1bf00234d",
            "4b6624fe82be4cb5b04e1ca290cca3a4",
            "52f5c3970a3040e68fb9981ec2df7fd0",
            "cc6304b7b749481d9fd5d3d6eeee5450",
            "bca3d13c01ec4e18baf5d7cf763d976c",
            "661485268fd746fa9b44b6f01f752ccf",
            "60b2472048574947879bedb5f75b2ff3",
            "7540d34c1bc347c680a82b1859fa9daa",
            "27a43974ba4e44fbb96a03bbce61cdbd",
            "9ad8006cb6194bb8b9641ceb092c1f43",
            "951ccfff484b49b591e0bbaecf128256"
          ]
        },
        "outputId": "0ea33468-00a0-449c-db52-177370e5fc8c"
      },
      "outputs": [
        {
          "output_type": "display_data",
          "data": {
            "text/plain": [
              "<IPython.core.display.HTML object>"
            ],
            "text/html": [
              "\n",
              "        <script src=\"https://www.gstatic.com/external_hosted/mathjax/latest/MathJax.js?config=TeX-AMS_HTML-full,Safe&delayStartupUntil=configured\"></script>\n",
              "        <script>\n",
              "            (() => {\n",
              "            const mathjax = window.MathJax;\n",
              "            mathjax.Hub.Config({\n",
              "            'tex2jax': {\n",
              "                'inlineMath': [['$', '$'], ['\\(', '\\)']],\n",
              "                'displayMath': [['$$', '$$'], ['\\[', '\\]']],\n",
              "                'processEscapes': true,\n",
              "                'processEnvironments': true,\n",
              "                'skipTags': ['script', 'noscript', 'style', 'textarea', 'code'],\n",
              "                'displayAlign': 'center',\n",
              "            },\n",
              "            'HTML-CSS': {\n",
              "                'styles': {'.MathJax_Display': {'margin': 0}},\n",
              "                'linebreaks': {'automatic': true},\n",
              "                // Disable to prevent OTF font loading, which aren't part of our\n",
              "                // distribution.\n",
              "                'imageFont': null,\n",
              "            },\n",
              "            'messageStyle': 'none'\n",
              "            });\n",
              "            mathjax.Hub.Configured();\n",
              "        })();\n",
              "        </script>\n",
              "        "
            ]
          },
          "metadata": {}
        },
        {
          "output_type": "display_data",
          "data": {
            "text/plain": [
              "VBox(children=(Output(), RadioButtons(options=('2.2', '0.81', '0.405', '1.5'), value='2.2'), HTML(value='<br>'…"
            ],
            "application/vnd.jupyter.widget-view+json": {
              "version_major": 2,
              "version_minor": 0,
              "model_id": "363072641bd141b68d7c1a9d4a25446d"
            }
          },
          "metadata": {}
        }
      ],
      "source": [
        "enable_mathjax_in_cell()\n",
        "quiz_tfidf()()"
      ]
    },
    {
      "cell_type": "markdown",
      "metadata": {
        "id": "9Mi_5jSdCxDG"
      },
      "source": [
        "<!--@slideshow slide-->\n",
        "## TF-IDF implementation"
      ]
    },
    {
      "cell_type": "code",
      "execution_count": null,
      "metadata": {
        "id": "CtMbh-KMpmvM"
      },
      "outputs": [],
      "source": [
        "#@slideshow fragment\n",
        "from collections import defaultdict, Counter\n",
        "# 1. Compute IDF for all terms.\n",
        "#    Remember that we've already computed term counts for all documents.\n",
        "#    Document_term_counter[document][term] = term_count_in_document.\n",
        "\n",
        "# For each term, compute the number of documents where the term occurs\n",
        "term_counter = Counter()\n",
        "for document in document_term_counter:\n",
        "    for term in document_term_counter[document]:\n",
        "        term_counter[term] += 1\n",
        "# compute term IDFs from term counts\n",
        "num_documents = len(document_term_counter)\n",
        "from math import log\n",
        "term_idf = {\n",
        "    term: log(num_documents / term_count)\n",
        "    for term, term_count in term_counter.items()\n",
        "}\n",
        "\n",
        "# 2. Compute TF-IDF for all terms and documents\n",
        "document_term_tfidf = defaultdict(Counter)\n",
        "for document in document_term_counter:\n",
        "    word_tfidf = {}\n",
        "    for term in document_term_counter[document]:\n",
        "        tf = document_term_counter[document][term]\n",
        "        idf = term_idf[term]\n",
        "        document_term_tfidf[document][term] = tf * idf"
      ]
    },
    {
      "cell_type": "code",
      "execution_count": null,
      "metadata": {
        "id": "LYHkmdJZB1rh"
      },
      "outputs": [],
      "source": [
        "# visualize\n",
        "documents = []\n",
        "terms = []\n",
        "weights = []\n",
        "\n",
        "for d in sorted(document_term_tfidf):\n",
        "    documents.append(d)\n",
        "    # get the most frequent term and its count\n",
        "    top_terms = list(\n",
        "        sorted(document_term_tfidf[d], key=lambda t: document_term_tfidf[d][t], reverse=True)\n",
        "    )[:NUM_WORDS_OF_A_DAY]\n",
        "    terms.append(\" \".join(top_terms))\n",
        "    weights.append(sum(document_term_tfidf[d][t] for t in top_terms))\n",
        "\n",
        "def print_tweets_by_date(tweets_df, date_of_tweets):\n",
        "    from pprint import pprint\n",
        "    # ignore retweets\n",
        "    for _, r in tweets_df[tweets_df.tweet_date == date_of_tweets].reset_index().iterrows():\n",
        "        pprint(r[\"tweet\"])\n",
        "        print(\"---\")"
      ]
    },
    {
      "cell_type": "markdown",
      "metadata": {
        "id": "n7hfXZ4C3GW4"
      },
      "source": [
        "<!--@slideshow slide-->\n",
        "## Colab demo: insights from daily TF-IDF"
      ]
    },
    {
      "cell_type": "code",
      "execution_count": null,
      "metadata": {
        "colab": {
          "base_uri": "https://localhost:8080/",
          "height": 287
        },
        "id": "tXEw-vcKERPO",
        "outputId": "351adddb-0512-4a41-aaf9-275c7ab35302"
      },
      "outputs": [
        {
          "output_type": "display_data",
          "data": {
            "text/plain": [
              "<IPython.core.display.HTML object>"
            ],
            "text/html": [
              "<style>\n",
              "    th, td {\n",
              "      padding: 8px;\n",
              "      text-align: center;\n",
              "      border-bottom: 1px solid #ddd;\n",
              "      font-size: 20;\n",
              "    }\n",
              "    tr {\n",
              "      font-size: 20;\n",
              "    }\n",
              "    </style><table><tr><th>week</th><th>Mon</th><th>Tue</th><th>Wed</th><th>Thu</th><th>Fri</th><th>Sat</th><th>Sun</th></tr><tr><td>2021-02-01 - 2021-02-07</td><td><div style=\"color:rgba(0, 0, 255, 0.17870159372470973);font-weight:bold\">graffiti @eiraum сделаем @hamoon implant</div></td><td><div style=\"color:rgba(0, 0, 255, 0.12085182314899068);font-weight:bold\">twitter while off for a</div></td><td></td><td><div style=\"color:rgba(0, 0, 255, 0.20875374729363305);font-weight:bold\">shut @erdayastronaut engines doge @ajtourville</div></td><td><div style=\"color:rgba(0, 0, 255, 0.25732162587921376);font-weight:bold\">@josh_bickett @ajtourville fed isp @erdayastronaut</div></td><td><div style=\"color:rgba(0, 0, 255, 0.18852508476977328);font-weight:bold\">@astrojordy @grimezsz emails texts @dumdin7</div></td><td><div style=\"color:rgba(0, 0, 255, 0.20869680311442276);font-weight:bold\">@dogecoinrich 🎶 🤣 @nivetha_7_42 hodl</div></td></tr><tr><td>2021-02-08 - 2021-02-14</td><td><div style=\"color:rgba(0, 0, 255, 0.2);font-weight:bold\">@michaelhodapp doge @capybarasurfer inflationary meaningfully</div></td><td><div style=\"color:rgba(0, 0, 255, 0.24198978604959365);font-weight:bold\">@adamklotz _ starlink @rationaletienne cash</div></td><td><div style=\"color:rgba(0, 0, 255, 0.22898516961911525);font-weight:bold\">@freewalletorg @givedirectly @geoffkeighley @unrealengine toddler</div></td><td><div style=\"color:rgba(0, 0, 255, 0.19087879406914404);font-weight:bold\">@anonyx10 @gtera27 underdoge himself @spotify</div></td><td><div style=\"color:rgba(0, 0, 255, 0.17564559931113138);font-weight:bold\">@kunalb11 ray hdr @dixonspace tracing</div></td><td><div style=\"color:rgba(0, 0, 255, 0.17870159372470973);font-weight:bold\">было бы большой честью поговорить</div></td><td><div style=\"color:rgba(0, 0, 255, 0.16863978941679633);font-weight:bold\">concentrated coins concentration percentage holders</div></td></tr></table>"
            ]
          },
          "metadata": {}
        }
      ],
      "source": [
        "# price of which cryptocurrency increased the most between 2021-02-01 and 2021-02-14?\n",
        "html = calendar_table(\n",
        "    documents,\n",
        "    terms,\n",
        "    weights,\n",
        "    from_datetime=date(2021, 2, 1),\n",
        "    to_datetime=date(2021, 2, 14),\n",
        ")\n",
        "display(HTML(html))"
      ]
    },
    {
      "cell_type": "code",
      "execution_count": null,
      "metadata": {
        "id": "oVPMrhQaG6HO",
        "colab": {
          "base_uri": "https://localhost:8080/"
        },
        "outputId": "5432cd78-7a34-4784-9f8b-beab75c217b0"
      },
      "outputs": [
        {
          "output_type": "stream",
          "name": "stdout",
          "text": [
            "'@Nivetha_7_42 @lexfridman So cute 💕'\n",
            "---\n",
            "('@UniverCurious Extremely misleading image, as doesn’t reflect true time cost '\n",
            " 'to people or rain &amp; pain')\n",
            "---\n",
            "'🎶 Who let the Doge out 🎶'\n",
            "---\n",
            "'Hodl the rainforests!!'\n",
            "---\n",
            "'So … it’s finally come to this …  https://t.co/Gf0Rg2QOaF'\n",
            "---\n",
            "'@itsALLrisky It’s the most fun crypto!'\n",
            "---\n",
            "'@JoshRoomsburg @SnoopDogg @genesimmons Its simplicity is its genius'\n",
            "---\n",
            "'@astro_g_dogg @SpaceX Yup'\n",
            "---\n",
            "'@Jbuttermost @Dogecoinrich 🤣🤣'\n",
            "---\n",
            "'@wapodavenport True'\n",
            "---\n",
            "'@Dogecoinrich 🤣🤣'\n",
            "---\n"
          ]
        }
      ],
      "source": [
        "print_tweets_by_date(df, date(2021, 2, 7))"
      ]
    },
    {
      "cell_type": "code",
      "execution_count": null,
      "metadata": {
        "colab": {
          "base_uri": "https://localhost:8080/",
          "height": 1000
        },
        "id": "TBP5p87eH4uQ",
        "outputId": "43f45b6b-ae41-4d64-d64c-0306e9b3e6ea"
      },
      "outputs": [
        {
          "output_type": "display_data",
          "data": {
            "text/plain": [
              "<IPython.core.display.HTML object>"
            ],
            "text/html": [
              "<style>\n",
              "    th, td {\n",
              "      padding: 8px;\n",
              "      text-align: center;\n",
              "      border-bottom: 1px solid #ddd;\n",
              "      font-size: 20;\n",
              "    }\n",
              "    tr {\n",
              "      font-size: 20;\n",
              "    }\n",
              "    </style><table><tr><th>week</th><th>Mon</th><th>Tue</th><th>Wed</th><th>Thu</th><th>Fri</th><th>Sat</th><th>Sun</th></tr><tr><td>2020-03-02 - 2020-03-08</td><td><div style=\"color:rgba(0, 0, 255, 0.38700190495509945);font-weight:bold\">@realemirhan puck shuck labelling @janeidyeve</div></td><td><div style=\"color:rgba(0, 0, 255, 0.26877394124974213);font-weight:bold\">@jack pressurize sleeving bernie 0.2</div></td><td><div style=\"color:rgba(0, 0, 255, 0.33716023632937275);font-weight:bold\">catalog @sofiaan fsd committees complained</div></td><td><div style=\"color:rgba(0, 0, 255, 0.18980105569581004);font-weight:bold\">heights raising art new @tesla</div></td><td><div style=\"color:rgba(0, 0, 255, 0.17429884355916173);font-weight:bold\">coronavirus panic dumb is the</div></td><td><div style=\"color:rgba(0, 0, 255, 0.27777114605711833);font-weight:bold\">envelope tonight @cosmicdatabase land expanded</div></td><td><div style=\"color:rgba(0, 0, 255, 0.41376881468491533);font-weight:bold\">@fxzzonthebeat extrapolating overstated symptoms c19</div></td></tr><tr><td>2020-03-09 - 2020-03-15</td><td><div style=\"color:rgba(0, 0, 255, 0.2579865319693772);font-weight:bold\">flights @yunli626 thrust correction puck</div></td><td><div style=\"color:rgba(0, 0, 255, 0.36307470533753);font-weight:bold\">@coachella @balabushkafury @autozeitung woofers @_sear</div></td><td><div style=\"color:rgba(0, 0, 255, 0.30220732464108263);font-weight:bold\">@janeidyeve @neiltyson war thank @poisontoxic21</div></td><td><div style=\"color:rgba(0, 0, 255, 0.2141954473457054);font-weight:bold\">triassic permian @thingswork bad super</div></td><td></td><td><div style=\"color:rgba(0, 0, 255, 0.5063936183192264);font-weight:bold\">@ianpavelko @bensullins @eugenelee3 @bhmoors @teslatunity</div></td><td><div style=\"color:rgba(0, 0, 255, 0.2035314691391006);font-weight:bold\">killer fear ny mind congratulations</div></td></tr><tr><td>2020-03-16 - 2020-03-22</td><td><div style=\"color:rgba(0, 0, 255, 0.5212346414671127);font-weight:bold\">@meckimac chloroquine misdiagnosed @renatakonkoly stanford</div></td><td><div style=\"color:rgba(0, 0, 255, 0.3092442504571103);font-weight:bold\">corona danger sensible maladies @mikefthomp</div></td><td><div style=\"color:rgba(0, 0, 255, 0.3011194947407555);font-weight:bold\">@sciguyspace fear n’t yeah @kmastersbarnes</div></td><td><div style=\"color:rgba(0, 0, 255, 0.43646631084187953);font-weight:bold\">cases @ppathole ventilators close @natesilver538</div></td><td><div style=\"color:rgba(0, 0, 255, 0.30152908183058613);font-weight:bold\">@moskov ventilators @friedberg @mg42bonesaw personalize</div></td><td><div style=\"color:rgba(0, 0, 255, 0.6797157241953486);font-weight:bold\">@natesilver538 containment positive asymptote sigmoidal</div></td><td><div style=\"color:rgba(0, 0, 255, 0.38245388800998464);font-weight:bold\">ppe @benikbeno @cdcgov getting death</div></td></tr><tr><td>2020-03-23 - 2020-03-29</td><td><div style=\"color:rgba(0, 0, 255, 0.46050331650817555);font-weight:bold\">@jonkay @quillette @sdunbabin masks @thirdrowtesla</div></td><td><div style=\"color:rgba(0, 0, 255, 0.5691283340380355);font-weight:bold\">@mikebloomberg @stephenpallotta @ajtourville @thirdrowtesla @jordanwells33</div></td><td><div style=\"color:rgba(0, 0, 255, 0.3155150928374446);font-weight:bold\">@flcnhvy york c19 cases @tesla</div></td><td><div style=\"color:rgba(0, 0, 255, 0.3023420852748449);font-weight:bold\">@alexberenson medtronic ny @brianswails @imperialcollege</div></td><td><div style=\"color:rgba(0, 0, 255, 0.45100068934590065);font-weight:bold\">@nycmayor ventilators @vitalvegas blood them</div></td><td><div style=\"color:rgba(0, 0, 255, 0.28813030651680926);font-weight:bold\">@abbottnews @microdentist @n2179_twit receiving treating</div></td><td></td></tr><tr><td>2020-03-30 - 2020-04-05</td><td><div style=\"color:rgba(0, 0, 255, 0.2546079225872056);font-weight:bold\">@ian1219 logarithm personality graphs substitute</div></td><td><div style=\"color:rgba(0, 0, 255, 0.2596379561545404);font-weight:bold\">~150 warehouse telescope @marsmeditation @rationaletienne</div></td><td><div style=\"color:rgba(0, 0, 255, 0.35650427090934655);font-weight:bold\">@kimitalvitie span wider upgrades @pinkshotgun1</div></td><td><div style=\"color:rgba(0, 0, 255, 0.5017263974755);font-weight:bold\">@thirdrowtesla @drdavidreich @28delayslater intratracheal severe</div></td><td><div style=\"color:rgba(0, 0, 255, 0.5391772923688702);font-weight:bold\">@brandonbernicky @thirdrowtesla @johncleese @labpadre @kristennetten</div></td><td><div style=\"color:rgba(0, 0, 255, 0.3563652104887547);font-weight:bold\">@28delayslater @thirdrowtesla medtronic @teslaownerssv @henryfordnews</div></td><td><div style=\"color:rgba(0, 0, 255, 0.5684966609767418);font-weight:bold\">@labpadre @austinbarnard45 @ppathole @wjduncan pressure</div></td></tr><tr><td>2020-04-06 - 2020-04-12</td><td><div style=\"color:rgba(0, 0, 255, 0.3915323779367939);font-weight:bold\">@morgan_murphy @thirdrowtesla 🤣 @ndrew_lawrence puts</div></td><td><div style=\"color:rgba(0, 0, 255, 0.3102390693318311);font-weight:bold\">@johnkrausphotos fall @thirdrowtesla @forumtesla @rknapp_12</div></td><td><div style=\"color:rgba(0, 0, 255, 0.34803511857595104);font-weight:bold\">@thirdrowtesla trillion cameras often second</div></td><td><div style=\"color:rgba(0, 0, 255, 1.0312242653430552);font-weight:bold\">@hein_the_slayer @rmattila74 @mowo91 @icannot_enough @kimbal</div></td><td><div style=\"color:rgba(0, 0, 255, 0.3137530594848995);font-weight:bold\">@jamie_woodward downtown realistic @arvnp predictions</div></td><td><div style=\"color:rgba(0, 0, 255, 0.4211513616780618);font-weight:bold\">@zvezdichko @katlinegrey @sciguyspace expendable strange</div></td><td><div style=\"color:rgba(0, 0, 255, 0.2863426643824526);font-weight:bold\">@livingtesla @reallifestarman vandalism monitoring spying</div></td></tr><tr><td>2020-04-13 - 2020-04-19</td><td><div style=\"color:rgba(0, 0, 255, 0.3346089619861172);font-weight:bold\">@thirdrowtesla powertrain cheetahs stolen q&amp;a.</div></td><td><div style=\"color:rgba(0, 0, 255, 0.26671276571088454);font-weight:bold\">berlin giga subtly curvature wrap</div></td><td><div style=\"color:rgba(0, 0, 255, 0.21368107535832565);font-weight:bold\">retrofit shop shanghai fremont upgraded</div></td><td><div style=\"color:rgba(0, 0, 255, 1.692891555662846);font-weight:bold\">@imatsb @some1gee @cnn @sciguyspace @thesheetztweetz</div></td><td><div style=\"color:rgba(0, 0, 255, 0.32038433816719125);font-weight:bold\">@dwesterster strakes cfd @covellomassimo sparingly</div></td><td><div style=\"color:rgba(0, 0, 255, 0.5551451525195006);font-weight:bold\">@dwesterster @michaelcanary02 @af_academy @austeslaowners @erdayastronaut</div></td><td><div style=\"color:rgba(0, 0, 255, 0.5223165912646539);font-weight:bold\">invasive * covid @erdayastronaut platform</div></td></tr><tr><td>2020-04-20 - 2020-04-26</td><td><div style=\"color:rgba(0, 0, 255, 0.3245500106854741);font-weight:bold\">@thirdrowtesla @kristennetten @tobyliiiiiiiiii 🤓 @batflyer</div></td><td><div style=\"color:rgba(0, 0, 255, 0.31834096593361166);font-weight:bold\">@anniew @morgan_murphy flaps dusk @cleantechnica</div></td><td><div style=\"color:rgba(0, 0, 255, 0.8450039433151797);font-weight:bold\">@mfrunker @supernova_style @anime_virus @thirdrowtesla invasive</div></td><td><div style=\"color:rgba(0, 0, 255, 0.5648576405593722);font-weight:bold\">@togregto @josephvvallace @codingmark @teslaownerssv @thirdrowtesla</div></td><td><div style=\"color:rgba(0, 0, 255, 0.3166564036864917);font-weight:bold\">@vencikudev 🤣 press machine @thirdrowtesla</div></td><td><div style=\"color:rgba(0, 0, 255, 0.4860506537264524);font-weight:bold\">@alexanderbittan @shelbiestrykers @cbsnewyork @aiellotv @justpaulinelol</div></td><td><div style=\"color:rgba(0, 0, 255, 0.30381023393037054);font-weight:bold\">@nasaspaceflight @cardoso 🔥 .@officialmcafee ductility</div></td></tr><tr><td>2020-04-27 - 2020-05-03</td><td><div style=\"color:rgba(0, 0, 255, 0.40240616226306264);font-weight:bold\">@janeidyeve covid @harrystoltz1 @ethicalskeptic @legendaryenergy</div></td><td><div style=\"color:rgba(0, 0, 255, 0.20834227114815349);font-weight:bold\">@redtheraider @officialmcafee @tedhu 💯</div></td><td><div style=\"color:rgba(0, 0, 255, 0.26250755354871896);font-weight:bold\">@randyfineto bon voyage @therightmelissa arrest</div></td><td><div style=\"color:rgba(0, 0, 255, 0.29405783300897675);font-weight:bold\">corona sensible @jamesokeefeiii classifying @way2_savage</div></td><td><div style=\"color:rgba(0, 0, 255, 0.4248927647428608);font-weight:bold\">freedom @bitcoin @alfzeta @ap4liberty rage</div></td><td></td><td></td></tr></table>"
            ]
          },
          "metadata": {}
        }
      ],
      "source": [
        "# look at the period of the first COVID-19 outbreak in the US\n",
        "from datetime import date\n",
        "html = calendar_table(\n",
        "    documents,\n",
        "    terms,\n",
        "    weights,\n",
        "    from_datetime=date(2020, 3, 1),\n",
        "    to_datetime=date(2020, 5, 1),\n",
        ")\n",
        "display(HTML(html))"
      ]
    },
    {
      "cell_type": "code",
      "source": [
        "print_tweets_by_date(df, date(2020, 3, 19))"
      ],
      "metadata": {
        "id": "ytvTTDU2_gAs",
        "colab": {
          "base_uri": "https://localhost:8080/"
        },
        "outputId": "cef7b278-e58d-4033-b7cc-550358a8c374"
      },
      "execution_count": null,
      "outputs": [
        {
          "output_type": "stream",
          "name": "stdout",
          "text": [
            "'@DOfaquarius @PPathole Thanks 💖'\n",
            "---\n",
            "('@Cernovich China is operating normally across hundreds of suppliers &amp; '\n",
            " 'all of Tesla Shanghai')\n",
            "---\n",
            "('@DOfaquarius @PPathole We’re working on ventilators, even though I think '\n",
            " 'there will not be a shortage by the time we can make enough to matter')\n",
            "---\n",
            "('@flcnhvy Anyone feeling even slightly ill should stay home. Elderly should '\n",
            " 'avoid close contact, even with family members, for now. Those seem most '\n",
            " 'important.')\n",
            "---\n",
            "'@RationalEtienne @PPathole  https://t.co/eltgA3hrAr'\n",
            "---\n",
            "('@RationalEtienne @PPathole Kids are essentially immune, but elderly with '\n",
            " 'existing conditions are vulnerable. Family gatherings with close contact '\n",
            " 'between kids &amp; grandparents probably most risky.')\n",
            "---\n",
            "('@PPathole Based on current trends, probably close to zero new cases in US '\n",
            " 'too by end of April')\n",
            "---\n",
            "'@PPathole Yes'\n",
            "---\n",
            "'No new domestic corona cases in China  https://t.co/lGmxRvMyFy'\n",
            "---\n",
            "('@westcoastbill Imo, this professor is correct. Also, growth rate of '\n",
            " 'confirmed C19 cases is dropping every day, despite 10X increase in testing. '\n",
            " 'From Tues to today, was 43%, 24%, 17%. Track this chart:  '\n",
            " 'https://t.co/vZ3PbhQihG')\n",
            "---\n",
            "('@NYCMayor @NateSilver538 Sounds good, we will connect with your team to '\n",
            " 'understand potential needs')\n",
            "---\n",
            "'@M_Mosseri @SpaceX @NASA @NASA_Astronauts Yes'\n",
            "---\n",
            "'@DisruptResearch @Jason True'\n",
            "---\n",
            "('@Jason Exactly. My guess is that the panic will cause more harm than the '\n",
            " 'virus, if that hasn’t happened already.')\n",
            "---\n",
            "('@NateSilver538 Tesla makes cars with sophisticated hvac systems. SpaceX '\n",
            " 'makes spacecraft with life support systems. Ventilators are not difficult, '\n",
            " 'but cannot be produced instantly. Which hospitals have these shortages you '\n",
            " 'speak of right now?')\n",
            "---\n",
            "'@suhaylabbas @fawadchaudhry We will make ventilators if there is a shortage'\n",
            "---\n",
            "'@cleantechnica  https://t.co/9XVratNhnq'\n",
            "---\n",
            "'@cleantechnica Some helpful data from Italy  https://t.co/3taxq5NXcZ'\n",
            "---\n",
            "('@cleantechnica Monitor graph at bottom of CDC website. New “confirmed” '\n",
            " 'cases, not oft-reported “presumptive positive” is trending to level off over '\n",
            " 'next few weeks &amp; be negligible by end of April. Same pattern as China.   '\n",
            " 'https://t.co/vZ3PbhQihG')\n",
            "---\n",
            "'@cleantechnica 0% chance of anything close'\n",
            "---\n",
            "'@challengerST @WorldAndScience 🤣🤣'\n",
            "---\n",
            "('@RiganoESQ @DiderRaoult How does this compare to favipiravir?  '\n",
            " 'https://t.co/rM1MqsVsr1')\n",
            "---\n",
            "'@DOfaquarius @PPathole Thanks 💖'\n",
            "---\n",
            "('@Cernovich China is operating normally across hundreds of suppliers &amp; '\n",
            " 'all of Tesla Shanghai')\n",
            "---\n",
            "('@DOfaquarius @PPathole We’re working on ventilators, even though I think '\n",
            " 'there will not be a shortage by the time we can make enough to matter')\n",
            "---\n",
            "('@flcnhvy Anyone feeling even slightly ill should stay home. Elderly should '\n",
            " 'avoid close contact, even with family members, for now. Those seem most '\n",
            " 'important.')\n",
            "---\n",
            "'@RationalEtienne @PPathole  https://t.co/eltgA3hrAr'\n",
            "---\n",
            "('@RationalEtienne @PPathole Kids are essentially immune, but elderly with '\n",
            " 'existing conditions are vulnerable. Family gatherings with close contact '\n",
            " 'between kids &amp; grandparents probably most risky.')\n",
            "---\n",
            "('@PPathole Based on current trends, probably close to zero new cases in US '\n",
            " 'too by end of April')\n",
            "---\n",
            "'@PPathole Yes'\n",
            "---\n",
            "'No new domestic corona cases in China  https://t.co/lGmxRvMyFy'\n",
            "---\n",
            "('@westcoastbill Imo, this professor is correct. Also, growth rate of '\n",
            " 'confirmed C19 cases is dropping every day, despite 10X increase in testing. '\n",
            " 'From Tues to today, was 43%, 24%, 17%. Track this chart:  '\n",
            " 'https://t.co/vZ3PbhQihG')\n",
            "---\n",
            "('@NYCMayor @NateSilver538 Sounds good, we will connect with your team to '\n",
            " 'understand potential needs')\n",
            "---\n",
            "'@M_Mosseri @SpaceX @NASA @NASA_Astronauts Yes'\n",
            "---\n",
            "'@DisruptResearch @Jason True'\n",
            "---\n",
            "('@Jason Exactly. My guess is that the panic will cause more harm than the '\n",
            " 'virus, if that hasn’t happened already.')\n",
            "---\n",
            "('@NateSilver538 Tesla makes cars with sophisticated hvac systems. SpaceX '\n",
            " 'makes spacecraft with life support systems. Ventilators are not difficult, '\n",
            " 'but cannot be produced instantly. Which hospitals have these shortages you '\n",
            " 'speak of right now?')\n",
            "---\n",
            "'@suhaylabbas @fawadchaudhry We will make ventilators if there is a shortage'\n",
            "---\n",
            "'@cleantechnica  https://t.co/9XVratNhnq'\n",
            "---\n",
            "'@cleantechnica Some helpful data from Italy  https://t.co/3taxq5NXcZ'\n",
            "---\n",
            "('@cleantechnica Monitor graph at bottom of CDC website. New “confirmed” '\n",
            " 'cases, not oft-reported “presumptive positive” is trending to level off over '\n",
            " 'next few weeks &amp; be negligible by end of April. Same pattern as China.   '\n",
            " 'https://t.co/vZ3PbhQihG')\n",
            "---\n",
            "'@cleantechnica 0% chance of anything close'\n",
            "---\n",
            "'@challengerST @WorldAndScience 🤣🤣'\n",
            "---\n",
            "('@RiganoESQ @DiderRaoult How does this compare to favipiravir?  '\n",
            " 'https://t.co/rM1MqsVsr1')\n",
            "---\n"
          ]
        }
      ]
    },
    {
      "cell_type": "code",
      "source": [
        "# how many hype trends can you find in 3 weeks of tweets?\n",
        "from datetime import date\n",
        "html = calendar_table(\n",
        "    documents,\n",
        "    terms,\n",
        "    weights,\n",
        "    from_datetime=date(2021, 3, 1),\n",
        "    to_datetime=date(2021, 3, 21),\n",
        ")\n",
        "display(HTML(html))"
      ],
      "metadata": {
        "colab": {
          "base_uri": "https://localhost:8080/",
          "height": 393
        },
        "id": "lIYZF89kIALY",
        "outputId": "186bc327-8271-45d1-d8fa-0ea9948751dc"
      },
      "execution_count": null,
      "outputs": [
        {
          "output_type": "display_data",
          "data": {
            "text/plain": [
              "<IPython.core.display.HTML object>"
            ],
            "text/html": [
              "<style>\n",
              "    th, td {\n",
              "      padding: 8px;\n",
              "      text-align: center;\n",
              "      border-bottom: 1px solid #ddd;\n",
              "      font-size: 20;\n",
              "    }\n",
              "    tr {\n",
              "      font-size: 20;\n",
              "    }\n",
              "    </style><table><tr><th>week</th><th>Mon</th><th>Tue</th><th>Wed</th><th>Thu</th><th>Fri</th><th>Sat</th><th>Sun</th></tr><tr><td>2021-03-01 - 2021-03-07</td><td><div style=\"color:rgba(0, 0, 255, 0.1869040159331672);font-weight:bold\">@wholemarsblog spac @totalspace360 legendary regretamine</div></td><td><div style=\"color:rgba(0, 0, 255, 0.17717359651792056);font-weight:bold\">thence @wootieztv @pslavi @draecomino starbase</div></td><td><div style=\"color:rgba(0, 0, 255, 0.3187866212862357);font-weight:bold\">@labpadre @f9block5 @larry_in_canada @billhuang688 @ppathole</div></td><td><div style=\"color:rgba(0, 0, 255, 0.18895346690967724);font-weight:bold\">sn10 @skorusark commonplace excruciating honorable</div></td><td><div style=\"color:rgba(0, 0, 255, 0.17627977545074222);font-weight:bold\">fantasy 🙄 valhalla cybervikings underestimated</div></td><td><div style=\"color:rgba(0, 0, 255, 0.2969809955174942);font-weight:bold\">@timsweeneyepic beta q2 internally qa</div></td><td><div style=\"color:rgba(0, 0, 255, 0.14071860324449936);font-weight:bold\">band broke bad m up</div></td></tr><tr><td>2021-03-08 - 2021-03-14</td><td><div style=\"color:rgba(0, 0, 255, 0.17870159372470973);font-weight:bold\">rvs @harbles @klenderjoey @klwtts carnot</div></td><td><div style=\"color:rgba(0, 0, 255, 0.22564784933806306);font-weight:bold\">@wholemarsblog download qa helium header</div></td><td><div style=\"color:rgba(0, 0, 255, 0.19169047418042745);font-weight:bold\">@nasaspaceflight aircraft @tobyliiiiiiiiii liquid gamechanger</div></td><td><div style=\"color:rgba(0, 0, 255, 0.23480867461832494);font-weight:bold\">@arstechnica @sciguyspace @trevormahlmann @spacepadreisle payload</div></td><td><div style=\"color:rgba(0, 0, 255, 0.1901327481193872);font-weight:bold\">@thejackbeyer beta immunocompromised jab reactions</div></td><td><div style=\"color:rgba(0, 0, 255, 0.21161113317942024);font-weight:bold\">doge afternoon 🎶 dogematic appease</div></td><td><div style=\"color:rgba(0, 0, 255, 0.1791990031620701);font-weight:bold\">fly @____amir pretties puckish rogue</div></td></tr><tr><td>2021-03-15 - 2021-03-21</td><td><div style=\"color:rgba(0, 0, 255, 0.17273187580738902);font-weight:bold\">@beeple nfts nft 2x 420</div></td><td><div style=\"color:rgba(0, 0, 255, 0.13873925002335405);font-weight:bold\">selling pass feel quite does</div></td><td><div style=\"color:rgba(0, 0, 255, 0.1587424737913891);font-weight:bold\">sn11 @rjdlandscapes cgi irl @erdayastronaut</div></td><td><div style=\"color:rgba(0, 0, 255, 0.19655992582403833);font-weight:bold\">booster @lexfridman hook ~140 struggled</div></td><td><div style=\"color:rgba(0, 0, 255, 0.2064737300837619);font-weight:bold\">@jordanbpeterson @thejackbeyer talk преступленіе наказаніе</div></td><td><div style=\"color:rgba(0, 0, 255, 0.17411760210434218);font-weight:bold\">@twittercomms 8.x @verified ate sandwich</div></td><td><div style=\"color:rgba(0, 0, 255, 0.17870159372470973);font-weight:bold\">slows introduction @swaggerheim roast @atomicsastro</div></td></tr></table>"
            ]
          },
          "metadata": {}
        }
      ]
    },
    {
      "cell_type": "markdown",
      "metadata": {
        "id": "jLU1TyZLMvg-"
      },
      "source": [
        "<!--@slideshow slide-->\n",
        "The idea of TF-IDF is very general and can be applied not only for texts.\n",
        "  > For example, a sequence of websites visited by a user can be treated as a \"document\", and each individual website is a \"term\".\n",
        "\n",
        "  > It doesn't tell you much if the user visits [facebook.com](https://colab.research.google.com/drive/1HBWC4XPaYmnyF8nF6OpAKSy1hLasZxuV?usp=sharing) 10 times a day.\n",
        "  \n",
        "  > But 10 visits of [stackoverflow.com](https://stackoverflow.com) per day may tell you something.\n"
      ]
    },
    {
      "cell_type": "markdown",
      "metadata": {
        "id": "-hEsGF74DZV2"
      },
      "source": [
        "<!--@slideshow slide-->\n",
        "## Probabilistic interpretation of TF-IDF\n",
        "\n"
      ]
    },
    {
      "cell_type": "markdown",
      "source": [
        "<!--@slideshow slide-->\n",
        "Given the collection of documents $D$, for each $d \\in D$ we want to figure out which terms are the most specific for the document.\n",
        "\n",
        "Let the number of terms is finite: $T$ distinct terms.\n",
        "\n"
      ],
      "metadata": {
        "id": "QzQ3-2otuh2I"
      }
    },
    {
      "cell_type": "markdown",
      "source": [
        "<!--@slideshow fragment-->\n",
        "Let $p_t$ is the probability to find the term $t$ in a random document from $D$, and $f_t$ is the frequency of term $t$ in the document $d$ ($f_t$ may be 0).\n",
        "\n"
      ],
      "metadata": {
        "id": "j6E9DuwGu1q6"
      }
    },
    {
      "cell_type": "markdown",
      "source": [
        "<!--@slideshow fragment-->\n",
        "Then the product $\\prod_{t=1}^{T} p_i^{f_t}$ gives the probability that the document $d$ is generated randomly.\n",
        "\n"
      ],
      "metadata": {
        "id": "F0rgSy-ou34U"
      }
    },
    {
      "cell_type": "markdown",
      "source": [
        "<!--@slideshow fragment-->\n",
        "Thus, the inverse quality $L_d = \\prod_{t=1}^{T} p_t^{-f_t}$ shows \"non-randomness\" of the document $d$\n",
        "\n"
      ],
      "metadata": {
        "id": "pYDP8t5ru6Fc"
      }
    },
    {
      "cell_type": "markdown",
      "source": [
        "<!--@slideshow fragment-->\n",
        "Take the $\\log$:\n",
        "$$\n",
        "\\log L_d = \\sum_{t=1}^{T}f_t\\log\\left(\\frac{1}{p_t}\\right)\n",
        "$$\n",
        "The higher the $t$-th summand, the more the term $t$ makes the document \"non-random\".\n",
        "\n"
      ],
      "metadata": {
        "id": "u7HkyLAWu8Wv"
      }
    },
    {
      "cell_type": "markdown",
      "source": [
        "<!--@slideshow fragment-->\n",
        "Note that $t_i\\log\\left(\\frac{1}{p_t}\\right) = TFIDF(t, d)$."
      ],
      "metadata": {
        "id": "-8diR2Hmu9su"
      }
    },
    {
      "cell_type": "markdown",
      "metadata": {
        "id": "tpYeQ0hp57Wu"
      },
      "source": [
        "# TF-IDF in sklearn"
      ]
    },
    {
      "cell_type": "markdown",
      "metadata": {
        "id": "TZUPEl_hQFCG"
      },
      "source": [
        "<!--@slideshow slide-->\n",
        "# Transform texts to vectors\n",
        "\n",
        "In practice, it's convenient to have the finite number of terms.\n",
        "> We can use, say, 10000 the most common words, ignoring all the other words."
      ]
    },
    {
      "cell_type": "code",
      "execution_count": null,
      "metadata": {
        "id": "K7F24snAvqaF",
        "colab": {
          "base_uri": "https://localhost:8080/",
          "height": 323
        },
        "outputId": "ebb71796-21c2-458b-a069-1427dd5d7052"
      },
      "outputs": [
        {
          "output_type": "display_data",
          "data": {
            "text/plain": [
              "<IPython.core.display.HTML object>"
            ],
            "text/html": [
              "<table>\n",
              "<thead>\n",
              "<tr><th>Original tweets (18460 terms)                                                                                                                                                                                     </th><th>Keep 10000 frequent terms                                                                                                                                                                                         </th></tr>\n",
              "</thead>\n",
              "<tbody>\n",
              "<tr><td>@jeremyheitman sentience is overrated                                                                                                                                                                             </td><td>&lt;UNK&gt; sentience is overrated                                                                                                                                                                                      </td></tr>\n",
              "<tr><td>t minus 10 minutes ... entering terminal count # dragonlaunch                                                                                                                                                     </td><td>t minus 10 minutes ... entering terminal count # dragonlaunch                                                                                                                                                     </td></tr>\n",
              "<tr><td>@redmor11 @schristakos @jgrano305 @dmc_ryan will recognize &amp; amp ; read all signs for fsd . focused on traffic lights &amp; amp ; stop signs right now . most are very easy . difficulty is millions of corner cases .</td><td>@redmor11 @schristakos @jgrano305 @dmc_ryan will recognize &amp; amp ; read all signs for fsd . focused on traffic lights &amp; amp ; stop signs right now . most are very easy . difficulty is millions of corner cases .</td></tr>\n",
              "<tr><td>hospitals in california have been half empty this whole time                                                                                                                                                      </td><td>hospitals in california have been half empty this whole time                                                                                                                                                      </td></tr>\n",
              "<tr><td>gave a talk on energy and transport at oxford univ   http://t.co/kbvjf5lo                                                                                                                                         </td><td>gave a talk on energy and transport at oxford univ   http://t.co/kbvjf5lo                                                                                                                                         </td></tr>\n",
              "<tr><td>this is going to be great                                                                                                                                                                                         </td><td>this is going to be great                                                                                                                                                                                         </td></tr>\n",
              "<tr><td>@nichegamer it ’s almost done                                                                                                                                                                                     </td><td>@nichegamer it ’s almost done                                                                                                                                                                                     </td></tr>\n",
              "<tr><td>upcoming falcon 9 demo has a lot of new technology , so the probability of failure is significant   http://t.co/pfngeeaawq                                                                                        </td><td>upcoming falcon 9 demo has a lot of new technology , so the probability of failure is significant   http://t.co/pfngeeaawq                                                                                        </td></tr>\n",
              "<tr><td>falcon 9 flight 11 to geosynchronous transfer orbit completed on target this morning   http://t.co/uojmnohtur                                                                                                     </td><td>falcon 9 flight 11 to geosynchronous transfer orbit completed on target this morning   http://t.co/uojmnohtur                                                                                                     </td></tr>\n",
              "<tr><td>@clickhole hate it when that happens . some people are so rude !                                                                                                                                                  </td><td>@clickhole hate it when that happens . some people are so rude !                                                                                                                                                  </td></tr>\n",
              "</tbody>\n",
              "</table>"
            ]
          },
          "metadata": {}
        }
      ],
      "source": [
        "#@slideshow slide tags=remove_input\n",
        "n_frequent_terms = 10000\n",
        "most_common_terms = set([x[0] for x in term_counter.most_common()][:n_frequent_terms])\n",
        "import random\n",
        "random.seed(42)\n",
        "\n",
        "tweets_data = []\n",
        "for random_tweet in random.choices(preprocessed_tweets, k=10):\n",
        "    original_tweet = \" \".join(random_tweet[1])\n",
        "    masked_tweet = []\n",
        "    for t in random_tweet[1]:\n",
        "        if t in most_common_terms:\n",
        "            masked_tweet.append(t)\n",
        "        else:\n",
        "            masked_tweet.append(\"<UNK>\")\n",
        "    tweet_with_rare_words_ignored = \" \".join(masked_tweet)\n",
        "    tweets_data.append((original_tweet, tweet_with_rare_words_ignored))\n",
        "\n",
        "from IPython.display import display, HTML\n",
        "display(HTML(tabulate(\n",
        "    tweets_data,\n",
        "    headers=(\n",
        "        \"Original tweets ({} terms)\".format(len(term_counter)),\n",
        "        \"Keep {} frequent terms\".format(n_frequent_terms)\n",
        "    ),\n",
        "    tablefmt=\"html\"\n",
        ")))"
      ]
    },
    {
      "cell_type": "markdown",
      "metadata": {
        "id": "C3NoFD3TvuYO"
      },
      "source": [
        "<!--@slideshow slide-->\n",
        "Our observations so far:\n",
        "1. For each term $t$ in each document $d \\in D$, we can compute $TFIDF(t, d, D)$.\n",
        "2. We can have the finite number of terms.\n",
        "\n",
        "Therefore, we can represent each document with the fixed set of TFIDFs."
      ]
    },
    {
      "cell_type": "markdown",
      "metadata": {
        "id": "TMzn0NXh6dXx"
      },
      "source": [
        "<!--@slideshow fragment-->\n",
        "In other words, we can convert a document into a **vector**."
      ]
    },
    {
      "cell_type": "markdown",
      "metadata": {
        "id": "sSnmhyUM2qeD"
      },
      "source": [
        "<!--@slideshow fragment-->\n",
        "But why?\n",
        "- To compute the distance between two documents (for example, to find similar documents).\n",
        "- Vectors are inputs for machine learning algorithms."
      ]
    },
    {
      "cell_type": "markdown",
      "metadata": {
        "id": "Xsd37keI9qXc"
      },
      "source": [
        "<!--@slideshow slide-->\n",
        "scikit-learn implements so-called \"vectorizers\" that convert texts into vectors."
      ]
    },
    {
      "cell_type": "code",
      "execution_count": null,
      "metadata": {
        "id": "lhbclaG0XJWB",
        "colab": {
          "base_uri": "https://localhost:8080/"
        },
        "outputId": "8f5805fb-1ec2-4d3e-a8cb-69c0fdac01ff"
      },
      "outputs": [
        {
          "output_type": "execute_result",
          "data": {
            "text/plain": [
              "TfidfVectorizer(smooth_idf=False)"
            ]
          },
          "metadata": {},
          "execution_count": 21
        }
      ],
      "source": [
        "#@slideshow fragment\n",
        "# TfidfVectorizer converts texts into vectors\n",
        "from sklearn.feature_extraction.text import TfidfVectorizer\n",
        "\n",
        "# the texts we will vectorize\n",
        "data = [\n",
        "  \"One, two, three.\",\n",
        "  \"Two, three.\",\n",
        "  \"Three.\"\n",
        "]\n",
        "\n",
        "# Tfidf vectorizer has the \"smooth\" version of IDF\n",
        "# Here is the difference:\n",
        "#   idf = log(n_documents / count) + 1\n",
        "#   smooth_idf = log((n_documents + 1) / (count + 1)) + 1\n",
        "\n",
        "# Note that instead of \n",
        "#   idf = log(n_documents / count)\n",
        "# TfidfVectorizer computes\n",
        "#   idf = log(n_documents / count) + 1\n",
        "# It helps to distinguish 2 cases:\n",
        "#   1. TF-IDF(t, d, D) = 0 because the term t is absent in the document d\n",
        "#   2. TF-IDF(t, d, D) = 0 because the term t is present in each document in the collection D\n",
        "vectorizer = TfidfVectorizer(smooth_idf=False)\n",
        "\n",
        "# to compute TF-IDFs, use the method `.fit()`\n",
        "vectorizer.fit(data)"
      ]
    },
    {
      "cell_type": "code",
      "execution_count": null,
      "metadata": {
        "id": "VV6dkLc37S0k",
        "colab": {
          "base_uri": "https://localhost:8080/"
        },
        "outputId": "56fe5cd7-4c67-4652-ca41-b060b6b78fee"
      },
      "outputs": [
        {
          "output_type": "stream",
          "name": "stdout",
          "text": [
            "vectorizer.vocabulary_: {'one': 0, 'two': 2, 'three': 1}\n",
            "vectorizer.idf_: [2.09861229 1.         1.40546511]\n",
            "word        idf    count\n",
            "------  -------  -------\n",
            "one     2.09861        1\n",
            "two     1.40547        2\n",
            "three   1              3\n"
          ]
        }
      ],
      "source": [
        "#@slideshow slide\n",
        "# vectorizer.vocabulary_ contains word -> index mapping\n",
        "print(\"vectorizer.vocabulary_:\", vectorizer.vocabulary_)\n",
        "# vectorizer.idf_ contains the idf value for each index\n",
        "print(\"vectorizer.idf_:\", vectorizer.idf_)\n",
        "\n",
        "# let's check that TfidfVectorizer uses the formula\n",
        "#   idf = log(n_documents / count) + 1\n",
        "# to do so, we restore word count from idf\n",
        "vectorizer_internals = []\n",
        "for word, idx in vectorizer.vocabulary_.items():\n",
        "  idf = vectorizer.idf_[idx]\n",
        "  n_documents = len(data)\n",
        "  count = n_documents / exp(idf - 1)\n",
        "  vectorizer_internals.append([word, idf, count])\n",
        "\n",
        "print(tabulate(vectorizer_internals, headers=[\"word\", \"idf\", \"count\"]))"
      ]
    },
    {
      "cell_type": "code",
      "execution_count": null,
      "metadata": {
        "id": "E9WHwrv4gHjG",
        "colab": {
          "base_uri": "https://localhost:8080/"
        },
        "outputId": "edb343d0-084f-45e1-a885-3ebc09e01798"
      },
      "outputs": [
        {
          "output_type": "stream",
          "name": "stdout",
          "text": [
            "matrix([[0.        , 0.57973867, 0.81480247],\n",
            "        [0.        , 0.        , 0.        ]])\n"
          ]
        }
      ],
      "source": [
        "#@slideshow slide\n",
        "# The trained vectorizer can be applied on new data\n",
        "new_data = [\n",
        "    \"Two, three, four\",\n",
        "    \"Five\",\n",
        "]\n",
        "pprint(vectorizer.transform(new_data).todense())"
      ]
    },
    {
      "cell_type": "markdown",
      "metadata": {
        "id": "cTRD2Kl1ggUS"
      },
      "source": [
        "<!--@slideshow fragment-->\n",
        "The `.transform()` method converts the input text array into matrix where:\n",
        "- $i$-th row corresponds to the $i$-th input text\n",
        "- $j$-th column corresponds to some term $t_j$ *from the training set*\n",
        "  > The mapping $t_j \\rightarrow j$ is stored in the `.vocabulary_` attribute.\n",
        "\n",
        "Note that:\n",
        "1. New words (\"four\", \"five\") are ignored.\n",
        "1. Non-zero vectors are normalized (have length 1)."
      ]
    },
    {
      "cell_type": "markdown",
      "metadata": {
        "id": "MNPriLQveCv6"
      },
      "source": [
        "<!--@slideshow slide-->\n",
        "By default, `TfidfVectorizer` performs simple tokenization: lowercasing, split by punctuation."
      ]
    },
    {
      "cell_type": "code",
      "execution_count": null,
      "metadata": {
        "id": "Qy9sKjaieW36",
        "colab": {
          "base_uri": "https://localhost:8080/"
        },
        "outputId": "26d1ac53-e652-456a-fe68-bc89b102405d"
      },
      "outputs": [
        {
          "output_type": "stream",
          "name": "stdout",
          "text": [
            "Olympics opening is excellently British. Jolly good show!  http://t.co/s9XZdaBL\n",
            "{'olympics': 7, 'opening': 8, 'is': 5, 'excellently': 2, 'british': 0, 'jolly': 6, 'good': 3, 'show': 10, 'http': 4, 'co': 1, 's9xzdabl': 9}\n"
          ]
        }
      ],
      "source": [
        "#@slideshow fragment\n",
        "text = df.tweet[99]\n",
        "print(text)\n",
        "vectorizer = TfidfVectorizer().fit([text])\n",
        "print(vectorizer.vocabulary_)"
      ]
    },
    {
      "cell_type": "markdown",
      "metadata": {
        "id": "CgFIQE5MeXft"
      },
      "source": [
        "<!--@slideshow fragment-->\n",
        "But the tokenizer can be redefined:"
      ]
    },
    {
      "cell_type": "code",
      "execution_count": null,
      "metadata": {
        "id": "uzw1I1LLQvuS",
        "colab": {
          "base_uri": "https://localhost:8080/"
        },
        "outputId": "d8157ee1-5af6-494f-dc59-d6c0bb0332bc"
      },
      "outputs": [
        {
          "output_type": "stream",
          "name": "stdout",
          "text": [
            "Olympics opening is excellently British. Jolly good show!  http://t.co/s9XZdaBL\n",
            "{'olympics': 9, 'opening': 10, 'is': 7, 'excellently': 4, 'british': 3, '.': 2, 'jolly': 8, 'good': 5, 'show': 11, '!': 1, ' ': 0, 'http://t.co/s9xzdabl': 6}\n"
          ]
        },
        {
          "output_type": "stream",
          "name": "stderr",
          "text": [
            "/usr/local/lib/python3.8/dist-packages/sklearn/feature_extraction/text.py:516: UserWarning: The parameter 'token_pattern' will not be used since 'tokenizer' is not None'\n",
            "  warnings.warn(\n"
          ]
        }
      ],
      "source": [
        "#@slideshow fragment\n",
        "nlp = spacy.load(\"en_core_web_sm\", disable=[\"parser\", \"ner\", \"tok2vec\"])\n",
        "\n",
        "def spacy_tokenizer(text):\n",
        "    return [t.lemma_ for t in nlp(text)]\n",
        "\n",
        "text = df.tweet[99]\n",
        "print(text)\n",
        "vectorizer_spacy = TfidfVectorizer(tokenizer=spacy_tokenizer).fit([text])\n",
        "print(vectorizer_spacy.vocabulary_)"
      ]
    },
    {
      "cell_type": "markdown",
      "metadata": {
        "id": "lePxdd8FaE6p"
      },
      "source": [
        "<!--@slideshow slide-->\n",
        "# Text similarity with TF-IDF: Quora Question Pairs"
      ]
    },
    {
      "cell_type": "markdown",
      "source": [
        "<!--@slideshow slide-->\n",
        "Now we will use TF-IDF vectors to find duplicates in Quora questions."
      ],
      "metadata": {
        "id": "lsa4iYvTt2pF"
      }
    },
    {
      "cell_type": "code",
      "execution_count": null,
      "metadata": {
        "id": "lWXCqNOCacNW",
        "colab": {
          "base_uri": "https://localhost:8080/",
          "height": 381
        },
        "outputId": "32474e04-e431-47e2-e887-84885b0e828d"
      },
      "outputs": [
        {
          "output_type": "stream",
          "name": "stdout",
          "text": [
            "Total samples: 404290\n"
          ]
        },
        {
          "output_type": "execute_result",
          "data": {
            "text/plain": [
              "                                           question1  \\\n",
              "0  What is the step by step guide to invest in sh...   \n",
              "1  What is the story of Kohinoor (Koh-i-Noor) Dia...   \n",
              "2  How can I increase the speed of my internet co...   \n",
              "3  Why am I mentally very lonely? How can I solve...   \n",
              "4  Which one dissolve in water quikly sugar, salt...   \n",
              "5  Astrology: I am a Capricorn Sun Cap moon and c...   \n",
              "6                                Should I buy tiago?   \n",
              "7                     How can I be a good geologist?   \n",
              "8                    When do you use シ instead of し?   \n",
              "9  Motorola (company): Can I hack my Charter Moto...   \n",
              "\n",
              "                                           question2  is_duplicate  \n",
              "0  What is the step by step guide to invest in sh...             0  \n",
              "1  What would happen if the Indian government sto...             0  \n",
              "2  How can Internet speed be increased by hacking...             0  \n",
              "3  Find the remainder when [math]23^{24}[/math] i...             0  \n",
              "4            Which fish would survive in salt water?             0  \n",
              "5  I'm a triple Capricorn (Sun, Moon and ascendan...             1  \n",
              "6  What keeps childern active and far from phone ...             0  \n",
              "7          What should I do to be a great geologist?             1  \n",
              "8              When do you use \"&\" instead of \"and\"?             0  \n",
              "9  How do I hack Motorola DCX3400 for free internet?             0  "
            ],
            "text/html": [
              "\n",
              "  <div id=\"df-12a238c2-0d9a-4e8d-8bce-2c68fa04933f\">\n",
              "    <div class=\"colab-df-container\">\n",
              "      <div>\n",
              "<style scoped>\n",
              "    .dataframe tbody tr th:only-of-type {\n",
              "        vertical-align: middle;\n",
              "    }\n",
              "\n",
              "    .dataframe tbody tr th {\n",
              "        vertical-align: top;\n",
              "    }\n",
              "\n",
              "    .dataframe thead th {\n",
              "        text-align: right;\n",
              "    }\n",
              "</style>\n",
              "<table border=\"1\" class=\"dataframe\">\n",
              "  <thead>\n",
              "    <tr style=\"text-align: right;\">\n",
              "      <th></th>\n",
              "      <th>question1</th>\n",
              "      <th>question2</th>\n",
              "      <th>is_duplicate</th>\n",
              "    </tr>\n",
              "  </thead>\n",
              "  <tbody>\n",
              "    <tr>\n",
              "      <th>0</th>\n",
              "      <td>What is the step by step guide to invest in sh...</td>\n",
              "      <td>What is the step by step guide to invest in sh...</td>\n",
              "      <td>0</td>\n",
              "    </tr>\n",
              "    <tr>\n",
              "      <th>1</th>\n",
              "      <td>What is the story of Kohinoor (Koh-i-Noor) Dia...</td>\n",
              "      <td>What would happen if the Indian government sto...</td>\n",
              "      <td>0</td>\n",
              "    </tr>\n",
              "    <tr>\n",
              "      <th>2</th>\n",
              "      <td>How can I increase the speed of my internet co...</td>\n",
              "      <td>How can Internet speed be increased by hacking...</td>\n",
              "      <td>0</td>\n",
              "    </tr>\n",
              "    <tr>\n",
              "      <th>3</th>\n",
              "      <td>Why am I mentally very lonely? How can I solve...</td>\n",
              "      <td>Find the remainder when [math]23^{24}[/math] i...</td>\n",
              "      <td>0</td>\n",
              "    </tr>\n",
              "    <tr>\n",
              "      <th>4</th>\n",
              "      <td>Which one dissolve in water quikly sugar, salt...</td>\n",
              "      <td>Which fish would survive in salt water?</td>\n",
              "      <td>0</td>\n",
              "    </tr>\n",
              "    <tr>\n",
              "      <th>5</th>\n",
              "      <td>Astrology: I am a Capricorn Sun Cap moon and c...</td>\n",
              "      <td>I'm a triple Capricorn (Sun, Moon and ascendan...</td>\n",
              "      <td>1</td>\n",
              "    </tr>\n",
              "    <tr>\n",
              "      <th>6</th>\n",
              "      <td>Should I buy tiago?</td>\n",
              "      <td>What keeps childern active and far from phone ...</td>\n",
              "      <td>0</td>\n",
              "    </tr>\n",
              "    <tr>\n",
              "      <th>7</th>\n",
              "      <td>How can I be a good geologist?</td>\n",
              "      <td>What should I do to be a great geologist?</td>\n",
              "      <td>1</td>\n",
              "    </tr>\n",
              "    <tr>\n",
              "      <th>8</th>\n",
              "      <td>When do you use シ instead of し?</td>\n",
              "      <td>When do you use \"&amp;\" instead of \"and\"?</td>\n",
              "      <td>0</td>\n",
              "    </tr>\n",
              "    <tr>\n",
              "      <th>9</th>\n",
              "      <td>Motorola (company): Can I hack my Charter Moto...</td>\n",
              "      <td>How do I hack Motorola DCX3400 for free internet?</td>\n",
              "      <td>0</td>\n",
              "    </tr>\n",
              "  </tbody>\n",
              "</table>\n",
              "</div>\n",
              "      <button class=\"colab-df-convert\" onclick=\"convertToInteractive('df-12a238c2-0d9a-4e8d-8bce-2c68fa04933f')\"\n",
              "              title=\"Convert this dataframe to an interactive table.\"\n",
              "              style=\"display:none;\">\n",
              "        \n",
              "  <svg xmlns=\"http://www.w3.org/2000/svg\" height=\"24px\"viewBox=\"0 0 24 24\"\n",
              "       width=\"24px\">\n",
              "    <path d=\"M0 0h24v24H0V0z\" fill=\"none\"/>\n",
              "    <path d=\"M18.56 5.44l.94 2.06.94-2.06 2.06-.94-2.06-.94-.94-2.06-.94 2.06-2.06.94zm-11 1L8.5 8.5l.94-2.06 2.06-.94-2.06-.94L8.5 2.5l-.94 2.06-2.06.94zm10 10l.94 2.06.94-2.06 2.06-.94-2.06-.94-.94-2.06-.94 2.06-2.06.94z\"/><path d=\"M17.41 7.96l-1.37-1.37c-.4-.4-.92-.59-1.43-.59-.52 0-1.04.2-1.43.59L10.3 9.45l-7.72 7.72c-.78.78-.78 2.05 0 2.83L4 21.41c.39.39.9.59 1.41.59.51 0 1.02-.2 1.41-.59l7.78-7.78 2.81-2.81c.8-.78.8-2.07 0-2.86zM5.41 20L4 18.59l7.72-7.72 1.47 1.35L5.41 20z\"/>\n",
              "  </svg>\n",
              "      </button>\n",
              "      \n",
              "  <style>\n",
              "    .colab-df-container {\n",
              "      display:flex;\n",
              "      flex-wrap:wrap;\n",
              "      gap: 12px;\n",
              "    }\n",
              "\n",
              "    .colab-df-convert {\n",
              "      background-color: #E8F0FE;\n",
              "      border: none;\n",
              "      border-radius: 50%;\n",
              "      cursor: pointer;\n",
              "      display: none;\n",
              "      fill: #1967D2;\n",
              "      height: 32px;\n",
              "      padding: 0 0 0 0;\n",
              "      width: 32px;\n",
              "    }\n",
              "\n",
              "    .colab-df-convert:hover {\n",
              "      background-color: #E2EBFA;\n",
              "      box-shadow: 0px 1px 2px rgba(60, 64, 67, 0.3), 0px 1px 3px 1px rgba(60, 64, 67, 0.15);\n",
              "      fill: #174EA6;\n",
              "    }\n",
              "\n",
              "    [theme=dark] .colab-df-convert {\n",
              "      background-color: #3B4455;\n",
              "      fill: #D2E3FC;\n",
              "    }\n",
              "\n",
              "    [theme=dark] .colab-df-convert:hover {\n",
              "      background-color: #434B5C;\n",
              "      box-shadow: 0px 1px 3px 1px rgba(0, 0, 0, 0.15);\n",
              "      filter: drop-shadow(0px 1px 2px rgba(0, 0, 0, 0.3));\n",
              "      fill: #FFFFFF;\n",
              "    }\n",
              "  </style>\n",
              "\n",
              "      <script>\n",
              "        const buttonEl =\n",
              "          document.querySelector('#df-12a238c2-0d9a-4e8d-8bce-2c68fa04933f button.colab-df-convert');\n",
              "        buttonEl.style.display =\n",
              "          google.colab.kernel.accessAllowed ? 'block' : 'none';\n",
              "\n",
              "        async function convertToInteractive(key) {\n",
              "          const element = document.querySelector('#df-12a238c2-0d9a-4e8d-8bce-2c68fa04933f');\n",
              "          const dataTable =\n",
              "            await google.colab.kernel.invokeFunction('convertToInteractive',\n",
              "                                                     [key], {});\n",
              "          if (!dataTable) return;\n",
              "\n",
              "          const docLinkHtml = 'Like what you see? Visit the ' +\n",
              "            '<a target=\"_blank\" href=https://colab.research.google.com/notebooks/data_table.ipynb>data table notebook</a>'\n",
              "            + ' to learn more about interactive tables.';\n",
              "          element.innerHTML = '';\n",
              "          dataTable['output_type'] = 'display_data';\n",
              "          await google.colab.output.renderOutput(dataTable, element);\n",
              "          const docLink = document.createElement('div');\n",
              "          docLink.innerHTML = docLinkHtml;\n",
              "          element.appendChild(docLink);\n",
              "        }\n",
              "      </script>\n",
              "    </div>\n",
              "  </div>\n",
              "  "
            ]
          },
          "metadata": {},
          "execution_count": 26
        }
      ],
      "source": [
        "#@slideshow fragment\n",
        "import pandas as pd\n",
        "\n",
        "df = pd.read_csv(\"harbour-space-text-mining-course/datasets/quora_question_pairs/train.csv\")\n",
        "print(f\"Total samples: {df.shape[0]}\")\n",
        "# select a subset of rows to speed up the demonstration\n",
        "df = df.head(20000)\n",
        "# `is_duplicate` shows whether `question1` and `question2` are duplicates\n",
        "df[[\"question1\", \"question2\", \"is_duplicate\"]].head(10)"
      ]
    },
    {
      "cell_type": "markdown",
      "source": [
        "<!--@slideshow slide-->\n",
        "\n",
        "The algorithm is:\n",
        "1. Split the data into train/test parts\n",
        "1. Train `TfidfVectorizer` on the train part\n",
        "1. Apply the trained model to the test part"
      ],
      "metadata": {
        "id": "VopFXt8rxVig"
      }
    },
    {
      "cell_type": "code",
      "execution_count": null,
      "metadata": {
        "id": "pOUD76sHt9st",
        "colab": {
          "base_uri": "https://localhost:8080/"
        },
        "outputId": "60a8d4fe-e6af-4b54-c802-5290caf948b3"
      },
      "outputs": [
        {
          "output_type": "stream",
          "name": "stderr",
          "text": [
            "/usr/local/lib/python3.8/dist-packages/sklearn/feature_extraction/text.py:516: UserWarning: The parameter 'token_pattern' will not be used since 'tokenizer' is not None'\n",
            "  warnings.warn(\n"
          ]
        },
        {
          "output_type": "execute_result",
          "data": {
            "text/plain": [
              "TfidfVectorizer(tokenizer=<function spacy_tokenizer at 0x7f5bd85e6160>)"
            ]
          },
          "metadata": {},
          "execution_count": 27
        }
      ],
      "source": [
        "#@slideshow fragment\n",
        "import numpy as np\n",
        "from sklearn.model_selection import train_test_split\n",
        "\n",
        "df_train, df_test = train_test_split(df.fillna(\".\"), test_size=0.5, shuffle=True, random_state=0)\n",
        "\n",
        "# we use spacy_tokenizer, but we could use the default one\n",
        "quora_vectorizer = TfidfVectorizer(tokenizer=spacy_tokenizer)\n",
        "\n",
        "# stack two columns: question1 first, question2 second\n",
        "questions = np.hstack([df_train.question1.values, df_train.question2.values])\n",
        "quora_vectorizer.fit(questions)"
      ]
    },
    {
      "cell_type": "code",
      "execution_count": null,
      "metadata": {
        "id": "VWU_7cZqy4lJ"
      },
      "outputs": [],
      "source": [
        "#@slideshow fragment\n",
        "# extract TF-IDF vectors from the test data\n",
        "question_1_vectors = quora_vectorizer.transform(df_test.question1)\n",
        "question_2_vectors = quora_vectorizer.transform(df_test.question2)"
      ]
    },
    {
      "cell_type": "markdown",
      "source": [
        "<!--@slideshow slide-->\n",
        "\n",
        "Evaluate [ROC AUC score](https://en.wikipedia.org/wiki/Receiver_operating_characteristic#Area_under_the_curve) (**stay tuned**):\n",
        "- ROC AUC = probability that 2 randomly chosen samples are ranked correctly\n",
        "- ROC AUC = 1 for perfect ranking\n",
        "- ROC AUC = 0.5 for random ranking"
      ],
      "metadata": {
        "id": "YdCHyID8yIKr"
      }
    },
    {
      "cell_type": "code",
      "execution_count": null,
      "metadata": {
        "id": "n7A9Tq-47gcN",
        "colab": {
          "base_uri": "https://localhost:8080/"
        },
        "outputId": "7f15d993-d96d-4123-a66d-b72788f2a31d"
      },
      "outputs": [
        {
          "output_type": "stream",
          "name": "stdout",
          "text": [
            "ROC AUC: 0.7193585751667878\n"
          ]
        }
      ],
      "source": [
        "#@slideshow fragment\n",
        "from sklearn.metrics import roc_auc_score\n",
        "\n",
        "# compute distances between TF-IDF vectors\n",
        "# iterate over pairs using `zip()` generator\n",
        "# vectors are normalized, so the similarity = 1 - distance = dot product\n",
        "tf_idf_similarity = [\n",
        "    # v1, v2 are sparse matrices: convert their dot product into a dense matrix and then to a scalar\n",
        "    np.dot(v1, v2.T).todense().item()  \n",
        "    for v1, v2 in zip(question_1_vectors, question_2_vectors)\n",
        "]\n",
        "print(\"ROC AUC:\", roc_auc_score(df_test.is_duplicate, tf_idf_similarity))"
      ]
    },
    {
      "cell_type": "markdown",
      "source": [
        "The result isn't perfect, but definitely not random.\n",
        "And it's achieved without any supervision (we didn't look at the labels)."
      ],
      "metadata": {
        "id": "cci9NW4u293l"
      }
    },
    {
      "cell_type": "markdown",
      "metadata": {
        "id": "MQH56yZkgXaO"
      },
      "source": [
        "<!--@slideshow slide-->\n",
        "# Other sklearn vectorizers\n",
        "\n",
        "There are other vectorizers that convert texts into vectors. All of them implement the same `fit/transform` interface.\n",
        "1. `CountVectorizer`. Constructs the vector of term frequencies instead of TF-IDFs\n",
        "1. `HashingVectorizer`. Performs so-called \"one-hot encoding\". Converts the document into binary vector: 1 if the term occurs in the document and 0 otherwise.\n",
        "\n",
        "> `HashingVectorizer` doesn't store the vocabulary - it  constructs vectors \"on the fly\" using a hash function."
      ]
    },
    {
      "cell_type": "code",
      "execution_count": null,
      "metadata": {
        "id": "BjVCTDlgLanD",
        "colab": {
          "base_uri": "https://localhost:8080/"
        },
        "outputId": "6e7a7183-022b-4627-d683-52a65050a062"
      },
      "outputs": [
        {
          "output_type": "stream",
          "name": "stdout",
          "text": [
            "TfidfVectorizer\n",
            " [[0.361965   0.         0.93219169]\n",
            " [0.         0.         0.        ]]\n",
            "CountVectorizer\n",
            " [[1 0 2]\n",
            " [0 0 0]]\n",
            "HashingVectorizer shape: (2, 1048576)\n"
          ]
        }
      ],
      "source": [
        "#@slideshow slide\n",
        "from sklearn.feature_extraction.text import TfidfVectorizer, CountVectorizer, HashingVectorizer\n",
        "data = [\n",
        "  \"one\",\n",
        "  \"one two\",\n",
        "  \"one two three\",\n",
        "]\n",
        "\n",
        "tfidf_vectorizer = TfidfVectorizer().fit(data)\n",
        "count_vectorizer = CountVectorizer().fit(data)\n",
        "hashing_vectorizer = HashingVectorizer().fit(data)\n",
        "\n",
        "new_data = [\n",
        "    \"one two two four\",\n",
        "    \"five\",\n",
        "]\n",
        "tfidf_transformed = tfidf_vectorizer.transform(new_data).todense()\n",
        "count_transformed = count_vectorizer.transform(new_data).todense()\n",
        "hashing_transformed = hashing_vectorizer.transform(new_data).todense()\n",
        "print(\"TfidfVectorizer\\n\", tfidf_transformed)\n",
        "print(\"CountVectorizer\\n\", count_transformed)\n",
        "print(\"HashingVectorizer shape:\", hashing_transformed.shape)"
      ]
    },
    {
      "cell_type": "markdown",
      "source": [
        "<!--@slideshow slide-->\n",
        "# Interpretation of TF-IDF vectors"
      ],
      "metadata": {
        "id": "wM04dl5G3eF9"
      }
    },
    {
      "cell_type": "markdown",
      "metadata": {
        "id": "SFdRdTvTESE5"
      },
      "source": [
        "<!--@slideshow slide-->\n",
        "## Clustering"
      ]
    },
    {
      "cell_type": "markdown",
      "metadata": {
        "id": "hT0XD7BGpq9g"
      },
      "source": [
        "<!--@slideshow slide-->\n",
        "How many classes are on the picture?"
      ]
    },
    {
      "cell_type": "code",
      "metadata": {
        "id": "egXhgi_FpQPh",
        "outputId": "58232542-d16a-4597-b894-20c8ad91390c",
        "colab": {
          "base_uri": "https://localhost:8080/",
          "height": 438
        }
      },
      "source": [
        "#@slideshow fragment tags=remove_input\n",
        "from sklearn.datasets import make_blobs\n",
        "X, y = make_blobs(n_samples=300, centers=4, random_state=0, cluster_std=0.6)\n",
        "import matplotlib.pyplot as plt\n",
        "plt.figure(figsize=(7, 7))\n",
        "plt.axis(\"equal\")\n",
        "plt.scatter(X[:, 0], X[:, 1])\n",
        "plt.show()"
      ],
      "execution_count": null,
      "outputs": [
        {
          "output_type": "display_data",
          "data": {
            "text/plain": [
              "<Figure size 504x504 with 1 Axes>"
            ],
            "image/png": "[encoded data removed]"
          },
          "metadata": {
            "needs_background": "light"
          }
        }
      ]
    },
    {
      "cell_type": "markdown",
      "metadata": {
        "id": "ToL4nmU-p2z3"
      },
      "source": [
        "<!--@slideshow fragment-->\n",
        "Can we find them automatically?"
      ]
    },
    {
      "cell_type": "markdown",
      "metadata": {
        "id": "DaeVDsO0w-Hk"
      },
      "source": [
        "<!--@slideshow slide-->\n",
        "## $k$-means algorithm\n",
        "\n",
        "$k$-means algorithm computes $k$ cluster centers using so-called **expectation-maximization** approach.\n",
        "\n",
        "1. Start with initial (random) cluster centers.\n",
        "2. Update cluster centers, repeating 2 steps:\n",
        "    1. Assign points to the nearest cluster center (**expectation** step).\n",
        "    2. Set the centers to the average of points belonging to the cluster (**maximization** step)."
      ]
    },
    {
      "cell_type": "markdown",
      "metadata": {
        "id": "jkSsFvjjtFTN"
      },
      "source": [
        "<!--@slideshow slide-->\n",
        "## Colab demo: $k$-means"
      ]
    },
    {
      "cell_type": "code",
      "metadata": {
        "id": "IxqDKA7y9CIo",
        "outputId": "bf51faaf-4640-4f7e-f5ef-b10b67120742",
        "colab": {
          "base_uri": "https://localhost:8080/",
          "height": 534,
          "referenced_widgets": [
            "d462d90c505e403ba660421e1e2e2f4e",
            "7586d5c1515a4fa9926ef07c73e324d6",
            "33f73276fad847a88a6b6b0b2c908b27",
            "267eab58bb2f4c12bcdbfea8218a38d6",
            "41755d867f4a4248abe176ad76b92891",
            "4b73ce854edd48a8bc855f1024973e73",
            "3279161d0faa42abbd3b7c88c39057e0",
            "8a630234922c4a00bce9090288137727",
            "7df233bf03cc48a8846de7637cd03886"
          ]
        }
      },
      "source": [
        "demo_kmeans(k=4)"
      ],
      "execution_count": null,
      "outputs": [
        {
          "output_type": "display_data",
          "data": {
            "text/plain": [
              "VBox(children=(Output(), Button(description='update', style=ButtonStyle()), Output()))"
            ],
            "application/vnd.jupyter.widget-view+json": {
              "version_major": 2,
              "version_minor": 0,
              "model_id": "d462d90c505e403ba660421e1e2e2f4e"
            }
          },
          "metadata": {}
        }
      ]
    },
    {
      "cell_type": "code",
      "metadata": {
        "id": "Qgaayufd9Cct",
        "outputId": "f76f5dc7-a0e9-4173-e56a-6ce7f8fd642f",
        "colab": {
          "base_uri": "https://localhost:8080/",
          "height": 534,
          "referenced_widgets": [
            "f5ca17389ae241509351c29f8727a02c",
            "45928300e8b648989b251c4004d4435e",
            "c2243260c50647a58e4ebe6d5f1f494a",
            "3d66bca37b3d4f869807f88322d2318a",
            "f5985aedfcd342d6a391e40c9be318d7",
            "cdddeb657f93450b98f938a4f0564a09",
            "f035f767d6e8422db66c0c0909aea643",
            "5c32eb8dd7d94d04948b16a3e78fb6fd",
            "fc2ece239c0c4753a3358fb2e925210b"
          ]
        }
      },
      "source": [
        "# try wrong number of cluster\n",
        "demo_kmeans(k=5)"
      ],
      "execution_count": null,
      "outputs": [
        {
          "output_type": "display_data",
          "data": {
            "text/plain": [
              "VBox(children=(Output(), Button(description='update', style=ButtonStyle()), Output()))"
            ],
            "application/vnd.jupyter.widget-view+json": {
              "version_major": 2,
              "version_minor": 0,
              "model_id": "f5ca17389ae241509351c29f8727a02c"
            }
          },
          "metadata": {}
        }
      ]
    },
    {
      "cell_type": "code",
      "metadata": {
        "id": "b3MwKemOl-JT",
        "outputId": "ab6dc1cc-bb76-4aef-aa48-2dbd9788cc66",
        "colab": {
          "base_uri": "https://localhost:8080/",
          "height": 511,
          "referenced_widgets": [
            "ded5d4ef35cb4eb4ba9a90195859b3f3",
            "b92465fd12ff465ebc178e822ff9f045",
            "1908c6122cb54c049927ce0d5f72c6c2",
            "70d522b1fd8545e9a52ccbadbb05d0ad",
            "c9ecc62182644239bff47e41638fa4d3",
            "d7a0204f42b8435491686171b0cc0ad8",
            "8c79147839e348c690318f40d5fe8110",
            "cd4a1224455a49e48d1d44669daa1490",
            "f571a0ce99024e4f896656c7f0bd90c5",
            "892e5c47cfef42849e7b3fbd35742938",
            "3a908779401247e88a913507dd2bc130",
            "9b25e7a2047845638830c17958f43bbc",
            "28f10457bf9b4bc79152e3483799a126",
            "7e986d4746684d2dbb715e96257efdf7",
            "41ac6dc990b14286ad7d6fe7098c119d",
            "0df091db240246ea8f72541b518218bb",
            "c27e7ace9567497d841354a8c8148936",
            "8252c83bc2654482838e1d3638f3f3b4",
            "cb9996a9698544e0a361f2f50dd5645c",
            "d8d919731eb34579bdb804f4f1189f91",
            "68ba65f4c1094f2fa226f2f1605724aa",
            "58c888965ba641bc870e0844fdba2909",
            "a28b95c005a448a6917b57e8779a1866",
            "da777393714b44ec95e7d255aafb7fc2",
            "43bd7231cc9942ea89142e64845201af",
            "8de264b6d1e54483834a6a8f05ddc649",
            "1db22d2cd3bc40e68fa1d96e14c1d7f1",
            "a72ec8460fb34c14bafb7c3b4c43129c"
          ]
        }
      },
      "source": [
        "enable_mathjax_in_cell()\n",
        "quiz_kmeans()()"
      ],
      "execution_count": null,
      "outputs": [
        {
          "output_type": "display_data",
          "data": {
            "text/plain": [
              "<IPython.core.display.HTML object>"
            ],
            "text/html": [
              "\n",
              "        <script src=\"https://www.gstatic.com/external_hosted/mathjax/latest/MathJax.js?config=TeX-AMS_HTML-full,Safe&delayStartupUntil=configured\"></script>\n",
              "        <script>\n",
              "            (() => {\n",
              "            const mathjax = window.MathJax;\n",
              "            mathjax.Hub.Config({\n",
              "            'tex2jax': {\n",
              "                'inlineMath': [['$', '$'], ['\\(', '\\)']],\n",
              "                'displayMath': [['$$', '$$'], ['\\[', '\\]']],\n",
              "                'processEscapes': true,\n",
              "                'processEnvironments': true,\n",
              "                'skipTags': ['script', 'noscript', 'style', 'textarea', 'code'],\n",
              "                'displayAlign': 'center',\n",
              "            },\n",
              "            'HTML-CSS': {\n",
              "                'styles': {'.MathJax_Display': {'margin': 0}},\n",
              "                'linebreaks': {'automatic': true},\n",
              "                // Disable to prevent OTF font loading, which aren't part of our\n",
              "                // distribution.\n",
              "                'imageFont': null,\n",
              "            },\n",
              "            'messageStyle': 'none'\n",
              "            });\n",
              "            mathjax.Hub.Configured();\n",
              "        })();\n",
              "        </script>\n",
              "        "
            ]
          },
          "metadata": {}
        },
        {
          "output_type": "display_data",
          "data": {
            "text/plain": [
              "VBox(children=(Output(), RadioButtons(options=('option 1', 'option 2', 'option 3', 'option 4'), value='option …"
            ],
            "application/vnd.jupyter.widget-view+json": {
              "version_major": 2,
              "version_minor": 0,
              "model_id": "ded5d4ef35cb4eb4ba9a90195859b3f3"
            }
          },
          "metadata": {}
        }
      ]
    },
    {
      "cell_type": "markdown",
      "metadata": {
        "id": "maFk8CJfl9pt"
      },
      "source": [
        "<!--@slideshow slide-->\n",
        "Since we know true labels of texts, **in this lesson** we will evaluate quality of clustering using true labels.\n",
        "\n"
      ]
    },
    {
      "cell_type": "code",
      "metadata": {
        "id": "cYgf6zNiaRLF"
      },
      "source": [
        "#@slideshow fragment\n",
        "def estimate_clustering_quality(target, prediction):\n",
        "    from itertools import combinations\n",
        "    N = len(target)\n",
        "    total_pairs = 0\n",
        "    # we will count the ratio of \"good\" pairs of points\n",
        "    good_pairs = 0\n",
        "    for pair in combinations(range(N), 2):\n",
        "        # NB: O(n**2) complexity!\n",
        "        total_pairs += 1\n",
        "        i, j = pair\n",
        "        if (target[i] == target[j]) == (prediction[i] == prediction[j]):\n",
        "            # a pair of points is \"good\" if and only if\n",
        "            #   - either both points belong to the same cluster and have the same label\n",
        "            #   - or points belong to different clusters and have different labels\n",
        "            good_pairs += 1\n",
        "\n",
        "    return good_pairs / total_pairs"
      ],
      "execution_count": null,
      "outputs": []
    },
    {
      "cell_type": "markdown",
      "metadata": {
        "id": "xT6-Eq4An4kr"
      },
      "source": [
        "<!--@slideshow slide-->\n",
        "## Colab quiz 2\n",
        "\n",
        "Evaluate quality of clustering."
      ]
    },
    {
      "cell_type": "code",
      "metadata": {
        "id": "zxqXv_HEn8J7",
        "outputId": "ea820f3e-00c5-4ad7-bf43-36e7ccbf2b8c",
        "colab": {
          "base_uri": "https://localhost:8080/",
          "height": 320,
          "referenced_widgets": [
            "ee8d5525ed0c4ccc9d56813200ebee85",
            "99b6997ca2f44e4a93195a0a6007e16c",
            "a3294607544442868f3a6b291dae6a70",
            "29eb11b1b0ac41faa505c2eaf41becea",
            "6964dd145044417ba41b643f7e293ccf",
            "e0216da0d6ba43cfa74747230ac93d41",
            "c8b150469c174f8f9d5e1f57dcb02c7a",
            "c1b40ffc19644df78adbfe6fb36d69c0",
            "f17fbc4b4a0f4aaf99c807be9719d9b0",
            "b59b9d6b76694e13b8282c9e5cc4c3ec",
            "725a154147694eafa7f7fa0a564d87fe",
            "d976ae3ef9f54341a3d68d82a4b75779",
            "450355350e7341d79394479ebbcd0fc5",
            "c04c629c34ae481896c54ee8dc31cee5",
            "84ac9434661e4270941eb3eed6ea25bb",
            "df2882526e0a4b83800b5c1c8c219fb2",
            "5c573625cd7d461db7c4f608696813f9",
            "36754dac4945431fa0d28a564d56fbd2",
            "818ac3298fea4ab4aebff069d41778e4",
            "6402b6f4834b413093f12641448e24c3",
            "99036941070e487a8457da3c2d22d9cf",
            "a039e67b967f40e7af5d8961cebcfc3b"
          ]
        }
      },
      "source": [
        "enable_mathjax_in_cell()\n",
        "quiz_estimate_clustering_quality()()"
      ],
      "execution_count": null,
      "outputs": [
        {
          "output_type": "display_data",
          "data": {
            "text/plain": [
              "<IPython.core.display.HTML object>"
            ],
            "text/html": [
              "\n",
              "        <script src=\"https://www.gstatic.com/external_hosted/mathjax/latest/MathJax.js?config=TeX-AMS_HTML-full,Safe&delayStartupUntil=configured\"></script>\n",
              "        <script>\n",
              "            (() => {\n",
              "            const mathjax = window.MathJax;\n",
              "            mathjax.Hub.Config({\n",
              "            'tex2jax': {\n",
              "                'inlineMath': [['$', '$'], ['\\(', '\\)']],\n",
              "                'displayMath': [['$$', '$$'], ['\\[', '\\]']],\n",
              "                'processEscapes': true,\n",
              "                'processEnvironments': true,\n",
              "                'skipTags': ['script', 'noscript', 'style', 'textarea', 'code'],\n",
              "                'displayAlign': 'center',\n",
              "            },\n",
              "            'HTML-CSS': {\n",
              "                'styles': {'.MathJax_Display': {'margin': 0}},\n",
              "                'linebreaks': {'automatic': true},\n",
              "                // Disable to prevent OTF font loading, which aren't part of our\n",
              "                // distribution.\n",
              "                'imageFont': null,\n",
              "            },\n",
              "            'messageStyle': 'none'\n",
              "            });\n",
              "            mathjax.Hub.Configured();\n",
              "        })();\n",
              "        </script>\n",
              "        "
            ]
          },
          "metadata": {}
        },
        {
          "output_type": "display_data",
          "data": {
            "text/plain": [
              "VBox(children=(Output(), RadioButtons(options=('0', '0.25', '0.5', '0.75'), value='0'), HTML(value='<br>'), Bu…"
            ],
            "application/vnd.jupyter.widget-view+json": {
              "version_major": 2,
              "version_minor": 0,
              "model_id": "ee8d5525ed0c4ccc9d56813200ebee85"
            }
          },
          "metadata": {}
        }
      ]
    },
    {
      "cell_type": "markdown",
      "metadata": {
        "id": "_J36erXUuG2a"
      },
      "source": [
        "<!--@slideshow slide-->\n",
        "## Colab demo: $k$-means in `sklearn`"
      ]
    },
    {
      "cell_type": "code",
      "metadata": {
        "id": "c4MgGA1a_zur"
      },
      "source": [
        "from sklearn.feature_extraction.text import TfidfVectorizer\n",
        "from sklearn.datasets import fetch_20newsgroups\n",
        "import numpy as np\n",
        "\n",
        "categories = (\"sci.space\", \"rec.sport.hockey\", \"comp.graphics\")\n",
        "fetch_params = dict(\n",
        "    shuffle=True, random_state=1,\n",
        "    remove=('headers', 'footers', 'quotes'),\n",
        "    categories=categories\n",
        ")\n",
        "train_dataset = fetch_20newsgroups(subset=\"train\", **fetch_params)\n",
        "test_dataset = fetch_20newsgroups(subset=\"test\", **fetch_params)\n",
        "\n",
        "vec = TfidfVectorizer(stop_words=\"english\")\n",
        "vec.fit(train_dataset.data)\n",
        "X_train = vec.transform(train_dataset.data)\n",
        "X_test = vec.transform(test_dataset.data)"
      ],
      "execution_count": null,
      "outputs": []
    },
    {
      "cell_type": "code",
      "metadata": {
        "id": "sB2aGTyNS2ZC"
      },
      "source": [
        "# for this dataset we know the true number of classes, but in general we don't\n",
        "n_clusters = len(categories)"
      ],
      "execution_count": null,
      "outputs": []
    },
    {
      "cell_type": "code",
      "metadata": {
        "id": "Qkh-spWJ8aho",
        "outputId": "0f1ee973-f80a-4090-db2f-924289345469",
        "colab": {
          "base_uri": "https://localhost:8080/",
          "height": 304
        }
      },
      "source": [
        "# KMeans has standard fit/predict interface\n",
        "from sklearn.cluster import KMeans\n",
        "kmeans = KMeans(n_clusters=n_clusters, random_state=0, n_init=20)\n",
        "kmeans.fit(X_train)\n",
        "predictions = kmeans.predict(X_test)\n",
        "plot_confusion_matrix(test_dataset.target, predictions)\n",
        "estimate_clustering_quality(test_dataset.target, predictions)"
      ],
      "execution_count": null,
      "outputs": [
        {
          "output_type": "execute_result",
          "data": {
            "text/plain": [
              "0.7228165640119718"
            ]
          },
          "metadata": {},
          "execution_count": 39
        },
        {
          "output_type": "display_data",
          "data": {
            "text/plain": [
              "<Figure size 432x288 with 1 Axes>"
            ],
            "image/png": "[encoded data removed]"
          },
          "metadata": {}
        }
      ]
    },
    {
      "cell_type": "markdown",
      "metadata": {
        "id": "-TtSzO1HJEK_"
      },
      "source": [
        "Compare clustering quality with random benchmark."
      ]
    },
    {
      "cell_type": "code",
      "metadata": {
        "id": "vNqbcIfyJGtk",
        "outputId": "3c243cd2-fde1-41e7-a30f-e1855ff89093",
        "colab": {
          "base_uri": "https://localhost:8080/",
          "height": 304
        }
      },
      "source": [
        "import random\n",
        "random.seed(0)\n",
        "random_predictions = [random.randint(0, n_clusters - 1) for _ in test_dataset.target]\n",
        "plot_confusion_matrix(test_dataset.target, random_predictions)\n",
        "estimate_clustering_quality(test_dataset.target, random_predictions)"
      ],
      "execution_count": null,
      "outputs": [
        {
          "output_type": "execute_result",
          "data": {
            "text/plain": [
              "0.5557895671883216"
            ]
          },
          "metadata": {},
          "execution_count": 40
        },
        {
          "output_type": "display_data",
          "data": {
            "text/plain": [
              "<Figure size 432x288 with 1 Axes>"
            ],
            "image/png": "[encoded data removed]"
          },
          "metadata": {}
        }
      ]
    },
    {
      "cell_type": "markdown",
      "metadata": {
        "id": "L1lB2Hs3DFE1"
      },
      "source": [
        "Compare with classification.\n"
      ]
    },
    {
      "cell_type": "code",
      "metadata": {
        "id": "r32Yi90nDHtU",
        "outputId": "e7b7fc2a-6d4a-47c6-aa9e-89dacb98970c",
        "colab": {
          "base_uri": "https://localhost:8080/",
          "height": 304
        }
      },
      "source": [
        "from sklearn.linear_model import SGDClassifier\n",
        "clf = SGDClassifier(alpha=.0001, max_iter=50, penalty=\"l2\", loss=\"log\", random_state=0)\n",
        "clf.fit(X_train, train_dataset.target)\n",
        "plot_confusion_matrix(test_dataset.target, clf.predict(X_test))\n",
        "estimate_clustering_quality(test_dataset.target, clf.predict(X_test))"
      ],
      "execution_count": null,
      "outputs": [
        {
          "output_type": "execute_result",
          "data": {
            "text/plain": [
              "0.8967120410446853"
            ]
          },
          "metadata": {},
          "execution_count": 41
        },
        {
          "output_type": "display_data",
          "data": {
            "text/plain": [
              "<Figure size 432x288 with 1 Axes>"
            ],
            "image/png": "[encoded data removed]"
          },
          "metadata": {}
        }
      ]
    },
    {
      "cell_type": "markdown",
      "metadata": {
        "id": "JuB0R2lhEc-9"
      },
      "source": [
        "<!--@slideshow slide-->\n",
        "Let's do an experiment.\n",
        "\n",
        "What are the largest components (words) for each centroid?"
      ]
    },
    {
      "cell_type": "code",
      "metadata": {
        "id": "NdNdjFTFEhdl",
        "outputId": "f8dd5e42-c701-40de-d072-8d6b9968cc10",
        "colab": {
          "base_uri": "https://localhost:8080/"
        }
      },
      "source": [
        "#@slideshow fragment tags=remove_input\n",
        "show_vectorizer_largest_components(vec, kmeans.cluster_centers_)"
      ],
      "execution_count": null,
      "outputs": [
        {
          "output_type": "stream",
          "name": "stdout",
          "text": [
            "['software', '3d', 'mail', 'use', 'ftp', 'advance', 'need', 'hi', 'format',\n",
            " 'looking', 'help', 'windows', 'does', 'program', 'know', 'image', 'file',\n",
            " 'files', 'graphics', 'thanks']\n",
            "['ve', 'year', 'long', 'shuttle', 'does', 'need', 'edu', 'earth', 'moon',\n",
            " 'orbit', 'launch', 'people', 'time', 'know', 'think', 'nasa', 'don', 'like',\n",
            " 'just', 'space']\n",
            "['time', 'toronto', 'like', 'good', 'don', 'teams', 'leafs', 'detroit', 'win',\n",
            " 'think', 'league', 'year', 'nhl', 'games', 'players', 'play', 'season',\n",
            " 'hockey', 'team', 'game']\n"
          ]
        }
      ]
    },
    {
      "cell_type": "markdown",
      "metadata": {
        "id": "M66ZspI27kGn"
      },
      "source": [
        "<!--@slideshow fragment-->\n",
        "Is there the correspondence between largest components and true categories? Remember that the categories are (\"sci.space\", \"rec.sport.hockey\", \"comp.graphics\").\n"
      ]
    },
    {
      "cell_type": "markdown",
      "metadata": {
        "id": "Q4H4h4d4u8ks"
      },
      "source": [
        "<!--@slideshow fragment-->\n",
        "It is important that we found centroids (and their components) **without any information about true categories**."
      ]
    },
    {
      "cell_type": "markdown",
      "source": [
        "<!--@slideshow slide-->\n",
        "# Text classification"
      ],
      "metadata": {
        "id": "upslN6em7zpA"
      }
    },
    {
      "cell_type": "markdown",
      "source": [
        "<!--@slideshow slide-->\n",
        "## Metrics of classification\n",
        "- Confusion matrix\n",
        "- Precision\n",
        "- Recall\n",
        "- ROC-AUC"
      ],
      "metadata": {
        "id": "dfuXo3oc8Rvm"
      }
    },
    {
      "cell_type": "markdown",
      "metadata": {
        "id": "xlACLlSkMrzo"
      },
      "source": [
        "<!--@slideshow slide-->\n",
        "## Confusion matrix\n",
        "Q: The classifier has 99% accuracy and doesn't overfit. Is it good or bad?"
      ]
    },
    {
      "cell_type": "code",
      "metadata": {
        "id": "MeRlTXyxMz88",
        "colab": {
          "base_uri": "https://localhost:8080/"
        },
        "outputId": "80c08b98-16c3-4f3d-d6bc-6a5b1963dd51"
      },
      "source": [
        "#@slideshow fragment\n",
        "\n",
        "from sklearn.datasets import make_classification\n",
        "from sklearn.metrics import accuracy_score\n",
        "\n",
        "N_SAMPLES = 1000\n",
        "X, y = make_classification(\n",
        "    n_samples=N_SAMPLES,\n",
        "    weights=(0.99, 0.01),\n",
        "    n_features=100,\n",
        "    random_state=1\n",
        ")\n",
        "print(len(y), sum(y))\n",
        "\n",
        "y_pred = [0 for _ in range(N_SAMPLES)]\n",
        "print(accuracy_score(y, y_pred))"
      ],
      "execution_count": null,
      "outputs": [
        {
          "output_type": "stream",
          "name": "stdout",
          "text": [
            "1000 11\n",
            "0.989\n"
          ]
        }
      ]
    },
    {
      "cell_type": "markdown",
      "metadata": {
        "id": "6PuCX3r8Ny8-"
      },
      "source": [
        "<!--@slideshow slide-->\n",
        "The accuracy is bad for imbalanced datasets.\n",
        "That's why we need to look carefully at two different types of errors:\n",
        "\n",
        "- False negative: the predicted label is 0, the true label is 1\n",
        "- False positive: the predicted label is 1, the true label is 0\n",
        "\n",
        "The quality of classification is completely described by a *confusion matrix*:\n"
      ]
    },
    {
      "cell_type": "code",
      "metadata": {
        "id": "aNXonI7dOUOP",
        "colab": {
          "base_uri": "https://localhost:8080/"
        },
        "outputId": "a26ccb8d-ee5c-4817-dd0e-3b16ea4fdc36"
      },
      "source": [
        "#@slideshow fragment\n",
        "from sklearn.metrics import confusion_matrix\n",
        "\n",
        "#  -------------------------------------------\n",
        "# | True Negative  (TN) | False Positive (FP) |\n",
        "# |-------------------------------------------|\n",
        "# | False Negative (FN) | True Positive  (TP) |\n",
        "#  -------------------------------------------\n",
        "print(confusion_matrix(y, y_pred))"
      ],
      "execution_count": null,
      "outputs": [
        {
          "output_type": "stream",
          "name": "stdout",
          "text": [
            "[[989   0]\n",
            " [ 11   0]]\n"
          ]
        }
      ]
    },
    {
      "cell_type": "code",
      "metadata": {
        "id": "14F4XdgKkus_",
        "colab": {
          "base_uri": "https://localhost:8080/"
        },
        "outputId": "492176e2-1682-4794-b824-82d19b10174f"
      },
      "source": [
        "#@slideshow slide\n",
        "\n",
        "y_true = [0,0,0,1,1,0]\n",
        "y_pred = [0,1,1,0,1,0]\n",
        "# TN (true=0, pred=0) = 2\n",
        "# FP (true=0, pred=1) = 2\n",
        "# FN (true=1, pred=0) = 1\n",
        "# TP (true=1, pred=1) = 1\n",
        "print(confusion_matrix(y_true, y_pred))"
      ],
      "execution_count": null,
      "outputs": [
        {
          "output_type": "stream",
          "name": "stdout",
          "text": [
            "[[2 2]\n",
            " [1 1]]\n"
          ]
        }
      ]
    },
    {
      "cell_type": "markdown",
      "metadata": {
        "id": "M3kZeNWcRQGN"
      },
      "source": [
        "<!--@slideshow slide-->\n",
        "\n",
        "## Precision\n",
        "The precision is, by definition:\n",
        "$$\n",
        "precision(y_{true}, y_{predicted}) = \\dfrac{TP}{TP + FP}\n",
        "$$\n",
        "\n",
        "It answers the question \"how frequently the positive predictions are actually positive?\"."
      ]
    },
    {
      "cell_type": "code",
      "metadata": {
        "id": "6uHEpdaNRtbE",
        "colab": {
          "base_uri": "https://localhost:8080/"
        },
        "outputId": "57c77558-ff42-48a6-eb85-bc3260e70399"
      },
      "source": [
        "#@slideshow fragment\n",
        "from sklearn.metrics import precision_score\n",
        "\n",
        "y_true = [0, 0, 1, 1, 1, 0]\n",
        "y_pred = [0, 1, 1, 1, 1, 0]\n",
        "print(precision_score(y_true, y_pred))"
      ],
      "execution_count": null,
      "outputs": [
        {
          "output_type": "stream",
          "name": "stdout",
          "text": [
            "0.75\n"
          ]
        }
      ]
    },
    {
      "cell_type": "markdown",
      "metadata": {
        "id": "Lhp8-cZrSB_1"
      },
      "source": [
        "<!--@slideshow slide-->\n",
        "\n",
        "## Recall\n",
        "The recall is, by definition:\n",
        "$$\n",
        "recall(y_{true}, y_{predicted}) = \\dfrac{TP}{TP+FN}\n",
        "$$\n",
        "It answers the question \"how many positive examples does the classifier find?\"."
      ]
    },
    {
      "cell_type": "code",
      "metadata": {
        "id": "2OBH846ZSaLG",
        "colab": {
          "base_uri": "https://localhost:8080/"
        },
        "outputId": "3baf9985-b71e-4865-b6af-e9bdc300a6dc"
      },
      "source": [
        "#@slideshow fragment\n",
        "from sklearn.metrics import recall_score\n",
        "\n",
        "y_true = [0, 1, 1, 1, 1, 0]\n",
        "y_pred = [0, 1, 1, 0, 0, 0]\n",
        "print(recall_score(y_true, y_pred))"
      ],
      "execution_count": null,
      "outputs": [
        {
          "output_type": "stream",
          "name": "stdout",
          "text": [
            "0.5\n"
          ]
        }
      ]
    },
    {
      "cell_type": "markdown",
      "metadata": {
        "id": "Qo2JcyS0JbVR"
      },
      "source": [
        "<!--@slideshow slide-->\n",
        "\n",
        "## ROC-AUC score\n",
        "Suppose that the classifier predicts $h(\\mathbf{x}) \\approx \\Pr(y=1|\\mathbf{x})$.\n",
        "To get binary predictions, we put threshold somewhere.\n",
        "\n",
        "- For each value of the threshold, we have its own *confusion matrix*.\n",
        "- For each confusion matrix, we may compute\n",
        "  - True Positive Rate (recall)\n",
        "  $$\n",
        "    TPR = \\dfrac{TP}{TP+FN}\n",
        "  $$\n",
        "  - False Positive Rate\n",
        "  $$\n",
        "    FPR = \\dfrac{FP}{FP+TN}\n",
        "  $$\n",
        "The dependence $TPR(FPR)$ is called ROC-curve (receiver operating characteristic curve).\n",
        "Let us visualize it for several cases."
      ]
    },
    {
      "cell_type": "code",
      "metadata": {
        "id": "jHwYX5sXPXKz"
      },
      "source": [
        "import matplotlib.pyplot as plt\n",
        "from sklearn.metrics import confusion_matrix\n",
        "\n",
        "def plot_tpr_fpr(y_true, y_pred):\n",
        "  # we will collect tpr and fpr and plot them later\n",
        "  tpr_list = []\n",
        "  fpr_list = []\n",
        "  \n",
        "  # put the thresholds between all consecutive pairs of points\n",
        "  y_pred_sorted = sorted(y_pred)\n",
        "  thresholds = [0.5 * (y_pred_sorted[i] + y_pred_sorted[i+1]) for i in range(len(y_pred_sorted) - 1)]\n",
        "  for threshold in thresholds:\n",
        "    y_pred_thresholded = [int(p > threshold) for p in y_pred]\n",
        "    # array([[1, 2], [3, 4]]).ravel() == array([1, 2, 3, 4])\n",
        "    tn, fp, fn, tp = confusion_matrix(y_true, y_pred_thresholded).ravel()\n",
        "    tpr_list.append(tp / (tp + fn))\n",
        "    fpr_list.append(fp / (fp + tn))\n",
        "  \n",
        "  fig, ax = plt.subplots(1, 2, figsize=(20, 7))\n",
        "  ax[0].plot(fpr_list, tpr_list)\n",
        "  ax[0].set_xlabel('FPR')\n",
        "  ax[0].set_ylabel('TPR')\n",
        "  \n",
        "  # plot positive and negative separately\n",
        "  predictions_for_positive = [y_pred[i] for i in range(len(y_true)) if y_true[i] >  0]\n",
        "  predictions_for_negative = [y_pred[i] for i in range(len(y_true)) if y_true[i] <= 0]\n",
        "  \n",
        "  ax[1].scatter(predictions_for_positive, [1.0 for _ in predictions_for_positive], color='b', label='positive')\n",
        "  ax[1].scatter(predictions_for_negative, [0.5 for _ in predictions_for_negative], color='r', label='negative')\n",
        "  ax[1].set_yticks([])\n",
        "  ax[1].set_xlabel('prediction')\n",
        "  ax[1].legend(loc=\"center left\")\n",
        "  plt.show()"
      ],
      "execution_count": null,
      "outputs": []
    },
    {
      "cell_type": "markdown",
      "metadata": {
        "id": "GhSJ4ayFPSb1"
      },
      "source": [
        "<!--@slideshow slide-->\n",
        "### 1. ROC-AUC for random predictions"
      ]
    },
    {
      "cell_type": "code",
      "metadata": {
        "id": "EHwyN-7HRgOV",
        "colab": {
          "base_uri": "https://localhost:8080/",
          "height": 355
        },
        "outputId": "04e3bf31-9658-4d5e-dacc-d09a923883a1"
      },
      "source": [
        "#@slideshow fragment\n",
        "import numpy as np\n",
        "np.random.seed(0)\n",
        "\n",
        "y_pred = np.linspace(0, 1, 100)\n",
        "y_true = np.random.randint(2, size=100)\n",
        "plot_tpr_fpr(y_true, y_pred)"
      ],
      "execution_count": null,
      "outputs": [
        {
          "output_type": "display_data",
          "data": {
            "text/plain": [
              "<Figure size 1440x504 with 2 Axes>"
            ],
            "image/png": "[encoded data removed]"
          },
          "metadata": {}
        }
      ]
    },
    {
      "cell_type": "markdown",
      "metadata": {
        "id": "Zlk_dW8RW2a8"
      },
      "source": [
        "The ROC-curve for random predictions is close to the diagonal."
      ]
    },
    {
      "cell_type": "markdown",
      "metadata": {
        "id": "yQywx8RkS-qj"
      },
      "source": [
        "<!--@slideshow slide-->\n",
        "### 2. ROC-AUC for perfect predictions"
      ]
    },
    {
      "cell_type": "code",
      "metadata": {
        "id": "Fj8NsjHETCYV",
        "colab": {
          "base_uri": "https://localhost:8080/",
          "height": 355
        },
        "outputId": "28a6d8af-60ad-4e9c-8589-53c6137ee9e4"
      },
      "source": [
        "#@slideshow fragment\n",
        "import numpy as np\n",
        "\n",
        "y_pred = np.linspace(0, 1, 100)\n",
        "y_true = [int(i > 50) for i in range(100)]\n",
        "plot_tpr_fpr(y_true, y_pred)"
      ],
      "execution_count": null,
      "outputs": [
        {
          "output_type": "display_data",
          "data": {
            "text/plain": [
              "<Figure size 1440x504 with 2 Axes>"
            ],
            "image/png": "[encoded data removed]"
          },
          "metadata": {}
        }
      ]
    },
    {
      "cell_type": "markdown",
      "metadata": {
        "id": "GfuoVhBjW-WR"
      },
      "source": [
        "The ROC -curve for perfect predictions is a constant 1."
      ]
    },
    {
      "cell_type": "markdown",
      "metadata": {
        "id": "t-TvN9x6Tbbk"
      },
      "source": [
        "<!--@slideshow slide-->\n",
        "### 3. ROC-AUC for \"good\" predictions"
      ]
    },
    {
      "cell_type": "code",
      "metadata": {
        "id": "WWV91FN2WBtH",
        "colab": {
          "base_uri": "https://localhost:8080/",
          "height": 355
        },
        "outputId": "877f8627-e365-45cd-d539-39c366da9a58"
      },
      "source": [
        "#@slideshow fragment\n",
        "y_pred = np.linspace(0, 1, 20)\n",
        "y_true = [0,0,0,0,0,0,0,0,1,0,0,1,0,1,1,0,1,1,1,1,]\n",
        "plot_tpr_fpr(y_true, y_pred)"
      ],
      "execution_count": null,
      "outputs": [
        {
          "output_type": "display_data",
          "data": {
            "text/plain": [
              "<Figure size 1440x504 with 2 Axes>"
            ],
            "image/png": "[encoded data removed]"
          },
          "metadata": {}
        }
      ]
    },
    {
      "cell_type": "markdown",
      "metadata": {
        "id": "lDRAa6goWbkl"
      },
      "source": [
        "The ROC-curve for good predictions is concave."
      ]
    },
    {
      "cell_type": "markdown",
      "metadata": {
        "id": "6vJGYcd2XUbi"
      },
      "source": [
        "<!--@slideshow slide-->\n",
        "Instead of the full ROC-curve, we may consider only the *area under the curve* -- ROC-AUC.\n",
        "\n",
        "- ROC-AUC $\\approx$ 0.5 for random predictions\n",
        "- ROC-AUC = 1 for perfect predictions\n",
        "- Greater is better\n",
        "\n",
        "**Interpretation**: the probability that the model ranks a random positive example more highly than a random negative example."
      ]
    },
    {
      "cell_type": "markdown",
      "source": [
        "<!--@slideshow slide-->\n",
        "## Colab demo: TF-IDF vectors as features"
      ],
      "metadata": {
        "id": "I6KS9uPOaEAF"
      }
    },
    {
      "cell_type": "code",
      "source": [
        "from sklearn.datasets import fetch_20newsgroups\n",
        "\n",
        "categories = ('sci.crypt', 'sci.electronics', 'sci.med', 'sci.space')\n",
        "remove = ('headers', 'footers', 'quotes')\n",
        "newsgroups_train = fetch_20newsgroups(subset='train', remove=remove, categories=categories)\n",
        "newsgroups_test = fetch_20newsgroups(subset='test', remove=remove, categories=categories)\n",
        "\n",
        "y_train = (newsgroups_train.target == 3).astype(int)  # 3 is \"space\"\n",
        "y_test = (newsgroups_test.target == 3).astype(int)\n",
        "\n",
        "print(\"Data:\\n\", newsgroups_train.data[31])\n",
        "print(\"---\")\n",
        "print(\"Target:\", y_test[31])"
      ],
      "metadata": {
        "colab": {
          "base_uri": "https://localhost:8080/"
        },
        "id": "1jmMvJmtaQJI",
        "outputId": "3a128682-90ba-40a0-ca56-fb504f9224b6"
      },
      "execution_count": null,
      "outputs": [
        {
          "output_type": "stream",
          "name": "stdout",
          "text": [
            "Data:\n",
            " I've got two lines coming into my apartment. Two different telephone numbers.\n",
            "When I ordered the second line installed, instead of bringing out another 4\n",
            "wire bundle, the telco just connected up to my yellow and black wires. So I\n",
            "have one line on red & green and the other on yellow & black.\n",
            "\n",
            "Today I was monitoring the voltage on both lines. I had a voltmeter across\n",
            "the red and green and read back 52 volts. I then lifted up the receiver on my\n",
            "second line.(black & yellow wires) The voltage dropped to 31 volts on the first\n",
            "line. (red & green wires) I repeated this experiment with the second\n",
            "line(monitoring black & yellow and lifting the handset off the cradle on the\n",
            "red and green line.) It also dropped to 31 volts. \n",
            "\n",
            "Why is this ? I thought these were separate lines.\n",
            "\n",
            "Next I went to the 66 block and disconnected the blue and white lines coming in\n",
            "from the telco cable. I then disconnected all the phones in my apartment and\n",
            "went back to the 66 block and did some resistance measurements. Both lines read\n",
            "open.\n",
            "\n",
            "I'll appreciate any help on this. Is this considered normal ?\n",
            "\n",
            "Guy Urbina\n",
            "---\n",
            "Target: 0\n"
          ]
        }
      ]
    },
    {
      "cell_type": "markdown",
      "source": [
        "So far in our demonstrations we compared classifiers on test data.\n",
        "Effectively it turned test data into validation data.\n",
        "\n",
        "Now we will be more careful and choose best vectorizer using cross-validation. To do so, we will implement our own \"wrapper\" and use it in Pipeline."
      ],
      "metadata": {
        "id": "jrCn3zqQg6Pt"
      }
    },
    {
      "cell_type": "code",
      "source": [
        "from sklearn.base import BaseEstimator, TransformerMixin\n",
        "\n",
        "class AnyVectorizer(TransformerMixin, BaseEstimator):\n",
        "    def __init__(self, vectorizer=\"count\"):\n",
        "        if vectorizer not in [\"count\", \"tfidf\"]:\n",
        "            raise ValueError(f'Wrong vectorizer: {vectorizer}')\n",
        "        self.vectorizer = vectorizer\n",
        "\n",
        "    def fit(self, X, y=None):\n",
        "        if self.vectorizer == \"count\":\n",
        "            self.vec_ = CountVectorizer()\n",
        "        elif self.vectorizer == \"tfidf\":\n",
        "            self.vec_ = TfidfVectorizer()\n",
        "        self.vec_.fit(X)\n",
        "        return self\n",
        "    \n",
        "    def transform(self, X):\n",
        "        return self.vec_.transform(X)"
      ],
      "metadata": {
        "id": "xww4DhYBcmZJ"
      },
      "execution_count": null,
      "outputs": []
    },
    {
      "cell_type": "code",
      "source": [
        "from sklearn.pipeline import Pipeline\n",
        "from sklearn.model_selection import RandomizedSearchCV\n",
        "from sklearn.linear_model import SGDClassifier\n",
        "\n",
        "from sklearn.utils.fixes import loguniform\n",
        "from scipy.stats import uniform\n",
        "\n",
        "pipe = Pipeline([\n",
        "    ('vec', AnyVectorizer()),\n",
        "    ('clf', SGDClassifier(loss='log', penalty='elasticnet', random_state=0)),\n",
        "])\n",
        "\n",
        "# sample uniformly in log scale\n",
        "params_distributions = {\n",
        "    'clf__l1_ratio': uniform(0.1, 1),  # more l1 = more sparsity\n",
        "    'vec__vectorizer': [\"count\", \"tfidf\"],\n",
        "}\n",
        "\n",
        "# RandomizedSearchCV is a 'wrapper' which accepts the initial classifier (ElasticNet())\n",
        "# and distribution of parameters to sample from\n",
        "randomized_search_clf = RandomizedSearchCV(\n",
        "    pipe,\n",
        "    params_distributions,\n",
        "    n_iter=20,\n",
        "    cv=3,\n",
        "    random_state=0,\n",
        ")\n",
        "randomized_search_clf.fit(newsgroups_train.data, y_train)\n",
        "randomized_search_clf.best_params_"
      ],
      "metadata": {
        "colab": {
          "base_uri": "https://localhost:8080/"
        },
        "id": "Y3nqjn8aeOO6",
        "outputId": "30eb6586-2258-4acd-ffdb-b533c8f79978"
      },
      "execution_count": null,
      "outputs": [
        {
          "output_type": "execute_result",
          "data": {
            "text/plain": [
              "{'clf__l1_ratio': 0.9700872583584363, 'vec__vectorizer': 'tfidf'}"
            ]
          },
          "metadata": {},
          "execution_count": 54
        }
      ]
    },
    {
      "cell_type": "code",
      "source": [
        "# `display_cv_results` is an auxiliary function I implemented for the demonstration\n",
        "display_cv_results(randomized_search_clf)"
      ],
      "metadata": {
        "colab": {
          "base_uri": "https://localhost:8080/",
          "height": 676
        },
        "id": "gJ2QsO2NgQCN",
        "outputId": "67e21834-b41e-426b-ee5c-0d822204f066"
      },
      "execution_count": null,
      "outputs": [
        {
          "output_type": "display_data",
          "data": {
            "text/plain": [
              "    mean_test_score param_clf__l1_ratio param_vec__vectorizer\n",
              "0          0.899284            0.970087                 tfidf\n",
              "1          0.898019             0.68202                 tfidf\n",
              "2          0.898019            0.668045                 tfidf\n",
              "3          0.897598            0.944266                 tfidf\n",
              "4          0.897177            0.899159                 tfidf\n",
              "5          0.896755            0.878157                 tfidf\n",
              "6          0.895491            0.648814                 tfidf\n",
              "7          0.895070            0.644883                 tfidf\n",
              "8          0.894648            0.620477                 tfidf\n",
              "9          0.892962            0.205908                 tfidf\n",
              "10         0.892541            0.187129                 tfidf\n",
              "11         0.892541            0.468242                 tfidf\n",
              "12         0.885799            0.218274                 count\n",
              "13         0.885377            0.156713                 count\n",
              "14         0.881584            0.483442                 count\n",
              "15         0.879477            0.723564                 count\n",
              "16         0.877370            0.912169                 count\n",
              "17         0.876528            0.936079                 count\n",
              "18         0.875263            0.537587                 count\n",
              "19              NaN            1.044669                 tfidf"
            ],
            "text/html": [
              "\n",
              "  <div id=\"df-420e3607-17a0-4db3-b16d-3e595a92ebc3\">\n",
              "    <div class=\"colab-df-container\">\n",
              "      <div>\n",
              "<style scoped>\n",
              "    .dataframe tbody tr th:only-of-type {\n",
              "        vertical-align: middle;\n",
              "    }\n",
              "\n",
              "    .dataframe tbody tr th {\n",
              "        vertical-align: top;\n",
              "    }\n",
              "\n",
              "    .dataframe thead th {\n",
              "        text-align: right;\n",
              "    }\n",
              "</style>\n",
              "<table border=\"1\" class=\"dataframe\">\n",
              "  <thead>\n",
              "    <tr style=\"text-align: right;\">\n",
              "      <th></th>\n",
              "      <th>mean_test_score</th>\n",
              "      <th>param_clf__l1_ratio</th>\n",
              "      <th>param_vec__vectorizer</th>\n",
              "    </tr>\n",
              "  </thead>\n",
              "  <tbody>\n",
              "    <tr>\n",
              "      <th>0</th>\n",
              "      <td>0.899284</td>\n",
              "      <td>0.970087</td>\n",
              "      <td>tfidf</td>\n",
              "    </tr>\n",
              "    <tr>\n",
              "      <th>1</th>\n",
              "      <td>0.898019</td>\n",
              "      <td>0.68202</td>\n",
              "      <td>tfidf</td>\n",
              "    </tr>\n",
              "    <tr>\n",
              "      <th>2</th>\n",
              "      <td>0.898019</td>\n",
              "      <td>0.668045</td>\n",
              "      <td>tfidf</td>\n",
              "    </tr>\n",
              "    <tr>\n",
              "      <th>3</th>\n",
              "      <td>0.897598</td>\n",
              "      <td>0.944266</td>\n",
              "      <td>tfidf</td>\n",
              "    </tr>\n",
              "    <tr>\n",
              "      <th>4</th>\n",
              "      <td>0.897177</td>\n",
              "      <td>0.899159</td>\n",
              "      <td>tfidf</td>\n",
              "    </tr>\n",
              "    <tr>\n",
              "      <th>5</th>\n",
              "      <td>0.896755</td>\n",
              "      <td>0.878157</td>\n",
              "      <td>tfidf</td>\n",
              "    </tr>\n",
              "    <tr>\n",
              "      <th>6</th>\n",
              "      <td>0.895491</td>\n",
              "      <td>0.648814</td>\n",
              "      <td>tfidf</td>\n",
              "    </tr>\n",
              "    <tr>\n",
              "      <th>7</th>\n",
              "      <td>0.895070</td>\n",
              "      <td>0.644883</td>\n",
              "      <td>tfidf</td>\n",
              "    </tr>\n",
              "    <tr>\n",
              "      <th>8</th>\n",
              "      <td>0.894648</td>\n",
              "      <td>0.620477</td>\n",
              "      <td>tfidf</td>\n",
              "    </tr>\n",
              "    <tr>\n",
              "      <th>9</th>\n",
              "      <td>0.892962</td>\n",
              "      <td>0.205908</td>\n",
              "      <td>tfidf</td>\n",
              "    </tr>\n",
              "    <tr>\n",
              "      <th>10</th>\n",
              "      <td>0.892541</td>\n",
              "      <td>0.187129</td>\n",
              "      <td>tfidf</td>\n",
              "    </tr>\n",
              "    <tr>\n",
              "      <th>11</th>\n",
              "      <td>0.892541</td>\n",
              "      <td>0.468242</td>\n",
              "      <td>tfidf</td>\n",
              "    </tr>\n",
              "    <tr>\n",
              "      <th>12</th>\n",
              "      <td>0.885799</td>\n",
              "      <td>0.218274</td>\n",
              "      <td>count</td>\n",
              "    </tr>\n",
              "    <tr>\n",
              "      <th>13</th>\n",
              "      <td>0.885377</td>\n",
              "      <td>0.156713</td>\n",
              "      <td>count</td>\n",
              "    </tr>\n",
              "    <tr>\n",
              "      <th>14</th>\n",
              "      <td>0.881584</td>\n",
              "      <td>0.483442</td>\n",
              "      <td>count</td>\n",
              "    </tr>\n",
              "    <tr>\n",
              "      <th>15</th>\n",
              "      <td>0.879477</td>\n",
              "      <td>0.723564</td>\n",
              "      <td>count</td>\n",
              "    </tr>\n",
              "    <tr>\n",
              "      <th>16</th>\n",
              "      <td>0.877370</td>\n",
              "      <td>0.912169</td>\n",
              "      <td>count</td>\n",
              "    </tr>\n",
              "    <tr>\n",
              "      <th>17</th>\n",
              "      <td>0.876528</td>\n",
              "      <td>0.936079</td>\n",
              "      <td>count</td>\n",
              "    </tr>\n",
              "    <tr>\n",
              "      <th>18</th>\n",
              "      <td>0.875263</td>\n",
              "      <td>0.537587</td>\n",
              "      <td>count</td>\n",
              "    </tr>\n",
              "    <tr>\n",
              "      <th>19</th>\n",
              "      <td>NaN</td>\n",
              "      <td>1.044669</td>\n",
              "      <td>tfidf</td>\n",
              "    </tr>\n",
              "  </tbody>\n",
              "</table>\n",
              "</div>\n",
              "      <button class=\"colab-df-convert\" onclick=\"convertToInteractive('df-420e3607-17a0-4db3-b16d-3e595a92ebc3')\"\n",
              "              title=\"Convert this dataframe to an interactive table.\"\n",
              "              style=\"display:none;\">\n",
              "        \n",
              "  <svg xmlns=\"http://www.w3.org/2000/svg\" height=\"24px\"viewBox=\"0 0 24 24\"\n",
              "       width=\"24px\">\n",
              "    <path d=\"M0 0h24v24H0V0z\" fill=\"none\"/>\n",
              "    <path d=\"M18.56 5.44l.94 2.06.94-2.06 2.06-.94-2.06-.94-.94-2.06-.94 2.06-2.06.94zm-11 1L8.5 8.5l.94-2.06 2.06-.94-2.06-.94L8.5 2.5l-.94 2.06-2.06.94zm10 10l.94 2.06.94-2.06 2.06-.94-2.06-.94-.94-2.06-.94 2.06-2.06.94z\"/><path d=\"M17.41 7.96l-1.37-1.37c-.4-.4-.92-.59-1.43-.59-.52 0-1.04.2-1.43.59L10.3 9.45l-7.72 7.72c-.78.78-.78 2.05 0 2.83L4 21.41c.39.39.9.59 1.41.59.51 0 1.02-.2 1.41-.59l7.78-7.78 2.81-2.81c.8-.78.8-2.07 0-2.86zM5.41 20L4 18.59l7.72-7.72 1.47 1.35L5.41 20z\"/>\n",
              "  </svg>\n",
              "      </button>\n",
              "      \n",
              "  <style>\n",
              "    .colab-df-container {\n",
              "      display:flex;\n",
              "      flex-wrap:wrap;\n",
              "      gap: 12px;\n",
              "    }\n",
              "\n",
              "    .colab-df-convert {\n",
              "      background-color: #E8F0FE;\n",
              "      border: none;\n",
              "      border-radius: 50%;\n",
              "      cursor: pointer;\n",
              "      display: none;\n",
              "      fill: #1967D2;\n",
              "      height: 32px;\n",
              "      padding: 0 0 0 0;\n",
              "      width: 32px;\n",
              "    }\n",
              "\n",
              "    .colab-df-convert:hover {\n",
              "      background-color: #E2EBFA;\n",
              "      box-shadow: 0px 1px 2px rgba(60, 64, 67, 0.3), 0px 1px 3px 1px rgba(60, 64, 67, 0.15);\n",
              "      fill: #174EA6;\n",
              "    }\n",
              "\n",
              "    [theme=dark] .colab-df-convert {\n",
              "      background-color: #3B4455;\n",
              "      fill: #D2E3FC;\n",
              "    }\n",
              "\n",
              "    [theme=dark] .colab-df-convert:hover {\n",
              "      background-color: #434B5C;\n",
              "      box-shadow: 0px 1px 3px 1px rgba(0, 0, 0, 0.15);\n",
              "      filter: drop-shadow(0px 1px 2px rgba(0, 0, 0, 0.3));\n",
              "      fill: #FFFFFF;\n",
              "    }\n",
              "  </style>\n",
              "\n",
              "      <script>\n",
              "        const buttonEl =\n",
              "          document.querySelector('#df-420e3607-17a0-4db3-b16d-3e595a92ebc3 button.colab-df-convert');\n",
              "        buttonEl.style.display =\n",
              "          google.colab.kernel.accessAllowed ? 'block' : 'none';\n",
              "\n",
              "        async function convertToInteractive(key) {\n",
              "          const element = document.querySelector('#df-420e3607-17a0-4db3-b16d-3e595a92ebc3');\n",
              "          const dataTable =\n",
              "            await google.colab.kernel.invokeFunction('convertToInteractive',\n",
              "                                                     [key], {});\n",
              "          if (!dataTable) return;\n",
              "\n",
              "          const docLinkHtml = 'Like what you see? Visit the ' +\n",
              "            '<a target=\"_blank\" href=https://colab.research.google.com/notebooks/data_table.ipynb>data table notebook</a>'\n",
              "            + ' to learn more about interactive tables.';\n",
              "          element.innerHTML = '';\n",
              "          dataTable['output_type'] = 'display_data';\n",
              "          await google.colab.output.renderOutput(dataTable, element);\n",
              "          const docLink = document.createElement('div');\n",
              "          docLink.innerHTML = docLinkHtml;\n",
              "          element.appendChild(docLink);\n",
              "        }\n",
              "      </script>\n",
              "    </div>\n",
              "  </div>\n",
              "  "
            ]
          },
          "metadata": {}
        }
      ]
    },
    {
      "cell_type": "markdown",
      "source": [
        "Now we can reliably evaluate accuracy on test set"
      ],
      "metadata": {
        "id": "O8fFrBv0i92-"
      }
    },
    {
      "cell_type": "code",
      "source": [
        "from sklearn.metrics import accuracy_score\n",
        "\n",
        "print(\"Accuracy on the training dataset: {}\".format(accuracy_score(randomized_search_clf.predict(newsgroups_train.data), y_train)))\n",
        "print(\"Accuracy on the testing dataset: {}\".format(accuracy_score(randomized_search_clf.predict(newsgroups_test.data), y_test)))"
      ],
      "metadata": {
        "colab": {
          "base_uri": "https://localhost:8080/"
        },
        "id": "tVB0AyPjffga",
        "outputId": "52f73ae6-6e3b-47fe-ae01-1a8f11bf108d"
      },
      "execution_count": null,
      "outputs": [
        {
          "output_type": "stream",
          "name": "stdout",
          "text": [
            "Accuracy on the training dataset: 0.956173619890434\n",
            "Accuracy on the testing dataset: 0.8917036098796707\n"
          ]
        }
      ]
    },
    {
      "cell_type": "markdown",
      "source": [
        "<!--@slideshow slide-->\n",
        "## Colab demo: Text features in CatBoost"
      ],
      "metadata": {
        "id": "95w7tE6AjGzD"
      }
    },
    {
      "cell_type": "code",
      "source": [
        "!pip install -q catboost"
      ],
      "metadata": {
        "id": "hwYwCWnxd4Sg",
        "colab": {
          "base_uri": "https://localhost:8080/"
        },
        "outputId": "63041298-a557-421e-e9ea-9a3b569ef579"
      },
      "execution_count": null,
      "outputs": [
        {
          "output_type": "stream",
          "name": "stdout",
          "text": [
            "\u001b[2K     \u001b[90m━━━━━━━━━━━━━━━━━━━━━━━━━━━━━━━━━━━━━━━━\u001b[0m \u001b[32m76.6/76.6 MB\u001b[0m \u001b[31m12.8 MB/s\u001b[0m eta \u001b[36m0:00:00\u001b[0m\n",
            "\u001b[?25h"
          ]
        }
      ]
    },
    {
      "cell_type": "markdown",
      "source": [
        "We can tell CatBoost that a column contains a text feature.\n",
        "In the newsgroups dataset, there is only a single text feature."
      ],
      "metadata": {
        "id": "wv9QwFKvpRUF"
      }
    },
    {
      "cell_type": "code",
      "source": [
        "import catboost as cb\n",
        "clf = cb.CatBoostClassifier(iterations=100)  # no hyperparameters tuning, just short demo\n",
        "\n",
        "learn_pool = cb.Pool(newsgroups_train.data, y_train, text_features=[0])\n",
        "clf.fit(learn_pool)"
      ],
      "metadata": {
        "colab": {
          "base_uri": "https://localhost:8080/"
        },
        "id": "LJRrUjlskgnt",
        "outputId": "5b099ed8-3377-4bcd-b9d8-a7026993db82"
      },
      "execution_count": null,
      "outputs": [
        {
          "output_type": "stream",
          "name": "stdout",
          "text": [
            "Learning rate set to 0.12308\n",
            "0:\tlearn: 0.6318831\ttotal: 288ms\tremaining: 28.6s\n",
            "1:\tlearn: 0.5860247\ttotal: 537ms\tremaining: 26.3s\n",
            "2:\tlearn: 0.5475682\ttotal: 789ms\tremaining: 25.5s\n",
            "3:\tlearn: 0.5146440\ttotal: 1.02s\tremaining: 24.6s\n",
            "4:\tlearn: 0.4888329\ttotal: 1.34s\tremaining: 25.5s\n",
            "5:\tlearn: 0.4599660\ttotal: 1.68s\tremaining: 26.3s\n",
            "6:\tlearn: 0.4385087\ttotal: 1.93s\tremaining: 25.6s\n",
            "7:\tlearn: 0.4197617\ttotal: 2.18s\tremaining: 25s\n",
            "8:\tlearn: 0.4057505\ttotal: 2.47s\tremaining: 25s\n",
            "9:\tlearn: 0.3918197\ttotal: 2.71s\tremaining: 24.4s\n",
            "10:\tlearn: 0.3797179\ttotal: 2.97s\tremaining: 24s\n",
            "11:\tlearn: 0.3690795\ttotal: 3.21s\tremaining: 23.5s\n",
            "12:\tlearn: 0.3622180\ttotal: 3.44s\tremaining: 23.1s\n",
            "13:\tlearn: 0.3562575\ttotal: 3.67s\tremaining: 22.5s\n",
            "14:\tlearn: 0.3478376\ttotal: 3.89s\tremaining: 22.1s\n",
            "15:\tlearn: 0.3434939\ttotal: 4.11s\tremaining: 21.6s\n",
            "16:\tlearn: 0.3363401\ttotal: 4.32s\tremaining: 21.1s\n",
            "17:\tlearn: 0.3302025\ttotal: 4.54s\tremaining: 20.7s\n",
            "18:\tlearn: 0.3267427\ttotal: 4.75s\tremaining: 20.3s\n",
            "19:\tlearn: 0.3233503\ttotal: 4.98s\tremaining: 19.9s\n",
            "20:\tlearn: 0.3196308\ttotal: 5.2s\tremaining: 19.6s\n",
            "21:\tlearn: 0.3179496\ttotal: 5.42s\tremaining: 19.2s\n",
            "22:\tlearn: 0.3148070\ttotal: 5.64s\tremaining: 18.9s\n",
            "23:\tlearn: 0.3113449\ttotal: 5.87s\tremaining: 18.6s\n",
            "24:\tlearn: 0.3084011\ttotal: 6.12s\tremaining: 18.4s\n",
            "25:\tlearn: 0.3058216\ttotal: 6.36s\tremaining: 18.1s\n",
            "26:\tlearn: 0.3038348\ttotal: 6.59s\tremaining: 17.8s\n",
            "27:\tlearn: 0.3022982\ttotal: 6.81s\tremaining: 17.5s\n",
            "28:\tlearn: 0.3007922\ttotal: 7.04s\tremaining: 17.2s\n",
            "29:\tlearn: 0.2997026\ttotal: 7.27s\tremaining: 17s\n",
            "30:\tlearn: 0.2981395\ttotal: 7.48s\tremaining: 16.7s\n",
            "31:\tlearn: 0.2967250\ttotal: 7.71s\tremaining: 16.4s\n",
            "32:\tlearn: 0.2959167\ttotal: 7.92s\tremaining: 16.1s\n",
            "33:\tlearn: 0.2955590\ttotal: 8.15s\tremaining: 15.8s\n",
            "34:\tlearn: 0.2945388\ttotal: 8.37s\tremaining: 15.5s\n",
            "35:\tlearn: 0.2939854\ttotal: 8.58s\tremaining: 15.3s\n",
            "36:\tlearn: 0.2927678\ttotal: 8.79s\tremaining: 15s\n",
            "37:\tlearn: 0.2920062\ttotal: 9.02s\tremaining: 14.7s\n",
            "38:\tlearn: 0.2898305\ttotal: 9.24s\tremaining: 14.5s\n",
            "39:\tlearn: 0.2887917\ttotal: 9.46s\tremaining: 14.2s\n",
            "40:\tlearn: 0.2876866\ttotal: 9.67s\tremaining: 13.9s\n",
            "41:\tlearn: 0.2871548\ttotal: 9.9s\tremaining: 13.7s\n",
            "42:\tlearn: 0.2863295\ttotal: 10.1s\tremaining: 13.4s\n",
            "43:\tlearn: 0.2857614\ttotal: 10.3s\tremaining: 13.2s\n",
            "44:\tlearn: 0.2853165\ttotal: 10.6s\tremaining: 12.9s\n",
            "45:\tlearn: 0.2847677\ttotal: 10.8s\tremaining: 12.7s\n",
            "46:\tlearn: 0.2840391\ttotal: 11s\tremaining: 12.4s\n",
            "47:\tlearn: 0.2830879\ttotal: 11.3s\tremaining: 12.2s\n",
            "48:\tlearn: 0.2820650\ttotal: 11.5s\tremaining: 12s\n",
            "49:\tlearn: 0.2815356\ttotal: 11.8s\tremaining: 11.8s\n",
            "50:\tlearn: 0.2798710\ttotal: 12s\tremaining: 11.5s\n",
            "51:\tlearn: 0.2792833\ttotal: 12.2s\tremaining: 11.3s\n",
            "52:\tlearn: 0.2785401\ttotal: 12.5s\tremaining: 11.1s\n",
            "53:\tlearn: 0.2777819\ttotal: 12.7s\tremaining: 10.8s\n",
            "54:\tlearn: 0.2762265\ttotal: 12.9s\tremaining: 10.6s\n",
            "55:\tlearn: 0.2759056\ttotal: 13.2s\tremaining: 10.3s\n",
            "56:\tlearn: 0.2750857\ttotal: 13.4s\tremaining: 10.1s\n",
            "57:\tlearn: 0.2744807\ttotal: 13.6s\tremaining: 9.84s\n",
            "58:\tlearn: 0.2737039\ttotal: 13.8s\tremaining: 9.6s\n",
            "59:\tlearn: 0.2731564\ttotal: 14s\tremaining: 9.36s\n",
            "60:\tlearn: 0.2726115\ttotal: 14.3s\tremaining: 9.13s\n",
            "61:\tlearn: 0.2721012\ttotal: 14.5s\tremaining: 8.89s\n",
            "62:\tlearn: 0.2717756\ttotal: 14.7s\tremaining: 8.64s\n",
            "63:\tlearn: 0.2710827\ttotal: 14.9s\tremaining: 8.4s\n",
            "64:\tlearn: 0.2704420\ttotal: 15.2s\tremaining: 8.16s\n",
            "65:\tlearn: 0.2687343\ttotal: 15.4s\tremaining: 7.93s\n",
            "66:\tlearn: 0.2677165\ttotal: 15.6s\tremaining: 7.68s\n",
            "67:\tlearn: 0.2668235\ttotal: 15.8s\tremaining: 7.44s\n",
            "68:\tlearn: 0.2663064\ttotal: 16s\tremaining: 7.2s\n",
            "69:\tlearn: 0.2655479\ttotal: 16.3s\tremaining: 6.97s\n",
            "70:\tlearn: 0.2649066\ttotal: 16.5s\tremaining: 6.73s\n",
            "71:\tlearn: 0.2644482\ttotal: 16.7s\tremaining: 6.49s\n",
            "72:\tlearn: 0.2638756\ttotal: 16.9s\tremaining: 6.25s\n",
            "73:\tlearn: 0.2627630\ttotal: 17.1s\tremaining: 6.02s\n",
            "74:\tlearn: 0.2620793\ttotal: 17.4s\tremaining: 5.79s\n",
            "75:\tlearn: 0.2601801\ttotal: 17.6s\tremaining: 5.55s\n",
            "76:\tlearn: 0.2598092\ttotal: 17.8s\tremaining: 5.31s\n",
            "77:\tlearn: 0.2595955\ttotal: 18s\tremaining: 5.08s\n",
            "78:\tlearn: 0.2590596\ttotal: 18.3s\tremaining: 4.86s\n",
            "79:\tlearn: 0.2576307\ttotal: 18.5s\tremaining: 4.63s\n",
            "80:\tlearn: 0.2567034\ttotal: 18.7s\tremaining: 4.4s\n",
            "81:\tlearn: 0.2561168\ttotal: 19s\tremaining: 4.17s\n",
            "82:\tlearn: 0.2554934\ttotal: 19.2s\tremaining: 3.94s\n",
            "83:\tlearn: 0.2542908\ttotal: 19.5s\tremaining: 3.71s\n",
            "84:\tlearn: 0.2533692\ttotal: 19.7s\tremaining: 3.48s\n",
            "85:\tlearn: 0.2524278\ttotal: 19.9s\tremaining: 3.25s\n",
            "86:\tlearn: 0.2514099\ttotal: 20.2s\tremaining: 3.02s\n",
            "87:\tlearn: 0.2509292\ttotal: 20.4s\tremaining: 2.79s\n",
            "88:\tlearn: 0.2503079\ttotal: 20.7s\tremaining: 2.56s\n",
            "89:\tlearn: 0.2496742\ttotal: 20.9s\tremaining: 2.32s\n",
            "90:\tlearn: 0.2486184\ttotal: 21.2s\tremaining: 2.09s\n",
            "91:\tlearn: 0.2481562\ttotal: 21.4s\tremaining: 1.86s\n",
            "92:\tlearn: 0.2477682\ttotal: 21.7s\tremaining: 1.63s\n",
            "93:\tlearn: 0.2474160\ttotal: 21.9s\tremaining: 1.4s\n",
            "94:\tlearn: 0.2472067\ttotal: 22.1s\tremaining: 1.16s\n",
            "95:\tlearn: 0.2466129\ttotal: 22.4s\tremaining: 932ms\n",
            "96:\tlearn: 0.2458976\ttotal: 22.6s\tremaining: 699ms\n",
            "97:\tlearn: 0.2445962\ttotal: 22.9s\tremaining: 467ms\n",
            "98:\tlearn: 0.2445373\ttotal: 23.1s\tremaining: 233ms\n",
            "99:\tlearn: 0.2444786\ttotal: 23.3s\tremaining: 0us\n"
          ]
        },
        {
          "output_type": "execute_result",
          "data": {
            "text/plain": [
              "<catboost.core.CatBoostClassifier at 0x7f5bcbf0fd60>"
            ]
          },
          "metadata": {},
          "execution_count": 58
        }
      ]
    },
    {
      "cell_type": "code",
      "source": [
        "test_pool = cb.Pool(newsgroups_test.data, y_test, text_features=[0])\n",
        "print(\"Accuracy on the training dataset: {}\".format(accuracy_score(clf.predict(learn_pool), y_train)))\n",
        "print(\"Accuracy on the testing dataset: {}\".format(accuracy_score(clf.predict(test_pool), y_test)))"
      ],
      "metadata": {
        "colab": {
          "base_uri": "https://localhost:8080/"
        },
        "id": "LkjMg9Tgk6sG",
        "outputId": "d53086a4-3a1d-45ea-d62e-90247053406f"
      },
      "execution_count": null,
      "outputs": [
        {
          "output_type": "stream",
          "name": "stdout",
          "text": [
            "Accuracy on the training dataset: 0.9599662873999157\n",
            "Accuracy on the testing dataset: 0.9081697276757441\n"
          ]
        }
      ]
    },
    {
      "cell_type": "markdown",
      "source": [
        "### How text features in CatBoost work\n",
        "CatBoost handles text features in the following steps\n",
        "\n",
        "#### Tokenization\n",
        "It just splits by white space (like `str.split()` in Python). If you want to add custom tokenization (and lemmatization), you need to **pre-process the text manually** (for example, using `spaCy`).\n"
      ],
      "metadata": {
        "id": "RbqL6wj3pgUq"
      }
    },
    {
      "cell_type": "markdown",
      "source": [
        "#### Dictionary creation\n",
        "\n",
        "Works much like `vocabulary_` in sklearn vectorizers (maps tokens into fixed positions).\n",
        "\n",
        "One of the simplest text to vector encoding technique is **Bag of words (BoW)**.\n",
        "\n",
        "##### Bag of words algorithm\n",
        "\n",
        "The algorithm takes in a dictionary and a text.<br>\n",
        "During the algorithm text $x = (a_0, a_1, ..., a_k)$ converted into vector $\\tilde x = (b_0, b_1, ..., b_F)$,<br> where $b_i$ is number of occurences word with id=$i$ from dictionary into text $x$.\n",
        "\n",
        "##### Looking at sequences of letters / words\n",
        "\n",
        "Let's look at the example: texts 'The cat defeated the mouse' and 'Army of mice defeated the cat :('<br>\n",
        "Simplifying it we have three tokens in each sentence 'cat defeat mouse' and 'mouse defeat cat'.<br>\n",
        "After applying BoW we get two equal vectors with the opposite meaning:\n",
        "\n",
        "| cat | mouse | defeat |\n",
        "|-----|-------|--------|\n",
        "| 1   | 1     | 1      |\n",
        "| 1   | 1     | 1      |\n",
        "\n",
        "How to distinguish them?\n",
        "Lets add sequences of words as a single tokens into our dictionary:\n",
        "\n",
        "| cat | mouse | defeat | cat_defeat | mouse_defeat | defeat_cat | defeat_mouse |\n",
        "|-----|-------|--------|------------|--------------|------------|--------------|\n",
        "| 1   | 1     | 1      | 1          | 0            | 0          | 1            |\n",
        "| 1   | 1     | 1      | 0          | 1            | 1          | 0            |\n",
        "\n",
        "**N-gram** is a continguous sequence of $n$ items from a given sample of text or speech (Wikipedia).<br>\n",
        "In example above Bi-gram (Bigram) = 2-gram of words."
      ],
      "metadata": {
        "id": "Y5WawQrGxUwf"
      }
    },
    {
      "cell_type": "markdown",
      "source": [
        "##### Dictionaries in CatBoost\n",
        "\n",
        "To specify which type of dictionary to create in CatBoost you need to pass `dictionaries` parameter. This parameter specifies all dictionaries that are computed during text preprocessing procedure.\n",
        "\n",
        "Dictionaries parameters specified as list of strings, each string is a description of dictionary in the following format:<br>\n",
        "``'DictionaryName:[Param1=Value1,[Param2=Value2]]'``\n",
        "\n",
        "Here is a list of all parameters:<br>\n",
        "``min_token_occurrence`` -- number; minimal token occurence to enter to dictionary<br>\n",
        "``max_dict_size`` -- number; maximum dictionary size<br>\n",
        "``token_level_type`` -- string: ``Word`` or ``Letter``; use letter or word tokens<br>\n",
        "``gram_order`` -- number; build n-gram dictionary.\n",
        "\n",
        "**Important hyperparameters**\n",
        "\n",
        "``min_token_occurrence`` -- parameter can be very useful for filtering too rare tokens, this helps to avoid overfitting<br>\n",
        "``max_dict_size`` -- parameter can help to control the size of model"
      ],
      "metadata": {
        "id": "N8YPuf-vyQUy"
      }
    },
    {
      "cell_type": "code",
      "source": [
        "import catboost as cb\n",
        "\n",
        "clf = cb.CatBoostClassifier(\n",
        "    iterations=100,\n",
        "    dictionaries=[\n",
        "        {'dictionary_id': 'Word', 'min_token_occurence': '5'},\n",
        "        {'dictionary_id': 'BiGram', 'gram_order': '2'},\n",
        "    ],\n",
        ")\n",
        "\n",
        "learn_pool = cb.Pool(newsgroups_train.data, y_train, text_features=[0])\n",
        "clf.fit(learn_pool)"
      ],
      "metadata": {
        "colab": {
          "base_uri": "https://localhost:8080/"
        },
        "id": "NP5oBOLlyiyx",
        "outputId": "66c96836-dd37-4351-f8a7-11f93213dbf2"
      },
      "execution_count": null,
      "outputs": [
        {
          "output_type": "stream",
          "name": "stdout",
          "text": [
            "Learning rate set to 0.12308\n",
            "0:\tlearn: 0.6318831\ttotal: 232ms\tremaining: 23s\n",
            "1:\tlearn: 0.5860247\ttotal: 471ms\tremaining: 23.1s\n",
            "2:\tlearn: 0.5475682\ttotal: 715ms\tremaining: 23.1s\n",
            "3:\tlearn: 0.5146440\ttotal: 958ms\tremaining: 23s\n",
            "4:\tlearn: 0.4888329\ttotal: 1.2s\tremaining: 22.7s\n",
            "5:\tlearn: 0.4599660\ttotal: 1.42s\tremaining: 22.2s\n",
            "6:\tlearn: 0.4385087\ttotal: 1.63s\tremaining: 21.7s\n",
            "7:\tlearn: 0.4197617\ttotal: 1.85s\tremaining: 21.3s\n",
            "8:\tlearn: 0.4057505\ttotal: 2.07s\tremaining: 20.9s\n",
            "9:\tlearn: 0.3918197\ttotal: 2.29s\tremaining: 20.6s\n",
            "10:\tlearn: 0.3797179\ttotal: 2.51s\tremaining: 20.3s\n",
            "11:\tlearn: 0.3690795\ttotal: 2.73s\tremaining: 20s\n",
            "12:\tlearn: 0.3622180\ttotal: 2.96s\tremaining: 19.8s\n",
            "13:\tlearn: 0.3562575\ttotal: 3.17s\tremaining: 19.5s\n",
            "14:\tlearn: 0.3478376\ttotal: 3.38s\tremaining: 19.2s\n",
            "15:\tlearn: 0.3434939\ttotal: 3.6s\tremaining: 18.9s\n",
            "16:\tlearn: 0.3363401\ttotal: 3.83s\tremaining: 18.7s\n",
            "17:\tlearn: 0.3302025\ttotal: 4.05s\tremaining: 18.4s\n",
            "18:\tlearn: 0.3267427\ttotal: 4.26s\tremaining: 18.2s\n",
            "19:\tlearn: 0.3233503\ttotal: 4.48s\tremaining: 17.9s\n",
            "20:\tlearn: 0.3196308\ttotal: 4.7s\tremaining: 17.7s\n",
            "21:\tlearn: 0.3179496\ttotal: 4.92s\tremaining: 17.4s\n",
            "22:\tlearn: 0.3148070\ttotal: 5.13s\tremaining: 17.2s\n",
            "23:\tlearn: 0.3113449\ttotal: 5.35s\tremaining: 16.9s\n",
            "24:\tlearn: 0.3084011\ttotal: 5.57s\tremaining: 16.7s\n",
            "25:\tlearn: 0.3058216\ttotal: 5.78s\tremaining: 16.5s\n",
            "26:\tlearn: 0.3038348\ttotal: 6s\tremaining: 16.2s\n",
            "27:\tlearn: 0.3022982\ttotal: 6.22s\tremaining: 16s\n",
            "28:\tlearn: 0.3007922\ttotal: 6.49s\tremaining: 15.9s\n",
            "29:\tlearn: 0.2997026\ttotal: 6.71s\tremaining: 15.7s\n",
            "30:\tlearn: 0.2981395\ttotal: 6.93s\tremaining: 15.4s\n",
            "31:\tlearn: 0.2967250\ttotal: 7.15s\tremaining: 15.2s\n",
            "32:\tlearn: 0.2959167\ttotal: 7.37s\tremaining: 15s\n",
            "33:\tlearn: 0.2955590\ttotal: 7.72s\tremaining: 15s\n",
            "34:\tlearn: 0.2945388\ttotal: 8.02s\tremaining: 14.9s\n",
            "35:\tlearn: 0.2939854\ttotal: 8.27s\tremaining: 14.7s\n",
            "36:\tlearn: 0.2927678\ttotal: 8.5s\tremaining: 14.5s\n",
            "37:\tlearn: 0.2920062\ttotal: 8.72s\tremaining: 14.2s\n",
            "38:\tlearn: 0.2898305\ttotal: 8.94s\tremaining: 14s\n",
            "39:\tlearn: 0.2887917\ttotal: 9.17s\tremaining: 13.8s\n",
            "40:\tlearn: 0.2876866\ttotal: 9.39s\tremaining: 13.5s\n",
            "41:\tlearn: 0.2871548\ttotal: 9.63s\tremaining: 13.3s\n",
            "42:\tlearn: 0.2863295\ttotal: 9.93s\tremaining: 13.2s\n",
            "43:\tlearn: 0.2857614\ttotal: 10.3s\tremaining: 13.1s\n",
            "44:\tlearn: 0.2853165\ttotal: 10.5s\tremaining: 12.8s\n",
            "45:\tlearn: 0.2847677\ttotal: 10.8s\tremaining: 12.6s\n",
            "46:\tlearn: 0.2840391\ttotal: 11s\tremaining: 12.4s\n",
            "47:\tlearn: 0.2830879\ttotal: 11.2s\tremaining: 12.2s\n",
            "48:\tlearn: 0.2820650\ttotal: 11.5s\tremaining: 11.9s\n",
            "49:\tlearn: 0.2815356\ttotal: 11.7s\tremaining: 11.7s\n",
            "50:\tlearn: 0.2798710\ttotal: 12s\tremaining: 11.5s\n",
            "51:\tlearn: 0.2792833\ttotal: 12.2s\tremaining: 11.3s\n",
            "52:\tlearn: 0.2785401\ttotal: 12.4s\tremaining: 11s\n",
            "53:\tlearn: 0.2777819\ttotal: 12.7s\tremaining: 10.8s\n",
            "54:\tlearn: 0.2762265\ttotal: 12.9s\tremaining: 10.5s\n",
            "55:\tlearn: 0.2759056\ttotal: 13.1s\tremaining: 10.3s\n",
            "56:\tlearn: 0.2750857\ttotal: 13.3s\tremaining: 10s\n",
            "57:\tlearn: 0.2744807\ttotal: 13.5s\tremaining: 9.81s\n",
            "58:\tlearn: 0.2737039\ttotal: 13.8s\tremaining: 9.58s\n",
            "59:\tlearn: 0.2731564\ttotal: 14s\tremaining: 9.34s\n",
            "60:\tlearn: 0.2726115\ttotal: 14.3s\tremaining: 9.12s\n",
            "61:\tlearn: 0.2721012\ttotal: 14.5s\tremaining: 8.89s\n",
            "62:\tlearn: 0.2717756\ttotal: 14.7s\tremaining: 8.64s\n",
            "63:\tlearn: 0.2710827\ttotal: 14.9s\tremaining: 8.4s\n",
            "64:\tlearn: 0.2704420\ttotal: 15.2s\tremaining: 8.16s\n",
            "65:\tlearn: 0.2687343\ttotal: 15.4s\tremaining: 7.92s\n",
            "66:\tlearn: 0.2677165\ttotal: 15.6s\tremaining: 7.68s\n",
            "67:\tlearn: 0.2668235\ttotal: 15.8s\tremaining: 7.44s\n",
            "68:\tlearn: 0.2663064\ttotal: 16s\tremaining: 7.21s\n",
            "69:\tlearn: 0.2655479\ttotal: 16.3s\tremaining: 6.97s\n",
            "70:\tlearn: 0.2649066\ttotal: 16.5s\tremaining: 6.73s\n",
            "71:\tlearn: 0.2644482\ttotal: 16.7s\tremaining: 6.51s\n",
            "72:\tlearn: 0.2638756\ttotal: 17s\tremaining: 6.28s\n",
            "73:\tlearn: 0.2627630\ttotal: 17.3s\tremaining: 6.07s\n",
            "74:\tlearn: 0.2620793\ttotal: 17.5s\tremaining: 5.83s\n",
            "75:\tlearn: 0.2601801\ttotal: 17.8s\tremaining: 5.61s\n",
            "76:\tlearn: 0.2598092\ttotal: 18s\tremaining: 5.37s\n",
            "77:\tlearn: 0.2595955\ttotal: 18.2s\tremaining: 5.14s\n",
            "78:\tlearn: 0.2590596\ttotal: 18.5s\tremaining: 4.91s\n",
            "79:\tlearn: 0.2576307\ttotal: 18.7s\tremaining: 4.68s\n",
            "80:\tlearn: 0.2567034\ttotal: 19s\tremaining: 4.45s\n",
            "81:\tlearn: 0.2561168\ttotal: 19.2s\tremaining: 4.22s\n",
            "82:\tlearn: 0.2554934\ttotal: 19.5s\tremaining: 3.98s\n",
            "83:\tlearn: 0.2542908\ttotal: 19.7s\tremaining: 3.75s\n",
            "84:\tlearn: 0.2533692\ttotal: 20s\tremaining: 3.52s\n",
            "85:\tlearn: 0.2524278\ttotal: 20.2s\tremaining: 3.29s\n",
            "86:\tlearn: 0.2514099\ttotal: 20.5s\tremaining: 3.06s\n",
            "87:\tlearn: 0.2509292\ttotal: 20.7s\tremaining: 2.82s\n",
            "88:\tlearn: 0.2503079\ttotal: 20.9s\tremaining: 2.59s\n",
            "89:\tlearn: 0.2496742\ttotal: 21.2s\tremaining: 2.35s\n",
            "90:\tlearn: 0.2486184\ttotal: 21.4s\tremaining: 2.12s\n",
            "91:\tlearn: 0.2481562\ttotal: 21.7s\tremaining: 1.88s\n",
            "92:\tlearn: 0.2477682\ttotal: 21.9s\tremaining: 1.65s\n",
            "93:\tlearn: 0.2474160\ttotal: 22.1s\tremaining: 1.41s\n",
            "94:\tlearn: 0.2472067\ttotal: 22.4s\tremaining: 1.18s\n",
            "95:\tlearn: 0.2466129\ttotal: 22.6s\tremaining: 943ms\n",
            "96:\tlearn: 0.2458976\ttotal: 22.9s\tremaining: 707ms\n",
            "97:\tlearn: 0.2445962\ttotal: 23.1s\tremaining: 471ms\n",
            "98:\tlearn: 0.2445373\ttotal: 23.3s\tremaining: 235ms\n",
            "99:\tlearn: 0.2444786\ttotal: 23.5s\tremaining: 0us\n"
          ]
        },
        {
          "output_type": "execute_result",
          "data": {
            "text/plain": [
              "<catboost.core.CatBoostClassifier at 0x7f5bc804b820>"
            ]
          },
          "metadata": {},
          "execution_count": 60
        }
      ]
    },
    {
      "cell_type": "code",
      "source": [
        "from sklearn.metrics import accuracy_score\n",
        "test_pool = cb.Pool(newsgroups_test.data, y_test, text_features=[0])\n",
        "print(\"Accuracy on the training dataset: {}\".format(accuracy_score(clf.predict(learn_pool), y_train)))\n",
        "print(\"Accuracy on the testing dataset: {}\".format(accuracy_score(clf.predict(test_pool), y_test)))"
      ],
      "metadata": {
        "colab": {
          "base_uri": "https://localhost:8080/"
        },
        "id": "gWIQogpiylFc",
        "outputId": "75755d6e-0a95-4680-8edb-cb962c1e71be"
      },
      "execution_count": null,
      "outputs": [
        {
          "output_type": "stream",
          "name": "stdout",
          "text": [
            "Accuracy on the training dataset: 0.9599662873999157\n",
            "Accuracy on the testing dataset: 0.9081697276757441\n"
          ]
        }
      ]
    },
    {
      "cell_type": "markdown",
      "source": [
        "#### Estimating numerical features\n",
        "\n",
        "Numerical features are calculated based on the source tokenized.\n",
        "\n",
        "The default method is Bag Of Words.\n",
        "\n",
        "Other methods include NaiveBayes and BM25, we will not cover them."
      ],
      "metadata": {
        "id": "2yE9QqgH2mh3"
      }
    },
    {
      "cell_type": "markdown",
      "source": [
        "### Solve Quora Question Pairs Challenge with CatBoost"
      ],
      "metadata": {
        "id": "ooy04AiF3pRf"
      }
    },
    {
      "cell_type": "code",
      "source": [
        "import pandas as pd\n",
        "\n",
        "df = pd.read_csv(\"harbour-space-text-mining-course/datasets/quora_question_pairs/train.csv\")\n",
        "print(f\"Total samples: {df.shape[0]}\")\n",
        "# select a subset of rows to speed up the demonstration\n",
        "df = df.head(20000)\n",
        "# `is_duplicate` shows whether `question1` and `question2` are duplicates\n",
        "df[[\"question1\", \"question2\", \"is_duplicate\"]].head(10)"
      ],
      "metadata": {
        "colab": {
          "base_uri": "https://localhost:8080/",
          "height": 381
        },
        "id": "v_XC7eq_3p8b",
        "outputId": "cbd93df3-6784-4f41-8b7c-76e8ce7d00c7"
      },
      "execution_count": null,
      "outputs": [
        {
          "output_type": "stream",
          "name": "stdout",
          "text": [
            "Total samples: 404290\n"
          ]
        },
        {
          "output_type": "execute_result",
          "data": {
            "text/plain": [
              "                                           question1  \\\n",
              "0  What is the step by step guide to invest in sh...   \n",
              "1  What is the story of Kohinoor (Koh-i-Noor) Dia...   \n",
              "2  How can I increase the speed of my internet co...   \n",
              "3  Why am I mentally very lonely? How can I solve...   \n",
              "4  Which one dissolve in water quikly sugar, salt...   \n",
              "5  Astrology: I am a Capricorn Sun Cap moon and c...   \n",
              "6                                Should I buy tiago?   \n",
              "7                     How can I be a good geologist?   \n",
              "8                    When do you use シ instead of し?   \n",
              "9  Motorola (company): Can I hack my Charter Moto...   \n",
              "\n",
              "                                           question2  is_duplicate  \n",
              "0  What is the step by step guide to invest in sh...             0  \n",
              "1  What would happen if the Indian government sto...             0  \n",
              "2  How can Internet speed be increased by hacking...             0  \n",
              "3  Find the remainder when [math]23^{24}[/math] i...             0  \n",
              "4            Which fish would survive in salt water?             0  \n",
              "5  I'm a triple Capricorn (Sun, Moon and ascendan...             1  \n",
              "6  What keeps childern active and far from phone ...             0  \n",
              "7          What should I do to be a great geologist?             1  \n",
              "8              When do you use \"&\" instead of \"and\"?             0  \n",
              "9  How do I hack Motorola DCX3400 for free internet?             0  "
            ],
            "text/html": [
              "\n",
              "  <div id=\"df-eee0e036-3d55-4c72-93a0-944795c91eaa\">\n",
              "    <div class=\"colab-df-container\">\n",
              "      <div>\n",
              "<style scoped>\n",
              "    .dataframe tbody tr th:only-of-type {\n",
              "        vertical-align: middle;\n",
              "    }\n",
              "\n",
              "    .dataframe tbody tr th {\n",
              "        vertical-align: top;\n",
              "    }\n",
              "\n",
              "    .dataframe thead th {\n",
              "        text-align: right;\n",
              "    }\n",
              "</style>\n",
              "<table border=\"1\" class=\"dataframe\">\n",
              "  <thead>\n",
              "    <tr style=\"text-align: right;\">\n",
              "      <th></th>\n",
              "      <th>question1</th>\n",
              "      <th>question2</th>\n",
              "      <th>is_duplicate</th>\n",
              "    </tr>\n",
              "  </thead>\n",
              "  <tbody>\n",
              "    <tr>\n",
              "      <th>0</th>\n",
              "      <td>What is the step by step guide to invest in sh...</td>\n",
              "      <td>What is the step by step guide to invest in sh...</td>\n",
              "      <td>0</td>\n",
              "    </tr>\n",
              "    <tr>\n",
              "      <th>1</th>\n",
              "      <td>What is the story of Kohinoor (Koh-i-Noor) Dia...</td>\n",
              "      <td>What would happen if the Indian government sto...</td>\n",
              "      <td>0</td>\n",
              "    </tr>\n",
              "    <tr>\n",
              "      <th>2</th>\n",
              "      <td>How can I increase the speed of my internet co...</td>\n",
              "      <td>How can Internet speed be increased by hacking...</td>\n",
              "      <td>0</td>\n",
              "    </tr>\n",
              "    <tr>\n",
              "      <th>3</th>\n",
              "      <td>Why am I mentally very lonely? How can I solve...</td>\n",
              "      <td>Find the remainder when [math]23^{24}[/math] i...</td>\n",
              "      <td>0</td>\n",
              "    </tr>\n",
              "    <tr>\n",
              "      <th>4</th>\n",
              "      <td>Which one dissolve in water quikly sugar, salt...</td>\n",
              "      <td>Which fish would survive in salt water?</td>\n",
              "      <td>0</td>\n",
              "    </tr>\n",
              "    <tr>\n",
              "      <th>5</th>\n",
              "      <td>Astrology: I am a Capricorn Sun Cap moon and c...</td>\n",
              "      <td>I'm a triple Capricorn (Sun, Moon and ascendan...</td>\n",
              "      <td>1</td>\n",
              "    </tr>\n",
              "    <tr>\n",
              "      <th>6</th>\n",
              "      <td>Should I buy tiago?</td>\n",
              "      <td>What keeps childern active and far from phone ...</td>\n",
              "      <td>0</td>\n",
              "    </tr>\n",
              "    <tr>\n",
              "      <th>7</th>\n",
              "      <td>How can I be a good geologist?</td>\n",
              "      <td>What should I do to be a great geologist?</td>\n",
              "      <td>1</td>\n",
              "    </tr>\n",
              "    <tr>\n",
              "      <th>8</th>\n",
              "      <td>When do you use シ instead of し?</td>\n",
              "      <td>When do you use \"&amp;\" instead of \"and\"?</td>\n",
              "      <td>0</td>\n",
              "    </tr>\n",
              "    <tr>\n",
              "      <th>9</th>\n",
              "      <td>Motorola (company): Can I hack my Charter Moto...</td>\n",
              "      <td>How do I hack Motorola DCX3400 for free internet?</td>\n",
              "      <td>0</td>\n",
              "    </tr>\n",
              "  </tbody>\n",
              "</table>\n",
              "</div>\n",
              "      <button class=\"colab-df-convert\" onclick=\"convertToInteractive('df-eee0e036-3d55-4c72-93a0-944795c91eaa')\"\n",
              "              title=\"Convert this dataframe to an interactive table.\"\n",
              "              style=\"display:none;\">\n",
              "        \n",
              "  <svg xmlns=\"http://www.w3.org/2000/svg\" height=\"24px\"viewBox=\"0 0 24 24\"\n",
              "       width=\"24px\">\n",
              "    <path d=\"M0 0h24v24H0V0z\" fill=\"none\"/>\n",
              "    <path d=\"M18.56 5.44l.94 2.06.94-2.06 2.06-.94-2.06-.94-.94-2.06-.94 2.06-2.06.94zm-11 1L8.5 8.5l.94-2.06 2.06-.94-2.06-.94L8.5 2.5l-.94 2.06-2.06.94zm10 10l.94 2.06.94-2.06 2.06-.94-2.06-.94-.94-2.06-.94 2.06-2.06.94z\"/><path d=\"M17.41 7.96l-1.37-1.37c-.4-.4-.92-.59-1.43-.59-.52 0-1.04.2-1.43.59L10.3 9.45l-7.72 7.72c-.78.78-.78 2.05 0 2.83L4 21.41c.39.39.9.59 1.41.59.51 0 1.02-.2 1.41-.59l7.78-7.78 2.81-2.81c.8-.78.8-2.07 0-2.86zM5.41 20L4 18.59l7.72-7.72 1.47 1.35L5.41 20z\"/>\n",
              "  </svg>\n",
              "      </button>\n",
              "      \n",
              "  <style>\n",
              "    .colab-df-container {\n",
              "      display:flex;\n",
              "      flex-wrap:wrap;\n",
              "      gap: 12px;\n",
              "    }\n",
              "\n",
              "    .colab-df-convert {\n",
              "      background-color: #E8F0FE;\n",
              "      border: none;\n",
              "      border-radius: 50%;\n",
              "      cursor: pointer;\n",
              "      display: none;\n",
              "      fill: #1967D2;\n",
              "      height: 32px;\n",
              "      padding: 0 0 0 0;\n",
              "      width: 32px;\n",
              "    }\n",
              "\n",
              "    .colab-df-convert:hover {\n",
              "      background-color: #E2EBFA;\n",
              "      box-shadow: 0px 1px 2px rgba(60, 64, 67, 0.3), 0px 1px 3px 1px rgba(60, 64, 67, 0.15);\n",
              "      fill: #174EA6;\n",
              "    }\n",
              "\n",
              "    [theme=dark] .colab-df-convert {\n",
              "      background-color: #3B4455;\n",
              "      fill: #D2E3FC;\n",
              "    }\n",
              "\n",
              "    [theme=dark] .colab-df-convert:hover {\n",
              "      background-color: #434B5C;\n",
              "      box-shadow: 0px 1px 3px 1px rgba(0, 0, 0, 0.15);\n",
              "      filter: drop-shadow(0px 1px 2px rgba(0, 0, 0, 0.3));\n",
              "      fill: #FFFFFF;\n",
              "    }\n",
              "  </style>\n",
              "\n",
              "      <script>\n",
              "        const buttonEl =\n",
              "          document.querySelector('#df-eee0e036-3d55-4c72-93a0-944795c91eaa button.colab-df-convert');\n",
              "        buttonEl.style.display =\n",
              "          google.colab.kernel.accessAllowed ? 'block' : 'none';\n",
              "\n",
              "        async function convertToInteractive(key) {\n",
              "          const element = document.querySelector('#df-eee0e036-3d55-4c72-93a0-944795c91eaa');\n",
              "          const dataTable =\n",
              "            await google.colab.kernel.invokeFunction('convertToInteractive',\n",
              "                                                     [key], {});\n",
              "          if (!dataTable) return;\n",
              "\n",
              "          const docLinkHtml = 'Like what you see? Visit the ' +\n",
              "            '<a target=\"_blank\" href=https://colab.research.google.com/notebooks/data_table.ipynb>data table notebook</a>'\n",
              "            + ' to learn more about interactive tables.';\n",
              "          element.innerHTML = '';\n",
              "          dataTable['output_type'] = 'display_data';\n",
              "          await google.colab.output.renderOutput(dataTable, element);\n",
              "          const docLink = document.createElement('div');\n",
              "          docLink.innerHTML = docLinkHtml;\n",
              "          element.appendChild(docLink);\n",
              "        }\n",
              "      </script>\n",
              "    </div>\n",
              "  </div>\n",
              "  "
            ]
          },
          "metadata": {},
          "execution_count": 62
        }
      ]
    },
    {
      "cell_type": "code",
      "source": [
        "from sklearn.model_selection import train_test_split\n",
        "\n",
        "df_train, df_test = train_test_split(df.fillna(\".\"), test_size=0.5, shuffle=True, random_state=0)"
      ],
      "metadata": {
        "id": "w7rgblHZ4oPP"
      },
      "execution_count": null,
      "outputs": []
    },
    {
      "cell_type": "code",
      "source": [
        "quora_train_pool = cb.Pool(\n",
        "    df_train[[\"question1\", \"question2\"]],\n",
        "    df_train.is_duplicate,\n",
        "    text_features=[\"question1\", \"question2\"]\n",
        ")\n",
        "quora_test_pool = cb.Pool(\n",
        "    df_test[[\"question1\", \"question2\"]],\n",
        "    df_test.is_duplicate,\n",
        "    text_features=[\"question1\", \"question2\"]\n",
        ")"
      ],
      "metadata": {
        "id": "TGnwHwEr4s-E"
      },
      "execution_count": null,
      "outputs": []
    },
    {
      "cell_type": "code",
      "source": [
        "clf = cb.CatBoostClassifier(\n",
        "    iterations=300,\n",
        "    dictionaries=[\n",
        "        {'dictionary_id': 'Word', 'min_token_occurence': '5'},\n",
        "        {'dictionary_id': 'BiGram', 'gram_order': '2'},\n",
        "    ],\n",
        ")\n",
        "\n",
        "clf.fit(quora_train_pool)"
      ],
      "metadata": {
        "colab": {
          "base_uri": "https://localhost:8080/"
        },
        "id": "rIviBRDL5B9M",
        "outputId": "dd8d70e1-9420-4f9a-abd6-3f1c0b3d2940"
      },
      "execution_count": null,
      "outputs": [
        {
          "output_type": "stream",
          "name": "stdout",
          "text": [
            "Learning rate set to 0.083064\n",
            "0:\tlearn: 0.6802212\ttotal: 1.03s\tremaining: 5m 8s\n",
            "1:\tlearn: 0.6688026\ttotal: 2.08s\tremaining: 5m 9s\n",
            "2:\tlearn: 0.6582210\ttotal: 2.97s\tremaining: 4m 53s\n",
            "3:\tlearn: 0.6495029\ttotal: 3.8s\tremaining: 4m 41s\n",
            "4:\tlearn: 0.6428457\ttotal: 4.79s\tremaining: 4m 42s\n",
            "5:\tlearn: 0.6356618\ttotal: 5.62s\tremaining: 4m 35s\n",
            "6:\tlearn: 0.6297749\ttotal: 6.51s\tremaining: 4m 32s\n",
            "7:\tlearn: 0.6249717\ttotal: 7.49s\tremaining: 4m 33s\n",
            "8:\tlearn: 0.6207894\ttotal: 8.48s\tremaining: 4m 34s\n",
            "9:\tlearn: 0.6162974\ttotal: 9.64s\tremaining: 4m 39s\n",
            "10:\tlearn: 0.6133653\ttotal: 10.4s\tremaining: 4m 34s\n",
            "11:\tlearn: 0.6106988\ttotal: 11.4s\tremaining: 4m 33s\n",
            "12:\tlearn: 0.6085977\ttotal: 12.5s\tremaining: 4m 35s\n",
            "13:\tlearn: 0.6063706\ttotal: 13.3s\tremaining: 4m 31s\n",
            "14:\tlearn: 0.6038164\ttotal: 14.2s\tremaining: 4m 30s\n",
            "15:\tlearn: 0.6012020\ttotal: 15.2s\tremaining: 4m 29s\n",
            "16:\tlearn: 0.5986308\ttotal: 16.5s\tremaining: 4m 34s\n",
            "17:\tlearn: 0.5972498\ttotal: 17.3s\tremaining: 4m 30s\n",
            "18:\tlearn: 0.5952013\ttotal: 18.2s\tremaining: 4m 28s\n",
            "19:\tlearn: 0.5935249\ttotal: 18.9s\tremaining: 4m 24s\n",
            "20:\tlearn: 0.5920937\ttotal: 19.7s\tremaining: 4m 22s\n",
            "21:\tlearn: 0.5909974\ttotal: 20.6s\tremaining: 4m 20s\n",
            "22:\tlearn: 0.5901801\ttotal: 21.5s\tremaining: 4m 18s\n",
            "23:\tlearn: 0.5897039\ttotal: 22.5s\tremaining: 4m 19s\n",
            "24:\tlearn: 0.5886896\ttotal: 23.4s\tremaining: 4m 17s\n",
            "25:\tlearn: 0.5879108\ttotal: 24.2s\tremaining: 4m 14s\n",
            "26:\tlearn: 0.5871671\ttotal: 25.1s\tremaining: 4m 13s\n",
            "27:\tlearn: 0.5864626\ttotal: 25.8s\tremaining: 4m 10s\n",
            "28:\tlearn: 0.5853624\ttotal: 26.3s\tremaining: 4m 5s\n",
            "29:\tlearn: 0.5842812\ttotal: 26.8s\tremaining: 4m 1s\n",
            "30:\tlearn: 0.5835972\ttotal: 27.3s\tremaining: 3m 57s\n",
            "31:\tlearn: 0.5828790\ttotal: 27.8s\tremaining: 3m 53s\n",
            "32:\tlearn: 0.5824347\ttotal: 28.3s\tremaining: 3m 49s\n",
            "33:\tlearn: 0.5821102\ttotal: 28.9s\tremaining: 3m 45s\n",
            "34:\tlearn: 0.5815990\ttotal: 29.4s\tremaining: 3m 42s\n",
            "35:\tlearn: 0.5810596\ttotal: 29.9s\tremaining: 3m 39s\n",
            "36:\tlearn: 0.5801514\ttotal: 30.4s\tremaining: 3m 35s\n",
            "37:\tlearn: 0.5799182\ttotal: 30.9s\tremaining: 3m 32s\n",
            "38:\tlearn: 0.5795002\ttotal: 31.4s\tremaining: 3m 30s\n",
            "39:\tlearn: 0.5787291\ttotal: 31.9s\tremaining: 3m 27s\n",
            "40:\tlearn: 0.5784535\ttotal: 32.3s\tremaining: 3m 24s\n",
            "41:\tlearn: 0.5776513\ttotal: 32.8s\tremaining: 3m 21s\n",
            "42:\tlearn: 0.5769741\ttotal: 33.3s\tremaining: 3m 18s\n",
            "43:\tlearn: 0.5767705\ttotal: 33.7s\tremaining: 3m 16s\n",
            "44:\tlearn: 0.5764115\ttotal: 34.2s\tremaining: 3m 13s\n",
            "45:\tlearn: 0.5754928\ttotal: 34.8s\tremaining: 3m 11s\n",
            "46:\tlearn: 0.5753029\ttotal: 35.3s\tremaining: 3m 9s\n",
            "47:\tlearn: 0.5749094\ttotal: 35.8s\tremaining: 3m 7s\n",
            "48:\tlearn: 0.5746576\ttotal: 36.3s\tremaining: 3m 5s\n",
            "49:\tlearn: 0.5741781\ttotal: 36.8s\tremaining: 3m 4s\n",
            "50:\tlearn: 0.5739229\ttotal: 37.3s\tremaining: 3m 2s\n",
            "51:\tlearn: 0.5733948\ttotal: 37.8s\tremaining: 3m\n",
            "52:\tlearn: 0.5728457\ttotal: 38.3s\tremaining: 2m 58s\n",
            "53:\tlearn: 0.5725126\ttotal: 38.8s\tremaining: 2m 56s\n",
            "54:\tlearn: 0.5722606\ttotal: 39.3s\tremaining: 2m 54s\n",
            "55:\tlearn: 0.5716860\ttotal: 39.8s\tremaining: 2m 53s\n",
            "56:\tlearn: 0.5714138\ttotal: 40.3s\tremaining: 2m 51s\n",
            "57:\tlearn: 0.5712345\ttotal: 40.8s\tremaining: 2m 50s\n",
            "58:\tlearn: 0.5708536\ttotal: 41.3s\tremaining: 2m 48s\n",
            "59:\tlearn: 0.5706711\ttotal: 41.8s\tremaining: 2m 47s\n",
            "60:\tlearn: 0.5705205\ttotal: 42.3s\tremaining: 2m 45s\n",
            "61:\tlearn: 0.5702620\ttotal: 42.7s\tremaining: 2m 44s\n",
            "62:\tlearn: 0.5698435\ttotal: 43.2s\tremaining: 2m 42s\n",
            "63:\tlearn: 0.5695595\ttotal: 43.7s\tremaining: 2m 41s\n",
            "64:\tlearn: 0.5693235\ttotal: 44.2s\tremaining: 2m 39s\n",
            "65:\tlearn: 0.5691344\ttotal: 44.7s\tremaining: 2m 38s\n",
            "66:\tlearn: 0.5684789\ttotal: 45.2s\tremaining: 2m 37s\n",
            "67:\tlearn: 0.5682397\ttotal: 45.6s\tremaining: 2m 35s\n",
            "68:\tlearn: 0.5680230\ttotal: 46.1s\tremaining: 2m 34s\n",
            "69:\tlearn: 0.5677196\ttotal: 46.5s\tremaining: 2m 32s\n",
            "70:\tlearn: 0.5675850\ttotal: 47s\tremaining: 2m 31s\n",
            "71:\tlearn: 0.5674492\ttotal: 47.5s\tremaining: 2m 30s\n",
            "72:\tlearn: 0.5671693\ttotal: 47.9s\tremaining: 2m 29s\n",
            "73:\tlearn: 0.5665524\ttotal: 48.5s\tremaining: 2m 27s\n",
            "74:\tlearn: 0.5662880\ttotal: 49s\tremaining: 2m 26s\n",
            "75:\tlearn: 0.5660451\ttotal: 49.4s\tremaining: 2m 25s\n",
            "76:\tlearn: 0.5657839\ttotal: 49.9s\tremaining: 2m 24s\n",
            "77:\tlearn: 0.5652492\ttotal: 50.3s\tremaining: 2m 23s\n",
            "78:\tlearn: 0.5649520\ttotal: 50.8s\tremaining: 2m 22s\n",
            "79:\tlearn: 0.5646652\ttotal: 51.3s\tremaining: 2m 20s\n",
            "80:\tlearn: 0.5643993\ttotal: 51.7s\tremaining: 2m 19s\n",
            "81:\tlearn: 0.5641235\ttotal: 52.2s\tremaining: 2m 18s\n",
            "82:\tlearn: 0.5636878\ttotal: 52.6s\tremaining: 2m 17s\n",
            "83:\tlearn: 0.5634790\ttotal: 53.1s\tremaining: 2m 16s\n",
            "84:\tlearn: 0.5632020\ttotal: 53.6s\tremaining: 2m 15s\n",
            "85:\tlearn: 0.5629542\ttotal: 54s\tremaining: 2m 14s\n",
            "86:\tlearn: 0.5626298\ttotal: 54.5s\tremaining: 2m 13s\n",
            "87:\tlearn: 0.5623554\ttotal: 54.9s\tremaining: 2m 12s\n",
            "88:\tlearn: 0.5620623\ttotal: 55.5s\tremaining: 2m 11s\n",
            "89:\tlearn: 0.5618815\ttotal: 56s\tremaining: 2m 10s\n",
            "90:\tlearn: 0.5615702\ttotal: 56.5s\tremaining: 2m 9s\n",
            "91:\tlearn: 0.5613021\ttotal: 57s\tremaining: 2m 8s\n",
            "92:\tlearn: 0.5610187\ttotal: 57.5s\tremaining: 2m 7s\n",
            "93:\tlearn: 0.5608432\ttotal: 57.9s\tremaining: 2m 6s\n",
            "94:\tlearn: 0.5606124\ttotal: 58.4s\tremaining: 2m 5s\n",
            "95:\tlearn: 0.5603794\ttotal: 58.8s\tremaining: 2m 5s\n",
            "96:\tlearn: 0.5602269\ttotal: 59.3s\tremaining: 2m 4s\n",
            "97:\tlearn: 0.5598873\ttotal: 59.7s\tremaining: 2m 3s\n",
            "98:\tlearn: 0.5596066\ttotal: 1m\tremaining: 2m 2s\n",
            "99:\tlearn: 0.5594814\ttotal: 1m\tremaining: 2m 1s\n",
            "100:\tlearn: 0.5592994\ttotal: 1m 1s\tremaining: 2m\n",
            "101:\tlearn: 0.5590245\ttotal: 1m 1s\tremaining: 1m 59s\n",
            "102:\tlearn: 0.5586070\ttotal: 1m 2s\tremaining: 1m 59s\n",
            "103:\tlearn: 0.5584104\ttotal: 1m 2s\tremaining: 1m 58s\n",
            "104:\tlearn: 0.5582036\ttotal: 1m 3s\tremaining: 1m 57s\n",
            "105:\tlearn: 0.5579884\ttotal: 1m 3s\tremaining: 1m 56s\n",
            "106:\tlearn: 0.5578305\ttotal: 1m 4s\tremaining: 1m 55s\n",
            "107:\tlearn: 0.5575695\ttotal: 1m 4s\tremaining: 1m 55s\n",
            "108:\tlearn: 0.5573304\ttotal: 1m 5s\tremaining: 1m 54s\n",
            "109:\tlearn: 0.5569813\ttotal: 1m 5s\tremaining: 1m 53s\n",
            "110:\tlearn: 0.5566410\ttotal: 1m 6s\tremaining: 1m 52s\n",
            "111:\tlearn: 0.5560103\ttotal: 1m 6s\tremaining: 1m 52s\n",
            "112:\tlearn: 0.5557873\ttotal: 1m 7s\tremaining: 1m 51s\n",
            "113:\tlearn: 0.5550191\ttotal: 1m 7s\tremaining: 1m 50s\n",
            "114:\tlearn: 0.5544421\ttotal: 1m 8s\tremaining: 1m 50s\n",
            "115:\tlearn: 0.5539200\ttotal: 1m 8s\tremaining: 1m 49s\n",
            "116:\tlearn: 0.5531232\ttotal: 1m 9s\tremaining: 1m 48s\n",
            "117:\tlearn: 0.5529026\ttotal: 1m 9s\tremaining: 1m 47s\n",
            "118:\tlearn: 0.5526608\ttotal: 1m 10s\tremaining: 1m 46s\n",
            "119:\tlearn: 0.5524956\ttotal: 1m 10s\tremaining: 1m 46s\n",
            "120:\tlearn: 0.5522437\ttotal: 1m 11s\tremaining: 1m 45s\n",
            "121:\tlearn: 0.5515567\ttotal: 1m 11s\tremaining: 1m 44s\n",
            "122:\tlearn: 0.5512063\ttotal: 1m 12s\tremaining: 1m 43s\n",
            "123:\tlearn: 0.5507017\ttotal: 1m 12s\tremaining: 1m 43s\n",
            "124:\tlearn: 0.5502866\ttotal: 1m 13s\tremaining: 1m 42s\n",
            "125:\tlearn: 0.5492919\ttotal: 1m 13s\tremaining: 1m 41s\n",
            "126:\tlearn: 0.5489437\ttotal: 1m 14s\tremaining: 1m 40s\n",
            "127:\tlearn: 0.5483008\ttotal: 1m 14s\tremaining: 1m 40s\n",
            "128:\tlearn: 0.5480521\ttotal: 1m 15s\tremaining: 1m 39s\n",
            "129:\tlearn: 0.5477335\ttotal: 1m 15s\tremaining: 1m 38s\n",
            "130:\tlearn: 0.5474408\ttotal: 1m 16s\tremaining: 1m 38s\n",
            "131:\tlearn: 0.5471840\ttotal: 1m 16s\tremaining: 1m 37s\n",
            "132:\tlearn: 0.5466654\ttotal: 1m 16s\tremaining: 1m 36s\n",
            "133:\tlearn: 0.5463176\ttotal: 1m 17s\tremaining: 1m 35s\n",
            "134:\tlearn: 0.5460530\ttotal: 1m 17s\tremaining: 1m 35s\n",
            "135:\tlearn: 0.5450404\ttotal: 1m 18s\tremaining: 1m 34s\n",
            "136:\tlearn: 0.5447154\ttotal: 1m 18s\tremaining: 1m 33s\n",
            "137:\tlearn: 0.5439278\ttotal: 1m 19s\tremaining: 1m 33s\n",
            "138:\tlearn: 0.5437207\ttotal: 1m 19s\tremaining: 1m 32s\n",
            "139:\tlearn: 0.5435426\ttotal: 1m 20s\tremaining: 1m 31s\n",
            "140:\tlearn: 0.5428200\ttotal: 1m 20s\tremaining: 1m 30s\n",
            "141:\tlearn: 0.5423077\ttotal: 1m 21s\tremaining: 1m 30s\n",
            "142:\tlearn: 0.5421545\ttotal: 1m 21s\tremaining: 1m 29s\n",
            "143:\tlearn: 0.5420101\ttotal: 1m 22s\tremaining: 1m 29s\n",
            "144:\tlearn: 0.5410961\ttotal: 1m 22s\tremaining: 1m 28s\n",
            "145:\tlearn: 0.5408220\ttotal: 1m 23s\tremaining: 1m 27s\n",
            "146:\tlearn: 0.5405720\ttotal: 1m 23s\tremaining: 1m 27s\n",
            "147:\tlearn: 0.5401079\ttotal: 1m 24s\tremaining: 1m 26s\n",
            "148:\tlearn: 0.5398626\ttotal: 1m 24s\tremaining: 1m 25s\n",
            "149:\tlearn: 0.5397087\ttotal: 1m 24s\tremaining: 1m 24s\n",
            "150:\tlearn: 0.5388014\ttotal: 1m 25s\tremaining: 1m 24s\n",
            "151:\tlearn: 0.5386486\ttotal: 1m 25s\tremaining: 1m 23s\n",
            "152:\tlearn: 0.5384643\ttotal: 1m 26s\tremaining: 1m 22s\n",
            "153:\tlearn: 0.5383050\ttotal: 1m 26s\tremaining: 1m 22s\n",
            "154:\tlearn: 0.5381166\ttotal: 1m 27s\tremaining: 1m 21s\n",
            "155:\tlearn: 0.5377009\ttotal: 1m 27s\tremaining: 1m 21s\n",
            "156:\tlearn: 0.5375439\ttotal: 1m 28s\tremaining: 1m 20s\n",
            "157:\tlearn: 0.5372514\ttotal: 1m 28s\tremaining: 1m 19s\n",
            "158:\tlearn: 0.5371136\ttotal: 1m 29s\tremaining: 1m 19s\n",
            "159:\tlearn: 0.5367968\ttotal: 1m 29s\tremaining: 1m 18s\n",
            "160:\tlearn: 0.5365595\ttotal: 1m 30s\tremaining: 1m 18s\n",
            "161:\tlearn: 0.5364428\ttotal: 1m 30s\tremaining: 1m 17s\n",
            "162:\tlearn: 0.5355003\ttotal: 1m 31s\tremaining: 1m 16s\n",
            "163:\tlearn: 0.5353448\ttotal: 1m 31s\tremaining: 1m 16s\n",
            "164:\tlearn: 0.5346940\ttotal: 1m 32s\tremaining: 1m 15s\n",
            "165:\tlearn: 0.5338021\ttotal: 1m 32s\tremaining: 1m 14s\n",
            "166:\tlearn: 0.5332239\ttotal: 1m 33s\tremaining: 1m 14s\n",
            "167:\tlearn: 0.5324896\ttotal: 1m 33s\tremaining: 1m 13s\n",
            "168:\tlearn: 0.5323907\ttotal: 1m 34s\tremaining: 1m 13s\n",
            "169:\tlearn: 0.5313327\ttotal: 1m 34s\tremaining: 1m 12s\n",
            "170:\tlearn: 0.5300387\ttotal: 1m 35s\tremaining: 1m 11s\n",
            "171:\tlearn: 0.5296510\ttotal: 1m 36s\tremaining: 1m 11s\n",
            "172:\tlearn: 0.5291883\ttotal: 1m 36s\tremaining: 1m 11s\n",
            "173:\tlearn: 0.5290012\ttotal: 1m 37s\tremaining: 1m 10s\n",
            "174:\tlearn: 0.5288494\ttotal: 1m 38s\tremaining: 1m 10s\n",
            "175:\tlearn: 0.5281494\ttotal: 1m 38s\tremaining: 1m 9s\n",
            "176:\tlearn: 0.5278221\ttotal: 1m 39s\tremaining: 1m 8s\n",
            "177:\tlearn: 0.5273857\ttotal: 1m 39s\tremaining: 1m 8s\n",
            "178:\tlearn: 0.5269769\ttotal: 1m 40s\tremaining: 1m 7s\n",
            "179:\tlearn: 0.5268214\ttotal: 1m 40s\tremaining: 1m 7s\n",
            "180:\tlearn: 0.5266152\ttotal: 1m 41s\tremaining: 1m 6s\n",
            "181:\tlearn: 0.5256057\ttotal: 1m 41s\tremaining: 1m 5s\n",
            "182:\tlearn: 0.5249215\ttotal: 1m 42s\tremaining: 1m 5s\n",
            "183:\tlearn: 0.5241482\ttotal: 1m 42s\tremaining: 1m 4s\n",
            "184:\tlearn: 0.5231600\ttotal: 1m 43s\tremaining: 1m 4s\n",
            "185:\tlearn: 0.5230299\ttotal: 1m 43s\tremaining: 1m 3s\n",
            "186:\tlearn: 0.5229487\ttotal: 1m 44s\tremaining: 1m 2s\n",
            "187:\tlearn: 0.5228339\ttotal: 1m 44s\tremaining: 1m 2s\n",
            "188:\tlearn: 0.5226815\ttotal: 1m 45s\tremaining: 1m 1s\n",
            "189:\tlearn: 0.5225122\ttotal: 1m 45s\tremaining: 1m 1s\n",
            "190:\tlearn: 0.5212991\ttotal: 1m 46s\tremaining: 1m\n",
            "191:\tlearn: 0.5208308\ttotal: 1m 47s\tremaining: 1m\n",
            "192:\tlearn: 0.5204395\ttotal: 1m 47s\tremaining: 59.9s\n",
            "193:\tlearn: 0.5200139\ttotal: 1m 48s\tremaining: 59.3s\n",
            "194:\tlearn: 0.5196581\ttotal: 1m 48s\tremaining: 58.7s\n",
            "195:\tlearn: 0.5195937\ttotal: 1m 49s\tremaining: 58.1s\n",
            "196:\tlearn: 0.5195092\ttotal: 1m 49s\tremaining: 57.5s\n",
            "197:\tlearn: 0.5182748\ttotal: 1m 50s\tremaining: 56.9s\n",
            "198:\tlearn: 0.5181006\ttotal: 1m 51s\tremaining: 56.3s\n",
            "199:\tlearn: 0.5176756\ttotal: 1m 51s\tremaining: 55.8s\n",
            "200:\tlearn: 0.5173048\ttotal: 1m 52s\tremaining: 55.2s\n",
            "201:\tlearn: 0.5169440\ttotal: 1m 52s\tremaining: 54.6s\n",
            "202:\tlearn: 0.5166958\ttotal: 1m 53s\tremaining: 54s\n",
            "203:\tlearn: 0.5163570\ttotal: 1m 53s\tremaining: 53.4s\n",
            "204:\tlearn: 0.5156688\ttotal: 1m 54s\tremaining: 52.9s\n",
            "205:\tlearn: 0.5153184\ttotal: 1m 54s\tremaining: 52.3s\n",
            "206:\tlearn: 0.5146909\ttotal: 1m 55s\tremaining: 51.7s\n",
            "207:\tlearn: 0.5145268\ttotal: 1m 55s\tremaining: 51.1s\n",
            "208:\tlearn: 0.5141775\ttotal: 1m 56s\tremaining: 50.6s\n",
            "209:\tlearn: 0.5136529\ttotal: 1m 56s\tremaining: 50s\n",
            "210:\tlearn: 0.5134612\ttotal: 1m 57s\tremaining: 49.4s\n",
            "211:\tlearn: 0.5132854\ttotal: 1m 57s\tremaining: 48.9s\n",
            "212:\tlearn: 0.5130670\ttotal: 1m 58s\tremaining: 48.3s\n",
            "213:\tlearn: 0.5128611\ttotal: 1m 58s\tremaining: 47.7s\n",
            "214:\tlearn: 0.5127128\ttotal: 1m 59s\tremaining: 47.1s\n",
            "215:\tlearn: 0.5124635\ttotal: 1m 59s\tremaining: 46.6s\n",
            "216:\tlearn: 0.5122663\ttotal: 2m\tremaining: 46s\n",
            "217:\tlearn: 0.5118029\ttotal: 2m\tremaining: 45.4s\n",
            "218:\tlearn: 0.5112118\ttotal: 2m 1s\tremaining: 44.9s\n",
            "219:\tlearn: 0.5110769\ttotal: 2m 1s\tremaining: 44.3s\n",
            "220:\tlearn: 0.5109446\ttotal: 2m 2s\tremaining: 43.7s\n",
            "221:\tlearn: 0.5108008\ttotal: 2m 2s\tremaining: 43.2s\n",
            "222:\tlearn: 0.5104983\ttotal: 2m 3s\tremaining: 42.6s\n",
            "223:\tlearn: 0.5102250\ttotal: 2m 3s\tremaining: 42s\n",
            "224:\tlearn: 0.5096869\ttotal: 2m 4s\tremaining: 41.5s\n",
            "225:\tlearn: 0.5091956\ttotal: 2m 4s\tremaining: 40.9s\n",
            "226:\tlearn: 0.5089952\ttotal: 2m 5s\tremaining: 40.3s\n",
            "227:\tlearn: 0.5088922\ttotal: 2m 5s\tremaining: 39.8s\n",
            "228:\tlearn: 0.5085104\ttotal: 2m 6s\tremaining: 39.2s\n",
            "229:\tlearn: 0.5083523\ttotal: 2m 6s\tremaining: 38.6s\n",
            "230:\tlearn: 0.5079585\ttotal: 2m 7s\tremaining: 38.1s\n",
            "231:\tlearn: 0.5077032\ttotal: 2m 8s\tremaining: 37.5s\n",
            "232:\tlearn: 0.5073772\ttotal: 2m 8s\tremaining: 37s\n",
            "233:\tlearn: 0.5070675\ttotal: 2m 9s\tremaining: 36.4s\n",
            "234:\tlearn: 0.5069570\ttotal: 2m 9s\tremaining: 35.8s\n",
            "235:\tlearn: 0.5064138\ttotal: 2m 10s\tremaining: 35.3s\n",
            "236:\tlearn: 0.5061458\ttotal: 2m 10s\tremaining: 34.7s\n",
            "237:\tlearn: 0.5058818\ttotal: 2m 10s\tremaining: 34.1s\n",
            "238:\tlearn: 0.5054688\ttotal: 2m 11s\tremaining: 33.6s\n",
            "239:\tlearn: 0.5053332\ttotal: 2m 11s\tremaining: 33s\n",
            "240:\tlearn: 0.5051778\ttotal: 2m 12s\tremaining: 32.4s\n",
            "241:\tlearn: 0.5047737\ttotal: 2m 13s\tremaining: 31.9s\n",
            "242:\tlearn: 0.5046667\ttotal: 2m 13s\tremaining: 31.3s\n",
            "243:\tlearn: 0.5037760\ttotal: 2m 14s\tremaining: 30.8s\n",
            "244:\tlearn: 0.5036018\ttotal: 2m 14s\tremaining: 30.2s\n",
            "245:\tlearn: 0.5034171\ttotal: 2m 15s\tremaining: 29.6s\n",
            "246:\tlearn: 0.5033006\ttotal: 2m 15s\tremaining: 29.1s\n",
            "247:\tlearn: 0.5026729\ttotal: 2m 16s\tremaining: 28.5s\n",
            "248:\tlearn: 0.5024177\ttotal: 2m 16s\tremaining: 28s\n",
            "249:\tlearn: 0.5018839\ttotal: 2m 17s\tremaining: 27.4s\n",
            "250:\tlearn: 0.5011580\ttotal: 2m 17s\tremaining: 26.9s\n",
            "251:\tlearn: 0.5010854\ttotal: 2m 18s\tremaining: 26.3s\n",
            "252:\tlearn: 0.5006321\ttotal: 2m 18s\tremaining: 25.8s\n",
            "253:\tlearn: 0.5004908\ttotal: 2m 19s\tremaining: 25.2s\n",
            "254:\tlearn: 0.5003153\ttotal: 2m 19s\tremaining: 24.6s\n",
            "255:\tlearn: 0.5002266\ttotal: 2m 20s\tremaining: 24.1s\n",
            "256:\tlearn: 0.4996901\ttotal: 2m 20s\tremaining: 23.5s\n",
            "257:\tlearn: 0.4995621\ttotal: 2m 21s\tremaining: 23s\n",
            "258:\tlearn: 0.4992971\ttotal: 2m 21s\tremaining: 22.4s\n",
            "259:\tlearn: 0.4986018\ttotal: 2m 22s\tremaining: 21.9s\n",
            "260:\tlearn: 0.4984161\ttotal: 2m 22s\tremaining: 21.3s\n",
            "261:\tlearn: 0.4983429\ttotal: 2m 23s\tremaining: 20.8s\n",
            "262:\tlearn: 0.4978735\ttotal: 2m 23s\tremaining: 20.2s\n",
            "263:\tlearn: 0.4970335\ttotal: 2m 24s\tremaining: 19.7s\n",
            "264:\tlearn: 0.4968041\ttotal: 2m 24s\tremaining: 19.1s\n",
            "265:\tlearn: 0.4965355\ttotal: 2m 25s\tremaining: 18.6s\n",
            "266:\tlearn: 0.4959688\ttotal: 2m 25s\tremaining: 18s\n",
            "267:\tlearn: 0.4955180\ttotal: 2m 26s\tremaining: 17.5s\n",
            "268:\tlearn: 0.4952251\ttotal: 2m 26s\tremaining: 16.9s\n",
            "269:\tlearn: 0.4949720\ttotal: 2m 27s\tremaining: 16.4s\n",
            "270:\tlearn: 0.4948742\ttotal: 2m 27s\tremaining: 15.8s\n",
            "271:\tlearn: 0.4946836\ttotal: 2m 28s\tremaining: 15.3s\n",
            "272:\tlearn: 0.4943056\ttotal: 2m 28s\tremaining: 14.7s\n",
            "273:\tlearn: 0.4941445\ttotal: 2m 29s\tremaining: 14.2s\n",
            "274:\tlearn: 0.4939200\ttotal: 2m 29s\tremaining: 13.6s\n",
            "275:\tlearn: 0.4934676\ttotal: 2m 30s\tremaining: 13.1s\n",
            "276:\tlearn: 0.4931160\ttotal: 2m 30s\tremaining: 12.5s\n",
            "277:\tlearn: 0.4929811\ttotal: 2m 31s\tremaining: 12s\n",
            "278:\tlearn: 0.4922136\ttotal: 2m 31s\tremaining: 11.4s\n",
            "279:\tlearn: 0.4918343\ttotal: 2m 32s\tremaining: 10.9s\n",
            "280:\tlearn: 0.4917122\ttotal: 2m 32s\tremaining: 10.3s\n",
            "281:\tlearn: 0.4914484\ttotal: 2m 33s\tremaining: 9.79s\n",
            "282:\tlearn: 0.4909188\ttotal: 2m 33s\tremaining: 9.25s\n",
            "283:\tlearn: 0.4906563\ttotal: 2m 34s\tremaining: 8.7s\n",
            "284:\tlearn: 0.4904771\ttotal: 2m 34s\tremaining: 8.15s\n",
            "285:\tlearn: 0.4903877\ttotal: 2m 35s\tremaining: 7.61s\n",
            "286:\tlearn: 0.4901526\ttotal: 2m 35s\tremaining: 7.06s\n",
            "287:\tlearn: 0.4898980\ttotal: 2m 36s\tremaining: 6.52s\n",
            "288:\tlearn: 0.4897590\ttotal: 2m 36s\tremaining: 5.97s\n",
            "289:\tlearn: 0.4895501\ttotal: 2m 37s\tremaining: 5.43s\n",
            "290:\tlearn: 0.4889251\ttotal: 2m 38s\tremaining: 4.89s\n",
            "291:\tlearn: 0.4885103\ttotal: 2m 38s\tremaining: 4.34s\n",
            "292:\tlearn: 0.4884312\ttotal: 2m 39s\tremaining: 3.8s\n",
            "293:\tlearn: 0.4881029\ttotal: 2m 39s\tremaining: 3.26s\n",
            "294:\tlearn: 0.4880041\ttotal: 2m 40s\tremaining: 2.71s\n",
            "295:\tlearn: 0.4874942\ttotal: 2m 40s\tremaining: 2.17s\n",
            "296:\tlearn: 0.4871396\ttotal: 2m 41s\tremaining: 1.63s\n",
            "297:\tlearn: 0.4869735\ttotal: 2m 41s\tremaining: 1.08s\n",
            "298:\tlearn: 0.4867528\ttotal: 2m 42s\tremaining: 542ms\n",
            "299:\tlearn: 0.4866131\ttotal: 2m 42s\tremaining: 0us\n"
          ]
        },
        {
          "output_type": "execute_result",
          "data": {
            "text/plain": [
              "<catboost.core.CatBoostClassifier at 0x7f5baec75190>"
            ]
          },
          "metadata": {},
          "execution_count": 65
        }
      ]
    },
    {
      "cell_type": "code",
      "source": [
        "from sklearn.metrics import roc_auc_score\n",
        "\n",
        "print(\"ROC AUC:\", roc_auc_score(df_test.is_duplicate, clf.predict_proba(quora_test_pool)[:,1]))"
      ],
      "metadata": {
        "colab": {
          "base_uri": "https://localhost:8080/"
        },
        "id": "4k5S4WNr5QqB",
        "outputId": "ec03849a-17e9-46c8-abb9-3aebf62ee671"
      },
      "execution_count": null,
      "outputs": [
        {
          "output_type": "stream",
          "name": "stdout",
          "text": [
            "ROC AUC: 0.7765275749118012\n"
          ]
        }
      ]
    },
    {
      "cell_type": "markdown",
      "source": [
        "## In-class practice\n",
        "\n",
        "Pre-process texts in the dataset QuoraQuestionPairs using spaCy,  train CatBoost and evaluate accuracy on test."
      ],
      "metadata": {
        "id": "1GK06e0eC3jo"
      }
    },
    {
      "cell_type": "code",
      "source": [
        "# the code for your reference\n",
        "import spacy\n",
        "nlp = spacy.load(\"en_core_web_sm\", disable=[\"parser\", \"ner\", \"tok2vec\"])\n",
        "\n",
        "def extract_lemmas_q1(r):\n",
        "    return \" \".join([\n",
        "        token.lemma_\n",
        "        for token in nlp(r['question1'])\n",
        "    ])\n",
        "\n",
        "df_train['question1_lemmas'] = df_train.apply(extract_lemmas_q1, axis=1)\n",
        "# df_train['question2_lemmas'] = ... YOUR CODE HERE\n",
        "# YOUR CODE HERE: the same code for test_df\n",
        "\n",
        "# then train CatBoost using 'question1_lemmas' and 'question2_lemmas'\n",
        "# apply on the test dataset"
      ],
      "metadata": {
        "id": "aG_v-z2fDEwd"
      },
      "execution_count": null,
      "outputs": []
    },
    {
      "cell_type": "code",
      "source": [
        "# DEBUG\n",
        "def extract_lemmas(column):\n",
        "    def extract_lemmas_col(r):\n",
        "        return \" \".join([\n",
        "            token.lemma_\n",
        "            for token in nlp(r[column])\n",
        "        ])\n",
        "    return extract_lemmas_col\n",
        "\n",
        "df_train.head().apply(extract_lemmas('question1'), axis=1)"
      ],
      "metadata": {
        "colab": {
          "base_uri": "https://localhost:8080/"
        },
        "id": "4JE6GqquGIKR",
        "outputId": "6f68d922-154b-4aaa-bf59-03a4c2144cb0"
      },
      "execution_count": null,
      "outputs": [
        {
          "output_type": "execute_result",
          "data": {
            "text/plain": [
              "19879               what is the least painful way to die ?\n",
              "7502     is free higher education in germany sustainable ?\n",
              "2745     what is the effect of demonetization of 500 an...\n",
              "12494    is islamic culture friendly with science ficti...\n",
              "6906      which are the top 50 business schools in india ?\n",
              "dtype: object"
            ]
          },
          "metadata": {},
          "execution_count": 77
        }
      ]
    },
    {
      "cell_type": "markdown",
      "source": [
        "# Home Assignment 7\n",
        "\n",
        "In this assignment you are given the following dataset:"
      ],
      "metadata": {
        "id": "sTXZ7j7nCVty"
      }
    },
    {
      "cell_type": "code",
      "source": [
        "import pandas as pd\n",
        "df = pd.read_csv(\"harbour-space-text-mining-course/datasets/content_classification.csv\", header=0, names=[\"text\", \"label\"])\n",
        "df.head()"
      ],
      "metadata": {
        "colab": {
          "base_uri": "https://localhost:8080/",
          "height": 206
        },
        "id": "v_GtzeLTCdIC",
        "outputId": "470433d9-0cb8-4879-eae1-296310941e67"
      },
      "execution_count": 3,
      "outputs": [
        {
          "output_type": "execute_result",
          "data": {
            "text/plain": [
              "                                                text      label\n",
              "0                            I meditated last night.    leisure\n",
              "1  My grandmother start to walk from the bed afte...  affection\n",
              "2  I picked my daughter up from the airport and w...    bonding\n",
              "3        when i received flowers from my best friend    bonding\n",
              "4                                    I went shopping    leisure"
            ],
            "text/html": [
              "\n",
              "  <div id=\"df-626ccb4e-6d6e-428d-ad67-cb41bb746cb0\">\n",
              "    <div class=\"colab-df-container\">\n",
              "      <div>\n",
              "<style scoped>\n",
              "    .dataframe tbody tr th:only-of-type {\n",
              "        vertical-align: middle;\n",
              "    }\n",
              "\n",
              "    .dataframe tbody tr th {\n",
              "        vertical-align: top;\n",
              "    }\n",
              "\n",
              "    .dataframe thead th {\n",
              "        text-align: right;\n",
              "    }\n",
              "</style>\n",
              "<table border=\"1\" class=\"dataframe\">\n",
              "  <thead>\n",
              "    <tr style=\"text-align: right;\">\n",
              "      <th></th>\n",
              "      <th>text</th>\n",
              "      <th>label</th>\n",
              "    </tr>\n",
              "  </thead>\n",
              "  <tbody>\n",
              "    <tr>\n",
              "      <th>0</th>\n",
              "      <td>I meditated last night.</td>\n",
              "      <td>leisure</td>\n",
              "    </tr>\n",
              "    <tr>\n",
              "      <th>1</th>\n",
              "      <td>My grandmother start to walk from the bed afte...</td>\n",
              "      <td>affection</td>\n",
              "    </tr>\n",
              "    <tr>\n",
              "      <th>2</th>\n",
              "      <td>I picked my daughter up from the airport and w...</td>\n",
              "      <td>bonding</td>\n",
              "    </tr>\n",
              "    <tr>\n",
              "      <th>3</th>\n",
              "      <td>when i received flowers from my best friend</td>\n",
              "      <td>bonding</td>\n",
              "    </tr>\n",
              "    <tr>\n",
              "      <th>4</th>\n",
              "      <td>I went shopping</td>\n",
              "      <td>leisure</td>\n",
              "    </tr>\n",
              "  </tbody>\n",
              "</table>\n",
              "</div>\n",
              "      <button class=\"colab-df-convert\" onclick=\"convertToInteractive('df-626ccb4e-6d6e-428d-ad67-cb41bb746cb0')\"\n",
              "              title=\"Convert this dataframe to an interactive table.\"\n",
              "              style=\"display:none;\">\n",
              "        \n",
              "  <svg xmlns=\"http://www.w3.org/2000/svg\" height=\"24px\"viewBox=\"0 0 24 24\"\n",
              "       width=\"24px\">\n",
              "    <path d=\"M0 0h24v24H0V0z\" fill=\"none\"/>\n",
              "    <path d=\"M18.56 5.44l.94 2.06.94-2.06 2.06-.94-2.06-.94-.94-2.06-.94 2.06-2.06.94zm-11 1L8.5 8.5l.94-2.06 2.06-.94-2.06-.94L8.5 2.5l-.94 2.06-2.06.94zm10 10l.94 2.06.94-2.06 2.06-.94-2.06-.94-.94-2.06-.94 2.06-2.06.94z\"/><path d=\"M17.41 7.96l-1.37-1.37c-.4-.4-.92-.59-1.43-.59-.52 0-1.04.2-1.43.59L10.3 9.45l-7.72 7.72c-.78.78-.78 2.05 0 2.83L4 21.41c.39.39.9.59 1.41.59.51 0 1.02-.2 1.41-.59l7.78-7.78 2.81-2.81c.8-.78.8-2.07 0-2.86zM5.41 20L4 18.59l7.72-7.72 1.47 1.35L5.41 20z\"/>\n",
              "  </svg>\n",
              "      </button>\n",
              "      \n",
              "  <style>\n",
              "    .colab-df-container {\n",
              "      display:flex;\n",
              "      flex-wrap:wrap;\n",
              "      gap: 12px;\n",
              "    }\n",
              "\n",
              "    .colab-df-convert {\n",
              "      background-color: #E8F0FE;\n",
              "      border: none;\n",
              "      border-radius: 50%;\n",
              "      cursor: pointer;\n",
              "      display: none;\n",
              "      fill: #1967D2;\n",
              "      height: 32px;\n",
              "      padding: 0 0 0 0;\n",
              "      width: 32px;\n",
              "    }\n",
              "\n",
              "    .colab-df-convert:hover {\n",
              "      background-color: #E2EBFA;\n",
              "      box-shadow: 0px 1px 2px rgba(60, 64, 67, 0.3), 0px 1px 3px 1px rgba(60, 64, 67, 0.15);\n",
              "      fill: #174EA6;\n",
              "    }\n",
              "\n",
              "    [theme=dark] .colab-df-convert {\n",
              "      background-color: #3B4455;\n",
              "      fill: #D2E3FC;\n",
              "    }\n",
              "\n",
              "    [theme=dark] .colab-df-convert:hover {\n",
              "      background-color: #434B5C;\n",
              "      box-shadow: 0px 1px 3px 1px rgba(0, 0, 0, 0.15);\n",
              "      filter: drop-shadow(0px 1px 2px rgba(0, 0, 0, 0.3));\n",
              "      fill: #FFFFFF;\n",
              "    }\n",
              "  </style>\n",
              "\n",
              "      <script>\n",
              "        const buttonEl =\n",
              "          document.querySelector('#df-626ccb4e-6d6e-428d-ad67-cb41bb746cb0 button.colab-df-convert');\n",
              "        buttonEl.style.display =\n",
              "          google.colab.kernel.accessAllowed ? 'block' : 'none';\n",
              "\n",
              "        async function convertToInteractive(key) {\n",
              "          const element = document.querySelector('#df-626ccb4e-6d6e-428d-ad67-cb41bb746cb0');\n",
              "          const dataTable =\n",
              "            await google.colab.kernel.invokeFunction('convertToInteractive',\n",
              "                                                     [key], {});\n",
              "          if (!dataTable) return;\n",
              "\n",
              "          const docLinkHtml = 'Like what you see? Visit the ' +\n",
              "            '<a target=\"_blank\" href=https://colab.research.google.com/notebooks/data_table.ipynb>data table notebook</a>'\n",
              "            + ' to learn more about interactive tables.';\n",
              "          element.innerHTML = '';\n",
              "          dataTable['output_type'] = 'display_data';\n",
              "          await google.colab.output.renderOutput(dataTable, element);\n",
              "          const docLink = document.createElement('div');\n",
              "          docLink.innerHTML = docLinkHtml;\n",
              "          element.appendChild(docLink);\n",
              "        }\n",
              "      </script>\n",
              "    </div>\n",
              "  </div>\n",
              "  "
            ]
          },
          "metadata": {},
          "execution_count": 3
        }
      ]
    },
    {
      "cell_type": "markdown",
      "source": [
        "## Exercise 1 (1 point)\n",
        "In this dataset, each text has a human-readable label instead of numeric label. You need to convert the labels into a vector of numbers (the vector $y$ in our notation). Use `sklearn.preprocessing.LabelEncoder` (see the example below)."
      ],
      "metadata": {
        "id": "QPQNTdlfCh5C"
      }
    },
    {
      "cell_type": "code",
      "source": [
        "# example of LabelEncoder usage\n",
        "from sklearn.preprocessing import LabelEncoder\n",
        "le = LabelEncoder()\n",
        "le.fit([\"paris\", \"paris\", \"tokyo\", \"amsterdam\"])\n",
        "print(f\"le.classes_: {le.classes_}\")\n",
        "print(le.transform([\"tokyo\", \"tokyo\", \"paris\"]))\n",
        "print(list(le.inverse_transform([2, 2, 1])))"
      ],
      "metadata": {
        "colab": {
          "base_uri": "https://localhost:8080/"
        },
        "id": "oY5sCKdwCvRa",
        "outputId": "28daeb3f-d4b7-4e7d-dddb-87fe7e9e8322"
      },
      "execution_count": 4,
      "outputs": [
        {
          "output_type": "stream",
          "name": "stdout",
          "text": [
            "le.classes_: ['amsterdam' 'paris' 'tokyo']\n",
            "[2 2 1]\n",
            "['tokyo', 'tokyo', 'paris']\n"
          ]
        }
      ]
    },
    {
      "cell_type": "code",
      "source": [
        "from sklearn.preprocessing import LabelEncoder\n",
        "\n",
        "# YOUR CODE HERE: create label encoder\n",
        "le = LabelEncoder()\n",
        "\n",
        "# YOUR CODE HERE: fit label encoder\n",
        "le.fit(df['label'])\n",
        "y = le.transform(df['label'])# YOUR CODE HERE: transform the labels"
      ],
      "metadata": {
        "id": "nQG1YEdTC0lP"
      },
      "execution_count": 5,
      "outputs": []
    },
    {
      "cell_type": "markdown",
      "source": [
        "## Exercise 2 (2 points)\n",
        "\n",
        "Train `SGDClassifier` on TF-IDF features (use `TdIdfVectorizer`). Split into train and test (use 20% for test). Choose hyperparameters using random search and evaluate accuracy on train and test."
      ],
      "metadata": {
        "id": "LdICZfzFCkQy"
      }
    },
    {
      "cell_type": "code",
      "source": [
        "from sklearn.feature_extraction.text import TfidfVectorizer\n",
        "from sklearn.linear_model import SGDClassifier\n",
        "from sklearn.model_selection import train_test_split, RandomizedSearchCV\n",
        "from sklearn.metrics import accuracy_score\n",
        "vectorizer = TfidfVectorizer()\n",
        "X = vectorizer.fit_transform(df['text'])\n",
        "X_train, X_test, y_train, y_test = train_test_split(X, y, test_size=0.2)\n",
        "param_grid = {'alpha': [0.001, 0.01, 0.1, 1, 10], 'loss': ['hinge', 'log']}\n",
        "\n",
        "clf = SGDClassifier()\n",
        "search = RandomizedSearchCV(clf, param_grid, n_iter=5)\n",
        "\n",
        "search.fit(X_train, y_train)\n",
        "best_params = search.best_params_\n",
        "\n",
        "train_acc = accuracy_score(y_train, search.predict(X_train))\n",
        "test_acc = accuracy_score(y_test, search.predict(X_test))\n",
        "\n",
        "print('Best hyperparameters:', best_params)\n",
        "print('Train accuracy:', train_acc)\n",
        "print('Test accuracy:', test_acc)\n"
      ],
      "metadata": {
        "id": "mAtiP9DTDugD",
        "colab": {
          "base_uri": "https://localhost:8080/"
        },
        "outputId": "b3485493-4e19-4a5f-aaed-57d7042788eb"
      },
      "execution_count": 6,
      "outputs": [
        {
          "output_type": "stream",
          "name": "stdout",
          "text": [
            "Best hyperparameters: {'loss': 'hinge', 'alpha': 0.001}\n",
            "Train accuracy: 0.805528134254689\n",
            "Test accuracy: 0.7603632056849585\n"
          ]
        }
      ]
    },
    {
      "cell_type": "markdown",
      "source": [
        "## Exercise 3 (3 points)\n",
        "Train CatBooseClassifier on text features. You may use default hyperparameters of CatBoost. Use the same train/test split as in Exercise 2 to evaluate quality."
      ],
      "metadata": {
        "id": "Mb12ATmHCm3L"
      }
    },
    {
      "cell_type": "code",
      "source": [
        "!pip install -q catboost"
      ],
      "metadata": {
        "colab": {
          "base_uri": "https://localhost:8080/"
        },
        "id": "urVv_6TFvGmp",
        "outputId": "a7387902-28f3-40e3-ee23-b86e87c6c97a"
      },
      "execution_count": 9,
      "outputs": [
        {
          "output_type": "stream",
          "name": "stdout",
          "text": [
            "\u001b[2K     \u001b[90m━━━━━━━━━━━━━━━━━━━━━━━━━━━━━━━━━━━━━━━━\u001b[0m \u001b[32m76.6/76.6 MB\u001b[0m \u001b[31m7.7 MB/s\u001b[0m eta \u001b[36m0:00:00\u001b[0m\n",
            "\u001b[?25h"
          ]
        }
      ]
    },
    {
      "cell_type": "code",
      "source": [
        "# YOUR CODE HERE\n",
        "import catboost as cb\n",
        "\n",
        "train_pool = cb.Pool(\n",
        "    X_train,\n",
        "    y_train,\n",
        ")\n",
        "quora_test_pool = cb.Pool(\n",
        "    X_test,\n",
        "    y_test,\n",
        ")\n",
        "clf = cb.CatBoostClassifier(\n",
        "    iterations=300,\n",
        "    dictionaries=[\n",
        "        {'dictionary_id': 'Word', 'min_token_occurence': '5'},\n",
        "        {'dictionary_id': 'BiGram', 'gram_order': '2'},\n",
        "    ],\n",
        ")\n",
        "\n",
        "clf.fit(train_pool)"
      ],
      "metadata": {
        "id": "phRalW5aDxVj",
        "colab": {
          "base_uri": "https://localhost:8080/"
        },
        "outputId": "d8f4b3dc-c2b5-4155-bbf4-0b117654c6fb"
      },
      "execution_count": 11,
      "outputs": [
        {
          "output_type": "stream",
          "name": "stdout",
          "text": [
            "Learning rate set to 0.246287\n",
            "0:\tlearn: 1.5476268\ttotal: 1.98s\tremaining: 9m 51s\n",
            "1:\tlearn: 1.4139234\ttotal: 3.46s\tremaining: 8m 34s\n",
            "2:\tlearn: 1.3129513\ttotal: 4.9s\tremaining: 8m 5s\n",
            "3:\tlearn: 1.2478083\ttotal: 6.07s\tremaining: 7m 28s\n",
            "4:\tlearn: 1.1997869\ttotal: 7.24s\tremaining: 7m 7s\n",
            "5:\tlearn: 1.1560549\ttotal: 8.18s\tremaining: 6m 40s\n",
            "6:\tlearn: 1.1244134\ttotal: 8.88s\tremaining: 6m 11s\n",
            "7:\tlearn: 1.0979238\ttotal: 9.59s\tremaining: 5m 49s\n",
            "8:\tlearn: 1.0806042\ttotal: 10.3s\tremaining: 5m 32s\n",
            "9:\tlearn: 1.0640283\ttotal: 11s\tremaining: 5m 18s\n",
            "10:\tlearn: 1.0439036\ttotal: 11.7s\tremaining: 5m 6s\n",
            "11:\tlearn: 1.0315690\ttotal: 12.4s\tremaining: 4m 56s\n",
            "12:\tlearn: 1.0204577\ttotal: 13s\tremaining: 4m 48s\n",
            "13:\tlearn: 1.0097664\ttotal: 13.7s\tremaining: 4m 40s\n",
            "14:\tlearn: 0.9964882\ttotal: 14.5s\tremaining: 4m 34s\n",
            "15:\tlearn: 0.9855724\ttotal: 15.1s\tremaining: 4m 28s\n",
            "16:\tlearn: 0.9767205\ttotal: 15.8s\tremaining: 4m 23s\n",
            "17:\tlearn: 0.9666610\ttotal: 16.6s\tremaining: 4m 19s\n",
            "18:\tlearn: 0.9563402\ttotal: 17.3s\tremaining: 4m 15s\n",
            "19:\tlearn: 0.9471333\ttotal: 18s\tremaining: 4m 11s\n",
            "20:\tlearn: 0.9384136\ttotal: 18.7s\tremaining: 4m 8s\n",
            "21:\tlearn: 0.9322901\ttotal: 19.4s\tremaining: 4m 4s\n",
            "22:\tlearn: 0.9256698\ttotal: 20.1s\tremaining: 4m 1s\n",
            "23:\tlearn: 0.9187687\ttotal: 20.8s\tremaining: 3m 58s\n",
            "24:\tlearn: 0.9115404\ttotal: 21.5s\tremaining: 3m 56s\n",
            "25:\tlearn: 0.9055852\ttotal: 22.1s\tremaining: 3m 53s\n",
            "26:\tlearn: 0.8963381\ttotal: 22.9s\tremaining: 3m 51s\n",
            "27:\tlearn: 0.8892016\ttotal: 23.6s\tremaining: 3m 49s\n",
            "28:\tlearn: 0.8833000\ttotal: 24.3s\tremaining: 3m 46s\n",
            "29:\tlearn: 0.8787026\ttotal: 25s\tremaining: 3m 44s\n",
            "30:\tlearn: 0.8732762\ttotal: 25.7s\tremaining: 3m 42s\n",
            "31:\tlearn: 0.8692583\ttotal: 26.7s\tremaining: 3m 43s\n",
            "32:\tlearn: 0.8650335\ttotal: 27.8s\tremaining: 3m 44s\n",
            "33:\tlearn: 0.8590824\ttotal: 29s\tremaining: 3m 46s\n",
            "34:\tlearn: 0.8538006\ttotal: 30.3s\tremaining: 3m 49s\n",
            "35:\tlearn: 0.8482754\ttotal: 31.6s\tremaining: 3m 51s\n",
            "36:\tlearn: 0.8432732\ttotal: 32.8s\tremaining: 3m 53s\n",
            "37:\tlearn: 0.8370890\ttotal: 34s\tremaining: 3m 54s\n",
            "38:\tlearn: 0.8326310\ttotal: 35.2s\tremaining: 3m 55s\n",
            "39:\tlearn: 0.8251419\ttotal: 36.5s\tremaining: 3m 57s\n",
            "40:\tlearn: 0.8208106\ttotal: 37.7s\tremaining: 3m 57s\n",
            "41:\tlearn: 0.8165568\ttotal: 38.8s\tremaining: 3m 58s\n",
            "42:\tlearn: 0.8116765\ttotal: 40s\tremaining: 3m 59s\n",
            "43:\tlearn: 0.8063356\ttotal: 41.5s\tremaining: 4m 1s\n",
            "44:\tlearn: 0.8018446\ttotal: 42.7s\tremaining: 4m 1s\n",
            "45:\tlearn: 0.7972572\ttotal: 44.1s\tremaining: 4m 3s\n",
            "46:\tlearn: 0.7919643\ttotal: 45.3s\tremaining: 4m 3s\n",
            "47:\tlearn: 0.7861255\ttotal: 46.5s\tremaining: 4m 4s\n",
            "48:\tlearn: 0.7821643\ttotal: 47.7s\tremaining: 4m 4s\n",
            "49:\tlearn: 0.7785143\ttotal: 49s\tremaining: 4m 5s\n",
            "50:\tlearn: 0.7737708\ttotal: 50.2s\tremaining: 4m 5s\n",
            "51:\tlearn: 0.7692764\ttotal: 51.6s\tremaining: 4m 5s\n",
            "52:\tlearn: 0.7658793\ttotal: 52.7s\tremaining: 4m 5s\n",
            "53:\tlearn: 0.7626046\ttotal: 53.9s\tremaining: 4m 5s\n",
            "54:\tlearn: 0.7576879\ttotal: 55s\tremaining: 4m 5s\n",
            "55:\tlearn: 0.7536356\ttotal: 56.2s\tremaining: 4m 4s\n",
            "56:\tlearn: 0.7493365\ttotal: 57.6s\tremaining: 4m 5s\n",
            "57:\tlearn: 0.7467336\ttotal: 58.5s\tremaining: 4m 4s\n",
            "58:\tlearn: 0.7437409\ttotal: 59.2s\tremaining: 4m 2s\n",
            "59:\tlearn: 0.7379047\ttotal: 60s\tremaining: 3m 59s\n",
            "60:\tlearn: 0.7354876\ttotal: 1m\tremaining: 3m 57s\n",
            "61:\tlearn: 0.7318547\ttotal: 1m 1s\tremaining: 3m 55s\n",
            "62:\tlearn: 0.7293493\ttotal: 1m 2s\tremaining: 3m 53s\n",
            "63:\tlearn: 0.7266776\ttotal: 1m 2s\tremaining: 3m 51s\n",
            "64:\tlearn: 0.7239131\ttotal: 1m 3s\tremaining: 3m 49s\n",
            "65:\tlearn: 0.7221684\ttotal: 1m 4s\tremaining: 3m 47s\n",
            "66:\tlearn: 0.7197053\ttotal: 1m 4s\tremaining: 3m 45s\n",
            "67:\tlearn: 0.7181238\ttotal: 1m 5s\tremaining: 3m 43s\n",
            "68:\tlearn: 0.7157197\ttotal: 1m 6s\tremaining: 3m 41s\n",
            "69:\tlearn: 0.7127111\ttotal: 1m 6s\tremaining: 3m 39s\n",
            "70:\tlearn: 0.7101764\ttotal: 1m 7s\tremaining: 3m 38s\n",
            "71:\tlearn: 0.7071846\ttotal: 1m 8s\tremaining: 3m 36s\n",
            "72:\tlearn: 0.7058240\ttotal: 1m 9s\tremaining: 3m 35s\n",
            "73:\tlearn: 0.7040264\ttotal: 1m 10s\tremaining: 3m 36s\n",
            "74:\tlearn: 0.7003562\ttotal: 1m 12s\tremaining: 3m 37s\n",
            "75:\tlearn: 0.6979893\ttotal: 1m 13s\tremaining: 3m 37s\n",
            "76:\tlearn: 0.6961969\ttotal: 1m 15s\tremaining: 3m 37s\n",
            "77:\tlearn: 0.6949235\ttotal: 1m 16s\tremaining: 3m 37s\n",
            "78:\tlearn: 0.6934629\ttotal: 1m 17s\tremaining: 3m 37s\n",
            "79:\tlearn: 0.6915892\ttotal: 1m 18s\tremaining: 3m 35s\n",
            "80:\tlearn: 0.6889918\ttotal: 1m 19s\tremaining: 3m 33s\n",
            "81:\tlearn: 0.6882228\ttotal: 1m 19s\tremaining: 3m 32s\n",
            "82:\tlearn: 0.6873049\ttotal: 1m 21s\tremaining: 3m 32s\n",
            "83:\tlearn: 0.6854531\ttotal: 1m 22s\tremaining: 3m 32s\n",
            "84:\tlearn: 0.6839253\ttotal: 1m 24s\tremaining: 3m 32s\n",
            "85:\tlearn: 0.6825764\ttotal: 1m 25s\tremaining: 3m 33s\n",
            "86:\tlearn: 0.6807660\ttotal: 1m 27s\tremaining: 3m 34s\n",
            "87:\tlearn: 0.6791997\ttotal: 1m 29s\tremaining: 3m 34s\n",
            "88:\tlearn: 0.6785617\ttotal: 1m 30s\tremaining: 3m 34s\n",
            "89:\tlearn: 0.6770520\ttotal: 1m 31s\tremaining: 3m 33s\n",
            "90:\tlearn: 0.6748058\ttotal: 1m 32s\tremaining: 3m 33s\n",
            "91:\tlearn: 0.6737748\ttotal: 1m 33s\tremaining: 3m 32s\n",
            "92:\tlearn: 0.6727315\ttotal: 1m 34s\tremaining: 3m 31s\n",
            "93:\tlearn: 0.6694341\ttotal: 1m 36s\tremaining: 3m 30s\n",
            "94:\tlearn: 0.6680286\ttotal: 1m 38s\tremaining: 3m 31s\n",
            "95:\tlearn: 0.6670964\ttotal: 1m 40s\tremaining: 3m 32s\n",
            "96:\tlearn: 0.6652182\ttotal: 1m 41s\tremaining: 3m 33s\n",
            "97:\tlearn: 0.6635146\ttotal: 1m 42s\tremaining: 3m 31s\n",
            "98:\tlearn: 0.6623517\ttotal: 1m 43s\tremaining: 3m 29s\n",
            "99:\tlearn: 0.6617465\ttotal: 1m 43s\tremaining: 3m 27s\n",
            "100:\tlearn: 0.6604531\ttotal: 1m 44s\tremaining: 3m 26s\n",
            "101:\tlearn: 0.6597188\ttotal: 1m 45s\tremaining: 3m 24s\n",
            "102:\tlearn: 0.6577916\ttotal: 1m 45s\tremaining: 3m 22s\n",
            "103:\tlearn: 0.6565292\ttotal: 1m 46s\tremaining: 3m 20s\n",
            "104:\tlearn: 0.6556734\ttotal: 1m 47s\tremaining: 3m 19s\n",
            "105:\tlearn: 0.6554380\ttotal: 1m 47s\tremaining: 3m 17s\n",
            "106:\tlearn: 0.6546119\ttotal: 1m 48s\tremaining: 3m 16s\n",
            "107:\tlearn: 0.6539990\ttotal: 1m 49s\tremaining: 3m 14s\n",
            "108:\tlearn: 0.6531933\ttotal: 1m 50s\tremaining: 3m 12s\n",
            "109:\tlearn: 0.6501607\ttotal: 1m 50s\tremaining: 3m 11s\n",
            "110:\tlearn: 0.6497691\ttotal: 1m 51s\tremaining: 3m 9s\n",
            "111:\tlearn: 0.6489853\ttotal: 1m 52s\tremaining: 3m 8s\n",
            "112:\tlearn: 0.6479494\ttotal: 1m 52s\tremaining: 3m 6s\n",
            "113:\tlearn: 0.6470155\ttotal: 1m 53s\tremaining: 3m 5s\n",
            "114:\tlearn: 0.6461507\ttotal: 1m 54s\tremaining: 3m 4s\n",
            "115:\tlearn: 0.6455332\ttotal: 1m 55s\tremaining: 3m 3s\n",
            "116:\tlearn: 0.6438198\ttotal: 1m 56s\tremaining: 3m 2s\n",
            "117:\tlearn: 0.6429139\ttotal: 1m 57s\tremaining: 3m 1s\n",
            "118:\tlearn: 0.6413875\ttotal: 1m 58s\tremaining: 2m 59s\n",
            "119:\tlearn: 0.6406971\ttotal: 1m 58s\tremaining: 2m 58s\n",
            "120:\tlearn: 0.6395761\ttotal: 1m 59s\tremaining: 2m 56s\n",
            "121:\tlearn: 0.6378213\ttotal: 2m\tremaining: 2m 55s\n",
            "122:\tlearn: 0.6365874\ttotal: 2m\tremaining: 2m 54s\n",
            "123:\tlearn: 0.6355980\ttotal: 2m 1s\tremaining: 2m 52s\n",
            "124:\tlearn: 0.6351176\ttotal: 2m 2s\tremaining: 2m 51s\n",
            "125:\tlearn: 0.6346568\ttotal: 2m 3s\tremaining: 2m 49s\n",
            "126:\tlearn: 0.6342861\ttotal: 2m 3s\tremaining: 2m 48s\n",
            "127:\tlearn: 0.6332594\ttotal: 2m 5s\tremaining: 2m 48s\n",
            "128:\tlearn: 0.6323270\ttotal: 2m 6s\tremaining: 2m 47s\n",
            "129:\tlearn: 0.6308278\ttotal: 2m 6s\tremaining: 2m 46s\n",
            "130:\tlearn: 0.6297594\ttotal: 2m 7s\tremaining: 2m 44s\n",
            "131:\tlearn: 0.6289121\ttotal: 2m 8s\tremaining: 2m 43s\n",
            "132:\tlearn: 0.6284112\ttotal: 2m 9s\tremaining: 2m 41s\n",
            "133:\tlearn: 0.6272930\ttotal: 2m 9s\tremaining: 2m 40s\n",
            "134:\tlearn: 0.6267099\ttotal: 2m 10s\tremaining: 2m 39s\n",
            "135:\tlearn: 0.6260310\ttotal: 2m 11s\tremaining: 2m 38s\n",
            "136:\tlearn: 0.6255842\ttotal: 2m 11s\tremaining: 2m 36s\n",
            "137:\tlearn: 0.6248229\ttotal: 2m 12s\tremaining: 2m 35s\n",
            "138:\tlearn: 0.6243963\ttotal: 2m 13s\tremaining: 2m 34s\n",
            "139:\tlearn: 0.6230117\ttotal: 2m 13s\tremaining: 2m 33s\n",
            "140:\tlearn: 0.6225047\ttotal: 2m 14s\tremaining: 2m 31s\n",
            "141:\tlearn: 0.6220754\ttotal: 2m 15s\tremaining: 2m 30s\n",
            "142:\tlearn: 0.6214294\ttotal: 2m 15s\tremaining: 2m 29s\n",
            "143:\tlearn: 0.6206999\ttotal: 2m 16s\tremaining: 2m 28s\n",
            "144:\tlearn: 0.6193261\ttotal: 2m 17s\tremaining: 2m 26s\n",
            "145:\tlearn: 0.6189914\ttotal: 2m 18s\tremaining: 2m 25s\n",
            "146:\tlearn: 0.6187274\ttotal: 2m 18s\tremaining: 2m 24s\n",
            "147:\tlearn: 0.6183310\ttotal: 2m 19s\tremaining: 2m 23s\n",
            "148:\tlearn: 0.6176838\ttotal: 2m 20s\tremaining: 2m 21s\n",
            "149:\tlearn: 0.6172294\ttotal: 2m 20s\tremaining: 2m 20s\n",
            "150:\tlearn: 0.6166584\ttotal: 2m 21s\tremaining: 2m 19s\n",
            "151:\tlearn: 0.6161408\ttotal: 2m 22s\tremaining: 2m 18s\n",
            "152:\tlearn: 0.6158649\ttotal: 2m 22s\tremaining: 2m 17s\n",
            "153:\tlearn: 0.6154765\ttotal: 2m 23s\tremaining: 2m 16s\n",
            "154:\tlearn: 0.6152175\ttotal: 2m 24s\tremaining: 2m 14s\n",
            "155:\tlearn: 0.6147599\ttotal: 2m 24s\tremaining: 2m 13s\n",
            "156:\tlearn: 0.6143911\ttotal: 2m 25s\tremaining: 2m 12s\n",
            "157:\tlearn: 0.6140521\ttotal: 2m 26s\tremaining: 2m 11s\n",
            "158:\tlearn: 0.6137784\ttotal: 2m 26s\tremaining: 2m 10s\n",
            "159:\tlearn: 0.6136711\ttotal: 2m 27s\tremaining: 2m 9s\n",
            "160:\tlearn: 0.6135186\ttotal: 2m 28s\tremaining: 2m 8s\n",
            "161:\tlearn: 0.6131906\ttotal: 2m 29s\tremaining: 2m 6s\n",
            "162:\tlearn: 0.6124824\ttotal: 2m 29s\tremaining: 2m 5s\n",
            "163:\tlearn: 0.6112389\ttotal: 2m 30s\tremaining: 2m 4s\n",
            "164:\tlearn: 0.6107802\ttotal: 2m 31s\tremaining: 2m 3s\n",
            "165:\tlearn: 0.6102443\ttotal: 2m 31s\tremaining: 2m 2s\n",
            "166:\tlearn: 0.6099494\ttotal: 2m 32s\tremaining: 2m 1s\n",
            "167:\tlearn: 0.6098594\ttotal: 2m 32s\tremaining: 2m\n",
            "168:\tlearn: 0.6094004\ttotal: 2m 33s\tremaining: 1m 59s\n",
            "169:\tlearn: 0.6090831\ttotal: 2m 34s\tremaining: 1m 58s\n",
            "170:\tlearn: 0.6073333\ttotal: 2m 35s\tremaining: 1m 57s\n",
            "171:\tlearn: 0.6071383\ttotal: 2m 35s\tremaining: 1m 55s\n",
            "172:\tlearn: 0.6061324\ttotal: 2m 36s\tremaining: 1m 54s\n",
            "173:\tlearn: 0.6058962\ttotal: 2m 37s\tremaining: 1m 53s\n",
            "174:\tlearn: 0.6045029\ttotal: 2m 37s\tremaining: 1m 52s\n",
            "175:\tlearn: 0.6032596\ttotal: 2m 38s\tremaining: 1m 51s\n",
            "176:\tlearn: 0.6029815\ttotal: 2m 39s\tremaining: 1m 50s\n",
            "177:\tlearn: 0.6024132\ttotal: 2m 40s\tremaining: 1m 49s\n",
            "178:\tlearn: 0.6021860\ttotal: 2m 40s\tremaining: 1m 48s\n",
            "179:\tlearn: 0.6011412\ttotal: 2m 41s\tremaining: 1m 47s\n",
            "180:\tlearn: 0.6007115\ttotal: 2m 42s\tremaining: 1m 46s\n",
            "181:\tlearn: 0.6005302\ttotal: 2m 42s\tremaining: 1m 45s\n",
            "182:\tlearn: 0.6003913\ttotal: 2m 43s\tremaining: 1m 44s\n",
            "183:\tlearn: 0.5997585\ttotal: 2m 44s\tremaining: 1m 43s\n",
            "184:\tlearn: 0.5994225\ttotal: 2m 44s\tremaining: 1m 42s\n",
            "185:\tlearn: 0.5990116\ttotal: 2m 45s\tremaining: 1m 41s\n",
            "186:\tlearn: 0.5988164\ttotal: 2m 46s\tremaining: 1m 40s\n",
            "187:\tlearn: 0.5983711\ttotal: 2m 46s\tremaining: 1m 39s\n",
            "188:\tlearn: 0.5978970\ttotal: 2m 47s\tremaining: 1m 38s\n",
            "189:\tlearn: 0.5977945\ttotal: 2m 48s\tremaining: 1m 37s\n",
            "190:\tlearn: 0.5975565\ttotal: 2m 48s\tremaining: 1m 36s\n",
            "191:\tlearn: 0.5972425\ttotal: 2m 49s\tremaining: 1m 35s\n",
            "192:\tlearn: 0.5967363\ttotal: 2m 50s\tremaining: 1m 34s\n",
            "193:\tlearn: 0.5966780\ttotal: 2m 51s\tremaining: 1m 33s\n",
            "194:\tlearn: 0.5961009\ttotal: 2m 51s\tremaining: 1m 32s\n",
            "195:\tlearn: 0.5952128\ttotal: 2m 52s\tremaining: 1m 31s\n",
            "196:\tlearn: 0.5949316\ttotal: 2m 53s\tremaining: 1m 30s\n",
            "197:\tlearn: 0.5946244\ttotal: 2m 53s\tremaining: 1m 29s\n",
            "198:\tlearn: 0.5945150\ttotal: 2m 54s\tremaining: 1m 28s\n",
            "199:\tlearn: 0.5942813\ttotal: 2m 55s\tremaining: 1m 27s\n",
            "200:\tlearn: 0.5939721\ttotal: 2m 55s\tremaining: 1m 26s\n",
            "201:\tlearn: 0.5937505\ttotal: 2m 56s\tremaining: 1m 25s\n",
            "202:\tlearn: 0.5935881\ttotal: 2m 57s\tremaining: 1m 24s\n",
            "203:\tlearn: 0.5925455\ttotal: 2m 57s\tremaining: 1m 23s\n",
            "204:\tlearn: 0.5923507\ttotal: 2m 58s\tremaining: 1m 22s\n",
            "205:\tlearn: 0.5913754\ttotal: 2m 59s\tremaining: 1m 21s\n",
            "206:\tlearn: 0.5911840\ttotal: 2m 59s\tremaining: 1m 20s\n",
            "207:\tlearn: 0.5909997\ttotal: 3m\tremaining: 1m 19s\n",
            "208:\tlearn: 0.5906445\ttotal: 3m 1s\tremaining: 1m 18s\n",
            "209:\tlearn: 0.5899551\ttotal: 3m 2s\tremaining: 1m 18s\n",
            "210:\tlearn: 0.5897757\ttotal: 3m 2s\tremaining: 1m 17s\n",
            "211:\tlearn: 0.5889954\ttotal: 3m 3s\tremaining: 1m 16s\n",
            "212:\tlearn: 0.5885243\ttotal: 3m 4s\tremaining: 1m 15s\n",
            "213:\tlearn: 0.5878561\ttotal: 3m 4s\tremaining: 1m 14s\n",
            "214:\tlearn: 0.5874915\ttotal: 3m 5s\tremaining: 1m 13s\n",
            "215:\tlearn: 0.5854488\ttotal: 3m 6s\tremaining: 1m 12s\n",
            "216:\tlearn: 0.5852360\ttotal: 3m 6s\tremaining: 1m 11s\n",
            "217:\tlearn: 0.5850992\ttotal: 3m 7s\tremaining: 1m 10s\n",
            "218:\tlearn: 0.5849804\ttotal: 3m 8s\tremaining: 1m 9s\n",
            "219:\tlearn: 0.5844466\ttotal: 3m 8s\tremaining: 1m 8s\n",
            "220:\tlearn: 0.5843300\ttotal: 3m 9s\tremaining: 1m 7s\n",
            "221:\tlearn: 0.5840844\ttotal: 3m 10s\tremaining: 1m 6s\n",
            "222:\tlearn: 0.5835007\ttotal: 3m 11s\tremaining: 1m 5s\n",
            "223:\tlearn: 0.5833962\ttotal: 3m 11s\tremaining: 1m 5s\n",
            "224:\tlearn: 0.5828417\ttotal: 3m 12s\tremaining: 1m 4s\n",
            "225:\tlearn: 0.5827414\ttotal: 3m 13s\tremaining: 1m 3s\n",
            "226:\tlearn: 0.5820089\ttotal: 3m 13s\tremaining: 1m 2s\n",
            "227:\tlearn: 0.5816693\ttotal: 3m 14s\tremaining: 1m 1s\n",
            "228:\tlearn: 0.5814734\ttotal: 3m 15s\tremaining: 1m\n",
            "229:\tlearn: 0.5811475\ttotal: 3m 15s\tremaining: 59.6s\n",
            "230:\tlearn: 0.5805594\ttotal: 3m 16s\tremaining: 58.7s\n",
            "231:\tlearn: 0.5800400\ttotal: 3m 17s\tremaining: 57.8s\n",
            "232:\tlearn: 0.5798060\ttotal: 3m 17s\tremaining: 56.9s\n",
            "233:\tlearn: 0.5795575\ttotal: 3m 18s\tremaining: 56s\n",
            "234:\tlearn: 0.5787307\ttotal: 3m 19s\tremaining: 55.1s\n",
            "235:\tlearn: 0.5776906\ttotal: 3m 20s\tremaining: 54.2s\n",
            "236:\tlearn: 0.5774484\ttotal: 3m 20s\tremaining: 53.3s\n",
            "237:\tlearn: 0.5769894\ttotal: 3m 21s\tremaining: 52.5s\n",
            "238:\tlearn: 0.5767029\ttotal: 3m 22s\tremaining: 51.6s\n",
            "239:\tlearn: 0.5761489\ttotal: 3m 22s\tremaining: 50.7s\n",
            "240:\tlearn: 0.5758467\ttotal: 3m 23s\tremaining: 49.8s\n",
            "241:\tlearn: 0.5756750\ttotal: 3m 24s\tremaining: 49.1s\n",
            "242:\tlearn: 0.5755449\ttotal: 3m 25s\tremaining: 48.2s\n",
            "243:\tlearn: 0.5754360\ttotal: 3m 26s\tremaining: 47.4s\n",
            "244:\tlearn: 0.5753210\ttotal: 3m 27s\tremaining: 46.6s\n",
            "245:\tlearn: 0.5750289\ttotal: 3m 29s\tremaining: 46s\n",
            "246:\tlearn: 0.5748577\ttotal: 3m 30s\tremaining: 45.2s\n",
            "247:\tlearn: 0.5738899\ttotal: 3m 31s\tremaining: 44.3s\n",
            "248:\tlearn: 0.5735666\ttotal: 3m 32s\tremaining: 43.5s\n",
            "249:\tlearn: 0.5733059\ttotal: 3m 33s\tremaining: 42.7s\n",
            "250:\tlearn: 0.5726844\ttotal: 3m 34s\tremaining: 41.8s\n",
            "251:\tlearn: 0.5724332\ttotal: 3m 34s\tremaining: 40.9s\n",
            "252:\tlearn: 0.5721933\ttotal: 3m 35s\tremaining: 40s\n",
            "253:\tlearn: 0.5720050\ttotal: 3m 36s\tremaining: 39.1s\n",
            "254:\tlearn: 0.5717540\ttotal: 3m 36s\tremaining: 38.3s\n",
            "255:\tlearn: 0.5715539\ttotal: 3m 37s\tremaining: 37.4s\n",
            "256:\tlearn: 0.5708271\ttotal: 3m 38s\tremaining: 36.5s\n",
            "257:\tlearn: 0.5706389\ttotal: 3m 38s\tremaining: 35.6s\n",
            "258:\tlearn: 0.5705190\ttotal: 3m 39s\tremaining: 34.8s\n",
            "259:\tlearn: 0.5703472\ttotal: 3m 40s\tremaining: 33.9s\n",
            "260:\tlearn: 0.5700602\ttotal: 3m 40s\tremaining: 33s\n",
            "261:\tlearn: 0.5698838\ttotal: 3m 41s\tremaining: 32.1s\n",
            "262:\tlearn: 0.5695841\ttotal: 3m 42s\tremaining: 31.3s\n",
            "263:\tlearn: 0.5690774\ttotal: 3m 42s\tremaining: 30.4s\n",
            "264:\tlearn: 0.5689529\ttotal: 3m 43s\tremaining: 29.5s\n",
            "265:\tlearn: 0.5687854\ttotal: 3m 44s\tremaining: 28.7s\n",
            "266:\tlearn: 0.5683813\ttotal: 3m 45s\tremaining: 27.8s\n",
            "267:\tlearn: 0.5682089\ttotal: 3m 45s\tremaining: 26.9s\n",
            "268:\tlearn: 0.5680393\ttotal: 3m 46s\tremaining: 26.1s\n",
            "269:\tlearn: 0.5676476\ttotal: 3m 47s\tremaining: 25.2s\n",
            "270:\tlearn: 0.5674630\ttotal: 3m 47s\tremaining: 24.4s\n",
            "271:\tlearn: 0.5669576\ttotal: 3m 48s\tremaining: 23.5s\n",
            "272:\tlearn: 0.5667518\ttotal: 3m 49s\tremaining: 22.7s\n",
            "273:\tlearn: 0.5663446\ttotal: 3m 49s\tremaining: 21.8s\n",
            "274:\tlearn: 0.5660384\ttotal: 3m 50s\tremaining: 21s\n",
            "275:\tlearn: 0.5659006\ttotal: 3m 51s\tremaining: 20.1s\n",
            "276:\tlearn: 0.5654653\ttotal: 3m 51s\tremaining: 19.3s\n",
            "277:\tlearn: 0.5653096\ttotal: 3m 52s\tremaining: 18.4s\n",
            "278:\tlearn: 0.5651250\ttotal: 3m 53s\tremaining: 17.6s\n",
            "279:\tlearn: 0.5648902\ttotal: 3m 53s\tremaining: 16.7s\n",
            "280:\tlearn: 0.5647068\ttotal: 3m 54s\tremaining: 15.9s\n",
            "281:\tlearn: 0.5639893\ttotal: 3m 55s\tremaining: 15s\n",
            "282:\tlearn: 0.5629635\ttotal: 3m 56s\tremaining: 14.2s\n",
            "283:\tlearn: 0.5628071\ttotal: 3m 56s\tremaining: 13.3s\n",
            "284:\tlearn: 0.5624146\ttotal: 3m 57s\tremaining: 12.5s\n",
            "285:\tlearn: 0.5622298\ttotal: 3m 58s\tremaining: 11.7s\n",
            "286:\tlearn: 0.5621163\ttotal: 3m 58s\tremaining: 10.8s\n",
            "287:\tlearn: 0.5619457\ttotal: 3m 59s\tremaining: 9.98s\n",
            "288:\tlearn: 0.5612136\ttotal: 4m\tremaining: 9.14s\n",
            "289:\tlearn: 0.5610899\ttotal: 4m\tremaining: 8.31s\n",
            "290:\tlearn: 0.5605185\ttotal: 4m 1s\tremaining: 7.47s\n",
            "291:\tlearn: 0.5602490\ttotal: 4m 2s\tremaining: 6.64s\n",
            "292:\tlearn: 0.5599007\ttotal: 4m 2s\tremaining: 5.8s\n",
            "293:\tlearn: 0.5597958\ttotal: 4m 3s\tremaining: 4.97s\n",
            "294:\tlearn: 0.5596896\ttotal: 4m 4s\tremaining: 4.14s\n",
            "295:\tlearn: 0.5594436\ttotal: 4m 5s\tremaining: 3.31s\n",
            "296:\tlearn: 0.5593112\ttotal: 4m 5s\tremaining: 2.48s\n",
            "297:\tlearn: 0.5592353\ttotal: 4m 6s\tremaining: 1.65s\n",
            "298:\tlearn: 0.5591493\ttotal: 4m 7s\tremaining: 826ms\n",
            "299:\tlearn: 0.5590131\ttotal: 4m 7s\tremaining: 0us\n"
          ]
        },
        {
          "output_type": "execute_result",
          "data": {
            "text/plain": [
              "<catboost.core.CatBoostClassifier at 0x7fde9a9eb580>"
            ]
          },
          "metadata": {},
          "execution_count": 11
        }
      ]
    },
    {
      "cell_type": "code",
      "source": [
        "train_acc = accuracy_score(y_train, clf.predict(X_train))\n",
        "test_acc = accuracy_score(y_test, clf.predict(X_test))\n",
        "\n",
        "print('Train accuracy:', train_acc)\n",
        "print('Test accuracy:', test_acc)"
      ],
      "metadata": {
        "colab": {
          "base_uri": "https://localhost:8080/"
        },
        "id": "oyZnHD6XuxXp",
        "outputId": "54ae6a11-e294-45da-e7ce-37d1cdf98d48"
      },
      "execution_count": 12,
      "outputs": [
        {
          "output_type": "stream",
          "name": "stdout",
          "text": [
            "Train accuracy: 0.8267522211253702\n",
            "Test accuracy: 0.7773391235688907\n"
          ]
        }
      ]
    },
    {
      "cell_type": "markdown",
      "source": [
        "**The accuracy has increased when Catboost is used**"
      ],
      "metadata": {
        "id": "ZTGhat_KwX9h"
      }
    },
    {
      "cell_type": "code",
      "source": [],
      "metadata": {
        "id": "Z2NOLOfvwTA4"
      },
      "execution_count": null,
      "outputs": []
    }
  ],
  "metadata": {
    "colab": {
      "provenance": [],
      "toc_visible": true,
      "include_colab_link": true
    },
    "kernelspec": {
      "display_name": "Python 3",
      "name": "python3"
    },
    "widgets": {
      "application/vnd.jupyter.widget-state+json": {
        "9b3cb38641174b8b96cc03f3c4e9926c": {
          "model_module": "@jupyter-widgets/controls",
          "model_name": "HBoxModel",
          "model_module_version": "1.5.0",
          "state": {
            "_dom_classes": [],
            "_model_module": "@jupyter-widgets/controls",
            "_model_module_version": "1.5.0",
            "_model_name": "HBoxModel",
            "_view_count": null,
            "_view_module": "@jupyter-widgets/controls",
            "_view_module_version": "1.5.0",
            "_view_name": "HBoxView",
            "box_style": "",
            "children": [
              "IPY_MODEL_ae694ed9b0e44b7283c5d227da57d40b",
              "IPY_MODEL_0943416d28d6454eb5d75ca285ebbb7b",
              "IPY_MODEL_efad32d33edd4cddb081244adc7557e7"
            ],
            "layout": "IPY_MODEL_227fe954797a4b57878b1ec2e5ac141a"
          }
        },
        "ae694ed9b0e44b7283c5d227da57d40b": {
          "model_module": "@jupyter-widgets/controls",
          "model_name": "HTMLModel",
          "model_module_version": "1.5.0",
          "state": {
            "_dom_classes": [],
            "_model_module": "@jupyter-widgets/controls",
            "_model_module_version": "1.5.0",
            "_model_name": "HTMLModel",
            "_view_count": null,
            "_view_module": "@jupyter-widgets/controls",
            "_view_module_version": "1.5.0",
            "_view_name": "HTMLView",
            "description": "",
            "description_tooltip": null,
            "layout": "IPY_MODEL_a66e17da265f4de9a41256d85932ba94",
            "placeholder": "​",
            "style": "IPY_MODEL_5bb0387209fa4107b135737b6d90f3af",
            "value": "100%"
          }
        },
        "0943416d28d6454eb5d75ca285ebbb7b": {
          "model_module": "@jupyter-widgets/controls",
          "model_name": "FloatProgressModel",
          "model_module_version": "1.5.0",
          "state": {
            "_dom_classes": [],
            "_model_module": "@jupyter-widgets/controls",
            "_model_module_version": "1.5.0",
            "_model_name": "FloatProgressModel",
            "_view_count": null,
            "_view_module": "@jupyter-widgets/controls",
            "_view_module_version": "1.5.0",
            "_view_name": "ProgressView",
            "bar_style": "success",
            "description": "",
            "description_tooltip": null,
            "layout": "IPY_MODEL_fcf9175078ae4b5fa5d72a00b42f8d3e",
            "max": 43074,
            "min": 0,
            "orientation": "horizontal",
            "style": "IPY_MODEL_5d3cc34d84054c5a805ea2fe3415ae29",
            "value": 43074
          }
        },
        "efad32d33edd4cddb081244adc7557e7": {
          "model_module": "@jupyter-widgets/controls",
          "model_name": "HTMLModel",
          "model_module_version": "1.5.0",
          "state": {
            "_dom_classes": [],
            "_model_module": "@jupyter-widgets/controls",
            "_model_module_version": "1.5.0",
            "_model_name": "HTMLModel",
            "_view_count": null,
            "_view_module": "@jupyter-widgets/controls",
            "_view_module_version": "1.5.0",
            "_view_name": "HTMLView",
            "description": "",
            "description_tooltip": null,
            "layout": "IPY_MODEL_afcb2391451d465dbca63b07fc0ecc91",
            "placeholder": "​",
            "style": "IPY_MODEL_f52643ee91d64940a99e96d460271a5d",
            "value": " 43074/43074 [00:00&lt;00:00, 105974.43it/s]"
          }
        },
        "227fe954797a4b57878b1ec2e5ac141a": {
          "model_module": "@jupyter-widgets/base",
          "model_name": "LayoutModel",
          "model_module_version": "1.2.0",
          "state": {
            "_model_module": "@jupyter-widgets/base",
            "_model_module_version": "1.2.0",
            "_model_name": "LayoutModel",
            "_view_count": null,
            "_view_module": "@jupyter-widgets/base",
            "_view_module_version": "1.2.0",
            "_view_name": "LayoutView",
            "align_content": null,
            "align_items": null,
            "align_self": null,
            "border": null,
            "bottom": null,
            "display": null,
            "flex": null,
            "flex_flow": null,
            "grid_area": null,
            "grid_auto_columns": null,
            "grid_auto_flow": null,
            "grid_auto_rows": null,
            "grid_column": null,
            "grid_gap": null,
            "grid_row": null,
            "grid_template_areas": null,
            "grid_template_columns": null,
            "grid_template_rows": null,
            "height": null,
            "justify_content": null,
            "justify_items": null,
            "left": null,
            "margin": null,
            "max_height": null,
            "max_width": null,
            "min_height": null,
            "min_width": null,
            "object_fit": null,
            "object_position": null,
            "order": null,
            "overflow": null,
            "overflow_x": null,
            "overflow_y": null,
            "padding": null,
            "right": null,
            "top": null,
            "visibility": null,
            "width": null
          }
        },
        "a66e17da265f4de9a41256d85932ba94": {
          "model_module": "@jupyter-widgets/base",
          "model_name": "LayoutModel",
          "model_module_version": "1.2.0",
          "state": {
            "_model_module": "@jupyter-widgets/base",
            "_model_module_version": "1.2.0",
            "_model_name": "LayoutModel",
            "_view_count": null,
            "_view_module": "@jupyter-widgets/base",
            "_view_module_version": "1.2.0",
            "_view_name": "LayoutView",
            "align_content": null,
            "align_items": null,
            "align_self": null,
            "border": null,
            "bottom": null,
            "display": null,
            "flex": null,
            "flex_flow": null,
            "grid_area": null,
            "grid_auto_columns": null,
            "grid_auto_flow": null,
            "grid_auto_rows": null,
            "grid_column": null,
            "grid_gap": null,
            "grid_row": null,
            "grid_template_areas": null,
            "grid_template_columns": null,
            "grid_template_rows": null,
            "height": null,
            "justify_content": null,
            "justify_items": null,
            "left": null,
            "margin": null,
            "max_height": null,
            "max_width": null,
            "min_height": null,
            "min_width": null,
            "object_fit": null,
            "object_position": null,
            "order": null,
            "overflow": null,
            "overflow_x": null,
            "overflow_y": null,
            "padding": null,
            "right": null,
            "top": null,
            "visibility": null,
            "width": null
          }
        },
        "5bb0387209fa4107b135737b6d90f3af": {
          "model_module": "@jupyter-widgets/controls",
          "model_name": "DescriptionStyleModel",
          "model_module_version": "1.5.0",
          "state": {
            "_model_module": "@jupyter-widgets/controls",
            "_model_module_version": "1.5.0",
            "_model_name": "DescriptionStyleModel",
            "_view_count": null,
            "_view_module": "@jupyter-widgets/base",
            "_view_module_version": "1.2.0",
            "_view_name": "StyleView",
            "description_width": ""
          }
        },
        "fcf9175078ae4b5fa5d72a00b42f8d3e": {
          "model_module": "@jupyter-widgets/base",
          "model_name": "LayoutModel",
          "model_module_version": "1.2.0",
          "state": {
            "_model_module": "@jupyter-widgets/base",
            "_model_module_version": "1.2.0",
            "_model_name": "LayoutModel",
            "_view_count": null,
            "_view_module": "@jupyter-widgets/base",
            "_view_module_version": "1.2.0",
            "_view_name": "LayoutView",
            "align_content": null,
            "align_items": null,
            "align_self": null,
            "border": null,
            "bottom": null,
            "display": null,
            "flex": null,
            "flex_flow": null,
            "grid_area": null,
            "grid_auto_columns": null,
            "grid_auto_flow": null,
            "grid_auto_rows": null,
            "grid_column": null,
            "grid_gap": null,
            "grid_row": null,
            "grid_template_areas": null,
            "grid_template_columns": null,
            "grid_template_rows": null,
            "height": null,
            "justify_content": null,
            "justify_items": null,
            "left": null,
            "margin": null,
            "max_height": null,
            "max_width": null,
            "min_height": null,
            "min_width": null,
            "object_fit": null,
            "object_position": null,
            "order": null,
            "overflow": null,
            "overflow_x": null,
            "overflow_y": null,
            "padding": null,
            "right": null,
            "top": null,
            "visibility": null,
            "width": null
          }
        },
        "5d3cc34d84054c5a805ea2fe3415ae29": {
          "model_module": "@jupyter-widgets/controls",
          "model_name": "ProgressStyleModel",
          "model_module_version": "1.5.0",
          "state": {
            "_model_module": "@jupyter-widgets/controls",
            "_model_module_version": "1.5.0",
            "_model_name": "ProgressStyleModel",
            "_view_count": null,
            "_view_module": "@jupyter-widgets/base",
            "_view_module_version": "1.2.0",
            "_view_name": "StyleView",
            "bar_color": null,
            "description_width": ""
          }
        },
        "afcb2391451d465dbca63b07fc0ecc91": {
          "model_module": "@jupyter-widgets/base",
          "model_name": "LayoutModel",
          "model_module_version": "1.2.0",
          "state": {
            "_model_module": "@jupyter-widgets/base",
            "_model_module_version": "1.2.0",
            "_model_name": "LayoutModel",
            "_view_count": null,
            "_view_module": "@jupyter-widgets/base",
            "_view_module_version": "1.2.0",
            "_view_name": "LayoutView",
            "align_content": null,
            "align_items": null,
            "align_self": null,
            "border": null,
            "bottom": null,
            "display": null,
            "flex": null,
            "flex_flow": null,
            "grid_area": null,
            "grid_auto_columns": null,
            "grid_auto_flow": null,
            "grid_auto_rows": null,
            "grid_column": null,
            "grid_gap": null,
            "grid_row": null,
            "grid_template_areas": null,
            "grid_template_columns": null,
            "grid_template_rows": null,
            "height": null,
            "justify_content": null,
            "justify_items": null,
            "left": null,
            "margin": null,
            "max_height": null,
            "max_width": null,
            "min_height": null,
            "min_width": null,
            "object_fit": null,
            "object_position": null,
            "order": null,
            "overflow": null,
            "overflow_x": null,
            "overflow_y": null,
            "padding": null,
            "right": null,
            "top": null,
            "visibility": null,
            "width": null
          }
        },
        "f52643ee91d64940a99e96d460271a5d": {
          "model_module": "@jupyter-widgets/controls",
          "model_name": "DescriptionStyleModel",
          "model_module_version": "1.5.0",
          "state": {
            "_model_module": "@jupyter-widgets/controls",
            "_model_module_version": "1.5.0",
            "_model_name": "DescriptionStyleModel",
            "_view_count": null,
            "_view_module": "@jupyter-widgets/base",
            "_view_module_version": "1.2.0",
            "_view_name": "StyleView",
            "description_width": ""
          }
        },
        "363072641bd141b68d7c1a9d4a25446d": {
          "model_module": "@jupyter-widgets/controls",
          "model_name": "VBoxModel",
          "model_module_version": "1.5.0",
          "state": {
            "_dom_classes": [],
            "_model_module": "@jupyter-widgets/controls",
            "_model_module_version": "1.5.0",
            "_model_name": "VBoxModel",
            "_view_count": null,
            "_view_module": "@jupyter-widgets/controls",
            "_view_module_version": "1.5.0",
            "_view_name": "VBoxView",
            "box_style": "",
            "children": [
              "IPY_MODEL_f64870b50fe44c949134149fd01fe9ca",
              "IPY_MODEL_885fd02a797a4595ab9578e9475f089d",
              "IPY_MODEL_3962d88a3b044e7e92600ef1ad85ee51",
              "IPY_MODEL_5168c85140eb4eca888523880ddf6624"
            ],
            "layout": "IPY_MODEL_a4471bd8d81444df8f4a6a845be6c130"
          }
        },
        "f64870b50fe44c949134149fd01fe9ca": {
          "model_module": "@jupyter-widgets/output",
          "model_name": "OutputModel",
          "model_module_version": "1.0.0",
          "state": {
            "_dom_classes": [],
            "_model_module": "@jupyter-widgets/output",
            "_model_module_version": "1.0.0",
            "_model_name": "OutputModel",
            "_view_count": null,
            "_view_module": "@jupyter-widgets/output",
            "_view_module_version": "1.0.0",
            "_view_name": "OutputView",
            "layout": "IPY_MODEL_e9caf40f2a414b4f9c928eaba163c1f7",
            "msg_id": "",
            "outputs": [
              {
                "output_type": "display_data",
                "data": {
                  "text/plain": "HTMLMath(value='Consider the collection $D$ containing 3 documents')",
                  "application/vnd.jupyter.widget-view+json": {
                    "version_major": 2,
                    "version_minor": 0,
                    "model_id": "613a63f606a2445f97fdaddbc09c7292"
                  }
                },
                "metadata": {}
              },
              {
                "output_type": "display_data",
                "data": {
                  "text/plain": "HTMLMath(value='1. $d_1$ = \"If you tell the truth you don\\'t have to remember anything.\"')",
                  "application/vnd.jupyter.widget-view+json": {
                    "version_major": 2,
                    "version_minor": 0,
                    "model_id": "6907c4298fa040718fc909bd1144a1b4"
                  }
                },
                "metadata": {}
              },
              {
                "output_type": "display_data",
                "data": {
                  "text/plain": "HTMLMath(value='2. $d_2$ = \"If you don\\'t read the newspaper, you\\'re uninformed. If you read the newspaper, y…",
                  "application/vnd.jupyter.widget-view+json": {
                    "version_major": 2,
                    "version_minor": 0,
                    "model_id": "52f5c3970a3040e68fb9981ec2df7fd0"
                  }
                },
                "metadata": {}
              },
              {
                "output_type": "display_data",
                "data": {
                  "text/plain": "HTMLMath(value='3. $d_3$ = \"A lie can travel half way around the world while the truth is putting on its shoes…",
                  "application/vnd.jupyter.widget-view+json": {
                    "version_major": 2,
                    "version_minor": 0,
                    "model_id": "661485268fd746fa9b44b6f01f752ccf"
                  }
                },
                "metadata": {}
              },
              {
                "output_type": "display_data",
                "data": {
                  "text/plain": "HTMLMath(value=\"Compute $$TFIDF(\\\\mathrm{''If''}, d_1, D)$$\")",
                  "application/vnd.jupyter.widget-view+json": {
                    "version_major": 2,
                    "version_minor": 0,
                    "model_id": "27a43974ba4e44fbb96a03bbce61cdbd"
                  }
                },
                "metadata": {}
              }
            ]
          }
        },
        "885fd02a797a4595ab9578e9475f089d": {
          "model_module": "@jupyter-widgets/controls",
          "model_name": "RadioButtonsModel",
          "model_module_version": "1.5.0",
          "state": {
            "_dom_classes": [],
            "_model_module": "@jupyter-widgets/controls",
            "_model_module_version": "1.5.0",
            "_model_name": "RadioButtonsModel",
            "_options_labels": [
              "2.2",
              "0.81",
              "0.405",
              "1.5"
            ],
            "_view_count": null,
            "_view_module": "@jupyter-widgets/controls",
            "_view_module_version": "1.5.0",
            "_view_name": "RadioButtonsView",
            "description": "",
            "description_tooltip": null,
            "disabled": false,
            "index": 0,
            "layout": "IPY_MODEL_34e5759261274cfdbcd540a0139c937e",
            "style": "IPY_MODEL_c41acfca50684dcc9f69aa44da531fe2"
          }
        },
        "3962d88a3b044e7e92600ef1ad85ee51": {
          "model_module": "@jupyter-widgets/controls",
          "model_name": "HTMLModel",
          "model_module_version": "1.5.0",
          "state": {
            "_dom_classes": [],
            "_model_module": "@jupyter-widgets/controls",
            "_model_module_version": "1.5.0",
            "_model_name": "HTMLModel",
            "_view_count": null,
            "_view_module": "@jupyter-widgets/controls",
            "_view_module_version": "1.5.0",
            "_view_name": "HTMLView",
            "description": "",
            "description_tooltip": null,
            "layout": "IPY_MODEL_ce81643eff114709babbcc60ce599df2",
            "placeholder": "​",
            "style": "IPY_MODEL_dd122c0fab184bdfa0a6b7a5d341aed0",
            "value": "<br>"
          }
        },
        "5168c85140eb4eca888523880ddf6624": {
          "model_module": "@jupyter-widgets/controls",
          "model_name": "ButtonModel",
          "model_module_version": "1.5.0",
          "state": {
            "_dom_classes": [],
            "_model_module": "@jupyter-widgets/controls",
            "_model_module_version": "1.5.0",
            "_model_name": "ButtonModel",
            "_view_count": null,
            "_view_module": "@jupyter-widgets/controls",
            "_view_module_version": "1.5.0",
            "_view_name": "ButtonView",
            "button_style": "",
            "description": "Check",
            "disabled": false,
            "icon": "",
            "layout": "IPY_MODEL_7aaf30ff0d944044bff8803e8b10910b",
            "style": "IPY_MODEL_cb2f32ecb8ae455a873df2743130f835",
            "tooltip": ""
          }
        },
        "a4471bd8d81444df8f4a6a845be6c130": {
          "model_module": "@jupyter-widgets/base",
          "model_name": "LayoutModel",
          "model_module_version": "1.2.0",
          "state": {
            "_model_module": "@jupyter-widgets/base",
            "_model_module_version": "1.2.0",
            "_model_name": "LayoutModel",
            "_view_count": null,
            "_view_module": "@jupyter-widgets/base",
            "_view_module_version": "1.2.0",
            "_view_name": "LayoutView",
            "align_content": null,
            "align_items": null,
            "align_self": null,
            "border": null,
            "bottom": null,
            "display": null,
            "flex": null,
            "flex_flow": null,
            "grid_area": null,
            "grid_auto_columns": null,
            "grid_auto_flow": null,
            "grid_auto_rows": null,
            "grid_column": null,
            "grid_gap": null,
            "grid_row": null,
            "grid_template_areas": null,
            "grid_template_columns": null,
            "grid_template_rows": null,
            "height": null,
            "justify_content": null,
            "justify_items": null,
            "left": null,
            "margin": null,
            "max_height": null,
            "max_width": null,
            "min_height": null,
            "min_width": null,
            "object_fit": null,
            "object_position": null,
            "order": null,
            "overflow": null,
            "overflow_x": null,
            "overflow_y": null,
            "padding": null,
            "right": null,
            "top": null,
            "visibility": null,
            "width": null
          }
        },
        "34e5759261274cfdbcd540a0139c937e": {
          "model_module": "@jupyter-widgets/base",
          "model_name": "LayoutModel",
          "model_module_version": "1.2.0",
          "state": {
            "_model_module": "@jupyter-widgets/base",
            "_model_module_version": "1.2.0",
            "_model_name": "LayoutModel",
            "_view_count": null,
            "_view_module": "@jupyter-widgets/base",
            "_view_module_version": "1.2.0",
            "_view_name": "LayoutView",
            "align_content": null,
            "align_items": null,
            "align_self": null,
            "border": null,
            "bottom": null,
            "display": null,
            "flex": null,
            "flex_flow": null,
            "grid_area": null,
            "grid_auto_columns": null,
            "grid_auto_flow": null,
            "grid_auto_rows": null,
            "grid_column": null,
            "grid_gap": null,
            "grid_row": null,
            "grid_template_areas": null,
            "grid_template_columns": null,
            "grid_template_rows": null,
            "height": null,
            "justify_content": null,
            "justify_items": null,
            "left": null,
            "margin": null,
            "max_height": null,
            "max_width": null,
            "min_height": null,
            "min_width": null,
            "object_fit": null,
            "object_position": null,
            "order": null,
            "overflow": null,
            "overflow_x": null,
            "overflow_y": null,
            "padding": null,
            "right": null,
            "top": null,
            "visibility": null,
            "width": null
          }
        },
        "c41acfca50684dcc9f69aa44da531fe2": {
          "model_module": "@jupyter-widgets/controls",
          "model_name": "DescriptionStyleModel",
          "model_module_version": "1.5.0",
          "state": {
            "_model_module": "@jupyter-widgets/controls",
            "_model_module_version": "1.5.0",
            "_model_name": "DescriptionStyleModel",
            "_view_count": null,
            "_view_module": "@jupyter-widgets/base",
            "_view_module_version": "1.2.0",
            "_view_name": "StyleView",
            "description_width": ""
          }
        },
        "ce81643eff114709babbcc60ce599df2": {
          "model_module": "@jupyter-widgets/base",
          "model_name": "LayoutModel",
          "model_module_version": "1.2.0",
          "state": {
            "_model_module": "@jupyter-widgets/base",
            "_model_module_version": "1.2.0",
            "_model_name": "LayoutModel",
            "_view_count": null,
            "_view_module": "@jupyter-widgets/base",
            "_view_module_version": "1.2.0",
            "_view_name": "LayoutView",
            "align_content": null,
            "align_items": null,
            "align_self": null,
            "border": null,
            "bottom": null,
            "display": null,
            "flex": null,
            "flex_flow": null,
            "grid_area": null,
            "grid_auto_columns": null,
            "grid_auto_flow": null,
            "grid_auto_rows": null,
            "grid_column": null,
            "grid_gap": null,
            "grid_row": null,
            "grid_template_areas": null,
            "grid_template_columns": null,
            "grid_template_rows": null,
            "height": null,
            "justify_content": null,
            "justify_items": null,
            "left": null,
            "margin": null,
            "max_height": null,
            "max_width": null,
            "min_height": null,
            "min_width": null,
            "object_fit": null,
            "object_position": null,
            "order": null,
            "overflow": null,
            "overflow_x": null,
            "overflow_y": null,
            "padding": null,
            "right": null,
            "top": null,
            "visibility": null,
            "width": null
          }
        },
        "dd122c0fab184bdfa0a6b7a5d341aed0": {
          "model_module": "@jupyter-widgets/controls",
          "model_name": "DescriptionStyleModel",
          "model_module_version": "1.5.0",
          "state": {
            "_model_module": "@jupyter-widgets/controls",
            "_model_module_version": "1.5.0",
            "_model_name": "DescriptionStyleModel",
            "_view_count": null,
            "_view_module": "@jupyter-widgets/base",
            "_view_module_version": "1.2.0",
            "_view_name": "StyleView",
            "description_width": ""
          }
        },
        "7aaf30ff0d944044bff8803e8b10910b": {
          "model_module": "@jupyter-widgets/base",
          "model_name": "LayoutModel",
          "model_module_version": "1.2.0",
          "state": {
            "_model_module": "@jupyter-widgets/base",
            "_model_module_version": "1.2.0",
            "_model_name": "LayoutModel",
            "_view_count": null,
            "_view_module": "@jupyter-widgets/base",
            "_view_module_version": "1.2.0",
            "_view_name": "LayoutView",
            "align_content": null,
            "align_items": null,
            "align_self": null,
            "border": null,
            "bottom": null,
            "display": null,
            "flex": null,
            "flex_flow": null,
            "grid_area": null,
            "grid_auto_columns": null,
            "grid_auto_flow": null,
            "grid_auto_rows": null,
            "grid_column": null,
            "grid_gap": null,
            "grid_row": null,
            "grid_template_areas": null,
            "grid_template_columns": null,
            "grid_template_rows": null,
            "height": null,
            "justify_content": null,
            "justify_items": null,
            "left": null,
            "margin": null,
            "max_height": null,
            "max_width": null,
            "min_height": null,
            "min_width": null,
            "object_fit": null,
            "object_position": null,
            "order": null,
            "overflow": null,
            "overflow_x": null,
            "overflow_y": null,
            "padding": null,
            "right": null,
            "top": null,
            "visibility": null,
            "width": null
          }
        },
        "cb2f32ecb8ae455a873df2743130f835": {
          "model_module": "@jupyter-widgets/controls",
          "model_name": "ButtonStyleModel",
          "model_module_version": "1.5.0",
          "state": {
            "_model_module": "@jupyter-widgets/controls",
            "_model_module_version": "1.5.0",
            "_model_name": "ButtonStyleModel",
            "_view_count": null,
            "_view_module": "@jupyter-widgets/base",
            "_view_module_version": "1.2.0",
            "_view_name": "StyleView",
            "button_color": null,
            "font_weight": ""
          }
        },
        "613a63f606a2445f97fdaddbc09c7292": {
          "model_module": "@jupyter-widgets/controls",
          "model_name": "HTMLMathModel",
          "model_module_version": "1.5.0",
          "state": {
            "_dom_classes": [],
            "_model_module": "@jupyter-widgets/controls",
            "_model_module_version": "1.5.0",
            "_model_name": "HTMLMathModel",
            "_view_count": null,
            "_view_module": "@jupyter-widgets/controls",
            "_view_module_version": "1.5.0",
            "_view_name": "HTMLMathView",
            "description": "",
            "description_tooltip": null,
            "layout": "IPY_MODEL_bb97dbc0d5bf467b833be9f70a453a40",
            "placeholder": "​",
            "style": "IPY_MODEL_4e425a24cb654693b550b71f9a2aaa08",
            "value": "Consider the collection $D$ containing 3 documents"
          }
        },
        "e9caf40f2a414b4f9c928eaba163c1f7": {
          "model_module": "@jupyter-widgets/base",
          "model_name": "LayoutModel",
          "model_module_version": "1.2.0",
          "state": {
            "_model_module": "@jupyter-widgets/base",
            "_model_module_version": "1.2.0",
            "_model_name": "LayoutModel",
            "_view_count": null,
            "_view_module": "@jupyter-widgets/base",
            "_view_module_version": "1.2.0",
            "_view_name": "LayoutView",
            "align_content": null,
            "align_items": null,
            "align_self": null,
            "border": null,
            "bottom": null,
            "display": null,
            "flex": null,
            "flex_flow": null,
            "grid_area": null,
            "grid_auto_columns": null,
            "grid_auto_flow": null,
            "grid_auto_rows": null,
            "grid_column": null,
            "grid_gap": null,
            "grid_row": null,
            "grid_template_areas": null,
            "grid_template_columns": null,
            "grid_template_rows": null,
            "height": null,
            "justify_content": null,
            "justify_items": null,
            "left": null,
            "margin": null,
            "max_height": null,
            "max_width": null,
            "min_height": null,
            "min_width": null,
            "object_fit": null,
            "object_position": null,
            "order": null,
            "overflow": null,
            "overflow_x": null,
            "overflow_y": null,
            "padding": null,
            "right": null,
            "top": null,
            "visibility": null,
            "width": null
          }
        },
        "bb97dbc0d5bf467b833be9f70a453a40": {
          "model_module": "@jupyter-widgets/base",
          "model_name": "LayoutModel",
          "model_module_version": "1.2.0",
          "state": {
            "_model_module": "@jupyter-widgets/base",
            "_model_module_version": "1.2.0",
            "_model_name": "LayoutModel",
            "_view_count": null,
            "_view_module": "@jupyter-widgets/base",
            "_view_module_version": "1.2.0",
            "_view_name": "LayoutView",
            "align_content": null,
            "align_items": null,
            "align_self": null,
            "border": null,
            "bottom": null,
            "display": null,
            "flex": null,
            "flex_flow": null,
            "grid_area": null,
            "grid_auto_columns": null,
            "grid_auto_flow": null,
            "grid_auto_rows": null,
            "grid_column": null,
            "grid_gap": null,
            "grid_row": null,
            "grid_template_areas": null,
            "grid_template_columns": null,
            "grid_template_rows": null,
            "height": null,
            "justify_content": null,
            "justify_items": null,
            "left": null,
            "margin": null,
            "max_height": null,
            "max_width": null,
            "min_height": null,
            "min_width": null,
            "object_fit": null,
            "object_position": null,
            "order": null,
            "overflow": null,
            "overflow_x": null,
            "overflow_y": null,
            "padding": null,
            "right": null,
            "top": null,
            "visibility": null,
            "width": null
          }
        },
        "4e425a24cb654693b550b71f9a2aaa08": {
          "model_module": "@jupyter-widgets/controls",
          "model_name": "DescriptionStyleModel",
          "model_module_version": "1.5.0",
          "state": {
            "_model_module": "@jupyter-widgets/controls",
            "_model_module_version": "1.5.0",
            "_model_name": "DescriptionStyleModel",
            "_view_count": null,
            "_view_module": "@jupyter-widgets/base",
            "_view_module_version": "1.2.0",
            "_view_name": "StyleView",
            "description_width": ""
          }
        },
        "6907c4298fa040718fc909bd1144a1b4": {
          "model_module": "@jupyter-widgets/controls",
          "model_name": "HTMLMathModel",
          "model_module_version": "1.5.0",
          "state": {
            "_dom_classes": [],
            "_model_module": "@jupyter-widgets/controls",
            "_model_module_version": "1.5.0",
            "_model_name": "HTMLMathModel",
            "_view_count": null,
            "_view_module": "@jupyter-widgets/controls",
            "_view_module_version": "1.5.0",
            "_view_name": "HTMLMathView",
            "description": "",
            "description_tooltip": null,
            "layout": "IPY_MODEL_8592445cf8ac47798ad924e1bf00234d",
            "placeholder": "​",
            "style": "IPY_MODEL_4b6624fe82be4cb5b04e1ca290cca3a4",
            "value": "1. $d_1$ = \"If you tell the truth you don't have to remember anything.\""
          }
        },
        "8592445cf8ac47798ad924e1bf00234d": {
          "model_module": "@jupyter-widgets/base",
          "model_name": "LayoutModel",
          "model_module_version": "1.2.0",
          "state": {
            "_model_module": "@jupyter-widgets/base",
            "_model_module_version": "1.2.0",
            "_model_name": "LayoutModel",
            "_view_count": null,
            "_view_module": "@jupyter-widgets/base",
            "_view_module_version": "1.2.0",
            "_view_name": "LayoutView",
            "align_content": null,
            "align_items": null,
            "align_self": null,
            "border": null,
            "bottom": null,
            "display": null,
            "flex": null,
            "flex_flow": null,
            "grid_area": null,
            "grid_auto_columns": null,
            "grid_auto_flow": null,
            "grid_auto_rows": null,
            "grid_column": null,
            "grid_gap": null,
            "grid_row": null,
            "grid_template_areas": null,
            "grid_template_columns": null,
            "grid_template_rows": null,
            "height": null,
            "justify_content": null,
            "justify_items": null,
            "left": null,
            "margin": null,
            "max_height": null,
            "max_width": null,
            "min_height": null,
            "min_width": null,
            "object_fit": null,
            "object_position": null,
            "order": null,
            "overflow": null,
            "overflow_x": null,
            "overflow_y": null,
            "padding": null,
            "right": null,
            "top": null,
            "visibility": null,
            "width": null
          }
        },
        "4b6624fe82be4cb5b04e1ca290cca3a4": {
          "model_module": "@jupyter-widgets/controls",
          "model_name": "DescriptionStyleModel",
          "model_module_version": "1.5.0",
          "state": {
            "_model_module": "@jupyter-widgets/controls",
            "_model_module_version": "1.5.0",
            "_model_name": "DescriptionStyleModel",
            "_view_count": null,
            "_view_module": "@jupyter-widgets/base",
            "_view_module_version": "1.2.0",
            "_view_name": "StyleView",
            "description_width": ""
          }
        },
        "52f5c3970a3040e68fb9981ec2df7fd0": {
          "model_module": "@jupyter-widgets/controls",
          "model_name": "HTMLMathModel",
          "model_module_version": "1.5.0",
          "state": {
            "_dom_classes": [],
            "_model_module": "@jupyter-widgets/controls",
            "_model_module_version": "1.5.0",
            "_model_name": "HTMLMathModel",
            "_view_count": null,
            "_view_module": "@jupyter-widgets/controls",
            "_view_module_version": "1.5.0",
            "_view_name": "HTMLMathView",
            "description": "",
            "description_tooltip": null,
            "layout": "IPY_MODEL_cc6304b7b749481d9fd5d3d6eeee5450",
            "placeholder": "​",
            "style": "IPY_MODEL_bca3d13c01ec4e18baf5d7cf763d976c",
            "value": "2. $d_2$ = \"If you don't read the newspaper, you're uninformed. If you read the newspaper, you're misinformed.\""
          }
        },
        "cc6304b7b749481d9fd5d3d6eeee5450": {
          "model_module": "@jupyter-widgets/base",
          "model_name": "LayoutModel",
          "model_module_version": "1.2.0",
          "state": {
            "_model_module": "@jupyter-widgets/base",
            "_model_module_version": "1.2.0",
            "_model_name": "LayoutModel",
            "_view_count": null,
            "_view_module": "@jupyter-widgets/base",
            "_view_module_version": "1.2.0",
            "_view_name": "LayoutView",
            "align_content": null,
            "align_items": null,
            "align_self": null,
            "border": null,
            "bottom": null,
            "display": null,
            "flex": null,
            "flex_flow": null,
            "grid_area": null,
            "grid_auto_columns": null,
            "grid_auto_flow": null,
            "grid_auto_rows": null,
            "grid_column": null,
            "grid_gap": null,
            "grid_row": null,
            "grid_template_areas": null,
            "grid_template_columns": null,
            "grid_template_rows": null,
            "height": null,
            "justify_content": null,
            "justify_items": null,
            "left": null,
            "margin": null,
            "max_height": null,
            "max_width": null,
            "min_height": null,
            "min_width": null,
            "object_fit": null,
            "object_position": null,
            "order": null,
            "overflow": null,
            "overflow_x": null,
            "overflow_y": null,
            "padding": null,
            "right": null,
            "top": null,
            "visibility": null,
            "width": null
          }
        },
        "bca3d13c01ec4e18baf5d7cf763d976c": {
          "model_module": "@jupyter-widgets/controls",
          "model_name": "DescriptionStyleModel",
          "model_module_version": "1.5.0",
          "state": {
            "_model_module": "@jupyter-widgets/controls",
            "_model_module_version": "1.5.0",
            "_model_name": "DescriptionStyleModel",
            "_view_count": null,
            "_view_module": "@jupyter-widgets/base",
            "_view_module_version": "1.2.0",
            "_view_name": "StyleView",
            "description_width": ""
          }
        },
        "661485268fd746fa9b44b6f01f752ccf": {
          "model_module": "@jupyter-widgets/controls",
          "model_name": "HTMLMathModel",
          "model_module_version": "1.5.0",
          "state": {
            "_dom_classes": [],
            "_model_module": "@jupyter-widgets/controls",
            "_model_module_version": "1.5.0",
            "_model_name": "HTMLMathModel",
            "_view_count": null,
            "_view_module": "@jupyter-widgets/controls",
            "_view_module_version": "1.5.0",
            "_view_name": "HTMLMathView",
            "description": "",
            "description_tooltip": null,
            "layout": "IPY_MODEL_60b2472048574947879bedb5f75b2ff3",
            "placeholder": "​",
            "style": "IPY_MODEL_7540d34c1bc347c680a82b1859fa9daa",
            "value": "3. $d_3$ = \"A lie can travel half way around the world while the truth is putting on its shoes.\""
          }
        },
        "60b2472048574947879bedb5f75b2ff3": {
          "model_module": "@jupyter-widgets/base",
          "model_name": "LayoutModel",
          "model_module_version": "1.2.0",
          "state": {
            "_model_module": "@jupyter-widgets/base",
            "_model_module_version": "1.2.0",
            "_model_name": "LayoutModel",
            "_view_count": null,
            "_view_module": "@jupyter-widgets/base",
            "_view_module_version": "1.2.0",
            "_view_name": "LayoutView",
            "align_content": null,
            "align_items": null,
            "align_self": null,
            "border": null,
            "bottom": null,
            "display": null,
            "flex": null,
            "flex_flow": null,
            "grid_area": null,
            "grid_auto_columns": null,
            "grid_auto_flow": null,
            "grid_auto_rows": null,
            "grid_column": null,
            "grid_gap": null,
            "grid_row": null,
            "grid_template_areas": null,
            "grid_template_columns": null,
            "grid_template_rows": null,
            "height": null,
            "justify_content": null,
            "justify_items": null,
            "left": null,
            "margin": null,
            "max_height": null,
            "max_width": null,
            "min_height": null,
            "min_width": null,
            "object_fit": null,
            "object_position": null,
            "order": null,
            "overflow": null,
            "overflow_x": null,
            "overflow_y": null,
            "padding": null,
            "right": null,
            "top": null,
            "visibility": null,
            "width": null
          }
        },
        "7540d34c1bc347c680a82b1859fa9daa": {
          "model_module": "@jupyter-widgets/controls",
          "model_name": "DescriptionStyleModel",
          "model_module_version": "1.5.0",
          "state": {
            "_model_module": "@jupyter-widgets/controls",
            "_model_module_version": "1.5.0",
            "_model_name": "DescriptionStyleModel",
            "_view_count": null,
            "_view_module": "@jupyter-widgets/base",
            "_view_module_version": "1.2.0",
            "_view_name": "StyleView",
            "description_width": ""
          }
        },
        "27a43974ba4e44fbb96a03bbce61cdbd": {
          "model_module": "@jupyter-widgets/controls",
          "model_name": "HTMLMathModel",
          "model_module_version": "1.5.0",
          "state": {
            "_dom_classes": [],
            "_model_module": "@jupyter-widgets/controls",
            "_model_module_version": "1.5.0",
            "_model_name": "HTMLMathModel",
            "_view_count": null,
            "_view_module": "@jupyter-widgets/controls",
            "_view_module_version": "1.5.0",
            "_view_name": "HTMLMathView",
            "description": "",
            "description_tooltip": null,
            "layout": "IPY_MODEL_9ad8006cb6194bb8b9641ceb092c1f43",
            "placeholder": "​",
            "style": "IPY_MODEL_951ccfff484b49b591e0bbaecf128256",
            "value": "Compute $$TFIDF(\\mathrm{''If''}, d_1, D)$$"
          }
        },
        "9ad8006cb6194bb8b9641ceb092c1f43": {
          "model_module": "@jupyter-widgets/base",
          "model_name": "LayoutModel",
          "model_module_version": "1.2.0",
          "state": {
            "_model_module": "@jupyter-widgets/base",
            "_model_module_version": "1.2.0",
            "_model_name": "LayoutModel",
            "_view_count": null,
            "_view_module": "@jupyter-widgets/base",
            "_view_module_version": "1.2.0",
            "_view_name": "LayoutView",
            "align_content": null,
            "align_items": null,
            "align_self": null,
            "border": null,
            "bottom": null,
            "display": null,
            "flex": null,
            "flex_flow": null,
            "grid_area": null,
            "grid_auto_columns": null,
            "grid_auto_flow": null,
            "grid_auto_rows": null,
            "grid_column": null,
            "grid_gap": null,
            "grid_row": null,
            "grid_template_areas": null,
            "grid_template_columns": null,
            "grid_template_rows": null,
            "height": null,
            "justify_content": null,
            "justify_items": null,
            "left": null,
            "margin": null,
            "max_height": null,
            "max_width": null,
            "min_height": null,
            "min_width": null,
            "object_fit": null,
            "object_position": null,
            "order": null,
            "overflow": null,
            "overflow_x": null,
            "overflow_y": null,
            "padding": null,
            "right": null,
            "top": null,
            "visibility": null,
            "width": null
          }
        },
        "951ccfff484b49b591e0bbaecf128256": {
          "model_module": "@jupyter-widgets/controls",
          "model_name": "DescriptionStyleModel",
          "model_module_version": "1.5.0",
          "state": {
            "_model_module": "@jupyter-widgets/controls",
            "_model_module_version": "1.5.0",
            "_model_name": "DescriptionStyleModel",
            "_view_count": null,
            "_view_module": "@jupyter-widgets/base",
            "_view_module_version": "1.2.0",
            "_view_name": "StyleView",
            "description_width": ""
          }
        },
        "d462d90c505e403ba660421e1e2e2f4e": {
          "model_module": "@jupyter-widgets/controls",
          "model_name": "VBoxModel",
          "model_module_version": "1.5.0",
          "state": {
            "_dom_classes": [],
            "_model_module": "@jupyter-widgets/controls",
            "_model_module_version": "1.5.0",
            "_model_name": "VBoxModel",
            "_view_count": null,
            "_view_module": "@jupyter-widgets/controls",
            "_view_module_version": "1.5.0",
            "_view_name": "VBoxView",
            "box_style": "",
            "children": [
              "IPY_MODEL_7586d5c1515a4fa9926ef07c73e324d6",
              "IPY_MODEL_33f73276fad847a88a6b6b0b2c908b27",
              "IPY_MODEL_267eab58bb2f4c12bcdbfea8218a38d6"
            ],
            "layout": "IPY_MODEL_41755d867f4a4248abe176ad76b92891"
          }
        },
        "7586d5c1515a4fa9926ef07c73e324d6": {
          "model_module": "@jupyter-widgets/output",
          "model_name": "OutputModel",
          "model_module_version": "1.0.0",
          "state": {
            "_dom_classes": [],
            "_model_module": "@jupyter-widgets/output",
            "_model_module_version": "1.0.0",
            "_model_name": "OutputModel",
            "_view_count": null,
            "_view_module": "@jupyter-widgets/output",
            "_view_module_version": "1.0.0",
            "_view_name": "OutputView",
            "layout": "IPY_MODEL_8a630234922c4a00bce9090288137727",
            "msg_id": "",
            "outputs": [
              {
                "output_type": "display_data",
                "data": {
                  "text/plain": "<IPython.core.display.HTML object>",
                  "text/html": "next step: re-assign labels (E-step)"
                },
                "metadata": {}
              }
            ]
          }
        },
        "33f73276fad847a88a6b6b0b2c908b27": {
          "model_module": "@jupyter-widgets/controls",
          "model_name": "ButtonModel",
          "model_module_version": "1.5.0",
          "state": {
            "_dom_classes": [],
            "_model_module": "@jupyter-widgets/controls",
            "_model_module_version": "1.5.0",
            "_model_name": "ButtonModel",
            "_view_count": null,
            "_view_module": "@jupyter-widgets/controls",
            "_view_module_version": "1.5.0",
            "_view_name": "ButtonView",
            "button_style": "",
            "description": "update",
            "disabled": false,
            "icon": "",
            "layout": "IPY_MODEL_4b73ce854edd48a8bc855f1024973e73",
            "style": "IPY_MODEL_3279161d0faa42abbd3b7c88c39057e0",
            "tooltip": ""
          }
        },
        "267eab58bb2f4c12bcdbfea8218a38d6": {
          "model_module": "@jupyter-widgets/output",
          "model_name": "OutputModel",
          "model_module_version": "1.0.0",
          "state": {
            "_dom_classes": [],
            "_model_module": "@jupyter-widgets/output",
            "_model_module_version": "1.0.0",
            "_model_name": "OutputModel",
            "_view_count": null,
            "_view_module": "@jupyter-widgets/output",
            "_view_module_version": "1.0.0",
            "_view_name": "OutputView",
            "layout": "IPY_MODEL_7df233bf03cc48a8846de7637cd03886",
            "msg_id": "",
            "outputs": [
              {
                "output_type": "display_data",
                "data": {
                  "text/plain": "<Figure size 576x576 with 1 Axes>",
                  "image/png": "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\n"
                },
                "metadata": {}
              }
            ]
          }
        },
        "41755d867f4a4248abe176ad76b92891": {
          "model_module": "@jupyter-widgets/base",
          "model_name": "LayoutModel",
          "model_module_version": "1.2.0",
          "state": {
            "_model_module": "@jupyter-widgets/base",
            "_model_module_version": "1.2.0",
            "_model_name": "LayoutModel",
            "_view_count": null,
            "_view_module": "@jupyter-widgets/base",
            "_view_module_version": "1.2.0",
            "_view_name": "LayoutView",
            "align_content": null,
            "align_items": null,
            "align_self": null,
            "border": null,
            "bottom": null,
            "display": null,
            "flex": null,
            "flex_flow": null,
            "grid_area": null,
            "grid_auto_columns": null,
            "grid_auto_flow": null,
            "grid_auto_rows": null,
            "grid_column": null,
            "grid_gap": null,
            "grid_row": null,
            "grid_template_areas": null,
            "grid_template_columns": null,
            "grid_template_rows": null,
            "height": null,
            "justify_content": null,
            "justify_items": null,
            "left": null,
            "margin": null,
            "max_height": null,
            "max_width": null,
            "min_height": null,
            "min_width": null,
            "object_fit": null,
            "object_position": null,
            "order": null,
            "overflow": null,
            "overflow_x": null,
            "overflow_y": null,
            "padding": null,
            "right": null,
            "top": null,
            "visibility": null,
            "width": null
          }
        },
        "4b73ce854edd48a8bc855f1024973e73": {
          "model_module": "@jupyter-widgets/base",
          "model_name": "LayoutModel",
          "model_module_version": "1.2.0",
          "state": {
            "_model_module": "@jupyter-widgets/base",
            "_model_module_version": "1.2.0",
            "_model_name": "LayoutModel",
            "_view_count": null,
            "_view_module": "@jupyter-widgets/base",
            "_view_module_version": "1.2.0",
            "_view_name": "LayoutView",
            "align_content": null,
            "align_items": null,
            "align_self": null,
            "border": null,
            "bottom": null,
            "display": null,
            "flex": null,
            "flex_flow": null,
            "grid_area": null,
            "grid_auto_columns": null,
            "grid_auto_flow": null,
            "grid_auto_rows": null,
            "grid_column": null,
            "grid_gap": null,
            "grid_row": null,
            "grid_template_areas": null,
            "grid_template_columns": null,
            "grid_template_rows": null,
            "height": null,
            "justify_content": null,
            "justify_items": null,
            "left": null,
            "margin": null,
            "max_height": null,
            "max_width": null,
            "min_height": null,
            "min_width": null,
            "object_fit": null,
            "object_position": null,
            "order": null,
            "overflow": null,
            "overflow_x": null,
            "overflow_y": null,
            "padding": null,
            "right": null,
            "top": null,
            "visibility": null,
            "width": null
          }
        },
        "3279161d0faa42abbd3b7c88c39057e0": {
          "model_module": "@jupyter-widgets/controls",
          "model_name": "ButtonStyleModel",
          "model_module_version": "1.5.0",
          "state": {
            "_model_module": "@jupyter-widgets/controls",
            "_model_module_version": "1.5.0",
            "_model_name": "ButtonStyleModel",
            "_view_count": null,
            "_view_module": "@jupyter-widgets/base",
            "_view_module_version": "1.2.0",
            "_view_name": "StyleView",
            "button_color": null,
            "font_weight": ""
          }
        },
        "8a630234922c4a00bce9090288137727": {
          "model_module": "@jupyter-widgets/base",
          "model_name": "LayoutModel",
          "model_module_version": "1.2.0",
          "state": {
            "_model_module": "@jupyter-widgets/base",
            "_model_module_version": "1.2.0",
            "_model_name": "LayoutModel",
            "_view_count": null,
            "_view_module": "@jupyter-widgets/base",
            "_view_module_version": "1.2.0",
            "_view_name": "LayoutView",
            "align_content": null,
            "align_items": null,
            "align_self": null,
            "border": null,
            "bottom": null,
            "display": null,
            "flex": null,
            "flex_flow": null,
            "grid_area": null,
            "grid_auto_columns": null,
            "grid_auto_flow": null,
            "grid_auto_rows": null,
            "grid_column": null,
            "grid_gap": null,
            "grid_row": null,
            "grid_template_areas": null,
            "grid_template_columns": null,
            "grid_template_rows": null,
            "height": null,
            "justify_content": null,
            "justify_items": null,
            "left": null,
            "margin": null,
            "max_height": null,
            "max_width": null,
            "min_height": null,
            "min_width": null,
            "object_fit": null,
            "object_position": null,
            "order": null,
            "overflow": null,
            "overflow_x": null,
            "overflow_y": null,
            "padding": null,
            "right": null,
            "top": null,
            "visibility": null,
            "width": null
          }
        },
        "7df233bf03cc48a8846de7637cd03886": {
          "model_module": "@jupyter-widgets/base",
          "model_name": "LayoutModel",
          "model_module_version": "1.2.0",
          "state": {
            "_model_module": "@jupyter-widgets/base",
            "_model_module_version": "1.2.0",
            "_model_name": "LayoutModel",
            "_view_count": null,
            "_view_module": "@jupyter-widgets/base",
            "_view_module_version": "1.2.0",
            "_view_name": "LayoutView",
            "align_content": null,
            "align_items": null,
            "align_self": null,
            "border": null,
            "bottom": null,
            "display": null,
            "flex": null,
            "flex_flow": null,
            "grid_area": null,
            "grid_auto_columns": null,
            "grid_auto_flow": null,
            "grid_auto_rows": null,
            "grid_column": null,
            "grid_gap": null,
            "grid_row": null,
            "grid_template_areas": null,
            "grid_template_columns": null,
            "grid_template_rows": null,
            "height": null,
            "justify_content": null,
            "justify_items": null,
            "left": null,
            "margin": null,
            "max_height": null,
            "max_width": null,
            "min_height": null,
            "min_width": null,
            "object_fit": null,
            "object_position": null,
            "order": null,
            "overflow": null,
            "overflow_x": null,
            "overflow_y": null,
            "padding": null,
            "right": null,
            "top": null,
            "visibility": null,
            "width": null
          }
        },
        "f5ca17389ae241509351c29f8727a02c": {
          "model_module": "@jupyter-widgets/controls",
          "model_name": "VBoxModel",
          "model_module_version": "1.5.0",
          "state": {
            "_dom_classes": [],
            "_model_module": "@jupyter-widgets/controls",
            "_model_module_version": "1.5.0",
            "_model_name": "VBoxModel",
            "_view_count": null,
            "_view_module": "@jupyter-widgets/controls",
            "_view_module_version": "1.5.0",
            "_view_name": "VBoxView",
            "box_style": "",
            "children": [
              "IPY_MODEL_45928300e8b648989b251c4004d4435e",
              "IPY_MODEL_c2243260c50647a58e4ebe6d5f1f494a",
              "IPY_MODEL_3d66bca37b3d4f869807f88322d2318a"
            ],
            "layout": "IPY_MODEL_f5985aedfcd342d6a391e40c9be318d7"
          }
        },
        "45928300e8b648989b251c4004d4435e": {
          "model_module": "@jupyter-widgets/output",
          "model_name": "OutputModel",
          "model_module_version": "1.0.0",
          "state": {
            "_dom_classes": [],
            "_model_module": "@jupyter-widgets/output",
            "_model_module_version": "1.0.0",
            "_model_name": "OutputModel",
            "_view_count": null,
            "_view_module": "@jupyter-widgets/output",
            "_view_module_version": "1.0.0",
            "_view_name": "OutputView",
            "layout": "IPY_MODEL_5c32eb8dd7d94d04948b16a3e78fb6fd",
            "msg_id": "",
            "outputs": [
              {
                "output_type": "display_data",
                "data": {
                  "text/plain": "<IPython.core.display.HTML object>",
                  "text/html": "next step: update centroids (M-step)"
                },
                "metadata": {}
              }
            ]
          }
        },
        "c2243260c50647a58e4ebe6d5f1f494a": {
          "model_module": "@jupyter-widgets/controls",
          "model_name": "ButtonModel",
          "model_module_version": "1.5.0",
          "state": {
            "_dom_classes": [],
            "_model_module": "@jupyter-widgets/controls",
            "_model_module_version": "1.5.0",
            "_model_name": "ButtonModel",
            "_view_count": null,
            "_view_module": "@jupyter-widgets/controls",
            "_view_module_version": "1.5.0",
            "_view_name": "ButtonView",
            "button_style": "",
            "description": "update",
            "disabled": false,
            "icon": "",
            "layout": "IPY_MODEL_cdddeb657f93450b98f938a4f0564a09",
            "style": "IPY_MODEL_f035f767d6e8422db66c0c0909aea643",
            "tooltip": ""
          }
        },
        "3d66bca37b3d4f869807f88322d2318a": {
          "model_module": "@jupyter-widgets/output",
          "model_name": "OutputModel",
          "model_module_version": "1.0.0",
          "state": {
            "_dom_classes": [],
            "_model_module": "@jupyter-widgets/output",
            "_model_module_version": "1.0.0",
            "_model_name": "OutputModel",
            "_view_count": null,
            "_view_module": "@jupyter-widgets/output",
            "_view_module_version": "1.0.0",
            "_view_name": "OutputView",
            "layout": "IPY_MODEL_fc2ece239c0c4753a3358fb2e925210b",
            "msg_id": "",
            "outputs": [
              {
                "output_type": "display_data",
                "data": {
                  "text/plain": "<Figure size 576x576 with 1 Axes>",
                  "image/png": "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\n"
                },
                "metadata": {}
              }
            ]
          }
        },
        "f5985aedfcd342d6a391e40c9be318d7": {
          "model_module": "@jupyter-widgets/base",
          "model_name": "LayoutModel",
          "model_module_version": "1.2.0",
          "state": {
            "_model_module": "@jupyter-widgets/base",
            "_model_module_version": "1.2.0",
            "_model_name": "LayoutModel",
            "_view_count": null,
            "_view_module": "@jupyter-widgets/base",
            "_view_module_version": "1.2.0",
            "_view_name": "LayoutView",
            "align_content": null,
            "align_items": null,
            "align_self": null,
            "border": null,
            "bottom": null,
            "display": null,
            "flex": null,
            "flex_flow": null,
            "grid_area": null,
            "grid_auto_columns": null,
            "grid_auto_flow": null,
            "grid_auto_rows": null,
            "grid_column": null,
            "grid_gap": null,
            "grid_row": null,
            "grid_template_areas": null,
            "grid_template_columns": null,
            "grid_template_rows": null,
            "height": null,
            "justify_content": null,
            "justify_items": null,
            "left": null,
            "margin": null,
            "max_height": null,
            "max_width": null,
            "min_height": null,
            "min_width": null,
            "object_fit": null,
            "object_position": null,
            "order": null,
            "overflow": null,
            "overflow_x": null,
            "overflow_y": null,
            "padding": null,
            "right": null,
            "top": null,
            "visibility": null,
            "width": null
          }
        },
        "cdddeb657f93450b98f938a4f0564a09": {
          "model_module": "@jupyter-widgets/base",
          "model_name": "LayoutModel",
          "model_module_version": "1.2.0",
          "state": {
            "_model_module": "@jupyter-widgets/base",
            "_model_module_version": "1.2.0",
            "_model_name": "LayoutModel",
            "_view_count": null,
            "_view_module": "@jupyter-widgets/base",
            "_view_module_version": "1.2.0",
            "_view_name": "LayoutView",
            "align_content": null,
            "align_items": null,
            "align_self": null,
            "border": null,
            "bottom": null,
            "display": null,
            "flex": null,
            "flex_flow": null,
            "grid_area": null,
            "grid_auto_columns": null,
            "grid_auto_flow": null,
            "grid_auto_rows": null,
            "grid_column": null,
            "grid_gap": null,
            "grid_row": null,
            "grid_template_areas": null,
            "grid_template_columns": null,
            "grid_template_rows": null,
            "height": null,
            "justify_content": null,
            "justify_items": null,
            "left": null,
            "margin": null,
            "max_height": null,
            "max_width": null,
            "min_height": null,
            "min_width": null,
            "object_fit": null,
            "object_position": null,
            "order": null,
            "overflow": null,
            "overflow_x": null,
            "overflow_y": null,
            "padding": null,
            "right": null,
            "top": null,
            "visibility": null,
            "width": null
          }
        },
        "f035f767d6e8422db66c0c0909aea643": {
          "model_module": "@jupyter-widgets/controls",
          "model_name": "ButtonStyleModel",
          "model_module_version": "1.5.0",
          "state": {
            "_model_module": "@jupyter-widgets/controls",
            "_model_module_version": "1.5.0",
            "_model_name": "ButtonStyleModel",
            "_view_count": null,
            "_view_module": "@jupyter-widgets/base",
            "_view_module_version": "1.2.0",
            "_view_name": "StyleView",
            "button_color": null,
            "font_weight": ""
          }
        },
        "5c32eb8dd7d94d04948b16a3e78fb6fd": {
          "model_module": "@jupyter-widgets/base",
          "model_name": "LayoutModel",
          "model_module_version": "1.2.0",
          "state": {
            "_model_module": "@jupyter-widgets/base",
            "_model_module_version": "1.2.0",
            "_model_name": "LayoutModel",
            "_view_count": null,
            "_view_module": "@jupyter-widgets/base",
            "_view_module_version": "1.2.0",
            "_view_name": "LayoutView",
            "align_content": null,
            "align_items": null,
            "align_self": null,
            "border": null,
            "bottom": null,
            "display": null,
            "flex": null,
            "flex_flow": null,
            "grid_area": null,
            "grid_auto_columns": null,
            "grid_auto_flow": null,
            "grid_auto_rows": null,
            "grid_column": null,
            "grid_gap": null,
            "grid_row": null,
            "grid_template_areas": null,
            "grid_template_columns": null,
            "grid_template_rows": null,
            "height": null,
            "justify_content": null,
            "justify_items": null,
            "left": null,
            "margin": null,
            "max_height": null,
            "max_width": null,
            "min_height": null,
            "min_width": null,
            "object_fit": null,
            "object_position": null,
            "order": null,
            "overflow": null,
            "overflow_x": null,
            "overflow_y": null,
            "padding": null,
            "right": null,
            "top": null,
            "visibility": null,
            "width": null
          }
        },
        "fc2ece239c0c4753a3358fb2e925210b": {
          "model_module": "@jupyter-widgets/base",
          "model_name": "LayoutModel",
          "model_module_version": "1.2.0",
          "state": {
            "_model_module": "@jupyter-widgets/base",
            "_model_module_version": "1.2.0",
            "_model_name": "LayoutModel",
            "_view_count": null,
            "_view_module": "@jupyter-widgets/base",
            "_view_module_version": "1.2.0",
            "_view_name": "LayoutView",
            "align_content": null,
            "align_items": null,
            "align_self": null,
            "border": null,
            "bottom": null,
            "display": null,
            "flex": null,
            "flex_flow": null,
            "grid_area": null,
            "grid_auto_columns": null,
            "grid_auto_flow": null,
            "grid_auto_rows": null,
            "grid_column": null,
            "grid_gap": null,
            "grid_row": null,
            "grid_template_areas": null,
            "grid_template_columns": null,
            "grid_template_rows": null,
            "height": null,
            "justify_content": null,
            "justify_items": null,
            "left": null,
            "margin": null,
            "max_height": null,
            "max_width": null,
            "min_height": null,
            "min_width": null,
            "object_fit": null,
            "object_position": null,
            "order": null,
            "overflow": null,
            "overflow_x": null,
            "overflow_y": null,
            "padding": null,
            "right": null,
            "top": null,
            "visibility": null,
            "width": null
          }
        },
        "ded5d4ef35cb4eb4ba9a90195859b3f3": {
          "model_module": "@jupyter-widgets/controls",
          "model_name": "VBoxModel",
          "model_module_version": "1.5.0",
          "state": {
            "_dom_classes": [],
            "_model_module": "@jupyter-widgets/controls",
            "_model_module_version": "1.5.0",
            "_model_name": "VBoxModel",
            "_view_count": null,
            "_view_module": "@jupyter-widgets/controls",
            "_view_module_version": "1.5.0",
            "_view_name": "VBoxView",
            "box_style": "",
            "children": [
              "IPY_MODEL_b92465fd12ff465ebc178e822ff9f045",
              "IPY_MODEL_1908c6122cb54c049927ce0d5f72c6c2",
              "IPY_MODEL_70d522b1fd8545e9a52ccbadbb05d0ad",
              "IPY_MODEL_c9ecc62182644239bff47e41638fa4d3"
            ],
            "layout": "IPY_MODEL_d7a0204f42b8435491686171b0cc0ad8"
          }
        },
        "b92465fd12ff465ebc178e822ff9f045": {
          "model_module": "@jupyter-widgets/output",
          "model_name": "OutputModel",
          "model_module_version": "1.0.0",
          "state": {
            "_dom_classes": [],
            "_model_module": "@jupyter-widgets/output",
            "_model_module_version": "1.0.0",
            "_model_name": "OutputModel",
            "_view_count": null,
            "_view_module": "@jupyter-widgets/output",
            "_view_module_version": "1.0.0",
            "_view_name": "OutputView",
            "layout": "IPY_MODEL_7e986d4746684d2dbb715e96257efdf7",
            "msg_id": "",
            "outputs": [
              {
                "output_type": "display_data",
                "data": {
                  "text/plain": "HTMLMath(value='\\n            Suppose you run $k$-means algorithm on 4 points:\\n            <ul>\\n            …",
                  "application/vnd.jupyter.widget-view+json": {
                    "version_major": 2,
                    "version_minor": 0,
                    "model_id": "28f10457bf9b4bc79152e3483799a126"
                  }
                },
                "metadata": {}
              },
              {
                "output_type": "display_data",
                "data": {
                  "text/plain": "HTMLMath(value='Compute clusters and new coordinates of $c_1$ and $c_2$ after one full iteration, i.e. after o…",
                  "application/vnd.jupyter.widget-view+json": {
                    "version_major": 2,
                    "version_minor": 0,
                    "model_id": "c27e7ace9567497d841354a8c8148936"
                  }
                },
                "metadata": {}
              },
              {
                "output_type": "display_data",
                "data": {
                  "text/plain": "HTMLMath(value='\\n            Options:\\n            <ol>\\n                <li>cluster 1: $x_1$ and $x_3$; clus…",
                  "application/vnd.jupyter.widget-view+json": {
                    "version_major": 2,
                    "version_minor": 0,
                    "model_id": "d8d919731eb34579bdb804f4f1189f91"
                  }
                },
                "metadata": {}
              },
              {
                "output_type": "display_data",
                "data": {
                  "text/plain": "HTML(value='Choose the correct answer below.')",
                  "application/vnd.jupyter.widget-view+json": {
                    "version_major": 2,
                    "version_minor": 0,
                    "model_id": "a28b95c005a448a6917b57e8779a1866"
                  }
                },
                "metadata": {}
              },
              {
                "output_type": "display_data",
                "data": {
                  "text/plain": "HTML(value='<b>Hint</b>: draw a picture.')",
                  "application/vnd.jupyter.widget-view+json": {
                    "version_major": 2,
                    "version_minor": 0,
                    "model_id": "8de264b6d1e54483834a6a8f05ddc649"
                  }
                },
                "metadata": {}
              }
            ]
          }
        },
        "1908c6122cb54c049927ce0d5f72c6c2": {
          "model_module": "@jupyter-widgets/controls",
          "model_name": "RadioButtonsModel",
          "model_module_version": "1.5.0",
          "state": {
            "_dom_classes": [],
            "_model_module": "@jupyter-widgets/controls",
            "_model_module_version": "1.5.0",
            "_model_name": "RadioButtonsModel",
            "_options_labels": [
              "option 1",
              "option 2",
              "option 3",
              "option 4"
            ],
            "_view_count": null,
            "_view_module": "@jupyter-widgets/controls",
            "_view_module_version": "1.5.0",
            "_view_name": "RadioButtonsView",
            "description": "",
            "description_tooltip": null,
            "disabled": false,
            "index": 0,
            "layout": "IPY_MODEL_8c79147839e348c690318f40d5fe8110",
            "style": "IPY_MODEL_cd4a1224455a49e48d1d44669daa1490"
          }
        },
        "70d522b1fd8545e9a52ccbadbb05d0ad": {
          "model_module": "@jupyter-widgets/controls",
          "model_name": "HTMLModel",
          "model_module_version": "1.5.0",
          "state": {
            "_dom_classes": [],
            "_model_module": "@jupyter-widgets/controls",
            "_model_module_version": "1.5.0",
            "_model_name": "HTMLModel",
            "_view_count": null,
            "_view_module": "@jupyter-widgets/controls",
            "_view_module_version": "1.5.0",
            "_view_name": "HTMLView",
            "description": "",
            "description_tooltip": null,
            "layout": "IPY_MODEL_f571a0ce99024e4f896656c7f0bd90c5",
            "placeholder": "​",
            "style": "IPY_MODEL_892e5c47cfef42849e7b3fbd35742938",
            "value": "<br>"
          }
        },
        "c9ecc62182644239bff47e41638fa4d3": {
          "model_module": "@jupyter-widgets/controls",
          "model_name": "ButtonModel",
          "model_module_version": "1.5.0",
          "state": {
            "_dom_classes": [],
            "_model_module": "@jupyter-widgets/controls",
            "_model_module_version": "1.5.0",
            "_model_name": "ButtonModel",
            "_view_count": null,
            "_view_module": "@jupyter-widgets/controls",
            "_view_module_version": "1.5.0",
            "_view_name": "ButtonView",
            "button_style": "",
            "description": "Check",
            "disabled": false,
            "icon": "",
            "layout": "IPY_MODEL_3a908779401247e88a913507dd2bc130",
            "style": "IPY_MODEL_9b25e7a2047845638830c17958f43bbc",
            "tooltip": ""
          }
        },
        "d7a0204f42b8435491686171b0cc0ad8": {
          "model_module": "@jupyter-widgets/base",
          "model_name": "LayoutModel",
          "model_module_version": "1.2.0",
          "state": {
            "_model_module": "@jupyter-widgets/base",
            "_model_module_version": "1.2.0",
            "_model_name": "LayoutModel",
            "_view_count": null,
            "_view_module": "@jupyter-widgets/base",
            "_view_module_version": "1.2.0",
            "_view_name": "LayoutView",
            "align_content": null,
            "align_items": null,
            "align_self": null,
            "border": null,
            "bottom": null,
            "display": null,
            "flex": null,
            "flex_flow": null,
            "grid_area": null,
            "grid_auto_columns": null,
            "grid_auto_flow": null,
            "grid_auto_rows": null,
            "grid_column": null,
            "grid_gap": null,
            "grid_row": null,
            "grid_template_areas": null,
            "grid_template_columns": null,
            "grid_template_rows": null,
            "height": null,
            "justify_content": null,
            "justify_items": null,
            "left": null,
            "margin": null,
            "max_height": null,
            "max_width": null,
            "min_height": null,
            "min_width": null,
            "object_fit": null,
            "object_position": null,
            "order": null,
            "overflow": null,
            "overflow_x": null,
            "overflow_y": null,
            "padding": null,
            "right": null,
            "top": null,
            "visibility": null,
            "width": null
          }
        },
        "8c79147839e348c690318f40d5fe8110": {
          "model_module": "@jupyter-widgets/base",
          "model_name": "LayoutModel",
          "model_module_version": "1.2.0",
          "state": {
            "_model_module": "@jupyter-widgets/base",
            "_model_module_version": "1.2.0",
            "_model_name": "LayoutModel",
            "_view_count": null,
            "_view_module": "@jupyter-widgets/base",
            "_view_module_version": "1.2.0",
            "_view_name": "LayoutView",
            "align_content": null,
            "align_items": null,
            "align_self": null,
            "border": null,
            "bottom": null,
            "display": null,
            "flex": null,
            "flex_flow": null,
            "grid_area": null,
            "grid_auto_columns": null,
            "grid_auto_flow": null,
            "grid_auto_rows": null,
            "grid_column": null,
            "grid_gap": null,
            "grid_row": null,
            "grid_template_areas": null,
            "grid_template_columns": null,
            "grid_template_rows": null,
            "height": null,
            "justify_content": null,
            "justify_items": null,
            "left": null,
            "margin": null,
            "max_height": null,
            "max_width": null,
            "min_height": null,
            "min_width": null,
            "object_fit": null,
            "object_position": null,
            "order": null,
            "overflow": null,
            "overflow_x": null,
            "overflow_y": null,
            "padding": null,
            "right": null,
            "top": null,
            "visibility": null,
            "width": null
          }
        },
        "cd4a1224455a49e48d1d44669daa1490": {
          "model_module": "@jupyter-widgets/controls",
          "model_name": "DescriptionStyleModel",
          "model_module_version": "1.5.0",
          "state": {
            "_model_module": "@jupyter-widgets/controls",
            "_model_module_version": "1.5.0",
            "_model_name": "DescriptionStyleModel",
            "_view_count": null,
            "_view_module": "@jupyter-widgets/base",
            "_view_module_version": "1.2.0",
            "_view_name": "StyleView",
            "description_width": ""
          }
        },
        "f571a0ce99024e4f896656c7f0bd90c5": {
          "model_module": "@jupyter-widgets/base",
          "model_name": "LayoutModel",
          "model_module_version": "1.2.0",
          "state": {
            "_model_module": "@jupyter-widgets/base",
            "_model_module_version": "1.2.0",
            "_model_name": "LayoutModel",
            "_view_count": null,
            "_view_module": "@jupyter-widgets/base",
            "_view_module_version": "1.2.0",
            "_view_name": "LayoutView",
            "align_content": null,
            "align_items": null,
            "align_self": null,
            "border": null,
            "bottom": null,
            "display": null,
            "flex": null,
            "flex_flow": null,
            "grid_area": null,
            "grid_auto_columns": null,
            "grid_auto_flow": null,
            "grid_auto_rows": null,
            "grid_column": null,
            "grid_gap": null,
            "grid_row": null,
            "grid_template_areas": null,
            "grid_template_columns": null,
            "grid_template_rows": null,
            "height": null,
            "justify_content": null,
            "justify_items": null,
            "left": null,
            "margin": null,
            "max_height": null,
            "max_width": null,
            "min_height": null,
            "min_width": null,
            "object_fit": null,
            "object_position": null,
            "order": null,
            "overflow": null,
            "overflow_x": null,
            "overflow_y": null,
            "padding": null,
            "right": null,
            "top": null,
            "visibility": null,
            "width": null
          }
        },
        "892e5c47cfef42849e7b3fbd35742938": {
          "model_module": "@jupyter-widgets/controls",
          "model_name": "DescriptionStyleModel",
          "model_module_version": "1.5.0",
          "state": {
            "_model_module": "@jupyter-widgets/controls",
            "_model_module_version": "1.5.0",
            "_model_name": "DescriptionStyleModel",
            "_view_count": null,
            "_view_module": "@jupyter-widgets/base",
            "_view_module_version": "1.2.0",
            "_view_name": "StyleView",
            "description_width": ""
          }
        },
        "3a908779401247e88a913507dd2bc130": {
          "model_module": "@jupyter-widgets/base",
          "model_name": "LayoutModel",
          "model_module_version": "1.2.0",
          "state": {
            "_model_module": "@jupyter-widgets/base",
            "_model_module_version": "1.2.0",
            "_model_name": "LayoutModel",
            "_view_count": null,
            "_view_module": "@jupyter-widgets/base",
            "_view_module_version": "1.2.0",
            "_view_name": "LayoutView",
            "align_content": null,
            "align_items": null,
            "align_self": null,
            "border": null,
            "bottom": null,
            "display": null,
            "flex": null,
            "flex_flow": null,
            "grid_area": null,
            "grid_auto_columns": null,
            "grid_auto_flow": null,
            "grid_auto_rows": null,
            "grid_column": null,
            "grid_gap": null,
            "grid_row": null,
            "grid_template_areas": null,
            "grid_template_columns": null,
            "grid_template_rows": null,
            "height": null,
            "justify_content": null,
            "justify_items": null,
            "left": null,
            "margin": null,
            "max_height": null,
            "max_width": null,
            "min_height": null,
            "min_width": null,
            "object_fit": null,
            "object_position": null,
            "order": null,
            "overflow": null,
            "overflow_x": null,
            "overflow_y": null,
            "padding": null,
            "right": null,
            "top": null,
            "visibility": null,
            "width": null
          }
        },
        "9b25e7a2047845638830c17958f43bbc": {
          "model_module": "@jupyter-widgets/controls",
          "model_name": "ButtonStyleModel",
          "model_module_version": "1.5.0",
          "state": {
            "_model_module": "@jupyter-widgets/controls",
            "_model_module_version": "1.5.0",
            "_model_name": "ButtonStyleModel",
            "_view_count": null,
            "_view_module": "@jupyter-widgets/base",
            "_view_module_version": "1.2.0",
            "_view_name": "StyleView",
            "button_color": null,
            "font_weight": ""
          }
        },
        "28f10457bf9b4bc79152e3483799a126": {
          "model_module": "@jupyter-widgets/controls",
          "model_name": "HTMLMathModel",
          "model_module_version": "1.5.0",
          "state": {
            "_dom_classes": [],
            "_model_module": "@jupyter-widgets/controls",
            "_model_module_version": "1.5.0",
            "_model_name": "HTMLMathModel",
            "_view_count": null,
            "_view_module": "@jupyter-widgets/controls",
            "_view_module_version": "1.5.0",
            "_view_name": "HTMLMathView",
            "description": "",
            "description_tooltip": null,
            "layout": "IPY_MODEL_41ac6dc990b14286ad7d6fe7098c119d",
            "placeholder": "​",
            "style": "IPY_MODEL_0df091db240246ea8f72541b518218bb",
            "value": "\n            Suppose you run $k$-means algorithm on 4 points:\n            <ul>\n                <li>$x_1 = (3, 1)$</li>\n                <li>$x_2 = (4, 2)$</li>\n                <li>$x_3 = (3, 3)$</li>\n                <li>$x_4 = (6, 2)$</li>\n            </ul>\n            with initial cluster centers\n            <ul>\n                <li>$c_1 = (0, 2)$</li>\n                <li>$c_2 = (7, 2)$</li>\n            </ul>\n        "
          }
        },
        "7e986d4746684d2dbb715e96257efdf7": {
          "model_module": "@jupyter-widgets/base",
          "model_name": "LayoutModel",
          "model_module_version": "1.2.0",
          "state": {
            "_model_module": "@jupyter-widgets/base",
            "_model_module_version": "1.2.0",
            "_model_name": "LayoutModel",
            "_view_count": null,
            "_view_module": "@jupyter-widgets/base",
            "_view_module_version": "1.2.0",
            "_view_name": "LayoutView",
            "align_content": null,
            "align_items": null,
            "align_self": null,
            "border": null,
            "bottom": null,
            "display": null,
            "flex": null,
            "flex_flow": null,
            "grid_area": null,
            "grid_auto_columns": null,
            "grid_auto_flow": null,
            "grid_auto_rows": null,
            "grid_column": null,
            "grid_gap": null,
            "grid_row": null,
            "grid_template_areas": null,
            "grid_template_columns": null,
            "grid_template_rows": null,
            "height": null,
            "justify_content": null,
            "justify_items": null,
            "left": null,
            "margin": null,
            "max_height": null,
            "max_width": null,
            "min_height": null,
            "min_width": null,
            "object_fit": null,
            "object_position": null,
            "order": null,
            "overflow": null,
            "overflow_x": null,
            "overflow_y": null,
            "padding": null,
            "right": null,
            "top": null,
            "visibility": null,
            "width": null
          }
        },
        "41ac6dc990b14286ad7d6fe7098c119d": {
          "model_module": "@jupyter-widgets/base",
          "model_name": "LayoutModel",
          "model_module_version": "1.2.0",
          "state": {
            "_model_module": "@jupyter-widgets/base",
            "_model_module_version": "1.2.0",
            "_model_name": "LayoutModel",
            "_view_count": null,
            "_view_module": "@jupyter-widgets/base",
            "_view_module_version": "1.2.0",
            "_view_name": "LayoutView",
            "align_content": null,
            "align_items": null,
            "align_self": null,
            "border": null,
            "bottom": null,
            "display": null,
            "flex": null,
            "flex_flow": null,
            "grid_area": null,
            "grid_auto_columns": null,
            "grid_auto_flow": null,
            "grid_auto_rows": null,
            "grid_column": null,
            "grid_gap": null,
            "grid_row": null,
            "grid_template_areas": null,
            "grid_template_columns": null,
            "grid_template_rows": null,
            "height": null,
            "justify_content": null,
            "justify_items": null,
            "left": null,
            "margin": null,
            "max_height": null,
            "max_width": null,
            "min_height": null,
            "min_width": null,
            "object_fit": null,
            "object_position": null,
            "order": null,
            "overflow": null,
            "overflow_x": null,
            "overflow_y": null,
            "padding": null,
            "right": null,
            "top": null,
            "visibility": null,
            "width": null
          }
        },
        "0df091db240246ea8f72541b518218bb": {
          "model_module": "@jupyter-widgets/controls",
          "model_name": "DescriptionStyleModel",
          "model_module_version": "1.5.0",
          "state": {
            "_model_module": "@jupyter-widgets/controls",
            "_model_module_version": "1.5.0",
            "_model_name": "DescriptionStyleModel",
            "_view_count": null,
            "_view_module": "@jupyter-widgets/base",
            "_view_module_version": "1.2.0",
            "_view_name": "StyleView",
            "description_width": ""
          }
        },
        "c27e7ace9567497d841354a8c8148936": {
          "model_module": "@jupyter-widgets/controls",
          "model_name": "HTMLMathModel",
          "model_module_version": "1.5.0",
          "state": {
            "_dom_classes": [],
            "_model_module": "@jupyter-widgets/controls",
            "_model_module_version": "1.5.0",
            "_model_name": "HTMLMathModel",
            "_view_count": null,
            "_view_module": "@jupyter-widgets/controls",
            "_view_module_version": "1.5.0",
            "_view_name": "HTMLMathView",
            "description": "",
            "description_tooltip": null,
            "layout": "IPY_MODEL_8252c83bc2654482838e1d3638f3f3b4",
            "placeholder": "​",
            "style": "IPY_MODEL_cb9996a9698544e0a361f2f50dd5645c",
            "value": "Compute clusters and new coordinates of $c_1$ and $c_2$ after one full iteration, i.e. after one E-step and one M-step."
          }
        },
        "8252c83bc2654482838e1d3638f3f3b4": {
          "model_module": "@jupyter-widgets/base",
          "model_name": "LayoutModel",
          "model_module_version": "1.2.0",
          "state": {
            "_model_module": "@jupyter-widgets/base",
            "_model_module_version": "1.2.0",
            "_model_name": "LayoutModel",
            "_view_count": null,
            "_view_module": "@jupyter-widgets/base",
            "_view_module_version": "1.2.0",
            "_view_name": "LayoutView",
            "align_content": null,
            "align_items": null,
            "align_self": null,
            "border": null,
            "bottom": null,
            "display": null,
            "flex": null,
            "flex_flow": null,
            "grid_area": null,
            "grid_auto_columns": null,
            "grid_auto_flow": null,
            "grid_auto_rows": null,
            "grid_column": null,
            "grid_gap": null,
            "grid_row": null,
            "grid_template_areas": null,
            "grid_template_columns": null,
            "grid_template_rows": null,
            "height": null,
            "justify_content": null,
            "justify_items": null,
            "left": null,
            "margin": null,
            "max_height": null,
            "max_width": null,
            "min_height": null,
            "min_width": null,
            "object_fit": null,
            "object_position": null,
            "order": null,
            "overflow": null,
            "overflow_x": null,
            "overflow_y": null,
            "padding": null,
            "right": null,
            "top": null,
            "visibility": null,
            "width": null
          }
        },
        "cb9996a9698544e0a361f2f50dd5645c": {
          "model_module": "@jupyter-widgets/controls",
          "model_name": "DescriptionStyleModel",
          "model_module_version": "1.5.0",
          "state": {
            "_model_module": "@jupyter-widgets/controls",
            "_model_module_version": "1.5.0",
            "_model_name": "DescriptionStyleModel",
            "_view_count": null,
            "_view_module": "@jupyter-widgets/base",
            "_view_module_version": "1.2.0",
            "_view_name": "StyleView",
            "description_width": ""
          }
        },
        "d8d919731eb34579bdb804f4f1189f91": {
          "model_module": "@jupyter-widgets/controls",
          "model_name": "HTMLMathModel",
          "model_module_version": "1.5.0",
          "state": {
            "_dom_classes": [],
            "_model_module": "@jupyter-widgets/controls",
            "_model_module_version": "1.5.0",
            "_model_name": "HTMLMathModel",
            "_view_count": null,
            "_view_module": "@jupyter-widgets/controls",
            "_view_module_version": "1.5.0",
            "_view_name": "HTMLMathView",
            "description": "",
            "description_tooltip": null,
            "layout": "IPY_MODEL_68ba65f4c1094f2fa226f2f1605724aa",
            "placeholder": "​",
            "style": "IPY_MODEL_58c888965ba641bc870e0844fdba2909",
            "value": "\n            Options:\n            <ol>\n                <li>cluster 1: $x_1$ and $x_3$; cluster 2: $x_2$ and $x_4$; $c_1 = (0, 2)$; $c_2 = (7, 2)$</li>\n                <li>cluster 1: $x_1$ and $x_3$; cluster 2: $x_2$ and $x_4$; $c_1 = (3, 2)$; $c_2 = (5, 2)$</li>\n                <li>cluster 1: $x_1$ and $x_2$; cluster 2: $x_3$ and $x_4$; $c_1 = (0, 2)$; $c_2 = (7, 2)$</li>\n                <li>cluster 1: $x_1$ and $x_2$; cluster 2: $x_3$ and $x_4$; $c_1 = (3, 2)$; $c_2 = (5, 2)$</li>\n            </ol>\n        "
          }
        },
        "68ba65f4c1094f2fa226f2f1605724aa": {
          "model_module": "@jupyter-widgets/base",
          "model_name": "LayoutModel",
          "model_module_version": "1.2.0",
          "state": {
            "_model_module": "@jupyter-widgets/base",
            "_model_module_version": "1.2.0",
            "_model_name": "LayoutModel",
            "_view_count": null,
            "_view_module": "@jupyter-widgets/base",
            "_view_module_version": "1.2.0",
            "_view_name": "LayoutView",
            "align_content": null,
            "align_items": null,
            "align_self": null,
            "border": null,
            "bottom": null,
            "display": null,
            "flex": null,
            "flex_flow": null,
            "grid_area": null,
            "grid_auto_columns": null,
            "grid_auto_flow": null,
            "grid_auto_rows": null,
            "grid_column": null,
            "grid_gap": null,
            "grid_row": null,
            "grid_template_areas": null,
            "grid_template_columns": null,
            "grid_template_rows": null,
            "height": null,
            "justify_content": null,
            "justify_items": null,
            "left": null,
            "margin": null,
            "max_height": null,
            "max_width": null,
            "min_height": null,
            "min_width": null,
            "object_fit": null,
            "object_position": null,
            "order": null,
            "overflow": null,
            "overflow_x": null,
            "overflow_y": null,
            "padding": null,
            "right": null,
            "top": null,
            "visibility": null,
            "width": null
          }
        },
        "58c888965ba641bc870e0844fdba2909": {
          "model_module": "@jupyter-widgets/controls",
          "model_name": "DescriptionStyleModel",
          "model_module_version": "1.5.0",
          "state": {
            "_model_module": "@jupyter-widgets/controls",
            "_model_module_version": "1.5.0",
            "_model_name": "DescriptionStyleModel",
            "_view_count": null,
            "_view_module": "@jupyter-widgets/base",
            "_view_module_version": "1.2.0",
            "_view_name": "StyleView",
            "description_width": ""
          }
        },
        "a28b95c005a448a6917b57e8779a1866": {
          "model_module": "@jupyter-widgets/controls",
          "model_name": "HTMLModel",
          "model_module_version": "1.5.0",
          "state": {
            "_dom_classes": [],
            "_model_module": "@jupyter-widgets/controls",
            "_model_module_version": "1.5.0",
            "_model_name": "HTMLModel",
            "_view_count": null,
            "_view_module": "@jupyter-widgets/controls",
            "_view_module_version": "1.5.0",
            "_view_name": "HTMLView",
            "description": "",
            "description_tooltip": null,
            "layout": "IPY_MODEL_da777393714b44ec95e7d255aafb7fc2",
            "placeholder": "​",
            "style": "IPY_MODEL_43bd7231cc9942ea89142e64845201af",
            "value": "Choose the correct answer below."
          }
        },
        "da777393714b44ec95e7d255aafb7fc2": {
          "model_module": "@jupyter-widgets/base",
          "model_name": "LayoutModel",
          "model_module_version": "1.2.0",
          "state": {
            "_model_module": "@jupyter-widgets/base",
            "_model_module_version": "1.2.0",
            "_model_name": "LayoutModel",
            "_view_count": null,
            "_view_module": "@jupyter-widgets/base",
            "_view_module_version": "1.2.0",
            "_view_name": "LayoutView",
            "align_content": null,
            "align_items": null,
            "align_self": null,
            "border": null,
            "bottom": null,
            "display": null,
            "flex": null,
            "flex_flow": null,
            "grid_area": null,
            "grid_auto_columns": null,
            "grid_auto_flow": null,
            "grid_auto_rows": null,
            "grid_column": null,
            "grid_gap": null,
            "grid_row": null,
            "grid_template_areas": null,
            "grid_template_columns": null,
            "grid_template_rows": null,
            "height": null,
            "justify_content": null,
            "justify_items": null,
            "left": null,
            "margin": null,
            "max_height": null,
            "max_width": null,
            "min_height": null,
            "min_width": null,
            "object_fit": null,
            "object_position": null,
            "order": null,
            "overflow": null,
            "overflow_x": null,
            "overflow_y": null,
            "padding": null,
            "right": null,
            "top": null,
            "visibility": null,
            "width": null
          }
        },
        "43bd7231cc9942ea89142e64845201af": {
          "model_module": "@jupyter-widgets/controls",
          "model_name": "DescriptionStyleModel",
          "model_module_version": "1.5.0",
          "state": {
            "_model_module": "@jupyter-widgets/controls",
            "_model_module_version": "1.5.0",
            "_model_name": "DescriptionStyleModel",
            "_view_count": null,
            "_view_module": "@jupyter-widgets/base",
            "_view_module_version": "1.2.0",
            "_view_name": "StyleView",
            "description_width": ""
          }
        },
        "8de264b6d1e54483834a6a8f05ddc649": {
          "model_module": "@jupyter-widgets/controls",
          "model_name": "HTMLModel",
          "model_module_version": "1.5.0",
          "state": {
            "_dom_classes": [],
            "_model_module": "@jupyter-widgets/controls",
            "_model_module_version": "1.5.0",
            "_model_name": "HTMLModel",
            "_view_count": null,
            "_view_module": "@jupyter-widgets/controls",
            "_view_module_version": "1.5.0",
            "_view_name": "HTMLView",
            "description": "",
            "description_tooltip": null,
            "layout": "IPY_MODEL_1db22d2cd3bc40e68fa1d96e14c1d7f1",
            "placeholder": "​",
            "style": "IPY_MODEL_a72ec8460fb34c14bafb7c3b4c43129c",
            "value": "<b>Hint</b>: draw a picture."
          }
        },
        "1db22d2cd3bc40e68fa1d96e14c1d7f1": {
          "model_module": "@jupyter-widgets/base",
          "model_name": "LayoutModel",
          "model_module_version": "1.2.0",
          "state": {
            "_model_module": "@jupyter-widgets/base",
            "_model_module_version": "1.2.0",
            "_model_name": "LayoutModel",
            "_view_count": null,
            "_view_module": "@jupyter-widgets/base",
            "_view_module_version": "1.2.0",
            "_view_name": "LayoutView",
            "align_content": null,
            "align_items": null,
            "align_self": null,
            "border": null,
            "bottom": null,
            "display": null,
            "flex": null,
            "flex_flow": null,
            "grid_area": null,
            "grid_auto_columns": null,
            "grid_auto_flow": null,
            "grid_auto_rows": null,
            "grid_column": null,
            "grid_gap": null,
            "grid_row": null,
            "grid_template_areas": null,
            "grid_template_columns": null,
            "grid_template_rows": null,
            "height": null,
            "justify_content": null,
            "justify_items": null,
            "left": null,
            "margin": null,
            "max_height": null,
            "max_width": null,
            "min_height": null,
            "min_width": null,
            "object_fit": null,
            "object_position": null,
            "order": null,
            "overflow": null,
            "overflow_x": null,
            "overflow_y": null,
            "padding": null,
            "right": null,
            "top": null,
            "visibility": null,
            "width": null
          }
        },
        "a72ec8460fb34c14bafb7c3b4c43129c": {
          "model_module": "@jupyter-widgets/controls",
          "model_name": "DescriptionStyleModel",
          "model_module_version": "1.5.0",
          "state": {
            "_model_module": "@jupyter-widgets/controls",
            "_model_module_version": "1.5.0",
            "_model_name": "DescriptionStyleModel",
            "_view_count": null,
            "_view_module": "@jupyter-widgets/base",
            "_view_module_version": "1.2.0",
            "_view_name": "StyleView",
            "description_width": ""
          }
        },
        "ee8d5525ed0c4ccc9d56813200ebee85": {
          "model_module": "@jupyter-widgets/controls",
          "model_name": "VBoxModel",
          "model_module_version": "1.5.0",
          "state": {
            "_dom_classes": [],
            "_model_module": "@jupyter-widgets/controls",
            "_model_module_version": "1.5.0",
            "_model_name": "VBoxModel",
            "_view_count": null,
            "_view_module": "@jupyter-widgets/controls",
            "_view_module_version": "1.5.0",
            "_view_name": "VBoxView",
            "box_style": "",
            "children": [
              "IPY_MODEL_99b6997ca2f44e4a93195a0a6007e16c",
              "IPY_MODEL_a3294607544442868f3a6b291dae6a70",
              "IPY_MODEL_29eb11b1b0ac41faa505c2eaf41becea",
              "IPY_MODEL_6964dd145044417ba41b643f7e293ccf"
            ],
            "layout": "IPY_MODEL_e0216da0d6ba43cfa74747230ac93d41"
          }
        },
        "99b6997ca2f44e4a93195a0a6007e16c": {
          "model_module": "@jupyter-widgets/output",
          "model_name": "OutputModel",
          "model_module_version": "1.0.0",
          "state": {
            "_dom_classes": [],
            "_model_module": "@jupyter-widgets/output",
            "_model_module_version": "1.0.0",
            "_model_name": "OutputModel",
            "_view_count": null,
            "_view_module": "@jupyter-widgets/output",
            "_view_module_version": "1.0.0",
            "_view_name": "OutputView",
            "layout": "IPY_MODEL_c04c629c34ae481896c54ee8dc31cee5",
            "msg_id": "",
            "outputs": [
              {
                "output_type": "display_data",
                "data": {
                  "text/plain": "HTMLMath(value='\\n            Suppose you have 4 points with the following true labels and clusters:\\n        …",
                  "application/vnd.jupyter.widget-view+json": {
                    "version_major": 2,
                    "version_minor": 0,
                    "model_id": "450355350e7341d79394479ebbcd0fc5"
                  }
                },
                "metadata": {}
              },
              {
                "output_type": "display_data",
                "data": {
                  "text/plain": "HTMLMath(value='<table>\\n<thead>\\n<tr><th>point  </th><th style=\"text-align: right;\">  label</th><th style=\"te…",
                  "application/vnd.jupyter.widget-view+json": {
                    "version_major": 2,
                    "version_minor": 0,
                    "model_id": "5c573625cd7d461db7c4f608696813f9"
                  }
                },
                "metadata": {}
              },
              {
                "output_type": "display_data",
                "data": {
                  "text/plain": "HTML(value='What is the clustering quality according to the definition above?')",
                  "application/vnd.jupyter.widget-view+json": {
                    "version_major": 2,
                    "version_minor": 0,
                    "model_id": "6402b6f4834b413093f12641448e24c3"
                  }
                },
                "metadata": {}
              }
            ]
          }
        },
        "a3294607544442868f3a6b291dae6a70": {
          "model_module": "@jupyter-widgets/controls",
          "model_name": "RadioButtonsModel",
          "model_module_version": "1.5.0",
          "state": {
            "_dom_classes": [],
            "_model_module": "@jupyter-widgets/controls",
            "_model_module_version": "1.5.0",
            "_model_name": "RadioButtonsModel",
            "_options_labels": [
              "0",
              "0.25",
              "0.5",
              "0.75"
            ],
            "_view_count": null,
            "_view_module": "@jupyter-widgets/controls",
            "_view_module_version": "1.5.0",
            "_view_name": "RadioButtonsView",
            "description": "",
            "description_tooltip": null,
            "disabled": false,
            "index": 0,
            "layout": "IPY_MODEL_c8b150469c174f8f9d5e1f57dcb02c7a",
            "style": "IPY_MODEL_c1b40ffc19644df78adbfe6fb36d69c0"
          }
        },
        "29eb11b1b0ac41faa505c2eaf41becea": {
          "model_module": "@jupyter-widgets/controls",
          "model_name": "HTMLModel",
          "model_module_version": "1.5.0",
          "state": {
            "_dom_classes": [],
            "_model_module": "@jupyter-widgets/controls",
            "_model_module_version": "1.5.0",
            "_model_name": "HTMLModel",
            "_view_count": null,
            "_view_module": "@jupyter-widgets/controls",
            "_view_module_version": "1.5.0",
            "_view_name": "HTMLView",
            "description": "",
            "description_tooltip": null,
            "layout": "IPY_MODEL_f17fbc4b4a0f4aaf99c807be9719d9b0",
            "placeholder": "​",
            "style": "IPY_MODEL_b59b9d6b76694e13b8282c9e5cc4c3ec",
            "value": "<br>"
          }
        },
        "6964dd145044417ba41b643f7e293ccf": {
          "model_module": "@jupyter-widgets/controls",
          "model_name": "ButtonModel",
          "model_module_version": "1.5.0",
          "state": {
            "_dom_classes": [],
            "_model_module": "@jupyter-widgets/controls",
            "_model_module_version": "1.5.0",
            "_model_name": "ButtonModel",
            "_view_count": null,
            "_view_module": "@jupyter-widgets/controls",
            "_view_module_version": "1.5.0",
            "_view_name": "ButtonView",
            "button_style": "",
            "description": "Check",
            "disabled": false,
            "icon": "",
            "layout": "IPY_MODEL_725a154147694eafa7f7fa0a564d87fe",
            "style": "IPY_MODEL_d976ae3ef9f54341a3d68d82a4b75779",
            "tooltip": ""
          }
        },
        "e0216da0d6ba43cfa74747230ac93d41": {
          "model_module": "@jupyter-widgets/base",
          "model_name": "LayoutModel",
          "model_module_version": "1.2.0",
          "state": {
            "_model_module": "@jupyter-widgets/base",
            "_model_module_version": "1.2.0",
            "_model_name": "LayoutModel",
            "_view_count": null,
            "_view_module": "@jupyter-widgets/base",
            "_view_module_version": "1.2.0",
            "_view_name": "LayoutView",
            "align_content": null,
            "align_items": null,
            "align_self": null,
            "border": null,
            "bottom": null,
            "display": null,
            "flex": null,
            "flex_flow": null,
            "grid_area": null,
            "grid_auto_columns": null,
            "grid_auto_flow": null,
            "grid_auto_rows": null,
            "grid_column": null,
            "grid_gap": null,
            "grid_row": null,
            "grid_template_areas": null,
            "grid_template_columns": null,
            "grid_template_rows": null,
            "height": null,
            "justify_content": null,
            "justify_items": null,
            "left": null,
            "margin": null,
            "max_height": null,
            "max_width": null,
            "min_height": null,
            "min_width": null,
            "object_fit": null,
            "object_position": null,
            "order": null,
            "overflow": null,
            "overflow_x": null,
            "overflow_y": null,
            "padding": null,
            "right": null,
            "top": null,
            "visibility": null,
            "width": null
          }
        },
        "c8b150469c174f8f9d5e1f57dcb02c7a": {
          "model_module": "@jupyter-widgets/base",
          "model_name": "LayoutModel",
          "model_module_version": "1.2.0",
          "state": {
            "_model_module": "@jupyter-widgets/base",
            "_model_module_version": "1.2.0",
            "_model_name": "LayoutModel",
            "_view_count": null,
            "_view_module": "@jupyter-widgets/base",
            "_view_module_version": "1.2.0",
            "_view_name": "LayoutView",
            "align_content": null,
            "align_items": null,
            "align_self": null,
            "border": null,
            "bottom": null,
            "display": null,
            "flex": null,
            "flex_flow": null,
            "grid_area": null,
            "grid_auto_columns": null,
            "grid_auto_flow": null,
            "grid_auto_rows": null,
            "grid_column": null,
            "grid_gap": null,
            "grid_row": null,
            "grid_template_areas": null,
            "grid_template_columns": null,
            "grid_template_rows": null,
            "height": null,
            "justify_content": null,
            "justify_items": null,
            "left": null,
            "margin": null,
            "max_height": null,
            "max_width": null,
            "min_height": null,
            "min_width": null,
            "object_fit": null,
            "object_position": null,
            "order": null,
            "overflow": null,
            "overflow_x": null,
            "overflow_y": null,
            "padding": null,
            "right": null,
            "top": null,
            "visibility": null,
            "width": null
          }
        },
        "c1b40ffc19644df78adbfe6fb36d69c0": {
          "model_module": "@jupyter-widgets/controls",
          "model_name": "DescriptionStyleModel",
          "model_module_version": "1.5.0",
          "state": {
            "_model_module": "@jupyter-widgets/controls",
            "_model_module_version": "1.5.0",
            "_model_name": "DescriptionStyleModel",
            "_view_count": null,
            "_view_module": "@jupyter-widgets/base",
            "_view_module_version": "1.2.0",
            "_view_name": "StyleView",
            "description_width": ""
          }
        },
        "f17fbc4b4a0f4aaf99c807be9719d9b0": {
          "model_module": "@jupyter-widgets/base",
          "model_name": "LayoutModel",
          "model_module_version": "1.2.0",
          "state": {
            "_model_module": "@jupyter-widgets/base",
            "_model_module_version": "1.2.0",
            "_model_name": "LayoutModel",
            "_view_count": null,
            "_view_module": "@jupyter-widgets/base",
            "_view_module_version": "1.2.0",
            "_view_name": "LayoutView",
            "align_content": null,
            "align_items": null,
            "align_self": null,
            "border": null,
            "bottom": null,
            "display": null,
            "flex": null,
            "flex_flow": null,
            "grid_area": null,
            "grid_auto_columns": null,
            "grid_auto_flow": null,
            "grid_auto_rows": null,
            "grid_column": null,
            "grid_gap": null,
            "grid_row": null,
            "grid_template_areas": null,
            "grid_template_columns": null,
            "grid_template_rows": null,
            "height": null,
            "justify_content": null,
            "justify_items": null,
            "left": null,
            "margin": null,
            "max_height": null,
            "max_width": null,
            "min_height": null,
            "min_width": null,
            "object_fit": null,
            "object_position": null,
            "order": null,
            "overflow": null,
            "overflow_x": null,
            "overflow_y": null,
            "padding": null,
            "right": null,
            "top": null,
            "visibility": null,
            "width": null
          }
        },
        "b59b9d6b76694e13b8282c9e5cc4c3ec": {
          "model_module": "@jupyter-widgets/controls",
          "model_name": "DescriptionStyleModel",
          "model_module_version": "1.5.0",
          "state": {
            "_model_module": "@jupyter-widgets/controls",
            "_model_module_version": "1.5.0",
            "_model_name": "DescriptionStyleModel",
            "_view_count": null,
            "_view_module": "@jupyter-widgets/base",
            "_view_module_version": "1.2.0",
            "_view_name": "StyleView",
            "description_width": ""
          }
        },
        "725a154147694eafa7f7fa0a564d87fe": {
          "model_module": "@jupyter-widgets/base",
          "model_name": "LayoutModel",
          "model_module_version": "1.2.0",
          "state": {
            "_model_module": "@jupyter-widgets/base",
            "_model_module_version": "1.2.0",
            "_model_name": "LayoutModel",
            "_view_count": null,
            "_view_module": "@jupyter-widgets/base",
            "_view_module_version": "1.2.0",
            "_view_name": "LayoutView",
            "align_content": null,
            "align_items": null,
            "align_self": null,
            "border": null,
            "bottom": null,
            "display": null,
            "flex": null,
            "flex_flow": null,
            "grid_area": null,
            "grid_auto_columns": null,
            "grid_auto_flow": null,
            "grid_auto_rows": null,
            "grid_column": null,
            "grid_gap": null,
            "grid_row": null,
            "grid_template_areas": null,
            "grid_template_columns": null,
            "grid_template_rows": null,
            "height": null,
            "justify_content": null,
            "justify_items": null,
            "left": null,
            "margin": null,
            "max_height": null,
            "max_width": null,
            "min_height": null,
            "min_width": null,
            "object_fit": null,
            "object_position": null,
            "order": null,
            "overflow": null,
            "overflow_x": null,
            "overflow_y": null,
            "padding": null,
            "right": null,
            "top": null,
            "visibility": null,
            "width": null
          }
        },
        "d976ae3ef9f54341a3d68d82a4b75779": {
          "model_module": "@jupyter-widgets/controls",
          "model_name": "ButtonStyleModel",
          "model_module_version": "1.5.0",
          "state": {
            "_model_module": "@jupyter-widgets/controls",
            "_model_module_version": "1.5.0",
            "_model_name": "ButtonStyleModel",
            "_view_count": null,
            "_view_module": "@jupyter-widgets/base",
            "_view_module_version": "1.2.0",
            "_view_name": "StyleView",
            "button_color": null,
            "font_weight": ""
          }
        },
        "450355350e7341d79394479ebbcd0fc5": {
          "model_module": "@jupyter-widgets/controls",
          "model_name": "HTMLMathModel",
          "model_module_version": "1.5.0",
          "state": {
            "_dom_classes": [],
            "_model_module": "@jupyter-widgets/controls",
            "_model_module_version": "1.5.0",
            "_model_name": "HTMLMathModel",
            "_view_count": null,
            "_view_module": "@jupyter-widgets/controls",
            "_view_module_version": "1.5.0",
            "_view_name": "HTMLMathView",
            "description": "",
            "description_tooltip": null,
            "layout": "IPY_MODEL_84ac9434661e4270941eb3eed6ea25bb",
            "placeholder": "​",
            "style": "IPY_MODEL_df2882526e0a4b83800b5c1c8c219fb2",
            "value": "\n            Suppose you have 4 points with the following true labels and clusters:\n        "
          }
        },
        "c04c629c34ae481896c54ee8dc31cee5": {
          "model_module": "@jupyter-widgets/base",
          "model_name": "LayoutModel",
          "model_module_version": "1.2.0",
          "state": {
            "_model_module": "@jupyter-widgets/base",
            "_model_module_version": "1.2.0",
            "_model_name": "LayoutModel",
            "_view_count": null,
            "_view_module": "@jupyter-widgets/base",
            "_view_module_version": "1.2.0",
            "_view_name": "LayoutView",
            "align_content": null,
            "align_items": null,
            "align_self": null,
            "border": null,
            "bottom": null,
            "display": null,
            "flex": null,
            "flex_flow": null,
            "grid_area": null,
            "grid_auto_columns": null,
            "grid_auto_flow": null,
            "grid_auto_rows": null,
            "grid_column": null,
            "grid_gap": null,
            "grid_row": null,
            "grid_template_areas": null,
            "grid_template_columns": null,
            "grid_template_rows": null,
            "height": null,
            "justify_content": null,
            "justify_items": null,
            "left": null,
            "margin": null,
            "max_height": null,
            "max_width": null,
            "min_height": null,
            "min_width": null,
            "object_fit": null,
            "object_position": null,
            "order": null,
            "overflow": null,
            "overflow_x": null,
            "overflow_y": null,
            "padding": null,
            "right": null,
            "top": null,
            "visibility": null,
            "width": null
          }
        },
        "84ac9434661e4270941eb3eed6ea25bb": {
          "model_module": "@jupyter-widgets/base",
          "model_name": "LayoutModel",
          "model_module_version": "1.2.0",
          "state": {
            "_model_module": "@jupyter-widgets/base",
            "_model_module_version": "1.2.0",
            "_model_name": "LayoutModel",
            "_view_count": null,
            "_view_module": "@jupyter-widgets/base",
            "_view_module_version": "1.2.0",
            "_view_name": "LayoutView",
            "align_content": null,
            "align_items": null,
            "align_self": null,
            "border": null,
            "bottom": null,
            "display": null,
            "flex": null,
            "flex_flow": null,
            "grid_area": null,
            "grid_auto_columns": null,
            "grid_auto_flow": null,
            "grid_auto_rows": null,
            "grid_column": null,
            "grid_gap": null,
            "grid_row": null,
            "grid_template_areas": null,
            "grid_template_columns": null,
            "grid_template_rows": null,
            "height": null,
            "justify_content": null,
            "justify_items": null,
            "left": null,
            "margin": null,
            "max_height": null,
            "max_width": null,
            "min_height": null,
            "min_width": null,
            "object_fit": null,
            "object_position": null,
            "order": null,
            "overflow": null,
            "overflow_x": null,
            "overflow_y": null,
            "padding": null,
            "right": null,
            "top": null,
            "visibility": null,
            "width": null
          }
        },
        "df2882526e0a4b83800b5c1c8c219fb2": {
          "model_module": "@jupyter-widgets/controls",
          "model_name": "DescriptionStyleModel",
          "model_module_version": "1.5.0",
          "state": {
            "_model_module": "@jupyter-widgets/controls",
            "_model_module_version": "1.5.0",
            "_model_name": "DescriptionStyleModel",
            "_view_count": null,
            "_view_module": "@jupyter-widgets/base",
            "_view_module_version": "1.2.0",
            "_view_name": "StyleView",
            "description_width": ""
          }
        },
        "5c573625cd7d461db7c4f608696813f9": {
          "model_module": "@jupyter-widgets/controls",
          "model_name": "HTMLMathModel",
          "model_module_version": "1.5.0",
          "state": {
            "_dom_classes": [],
            "_model_module": "@jupyter-widgets/controls",
            "_model_module_version": "1.5.0",
            "_model_name": "HTMLMathModel",
            "_view_count": null,
            "_view_module": "@jupyter-widgets/controls",
            "_view_module_version": "1.5.0",
            "_view_name": "HTMLMathView",
            "description": "",
            "description_tooltip": null,
            "layout": "IPY_MODEL_36754dac4945431fa0d28a564d56fbd2",
            "placeholder": "​",
            "style": "IPY_MODEL_818ac3298fea4ab4aebff069d41778e4",
            "value": "<table>\n<thead>\n<tr><th>point  </th><th style=\"text-align: right;\">  label</th><th style=\"text-align: right;\">  cluster</th></tr>\n</thead>\n<tbody>\n<tr><td>$x_1$  </td><td style=\"text-align: right;\">      1</td><td style=\"text-align: right;\">        2</td></tr>\n<tr><td>$x_2$  </td><td style=\"text-align: right;\">      1</td><td style=\"text-align: right;\">        2</td></tr>\n<tr><td>$x_3$  </td><td style=\"text-align: right;\">      2</td><td style=\"text-align: right;\">        1</td></tr>\n<tr><td>$x_4$  </td><td style=\"text-align: right;\">      1</td><td style=\"text-align: right;\">        1</td></tr>\n</tbody>\n</table>"
          }
        },
        "36754dac4945431fa0d28a564d56fbd2": {
          "model_module": "@jupyter-widgets/base",
          "model_name": "LayoutModel",
          "model_module_version": "1.2.0",
          "state": {
            "_model_module": "@jupyter-widgets/base",
            "_model_module_version": "1.2.0",
            "_model_name": "LayoutModel",
            "_view_count": null,
            "_view_module": "@jupyter-widgets/base",
            "_view_module_version": "1.2.0",
            "_view_name": "LayoutView",
            "align_content": null,
            "align_items": null,
            "align_self": null,
            "border": null,
            "bottom": null,
            "display": null,
            "flex": null,
            "flex_flow": null,
            "grid_area": null,
            "grid_auto_columns": null,
            "grid_auto_flow": null,
            "grid_auto_rows": null,
            "grid_column": null,
            "grid_gap": null,
            "grid_row": null,
            "grid_template_areas": null,
            "grid_template_columns": null,
            "grid_template_rows": null,
            "height": null,
            "justify_content": null,
            "justify_items": null,
            "left": null,
            "margin": null,
            "max_height": null,
            "max_width": null,
            "min_height": null,
            "min_width": null,
            "object_fit": null,
            "object_position": null,
            "order": null,
            "overflow": null,
            "overflow_x": null,
            "overflow_y": null,
            "padding": null,
            "right": null,
            "top": null,
            "visibility": null,
            "width": null
          }
        },
        "818ac3298fea4ab4aebff069d41778e4": {
          "model_module": "@jupyter-widgets/controls",
          "model_name": "DescriptionStyleModel",
          "model_module_version": "1.5.0",
          "state": {
            "_model_module": "@jupyter-widgets/controls",
            "_model_module_version": "1.5.0",
            "_model_name": "DescriptionStyleModel",
            "_view_count": null,
            "_view_module": "@jupyter-widgets/base",
            "_view_module_version": "1.2.0",
            "_view_name": "StyleView",
            "description_width": ""
          }
        },
        "6402b6f4834b413093f12641448e24c3": {
          "model_module": "@jupyter-widgets/controls",
          "model_name": "HTMLModel",
          "model_module_version": "1.5.0",
          "state": {
            "_dom_classes": [],
            "_model_module": "@jupyter-widgets/controls",
            "_model_module_version": "1.5.0",
            "_model_name": "HTMLModel",
            "_view_count": null,
            "_view_module": "@jupyter-widgets/controls",
            "_view_module_version": "1.5.0",
            "_view_name": "HTMLView",
            "description": "",
            "description_tooltip": null,
            "layout": "IPY_MODEL_99036941070e487a8457da3c2d22d9cf",
            "placeholder": "​",
            "style": "IPY_MODEL_a039e67b967f40e7af5d8961cebcfc3b",
            "value": "What is the clustering quality according to the definition above?"
          }
        },
        "99036941070e487a8457da3c2d22d9cf": {
          "model_module": "@jupyter-widgets/base",
          "model_name": "LayoutModel",
          "model_module_version": "1.2.0",
          "state": {
            "_model_module": "@jupyter-widgets/base",
            "_model_module_version": "1.2.0",
            "_model_name": "LayoutModel",
            "_view_count": null,
            "_view_module": "@jupyter-widgets/base",
            "_view_module_version": "1.2.0",
            "_view_name": "LayoutView",
            "align_content": null,
            "align_items": null,
            "align_self": null,
            "border": null,
            "bottom": null,
            "display": null,
            "flex": null,
            "flex_flow": null,
            "grid_area": null,
            "grid_auto_columns": null,
            "grid_auto_flow": null,
            "grid_auto_rows": null,
            "grid_column": null,
            "grid_gap": null,
            "grid_row": null,
            "grid_template_areas": null,
            "grid_template_columns": null,
            "grid_template_rows": null,
            "height": null,
            "justify_content": null,
            "justify_items": null,
            "left": null,
            "margin": null,
            "max_height": null,
            "max_width": null,
            "min_height": null,
            "min_width": null,
            "object_fit": null,
            "object_position": null,
            "order": null,
            "overflow": null,
            "overflow_x": null,
            "overflow_y": null,
            "padding": null,
            "right": null,
            "top": null,
            "visibility": null,
            "width": null
          }
        },
        "a039e67b967f40e7af5d8961cebcfc3b": {
          "model_module": "@jupyter-widgets/controls",
          "model_name": "DescriptionStyleModel",
          "model_module_version": "1.5.0",
          "state": {
            "_model_module": "@jupyter-widgets/controls",
            "_model_module_version": "1.5.0",
            "_model_name": "DescriptionStyleModel",
            "_view_count": null,
            "_view_module": "@jupyter-widgets/base",
            "_view_module_version": "1.2.0",
            "_view_name": "StyleView",
            "description_width": ""
          }
        }
      }
    }
  },
  "nbformat": 4,
  "nbformat_minor": 0
}