{
  "cells": [
    {
      "cell_type": "markdown",
      "metadata": {
        "id": "view-in-github",
        "colab_type": "text"
      },
      "source": [
        "<a href=\"https://colab.research.google.com/github/mohammadsanaee/ML_in_application/blob/main/8_word2vec.ipynb\" target=\"_parent\"><img src=\"https://colab.research.google.com/assets/colab-badge.svg\" alt=\"Open In Colab\"/></a>"
      ]
    },
    {
      "cell_type": "code",
      "execution_count": 1,
      "metadata": {
        "colab": {
          "base_uri": "https://localhost:8080/"
        },
        "id": "vxF77E9-4JwH",
        "outputId": "f0a395c6-d1b3-40c7-cef4-7eab1bc0e845"
      },
      "outputs": [
        {
          "output_type": "stream",
          "name": "stdout",
          "text": [
            "/usr/local/lib/python3.8/dist-packages/torch/cuda/__init__.py:497: UserWarning: Can't initialize NVML\n",
            "  warnings.warn(\"Can't initialize NVML\")\n",
            "2023-01-18 04:34:35.314914: E tensorflow/stream_executor/cuda/cuda_driver.cc:271] failed call to cuInit: CUDA_ERROR_NO_DEVICE: no CUDA-capable device is detected\n",
            "Looking in indexes: https://pypi.org/simple, https://us-python.pkg.dev/colab-wheels/public/simple/\n",
            "Collecting en-core-web-lg==3.4.1\n",
            "  Downloading https://github.com/explosion/spacy-models/releases/download/en_core_web_lg-3.4.1/en_core_web_lg-3.4.1-py3-none-any.whl (587.7 MB)\n",
            "\u001b[2K     \u001b[90m━━━━━━━━━━━━━━━━━━━━━━━━━━━━━━━━━━━━━━━\u001b[0m \u001b[32m587.7/587.7 MB\u001b[0m \u001b[31m2.1 MB/s\u001b[0m eta \u001b[36m0:00:00\u001b[0m\n",
            "\u001b[?25hRequirement already satisfied: spacy<3.5.0,>=3.4.0 in /usr/local/lib/python3.8/dist-packages (from en-core-web-lg==3.4.1) (3.4.4)\n",
            "Requirement already satisfied: wasabi<1.1.0,>=0.9.1 in /usr/local/lib/python3.8/dist-packages (from spacy<3.5.0,>=3.4.0->en-core-web-lg==3.4.1) (0.10.1)\n",
            "Requirement already satisfied: spacy-legacy<3.1.0,>=3.0.10 in /usr/local/lib/python3.8/dist-packages (from spacy<3.5.0,>=3.4.0->en-core-web-lg==3.4.1) (3.0.11)\n",
            "Requirement already satisfied: requests<3.0.0,>=2.13.0 in /usr/local/lib/python3.8/dist-packages (from spacy<3.5.0,>=3.4.0->en-core-web-lg==3.4.1) (2.25.1)\n",
            "Requirement already satisfied: typer<0.8.0,>=0.3.0 in /usr/local/lib/python3.8/dist-packages (from spacy<3.5.0,>=3.4.0->en-core-web-lg==3.4.1) (0.7.0)\n",
            "Requirement already satisfied: cymem<2.1.0,>=2.0.2 in /usr/local/lib/python3.8/dist-packages (from spacy<3.5.0,>=3.4.0->en-core-web-lg==3.4.1) (2.0.7)\n",
            "Requirement already satisfied: spacy-loggers<2.0.0,>=1.0.0 in /usr/local/lib/python3.8/dist-packages (from spacy<3.5.0,>=3.4.0->en-core-web-lg==3.4.1) (1.0.4)\n",
            "Requirement already satisfied: jinja2 in /usr/local/lib/python3.8/dist-packages (from spacy<3.5.0,>=3.4.0->en-core-web-lg==3.4.1) (2.11.3)\n",
            "Requirement already satisfied: packaging>=20.0 in /usr/local/lib/python3.8/dist-packages (from spacy<3.5.0,>=3.4.0->en-core-web-lg==3.4.1) (21.3)\n",
            "Requirement already satisfied: thinc<8.2.0,>=8.1.0 in /usr/local/lib/python3.8/dist-packages (from spacy<3.5.0,>=3.4.0->en-core-web-lg==3.4.1) (8.1.6)\n",
            "Requirement already satisfied: setuptools in /usr/local/lib/python3.8/dist-packages (from spacy<3.5.0,>=3.4.0->en-core-web-lg==3.4.1) (57.4.0)\n",
            "Requirement already satisfied: pathy>=0.3.5 in /usr/local/lib/python3.8/dist-packages (from spacy<3.5.0,>=3.4.0->en-core-web-lg==3.4.1) (0.10.1)\n",
            "Requirement already satisfied: tqdm<5.0.0,>=4.38.0 in /usr/local/lib/python3.8/dist-packages (from spacy<3.5.0,>=3.4.0->en-core-web-lg==3.4.1) (4.64.1)\n",
            "Requirement already satisfied: srsly<3.0.0,>=2.4.3 in /usr/local/lib/python3.8/dist-packages (from spacy<3.5.0,>=3.4.0->en-core-web-lg==3.4.1) (2.4.5)\n",
            "Requirement already satisfied: langcodes<4.0.0,>=3.2.0 in /usr/local/lib/python3.8/dist-packages (from spacy<3.5.0,>=3.4.0->en-core-web-lg==3.4.1) (3.3.0)\n",
            "Requirement already satisfied: catalogue<2.1.0,>=2.0.6 in /usr/local/lib/python3.8/dist-packages (from spacy<3.5.0,>=3.4.0->en-core-web-lg==3.4.1) (2.0.8)\n",
            "Requirement already satisfied: murmurhash<1.1.0,>=0.28.0 in /usr/local/lib/python3.8/dist-packages (from spacy<3.5.0,>=3.4.0->en-core-web-lg==3.4.1) (1.0.9)\n",
            "Requirement already satisfied: pydantic!=1.8,!=1.8.1,<1.11.0,>=1.7.4 in /usr/local/lib/python3.8/dist-packages (from spacy<3.5.0,>=3.4.0->en-core-web-lg==3.4.1) (1.10.4)\n",
            "Requirement already satisfied: smart-open<7.0.0,>=5.2.1 in /usr/local/lib/python3.8/dist-packages (from spacy<3.5.0,>=3.4.0->en-core-web-lg==3.4.1) (6.3.0)\n",
            "Requirement already satisfied: numpy>=1.15.0 in /usr/local/lib/python3.8/dist-packages (from spacy<3.5.0,>=3.4.0->en-core-web-lg==3.4.1) (1.21.6)\n",
            "Requirement already satisfied: preshed<3.1.0,>=3.0.2 in /usr/local/lib/python3.8/dist-packages (from spacy<3.5.0,>=3.4.0->en-core-web-lg==3.4.1) (3.0.8)\n",
            "Requirement already satisfied: pyparsing!=3.0.5,>=2.0.2 in /usr/local/lib/python3.8/dist-packages (from packaging>=20.0->spacy<3.5.0,>=3.4.0->en-core-web-lg==3.4.1) (3.0.9)\n",
            "Requirement already satisfied: typing-extensions>=4.2.0 in /usr/local/lib/python3.8/dist-packages (from pydantic!=1.8,!=1.8.1,<1.11.0,>=1.7.4->spacy<3.5.0,>=3.4.0->en-core-web-lg==3.4.1) (4.4.0)\n",
            "Requirement already satisfied: urllib3<1.27,>=1.21.1 in /usr/local/lib/python3.8/dist-packages (from requests<3.0.0,>=2.13.0->spacy<3.5.0,>=3.4.0->en-core-web-lg==3.4.1) (1.24.3)\n",
            "Requirement already satisfied: chardet<5,>=3.0.2 in /usr/local/lib/python3.8/dist-packages (from requests<3.0.0,>=2.13.0->spacy<3.5.0,>=3.4.0->en-core-web-lg==3.4.1) (4.0.0)\n",
            "Requirement already satisfied: certifi>=2017.4.17 in /usr/local/lib/python3.8/dist-packages (from requests<3.0.0,>=2.13.0->spacy<3.5.0,>=3.4.0->en-core-web-lg==3.4.1) (2022.12.7)\n",
            "Requirement already satisfied: idna<3,>=2.5 in /usr/local/lib/python3.8/dist-packages (from requests<3.0.0,>=2.13.0->spacy<3.5.0,>=3.4.0->en-core-web-lg==3.4.1) (2.10)\n",
            "Requirement already satisfied: confection<1.0.0,>=0.0.1 in /usr/local/lib/python3.8/dist-packages (from thinc<8.2.0,>=8.1.0->spacy<3.5.0,>=3.4.0->en-core-web-lg==3.4.1) (0.0.3)\n",
            "Requirement already satisfied: blis<0.8.0,>=0.7.8 in /usr/local/lib/python3.8/dist-packages (from thinc<8.2.0,>=8.1.0->spacy<3.5.0,>=3.4.0->en-core-web-lg==3.4.1) (0.7.9)\n",
            "Requirement already satisfied: click<9.0.0,>=7.1.1 in /usr/local/lib/python3.8/dist-packages (from typer<0.8.0,>=0.3.0->spacy<3.5.0,>=3.4.0->en-core-web-lg==3.4.1) (7.1.2)\n",
            "Requirement already satisfied: MarkupSafe>=0.23 in /usr/local/lib/python3.8/dist-packages (from jinja2->spacy<3.5.0,>=3.4.0->en-core-web-lg==3.4.1) (2.0.1)\n",
            "Installing collected packages: en-core-web-lg\n",
            "Successfully installed en-core-web-lg-3.4.1\n",
            "\u001b[38;5;2m✔ Download and installation successful\u001b[0m\n",
            "You can now load the package via spacy.load('en_core_web_lg')\n"
          ]
        }
      ],
      "source": [
        "#@title <b><font color=\"red\">▶</font><font color=\"black\"> run this cell and restart runtime</font></b>\n",
        "\n",
        "!python -m spacy download en_core_web_lg"
      ]
    },
    {
      "cell_type": "code",
      "execution_count": 2,
      "metadata": {
        "colab": {
          "base_uri": "https://localhost:8080/"
        },
        "id": "xb96gaW0L8SX",
        "outputId": "30498668-61c2-4b6c-c683-0c70bfe85243"
      },
      "outputs": [
        {
          "output_type": "stream",
          "name": "stdout",
          "text": [
            "Cloning into 'harbour-space-text-mining-course'...\n",
            "remote: Enumerating objects: 738, done.\u001b[K\n",
            "remote: Counting objects: 100% (175/175), done.\u001b[K\n",
            "remote: Compressing objects: 100% (105/105), done.\u001b[K\n",
            "remote: Total 738 (delta 79), reused 158 (delta 69), pack-reused 563\u001b[K\n",
            "Receiving objects: 100% (738/738), 179.50 MiB | 25.65 MiB/s, done.\n",
            "Resolving deltas: 100% (403/403), done.\n",
            "Updating files: 100% (129/129), done.\n"
          ]
        }
      ],
      "source": [
        "#@title <b><font color=\"red\">▶</font><font color=\"black\"> run this cell to prepare supplementary materials for the lesson</font></b>\n",
        "\n",
        "!rm -rf harbour-space-text-mining-course\n",
        "!git clone https://github.com/horoshenkih/harbour-space-text-mining-course.git\n",
        "import sys\n",
        "sys.path.append('harbour-space-text-mining-course')\n",
        "\n",
        "from tmcourse.utils import (\n",
        "    enable_mathjax_in_cell,\n",
        "    display_pca_scatterplot,\n",
        "    display_pca_scatterplot_interactive\n",
        ")\n",
        "from tmcourse.demo import (\n",
        "    demo_word2vec_batch,\n",
        "    demo_gradient_descent,\n",
        ")\n",
        "from tmcourse.quiz import (\n",
        "    quiz_skibidi,\n",
        "    quiz_word2vec_context,\n",
        "    quiz_word2vec_word_vector,\n",
        "    quiz_word2vec_subsampling,\n",
        "    quiz_word2vec_negative_sampling,\n",
        "    quiz_most_similar,\n",
        "    quiz_earl,\n",
        ")\n",
        "from tmcourse.ipyquiz import Quiz\n",
        "from tqdm.notebook import tqdm\n",
        "\n",
        "import warnings\n",
        "warnings.filterwarnings('ignore')"
      ]
    },
    {
      "cell_type": "markdown",
      "metadata": {
        "id": "TamR3h9OH8Hr"
      },
      "source": [
        "<!--@slideshow slide-->\n",
        "<center><h1>Word vectors</h1></center>"
      ]
    },
    {
      "cell_type": "markdown",
      "metadata": {
        "id": "dAiUCXWVHvN1"
      },
      "source": [
        "<!--@slideshow slide-->\n",
        "# Outline\n",
        "1. Sparsity problem (words are not orthogonal)\n",
        "1. Word meanings and distributional hypothesis\n",
        "1. word2vec: idea and algorithm\n",
        "1. Visualization of word vectors\n",
        "1. Properties of word vectors\n",
        "1. GloVe\n",
        "1. FastText\n",
        "1. Word vectors in spaCy"
      ]
    },
    {
      "cell_type": "markdown",
      "metadata": {
        "id": "9FoyjBIAJW-a"
      },
      "source": [
        "<!--@slideshow slide-->\n",
        "# Sparsity problem (words are not orthogonal)\n",
        "\n",
        "So far, we treated words (or terms) as discrete symbols.\n",
        "  - For each word, `TfidfVectorizer` creates a separate vector component.\n",
        "  - Hence all words are _orthogonal_.\n"
      ]
    },
    {
      "cell_type": "markdown",
      "metadata": {
        "id": "YNAF2SPNKuvW"
      },
      "source": [
        "<!--@slideshow fragment-->\n",
        "The following experiment shows that it may be a problem:\n",
        "1. Take two questions from the Quora Question Pairs dataset:\n",
        "    - \"How can I be a good geologist?\"\n",
        "    - \"What should I do to be a great geologist?\"\n",
        "1. Compute the distance between their tfidf-vectors\n",
        "1. Repeat with only one change in the second question: \"good\" instead of \"great\"."
      ]
    },
    {
      "cell_type": "code",
      "execution_count": 3,
      "metadata": {
        "colab": {
          "base_uri": "https://localhost:8080/"
        },
        "id": "FK0zGGCiFJCl",
        "outputId": "3850f9f7-aadd-4c0d-84ae-e199a5bf6bd4"
      },
      "outputs": [
        {
          "output_type": "stream",
          "name": "stdout",
          "text": [
            "cosine(\"How can I be a good geologist?\", \"What should I do to be a great geologist?\") = 0.24\n",
            "cosine(\"How can I be a good geologist?\", \"What should I do to be a good geologist?\") = 0.11\n"
          ]
        }
      ],
      "source": [
        "#@slideshow slide\n",
        "from sklearn.feature_extraction.text import TfidfVectorizer\n",
        "import pandas as pd\n",
        "import numpy as np\n",
        "from scipy.spatial.distance import cosine\n",
        "def row_to_array(sparse_matrix_row):\n",
        "    return np.squeeze(np.asarray(sparse_matrix_row.todense()))\n",
        "\n",
        "df = pd.read_csv(\"harbour-space-text-mining-course/datasets/quora_question_pairs/train.csv\")\n",
        "\n",
        "# words 'good' and 'great' are similar, but have different TF-IDF representations\n",
        "# let's see if it makes any difference\n",
        "\n",
        "vec = TfidfVectorizer().fit(list(df[\"question1\"].fillna(\".\")) + list(df[\"question2\"].fillna(\".\")))\n",
        "\n",
        "question_1 =              \"How can I be a good geologist?\"  # df.iloc[7][\"question1\"]\n",
        "question_2 =              \"What should I do to be a great geologist?\"  # df.iloc[7][\"question2\"]\n",
        "question_2_reformulated = \"What should I do to be a good geologist?\"\n",
        "\n",
        "vector_1 = row_to_array(vec.transform([question_1]))\n",
        "vector_2 = row_to_array(vec.transform([question_2]))\n",
        "vector_2_reformulated = row_to_array(vec.transform([question_2_reformulated]))\n",
        "print(\"cosine(\\\"{}\\\", \\\"{}\\\") = {:.2f}\".format(question_1, question_2, cosine(vector_1, vector_2)))\n",
        "print(\"cosine(\\\"{}\\\", \\\"{}\\\") = {:.2f}\".format(question_1, question_2_reformulated, cosine(vector_1, vector_2_reformulated)))"
      ]
    },
    {
      "cell_type": "markdown",
      "metadata": {
        "id": "YzNCaEQTNBg5"
      },
      "source": [
        "<!--@slideshow slide-->\n",
        "Words \"good\" and \"great\" have similar meanings in this case, but for TF-IDF they are different."
      ]
    },
    {
      "cell_type": "markdown",
      "metadata": {
        "id": "KIYY9IzvNluc"
      },
      "source": [
        "<!--@slideshow fragment-->\n",
        "**Our goal**: instead of discrete representations (all words are different, or orthogonal), find representations that captures similarity between words.\n"
      ]
    },
    {
      "cell_type": "markdown",
      "metadata": {
        "id": "Q-ho9k9fPnfz"
      },
      "source": [
        "<!--@slideshow fragment-->\n",
        "**Technically**, we will represent words as _vectors_ such that the words with similar meanings will have similar (close) vectors.\n"
      ]
    },
    {
      "cell_type": "markdown",
      "metadata": {
        "id": "U469CuXOPpCW"
      },
      "source": [
        "<!--@slideshow fragment-->\n",
        "But, what is \"meaning\"? How do **we** understand the meaning of the word?"
      ]
    },
    {
      "cell_type": "markdown",
      "metadata": {
        "id": "OLQjN62YJZNt"
      },
      "source": [
        "<!--@slideshow slide-->\n",
        "# Word meanings. Distributional hypothesis."
      ]
    },
    {
      "cell_type": "markdown",
      "metadata": {
        "id": "zzqkeZTO8Odk"
      },
      "source": [
        "<!--@slideshow slide-->\n",
        "## Colab quiz 1\n",
        "What is \"skibidi\"?"
      ]
    },
    {
      "cell_type": "code",
      "execution_count": 4,
      "metadata": {
        "colab": {
          "base_uri": "https://localhost:8080/",
          "height": 371,
          "referenced_widgets": [
            "421c1fdb085a4b8ea6299f6838092228",
            "f2b8eedad008409da2c9ea3f402645ee",
            "c4bb82e8959a4590a379ddb73f04a772",
            "e05a4b7daa4a4eb191ae05ecd81f4072",
            "472651dbe27546d9ae8ef36e20c1efdd",
            "764af4bb9369440ea6510032b305d134",
            "7340cb987bef4932b77cfeac0a8706be",
            "8b4ce51e5cdc47f493aac23d99fc218c",
            "f76d1c9eb9d94df5828e6a00fcf5b322",
            "f7d24ff7d19a4ad998dd2c4f9f6c6b58",
            "f7b1ae5e65294ec2ab2cc199537a5cea",
            "d9478038a14444069162f5ed97ab83c0",
            "5896229669664c6d827aa4170e27092d",
            "870e14cd2188452689f772f0625ff4c0",
            "cbf51b0146e64ac88634555d90b1febd",
            "ccbdd02536e145efb906c13073e746e0"
          ]
        },
        "id": "qX09ii5f7fgi",
        "outputId": "2d22da73-b237-4859-eb47-7312c252eb01"
      },
      "outputs": [
        {
          "output_type": "display_data",
          "data": {
            "text/plain": [
              "VBox(children=(Output(), RadioButtons(options=('definition 1', 'definition 2', 'definition 3', 'definition 4')…"
            ],
            "application/vnd.jupyter.widget-view+json": {
              "version_major": 2,
              "version_minor": 0,
              "model_id": "421c1fdb085a4b8ea6299f6838092228"
            }
          },
          "metadata": {}
        }
      ],
      "source": [
        "quiz_skibidi()()"
      ]
    },
    {
      "cell_type": "markdown",
      "metadata": {
        "id": "x7AUEpSj5Osa"
      },
      "source": [
        "<!--@slideshow fragment-->\n",
        "Actually, neither the word \"skibidi\" nor the definitions 1-4 exist.\n",
        "This quiz was generated using https://www.thisworddoesnotexist.com/\n",
        "\n",
        "How did you know the meaning of \"skibidi\"?"
      ]
    },
    {
      "cell_type": "markdown",
      "metadata": {
        "id": "sO514X8YRr5G"
      },
      "source": [
        "<!--@slideshow slide-->\n",
        "## Distributional semantics\n",
        "**Idea**: the meaning of a word can be deduced from  _contexts_ the word appears in.\n",
        "\n",
        "> \"You shall know a word by the company it keeps\" (Firth, 1957)"
      ]
    },
    {
      "cell_type": "markdown",
      "metadata": {
        "id": "N5ZIg0nBUBwH"
      },
      "source": [
        "<!--@slideshow slide-->\n",
        "- **What we need**: represent words by vectors such that words with similar meanings have similar vectors.\n",
        "- **What we know (assume)**: the meaning of a word can be deduced from  _contexts_ the word appears in\n",
        "- **What we will do**: given a word, predict its context."
      ]
    },
    {
      "cell_type": "markdown",
      "metadata": {
        "id": "z9PVWFNoJgs1"
      },
      "source": [
        "<!--@slideshow slide-->\n",
        "# word2vec\n"
      ]
    },
    {
      "cell_type": "markdown",
      "metadata": {
        "id": "JeY7gHTNdQpM"
      },
      "source": [
        "<!--@slideshow slide-->\n",
        "**Idea**: for each word, find a vector such that words with similar vectors often occur in the same context.\n"
      ]
    },
    {
      "cell_type": "markdown",
      "metadata": {
        "id": "-aUIMGM4dW4H"
      },
      "source": [
        "<!--@slideshow fragment-->\n",
        "- A large corpus of text (Wikipedia).\n",
        "- Every word is represented by a vector.\n",
        "- For each position in the text:\n",
        "  1. Get the word on this position.\n",
        "  1. Get the context of the word.\n",
        "  1. Adjust vectors to maximize the probability of the observed context (the closer the vectors, the larger the probability)."
      ]
    },
    {
      "cell_type": "markdown",
      "metadata": {
        "id": "VkqgywE0xHaF"
      },
      "source": [
        "<!--@slideshow slide-->\n",
        "## Colab demo: word2vec context\n",
        "\n",
        "By definition, the context consists of $m$ surrounding words on the left and $m$ on the right. See the demonstration for $m=3$."
      ]
    },
    {
      "cell_type": "code",
      "execution_count": 5,
      "metadata": {
        "colab": {
          "base_uri": "https://localhost:8080/",
          "height": 120,
          "referenced_widgets": [
            "c052957ef2f9471abed776b02b69e74c",
            "84ced87ee330437b95908ef7b1c0df42",
            "80d9479c63f4486d819ef572ec4b7aa3",
            "a77e3c680c554d17a6b484a237e5afa8",
            "3601adedc71743caacf066854ff6f73c",
            "681128cec11b4937bc74be1786745a8f",
            "9c2a637cd85b4256bc1e73641b3ea9f5",
            "93522b23c51342329f5ada1802a2b1de",
            "242ff0b94afb45c8acdb439aada50a09",
            "ac8950d8971c4c049f57ad6a686c4850",
            "e3ce2f0ffbd143ea8f0bfb23bff6a4be",
            "cc79427675fc404b998df94e5cc3e088"
          ]
        },
        "id": "WNR55q1QPE62",
        "outputId": "370b3bc4-ec21-4f66-8d66-978e03643136"
      },
      "outputs": [
        {
          "output_type": "display_data",
          "data": {
            "text/plain": [
              "VBox(children=(HBox(children=(Button(description='<<', style=ButtonStyle()), Button(description='>>', style=Bu…"
            ],
            "application/vnd.jupyter.widget-view+json": {
              "version_major": 2,
              "version_minor": 0,
              "model_id": "c052957ef2f9471abed776b02b69e74c"
            }
          },
          "metadata": {}
        }
      ],
      "source": [
        "demo_word2vec_batch(\"never gonna give you up never gonna let you down\".split(), 3)"
      ]
    },
    {
      "cell_type": "markdown",
      "metadata": {
        "id": "Ty_viUrnTX7K"
      },
      "source": [
        "<!--@slideshow slide-->\n",
        "## Colab quiz 2\n",
        "Choose the correct context"
      ]
    },
    {
      "cell_type": "code",
      "execution_count": 6,
      "metadata": {
        "colab": {
          "base_uri": "https://localhost:8080/",
          "height": 261,
          "referenced_widgets": [
            "f90c983cdcd34ce9b2b80476d222d60e",
            "f6ed156136a445939323837edfbd240b",
            "5e8cc1dfa0464363aa938ecf4944f7c4",
            "bb44050860a14134956a327aa5b39398",
            "ca3627e5867b42d89ab0c09a928a27d1",
            "46cf0bdb703d45dcbbc4d1bd757dd23b",
            "308f28c0eeb64708a87e8e11bdd5de9b",
            "aa6178e8abf34a34a5564c9930cb25ba",
            "6a0a27905f5741ada81e6dc684d587ad",
            "2dafde599c514266ba2a10d632417d07",
            "0b93fcb2782e4343b796666e6302e905",
            "fba4fc8610d74cf48e272fe2b47270fd",
            "406415f1c21049b5b1b7495760b4deb3",
            "d536ed1b44744b578039630cc75533b8",
            "cf663a3a52b943ebb7b31e34a0375d88",
            "a1d6a18df4984b289a5c773a2f0d257f"
          ]
        },
        "id": "oFuY_cNoTaZ9",
        "outputId": "77725c5a-380f-4ca2-d9ac-8cba85712935"
      },
      "outputs": [
        {
          "output_type": "display_data",
          "data": {
            "text/plain": [
              "VBox(children=(Output(), RadioButtons(options=('(the, brown)', '(the, quick, brown, fox)', '(the, brown, fox)'…"
            ],
            "application/vnd.jupyter.widget-view+json": {
              "version_major": 2,
              "version_minor": 0,
              "model_id": "f90c983cdcd34ce9b2b80476d222d60e"
            }
          },
          "metadata": {}
        }
      ],
      "source": [
        "quiz_word2vec_context()()"
      ]
    },
    {
      "cell_type": "markdown",
      "metadata": {
        "id": "8-MqkDS9i7_n"
      },
      "source": [
        "<!--@slideshow slide-->\n",
        "## word2vec: objective function\n",
        "\n",
        "Consider the position $t$ in the text:\n",
        "- Word: $w_t$\n",
        "- Context: $$w_{t-m}, w_{t-m + 1}, \\dots, w_{\\color{red}{t-1}}, w_{\\color{red}{t+1}}, \\dots, w_{t+m-1}, w_{t+m}$$\n",
        "- Probability of the context\n",
        "$$\n",
        "\\Pr(w_{t-m}, w_{t-m + 1}, \\dots, w_{t-1}, w_{t+1}, \\dots, w_{t+m-1}, w_{t+m}|w_t) \\equiv \\Pr_{\\textrm{context}}(t)\n",
        "$$\n",
        "- Likelihood of the corpus is:\n",
        "$$\n",
        "\\prod_{t=1}^T \\Pr_{\\textrm{context}}(t)\n",
        "$$"
      ]
    },
    {
      "cell_type": "markdown",
      "metadata": {
        "id": "L8w7ZOwfn4aD"
      },
      "source": [
        "<!--@slideshow slide-->\n",
        "\n",
        "Word vectors are _parameters_ $\\theta$.\n",
        "\n",
        "**Our goal**: maximize the likelihood, or minimize the _negative log-likelihood_ w.r.t. $\\theta$:\n",
        "$$\n",
        "L(\\theta) = -\\sum_{t=1}^T \\log\\Pr_{\\textrm{context}}(t)\n",
        "$$"
      ]
    },
    {
      "cell_type": "markdown",
      "metadata": {
        "id": "jk2cRFLds82c"
      },
      "source": [
        "<!--@slideshow fragment-->\n",
        "**Assumption**: for each $t$, words both inside and outside the context are conditionally independent given $w_t$.\n",
        "\n",
        "> Informally, for any word $\\hat{w}$, the probability to find $\\hat{w}$ in the context of $w_t$ depends only on $w_t$.\n"
      ]
    },
    {
      "cell_type": "markdown",
      "metadata": {
        "id": "NsiscDad3Cya"
      },
      "source": [
        "<!--@slideshow fragment-->\n",
        "So we can write:\n",
        "$$\n",
        "\\Pr_{\\textrm{context}}(t) = \\left(\\prod_{w' \\in \\textrm{context}(w_t)} \\Pr(w'|w_t)\\right)\\left(\\prod_{w'' \\notin \\textrm{context}(w_t)}(1 - \\Pr(w''|w))\\right)\n",
        "$$"
      ]
    },
    {
      "cell_type": "markdown",
      "metadata": {
        "id": "7VQ4bZrsWTQr"
      },
      "source": [
        "<!--@slideshow slide-->\n",
        "The objective function:\n",
        "$$\n",
        "L(\\theta) = -\\sum_{t=1}^T \\left(\\sum_{w' \\in \\textrm{context}(w_t)} \\log\\Pr(w'|w_t) + \\sum_{w'' \\notin \\textrm{context}(w_t)}\\log(1 - \\Pr(w''|w))\\right)\n",
        "$$\n",
        "\n",
        "As usual, we will use gradient descent to find parameters (word vectors) $\\theta$ that minimize $L(\\theta)$. "
      ]
    },
    {
      "cell_type": "markdown",
      "metadata": {
        "id": "sUG7EMdOXiAI"
      },
      "source": [
        "<!--@slideshow slide-->\n",
        "## Problem 1: word in its own context\n",
        "\n",
        "How do we estimate $\\Pr(o|c)$?\n",
        "\n",
        "Suppose the word $o$ has vector $\\mathbf{u}$, and the word $c$ has vector $\\mathbf{v}$.\n",
        "\n",
        "It's natural to estimate\n",
        "$$\n",
        "\\Pr(o|c) = \\sigma(\\mathbf{u} \\cdot \\mathbf{v})\n",
        "$$\n",
        "where $\\mathbf{u} \\cdot \\mathbf{v}$ is the dot product, and $\\sigma(s) = \\dfrac{1}{1 + e^{-s}}$ is the sigmoid function."
      ]
    },
    {
      "cell_type": "markdown",
      "metadata": {
        "id": "VMTbDSrxYtkI"
      },
      "source": [
        "<!--@slideshow fragment-->\n",
        "But what if $o = c$?\n",
        "\n",
        "The dot product is large, but the probability to see the word in its own context is low!"
      ]
    },
    {
      "cell_type": "markdown",
      "metadata": {
        "id": "lBxzV36-ZLEI"
      },
      "source": [
        "<!--@slideshow fragment-->\n",
        "**Solution**: for each word $w$, instead of _one_ vector, keep _two_ vectors:\n",
        "1. When $w$ is the context word: $\\mathbf{u}_w$.\n",
        "1. When $w$ is the central word: $\\mathbf{v}_w$."
      ]
    },
    {
      "cell_type": "markdown",
      "metadata": {
        "id": "K19QPD1AaU-J"
      },
      "source": [
        "<!--@slideshow slide-->\n",
        "## Problem 2: computational complexity\n",
        "Remember that the objective function is\n",
        "$$\n",
        "L(\\theta) = -\\sum_{t=1}^T \\left(\\sum_{w' \\in \\textrm{context}(w_t)} \\log\\Pr(w'|w_t) + \\sum_{\\color{red}{w'' \\notin \\textrm{context}(w_t)}}\\log(1 - \\Pr(w''|w))\\right)\n",
        "$$\n"
      ]
    },
    {
      "cell_type": "markdown",
      "metadata": {
        "id": "dwQsuPcIzTFQ"
      },
      "source": [
        "<!--@slideshow fragment-->\n",
        "- In each term, the second sum is computed over the full vocabulary (except for the context of $w_t$).\n",
        "- We need to compute it for each position $t$ in the text.\n"
      ]
    },
    {
      "cell_type": "markdown",
      "metadata": {
        "id": "pZmXnyhXzUfn"
      },
      "source": [
        "<!--@slideshow fragment-->\n",
        "**Solution**: **for each context word**, keep only the fixed number (5-20) of terms in the second sum.\n",
        "\n",
        "> This is called **negative sampling**."
      ]
    },
    {
      "cell_type": "markdown",
      "metadata": {
        "id": "QIXXM9Dxbd4h"
      },
      "source": [
        "<!--@slideshow slide-->\n",
        "## Problem 3: \"meaningless\" words\n",
        "\n",
        "Some words (like prepositions and articles in English)\n",
        "- are very frequent,\n",
        "- play only a technical role and therefore don't have meaning.\n",
        "\n"
      ]
    },
    {
      "cell_type": "markdown",
      "metadata": {
        "id": "RKG2AWi13SkR"
      },
      "source": [
        "<!--@slideshow fragment-->\n",
        "So they harm the performance of stochastic gradient descent, because\n",
        "- they cause may updates because they are frequent,\n",
        "- these updates are \"noisy\", because \"technical\" words don't have meaning."
      ]
    },
    {
      "cell_type": "markdown",
      "metadata": {
        "id": "Cf4-WD6adbAd"
      },
      "source": [
        "<!--@slideshow fragment-->\n",
        "**Solution**: throw frequent words away with some probability (the higher the frequency, the higher the probability).\n",
        "\n",
        "> This is called **subsampling**."
      ]
    },
    {
      "cell_type": "markdown",
      "metadata": {
        "id": "DmOTcfQuJnDs"
      },
      "source": [
        "<!--@slideshow slide-->\n",
        "## Colab demo: word2vec implementation"
      ]
    },
    {
      "cell_type": "code",
      "execution_count": 7,
      "metadata": {
        "id": "3iUFbbRY8HuF"
      },
      "outputs": [],
      "source": [
        "import numpy as np\n",
        "from collections import Counter\n",
        "from scipy.special import softmax\n",
        "from scipy.special import expit as sigmoid  # \"expit\" is the inverse of \"logit\"\n",
        "from scipy.spatial.distance import cosine as cosine_distance\n",
        "\n",
        "class Word2Vec:\n",
        "    \"\"\"\n",
        "    This is an instructive implementation of skip-gram word2vec algorithm with negative sampling loss.\n",
        "    It is deliberately inefficient: it uses built-in Python data structures (dicts and lists)\n",
        "    instead of matrix-vector operations.\n",
        "\n",
        "    The recommended way to read the code is the following:\n",
        "    1. First, read the implementation of the `train()` method:\n",
        "        - Training loop: iterate few times (epochs) over the training data.\n",
        "          Number of epochs is provided in the `n_epoch` parameter,\n",
        "          and `self.learning_rate` is predefined step size of gradient descent.\n",
        "        - In each iteration, a batch (central_word and context_words) is generated.\n",
        "        - Too frequent words are discarded (subsampling).\n",
        "        - The gradients are computed and gradient step is performed.\n",
        "    2. Then look at the method `generate_batches()`.\n",
        "       It creates pairs (central word, [list of context words])\n",
        "       by moving sliding window of predefined size `self.window_size`.\n",
        "    3. Then check the `generate_negative_samples()` method.\n",
        "       Its implementation is short, but there are two important details:\n",
        "       - Sampling is performed with replacement. It mimics i.i.d. assumption:\n",
        "         negative samples must be independent.\n",
        "       - The central word and the context word are discarded from the set \n",
        "         of negative samples.\n",
        "    4. The most important part is how gradients are computed: the method `compute_gradients()`.\n",
        "       The gradients are derived in this lecture; this method just implements them in Python code.\n",
        "    5. Then take a look at `build_vocabulary()`: it is mostly technical.\n",
        "    6. `get_vector()` method is just a one-liner, but pay attention to the fact\n",
        "       that we use only one of two matrices (the matrix of central vectors).\n",
        "    7. `get_similar_words()` method implements inefficient (O(|V|)) search of\n",
        "       words whose vectors are closest to the vector of the given word.\n",
        "    8. `__init__()` method just stores all hyperparameters and initializes necessary data structures.\n",
        "    \"\"\"\n",
        "    def __init__(\n",
        "        self,\n",
        "        window_size=2,\n",
        "        vector_size=10,\n",
        "        n_negative_samples=20,\n",
        "        learning_rate=1e-5,\n",
        "        seed=0\n",
        "    ):\n",
        "        self.window_size = window_size\n",
        "        self.learning_rate = learning_rate\n",
        "\n",
        "        self.vocab = Counter()\n",
        "\n",
        "        # how many dimensions each vector has\n",
        "        self.vector_size = vector_size\n",
        "        # vectors are initialized in .build_vocabulary() after the vocabulary is known\n",
        "        self.central_vectors = dict()  \n",
        "        self.context_vectors = dict()\n",
        "\n",
        "        # number of negative samples for each context word\n",
        "        self.n_negative_samples = n_negative_samples\n",
        "\n",
        "        # prepare vocabulary for negative sampling and subsampling\n",
        "        self.words_array = []\n",
        "        self.negative_sampling_probabilities = []\n",
        "        self.subsampling_probabilities = dict()\n",
        "\n",
        "        np.random.seed(seed)\n",
        "\n",
        "    def build_vocabulary(self, sequences):\n",
        "        # count all the words\n",
        "        for sequence in sequences:\n",
        "            for word in sequence:\n",
        "                self.vocab[word] += 1\n",
        "\n",
        "        sum_counts_negative_sampling = sum(v**0.75 for v in self.vocab.values())\n",
        "        sum_counts_subsampling = sum(self.vocab.values())\n",
        "        for word, count in self.vocab.items():\n",
        "            self.words_array.append(word)\n",
        "            self.negative_sampling_probabilities.append(count**0.75 / sum_counts_negative_sampling)\n",
        "            word_frequency = count / sum_counts_subsampling\n",
        "            self.subsampling_probabilities[word] = (1 + np.sqrt(word_frequency / 0.001)) * 0.001 / word_frequency\n",
        "\n",
        "        # initialize vectors with small values around 0\n",
        "        for word in self.vocab:\n",
        "            self.central_vectors[word] = np.random.randn(self.vector_size) * 0.1\n",
        "            self.context_vectors[word] = np.random.randn(self.vector_size) * 0.1\n",
        "\n",
        "    def generate_batches(self, sequence):\n",
        "        # move sliding window over the sequence \n",
        "        # for each position of the window generate list of context words\n",
        "        # return list of lists pairs (central word, [context words])\n",
        "        batches = []\n",
        "        for i_central, central_word in enumerate(sequence):\n",
        "            # ignore the words outside of vocabulary (we don't have vectors for them)\n",
        "            if central_word not in self.vocab:\n",
        "                continue\n",
        "            context_words = []\n",
        "            # iterate from i_central - window_size, i_central + window_size\n",
        "            for i_context in range(i_central - self.window_size, i_central + self.window_size + 1):\n",
        "                # handle boundary cases\n",
        "                if i_context < 0 or i_context >= len(sequence):\n",
        "                    continue\n",
        "                # exclude the central word itself\n",
        "                if i_context == i_central:\n",
        "                    continue\n",
        "                context_word = sequence[i_context]\n",
        "                # ignore the words outside of vocabulary\n",
        "                if context_word not in self.vocab:\n",
        "                    continue\n",
        "                # update the batch that corresponds to the current central word\n",
        "                context_words.append(context_word)\n",
        "            # update batches with the collected batch\n",
        "            batches.append((central_word, context_words))\n",
        "        return batches\n",
        "\n",
        "    def generate_negative_samples(self, central_word, context_word):\n",
        "        negative_samples = np.random.choice(\n",
        "            self.words_array,\n",
        "            size=self.n_negative_samples,\n",
        "            replace=True,  # sampling with replacement: mimics i.i.d assumption\n",
        "            p=self.negative_sampling_probabilities\n",
        "        )\n",
        "        return [n for n in negative_samples if n != central_word and n != context_word]\n",
        "\n",
        "    def compute_gradients(self, central_word, context_word, negative_samples):\n",
        "        central_vector = self.central_vectors[central_word]\n",
        "\n",
        "        # accumulate gradient of the central word\n",
        "        central_word_gradient = np.zeros(self.vector_size)\n",
        "\n",
        "        context_word_vector = self.context_vectors[context_word]\n",
        "        context_words_gradient = -central_vector * (1 - sigmoid(np.dot(context_word_vector, central_vector)))\n",
        "\n",
        "        central_word_gradient += -context_word_vector * (1 - sigmoid(np.dot(context_word_vector, central_vector)))\n",
        "\n",
        "        # a word in negative sample can be sampled many times, so we accumulate gradients\n",
        "        negative_samples_gradients = {n: np.zeros(self.vector_size) for n in negative_samples}\n",
        "        for negative_sample in negative_samples:\n",
        "            negative_sample_vector = self.context_vectors[negative_sample]\n",
        "            negative_samples_gradients[negative_sample] += central_vector * (1 - sigmoid(-np.dot(negative_sample_vector, central_vector)))\n",
        "            central_word_gradient += negative_sample_vector * (1 - sigmoid(-np.dot(negative_sample_vector, central_vector)))\n",
        "\n",
        "        return central_word_gradient, context_words_gradient, negative_samples_gradients\n",
        "\n",
        "    def train(self, sequences, n_epoch=5):\n",
        "        T = 0\n",
        "        for epoch in range(n_epoch):\n",
        "            for sequence in sequences:\n",
        "                # learning rate decays proportional to the number of iterations\n",
        "                # similar to the original word2vec code\n",
        "                alpha = self.learning_rate * max(0.0001, (1 - T / (n_epoch * len(sequences))))\n",
        "                T += 1\n",
        "                for batch in self.generate_batches(sequence):\n",
        "                    central_word, context_words = batch\n",
        "\n",
        "                    # subsample: randomly discard too frequent words\n",
        "                    if np.random.random() > self.subsampling_probabilities[central_word]:\n",
        "                        continue\n",
        "\n",
        "                    for context_word in context_words:\n",
        "                        # generate negative samples\n",
        "                        # negative samples do not include the central word and the context word\n",
        "                        negative_samples = self.generate_negative_samples(central_word, context_word)\n",
        "\n",
        "                        # compute gradients\n",
        "                        central_word_gradient, context_word_gradient, negative_samples_gradients = self.compute_gradients(\n",
        "                            central_word, context_word, negative_samples\n",
        "                        )\n",
        "                        # perform one step of gradient descent: update all the parameters in direction opposite to gradient\n",
        "                        self.central_vectors[central_word] -= alpha * central_word_gradient\n",
        "                        self.context_vectors[context_word] -= alpha * context_word_gradient\n",
        "                        for negative_sample in negative_samples:\n",
        "                            self.context_vectors[negative_sample] -= alpha * negative_samples_gradients[negative_sample]\n",
        "\n",
        "    def get_vector(self, word):\n",
        "        return self.central_vectors[word]\n",
        "\n",
        "    def get_similar_words(self, word, k=10):\n",
        "        word_vector = self.get_vector(word)\n",
        "        cosine_similarities = [1 - 0.5 * cosine_distance(word_vector, self.get_vector(w)) for w in self.words_array]\n",
        "        return list(\n",
        "            reversed([\n",
        "                (self.words_array[i], cosine_similarities[i])\n",
        "                for i in np.argsort(cosine_similarities)[-k-1:-1]  # exclude the word itself\n",
        "            ])\n",
        "        )\n"
      ]
    },
    {
      "cell_type": "code",
      "execution_count": 8,
      "metadata": {
        "colab": {
          "base_uri": "https://localhost:8080/"
        },
        "id": "iFkOzUEArFcU",
        "outputId": "56844478-40af-4803-d369-c95c5e630037"
      },
      "outputs": [
        {
          "output_type": "stream",
          "name": "stdout",
          "text": [
            "A few lines of the toy dataset:\n",
            "vohgkXAyfvap\n",
            "lgenmXAfojrf\n",
            "lpkohXBwinqm\n",
            "Words most similar to 'A'\n",
            "[('B', 0.9999876210481137),\n",
            " ('z', 0.957950766495169),\n",
            " ('a', 0.9129377419737474),\n",
            " ('k', 0.9053724127989855),\n",
            " ('i', 0.903494187003081),\n",
            " ('b', 0.8990275152337034),\n",
            " ('n', 0.8655117493755607),\n",
            " ('g', 0.8500906263010772),\n",
            " ('t', 0.8474761246122444),\n",
            " ('m', 0.8428073281604462)]\n"
          ]
        }
      ],
      "source": [
        "# toy example: \"A\" and \"B\" always occur near X\n",
        "# all the other words (actually, characters) from the left and from the right are random\n",
        "from string import ascii_lowercase\n",
        "import random\n",
        "from pprint import pprint\n",
        "\n",
        "random.seed(0)\n",
        "n_examples = 1000\n",
        "# generate random left and right halves\n",
        "left_contexts = [random.choices(ascii_lowercase, k=5) for _ in range(n_examples)]\n",
        "right_contexts = [random.choices(ascii_lowercase, k=5) for _ in range(n_examples)]\n",
        "\n",
        "# insert \"XA\" and \"XB\" to the middle\n",
        "toy_dataset = [\n",
        "    l + list(\"XA\") + r for l, r in zip(left_contexts, right_contexts)\n",
        "] + [\n",
        "    l + list(\"XB\") + r for l, r in zip(left_contexts, right_contexts)\n",
        "]\n",
        "random.shuffle(toy_dataset)\n",
        "\n",
        "print(\"A few lines of the toy dataset:\")\n",
        "print(\"\\n\".join([\"\".join(t) for t in toy_dataset[:3]]))\n",
        "window_size = 1\n",
        "vector_size = 2\n",
        "learning_rate = 0.1\n",
        "n_epoch = 5\n",
        "n_negative_samples = 5\n",
        "word2vec = Word2Vec(\n",
        "    seed=1,\n",
        "    window_size=window_size,\n",
        "    vector_size=vector_size,\n",
        "    learning_rate=learning_rate,\n",
        "    n_negative_samples=n_negative_samples\n",
        ")\n",
        "word2vec.build_vocabulary(toy_dataset)\n",
        "word2vec.train(toy_dataset, n_epoch=n_epoch)\n",
        "print(\"Words most similar to 'A'\")\n",
        "pprint(word2vec.get_similar_words(\"A\"))"
      ]
    },
    {
      "cell_type": "markdown",
      "metadata": {
        "id": "fM-u4-mWWdk1"
      },
      "source": [
        "<!--@slideshow slide-->\n",
        "## Colab quiz 3\n",
        "\n",
        "How are word vectors computed?"
      ]
    },
    {
      "cell_type": "code",
      "execution_count": 9,
      "metadata": {
        "colab": {
          "base_uri": "https://localhost:8080/",
          "height": 225,
          "referenced_widgets": [
            "849c46d5241241b9a7d6c5f8b079f80e",
            "8a1a40d5cf834c60ad82946069f96e0b",
            "aaf8d1762719478e9facf158bdc36216",
            "73d902a1f4a9447390191b18640cf2a3",
            "53b4b12f80a548e8a61e69722504488b",
            "1913998e2fae45b897b130dd24443bd3",
            "bf7db7c62b0b454489bb63fbc2439434",
            "2938b6df08f94977afdc59e100310767",
            "901ee1d2e6c84a7d97bdfd5f816c3bfc",
            "f959fb87383c456a8abfee57b6914142",
            "8d12e5de345145ab84859ddf2845e134",
            "ae67e680ef5542b3b64df10a517b463a",
            "d89cfe8d52ba438a90077d95e7b3d5ea",
            "db95eb1c647842bdad72ce91ecebc4bf",
            "8a134aa7c02e483ea353ec02b7d18ddf",
            "657c0899791745fa9d37dfde76ef5cbe"
          ]
        },
        "id": "VJlKXB_-WfA3",
        "outputId": "78707e66-9736-4f65-9147-d6c5dd0e91eb"
      },
      "outputs": [
        {
          "output_type": "display_data",
          "data": {
            "text/plain": [
              "VBox(children=(Output(), RadioButtons(options=('Taken from the matrix of context vectors', 'Taken from the mat…"
            ],
            "application/vnd.jupyter.widget-view+json": {
              "version_major": 2,
              "version_minor": 0,
              "model_id": "849c46d5241241b9a7d6c5f8b079f80e"
            }
          },
          "metadata": {}
        }
      ],
      "source": [
        "quiz_word2vec_word_vector()()"
      ]
    },
    {
      "cell_type": "markdown",
      "metadata": {
        "id": "0g2DUJydV21w"
      },
      "source": [
        "<!--@slideshow slide-->\n",
        "## Colab quiz 4\n",
        "\n",
        "Which words are subsampled?"
      ]
    },
    {
      "cell_type": "code",
      "execution_count": 10,
      "metadata": {
        "colab": {
          "base_uri": "https://localhost:8080/",
          "height": 197,
          "referenced_widgets": [
            "65bd909316974f79b102e27595763158",
            "775671df5edb40279432edb1da75064a",
            "c2accf5f833743c78e2fa522c20c03bb",
            "e8aa9857c2ed4d3796db779a09596b2f",
            "68fdcd0da5f3467b91c0b8d8c517f950",
            "ada6eda7510542ba82f934ca5e6e5a9c",
            "c60d9875c03e4bcb94f6a588217d510b",
            "f12f66d662d347dfae5daa1559cfc536",
            "0138427ee95944c78faf130cbb27e500",
            "413117b1a8df4f36a2f251bff211c859",
            "c227564fcca04bfebbacfb3405c69c95",
            "99c12994158442b2ac35911eee81812c",
            "a2456fb2a3a94fee9a027064726adcba",
            "b787d7a0032a4ccc9515c721670dc137",
            "1245e9b9a3dd4fbaa6c82c9331fba24d",
            "50ba8e48b9ea4ad3b603d967a135406f"
          ]
        },
        "id": "yimy-T6YV4UF",
        "outputId": "6de0cf48-f745-4f73-9c1c-018c09a4fb31"
      },
      "outputs": [
        {
          "output_type": "display_data",
          "data": {
            "text/plain": [
              "VBox(children=(Output(), RadioButtons(options=('Central words', 'Context words', 'Negative samples', 'All of t…"
            ],
            "application/vnd.jupyter.widget-view+json": {
              "version_major": 2,
              "version_minor": 0,
              "model_id": "65bd909316974f79b102e27595763158"
            }
          },
          "metadata": {}
        }
      ],
      "source": [
        "quiz_word2vec_subsampling()()"
      ]
    },
    {
      "cell_type": "markdown",
      "metadata": {
        "id": "QdGKcJ-AV9xq"
      },
      "source": [
        "<!--@slideshow slide-->\n",
        "## Colab quiz 5\n",
        "\n",
        "Details of negative sampling."
      ]
    },
    {
      "cell_type": "code",
      "execution_count": 11,
      "metadata": {
        "colab": {
          "base_uri": "https://localhost:8080/",
          "height": 197,
          "referenced_widgets": [
            "ffb38688f68a41698e73e96c8b089bbb",
            "3fbf52f605f44708ac43fdbaff85e1db",
            "308ac2ce401044f19cc069b6506470d2",
            "5df38531838a4297ac4c628e92bc924a",
            "d175d965a9e44d718dc31565a4d9ae09",
            "759cbfc22b0a4468855650fbe4aa9e3e",
            "e5fd1ba8f2c4445eb536166c5429473f",
            "594739a9cb7442f5ab25f6ef3b325b53",
            "4415e95e183e4824a0fed9dc2c3aa74d",
            "c5a812fef2184bfd83f2e9576fa3e9cb",
            "656869e27e66421eb45af002badb0980",
            "814530f2277c4cd4a06081a26336cd5b",
            "955d0b0614b6429ea91e5dd01c4e30a7",
            "862d08bdbdd64d03856b179281ce31f0",
            "03b547db5a2b43009a2eb206c6617e5f",
            "9f770ac5510c4d019e017d838a279c6e"
          ]
        },
        "id": "oObLIsyZWNsB",
        "outputId": "8bf8a214-29ef-4b64-ad1e-c3516a617476"
      },
      "outputs": [
        {
          "output_type": "display_data",
          "data": {
            "text/plain": [
              "VBox(children=(Output(), RadioButtons(options=('without replacement; negative samples are i.i.d.', 'with repla…"
            ],
            "application/vnd.jupyter.widget-view+json": {
              "version_major": 2,
              "version_minor": 0,
              "model_id": "ffb38688f68a41698e73e96c8b089bbb"
            }
          },
          "metadata": {}
        }
      ],
      "source": [
        "quiz_word2vec_negative_sampling()()"
      ]
    },
    {
      "cell_type": "markdown",
      "metadata": {
        "id": "ed79xvIsVmUU"
      },
      "source": [
        "<!--@slideshow slide-->\n",
        "## Derivation of gradients"
      ]
    },
    {
      "cell_type": "markdown",
      "metadata": {
        "id": "83RIkP3VlfcG"
      },
      "source": [
        "<!--@slideshow slide-->\n",
        "## Exercise 1\n",
        "Prove that $\\sigma(-\\mathbf{x}) = 1 - \\sigma(\\mathbf{x})$."
      ]
    },
    {
      "cell_type": "markdown",
      "metadata": {
        "id": "F352RwUBVo_X"
      },
      "source": [
        "<!--@slideshow slide-->\n",
        "## Exercise 2\n",
        "\n",
        "Prove that $\\dfrac{\\mathrm{d}\\sigma(\\mathbf{x})}{\\mathrm{d}\\mathbf{x}} = \\sigma(\\mathbf{x})(1-\\sigma(\\mathbf{x}))$."
      ]
    },
    {
      "cell_type": "markdown",
      "metadata": {
        "id": "TDXhIvRgkzc1"
      },
      "source": [
        "<!--@slideshow slide-->\n",
        "## Exercise 3\n",
        "\n",
        "Prove that for arbitrary vectors $\\mathbf{x}, \\mathbf{y}$\n",
        "- $\\dfrac{\\mathrm{d}(\\mathbf{x} \\cdot \\mathbf{y})}{\\mathrm{d}\\mathbf{x}} = \\mathbf{y}$\n",
        "- $\\dfrac{\\mathrm{d}(\\mathbf{x} \\cdot \\mathbf{y})}{\\mathrm{d}\\mathbf{y}} = \\mathbf{x}$"
      ]
    },
    {
      "cell_type": "markdown",
      "metadata": {
        "id": "uhS8aD2SlPvr"
      },
      "source": [
        "<!--@slideshow slide-->\n",
        "### Derivation of gradient w.r.t. central word\n",
        "\n",
        "Consider one term in the objective function:\n",
        "$$\n",
        "\\ell(c, o, N) = -\\log\\Pr(o|c) - \\sum_{n \\in N}\\log(1 - \\Pr(n|c))\n",
        "$$\n",
        "where $c$ is the central word, $o$ is the context (\"outside\") word, $n \\in N$ is a negative sample."
      ]
    },
    {
      "cell_type": "markdown",
      "metadata": {
        "id": "c3AfJugEnHfy"
      },
      "source": [
        "<!--@slideshow fragment-->\n",
        "Since $\\Pr(o|c) = \\sigma(\\mathbf{u}_o \\cdot \\mathbf{v}_c)$ and $1 - \\Pr(n|c) = \\sigma(-\\mathbf{u}_n \\cdot \\mathbf{v}_c)$, we have\n",
        "$$\n",
        "\\ell(c, o, N) = -\\log\\sigma(\\mathbf{u}_o \\cdot \\mathbf{v}_c) - \\sum_{n \\in N}\\log\\sigma(-\\mathbf{u}_n \\cdot \\mathbf{v}_c)\n",
        "$$"
      ]
    },
    {
      "cell_type": "markdown",
      "metadata": {
        "id": "RXZW7ZPNqkIJ"
      },
      "source": [
        "<!--@slideshow slide-->\n",
        "$$\n",
        "-\\dfrac{\\mathrm{d}\\log\\sigma(\\mathbf{u}_o \\cdot \\mathbf{v}_c)}{\\mathrm{d}\\mathbf{v}_c} \n",
        "$$\n"
      ]
    },
    {
      "cell_type": "markdown",
      "metadata": {
        "id": "fhLJMNx5qlVV"
      },
      "source": [
        "<!--@slideshow fragment-->\n",
        "$$\n",
        "= - \\dfrac{1}{\\sigma(\\mathbf{u}_o \\cdot \\mathbf{v}_c)} \\dfrac{\\mathrm{d}\\sigma(\\mathbf{u}_o \\cdot \\mathbf{v}_c)}{\\mathrm{d}\\mathbf{v}_c}\n",
        "$$\n"
      ]
    },
    {
      "cell_type": "markdown",
      "metadata": {
        "id": "U8y65R9vqmr1"
      },
      "source": [
        "<!--@slideshow fragment-->\n",
        "$$\n",
        "= - \\dfrac{1}{\\sigma(\\mathbf{u}_o \\cdot \\mathbf{v}_c)} \\sigma(\\mathbf{u}_o \\cdot \\mathbf{v}_c) (1 - \\sigma(\\mathbf{u}_o \\cdot \\mathbf{v}_c)) \\dfrac{\\mathrm{d} \\mathbf{u}_o \\cdot \\mathbf{v}_c}{\\mathrm{d}\\mathbf{v}_c}\n",
        "$$\n"
      ]
    },
    {
      "cell_type": "markdown",
      "metadata": {
        "id": "ZNHcGVYfqn0z"
      },
      "source": [
        "<!--@slideshow fragment-->\n",
        "$$\n",
        "= - (1 - \\sigma(\\mathbf{u}_o \\cdot \\mathbf{v}_c)) \\mathbf{u}_o\n",
        "$$"
      ]
    },
    {
      "cell_type": "markdown",
      "metadata": {
        "id": "h-eqmh8aqxa3"
      },
      "source": [
        "<!--@slideshow slide-->\n",
        "Similarly,\n",
        "\n",
        "$$\n",
        "\\dfrac{\\mathrm{d}}{\\mathrm{d}\\mathbf{v}_c}\\left(-\\sum_{n \\in N}\\log\\sigma(-\\mathbf{u}_n \\cdot \\mathbf{v}_c)\\right)\n",
        "=\n",
        "\\sum_{n \\in N} \\mathbf{u}_n(1 - \\sigma(-\\mathbf{u}_n\\cdot \\mathbf{v}_c))\n",
        "$$ "
      ]
    },
    {
      "cell_type": "markdown",
      "metadata": {
        "id": "zyvcncqkwBxr"
      },
      "source": [
        "<!--@slideshow slide-->\n",
        "## Exercise 4\n",
        "Find derivatives $\\dfrac{\\mathrm{d}\\ell(c, o, N)}{\\mathrm{d}\\mathbf{u}_o}$ and $\\dfrac{\\mathrm{d}\\ell(c, o, N)}{\\mathrm{d}\\mathbf{u}_n}$."
      ]
    },
    {
      "cell_type": "markdown",
      "metadata": {
        "id": "qZAMIjFAJyhz"
      },
      "source": [
        "<!--@slideshow slide-->\n",
        "# Colab demo: word2vec in gensim"
      ]
    },
    {
      "cell_type": "markdown",
      "metadata": {
        "id": "Qu5mpaClbTYH"
      },
      "source": [
        "## How to train"
      ]
    },
    {
      "cell_type": "code",
      "execution_count": 12,
      "metadata": {
        "colab": {
          "base_uri": "https://localhost:8080/"
        },
        "id": "15DlND7gVet4",
        "outputId": "06aaa08c-a494-44f1-a3a2-34ebccb5ad53"
      },
      "outputs": [
        {
          "output_type": "stream",
          "name": "stdout",
          "text": [
            "Words most similar to 'A' (gensim implementation)\n"
          ]
        },
        {
          "output_type": "stream",
          "name": "stderr",
          "text": [
            "WARNING:gensim.models.base_any2vec:consider setting layer size to a multiple of 4 for greater performance\n",
            "WARNING:gensim.models.base_any2vec:under 10 jobs per worker: consider setting a smaller `batch_words' for smoother alpha decay\n"
          ]
        },
        {
          "output_type": "stream",
          "name": "stdout",
          "text": [
            "[('B', 0.9976347088813782),\n",
            " ('f', 0.8978011608123779),\n",
            " ('d', 0.8833803534507751),\n",
            " ('m', 0.8759961724281311),\n",
            " ('v', 0.8658097982406616),\n",
            " ('r', 0.8622982501983643),\n",
            " ('j', 0.8202365636825562),\n",
            " ('e', 0.7896777391433716),\n",
            " ('q', 0.7783678770065308),\n",
            " ('l', 0.7276773452758789)]\n"
          ]
        }
      ],
      "source": [
        "print(\"Words most similar to 'A' (gensim implementation)\")\n",
        "from gensim.models import Word2Vec\n",
        "\n",
        "gensim_word2vec = Word2Vec(\n",
        "    sg=1,  # skip-gram\n",
        "    hs=0,  # negative sampling\n",
        "    size=vector_size,\n",
        "    window=window_size,\n",
        "    alpha=learning_rate,\n",
        "    negative=n_negative_samples\n",
        ")\n",
        "gensim_word2vec.build_vocab(toy_dataset)\n",
        "gensim_word2vec.train(toy_dataset, total_examples=len(toy_dataset), epochs=n_epoch)\n",
        "pprint(gensim_word2vec.wv.most_similar(\"A\"))"
      ]
    },
    {
      "cell_type": "code",
      "execution_count": 13,
      "metadata": {
        "colab": {
          "base_uri": "https://localhost:8080/",
          "height": 49,
          "referenced_widgets": [
            "36d11a704941474d96b7eb5ee812d638",
            "9475daa03f2046828277fa8ec4ea754c",
            "cd6bb2e0ba994775abff713d4df3dfc2",
            "b46a845a02664b84bc84f6b58c8211a6",
            "61fa01633917487c8697d0bc1a193c3a",
            "4f0c6e2a1efb4b5d87a42a7ebc9c26fe",
            "9c66e3b389be4714b9a28ee69b87e022",
            "be1b4809544142e89aa33467ef2af82e",
            "d9e97aab8d1043a0934411da81278b87",
            "ee2919a5adc44c9eaad448a6c7ffc37b",
            "439c0cd0888840e1ab44c28b1ee71e14"
          ]
        },
        "id": "XLRju_9VfmgA",
        "outputId": "476f0d9b-594d-4f16-fef5-589a23fbc123"
      },
      "outputs": [
        {
          "output_type": "display_data",
          "data": {
            "text/plain": [
              "tokenize:   0%|          | 0/18846 [00:00<?, ?it/s]"
            ],
            "application/vnd.jupyter.widget-view+json": {
              "version_major": 2,
              "version_minor": 0,
              "model_id": "36d11a704941474d96b7eb5ee812d638"
            }
          },
          "metadata": {}
        }
      ],
      "source": [
        "# try the real dataset\n",
        "from sklearn.datasets import fetch_20newsgroups\n",
        "dataset = fetch_20newsgroups(\n",
        "    subset=\"all\",\n",
        "    shuffle=True,\n",
        "    random_state=1,\n",
        "    remove=('headers', 'footers', 'quotes')\n",
        ")\n",
        "\n",
        "from tqdm.notebook import tqdm\n",
        "import spacy\n",
        "\n",
        "# extract tokens (lemmas) with spaCy\n",
        "nlp = spacy.load(\"en_core_web_sm\", disable=['parser', 'ner', 'tagger', 'tok2vec'])\n",
        "def tokens(s):\n",
        "    return [t.lemma_ for t in nlp(s)]\n",
        "\n",
        "texts = [tokens(text) for text in tqdm(dataset.data, desc=\"tokenize\")]"
      ]
    },
    {
      "cell_type": "code",
      "execution_count": 14,
      "metadata": {
        "id": "EIsfauQZgDUb"
      },
      "outputs": [],
      "source": [
        "# initialize, build vocabulary and train at once\n",
        "gensim_word2vec = Word2Vec(\n",
        "    texts,\n",
        "    sg=1,  # skip-gram\n",
        "    hs=0,  # negative sampling\n",
        "    size=32,\n",
        "    window=5,  # context is a 5-word window around the target word\n",
        "    min_count=5  # ignore words that occur less than 5 times\n",
        ").wv  # \"wv\" stands for \"word vectors\""
      ]
    },
    {
      "cell_type": "code",
      "execution_count": 15,
      "metadata": {
        "colab": {
          "base_uri": "https://localhost:8080/"
        },
        "id": "QEGwLcxkit-N",
        "outputId": "bf176827-7c68-4b02-93e4-cc7741bec825"
      },
      "outputs": [
        {
          "output_type": "execute_result",
          "data": {
            "text/plain": [
              "[('exploration', 0.8643527626991272),\n",
              " ('hubble', 0.864158034324646),\n",
              " ('schedules', 0.8508164286613464),\n",
              " ('shuttle', 0.8488796949386597),\n",
              " ('planetary', 0.8462865948677063),\n",
              " ('missions', 0.8378356695175171),\n",
              " ('nasa', 0.8322552442550659),\n",
              " ('facility', 0.8281312584877014),\n",
              " ('mir', 0.8262903094291687),\n",
              " ('ssf', 0.8245171904563904)]"
            ]
          },
          "metadata": {},
          "execution_count": 15
        }
      ],
      "source": [
        "gensim_word2vec.most_similar(\"space\")"
      ]
    },
    {
      "cell_type": "code",
      "execution_count": 16,
      "metadata": {
        "colab": {
          "base_uri": "https://localhost:8080/"
        },
        "id": "J1YWPktljLrG",
        "outputId": "950e9ade-7150-4288-d66d-8f065db1eed6"
      },
      "outputs": [
        {
          "output_type": "execute_result",
          "data": {
            "text/plain": [
              "[('tiff', 0.9098237752914429),\n",
              " ('gifs', 0.9042242169380188),\n",
              " ('jpeg', 0.9001646637916565),\n",
              " ('images', 0.8964371681213379),\n",
              " ('bmp', 0.8932762742042542),\n",
              " ('targa', 0.8930248022079468),\n",
              " ('viewing', 0.8693318963050842),\n",
              " ('viewer', 0.8687020540237427),\n",
              " ('pcx', 0.8660279512405396),\n",
              " ('pict', 0.8624428510665894)]"
            ]
          },
          "metadata": {},
          "execution_count": 16
        }
      ],
      "source": [
        "gensim_word2vec.most_similar(\"gif\")"
      ]
    },
    {
      "cell_type": "code",
      "execution_count": 17,
      "metadata": {
        "colab": {
          "base_uri": "https://localhost:8080/"
        },
        "id": "7-vdgFv1jTs4",
        "outputId": "9e2d72fd-8c8f-44af-c6bb-b6f8b063599d"
      },
      "outputs": [
        {
          "output_type": "execute_result",
          "data": {
            "text/plain": [
              "[('baseball', 0.9112250208854675),\n",
              " ('nhl', 0.8976360559463501),\n",
              " ('league', 0.870488703250885),\n",
              " ('regulars', 0.8682519793510437),\n",
              " ('basketball', 0.8583081960678101),\n",
              " ('playoff', 0.8577666878700256),\n",
              " ('coverage', 0.8446288108825684),\n",
              " ('espn', 0.8426717519760132),\n",
              " ('sports', 0.8407763242721558),\n",
              " ('majors', 0.8382421731948853)]"
            ]
          },
          "metadata": {},
          "execution_count": 17
        }
      ],
      "source": [
        "gensim_word2vec.most_similar(\"hockey\")"
      ]
    },
    {
      "cell_type": "markdown",
      "metadata": {
        "id": "A48Ke60ubVdb"
      },
      "source": [
        "## Pre-trained vectors"
      ]
    },
    {
      "cell_type": "code",
      "execution_count": 18,
      "metadata": {
        "colab": {
          "base_uri": "https://localhost:8080/",
          "height": 526
        },
        "id": "PKx66YxwbXDY",
        "outputId": "a75cce9a-93c1-453d-bdf1-1cf6e032f704"
      },
      "outputs": [
        {
          "output_type": "display_data",
          "data": {
            "text/plain": [
              "<IPython.core.display.HTML object>"
            ],
            "text/html": [
              "<table>\n",
              "<thead>\n",
              "<tr><th>model name                        </th><th>description                                                                                                                                                                                                                                                                                                                                                                                                                                                                                                                                                                                                  </th></tr>\n",
              "</thead>\n",
              "<tbody>\n",
              "<tr><td>fasttext-wiki-news-subwords-300   </td><td>1 million word vectors trained on Wikipedia 2017, UMBC webbase corpus and statmt.org news dataset (16B tokens).                                                                                                                                                                                                                                                                                                                                                                                                                                                                                              </td></tr>\n",
              "<tr><td>conceptnet-numberbatch-17-06-300  </td><td>ConceptNet Numberbatch consists of state-of-the-art semantic vectors (also known as word embeddings) that can be used directly as a representation of word meanings or as a starting point for further machine learning. ConceptNet Numberbatch is part of the ConceptNet open data project. ConceptNet provides lots of ways to compute with word meanings, one of which is word embeddings. ConceptNet Numberbatch is a snapshot of just the word embeddings. It is built using an ensemble that combines data from ConceptNet, word2vec, GloVe, and OpenSubtitles 2016, using a variation on retrofitting.</td></tr>\n",
              "<tr><td>word2vec-ruscorpora-300           </td><td>Word2vec Continuous Skipgram vectors trained on full Russian National Corpus (about 250M words). The model contains 185K words.                                                                                                                                                                                                                                                                                                                                                                                                                                                                              </td></tr>\n",
              "<tr><td>word2vec-google-news-300          </td><td>Pre-trained vectors trained on a part of the Google News dataset (about 100 billion words). The model contains 300-dimensional vectors for 3 million words and phrases. The phrases were obtained using a simple data-driven approach described in &#x27;Distributed Representations of Words and Phrases and their Compositionality&#x27; (https://code.google.com/archive/p/word2vec/).                                                                                                                                                                                                                              </td></tr>\n",
              "<tr><td>glove-wiki-gigaword-50            </td><td>Pre-trained vectors based on Wikipedia 2014 + Gigaword, 5.6B tokens, 400K vocab, uncased (https://nlp.stanford.edu/projects/glove/).                                                                                                                                                                                                                                                                                                                                                                                                                                                                         </td></tr>\n",
              "<tr><td>glove-wiki-gigaword-100           </td><td>Pre-trained vectors based on Wikipedia 2014 + Gigaword 5.6B tokens, 400K vocab, uncased (https://nlp.stanford.edu/projects/glove/).                                                                                                                                                                                                                                                                                                                                                                                                                                                                          </td></tr>\n",
              "<tr><td>glove-wiki-gigaword-200           </td><td>Pre-trained vectors based on Wikipedia 2014 + Gigaword, 5.6B tokens, 400K vocab, uncased (https://nlp.stanford.edu/projects/glove/).                                                                                                                                                                                                                                                                                                                                                                                                                                                                         </td></tr>\n",
              "<tr><td>glove-wiki-gigaword-300           </td><td>Pre-trained vectors based on Wikipedia 2014 + Gigaword, 5.6B tokens, 400K vocab, uncased (https://nlp.stanford.edu/projects/glove/).                                                                                                                                                                                                                                                                                                                                                                                                                                                                         </td></tr>\n",
              "<tr><td>glove-twitter-25                  </td><td>Pre-trained vectors based on 2B tweets, 27B tokens, 1.2M vocab, uncased (https://nlp.stanford.edu/projects/glove/).                                                                                                                                                                                                                                                                                                                                                                                                                                                                                          </td></tr>\n",
              "<tr><td>glove-twitter-50                  </td><td>Pre-trained vectors based on 2B tweets, 27B tokens, 1.2M vocab, uncased (https://nlp.stanford.edu/projects/glove/)                                                                                                                                                                                                                                                                                                                                                                                                                                                                                           </td></tr>\n",
              "<tr><td>glove-twitter-100                 </td><td>Pre-trained vectors based on  2B tweets, 27B tokens, 1.2M vocab, uncased (https://nlp.stanford.edu/projects/glove/)                                                                                                                                                                                                                                                                                                                                                                                                                                                                                          </td></tr>\n",
              "<tr><td>glove-twitter-200                 </td><td>Pre-trained vectors based on 2B tweets, 27B tokens, 1.2M vocab, uncased (https://nlp.stanford.edu/projects/glove/).                                                                                                                                                                                                                                                                                                                                                                                                                                                                                          </td></tr>\n",
              "<tr><td>__testing_word2vec-matrix-synopsis</td><td>[THIS IS ONLY FOR TESTING] Word vecrors of the movie matrix.                                                                                                                                                                                                                                                                                                                                                                                                                                                                                                                                                 </td></tr>\n",
              "</tbody>\n",
              "</table>"
            ]
          },
          "metadata": {}
        }
      ],
      "source": [
        "import gensim.downloader as api\n",
        "\n",
        "# list all available models\n",
        "from tabulate import tabulate\n",
        "from IPython.display import display, HTML\n",
        "all_gensim_models = api.info()[\"models\"]\n",
        "gensim_model_description = [(m, all_gensim_models[m][\"description\"]) for m in all_gensim_models]\n",
        "display(HTML(tabulate(gensim_model_description, headers=(\"model name\", \"description\"), tablefmt=\"html\")))"
      ]
    },
    {
      "cell_type": "code",
      "execution_count": 19,
      "metadata": {
        "id": "8yCHnqd3lOQd",
        "outputId": "a0f93ea9-ee85-4a26-8f77-d8fc5ecc8724",
        "colab": {
          "base_uri": "https://localhost:8080/"
        }
      },
      "outputs": [
        {
          "output_type": "stream",
          "name": "stdout",
          "text": [
            "[=================================================-] 99.0% 126.8/128.1MB downloaded\n"
          ]
        }
      ],
      "source": [
        "# load a relatively small (128MB) model\n",
        "model = api.load(\"glove-wiki-gigaword-100\")"
      ]
    },
    {
      "cell_type": "code",
      "execution_count": 20,
      "metadata": {
        "colab": {
          "base_uri": "https://localhost:8080/"
        },
        "id": "FWx4ur_tmvhk",
        "outputId": "1cce4892-056b-4b76-c1f4-e3460de725b5"
      },
      "outputs": [
        {
          "output_type": "execute_result",
          "data": {
            "text/plain": [
              "[('basketball', 0.8041675090789795),\n",
              " ('football', 0.7833694219589233),\n",
              " ('nhl', 0.7604307532310486),\n",
              " ('soccer', 0.7440757751464844),\n",
              " ('baseball', 0.7312085628509521),\n",
              " ('league', 0.7092335224151611),\n",
              " ('skating', 0.670417070388794),\n",
              " ('lacrosse', 0.6691610813140869),\n",
              " ('team', 0.6619707345962524),\n",
              " ('games', 0.6571609973907471)]"
            ]
          },
          "metadata": {},
          "execution_count": 20
        }
      ],
      "source": [
        "model.most_similar(\"hockey\")"
      ]
    },
    {
      "cell_type": "code",
      "source": [
        "model.most_similar(\"twitter\")"
      ],
      "metadata": {
        "id": "1aNMDMtD61-P",
        "outputId": "11255e7e-d6a1-4448-86f5-b05ebe50f421",
        "colab": {
          "base_uri": "https://localhost:8080/"
        }
      },
      "execution_count": 21,
      "outputs": [
        {
          "output_type": "execute_result",
          "data": {
            "text/plain": [
              "[('facebook', 0.9159134030342102),\n",
              " ('myspace', 0.838465690612793),\n",
              " ('youtube', 0.7946596741676331),\n",
              " ('blog', 0.7410155534744263),\n",
              " ('tweets', 0.726836085319519),\n",
              " ('tumblr', 0.7218027114868164),\n",
              " ('blogging', 0.7101112604141235),\n",
              " ('blogs', 0.6958351731300354),\n",
              " ('instagram', 0.6919254064559937),\n",
              " ('email', 0.6856087446212769)]"
            ]
          },
          "metadata": {},
          "execution_count": 21
        }
      ]
    },
    {
      "cell_type": "markdown",
      "metadata": {
        "id": "Kuj7YzeeoIUf"
      },
      "source": [
        "<!--@slideshow slide-->\n",
        "## Colab quiz 6\n",
        "\n",
        "What is the most similar to \"twitter\"?"
      ]
    },
    {
      "cell_type": "code",
      "execution_count": 22,
      "metadata": {
        "colab": {
          "base_uri": "https://localhost:8080/",
          "height": 197,
          "referenced_widgets": [
            "50b0f78f63da4f1a8132df2b8309ec0f",
            "2e473c7fff2643808e6e6bc268d3c731",
            "0fa3e86e9ce74d74aabd5b646885f7f8",
            "201036aa0ceb42da9f958d311406d5f9",
            "a094af7f9f1b4aa183c672939c67fe1b",
            "432893e8d7bc4fb8a88b34e38de34c94",
            "e532bf47bb9d4048b8524f1ee877eb48",
            "b4f694ad653c4181902ad6761ed8b7aa",
            "d865be63088c4c5aa36b7aa6859a69de",
            "f1dc79f22dc648439912e8b0c8877674",
            "26e5b202051e49288a06886ca322dc5b",
            "44f0ff4b9b2442be828682a1580be1d4",
            "702dc0086516447baeb04214b3f7242c",
            "c550d98a60e748f48d90a01f96151a95",
            "e17e0e729e2543f79ae912f82e9a59aa",
            "a6beec8bf4ef4e128bc9ed626a39e0b4"
          ]
        },
        "id": "aA0qJsVinmLO",
        "outputId": "1f9a95c2-6e1d-4e25-99f6-c9256e8040c9"
      },
      "outputs": [
        {
          "output_type": "display_data",
          "data": {
            "text/plain": [
              "VBox(children=(Output(), RadioButtons(options=('instagram', 'facebook', 'youtube', 'internet'), value='instagr…"
            ],
            "application/vnd.jupyter.widget-view+json": {
              "version_major": 2,
              "version_minor": 0,
              "model_id": "50b0f78f63da4f1a8132df2b8309ec0f"
            }
          },
          "metadata": {}
        }
      ],
      "source": [
        "quiz_most_similar()()"
      ]
    },
    {
      "cell_type": "markdown",
      "metadata": {
        "id": "2ps1l2bbJ3sM"
      },
      "source": [
        "<!--@slideshow slide-->\n",
        "# Visualization of word vectors"
      ]
    },
    {
      "cell_type": "code",
      "execution_count": 23,
      "metadata": {
        "colab": {
          "base_uri": "https://localhost:8080/",
          "height": 374
        },
        "id": "kbe00Hoxo9c6",
        "outputId": "a9dac97b-e39b-479a-db16-ae1ebd87e4d0"
      },
      "outputs": [
        {
          "output_type": "display_data",
          "data": {
            "text/plain": [
              "<Figure size 432x432 with 1 Axes>"
            ],
            "image/png": "[encoded data removed]"
          },
          "metadata": {
            "needs_background": "light"
          }
        }
      ],
      "source": [
        "#@slideshow fragment tags=remove_input\n",
        "display_pca_scatterplot(\n",
        "    model,\n",
        "    ['coffee', 'tea', 'beer', 'wine', 'brandy', 'rum', 'champagne', 'water',\n",
        "    'spaghetti', 'borscht', 'hamburger', 'pizza', 'falafel', 'sushi', 'meatballs',\n",
        "    'dog', 'horse', 'cat', 'monkey', 'parrot', 'koala', 'lizard',\n",
        "    'frog', 'toad', 'monkey', 'ape', 'kangaroo', 'wombat', 'wolf',\n",
        "    'france', 'germany', 'hungary', 'luxembourg', 'australia', 'fiji', 'china',\n",
        "    'homework', 'assignment', 'problem', 'exam', 'test', 'class',\n",
        "    'school', 'college', 'university', 'institute',]\n",
        ")"
      ]
    },
    {
      "cell_type": "markdown",
      "metadata": {
        "id": "NceO4M0NJ1qq"
      },
      "source": [
        "<!--@slideshow slide-->\n",
        "# Properties of word vectors"
      ]
    },
    {
      "cell_type": "code",
      "execution_count": 24,
      "metadata": {
        "colab": {
          "base_uri": "https://localhost:8080/",
          "height": 374
        },
        "id": "xaktqcwqycaf",
        "outputId": "3561048f-c216-4f0d-d023-0f5b028aa147"
      },
      "outputs": [
        {
          "output_type": "display_data",
          "data": {
            "text/plain": [
              "<Figure size 432x432 with 1 Axes>"
            ],
            "image/png": "[encoded data removed]"
          },
          "metadata": {
            "needs_background": "light"
          }
        }
      ],
      "source": [
        "#@slideshow slide tags=remove_input\n",
        "display_pca_scatterplot(\n",
        "    model,\n",
        "    [\n",
        "        \"china\", \"beijing\",\n",
        "        \"russia\", \"moscow\",\n",
        "        \"turkey\", \"ankara\",\n",
        "        \"poland\", \"warsaw\",\n",
        "        \"germany\", \"berlin\",\n",
        "    ]\n",
        ")"
      ]
    },
    {
      "cell_type": "markdown",
      "metadata": {
        "id": "s_3xDG6S7NC1"
      },
      "source": [
        "<!--@slideshow fragment-->\n",
        "For example, \n",
        "$$\n",
        "\\overrightarrow{\\mathrm{Warsaw}} - \\overrightarrow{\\mathrm{Poland}} \\approx  \\overrightarrow{\\mathrm{Moscow}} - \\overrightarrow{\\mathrm{Russia}}\n",
        "$$\n",
        "or, equivalently\n",
        "$$\n",
        "\\overrightarrow{\\mathrm{Warsaw}} - \\overrightarrow{\\mathrm{Poland}}  + \\overrightarrow{\\mathrm{Russia}} \\approx \\overrightarrow{\\mathrm{Moscow}}\n",
        "$$\n"
      ]
    },
    {
      "cell_type": "markdown",
      "metadata": {
        "id": "q3SSeMSh2oMD"
      },
      "source": [
        "Thus, word vectors represent some (but not all!) relations between words (\"Warsaw is related to Poland in the same way as Moscow is related to Russia\")."
      ]
    },
    {
      "cell_type": "code",
      "execution_count": 25,
      "metadata": {
        "colab": {
          "base_uri": "https://localhost:8080/"
        },
        "id": "cRnrlx0A5ibR",
        "outputId": "827afa51-0e9a-469e-d5cb-2c5622cc4e78"
      },
      "outputs": [
        {
          "output_type": "stream",
          "name": "stdout",
          "text": [
            "Distance between <warsaw> and <moscow>: 0.3461671471595764\n",
            "Distance between <poland> and <russia>: 0.3346114158630371\n",
            "Distance between <warsaw> - <poland> + <russia> and <moscow>: 0.13101792335510254\n"
          ]
        }
      ],
      "source": [
        "#@slideshow slide\n",
        "from scipy.spatial.distance import cosine\n",
        "print(\"Distance between <warsaw> and <moscow>:\", cosine(model[\"warsaw\"], model[\"moscow\"]))\n",
        "print(\"Distance between <poland> and <russia>:\", cosine(model[\"poland\"], model[\"russia\"]))\n",
        "print(\"Distance between <warsaw> - <poland> + <russia> and <moscow>:\", cosine(model[\"warsaw\"] - model[\"poland\"] + model[\"russia\"], model[\"moscow\"]))"
      ]
    },
    {
      "cell_type": "code",
      "execution_count": 26,
      "metadata": {
        "colab": {
          "base_uri": "https://localhost:8080/",
          "height": 35
        },
        "id": "AVe8qEwg86CU",
        "outputId": "9650ecc1-bbf6-4581-9c99-ea0aed18bf4b"
      },
      "outputs": [
        {
          "output_type": "execute_result",
          "data": {
            "text/plain": [
              "'moscow'"
            ],
            "application/vnd.google.colaboratory.intrinsic+json": {
              "type": "string"
            }
          },
          "metadata": {},
          "execution_count": 26
        }
      ],
      "source": [
        "#@slideshow slide\n",
        "def analogy(model, left_negative, left_positive, right_negative):\n",
        "    \"\"\"\n",
        "    Solve the equation:\n",
        "    left_positive - left_negative == X - right_negative\n",
        "    X answers the question '`left_negative` to `left_positive` is `right_negative` to what?'\n",
        "    \"\"\"\n",
        "    return model.most_similar(\n",
        "        positive=[left_positive, right_negative],\n",
        "        negative=[left_negative])[0][0]\n",
        "\n",
        "# 'poland' is to 'warsaw' as 'russia' is to what?\n",
        "analogy(model, \"poland\", \"warsaw\", \"russia\")"
      ]
    },
    {
      "cell_type": "code",
      "execution_count": 27,
      "metadata": {
        "colab": {
          "base_uri": "https://localhost:8080/",
          "height": 35
        },
        "id": "qeqK-sKTXPkL",
        "outputId": "d708d189-bf06-440c-b8ba-f6bab23f5003"
      },
      "outputs": [
        {
          "output_type": "execute_result",
          "data": {
            "text/plain": [
              "'wine'"
            ],
            "application/vnd.google.colaboratory.intrinsic+json": {
              "type": "string"
            }
          },
          "metadata": {},
          "execution_count": 27
        }
      ],
      "source": [
        "#@slideshow fragment\n",
        "# expore other analogies\n",
        "analogy(model, \"germany\", \"beer\", \"france\")"
      ]
    },
    {
      "cell_type": "code",
      "execution_count": 28,
      "metadata": {
        "colab": {
          "base_uri": "https://localhost:8080/",
          "height": 35
        },
        "id": "ETMNlkZzVCYk",
        "outputId": "3747edee-cb50-4fee-bc99-25f126042f72"
      },
      "outputs": [
        {
          "output_type": "execute_result",
          "data": {
            "text/plain": [
              "'longest'"
            ],
            "application/vnd.google.colaboratory.intrinsic+json": {
              "type": "string"
            }
          },
          "metadata": {},
          "execution_count": 28
        }
      ],
      "source": [
        "#@slideshow fragment\n",
        "# word vectors capture certain linguistic properties\n",
        "analogy(model, \"tall\", \"tallest\", \"long\")"
      ]
    },
    {
      "cell_type": "markdown",
      "metadata": {
        "id": "qlZnL-8mFjEo"
      },
      "source": [
        "<!--@slideshow slide-->\n",
        "## Colab quiz 7"
      ]
    },
    {
      "cell_type": "code",
      "source": [
        "analogy(model, \"man\", \"earl\", \"woman\")"
      ],
      "metadata": {
        "id": "C54bRssfCMNt",
        "outputId": "b2d0e40d-b7df-4af6-9187-a81257719ecd",
        "colab": {
          "base_uri": "https://localhost:8080/",
          "height": 35
        }
      },
      "execution_count": 29,
      "outputs": [
        {
          "output_type": "execute_result",
          "data": {
            "text/plain": [
              "'countess'"
            ],
            "application/vnd.google.colaboratory.intrinsic+json": {
              "type": "string"
            }
          },
          "metadata": {},
          "execution_count": 29
        }
      ]
    },
    {
      "cell_type": "code",
      "execution_count": 30,
      "metadata": {
        "colab": {
          "base_uri": "https://localhost:8080/",
          "height": 256,
          "referenced_widgets": [
            "fe06b3ee066e43de9c5df608bdcccb93",
            "dc6d32010a13424e8d5c515b89477e33",
            "d5b66e7916c341ee95dc254d152d7259",
            "dd7c097fe29d4273a62a8dd4ebcb5f4c",
            "28b71bf725c04009b121a10688e6dacd",
            "db86e2ad86614bfea9cf42b27009d175",
            "aea8a9bf09584396b128cfcf187f6022",
            "032ec333c34d41178d9f091a396352dc",
            "ef18e66425d04fec882ceb5cc8d60c86",
            "b96f4819bc5c4a3185705733aad9eed1",
            "b1adfb7539ca4ceab4fecd6879af3232",
            "2575a595a1474654ad1e0da8112fb002",
            "577d5de43e8a48ee9b4c1e3e54239a5b",
            "f83fb16f04ff46858e55252f2b7c67cf",
            "1f0292a6486841049e61d3c0da59147b",
            "043e6155de994406b88d6d6288abc10f"
          ]
        },
        "id": "QaPTaiMXDVQv",
        "outputId": "4fb2697d-f6a7-4080-b342-b4ecfe61b0d5"
      },
      "outputs": [
        {
          "output_type": "display_data",
          "data": {
            "text/plain": [
              "<IPython.core.display.HTML object>"
            ],
            "text/html": [
              "\n",
              "        <script src=\"https://www.gstatic.com/external_hosted/mathjax/latest/MathJax.js?config=TeX-AMS_HTML-full,Safe&delayStartupUntil=configured\"></script>\n",
              "        <script>\n",
              "            (() => {\n",
              "            const mathjax = window.MathJax;\n",
              "            mathjax.Hub.Config({\n",
              "            'tex2jax': {\n",
              "                'inlineMath': [['$', '$'], ['\\(', '\\)']],\n",
              "                'displayMath': [['$$', '$$'], ['\\[', '\\]']],\n",
              "                'processEscapes': true,\n",
              "                'processEnvironments': true,\n",
              "                'skipTags': ['script', 'noscript', 'style', 'textarea', 'code'],\n",
              "                'displayAlign': 'center',\n",
              "            },\n",
              "            'HTML-CSS': {\n",
              "                'styles': {'.MathJax_Display': {'margin': 0}},\n",
              "                'linebreaks': {'automatic': true},\n",
              "                // Disable to prevent OTF font loading, which aren't part of our\n",
              "                // distribution.\n",
              "                'imageFont': null,\n",
              "            },\n",
              "            'messageStyle': 'none'\n",
              "            });\n",
              "            mathjax.Hub.Configured();\n",
              "        })();\n",
              "        </script>\n",
              "        "
            ]
          },
          "metadata": {}
        },
        {
          "output_type": "display_data",
          "data": {
            "text/plain": [
              "VBox(children=(Output(), RadioButtons(options=('X = duchess', 'X = marquess', 'X = countess', 'X = baronet'), …"
            ],
            "application/vnd.jupyter.widget-view+json": {
              "version_major": 2,
              "version_minor": 0,
              "model_id": "fe06b3ee066e43de9c5df608bdcccb93"
            }
          },
          "metadata": {}
        }
      ],
      "source": [
        "# earl - man = X - woman\n",
        "enable_mathjax_in_cell()\n",
        "quiz_earl()()"
      ]
    },
    {
      "cell_type": "markdown",
      "metadata": {
        "id": "fmRxDyahd67Y"
      },
      "source": [
        "<!--@slideshow slide-->\n",
        "# GloVe"
      ]
    },
    {
      "cell_type": "markdown",
      "metadata": {
        "id": "uMgcmyt8Tgx3"
      },
      "source": [
        "<!--@slideshow fragment-->\n",
        "**Question**: why do vectors represent relations?"
      ]
    },
    {
      "cell_type": "markdown",
      "metadata": {
        "id": "as_-SSjAtrBL"
      },
      "source": [
        "<!--@slideshow fragment-->\n",
        "**Insight**: _ratios_ of co-occurrence probabilities also give information - they encode meaningful componens."
      ]
    },
    {
      "cell_type": "markdown",
      "metadata": {
        "id": "iuu_rwH2ul0h"
      },
      "source": [
        "<!--@slideshow slide-->\n",
        "![alt text](https://raw.githubusercontent.com/horoshenkih/harbour-space-text-mining-course/master/pic/ratios-1.png)"
      ]
    },
    {
      "cell_type": "markdown",
      "metadata": {
        "id": "3WxL6Fo9uo6A"
      },
      "source": [
        "<!--@slideshow slide-->\n",
        "![alt text](https://raw.githubusercontent.com/horoshenkih/harbour-space-text-mining-course/master/pic/ratios-2.png)"
      ]
    },
    {
      "cell_type": "markdown",
      "metadata": {
        "id": "RN5StdvWuuJd"
      },
      "source": [
        "<!--@slideshow slide-->\n",
        "\n",
        "**Idea**: if we predict\n",
        "$$\n",
        "\\log\\Pr(o|c) = \\mathbf{v}_o \\cdot \\mathbf{v}_c\n",
        "$$\n",
        "then _vector differences_ correspond to ratios of co-oсcurrence probabilities!\n",
        "$$\n",
        "\\log\\dfrac{\\Pr(o|c_2)}{\\Pr(o|c_1)} = \\mathbf{v}_o \\cdot (\\mathbf{v}_{c_2} - \\mathbf{v}_{c_1})\n",
        "$$"
      ]
    },
    {
      "cell_type": "markdown",
      "metadata": {
        "id": "qgQFKpd2UMPu"
      },
      "source": [
        "<!--@slideshow slide-->\n",
        "In our example:\n",
        "$$\n",
        "\\log\\dfrac{\\Pr(o|\\mathrm{ice})}{\\Pr(o|\\mathrm{steam})} = \\mathbf{v}_o \\cdot (\\mathbf{v}_{\\mathrm{ice}} - \\mathbf{v}_{\\mathrm{steam}})\n",
        "$$"
      ]
    },
    {
      "cell_type": "markdown",
      "metadata": {
        "id": "CeWTrhbOVSx4"
      },
      "source": [
        "<!--@slideshow fragment-->\n",
        "- $\\mathbf{v}_\\mathrm{solid} \\cdot (\\mathbf{v}_{\\mathrm{ice}} - \\mathbf{v}_{\\mathrm{steam}}) = \\log\\dfrac{\\Pr(\\mathrm{solid}|\\mathrm{ice})}{\\Pr(\\mathrm{solid}|\\mathrm{steam})} = \\log 8.9 \\approx 2.19$\n",
        "- $\\mathbf{v}_\\mathrm{gas} \\cdot (\\mathbf{v}_{\\mathrm{ice}} - \\mathbf{v}_{\\mathrm{steam}}) = \\log\\dfrac{\\Pr(\\mathrm{gas}|\\mathrm{ice})}{\\Pr(\\mathrm{gas}|\\mathrm{steam})} = \\log 8.5 \\cdot 10^{-2} \\approx -2.47$\n",
        "- $\\mathbf{v}_\\mathrm{water} \\cdot (\\mathbf{v}_{\\mathrm{ice}} - \\mathbf{v}_{\\mathrm{steam}}) = \\log\\dfrac{\\Pr(\\mathrm{water}|\\mathrm{ice})}{\\Pr(\\mathrm{water}|\\mathrm{steam})} = \\log 1.36 \\approx 0.31$\n",
        "- $\\mathbf{v}_\\mathrm{fashion} \\cdot (\\mathbf{v}_{\\mathrm{ice}} - \\mathbf{v}_{\\mathrm{steam}}) = \\log\\dfrac{\\Pr(\\mathrm{fashion}|\\mathrm{ice})}{\\Pr(\\mathrm{fashion}|\\mathrm{steam})} = \\log 0.96 \\approx -0.04$\n",
        "\n"
      ]
    },
    {
      "cell_type": "markdown",
      "metadata": {
        "id": "Bfq4ecpzYGfo"
      },
      "source": [
        "<!--@slideshow fragment-->\n",
        "**Interpretation**:\n",
        "\n",
        "On the scale between \"ice\" and \"steam\",\n",
        "- \"solid\" is closer to \"ice\"\n",
        "- \"gas\" is closer to \"steam\"\n",
        "- \"water\" is orthogonal (somewhere in between, related to both)\n",
        "- \"fashion\" is orthogonal (unrelated)"
      ]
    },
    {
      "cell_type": "markdown",
      "metadata": {
        "id": "ILXZDQ2Nvh3M"
      },
      "source": [
        "<!--@slideshow slide-->\n",
        "\n",
        "## GloVe: algorithm\n",
        "Minimize:\n",
        "$$\n",
        "L(\\theta) = \\sum_{i \\in V, j \\in V, i \\neq j} f(X_{ij}) \\cdot (\\mathbf{v}_i \\cdot \\tilde{\\mathbf{v}}_j + b_i + \\tilde{b}_j - \\log X_{ij})^2\n",
        "$$\n",
        "where \n",
        "- $i, j$ -- words\n",
        "- $X_{ij}$ -- how many times words $i$ and $j$ co-occur\n",
        "- $\\mathbf{v}_k, \\tilde{\\mathbf{v}}_k$ - word vectors of  $k$ (represent \"meaning\" of $k$)\n",
        "- $ b_k, \\tilde{b}_k$ -- bias terms of a word $k$ (helphul for training, represent frequency of $k$)\n",
        "- $f(X_{ij})$ -- suppress rare (noisy) counters, helpful for training\n",
        "\n",
        "![alt text](https://raw.githubusercontent.com/horoshenkih/harbour-space-text-mining-course/master/pic/f.png)"
      ]
    },
    {
      "cell_type": "markdown",
      "metadata": {
        "id": "t-ifCmTE-sQe"
      },
      "source": [
        "<!--@slideshow slide-->\n",
        "## GloVe: word vectors\n",
        "$$\n",
        "L(\\theta) = \\sum_{i \\in V, j \\in V, i \\neq j} f(X_{ij}) \\cdot (\\mathbf{v}_i \\cdot \\tilde{\\mathbf{v}}_j + b_i + \\tilde{b}_j - \\log X_{ij})^2\n",
        "$$\n",
        "\n",
        "Each word is represented by two vectors $\\mathbf{v}, \\tilde{\\mathbf{v}}$, because\n",
        "- We want to approximate $\\mathbf{v}_i \\cdot \\tilde{\\mathbf{v}}_j \\approx \\Pr(i|j)$.\n",
        "- In general, $\\Pr(i|j) \\neq \\Pr(j|i)$."
      ]
    },
    {
      "cell_type": "markdown",
      "metadata": {
        "id": "jjIF-qzaA9O-"
      },
      "source": [
        "<!--@slideshow slide-->\n",
        "## GloVe: bias terms\n",
        "$$\n",
        "L(\\theta) = \\sum_{i \\in V, j \\in V, i \\neq j} f(X_{ij}) \\cdot (\\mathbf{v}_i \\cdot \\tilde{\\mathbf{v}}_j + b_i + \\tilde{b}_j - \\log X_{ij})^2\n",
        "$$\n",
        "\n",
        "We want to approximate $\\mathbf{v}_i \\cdot \\tilde{\\mathbf{v}}_j \\approx \\log \\Pr(i|j)$.\n",
        "\n",
        "But the target (what we actually predict) is $\\log X_{ij}$.\n"
      ]
    },
    {
      "cell_type": "markdown",
      "metadata": {
        "id": "Lr_MPky5FaSY"
      },
      "source": [
        "<!--@slideshow fragment-->\n",
        "The \"true\" target could be estimated from counts\n",
        "- $X_i$ - # of times word $i$ occurs\n",
        "- $X_{ij}$ - # of times words $i,j$ co-occur\n",
        "\n",
        "$$\n",
        "\\log \\hat\\Pr(i|j) = \\log \\frac{\\hat\\Pr(ij)}{\\hat \\Pr(i)} = \\log \\left[C \\cdot \\frac{X_{ij}}{X_i}\\right] = \\log X_{ij} - \\log X_i + \\mathrm{constant}\n",
        "$$\n",
        "\n"
      ]
    },
    {
      "cell_type": "markdown",
      "metadata": {
        "id": "_XB71wfEH8Z_"
      },
      "source": [
        "<!--@slideshow fragment-->\n",
        "$\\log \\hat\\Pr(i|j)$ is noisy because of $X_i$ in the denominator, so we need smoothing, for example:\n",
        "$$\n",
        "\\log \\hat\\Pr(i|j) = \\log \\left[C \\cdot \\frac{X_{ij}}{X_i \\color{red}{+ \\delta}}\\right] = \\log X_{ij} - \\log [X_i\\color{red}{+ \\delta}] + \\mathrm{constant}\n",
        "$$\n",
        "\n"
      ]
    },
    {
      "cell_type": "markdown",
      "metadata": {
        "id": "XUz48OjCH83f"
      },
      "source": [
        "<!--@slideshow fragment-->\n",
        "**Idea**: $X_{ij}$ contains all necessary information, learn everything else from data.\n",
        "\n",
        "$$\n",
        "b_i \\approx - \\log [X_i+ \\delta] + \\mathrm{constant}\n",
        "$$"
      ]
    },
    {
      "cell_type": "markdown",
      "metadata": {
        "id": "vE4H1ZQ6NyEX"
      },
      "source": [
        "<!--@slideshow slide-->\n",
        "# FastText"
      ]
    },
    {
      "cell_type": "markdown",
      "metadata": {
        "id": "WQVI4K2oPYfl"
      },
      "source": [
        "<!--@slideshow slide-->\n",
        "## Word vectors with subword information\n",
        "\n",
        "Sometimes we may guess (at least partially) the meaning of a word by looking at its pieces.\n"
      ]
    },
    {
      "cell_type": "markdown",
      "metadata": {
        "id": "PK3dNVBbjsiS"
      },
      "source": [
        "<!--@slideshow fragment-->\n",
        "For example, for the word \"sesquipedalophobia\" we may guess it is a phobia (a fear of something)."
      ]
    },
    {
      "cell_type": "markdown",
      "metadata": {
        "id": "CgrtCdmWj8oK"
      },
      "source": [
        "<!--@slideshow fragment-->\n",
        "(In case you are wondering, \"sesquipedalophobia\" is the fear of long words.)"
      ]
    },
    {
      "cell_type": "markdown",
      "metadata": {
        "id": "8LDevDPHkMuv"
      },
      "source": [
        "<!--@slideshow fragment-->\n",
        "**Idea**: learn not only word vectors, but also subword vectors."
      ]
    },
    {
      "cell_type": "markdown",
      "metadata": {
        "id": "Tii6l_oYjrkm"
      },
      "source": [
        "<!--@slideshow slide-->\n",
        "**Algorithm**:\n",
        "- Represent each word as a collection of character $n$-gram.\n",
        "- Include the word w itself in the set of its $n$-grams.\n",
        "- Add special boundary symbols `<` and `>` at the beginning and end of words, allowing to distinguish prefixes and suffixes from other character sequences.\n",
        "- Word vector is the sum of the vector representations of its $n$-grams.\n"
      ]
    },
    {
      "cell_type": "markdown",
      "metadata": {
        "id": "6MSRxWf5lI-M"
      },
      "source": [
        "<!--@slideshow fragment-->\n",
        "**Example**: for $n=3$, the word \"where\" is represented as\n",
        "\n",
        "  `<wh, whe, her, ere, re>, <where>`\n",
        "    \n",
        "> Note that the sequence `<her>`, corresponding to the word \"her\" is different from the trigram `her` from the word \"where\"."
      ]
    },
    {
      "cell_type": "markdown",
      "metadata": {
        "id": "QfE6njjJlP7_"
      },
      "source": [
        "<!--@slideshow slide-->\n",
        "## Colab demo: FastText (unsupervised)"
      ]
    },
    {
      "cell_type": "code",
      "execution_count": 31,
      "metadata": {
        "colab": {
          "base_uri": "https://localhost:8080/"
        },
        "id": "BWuyBuzCRYR1",
        "outputId": "9250903a-47f3-420c-df1e-1bee22f3c3b7"
      },
      "outputs": [
        {
          "output_type": "stream",
          "name": "stdout",
          "text": [
            "\u001b[?25l     \u001b[90m━━━━━━━━━━━━━━━━━━━━━━━━━━━━━━━━━━━━━━━━\u001b[0m \u001b[32m0.0/68.8 KB\u001b[0m \u001b[31m?\u001b[0m eta \u001b[36m-:--:--\u001b[0m\r\u001b[2K     \u001b[90m━━━━━━━━━━━━━━━━━━━━━━━━━━━━━━━━━━━━━━━━\u001b[0m \u001b[32m68.8/68.8 KB\u001b[0m \u001b[31m4.7 MB/s\u001b[0m eta \u001b[36m0:00:00\u001b[0m\n",
            "\u001b[?25h  Preparing metadata (setup.py) ... \u001b[?25l\u001b[?25hdone\n",
            "  Building wheel for fasttext (setup.py) ... \u001b[?25l\u001b[?25hdone\n"
          ]
        }
      ],
      "source": [
        "!pip install -q fasttext"
      ]
    },
    {
      "cell_type": "code",
      "execution_count": 32,
      "metadata": {
        "id": "TRfiTnvFGV5o"
      },
      "outputs": [],
      "source": [
        "import fasttext"
      ]
    },
    {
      "cell_type": "code",
      "execution_count": 33,
      "metadata": {
        "id": "gmqrHVV9QJ_f"
      },
      "outputs": [],
      "source": [
        "from sklearn.datasets import fetch_20newsgroups\n",
        "dataset = fetch_20newsgroups(subset=\"all\", shuffle=True, random_state=1, categories=(\"sci.space\",), remove=('headers', 'footers', 'quotes'))"
      ]
    },
    {
      "cell_type": "code",
      "execution_count": 34,
      "metadata": {
        "id": "pAtyCKn6VeRt"
      },
      "outputs": [],
      "source": [
        "def prepare_text(t):\n",
        "    import re\n",
        "    s = \" \".join(t.split()).lower()  # no newlines, lowercase\n",
        "    return re.sub(r'[^\\w\\s]',' ',s)  # remove punctuation"
      ]
    },
    {
      "cell_type": "code",
      "execution_count": 35,
      "metadata": {
        "id": "JI66Gdq9VlrE"
      },
      "outputs": [],
      "source": [
        "# fasttest works with files in filesystem\n",
        "with open(\"texts.txt\", \"w\") as f:\n",
        "    for t in dataset.data:\n",
        "        f.write(prepare_text(t) + \"\\n\")"
      ]
    },
    {
      "cell_type": "code",
      "execution_count": 36,
      "metadata": {
        "colab": {
          "base_uri": "https://localhost:8080/"
        },
        "id": "zsCKFyNT1cku",
        "outputId": "b8efe732-4f30-45b1-dabd-65f6a6a97051"
      },
      "outputs": [
        {
          "output_type": "stream",
          "name": "stdout",
          "text": [
            "re  space billboards even easier to implement than writing messages on the moon  once upon a time a group of space activists i belonged to in seattle considered a  goodyear blimp in orbit   the idea was to use a large structure that could carry an array of lights like the goodyear blimp has  placed in a low earth orbit of high inclination  it could eventually be seen by almost everyone on earth  only our collective disapproval of cluttering up space with such a thing stopped us from pursuing it  it had quite feasible economics  which i will not post here because i don t want to encourage the idea  if you want to do such a thing  go figure it out for yourself   dani eder\n",
            "    how can you tell they re identical  you got one of them  star drek  the next syndication  neutrino scanners \n",
            "i had to turn to one of my problem sets that i did in class for this little problem  i don t have a calculator  but i do have the problem set that we did not too long ago  so i ll use that  and hope it s what you wanted  this is a highly simplified problem  with a very simple burst  bursts are usually more complex than this example i will use here  our burst has a peak flux of 5 43e 6 ergs cm  2 sec  1 and a duration of 8 95 seconds  during the frst second of the burst  and the last 4 seconds  its flux is half of the peak flux  it s flux is the peak flux the rest of the time  assume that the background flux is 10e 7 erg cm  2 sec  1  then we had to find the integrated luminosity of the burst  for several different spheres  r  25pc oort cloud radius   r 22 5pc at the edge of the galaxy   r 183 5pc or the edge of the galactic corona  and lastly at a r 8800mpc  we integrated the flux over all time to find the fluence  then used the old standby formula  luminosity 4 pi  r 2 fpeak for a radius of  25 pc  we found an l around 10 32 erg sec  pretty energetic for close by  for the coronal model  we found around 10 43 erg sec  and lastly  for the cosmological model an l 10 53  that s what you d call moderately energetic  i d say  any suggestions about what could put out that much energy in one second   jeremy\n",
            "i don t think you re going to be able to see the differences from a sphere unless they are greatly exaggerated  even the equatorial bulge is only about 1 part in 300    you d never notice a 1mm error in a 30cm globe    and the other deviations from spherical shape are much smaller \n",
            "jfc  if gamma ray bursters are extragalactic  would absorption from the jfc  galaxy be expected  how transparent is the galactic core to gamma jfc  rays  and later    jb  so  if the 1 r 2 law is incorrect  assume jb  some unknown material  dark matter    inhibits gamma ray propagation   jb  could it be possible that we are actually seeing much less energetic jb  events happening much closer to us  the even distribution could jb  be caused by the characteristic propagation distance of gamma rays jb  being shorter then 1 2 the thickness of the disk of the galaxy  0  well  maybe not zero  but very little  at the typical energies for gamma rays  the galaxy is effectively transparent  hans bloemen had a review article in ann  rev  astr  astrophys  a few years back in which he discusses this in more depth \n",
            "bear in mind that a lot of the vandenberg launch traffic is military and at least semi secret  they aren t interested in publicizing it beforehand \n",
            "i believe the reason is that the lung diaphram gets too tired to pump the liquid in and out and simply stops breathing after 2 3 minutes  so if your in the vehicle ready to go they better not put you on hold  or else   that s about it  remember a liquid is several more times as dense as a gas by its very nature   10 i think  depending on the gas and liquid comparision of course \n",
            "forwarded from the mars observer project mars observer status report april 30  1993 11 30 am pdt dss 65  madrid 34 meter antenna  did not acquire the expected mars observer spacecraft signal at the scheduled beginning of track yesterday morning  4 29  at approximately 6 00 am  indications were that the spacecraft had entered a fault protection mode sometime between that time and receipt of normal telemetry at the end of the previous station pass  dss 15   goldstone 34 meter antenna  at approximately 8 00 pm the evening before  entry into contingency mode was verified when signal was reacquired and telemetry indicated that the spacecraft was sun coning  after subsystem engineers reported all systems performing nominally  fault protection telemetry modes were reconfigured and memory readouts of command system audit queue and aacs  attitude and articulation control subsystem  starex performed  these readouts verified that contingency mode entry occurred shortly after 1 30 am yesterday  4 29 93  preliminary indications are that a sun ephemeris check failure triggered fault protection  however  the flight team will be determining the precise cause over the next few days  as of last evening  the spacecraft had been commanded back to inertial reference and was stable in that mode  the flight team is planning to command the spacecraft back to array normal spin state today \n",
            "i missed the presentations given in the morning session  when shea gave his  rambling and almost inaudible  presentation   but i did attend the afternoon session  the meeting was in a small conference room  the speaker was wired with a mike  and there were microphones on the table for the panel members to use  peons  like me  sat in a foyer outside the conference room  and watched the presentations on closed circuit tv  in general  the sound system was fair to poor  and some of the other speakers  like the committee member from the italian space agency  also were  almost inaudible   shea didn t  lead the formal presentation   in the sense of running or guiding the presentation  he didn t even attend the afternoon session  vest ran the show  president of mit  the chair of the advisory panel  \n",
            "hi guys  i ve been hearing lots of talk on the net about dc x and dc y  but none of the many posts actually explain what they are     sorry if this is a faq  but would somebody please explain to me what they are  reply by email please       thanks  andy ajjb adam4 bnsc rl ac uk   \n"
          ]
        }
      ],
      "source": [
        "!head texts.txt"
      ]
    },
    {
      "cell_type": "code",
      "execution_count": 37,
      "metadata": {
        "id": "SZ7nZAA-WIdJ"
      },
      "outputs": [],
      "source": [
        "model = fasttext.train_unsupervised(\n",
        "    input=\"texts.txt\",\n",
        "    epoch=10\n",
        ")"
      ]
    },
    {
      "cell_type": "code",
      "execution_count": 38,
      "metadata": {
        "colab": {
          "base_uri": "https://localhost:8080/"
        },
        "id": "vzrHX3UMWXns",
        "outputId": "b7a10cab-2109-4214-b682-4dd37ab2b5cd"
      },
      "outputs": [
        {
          "output_type": "execute_result",
          "data": {
            "text/plain": [
              "[(0.9310543537139893, 'satellites'),\n",
              " (0.826610267162323, 'sat'),\n",
              " (0.7046252489089966, 'radar'),\n",
              " (0.684397280216217, 'iridium'),\n",
              " (0.6659807562828064, 'tracking'),\n",
              " (0.6609216928482056, 'telecommunications'),\n",
              " (0.6603425145149231, 'korean'),\n",
              " (0.656222939491272, 'intelsat'),\n",
              " (0.6515015959739685, 'european'),\n",
              " (0.6475222706794739, 'japan')]"
            ]
          },
          "metadata": {},
          "execution_count": 38
        }
      ],
      "source": [
        "model.get_nearest_neighbors(\"satellite\")"
      ]
    },
    {
      "cell_type": "code",
      "execution_count": 39,
      "metadata": {
        "colab": {
          "base_uri": "https://localhost:8080/"
        },
        "id": "1kifiPUVZuH0",
        "outputId": "e1af0f06-0ad6-4b06-d144-c7156bfc8bf7"
      },
      "outputs": [
        {
          "output_type": "execute_result",
          "data": {
            "text/plain": [
              "[(0.965173065662384, 'satellite'),\n",
              " (0.8960800766944885, 'satellites'),\n",
              " (0.8491849303245544, 'sat'),\n",
              " (0.7472147345542908, 'items'),\n",
              " (0.7320234775543213, 'korean'),\n",
              " (0.723210334777832, 'radar'),\n",
              " (0.720881462097168, 'european'),\n",
              " (0.7101620435714722, 'iridium'),\n",
              " (0.709301233291626, 'olympus'),\n",
              " (0.7044820785522461, 'intelsat')]"
            ]
          },
          "metadata": {},
          "execution_count": 39
        }
      ],
      "source": [
        "model.get_nearest_neighbors(\"satelite\")"
      ]
    },
    {
      "cell_type": "markdown",
      "metadata": {
        "id": "uWkAji_9JvyT"
      },
      "source": [
        "<!--@slideshow slide-->\n",
        "## Text classification\n",
        "\n",
        "**Idea**: \n",
        "- Represent a text as the average of word vectors.\n",
        "- Learn matrix $A$ such that $\\mathrm{softmax}(A \\cdot v)$ gives probability distribution over classes.\n",
        "- Instead of the loss function for word2vec (negative log-likelihood), optimize the loss function for classification (cross-entropy)."
      ]
    },
    {
      "cell_type": "code",
      "execution_count": 40,
      "metadata": {
        "colab": {
          "base_uri": "https://localhost:8080/",
          "height": 383
        },
        "id": "GkoecYhJm84p",
        "outputId": "db6c9674-bb46-49c4-ff67-a5bb66e381b4"
      },
      "outputs": [
        {
          "output_type": "display_data",
          "data": {
            "text/plain": [
              "<Figure size 720x432 with 2 Axes>"
            ],
            "image/png": "[encoded data removed]"
          },
          "metadata": {
            "needs_background": "light"
          }
        }
      ],
      "source": [
        "#@slideshow fragment tags=remove_input\n",
        "import matplotlib.pyplot as plt\n",
        "from scipy.special import softmax\n",
        "fig, (ax1, ax2) = plt.subplots(1, 2, figsize=(10, 6))\n",
        "\n",
        "x = [-0.1, -1, 0.7, 0.5, 0.33]\n",
        "i = list(range(len(x)))\n",
        "ax1.bar(i, x)\n",
        "ax2.bar(i, softmax(x))\n",
        "ax1.set_title(r\"$X = {}$\".format(x))\n",
        "ax2.set_title(r\"$\\mathrm{softmax}(X) \\sim e^X$\")\n",
        "ax1.set_xticks([])\n",
        "ax2.set_xticks([])\n",
        "plt.show()"
      ]
    },
    {
      "cell_type": "markdown",
      "metadata": {
        "id": "q6AFnFxElWad"
      },
      "source": [
        "<!--@slideshow slide-->\n",
        "## Colab demo: FastText (supervised)"
      ]
    },
    {
      "cell_type": "code",
      "execution_count": 41,
      "metadata": {
        "id": "ogVXd469JxYG"
      },
      "outputs": [],
      "source": [
        "from sklearn.datasets import fetch_20newsgroups\n",
        "fetch_params = dict(\n",
        "    shuffle=True,\n",
        "    random_state=1,\n",
        "    remove=('headers', 'footers', 'quotes')\n",
        ")\n",
        "train_dataset = fetch_20newsgroups(subset=\"train\", **fetch_params)\n",
        "test_dataset = fetch_20newsgroups(subset=\"test\", **fetch_params)"
      ]
    },
    {
      "cell_type": "code",
      "execution_count": 42,
      "metadata": {
        "id": "h_EKqGHMKaUT"
      },
      "outputs": [],
      "source": [
        "def convert_dataset_to_fasttext_file(texts, labels, path):\n",
        "    with open(path, \"w\") as f:\n",
        "        for t, l in zip(texts, labels):\n",
        "            t = prepare_text(t)\n",
        "            # labels are stored in file with prefix \"__label__\"\n",
        "            f.write(f\"__label__{l}\\t{t}\\n\")\n",
        "\n",
        "convert_dataset_to_fasttext_file(\n",
        "    train_dataset.data,\n",
        "    [train_dataset.target_names[c] for c in train_dataset.target],\n",
        "    \"train.txt\"\n",
        ")"
      ]
    },
    {
      "cell_type": "code",
      "execution_count": 43,
      "metadata": {
        "colab": {
          "base_uri": "https://localhost:8080/"
        },
        "id": "qbW6EdV0AMy4",
        "outputId": "aca7c7bf-4977-45e4-9c26-ecd6cc4b2869"
      },
      "outputs": [
        {
          "output_type": "stream",
          "name": "stdout",
          "text": [
            "__label__talk.politics.mideast\twell i m not sure about the story nad it did seem biased  what i disagree with is your statement that the u s  media is out to ruin israels reputation  that is rediculous  the u s  media is the most pro israeli media in the world  having lived in europe i realize that incidences such as the one described in the letter have occured  the u s  media as a whole seem to try to ignore them  the u s  is subsidizing israels existance and the europeans are not  at least not to the same degree   so i think that might be a reason they report more clearly on the atrocities  what is a shame is that in austria  daily reports of the inhuman acts commited by israeli soldiers and the blessing received from the government makes some of the holocaust guilt go away  after all  look how the jews are treating other races when they got power  it is unfortunate \n"
          ]
        }
      ],
      "source": [
        "!head -n1 train.txt"
      ]
    },
    {
      "cell_type": "code",
      "execution_count": 44,
      "metadata": {
        "id": "v5i8yuN2KyKD"
      },
      "outputs": [],
      "source": [
        "model = fasttext.train_supervised(\n",
        "    input=\"train.txt\",\n",
        "    lr=0.1,\n",
        "    epoch=25\n",
        ")"
      ]
    },
    {
      "cell_type": "code",
      "execution_count": 45,
      "metadata": {
        "colab": {
          "base_uri": "https://localhost:8080/"
        },
        "id": "kgXGm6t-Lz_8",
        "outputId": "3c49e9b3-7322-41ad-8e12-232509f280a0"
      },
      "outputs": [
        {
          "output_type": "stream",
          "name": "stdout",
          "text": [
            "accuracy: 0.5762081784386617\n"
          ]
        }
      ],
      "source": [
        "total = 0\n",
        "correct = 0\n",
        "for t, c in zip(test_dataset.data, test_dataset.target):\n",
        "    total += 1\n",
        "    label = test_dataset.target_names[c]\n",
        "    predicted_label = model.predict(prepare_text(t))[0][0][len(\"__label__\"):]\n",
        "    if label == predicted_label:\n",
        "        correct += 1\n",
        "print(f\"accuracy: {correct / total}\")"
      ]
    },
    {
      "cell_type": "markdown",
      "metadata": {
        "id": "UufFB2dq1WHx"
      },
      "source": [
        "<!--@slideshow slide-->\n",
        "# Colab demo: word vectors in spaCy"
      ]
    },
    {
      "cell_type": "code",
      "execution_count": 46,
      "metadata": {
        "id": "UgdJ4HbQ1uN0"
      },
      "outputs": [],
      "source": [
        "import spacy\n",
        "# spaCy is equipped by pre-trained word vectors\n",
        "# for example, they are stored in \"en_core_web_lg\"\n",
        "# in Colab, you need to run !python -m spacy download en_core_web_lg (the first cell) and restart runtime\n",
        "nlp = spacy.load(\"en_core_web_lg\", disable=[\"tagger\", \"ner\", \"parser\"])"
      ]
    },
    {
      "cell_type": "code",
      "execution_count": 47,
      "metadata": {
        "colab": {
          "base_uri": "https://localhost:8080/"
        },
        "id": "157ScdZJ5W98",
        "outputId": "2495791e-8d49-45d6-d724-e7db8eebb873"
      },
      "outputs": [
        {
          "output_type": "stream",
          "name": "stdout",
          "text": [
            "Token 'dog' has a vector: True\n",
            "Token 'cat' has a vector: True\n",
            "Token 'banana' has a vector: True\n",
            "Token 'afskfsd' has a vector: False\n",
            "Doc has a vector: True\n"
          ]
        }
      ],
      "source": [
        "doc = nlp(\"dog cat banana afskfsd\")\n",
        "\n",
        "# you can check the attribute `.has_vector` of a token\n",
        "for token in doc:\n",
        "    print(f\"Token '{token.text}' has a vector: {token.has_vector}\")\n",
        "\n",
        "# doc (parsed text, the collection of tokens) also has vector (the average over all tokens)\n",
        "print(f\"Doc has a vector: {doc.has_vector}\")"
      ]
    },
    {
      "cell_type": "code",
      "execution_count": 48,
      "metadata": {
        "colab": {
          "base_uri": "https://localhost:8080/"
        },
        "id": "EeHqgw6H4leg",
        "outputId": "f48f8710-7912-4e1f-8105-d8697114ffa2"
      },
      "outputs": [
        {
          "output_type": "execute_result",
          "data": {
            "text/plain": [
              "(0.9265519131082379, 0.9298576579974973)"
            ]
          },
          "metadata": {},
          "execution_count": 48
        }
      ],
      "source": [
        "# for any pair of objects that have vectors, we can find similarity\n",
        "# the example from the last lesson\n",
        "doc1 = nlp(\"How can I be a good geologist?\")\n",
        "doc2 = nlp(\"What should I do to be a great geologist?\")\n",
        "doc3 = nlp(\"What should I do to be a good geologist?\")\n",
        "doc1.similarity(doc2), doc1.similarity(doc3)"
      ]
    },
    {
      "cell_type": "code",
      "execution_count": 49,
      "metadata": {
        "id": "d7qKHKpo4vHb",
        "outputId": "6cd5d0ae-88e7-4dc6-edb0-faef28fac424",
        "colab": {
          "base_uri": "https://localhost:8080/"
        }
      },
      "outputs": [
        {
          "output_type": "execute_result",
          "data": {
            "text/plain": [
              "<spacy.pipeline.sentencizer.Sentencizer at 0x7fe361fb2900>"
            ]
          },
          "metadata": {},
          "execution_count": 49
        }
      ],
      "source": [
        "# in particular, any subsequence of a document (so-called Span) also may have a vector\n",
        "# for example, a sentence in a document has vector (the average over all tokens of the sentence)\n",
        "# to split the document into sentences, we need to add 'sentencizer' to NLP pipeline\n",
        "nlp.add_pipe('sentencizer')"
      ]
    },
    {
      "cell_type": "code",
      "execution_count": 50,
      "metadata": {
        "colab": {
          "base_uri": "https://localhost:8080/"
        },
        "id": "85tR-5X_5hKF",
        "outputId": "756ebc99-ca7e-4079-81b8-67b3731235b1"
      },
      "outputs": [
        {
          "output_type": "stream",
          "name": "stdout",
          "text": [
            "SENTENCE:\n",
            " Re: Space billboards\n",
            "\n",
            "Even easier to implement than writing messages on the Moon, once upon\n",
            "a time a group of space activists I belonged to in Seattle considered\n",
            "a \"Goodyear Blimp in orbit\".\n",
            "HAS VECTOR: True\n",
            "---\n",
            "SENTENCE:\n",
            "  The idea was to use a large structure\n",
            "that could carry an array of lights like the Goodyear Blimp has.\n",
            "HAS VECTOR: True\n",
            "---\n",
            "SENTENCE:\n",
            " \n",
            "Placed in a low Earth orbit of high inclination, it could eventually\n",
            "be seen by almost everyone on Earth.\n",
            "HAS VECTOR: True\n",
            "---\n",
            "SENTENCE:\n",
            "  Only our collective disapproval\n",
            "of cluttering up space with such a thing stopped us from pursuing\n",
            "it.\n",
            "HAS VECTOR: True\n",
            "---\n",
            "SENTENCE:\n",
            "  It had quite feasible economics, which I will not post here\n",
            "because I don't want to encourage the idea (if you want to do such\n",
            "a thing, go figure it out for yourself).\n",
            "HAS VECTOR: True\n",
            "---\n",
            "SENTENCE:\n",
            " \n",
            "\n",
            "Dani Eder\n",
            "\n",
            "HAS VECTOR: True\n",
            "---\n"
          ]
        }
      ],
      "source": [
        "from sklearn.datasets import fetch_20newsgroups\n",
        "dataset = fetch_20newsgroups(\n",
        "    subset=\"all\",\n",
        "    shuffle=True,\n",
        "    random_state=1,\n",
        "    categories=(\"sci.space\",),\n",
        "    remove=('headers', 'footers', 'quotes')\n",
        ")\n",
        "from pprint import pprint\n",
        "\n",
        "# after the sentenciser has been added, the parsed document contains `.sents` attribute:\n",
        "for sentence in nlp(dataset.data[0]).sents:\n",
        "    print(\"SENTENCE:\\n\", sentence)\n",
        "    print(\"HAS VECTOR:\", sentence.has_vector)\n",
        "    print(\"---\")"
      ]
    },
    {
      "cell_type": "markdown",
      "metadata": {
        "id": "vesL_f-BwpF0"
      },
      "source": [
        "<!--@slideshow slide-->\n",
        "# Summary\n",
        "1. Words can be represented as non-orthogonal vectors.\n",
        "1. The meaning of the word can be deduced from contexts the word appears in (distributional semantics).\n",
        "1. word2vec\n",
        "  - Find vectors such that words with similar vectors often occur in the same context.\n",
        "  - Optimize log-likelihood using gradient descent.\n",
        "  - Details: 2 vectors for each word, negative sampling, subsampling.\n",
        "1. word2vec in gensim.\n",
        "1. Word vectors capture relations between words.\n",
        "1. GloVe: approximate co-occurrence probability\n",
        "1. FastText: use subword information\n",
        "1. Word vectors in spaCy"
      ]
    },
    {
      "cell_type": "markdown",
      "metadata": {
        "id": "DXIDQQ8tb4m0"
      },
      "source": [
        "# Home Assignment 8\n",
        "\n",
        "## Exercise 1 (6 points)\n",
        "\n",
        "Use SpaCy vectors to solve Quora Question Pairs (like we did in the previous lecture with TD-IDF vectors).\n",
        "You don't have to train vectors, the only thing you need is to apply spaCy vectors to the test dataset and compute similarities. The relevant code from the previous lecture is [here](https://colab.research.google.com/drive/1fq3Y-730mivy0halpGJhcq0nGEkOsYNP#scrollTo=n7A9Tq-47gcN&line=1&uniqifier=1).\n",
        "\n",
        "Compare the results with TF-IDF. For TF-IDF vectors, we got the result ROC AUC = 0.719 on the test dataset .\n"
      ]
    },
    {
      "cell_type": "code",
      "execution_count": 51,
      "metadata": {
        "id": "pq4t8sQZc0Pj"
      },
      "outputs": [],
      "source": [
        "# YOUR CODE HERE"
      ]
    },
    {
      "cell_type": "markdown",
      "metadata": {
        "id": "QfMd0u7O0GD8"
      },
      "source": [
        "<!--@slideshow slide-->\n",
        "# [OPTIONAL] In-class coding session\n",
        "\n",
        "Build news summarizer using word2vec.\n",
        "\n",
        "Try the following idea:\n",
        "1. Assume that there is a \"central\" vector (the main idea) of the article which is the average vector of all tokens in the article.\n",
        "1. Find $k$ sentences closest to the \"central\" vector. The assumption is that these sentences are \"informative\", and other sentences are \"noisy\" and not important.\n",
        "\n",
        "The function `parse_techcrunch_url(url)` parses the content from [techcrunch.com](https://techcrunch.com), you can use it to check your implementation on real data.\n",
        "\n",
        "Also, implement a random baseline (get $k$ random sentences from the text) and compare the results (visually)."
      ]
    },
    {
      "cell_type": "code",
      "execution_count": 52,
      "metadata": {
        "colab": {
          "base_uri": "https://localhost:8080/"
        },
        "id": "CAzNZd420m_J",
        "outputId": "7ada39b2-f59c-401b-faed-dc9a3746779c"
      },
      "outputs": [
        {
          "output_type": "stream",
          "name": "stdout",
          "text": [
            "('A renowned iPhone hacking team has released a new “jailbreak” tool that '\n",
            " 'unlocks every iPhone, even the most recent models running the latest iOS '\n",
            " '13.5.\\n'\n",
            " 'For as long as Apple has kept up its “walled garden” approach to iPhones by '\n",
            " 'only allowing apps and customizations that it approves, hackers have tried '\n",
            " 'to break free from what they call the “jail,” hence the name “jailbreak.” '\n",
            " 'Hackers do this by finding a previously undisclosed vulnerability in iOS '\n",
            " 'that break through some of the many restrictions that Apple puts in place to '\n",
            " 'prevent access to the underlying software. Apple says it does this for '\n",
            " 'security. But jailbreakers say breaking through those restrictions allows '\n",
            " 'them to customize their iPhones more than they would otherwise, in a way '\n",
            " 'that most Android users are already accustomed to.\\n'\n",
            " 'The jailbreak, released by the unc0ver team, supports all iPhones that run '\n",
            " 'iOS 11 and above, including up to iOS 13.5, which Apple released this week.\\n'\n",
            " 'Details of the vulnerability that the hackers used to build the jailbreak '\n",
            " 'aren’t known, but it’s not expected to last forever. Just as jailbreakers '\n",
            " 'work to find a way in, Apple works fast to patch the flaws and close the '\n",
            " 'jailbreak.\\n'\n",
            " 'Security experts typically advise iPhone users against jailbreaking, because '\n",
            " 'breaking out of the “walled garden” vastly increases the surface area for '\n",
            " 'new vulnerabilities to exist and to be found.\\n'\n",
            " 'The jailbreak comes at a time where the shine is wearing off of Apple’s '\n",
            " 'typically strong security image. Last week, Zerodium, a broker for exploits, '\n",
            " 'said it would no longer buy certain iPhone vulnerabilities because there '\n",
            " 'were too many of them. Motherboard reported this week that hackers got their '\n",
            " 'hands on a pre-release version of the upcoming iOS 14 release several months '\n",
            " 'ago.\\n'\n",
            " 'The FBI is mad because it keeps getting into locked iPhones without Apple’s '\n",
            " 'help\\n')\n"
          ]
        }
      ],
      "source": [
        "def parse_techcrunch_url(url):\n",
        "    import bs4\n",
        "    import re\n",
        "    import requests\n",
        "    response = requests.get(url)\n",
        "    soup = bs4.BeautifulSoup(response.text, \"html.parser\")\n",
        "    items = soup.find(\"div\", {\"class\": \"article-content\"}).findAll(\"p\")\n",
        "    raw_html = \"\\n\".join(map(str, items))\n",
        "    cleanr = re.compile('<.*?>')\n",
        "    clean_html = re.sub(cleanr, '', raw_html)\n",
        "    return clean_html\n",
        "\n",
        "from pprint import pprint\n",
        "url = \"https://techcrunch.com/2020/05/23/hackers-iphone-new-jailbreak/\"\n",
        "pprint(parse_techcrunch_url(url))"
      ]
    },
    {
      "cell_type": "code",
      "source": [
        "!python -m spacy download en_core_web_md"
      ],
      "metadata": {
        "id": "djv2JYwxNE2Q"
      },
      "execution_count": null,
      "outputs": []
    },
    {
      "cell_type": "code",
      "source": [
        "import spacy\n",
        "import numpy as np\n",
        "from sklearn.metrics.pairwise import cosine_similarity\n",
        "nlp = spacy.load(\"en_core_web_md\")\n",
        "def summarize(text, k):\n",
        "    nlp.add_pipe('sentencizer')\n",
        "    doc = nlp(text)\n",
        "    sentences = [sent.text for sent in doc.sents]\n",
        "\n",
        "    similarities = [doc.similarity(sent) for sent in doc.sents]\n",
        "    top_k_indices = np.argsort(similarities)[-k:]\n",
        "    top_k_sentences = [sentences[i] for i in top_k_indices]\n",
        "    return top_k_sentences\n",
        "\n",
        "url = \"https://techcrunch.com/2020/05/23/hackers-iphone-new-jailbreak/\"\n",
        "text = parse_techcrunch_url(url)\n",
        "k = 5\n",
        "print(summarize(text, k))\n"
      ],
      "metadata": {
        "id": "S1ySwfkPL_6B",
        "outputId": "4dfa2b83-3833-4f4a-e679-6c740d7d0f72",
        "colab": {
          "base_uri": "https://localhost:8080/"
        }
      },
      "execution_count": 73,
      "outputs": [
        {
          "output_type": "stream",
          "name": "stdout",
          "text": [
            "['But jailbreakers say breaking through those restrictions allows them to customize their iPhones more than they would otherwise, in a way that most Android users are already accustomed to.\\n', 'Just as jailbreakers work to find a way in, Apple works fast to patch the flaws and close the jailbreak.\\n', 'Hackers do this by finding a previously undisclosed vulnerability in iOS that break through some of the many restrictions that Apple puts in place to prevent access to the underlying software.', 'Details of the vulnerability that the hackers used to build the jailbreak aren’t known, but it’s not expected to last forever.', 'Security experts typically advise iPhone users against jailbreaking, because breaking out of the “walled garden” vastly increases the surface area for new vulnerabilities to exist and to be found.\\n']\n"
          ]
        }
      ]
    },
    {
      "cell_type": "markdown",
      "metadata": {
        "id": "p0ACJFY28MuM"
      },
      "source": [
        "<!--@slideshow slide-->\n",
        "# Recommended resources\n",
        "- [📖 Distributional semantics](https://en.wikipedia.org/wiki/Distributional_semantics)\n",
        "- [📖 YDSA NLP course, lecture 1](https://github.com/yandexdataschool/nlp_course/tree/2019/week01_embeddings)\n",
        "- Stanford CS224n, lecture 1\n",
        "  - [📺 video](https://www.youtube.com/watch?v=8rXD5-xhemo&feature=youtu.be)\n",
        "  - [📖 slides](https://web.stanford.edu/class/archive/cs/cs224n/cs224n.1194/slides/cs224n-2019-lecture01-wordvecs1.pdf)\n",
        "  - [📖 notes](https://web.stanford.edu/class/archive/cs/cs224n/cs224n.1194/readings/cs224n-2019-notes01-wordvecs1.pdf)\n",
        "- [📖 The original word2vec code](https://code.google.com/archive/p/word2vec/)\n",
        "- FastText\n",
        "  - [Documentation](https://fasttext.cc/)\n",
        "  - [Paper \"Enriching Word Vectors with Subword Information\"](https://arxiv.org/abs/1607.04606)\n",
        "  - [Paper \"Bag of Tricks for Efficient Text Classification\"](https://arxiv.org/abs/1607.01759)\n",
        "- [vectors in spaCy](https://spacy.io/usage/vectors-similarity)"
      ]
    },
    {
      "cell_type": "markdown",
      "metadata": {
        "id": "1_kJQ_FIK1FX"
      },
      "source": [
        "# [OPTIONAL] Principal Component Analysis (PCA)\n",
        "\n",
        "The illustration of the Principal Component Analysis. In case of 2 dimensions, PCA can be understood as the best projection of 2-dimensional data into a straingt line."
      ]
    },
    {
      "cell_type": "code",
      "execution_count": 53,
      "metadata": {
        "colab": {
          "base_uri": "https://localhost:8080/",
          "height": 283
        },
        "id": "5-bmGXPQOROg",
        "outputId": "56e46143-4d2a-49aa-894b-e1528b90de04"
      },
      "outputs": [
        {
          "output_type": "execute_result",
          "data": {
            "text/plain": [
              "(-6.501071474160739, 6.877616311403686, -12.01989936222766, 10.706263560914952)"
            ]
          },
          "metadata": {},
          "execution_count": 53
        },
        {
          "output_type": "display_data",
          "data": {
            "text/plain": [
              "<Figure size 432x288 with 1 Axes>"
            ],
            "image/png": "[encoded data removed]"
          },
          "metadata": {
            "needs_background": "light"
          }
        }
      ],
      "source": [
        "# project 2-dimensional ellipsoid onto a 1-dimensional line\n",
        "# in other words: explain each point with a single number\n",
        "def rotation_matrix(radians):\n",
        "    c, s = np.cos(radians), np.sin(radians)\n",
        "    return np.matrix([[c, s], [-s, c]])\n",
        "\n",
        "def generate_cloud(size, var1, var2, radians):\n",
        "    import numpy as np\n",
        "    j = rotation_matrix(radians)\n",
        "    return np.asarray(np.random.multivariate_normal([0., 0.], [[var1, 0], [0, var2]], size=size) @ j)\n",
        "\n",
        "cloud = generate_cloud(100, 0.5, 20, 0.5)\n",
        "import matplotlib.pyplot as plt\n",
        "\n",
        "plt.scatter(cloud[:, 0], cloud[:, 1])\n",
        "plt.axis(\"equal\")"
      ]
    },
    {
      "cell_type": "code",
      "execution_count": 54,
      "metadata": {
        "colab": {
          "base_uri": "https://localhost:8080/",
          "height": 336
        },
        "id": "4g_8Xra1SV2k",
        "outputId": "58e1c890-c06f-4a09-a177-a6c9113f548d"
      },
      "outputs": [
        {
          "output_type": "execute_result",
          "data": {
            "text/plain": [
              "(-12.525150925830724,\n",
              " 13.846057843408872,\n",
              " -1.8395641594815182,\n",
              " 1.8529875886678913)"
            ]
          },
          "metadata": {},
          "execution_count": 54
        },
        {
          "output_type": "display_data",
          "data": {
            "text/plain": [
              "<Figure size 432x288 with 1 Axes>"
            ],
            "image/png": "[encoded data removed]"
          },
          "metadata": {
            "needs_background": "light"
          }
        }
      ],
      "source": [
        "# find the rotation angle via slope\n",
        "from sklearn.linear_model import LinearRegression\n",
        "clf = LinearRegression()\n",
        "clf.fit(cloud[:, 0].reshape(-1, 1), cloud[:, 1])\n",
        "# clf.coef_ is the slope = tan(rotation angles)\n",
        "# rotate back\n",
        "angle_to_rotate = -np.arctan(clf.coef_).item()\n",
        "rotated_cloud = np.asarray(cloud @ rotation_matrix(angle_to_rotate))\n",
        "plt.scatter(\n",
        "    rotated_cloud[:, 0],  # the first principal component\n",
        "    rotated_cloud[:, 1]\n",
        ")\n",
        "plt.axis(\"equal\")"
      ]
    },
    {
      "cell_type": "code",
      "execution_count": 55,
      "metadata": {
        "id": "1pwF-QVbRjoe",
        "outputId": "5ecc2558-8322-4508-8510-77c6d1bb6561",
        "colab": {
          "base_uri": "https://localhost:8080/",
          "height": 336
        }
      },
      "outputs": [
        {
          "output_type": "execute_result",
          "data": {
            "text/plain": [
              "(-12.353731513739344,\n",
              " 14.007788256632987,\n",
              " -1.6862173835975365,\n",
              " 1.7064803806761493)"
            ]
          },
          "metadata": {},
          "execution_count": 55
        },
        {
          "output_type": "display_data",
          "data": {
            "text/plain": [
              "<Figure size 432x288 with 1 Axes>"
            ],
            "image/png": "[encoded data removed]"
          },
          "metadata": {
            "needs_background": "light"
          }
        }
      ],
      "source": [
        "from sklearn.decomposition import PCA\n",
        "trf = PCA()\n",
        "result = trf.fit_transform(cloud)\n",
        "\n",
        "plt.scatter(result[:, 0], result[:, 1])\n",
        "plt.axis(\"equal\")"
      ]
    }
  ],
  "metadata": {
    "colab": {
      "toc_visible": true,
      "provenance": [],
      "include_colab_link": true
    },
    "kernelspec": {
      "display_name": "Python 3",
      "name": "python3"
    },
    "widgets": {
      "application/vnd.jupyter.widget-state+json": {
        "421c1fdb085a4b8ea6299f6838092228": {
          "model_module": "@jupyter-widgets/controls",
          "model_name": "VBoxModel",
          "model_module_version": "1.5.0",
          "state": {
            "_dom_classes": [],
            "_model_module": "@jupyter-widgets/controls",
            "_model_module_version": "1.5.0",
            "_model_name": "VBoxModel",
            "_view_count": null,
            "_view_module": "@jupyter-widgets/controls",
            "_view_module_version": "1.5.0",
            "_view_name": "VBoxView",
            "box_style": "",
            "children": [
              "IPY_MODEL_f2b8eedad008409da2c9ea3f402645ee",
              "IPY_MODEL_c4bb82e8959a4590a379ddb73f04a772",
              "IPY_MODEL_e05a4b7daa4a4eb191ae05ecd81f4072",
              "IPY_MODEL_472651dbe27546d9ae8ef36e20c1efdd"
            ],
            "layout": "IPY_MODEL_764af4bb9369440ea6510032b305d134"
          }
        },
        "f2b8eedad008409da2c9ea3f402645ee": {
          "model_module": "@jupyter-widgets/output",
          "model_name": "OutputModel",
          "model_module_version": "1.0.0",
          "state": {
            "_dom_classes": [],
            "_model_module": "@jupyter-widgets/output",
            "_model_module_version": "1.0.0",
            "_model_name": "OutputModel",
            "_view_count": null,
            "_view_module": "@jupyter-widgets/output",
            "_view_module_version": "1.0.0",
            "_view_name": "OutputView",
            "layout": "IPY_MODEL_870e14cd2188452689f772f0625ff4c0",
            "msg_id": "",
            "outputs": [
              {
                "output_type": "display_data",
                "data": {
                  "text/plain": "HTML(value='\\n            Consider the following sentence:\\n            \"a skibidi is caught out of the sea at…",
                  "application/vnd.jupyter.widget-view+json": {
                    "version_major": 2,
                    "version_minor": 0,
                    "model_id": "5896229669664c6d827aa4170e27092d"
                  }
                },
                "metadata": {}
              }
            ]
          }
        },
        "c4bb82e8959a4590a379ddb73f04a772": {
          "model_module": "@jupyter-widgets/controls",
          "model_name": "RadioButtonsModel",
          "model_module_version": "1.5.0",
          "state": {
            "_dom_classes": [],
            "_model_module": "@jupyter-widgets/controls",
            "_model_module_version": "1.5.0",
            "_model_name": "RadioButtonsModel",
            "_options_labels": [
              "definition 1",
              "definition 2",
              "definition 3",
              "definition 4"
            ],
            "_view_count": null,
            "_view_module": "@jupyter-widgets/controls",
            "_view_module_version": "1.5.0",
            "_view_name": "RadioButtonsView",
            "description": "",
            "description_tooltip": null,
            "disabled": false,
            "index": 0,
            "layout": "IPY_MODEL_7340cb987bef4932b77cfeac0a8706be",
            "style": "IPY_MODEL_8b4ce51e5cdc47f493aac23d99fc218c"
          }
        },
        "e05a4b7daa4a4eb191ae05ecd81f4072": {
          "model_module": "@jupyter-widgets/controls",
          "model_name": "HTMLModel",
          "model_module_version": "1.5.0",
          "state": {
            "_dom_classes": [],
            "_model_module": "@jupyter-widgets/controls",
            "_model_module_version": "1.5.0",
            "_model_name": "HTMLModel",
            "_view_count": null,
            "_view_module": "@jupyter-widgets/controls",
            "_view_module_version": "1.5.0",
            "_view_name": "HTMLView",
            "description": "",
            "description_tooltip": null,
            "layout": "IPY_MODEL_f76d1c9eb9d94df5828e6a00fcf5b322",
            "placeholder": "​",
            "style": "IPY_MODEL_f7d24ff7d19a4ad998dd2c4f9f6c6b58",
            "value": "<br>"
          }
        },
        "472651dbe27546d9ae8ef36e20c1efdd": {
          "model_module": "@jupyter-widgets/controls",
          "model_name": "ButtonModel",
          "model_module_version": "1.5.0",
          "state": {
            "_dom_classes": [],
            "_model_module": "@jupyter-widgets/controls",
            "_model_module_version": "1.5.0",
            "_model_name": "ButtonModel",
            "_view_count": null,
            "_view_module": "@jupyter-widgets/controls",
            "_view_module_version": "1.5.0",
            "_view_name": "ButtonView",
            "button_style": "",
            "description": "Check",
            "disabled": false,
            "icon": "",
            "layout": "IPY_MODEL_f7b1ae5e65294ec2ab2cc199537a5cea",
            "style": "IPY_MODEL_d9478038a14444069162f5ed97ab83c0",
            "tooltip": ""
          }
        },
        "764af4bb9369440ea6510032b305d134": {
          "model_module": "@jupyter-widgets/base",
          "model_name": "LayoutModel",
          "model_module_version": "1.2.0",
          "state": {
            "_model_module": "@jupyter-widgets/base",
            "_model_module_version": "1.2.0",
            "_model_name": "LayoutModel",
            "_view_count": null,
            "_view_module": "@jupyter-widgets/base",
            "_view_module_version": "1.2.0",
            "_view_name": "LayoutView",
            "align_content": null,
            "align_items": null,
            "align_self": null,
            "border": null,
            "bottom": null,
            "display": null,
            "flex": null,
            "flex_flow": null,
            "grid_area": null,
            "grid_auto_columns": null,
            "grid_auto_flow": null,
            "grid_auto_rows": null,
            "grid_column": null,
            "grid_gap": null,
            "grid_row": null,
            "grid_template_areas": null,
            "grid_template_columns": null,
            "grid_template_rows": null,
            "height": null,
            "justify_content": null,
            "justify_items": null,
            "left": null,
            "margin": null,
            "max_height": null,
            "max_width": null,
            "min_height": null,
            "min_width": null,
            "object_fit": null,
            "object_position": null,
            "order": null,
            "overflow": null,
            "overflow_x": null,
            "overflow_y": null,
            "padding": null,
            "right": null,
            "top": null,
            "visibility": null,
            "width": null
          }
        },
        "7340cb987bef4932b77cfeac0a8706be": {
          "model_module": "@jupyter-widgets/base",
          "model_name": "LayoutModel",
          "model_module_version": "1.2.0",
          "state": {
            "_model_module": "@jupyter-widgets/base",
            "_model_module_version": "1.2.0",
            "_model_name": "LayoutModel",
            "_view_count": null,
            "_view_module": "@jupyter-widgets/base",
            "_view_module_version": "1.2.0",
            "_view_name": "LayoutView",
            "align_content": null,
            "align_items": null,
            "align_self": null,
            "border": null,
            "bottom": null,
            "display": null,
            "flex": null,
            "flex_flow": null,
            "grid_area": null,
            "grid_auto_columns": null,
            "grid_auto_flow": null,
            "grid_auto_rows": null,
            "grid_column": null,
            "grid_gap": null,
            "grid_row": null,
            "grid_template_areas": null,
            "grid_template_columns": null,
            "grid_template_rows": null,
            "height": null,
            "justify_content": null,
            "justify_items": null,
            "left": null,
            "margin": null,
            "max_height": null,
            "max_width": null,
            "min_height": null,
            "min_width": null,
            "object_fit": null,
            "object_position": null,
            "order": null,
            "overflow": null,
            "overflow_x": null,
            "overflow_y": null,
            "padding": null,
            "right": null,
            "top": null,
            "visibility": null,
            "width": null
          }
        },
        "8b4ce51e5cdc47f493aac23d99fc218c": {
          "model_module": "@jupyter-widgets/controls",
          "model_name": "DescriptionStyleModel",
          "model_module_version": "1.5.0",
          "state": {
            "_model_module": "@jupyter-widgets/controls",
            "_model_module_version": "1.5.0",
            "_model_name": "DescriptionStyleModel",
            "_view_count": null,
            "_view_module": "@jupyter-widgets/base",
            "_view_module_version": "1.2.0",
            "_view_name": "StyleView",
            "description_width": ""
          }
        },
        "f76d1c9eb9d94df5828e6a00fcf5b322": {
          "model_module": "@jupyter-widgets/base",
          "model_name": "LayoutModel",
          "model_module_version": "1.2.0",
          "state": {
            "_model_module": "@jupyter-widgets/base",
            "_model_module_version": "1.2.0",
            "_model_name": "LayoutModel",
            "_view_count": null,
            "_view_module": "@jupyter-widgets/base",
            "_view_module_version": "1.2.0",
            "_view_name": "LayoutView",
            "align_content": null,
            "align_items": null,
            "align_self": null,
            "border": null,
            "bottom": null,
            "display": null,
            "flex": null,
            "flex_flow": null,
            "grid_area": null,
            "grid_auto_columns": null,
            "grid_auto_flow": null,
            "grid_auto_rows": null,
            "grid_column": null,
            "grid_gap": null,
            "grid_row": null,
            "grid_template_areas": null,
            "grid_template_columns": null,
            "grid_template_rows": null,
            "height": null,
            "justify_content": null,
            "justify_items": null,
            "left": null,
            "margin": null,
            "max_height": null,
            "max_width": null,
            "min_height": null,
            "min_width": null,
            "object_fit": null,
            "object_position": null,
            "order": null,
            "overflow": null,
            "overflow_x": null,
            "overflow_y": null,
            "padding": null,
            "right": null,
            "top": null,
            "visibility": null,
            "width": null
          }
        },
        "f7d24ff7d19a4ad998dd2c4f9f6c6b58": {
          "model_module": "@jupyter-widgets/controls",
          "model_name": "DescriptionStyleModel",
          "model_module_version": "1.5.0",
          "state": {
            "_model_module": "@jupyter-widgets/controls",
            "_model_module_version": "1.5.0",
            "_model_name": "DescriptionStyleModel",
            "_view_count": null,
            "_view_module": "@jupyter-widgets/base",
            "_view_module_version": "1.2.0",
            "_view_name": "StyleView",
            "description_width": ""
          }
        },
        "f7b1ae5e65294ec2ab2cc199537a5cea": {
          "model_module": "@jupyter-widgets/base",
          "model_name": "LayoutModel",
          "model_module_version": "1.2.0",
          "state": {
            "_model_module": "@jupyter-widgets/base",
            "_model_module_version": "1.2.0",
            "_model_name": "LayoutModel",
            "_view_count": null,
            "_view_module": "@jupyter-widgets/base",
            "_view_module_version": "1.2.0",
            "_view_name": "LayoutView",
            "align_content": null,
            "align_items": null,
            "align_self": null,
            "border": null,
            "bottom": null,
            "display": null,
            "flex": null,
            "flex_flow": null,
            "grid_area": null,
            "grid_auto_columns": null,
            "grid_auto_flow": null,
            "grid_auto_rows": null,
            "grid_column": null,
            "grid_gap": null,
            "grid_row": null,
            "grid_template_areas": null,
            "grid_template_columns": null,
            "grid_template_rows": null,
            "height": null,
            "justify_content": null,
            "justify_items": null,
            "left": null,
            "margin": null,
            "max_height": null,
            "max_width": null,
            "min_height": null,
            "min_width": null,
            "object_fit": null,
            "object_position": null,
            "order": null,
            "overflow": null,
            "overflow_x": null,
            "overflow_y": null,
            "padding": null,
            "right": null,
            "top": null,
            "visibility": null,
            "width": null
          }
        },
        "d9478038a14444069162f5ed97ab83c0": {
          "model_module": "@jupyter-widgets/controls",
          "model_name": "ButtonStyleModel",
          "model_module_version": "1.5.0",
          "state": {
            "_model_module": "@jupyter-widgets/controls",
            "_model_module_version": "1.5.0",
            "_model_name": "ButtonStyleModel",
            "_view_count": null,
            "_view_module": "@jupyter-widgets/base",
            "_view_module_version": "1.2.0",
            "_view_name": "StyleView",
            "button_color": null,
            "font_weight": ""
          }
        },
        "5896229669664c6d827aa4170e27092d": {
          "model_module": "@jupyter-widgets/controls",
          "model_name": "HTMLModel",
          "model_module_version": "1.5.0",
          "state": {
            "_dom_classes": [],
            "_model_module": "@jupyter-widgets/controls",
            "_model_module_version": "1.5.0",
            "_model_name": "HTMLModel",
            "_view_count": null,
            "_view_module": "@jupyter-widgets/controls",
            "_view_module_version": "1.5.0",
            "_view_name": "HTMLView",
            "description": "",
            "description_tooltip": null,
            "layout": "IPY_MODEL_cbf51b0146e64ac88634555d90b1febd",
            "placeholder": "​",
            "style": "IPY_MODEL_ccbdd02536e145efb906c13073e746e0",
            "value": "\n            Consider the following sentence:\n            \"a skibidi is caught out of the sea at Christmas\".\n            \n            What is \"skibidi\"?\n            <ol>\n                <li>the Chinese tea used to purify tea glasses for eye makeup and to make it more attractive</li>\n                <li>a small, slender elongated tubular labyrinth, typically having a rounded body and a spiral, twisted, curved part</li>\n                <li>a tall, slender, tapering, broad-shouldered fish of warm seas.</li>\n                <li>the stem of the long rib of a fungus, especially one which reveals the outer edge of the flower and can be found on the stalk of a variety of trees</li>\n            </ol>\n            Choose the correct answer below\n        "
          }
        },
        "870e14cd2188452689f772f0625ff4c0": {
          "model_module": "@jupyter-widgets/base",
          "model_name": "LayoutModel",
          "model_module_version": "1.2.0",
          "state": {
            "_model_module": "@jupyter-widgets/base",
            "_model_module_version": "1.2.0",
            "_model_name": "LayoutModel",
            "_view_count": null,
            "_view_module": "@jupyter-widgets/base",
            "_view_module_version": "1.2.0",
            "_view_name": "LayoutView",
            "align_content": null,
            "align_items": null,
            "align_self": null,
            "border": null,
            "bottom": null,
            "display": null,
            "flex": null,
            "flex_flow": null,
            "grid_area": null,
            "grid_auto_columns": null,
            "grid_auto_flow": null,
            "grid_auto_rows": null,
            "grid_column": null,
            "grid_gap": null,
            "grid_row": null,
            "grid_template_areas": null,
            "grid_template_columns": null,
            "grid_template_rows": null,
            "height": null,
            "justify_content": null,
            "justify_items": null,
            "left": null,
            "margin": null,
            "max_height": null,
            "max_width": null,
            "min_height": null,
            "min_width": null,
            "object_fit": null,
            "object_position": null,
            "order": null,
            "overflow": null,
            "overflow_x": null,
            "overflow_y": null,
            "padding": null,
            "right": null,
            "top": null,
            "visibility": null,
            "width": null
          }
        },
        "cbf51b0146e64ac88634555d90b1febd": {
          "model_module": "@jupyter-widgets/base",
          "model_name": "LayoutModel",
          "model_module_version": "1.2.0",
          "state": {
            "_model_module": "@jupyter-widgets/base",
            "_model_module_version": "1.2.0",
            "_model_name": "LayoutModel",
            "_view_count": null,
            "_view_module": "@jupyter-widgets/base",
            "_view_module_version": "1.2.0",
            "_view_name": "LayoutView",
            "align_content": null,
            "align_items": null,
            "align_self": null,
            "border": null,
            "bottom": null,
            "display": null,
            "flex": null,
            "flex_flow": null,
            "grid_area": null,
            "grid_auto_columns": null,
            "grid_auto_flow": null,
            "grid_auto_rows": null,
            "grid_column": null,
            "grid_gap": null,
            "grid_row": null,
            "grid_template_areas": null,
            "grid_template_columns": null,
            "grid_template_rows": null,
            "height": null,
            "justify_content": null,
            "justify_items": null,
            "left": null,
            "margin": null,
            "max_height": null,
            "max_width": null,
            "min_height": null,
            "min_width": null,
            "object_fit": null,
            "object_position": null,
            "order": null,
            "overflow": null,
            "overflow_x": null,
            "overflow_y": null,
            "padding": null,
            "right": null,
            "top": null,
            "visibility": null,
            "width": null
          }
        },
        "ccbdd02536e145efb906c13073e746e0": {
          "model_module": "@jupyter-widgets/controls",
          "model_name": "DescriptionStyleModel",
          "model_module_version": "1.5.0",
          "state": {
            "_model_module": "@jupyter-widgets/controls",
            "_model_module_version": "1.5.0",
            "_model_name": "DescriptionStyleModel",
            "_view_count": null,
            "_view_module": "@jupyter-widgets/base",
            "_view_module_version": "1.2.0",
            "_view_name": "StyleView",
            "description_width": ""
          }
        },
        "c052957ef2f9471abed776b02b69e74c": {
          "model_module": "@jupyter-widgets/controls",
          "model_name": "VBoxModel",
          "model_module_version": "1.5.0",
          "state": {
            "_dom_classes": [],
            "_model_module": "@jupyter-widgets/controls",
            "_model_module_version": "1.5.0",
            "_model_name": "VBoxModel",
            "_view_count": null,
            "_view_module": "@jupyter-widgets/controls",
            "_view_module_version": "1.5.0",
            "_view_name": "VBoxView",
            "box_style": "",
            "children": [
              "IPY_MODEL_84ced87ee330437b95908ef7b1c0df42",
              "IPY_MODEL_80d9479c63f4486d819ef572ec4b7aa3"
            ],
            "layout": "IPY_MODEL_a77e3c680c554d17a6b484a237e5afa8"
          }
        },
        "84ced87ee330437b95908ef7b1c0df42": {
          "model_module": "@jupyter-widgets/controls",
          "model_name": "HBoxModel",
          "model_module_version": "1.5.0",
          "state": {
            "_dom_classes": [],
            "_model_module": "@jupyter-widgets/controls",
            "_model_module_version": "1.5.0",
            "_model_name": "HBoxModel",
            "_view_count": null,
            "_view_module": "@jupyter-widgets/controls",
            "_view_module_version": "1.5.0",
            "_view_name": "HBoxView",
            "box_style": "",
            "children": [
              "IPY_MODEL_3601adedc71743caacf066854ff6f73c",
              "IPY_MODEL_681128cec11b4937bc74be1786745a8f"
            ],
            "layout": "IPY_MODEL_9c2a637cd85b4256bc1e73641b3ea9f5"
          }
        },
        "80d9479c63f4486d819ef572ec4b7aa3": {
          "model_module": "@jupyter-widgets/output",
          "model_name": "OutputModel",
          "model_module_version": "1.0.0",
          "state": {
            "_dom_classes": [],
            "_model_module": "@jupyter-widgets/output",
            "_model_module_version": "1.0.0",
            "_model_name": "OutputModel",
            "_view_count": null,
            "_view_module": "@jupyter-widgets/output",
            "_view_module_version": "1.0.0",
            "_view_name": "OutputView",
            "layout": "IPY_MODEL_cc79427675fc404b998df94e5cc3e088",
            "msg_id": "",
            "outputs": [
              {
                "output_type": "display_data",
                "data": {
                  "text/plain": "<IPython.core.display.HTML object>",
                  "text/html": " <span style='border: 2px solid red;'></span> <span style='border: 2px solid green;'>never</span> <span style='border: 2px solid red;'>gonna give you</span> up never gonna let you down"
                },
                "metadata": {}
              },
              {
                "output_type": "stream",
                "name": "stdout",
                "text": [
                  "Position: 0\n",
                  "Center word: 'never'\n",
                  "Context: ['gonna', 'give', 'you']\n"
                ]
              }
            ]
          }
        },
        "a77e3c680c554d17a6b484a237e5afa8": {
          "model_module": "@jupyter-widgets/base",
          "model_name": "LayoutModel",
          "model_module_version": "1.2.0",
          "state": {
            "_model_module": "@jupyter-widgets/base",
            "_model_module_version": "1.2.0",
            "_model_name": "LayoutModel",
            "_view_count": null,
            "_view_module": "@jupyter-widgets/base",
            "_view_module_version": "1.2.0",
            "_view_name": "LayoutView",
            "align_content": null,
            "align_items": null,
            "align_self": null,
            "border": null,
            "bottom": null,
            "display": null,
            "flex": null,
            "flex_flow": null,
            "grid_area": null,
            "grid_auto_columns": null,
            "grid_auto_flow": null,
            "grid_auto_rows": null,
            "grid_column": null,
            "grid_gap": null,
            "grid_row": null,
            "grid_template_areas": null,
            "grid_template_columns": null,
            "grid_template_rows": null,
            "height": null,
            "justify_content": null,
            "justify_items": null,
            "left": null,
            "margin": null,
            "max_height": null,
            "max_width": null,
            "min_height": null,
            "min_width": null,
            "object_fit": null,
            "object_position": null,
            "order": null,
            "overflow": null,
            "overflow_x": null,
            "overflow_y": null,
            "padding": null,
            "right": null,
            "top": null,
            "visibility": null,
            "width": null
          }
        },
        "3601adedc71743caacf066854ff6f73c": {
          "model_module": "@jupyter-widgets/controls",
          "model_name": "ButtonModel",
          "model_module_version": "1.5.0",
          "state": {
            "_dom_classes": [],
            "_model_module": "@jupyter-widgets/controls",
            "_model_module_version": "1.5.0",
            "_model_name": "ButtonModel",
            "_view_count": null,
            "_view_module": "@jupyter-widgets/controls",
            "_view_module_version": "1.5.0",
            "_view_name": "ButtonView",
            "button_style": "",
            "description": "<<",
            "disabled": false,
            "icon": "",
            "layout": "IPY_MODEL_93522b23c51342329f5ada1802a2b1de",
            "style": "IPY_MODEL_242ff0b94afb45c8acdb439aada50a09",
            "tooltip": ""
          }
        },
        "681128cec11b4937bc74be1786745a8f": {
          "model_module": "@jupyter-widgets/controls",
          "model_name": "ButtonModel",
          "model_module_version": "1.5.0",
          "state": {
            "_dom_classes": [],
            "_model_module": "@jupyter-widgets/controls",
            "_model_module_version": "1.5.0",
            "_model_name": "ButtonModel",
            "_view_count": null,
            "_view_module": "@jupyter-widgets/controls",
            "_view_module_version": "1.5.0",
            "_view_name": "ButtonView",
            "button_style": "",
            "description": ">>",
            "disabled": false,
            "icon": "",
            "layout": "IPY_MODEL_ac8950d8971c4c049f57ad6a686c4850",
            "style": "IPY_MODEL_e3ce2f0ffbd143ea8f0bfb23bff6a4be",
            "tooltip": ""
          }
        },
        "9c2a637cd85b4256bc1e73641b3ea9f5": {
          "model_module": "@jupyter-widgets/base",
          "model_name": "LayoutModel",
          "model_module_version": "1.2.0",
          "state": {
            "_model_module": "@jupyter-widgets/base",
            "_model_module_version": "1.2.0",
            "_model_name": "LayoutModel",
            "_view_count": null,
            "_view_module": "@jupyter-widgets/base",
            "_view_module_version": "1.2.0",
            "_view_name": "LayoutView",
            "align_content": null,
            "align_items": null,
            "align_self": null,
            "border": null,
            "bottom": null,
            "display": null,
            "flex": null,
            "flex_flow": null,
            "grid_area": null,
            "grid_auto_columns": null,
            "grid_auto_flow": null,
            "grid_auto_rows": null,
            "grid_column": null,
            "grid_gap": null,
            "grid_row": null,
            "grid_template_areas": null,
            "grid_template_columns": null,
            "grid_template_rows": null,
            "height": null,
            "justify_content": null,
            "justify_items": null,
            "left": null,
            "margin": null,
            "max_height": null,
            "max_width": null,
            "min_height": null,
            "min_width": null,
            "object_fit": null,
            "object_position": null,
            "order": null,
            "overflow": null,
            "overflow_x": null,
            "overflow_y": null,
            "padding": null,
            "right": null,
            "top": null,
            "visibility": null,
            "width": null
          }
        },
        "93522b23c51342329f5ada1802a2b1de": {
          "model_module": "@jupyter-widgets/base",
          "model_name": "LayoutModel",
          "model_module_version": "1.2.0",
          "state": {
            "_model_module": "@jupyter-widgets/base",
            "_model_module_version": "1.2.0",
            "_model_name": "LayoutModel",
            "_view_count": null,
            "_view_module": "@jupyter-widgets/base",
            "_view_module_version": "1.2.0",
            "_view_name": "LayoutView",
            "align_content": null,
            "align_items": null,
            "align_self": null,
            "border": null,
            "bottom": null,
            "display": null,
            "flex": null,
            "flex_flow": null,
            "grid_area": null,
            "grid_auto_columns": null,
            "grid_auto_flow": null,
            "grid_auto_rows": null,
            "grid_column": null,
            "grid_gap": null,
            "grid_row": null,
            "grid_template_areas": null,
            "grid_template_columns": null,
            "grid_template_rows": null,
            "height": null,
            "justify_content": null,
            "justify_items": null,
            "left": null,
            "margin": null,
            "max_height": null,
            "max_width": null,
            "min_height": null,
            "min_width": null,
            "object_fit": null,
            "object_position": null,
            "order": null,
            "overflow": null,
            "overflow_x": null,
            "overflow_y": null,
            "padding": null,
            "right": null,
            "top": null,
            "visibility": null,
            "width": null
          }
        },
        "242ff0b94afb45c8acdb439aada50a09": {
          "model_module": "@jupyter-widgets/controls",
          "model_name": "ButtonStyleModel",
          "model_module_version": "1.5.0",
          "state": {
            "_model_module": "@jupyter-widgets/controls",
            "_model_module_version": "1.5.0",
            "_model_name": "ButtonStyleModel",
            "_view_count": null,
            "_view_module": "@jupyter-widgets/base",
            "_view_module_version": "1.2.0",
            "_view_name": "StyleView",
            "button_color": null,
            "font_weight": ""
          }
        },
        "ac8950d8971c4c049f57ad6a686c4850": {
          "model_module": "@jupyter-widgets/base",
          "model_name": "LayoutModel",
          "model_module_version": "1.2.0",
          "state": {
            "_model_module": "@jupyter-widgets/base",
            "_model_module_version": "1.2.0",
            "_model_name": "LayoutModel",
            "_view_count": null,
            "_view_module": "@jupyter-widgets/base",
            "_view_module_version": "1.2.0",
            "_view_name": "LayoutView",
            "align_content": null,
            "align_items": null,
            "align_self": null,
            "border": null,
            "bottom": null,
            "display": null,
            "flex": null,
            "flex_flow": null,
            "grid_area": null,
            "grid_auto_columns": null,
            "grid_auto_flow": null,
            "grid_auto_rows": null,
            "grid_column": null,
            "grid_gap": null,
            "grid_row": null,
            "grid_template_areas": null,
            "grid_template_columns": null,
            "grid_template_rows": null,
            "height": null,
            "justify_content": null,
            "justify_items": null,
            "left": null,
            "margin": null,
            "max_height": null,
            "max_width": null,
            "min_height": null,
            "min_width": null,
            "object_fit": null,
            "object_position": null,
            "order": null,
            "overflow": null,
            "overflow_x": null,
            "overflow_y": null,
            "padding": null,
            "right": null,
            "top": null,
            "visibility": null,
            "width": null
          }
        },
        "e3ce2f0ffbd143ea8f0bfb23bff6a4be": {
          "model_module": "@jupyter-widgets/controls",
          "model_name": "ButtonStyleModel",
          "model_module_version": "1.5.0",
          "state": {
            "_model_module": "@jupyter-widgets/controls",
            "_model_module_version": "1.5.0",
            "_model_name": "ButtonStyleModel",
            "_view_count": null,
            "_view_module": "@jupyter-widgets/base",
            "_view_module_version": "1.2.0",
            "_view_name": "StyleView",
            "button_color": null,
            "font_weight": ""
          }
        },
        "cc79427675fc404b998df94e5cc3e088": {
          "model_module": "@jupyter-widgets/base",
          "model_name": "LayoutModel",
          "model_module_version": "1.2.0",
          "state": {
            "_model_module": "@jupyter-widgets/base",
            "_model_module_version": "1.2.0",
            "_model_name": "LayoutModel",
            "_view_count": null,
            "_view_module": "@jupyter-widgets/base",
            "_view_module_version": "1.2.0",
            "_view_name": "LayoutView",
            "align_content": null,
            "align_items": null,
            "align_self": null,
            "border": null,
            "bottom": null,
            "display": null,
            "flex": null,
            "flex_flow": null,
            "grid_area": null,
            "grid_auto_columns": null,
            "grid_auto_flow": null,
            "grid_auto_rows": null,
            "grid_column": null,
            "grid_gap": null,
            "grid_row": null,
            "grid_template_areas": null,
            "grid_template_columns": null,
            "grid_template_rows": null,
            "height": null,
            "justify_content": null,
            "justify_items": null,
            "left": null,
            "margin": null,
            "max_height": null,
            "max_width": null,
            "min_height": null,
            "min_width": null,
            "object_fit": null,
            "object_position": null,
            "order": null,
            "overflow": null,
            "overflow_x": null,
            "overflow_y": null,
            "padding": null,
            "right": null,
            "top": null,
            "visibility": null,
            "width": null
          }
        },
        "f90c983cdcd34ce9b2b80476d222d60e": {
          "model_module": "@jupyter-widgets/controls",
          "model_name": "VBoxModel",
          "model_module_version": "1.5.0",
          "state": {
            "_dom_classes": [],
            "_model_module": "@jupyter-widgets/controls",
            "_model_module_version": "1.5.0",
            "_model_name": "VBoxModel",
            "_view_count": null,
            "_view_module": "@jupyter-widgets/controls",
            "_view_module_version": "1.5.0",
            "_view_name": "VBoxView",
            "box_style": "",
            "children": [
              "IPY_MODEL_f6ed156136a445939323837edfbd240b",
              "IPY_MODEL_5e8cc1dfa0464363aa938ecf4944f7c4",
              "IPY_MODEL_bb44050860a14134956a327aa5b39398",
              "IPY_MODEL_ca3627e5867b42d89ab0c09a928a27d1"
            ],
            "layout": "IPY_MODEL_46cf0bdb703d45dcbbc4d1bd757dd23b"
          }
        },
        "f6ed156136a445939323837edfbd240b": {
          "model_module": "@jupyter-widgets/output",
          "model_name": "OutputModel",
          "model_module_version": "1.0.0",
          "state": {
            "_dom_classes": [],
            "_model_module": "@jupyter-widgets/output",
            "_model_module_version": "1.0.0",
            "_model_name": "OutputModel",
            "_view_count": null,
            "_view_module": "@jupyter-widgets/output",
            "_view_module_version": "1.0.0",
            "_view_name": "OutputView",
            "layout": "IPY_MODEL_d536ed1b44744b578039630cc75533b8",
            "msg_id": "",
            "outputs": [
              {
                "output_type": "display_data",
                "data": {
                  "text/plain": "HTML(value='\\n            Choose the correct context for the word \"quick\" in the following sentence:\\n        …",
                  "application/vnd.jupyter.widget-view+json": {
                    "version_major": 2,
                    "version_minor": 0,
                    "model_id": "406415f1c21049b5b1b7495760b4deb3"
                  }
                },
                "metadata": {}
              }
            ]
          }
        },
        "5e8cc1dfa0464363aa938ecf4944f7c4": {
          "model_module": "@jupyter-widgets/controls",
          "model_name": "RadioButtonsModel",
          "model_module_version": "1.5.0",
          "state": {
            "_dom_classes": [],
            "_model_module": "@jupyter-widgets/controls",
            "_model_module_version": "1.5.0",
            "_model_name": "RadioButtonsModel",
            "_options_labels": [
              "(the, brown)",
              "(the, quick, brown, fox)",
              "(the, brown, fox)",
              "Cannot compute the context."
            ],
            "_view_count": null,
            "_view_module": "@jupyter-widgets/controls",
            "_view_module_version": "1.5.0",
            "_view_name": "RadioButtonsView",
            "description": "",
            "description_tooltip": null,
            "disabled": false,
            "index": 0,
            "layout": "IPY_MODEL_308f28c0eeb64708a87e8e11bdd5de9b",
            "style": "IPY_MODEL_aa6178e8abf34a34a5564c9930cb25ba"
          }
        },
        "bb44050860a14134956a327aa5b39398": {
          "model_module": "@jupyter-widgets/controls",
          "model_name": "HTMLModel",
          "model_module_version": "1.5.0",
          "state": {
            "_dom_classes": [],
            "_model_module": "@jupyter-widgets/controls",
            "_model_module_version": "1.5.0",
            "_model_name": "HTMLModel",
            "_view_count": null,
            "_view_module": "@jupyter-widgets/controls",
            "_view_module_version": "1.5.0",
            "_view_name": "HTMLView",
            "description": "",
            "description_tooltip": null,
            "layout": "IPY_MODEL_6a0a27905f5741ada81e6dc684d587ad",
            "placeholder": "​",
            "style": "IPY_MODEL_2dafde599c514266ba2a10d632417d07",
            "value": "<br>"
          }
        },
        "ca3627e5867b42d89ab0c09a928a27d1": {
          "model_module": "@jupyter-widgets/controls",
          "model_name": "ButtonModel",
          "model_module_version": "1.5.0",
          "state": {
            "_dom_classes": [],
            "_model_module": "@jupyter-widgets/controls",
            "_model_module_version": "1.5.0",
            "_model_name": "ButtonModel",
            "_view_count": null,
            "_view_module": "@jupyter-widgets/controls",
            "_view_module_version": "1.5.0",
            "_view_name": "ButtonView",
            "button_style": "",
            "description": "Check",
            "disabled": false,
            "icon": "",
            "layout": "IPY_MODEL_0b93fcb2782e4343b796666e6302e905",
            "style": "IPY_MODEL_fba4fc8610d74cf48e272fe2b47270fd",
            "tooltip": ""
          }
        },
        "46cf0bdb703d45dcbbc4d1bd757dd23b": {
          "model_module": "@jupyter-widgets/base",
          "model_name": "LayoutModel",
          "model_module_version": "1.2.0",
          "state": {
            "_model_module": "@jupyter-widgets/base",
            "_model_module_version": "1.2.0",
            "_model_name": "LayoutModel",
            "_view_count": null,
            "_view_module": "@jupyter-widgets/base",
            "_view_module_version": "1.2.0",
            "_view_name": "LayoutView",
            "align_content": null,
            "align_items": null,
            "align_self": null,
            "border": null,
            "bottom": null,
            "display": null,
            "flex": null,
            "flex_flow": null,
            "grid_area": null,
            "grid_auto_columns": null,
            "grid_auto_flow": null,
            "grid_auto_rows": null,
            "grid_column": null,
            "grid_gap": null,
            "grid_row": null,
            "grid_template_areas": null,
            "grid_template_columns": null,
            "grid_template_rows": null,
            "height": null,
            "justify_content": null,
            "justify_items": null,
            "left": null,
            "margin": null,
            "max_height": null,
            "max_width": null,
            "min_height": null,
            "min_width": null,
            "object_fit": null,
            "object_position": null,
            "order": null,
            "overflow": null,
            "overflow_x": null,
            "overflow_y": null,
            "padding": null,
            "right": null,
            "top": null,
            "visibility": null,
            "width": null
          }
        },
        "308f28c0eeb64708a87e8e11bdd5de9b": {
          "model_module": "@jupyter-widgets/base",
          "model_name": "LayoutModel",
          "model_module_version": "1.2.0",
          "state": {
            "_model_module": "@jupyter-widgets/base",
            "_model_module_version": "1.2.0",
            "_model_name": "LayoutModel",
            "_view_count": null,
            "_view_module": "@jupyter-widgets/base",
            "_view_module_version": "1.2.0",
            "_view_name": "LayoutView",
            "align_content": null,
            "align_items": null,
            "align_self": null,
            "border": null,
            "bottom": null,
            "display": null,
            "flex": null,
            "flex_flow": null,
            "grid_area": null,
            "grid_auto_columns": null,
            "grid_auto_flow": null,
            "grid_auto_rows": null,
            "grid_column": null,
            "grid_gap": null,
            "grid_row": null,
            "grid_template_areas": null,
            "grid_template_columns": null,
            "grid_template_rows": null,
            "height": null,
            "justify_content": null,
            "justify_items": null,
            "left": null,
            "margin": null,
            "max_height": null,
            "max_width": null,
            "min_height": null,
            "min_width": null,
            "object_fit": null,
            "object_position": null,
            "order": null,
            "overflow": null,
            "overflow_x": null,
            "overflow_y": null,
            "padding": null,
            "right": null,
            "top": null,
            "visibility": null,
            "width": null
          }
        },
        "aa6178e8abf34a34a5564c9930cb25ba": {
          "model_module": "@jupyter-widgets/controls",
          "model_name": "DescriptionStyleModel",
          "model_module_version": "1.5.0",
          "state": {
            "_model_module": "@jupyter-widgets/controls",
            "_model_module_version": "1.5.0",
            "_model_name": "DescriptionStyleModel",
            "_view_count": null,
            "_view_module": "@jupyter-widgets/base",
            "_view_module_version": "1.2.0",
            "_view_name": "StyleView",
            "description_width": ""
          }
        },
        "6a0a27905f5741ada81e6dc684d587ad": {
          "model_module": "@jupyter-widgets/base",
          "model_name": "LayoutModel",
          "model_module_version": "1.2.0",
          "state": {
            "_model_module": "@jupyter-widgets/base",
            "_model_module_version": "1.2.0",
            "_model_name": "LayoutModel",
            "_view_count": null,
            "_view_module": "@jupyter-widgets/base",
            "_view_module_version": "1.2.0",
            "_view_name": "LayoutView",
            "align_content": null,
            "align_items": null,
            "align_self": null,
            "border": null,
            "bottom": null,
            "display": null,
            "flex": null,
            "flex_flow": null,
            "grid_area": null,
            "grid_auto_columns": null,
            "grid_auto_flow": null,
            "grid_auto_rows": null,
            "grid_column": null,
            "grid_gap": null,
            "grid_row": null,
            "grid_template_areas": null,
            "grid_template_columns": null,
            "grid_template_rows": null,
            "height": null,
            "justify_content": null,
            "justify_items": null,
            "left": null,
            "margin": null,
            "max_height": null,
            "max_width": null,
            "min_height": null,
            "min_width": null,
            "object_fit": null,
            "object_position": null,
            "order": null,
            "overflow": null,
            "overflow_x": null,
            "overflow_y": null,
            "padding": null,
            "right": null,
            "top": null,
            "visibility": null,
            "width": null
          }
        },
        "2dafde599c514266ba2a10d632417d07": {
          "model_module": "@jupyter-widgets/controls",
          "model_name": "DescriptionStyleModel",
          "model_module_version": "1.5.0",
          "state": {
            "_model_module": "@jupyter-widgets/controls",
            "_model_module_version": "1.5.0",
            "_model_name": "DescriptionStyleModel",
            "_view_count": null,
            "_view_module": "@jupyter-widgets/base",
            "_view_module_version": "1.2.0",
            "_view_name": "StyleView",
            "description_width": ""
          }
        },
        "0b93fcb2782e4343b796666e6302e905": {
          "model_module": "@jupyter-widgets/base",
          "model_name": "LayoutModel",
          "model_module_version": "1.2.0",
          "state": {
            "_model_module": "@jupyter-widgets/base",
            "_model_module_version": "1.2.0",
            "_model_name": "LayoutModel",
            "_view_count": null,
            "_view_module": "@jupyter-widgets/base",
            "_view_module_version": "1.2.0",
            "_view_name": "LayoutView",
            "align_content": null,
            "align_items": null,
            "align_self": null,
            "border": null,
            "bottom": null,
            "display": null,
            "flex": null,
            "flex_flow": null,
            "grid_area": null,
            "grid_auto_columns": null,
            "grid_auto_flow": null,
            "grid_auto_rows": null,
            "grid_column": null,
            "grid_gap": null,
            "grid_row": null,
            "grid_template_areas": null,
            "grid_template_columns": null,
            "grid_template_rows": null,
            "height": null,
            "justify_content": null,
            "justify_items": null,
            "left": null,
            "margin": null,
            "max_height": null,
            "max_width": null,
            "min_height": null,
            "min_width": null,
            "object_fit": null,
            "object_position": null,
            "order": null,
            "overflow": null,
            "overflow_x": null,
            "overflow_y": null,
            "padding": null,
            "right": null,
            "top": null,
            "visibility": null,
            "width": null
          }
        },
        "fba4fc8610d74cf48e272fe2b47270fd": {
          "model_module": "@jupyter-widgets/controls",
          "model_name": "ButtonStyleModel",
          "model_module_version": "1.5.0",
          "state": {
            "_model_module": "@jupyter-widgets/controls",
            "_model_module_version": "1.5.0",
            "_model_name": "ButtonStyleModel",
            "_view_count": null,
            "_view_module": "@jupyter-widgets/base",
            "_view_module_version": "1.2.0",
            "_view_name": "StyleView",
            "button_color": null,
            "font_weight": ""
          }
        },
        "406415f1c21049b5b1b7495760b4deb3": {
          "model_module": "@jupyter-widgets/controls",
          "model_name": "HTMLModel",
          "model_module_version": "1.5.0",
          "state": {
            "_dom_classes": [],
            "_model_module": "@jupyter-widgets/controls",
            "_model_module_version": "1.5.0",
            "_model_name": "HTMLModel",
            "_view_count": null,
            "_view_module": "@jupyter-widgets/controls",
            "_view_module_version": "1.5.0",
            "_view_name": "HTMLView",
            "description": "",
            "description_tooltip": null,
            "layout": "IPY_MODEL_cf663a3a52b943ebb7b31e34a0375d88",
            "placeholder": "​",
            "style": "IPY_MODEL_a1d6a18df4984b289a5c773a2f0d257f",
            "value": "\n            Choose the correct context for the word \"quick\" in the following sentence:\n            <br>\n            <it>the quick brown fox jumps over the lazy dog</it>\n            <br>\n            Window size is 2.\n        "
          }
        },
        "d536ed1b44744b578039630cc75533b8": {
          "model_module": "@jupyter-widgets/base",
          "model_name": "LayoutModel",
          "model_module_version": "1.2.0",
          "state": {
            "_model_module": "@jupyter-widgets/base",
            "_model_module_version": "1.2.0",
            "_model_name": "LayoutModel",
            "_view_count": null,
            "_view_module": "@jupyter-widgets/base",
            "_view_module_version": "1.2.0",
            "_view_name": "LayoutView",
            "align_content": null,
            "align_items": null,
            "align_self": null,
            "border": null,
            "bottom": null,
            "display": null,
            "flex": null,
            "flex_flow": null,
            "grid_area": null,
            "grid_auto_columns": null,
            "grid_auto_flow": null,
            "grid_auto_rows": null,
            "grid_column": null,
            "grid_gap": null,
            "grid_row": null,
            "grid_template_areas": null,
            "grid_template_columns": null,
            "grid_template_rows": null,
            "height": null,
            "justify_content": null,
            "justify_items": null,
            "left": null,
            "margin": null,
            "max_height": null,
            "max_width": null,
            "min_height": null,
            "min_width": null,
            "object_fit": null,
            "object_position": null,
            "order": null,
            "overflow": null,
            "overflow_x": null,
            "overflow_y": null,
            "padding": null,
            "right": null,
            "top": null,
            "visibility": null,
            "width": null
          }
        },
        "cf663a3a52b943ebb7b31e34a0375d88": {
          "model_module": "@jupyter-widgets/base",
          "model_name": "LayoutModel",
          "model_module_version": "1.2.0",
          "state": {
            "_model_module": "@jupyter-widgets/base",
            "_model_module_version": "1.2.0",
            "_model_name": "LayoutModel",
            "_view_count": null,
            "_view_module": "@jupyter-widgets/base",
            "_view_module_version": "1.2.0",
            "_view_name": "LayoutView",
            "align_content": null,
            "align_items": null,
            "align_self": null,
            "border": null,
            "bottom": null,
            "display": null,
            "flex": null,
            "flex_flow": null,
            "grid_area": null,
            "grid_auto_columns": null,
            "grid_auto_flow": null,
            "grid_auto_rows": null,
            "grid_column": null,
            "grid_gap": null,
            "grid_row": null,
            "grid_template_areas": null,
            "grid_template_columns": null,
            "grid_template_rows": null,
            "height": null,
            "justify_content": null,
            "justify_items": null,
            "left": null,
            "margin": null,
            "max_height": null,
            "max_width": null,
            "min_height": null,
            "min_width": null,
            "object_fit": null,
            "object_position": null,
            "order": null,
            "overflow": null,
            "overflow_x": null,
            "overflow_y": null,
            "padding": null,
            "right": null,
            "top": null,
            "visibility": null,
            "width": null
          }
        },
        "a1d6a18df4984b289a5c773a2f0d257f": {
          "model_module": "@jupyter-widgets/controls",
          "model_name": "DescriptionStyleModel",
          "model_module_version": "1.5.0",
          "state": {
            "_model_module": "@jupyter-widgets/controls",
            "_model_module_version": "1.5.0",
            "_model_name": "DescriptionStyleModel",
            "_view_count": null,
            "_view_module": "@jupyter-widgets/base",
            "_view_module_version": "1.2.0",
            "_view_name": "StyleView",
            "description_width": ""
          }
        },
        "849c46d5241241b9a7d6c5f8b079f80e": {
          "model_module": "@jupyter-widgets/controls",
          "model_name": "VBoxModel",
          "model_module_version": "1.5.0",
          "state": {
            "_dom_classes": [],
            "_model_module": "@jupyter-widgets/controls",
            "_model_module_version": "1.5.0",
            "_model_name": "VBoxModel",
            "_view_count": null,
            "_view_module": "@jupyter-widgets/controls",
            "_view_module_version": "1.5.0",
            "_view_name": "VBoxView",
            "box_style": "",
            "children": [
              "IPY_MODEL_8a1a40d5cf834c60ad82946069f96e0b",
              "IPY_MODEL_aaf8d1762719478e9facf158bdc36216",
              "IPY_MODEL_73d902a1f4a9447390191b18640cf2a3",
              "IPY_MODEL_53b4b12f80a548e8a61e69722504488b"
            ],
            "layout": "IPY_MODEL_1913998e2fae45b897b130dd24443bd3"
          }
        },
        "8a1a40d5cf834c60ad82946069f96e0b": {
          "model_module": "@jupyter-widgets/output",
          "model_name": "OutputModel",
          "model_module_version": "1.0.0",
          "state": {
            "_dom_classes": [],
            "_model_module": "@jupyter-widgets/output",
            "_model_module_version": "1.0.0",
            "_model_name": "OutputModel",
            "_view_count": null,
            "_view_module": "@jupyter-widgets/output",
            "_view_module_version": "1.0.0",
            "_view_name": "OutputView",
            "layout": "IPY_MODEL_db95eb1c647842bdad72ce91ecebc4bf",
            "msg_id": "",
            "outputs": [
              {
                "output_type": "display_data",
                "data": {
                  "text/plain": "HTML(value='\\n            word2vec algorithm learns two matrices: the matrix of central vectors and the matrix…",
                  "application/vnd.jupyter.widget-view+json": {
                    "version_major": 2,
                    "version_minor": 0,
                    "model_id": "d89cfe8d52ba438a90077d95e7b3d5ea"
                  }
                },
                "metadata": {}
              }
            ]
          }
        },
        "aaf8d1762719478e9facf158bdc36216": {
          "model_module": "@jupyter-widgets/controls",
          "model_name": "RadioButtonsModel",
          "model_module_version": "1.5.0",
          "state": {
            "_dom_classes": [],
            "_model_module": "@jupyter-widgets/controls",
            "_model_module_version": "1.5.0",
            "_model_name": "RadioButtonsModel",
            "_options_labels": [
              "Taken from the matrix of context vectors",
              "Taken from the matrix of central vectors",
              "It is the average of central and context vectors",
              "None of the above"
            ],
            "_view_count": null,
            "_view_module": "@jupyter-widgets/controls",
            "_view_module_version": "1.5.0",
            "_view_name": "RadioButtonsView",
            "description": "",
            "description_tooltip": null,
            "disabled": false,
            "index": 0,
            "layout": "IPY_MODEL_bf7db7c62b0b454489bb63fbc2439434",
            "style": "IPY_MODEL_2938b6df08f94977afdc59e100310767"
          }
        },
        "73d902a1f4a9447390191b18640cf2a3": {
          "model_module": "@jupyter-widgets/controls",
          "model_name": "HTMLModel",
          "model_module_version": "1.5.0",
          "state": {
            "_dom_classes": [],
            "_model_module": "@jupyter-widgets/controls",
            "_model_module_version": "1.5.0",
            "_model_name": "HTMLModel",
            "_view_count": null,
            "_view_module": "@jupyter-widgets/controls",
            "_view_module_version": "1.5.0",
            "_view_name": "HTMLView",
            "description": "",
            "description_tooltip": null,
            "layout": "IPY_MODEL_901ee1d2e6c84a7d97bdfd5f816c3bfc",
            "placeholder": "​",
            "style": "IPY_MODEL_f959fb87383c456a8abfee57b6914142",
            "value": "<br>"
          }
        },
        "53b4b12f80a548e8a61e69722504488b": {
          "model_module": "@jupyter-widgets/controls",
          "model_name": "ButtonModel",
          "model_module_version": "1.5.0",
          "state": {
            "_dom_classes": [],
            "_model_module": "@jupyter-widgets/controls",
            "_model_module_version": "1.5.0",
            "_model_name": "ButtonModel",
            "_view_count": null,
            "_view_module": "@jupyter-widgets/controls",
            "_view_module_version": "1.5.0",
            "_view_name": "ButtonView",
            "button_style": "",
            "description": "Check",
            "disabled": false,
            "icon": "",
            "layout": "IPY_MODEL_8d12e5de345145ab84859ddf2845e134",
            "style": "IPY_MODEL_ae67e680ef5542b3b64df10a517b463a",
            "tooltip": ""
          }
        },
        "1913998e2fae45b897b130dd24443bd3": {
          "model_module": "@jupyter-widgets/base",
          "model_name": "LayoutModel",
          "model_module_version": "1.2.0",
          "state": {
            "_model_module": "@jupyter-widgets/base",
            "_model_module_version": "1.2.0",
            "_model_name": "LayoutModel",
            "_view_count": null,
            "_view_module": "@jupyter-widgets/base",
            "_view_module_version": "1.2.0",
            "_view_name": "LayoutView",
            "align_content": null,
            "align_items": null,
            "align_self": null,
            "border": null,
            "bottom": null,
            "display": null,
            "flex": null,
            "flex_flow": null,
            "grid_area": null,
            "grid_auto_columns": null,
            "grid_auto_flow": null,
            "grid_auto_rows": null,
            "grid_column": null,
            "grid_gap": null,
            "grid_row": null,
            "grid_template_areas": null,
            "grid_template_columns": null,
            "grid_template_rows": null,
            "height": null,
            "justify_content": null,
            "justify_items": null,
            "left": null,
            "margin": null,
            "max_height": null,
            "max_width": null,
            "min_height": null,
            "min_width": null,
            "object_fit": null,
            "object_position": null,
            "order": null,
            "overflow": null,
            "overflow_x": null,
            "overflow_y": null,
            "padding": null,
            "right": null,
            "top": null,
            "visibility": null,
            "width": null
          }
        },
        "bf7db7c62b0b454489bb63fbc2439434": {
          "model_module": "@jupyter-widgets/base",
          "model_name": "LayoutModel",
          "model_module_version": "1.2.0",
          "state": {
            "_model_module": "@jupyter-widgets/base",
            "_model_module_version": "1.2.0",
            "_model_name": "LayoutModel",
            "_view_count": null,
            "_view_module": "@jupyter-widgets/base",
            "_view_module_version": "1.2.0",
            "_view_name": "LayoutView",
            "align_content": null,
            "align_items": null,
            "align_self": null,
            "border": null,
            "bottom": null,
            "display": null,
            "flex": null,
            "flex_flow": null,
            "grid_area": null,
            "grid_auto_columns": null,
            "grid_auto_flow": null,
            "grid_auto_rows": null,
            "grid_column": null,
            "grid_gap": null,
            "grid_row": null,
            "grid_template_areas": null,
            "grid_template_columns": null,
            "grid_template_rows": null,
            "height": null,
            "justify_content": null,
            "justify_items": null,
            "left": null,
            "margin": null,
            "max_height": null,
            "max_width": null,
            "min_height": null,
            "min_width": null,
            "object_fit": null,
            "object_position": null,
            "order": null,
            "overflow": null,
            "overflow_x": null,
            "overflow_y": null,
            "padding": null,
            "right": null,
            "top": null,
            "visibility": null,
            "width": null
          }
        },
        "2938b6df08f94977afdc59e100310767": {
          "model_module": "@jupyter-widgets/controls",
          "model_name": "DescriptionStyleModel",
          "model_module_version": "1.5.0",
          "state": {
            "_model_module": "@jupyter-widgets/controls",
            "_model_module_version": "1.5.0",
            "_model_name": "DescriptionStyleModel",
            "_view_count": null,
            "_view_module": "@jupyter-widgets/base",
            "_view_module_version": "1.2.0",
            "_view_name": "StyleView",
            "description_width": ""
          }
        },
        "901ee1d2e6c84a7d97bdfd5f816c3bfc": {
          "model_module": "@jupyter-widgets/base",
          "model_name": "LayoutModel",
          "model_module_version": "1.2.0",
          "state": {
            "_model_module": "@jupyter-widgets/base",
            "_model_module_version": "1.2.0",
            "_model_name": "LayoutModel",
            "_view_count": null,
            "_view_module": "@jupyter-widgets/base",
            "_view_module_version": "1.2.0",
            "_view_name": "LayoutView",
            "align_content": null,
            "align_items": null,
            "align_self": null,
            "border": null,
            "bottom": null,
            "display": null,
            "flex": null,
            "flex_flow": null,
            "grid_area": null,
            "grid_auto_columns": null,
            "grid_auto_flow": null,
            "grid_auto_rows": null,
            "grid_column": null,
            "grid_gap": null,
            "grid_row": null,
            "grid_template_areas": null,
            "grid_template_columns": null,
            "grid_template_rows": null,
            "height": null,
            "justify_content": null,
            "justify_items": null,
            "left": null,
            "margin": null,
            "max_height": null,
            "max_width": null,
            "min_height": null,
            "min_width": null,
            "object_fit": null,
            "object_position": null,
            "order": null,
            "overflow": null,
            "overflow_x": null,
            "overflow_y": null,
            "padding": null,
            "right": null,
            "top": null,
            "visibility": null,
            "width": null
          }
        },
        "f959fb87383c456a8abfee57b6914142": {
          "model_module": "@jupyter-widgets/controls",
          "model_name": "DescriptionStyleModel",
          "model_module_version": "1.5.0",
          "state": {
            "_model_module": "@jupyter-widgets/controls",
            "_model_module_version": "1.5.0",
            "_model_name": "DescriptionStyleModel",
            "_view_count": null,
            "_view_module": "@jupyter-widgets/base",
            "_view_module_version": "1.2.0",
            "_view_name": "StyleView",
            "description_width": ""
          }
        },
        "8d12e5de345145ab84859ddf2845e134": {
          "model_module": "@jupyter-widgets/base",
          "model_name": "LayoutModel",
          "model_module_version": "1.2.0",
          "state": {
            "_model_module": "@jupyter-widgets/base",
            "_model_module_version": "1.2.0",
            "_model_name": "LayoutModel",
            "_view_count": null,
            "_view_module": "@jupyter-widgets/base",
            "_view_module_version": "1.2.0",
            "_view_name": "LayoutView",
            "align_content": null,
            "align_items": null,
            "align_self": null,
            "border": null,
            "bottom": null,
            "display": null,
            "flex": null,
            "flex_flow": null,
            "grid_area": null,
            "grid_auto_columns": null,
            "grid_auto_flow": null,
            "grid_auto_rows": null,
            "grid_column": null,
            "grid_gap": null,
            "grid_row": null,
            "grid_template_areas": null,
            "grid_template_columns": null,
            "grid_template_rows": null,
            "height": null,
            "justify_content": null,
            "justify_items": null,
            "left": null,
            "margin": null,
            "max_height": null,
            "max_width": null,
            "min_height": null,
            "min_width": null,
            "object_fit": null,
            "object_position": null,
            "order": null,
            "overflow": null,
            "overflow_x": null,
            "overflow_y": null,
            "padding": null,
            "right": null,
            "top": null,
            "visibility": null,
            "width": null
          }
        },
        "ae67e680ef5542b3b64df10a517b463a": {
          "model_module": "@jupyter-widgets/controls",
          "model_name": "ButtonStyleModel",
          "model_module_version": "1.5.0",
          "state": {
            "_model_module": "@jupyter-widgets/controls",
            "_model_module_version": "1.5.0",
            "_model_name": "ButtonStyleModel",
            "_view_count": null,
            "_view_module": "@jupyter-widgets/base",
            "_view_module_version": "1.2.0",
            "_view_name": "StyleView",
            "button_color": null,
            "font_weight": ""
          }
        },
        "d89cfe8d52ba438a90077d95e7b3d5ea": {
          "model_module": "@jupyter-widgets/controls",
          "model_name": "HTMLModel",
          "model_module_version": "1.5.0",
          "state": {
            "_dom_classes": [],
            "_model_module": "@jupyter-widgets/controls",
            "_model_module_version": "1.5.0",
            "_model_name": "HTMLModel",
            "_view_count": null,
            "_view_module": "@jupyter-widgets/controls",
            "_view_module_version": "1.5.0",
            "_view_name": "HTMLView",
            "description": "",
            "description_tooltip": null,
            "layout": "IPY_MODEL_8a134aa7c02e483ea353ec02b7d18ddf",
            "placeholder": "​",
            "style": "IPY_MODEL_657c0899791745fa9d37dfde76ef5cbe",
            "value": "\n            word2vec algorithm learns two matrices: the matrix of central vectors and the matrix of context vectors.\n            In the implementation above, how is the word vector computed for a given word?\n        "
          }
        },
        "db95eb1c647842bdad72ce91ecebc4bf": {
          "model_module": "@jupyter-widgets/base",
          "model_name": "LayoutModel",
          "model_module_version": "1.2.0",
          "state": {
            "_model_module": "@jupyter-widgets/base",
            "_model_module_version": "1.2.0",
            "_model_name": "LayoutModel",
            "_view_count": null,
            "_view_module": "@jupyter-widgets/base",
            "_view_module_version": "1.2.0",
            "_view_name": "LayoutView",
            "align_content": null,
            "align_items": null,
            "align_self": null,
            "border": null,
            "bottom": null,
            "display": null,
            "flex": null,
            "flex_flow": null,
            "grid_area": null,
            "grid_auto_columns": null,
            "grid_auto_flow": null,
            "grid_auto_rows": null,
            "grid_column": null,
            "grid_gap": null,
            "grid_row": null,
            "grid_template_areas": null,
            "grid_template_columns": null,
            "grid_template_rows": null,
            "height": null,
            "justify_content": null,
            "justify_items": null,
            "left": null,
            "margin": null,
            "max_height": null,
            "max_width": null,
            "min_height": null,
            "min_width": null,
            "object_fit": null,
            "object_position": null,
            "order": null,
            "overflow": null,
            "overflow_x": null,
            "overflow_y": null,
            "padding": null,
            "right": null,
            "top": null,
            "visibility": null,
            "width": null
          }
        },
        "8a134aa7c02e483ea353ec02b7d18ddf": {
          "model_module": "@jupyter-widgets/base",
          "model_name": "LayoutModel",
          "model_module_version": "1.2.0",
          "state": {
            "_model_module": "@jupyter-widgets/base",
            "_model_module_version": "1.2.0",
            "_model_name": "LayoutModel",
            "_view_count": null,
            "_view_module": "@jupyter-widgets/base",
            "_view_module_version": "1.2.0",
            "_view_name": "LayoutView",
            "align_content": null,
            "align_items": null,
            "align_self": null,
            "border": null,
            "bottom": null,
            "display": null,
            "flex": null,
            "flex_flow": null,
            "grid_area": null,
            "grid_auto_columns": null,
            "grid_auto_flow": null,
            "grid_auto_rows": null,
            "grid_column": null,
            "grid_gap": null,
            "grid_row": null,
            "grid_template_areas": null,
            "grid_template_columns": null,
            "grid_template_rows": null,
            "height": null,
            "justify_content": null,
            "justify_items": null,
            "left": null,
            "margin": null,
            "max_height": null,
            "max_width": null,
            "min_height": null,
            "min_width": null,
            "object_fit": null,
            "object_position": null,
            "order": null,
            "overflow": null,
            "overflow_x": null,
            "overflow_y": null,
            "padding": null,
            "right": null,
            "top": null,
            "visibility": null,
            "width": null
          }
        },
        "657c0899791745fa9d37dfde76ef5cbe": {
          "model_module": "@jupyter-widgets/controls",
          "model_name": "DescriptionStyleModel",
          "model_module_version": "1.5.0",
          "state": {
            "_model_module": "@jupyter-widgets/controls",
            "_model_module_version": "1.5.0",
            "_model_name": "DescriptionStyleModel",
            "_view_count": null,
            "_view_module": "@jupyter-widgets/base",
            "_view_module_version": "1.2.0",
            "_view_name": "StyleView",
            "description_width": ""
          }
        },
        "65bd909316974f79b102e27595763158": {
          "model_module": "@jupyter-widgets/controls",
          "model_name": "VBoxModel",
          "model_module_version": "1.5.0",
          "state": {
            "_dom_classes": [],
            "_model_module": "@jupyter-widgets/controls",
            "_model_module_version": "1.5.0",
            "_model_name": "VBoxModel",
            "_view_count": null,
            "_view_module": "@jupyter-widgets/controls",
            "_view_module_version": "1.5.0",
            "_view_name": "VBoxView",
            "box_style": "",
            "children": [
              "IPY_MODEL_775671df5edb40279432edb1da75064a",
              "IPY_MODEL_c2accf5f833743c78e2fa522c20c03bb",
              "IPY_MODEL_e8aa9857c2ed4d3796db779a09596b2f",
              "IPY_MODEL_68fdcd0da5f3467b91c0b8d8c517f950"
            ],
            "layout": "IPY_MODEL_ada6eda7510542ba82f934ca5e6e5a9c"
          }
        },
        "775671df5edb40279432edb1da75064a": {
          "model_module": "@jupyter-widgets/output",
          "model_name": "OutputModel",
          "model_module_version": "1.0.0",
          "state": {
            "_dom_classes": [],
            "_model_module": "@jupyter-widgets/output",
            "_model_module_version": "1.0.0",
            "_model_name": "OutputModel",
            "_view_count": null,
            "_view_module": "@jupyter-widgets/output",
            "_view_module_version": "1.0.0",
            "_view_name": "OutputView",
            "layout": "IPY_MODEL_b787d7a0032a4ccc9515c721670dc137",
            "msg_id": "",
            "outputs": [
              {
                "output_type": "display_data",
                "data": {
                  "text/plain": "HTML(value='\\n            In the implementation above, which words are subsampled (i.e. too frequent words are…",
                  "application/vnd.jupyter.widget-view+json": {
                    "version_major": 2,
                    "version_minor": 0,
                    "model_id": "a2456fb2a3a94fee9a027064726adcba"
                  }
                },
                "metadata": {}
              }
            ]
          }
        },
        "c2accf5f833743c78e2fa522c20c03bb": {
          "model_module": "@jupyter-widgets/controls",
          "model_name": "RadioButtonsModel",
          "model_module_version": "1.5.0",
          "state": {
            "_dom_classes": [],
            "_model_module": "@jupyter-widgets/controls",
            "_model_module_version": "1.5.0",
            "_model_name": "RadioButtonsModel",
            "_options_labels": [
              "Central words",
              "Context words",
              "Negative samples",
              "All of them"
            ],
            "_view_count": null,
            "_view_module": "@jupyter-widgets/controls",
            "_view_module_version": "1.5.0",
            "_view_name": "RadioButtonsView",
            "description": "",
            "description_tooltip": null,
            "disabled": false,
            "index": 0,
            "layout": "IPY_MODEL_c60d9875c03e4bcb94f6a588217d510b",
            "style": "IPY_MODEL_f12f66d662d347dfae5daa1559cfc536"
          }
        },
        "e8aa9857c2ed4d3796db779a09596b2f": {
          "model_module": "@jupyter-widgets/controls",
          "model_name": "HTMLModel",
          "model_module_version": "1.5.0",
          "state": {
            "_dom_classes": [],
            "_model_module": "@jupyter-widgets/controls",
            "_model_module_version": "1.5.0",
            "_model_name": "HTMLModel",
            "_view_count": null,
            "_view_module": "@jupyter-widgets/controls",
            "_view_module_version": "1.5.0",
            "_view_name": "HTMLView",
            "description": "",
            "description_tooltip": null,
            "layout": "IPY_MODEL_0138427ee95944c78faf130cbb27e500",
            "placeholder": "​",
            "style": "IPY_MODEL_413117b1a8df4f36a2f251bff211c859",
            "value": "<br>"
          }
        },
        "68fdcd0da5f3467b91c0b8d8c517f950": {
          "model_module": "@jupyter-widgets/controls",
          "model_name": "ButtonModel",
          "model_module_version": "1.5.0",
          "state": {
            "_dom_classes": [],
            "_model_module": "@jupyter-widgets/controls",
            "_model_module_version": "1.5.0",
            "_model_name": "ButtonModel",
            "_view_count": null,
            "_view_module": "@jupyter-widgets/controls",
            "_view_module_version": "1.5.0",
            "_view_name": "ButtonView",
            "button_style": "",
            "description": "Check",
            "disabled": false,
            "icon": "",
            "layout": "IPY_MODEL_c227564fcca04bfebbacfb3405c69c95",
            "style": "IPY_MODEL_99c12994158442b2ac35911eee81812c",
            "tooltip": ""
          }
        },
        "ada6eda7510542ba82f934ca5e6e5a9c": {
          "model_module": "@jupyter-widgets/base",
          "model_name": "LayoutModel",
          "model_module_version": "1.2.0",
          "state": {
            "_model_module": "@jupyter-widgets/base",
            "_model_module_version": "1.2.0",
            "_model_name": "LayoutModel",
            "_view_count": null,
            "_view_module": "@jupyter-widgets/base",
            "_view_module_version": "1.2.0",
            "_view_name": "LayoutView",
            "align_content": null,
            "align_items": null,
            "align_self": null,
            "border": null,
            "bottom": null,
            "display": null,
            "flex": null,
            "flex_flow": null,
            "grid_area": null,
            "grid_auto_columns": null,
            "grid_auto_flow": null,
            "grid_auto_rows": null,
            "grid_column": null,
            "grid_gap": null,
            "grid_row": null,
            "grid_template_areas": null,
            "grid_template_columns": null,
            "grid_template_rows": null,
            "height": null,
            "justify_content": null,
            "justify_items": null,
            "left": null,
            "margin": null,
            "max_height": null,
            "max_width": null,
            "min_height": null,
            "min_width": null,
            "object_fit": null,
            "object_position": null,
            "order": null,
            "overflow": null,
            "overflow_x": null,
            "overflow_y": null,
            "padding": null,
            "right": null,
            "top": null,
            "visibility": null,
            "width": null
          }
        },
        "c60d9875c03e4bcb94f6a588217d510b": {
          "model_module": "@jupyter-widgets/base",
          "model_name": "LayoutModel",
          "model_module_version": "1.2.0",
          "state": {
            "_model_module": "@jupyter-widgets/base",
            "_model_module_version": "1.2.0",
            "_model_name": "LayoutModel",
            "_view_count": null,
            "_view_module": "@jupyter-widgets/base",
            "_view_module_version": "1.2.0",
            "_view_name": "LayoutView",
            "align_content": null,
            "align_items": null,
            "align_self": null,
            "border": null,
            "bottom": null,
            "display": null,
            "flex": null,
            "flex_flow": null,
            "grid_area": null,
            "grid_auto_columns": null,
            "grid_auto_flow": null,
            "grid_auto_rows": null,
            "grid_column": null,
            "grid_gap": null,
            "grid_row": null,
            "grid_template_areas": null,
            "grid_template_columns": null,
            "grid_template_rows": null,
            "height": null,
            "justify_content": null,
            "justify_items": null,
            "left": null,
            "margin": null,
            "max_height": null,
            "max_width": null,
            "min_height": null,
            "min_width": null,
            "object_fit": null,
            "object_position": null,
            "order": null,
            "overflow": null,
            "overflow_x": null,
            "overflow_y": null,
            "padding": null,
            "right": null,
            "top": null,
            "visibility": null,
            "width": null
          }
        },
        "f12f66d662d347dfae5daa1559cfc536": {
          "model_module": "@jupyter-widgets/controls",
          "model_name": "DescriptionStyleModel",
          "model_module_version": "1.5.0",
          "state": {
            "_model_module": "@jupyter-widgets/controls",
            "_model_module_version": "1.5.0",
            "_model_name": "DescriptionStyleModel",
            "_view_count": null,
            "_view_module": "@jupyter-widgets/base",
            "_view_module_version": "1.2.0",
            "_view_name": "StyleView",
            "description_width": ""
          }
        },
        "0138427ee95944c78faf130cbb27e500": {
          "model_module": "@jupyter-widgets/base",
          "model_name": "LayoutModel",
          "model_module_version": "1.2.0",
          "state": {
            "_model_module": "@jupyter-widgets/base",
            "_model_module_version": "1.2.0",
            "_model_name": "LayoutModel",
            "_view_count": null,
            "_view_module": "@jupyter-widgets/base",
            "_view_module_version": "1.2.0",
            "_view_name": "LayoutView",
            "align_content": null,
            "align_items": null,
            "align_self": null,
            "border": null,
            "bottom": null,
            "display": null,
            "flex": null,
            "flex_flow": null,
            "grid_area": null,
            "grid_auto_columns": null,
            "grid_auto_flow": null,
            "grid_auto_rows": null,
            "grid_column": null,
            "grid_gap": null,
            "grid_row": null,
            "grid_template_areas": null,
            "grid_template_columns": null,
            "grid_template_rows": null,
            "height": null,
            "justify_content": null,
            "justify_items": null,
            "left": null,
            "margin": null,
            "max_height": null,
            "max_width": null,
            "min_height": null,
            "min_width": null,
            "object_fit": null,
            "object_position": null,
            "order": null,
            "overflow": null,
            "overflow_x": null,
            "overflow_y": null,
            "padding": null,
            "right": null,
            "top": null,
            "visibility": null,
            "width": null
          }
        },
        "413117b1a8df4f36a2f251bff211c859": {
          "model_module": "@jupyter-widgets/controls",
          "model_name": "DescriptionStyleModel",
          "model_module_version": "1.5.0",
          "state": {
            "_model_module": "@jupyter-widgets/controls",
            "_model_module_version": "1.5.0",
            "_model_name": "DescriptionStyleModel",
            "_view_count": null,
            "_view_module": "@jupyter-widgets/base",
            "_view_module_version": "1.2.0",
            "_view_name": "StyleView",
            "description_width": ""
          }
        },
        "c227564fcca04bfebbacfb3405c69c95": {
          "model_module": "@jupyter-widgets/base",
          "model_name": "LayoutModel",
          "model_module_version": "1.2.0",
          "state": {
            "_model_module": "@jupyter-widgets/base",
            "_model_module_version": "1.2.0",
            "_model_name": "LayoutModel",
            "_view_count": null,
            "_view_module": "@jupyter-widgets/base",
            "_view_module_version": "1.2.0",
            "_view_name": "LayoutView",
            "align_content": null,
            "align_items": null,
            "align_self": null,
            "border": null,
            "bottom": null,
            "display": null,
            "flex": null,
            "flex_flow": null,
            "grid_area": null,
            "grid_auto_columns": null,
            "grid_auto_flow": null,
            "grid_auto_rows": null,
            "grid_column": null,
            "grid_gap": null,
            "grid_row": null,
            "grid_template_areas": null,
            "grid_template_columns": null,
            "grid_template_rows": null,
            "height": null,
            "justify_content": null,
            "justify_items": null,
            "left": null,
            "margin": null,
            "max_height": null,
            "max_width": null,
            "min_height": null,
            "min_width": null,
            "object_fit": null,
            "object_position": null,
            "order": null,
            "overflow": null,
            "overflow_x": null,
            "overflow_y": null,
            "padding": null,
            "right": null,
            "top": null,
            "visibility": null,
            "width": null
          }
        },
        "99c12994158442b2ac35911eee81812c": {
          "model_module": "@jupyter-widgets/controls",
          "model_name": "ButtonStyleModel",
          "model_module_version": "1.5.0",
          "state": {
            "_model_module": "@jupyter-widgets/controls",
            "_model_module_version": "1.5.0",
            "_model_name": "ButtonStyleModel",
            "_view_count": null,
            "_view_module": "@jupyter-widgets/base",
            "_view_module_version": "1.2.0",
            "_view_name": "StyleView",
            "button_color": null,
            "font_weight": ""
          }
        },
        "a2456fb2a3a94fee9a027064726adcba": {
          "model_module": "@jupyter-widgets/controls",
          "model_name": "HTMLModel",
          "model_module_version": "1.5.0",
          "state": {
            "_dom_classes": [],
            "_model_module": "@jupyter-widgets/controls",
            "_model_module_version": "1.5.0",
            "_model_name": "HTMLModel",
            "_view_count": null,
            "_view_module": "@jupyter-widgets/controls",
            "_view_module_version": "1.5.0",
            "_view_name": "HTMLView",
            "description": "",
            "description_tooltip": null,
            "layout": "IPY_MODEL_1245e9b9a3dd4fbaa6c82c9331fba24d",
            "placeholder": "​",
            "style": "IPY_MODEL_50ba8e48b9ea4ad3b603d967a135406f",
            "value": "\n            In the implementation above, which words are subsampled (i.e. too frequent words are thrown away with some probability)?\n        "
          }
        },
        "b787d7a0032a4ccc9515c721670dc137": {
          "model_module": "@jupyter-widgets/base",
          "model_name": "LayoutModel",
          "model_module_version": "1.2.0",
          "state": {
            "_model_module": "@jupyter-widgets/base",
            "_model_module_version": "1.2.0",
            "_model_name": "LayoutModel",
            "_view_count": null,
            "_view_module": "@jupyter-widgets/base",
            "_view_module_version": "1.2.0",
            "_view_name": "LayoutView",
            "align_content": null,
            "align_items": null,
            "align_self": null,
            "border": null,
            "bottom": null,
            "display": null,
            "flex": null,
            "flex_flow": null,
            "grid_area": null,
            "grid_auto_columns": null,
            "grid_auto_flow": null,
            "grid_auto_rows": null,
            "grid_column": null,
            "grid_gap": null,
            "grid_row": null,
            "grid_template_areas": null,
            "grid_template_columns": null,
            "grid_template_rows": null,
            "height": null,
            "justify_content": null,
            "justify_items": null,
            "left": null,
            "margin": null,
            "max_height": null,
            "max_width": null,
            "min_height": null,
            "min_width": null,
            "object_fit": null,
            "object_position": null,
            "order": null,
            "overflow": null,
            "overflow_x": null,
            "overflow_y": null,
            "padding": null,
            "right": null,
            "top": null,
            "visibility": null,
            "width": null
          }
        },
        "1245e9b9a3dd4fbaa6c82c9331fba24d": {
          "model_module": "@jupyter-widgets/base",
          "model_name": "LayoutModel",
          "model_module_version": "1.2.0",
          "state": {
            "_model_module": "@jupyter-widgets/base",
            "_model_module_version": "1.2.0",
            "_model_name": "LayoutModel",
            "_view_count": null,
            "_view_module": "@jupyter-widgets/base",
            "_view_module_version": "1.2.0",
            "_view_name": "LayoutView",
            "align_content": null,
            "align_items": null,
            "align_self": null,
            "border": null,
            "bottom": null,
            "display": null,
            "flex": null,
            "flex_flow": null,
            "grid_area": null,
            "grid_auto_columns": null,
            "grid_auto_flow": null,
            "grid_auto_rows": null,
            "grid_column": null,
            "grid_gap": null,
            "grid_row": null,
            "grid_template_areas": null,
            "grid_template_columns": null,
            "grid_template_rows": null,
            "height": null,
            "justify_content": null,
            "justify_items": null,
            "left": null,
            "margin": null,
            "max_height": null,
            "max_width": null,
            "min_height": null,
            "min_width": null,
            "object_fit": null,
            "object_position": null,
            "order": null,
            "overflow": null,
            "overflow_x": null,
            "overflow_y": null,
            "padding": null,
            "right": null,
            "top": null,
            "visibility": null,
            "width": null
          }
        },
        "50ba8e48b9ea4ad3b603d967a135406f": {
          "model_module": "@jupyter-widgets/controls",
          "model_name": "DescriptionStyleModel",
          "model_module_version": "1.5.0",
          "state": {
            "_model_module": "@jupyter-widgets/controls",
            "_model_module_version": "1.5.0",
            "_model_name": "DescriptionStyleModel",
            "_view_count": null,
            "_view_module": "@jupyter-widgets/base",
            "_view_module_version": "1.2.0",
            "_view_name": "StyleView",
            "description_width": ""
          }
        },
        "ffb38688f68a41698e73e96c8b089bbb": {
          "model_module": "@jupyter-widgets/controls",
          "model_name": "VBoxModel",
          "model_module_version": "1.5.0",
          "state": {
            "_dom_classes": [],
            "_model_module": "@jupyter-widgets/controls",
            "_model_module_version": "1.5.0",
            "_model_name": "VBoxModel",
            "_view_count": null,
            "_view_module": "@jupyter-widgets/controls",
            "_view_module_version": "1.5.0",
            "_view_name": "VBoxView",
            "box_style": "",
            "children": [
              "IPY_MODEL_3fbf52f605f44708ac43fdbaff85e1db",
              "IPY_MODEL_308ac2ce401044f19cc069b6506470d2",
              "IPY_MODEL_5df38531838a4297ac4c628e92bc924a",
              "IPY_MODEL_d175d965a9e44d718dc31565a4d9ae09"
            ],
            "layout": "IPY_MODEL_759cbfc22b0a4468855650fbe4aa9e3e"
          }
        },
        "3fbf52f605f44708ac43fdbaff85e1db": {
          "model_module": "@jupyter-widgets/output",
          "model_name": "OutputModel",
          "model_module_version": "1.0.0",
          "state": {
            "_dom_classes": [],
            "_model_module": "@jupyter-widgets/output",
            "_model_module_version": "1.0.0",
            "_model_name": "OutputModel",
            "_view_count": null,
            "_view_module": "@jupyter-widgets/output",
            "_view_module_version": "1.0.0",
            "_view_name": "OutputView",
            "layout": "IPY_MODEL_862d08bdbdd64d03856b179281ce31f0",
            "msg_id": "",
            "outputs": [
              {
                "output_type": "display_data",
                "data": {
                  "text/plain": "HTML(value='\\n            How is negative sampling performed? Why?\\n        ')",
                  "application/vnd.jupyter.widget-view+json": {
                    "version_major": 2,
                    "version_minor": 0,
                    "model_id": "955d0b0614b6429ea91e5dd01c4e30a7"
                  }
                },
                "metadata": {}
              }
            ]
          }
        },
        "308ac2ce401044f19cc069b6506470d2": {
          "model_module": "@jupyter-widgets/controls",
          "model_name": "RadioButtonsModel",
          "model_module_version": "1.5.0",
          "state": {
            "_dom_classes": [],
            "_model_module": "@jupyter-widgets/controls",
            "_model_module_version": "1.5.0",
            "_model_name": "RadioButtonsModel",
            "_options_labels": [
              "without replacement; negative samples are i.i.d.",
              "with replacement; negative samples are i.i.d.",
              "without replacement; it is efficient",
              "with replacement; it is efficient"
            ],
            "_view_count": null,
            "_view_module": "@jupyter-widgets/controls",
            "_view_module_version": "1.5.0",
            "_view_name": "RadioButtonsView",
            "description": "",
            "description_tooltip": null,
            "disabled": false,
            "index": 0,
            "layout": "IPY_MODEL_e5fd1ba8f2c4445eb536166c5429473f",
            "style": "IPY_MODEL_594739a9cb7442f5ab25f6ef3b325b53"
          }
        },
        "5df38531838a4297ac4c628e92bc924a": {
          "model_module": "@jupyter-widgets/controls",
          "model_name": "HTMLModel",
          "model_module_version": "1.5.0",
          "state": {
            "_dom_classes": [],
            "_model_module": "@jupyter-widgets/controls",
            "_model_module_version": "1.5.0",
            "_model_name": "HTMLModel",
            "_view_count": null,
            "_view_module": "@jupyter-widgets/controls",
            "_view_module_version": "1.5.0",
            "_view_name": "HTMLView",
            "description": "",
            "description_tooltip": null,
            "layout": "IPY_MODEL_4415e95e183e4824a0fed9dc2c3aa74d",
            "placeholder": "​",
            "style": "IPY_MODEL_c5a812fef2184bfd83f2e9576fa3e9cb",
            "value": "<br>"
          }
        },
        "d175d965a9e44d718dc31565a4d9ae09": {
          "model_module": "@jupyter-widgets/controls",
          "model_name": "ButtonModel",
          "model_module_version": "1.5.0",
          "state": {
            "_dom_classes": [],
            "_model_module": "@jupyter-widgets/controls",
            "_model_module_version": "1.5.0",
            "_model_name": "ButtonModel",
            "_view_count": null,
            "_view_module": "@jupyter-widgets/controls",
            "_view_module_version": "1.5.0",
            "_view_name": "ButtonView",
            "button_style": "",
            "description": "Check",
            "disabled": false,
            "icon": "",
            "layout": "IPY_MODEL_656869e27e66421eb45af002badb0980",
            "style": "IPY_MODEL_814530f2277c4cd4a06081a26336cd5b",
            "tooltip": ""
          }
        },
        "759cbfc22b0a4468855650fbe4aa9e3e": {
          "model_module": "@jupyter-widgets/base",
          "model_name": "LayoutModel",
          "model_module_version": "1.2.0",
          "state": {
            "_model_module": "@jupyter-widgets/base",
            "_model_module_version": "1.2.0",
            "_model_name": "LayoutModel",
            "_view_count": null,
            "_view_module": "@jupyter-widgets/base",
            "_view_module_version": "1.2.0",
            "_view_name": "LayoutView",
            "align_content": null,
            "align_items": null,
            "align_self": null,
            "border": null,
            "bottom": null,
            "display": null,
            "flex": null,
            "flex_flow": null,
            "grid_area": null,
            "grid_auto_columns": null,
            "grid_auto_flow": null,
            "grid_auto_rows": null,
            "grid_column": null,
            "grid_gap": null,
            "grid_row": null,
            "grid_template_areas": null,
            "grid_template_columns": null,
            "grid_template_rows": null,
            "height": null,
            "justify_content": null,
            "justify_items": null,
            "left": null,
            "margin": null,
            "max_height": null,
            "max_width": null,
            "min_height": null,
            "min_width": null,
            "object_fit": null,
            "object_position": null,
            "order": null,
            "overflow": null,
            "overflow_x": null,
            "overflow_y": null,
            "padding": null,
            "right": null,
            "top": null,
            "visibility": null,
            "width": null
          }
        },
        "e5fd1ba8f2c4445eb536166c5429473f": {
          "model_module": "@jupyter-widgets/base",
          "model_name": "LayoutModel",
          "model_module_version": "1.2.0",
          "state": {
            "_model_module": "@jupyter-widgets/base",
            "_model_module_version": "1.2.0",
            "_model_name": "LayoutModel",
            "_view_count": null,
            "_view_module": "@jupyter-widgets/base",
            "_view_module_version": "1.2.0",
            "_view_name": "LayoutView",
            "align_content": null,
            "align_items": null,
            "align_self": null,
            "border": null,
            "bottom": null,
            "display": null,
            "flex": null,
            "flex_flow": null,
            "grid_area": null,
            "grid_auto_columns": null,
            "grid_auto_flow": null,
            "grid_auto_rows": null,
            "grid_column": null,
            "grid_gap": null,
            "grid_row": null,
            "grid_template_areas": null,
            "grid_template_columns": null,
            "grid_template_rows": null,
            "height": null,
            "justify_content": null,
            "justify_items": null,
            "left": null,
            "margin": null,
            "max_height": null,
            "max_width": null,
            "min_height": null,
            "min_width": null,
            "object_fit": null,
            "object_position": null,
            "order": null,
            "overflow": null,
            "overflow_x": null,
            "overflow_y": null,
            "padding": null,
            "right": null,
            "top": null,
            "visibility": null,
            "width": null
          }
        },
        "594739a9cb7442f5ab25f6ef3b325b53": {
          "model_module": "@jupyter-widgets/controls",
          "model_name": "DescriptionStyleModel",
          "model_module_version": "1.5.0",
          "state": {
            "_model_module": "@jupyter-widgets/controls",
            "_model_module_version": "1.5.0",
            "_model_name": "DescriptionStyleModel",
            "_view_count": null,
            "_view_module": "@jupyter-widgets/base",
            "_view_module_version": "1.2.0",
            "_view_name": "StyleView",
            "description_width": ""
          }
        },
        "4415e95e183e4824a0fed9dc2c3aa74d": {
          "model_module": "@jupyter-widgets/base",
          "model_name": "LayoutModel",
          "model_module_version": "1.2.0",
          "state": {
            "_model_module": "@jupyter-widgets/base",
            "_model_module_version": "1.2.0",
            "_model_name": "LayoutModel",
            "_view_count": null,
            "_view_module": "@jupyter-widgets/base",
            "_view_module_version": "1.2.0",
            "_view_name": "LayoutView",
            "align_content": null,
            "align_items": null,
            "align_self": null,
            "border": null,
            "bottom": null,
            "display": null,
            "flex": null,
            "flex_flow": null,
            "grid_area": null,
            "grid_auto_columns": null,
            "grid_auto_flow": null,
            "grid_auto_rows": null,
            "grid_column": null,
            "grid_gap": null,
            "grid_row": null,
            "grid_template_areas": null,
            "grid_template_columns": null,
            "grid_template_rows": null,
            "height": null,
            "justify_content": null,
            "justify_items": null,
            "left": null,
            "margin": null,
            "max_height": null,
            "max_width": null,
            "min_height": null,
            "min_width": null,
            "object_fit": null,
            "object_position": null,
            "order": null,
            "overflow": null,
            "overflow_x": null,
            "overflow_y": null,
            "padding": null,
            "right": null,
            "top": null,
            "visibility": null,
            "width": null
          }
        },
        "c5a812fef2184bfd83f2e9576fa3e9cb": {
          "model_module": "@jupyter-widgets/controls",
          "model_name": "DescriptionStyleModel",
          "model_module_version": "1.5.0",
          "state": {
            "_model_module": "@jupyter-widgets/controls",
            "_model_module_version": "1.5.0",
            "_model_name": "DescriptionStyleModel",
            "_view_count": null,
            "_view_module": "@jupyter-widgets/base",
            "_view_module_version": "1.2.0",
            "_view_name": "StyleView",
            "description_width": ""
          }
        },
        "656869e27e66421eb45af002badb0980": {
          "model_module": "@jupyter-widgets/base",
          "model_name": "LayoutModel",
          "model_module_version": "1.2.0",
          "state": {
            "_model_module": "@jupyter-widgets/base",
            "_model_module_version": "1.2.0",
            "_model_name": "LayoutModel",
            "_view_count": null,
            "_view_module": "@jupyter-widgets/base",
            "_view_module_version": "1.2.0",
            "_view_name": "LayoutView",
            "align_content": null,
            "align_items": null,
            "align_self": null,
            "border": null,
            "bottom": null,
            "display": null,
            "flex": null,
            "flex_flow": null,
            "grid_area": null,
            "grid_auto_columns": null,
            "grid_auto_flow": null,
            "grid_auto_rows": null,
            "grid_column": null,
            "grid_gap": null,
            "grid_row": null,
            "grid_template_areas": null,
            "grid_template_columns": null,
            "grid_template_rows": null,
            "height": null,
            "justify_content": null,
            "justify_items": null,
            "left": null,
            "margin": null,
            "max_height": null,
            "max_width": null,
            "min_height": null,
            "min_width": null,
            "object_fit": null,
            "object_position": null,
            "order": null,
            "overflow": null,
            "overflow_x": null,
            "overflow_y": null,
            "padding": null,
            "right": null,
            "top": null,
            "visibility": null,
            "width": null
          }
        },
        "814530f2277c4cd4a06081a26336cd5b": {
          "model_module": "@jupyter-widgets/controls",
          "model_name": "ButtonStyleModel",
          "model_module_version": "1.5.0",
          "state": {
            "_model_module": "@jupyter-widgets/controls",
            "_model_module_version": "1.5.0",
            "_model_name": "ButtonStyleModel",
            "_view_count": null,
            "_view_module": "@jupyter-widgets/base",
            "_view_module_version": "1.2.0",
            "_view_name": "StyleView",
            "button_color": null,
            "font_weight": ""
          }
        },
        "955d0b0614b6429ea91e5dd01c4e30a7": {
          "model_module": "@jupyter-widgets/controls",
          "model_name": "HTMLModel",
          "model_module_version": "1.5.0",
          "state": {
            "_dom_classes": [],
            "_model_module": "@jupyter-widgets/controls",
            "_model_module_version": "1.5.0",
            "_model_name": "HTMLModel",
            "_view_count": null,
            "_view_module": "@jupyter-widgets/controls",
            "_view_module_version": "1.5.0",
            "_view_name": "HTMLView",
            "description": "",
            "description_tooltip": null,
            "layout": "IPY_MODEL_03b547db5a2b43009a2eb206c6617e5f",
            "placeholder": "​",
            "style": "IPY_MODEL_9f770ac5510c4d019e017d838a279c6e",
            "value": "\n            How is negative sampling performed? Why?\n        "
          }
        },
        "862d08bdbdd64d03856b179281ce31f0": {
          "model_module": "@jupyter-widgets/base",
          "model_name": "LayoutModel",
          "model_module_version": "1.2.0",
          "state": {
            "_model_module": "@jupyter-widgets/base",
            "_model_module_version": "1.2.0",
            "_model_name": "LayoutModel",
            "_view_count": null,
            "_view_module": "@jupyter-widgets/base",
            "_view_module_version": "1.2.0",
            "_view_name": "LayoutView",
            "align_content": null,
            "align_items": null,
            "align_self": null,
            "border": null,
            "bottom": null,
            "display": null,
            "flex": null,
            "flex_flow": null,
            "grid_area": null,
            "grid_auto_columns": null,
            "grid_auto_flow": null,
            "grid_auto_rows": null,
            "grid_column": null,
            "grid_gap": null,
            "grid_row": null,
            "grid_template_areas": null,
            "grid_template_columns": null,
            "grid_template_rows": null,
            "height": null,
            "justify_content": null,
            "justify_items": null,
            "left": null,
            "margin": null,
            "max_height": null,
            "max_width": null,
            "min_height": null,
            "min_width": null,
            "object_fit": null,
            "object_position": null,
            "order": null,
            "overflow": null,
            "overflow_x": null,
            "overflow_y": null,
            "padding": null,
            "right": null,
            "top": null,
            "visibility": null,
            "width": null
          }
        },
        "03b547db5a2b43009a2eb206c6617e5f": {
          "model_module": "@jupyter-widgets/base",
          "model_name": "LayoutModel",
          "model_module_version": "1.2.0",
          "state": {
            "_model_module": "@jupyter-widgets/base",
            "_model_module_version": "1.2.0",
            "_model_name": "LayoutModel",
            "_view_count": null,
            "_view_module": "@jupyter-widgets/base",
            "_view_module_version": "1.2.0",
            "_view_name": "LayoutView",
            "align_content": null,
            "align_items": null,
            "align_self": null,
            "border": null,
            "bottom": null,
            "display": null,
            "flex": null,
            "flex_flow": null,
            "grid_area": null,
            "grid_auto_columns": null,
            "grid_auto_flow": null,
            "grid_auto_rows": null,
            "grid_column": null,
            "grid_gap": null,
            "grid_row": null,
            "grid_template_areas": null,
            "grid_template_columns": null,
            "grid_template_rows": null,
            "height": null,
            "justify_content": null,
            "justify_items": null,
            "left": null,
            "margin": null,
            "max_height": null,
            "max_width": null,
            "min_height": null,
            "min_width": null,
            "object_fit": null,
            "object_position": null,
            "order": null,
            "overflow": null,
            "overflow_x": null,
            "overflow_y": null,
            "padding": null,
            "right": null,
            "top": null,
            "visibility": null,
            "width": null
          }
        },
        "9f770ac5510c4d019e017d838a279c6e": {
          "model_module": "@jupyter-widgets/controls",
          "model_name": "DescriptionStyleModel",
          "model_module_version": "1.5.0",
          "state": {
            "_model_module": "@jupyter-widgets/controls",
            "_model_module_version": "1.5.0",
            "_model_name": "DescriptionStyleModel",
            "_view_count": null,
            "_view_module": "@jupyter-widgets/base",
            "_view_module_version": "1.2.0",
            "_view_name": "StyleView",
            "description_width": ""
          }
        },
        "36d11a704941474d96b7eb5ee812d638": {
          "model_module": "@jupyter-widgets/controls",
          "model_name": "HBoxModel",
          "model_module_version": "1.5.0",
          "state": {
            "_dom_classes": [],
            "_model_module": "@jupyter-widgets/controls",
            "_model_module_version": "1.5.0",
            "_model_name": "HBoxModel",
            "_view_count": null,
            "_view_module": "@jupyter-widgets/controls",
            "_view_module_version": "1.5.0",
            "_view_name": "HBoxView",
            "box_style": "",
            "children": [
              "IPY_MODEL_9475daa03f2046828277fa8ec4ea754c",
              "IPY_MODEL_cd6bb2e0ba994775abff713d4df3dfc2",
              "IPY_MODEL_b46a845a02664b84bc84f6b58c8211a6"
            ],
            "layout": "IPY_MODEL_61fa01633917487c8697d0bc1a193c3a"
          }
        },
        "9475daa03f2046828277fa8ec4ea754c": {
          "model_module": "@jupyter-widgets/controls",
          "model_name": "HTMLModel",
          "model_module_version": "1.5.0",
          "state": {
            "_dom_classes": [],
            "_model_module": "@jupyter-widgets/controls",
            "_model_module_version": "1.5.0",
            "_model_name": "HTMLModel",
            "_view_count": null,
            "_view_module": "@jupyter-widgets/controls",
            "_view_module_version": "1.5.0",
            "_view_name": "HTMLView",
            "description": "",
            "description_tooltip": null,
            "layout": "IPY_MODEL_4f0c6e2a1efb4b5d87a42a7ebc9c26fe",
            "placeholder": "​",
            "style": "IPY_MODEL_9c66e3b389be4714b9a28ee69b87e022",
            "value": "tokenize: 100%"
          }
        },
        "cd6bb2e0ba994775abff713d4df3dfc2": {
          "model_module": "@jupyter-widgets/controls",
          "model_name": "FloatProgressModel",
          "model_module_version": "1.5.0",
          "state": {
            "_dom_classes": [],
            "_model_module": "@jupyter-widgets/controls",
            "_model_module_version": "1.5.0",
            "_model_name": "FloatProgressModel",
            "_view_count": null,
            "_view_module": "@jupyter-widgets/controls",
            "_view_module_version": "1.5.0",
            "_view_name": "ProgressView",
            "bar_style": "success",
            "description": "",
            "description_tooltip": null,
            "layout": "IPY_MODEL_be1b4809544142e89aa33467ef2af82e",
            "max": 18846,
            "min": 0,
            "orientation": "horizontal",
            "style": "IPY_MODEL_d9e97aab8d1043a0934411da81278b87",
            "value": 18846
          }
        },
        "b46a845a02664b84bc84f6b58c8211a6": {
          "model_module": "@jupyter-widgets/controls",
          "model_name": "HTMLModel",
          "model_module_version": "1.5.0",
          "state": {
            "_dom_classes": [],
            "_model_module": "@jupyter-widgets/controls",
            "_model_module_version": "1.5.0",
            "_model_name": "HTMLModel",
            "_view_count": null,
            "_view_module": "@jupyter-widgets/controls",
            "_view_module_version": "1.5.0",
            "_view_name": "HTMLView",
            "description": "",
            "description_tooltip": null,
            "layout": "IPY_MODEL_ee2919a5adc44c9eaad448a6c7ffc37b",
            "placeholder": "​",
            "style": "IPY_MODEL_439c0cd0888840e1ab44c28b1ee71e14",
            "value": " 18846/18846 [02:03&lt;00:00, 200.71it/s]"
          }
        },
        "61fa01633917487c8697d0bc1a193c3a": {
          "model_module": "@jupyter-widgets/base",
          "model_name": "LayoutModel",
          "model_module_version": "1.2.0",
          "state": {
            "_model_module": "@jupyter-widgets/base",
            "_model_module_version": "1.2.0",
            "_model_name": "LayoutModel",
            "_view_count": null,
            "_view_module": "@jupyter-widgets/base",
            "_view_module_version": "1.2.0",
            "_view_name": "LayoutView",
            "align_content": null,
            "align_items": null,
            "align_self": null,
            "border": null,
            "bottom": null,
            "display": null,
            "flex": null,
            "flex_flow": null,
            "grid_area": null,
            "grid_auto_columns": null,
            "grid_auto_flow": null,
            "grid_auto_rows": null,
            "grid_column": null,
            "grid_gap": null,
            "grid_row": null,
            "grid_template_areas": null,
            "grid_template_columns": null,
            "grid_template_rows": null,
            "height": null,
            "justify_content": null,
            "justify_items": null,
            "left": null,
            "margin": null,
            "max_height": null,
            "max_width": null,
            "min_height": null,
            "min_width": null,
            "object_fit": null,
            "object_position": null,
            "order": null,
            "overflow": null,
            "overflow_x": null,
            "overflow_y": null,
            "padding": null,
            "right": null,
            "top": null,
            "visibility": null,
            "width": null
          }
        },
        "4f0c6e2a1efb4b5d87a42a7ebc9c26fe": {
          "model_module": "@jupyter-widgets/base",
          "model_name": "LayoutModel",
          "model_module_version": "1.2.0",
          "state": {
            "_model_module": "@jupyter-widgets/base",
            "_model_module_version": "1.2.0",
            "_model_name": "LayoutModel",
            "_view_count": null,
            "_view_module": "@jupyter-widgets/base",
            "_view_module_version": "1.2.0",
            "_view_name": "LayoutView",
            "align_content": null,
            "align_items": null,
            "align_self": null,
            "border": null,
            "bottom": null,
            "display": null,
            "flex": null,
            "flex_flow": null,
            "grid_area": null,
            "grid_auto_columns": null,
            "grid_auto_flow": null,
            "grid_auto_rows": null,
            "grid_column": null,
            "grid_gap": null,
            "grid_row": null,
            "grid_template_areas": null,
            "grid_template_columns": null,
            "grid_template_rows": null,
            "height": null,
            "justify_content": null,
            "justify_items": null,
            "left": null,
            "margin": null,
            "max_height": null,
            "max_width": null,
            "min_height": null,
            "min_width": null,
            "object_fit": null,
            "object_position": null,
            "order": null,
            "overflow": null,
            "overflow_x": null,
            "overflow_y": null,
            "padding": null,
            "right": null,
            "top": null,
            "visibility": null,
            "width": null
          }
        },
        "9c66e3b389be4714b9a28ee69b87e022": {
          "model_module": "@jupyter-widgets/controls",
          "model_name": "DescriptionStyleModel",
          "model_module_version": "1.5.0",
          "state": {
            "_model_module": "@jupyter-widgets/controls",
            "_model_module_version": "1.5.0",
            "_model_name": "DescriptionStyleModel",
            "_view_count": null,
            "_view_module": "@jupyter-widgets/base",
            "_view_module_version": "1.2.0",
            "_view_name": "StyleView",
            "description_width": ""
          }
        },
        "be1b4809544142e89aa33467ef2af82e": {
          "model_module": "@jupyter-widgets/base",
          "model_name": "LayoutModel",
          "model_module_version": "1.2.0",
          "state": {
            "_model_module": "@jupyter-widgets/base",
            "_model_module_version": "1.2.0",
            "_model_name": "LayoutModel",
            "_view_count": null,
            "_view_module": "@jupyter-widgets/base",
            "_view_module_version": "1.2.0",
            "_view_name": "LayoutView",
            "align_content": null,
            "align_items": null,
            "align_self": null,
            "border": null,
            "bottom": null,
            "display": null,
            "flex": null,
            "flex_flow": null,
            "grid_area": null,
            "grid_auto_columns": null,
            "grid_auto_flow": null,
            "grid_auto_rows": null,
            "grid_column": null,
            "grid_gap": null,
            "grid_row": null,
            "grid_template_areas": null,
            "grid_template_columns": null,
            "grid_template_rows": null,
            "height": null,
            "justify_content": null,
            "justify_items": null,
            "left": null,
            "margin": null,
            "max_height": null,
            "max_width": null,
            "min_height": null,
            "min_width": null,
            "object_fit": null,
            "object_position": null,
            "order": null,
            "overflow": null,
            "overflow_x": null,
            "overflow_y": null,
            "padding": null,
            "right": null,
            "top": null,
            "visibility": null,
            "width": null
          }
        },
        "d9e97aab8d1043a0934411da81278b87": {
          "model_module": "@jupyter-widgets/controls",
          "model_name": "ProgressStyleModel",
          "model_module_version": "1.5.0",
          "state": {
            "_model_module": "@jupyter-widgets/controls",
            "_model_module_version": "1.5.0",
            "_model_name": "ProgressStyleModel",
            "_view_count": null,
            "_view_module": "@jupyter-widgets/base",
            "_view_module_version": "1.2.0",
            "_view_name": "StyleView",
            "bar_color": null,
            "description_width": ""
          }
        },
        "ee2919a5adc44c9eaad448a6c7ffc37b": {
          "model_module": "@jupyter-widgets/base",
          "model_name": "LayoutModel",
          "model_module_version": "1.2.0",
          "state": {
            "_model_module": "@jupyter-widgets/base",
            "_model_module_version": "1.2.0",
            "_model_name": "LayoutModel",
            "_view_count": null,
            "_view_module": "@jupyter-widgets/base",
            "_view_module_version": "1.2.0",
            "_view_name": "LayoutView",
            "align_content": null,
            "align_items": null,
            "align_self": null,
            "border": null,
            "bottom": null,
            "display": null,
            "flex": null,
            "flex_flow": null,
            "grid_area": null,
            "grid_auto_columns": null,
            "grid_auto_flow": null,
            "grid_auto_rows": null,
            "grid_column": null,
            "grid_gap": null,
            "grid_row": null,
            "grid_template_areas": null,
            "grid_template_columns": null,
            "grid_template_rows": null,
            "height": null,
            "justify_content": null,
            "justify_items": null,
            "left": null,
            "margin": null,
            "max_height": null,
            "max_width": null,
            "min_height": null,
            "min_width": null,
            "object_fit": null,
            "object_position": null,
            "order": null,
            "overflow": null,
            "overflow_x": null,
            "overflow_y": null,
            "padding": null,
            "right": null,
            "top": null,
            "visibility": null,
            "width": null
          }
        },
        "439c0cd0888840e1ab44c28b1ee71e14": {
          "model_module": "@jupyter-widgets/controls",
          "model_name": "DescriptionStyleModel",
          "model_module_version": "1.5.0",
          "state": {
            "_model_module": "@jupyter-widgets/controls",
            "_model_module_version": "1.5.0",
            "_model_name": "DescriptionStyleModel",
            "_view_count": null,
            "_view_module": "@jupyter-widgets/base",
            "_view_module_version": "1.2.0",
            "_view_name": "StyleView",
            "description_width": ""
          }
        },
        "50b0f78f63da4f1a8132df2b8309ec0f": {
          "model_module": "@jupyter-widgets/controls",
          "model_name": "VBoxModel",
          "model_module_version": "1.5.0",
          "state": {
            "_dom_classes": [],
            "_model_module": "@jupyter-widgets/controls",
            "_model_module_version": "1.5.0",
            "_model_name": "VBoxModel",
            "_view_count": null,
            "_view_module": "@jupyter-widgets/controls",
            "_view_module_version": "1.5.0",
            "_view_name": "VBoxView",
            "box_style": "",
            "children": [
              "IPY_MODEL_2e473c7fff2643808e6e6bc268d3c731",
              "IPY_MODEL_0fa3e86e9ce74d74aabd5b646885f7f8",
              "IPY_MODEL_201036aa0ceb42da9f958d311406d5f9",
              "IPY_MODEL_a094af7f9f1b4aa183c672939c67fe1b"
            ],
            "layout": "IPY_MODEL_432893e8d7bc4fb8a88b34e38de34c94"
          }
        },
        "2e473c7fff2643808e6e6bc268d3c731": {
          "model_module": "@jupyter-widgets/output",
          "model_name": "OutputModel",
          "model_module_version": "1.0.0",
          "state": {
            "_dom_classes": [],
            "_model_module": "@jupyter-widgets/output",
            "_model_module_version": "1.0.0",
            "_model_name": "OutputModel",
            "_view_count": null,
            "_view_module": "@jupyter-widgets/output",
            "_view_module_version": "1.0.0",
            "_view_name": "OutputView",
            "layout": "IPY_MODEL_c550d98a60e748f48d90a01f96151a95",
            "msg_id": "",
            "outputs": [
              {
                "output_type": "display_data",
                "data": {
                  "text/plain": "HTML(value='\\n            What is the most similar word to the word \"twitter\" according to the model \"glove-wi…",
                  "application/vnd.jupyter.widget-view+json": {
                    "version_major": 2,
                    "version_minor": 0,
                    "model_id": "702dc0086516447baeb04214b3f7242c"
                  }
                },
                "metadata": {}
              }
            ]
          }
        },
        "0fa3e86e9ce74d74aabd5b646885f7f8": {
          "model_module": "@jupyter-widgets/controls",
          "model_name": "RadioButtonsModel",
          "model_module_version": "1.5.0",
          "state": {
            "_dom_classes": [],
            "_model_module": "@jupyter-widgets/controls",
            "_model_module_version": "1.5.0",
            "_model_name": "RadioButtonsModel",
            "_options_labels": [
              "instagram",
              "facebook",
              "youtube",
              "internet"
            ],
            "_view_count": null,
            "_view_module": "@jupyter-widgets/controls",
            "_view_module_version": "1.5.0",
            "_view_name": "RadioButtonsView",
            "description": "",
            "description_tooltip": null,
            "disabled": false,
            "index": 0,
            "layout": "IPY_MODEL_e532bf47bb9d4048b8524f1ee877eb48",
            "style": "IPY_MODEL_b4f694ad653c4181902ad6761ed8b7aa"
          }
        },
        "201036aa0ceb42da9f958d311406d5f9": {
          "model_module": "@jupyter-widgets/controls",
          "model_name": "HTMLModel",
          "model_module_version": "1.5.0",
          "state": {
            "_dom_classes": [],
            "_model_module": "@jupyter-widgets/controls",
            "_model_module_version": "1.5.0",
            "_model_name": "HTMLModel",
            "_view_count": null,
            "_view_module": "@jupyter-widgets/controls",
            "_view_module_version": "1.5.0",
            "_view_name": "HTMLView",
            "description": "",
            "description_tooltip": null,
            "layout": "IPY_MODEL_d865be63088c4c5aa36b7aa6859a69de",
            "placeholder": "​",
            "style": "IPY_MODEL_f1dc79f22dc648439912e8b0c8877674",
            "value": "<br>"
          }
        },
        "a094af7f9f1b4aa183c672939c67fe1b": {
          "model_module": "@jupyter-widgets/controls",
          "model_name": "ButtonModel",
          "model_module_version": "1.5.0",
          "state": {
            "_dom_classes": [],
            "_model_module": "@jupyter-widgets/controls",
            "_model_module_version": "1.5.0",
            "_model_name": "ButtonModel",
            "_view_count": null,
            "_view_module": "@jupyter-widgets/controls",
            "_view_module_version": "1.5.0",
            "_view_name": "ButtonView",
            "button_style": "",
            "description": "Check",
            "disabled": false,
            "icon": "",
            "layout": "IPY_MODEL_26e5b202051e49288a06886ca322dc5b",
            "style": "IPY_MODEL_44f0ff4b9b2442be828682a1580be1d4",
            "tooltip": ""
          }
        },
        "432893e8d7bc4fb8a88b34e38de34c94": {
          "model_module": "@jupyter-widgets/base",
          "model_name": "LayoutModel",
          "model_module_version": "1.2.0",
          "state": {
            "_model_module": "@jupyter-widgets/base",
            "_model_module_version": "1.2.0",
            "_model_name": "LayoutModel",
            "_view_count": null,
            "_view_module": "@jupyter-widgets/base",
            "_view_module_version": "1.2.0",
            "_view_name": "LayoutView",
            "align_content": null,
            "align_items": null,
            "align_self": null,
            "border": null,
            "bottom": null,
            "display": null,
            "flex": null,
            "flex_flow": null,
            "grid_area": null,
            "grid_auto_columns": null,
            "grid_auto_flow": null,
            "grid_auto_rows": null,
            "grid_column": null,
            "grid_gap": null,
            "grid_row": null,
            "grid_template_areas": null,
            "grid_template_columns": null,
            "grid_template_rows": null,
            "height": null,
            "justify_content": null,
            "justify_items": null,
            "left": null,
            "margin": null,
            "max_height": null,
            "max_width": null,
            "min_height": null,
            "min_width": null,
            "object_fit": null,
            "object_position": null,
            "order": null,
            "overflow": null,
            "overflow_x": null,
            "overflow_y": null,
            "padding": null,
            "right": null,
            "top": null,
            "visibility": null,
            "width": null
          }
        },
        "e532bf47bb9d4048b8524f1ee877eb48": {
          "model_module": "@jupyter-widgets/base",
          "model_name": "LayoutModel",
          "model_module_version": "1.2.0",
          "state": {
            "_model_module": "@jupyter-widgets/base",
            "_model_module_version": "1.2.0",
            "_model_name": "LayoutModel",
            "_view_count": null,
            "_view_module": "@jupyter-widgets/base",
            "_view_module_version": "1.2.0",
            "_view_name": "LayoutView",
            "align_content": null,
            "align_items": null,
            "align_self": null,
            "border": null,
            "bottom": null,
            "display": null,
            "flex": null,
            "flex_flow": null,
            "grid_area": null,
            "grid_auto_columns": null,
            "grid_auto_flow": null,
            "grid_auto_rows": null,
            "grid_column": null,
            "grid_gap": null,
            "grid_row": null,
            "grid_template_areas": null,
            "grid_template_columns": null,
            "grid_template_rows": null,
            "height": null,
            "justify_content": null,
            "justify_items": null,
            "left": null,
            "margin": null,
            "max_height": null,
            "max_width": null,
            "min_height": null,
            "min_width": null,
            "object_fit": null,
            "object_position": null,
            "order": null,
            "overflow": null,
            "overflow_x": null,
            "overflow_y": null,
            "padding": null,
            "right": null,
            "top": null,
            "visibility": null,
            "width": null
          }
        },
        "b4f694ad653c4181902ad6761ed8b7aa": {
          "model_module": "@jupyter-widgets/controls",
          "model_name": "DescriptionStyleModel",
          "model_module_version": "1.5.0",
          "state": {
            "_model_module": "@jupyter-widgets/controls",
            "_model_module_version": "1.5.0",
            "_model_name": "DescriptionStyleModel",
            "_view_count": null,
            "_view_module": "@jupyter-widgets/base",
            "_view_module_version": "1.2.0",
            "_view_name": "StyleView",
            "description_width": ""
          }
        },
        "d865be63088c4c5aa36b7aa6859a69de": {
          "model_module": "@jupyter-widgets/base",
          "model_name": "LayoutModel",
          "model_module_version": "1.2.0",
          "state": {
            "_model_module": "@jupyter-widgets/base",
            "_model_module_version": "1.2.0",
            "_model_name": "LayoutModel",
            "_view_count": null,
            "_view_module": "@jupyter-widgets/base",
            "_view_module_version": "1.2.0",
            "_view_name": "LayoutView",
            "align_content": null,
            "align_items": null,
            "align_self": null,
            "border": null,
            "bottom": null,
            "display": null,
            "flex": null,
            "flex_flow": null,
            "grid_area": null,
            "grid_auto_columns": null,
            "grid_auto_flow": null,
            "grid_auto_rows": null,
            "grid_column": null,
            "grid_gap": null,
            "grid_row": null,
            "grid_template_areas": null,
            "grid_template_columns": null,
            "grid_template_rows": null,
            "height": null,
            "justify_content": null,
            "justify_items": null,
            "left": null,
            "margin": null,
            "max_height": null,
            "max_width": null,
            "min_height": null,
            "min_width": null,
            "object_fit": null,
            "object_position": null,
            "order": null,
            "overflow": null,
            "overflow_x": null,
            "overflow_y": null,
            "padding": null,
            "right": null,
            "top": null,
            "visibility": null,
            "width": null
          }
        },
        "f1dc79f22dc648439912e8b0c8877674": {
          "model_module": "@jupyter-widgets/controls",
          "model_name": "DescriptionStyleModel",
          "model_module_version": "1.5.0",
          "state": {
            "_model_module": "@jupyter-widgets/controls",
            "_model_module_version": "1.5.0",
            "_model_name": "DescriptionStyleModel",
            "_view_count": null,
            "_view_module": "@jupyter-widgets/base",
            "_view_module_version": "1.2.0",
            "_view_name": "StyleView",
            "description_width": ""
          }
        },
        "26e5b202051e49288a06886ca322dc5b": {
          "model_module": "@jupyter-widgets/base",
          "model_name": "LayoutModel",
          "model_module_version": "1.2.0",
          "state": {
            "_model_module": "@jupyter-widgets/base",
            "_model_module_version": "1.2.0",
            "_model_name": "LayoutModel",
            "_view_count": null,
            "_view_module": "@jupyter-widgets/base",
            "_view_module_version": "1.2.0",
            "_view_name": "LayoutView",
            "align_content": null,
            "align_items": null,
            "align_self": null,
            "border": null,
            "bottom": null,
            "display": null,
            "flex": null,
            "flex_flow": null,
            "grid_area": null,
            "grid_auto_columns": null,
            "grid_auto_flow": null,
            "grid_auto_rows": null,
            "grid_column": null,
            "grid_gap": null,
            "grid_row": null,
            "grid_template_areas": null,
            "grid_template_columns": null,
            "grid_template_rows": null,
            "height": null,
            "justify_content": null,
            "justify_items": null,
            "left": null,
            "margin": null,
            "max_height": null,
            "max_width": null,
            "min_height": null,
            "min_width": null,
            "object_fit": null,
            "object_position": null,
            "order": null,
            "overflow": null,
            "overflow_x": null,
            "overflow_y": null,
            "padding": null,
            "right": null,
            "top": null,
            "visibility": null,
            "width": null
          }
        },
        "44f0ff4b9b2442be828682a1580be1d4": {
          "model_module": "@jupyter-widgets/controls",
          "model_name": "ButtonStyleModel",
          "model_module_version": "1.5.0",
          "state": {
            "_model_module": "@jupyter-widgets/controls",
            "_model_module_version": "1.5.0",
            "_model_name": "ButtonStyleModel",
            "_view_count": null,
            "_view_module": "@jupyter-widgets/base",
            "_view_module_version": "1.2.0",
            "_view_name": "StyleView",
            "button_color": null,
            "font_weight": ""
          }
        },
        "702dc0086516447baeb04214b3f7242c": {
          "model_module": "@jupyter-widgets/controls",
          "model_name": "HTMLModel",
          "model_module_version": "1.5.0",
          "state": {
            "_dom_classes": [],
            "_model_module": "@jupyter-widgets/controls",
            "_model_module_version": "1.5.0",
            "_model_name": "HTMLModel",
            "_view_count": null,
            "_view_module": "@jupyter-widgets/controls",
            "_view_module_version": "1.5.0",
            "_view_name": "HTMLView",
            "description": "",
            "description_tooltip": null,
            "layout": "IPY_MODEL_e17e0e729e2543f79ae912f82e9a59aa",
            "placeholder": "​",
            "style": "IPY_MODEL_a6beec8bf4ef4e128bc9ed626a39e0b4",
            "value": "\n            What is the most similar word to the word \"twitter\" according to the model \"glove-wiki-gigaword-100\"?\n        "
          }
        },
        "c550d98a60e748f48d90a01f96151a95": {
          "model_module": "@jupyter-widgets/base",
          "model_name": "LayoutModel",
          "model_module_version": "1.2.0",
          "state": {
            "_model_module": "@jupyter-widgets/base",
            "_model_module_version": "1.2.0",
            "_model_name": "LayoutModel",
            "_view_count": null,
            "_view_module": "@jupyter-widgets/base",
            "_view_module_version": "1.2.0",
            "_view_name": "LayoutView",
            "align_content": null,
            "align_items": null,
            "align_self": null,
            "border": null,
            "bottom": null,
            "display": null,
            "flex": null,
            "flex_flow": null,
            "grid_area": null,
            "grid_auto_columns": null,
            "grid_auto_flow": null,
            "grid_auto_rows": null,
            "grid_column": null,
            "grid_gap": null,
            "grid_row": null,
            "grid_template_areas": null,
            "grid_template_columns": null,
            "grid_template_rows": null,
            "height": null,
            "justify_content": null,
            "justify_items": null,
            "left": null,
            "margin": null,
            "max_height": null,
            "max_width": null,
            "min_height": null,
            "min_width": null,
            "object_fit": null,
            "object_position": null,
            "order": null,
            "overflow": null,
            "overflow_x": null,
            "overflow_y": null,
            "padding": null,
            "right": null,
            "top": null,
            "visibility": null,
            "width": null
          }
        },
        "e17e0e729e2543f79ae912f82e9a59aa": {
          "model_module": "@jupyter-widgets/base",
          "model_name": "LayoutModel",
          "model_module_version": "1.2.0",
          "state": {
            "_model_module": "@jupyter-widgets/base",
            "_model_module_version": "1.2.0",
            "_model_name": "LayoutModel",
            "_view_count": null,
            "_view_module": "@jupyter-widgets/base",
            "_view_module_version": "1.2.0",
            "_view_name": "LayoutView",
            "align_content": null,
            "align_items": null,
            "align_self": null,
            "border": null,
            "bottom": null,
            "display": null,
            "flex": null,
            "flex_flow": null,
            "grid_area": null,
            "grid_auto_columns": null,
            "grid_auto_flow": null,
            "grid_auto_rows": null,
            "grid_column": null,
            "grid_gap": null,
            "grid_row": null,
            "grid_template_areas": null,
            "grid_template_columns": null,
            "grid_template_rows": null,
            "height": null,
            "justify_content": null,
            "justify_items": null,
            "left": null,
            "margin": null,
            "max_height": null,
            "max_width": null,
            "min_height": null,
            "min_width": null,
            "object_fit": null,
            "object_position": null,
            "order": null,
            "overflow": null,
            "overflow_x": null,
            "overflow_y": null,
            "padding": null,
            "right": null,
            "top": null,
            "visibility": null,
            "width": null
          }
        },
        "a6beec8bf4ef4e128bc9ed626a39e0b4": {
          "model_module": "@jupyter-widgets/controls",
          "model_name": "DescriptionStyleModel",
          "model_module_version": "1.5.0",
          "state": {
            "_model_module": "@jupyter-widgets/controls",
            "_model_module_version": "1.5.0",
            "_model_name": "DescriptionStyleModel",
            "_view_count": null,
            "_view_module": "@jupyter-widgets/base",
            "_view_module_version": "1.2.0",
            "_view_name": "StyleView",
            "description_width": ""
          }
        },
        "fe06b3ee066e43de9c5df608bdcccb93": {
          "model_module": "@jupyter-widgets/controls",
          "model_name": "VBoxModel",
          "model_module_version": "1.5.0",
          "state": {
            "_dom_classes": [],
            "_model_module": "@jupyter-widgets/controls",
            "_model_module_version": "1.5.0",
            "_model_name": "VBoxModel",
            "_view_count": null,
            "_view_module": "@jupyter-widgets/controls",
            "_view_module_version": "1.5.0",
            "_view_name": "VBoxView",
            "box_style": "",
            "children": [
              "IPY_MODEL_dc6d32010a13424e8d5c515b89477e33",
              "IPY_MODEL_d5b66e7916c341ee95dc254d152d7259",
              "IPY_MODEL_dd7c097fe29d4273a62a8dd4ebcb5f4c",
              "IPY_MODEL_28b71bf725c04009b121a10688e6dacd"
            ],
            "layout": "IPY_MODEL_db86e2ad86614bfea9cf42b27009d175"
          }
        },
        "dc6d32010a13424e8d5c515b89477e33": {
          "model_module": "@jupyter-widgets/output",
          "model_name": "OutputModel",
          "model_module_version": "1.0.0",
          "state": {
            "_dom_classes": [],
            "_model_module": "@jupyter-widgets/output",
            "_model_module_version": "1.0.0",
            "_model_name": "OutputModel",
            "_view_count": null,
            "_view_module": "@jupyter-widgets/output",
            "_view_module_version": "1.0.0",
            "_view_name": "OutputView",
            "layout": "IPY_MODEL_f83fb16f04ff46858e55252f2b7c67cf",
            "msg_id": "",
            "outputs": [
              {
                "output_type": "display_data",
                "data": {
                  "text/plain": "HTML(value='\\n            Solve the following word analogy task:\\n            $$\\n            \\\\overrightarrow…",
                  "application/vnd.jupyter.widget-view+json": {
                    "version_major": 2,
                    "version_minor": 0,
                    "model_id": "577d5de43e8a48ee9b4c1e3e54239a5b"
                  }
                },
                "metadata": {}
              }
            ]
          }
        },
        "d5b66e7916c341ee95dc254d152d7259": {
          "model_module": "@jupyter-widgets/controls",
          "model_name": "RadioButtonsModel",
          "model_module_version": "1.5.0",
          "state": {
            "_dom_classes": [],
            "_model_module": "@jupyter-widgets/controls",
            "_model_module_version": "1.5.0",
            "_model_name": "RadioButtonsModel",
            "_options_labels": [
              "X = duchess",
              "X = marquess",
              "X = countess",
              "X = baronet"
            ],
            "_view_count": null,
            "_view_module": "@jupyter-widgets/controls",
            "_view_module_version": "1.5.0",
            "_view_name": "RadioButtonsView",
            "description": "",
            "description_tooltip": null,
            "disabled": false,
            "index": 0,
            "layout": "IPY_MODEL_aea8a9bf09584396b128cfcf187f6022",
            "style": "IPY_MODEL_032ec333c34d41178d9f091a396352dc"
          }
        },
        "dd7c097fe29d4273a62a8dd4ebcb5f4c": {
          "model_module": "@jupyter-widgets/controls",
          "model_name": "HTMLModel",
          "model_module_version": "1.5.0",
          "state": {
            "_dom_classes": [],
            "_model_module": "@jupyter-widgets/controls",
            "_model_module_version": "1.5.0",
            "_model_name": "HTMLModel",
            "_view_count": null,
            "_view_module": "@jupyter-widgets/controls",
            "_view_module_version": "1.5.0",
            "_view_name": "HTMLView",
            "description": "",
            "description_tooltip": null,
            "layout": "IPY_MODEL_ef18e66425d04fec882ceb5cc8d60c86",
            "placeholder": "​",
            "style": "IPY_MODEL_b96f4819bc5c4a3185705733aad9eed1",
            "value": "<br>"
          }
        },
        "28b71bf725c04009b121a10688e6dacd": {
          "model_module": "@jupyter-widgets/controls",
          "model_name": "ButtonModel",
          "model_module_version": "1.5.0",
          "state": {
            "_dom_classes": [],
            "_model_module": "@jupyter-widgets/controls",
            "_model_module_version": "1.5.0",
            "_model_name": "ButtonModel",
            "_view_count": null,
            "_view_module": "@jupyter-widgets/controls",
            "_view_module_version": "1.5.0",
            "_view_name": "ButtonView",
            "button_style": "",
            "description": "Check",
            "disabled": false,
            "icon": "",
            "layout": "IPY_MODEL_b1adfb7539ca4ceab4fecd6879af3232",
            "style": "IPY_MODEL_2575a595a1474654ad1e0da8112fb002",
            "tooltip": ""
          }
        },
        "db86e2ad86614bfea9cf42b27009d175": {
          "model_module": "@jupyter-widgets/base",
          "model_name": "LayoutModel",
          "model_module_version": "1.2.0",
          "state": {
            "_model_module": "@jupyter-widgets/base",
            "_model_module_version": "1.2.0",
            "_model_name": "LayoutModel",
            "_view_count": null,
            "_view_module": "@jupyter-widgets/base",
            "_view_module_version": "1.2.0",
            "_view_name": "LayoutView",
            "align_content": null,
            "align_items": null,
            "align_self": null,
            "border": null,
            "bottom": null,
            "display": null,
            "flex": null,
            "flex_flow": null,
            "grid_area": null,
            "grid_auto_columns": null,
            "grid_auto_flow": null,
            "grid_auto_rows": null,
            "grid_column": null,
            "grid_gap": null,
            "grid_row": null,
            "grid_template_areas": null,
            "grid_template_columns": null,
            "grid_template_rows": null,
            "height": null,
            "justify_content": null,
            "justify_items": null,
            "left": null,
            "margin": null,
            "max_height": null,
            "max_width": null,
            "min_height": null,
            "min_width": null,
            "object_fit": null,
            "object_position": null,
            "order": null,
            "overflow": null,
            "overflow_x": null,
            "overflow_y": null,
            "padding": null,
            "right": null,
            "top": null,
            "visibility": null,
            "width": null
          }
        },
        "aea8a9bf09584396b128cfcf187f6022": {
          "model_module": "@jupyter-widgets/base",
          "model_name": "LayoutModel",
          "model_module_version": "1.2.0",
          "state": {
            "_model_module": "@jupyter-widgets/base",
            "_model_module_version": "1.2.0",
            "_model_name": "LayoutModel",
            "_view_count": null,
            "_view_module": "@jupyter-widgets/base",
            "_view_module_version": "1.2.0",
            "_view_name": "LayoutView",
            "align_content": null,
            "align_items": null,
            "align_self": null,
            "border": null,
            "bottom": null,
            "display": null,
            "flex": null,
            "flex_flow": null,
            "grid_area": null,
            "grid_auto_columns": null,
            "grid_auto_flow": null,
            "grid_auto_rows": null,
            "grid_column": null,
            "grid_gap": null,
            "grid_row": null,
            "grid_template_areas": null,
            "grid_template_columns": null,
            "grid_template_rows": null,
            "height": null,
            "justify_content": null,
            "justify_items": null,
            "left": null,
            "margin": null,
            "max_height": null,
            "max_width": null,
            "min_height": null,
            "min_width": null,
            "object_fit": null,
            "object_position": null,
            "order": null,
            "overflow": null,
            "overflow_x": null,
            "overflow_y": null,
            "padding": null,
            "right": null,
            "top": null,
            "visibility": null,
            "width": null
          }
        },
        "032ec333c34d41178d9f091a396352dc": {
          "model_module": "@jupyter-widgets/controls",
          "model_name": "DescriptionStyleModel",
          "model_module_version": "1.5.0",
          "state": {
            "_model_module": "@jupyter-widgets/controls",
            "_model_module_version": "1.5.0",
            "_model_name": "DescriptionStyleModel",
            "_view_count": null,
            "_view_module": "@jupyter-widgets/base",
            "_view_module_version": "1.2.0",
            "_view_name": "StyleView",
            "description_width": ""
          }
        },
        "ef18e66425d04fec882ceb5cc8d60c86": {
          "model_module": "@jupyter-widgets/base",
          "model_name": "LayoutModel",
          "model_module_version": "1.2.0",
          "state": {
            "_model_module": "@jupyter-widgets/base",
            "_model_module_version": "1.2.0",
            "_model_name": "LayoutModel",
            "_view_count": null,
            "_view_module": "@jupyter-widgets/base",
            "_view_module_version": "1.2.0",
            "_view_name": "LayoutView",
            "align_content": null,
            "align_items": null,
            "align_self": null,
            "border": null,
            "bottom": null,
            "display": null,
            "flex": null,
            "flex_flow": null,
            "grid_area": null,
            "grid_auto_columns": null,
            "grid_auto_flow": null,
            "grid_auto_rows": null,
            "grid_column": null,
            "grid_gap": null,
            "grid_row": null,
            "grid_template_areas": null,
            "grid_template_columns": null,
            "grid_template_rows": null,
            "height": null,
            "justify_content": null,
            "justify_items": null,
            "left": null,
            "margin": null,
            "max_height": null,
            "max_width": null,
            "min_height": null,
            "min_width": null,
            "object_fit": null,
            "object_position": null,
            "order": null,
            "overflow": null,
            "overflow_x": null,
            "overflow_y": null,
            "padding": null,
            "right": null,
            "top": null,
            "visibility": null,
            "width": null
          }
        },
        "b96f4819bc5c4a3185705733aad9eed1": {
          "model_module": "@jupyter-widgets/controls",
          "model_name": "DescriptionStyleModel",
          "model_module_version": "1.5.0",
          "state": {
            "_model_module": "@jupyter-widgets/controls",
            "_model_module_version": "1.5.0",
            "_model_name": "DescriptionStyleModel",
            "_view_count": null,
            "_view_module": "@jupyter-widgets/base",
            "_view_module_version": "1.2.0",
            "_view_name": "StyleView",
            "description_width": ""
          }
        },
        "b1adfb7539ca4ceab4fecd6879af3232": {
          "model_module": "@jupyter-widgets/base",
          "model_name": "LayoutModel",
          "model_module_version": "1.2.0",
          "state": {
            "_model_module": "@jupyter-widgets/base",
            "_model_module_version": "1.2.0",
            "_model_name": "LayoutModel",
            "_view_count": null,
            "_view_module": "@jupyter-widgets/base",
            "_view_module_version": "1.2.0",
            "_view_name": "LayoutView",
            "align_content": null,
            "align_items": null,
            "align_self": null,
            "border": null,
            "bottom": null,
            "display": null,
            "flex": null,
            "flex_flow": null,
            "grid_area": null,
            "grid_auto_columns": null,
            "grid_auto_flow": null,
            "grid_auto_rows": null,
            "grid_column": null,
            "grid_gap": null,
            "grid_row": null,
            "grid_template_areas": null,
            "grid_template_columns": null,
            "grid_template_rows": null,
            "height": null,
            "justify_content": null,
            "justify_items": null,
            "left": null,
            "margin": null,
            "max_height": null,
            "max_width": null,
            "min_height": null,
            "min_width": null,
            "object_fit": null,
            "object_position": null,
            "order": null,
            "overflow": null,
            "overflow_x": null,
            "overflow_y": null,
            "padding": null,
            "right": null,
            "top": null,
            "visibility": null,
            "width": null
          }
        },
        "2575a595a1474654ad1e0da8112fb002": {
          "model_module": "@jupyter-widgets/controls",
          "model_name": "ButtonStyleModel",
          "model_module_version": "1.5.0",
          "state": {
            "_model_module": "@jupyter-widgets/controls",
            "_model_module_version": "1.5.0",
            "_model_name": "ButtonStyleModel",
            "_view_count": null,
            "_view_module": "@jupyter-widgets/base",
            "_view_module_version": "1.2.0",
            "_view_name": "StyleView",
            "button_color": null,
            "font_weight": ""
          }
        },
        "577d5de43e8a48ee9b4c1e3e54239a5b": {
          "model_module": "@jupyter-widgets/controls",
          "model_name": "HTMLModel",
          "model_module_version": "1.5.0",
          "state": {
            "_dom_classes": [],
            "_model_module": "@jupyter-widgets/controls",
            "_model_module_version": "1.5.0",
            "_model_name": "HTMLModel",
            "_view_count": null,
            "_view_module": "@jupyter-widgets/controls",
            "_view_module_version": "1.5.0",
            "_view_name": "HTMLView",
            "description": "",
            "description_tooltip": null,
            "layout": "IPY_MODEL_1f0292a6486841049e61d3c0da59147b",
            "placeholder": "​",
            "style": "IPY_MODEL_043e6155de994406b88d6d6288abc10f",
            "value": "\n            Solve the following word analogy task:\n            $$\n            \\overrightarrow{\\mathrm{earl}} - \\overrightarrow{\\mathrm{man}} \\approx X - \\overrightarrow{\\mathrm{woman}}\n            $$\n            Use \"glove-wiki-gigaword-100\".\n        "
          }
        },
        "f83fb16f04ff46858e55252f2b7c67cf": {
          "model_module": "@jupyter-widgets/base",
          "model_name": "LayoutModel",
          "model_module_version": "1.2.0",
          "state": {
            "_model_module": "@jupyter-widgets/base",
            "_model_module_version": "1.2.0",
            "_model_name": "LayoutModel",
            "_view_count": null,
            "_view_module": "@jupyter-widgets/base",
            "_view_module_version": "1.2.0",
            "_view_name": "LayoutView",
            "align_content": null,
            "align_items": null,
            "align_self": null,
            "border": null,
            "bottom": null,
            "display": null,
            "flex": null,
            "flex_flow": null,
            "grid_area": null,
            "grid_auto_columns": null,
            "grid_auto_flow": null,
            "grid_auto_rows": null,
            "grid_column": null,
            "grid_gap": null,
            "grid_row": null,
            "grid_template_areas": null,
            "grid_template_columns": null,
            "grid_template_rows": null,
            "height": null,
            "justify_content": null,
            "justify_items": null,
            "left": null,
            "margin": null,
            "max_height": null,
            "max_width": null,
            "min_height": null,
            "min_width": null,
            "object_fit": null,
            "object_position": null,
            "order": null,
            "overflow": null,
            "overflow_x": null,
            "overflow_y": null,
            "padding": null,
            "right": null,
            "top": null,
            "visibility": null,
            "width": null
          }
        },
        "1f0292a6486841049e61d3c0da59147b": {
          "model_module": "@jupyter-widgets/base",
          "model_name": "LayoutModel",
          "model_module_version": "1.2.0",
          "state": {
            "_model_module": "@jupyter-widgets/base",
            "_model_module_version": "1.2.0",
            "_model_name": "LayoutModel",
            "_view_count": null,
            "_view_module": "@jupyter-widgets/base",
            "_view_module_version": "1.2.0",
            "_view_name": "LayoutView",
            "align_content": null,
            "align_items": null,
            "align_self": null,
            "border": null,
            "bottom": null,
            "display": null,
            "flex": null,
            "flex_flow": null,
            "grid_area": null,
            "grid_auto_columns": null,
            "grid_auto_flow": null,
            "grid_auto_rows": null,
            "grid_column": null,
            "grid_gap": null,
            "grid_row": null,
            "grid_template_areas": null,
            "grid_template_columns": null,
            "grid_template_rows": null,
            "height": null,
            "justify_content": null,
            "justify_items": null,
            "left": null,
            "margin": null,
            "max_height": null,
            "max_width": null,
            "min_height": null,
            "min_width": null,
            "object_fit": null,
            "object_position": null,
            "order": null,
            "overflow": null,
            "overflow_x": null,
            "overflow_y": null,
            "padding": null,
            "right": null,
            "top": null,
            "visibility": null,
            "width": null
          }
        },
        "043e6155de994406b88d6d6288abc10f": {
          "model_module": "@jupyter-widgets/controls",
          "model_name": "DescriptionStyleModel",
          "model_module_version": "1.5.0",
          "state": {
            "_model_module": "@jupyter-widgets/controls",
            "_model_module_version": "1.5.0",
            "_model_name": "DescriptionStyleModel",
            "_view_count": null,
            "_view_module": "@jupyter-widgets/base",
            "_view_module_version": "1.2.0",
            "_view_name": "StyleView",
            "description_width": ""
          }
        }
      }
    }
  },
  "nbformat": 4,
  "nbformat_minor": 0
}