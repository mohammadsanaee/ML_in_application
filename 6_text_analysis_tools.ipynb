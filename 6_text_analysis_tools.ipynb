{
  "cells": [
    {
      "cell_type": "markdown",
      "metadata": {
        "id": "view-in-github",
        "colab_type": "text"
      },
      "source": [
        "<a href=\"https://colab.research.google.com/github/mohammadsanaee/ML_in_application/blob/main/6_text_analysis_tools.ipynb\" target=\"_parent\"><img src=\"https://colab.research.google.com/assets/colab-badge.svg\" alt=\"Open In Colab\"/></a>"
      ]
    },
    {
      "cell_type": "code",
      "execution_count": 1,
      "metadata": {
        "colab": {
          "base_uri": "https://localhost:8080/"
        },
        "id": "iP2N3UpjarIA",
        "outputId": "eb034d03-9533-43dc-e1c0-1bc38d2c1612"
      },
      "outputs": [
        {
          "output_type": "stream",
          "name": "stdout",
          "text": [
            "Cloning into 'harbour-space-text-mining-course'...\n",
            "remote: Enumerating objects: 738, done.\u001b[K\n",
            "remote: Counting objects: 100% (175/175), done.\u001b[K\n",
            "remote: Compressing objects: 100% (105/105), done.\u001b[K\n",
            "remote: Total 738 (delta 79), reused 158 (delta 69), pack-reused 563\u001b[K\n",
            "Receiving objects: 100% (738/738), 179.50 MiB | 20.01 MiB/s, done.\n",
            "Resolving deltas: 100% (403/403), done.\n",
            "Checking out files: 100% (129/129), done.\n"
          ]
        }
      ],
      "source": [
        "#@title <b><font color=\"red\">▶</font><font color=\"black\"> run this cell to prepare supplementary materials for the lesson</font></b>\n",
        "\n",
        "!rm -rf harbour-space-text-mining-course\n",
        "!git clone https://github.com/horoshenkih/harbour-space-text-mining-course.git\n",
        "import sys\n",
        "sys.path.append('harbour-space-text-mining-course')\n",
        "\n",
        "from tmcourse.ipyquiz import Quiz, Function\n",
        "from tmcourse.quiz import (\n",
        "    quiz_count_tokens,\n",
        "    quiz_count_lemmas,\n",
        "    quiz_ner,\n",
        ")\n",
        "\n",
        "from collections import Counter, defaultdict\n",
        "from math import exp\n",
        "from tabulate import tabulate\n",
        "from pprint import pprint\n",
        "from tqdm.notebook import tqdm\n",
        "from IPython.display import HTML, display\n",
        "from datetime import date\n",
        "import pandas as pd\n",
        "import numpy as np\n",
        "import matplotlib.pyplot as plt\n",
        "from datetime import date\n",
        "import glob"
      ]
    },
    {
      "cell_type": "markdown",
      "metadata": {
        "id": "FWxF9IYN0zuo"
      },
      "source": [
        "<!--@slideshow slide-->\n",
        "<h1><center>Tools for text analysis</center></h1>"
      ]
    },
    {
      "cell_type": "markdown",
      "metadata": {
        "id": "TK92FbFeIpKD"
      },
      "source": [
        "<!--@slideshow slide-->\n",
        "# Dataset: Elon Musk tweets 2010-2021\n",
        "\n",
        "In this lesson, we will study [Elon Musk tweets](https://www.kaggle.com/ayhmrba/elon-musk-tweets-2010-2021) stored in CSV files.\n"
      ]
    },
    {
      "cell_type": "code",
      "execution_count": 2,
      "metadata": {
        "id": "vanZAFmHbEZM"
      },
      "outputs": [],
      "source": [
        "#@slideshow fragment\n",
        "import glob\n",
        "\n",
        "dataset_files = glob.glob(\n",
        "    \"harbour-space-text-mining-course/datasets/musk/*.csv\")\n",
        "dfs = [pd.read_csv(f) for f in sorted(dataset_files)]\n",
        "df = pd.concat(dfs, axis=0, ignore_index=True)"
      ]
    },
    {
      "cell_type": "markdown",
      "metadata": {
        "id": "yKxmZEdJdVXu"
      },
      "source": [
        "<!--@slideshow slide-->\n",
        "Look at the data"
      ]
    },
    {
      "cell_type": "code",
      "execution_count": 3,
      "metadata": {
        "colab": {
          "base_uri": "https://localhost:8080/",
          "height": 206
        },
        "id": "1YnvLToJbcCo",
        "outputId": "cd110751-f629-4bdb-a333-f92d6cfc29bb"
      },
      "outputs": [
        {
          "output_type": "execute_result",
          "data": {
            "text/plain": [
              "                                                   tweet                 date\n",
              "43069                  That was a total non sequitur btw  2011-12-03 08:22:07\n",
              "43070  Great Voltaire quote, arguably better than Twa...  2011-12-03 08:20:28\n",
              "43071  I made the volume on the Model S  http://t.co/...  2011-12-01 10:29:04\n",
              "43072  Went to Iceland on Sat to ride bumper cars on ...  2011-12-01 09:55:11\n",
              "43073  Please ignore prior tweets, as that was someon...  2010-06-04 18:31:57"
            ],
            "text/html": [
              "\n",
              "  <div id=\"df-f135955c-1760-4925-9bc5-9602ad8536e1\">\n",
              "    <div class=\"colab-df-container\">\n",
              "      <div>\n",
              "<style scoped>\n",
              "    .dataframe tbody tr th:only-of-type {\n",
              "        vertical-align: middle;\n",
              "    }\n",
              "\n",
              "    .dataframe tbody tr th {\n",
              "        vertical-align: top;\n",
              "    }\n",
              "\n",
              "    .dataframe thead th {\n",
              "        text-align: right;\n",
              "    }\n",
              "</style>\n",
              "<table border=\"1\" class=\"dataframe\">\n",
              "  <thead>\n",
              "    <tr style=\"text-align: right;\">\n",
              "      <th></th>\n",
              "      <th>tweet</th>\n",
              "      <th>date</th>\n",
              "    </tr>\n",
              "  </thead>\n",
              "  <tbody>\n",
              "    <tr>\n",
              "      <th>43069</th>\n",
              "      <td>That was a total non sequitur btw</td>\n",
              "      <td>2011-12-03 08:22:07</td>\n",
              "    </tr>\n",
              "    <tr>\n",
              "      <th>43070</th>\n",
              "      <td>Great Voltaire quote, arguably better than Twa...</td>\n",
              "      <td>2011-12-03 08:20:28</td>\n",
              "    </tr>\n",
              "    <tr>\n",
              "      <th>43071</th>\n",
              "      <td>I made the volume on the Model S  http://t.co/...</td>\n",
              "      <td>2011-12-01 10:29:04</td>\n",
              "    </tr>\n",
              "    <tr>\n",
              "      <th>43072</th>\n",
              "      <td>Went to Iceland on Sat to ride bumper cars on ...</td>\n",
              "      <td>2011-12-01 09:55:11</td>\n",
              "    </tr>\n",
              "    <tr>\n",
              "      <th>43073</th>\n",
              "      <td>Please ignore prior tweets, as that was someon...</td>\n",
              "      <td>2010-06-04 18:31:57</td>\n",
              "    </tr>\n",
              "  </tbody>\n",
              "</table>\n",
              "</div>\n",
              "      <button class=\"colab-df-convert\" onclick=\"convertToInteractive('df-f135955c-1760-4925-9bc5-9602ad8536e1')\"\n",
              "              title=\"Convert this dataframe to an interactive table.\"\n",
              "              style=\"display:none;\">\n",
              "        \n",
              "  <svg xmlns=\"http://www.w3.org/2000/svg\" height=\"24px\"viewBox=\"0 0 24 24\"\n",
              "       width=\"24px\">\n",
              "    <path d=\"M0 0h24v24H0V0z\" fill=\"none\"/>\n",
              "    <path d=\"M18.56 5.44l.94 2.06.94-2.06 2.06-.94-2.06-.94-.94-2.06-.94 2.06-2.06.94zm-11 1L8.5 8.5l.94-2.06 2.06-.94-2.06-.94L8.5 2.5l-.94 2.06-2.06.94zm10 10l.94 2.06.94-2.06 2.06-.94-2.06-.94-.94-2.06-.94 2.06-2.06.94z\"/><path d=\"M17.41 7.96l-1.37-1.37c-.4-.4-.92-.59-1.43-.59-.52 0-1.04.2-1.43.59L10.3 9.45l-7.72 7.72c-.78.78-.78 2.05 0 2.83L4 21.41c.39.39.9.59 1.41.59.51 0 1.02-.2 1.41-.59l7.78-7.78 2.81-2.81c.8-.78.8-2.07 0-2.86zM5.41 20L4 18.59l7.72-7.72 1.47 1.35L5.41 20z\"/>\n",
              "  </svg>\n",
              "      </button>\n",
              "      \n",
              "  <style>\n",
              "    .colab-df-container {\n",
              "      display:flex;\n",
              "      flex-wrap:wrap;\n",
              "      gap: 12px;\n",
              "    }\n",
              "\n",
              "    .colab-df-convert {\n",
              "      background-color: #E8F0FE;\n",
              "      border: none;\n",
              "      border-radius: 50%;\n",
              "      cursor: pointer;\n",
              "      display: none;\n",
              "      fill: #1967D2;\n",
              "      height: 32px;\n",
              "      padding: 0 0 0 0;\n",
              "      width: 32px;\n",
              "    }\n",
              "\n",
              "    .colab-df-convert:hover {\n",
              "      background-color: #E2EBFA;\n",
              "      box-shadow: 0px 1px 2px rgba(60, 64, 67, 0.3), 0px 1px 3px 1px rgba(60, 64, 67, 0.15);\n",
              "      fill: #174EA6;\n",
              "    }\n",
              "\n",
              "    [theme=dark] .colab-df-convert {\n",
              "      background-color: #3B4455;\n",
              "      fill: #D2E3FC;\n",
              "    }\n",
              "\n",
              "    [theme=dark] .colab-df-convert:hover {\n",
              "      background-color: #434B5C;\n",
              "      box-shadow: 0px 1px 3px 1px rgba(0, 0, 0, 0.15);\n",
              "      filter: drop-shadow(0px 1px 2px rgba(0, 0, 0, 0.3));\n",
              "      fill: #FFFFFF;\n",
              "    }\n",
              "  </style>\n",
              "\n",
              "      <script>\n",
              "        const buttonEl =\n",
              "          document.querySelector('#df-f135955c-1760-4925-9bc5-9602ad8536e1 button.colab-df-convert');\n",
              "        buttonEl.style.display =\n",
              "          google.colab.kernel.accessAllowed ? 'block' : 'none';\n",
              "\n",
              "        async function convertToInteractive(key) {\n",
              "          const element = document.querySelector('#df-f135955c-1760-4925-9bc5-9602ad8536e1');\n",
              "          const dataTable =\n",
              "            await google.colab.kernel.invokeFunction('convertToInteractive',\n",
              "                                                     [key], {});\n",
              "          if (!dataTable) return;\n",
              "\n",
              "          const docLinkHtml = 'Like what you see? Visit the ' +\n",
              "            '<a target=\"_blank\" href=https://colab.research.google.com/notebooks/data_table.ipynb>data table notebook</a>'\n",
              "            + ' to learn more about interactive tables.';\n",
              "          element.innerHTML = '';\n",
              "          dataTable['output_type'] = 'display_data';\n",
              "          await google.colab.output.renderOutput(dataTable, element);\n",
              "          const docLink = document.createElement('div');\n",
              "          docLink.innerHTML = docLinkHtml;\n",
              "          element.appendChild(docLink);\n",
              "        }\n",
              "      </script>\n",
              "    </div>\n",
              "  </div>\n",
              "  "
            ]
          },
          "metadata": {},
          "execution_count": 3
        }
      ],
      "source": [
        "#@slideshow fragment\n",
        "df[['tweet', 'date']].tail()"
      ]
    },
    {
      "cell_type": "markdown",
      "metadata": {
        "id": "l7NGqIYEH8Zm"
      },
      "source": [
        "<!--@slideshow slide-->\n",
        "## Preliminary analysis\n",
        "Let's look at the meaningful characteristics of the dataset"
      ]
    },
    {
      "cell_type": "code",
      "execution_count": 4,
      "metadata": {
        "colab": {
          "base_uri": "https://localhost:8080/",
          "height": 265
        },
        "id": "1LLx07I4IZGF",
        "outputId": "fbc2afcd-c166-427f-9755-751006726a22"
      },
      "outputs": [
        {
          "output_type": "stream",
          "name": "stdout",
          "text": [
            "Number of tweets: 43074\n",
            "Number of unique characters: 388\n",
            "Average tweet length: 91.87862747829317\n"
          ]
        },
        {
          "output_type": "display_data",
          "data": {
            "text/plain": [
              "<Figure size 360x216 with 1 Axes>"
            ],
            "image/png": "[encoded data removed]"
          },
          "metadata": {
            "needs_background": "light"
          }
        }
      ],
      "source": [
        "#@slideshow slide\n",
        "tweets = df['tweet']\n",
        "print(f\"Number of tweets: {len(tweets)}\")\n",
        "# compute the number of unique characters\n",
        "char_set = set()\n",
        "for t in tweets:\n",
        "    char_set.update(list(t))\n",
        "print(f\"Number of unique characters: {len(char_set)}\")\n",
        "# compute the distribution of text sizes\n",
        "tweet_len_characters = [len(t) for t in tweets]\n",
        "avg_text_len = np.average(tweet_len_characters)\n",
        "print(f\"Average tweet length: {avg_text_len}\")\n",
        "\n",
        "# print the distribution of tweet sizes\n",
        "plt.figure(figsize=(5, 3))\n",
        "plt.hist(tweet_len_characters, bins=100)\n",
        "plt.show()"
      ]
    },
    {
      "cell_type": "markdown",
      "metadata": {
        "id": "2KYCWi4UnEQs"
      },
      "source": [
        "<!--@slideshow slide-->\n",
        "# Tokenization\n",
        "\n",
        "How do we read texts?\n",
        "\n",
        "- Technically speaking, a text is a sequence of *characters*.\n",
        "- But we don't read texts character-by-character.\n",
        "- We perceive the text as the sequence of words, phrases, punctuation and other *meaningful* pieces.\n"
      ]
    },
    {
      "cell_type": "markdown",
      "metadata": {
        "id": "RC3JZHuCL1wk"
      },
      "source": [
        "<!--@slideshow fragment-->\n",
        "**Definition**: *token* is a meaningful substring (for example, a word or a punctuation sign).\n",
        "\n",
        "The exact definition depends on the problem!\n",
        "- You may need to keep emojis for *sentiment analysis* and ignore them for *topic modeling*.\n",
        "- You may remove punctuation for *text classification* and keep it for *language modeling*.\n",
        "\n",
        "For example, the substring `\":-)\"` may be a single token, three tokens, or it may be ignored (0 tokens).\n"
      ]
    },
    {
      "cell_type": "markdown",
      "metadata": {
        "id": "lFaUUvxGL8Hm"
      },
      "source": [
        "<!--@slideshow slide-->\n",
        "The easiest way to tokenize the text is to split it by whitespace\n",
        "\n",
        "> This is what the method `.split()` of Python `str` does.\n"
      ]
    },
    {
      "cell_type": "code",
      "execution_count": 5,
      "metadata": {
        "colab": {
          "base_uri": "https://localhost:8080/"
        },
        "id": "iojAS9fKnsQI",
        "outputId": "3bc7b7e7-a090-4cad-d138-5413cca0cbd2"
      },
      "outputs": [
        {
          "output_type": "stream",
          "name": "stdout",
          "text": [
            "Text:\n",
            "Liam Neeson's \"Life's Too Short\" sketch is super funny  http://t.co/nQL7wOx3\n",
            "Tokens:\n",
            "['Liam', \"Neeson's\", '\"Life\\'s', 'Too', 'Short\"', 'sketch', 'is', 'super', 'funny', 'http://t.co/nQL7wOx3']\n"
          ]
        }
      ],
      "source": [
        "#@slideshow fragment\n",
        "from pprint import pprint\n",
        "text = tweets[63]\n",
        "print(\"Text:\")\n",
        "print(text)\n",
        "print(\"Tokens:\")\n",
        "print(text.split())"
      ]
    },
    {
      "cell_type": "markdown",
      "metadata": {
        "id": "OFXR8Es6BM6D"
      },
      "source": [
        "<!--@slideshow slide-->\n",
        "We see that dealing with punctuation is tricky.\n",
        "> We need `\"` and `Life's` instead of `\"Life's`\n",
        "\n",
        "But we cannot split by punctuation.\n",
        "\n",
        "> We don't need to split `Life's` into `Life` and `s`"
      ]
    },
    {
      "cell_type": "markdown",
      "metadata": {
        "id": "cj8ik1vDEXHM"
      },
      "source": [
        "<!--@slideshow slide-->\n",
        "## spaCy\n",
        "\n",
        "It's time to get familiar with `spaCy` - a Python library for Natural Language Processing (NLP)."
      ]
    },
    {
      "cell_type": "code",
      "execution_count": 6,
      "metadata": {
        "colab": {
          "base_uri": "https://localhost:8080/"
        },
        "id": "kDduMDHz9R8M",
        "outputId": "288337ea-194c-4717-da0d-a49392e3a8e9"
      },
      "outputs": [
        {
          "output_type": "stream",
          "name": "stdout",
          "text": [
            "Text:\n",
            "'Liam Neeson\\'s \"Life\\'s Too Short\" sketch is super funny  http://t.co/nQL7wOx3'\n"
          ]
        },
        {
          "output_type": "stream",
          "name": "stderr",
          "text": [
            "/usr/local/lib/python3.8/dist-packages/torch/cuda/__init__.py:497: UserWarning: Can't initialize NVML\n",
            "  warnings.warn(\"Can't initialize NVML\")\n"
          ]
        },
        {
          "output_type": "stream",
          "name": "stdout",
          "text": [
            "Tokens:\n",
            "['Liam', 'Neeson', \"'s\", '\"', 'Life', \"'s\", 'Too', 'Short', '\"', 'sketch', 'is',\n",
            " 'super', 'funny', ' ', 'http://t.co/nQL7wOx3']\n"
          ]
        }
      ],
      "source": [
        "#@slideshow slide\n",
        "# text to be tokenized\n",
        "print(\"Text:\")\n",
        "pprint(tweets[63])\n",
        "\n",
        "from spacy.lang.en import English\n",
        "\n",
        "# create text analyzer that includes rules of tokenization\n",
        "# rules are language-specific, so we load the rules for English\n",
        "nlp = English()\n",
        "\n",
        "# spaCy has functional API: you just call nlp(text)\n",
        "analyzed_text = nlp(tweets[63])\n",
        "\n",
        "# the resulting object (`analyzed_text`) is iterable,\n",
        "# and tokens can be extracted by iteration\n",
        "print(\"Tokens:\")\n",
        "pprint([token.text for token in analyzed_text], compact=True)"
      ]
    },
    {
      "cell_type": "markdown",
      "metadata": {
        "id": "-_0QwNxDfb7o"
      },
      "source": [
        "<!--@slideshow slide-->\n",
        "Let's find the most frequent tokens"
      ]
    },
    {
      "cell_type": "code",
      "execution_count": 7,
      "metadata": {
        "colab": {
          "base_uri": "https://localhost:8080/",
          "height": 228,
          "referenced_widgets": [
            "ed84639f06314c218296a6d203ec6ebc",
            "39cbeaff2b874e8cb7aece6c30199e79",
            "ae322b07fb3649858417a53dee58c2ce",
            "464de3795f254f59b003db94a787cd19",
            "80e0af4da4d14df393c54f090a1f3985",
            "a8cbbfc2385c4a8bb3dc9e5f90a73b22",
            "5b47c818426048899aa917c448987da7",
            "59868e7bd034402ab0450ed4dbdb0b30",
            "d060db724f624db3b96b264db937406c",
            "7ad172fbff544a3ab33e5c5d52807f9e",
            "200cfab8681d4fdc81931fcdae1b6d1e"
          ]
        },
        "id": "cXaF1roFfoRy",
        "outputId": "e6adfd46-fd3f-4eb1-ff89-52e741d85224"
      },
      "outputs": [
        {
          "output_type": "display_data",
          "data": {
            "text/plain": [
              "  0%|          | 0/43074 [00:00<?, ?it/s]"
            ],
            "application/vnd.jupyter.widget-view+json": {
              "version_major": 2,
              "version_minor": 0,
              "model_id": "ed84639f06314c218296a6d203ec6ebc"
            }
          },
          "metadata": {}
        },
        {
          "output_type": "stream",
          "name": "stdout",
          "text": [
            "[('.', 32474), (',', 19826), ('to', 14556), ('the', 12768), ('a', 10702),\n",
            " ('of', 9755), ('is', 9719), (' ', 8473), ('in', 7533), ('&', 6239),\n",
            " ('for', 6177), (';', 6133), ('amp', 6005), ('!', 5221), ('on', 4695),\n",
            " ('be', 4651), ('I', 4366), ('Tesla', 4240), ('that', 4109), ('it', 4056),\n",
            " ('will', 3771), ('but', 3593), ('and', 3238), ('with', 3078), ('are', 2901),\n",
            " ('-', 2714), ('at', 2701), ('you', 2685), ('by', 2476), ('this', 2400),\n",
            " ('we', 2359), ('not', 2357), ('’s', 2328), ('(', 2208), (')', 2188),\n",
            " ('so', 2119), ('as', 2060), ('do', 2025), ('from', 1968), ('@Tesla', 1965),\n",
            " ('have', 1945), ('was', 1922), ('Model', 1886), ('all', 1750), ('or', 1647),\n",
            " ('n’t', 1646), ('It', 1634), ('about', 1628), ('We', 1584), ('Yes', 1525)]\n"
          ]
        }
      ],
      "source": [
        "#@slideshow fragment\n",
        "from spacy.lang.en import English\n",
        "\n",
        "nlp = English()\n",
        "token_counter = Counter()\n",
        "\n",
        "for tweet in tqdm(tweets):\n",
        "    doc = nlp(tweet)\n",
        "    for token in doc:\n",
        "        token_counter[token.text] += 1\n",
        "pprint(token_counter.most_common()[:50], compact=True)"
      ]
    },
    {
      "cell_type": "markdown",
      "metadata": {
        "id": "HJmJL71yht-W"
      },
      "source": [
        "<!--@slideshow fragment-->\n",
        "- Note that tokens \"It\" and \"it\" are treated as different words, but have the same meaning.\n",
        "- \"be\", \"is\" and \"are\" are different forms of the same verb."
      ]
    },
    {
      "cell_type": "markdown",
      "metadata": {
        "id": "aYpmsVpiT-xf"
      },
      "source": [
        "<!--@slideshow slide-->\n",
        "## Colab quiz 1"
      ]
    },
    {
      "cell_type": "code",
      "execution_count": 8,
      "metadata": {
        "colab": {
          "base_uri": "https://localhost:8080/",
          "height": 241,
          "referenced_widgets": [
            "5b9eae23e7054f8da7e6b0e1456efd39",
            "8836416df2364446bf219100fe471933",
            "d5dbca91bc714b9ab2c3bc18940dabed",
            "2b6db444a1d44865a6fd150907593daf",
            "990d75e8d95b42f190549814dfb60ca9",
            "3163d20fc3154383b4b317f0fdece395",
            "f129637a0d1442f38fb7e68195f63bfe",
            "a0c4341cd2114d02af28079ee5d984e7",
            "fc0b7ae1110e41b2bfd46590b894c12f",
            "81722c9baf4c47ba9835e7947e94d9b9",
            "51826415b136421a9c2d98ab94cb5769"
          ]
        },
        "id": "8wOgEXIFUClE",
        "outputId": "683bf9c7-c9b8-4fc8-ddbe-e6e658b7905d"
      },
      "outputs": [
        {
          "output_type": "display_data",
          "data": {
            "text/plain": [
              "VBox(children=(HTML(value='Compute the number of tokens in an input string using spaCy.<hr>'), HTML(value='Sam…"
            ],
            "application/vnd.jupyter.widget-view+json": {
              "version_major": 2,
              "version_minor": 0,
              "model_id": "5b9eae23e7054f8da7e6b0e1456efd39"
            }
          },
          "metadata": {}
        }
      ],
      "source": [
        "def solution(s: str) -> int:\n",
        "    from spacy.lang.en import English\n",
        "    nlp = English()\n",
        "    \n",
        "    return len(nlp(s))\n",
        "\n",
        "# the function `quiz_count_tokens()`\n",
        "# returns a function that checks your solituon\n",
        "check_solution = quiz_count_tokens()\n",
        "check_solution(solution)"
      ]
    },
    {
      "cell_type": "markdown",
      "metadata": {
        "id": "iYw-tCjmc6ij"
      },
      "source": [
        "<!--@slideshow slide-->\n",
        "# Lemmatization\n",
        "\n",
        "It is often convenient to use only one form of a word\n",
        "- \"It\", \"it\" $\\rightarrow$ \"it\"\n",
        "- \"be\", \"is\", \"are\" $\\rightarrow$ \"be\"\n",
        "\n"
      ]
    },
    {
      "cell_type": "markdown",
      "metadata": {
        "id": "hy1wnjAYUa8E"
      },
      "source": [
        "<!--@slideshow fragment-->\n",
        "**Definition**: *lemma* is the canonical form of a word.\n",
        "> For example, dictionaries contain lemmas instead of all possible word forms."
      ]
    },
    {
      "cell_type": "markdown",
      "metadata": {
        "id": "etZQac78Ufk1"
      },
      "source": [
        "<!--@slideshow fragment-->\n",
        "\n",
        "Let's see how to find lemmas in spaCy."
      ]
    },
    {
      "cell_type": "code",
      "execution_count": 9,
      "metadata": {
        "colab": {
          "base_uri": "https://localhost:8080/"
        },
        "id": "KeGuiKgsbEkv",
        "outputId": "7d654062-3110-4c92-9cbf-22b598c21918"
      },
      "outputs": [
        {
          "output_type": "stream",
          "name": "stdout",
          "text": [
            "Token    Lemma            Hashed lemma\n",
            "-------  -------  --------------------\n",
            "Do       do        2158845516055552166\n",
            "n't      not        447765159362469301\n",
            "mess     mess      1045978126549908185\n",
            "with     with     12510949447758279278\n",
            "Elon     Elon      2198773752619493627\n",
            "Musk     Musk      9701546712838649011\n",
            ".        .        12646065887601541794\n"
          ]
        }
      ],
      "source": [
        "#@slideshow slide\n",
        "import spacy\n",
        "# note that not we create `nlp` in a different way\n",
        "# because we need to load dictionaries for lemmatization\n",
        "nlp = spacy.load(\"en_core_web_sm\")\n",
        "\n",
        "token_lemma_hash = []\n",
        "for token in nlp(\"Don't mess with Elon Musk.\"):\n",
        "    # `lemma_` attribute contains the text of the token's lemma\n",
        "    lemma = token.lemma_\n",
        "    # `lemma` (without underscore) contains the hashed lemma\n",
        "    # (the internal spaCy representation)\n",
        "    hashed_lemma = token.lemma\n",
        "    token_lemma_hash.append((token, lemma, hashed_lemma))\n",
        "\n",
        "print(tabulate(token_lemma_hash,\n",
        "               headers=[\"Token\", \"Lemma\", \"Hashed lemma\"]))"
      ]
    },
    {
      "cell_type": "markdown",
      "metadata": {
        "id": "ZzugJbKHeuut"
      },
      "source": [
        "<!--@slideshow fragment-->\n",
        "Note the translations \n",
        "- `[\"Do\", \"n't\"]` $\\rightarrow$ `[\"do\", not\"]`\n",
        "- `[\"Elon\", \"Musk\"]` $\\rightarrow$ `[\"Elon\", \"Musk\"]` (not `[\"elon\", \"musk\"]`)"
      ]
    },
    {
      "cell_type": "markdown",
      "metadata": {
        "id": "OPnDxP-Vnkko"
      },
      "source": [
        "<!--@slideshow slide-->\n",
        "\n",
        "How does it work? Why `\"Do\"` $\\rightarrow$ `\"do\"` but not `\"Musk\"` $\\rightarrow$ `\"musk\"`?\n"
      ]
    },
    {
      "cell_type": "markdown",
      "metadata": {
        "id": "lKcilbUIcgkQ"
      },
      "source": [
        "<!--@slideshow fragment-->\n",
        "spaCy determines the lemma using not only spelling. It also predicts part of speech (POS) of the token.\n",
        "\n",
        "> Part of speech is _predicted with some probability_, because it is impossible to infer it from spelling.\n"
      ]
    },
    {
      "cell_type": "markdown",
      "metadata": {
        "id": "lhsBcS0xcmeI"
      },
      "source": [
        "<!--@slideshow fragment-->\n",
        "This process (predict part of speech) is called POS-tagging.\n",
        "\n",
        "Let's see how to perform POS-tagging with spaCy."
      ]
    },
    {
      "cell_type": "code",
      "execution_count": 10,
      "metadata": {
        "colab": {
          "base_uri": "https://localhost:8080/"
        },
        "id": "c00OmaA5oedS",
        "outputId": "79e8e42b-69e1-44f4-da67-5ac293625b43"
      },
      "outputs": [
        {
          "output_type": "stream",
          "name": "stdout",
          "text": [
            "Token    Tag    Tag description\n",
            "-------  -----  --------------------------------------------------\n",
            "i        PRP    pronoun, personal\n",
            "can      MD     verb, modal auxiliary\n",
            "smell    VB     verb, base form\n",
            "his      PRP$   pronoun, possessive\n",
            "musk     NN     noun, singular or mass\n",
            "elon     NNP    noun, proper singular\n",
            "musk     NNP    noun, proper singular\n",
            "is       VBZ    verb, 3rd person singular present\n",
            "famous   JJ     adjective (English), other noun-modifier (Chinese)\n"
          ]
        }
      ],
      "source": [
        "#@slideshow slide\n",
        "token_tag_description = []\n",
        "# see https://en.wikipedia.org/wiki/Musk_(disambiguation)\n",
        "for text in (\"i can smell his musk\", \"elon musk is famous\"):\n",
        "  for token in nlp(text):\n",
        "        # `tag_` attribute contains the text\n",
        "        # of predicted part-of-speech tag\n",
        "        tag = token.tag_\n",
        "        # `spacy.explain` makes tag_ human-readable\n",
        "        tag_description = spacy.explain(token.tag_)\n",
        "        token_tag_description.append((token, tag, tag_description))\n",
        "print(tabulate(token_tag_description,\n",
        "               headers=(\"Token\", \"Tag\", \"Tag description\")))"
      ]
    },
    {
      "cell_type": "markdown",
      "metadata": {
        "id": "XTt-yC-ki-Vf"
      },
      "source": [
        "<!--@slideshow slide-->\n",
        "## Colab quiz 2"
      ]
    },
    {
      "cell_type": "code",
      "execution_count": 31,
      "metadata": {
        "colab": {
          "base_uri": "https://localhost:8080/",
          "height": 241,
          "referenced_widgets": [
            "b1150ebe11d7402182d58fa69aa7706c",
            "d71436d64928474b9dc35ea743105ef1",
            "9fea67f62b9d4aa58b21cfc0bd5a1332",
            "3e8c92ffd4bd40f1ad21d55907ef0365",
            "6ffe980e61274233895b16e6ddc31f32",
            "9fa6518df4ca44168b602804f32bc033",
            "9d48f3a4c4e44559a0a72bf5386c0d66",
            "157080b189754ffb8bfa335f8bae8f9c",
            "3fd10e9ef20349019b3d512913e1b7df",
            "18e9561f06d742859099b38339525313",
            "314bfb456f1349068df747339c3c0e2d"
          ]
        },
        "id": "aLl2qmWRnNGt",
        "outputId": "174057c7-8f4c-4159-dfff-84b7e5887bf3"
      },
      "outputs": [
        {
          "output_type": "display_data",
          "data": {
            "text/plain": [
              "VBox(children=(HTML(value='Compute the number of unique lemmas in the input string<hr>'), HTML(value='Sample i…"
            ],
            "application/vnd.jupyter.widget-view+json": {
              "version_major": 2,
              "version_minor": 0,
              "model_id": "b1150ebe11d7402182d58fa69aa7706c"
            }
          },
          "metadata": {}
        }
      ],
      "source": [
        "def solution(s: str) -> int:\n",
        "    import spacy\n",
        "    nlp = spacy.load(\"en_core_web_sm\")\n",
        "    lemmas = set([token.lemma_ for token in nlp(s)])\n",
        "    return len(lemmas)\n",
        "\n",
        "check_solution = quiz_count_lemmas()\n",
        "check_solution(solution)"
      ]
    },
    {
      "cell_type": "markdown",
      "metadata": {
        "id": "YgOJMbkPnY2Z"
      },
      "source": [
        "<!--@slideshow slide-->\n",
        "# NLP pipeline\n",
        "\n",
        "`spaCy` extracts a lot of information from the text.\n",
        "\n",
        "It is performed as a sequence of steps combined into so-called NLP pipeline.\n",
        "> NLP = Natural Language Processing\n",
        "\n",
        "![NLP pipeline](https://spacy.io/pipeline-7a14d4edd18f3edfee8f34393bff2992.svg)\n",
        "\n",
        "Read more: https://spacy.io/usage/processing-pipelines"
      ]
    },
    {
      "cell_type": "code",
      "execution_count": 12,
      "metadata": {
        "colab": {
          "base_uri": "https://localhost:8080/"
        },
        "id": "M3R9hJE4xgso",
        "outputId": "c090b32a-5115-4988-8bc8-90058d1075db"
      },
      "outputs": [
        {
          "output_type": "execute_result",
          "data": {
            "text/plain": [
              "[('tok2vec', <spacy.pipeline.tok2vec.Tok2Vec at 0x7f7e6b5264c0>),\n",
              " ('tagger', <spacy.pipeline.tagger.Tagger at 0x7f7e6d23c9a0>),\n",
              " ('parser', <spacy.pipeline.dep_parser.DependencyParser at 0x7f7e6a5cc9e0>),\n",
              " ('attribute_ruler',\n",
              "  <spacy.pipeline.attributeruler.AttributeRuler at 0x7f7e65136bc0>),\n",
              " ('lemmatizer',\n",
              "  <spacy.lang.en.lemmatizer.EnglishLemmatizer at 0x7f7e6513e740>),\n",
              " ('ner', <spacy.pipeline.ner.EntityRecognizer at 0x7f7e6a5cc190>)]"
            ]
          },
          "metadata": {},
          "execution_count": 12
        }
      ],
      "source": [
        "#@slideshow slide\n",
        "import spacy\n",
        "nlp = spacy.load(\"en_core_web_sm\")\n",
        "# `nlp` object has the attribute `pipeline`\n",
        "nlp.pipeline"
      ]
    },
    {
      "cell_type": "markdown",
      "metadata": {
        "id": "N__B9CE6xuMD"
      },
      "source": [
        "<!--@slideshow fragment-->\n",
        "- `tagger` performs POS-tagging.\n",
        "- `lemmatizer` assignes base forms to tokens using rules based on part-of-speech tags, or lookup tables.\n",
        "- `tok2vec` applies a “token-to-vector” model. We will cover such models later in the course, for now **we can ignore it**.\n",
        "- `attribute_ruler` is used by other parts of the pipeline for rule-based token attribute assignment.\n",
        "\n",
        "Let's briefly look at `parser` and `ner`."
      ]
    },
    {
      "cell_type": "markdown",
      "metadata": {
        "id": "3iu1XOdCykH2"
      },
      "source": [
        "<!--@slideshow slide-->\n",
        "## parser\n",
        "The `parser` component extracts dependencies between words."
      ]
    },
    {
      "cell_type": "code",
      "execution_count": 13,
      "metadata": {
        "colab": {
          "base_uri": "https://localhost:8080/",
          "height": 333
        },
        "id": "rUXINc2kzHjm",
        "outputId": "900880ce-ca14-432c-bf0d-c104c0b38fdd"
      },
      "outputs": [
        {
          "output_type": "display_data",
          "data": {
            "text/plain": [
              "<IPython.core.display.HTML object>"
            ],
            "text/html": [
              "<svg xmlns=\"http://www.w3.org/2000/svg\" xmlns:xlink=\"http://www.w3.org/1999/xlink\" xml:lang=\"en\" id=\"67bec0fe984d420a9b2645301bad5c30-0\" class=\"displacy\" width=\"750\" height=\"312.0\" direction=\"ltr\" style=\"max-width: none; height: 312.0px; color: #000000; background: #ffffff; font-family: Arial; direction: ltr\">\n",
              "<text class=\"displacy-token\" fill=\"currentColor\" text-anchor=\"middle\" y=\"222.0\">\n",
              "    <tspan class=\"displacy-word\" fill=\"currentColor\" x=\"50\">This</tspan>\n",
              "    <tspan class=\"displacy-tag\" dy=\"2em\" fill=\"currentColor\" x=\"50\">PRON</tspan>\n",
              "</text>\n",
              "\n",
              "<text class=\"displacy-token\" fill=\"currentColor\" text-anchor=\"middle\" y=\"222.0\">\n",
              "    <tspan class=\"displacy-word\" fill=\"currentColor\" x=\"225\">is</tspan>\n",
              "    <tspan class=\"displacy-tag\" dy=\"2em\" fill=\"currentColor\" x=\"225\">AUX</tspan>\n",
              "</text>\n",
              "\n",
              "<text class=\"displacy-token\" fill=\"currentColor\" text-anchor=\"middle\" y=\"222.0\">\n",
              "    <tspan class=\"displacy-word\" fill=\"currentColor\" x=\"400\">a</tspan>\n",
              "    <tspan class=\"displacy-tag\" dy=\"2em\" fill=\"currentColor\" x=\"400\">DET</tspan>\n",
              "</text>\n",
              "\n",
              "<text class=\"displacy-token\" fill=\"currentColor\" text-anchor=\"middle\" y=\"222.0\">\n",
              "    <tspan class=\"displacy-word\" fill=\"currentColor\" x=\"575\">sentence.</tspan>\n",
              "    <tspan class=\"displacy-tag\" dy=\"2em\" fill=\"currentColor\" x=\"575\">NOUN</tspan>\n",
              "</text>\n",
              "\n",
              "<g class=\"displacy-arrow\">\n",
              "    <path class=\"displacy-arc\" id=\"arrow-67bec0fe984d420a9b2645301bad5c30-0-0\" stroke-width=\"2px\" d=\"M70,177.0 C70,89.5 220.0,89.5 220.0,177.0\" fill=\"none\" stroke=\"currentColor\"/>\n",
              "    <text dy=\"1.25em\" style=\"font-size: 0.8em; letter-spacing: 1px\">\n",
              "        <textPath xlink:href=\"#arrow-67bec0fe984d420a9b2645301bad5c30-0-0\" class=\"displacy-label\" startOffset=\"50%\" side=\"left\" fill=\"currentColor\" text-anchor=\"middle\">nsubj</textPath>\n",
              "    </text>\n",
              "    <path class=\"displacy-arrowhead\" d=\"M70,179.0 L62,167.0 78,167.0\" fill=\"currentColor\"/>\n",
              "</g>\n",
              "\n",
              "<g class=\"displacy-arrow\">\n",
              "    <path class=\"displacy-arc\" id=\"arrow-67bec0fe984d420a9b2645301bad5c30-0-1\" stroke-width=\"2px\" d=\"M420,177.0 C420,89.5 570.0,89.5 570.0,177.0\" fill=\"none\" stroke=\"currentColor\"/>\n",
              "    <text dy=\"1.25em\" style=\"font-size: 0.8em; letter-spacing: 1px\">\n",
              "        <textPath xlink:href=\"#arrow-67bec0fe984d420a9b2645301bad5c30-0-1\" class=\"displacy-label\" startOffset=\"50%\" side=\"left\" fill=\"currentColor\" text-anchor=\"middle\">det</textPath>\n",
              "    </text>\n",
              "    <path class=\"displacy-arrowhead\" d=\"M420,179.0 L412,167.0 428,167.0\" fill=\"currentColor\"/>\n",
              "</g>\n",
              "\n",
              "<g class=\"displacy-arrow\">\n",
              "    <path class=\"displacy-arc\" id=\"arrow-67bec0fe984d420a9b2645301bad5c30-0-2\" stroke-width=\"2px\" d=\"M245,177.0 C245,2.0 575.0,2.0 575.0,177.0\" fill=\"none\" stroke=\"currentColor\"/>\n",
              "    <text dy=\"1.25em\" style=\"font-size: 0.8em; letter-spacing: 1px\">\n",
              "        <textPath xlink:href=\"#arrow-67bec0fe984d420a9b2645301bad5c30-0-2\" class=\"displacy-label\" startOffset=\"50%\" side=\"left\" fill=\"currentColor\" text-anchor=\"middle\">attr</textPath>\n",
              "    </text>\n",
              "    <path class=\"displacy-arrowhead\" d=\"M575.0,179.0 L583.0,167.0 567.0,167.0\" fill=\"currentColor\"/>\n",
              "</g>\n",
              "</svg>"
            ]
          },
          "metadata": {}
        }
      ],
      "source": [
        "#@slideshow fragment\n",
        "doc = nlp(\"This is a sentence.\")\n",
        "\n",
        "# display the relations using spacy.displacy.render\n",
        "html = spacy.displacy.render(doc, style=\"dep\")\n",
        "display(HTML(html))"
      ]
    },
    {
      "cell_type": "markdown",
      "metadata": {
        "id": "65ucvMJ411PB"
      },
      "source": [
        "<!--@slideshow slide-->\n",
        "## ner\n",
        "The `ner` component recognizes named entities. (NER stands for \"Named Entity Recognition\").\n",
        "\n",
        "> Named entites correspond to some objects in real world (persons, countries, organizations, etc.)\n"
      ]
    },
    {
      "cell_type": "markdown",
      "metadata": {
        "id": "J18StFwbgX-1"
      },
      "source": [
        "<!--@slideshow fragment-->\n",
        "Let's find named entities in tweets.\n",
        "Pay attention to mistakes that `ner` makes."
      ]
    },
    {
      "cell_type": "code",
      "execution_count": 14,
      "metadata": {
        "colab": {
          "base_uri": "https://localhost:8080/",
          "height": 123
        },
        "id": "A3icRm57NSk8",
        "outputId": "1a48b091-9b04-400b-970a-6faf6c8eac34"
      },
      "outputs": [
        {
          "output_type": "stream",
          "name": "stdout",
          "text": [
            "(\"The AEI meeting wasn't secret and I was only there for a few hours to talk \"\n",
            " 'about Mars and sustainable energy. Nothing to do with Trump.')\n"
          ]
        },
        {
          "output_type": "display_data",
          "data": {
            "text/plain": [
              "<IPython.core.display.HTML object>"
            ],
            "text/html": [
              "<div class=\"entities\" style=\"line-height: 2.5; direction: ltr\">The \n",
              "<mark class=\"entity\" style=\"background: #7aecec; padding: 0.45em 0.6em; margin: 0 0.25em; line-height: 1; border-radius: 0.35em;\">\n",
              "    AEI\n",
              "    <span style=\"font-size: 0.8em; font-weight: bold; line-height: 1; border-radius: 0.35em; vertical-align: middle; margin-left: 0.5rem\">ORG</span>\n",
              "</mark>\n",
              " meeting wasn't secret and I was only there for \n",
              "<mark class=\"entity\" style=\"background: #bfe1d9; padding: 0.45em 0.6em; margin: 0 0.25em; line-height: 1; border-radius: 0.35em;\">\n",
              "    a few hours\n",
              "    <span style=\"font-size: 0.8em; font-weight: bold; line-height: 1; border-radius: 0.35em; vertical-align: middle; margin-left: 0.5rem\">TIME</span>\n",
              "</mark>\n",
              " to talk about \n",
              "<mark class=\"entity\" style=\"background: #ff9561; padding: 0.45em 0.6em; margin: 0 0.25em; line-height: 1; border-radius: 0.35em;\">\n",
              "    Mars\n",
              "    <span style=\"font-size: 0.8em; font-weight: bold; line-height: 1; border-radius: 0.35em; vertical-align: middle; margin-left: 0.5rem\">LOC</span>\n",
              "</mark>\n",
              " and sustainable energy. Nothing to do with \n",
              "<mark class=\"entity\" style=\"background: #7aecec; padding: 0.45em 0.6em; margin: 0 0.25em; line-height: 1; border-radius: 0.35em;\">\n",
              "    Trump\n",
              "    <span style=\"font-size: 0.8em; font-weight: bold; line-height: 1; border-radius: 0.35em; vertical-align: middle; margin-left: 0.5rem\">ORG</span>\n",
              "</mark>\n",
              ".</div>"
            ]
          },
          "metadata": {}
        }
      ],
      "source": [
        "#@slideshow slide\n",
        "t = tweets[3926]\n",
        "pprint(t)\n",
        "doc = nlp(t)\n",
        "# highlight named entities in the text using spaCy\n",
        "html = spacy.displacy.render(doc, style=\"ent\")\n",
        "display(HTML(html))"
      ]
    },
    {
      "cell_type": "markdown",
      "source": [
        "<!--@slideshow slide-->\n",
        "How to work with named entities in code:"
      ],
      "metadata": {
        "id": "oMmTx8hiwOZf"
      }
    },
    {
      "cell_type": "code",
      "source": [
        "#@slideshow fragment\n",
        "entity_label_description = []\n",
        "for ent in doc.ents:\n",
        "    # the text recognized as a named entity\n",
        "    entity_text = ent.text\n",
        "    # each entity is assigned a label\n",
        "    # stored in the `label_` attribute\n",
        "    entity_label = ent.label_\n",
        "    # spacy.explain() works with entity labels\n",
        "    explained_entity_label = spacy.explain(ent.label_)\n",
        "\n",
        "    entity_label_description.append(\n",
        "        (entity_text, entity_label, explained_entity_label))\n",
        "\n",
        "print(tabulate(entity_label_description,\n",
        "               headers=(\"Entity text\", \"Entity label\", \"Entity description\")))"
      ],
      "metadata": {
        "colab": {
          "base_uri": "https://localhost:8080/"
        },
        "id": "cKT3bYEerBIs",
        "outputId": "ad9d8598-438b-45d7-f41b-b6dca13427ed"
      },
      "execution_count": 15,
      "outputs": [
        {
          "output_type": "stream",
          "name": "stdout",
          "text": [
            "Entity text    Entity label    Entity description\n",
            "-------------  --------------  ---------------------------------------------------\n",
            "AEI            ORG             Companies, agencies, institutions, etc.\n",
            "a few hours    TIME            Times smaller than a day\n",
            "Mars           LOC             Non-GPE locations, mountain ranges, bodies of water\n",
            "Trump          ORG             Companies, agencies, institutions, etc.\n"
          ]
        }
      ]
    },
    {
      "cell_type": "markdown",
      "metadata": {
        "id": "dEcoMT4S_8xu"
      },
      "source": [
        "<!--@slideshow slide-->\n",
        "## Customizing pipelines\n",
        "- By default, spaCy includes several components in NLP pipeline.\n",
        "- However, each component delays text processing.\n",
        "- It is recommended to keep only necessary parts of the pipeline."
      ]
    },
    {
      "cell_type": "code",
      "execution_count": 16,
      "metadata": {
        "id": "pid1uZWrhe_k"
      },
      "outputs": [],
      "source": [
        "#@slideshow slide\n",
        "# load tagger, parser, ner\n",
        "nlp_all = spacy.load(\"en_core_web_sm\")"
      ]
    },
    {
      "cell_type": "code",
      "execution_count": 17,
      "metadata": {
        "colab": {
          "base_uri": "https://localhost:8080/"
        },
        "id": "OcMu0NoCBub5",
        "outputId": "6209d4e2-7a15-4740-bee8-7861fc57c815"
      },
      "outputs": [
        {
          "output_type": "stream",
          "name": "stdout",
          "text": [
            "904 ms ± 10 ms per loop (mean ± std. dev. of 7 runs, 1 loop each)\n"
          ]
        }
      ],
      "source": [
        "#@slideshow fragment\n",
        "%%timeit\n",
        "for tweet in tweets[:100]:\n",
        "    nlp_all(tweet)"
      ]
    },
    {
      "cell_type": "code",
      "execution_count": 18,
      "metadata": {
        "id": "VFXzTqIRhiWG"
      },
      "outputs": [],
      "source": [
        "#@slideshow fragment\n",
        "# load tagger only\n",
        "nlp_tagger = spacy.load(\"en_core_web_sm\",\n",
        "                        disable=[\"parser\", \"ner\", \"tok2vec\"])"
      ]
    },
    {
      "cell_type": "code",
      "execution_count": 19,
      "metadata": {
        "colab": {
          "base_uri": "https://localhost:8080/"
        },
        "id": "nPAWGMz-B8Qa",
        "outputId": "65309143-8973-40f5-9adb-11ac34d2efb8"
      },
      "outputs": [
        {
          "output_type": "stream",
          "name": "stdout",
          "text": [
            "87.2 ms ± 1.18 ms per loop (mean ± std. dev. of 7 runs, 10 loops each)\n"
          ]
        }
      ],
      "source": [
        "#@slideshow fragment\n",
        "%%timeit\n",
        "for tweet in tweets[:100]:\n",
        "    nlp_tagger(tweet)"
      ]
    },
    {
      "cell_type": "code",
      "execution_count": 20,
      "metadata": {
        "id": "Mwei-aDnhlpg"
      },
      "outputs": [],
      "source": [
        "#@slideshow fragment\n",
        "# disable everything\n",
        "nlp_none = spacy.load(\"en_core_web_sm\",\n",
        "                      disable=[\"parser\", \"ner\", \"tagger\", \"tok2vec\"])"
      ]
    },
    {
      "cell_type": "code",
      "execution_count": 21,
      "metadata": {
        "colab": {
          "base_uri": "https://localhost:8080/"
        },
        "id": "dvcPlvgrCSBF",
        "outputId": "91302d4d-7bd6-4e73-beb1-662d590f2fe4"
      },
      "outputs": [
        {
          "output_type": "stream",
          "name": "stderr",
          "text": [
            "/usr/local/lib/python3.8/dist-packages/spacy/pipeline/lemmatizer.py:211: UserWarning: [W108] The rule-based lemmatizer did not find POS annotation for one or more tokens. Check that your pipeline includes components that assign token.pos, typically 'tagger'+'attribute_ruler' or 'morphologizer'.\n",
            "  warnings.warn(Warnings.W108)\n"
          ]
        },
        {
          "output_type": "stream",
          "name": "stdout",
          "text": [
            "43.8 ms ± 925 µs per loop (mean ± std. dev. of 7 runs, 10 loops each)\n"
          ]
        }
      ],
      "source": [
        "#@slideshow fragment\n",
        "%%timeit\n",
        "for tweet in tweets[:100]:\n",
        "    nlp_none(tweet)"
      ]
    },
    {
      "cell_type": "markdown",
      "metadata": {
        "id": "7toJBeGZvyWC"
      },
      "source": [
        "<!--@slideshow slide-->\n",
        "## Colab quiz 3"
      ]
    },
    {
      "cell_type": "code",
      "execution_count": 36,
      "metadata": {
        "colab": {
          "base_uri": "https://localhost:8080/",
          "height": 241,
          "referenced_widgets": [
            "2135e23421c44645958e522bf7adefae",
            "89f991b11b4d40469cad1c63c04f9294",
            "35ace2caa2624bac9b97f8e5034a4a37",
            "8e5112f8665a43329b813eaaa2ea921f",
            "f15ec6d18cb040a4b09222bd201d6eac",
            "05c37c0fa48f43b5826506257de3fa30",
            "e56ff299da1f49b9af4cc3acaaa88458",
            "4183c93baf4a4efd9d69d24ce6ff2ff2",
            "b0c00588ea3f4349857718a447d2d0d2",
            "d508941d13074e85a20e7c746e6811fc",
            "f94f7065f12f4ce5acb0a3e7b77ceafa"
          ]
        },
        "id": "fn04MxvOv0G3",
        "outputId": "92f819bc-7b95-4649-d7f9-aec1c342c53b"
      },
      "outputs": [
        {
          "output_type": "display_data",
          "data": {
            "text/plain": [
              "VBox(children=(HTML(value='Return the set of all named entity labels found in the text<hr>'), HTML(value='Samp…"
            ],
            "application/vnd.jupyter.widget-view+json": {
              "version_major": 2,
              "version_minor": 0,
              "model_id": "2135e23421c44645958e522bf7adefae"
            }
          },
          "metadata": {}
        }
      ],
      "source": [
        "def solution(s: str) -> set:\n",
        "    import spacy\n",
        "    nlp = spacy.load(\"en_core_web_sm\")\n",
        "    return(set(ent.label_ for ent in nlp(s).ents))\n",
        "\n",
        "check_solution = quiz_ner()\n",
        "check_solution(solution)"
      ]
    },
    {
      "cell_type": "markdown",
      "metadata": {
        "id": "ZewRwlfo6FH8"
      },
      "source": [
        "<!--@slideshow slide-->\n",
        "# In-class coding session: `spacy`\n",
        "\n",
        "\n"
      ]
    },
    {
      "cell_type": "markdown",
      "metadata": {
        "id": "E08iHwZMjCZ9"
      },
      "source": [
        "## Exercise 1\n",
        "\n",
        "Compute the average number of tokens in Musk tweets, the number of unique tokens, and draw the distrubution of the number of tokens (like we did at the beginning for characters).\n",
        "\n",
        "**Hints**\n",
        "- Disable `tagger`, `parser`, `ner` and `tok2vec` to speed up computations.\n",
        "- Use `tqdm` to show progress bar (instead `for x in lst` just write `for x in tqdm(lst)`)."
      ]
    },
    {
      "cell_type": "code",
      "execution_count": 42,
      "metadata": {
        "id": "YWFMGzoNjEbk",
        "outputId": "3d90ec89-8208-4df8-c2c4-6d014b49e5d5",
        "colab": {
          "base_uri": "https://localhost:8080/",
          "height": 347,
          "referenced_widgets": [
            "fa75d7374a3942029ff5ab9c3bb4becd",
            "64f6d36ae672407c87be13c0b763f58b",
            "2c2c4f95064e42f5abbc5909bc48e8fc",
            "449163dc51b64e289a08e127b332b9c1",
            "0cd3ff52ad9749c18477586ca6a67146",
            "0e28144437794a7789dde099de18040f",
            "387e81a98f0c4f0dbd7f72630113739b",
            "db88e6d09be04709b71e5449fbd461a2",
            "cef1d467ba024c94a4c3690b6ac73a38",
            "d2a8ab801cc14cf7a86f73942d26e647",
            "d50aff36af6048d19555ad4c863bfed5"
          ]
        }
      },
      "outputs": [
        {
          "output_type": "display_data",
          "data": {
            "text/plain": [
              "  0%|          | 0/43074 [00:00<?, ?it/s]"
            ],
            "application/vnd.jupyter.widget-view+json": {
              "version_major": 2,
              "version_minor": 0,
              "model_id": "fa75d7374a3942029ff5ab9c3bb4becd"
            }
          },
          "metadata": {}
        },
        {
          "output_type": "stream",
          "name": "stdout",
          "text": [
            "Average number of tokens: 16.728699447462507\n",
            "Number of unique tokens: 22435\n"
          ]
        },
        {
          "output_type": "display_data",
          "data": {
            "text/plain": [
              "<Figure size 432x288 with 1 Axes>"
            ],
            "image/png": "[encoded data removed]"
          },
          "metadata": {
            "needs_background": "light"
          }
        }
      ],
      "source": [
        "import spacy\n",
        "from tqdm.notebook import tqdm  # progress bar\n",
        "nlp = English()\n",
        "tokenized_tweets = []\n",
        "for tweet in tqdm(tweets):\n",
        "    doc = nlp(tweet)\n",
        "    tokenized_tweets.append([token.text for token in doc])\n",
        "\n",
        "total_tokens = 0\n",
        "for tweet in tokenized_tweets:\n",
        "    total_tokens += len(tweet)\n",
        "average_tokens = total_tokens / len(tokenized_tweets)\n",
        "print(\"Average number of tokens:\", average_tokens)\n",
        "unique_tokens = set()\n",
        "for tweet in tokenized_tweets:\n",
        "    for token in tweet:\n",
        "        unique_tokens.add(token)\n",
        "print(\"Number of unique tokens:\", len(unique_tokens))\n",
        "num_tokens = [len(tweet) for tweet in tokenized_tweets]\n",
        "plt.hist(num_tokens, bins=20)\n",
        "plt.xlabel(\"Number of Tokens\")\n",
        "plt.ylabel(\"Frequency\")\n",
        "plt.show()"
      ]
    },
    {
      "cell_type": "markdown",
      "metadata": {
        "id": "o7FoW3mnjYHu"
      },
      "source": [
        "## Exercise 2\n",
        "\n",
        "Find 10 lemmas that have the largest number of **unique** forms.\n",
        "\n",
        "For example, the text “Is is are are” contains _three_ distinct forms of the lemma “be”: “Is”, “is”, “are”.\n",
        "\n",
        "**Hints**\n",
        "- Disable `parser`, `ner` and `tok2vec` to speed up computations.\n",
        "- Use `tqdm` to show progress bar.\n",
        "- Debug on a small subset of tweets, then compute on the full dataset.\n",
        "- Lemma is stored in `.lemma_` attribute of spaCy token, form is the token text in the attribute `.text`.\n",
        "- You may need `collections.defaultdict`"
      ]
    },
    {
      "cell_type": "code",
      "execution_count": 24,
      "metadata": {
        "id": "5JJuuAS7jhMP"
      },
      "outputs": [],
      "source": [
        "from collections import defaultdict\n",
        "from tqdm.notebook import tqdm\n",
        "\n",
        "# YOUR CODE HERE"
      ]
    },
    {
      "cell_type": "markdown",
      "metadata": {
        "id": "xT0eQtwsmwkd"
      },
      "source": [
        "## Exercise 3\n",
        "\n",
        "1. How many tweets contain named entities?\n",
        "2. What are top-5 most popular entity labels?\n",
        "\n",
        "**Hints**:\n",
        "- Disable `parser`, `tagger` and `tok2vec` to speed up computations.\n",
        "- Use `tqdm` to show progress bar.\n",
        "- Debug on a small subset of tweets, then compute on the full dataset.\n",
        "- You may need `collections.Counter`"
      ]
    },
    {
      "cell_type": "code",
      "execution_count": 25,
      "metadata": {
        "id": "nmjgZudlnG00"
      },
      "outputs": [],
      "source": [
        "import spacy\n",
        "from collections import Counter\n",
        "from tqdm.notebook import tqdm\n",
        "\n",
        "# YOUR CODE HERE"
      ]
    }
  ],
  "metadata": {
    "colab": {
      "provenance": [],
      "toc_visible": true,
      "include_colab_link": true
    },
    "kernelspec": {
      "display_name": "Python 3",
      "name": "python3"
    },
    "widgets": {
      "application/vnd.jupyter.widget-state+json": {
        "ed84639f06314c218296a6d203ec6ebc": {
          "model_module": "@jupyter-widgets/controls",
          "model_name": "HBoxModel",
          "model_module_version": "1.5.0",
          "state": {
            "_dom_classes": [],
            "_model_module": "@jupyter-widgets/controls",
            "_model_module_version": "1.5.0",
            "_model_name": "HBoxModel",
            "_view_count": null,
            "_view_module": "@jupyter-widgets/controls",
            "_view_module_version": "1.5.0",
            "_view_name": "HBoxView",
            "box_style": "",
            "children": [
              "IPY_MODEL_39cbeaff2b874e8cb7aece6c30199e79",
              "IPY_MODEL_ae322b07fb3649858417a53dee58c2ce",
              "IPY_MODEL_464de3795f254f59b003db94a787cd19"
            ],
            "layout": "IPY_MODEL_80e0af4da4d14df393c54f090a1f3985"
          }
        },
        "39cbeaff2b874e8cb7aece6c30199e79": {
          "model_module": "@jupyter-widgets/controls",
          "model_name": "HTMLModel",
          "model_module_version": "1.5.0",
          "state": {
            "_dom_classes": [],
            "_model_module": "@jupyter-widgets/controls",
            "_model_module_version": "1.5.0",
            "_model_name": "HTMLModel",
            "_view_count": null,
            "_view_module": "@jupyter-widgets/controls",
            "_view_module_version": "1.5.0",
            "_view_name": "HTMLView",
            "description": "",
            "description_tooltip": null,
            "layout": "IPY_MODEL_a8cbbfc2385c4a8bb3dc9e5f90a73b22",
            "placeholder": "​",
            "style": "IPY_MODEL_5b47c818426048899aa917c448987da7",
            "value": "100%"
          }
        },
        "ae322b07fb3649858417a53dee58c2ce": {
          "model_module": "@jupyter-widgets/controls",
          "model_name": "FloatProgressModel",
          "model_module_version": "1.5.0",
          "state": {
            "_dom_classes": [],
            "_model_module": "@jupyter-widgets/controls",
            "_model_module_version": "1.5.0",
            "_model_name": "FloatProgressModel",
            "_view_count": null,
            "_view_module": "@jupyter-widgets/controls",
            "_view_module_version": "1.5.0",
            "_view_name": "ProgressView",
            "bar_style": "success",
            "description": "",
            "description_tooltip": null,
            "layout": "IPY_MODEL_59868e7bd034402ab0450ed4dbdb0b30",
            "max": 43074,
            "min": 0,
            "orientation": "horizontal",
            "style": "IPY_MODEL_d060db724f624db3b96b264db937406c",
            "value": 43074
          }
        },
        "464de3795f254f59b003db94a787cd19": {
          "model_module": "@jupyter-widgets/controls",
          "model_name": "HTMLModel",
          "model_module_version": "1.5.0",
          "state": {
            "_dom_classes": [],
            "_model_module": "@jupyter-widgets/controls",
            "_model_module_version": "1.5.0",
            "_model_name": "HTMLModel",
            "_view_count": null,
            "_view_module": "@jupyter-widgets/controls",
            "_view_module_version": "1.5.0",
            "_view_name": "HTMLView",
            "description": "",
            "description_tooltip": null,
            "layout": "IPY_MODEL_7ad172fbff544a3ab33e5c5d52807f9e",
            "placeholder": "​",
            "style": "IPY_MODEL_200cfab8681d4fdc81931fcdae1b6d1e",
            "value": " 43074/43074 [00:04&lt;00:00, 13364.47it/s]"
          }
        },
        "80e0af4da4d14df393c54f090a1f3985": {
          "model_module": "@jupyter-widgets/base",
          "model_name": "LayoutModel",
          "model_module_version": "1.2.0",
          "state": {
            "_model_module": "@jupyter-widgets/base",
            "_model_module_version": "1.2.0",
            "_model_name": "LayoutModel",
            "_view_count": null,
            "_view_module": "@jupyter-widgets/base",
            "_view_module_version": "1.2.0",
            "_view_name": "LayoutView",
            "align_content": null,
            "align_items": null,
            "align_self": null,
            "border": null,
            "bottom": null,
            "display": null,
            "flex": null,
            "flex_flow": null,
            "grid_area": null,
            "grid_auto_columns": null,
            "grid_auto_flow": null,
            "grid_auto_rows": null,
            "grid_column": null,
            "grid_gap": null,
            "grid_row": null,
            "grid_template_areas": null,
            "grid_template_columns": null,
            "grid_template_rows": null,
            "height": null,
            "justify_content": null,
            "justify_items": null,
            "left": null,
            "margin": null,
            "max_height": null,
            "max_width": null,
            "min_height": null,
            "min_width": null,
            "object_fit": null,
            "object_position": null,
            "order": null,
            "overflow": null,
            "overflow_x": null,
            "overflow_y": null,
            "padding": null,
            "right": null,
            "top": null,
            "visibility": null,
            "width": null
          }
        },
        "a8cbbfc2385c4a8bb3dc9e5f90a73b22": {
          "model_module": "@jupyter-widgets/base",
          "model_name": "LayoutModel",
          "model_module_version": "1.2.0",
          "state": {
            "_model_module": "@jupyter-widgets/base",
            "_model_module_version": "1.2.0",
            "_model_name": "LayoutModel",
            "_view_count": null,
            "_view_module": "@jupyter-widgets/base",
            "_view_module_version": "1.2.0",
            "_view_name": "LayoutView",
            "align_content": null,
            "align_items": null,
            "align_self": null,
            "border": null,
            "bottom": null,
            "display": null,
            "flex": null,
            "flex_flow": null,
            "grid_area": null,
            "grid_auto_columns": null,
            "grid_auto_flow": null,
            "grid_auto_rows": null,
            "grid_column": null,
            "grid_gap": null,
            "grid_row": null,
            "grid_template_areas": null,
            "grid_template_columns": null,
            "grid_template_rows": null,
            "height": null,
            "justify_content": null,
            "justify_items": null,
            "left": null,
            "margin": null,
            "max_height": null,
            "max_width": null,
            "min_height": null,
            "min_width": null,
            "object_fit": null,
            "object_position": null,
            "order": null,
            "overflow": null,
            "overflow_x": null,
            "overflow_y": null,
            "padding": null,
            "right": null,
            "top": null,
            "visibility": null,
            "width": null
          }
        },
        "5b47c818426048899aa917c448987da7": {
          "model_module": "@jupyter-widgets/controls",
          "model_name": "DescriptionStyleModel",
          "model_module_version": "1.5.0",
          "state": {
            "_model_module": "@jupyter-widgets/controls",
            "_model_module_version": "1.5.0",
            "_model_name": "DescriptionStyleModel",
            "_view_count": null,
            "_view_module": "@jupyter-widgets/base",
            "_view_module_version": "1.2.0",
            "_view_name": "StyleView",
            "description_width": ""
          }
        },
        "59868e7bd034402ab0450ed4dbdb0b30": {
          "model_module": "@jupyter-widgets/base",
          "model_name": "LayoutModel",
          "model_module_version": "1.2.0",
          "state": {
            "_model_module": "@jupyter-widgets/base",
            "_model_module_version": "1.2.0",
            "_model_name": "LayoutModel",
            "_view_count": null,
            "_view_module": "@jupyter-widgets/base",
            "_view_module_version": "1.2.0",
            "_view_name": "LayoutView",
            "align_content": null,
            "align_items": null,
            "align_self": null,
            "border": null,
            "bottom": null,
            "display": null,
            "flex": null,
            "flex_flow": null,
            "grid_area": null,
            "grid_auto_columns": null,
            "grid_auto_flow": null,
            "grid_auto_rows": null,
            "grid_column": null,
            "grid_gap": null,
            "grid_row": null,
            "grid_template_areas": null,
            "grid_template_columns": null,
            "grid_template_rows": null,
            "height": null,
            "justify_content": null,
            "justify_items": null,
            "left": null,
            "margin": null,
            "max_height": null,
            "max_width": null,
            "min_height": null,
            "min_width": null,
            "object_fit": null,
            "object_position": null,
            "order": null,
            "overflow": null,
            "overflow_x": null,
            "overflow_y": null,
            "padding": null,
            "right": null,
            "top": null,
            "visibility": null,
            "width": null
          }
        },
        "d060db724f624db3b96b264db937406c": {
          "model_module": "@jupyter-widgets/controls",
          "model_name": "ProgressStyleModel",
          "model_module_version": "1.5.0",
          "state": {
            "_model_module": "@jupyter-widgets/controls",
            "_model_module_version": "1.5.0",
            "_model_name": "ProgressStyleModel",
            "_view_count": null,
            "_view_module": "@jupyter-widgets/base",
            "_view_module_version": "1.2.0",
            "_view_name": "StyleView",
            "bar_color": null,
            "description_width": ""
          }
        },
        "7ad172fbff544a3ab33e5c5d52807f9e": {
          "model_module": "@jupyter-widgets/base",
          "model_name": "LayoutModel",
          "model_module_version": "1.2.0",
          "state": {
            "_model_module": "@jupyter-widgets/base",
            "_model_module_version": "1.2.0",
            "_model_name": "LayoutModel",
            "_view_count": null,
            "_view_module": "@jupyter-widgets/base",
            "_view_module_version": "1.2.0",
            "_view_name": "LayoutView",
            "align_content": null,
            "align_items": null,
            "align_self": null,
            "border": null,
            "bottom": null,
            "display": null,
            "flex": null,
            "flex_flow": null,
            "grid_area": null,
            "grid_auto_columns": null,
            "grid_auto_flow": null,
            "grid_auto_rows": null,
            "grid_column": null,
            "grid_gap": null,
            "grid_row": null,
            "grid_template_areas": null,
            "grid_template_columns": null,
            "grid_template_rows": null,
            "height": null,
            "justify_content": null,
            "justify_items": null,
            "left": null,
            "margin": null,
            "max_height": null,
            "max_width": null,
            "min_height": null,
            "min_width": null,
            "object_fit": null,
            "object_position": null,
            "order": null,
            "overflow": null,
            "overflow_x": null,
            "overflow_y": null,
            "padding": null,
            "right": null,
            "top": null,
            "visibility": null,
            "width": null
          }
        },
        "200cfab8681d4fdc81931fcdae1b6d1e": {
          "model_module": "@jupyter-widgets/controls",
          "model_name": "DescriptionStyleModel",
          "model_module_version": "1.5.0",
          "state": {
            "_model_module": "@jupyter-widgets/controls",
            "_model_module_version": "1.5.0",
            "_model_name": "DescriptionStyleModel",
            "_view_count": null,
            "_view_module": "@jupyter-widgets/base",
            "_view_module_version": "1.2.0",
            "_view_name": "StyleView",
            "description_width": ""
          }
        },
        "5b9eae23e7054f8da7e6b0e1456efd39": {
          "model_module": "@jupyter-widgets/controls",
          "model_name": "VBoxModel",
          "model_module_version": "1.5.0",
          "state": {
            "_dom_classes": [],
            "_model_module": "@jupyter-widgets/controls",
            "_model_module_version": "1.5.0",
            "_model_name": "VBoxModel",
            "_view_count": null,
            "_view_module": "@jupyter-widgets/controls",
            "_view_module_version": "1.5.0",
            "_view_name": "VBoxView",
            "box_style": "",
            "children": [
              "IPY_MODEL_8836416df2364446bf219100fe471933",
              "IPY_MODEL_d5dbca91bc714b9ab2c3bc18940dabed",
              "IPY_MODEL_2b6db444a1d44865a6fd150907593daf"
            ],
            "layout": "IPY_MODEL_990d75e8d95b42f190549814dfb60ca9"
          }
        },
        "8836416df2364446bf219100fe471933": {
          "model_module": "@jupyter-widgets/controls",
          "model_name": "HTMLModel",
          "model_module_version": "1.5.0",
          "state": {
            "_dom_classes": [],
            "_model_module": "@jupyter-widgets/controls",
            "_model_module_version": "1.5.0",
            "_model_name": "HTMLModel",
            "_view_count": null,
            "_view_module": "@jupyter-widgets/controls",
            "_view_module_version": "1.5.0",
            "_view_name": "HTMLView",
            "description": "",
            "description_tooltip": null,
            "layout": "IPY_MODEL_3163d20fc3154383b4b317f0fdece395",
            "placeholder": "​",
            "style": "IPY_MODEL_f129637a0d1442f38fb7e68195f63bfe",
            "value": "Compute the number of tokens in an input string using spaCy.<hr>"
          }
        },
        "d5dbca91bc714b9ab2c3bc18940dabed": {
          "model_module": "@jupyter-widgets/controls",
          "model_name": "HTMLModel",
          "model_module_version": "1.5.0",
          "state": {
            "_dom_classes": [],
            "_model_module": "@jupyter-widgets/controls",
            "_model_module_version": "1.5.0",
            "_model_name": "HTMLModel",
            "_view_count": null,
            "_view_module": "@jupyter-widgets/controls",
            "_view_module_version": "1.5.0",
            "_view_name": "HTMLView",
            "description": "",
            "description_tooltip": null,
            "layout": "IPY_MODEL_a0c4341cd2114d02af28079ee5d984e7",
            "placeholder": "​",
            "style": "IPY_MODEL_fc0b7ae1110e41b2bfd46590b894c12f",
            "value": "Sample input-output pairs:<br><table>\n<thead>\n<tr><th>input                                    </th><th style=\"text-align: right;\">  output</th></tr>\n</thead>\n<tbody>\n<tr><td>(&#x27;This is a text.&#x27;,)                     </td><td style=\"text-align: right;\">       5</td></tr>\n<tr><td>(&quot;Don&#x27;t reinvent the wheel, use spaCy.&quot;,)</td><td style=\"text-align: right;\">       9</td></tr>\n</tbody>\n</table><hr>"
          }
        },
        "2b6db444a1d44865a6fd150907593daf": {
          "model_module": "@jupyter-widgets/controls",
          "model_name": "HTMLModel",
          "model_module_version": "1.5.0",
          "state": {
            "_dom_classes": [],
            "_model_module": "@jupyter-widgets/controls",
            "_model_module_version": "1.5.0",
            "_model_name": "HTMLModel",
            "_view_count": null,
            "_view_module": "@jupyter-widgets/controls",
            "_view_module_version": "1.5.0",
            "_view_name": "HTMLView",
            "description": "",
            "description_tooltip": null,
            "layout": "IPY_MODEL_81722c9baf4c47ba9835e7947e94d9b9",
            "placeholder": "​",
            "style": "IPY_MODEL_51826415b136421a9c2d98ab94cb5769",
            "value": "<font color='green'>All 5 tests passed</font>"
          }
        },
        "990d75e8d95b42f190549814dfb60ca9": {
          "model_module": "@jupyter-widgets/base",
          "model_name": "LayoutModel",
          "model_module_version": "1.2.0",
          "state": {
            "_model_module": "@jupyter-widgets/base",
            "_model_module_version": "1.2.0",
            "_model_name": "LayoutModel",
            "_view_count": null,
            "_view_module": "@jupyter-widgets/base",
            "_view_module_version": "1.2.0",
            "_view_name": "LayoutView",
            "align_content": null,
            "align_items": null,
            "align_self": null,
            "border": null,
            "bottom": null,
            "display": null,
            "flex": null,
            "flex_flow": null,
            "grid_area": null,
            "grid_auto_columns": null,
            "grid_auto_flow": null,
            "grid_auto_rows": null,
            "grid_column": null,
            "grid_gap": null,
            "grid_row": null,
            "grid_template_areas": null,
            "grid_template_columns": null,
            "grid_template_rows": null,
            "height": null,
            "justify_content": null,
            "justify_items": null,
            "left": null,
            "margin": null,
            "max_height": null,
            "max_width": null,
            "min_height": null,
            "min_width": null,
            "object_fit": null,
            "object_position": null,
            "order": null,
            "overflow": null,
            "overflow_x": null,
            "overflow_y": null,
            "padding": null,
            "right": null,
            "top": null,
            "visibility": null,
            "width": null
          }
        },
        "3163d20fc3154383b4b317f0fdece395": {
          "model_module": "@jupyter-widgets/base",
          "model_name": "LayoutModel",
          "model_module_version": "1.2.0",
          "state": {
            "_model_module": "@jupyter-widgets/base",
            "_model_module_version": "1.2.0",
            "_model_name": "LayoutModel",
            "_view_count": null,
            "_view_module": "@jupyter-widgets/base",
            "_view_module_version": "1.2.0",
            "_view_name": "LayoutView",
            "align_content": null,
            "align_items": null,
            "align_self": null,
            "border": null,
            "bottom": null,
            "display": null,
            "flex": null,
            "flex_flow": null,
            "grid_area": null,
            "grid_auto_columns": null,
            "grid_auto_flow": null,
            "grid_auto_rows": null,
            "grid_column": null,
            "grid_gap": null,
            "grid_row": null,
            "grid_template_areas": null,
            "grid_template_columns": null,
            "grid_template_rows": null,
            "height": null,
            "justify_content": null,
            "justify_items": null,
            "left": null,
            "margin": null,
            "max_height": null,
            "max_width": null,
            "min_height": null,
            "min_width": null,
            "object_fit": null,
            "object_position": null,
            "order": null,
            "overflow": null,
            "overflow_x": null,
            "overflow_y": null,
            "padding": null,
            "right": null,
            "top": null,
            "visibility": null,
            "width": null
          }
        },
        "f129637a0d1442f38fb7e68195f63bfe": {
          "model_module": "@jupyter-widgets/controls",
          "model_name": "DescriptionStyleModel",
          "model_module_version": "1.5.0",
          "state": {
            "_model_module": "@jupyter-widgets/controls",
            "_model_module_version": "1.5.0",
            "_model_name": "DescriptionStyleModel",
            "_view_count": null,
            "_view_module": "@jupyter-widgets/base",
            "_view_module_version": "1.2.0",
            "_view_name": "StyleView",
            "description_width": ""
          }
        },
        "a0c4341cd2114d02af28079ee5d984e7": {
          "model_module": "@jupyter-widgets/base",
          "model_name": "LayoutModel",
          "model_module_version": "1.2.0",
          "state": {
            "_model_module": "@jupyter-widgets/base",
            "_model_module_version": "1.2.0",
            "_model_name": "LayoutModel",
            "_view_count": null,
            "_view_module": "@jupyter-widgets/base",
            "_view_module_version": "1.2.0",
            "_view_name": "LayoutView",
            "align_content": null,
            "align_items": null,
            "align_self": null,
            "border": null,
            "bottom": null,
            "display": null,
            "flex": null,
            "flex_flow": null,
            "grid_area": null,
            "grid_auto_columns": null,
            "grid_auto_flow": null,
            "grid_auto_rows": null,
            "grid_column": null,
            "grid_gap": null,
            "grid_row": null,
            "grid_template_areas": null,
            "grid_template_columns": null,
            "grid_template_rows": null,
            "height": null,
            "justify_content": null,
            "justify_items": null,
            "left": null,
            "margin": null,
            "max_height": null,
            "max_width": null,
            "min_height": null,
            "min_width": null,
            "object_fit": null,
            "object_position": null,
            "order": null,
            "overflow": null,
            "overflow_x": null,
            "overflow_y": null,
            "padding": null,
            "right": null,
            "top": null,
            "visibility": null,
            "width": null
          }
        },
        "fc0b7ae1110e41b2bfd46590b894c12f": {
          "model_module": "@jupyter-widgets/controls",
          "model_name": "DescriptionStyleModel",
          "model_module_version": "1.5.0",
          "state": {
            "_model_module": "@jupyter-widgets/controls",
            "_model_module_version": "1.5.0",
            "_model_name": "DescriptionStyleModel",
            "_view_count": null,
            "_view_module": "@jupyter-widgets/base",
            "_view_module_version": "1.2.0",
            "_view_name": "StyleView",
            "description_width": ""
          }
        },
        "81722c9baf4c47ba9835e7947e94d9b9": {
          "model_module": "@jupyter-widgets/base",
          "model_name": "LayoutModel",
          "model_module_version": "1.2.0",
          "state": {
            "_model_module": "@jupyter-widgets/base",
            "_model_module_version": "1.2.0",
            "_model_name": "LayoutModel",
            "_view_count": null,
            "_view_module": "@jupyter-widgets/base",
            "_view_module_version": "1.2.0",
            "_view_name": "LayoutView",
            "align_content": null,
            "align_items": null,
            "align_self": null,
            "border": null,
            "bottom": null,
            "display": null,
            "flex": null,
            "flex_flow": null,
            "grid_area": null,
            "grid_auto_columns": null,
            "grid_auto_flow": null,
            "grid_auto_rows": null,
            "grid_column": null,
            "grid_gap": null,
            "grid_row": null,
            "grid_template_areas": null,
            "grid_template_columns": null,
            "grid_template_rows": null,
            "height": null,
            "justify_content": null,
            "justify_items": null,
            "left": null,
            "margin": null,
            "max_height": null,
            "max_width": null,
            "min_height": null,
            "min_width": null,
            "object_fit": null,
            "object_position": null,
            "order": null,
            "overflow": null,
            "overflow_x": null,
            "overflow_y": null,
            "padding": null,
            "right": null,
            "top": null,
            "visibility": null,
            "width": null
          }
        },
        "51826415b136421a9c2d98ab94cb5769": {
          "model_module": "@jupyter-widgets/controls",
          "model_name": "DescriptionStyleModel",
          "model_module_version": "1.5.0",
          "state": {
            "_model_module": "@jupyter-widgets/controls",
            "_model_module_version": "1.5.0",
            "_model_name": "DescriptionStyleModel",
            "_view_count": null,
            "_view_module": "@jupyter-widgets/base",
            "_view_module_version": "1.2.0",
            "_view_name": "StyleView",
            "description_width": ""
          }
        },
        "b1150ebe11d7402182d58fa69aa7706c": {
          "model_module": "@jupyter-widgets/controls",
          "model_name": "VBoxModel",
          "model_module_version": "1.5.0",
          "state": {
            "_dom_classes": [],
            "_model_module": "@jupyter-widgets/controls",
            "_model_module_version": "1.5.0",
            "_model_name": "VBoxModel",
            "_view_count": null,
            "_view_module": "@jupyter-widgets/controls",
            "_view_module_version": "1.5.0",
            "_view_name": "VBoxView",
            "box_style": "",
            "children": [
              "IPY_MODEL_d71436d64928474b9dc35ea743105ef1",
              "IPY_MODEL_9fea67f62b9d4aa58b21cfc0bd5a1332",
              "IPY_MODEL_3e8c92ffd4bd40f1ad21d55907ef0365"
            ],
            "layout": "IPY_MODEL_6ffe980e61274233895b16e6ddc31f32"
          }
        },
        "d71436d64928474b9dc35ea743105ef1": {
          "model_module": "@jupyter-widgets/controls",
          "model_name": "HTMLModel",
          "model_module_version": "1.5.0",
          "state": {
            "_dom_classes": [],
            "_model_module": "@jupyter-widgets/controls",
            "_model_module_version": "1.5.0",
            "_model_name": "HTMLModel",
            "_view_count": null,
            "_view_module": "@jupyter-widgets/controls",
            "_view_module_version": "1.5.0",
            "_view_name": "HTMLView",
            "description": "",
            "description_tooltip": null,
            "layout": "IPY_MODEL_9fa6518df4ca44168b602804f32bc033",
            "placeholder": "​",
            "style": "IPY_MODEL_9d48f3a4c4e44559a0a72bf5386c0d66",
            "value": "Compute the number of unique lemmas in the input string<hr>"
          }
        },
        "9fea67f62b9d4aa58b21cfc0bd5a1332": {
          "model_module": "@jupyter-widgets/controls",
          "model_name": "HTMLModel",
          "model_module_version": "1.5.0",
          "state": {
            "_dom_classes": [],
            "_model_module": "@jupyter-widgets/controls",
            "_model_module_version": "1.5.0",
            "_model_name": "HTMLModel",
            "_view_count": null,
            "_view_module": "@jupyter-widgets/controls",
            "_view_module_version": "1.5.0",
            "_view_name": "HTMLView",
            "description": "",
            "description_tooltip": null,
            "layout": "IPY_MODEL_157080b189754ffb8bfa335f8bae8f9c",
            "placeholder": "​",
            "style": "IPY_MODEL_3fd10e9ef20349019b3d512913e1b7df",
            "value": "Sample input-output pairs:<br><table>\n<thead>\n<tr><th>input                                                               </th><th style=\"text-align: right;\">  output</th></tr>\n</thead>\n<tbody>\n<tr><td>(&#x27;Let it be, let it be&#x27;,)                                           </td><td style=\"text-align: right;\">       4</td></tr>\n<tr><td>(&#x27;When I find myself in times of trouble, Mother Mary comes to me&#x27;,)</td><td style=\"text-align: right;\">      13</td></tr>\n</tbody>\n</table><hr>"
          }
        },
        "3e8c92ffd4bd40f1ad21d55907ef0365": {
          "model_module": "@jupyter-widgets/controls",
          "model_name": "HTMLModel",
          "model_module_version": "1.5.0",
          "state": {
            "_dom_classes": [],
            "_model_module": "@jupyter-widgets/controls",
            "_model_module_version": "1.5.0",
            "_model_name": "HTMLModel",
            "_view_count": null,
            "_view_module": "@jupyter-widgets/controls",
            "_view_module_version": "1.5.0",
            "_view_name": "HTMLView",
            "description": "",
            "description_tooltip": null,
            "layout": "IPY_MODEL_18e9561f06d742859099b38339525313",
            "placeholder": "​",
            "style": "IPY_MODEL_314bfb456f1349068df747339c3c0e2d",
            "value": "<font color='green'>All 6 tests passed</font>"
          }
        },
        "6ffe980e61274233895b16e6ddc31f32": {
          "model_module": "@jupyter-widgets/base",
          "model_name": "LayoutModel",
          "model_module_version": "1.2.0",
          "state": {
            "_model_module": "@jupyter-widgets/base",
            "_model_module_version": "1.2.0",
            "_model_name": "LayoutModel",
            "_view_count": null,
            "_view_module": "@jupyter-widgets/base",
            "_view_module_version": "1.2.0",
            "_view_name": "LayoutView",
            "align_content": null,
            "align_items": null,
            "align_self": null,
            "border": null,
            "bottom": null,
            "display": null,
            "flex": null,
            "flex_flow": null,
            "grid_area": null,
            "grid_auto_columns": null,
            "grid_auto_flow": null,
            "grid_auto_rows": null,
            "grid_column": null,
            "grid_gap": null,
            "grid_row": null,
            "grid_template_areas": null,
            "grid_template_columns": null,
            "grid_template_rows": null,
            "height": null,
            "justify_content": null,
            "justify_items": null,
            "left": null,
            "margin": null,
            "max_height": null,
            "max_width": null,
            "min_height": null,
            "min_width": null,
            "object_fit": null,
            "object_position": null,
            "order": null,
            "overflow": null,
            "overflow_x": null,
            "overflow_y": null,
            "padding": null,
            "right": null,
            "top": null,
            "visibility": null,
            "width": null
          }
        },
        "9fa6518df4ca44168b602804f32bc033": {
          "model_module": "@jupyter-widgets/base",
          "model_name": "LayoutModel",
          "model_module_version": "1.2.0",
          "state": {
            "_model_module": "@jupyter-widgets/base",
            "_model_module_version": "1.2.0",
            "_model_name": "LayoutModel",
            "_view_count": null,
            "_view_module": "@jupyter-widgets/base",
            "_view_module_version": "1.2.0",
            "_view_name": "LayoutView",
            "align_content": null,
            "align_items": null,
            "align_self": null,
            "border": null,
            "bottom": null,
            "display": null,
            "flex": null,
            "flex_flow": null,
            "grid_area": null,
            "grid_auto_columns": null,
            "grid_auto_flow": null,
            "grid_auto_rows": null,
            "grid_column": null,
            "grid_gap": null,
            "grid_row": null,
            "grid_template_areas": null,
            "grid_template_columns": null,
            "grid_template_rows": null,
            "height": null,
            "justify_content": null,
            "justify_items": null,
            "left": null,
            "margin": null,
            "max_height": null,
            "max_width": null,
            "min_height": null,
            "min_width": null,
            "object_fit": null,
            "object_position": null,
            "order": null,
            "overflow": null,
            "overflow_x": null,
            "overflow_y": null,
            "padding": null,
            "right": null,
            "top": null,
            "visibility": null,
            "width": null
          }
        },
        "9d48f3a4c4e44559a0a72bf5386c0d66": {
          "model_module": "@jupyter-widgets/controls",
          "model_name": "DescriptionStyleModel",
          "model_module_version": "1.5.0",
          "state": {
            "_model_module": "@jupyter-widgets/controls",
            "_model_module_version": "1.5.0",
            "_model_name": "DescriptionStyleModel",
            "_view_count": null,
            "_view_module": "@jupyter-widgets/base",
            "_view_module_version": "1.2.0",
            "_view_name": "StyleView",
            "description_width": ""
          }
        },
        "157080b189754ffb8bfa335f8bae8f9c": {
          "model_module": "@jupyter-widgets/base",
          "model_name": "LayoutModel",
          "model_module_version": "1.2.0",
          "state": {
            "_model_module": "@jupyter-widgets/base",
            "_model_module_version": "1.2.0",
            "_model_name": "LayoutModel",
            "_view_count": null,
            "_view_module": "@jupyter-widgets/base",
            "_view_module_version": "1.2.0",
            "_view_name": "LayoutView",
            "align_content": null,
            "align_items": null,
            "align_self": null,
            "border": null,
            "bottom": null,
            "display": null,
            "flex": null,
            "flex_flow": null,
            "grid_area": null,
            "grid_auto_columns": null,
            "grid_auto_flow": null,
            "grid_auto_rows": null,
            "grid_column": null,
            "grid_gap": null,
            "grid_row": null,
            "grid_template_areas": null,
            "grid_template_columns": null,
            "grid_template_rows": null,
            "height": null,
            "justify_content": null,
            "justify_items": null,
            "left": null,
            "margin": null,
            "max_height": null,
            "max_width": null,
            "min_height": null,
            "min_width": null,
            "object_fit": null,
            "object_position": null,
            "order": null,
            "overflow": null,
            "overflow_x": null,
            "overflow_y": null,
            "padding": null,
            "right": null,
            "top": null,
            "visibility": null,
            "width": null
          }
        },
        "3fd10e9ef20349019b3d512913e1b7df": {
          "model_module": "@jupyter-widgets/controls",
          "model_name": "DescriptionStyleModel",
          "model_module_version": "1.5.0",
          "state": {
            "_model_module": "@jupyter-widgets/controls",
            "_model_module_version": "1.5.0",
            "_model_name": "DescriptionStyleModel",
            "_view_count": null,
            "_view_module": "@jupyter-widgets/base",
            "_view_module_version": "1.2.0",
            "_view_name": "StyleView",
            "description_width": ""
          }
        },
        "18e9561f06d742859099b38339525313": {
          "model_module": "@jupyter-widgets/base",
          "model_name": "LayoutModel",
          "model_module_version": "1.2.0",
          "state": {
            "_model_module": "@jupyter-widgets/base",
            "_model_module_version": "1.2.0",
            "_model_name": "LayoutModel",
            "_view_count": null,
            "_view_module": "@jupyter-widgets/base",
            "_view_module_version": "1.2.0",
            "_view_name": "LayoutView",
            "align_content": null,
            "align_items": null,
            "align_self": null,
            "border": null,
            "bottom": null,
            "display": null,
            "flex": null,
            "flex_flow": null,
            "grid_area": null,
            "grid_auto_columns": null,
            "grid_auto_flow": null,
            "grid_auto_rows": null,
            "grid_column": null,
            "grid_gap": null,
            "grid_row": null,
            "grid_template_areas": null,
            "grid_template_columns": null,
            "grid_template_rows": null,
            "height": null,
            "justify_content": null,
            "justify_items": null,
            "left": null,
            "margin": null,
            "max_height": null,
            "max_width": null,
            "min_height": null,
            "min_width": null,
            "object_fit": null,
            "object_position": null,
            "order": null,
            "overflow": null,
            "overflow_x": null,
            "overflow_y": null,
            "padding": null,
            "right": null,
            "top": null,
            "visibility": null,
            "width": null
          }
        },
        "314bfb456f1349068df747339c3c0e2d": {
          "model_module": "@jupyter-widgets/controls",
          "model_name": "DescriptionStyleModel",
          "model_module_version": "1.5.0",
          "state": {
            "_model_module": "@jupyter-widgets/controls",
            "_model_module_version": "1.5.0",
            "_model_name": "DescriptionStyleModel",
            "_view_count": null,
            "_view_module": "@jupyter-widgets/base",
            "_view_module_version": "1.2.0",
            "_view_name": "StyleView",
            "description_width": ""
          }
        },
        "2135e23421c44645958e522bf7adefae": {
          "model_module": "@jupyter-widgets/controls",
          "model_name": "VBoxModel",
          "model_module_version": "1.5.0",
          "state": {
            "_dom_classes": [],
            "_model_module": "@jupyter-widgets/controls",
            "_model_module_version": "1.5.0",
            "_model_name": "VBoxModel",
            "_view_count": null,
            "_view_module": "@jupyter-widgets/controls",
            "_view_module_version": "1.5.0",
            "_view_name": "VBoxView",
            "box_style": "",
            "children": [
              "IPY_MODEL_89f991b11b4d40469cad1c63c04f9294",
              "IPY_MODEL_35ace2caa2624bac9b97f8e5034a4a37",
              "IPY_MODEL_8e5112f8665a43329b813eaaa2ea921f"
            ],
            "layout": "IPY_MODEL_f15ec6d18cb040a4b09222bd201d6eac"
          }
        },
        "89f991b11b4d40469cad1c63c04f9294": {
          "model_module": "@jupyter-widgets/controls",
          "model_name": "HTMLModel",
          "model_module_version": "1.5.0",
          "state": {
            "_dom_classes": [],
            "_model_module": "@jupyter-widgets/controls",
            "_model_module_version": "1.5.0",
            "_model_name": "HTMLModel",
            "_view_count": null,
            "_view_module": "@jupyter-widgets/controls",
            "_view_module_version": "1.5.0",
            "_view_name": "HTMLView",
            "description": "",
            "description_tooltip": null,
            "layout": "IPY_MODEL_05c37c0fa48f43b5826506257de3fa30",
            "placeholder": "​",
            "style": "IPY_MODEL_e56ff299da1f49b9af4cc3acaaa88458",
            "value": "Return the set of all named entity labels found in the text<hr>"
          }
        },
        "35ace2caa2624bac9b97f8e5034a4a37": {
          "model_module": "@jupyter-widgets/controls",
          "model_name": "HTMLModel",
          "model_module_version": "1.5.0",
          "state": {
            "_dom_classes": [],
            "_model_module": "@jupyter-widgets/controls",
            "_model_module_version": "1.5.0",
            "_model_name": "HTMLModel",
            "_view_count": null,
            "_view_module": "@jupyter-widgets/controls",
            "_view_module_version": "1.5.0",
            "_view_name": "HTMLView",
            "description": "",
            "description_tooltip": null,
            "layout": "IPY_MODEL_4183c93baf4a4efd9d69d24ce6ff2ff2",
            "placeholder": "​",
            "style": "IPY_MODEL_b0c00588ea3f4349857718a447d2d0d2",
            "value": "Sample input-output pairs:<br><table>\n<thead>\n<tr><th>input                                       </th><th>output  </th></tr>\n</thead>\n<tbody>\n<tr><td>(&#x27;No named entities&#x27;,)                      </td><td>set()   </td></tr>\n<tr><td>(&#x27;London is the capital of Great Britain.&#x27;,)</td><td>{&#x27;GPE&#x27;} </td></tr>\n</tbody>\n</table><hr>"
          }
        },
        "8e5112f8665a43329b813eaaa2ea921f": {
          "model_module": "@jupyter-widgets/controls",
          "model_name": "HTMLModel",
          "model_module_version": "1.5.0",
          "state": {
            "_dom_classes": [],
            "_model_module": "@jupyter-widgets/controls",
            "_model_module_version": "1.5.0",
            "_model_name": "HTMLModel",
            "_view_count": null,
            "_view_module": "@jupyter-widgets/controls",
            "_view_module_version": "1.5.0",
            "_view_name": "HTMLView",
            "description": "",
            "description_tooltip": null,
            "layout": "IPY_MODEL_d508941d13074e85a20e7c746e6811fc",
            "placeholder": "​",
            "style": "IPY_MODEL_f94f7065f12f4ce5acb0a3e7b77ceafa",
            "value": "<font color='green'>All 5 tests passed</font>"
          }
        },
        "f15ec6d18cb040a4b09222bd201d6eac": {
          "model_module": "@jupyter-widgets/base",
          "model_name": "LayoutModel",
          "model_module_version": "1.2.0",
          "state": {
            "_model_module": "@jupyter-widgets/base",
            "_model_module_version": "1.2.0",
            "_model_name": "LayoutModel",
            "_view_count": null,
            "_view_module": "@jupyter-widgets/base",
            "_view_module_version": "1.2.0",
            "_view_name": "LayoutView",
            "align_content": null,
            "align_items": null,
            "align_self": null,
            "border": null,
            "bottom": null,
            "display": null,
            "flex": null,
            "flex_flow": null,
            "grid_area": null,
            "grid_auto_columns": null,
            "grid_auto_flow": null,
            "grid_auto_rows": null,
            "grid_column": null,
            "grid_gap": null,
            "grid_row": null,
            "grid_template_areas": null,
            "grid_template_columns": null,
            "grid_template_rows": null,
            "height": null,
            "justify_content": null,
            "justify_items": null,
            "left": null,
            "margin": null,
            "max_height": null,
            "max_width": null,
            "min_height": null,
            "min_width": null,
            "object_fit": null,
            "object_position": null,
            "order": null,
            "overflow": null,
            "overflow_x": null,
            "overflow_y": null,
            "padding": null,
            "right": null,
            "top": null,
            "visibility": null,
            "width": null
          }
        },
        "05c37c0fa48f43b5826506257de3fa30": {
          "model_module": "@jupyter-widgets/base",
          "model_name": "LayoutModel",
          "model_module_version": "1.2.0",
          "state": {
            "_model_module": "@jupyter-widgets/base",
            "_model_module_version": "1.2.0",
            "_model_name": "LayoutModel",
            "_view_count": null,
            "_view_module": "@jupyter-widgets/base",
            "_view_module_version": "1.2.0",
            "_view_name": "LayoutView",
            "align_content": null,
            "align_items": null,
            "align_self": null,
            "border": null,
            "bottom": null,
            "display": null,
            "flex": null,
            "flex_flow": null,
            "grid_area": null,
            "grid_auto_columns": null,
            "grid_auto_flow": null,
            "grid_auto_rows": null,
            "grid_column": null,
            "grid_gap": null,
            "grid_row": null,
            "grid_template_areas": null,
            "grid_template_columns": null,
            "grid_template_rows": null,
            "height": null,
            "justify_content": null,
            "justify_items": null,
            "left": null,
            "margin": null,
            "max_height": null,
            "max_width": null,
            "min_height": null,
            "min_width": null,
            "object_fit": null,
            "object_position": null,
            "order": null,
            "overflow": null,
            "overflow_x": null,
            "overflow_y": null,
            "padding": null,
            "right": null,
            "top": null,
            "visibility": null,
            "width": null
          }
        },
        "e56ff299da1f49b9af4cc3acaaa88458": {
          "model_module": "@jupyter-widgets/controls",
          "model_name": "DescriptionStyleModel",
          "model_module_version": "1.5.0",
          "state": {
            "_model_module": "@jupyter-widgets/controls",
            "_model_module_version": "1.5.0",
            "_model_name": "DescriptionStyleModel",
            "_view_count": null,
            "_view_module": "@jupyter-widgets/base",
            "_view_module_version": "1.2.0",
            "_view_name": "StyleView",
            "description_width": ""
          }
        },
        "4183c93baf4a4efd9d69d24ce6ff2ff2": {
          "model_module": "@jupyter-widgets/base",
          "model_name": "LayoutModel",
          "model_module_version": "1.2.0",
          "state": {
            "_model_module": "@jupyter-widgets/base",
            "_model_module_version": "1.2.0",
            "_model_name": "LayoutModel",
            "_view_count": null,
            "_view_module": "@jupyter-widgets/base",
            "_view_module_version": "1.2.0",
            "_view_name": "LayoutView",
            "align_content": null,
            "align_items": null,
            "align_self": null,
            "border": null,
            "bottom": null,
            "display": null,
            "flex": null,
            "flex_flow": null,
            "grid_area": null,
            "grid_auto_columns": null,
            "grid_auto_flow": null,
            "grid_auto_rows": null,
            "grid_column": null,
            "grid_gap": null,
            "grid_row": null,
            "grid_template_areas": null,
            "grid_template_columns": null,
            "grid_template_rows": null,
            "height": null,
            "justify_content": null,
            "justify_items": null,
            "left": null,
            "margin": null,
            "max_height": null,
            "max_width": null,
            "min_height": null,
            "min_width": null,
            "object_fit": null,
            "object_position": null,
            "order": null,
            "overflow": null,
            "overflow_x": null,
            "overflow_y": null,
            "padding": null,
            "right": null,
            "top": null,
            "visibility": null,
            "width": null
          }
        },
        "b0c00588ea3f4349857718a447d2d0d2": {
          "model_module": "@jupyter-widgets/controls",
          "model_name": "DescriptionStyleModel",
          "model_module_version": "1.5.0",
          "state": {
            "_model_module": "@jupyter-widgets/controls",
            "_model_module_version": "1.5.0",
            "_model_name": "DescriptionStyleModel",
            "_view_count": null,
            "_view_module": "@jupyter-widgets/base",
            "_view_module_version": "1.2.0",
            "_view_name": "StyleView",
            "description_width": ""
          }
        },
        "d508941d13074e85a20e7c746e6811fc": {
          "model_module": "@jupyter-widgets/base",
          "model_name": "LayoutModel",
          "model_module_version": "1.2.0",
          "state": {
            "_model_module": "@jupyter-widgets/base",
            "_model_module_version": "1.2.0",
            "_model_name": "LayoutModel",
            "_view_count": null,
            "_view_module": "@jupyter-widgets/base",
            "_view_module_version": "1.2.0",
            "_view_name": "LayoutView",
            "align_content": null,
            "align_items": null,
            "align_self": null,
            "border": null,
            "bottom": null,
            "display": null,
            "flex": null,
            "flex_flow": null,
            "grid_area": null,
            "grid_auto_columns": null,
            "grid_auto_flow": null,
            "grid_auto_rows": null,
            "grid_column": null,
            "grid_gap": null,
            "grid_row": null,
            "grid_template_areas": null,
            "grid_template_columns": null,
            "grid_template_rows": null,
            "height": null,
            "justify_content": null,
            "justify_items": null,
            "left": null,
            "margin": null,
            "max_height": null,
            "max_width": null,
            "min_height": null,
            "min_width": null,
            "object_fit": null,
            "object_position": null,
            "order": null,
            "overflow": null,
            "overflow_x": null,
            "overflow_y": null,
            "padding": null,
            "right": null,
            "top": null,
            "visibility": null,
            "width": null
          }
        },
        "f94f7065f12f4ce5acb0a3e7b77ceafa": {
          "model_module": "@jupyter-widgets/controls",
          "model_name": "DescriptionStyleModel",
          "model_module_version": "1.5.0",
          "state": {
            "_model_module": "@jupyter-widgets/controls",
            "_model_module_version": "1.5.0",
            "_model_name": "DescriptionStyleModel",
            "_view_count": null,
            "_view_module": "@jupyter-widgets/base",
            "_view_module_version": "1.2.0",
            "_view_name": "StyleView",
            "description_width": ""
          }
        },
        "fa75d7374a3942029ff5ab9c3bb4becd": {
          "model_module": "@jupyter-widgets/controls",
          "model_name": "HBoxModel",
          "model_module_version": "1.5.0",
          "state": {
            "_dom_classes": [],
            "_model_module": "@jupyter-widgets/controls",
            "_model_module_version": "1.5.0",
            "_model_name": "HBoxModel",
            "_view_count": null,
            "_view_module": "@jupyter-widgets/controls",
            "_view_module_version": "1.5.0",
            "_view_name": "HBoxView",
            "box_style": "",
            "children": [
              "IPY_MODEL_64f6d36ae672407c87be13c0b763f58b",
              "IPY_MODEL_2c2c4f95064e42f5abbc5909bc48e8fc",
              "IPY_MODEL_449163dc51b64e289a08e127b332b9c1"
            ],
            "layout": "IPY_MODEL_0cd3ff52ad9749c18477586ca6a67146"
          }
        },
        "64f6d36ae672407c87be13c0b763f58b": {
          "model_module": "@jupyter-widgets/controls",
          "model_name": "HTMLModel",
          "model_module_version": "1.5.0",
          "state": {
            "_dom_classes": [],
            "_model_module": "@jupyter-widgets/controls",
            "_model_module_version": "1.5.0",
            "_model_name": "HTMLModel",
            "_view_count": null,
            "_view_module": "@jupyter-widgets/controls",
            "_view_module_version": "1.5.0",
            "_view_name": "HTMLView",
            "description": "",
            "description_tooltip": null,
            "layout": "IPY_MODEL_0e28144437794a7789dde099de18040f",
            "placeholder": "​",
            "style": "IPY_MODEL_387e81a98f0c4f0dbd7f72630113739b",
            "value": "100%"
          }
        },
        "2c2c4f95064e42f5abbc5909bc48e8fc": {
          "model_module": "@jupyter-widgets/controls",
          "model_name": "FloatProgressModel",
          "model_module_version": "1.5.0",
          "state": {
            "_dom_classes": [],
            "_model_module": "@jupyter-widgets/controls",
            "_model_module_version": "1.5.0",
            "_model_name": "FloatProgressModel",
            "_view_count": null,
            "_view_module": "@jupyter-widgets/controls",
            "_view_module_version": "1.5.0",
            "_view_name": "ProgressView",
            "bar_style": "success",
            "description": "",
            "description_tooltip": null,
            "layout": "IPY_MODEL_db88e6d09be04709b71e5449fbd461a2",
            "max": 43074,
            "min": 0,
            "orientation": "horizontal",
            "style": "IPY_MODEL_cef1d467ba024c94a4c3690b6ac73a38",
            "value": 43074
          }
        },
        "449163dc51b64e289a08e127b332b9c1": {
          "model_module": "@jupyter-widgets/controls",
          "model_name": "HTMLModel",
          "model_module_version": "1.5.0",
          "state": {
            "_dom_classes": [],
            "_model_module": "@jupyter-widgets/controls",
            "_model_module_version": "1.5.0",
            "_model_name": "HTMLModel",
            "_view_count": null,
            "_view_module": "@jupyter-widgets/controls",
            "_view_module_version": "1.5.0",
            "_view_name": "HTMLView",
            "description": "",
            "description_tooltip": null,
            "layout": "IPY_MODEL_d2a8ab801cc14cf7a86f73942d26e647",
            "placeholder": "​",
            "style": "IPY_MODEL_d50aff36af6048d19555ad4c863bfed5",
            "value": " 43074/43074 [00:04&lt;00:00, 15608.91it/s]"
          }
        },
        "0cd3ff52ad9749c18477586ca6a67146": {
          "model_module": "@jupyter-widgets/base",
          "model_name": "LayoutModel",
          "model_module_version": "1.2.0",
          "state": {
            "_model_module": "@jupyter-widgets/base",
            "_model_module_version": "1.2.0",
            "_model_name": "LayoutModel",
            "_view_count": null,
            "_view_module": "@jupyter-widgets/base",
            "_view_module_version": "1.2.0",
            "_view_name": "LayoutView",
            "align_content": null,
            "align_items": null,
            "align_self": null,
            "border": null,
            "bottom": null,
            "display": null,
            "flex": null,
            "flex_flow": null,
            "grid_area": null,
            "grid_auto_columns": null,
            "grid_auto_flow": null,
            "grid_auto_rows": null,
            "grid_column": null,
            "grid_gap": null,
            "grid_row": null,
            "grid_template_areas": null,
            "grid_template_columns": null,
            "grid_template_rows": null,
            "height": null,
            "justify_content": null,
            "justify_items": null,
            "left": null,
            "margin": null,
            "max_height": null,
            "max_width": null,
            "min_height": null,
            "min_width": null,
            "object_fit": null,
            "object_position": null,
            "order": null,
            "overflow": null,
            "overflow_x": null,
            "overflow_y": null,
            "padding": null,
            "right": null,
            "top": null,
            "visibility": null,
            "width": null
          }
        },
        "0e28144437794a7789dde099de18040f": {
          "model_module": "@jupyter-widgets/base",
          "model_name": "LayoutModel",
          "model_module_version": "1.2.0",
          "state": {
            "_model_module": "@jupyter-widgets/base",
            "_model_module_version": "1.2.0",
            "_model_name": "LayoutModel",
            "_view_count": null,
            "_view_module": "@jupyter-widgets/base",
            "_view_module_version": "1.2.0",
            "_view_name": "LayoutView",
            "align_content": null,
            "align_items": null,
            "align_self": null,
            "border": null,
            "bottom": null,
            "display": null,
            "flex": null,
            "flex_flow": null,
            "grid_area": null,
            "grid_auto_columns": null,
            "grid_auto_flow": null,
            "grid_auto_rows": null,
            "grid_column": null,
            "grid_gap": null,
            "grid_row": null,
            "grid_template_areas": null,
            "grid_template_columns": null,
            "grid_template_rows": null,
            "height": null,
            "justify_content": null,
            "justify_items": null,
            "left": null,
            "margin": null,
            "max_height": null,
            "max_width": null,
            "min_height": null,
            "min_width": null,
            "object_fit": null,
            "object_position": null,
            "order": null,
            "overflow": null,
            "overflow_x": null,
            "overflow_y": null,
            "padding": null,
            "right": null,
            "top": null,
            "visibility": null,
            "width": null
          }
        },
        "387e81a98f0c4f0dbd7f72630113739b": {
          "model_module": "@jupyter-widgets/controls",
          "model_name": "DescriptionStyleModel",
          "model_module_version": "1.5.0",
          "state": {
            "_model_module": "@jupyter-widgets/controls",
            "_model_module_version": "1.5.0",
            "_model_name": "DescriptionStyleModel",
            "_view_count": null,
            "_view_module": "@jupyter-widgets/base",
            "_view_module_version": "1.2.0",
            "_view_name": "StyleView",
            "description_width": ""
          }
        },
        "db88e6d09be04709b71e5449fbd461a2": {
          "model_module": "@jupyter-widgets/base",
          "model_name": "LayoutModel",
          "model_module_version": "1.2.0",
          "state": {
            "_model_module": "@jupyter-widgets/base",
            "_model_module_version": "1.2.0",
            "_model_name": "LayoutModel",
            "_view_count": null,
            "_view_module": "@jupyter-widgets/base",
            "_view_module_version": "1.2.0",
            "_view_name": "LayoutView",
            "align_content": null,
            "align_items": null,
            "align_self": null,
            "border": null,
            "bottom": null,
            "display": null,
            "flex": null,
            "flex_flow": null,
            "grid_area": null,
            "grid_auto_columns": null,
            "grid_auto_flow": null,
            "grid_auto_rows": null,
            "grid_column": null,
            "grid_gap": null,
            "grid_row": null,
            "grid_template_areas": null,
            "grid_template_columns": null,
            "grid_template_rows": null,
            "height": null,
            "justify_content": null,
            "justify_items": null,
            "left": null,
            "margin": null,
            "max_height": null,
            "max_width": null,
            "min_height": null,
            "min_width": null,
            "object_fit": null,
            "object_position": null,
            "order": null,
            "overflow": null,
            "overflow_x": null,
            "overflow_y": null,
            "padding": null,
            "right": null,
            "top": null,
            "visibility": null,
            "width": null
          }
        },
        "cef1d467ba024c94a4c3690b6ac73a38": {
          "model_module": "@jupyter-widgets/controls",
          "model_name": "ProgressStyleModel",
          "model_module_version": "1.5.0",
          "state": {
            "_model_module": "@jupyter-widgets/controls",
            "_model_module_version": "1.5.0",
            "_model_name": "ProgressStyleModel",
            "_view_count": null,
            "_view_module": "@jupyter-widgets/base",
            "_view_module_version": "1.2.0",
            "_view_name": "StyleView",
            "bar_color": null,
            "description_width": ""
          }
        },
        "d2a8ab801cc14cf7a86f73942d26e647": {
          "model_module": "@jupyter-widgets/base",
          "model_name": "LayoutModel",
          "model_module_version": "1.2.0",
          "state": {
            "_model_module": "@jupyter-widgets/base",
            "_model_module_version": "1.2.0",
            "_model_name": "LayoutModel",
            "_view_count": null,
            "_view_module": "@jupyter-widgets/base",
            "_view_module_version": "1.2.0",
            "_view_name": "LayoutView",
            "align_content": null,
            "align_items": null,
            "align_self": null,
            "border": null,
            "bottom": null,
            "display": null,
            "flex": null,
            "flex_flow": null,
            "grid_area": null,
            "grid_auto_columns": null,
            "grid_auto_flow": null,
            "grid_auto_rows": null,
            "grid_column": null,
            "grid_gap": null,
            "grid_row": null,
            "grid_template_areas": null,
            "grid_template_columns": null,
            "grid_template_rows": null,
            "height": null,
            "justify_content": null,
            "justify_items": null,
            "left": null,
            "margin": null,
            "max_height": null,
            "max_width": null,
            "min_height": null,
            "min_width": null,
            "object_fit": null,
            "object_position": null,
            "order": null,
            "overflow": null,
            "overflow_x": null,
            "overflow_y": null,
            "padding": null,
            "right": null,
            "top": null,
            "visibility": null,
            "width": null
          }
        },
        "d50aff36af6048d19555ad4c863bfed5": {
          "model_module": "@jupyter-widgets/controls",
          "model_name": "DescriptionStyleModel",
          "model_module_version": "1.5.0",
          "state": {
            "_model_module": "@jupyter-widgets/controls",
            "_model_module_version": "1.5.0",
            "_model_name": "DescriptionStyleModel",
            "_view_count": null,
            "_view_module": "@jupyter-widgets/base",
            "_view_module_version": "1.2.0",
            "_view_name": "StyleView",
            "description_width": ""
          }
        }
      }
    }
  },
  "nbformat": 4,
  "nbformat_minor": 0
}