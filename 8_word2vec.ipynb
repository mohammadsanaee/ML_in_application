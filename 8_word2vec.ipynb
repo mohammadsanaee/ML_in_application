{
  "nbformat": 4,
  "nbformat_minor": 0,
  "metadata": {
    "colab": {
      "provenance": [],
      "toc_visible": true,
      "include_colab_link": true
    },
    "kernelspec": {
      "name": "python3",
      "display_name": "Python 3"
    },
    "widgets": {
      "application/vnd.jupyter.widget-state+json": {
        "1407544ab620429f9ece2942b61959f2": {
          "model_module": "@jupyter-widgets/controls",
          "model_name": "VBoxModel",
          "model_module_version": "1.5.0",
          "state": {
            "_dom_classes": [],
            "_model_module": "@jupyter-widgets/controls",
            "_model_module_version": "1.5.0",
            "_model_name": "VBoxModel",
            "_view_count": null,
            "_view_module": "@jupyter-widgets/controls",
            "_view_module_version": "1.5.0",
            "_view_name": "VBoxView",
            "box_style": "",
            "children": [
              "IPY_MODEL_914672fd3383434083315f50e816aafb",
              "IPY_MODEL_86245f6841594119b84159f19ed98bac",
              "IPY_MODEL_ab90163acc504654b510b559edb0e56d",
              "IPY_MODEL_6c72122264e0406eb04e15b6229ff883"
            ],
            "layout": "IPY_MODEL_28165ef27944490cbbc678552e4c522a"
          }
        },
        "914672fd3383434083315f50e816aafb": {
          "model_module": "@jupyter-widgets/output",
          "model_name": "OutputModel",
          "model_module_version": "1.0.0",
          "state": {
            "_dom_classes": [],
            "_model_module": "@jupyter-widgets/output",
            "_model_module_version": "1.0.0",
            "_model_name": "OutputModel",
            "_view_count": null,
            "_view_module": "@jupyter-widgets/output",
            "_view_module_version": "1.0.0",
            "_view_name": "OutputView",
            "layout": "IPY_MODEL_950f8de4daa34691b234a961954b1b03",
            "msg_id": "",
            "outputs": [
              {
                "output_type": "display_data",
                "data": {
                  "text/plain": "HTML(value='\\n            Consider the following sentence:\\n            \"a skibidi is caught out of the sea at…",
                  "application/vnd.jupyter.widget-view+json": {
                    "version_major": 2,
                    "version_minor": 0,
                    "model_id": "ee18a682ba154c228a9827c0de0599dd"
                  }
                },
                "metadata": {}
              }
            ]
          }
        },
        "86245f6841594119b84159f19ed98bac": {
          "model_module": "@jupyter-widgets/controls",
          "model_name": "RadioButtonsModel",
          "model_module_version": "1.5.0",
          "state": {
            "_dom_classes": [],
            "_model_module": "@jupyter-widgets/controls",
            "_model_module_version": "1.5.0",
            "_model_name": "RadioButtonsModel",
            "_options_labels": [
              "definition 1",
              "definition 2",
              "definition 3",
              "definition 4"
            ],
            "_view_count": null,
            "_view_module": "@jupyter-widgets/controls",
            "_view_module_version": "1.5.0",
            "_view_name": "RadioButtonsView",
            "description": "",
            "description_tooltip": null,
            "disabled": false,
            "index": 0,
            "layout": "IPY_MODEL_8177e87139aa414486a6422525f50b24",
            "style": "IPY_MODEL_eeb76d7450bd48cfac2e83ac71445518"
          }
        },
        "ab90163acc504654b510b559edb0e56d": {
          "model_module": "@jupyter-widgets/controls",
          "model_name": "HTMLModel",
          "model_module_version": "1.5.0",
          "state": {
            "_dom_classes": [],
            "_model_module": "@jupyter-widgets/controls",
            "_model_module_version": "1.5.0",
            "_model_name": "HTMLModel",
            "_view_count": null,
            "_view_module": "@jupyter-widgets/controls",
            "_view_module_version": "1.5.0",
            "_view_name": "HTMLView",
            "description": "",
            "description_tooltip": null,
            "layout": "IPY_MODEL_c4e0553d6fcf4ae081745c825ecaa7fc",
            "placeholder": "​",
            "style": "IPY_MODEL_20ee4206132a43db8f1ebc8da3c1c127",
            "value": "<br>"
          }
        },
        "6c72122264e0406eb04e15b6229ff883": {
          "model_module": "@jupyter-widgets/controls",
          "model_name": "ButtonModel",
          "model_module_version": "1.5.0",
          "state": {
            "_dom_classes": [],
            "_model_module": "@jupyter-widgets/controls",
            "_model_module_version": "1.5.0",
            "_model_name": "ButtonModel",
            "_view_count": null,
            "_view_module": "@jupyter-widgets/controls",
            "_view_module_version": "1.5.0",
            "_view_name": "ButtonView",
            "button_style": "",
            "description": "Check",
            "disabled": false,
            "icon": "",
            "layout": "IPY_MODEL_1cdc1021458d4ad58e764d3b1a842f7c",
            "style": "IPY_MODEL_78cf77c0b6924fca96900711b95e695f",
            "tooltip": ""
          }
        },
        "28165ef27944490cbbc678552e4c522a": {
          "model_module": "@jupyter-widgets/base",
          "model_name": "LayoutModel",
          "model_module_version": "1.2.0",
          "state": {
            "_model_module": "@jupyter-widgets/base",
            "_model_module_version": "1.2.0",
            "_model_name": "LayoutModel",
            "_view_count": null,
            "_view_module": "@jupyter-widgets/base",
            "_view_module_version": "1.2.0",
            "_view_name": "LayoutView",
            "align_content": null,
            "align_items": null,
            "align_self": null,
            "border": null,
            "bottom": null,
            "display": null,
            "flex": null,
            "flex_flow": null,
            "grid_area": null,
            "grid_auto_columns": null,
            "grid_auto_flow": null,
            "grid_auto_rows": null,
            "grid_column": null,
            "grid_gap": null,
            "grid_row": null,
            "grid_template_areas": null,
            "grid_template_columns": null,
            "grid_template_rows": null,
            "height": null,
            "justify_content": null,
            "justify_items": null,
            "left": null,
            "margin": null,
            "max_height": null,
            "max_width": null,
            "min_height": null,
            "min_width": null,
            "object_fit": null,
            "object_position": null,
            "order": null,
            "overflow": null,
            "overflow_x": null,
            "overflow_y": null,
            "padding": null,
            "right": null,
            "top": null,
            "visibility": null,
            "width": null
          }
        },
        "8177e87139aa414486a6422525f50b24": {
          "model_module": "@jupyter-widgets/base",
          "model_name": "LayoutModel",
          "model_module_version": "1.2.0",
          "state": {
            "_model_module": "@jupyter-widgets/base",
            "_model_module_version": "1.2.0",
            "_model_name": "LayoutModel",
            "_view_count": null,
            "_view_module": "@jupyter-widgets/base",
            "_view_module_version": "1.2.0",
            "_view_name": "LayoutView",
            "align_content": null,
            "align_items": null,
            "align_self": null,
            "border": null,
            "bottom": null,
            "display": null,
            "flex": null,
            "flex_flow": null,
            "grid_area": null,
            "grid_auto_columns": null,
            "grid_auto_flow": null,
            "grid_auto_rows": null,
            "grid_column": null,
            "grid_gap": null,
            "grid_row": null,
            "grid_template_areas": null,
            "grid_template_columns": null,
            "grid_template_rows": null,
            "height": null,
            "justify_content": null,
            "justify_items": null,
            "left": null,
            "margin": null,
            "max_height": null,
            "max_width": null,
            "min_height": null,
            "min_width": null,
            "object_fit": null,
            "object_position": null,
            "order": null,
            "overflow": null,
            "overflow_x": null,
            "overflow_y": null,
            "padding": null,
            "right": null,
            "top": null,
            "visibility": null,
            "width": null
          }
        },
        "eeb76d7450bd48cfac2e83ac71445518": {
          "model_module": "@jupyter-widgets/controls",
          "model_name": "DescriptionStyleModel",
          "model_module_version": "1.5.0",
          "state": {
            "_model_module": "@jupyter-widgets/controls",
            "_model_module_version": "1.5.0",
            "_model_name": "DescriptionStyleModel",
            "_view_count": null,
            "_view_module": "@jupyter-widgets/base",
            "_view_module_version": "1.2.0",
            "_view_name": "StyleView",
            "description_width": ""
          }
        },
        "c4e0553d6fcf4ae081745c825ecaa7fc": {
          "model_module": "@jupyter-widgets/base",
          "model_name": "LayoutModel",
          "model_module_version": "1.2.0",
          "state": {
            "_model_module": "@jupyter-widgets/base",
            "_model_module_version": "1.2.0",
            "_model_name": "LayoutModel",
            "_view_count": null,
            "_view_module": "@jupyter-widgets/base",
            "_view_module_version": "1.2.0",
            "_view_name": "LayoutView",
            "align_content": null,
            "align_items": null,
            "align_self": null,
            "border": null,
            "bottom": null,
            "display": null,
            "flex": null,
            "flex_flow": null,
            "grid_area": null,
            "grid_auto_columns": null,
            "grid_auto_flow": null,
            "grid_auto_rows": null,
            "grid_column": null,
            "grid_gap": null,
            "grid_row": null,
            "grid_template_areas": null,
            "grid_template_columns": null,
            "grid_template_rows": null,
            "height": null,
            "justify_content": null,
            "justify_items": null,
            "left": null,
            "margin": null,
            "max_height": null,
            "max_width": null,
            "min_height": null,
            "min_width": null,
            "object_fit": null,
            "object_position": null,
            "order": null,
            "overflow": null,
            "overflow_x": null,
            "overflow_y": null,
            "padding": null,
            "right": null,
            "top": null,
            "visibility": null,
            "width": null
          }
        },
        "20ee4206132a43db8f1ebc8da3c1c127": {
          "model_module": "@jupyter-widgets/controls",
          "model_name": "DescriptionStyleModel",
          "model_module_version": "1.5.0",
          "state": {
            "_model_module": "@jupyter-widgets/controls",
            "_model_module_version": "1.5.0",
            "_model_name": "DescriptionStyleModel",
            "_view_count": null,
            "_view_module": "@jupyter-widgets/base",
            "_view_module_version": "1.2.0",
            "_view_name": "StyleView",
            "description_width": ""
          }
        },
        "1cdc1021458d4ad58e764d3b1a842f7c": {
          "model_module": "@jupyter-widgets/base",
          "model_name": "LayoutModel",
          "model_module_version": "1.2.0",
          "state": {
            "_model_module": "@jupyter-widgets/base",
            "_model_module_version": "1.2.0",
            "_model_name": "LayoutModel",
            "_view_count": null,
            "_view_module": "@jupyter-widgets/base",
            "_view_module_version": "1.2.0",
            "_view_name": "LayoutView",
            "align_content": null,
            "align_items": null,
            "align_self": null,
            "border": null,
            "bottom": null,
            "display": null,
            "flex": null,
            "flex_flow": null,
            "grid_area": null,
            "grid_auto_columns": null,
            "grid_auto_flow": null,
            "grid_auto_rows": null,
            "grid_column": null,
            "grid_gap": null,
            "grid_row": null,
            "grid_template_areas": null,
            "grid_template_columns": null,
            "grid_template_rows": null,
            "height": null,
            "justify_content": null,
            "justify_items": null,
            "left": null,
            "margin": null,
            "max_height": null,
            "max_width": null,
            "min_height": null,
            "min_width": null,
            "object_fit": null,
            "object_position": null,
            "order": null,
            "overflow": null,
            "overflow_x": null,
            "overflow_y": null,
            "padding": null,
            "right": null,
            "top": null,
            "visibility": null,
            "width": null
          }
        },
        "78cf77c0b6924fca96900711b95e695f": {
          "model_module": "@jupyter-widgets/controls",
          "model_name": "ButtonStyleModel",
          "model_module_version": "1.5.0",
          "state": {
            "_model_module": "@jupyter-widgets/controls",
            "_model_module_version": "1.5.0",
            "_model_name": "ButtonStyleModel",
            "_view_count": null,
            "_view_module": "@jupyter-widgets/base",
            "_view_module_version": "1.2.0",
            "_view_name": "StyleView",
            "button_color": null,
            "font_weight": ""
          }
        },
        "ee18a682ba154c228a9827c0de0599dd": {
          "model_module": "@jupyter-widgets/controls",
          "model_name": "HTMLModel",
          "model_module_version": "1.5.0",
          "state": {
            "_dom_classes": [],
            "_model_module": "@jupyter-widgets/controls",
            "_model_module_version": "1.5.0",
            "_model_name": "HTMLModel",
            "_view_count": null,
            "_view_module": "@jupyter-widgets/controls",
            "_view_module_version": "1.5.0",
            "_view_name": "HTMLView",
            "description": "",
            "description_tooltip": null,
            "layout": "IPY_MODEL_64e1834095364545991385938b9ed611",
            "placeholder": "​",
            "style": "IPY_MODEL_cef46bfafc784187b34132939542b639",
            "value": "\n            Consider the following sentence:\n            \"a skibidi is caught out of the sea at Christmas\".\n            \n            What is \"skibidi\"?\n            <ol>\n                <li>the Chinese tea used to purify tea glasses for eye makeup and to make it more attractive</li>\n                <li>a small, slender elongated tubular labyrinth, typically having a rounded body and a spiral, twisted, curved part</li>\n                <li>a tall, slender, tapering, broad-shouldered fish of warm seas.</li>\n                <li>the stem of the long rib of a fungus, especially one which reveals the outer edge of the flower and can be found on the stalk of a variety of trees</li>\n            </ol>\n            Choose the correct answer below\n        "
          }
        },
        "950f8de4daa34691b234a961954b1b03": {
          "model_module": "@jupyter-widgets/base",
          "model_name": "LayoutModel",
          "model_module_version": "1.2.0",
          "state": {
            "_model_module": "@jupyter-widgets/base",
            "_model_module_version": "1.2.0",
            "_model_name": "LayoutModel",
            "_view_count": null,
            "_view_module": "@jupyter-widgets/base",
            "_view_module_version": "1.2.0",
            "_view_name": "LayoutView",
            "align_content": null,
            "align_items": null,
            "align_self": null,
            "border": null,
            "bottom": null,
            "display": null,
            "flex": null,
            "flex_flow": null,
            "grid_area": null,
            "grid_auto_columns": null,
            "grid_auto_flow": null,
            "grid_auto_rows": null,
            "grid_column": null,
            "grid_gap": null,
            "grid_row": null,
            "grid_template_areas": null,
            "grid_template_columns": null,
            "grid_template_rows": null,
            "height": null,
            "justify_content": null,
            "justify_items": null,
            "left": null,
            "margin": null,
            "max_height": null,
            "max_width": null,
            "min_height": null,
            "min_width": null,
            "object_fit": null,
            "object_position": null,
            "order": null,
            "overflow": null,
            "overflow_x": null,
            "overflow_y": null,
            "padding": null,
            "right": null,
            "top": null,
            "visibility": null,
            "width": null
          }
        },
        "64e1834095364545991385938b9ed611": {
          "model_module": "@jupyter-widgets/base",
          "model_name": "LayoutModel",
          "model_module_version": "1.2.0",
          "state": {
            "_model_module": "@jupyter-widgets/base",
            "_model_module_version": "1.2.0",
            "_model_name": "LayoutModel",
            "_view_count": null,
            "_view_module": "@jupyter-widgets/base",
            "_view_module_version": "1.2.0",
            "_view_name": "LayoutView",
            "align_content": null,
            "align_items": null,
            "align_self": null,
            "border": null,
            "bottom": null,
            "display": null,
            "flex": null,
            "flex_flow": null,
            "grid_area": null,
            "grid_auto_columns": null,
            "grid_auto_flow": null,
            "grid_auto_rows": null,
            "grid_column": null,
            "grid_gap": null,
            "grid_row": null,
            "grid_template_areas": null,
            "grid_template_columns": null,
            "grid_template_rows": null,
            "height": null,
            "justify_content": null,
            "justify_items": null,
            "left": null,
            "margin": null,
            "max_height": null,
            "max_width": null,
            "min_height": null,
            "min_width": null,
            "object_fit": null,
            "object_position": null,
            "order": null,
            "overflow": null,
            "overflow_x": null,
            "overflow_y": null,
            "padding": null,
            "right": null,
            "top": null,
            "visibility": null,
            "width": null
          }
        },
        "cef46bfafc784187b34132939542b639": {
          "model_module": "@jupyter-widgets/controls",
          "model_name": "DescriptionStyleModel",
          "model_module_version": "1.5.0",
          "state": {
            "_model_module": "@jupyter-widgets/controls",
            "_model_module_version": "1.5.0",
            "_model_name": "DescriptionStyleModel",
            "_view_count": null,
            "_view_module": "@jupyter-widgets/base",
            "_view_module_version": "1.2.0",
            "_view_name": "StyleView",
            "description_width": ""
          }
        },
        "a7c23c3759414d7085ea74e304ddcb41": {
          "model_module": "@jupyter-widgets/controls",
          "model_name": "VBoxModel",
          "model_module_version": "1.5.0",
          "state": {
            "_dom_classes": [],
            "_model_module": "@jupyter-widgets/controls",
            "_model_module_version": "1.5.0",
            "_model_name": "VBoxModel",
            "_view_count": null,
            "_view_module": "@jupyter-widgets/controls",
            "_view_module_version": "1.5.0",
            "_view_name": "VBoxView",
            "box_style": "",
            "children": [
              "IPY_MODEL_ef0354dbc18d40b6b15c94493f10a014",
              "IPY_MODEL_1ba1e3e9089a45e183b505f9d9e60743"
            ],
            "layout": "IPY_MODEL_b43522575beb493c80d1356e3bec2acd"
          }
        },
        "ef0354dbc18d40b6b15c94493f10a014": {
          "model_module": "@jupyter-widgets/controls",
          "model_name": "HBoxModel",
          "model_module_version": "1.5.0",
          "state": {
            "_dom_classes": [],
            "_model_module": "@jupyter-widgets/controls",
            "_model_module_version": "1.5.0",
            "_model_name": "HBoxModel",
            "_view_count": null,
            "_view_module": "@jupyter-widgets/controls",
            "_view_module_version": "1.5.0",
            "_view_name": "HBoxView",
            "box_style": "",
            "children": [
              "IPY_MODEL_7c701d4bf81a43bdaf36169e2fc5a80a",
              "IPY_MODEL_530478beef7d43b7950955e600dd7b15"
            ],
            "layout": "IPY_MODEL_b8397ff02f23412ba79b5eb1950bdc39"
          }
        },
        "1ba1e3e9089a45e183b505f9d9e60743": {
          "model_module": "@jupyter-widgets/output",
          "model_name": "OutputModel",
          "model_module_version": "1.0.0",
          "state": {
            "_dom_classes": [],
            "_model_module": "@jupyter-widgets/output",
            "_model_module_version": "1.0.0",
            "_model_name": "OutputModel",
            "_view_count": null,
            "_view_module": "@jupyter-widgets/output",
            "_view_module_version": "1.0.0",
            "_view_name": "OutputView",
            "layout": "IPY_MODEL_dee5bc8695d94bbba5b935dfe65d4c21",
            "msg_id": "",
            "outputs": [
              {
                "output_type": "display_data",
                "data": {
                  "text/plain": "<IPython.core.display.HTML object>",
                  "text/html": " <span style='border: 2px solid red;'></span> <span style='border: 2px solid green;'>never</span> <span style='border: 2px solid red;'>gonna give you</span> up never gonna let you down"
                },
                "metadata": {}
              },
              {
                "output_type": "stream",
                "name": "stdout",
                "text": [
                  "Position: 0\n",
                  "Center word: 'never'\n",
                  "Context: ['gonna', 'give', 'you']\n"
                ]
              }
            ]
          }
        },
        "b43522575beb493c80d1356e3bec2acd": {
          "model_module": "@jupyter-widgets/base",
          "model_name": "LayoutModel",
          "model_module_version": "1.2.0",
          "state": {
            "_model_module": "@jupyter-widgets/base",
            "_model_module_version": "1.2.0",
            "_model_name": "LayoutModel",
            "_view_count": null,
            "_view_module": "@jupyter-widgets/base",
            "_view_module_version": "1.2.0",
            "_view_name": "LayoutView",
            "align_content": null,
            "align_items": null,
            "align_self": null,
            "border": null,
            "bottom": null,
            "display": null,
            "flex": null,
            "flex_flow": null,
            "grid_area": null,
            "grid_auto_columns": null,
            "grid_auto_flow": null,
            "grid_auto_rows": null,
            "grid_column": null,
            "grid_gap": null,
            "grid_row": null,
            "grid_template_areas": null,
            "grid_template_columns": null,
            "grid_template_rows": null,
            "height": null,
            "justify_content": null,
            "justify_items": null,
            "left": null,
            "margin": null,
            "max_height": null,
            "max_width": null,
            "min_height": null,
            "min_width": null,
            "object_fit": null,
            "object_position": null,
            "order": null,
            "overflow": null,
            "overflow_x": null,
            "overflow_y": null,
            "padding": null,
            "right": null,
            "top": null,
            "visibility": null,
            "width": null
          }
        },
        "7c701d4bf81a43bdaf36169e2fc5a80a": {
          "model_module": "@jupyter-widgets/controls",
          "model_name": "ButtonModel",
          "model_module_version": "1.5.0",
          "state": {
            "_dom_classes": [],
            "_model_module": "@jupyter-widgets/controls",
            "_model_module_version": "1.5.0",
            "_model_name": "ButtonModel",
            "_view_count": null,
            "_view_module": "@jupyter-widgets/controls",
            "_view_module_version": "1.5.0",
            "_view_name": "ButtonView",
            "button_style": "",
            "description": "<<",
            "disabled": false,
            "icon": "",
            "layout": "IPY_MODEL_e55e4c2d411b49068f6a2e524c600151",
            "style": "IPY_MODEL_687f80ae95324276ba2e0d1a3221334b",
            "tooltip": ""
          }
        },
        "530478beef7d43b7950955e600dd7b15": {
          "model_module": "@jupyter-widgets/controls",
          "model_name": "ButtonModel",
          "model_module_version": "1.5.0",
          "state": {
            "_dom_classes": [],
            "_model_module": "@jupyter-widgets/controls",
            "_model_module_version": "1.5.0",
            "_model_name": "ButtonModel",
            "_view_count": null,
            "_view_module": "@jupyter-widgets/controls",
            "_view_module_version": "1.5.0",
            "_view_name": "ButtonView",
            "button_style": "",
            "description": ">>",
            "disabled": false,
            "icon": "",
            "layout": "IPY_MODEL_6580b76980a14320b859ce30ef9c9117",
            "style": "IPY_MODEL_0960df79b20c462ea1cd69f3739dac40",
            "tooltip": ""
          }
        },
        "b8397ff02f23412ba79b5eb1950bdc39": {
          "model_module": "@jupyter-widgets/base",
          "model_name": "LayoutModel",
          "model_module_version": "1.2.0",
          "state": {
            "_model_module": "@jupyter-widgets/base",
            "_model_module_version": "1.2.0",
            "_model_name": "LayoutModel",
            "_view_count": null,
            "_view_module": "@jupyter-widgets/base",
            "_view_module_version": "1.2.0",
            "_view_name": "LayoutView",
            "align_content": null,
            "align_items": null,
            "align_self": null,
            "border": null,
            "bottom": null,
            "display": null,
            "flex": null,
            "flex_flow": null,
            "grid_area": null,
            "grid_auto_columns": null,
            "grid_auto_flow": null,
            "grid_auto_rows": null,
            "grid_column": null,
            "grid_gap": null,
            "grid_row": null,
            "grid_template_areas": null,
            "grid_template_columns": null,
            "grid_template_rows": null,
            "height": null,
            "justify_content": null,
            "justify_items": null,
            "left": null,
            "margin": null,
            "max_height": null,
            "max_width": null,
            "min_height": null,
            "min_width": null,
            "object_fit": null,
            "object_position": null,
            "order": null,
            "overflow": null,
            "overflow_x": null,
            "overflow_y": null,
            "padding": null,
            "right": null,
            "top": null,
            "visibility": null,
            "width": null
          }
        },
        "e55e4c2d411b49068f6a2e524c600151": {
          "model_module": "@jupyter-widgets/base",
          "model_name": "LayoutModel",
          "model_module_version": "1.2.0",
          "state": {
            "_model_module": "@jupyter-widgets/base",
            "_model_module_version": "1.2.0",
            "_model_name": "LayoutModel",
            "_view_count": null,
            "_view_module": "@jupyter-widgets/base",
            "_view_module_version": "1.2.0",
            "_view_name": "LayoutView",
            "align_content": null,
            "align_items": null,
            "align_self": null,
            "border": null,
            "bottom": null,
            "display": null,
            "flex": null,
            "flex_flow": null,
            "grid_area": null,
            "grid_auto_columns": null,
            "grid_auto_flow": null,
            "grid_auto_rows": null,
            "grid_column": null,
            "grid_gap": null,
            "grid_row": null,
            "grid_template_areas": null,
            "grid_template_columns": null,
            "grid_template_rows": null,
            "height": null,
            "justify_content": null,
            "justify_items": null,
            "left": null,
            "margin": null,
            "max_height": null,
            "max_width": null,
            "min_height": null,
            "min_width": null,
            "object_fit": null,
            "object_position": null,
            "order": null,
            "overflow": null,
            "overflow_x": null,
            "overflow_y": null,
            "padding": null,
            "right": null,
            "top": null,
            "visibility": null,
            "width": null
          }
        },
        "687f80ae95324276ba2e0d1a3221334b": {
          "model_module": "@jupyter-widgets/controls",
          "model_name": "ButtonStyleModel",
          "model_module_version": "1.5.0",
          "state": {
            "_model_module": "@jupyter-widgets/controls",
            "_model_module_version": "1.5.0",
            "_model_name": "ButtonStyleModel",
            "_view_count": null,
            "_view_module": "@jupyter-widgets/base",
            "_view_module_version": "1.2.0",
            "_view_name": "StyleView",
            "button_color": null,
            "font_weight": ""
          }
        },
        "6580b76980a14320b859ce30ef9c9117": {
          "model_module": "@jupyter-widgets/base",
          "model_name": "LayoutModel",
          "model_module_version": "1.2.0",
          "state": {
            "_model_module": "@jupyter-widgets/base",
            "_model_module_version": "1.2.0",
            "_model_name": "LayoutModel",
            "_view_count": null,
            "_view_module": "@jupyter-widgets/base",
            "_view_module_version": "1.2.0",
            "_view_name": "LayoutView",
            "align_content": null,
            "align_items": null,
            "align_self": null,
            "border": null,
            "bottom": null,
            "display": null,
            "flex": null,
            "flex_flow": null,
            "grid_area": null,
            "grid_auto_columns": null,
            "grid_auto_flow": null,
            "grid_auto_rows": null,
            "grid_column": null,
            "grid_gap": null,
            "grid_row": null,
            "grid_template_areas": null,
            "grid_template_columns": null,
            "grid_template_rows": null,
            "height": null,
            "justify_content": null,
            "justify_items": null,
            "left": null,
            "margin": null,
            "max_height": null,
            "max_width": null,
            "min_height": null,
            "min_width": null,
            "object_fit": null,
            "object_position": null,
            "order": null,
            "overflow": null,
            "overflow_x": null,
            "overflow_y": null,
            "padding": null,
            "right": null,
            "top": null,
            "visibility": null,
            "width": null
          }
        },
        "0960df79b20c462ea1cd69f3739dac40": {
          "model_module": "@jupyter-widgets/controls",
          "model_name": "ButtonStyleModel",
          "model_module_version": "1.5.0",
          "state": {
            "_model_module": "@jupyter-widgets/controls",
            "_model_module_version": "1.5.0",
            "_model_name": "ButtonStyleModel",
            "_view_count": null,
            "_view_module": "@jupyter-widgets/base",
            "_view_module_version": "1.2.0",
            "_view_name": "StyleView",
            "button_color": null,
            "font_weight": ""
          }
        },
        "dee5bc8695d94bbba5b935dfe65d4c21": {
          "model_module": "@jupyter-widgets/base",
          "model_name": "LayoutModel",
          "model_module_version": "1.2.0",
          "state": {
            "_model_module": "@jupyter-widgets/base",
            "_model_module_version": "1.2.0",
            "_model_name": "LayoutModel",
            "_view_count": null,
            "_view_module": "@jupyter-widgets/base",
            "_view_module_version": "1.2.0",
            "_view_name": "LayoutView",
            "align_content": null,
            "align_items": null,
            "align_self": null,
            "border": null,
            "bottom": null,
            "display": null,
            "flex": null,
            "flex_flow": null,
            "grid_area": null,
            "grid_auto_columns": null,
            "grid_auto_flow": null,
            "grid_auto_rows": null,
            "grid_column": null,
            "grid_gap": null,
            "grid_row": null,
            "grid_template_areas": null,
            "grid_template_columns": null,
            "grid_template_rows": null,
            "height": null,
            "justify_content": null,
            "justify_items": null,
            "left": null,
            "margin": null,
            "max_height": null,
            "max_width": null,
            "min_height": null,
            "min_width": null,
            "object_fit": null,
            "object_position": null,
            "order": null,
            "overflow": null,
            "overflow_x": null,
            "overflow_y": null,
            "padding": null,
            "right": null,
            "top": null,
            "visibility": null,
            "width": null
          }
        },
        "4ebb539bccd943fa860309c60d0029f3": {
          "model_module": "@jupyter-widgets/controls",
          "model_name": "VBoxModel",
          "model_module_version": "1.5.0",
          "state": {
            "_dom_classes": [],
            "_model_module": "@jupyter-widgets/controls",
            "_model_module_version": "1.5.0",
            "_model_name": "VBoxModel",
            "_view_count": null,
            "_view_module": "@jupyter-widgets/controls",
            "_view_module_version": "1.5.0",
            "_view_name": "VBoxView",
            "box_style": "",
            "children": [
              "IPY_MODEL_9c8c4aaab38c4c65aefe55795acff86d",
              "IPY_MODEL_ce3f6be1e238405286446d32de0f16ac",
              "IPY_MODEL_642a2ea964fe410ab51794aebeb15732",
              "IPY_MODEL_c73beb9161654ae884c9f54b4005a571"
            ],
            "layout": "IPY_MODEL_0ed583fb660e4d389ca4a865c5ae66bd"
          }
        },
        "9c8c4aaab38c4c65aefe55795acff86d": {
          "model_module": "@jupyter-widgets/output",
          "model_name": "OutputModel",
          "model_module_version": "1.0.0",
          "state": {
            "_dom_classes": [],
            "_model_module": "@jupyter-widgets/output",
            "_model_module_version": "1.0.0",
            "_model_name": "OutputModel",
            "_view_count": null,
            "_view_module": "@jupyter-widgets/output",
            "_view_module_version": "1.0.0",
            "_view_name": "OutputView",
            "layout": "IPY_MODEL_3bcbcf6fb5f04b87a3f5a38d9df96023",
            "msg_id": "",
            "outputs": [
              {
                "output_type": "display_data",
                "data": {
                  "text/plain": "HTML(value='\\n            Choose the correct context for the word \"quick\" in the following sentence:\\n        …",
                  "application/vnd.jupyter.widget-view+json": {
                    "version_major": 2,
                    "version_minor": 0,
                    "model_id": "e4d389361ce84b2ba52af1fb11119e2c"
                  }
                },
                "metadata": {}
              }
            ]
          }
        },
        "ce3f6be1e238405286446d32de0f16ac": {
          "model_module": "@jupyter-widgets/controls",
          "model_name": "RadioButtonsModel",
          "model_module_version": "1.5.0",
          "state": {
            "_dom_classes": [],
            "_model_module": "@jupyter-widgets/controls",
            "_model_module_version": "1.5.0",
            "_model_name": "RadioButtonsModel",
            "_options_labels": [
              "(the, brown)",
              "(the, quick, brown, fox)",
              "(the, brown, fox)",
              "Cannot compute the context."
            ],
            "_view_count": null,
            "_view_module": "@jupyter-widgets/controls",
            "_view_module_version": "1.5.0",
            "_view_name": "RadioButtonsView",
            "description": "",
            "description_tooltip": null,
            "disabled": false,
            "index": 0,
            "layout": "IPY_MODEL_9fe87dfaec224312a0bcaff1fc0c04e4",
            "style": "IPY_MODEL_e827f6c2ef8743dcabc159c4e787f2bb"
          }
        },
        "642a2ea964fe410ab51794aebeb15732": {
          "model_module": "@jupyter-widgets/controls",
          "model_name": "HTMLModel",
          "model_module_version": "1.5.0",
          "state": {
            "_dom_classes": [],
            "_model_module": "@jupyter-widgets/controls",
            "_model_module_version": "1.5.0",
            "_model_name": "HTMLModel",
            "_view_count": null,
            "_view_module": "@jupyter-widgets/controls",
            "_view_module_version": "1.5.0",
            "_view_name": "HTMLView",
            "description": "",
            "description_tooltip": null,
            "layout": "IPY_MODEL_ef99281e7fb94467b035b05038a332a7",
            "placeholder": "​",
            "style": "IPY_MODEL_62a83dace2a14927a2ffa547c3fa5c8e",
            "value": "<br>"
          }
        },
        "c73beb9161654ae884c9f54b4005a571": {
          "model_module": "@jupyter-widgets/controls",
          "model_name": "ButtonModel",
          "model_module_version": "1.5.0",
          "state": {
            "_dom_classes": [],
            "_model_module": "@jupyter-widgets/controls",
            "_model_module_version": "1.5.0",
            "_model_name": "ButtonModel",
            "_view_count": null,
            "_view_module": "@jupyter-widgets/controls",
            "_view_module_version": "1.5.0",
            "_view_name": "ButtonView",
            "button_style": "",
            "description": "Check",
            "disabled": false,
            "icon": "",
            "layout": "IPY_MODEL_51d5afbb7dfd47fcbcdb811d683373e1",
            "style": "IPY_MODEL_7b20dcb230fd4fc994711ef14a96b806",
            "tooltip": ""
          }
        },
        "0ed583fb660e4d389ca4a865c5ae66bd": {
          "model_module": "@jupyter-widgets/base",
          "model_name": "LayoutModel",
          "model_module_version": "1.2.0",
          "state": {
            "_model_module": "@jupyter-widgets/base",
            "_model_module_version": "1.2.0",
            "_model_name": "LayoutModel",
            "_view_count": null,
            "_view_module": "@jupyter-widgets/base",
            "_view_module_version": "1.2.0",
            "_view_name": "LayoutView",
            "align_content": null,
            "align_items": null,
            "align_self": null,
            "border": null,
            "bottom": null,
            "display": null,
            "flex": null,
            "flex_flow": null,
            "grid_area": null,
            "grid_auto_columns": null,
            "grid_auto_flow": null,
            "grid_auto_rows": null,
            "grid_column": null,
            "grid_gap": null,
            "grid_row": null,
            "grid_template_areas": null,
            "grid_template_columns": null,
            "grid_template_rows": null,
            "height": null,
            "justify_content": null,
            "justify_items": null,
            "left": null,
            "margin": null,
            "max_height": null,
            "max_width": null,
            "min_height": null,
            "min_width": null,
            "object_fit": null,
            "object_position": null,
            "order": null,
            "overflow": null,
            "overflow_x": null,
            "overflow_y": null,
            "padding": null,
            "right": null,
            "top": null,
            "visibility": null,
            "width": null
          }
        },
        "9fe87dfaec224312a0bcaff1fc0c04e4": {
          "model_module": "@jupyter-widgets/base",
          "model_name": "LayoutModel",
          "model_module_version": "1.2.0",
          "state": {
            "_model_module": "@jupyter-widgets/base",
            "_model_module_version": "1.2.0",
            "_model_name": "LayoutModel",
            "_view_count": null,
            "_view_module": "@jupyter-widgets/base",
            "_view_module_version": "1.2.0",
            "_view_name": "LayoutView",
            "align_content": null,
            "align_items": null,
            "align_self": null,
            "border": null,
            "bottom": null,
            "display": null,
            "flex": null,
            "flex_flow": null,
            "grid_area": null,
            "grid_auto_columns": null,
            "grid_auto_flow": null,
            "grid_auto_rows": null,
            "grid_column": null,
            "grid_gap": null,
            "grid_row": null,
            "grid_template_areas": null,
            "grid_template_columns": null,
            "grid_template_rows": null,
            "height": null,
            "justify_content": null,
            "justify_items": null,
            "left": null,
            "margin": null,
            "max_height": null,
            "max_width": null,
            "min_height": null,
            "min_width": null,
            "object_fit": null,
            "object_position": null,
            "order": null,
            "overflow": null,
            "overflow_x": null,
            "overflow_y": null,
            "padding": null,
            "right": null,
            "top": null,
            "visibility": null,
            "width": null
          }
        },
        "e827f6c2ef8743dcabc159c4e787f2bb": {
          "model_module": "@jupyter-widgets/controls",
          "model_name": "DescriptionStyleModel",
          "model_module_version": "1.5.0",
          "state": {
            "_model_module": "@jupyter-widgets/controls",
            "_model_module_version": "1.5.0",
            "_model_name": "DescriptionStyleModel",
            "_view_count": null,
            "_view_module": "@jupyter-widgets/base",
            "_view_module_version": "1.2.0",
            "_view_name": "StyleView",
            "description_width": ""
          }
        },
        "ef99281e7fb94467b035b05038a332a7": {
          "model_module": "@jupyter-widgets/base",
          "model_name": "LayoutModel",
          "model_module_version": "1.2.0",
          "state": {
            "_model_module": "@jupyter-widgets/base",
            "_model_module_version": "1.2.0",
            "_model_name": "LayoutModel",
            "_view_count": null,
            "_view_module": "@jupyter-widgets/base",
            "_view_module_version": "1.2.0",
            "_view_name": "LayoutView",
            "align_content": null,
            "align_items": null,
            "align_self": null,
            "border": null,
            "bottom": null,
            "display": null,
            "flex": null,
            "flex_flow": null,
            "grid_area": null,
            "grid_auto_columns": null,
            "grid_auto_flow": null,
            "grid_auto_rows": null,
            "grid_column": null,
            "grid_gap": null,
            "grid_row": null,
            "grid_template_areas": null,
            "grid_template_columns": null,
            "grid_template_rows": null,
            "height": null,
            "justify_content": null,
            "justify_items": null,
            "left": null,
            "margin": null,
            "max_height": null,
            "max_width": null,
            "min_height": null,
            "min_width": null,
            "object_fit": null,
            "object_position": null,
            "order": null,
            "overflow": null,
            "overflow_x": null,
            "overflow_y": null,
            "padding": null,
            "right": null,
            "top": null,
            "visibility": null,
            "width": null
          }
        },
        "62a83dace2a14927a2ffa547c3fa5c8e": {
          "model_module": "@jupyter-widgets/controls",
          "model_name": "DescriptionStyleModel",
          "model_module_version": "1.5.0",
          "state": {
            "_model_module": "@jupyter-widgets/controls",
            "_model_module_version": "1.5.0",
            "_model_name": "DescriptionStyleModel",
            "_view_count": null,
            "_view_module": "@jupyter-widgets/base",
            "_view_module_version": "1.2.0",
            "_view_name": "StyleView",
            "description_width": ""
          }
        },
        "51d5afbb7dfd47fcbcdb811d683373e1": {
          "model_module": "@jupyter-widgets/base",
          "model_name": "LayoutModel",
          "model_module_version": "1.2.0",
          "state": {
            "_model_module": "@jupyter-widgets/base",
            "_model_module_version": "1.2.0",
            "_model_name": "LayoutModel",
            "_view_count": null,
            "_view_module": "@jupyter-widgets/base",
            "_view_module_version": "1.2.0",
            "_view_name": "LayoutView",
            "align_content": null,
            "align_items": null,
            "align_self": null,
            "border": null,
            "bottom": null,
            "display": null,
            "flex": null,
            "flex_flow": null,
            "grid_area": null,
            "grid_auto_columns": null,
            "grid_auto_flow": null,
            "grid_auto_rows": null,
            "grid_column": null,
            "grid_gap": null,
            "grid_row": null,
            "grid_template_areas": null,
            "grid_template_columns": null,
            "grid_template_rows": null,
            "height": null,
            "justify_content": null,
            "justify_items": null,
            "left": null,
            "margin": null,
            "max_height": null,
            "max_width": null,
            "min_height": null,
            "min_width": null,
            "object_fit": null,
            "object_position": null,
            "order": null,
            "overflow": null,
            "overflow_x": null,
            "overflow_y": null,
            "padding": null,
            "right": null,
            "top": null,
            "visibility": null,
            "width": null
          }
        },
        "7b20dcb230fd4fc994711ef14a96b806": {
          "model_module": "@jupyter-widgets/controls",
          "model_name": "ButtonStyleModel",
          "model_module_version": "1.5.0",
          "state": {
            "_model_module": "@jupyter-widgets/controls",
            "_model_module_version": "1.5.0",
            "_model_name": "ButtonStyleModel",
            "_view_count": null,
            "_view_module": "@jupyter-widgets/base",
            "_view_module_version": "1.2.0",
            "_view_name": "StyleView",
            "button_color": null,
            "font_weight": ""
          }
        },
        "e4d389361ce84b2ba52af1fb11119e2c": {
          "model_module": "@jupyter-widgets/controls",
          "model_name": "HTMLModel",
          "model_module_version": "1.5.0",
          "state": {
            "_dom_classes": [],
            "_model_module": "@jupyter-widgets/controls",
            "_model_module_version": "1.5.0",
            "_model_name": "HTMLModel",
            "_view_count": null,
            "_view_module": "@jupyter-widgets/controls",
            "_view_module_version": "1.5.0",
            "_view_name": "HTMLView",
            "description": "",
            "description_tooltip": null,
            "layout": "IPY_MODEL_5d99df9a8825465787819f1565f3bbd0",
            "placeholder": "​",
            "style": "IPY_MODEL_59a969c85d244bf49b3245c64d7ff31e",
            "value": "\n            Choose the correct context for the word \"quick\" in the following sentence:\n            <br>\n            <it>the quick brown fox jumps over the lazy dog</it>\n            <br>\n            Window size is 2.\n        "
          }
        },
        "3bcbcf6fb5f04b87a3f5a38d9df96023": {
          "model_module": "@jupyter-widgets/base",
          "model_name": "LayoutModel",
          "model_module_version": "1.2.0",
          "state": {
            "_model_module": "@jupyter-widgets/base",
            "_model_module_version": "1.2.0",
            "_model_name": "LayoutModel",
            "_view_count": null,
            "_view_module": "@jupyter-widgets/base",
            "_view_module_version": "1.2.0",
            "_view_name": "LayoutView",
            "align_content": null,
            "align_items": null,
            "align_self": null,
            "border": null,
            "bottom": null,
            "display": null,
            "flex": null,
            "flex_flow": null,
            "grid_area": null,
            "grid_auto_columns": null,
            "grid_auto_flow": null,
            "grid_auto_rows": null,
            "grid_column": null,
            "grid_gap": null,
            "grid_row": null,
            "grid_template_areas": null,
            "grid_template_columns": null,
            "grid_template_rows": null,
            "height": null,
            "justify_content": null,
            "justify_items": null,
            "left": null,
            "margin": null,
            "max_height": null,
            "max_width": null,
            "min_height": null,
            "min_width": null,
            "object_fit": null,
            "object_position": null,
            "order": null,
            "overflow": null,
            "overflow_x": null,
            "overflow_y": null,
            "padding": null,
            "right": null,
            "top": null,
            "visibility": null,
            "width": null
          }
        },
        "5d99df9a8825465787819f1565f3bbd0": {
          "model_module": "@jupyter-widgets/base",
          "model_name": "LayoutModel",
          "model_module_version": "1.2.0",
          "state": {
            "_model_module": "@jupyter-widgets/base",
            "_model_module_version": "1.2.0",
            "_model_name": "LayoutModel",
            "_view_count": null,
            "_view_module": "@jupyter-widgets/base",
            "_view_module_version": "1.2.0",
            "_view_name": "LayoutView",
            "align_content": null,
            "align_items": null,
            "align_self": null,
            "border": null,
            "bottom": null,
            "display": null,
            "flex": null,
            "flex_flow": null,
            "grid_area": null,
            "grid_auto_columns": null,
            "grid_auto_flow": null,
            "grid_auto_rows": null,
            "grid_column": null,
            "grid_gap": null,
            "grid_row": null,
            "grid_template_areas": null,
            "grid_template_columns": null,
            "grid_template_rows": null,
            "height": null,
            "justify_content": null,
            "justify_items": null,
            "left": null,
            "margin": null,
            "max_height": null,
            "max_width": null,
            "min_height": null,
            "min_width": null,
            "object_fit": null,
            "object_position": null,
            "order": null,
            "overflow": null,
            "overflow_x": null,
            "overflow_y": null,
            "padding": null,
            "right": null,
            "top": null,
            "visibility": null,
            "width": null
          }
        },
        "59a969c85d244bf49b3245c64d7ff31e": {
          "model_module": "@jupyter-widgets/controls",
          "model_name": "DescriptionStyleModel",
          "model_module_version": "1.5.0",
          "state": {
            "_model_module": "@jupyter-widgets/controls",
            "_model_module_version": "1.5.0",
            "_model_name": "DescriptionStyleModel",
            "_view_count": null,
            "_view_module": "@jupyter-widgets/base",
            "_view_module_version": "1.2.0",
            "_view_name": "StyleView",
            "description_width": ""
          }
        },
        "6bf20395c4224570bab0ae4ff25eec87": {
          "model_module": "@jupyter-widgets/controls",
          "model_name": "VBoxModel",
          "model_module_version": "1.5.0",
          "state": {
            "_dom_classes": [],
            "_model_module": "@jupyter-widgets/controls",
            "_model_module_version": "1.5.0",
            "_model_name": "VBoxModel",
            "_view_count": null,
            "_view_module": "@jupyter-widgets/controls",
            "_view_module_version": "1.5.0",
            "_view_name": "VBoxView",
            "box_style": "",
            "children": [
              "IPY_MODEL_da947a734f1c4fae997b9db6a8f8193b",
              "IPY_MODEL_3855a5c1a6c34c4fbd39cf2dac1c549d",
              "IPY_MODEL_656455b0405a43a892d52730970ae4e7",
              "IPY_MODEL_a426aee27c6441ea80248492d6cf73d6"
            ],
            "layout": "IPY_MODEL_e225cd056e2b4a7086c23abd0bae30f7"
          }
        },
        "da947a734f1c4fae997b9db6a8f8193b": {
          "model_module": "@jupyter-widgets/output",
          "model_name": "OutputModel",
          "model_module_version": "1.0.0",
          "state": {
            "_dom_classes": [],
            "_model_module": "@jupyter-widgets/output",
            "_model_module_version": "1.0.0",
            "_model_name": "OutputModel",
            "_view_count": null,
            "_view_module": "@jupyter-widgets/output",
            "_view_module_version": "1.0.0",
            "_view_name": "OutputView",
            "layout": "IPY_MODEL_ec67222f53b947478f461362cbd6fd70",
            "msg_id": "",
            "outputs": [
              {
                "output_type": "display_data",
                "data": {
                  "text/plain": "HTML(value='\\n            word2vec algorithm learns two matrices: the matrix of central vectors and the matrix…",
                  "application/vnd.jupyter.widget-view+json": {
                    "version_major": 2,
                    "version_minor": 0,
                    "model_id": "2a419bad422844e1ba7c540068e3a143"
                  }
                },
                "metadata": {}
              }
            ]
          }
        },
        "3855a5c1a6c34c4fbd39cf2dac1c549d": {
          "model_module": "@jupyter-widgets/controls",
          "model_name": "RadioButtonsModel",
          "model_module_version": "1.5.0",
          "state": {
            "_dom_classes": [],
            "_model_module": "@jupyter-widgets/controls",
            "_model_module_version": "1.5.0",
            "_model_name": "RadioButtonsModel",
            "_options_labels": [
              "Taken from the matrix of context vectors",
              "Taken from the matrix of central vectors",
              "It is the average of central and context vectors",
              "None of the above"
            ],
            "_view_count": null,
            "_view_module": "@jupyter-widgets/controls",
            "_view_module_version": "1.5.0",
            "_view_name": "RadioButtonsView",
            "description": "",
            "description_tooltip": null,
            "disabled": false,
            "index": 0,
            "layout": "IPY_MODEL_99472d29d10a4904adf742d87409ee55",
            "style": "IPY_MODEL_2a3a697bf7954525a5dfc525008a1a5a"
          }
        },
        "656455b0405a43a892d52730970ae4e7": {
          "model_module": "@jupyter-widgets/controls",
          "model_name": "HTMLModel",
          "model_module_version": "1.5.0",
          "state": {
            "_dom_classes": [],
            "_model_module": "@jupyter-widgets/controls",
            "_model_module_version": "1.5.0",
            "_model_name": "HTMLModel",
            "_view_count": null,
            "_view_module": "@jupyter-widgets/controls",
            "_view_module_version": "1.5.0",
            "_view_name": "HTMLView",
            "description": "",
            "description_tooltip": null,
            "layout": "IPY_MODEL_603c5faff9bc42f5b802fb18533bd46d",
            "placeholder": "​",
            "style": "IPY_MODEL_0794a92819014096b73ea2cb972986d1",
            "value": "<br>"
          }
        },
        "a426aee27c6441ea80248492d6cf73d6": {
          "model_module": "@jupyter-widgets/controls",
          "model_name": "ButtonModel",
          "model_module_version": "1.5.0",
          "state": {
            "_dom_classes": [],
            "_model_module": "@jupyter-widgets/controls",
            "_model_module_version": "1.5.0",
            "_model_name": "ButtonModel",
            "_view_count": null,
            "_view_module": "@jupyter-widgets/controls",
            "_view_module_version": "1.5.0",
            "_view_name": "ButtonView",
            "button_style": "",
            "description": "Check",
            "disabled": false,
            "icon": "",
            "layout": "IPY_MODEL_24a6dd9c56de465ab95125681b3952de",
            "style": "IPY_MODEL_5eb4a1abe79b4b069b8e6dbac2826aba",
            "tooltip": ""
          }
        },
        "e225cd056e2b4a7086c23abd0bae30f7": {
          "model_module": "@jupyter-widgets/base",
          "model_name": "LayoutModel",
          "model_module_version": "1.2.0",
          "state": {
            "_model_module": "@jupyter-widgets/base",
            "_model_module_version": "1.2.0",
            "_model_name": "LayoutModel",
            "_view_count": null,
            "_view_module": "@jupyter-widgets/base",
            "_view_module_version": "1.2.0",
            "_view_name": "LayoutView",
            "align_content": null,
            "align_items": null,
            "align_self": null,
            "border": null,
            "bottom": null,
            "display": null,
            "flex": null,
            "flex_flow": null,
            "grid_area": null,
            "grid_auto_columns": null,
            "grid_auto_flow": null,
            "grid_auto_rows": null,
            "grid_column": null,
            "grid_gap": null,
            "grid_row": null,
            "grid_template_areas": null,
            "grid_template_columns": null,
            "grid_template_rows": null,
            "height": null,
            "justify_content": null,
            "justify_items": null,
            "left": null,
            "margin": null,
            "max_height": null,
            "max_width": null,
            "min_height": null,
            "min_width": null,
            "object_fit": null,
            "object_position": null,
            "order": null,
            "overflow": null,
            "overflow_x": null,
            "overflow_y": null,
            "padding": null,
            "right": null,
            "top": null,
            "visibility": null,
            "width": null
          }
        },
        "99472d29d10a4904adf742d87409ee55": {
          "model_module": "@jupyter-widgets/base",
          "model_name": "LayoutModel",
          "model_module_version": "1.2.0",
          "state": {
            "_model_module": "@jupyter-widgets/base",
            "_model_module_version": "1.2.0",
            "_model_name": "LayoutModel",
            "_view_count": null,
            "_view_module": "@jupyter-widgets/base",
            "_view_module_version": "1.2.0",
            "_view_name": "LayoutView",
            "align_content": null,
            "align_items": null,
            "align_self": null,
            "border": null,
            "bottom": null,
            "display": null,
            "flex": null,
            "flex_flow": null,
            "grid_area": null,
            "grid_auto_columns": null,
            "grid_auto_flow": null,
            "grid_auto_rows": null,
            "grid_column": null,
            "grid_gap": null,
            "grid_row": null,
            "grid_template_areas": null,
            "grid_template_columns": null,
            "grid_template_rows": null,
            "height": null,
            "justify_content": null,
            "justify_items": null,
            "left": null,
            "margin": null,
            "max_height": null,
            "max_width": null,
            "min_height": null,
            "min_width": null,
            "object_fit": null,
            "object_position": null,
            "order": null,
            "overflow": null,
            "overflow_x": null,
            "overflow_y": null,
            "padding": null,
            "right": null,
            "top": null,
            "visibility": null,
            "width": null
          }
        },
        "2a3a697bf7954525a5dfc525008a1a5a": {
          "model_module": "@jupyter-widgets/controls",
          "model_name": "DescriptionStyleModel",
          "model_module_version": "1.5.0",
          "state": {
            "_model_module": "@jupyter-widgets/controls",
            "_model_module_version": "1.5.0",
            "_model_name": "DescriptionStyleModel",
            "_view_count": null,
            "_view_module": "@jupyter-widgets/base",
            "_view_module_version": "1.2.0",
            "_view_name": "StyleView",
            "description_width": ""
          }
        },
        "603c5faff9bc42f5b802fb18533bd46d": {
          "model_module": "@jupyter-widgets/base",
          "model_name": "LayoutModel",
          "model_module_version": "1.2.0",
          "state": {
            "_model_module": "@jupyter-widgets/base",
            "_model_module_version": "1.2.0",
            "_model_name": "LayoutModel",
            "_view_count": null,
            "_view_module": "@jupyter-widgets/base",
            "_view_module_version": "1.2.0",
            "_view_name": "LayoutView",
            "align_content": null,
            "align_items": null,
            "align_self": null,
            "border": null,
            "bottom": null,
            "display": null,
            "flex": null,
            "flex_flow": null,
            "grid_area": null,
            "grid_auto_columns": null,
            "grid_auto_flow": null,
            "grid_auto_rows": null,
            "grid_column": null,
            "grid_gap": null,
            "grid_row": null,
            "grid_template_areas": null,
            "grid_template_columns": null,
            "grid_template_rows": null,
            "height": null,
            "justify_content": null,
            "justify_items": null,
            "left": null,
            "margin": null,
            "max_height": null,
            "max_width": null,
            "min_height": null,
            "min_width": null,
            "object_fit": null,
            "object_position": null,
            "order": null,
            "overflow": null,
            "overflow_x": null,
            "overflow_y": null,
            "padding": null,
            "right": null,
            "top": null,
            "visibility": null,
            "width": null
          }
        },
        "0794a92819014096b73ea2cb972986d1": {
          "model_module": "@jupyter-widgets/controls",
          "model_name": "DescriptionStyleModel",
          "model_module_version": "1.5.0",
          "state": {
            "_model_module": "@jupyter-widgets/controls",
            "_model_module_version": "1.5.0",
            "_model_name": "DescriptionStyleModel",
            "_view_count": null,
            "_view_module": "@jupyter-widgets/base",
            "_view_module_version": "1.2.0",
            "_view_name": "StyleView",
            "description_width": ""
          }
        },
        "24a6dd9c56de465ab95125681b3952de": {
          "model_module": "@jupyter-widgets/base",
          "model_name": "LayoutModel",
          "model_module_version": "1.2.0",
          "state": {
            "_model_module": "@jupyter-widgets/base",
            "_model_module_version": "1.2.0",
            "_model_name": "LayoutModel",
            "_view_count": null,
            "_view_module": "@jupyter-widgets/base",
            "_view_module_version": "1.2.0",
            "_view_name": "LayoutView",
            "align_content": null,
            "align_items": null,
            "align_self": null,
            "border": null,
            "bottom": null,
            "display": null,
            "flex": null,
            "flex_flow": null,
            "grid_area": null,
            "grid_auto_columns": null,
            "grid_auto_flow": null,
            "grid_auto_rows": null,
            "grid_column": null,
            "grid_gap": null,
            "grid_row": null,
            "grid_template_areas": null,
            "grid_template_columns": null,
            "grid_template_rows": null,
            "height": null,
            "justify_content": null,
            "justify_items": null,
            "left": null,
            "margin": null,
            "max_height": null,
            "max_width": null,
            "min_height": null,
            "min_width": null,
            "object_fit": null,
            "object_position": null,
            "order": null,
            "overflow": null,
            "overflow_x": null,
            "overflow_y": null,
            "padding": null,
            "right": null,
            "top": null,
            "visibility": null,
            "width": null
          }
        },
        "5eb4a1abe79b4b069b8e6dbac2826aba": {
          "model_module": "@jupyter-widgets/controls",
          "model_name": "ButtonStyleModel",
          "model_module_version": "1.5.0",
          "state": {
            "_model_module": "@jupyter-widgets/controls",
            "_model_module_version": "1.5.0",
            "_model_name": "ButtonStyleModel",
            "_view_count": null,
            "_view_module": "@jupyter-widgets/base",
            "_view_module_version": "1.2.0",
            "_view_name": "StyleView",
            "button_color": null,
            "font_weight": ""
          }
        },
        "2a419bad422844e1ba7c540068e3a143": {
          "model_module": "@jupyter-widgets/controls",
          "model_name": "HTMLModel",
          "model_module_version": "1.5.0",
          "state": {
            "_dom_classes": [],
            "_model_module": "@jupyter-widgets/controls",
            "_model_module_version": "1.5.0",
            "_model_name": "HTMLModel",
            "_view_count": null,
            "_view_module": "@jupyter-widgets/controls",
            "_view_module_version": "1.5.0",
            "_view_name": "HTMLView",
            "description": "",
            "description_tooltip": null,
            "layout": "IPY_MODEL_ae61ab2392e54037893832c3bcae07fb",
            "placeholder": "​",
            "style": "IPY_MODEL_393b614bad244d3989a9162455aba662",
            "value": "\n            word2vec algorithm learns two matrices: the matrix of central vectors and the matrix of context vectors.\n            In the implementation above, how is the word vector computed for a given word?\n        "
          }
        },
        "ec67222f53b947478f461362cbd6fd70": {
          "model_module": "@jupyter-widgets/base",
          "model_name": "LayoutModel",
          "model_module_version": "1.2.0",
          "state": {
            "_model_module": "@jupyter-widgets/base",
            "_model_module_version": "1.2.0",
            "_model_name": "LayoutModel",
            "_view_count": null,
            "_view_module": "@jupyter-widgets/base",
            "_view_module_version": "1.2.0",
            "_view_name": "LayoutView",
            "align_content": null,
            "align_items": null,
            "align_self": null,
            "border": null,
            "bottom": null,
            "display": null,
            "flex": null,
            "flex_flow": null,
            "grid_area": null,
            "grid_auto_columns": null,
            "grid_auto_flow": null,
            "grid_auto_rows": null,
            "grid_column": null,
            "grid_gap": null,
            "grid_row": null,
            "grid_template_areas": null,
            "grid_template_columns": null,
            "grid_template_rows": null,
            "height": null,
            "justify_content": null,
            "justify_items": null,
            "left": null,
            "margin": null,
            "max_height": null,
            "max_width": null,
            "min_height": null,
            "min_width": null,
            "object_fit": null,
            "object_position": null,
            "order": null,
            "overflow": null,
            "overflow_x": null,
            "overflow_y": null,
            "padding": null,
            "right": null,
            "top": null,
            "visibility": null,
            "width": null
          }
        },
        "ae61ab2392e54037893832c3bcae07fb": {
          "model_module": "@jupyter-widgets/base",
          "model_name": "LayoutModel",
          "model_module_version": "1.2.0",
          "state": {
            "_model_module": "@jupyter-widgets/base",
            "_model_module_version": "1.2.0",
            "_model_name": "LayoutModel",
            "_view_count": null,
            "_view_module": "@jupyter-widgets/base",
            "_view_module_version": "1.2.0",
            "_view_name": "LayoutView",
            "align_content": null,
            "align_items": null,
            "align_self": null,
            "border": null,
            "bottom": null,
            "display": null,
            "flex": null,
            "flex_flow": null,
            "grid_area": null,
            "grid_auto_columns": null,
            "grid_auto_flow": null,
            "grid_auto_rows": null,
            "grid_column": null,
            "grid_gap": null,
            "grid_row": null,
            "grid_template_areas": null,
            "grid_template_columns": null,
            "grid_template_rows": null,
            "height": null,
            "justify_content": null,
            "justify_items": null,
            "left": null,
            "margin": null,
            "max_height": null,
            "max_width": null,
            "min_height": null,
            "min_width": null,
            "object_fit": null,
            "object_position": null,
            "order": null,
            "overflow": null,
            "overflow_x": null,
            "overflow_y": null,
            "padding": null,
            "right": null,
            "top": null,
            "visibility": null,
            "width": null
          }
        },
        "393b614bad244d3989a9162455aba662": {
          "model_module": "@jupyter-widgets/controls",
          "model_name": "DescriptionStyleModel",
          "model_module_version": "1.5.0",
          "state": {
            "_model_module": "@jupyter-widgets/controls",
            "_model_module_version": "1.5.0",
            "_model_name": "DescriptionStyleModel",
            "_view_count": null,
            "_view_module": "@jupyter-widgets/base",
            "_view_module_version": "1.2.0",
            "_view_name": "StyleView",
            "description_width": ""
          }
        },
        "cc7bb88e1f434e848ef04dfbcb9bead6": {
          "model_module": "@jupyter-widgets/controls",
          "model_name": "VBoxModel",
          "model_module_version": "1.5.0",
          "state": {
            "_dom_classes": [],
            "_model_module": "@jupyter-widgets/controls",
            "_model_module_version": "1.5.0",
            "_model_name": "VBoxModel",
            "_view_count": null,
            "_view_module": "@jupyter-widgets/controls",
            "_view_module_version": "1.5.0",
            "_view_name": "VBoxView",
            "box_style": "",
            "children": [
              "IPY_MODEL_75eed0d4aaf54d429631066c4c005d2c",
              "IPY_MODEL_368e1140bb324478954f42121dd4ef93",
              "IPY_MODEL_33592f31e8f3401cb48c893ba42f121f",
              "IPY_MODEL_a2c05b4adad5432d847640e39450350d"
            ],
            "layout": "IPY_MODEL_00355bae73b64d6d9b3390c547760db3"
          }
        },
        "75eed0d4aaf54d429631066c4c005d2c": {
          "model_module": "@jupyter-widgets/output",
          "model_name": "OutputModel",
          "model_module_version": "1.0.0",
          "state": {
            "_dom_classes": [],
            "_model_module": "@jupyter-widgets/output",
            "_model_module_version": "1.0.0",
            "_model_name": "OutputModel",
            "_view_count": null,
            "_view_module": "@jupyter-widgets/output",
            "_view_module_version": "1.0.0",
            "_view_name": "OutputView",
            "layout": "IPY_MODEL_5da7e92b2d764b82a675426f4f8ed2e9",
            "msg_id": "",
            "outputs": [
              {
                "output_type": "display_data",
                "data": {
                  "text/plain": "HTML(value='\\n            In the implementation above, which words are subsampled (i.e. too frequent words are…",
                  "application/vnd.jupyter.widget-view+json": {
                    "version_major": 2,
                    "version_minor": 0,
                    "model_id": "bd351f34f28c4f69aa37dadbf2bd3332"
                  }
                },
                "metadata": {}
              }
            ]
          }
        },
        "368e1140bb324478954f42121dd4ef93": {
          "model_module": "@jupyter-widgets/controls",
          "model_name": "RadioButtonsModel",
          "model_module_version": "1.5.0",
          "state": {
            "_dom_classes": [],
            "_model_module": "@jupyter-widgets/controls",
            "_model_module_version": "1.5.0",
            "_model_name": "RadioButtonsModel",
            "_options_labels": [
              "Central words",
              "Context words",
              "Negative samples",
              "All of them"
            ],
            "_view_count": null,
            "_view_module": "@jupyter-widgets/controls",
            "_view_module_version": "1.5.0",
            "_view_name": "RadioButtonsView",
            "description": "",
            "description_tooltip": null,
            "disabled": false,
            "index": 0,
            "layout": "IPY_MODEL_6c18710343f24e8f85591da1cd9b7858",
            "style": "IPY_MODEL_cc69c0654f5f41ca91f75470bfa2295d"
          }
        },
        "33592f31e8f3401cb48c893ba42f121f": {
          "model_module": "@jupyter-widgets/controls",
          "model_name": "HTMLModel",
          "model_module_version": "1.5.0",
          "state": {
            "_dom_classes": [],
            "_model_module": "@jupyter-widgets/controls",
            "_model_module_version": "1.5.0",
            "_model_name": "HTMLModel",
            "_view_count": null,
            "_view_module": "@jupyter-widgets/controls",
            "_view_module_version": "1.5.0",
            "_view_name": "HTMLView",
            "description": "",
            "description_tooltip": null,
            "layout": "IPY_MODEL_8c3630b43ca049d2aed6dc4d9d960a19",
            "placeholder": "​",
            "style": "IPY_MODEL_2f7d8f95c29243e1a51b1afe5cfbad43",
            "value": "<br>"
          }
        },
        "a2c05b4adad5432d847640e39450350d": {
          "model_module": "@jupyter-widgets/controls",
          "model_name": "ButtonModel",
          "model_module_version": "1.5.0",
          "state": {
            "_dom_classes": [],
            "_model_module": "@jupyter-widgets/controls",
            "_model_module_version": "1.5.0",
            "_model_name": "ButtonModel",
            "_view_count": null,
            "_view_module": "@jupyter-widgets/controls",
            "_view_module_version": "1.5.0",
            "_view_name": "ButtonView",
            "button_style": "",
            "description": "Check",
            "disabled": false,
            "icon": "",
            "layout": "IPY_MODEL_87a5b2d2a81b4dd7a1ec534681972135",
            "style": "IPY_MODEL_7fab49025f374a0f9a2d5d422b2337c7",
            "tooltip": ""
          }
        },
        "00355bae73b64d6d9b3390c547760db3": {
          "model_module": "@jupyter-widgets/base",
          "model_name": "LayoutModel",
          "model_module_version": "1.2.0",
          "state": {
            "_model_module": "@jupyter-widgets/base",
            "_model_module_version": "1.2.0",
            "_model_name": "LayoutModel",
            "_view_count": null,
            "_view_module": "@jupyter-widgets/base",
            "_view_module_version": "1.2.0",
            "_view_name": "LayoutView",
            "align_content": null,
            "align_items": null,
            "align_self": null,
            "border": null,
            "bottom": null,
            "display": null,
            "flex": null,
            "flex_flow": null,
            "grid_area": null,
            "grid_auto_columns": null,
            "grid_auto_flow": null,
            "grid_auto_rows": null,
            "grid_column": null,
            "grid_gap": null,
            "grid_row": null,
            "grid_template_areas": null,
            "grid_template_columns": null,
            "grid_template_rows": null,
            "height": null,
            "justify_content": null,
            "justify_items": null,
            "left": null,
            "margin": null,
            "max_height": null,
            "max_width": null,
            "min_height": null,
            "min_width": null,
            "object_fit": null,
            "object_position": null,
            "order": null,
            "overflow": null,
            "overflow_x": null,
            "overflow_y": null,
            "padding": null,
            "right": null,
            "top": null,
            "visibility": null,
            "width": null
          }
        },
        "6c18710343f24e8f85591da1cd9b7858": {
          "model_module": "@jupyter-widgets/base",
          "model_name": "LayoutModel",
          "model_module_version": "1.2.0",
          "state": {
            "_model_module": "@jupyter-widgets/base",
            "_model_module_version": "1.2.0",
            "_model_name": "LayoutModel",
            "_view_count": null,
            "_view_module": "@jupyter-widgets/base",
            "_view_module_version": "1.2.0",
            "_view_name": "LayoutView",
            "align_content": null,
            "align_items": null,
            "align_self": null,
            "border": null,
            "bottom": null,
            "display": null,
            "flex": null,
            "flex_flow": null,
            "grid_area": null,
            "grid_auto_columns": null,
            "grid_auto_flow": null,
            "grid_auto_rows": null,
            "grid_column": null,
            "grid_gap": null,
            "grid_row": null,
            "grid_template_areas": null,
            "grid_template_columns": null,
            "grid_template_rows": null,
            "height": null,
            "justify_content": null,
            "justify_items": null,
            "left": null,
            "margin": null,
            "max_height": null,
            "max_width": null,
            "min_height": null,
            "min_width": null,
            "object_fit": null,
            "object_position": null,
            "order": null,
            "overflow": null,
            "overflow_x": null,
            "overflow_y": null,
            "padding": null,
            "right": null,
            "top": null,
            "visibility": null,
            "width": null
          }
        },
        "cc69c0654f5f41ca91f75470bfa2295d": {
          "model_module": "@jupyter-widgets/controls",
          "model_name": "DescriptionStyleModel",
          "model_module_version": "1.5.0",
          "state": {
            "_model_module": "@jupyter-widgets/controls",
            "_model_module_version": "1.5.0",
            "_model_name": "DescriptionStyleModel",
            "_view_count": null,
            "_view_module": "@jupyter-widgets/base",
            "_view_module_version": "1.2.0",
            "_view_name": "StyleView",
            "description_width": ""
          }
        },
        "8c3630b43ca049d2aed6dc4d9d960a19": {
          "model_module": "@jupyter-widgets/base",
          "model_name": "LayoutModel",
          "model_module_version": "1.2.0",
          "state": {
            "_model_module": "@jupyter-widgets/base",
            "_model_module_version": "1.2.0",
            "_model_name": "LayoutModel",
            "_view_count": null,
            "_view_module": "@jupyter-widgets/base",
            "_view_module_version": "1.2.0",
            "_view_name": "LayoutView",
            "align_content": null,
            "align_items": null,
            "align_self": null,
            "border": null,
            "bottom": null,
            "display": null,
            "flex": null,
            "flex_flow": null,
            "grid_area": null,
            "grid_auto_columns": null,
            "grid_auto_flow": null,
            "grid_auto_rows": null,
            "grid_column": null,
            "grid_gap": null,
            "grid_row": null,
            "grid_template_areas": null,
            "grid_template_columns": null,
            "grid_template_rows": null,
            "height": null,
            "justify_content": null,
            "justify_items": null,
            "left": null,
            "margin": null,
            "max_height": null,
            "max_width": null,
            "min_height": null,
            "min_width": null,
            "object_fit": null,
            "object_position": null,
            "order": null,
            "overflow": null,
            "overflow_x": null,
            "overflow_y": null,
            "padding": null,
            "right": null,
            "top": null,
            "visibility": null,
            "width": null
          }
        },
        "2f7d8f95c29243e1a51b1afe5cfbad43": {
          "model_module": "@jupyter-widgets/controls",
          "model_name": "DescriptionStyleModel",
          "model_module_version": "1.5.0",
          "state": {
            "_model_module": "@jupyter-widgets/controls",
            "_model_module_version": "1.5.0",
            "_model_name": "DescriptionStyleModel",
            "_view_count": null,
            "_view_module": "@jupyter-widgets/base",
            "_view_module_version": "1.2.0",
            "_view_name": "StyleView",
            "description_width": ""
          }
        },
        "87a5b2d2a81b4dd7a1ec534681972135": {
          "model_module": "@jupyter-widgets/base",
          "model_name": "LayoutModel",
          "model_module_version": "1.2.0",
          "state": {
            "_model_module": "@jupyter-widgets/base",
            "_model_module_version": "1.2.0",
            "_model_name": "LayoutModel",
            "_view_count": null,
            "_view_module": "@jupyter-widgets/base",
            "_view_module_version": "1.2.0",
            "_view_name": "LayoutView",
            "align_content": null,
            "align_items": null,
            "align_self": null,
            "border": null,
            "bottom": null,
            "display": null,
            "flex": null,
            "flex_flow": null,
            "grid_area": null,
            "grid_auto_columns": null,
            "grid_auto_flow": null,
            "grid_auto_rows": null,
            "grid_column": null,
            "grid_gap": null,
            "grid_row": null,
            "grid_template_areas": null,
            "grid_template_columns": null,
            "grid_template_rows": null,
            "height": null,
            "justify_content": null,
            "justify_items": null,
            "left": null,
            "margin": null,
            "max_height": null,
            "max_width": null,
            "min_height": null,
            "min_width": null,
            "object_fit": null,
            "object_position": null,
            "order": null,
            "overflow": null,
            "overflow_x": null,
            "overflow_y": null,
            "padding": null,
            "right": null,
            "top": null,
            "visibility": null,
            "width": null
          }
        },
        "7fab49025f374a0f9a2d5d422b2337c7": {
          "model_module": "@jupyter-widgets/controls",
          "model_name": "ButtonStyleModel",
          "model_module_version": "1.5.0",
          "state": {
            "_model_module": "@jupyter-widgets/controls",
            "_model_module_version": "1.5.0",
            "_model_name": "ButtonStyleModel",
            "_view_count": null,
            "_view_module": "@jupyter-widgets/base",
            "_view_module_version": "1.2.0",
            "_view_name": "StyleView",
            "button_color": null,
            "font_weight": ""
          }
        },
        "bd351f34f28c4f69aa37dadbf2bd3332": {
          "model_module": "@jupyter-widgets/controls",
          "model_name": "HTMLModel",
          "model_module_version": "1.5.0",
          "state": {
            "_dom_classes": [],
            "_model_module": "@jupyter-widgets/controls",
            "_model_module_version": "1.5.0",
            "_model_name": "HTMLModel",
            "_view_count": null,
            "_view_module": "@jupyter-widgets/controls",
            "_view_module_version": "1.5.0",
            "_view_name": "HTMLView",
            "description": "",
            "description_tooltip": null,
            "layout": "IPY_MODEL_9a4e3c2ec4d7414aa7ddbd09cf052d49",
            "placeholder": "​",
            "style": "IPY_MODEL_93974e9afaff4f68960d6757e65be94f",
            "value": "\n            In the implementation above, which words are subsampled (i.e. too frequent words are thrown away with some probability)?\n        "
          }
        },
        "5da7e92b2d764b82a675426f4f8ed2e9": {
          "model_module": "@jupyter-widgets/base",
          "model_name": "LayoutModel",
          "model_module_version": "1.2.0",
          "state": {
            "_model_module": "@jupyter-widgets/base",
            "_model_module_version": "1.2.0",
            "_model_name": "LayoutModel",
            "_view_count": null,
            "_view_module": "@jupyter-widgets/base",
            "_view_module_version": "1.2.0",
            "_view_name": "LayoutView",
            "align_content": null,
            "align_items": null,
            "align_self": null,
            "border": null,
            "bottom": null,
            "display": null,
            "flex": null,
            "flex_flow": null,
            "grid_area": null,
            "grid_auto_columns": null,
            "grid_auto_flow": null,
            "grid_auto_rows": null,
            "grid_column": null,
            "grid_gap": null,
            "grid_row": null,
            "grid_template_areas": null,
            "grid_template_columns": null,
            "grid_template_rows": null,
            "height": null,
            "justify_content": null,
            "justify_items": null,
            "left": null,
            "margin": null,
            "max_height": null,
            "max_width": null,
            "min_height": null,
            "min_width": null,
            "object_fit": null,
            "object_position": null,
            "order": null,
            "overflow": null,
            "overflow_x": null,
            "overflow_y": null,
            "padding": null,
            "right": null,
            "top": null,
            "visibility": null,
            "width": null
          }
        },
        "9a4e3c2ec4d7414aa7ddbd09cf052d49": {
          "model_module": "@jupyter-widgets/base",
          "model_name": "LayoutModel",
          "model_module_version": "1.2.0",
          "state": {
            "_model_module": "@jupyter-widgets/base",
            "_model_module_version": "1.2.0",
            "_model_name": "LayoutModel",
            "_view_count": null,
            "_view_module": "@jupyter-widgets/base",
            "_view_module_version": "1.2.0",
            "_view_name": "LayoutView",
            "align_content": null,
            "align_items": null,
            "align_self": null,
            "border": null,
            "bottom": null,
            "display": null,
            "flex": null,
            "flex_flow": null,
            "grid_area": null,
            "grid_auto_columns": null,
            "grid_auto_flow": null,
            "grid_auto_rows": null,
            "grid_column": null,
            "grid_gap": null,
            "grid_row": null,
            "grid_template_areas": null,
            "grid_template_columns": null,
            "grid_template_rows": null,
            "height": null,
            "justify_content": null,
            "justify_items": null,
            "left": null,
            "margin": null,
            "max_height": null,
            "max_width": null,
            "min_height": null,
            "min_width": null,
            "object_fit": null,
            "object_position": null,
            "order": null,
            "overflow": null,
            "overflow_x": null,
            "overflow_y": null,
            "padding": null,
            "right": null,
            "top": null,
            "visibility": null,
            "width": null
          }
        },
        "93974e9afaff4f68960d6757e65be94f": {
          "model_module": "@jupyter-widgets/controls",
          "model_name": "DescriptionStyleModel",
          "model_module_version": "1.5.0",
          "state": {
            "_model_module": "@jupyter-widgets/controls",
            "_model_module_version": "1.5.0",
            "_model_name": "DescriptionStyleModel",
            "_view_count": null,
            "_view_module": "@jupyter-widgets/base",
            "_view_module_version": "1.2.0",
            "_view_name": "StyleView",
            "description_width": ""
          }
        },
        "04a4bed8b6f14786914d4272269b51ed": {
          "model_module": "@jupyter-widgets/controls",
          "model_name": "VBoxModel",
          "model_module_version": "1.5.0",
          "state": {
            "_dom_classes": [],
            "_model_module": "@jupyter-widgets/controls",
            "_model_module_version": "1.5.0",
            "_model_name": "VBoxModel",
            "_view_count": null,
            "_view_module": "@jupyter-widgets/controls",
            "_view_module_version": "1.5.0",
            "_view_name": "VBoxView",
            "box_style": "",
            "children": [
              "IPY_MODEL_14a1008b670144299ddfd3ea4b5adf78",
              "IPY_MODEL_29b402dc6ea84726be569ff255f591e9",
              "IPY_MODEL_7e905d9514574ed68a4e98b17cbd572d",
              "IPY_MODEL_e3acecd394e042209f811a0b5923c30d"
            ],
            "layout": "IPY_MODEL_852f7d3af6f3419f8f20b26e69e769c2"
          }
        },
        "14a1008b670144299ddfd3ea4b5adf78": {
          "model_module": "@jupyter-widgets/output",
          "model_name": "OutputModel",
          "model_module_version": "1.0.0",
          "state": {
            "_dom_classes": [],
            "_model_module": "@jupyter-widgets/output",
            "_model_module_version": "1.0.0",
            "_model_name": "OutputModel",
            "_view_count": null,
            "_view_module": "@jupyter-widgets/output",
            "_view_module_version": "1.0.0",
            "_view_name": "OutputView",
            "layout": "IPY_MODEL_a9672baca94b435dac93302157fa03f1",
            "msg_id": "",
            "outputs": [
              {
                "output_type": "display_data",
                "data": {
                  "text/plain": "HTML(value='\\n            How is negative sampling performed? Why?\\n        ')",
                  "application/vnd.jupyter.widget-view+json": {
                    "version_major": 2,
                    "version_minor": 0,
                    "model_id": "a99b146f96124c09ac59a0284635439c"
                  }
                },
                "metadata": {}
              }
            ]
          }
        },
        "29b402dc6ea84726be569ff255f591e9": {
          "model_module": "@jupyter-widgets/controls",
          "model_name": "RadioButtonsModel",
          "model_module_version": "1.5.0",
          "state": {
            "_dom_classes": [],
            "_model_module": "@jupyter-widgets/controls",
            "_model_module_version": "1.5.0",
            "_model_name": "RadioButtonsModel",
            "_options_labels": [
              "without replacement; negative samples are i.i.d.",
              "with replacement; negative samples are i.i.d.",
              "without replacement; it is efficient",
              "with replacement; it is efficient"
            ],
            "_view_count": null,
            "_view_module": "@jupyter-widgets/controls",
            "_view_module_version": "1.5.0",
            "_view_name": "RadioButtonsView",
            "description": "",
            "description_tooltip": null,
            "disabled": false,
            "index": 0,
            "layout": "IPY_MODEL_88fcd238c80248caa17e6536c6fd1ed8",
            "style": "IPY_MODEL_8d80d96dd2c94110b1863a7969308f30"
          }
        },
        "7e905d9514574ed68a4e98b17cbd572d": {
          "model_module": "@jupyter-widgets/controls",
          "model_name": "HTMLModel",
          "model_module_version": "1.5.0",
          "state": {
            "_dom_classes": [],
            "_model_module": "@jupyter-widgets/controls",
            "_model_module_version": "1.5.0",
            "_model_name": "HTMLModel",
            "_view_count": null,
            "_view_module": "@jupyter-widgets/controls",
            "_view_module_version": "1.5.0",
            "_view_name": "HTMLView",
            "description": "",
            "description_tooltip": null,
            "layout": "IPY_MODEL_3cb59d96779c4743965df3645e06a180",
            "placeholder": "​",
            "style": "IPY_MODEL_af7b5f83db2549f88786e3b717ea3089",
            "value": "<br>"
          }
        },
        "e3acecd394e042209f811a0b5923c30d": {
          "model_module": "@jupyter-widgets/controls",
          "model_name": "ButtonModel",
          "model_module_version": "1.5.0",
          "state": {
            "_dom_classes": [],
            "_model_module": "@jupyter-widgets/controls",
            "_model_module_version": "1.5.0",
            "_model_name": "ButtonModel",
            "_view_count": null,
            "_view_module": "@jupyter-widgets/controls",
            "_view_module_version": "1.5.0",
            "_view_name": "ButtonView",
            "button_style": "",
            "description": "Check",
            "disabled": false,
            "icon": "",
            "layout": "IPY_MODEL_92f355e4b77748139d4e597f880352e5",
            "style": "IPY_MODEL_8aa2786405174053aa48f31b9d797dc1",
            "tooltip": ""
          }
        },
        "852f7d3af6f3419f8f20b26e69e769c2": {
          "model_module": "@jupyter-widgets/base",
          "model_name": "LayoutModel",
          "model_module_version": "1.2.0",
          "state": {
            "_model_module": "@jupyter-widgets/base",
            "_model_module_version": "1.2.0",
            "_model_name": "LayoutModel",
            "_view_count": null,
            "_view_module": "@jupyter-widgets/base",
            "_view_module_version": "1.2.0",
            "_view_name": "LayoutView",
            "align_content": null,
            "align_items": null,
            "align_self": null,
            "border": null,
            "bottom": null,
            "display": null,
            "flex": null,
            "flex_flow": null,
            "grid_area": null,
            "grid_auto_columns": null,
            "grid_auto_flow": null,
            "grid_auto_rows": null,
            "grid_column": null,
            "grid_gap": null,
            "grid_row": null,
            "grid_template_areas": null,
            "grid_template_columns": null,
            "grid_template_rows": null,
            "height": null,
            "justify_content": null,
            "justify_items": null,
            "left": null,
            "margin": null,
            "max_height": null,
            "max_width": null,
            "min_height": null,
            "min_width": null,
            "object_fit": null,
            "object_position": null,
            "order": null,
            "overflow": null,
            "overflow_x": null,
            "overflow_y": null,
            "padding": null,
            "right": null,
            "top": null,
            "visibility": null,
            "width": null
          }
        },
        "88fcd238c80248caa17e6536c6fd1ed8": {
          "model_module": "@jupyter-widgets/base",
          "model_name": "LayoutModel",
          "model_module_version": "1.2.0",
          "state": {
            "_model_module": "@jupyter-widgets/base",
            "_model_module_version": "1.2.0",
            "_model_name": "LayoutModel",
            "_view_count": null,
            "_view_module": "@jupyter-widgets/base",
            "_view_module_version": "1.2.0",
            "_view_name": "LayoutView",
            "align_content": null,
            "align_items": null,
            "align_self": null,
            "border": null,
            "bottom": null,
            "display": null,
            "flex": null,
            "flex_flow": null,
            "grid_area": null,
            "grid_auto_columns": null,
            "grid_auto_flow": null,
            "grid_auto_rows": null,
            "grid_column": null,
            "grid_gap": null,
            "grid_row": null,
            "grid_template_areas": null,
            "grid_template_columns": null,
            "grid_template_rows": null,
            "height": null,
            "justify_content": null,
            "justify_items": null,
            "left": null,
            "margin": null,
            "max_height": null,
            "max_width": null,
            "min_height": null,
            "min_width": null,
            "object_fit": null,
            "object_position": null,
            "order": null,
            "overflow": null,
            "overflow_x": null,
            "overflow_y": null,
            "padding": null,
            "right": null,
            "top": null,
            "visibility": null,
            "width": null
          }
        },
        "8d80d96dd2c94110b1863a7969308f30": {
          "model_module": "@jupyter-widgets/controls",
          "model_name": "DescriptionStyleModel",
          "model_module_version": "1.5.0",
          "state": {
            "_model_module": "@jupyter-widgets/controls",
            "_model_module_version": "1.5.0",
            "_model_name": "DescriptionStyleModel",
            "_view_count": null,
            "_view_module": "@jupyter-widgets/base",
            "_view_module_version": "1.2.0",
            "_view_name": "StyleView",
            "description_width": ""
          }
        },
        "3cb59d96779c4743965df3645e06a180": {
          "model_module": "@jupyter-widgets/base",
          "model_name": "LayoutModel",
          "model_module_version": "1.2.0",
          "state": {
            "_model_module": "@jupyter-widgets/base",
            "_model_module_version": "1.2.0",
            "_model_name": "LayoutModel",
            "_view_count": null,
            "_view_module": "@jupyter-widgets/base",
            "_view_module_version": "1.2.0",
            "_view_name": "LayoutView",
            "align_content": null,
            "align_items": null,
            "align_self": null,
            "border": null,
            "bottom": null,
            "display": null,
            "flex": null,
            "flex_flow": null,
            "grid_area": null,
            "grid_auto_columns": null,
            "grid_auto_flow": null,
            "grid_auto_rows": null,
            "grid_column": null,
            "grid_gap": null,
            "grid_row": null,
            "grid_template_areas": null,
            "grid_template_columns": null,
            "grid_template_rows": null,
            "height": null,
            "justify_content": null,
            "justify_items": null,
            "left": null,
            "margin": null,
            "max_height": null,
            "max_width": null,
            "min_height": null,
            "min_width": null,
            "object_fit": null,
            "object_position": null,
            "order": null,
            "overflow": null,
            "overflow_x": null,
            "overflow_y": null,
            "padding": null,
            "right": null,
            "top": null,
            "visibility": null,
            "width": null
          }
        },
        "af7b5f83db2549f88786e3b717ea3089": {
          "model_module": "@jupyter-widgets/controls",
          "model_name": "DescriptionStyleModel",
          "model_module_version": "1.5.0",
          "state": {
            "_model_module": "@jupyter-widgets/controls",
            "_model_module_version": "1.5.0",
            "_model_name": "DescriptionStyleModel",
            "_view_count": null,
            "_view_module": "@jupyter-widgets/base",
            "_view_module_version": "1.2.0",
            "_view_name": "StyleView",
            "description_width": ""
          }
        },
        "92f355e4b77748139d4e597f880352e5": {
          "model_module": "@jupyter-widgets/base",
          "model_name": "LayoutModel",
          "model_module_version": "1.2.0",
          "state": {
            "_model_module": "@jupyter-widgets/base",
            "_model_module_version": "1.2.0",
            "_model_name": "LayoutModel",
            "_view_count": null,
            "_view_module": "@jupyter-widgets/base",
            "_view_module_version": "1.2.0",
            "_view_name": "LayoutView",
            "align_content": null,
            "align_items": null,
            "align_self": null,
            "border": null,
            "bottom": null,
            "display": null,
            "flex": null,
            "flex_flow": null,
            "grid_area": null,
            "grid_auto_columns": null,
            "grid_auto_flow": null,
            "grid_auto_rows": null,
            "grid_column": null,
            "grid_gap": null,
            "grid_row": null,
            "grid_template_areas": null,
            "grid_template_columns": null,
            "grid_template_rows": null,
            "height": null,
            "justify_content": null,
            "justify_items": null,
            "left": null,
            "margin": null,
            "max_height": null,
            "max_width": null,
            "min_height": null,
            "min_width": null,
            "object_fit": null,
            "object_position": null,
            "order": null,
            "overflow": null,
            "overflow_x": null,
            "overflow_y": null,
            "padding": null,
            "right": null,
            "top": null,
            "visibility": null,
            "width": null
          }
        },
        "8aa2786405174053aa48f31b9d797dc1": {
          "model_module": "@jupyter-widgets/controls",
          "model_name": "ButtonStyleModel",
          "model_module_version": "1.5.0",
          "state": {
            "_model_module": "@jupyter-widgets/controls",
            "_model_module_version": "1.5.0",
            "_model_name": "ButtonStyleModel",
            "_view_count": null,
            "_view_module": "@jupyter-widgets/base",
            "_view_module_version": "1.2.0",
            "_view_name": "StyleView",
            "button_color": null,
            "font_weight": ""
          }
        },
        "a99b146f96124c09ac59a0284635439c": {
          "model_module": "@jupyter-widgets/controls",
          "model_name": "HTMLModel",
          "model_module_version": "1.5.0",
          "state": {
            "_dom_classes": [],
            "_model_module": "@jupyter-widgets/controls",
            "_model_module_version": "1.5.0",
            "_model_name": "HTMLModel",
            "_view_count": null,
            "_view_module": "@jupyter-widgets/controls",
            "_view_module_version": "1.5.0",
            "_view_name": "HTMLView",
            "description": "",
            "description_tooltip": null,
            "layout": "IPY_MODEL_500bf6c339154977b68308c46ceacf71",
            "placeholder": "​",
            "style": "IPY_MODEL_44e5132914c246e1b4e25b21da4f114a",
            "value": "\n            How is negative sampling performed? Why?\n        "
          }
        },
        "a9672baca94b435dac93302157fa03f1": {
          "model_module": "@jupyter-widgets/base",
          "model_name": "LayoutModel",
          "model_module_version": "1.2.0",
          "state": {
            "_model_module": "@jupyter-widgets/base",
            "_model_module_version": "1.2.0",
            "_model_name": "LayoutModel",
            "_view_count": null,
            "_view_module": "@jupyter-widgets/base",
            "_view_module_version": "1.2.0",
            "_view_name": "LayoutView",
            "align_content": null,
            "align_items": null,
            "align_self": null,
            "border": null,
            "bottom": null,
            "display": null,
            "flex": null,
            "flex_flow": null,
            "grid_area": null,
            "grid_auto_columns": null,
            "grid_auto_flow": null,
            "grid_auto_rows": null,
            "grid_column": null,
            "grid_gap": null,
            "grid_row": null,
            "grid_template_areas": null,
            "grid_template_columns": null,
            "grid_template_rows": null,
            "height": null,
            "justify_content": null,
            "justify_items": null,
            "left": null,
            "margin": null,
            "max_height": null,
            "max_width": null,
            "min_height": null,
            "min_width": null,
            "object_fit": null,
            "object_position": null,
            "order": null,
            "overflow": null,
            "overflow_x": null,
            "overflow_y": null,
            "padding": null,
            "right": null,
            "top": null,
            "visibility": null,
            "width": null
          }
        },
        "500bf6c339154977b68308c46ceacf71": {
          "model_module": "@jupyter-widgets/base",
          "model_name": "LayoutModel",
          "model_module_version": "1.2.0",
          "state": {
            "_model_module": "@jupyter-widgets/base",
            "_model_module_version": "1.2.0",
            "_model_name": "LayoutModel",
            "_view_count": null,
            "_view_module": "@jupyter-widgets/base",
            "_view_module_version": "1.2.0",
            "_view_name": "LayoutView",
            "align_content": null,
            "align_items": null,
            "align_self": null,
            "border": null,
            "bottom": null,
            "display": null,
            "flex": null,
            "flex_flow": null,
            "grid_area": null,
            "grid_auto_columns": null,
            "grid_auto_flow": null,
            "grid_auto_rows": null,
            "grid_column": null,
            "grid_gap": null,
            "grid_row": null,
            "grid_template_areas": null,
            "grid_template_columns": null,
            "grid_template_rows": null,
            "height": null,
            "justify_content": null,
            "justify_items": null,
            "left": null,
            "margin": null,
            "max_height": null,
            "max_width": null,
            "min_height": null,
            "min_width": null,
            "object_fit": null,
            "object_position": null,
            "order": null,
            "overflow": null,
            "overflow_x": null,
            "overflow_y": null,
            "padding": null,
            "right": null,
            "top": null,
            "visibility": null,
            "width": null
          }
        },
        "44e5132914c246e1b4e25b21da4f114a": {
          "model_module": "@jupyter-widgets/controls",
          "model_name": "DescriptionStyleModel",
          "model_module_version": "1.5.0",
          "state": {
            "_model_module": "@jupyter-widgets/controls",
            "_model_module_version": "1.5.0",
            "_model_name": "DescriptionStyleModel",
            "_view_count": null,
            "_view_module": "@jupyter-widgets/base",
            "_view_module_version": "1.2.0",
            "_view_name": "StyleView",
            "description_width": ""
          }
        },
        "8824370e52e14c44bf2223bbe2efd10e": {
          "model_module": "@jupyter-widgets/controls",
          "model_name": "HBoxModel",
          "model_module_version": "1.5.0",
          "state": {
            "_dom_classes": [],
            "_model_module": "@jupyter-widgets/controls",
            "_model_module_version": "1.5.0",
            "_model_name": "HBoxModel",
            "_view_count": null,
            "_view_module": "@jupyter-widgets/controls",
            "_view_module_version": "1.5.0",
            "_view_name": "HBoxView",
            "box_style": "",
            "children": [
              "IPY_MODEL_cb75bf2e506d457ebf7ac7868534dab8",
              "IPY_MODEL_1333c5a5f0794dacb4310f274ce16323",
              "IPY_MODEL_4a0918bc59be4565a4cdfb8a91f8b841"
            ],
            "layout": "IPY_MODEL_ec810567372d47ac805655333ba98c54"
          }
        },
        "cb75bf2e506d457ebf7ac7868534dab8": {
          "model_module": "@jupyter-widgets/controls",
          "model_name": "HTMLModel",
          "model_module_version": "1.5.0",
          "state": {
            "_dom_classes": [],
            "_model_module": "@jupyter-widgets/controls",
            "_model_module_version": "1.5.0",
            "_model_name": "HTMLModel",
            "_view_count": null,
            "_view_module": "@jupyter-widgets/controls",
            "_view_module_version": "1.5.0",
            "_view_name": "HTMLView",
            "description": "",
            "description_tooltip": null,
            "layout": "IPY_MODEL_41803633000b41d38c19eb6aeb123ac9",
            "placeholder": "​",
            "style": "IPY_MODEL_38e54ce265114402b179fc1b1c11e5d7",
            "value": "tokenize: 100%"
          }
        },
        "1333c5a5f0794dacb4310f274ce16323": {
          "model_module": "@jupyter-widgets/controls",
          "model_name": "FloatProgressModel",
          "model_module_version": "1.5.0",
          "state": {
            "_dom_classes": [],
            "_model_module": "@jupyter-widgets/controls",
            "_model_module_version": "1.5.0",
            "_model_name": "FloatProgressModel",
            "_view_count": null,
            "_view_module": "@jupyter-widgets/controls",
            "_view_module_version": "1.5.0",
            "_view_name": "ProgressView",
            "bar_style": "success",
            "description": "",
            "description_tooltip": null,
            "layout": "IPY_MODEL_f4b0b3ff84f94f33bb4f78cca7e328fb",
            "max": 18846,
            "min": 0,
            "orientation": "horizontal",
            "style": "IPY_MODEL_bc62ce1de5c449ca8eac1589728f984e",
            "value": 18846
          }
        },
        "4a0918bc59be4565a4cdfb8a91f8b841": {
          "model_module": "@jupyter-widgets/controls",
          "model_name": "HTMLModel",
          "model_module_version": "1.5.0",
          "state": {
            "_dom_classes": [],
            "_model_module": "@jupyter-widgets/controls",
            "_model_module_version": "1.5.0",
            "_model_name": "HTMLModel",
            "_view_count": null,
            "_view_module": "@jupyter-widgets/controls",
            "_view_module_version": "1.5.0",
            "_view_name": "HTMLView",
            "description": "",
            "description_tooltip": null,
            "layout": "IPY_MODEL_59fdfeab5f354bf4b8ecb9ec55279592",
            "placeholder": "​",
            "style": "IPY_MODEL_937548f45a104956b768e12c51481f57",
            "value": " 18846/18846 [02:06&lt;00:00, 186.79it/s]"
          }
        },
        "ec810567372d47ac805655333ba98c54": {
          "model_module": "@jupyter-widgets/base",
          "model_name": "LayoutModel",
          "model_module_version": "1.2.0",
          "state": {
            "_model_module": "@jupyter-widgets/base",
            "_model_module_version": "1.2.0",
            "_model_name": "LayoutModel",
            "_view_count": null,
            "_view_module": "@jupyter-widgets/base",
            "_view_module_version": "1.2.0",
            "_view_name": "LayoutView",
            "align_content": null,
            "align_items": null,
            "align_self": null,
            "border": null,
            "bottom": null,
            "display": null,
            "flex": null,
            "flex_flow": null,
            "grid_area": null,
            "grid_auto_columns": null,
            "grid_auto_flow": null,
            "grid_auto_rows": null,
            "grid_column": null,
            "grid_gap": null,
            "grid_row": null,
            "grid_template_areas": null,
            "grid_template_columns": null,
            "grid_template_rows": null,
            "height": null,
            "justify_content": null,
            "justify_items": null,
            "left": null,
            "margin": null,
            "max_height": null,
            "max_width": null,
            "min_height": null,
            "min_width": null,
            "object_fit": null,
            "object_position": null,
            "order": null,
            "overflow": null,
            "overflow_x": null,
            "overflow_y": null,
            "padding": null,
            "right": null,
            "top": null,
            "visibility": null,
            "width": null
          }
        },
        "41803633000b41d38c19eb6aeb123ac9": {
          "model_module": "@jupyter-widgets/base",
          "model_name": "LayoutModel",
          "model_module_version": "1.2.0",
          "state": {
            "_model_module": "@jupyter-widgets/base",
            "_model_module_version": "1.2.0",
            "_model_name": "LayoutModel",
            "_view_count": null,
            "_view_module": "@jupyter-widgets/base",
            "_view_module_version": "1.2.0",
            "_view_name": "LayoutView",
            "align_content": null,
            "align_items": null,
            "align_self": null,
            "border": null,
            "bottom": null,
            "display": null,
            "flex": null,
            "flex_flow": null,
            "grid_area": null,
            "grid_auto_columns": null,
            "grid_auto_flow": null,
            "grid_auto_rows": null,
            "grid_column": null,
            "grid_gap": null,
            "grid_row": null,
            "grid_template_areas": null,
            "grid_template_columns": null,
            "grid_template_rows": null,
            "height": null,
            "justify_content": null,
            "justify_items": null,
            "left": null,
            "margin": null,
            "max_height": null,
            "max_width": null,
            "min_height": null,
            "min_width": null,
            "object_fit": null,
            "object_position": null,
            "order": null,
            "overflow": null,
            "overflow_x": null,
            "overflow_y": null,
            "padding": null,
            "right": null,
            "top": null,
            "visibility": null,
            "width": null
          }
        },
        "38e54ce265114402b179fc1b1c11e5d7": {
          "model_module": "@jupyter-widgets/controls",
          "model_name": "DescriptionStyleModel",
          "model_module_version": "1.5.0",
          "state": {
            "_model_module": "@jupyter-widgets/controls",
            "_model_module_version": "1.5.0",
            "_model_name": "DescriptionStyleModel",
            "_view_count": null,
            "_view_module": "@jupyter-widgets/base",
            "_view_module_version": "1.2.0",
            "_view_name": "StyleView",
            "description_width": ""
          }
        },
        "f4b0b3ff84f94f33bb4f78cca7e328fb": {
          "model_module": "@jupyter-widgets/base",
          "model_name": "LayoutModel",
          "model_module_version": "1.2.0",
          "state": {
            "_model_module": "@jupyter-widgets/base",
            "_model_module_version": "1.2.0",
            "_model_name": "LayoutModel",
            "_view_count": null,
            "_view_module": "@jupyter-widgets/base",
            "_view_module_version": "1.2.0",
            "_view_name": "LayoutView",
            "align_content": null,
            "align_items": null,
            "align_self": null,
            "border": null,
            "bottom": null,
            "display": null,
            "flex": null,
            "flex_flow": null,
            "grid_area": null,
            "grid_auto_columns": null,
            "grid_auto_flow": null,
            "grid_auto_rows": null,
            "grid_column": null,
            "grid_gap": null,
            "grid_row": null,
            "grid_template_areas": null,
            "grid_template_columns": null,
            "grid_template_rows": null,
            "height": null,
            "justify_content": null,
            "justify_items": null,
            "left": null,
            "margin": null,
            "max_height": null,
            "max_width": null,
            "min_height": null,
            "min_width": null,
            "object_fit": null,
            "object_position": null,
            "order": null,
            "overflow": null,
            "overflow_x": null,
            "overflow_y": null,
            "padding": null,
            "right": null,
            "top": null,
            "visibility": null,
            "width": null
          }
        },
        "bc62ce1de5c449ca8eac1589728f984e": {
          "model_module": "@jupyter-widgets/controls",
          "model_name": "ProgressStyleModel",
          "model_module_version": "1.5.0",
          "state": {
            "_model_module": "@jupyter-widgets/controls",
            "_model_module_version": "1.5.0",
            "_model_name": "ProgressStyleModel",
            "_view_count": null,
            "_view_module": "@jupyter-widgets/base",
            "_view_module_version": "1.2.0",
            "_view_name": "StyleView",
            "bar_color": null,
            "description_width": ""
          }
        },
        "59fdfeab5f354bf4b8ecb9ec55279592": {
          "model_module": "@jupyter-widgets/base",
          "model_name": "LayoutModel",
          "model_module_version": "1.2.0",
          "state": {
            "_model_module": "@jupyter-widgets/base",
            "_model_module_version": "1.2.0",
            "_model_name": "LayoutModel",
            "_view_count": null,
            "_view_module": "@jupyter-widgets/base",
            "_view_module_version": "1.2.0",
            "_view_name": "LayoutView",
            "align_content": null,
            "align_items": null,
            "align_self": null,
            "border": null,
            "bottom": null,
            "display": null,
            "flex": null,
            "flex_flow": null,
            "grid_area": null,
            "grid_auto_columns": null,
            "grid_auto_flow": null,
            "grid_auto_rows": null,
            "grid_column": null,
            "grid_gap": null,
            "grid_row": null,
            "grid_template_areas": null,
            "grid_template_columns": null,
            "grid_template_rows": null,
            "height": null,
            "justify_content": null,
            "justify_items": null,
            "left": null,
            "margin": null,
            "max_height": null,
            "max_width": null,
            "min_height": null,
            "min_width": null,
            "object_fit": null,
            "object_position": null,
            "order": null,
            "overflow": null,
            "overflow_x": null,
            "overflow_y": null,
            "padding": null,
            "right": null,
            "top": null,
            "visibility": null,
            "width": null
          }
        },
        "937548f45a104956b768e12c51481f57": {
          "model_module": "@jupyter-widgets/controls",
          "model_name": "DescriptionStyleModel",
          "model_module_version": "1.5.0",
          "state": {
            "_model_module": "@jupyter-widgets/controls",
            "_model_module_version": "1.5.0",
            "_model_name": "DescriptionStyleModel",
            "_view_count": null,
            "_view_module": "@jupyter-widgets/base",
            "_view_module_version": "1.2.0",
            "_view_name": "StyleView",
            "description_width": ""
          }
        },
        "9fe2582b00c24804a3a40748d22b7f07": {
          "model_module": "@jupyter-widgets/controls",
          "model_name": "VBoxModel",
          "model_module_version": "1.5.0",
          "state": {
            "_dom_classes": [],
            "_model_module": "@jupyter-widgets/controls",
            "_model_module_version": "1.5.0",
            "_model_name": "VBoxModel",
            "_view_count": null,
            "_view_module": "@jupyter-widgets/controls",
            "_view_module_version": "1.5.0",
            "_view_name": "VBoxView",
            "box_style": "",
            "children": [
              "IPY_MODEL_65a8dd4a0030468ab8cf1eea8c87b422",
              "IPY_MODEL_d372a7e3c18947ce8389bac567d45515",
              "IPY_MODEL_4dfd612ebb184a67b8062ef4d13a7091",
              "IPY_MODEL_cf723c28d9e2498a95d529bd9d8f7582"
            ],
            "layout": "IPY_MODEL_dcf051cea10f4c23a65a5d1ad8c1ff7b"
          }
        },
        "65a8dd4a0030468ab8cf1eea8c87b422": {
          "model_module": "@jupyter-widgets/output",
          "model_name": "OutputModel",
          "model_module_version": "1.0.0",
          "state": {
            "_dom_classes": [],
            "_model_module": "@jupyter-widgets/output",
            "_model_module_version": "1.0.0",
            "_model_name": "OutputModel",
            "_view_count": null,
            "_view_module": "@jupyter-widgets/output",
            "_view_module_version": "1.0.0",
            "_view_name": "OutputView",
            "layout": "IPY_MODEL_877e6c5c991d4b26b6888aca39512127",
            "msg_id": "",
            "outputs": [
              {
                "output_type": "display_data",
                "data": {
                  "text/plain": "HTML(value='\\n            What is the most similar word to the word \"twitter\" according to the model \"glove-wi…",
                  "application/vnd.jupyter.widget-view+json": {
                    "version_major": 2,
                    "version_minor": 0,
                    "model_id": "d19b0f10b165452b9ff710b06cf2fc35"
                  }
                },
                "metadata": {}
              }
            ]
          }
        },
        "d372a7e3c18947ce8389bac567d45515": {
          "model_module": "@jupyter-widgets/controls",
          "model_name": "RadioButtonsModel",
          "model_module_version": "1.5.0",
          "state": {
            "_dom_classes": [],
            "_model_module": "@jupyter-widgets/controls",
            "_model_module_version": "1.5.0",
            "_model_name": "RadioButtonsModel",
            "_options_labels": [
              "instagram",
              "facebook",
              "youtube",
              "internet"
            ],
            "_view_count": null,
            "_view_module": "@jupyter-widgets/controls",
            "_view_module_version": "1.5.0",
            "_view_name": "RadioButtonsView",
            "description": "",
            "description_tooltip": null,
            "disabled": false,
            "index": 0,
            "layout": "IPY_MODEL_ede6d32ec0274572bd5a488f9ae1922d",
            "style": "IPY_MODEL_28f5783e278c4b27bd14b5e963f96c49"
          }
        },
        "4dfd612ebb184a67b8062ef4d13a7091": {
          "model_module": "@jupyter-widgets/controls",
          "model_name": "HTMLModel",
          "model_module_version": "1.5.0",
          "state": {
            "_dom_classes": [],
            "_model_module": "@jupyter-widgets/controls",
            "_model_module_version": "1.5.0",
            "_model_name": "HTMLModel",
            "_view_count": null,
            "_view_module": "@jupyter-widgets/controls",
            "_view_module_version": "1.5.0",
            "_view_name": "HTMLView",
            "description": "",
            "description_tooltip": null,
            "layout": "IPY_MODEL_ee0a0f83e8914533a5689a9a415aa387",
            "placeholder": "​",
            "style": "IPY_MODEL_3a30339e4e444e24ab4d63ade3f08fdb",
            "value": "<br>"
          }
        },
        "cf723c28d9e2498a95d529bd9d8f7582": {
          "model_module": "@jupyter-widgets/controls",
          "model_name": "ButtonModel",
          "model_module_version": "1.5.0",
          "state": {
            "_dom_classes": [],
            "_model_module": "@jupyter-widgets/controls",
            "_model_module_version": "1.5.0",
            "_model_name": "ButtonModel",
            "_view_count": null,
            "_view_module": "@jupyter-widgets/controls",
            "_view_module_version": "1.5.0",
            "_view_name": "ButtonView",
            "button_style": "",
            "description": "Check",
            "disabled": false,
            "icon": "",
            "layout": "IPY_MODEL_5580034672b640989fde866aea86bc15",
            "style": "IPY_MODEL_e3294ba6d28f47c19259d1ab7b3956ed",
            "tooltip": ""
          }
        },
        "dcf051cea10f4c23a65a5d1ad8c1ff7b": {
          "model_module": "@jupyter-widgets/base",
          "model_name": "LayoutModel",
          "model_module_version": "1.2.0",
          "state": {
            "_model_module": "@jupyter-widgets/base",
            "_model_module_version": "1.2.0",
            "_model_name": "LayoutModel",
            "_view_count": null,
            "_view_module": "@jupyter-widgets/base",
            "_view_module_version": "1.2.0",
            "_view_name": "LayoutView",
            "align_content": null,
            "align_items": null,
            "align_self": null,
            "border": null,
            "bottom": null,
            "display": null,
            "flex": null,
            "flex_flow": null,
            "grid_area": null,
            "grid_auto_columns": null,
            "grid_auto_flow": null,
            "grid_auto_rows": null,
            "grid_column": null,
            "grid_gap": null,
            "grid_row": null,
            "grid_template_areas": null,
            "grid_template_columns": null,
            "grid_template_rows": null,
            "height": null,
            "justify_content": null,
            "justify_items": null,
            "left": null,
            "margin": null,
            "max_height": null,
            "max_width": null,
            "min_height": null,
            "min_width": null,
            "object_fit": null,
            "object_position": null,
            "order": null,
            "overflow": null,
            "overflow_x": null,
            "overflow_y": null,
            "padding": null,
            "right": null,
            "top": null,
            "visibility": null,
            "width": null
          }
        },
        "ede6d32ec0274572bd5a488f9ae1922d": {
          "model_module": "@jupyter-widgets/base",
          "model_name": "LayoutModel",
          "model_module_version": "1.2.0",
          "state": {
            "_model_module": "@jupyter-widgets/base",
            "_model_module_version": "1.2.0",
            "_model_name": "LayoutModel",
            "_view_count": null,
            "_view_module": "@jupyter-widgets/base",
            "_view_module_version": "1.2.0",
            "_view_name": "LayoutView",
            "align_content": null,
            "align_items": null,
            "align_self": null,
            "border": null,
            "bottom": null,
            "display": null,
            "flex": null,
            "flex_flow": null,
            "grid_area": null,
            "grid_auto_columns": null,
            "grid_auto_flow": null,
            "grid_auto_rows": null,
            "grid_column": null,
            "grid_gap": null,
            "grid_row": null,
            "grid_template_areas": null,
            "grid_template_columns": null,
            "grid_template_rows": null,
            "height": null,
            "justify_content": null,
            "justify_items": null,
            "left": null,
            "margin": null,
            "max_height": null,
            "max_width": null,
            "min_height": null,
            "min_width": null,
            "object_fit": null,
            "object_position": null,
            "order": null,
            "overflow": null,
            "overflow_x": null,
            "overflow_y": null,
            "padding": null,
            "right": null,
            "top": null,
            "visibility": null,
            "width": null
          }
        },
        "28f5783e278c4b27bd14b5e963f96c49": {
          "model_module": "@jupyter-widgets/controls",
          "model_name": "DescriptionStyleModel",
          "model_module_version": "1.5.0",
          "state": {
            "_model_module": "@jupyter-widgets/controls",
            "_model_module_version": "1.5.0",
            "_model_name": "DescriptionStyleModel",
            "_view_count": null,
            "_view_module": "@jupyter-widgets/base",
            "_view_module_version": "1.2.0",
            "_view_name": "StyleView",
            "description_width": ""
          }
        },
        "ee0a0f83e8914533a5689a9a415aa387": {
          "model_module": "@jupyter-widgets/base",
          "model_name": "LayoutModel",
          "model_module_version": "1.2.0",
          "state": {
            "_model_module": "@jupyter-widgets/base",
            "_model_module_version": "1.2.0",
            "_model_name": "LayoutModel",
            "_view_count": null,
            "_view_module": "@jupyter-widgets/base",
            "_view_module_version": "1.2.0",
            "_view_name": "LayoutView",
            "align_content": null,
            "align_items": null,
            "align_self": null,
            "border": null,
            "bottom": null,
            "display": null,
            "flex": null,
            "flex_flow": null,
            "grid_area": null,
            "grid_auto_columns": null,
            "grid_auto_flow": null,
            "grid_auto_rows": null,
            "grid_column": null,
            "grid_gap": null,
            "grid_row": null,
            "grid_template_areas": null,
            "grid_template_columns": null,
            "grid_template_rows": null,
            "height": null,
            "justify_content": null,
            "justify_items": null,
            "left": null,
            "margin": null,
            "max_height": null,
            "max_width": null,
            "min_height": null,
            "min_width": null,
            "object_fit": null,
            "object_position": null,
            "order": null,
            "overflow": null,
            "overflow_x": null,
            "overflow_y": null,
            "padding": null,
            "right": null,
            "top": null,
            "visibility": null,
            "width": null
          }
        },
        "3a30339e4e444e24ab4d63ade3f08fdb": {
          "model_module": "@jupyter-widgets/controls",
          "model_name": "DescriptionStyleModel",
          "model_module_version": "1.5.0",
          "state": {
            "_model_module": "@jupyter-widgets/controls",
            "_model_module_version": "1.5.0",
            "_model_name": "DescriptionStyleModel",
            "_view_count": null,
            "_view_module": "@jupyter-widgets/base",
            "_view_module_version": "1.2.0",
            "_view_name": "StyleView",
            "description_width": ""
          }
        },
        "5580034672b640989fde866aea86bc15": {
          "model_module": "@jupyter-widgets/base",
          "model_name": "LayoutModel",
          "model_module_version": "1.2.0",
          "state": {
            "_model_module": "@jupyter-widgets/base",
            "_model_module_version": "1.2.0",
            "_model_name": "LayoutModel",
            "_view_count": null,
            "_view_module": "@jupyter-widgets/base",
            "_view_module_version": "1.2.0",
            "_view_name": "LayoutView",
            "align_content": null,
            "align_items": null,
            "align_self": null,
            "border": null,
            "bottom": null,
            "display": null,
            "flex": null,
            "flex_flow": null,
            "grid_area": null,
            "grid_auto_columns": null,
            "grid_auto_flow": null,
            "grid_auto_rows": null,
            "grid_column": null,
            "grid_gap": null,
            "grid_row": null,
            "grid_template_areas": null,
            "grid_template_columns": null,
            "grid_template_rows": null,
            "height": null,
            "justify_content": null,
            "justify_items": null,
            "left": null,
            "margin": null,
            "max_height": null,
            "max_width": null,
            "min_height": null,
            "min_width": null,
            "object_fit": null,
            "object_position": null,
            "order": null,
            "overflow": null,
            "overflow_x": null,
            "overflow_y": null,
            "padding": null,
            "right": null,
            "top": null,
            "visibility": null,
            "width": null
          }
        },
        "e3294ba6d28f47c19259d1ab7b3956ed": {
          "model_module": "@jupyter-widgets/controls",
          "model_name": "ButtonStyleModel",
          "model_module_version": "1.5.0",
          "state": {
            "_model_module": "@jupyter-widgets/controls",
            "_model_module_version": "1.5.0",
            "_model_name": "ButtonStyleModel",
            "_view_count": null,
            "_view_module": "@jupyter-widgets/base",
            "_view_module_version": "1.2.0",
            "_view_name": "StyleView",
            "button_color": null,
            "font_weight": ""
          }
        },
        "d19b0f10b165452b9ff710b06cf2fc35": {
          "model_module": "@jupyter-widgets/controls",
          "model_name": "HTMLModel",
          "model_module_version": "1.5.0",
          "state": {
            "_dom_classes": [],
            "_model_module": "@jupyter-widgets/controls",
            "_model_module_version": "1.5.0",
            "_model_name": "HTMLModel",
            "_view_count": null,
            "_view_module": "@jupyter-widgets/controls",
            "_view_module_version": "1.5.0",
            "_view_name": "HTMLView",
            "description": "",
            "description_tooltip": null,
            "layout": "IPY_MODEL_b778f7ba09be4ddcbec73794fa4eeaf0",
            "placeholder": "​",
            "style": "IPY_MODEL_f136e4f48d9b492dbc85267eff77b1c3",
            "value": "\n            What is the most similar word to the word \"twitter\" according to the model \"glove-wiki-gigaword-100\"?\n        "
          }
        },
        "877e6c5c991d4b26b6888aca39512127": {
          "model_module": "@jupyter-widgets/base",
          "model_name": "LayoutModel",
          "model_module_version": "1.2.0",
          "state": {
            "_model_module": "@jupyter-widgets/base",
            "_model_module_version": "1.2.0",
            "_model_name": "LayoutModel",
            "_view_count": null,
            "_view_module": "@jupyter-widgets/base",
            "_view_module_version": "1.2.0",
            "_view_name": "LayoutView",
            "align_content": null,
            "align_items": null,
            "align_self": null,
            "border": null,
            "bottom": null,
            "display": null,
            "flex": null,
            "flex_flow": null,
            "grid_area": null,
            "grid_auto_columns": null,
            "grid_auto_flow": null,
            "grid_auto_rows": null,
            "grid_column": null,
            "grid_gap": null,
            "grid_row": null,
            "grid_template_areas": null,
            "grid_template_columns": null,
            "grid_template_rows": null,
            "height": null,
            "justify_content": null,
            "justify_items": null,
            "left": null,
            "margin": null,
            "max_height": null,
            "max_width": null,
            "min_height": null,
            "min_width": null,
            "object_fit": null,
            "object_position": null,
            "order": null,
            "overflow": null,
            "overflow_x": null,
            "overflow_y": null,
            "padding": null,
            "right": null,
            "top": null,
            "visibility": null,
            "width": null
          }
        },
        "b778f7ba09be4ddcbec73794fa4eeaf0": {
          "model_module": "@jupyter-widgets/base",
          "model_name": "LayoutModel",
          "model_module_version": "1.2.0",
          "state": {
            "_model_module": "@jupyter-widgets/base",
            "_model_module_version": "1.2.0",
            "_model_name": "LayoutModel",
            "_view_count": null,
            "_view_module": "@jupyter-widgets/base",
            "_view_module_version": "1.2.0",
            "_view_name": "LayoutView",
            "align_content": null,
            "align_items": null,
            "align_self": null,
            "border": null,
            "bottom": null,
            "display": null,
            "flex": null,
            "flex_flow": null,
            "grid_area": null,
            "grid_auto_columns": null,
            "grid_auto_flow": null,
            "grid_auto_rows": null,
            "grid_column": null,
            "grid_gap": null,
            "grid_row": null,
            "grid_template_areas": null,
            "grid_template_columns": null,
            "grid_template_rows": null,
            "height": null,
            "justify_content": null,
            "justify_items": null,
            "left": null,
            "margin": null,
            "max_height": null,
            "max_width": null,
            "min_height": null,
            "min_width": null,
            "object_fit": null,
            "object_position": null,
            "order": null,
            "overflow": null,
            "overflow_x": null,
            "overflow_y": null,
            "padding": null,
            "right": null,
            "top": null,
            "visibility": null,
            "width": null
          }
        },
        "f136e4f48d9b492dbc85267eff77b1c3": {
          "model_module": "@jupyter-widgets/controls",
          "model_name": "DescriptionStyleModel",
          "model_module_version": "1.5.0",
          "state": {
            "_model_module": "@jupyter-widgets/controls",
            "_model_module_version": "1.5.0",
            "_model_name": "DescriptionStyleModel",
            "_view_count": null,
            "_view_module": "@jupyter-widgets/base",
            "_view_module_version": "1.2.0",
            "_view_name": "StyleView",
            "description_width": ""
          }
        },
        "17f317cee1cc4fe7bacfa842fe71c822": {
          "model_module": "@jupyter-widgets/controls",
          "model_name": "VBoxModel",
          "model_module_version": "1.5.0",
          "state": {
            "_dom_classes": [],
            "_model_module": "@jupyter-widgets/controls",
            "_model_module_version": "1.5.0",
            "_model_name": "VBoxModel",
            "_view_count": null,
            "_view_module": "@jupyter-widgets/controls",
            "_view_module_version": "1.5.0",
            "_view_name": "VBoxView",
            "box_style": "",
            "children": [
              "IPY_MODEL_15aafb640ad44a27b2a3dbf52b2f8c05",
              "IPY_MODEL_53acda1351a943578a0da69a969bda8c",
              "IPY_MODEL_ccaa6d8de0a34180bd65cffd330c3bec",
              "IPY_MODEL_2ca204b9dd1248b8abea47999f4646a0"
            ],
            "layout": "IPY_MODEL_f4f31ee785de4127bc20f77b8745b07c"
          }
        },
        "15aafb640ad44a27b2a3dbf52b2f8c05": {
          "model_module": "@jupyter-widgets/output",
          "model_name": "OutputModel",
          "model_module_version": "1.0.0",
          "state": {
            "_dom_classes": [],
            "_model_module": "@jupyter-widgets/output",
            "_model_module_version": "1.0.0",
            "_model_name": "OutputModel",
            "_view_count": null,
            "_view_module": "@jupyter-widgets/output",
            "_view_module_version": "1.0.0",
            "_view_name": "OutputView",
            "layout": "IPY_MODEL_ea3c5962209b43a7be26303bfb6d8adb",
            "msg_id": "",
            "outputs": [
              {
                "output_type": "display_data",
                "data": {
                  "text/plain": "HTML(value='\\n            Solve the following word analogy task:\\n            $$\\n            \\\\overrightarrow…",
                  "application/vnd.jupyter.widget-view+json": {
                    "version_major": 2,
                    "version_minor": 0,
                    "model_id": "efb47ae4531549aebdbbf14c89088481"
                  }
                },
                "metadata": {}
              }
            ]
          }
        },
        "53acda1351a943578a0da69a969bda8c": {
          "model_module": "@jupyter-widgets/controls",
          "model_name": "RadioButtonsModel",
          "model_module_version": "1.5.0",
          "state": {
            "_dom_classes": [],
            "_model_module": "@jupyter-widgets/controls",
            "_model_module_version": "1.5.0",
            "_model_name": "RadioButtonsModel",
            "_options_labels": [
              "X = duchess",
              "X = marquess",
              "X = countess",
              "X = baronet"
            ],
            "_view_count": null,
            "_view_module": "@jupyter-widgets/controls",
            "_view_module_version": "1.5.0",
            "_view_name": "RadioButtonsView",
            "description": "",
            "description_tooltip": null,
            "disabled": false,
            "index": 0,
            "layout": "IPY_MODEL_67cd67c750514055b6e8ed211faebf20",
            "style": "IPY_MODEL_a82f619ce48842878669bb782faa7ce1"
          }
        },
        "ccaa6d8de0a34180bd65cffd330c3bec": {
          "model_module": "@jupyter-widgets/controls",
          "model_name": "HTMLModel",
          "model_module_version": "1.5.0",
          "state": {
            "_dom_classes": [],
            "_model_module": "@jupyter-widgets/controls",
            "_model_module_version": "1.5.0",
            "_model_name": "HTMLModel",
            "_view_count": null,
            "_view_module": "@jupyter-widgets/controls",
            "_view_module_version": "1.5.0",
            "_view_name": "HTMLView",
            "description": "",
            "description_tooltip": null,
            "layout": "IPY_MODEL_5824bf8722e44c5c8cfdf9b06f4a8bca",
            "placeholder": "​",
            "style": "IPY_MODEL_36a04e2c90f247e9a987c0dc49004401",
            "value": "<br>"
          }
        },
        "2ca204b9dd1248b8abea47999f4646a0": {
          "model_module": "@jupyter-widgets/controls",
          "model_name": "ButtonModel",
          "model_module_version": "1.5.0",
          "state": {
            "_dom_classes": [],
            "_model_module": "@jupyter-widgets/controls",
            "_model_module_version": "1.5.0",
            "_model_name": "ButtonModel",
            "_view_count": null,
            "_view_module": "@jupyter-widgets/controls",
            "_view_module_version": "1.5.0",
            "_view_name": "ButtonView",
            "button_style": "",
            "description": "Check",
            "disabled": false,
            "icon": "",
            "layout": "IPY_MODEL_7d09c5498f6447888876d8616cf95acb",
            "style": "IPY_MODEL_a41491d728fa48968f5e6eddfa11a61f",
            "tooltip": ""
          }
        },
        "f4f31ee785de4127bc20f77b8745b07c": {
          "model_module": "@jupyter-widgets/base",
          "model_name": "LayoutModel",
          "model_module_version": "1.2.0",
          "state": {
            "_model_module": "@jupyter-widgets/base",
            "_model_module_version": "1.2.0",
            "_model_name": "LayoutModel",
            "_view_count": null,
            "_view_module": "@jupyter-widgets/base",
            "_view_module_version": "1.2.0",
            "_view_name": "LayoutView",
            "align_content": null,
            "align_items": null,
            "align_self": null,
            "border": null,
            "bottom": null,
            "display": null,
            "flex": null,
            "flex_flow": null,
            "grid_area": null,
            "grid_auto_columns": null,
            "grid_auto_flow": null,
            "grid_auto_rows": null,
            "grid_column": null,
            "grid_gap": null,
            "grid_row": null,
            "grid_template_areas": null,
            "grid_template_columns": null,
            "grid_template_rows": null,
            "height": null,
            "justify_content": null,
            "justify_items": null,
            "left": null,
            "margin": null,
            "max_height": null,
            "max_width": null,
            "min_height": null,
            "min_width": null,
            "object_fit": null,
            "object_position": null,
            "order": null,
            "overflow": null,
            "overflow_x": null,
            "overflow_y": null,
            "padding": null,
            "right": null,
            "top": null,
            "visibility": null,
            "width": null
          }
        },
        "67cd67c750514055b6e8ed211faebf20": {
          "model_module": "@jupyter-widgets/base",
          "model_name": "LayoutModel",
          "model_module_version": "1.2.0",
          "state": {
            "_model_module": "@jupyter-widgets/base",
            "_model_module_version": "1.2.0",
            "_model_name": "LayoutModel",
            "_view_count": null,
            "_view_module": "@jupyter-widgets/base",
            "_view_module_version": "1.2.0",
            "_view_name": "LayoutView",
            "align_content": null,
            "align_items": null,
            "align_self": null,
            "border": null,
            "bottom": null,
            "display": null,
            "flex": null,
            "flex_flow": null,
            "grid_area": null,
            "grid_auto_columns": null,
            "grid_auto_flow": null,
            "grid_auto_rows": null,
            "grid_column": null,
            "grid_gap": null,
            "grid_row": null,
            "grid_template_areas": null,
            "grid_template_columns": null,
            "grid_template_rows": null,
            "height": null,
            "justify_content": null,
            "justify_items": null,
            "left": null,
            "margin": null,
            "max_height": null,
            "max_width": null,
            "min_height": null,
            "min_width": null,
            "object_fit": null,
            "object_position": null,
            "order": null,
            "overflow": null,
            "overflow_x": null,
            "overflow_y": null,
            "padding": null,
            "right": null,
            "top": null,
            "visibility": null,
            "width": null
          }
        },
        "a82f619ce48842878669bb782faa7ce1": {
          "model_module": "@jupyter-widgets/controls",
          "model_name": "DescriptionStyleModel",
          "model_module_version": "1.5.0",
          "state": {
            "_model_module": "@jupyter-widgets/controls",
            "_model_module_version": "1.5.0",
            "_model_name": "DescriptionStyleModel",
            "_view_count": null,
            "_view_module": "@jupyter-widgets/base",
            "_view_module_version": "1.2.0",
            "_view_name": "StyleView",
            "description_width": ""
          }
        },
        "5824bf8722e44c5c8cfdf9b06f4a8bca": {
          "model_module": "@jupyter-widgets/base",
          "model_name": "LayoutModel",
          "model_module_version": "1.2.0",
          "state": {
            "_model_module": "@jupyter-widgets/base",
            "_model_module_version": "1.2.0",
            "_model_name": "LayoutModel",
            "_view_count": null,
            "_view_module": "@jupyter-widgets/base",
            "_view_module_version": "1.2.0",
            "_view_name": "LayoutView",
            "align_content": null,
            "align_items": null,
            "align_self": null,
            "border": null,
            "bottom": null,
            "display": null,
            "flex": null,
            "flex_flow": null,
            "grid_area": null,
            "grid_auto_columns": null,
            "grid_auto_flow": null,
            "grid_auto_rows": null,
            "grid_column": null,
            "grid_gap": null,
            "grid_row": null,
            "grid_template_areas": null,
            "grid_template_columns": null,
            "grid_template_rows": null,
            "height": null,
            "justify_content": null,
            "justify_items": null,
            "left": null,
            "margin": null,
            "max_height": null,
            "max_width": null,
            "min_height": null,
            "min_width": null,
            "object_fit": null,
            "object_position": null,
            "order": null,
            "overflow": null,
            "overflow_x": null,
            "overflow_y": null,
            "padding": null,
            "right": null,
            "top": null,
            "visibility": null,
            "width": null
          }
        },
        "36a04e2c90f247e9a987c0dc49004401": {
          "model_module": "@jupyter-widgets/controls",
          "model_name": "DescriptionStyleModel",
          "model_module_version": "1.5.0",
          "state": {
            "_model_module": "@jupyter-widgets/controls",
            "_model_module_version": "1.5.0",
            "_model_name": "DescriptionStyleModel",
            "_view_count": null,
            "_view_module": "@jupyter-widgets/base",
            "_view_module_version": "1.2.0",
            "_view_name": "StyleView",
            "description_width": ""
          }
        },
        "7d09c5498f6447888876d8616cf95acb": {
          "model_module": "@jupyter-widgets/base",
          "model_name": "LayoutModel",
          "model_module_version": "1.2.0",
          "state": {
            "_model_module": "@jupyter-widgets/base",
            "_model_module_version": "1.2.0",
            "_model_name": "LayoutModel",
            "_view_count": null,
            "_view_module": "@jupyter-widgets/base",
            "_view_module_version": "1.2.0",
            "_view_name": "LayoutView",
            "align_content": null,
            "align_items": null,
            "align_self": null,
            "border": null,
            "bottom": null,
            "display": null,
            "flex": null,
            "flex_flow": null,
            "grid_area": null,
            "grid_auto_columns": null,
            "grid_auto_flow": null,
            "grid_auto_rows": null,
            "grid_column": null,
            "grid_gap": null,
            "grid_row": null,
            "grid_template_areas": null,
            "grid_template_columns": null,
            "grid_template_rows": null,
            "height": null,
            "justify_content": null,
            "justify_items": null,
            "left": null,
            "margin": null,
            "max_height": null,
            "max_width": null,
            "min_height": null,
            "min_width": null,
            "object_fit": null,
            "object_position": null,
            "order": null,
            "overflow": null,
            "overflow_x": null,
            "overflow_y": null,
            "padding": null,
            "right": null,
            "top": null,
            "visibility": null,
            "width": null
          }
        },
        "a41491d728fa48968f5e6eddfa11a61f": {
          "model_module": "@jupyter-widgets/controls",
          "model_name": "ButtonStyleModel",
          "model_module_version": "1.5.0",
          "state": {
            "_model_module": "@jupyter-widgets/controls",
            "_model_module_version": "1.5.0",
            "_model_name": "ButtonStyleModel",
            "_view_count": null,
            "_view_module": "@jupyter-widgets/base",
            "_view_module_version": "1.2.0",
            "_view_name": "StyleView",
            "button_color": null,
            "font_weight": ""
          }
        },
        "efb47ae4531549aebdbbf14c89088481": {
          "model_module": "@jupyter-widgets/controls",
          "model_name": "HTMLModel",
          "model_module_version": "1.5.0",
          "state": {
            "_dom_classes": [],
            "_model_module": "@jupyter-widgets/controls",
            "_model_module_version": "1.5.0",
            "_model_name": "HTMLModel",
            "_view_count": null,
            "_view_module": "@jupyter-widgets/controls",
            "_view_module_version": "1.5.0",
            "_view_name": "HTMLView",
            "description": "",
            "description_tooltip": null,
            "layout": "IPY_MODEL_d0b8ce31708746c9bf92ab49f78c628b",
            "placeholder": "​",
            "style": "IPY_MODEL_c7b79b9f807f45bebece04e793e0e6e4",
            "value": "\n            Solve the following word analogy task:\n            $$\n            \\overrightarrow{\\mathrm{earl}} - \\overrightarrow{\\mathrm{man}} \\approx X - \\overrightarrow{\\mathrm{woman}}\n            $$\n            Use \"glove-wiki-gigaword-100\".\n        "
          }
        },
        "ea3c5962209b43a7be26303bfb6d8adb": {
          "model_module": "@jupyter-widgets/base",
          "model_name": "LayoutModel",
          "model_module_version": "1.2.0",
          "state": {
            "_model_module": "@jupyter-widgets/base",
            "_model_module_version": "1.2.0",
            "_model_name": "LayoutModel",
            "_view_count": null,
            "_view_module": "@jupyter-widgets/base",
            "_view_module_version": "1.2.0",
            "_view_name": "LayoutView",
            "align_content": null,
            "align_items": null,
            "align_self": null,
            "border": null,
            "bottom": null,
            "display": null,
            "flex": null,
            "flex_flow": null,
            "grid_area": null,
            "grid_auto_columns": null,
            "grid_auto_flow": null,
            "grid_auto_rows": null,
            "grid_column": null,
            "grid_gap": null,
            "grid_row": null,
            "grid_template_areas": null,
            "grid_template_columns": null,
            "grid_template_rows": null,
            "height": null,
            "justify_content": null,
            "justify_items": null,
            "left": null,
            "margin": null,
            "max_height": null,
            "max_width": null,
            "min_height": null,
            "min_width": null,
            "object_fit": null,
            "object_position": null,
            "order": null,
            "overflow": null,
            "overflow_x": null,
            "overflow_y": null,
            "padding": null,
            "right": null,
            "top": null,
            "visibility": null,
            "width": null
          }
        },
        "d0b8ce31708746c9bf92ab49f78c628b": {
          "model_module": "@jupyter-widgets/base",
          "model_name": "LayoutModel",
          "model_module_version": "1.2.0",
          "state": {
            "_model_module": "@jupyter-widgets/base",
            "_model_module_version": "1.2.0",
            "_model_name": "LayoutModel",
            "_view_count": null,
            "_view_module": "@jupyter-widgets/base",
            "_view_module_version": "1.2.0",
            "_view_name": "LayoutView",
            "align_content": null,
            "align_items": null,
            "align_self": null,
            "border": null,
            "bottom": null,
            "display": null,
            "flex": null,
            "flex_flow": null,
            "grid_area": null,
            "grid_auto_columns": null,
            "grid_auto_flow": null,
            "grid_auto_rows": null,
            "grid_column": null,
            "grid_gap": null,
            "grid_row": null,
            "grid_template_areas": null,
            "grid_template_columns": null,
            "grid_template_rows": null,
            "height": null,
            "justify_content": null,
            "justify_items": null,
            "left": null,
            "margin": null,
            "max_height": null,
            "max_width": null,
            "min_height": null,
            "min_width": null,
            "object_fit": null,
            "object_position": null,
            "order": null,
            "overflow": null,
            "overflow_x": null,
            "overflow_y": null,
            "padding": null,
            "right": null,
            "top": null,
            "visibility": null,
            "width": null
          }
        },
        "c7b79b9f807f45bebece04e793e0e6e4": {
          "model_module": "@jupyter-widgets/controls",
          "model_name": "DescriptionStyleModel",
          "model_module_version": "1.5.0",
          "state": {
            "_model_module": "@jupyter-widgets/controls",
            "_model_module_version": "1.5.0",
            "_model_name": "DescriptionStyleModel",
            "_view_count": null,
            "_view_module": "@jupyter-widgets/base",
            "_view_module_version": "1.2.0",
            "_view_name": "StyleView",
            "description_width": ""
          }
        }
      }
    }
  },
  "cells": [
    {
      "cell_type": "markdown",
      "metadata": {
        "id": "view-in-github",
        "colab_type": "text"
      },
      "source": [
        "<a href=\"https://colab.research.google.com/github/mohammadsanaee/ML_in_application/blob/main/8_word2vec.ipynb\" target=\"_parent\"><img src=\"https://colab.research.google.com/assets/colab-badge.svg\" alt=\"Open In Colab\"/></a>"
      ]
    },
    {
      "cell_type": "code",
      "metadata": {
        "id": "vxF77E9-4JwH",
        "colab": {
          "base_uri": "https://localhost:8080/"
        },
        "outputId": "7b5b6f2d-0647-45d8-a483-5adcde15a5cd"
      },
      "source": [
        "#@title <b><font color=\"red\">▶</font><font color=\"black\"> run this cell and restart runtime</font></b>\n",
        "\n",
        "!python -m spacy download en_core_web_lg"
      ],
      "execution_count": 56,
      "outputs": [
        {
          "output_type": "stream",
          "name": "stdout",
          "text": [
            "/usr/local/lib/python3.8/dist-packages/torch/cuda/__init__.py:497: UserWarning: Can't initialize NVML\n",
            "  warnings.warn(\"Can't initialize NVML\")\n",
            "2023-01-27 07:30:24.281157: E tensorflow/stream_executor/cuda/cuda_driver.cc:271] failed call to cuInit: CUDA_ERROR_NO_DEVICE: no CUDA-capable device is detected\n",
            "Looking in indexes: https://pypi.org/simple, https://us-python.pkg.dev/colab-wheels/public/simple/\n",
            "Collecting en-core-web-lg==3.4.1\n",
            "  Downloading https://github.com/explosion/spacy-models/releases/download/en_core_web_lg-3.4.1/en_core_web_lg-3.4.1-py3-none-any.whl (587.7 MB)\n",
            "\u001b[2K     \u001b[90m━━━━━━━━━━━━━━━━━━━━━━━━━━━━━━━━━━━━━━━\u001b[0m \u001b[32m587.7/587.7 MB\u001b[0m \u001b[31m1.5 MB/s\u001b[0m eta \u001b[36m0:00:00\u001b[0m\n",
            "\u001b[?25hRequirement already satisfied: spacy<3.5.0,>=3.4.0 in /usr/local/lib/python3.8/dist-packages (from en-core-web-lg==3.4.1) (3.4.4)\n",
            "Requirement already satisfied: wasabi<1.1.0,>=0.9.1 in /usr/local/lib/python3.8/dist-packages (from spacy<3.5.0,>=3.4.0->en-core-web-lg==3.4.1) (0.10.1)\n",
            "Requirement already satisfied: requests<3.0.0,>=2.13.0 in /usr/local/lib/python3.8/dist-packages (from spacy<3.5.0,>=3.4.0->en-core-web-lg==3.4.1) (2.25.1)\n",
            "Requirement already satisfied: cymem<2.1.0,>=2.0.2 in /usr/local/lib/python3.8/dist-packages (from spacy<3.5.0,>=3.4.0->en-core-web-lg==3.4.1) (2.0.7)\n",
            "Requirement already satisfied: thinc<8.2.0,>=8.1.0 in /usr/local/lib/python3.8/dist-packages (from spacy<3.5.0,>=3.4.0->en-core-web-lg==3.4.1) (8.1.6)\n",
            "Requirement already satisfied: langcodes<4.0.0,>=3.2.0 in /usr/local/lib/python3.8/dist-packages (from spacy<3.5.0,>=3.4.0->en-core-web-lg==3.4.1) (3.3.0)\n",
            "Requirement already satisfied: murmurhash<1.1.0,>=0.28.0 in /usr/local/lib/python3.8/dist-packages (from spacy<3.5.0,>=3.4.0->en-core-web-lg==3.4.1) (1.0.9)\n",
            "Requirement already satisfied: setuptools in /usr/local/lib/python3.8/dist-packages (from spacy<3.5.0,>=3.4.0->en-core-web-lg==3.4.1) (57.4.0)\n",
            "Requirement already satisfied: catalogue<2.1.0,>=2.0.6 in /usr/local/lib/python3.8/dist-packages (from spacy<3.5.0,>=3.4.0->en-core-web-lg==3.4.1) (2.0.8)\n",
            "Requirement already satisfied: smart-open<7.0.0,>=5.2.1 in /usr/local/lib/python3.8/dist-packages (from spacy<3.5.0,>=3.4.0->en-core-web-lg==3.4.1) (6.3.0)\n",
            "Requirement already satisfied: preshed<3.1.0,>=3.0.2 in /usr/local/lib/python3.8/dist-packages (from spacy<3.5.0,>=3.4.0->en-core-web-lg==3.4.1) (3.0.8)\n",
            "Requirement already satisfied: numpy>=1.15.0 in /usr/local/lib/python3.8/dist-packages (from spacy<3.5.0,>=3.4.0->en-core-web-lg==3.4.1) (1.21.6)\n",
            "Requirement already satisfied: packaging>=20.0 in /usr/local/lib/python3.8/dist-packages (from spacy<3.5.0,>=3.4.0->en-core-web-lg==3.4.1) (21.3)\n",
            "Requirement already satisfied: typer<0.8.0,>=0.3.0 in /usr/local/lib/python3.8/dist-packages (from spacy<3.5.0,>=3.4.0->en-core-web-lg==3.4.1) (0.7.0)\n",
            "Requirement already satisfied: srsly<3.0.0,>=2.4.3 in /usr/local/lib/python3.8/dist-packages (from spacy<3.5.0,>=3.4.0->en-core-web-lg==3.4.1) (2.4.5)\n",
            "Requirement already satisfied: pathy>=0.3.5 in /usr/local/lib/python3.8/dist-packages (from spacy<3.5.0,>=3.4.0->en-core-web-lg==3.4.1) (0.10.1)\n",
            "Requirement already satisfied: tqdm<5.0.0,>=4.38.0 in /usr/local/lib/python3.8/dist-packages (from spacy<3.5.0,>=3.4.0->en-core-web-lg==3.4.1) (4.64.1)\n",
            "Requirement already satisfied: spacy-loggers<2.0.0,>=1.0.0 in /usr/local/lib/python3.8/dist-packages (from spacy<3.5.0,>=3.4.0->en-core-web-lg==3.4.1) (1.0.4)\n",
            "Requirement already satisfied: spacy-legacy<3.1.0,>=3.0.10 in /usr/local/lib/python3.8/dist-packages (from spacy<3.5.0,>=3.4.0->en-core-web-lg==3.4.1) (3.0.11)\n",
            "Requirement already satisfied: pydantic!=1.8,!=1.8.1,<1.11.0,>=1.7.4 in /usr/local/lib/python3.8/dist-packages (from spacy<3.5.0,>=3.4.0->en-core-web-lg==3.4.1) (1.10.4)\n",
            "Requirement already satisfied: jinja2 in /usr/local/lib/python3.8/dist-packages (from spacy<3.5.0,>=3.4.0->en-core-web-lg==3.4.1) (2.11.3)\n",
            "Requirement already satisfied: pyparsing!=3.0.5,>=2.0.2 in /usr/local/lib/python3.8/dist-packages (from packaging>=20.0->spacy<3.5.0,>=3.4.0->en-core-web-lg==3.4.1) (3.0.9)\n",
            "Requirement already satisfied: typing-extensions>=4.2.0 in /usr/local/lib/python3.8/dist-packages (from pydantic!=1.8,!=1.8.1,<1.11.0,>=1.7.4->spacy<3.5.0,>=3.4.0->en-core-web-lg==3.4.1) (4.4.0)\n",
            "Requirement already satisfied: urllib3<1.27,>=1.21.1 in /usr/local/lib/python3.8/dist-packages (from requests<3.0.0,>=2.13.0->spacy<3.5.0,>=3.4.0->en-core-web-lg==3.4.1) (1.24.3)\n",
            "Requirement already satisfied: certifi>=2017.4.17 in /usr/local/lib/python3.8/dist-packages (from requests<3.0.0,>=2.13.0->spacy<3.5.0,>=3.4.0->en-core-web-lg==3.4.1) (2022.12.7)\n",
            "Requirement already satisfied: chardet<5,>=3.0.2 in /usr/local/lib/python3.8/dist-packages (from requests<3.0.0,>=2.13.0->spacy<3.5.0,>=3.4.0->en-core-web-lg==3.4.1) (4.0.0)\n",
            "Requirement already satisfied: idna<3,>=2.5 in /usr/local/lib/python3.8/dist-packages (from requests<3.0.0,>=2.13.0->spacy<3.5.0,>=3.4.0->en-core-web-lg==3.4.1) (2.10)\n",
            "Requirement already satisfied: confection<1.0.0,>=0.0.1 in /usr/local/lib/python3.8/dist-packages (from thinc<8.2.0,>=8.1.0->spacy<3.5.0,>=3.4.0->en-core-web-lg==3.4.1) (0.0.3)\n",
            "Requirement already satisfied: blis<0.8.0,>=0.7.8 in /usr/local/lib/python3.8/dist-packages (from thinc<8.2.0,>=8.1.0->spacy<3.5.0,>=3.4.0->en-core-web-lg==3.4.1) (0.7.9)\n",
            "Requirement already satisfied: click<9.0.0,>=7.1.1 in /usr/local/lib/python3.8/dist-packages (from typer<0.8.0,>=0.3.0->spacy<3.5.0,>=3.4.0->en-core-web-lg==3.4.1) (7.1.2)\n",
            "Requirement already satisfied: MarkupSafe>=0.23 in /usr/local/lib/python3.8/dist-packages (from jinja2->spacy<3.5.0,>=3.4.0->en-core-web-lg==3.4.1) (2.0.1)\n",
            "\u001b[38;5;2m✔ Download and installation successful\u001b[0m\n",
            "You can now load the package via spacy.load('en_core_web_lg')\n"
          ]
        }
      ]
    },
    {
      "cell_type": "code",
      "metadata": {
        "id": "xb96gaW0L8SX",
        "outputId": "7a6a861f-15cd-4a5f-b3f8-b8069c44accd",
        "colab": {
          "base_uri": "https://localhost:8080/"
        }
      },
      "source": [
        "#@title <b><font color=\"red\">▶</font><font color=\"black\"> run this cell to prepare supplementary materials for the lesson</font></b>\n",
        "\n",
        "!rm -rf harbour-space-text-mining-course\n",
        "!git clone https://github.com/horoshenkih/harbour-space-text-mining-course.git\n",
        "import sys\n",
        "sys.path.append('harbour-space-text-mining-course')\n",
        "\n",
        "from tmcourse.utils import (\n",
        "    enable_mathjax_in_cell,\n",
        "    display_pca_scatterplot,\n",
        "    display_pca_scatterplot_interactive\n",
        ")\n",
        "from tmcourse.demo import (\n",
        "    demo_word2vec_batch,\n",
        "    demo_gradient_descent,\n",
        ")\n",
        "from tmcourse.quiz import (\n",
        "    quiz_skibidi,\n",
        "    quiz_word2vec_context,\n",
        "    quiz_word2vec_word_vector,\n",
        "    quiz_word2vec_subsampling,\n",
        "    quiz_word2vec_negative_sampling,\n",
        "    quiz_most_similar,\n",
        "    quiz_earl,\n",
        ")\n",
        "from tmcourse.ipyquiz import Quiz\n",
        "from tqdm.notebook import tqdm\n",
        "\n",
        "import warnings\n",
        "warnings.filterwarnings('ignore')"
      ],
      "execution_count": 57,
      "outputs": [
        {
          "output_type": "stream",
          "name": "stdout",
          "text": [
            "Cloning into 'harbour-space-text-mining-course'...\n",
            "remote: Enumerating objects: 738, done.\u001b[K\n",
            "remote: Counting objects: 100% (175/175), done.\u001b[K\n",
            "remote: Compressing objects: 100% (105/105), done.\u001b[K\n",
            "remote: Total 738 (delta 79), reused 158 (delta 69), pack-reused 563\u001b[K\n",
            "Receiving objects: 100% (738/738), 179.50 MiB | 23.91 MiB/s, done.\n",
            "Resolving deltas: 100% (403/403), done.\n",
            "Updating files: 100% (129/129), done.\n"
          ]
        }
      ]
    },
    {
      "cell_type": "markdown",
      "metadata": {
        "id": "TamR3h9OH8Hr"
      },
      "source": [
        "<!--@slideshow slide-->\n",
        "<center><h1>Word vectors</h1></center>"
      ]
    },
    {
      "cell_type": "markdown",
      "metadata": {
        "id": "dAiUCXWVHvN1"
      },
      "source": [
        "<!--@slideshow slide-->\n",
        "# Outline\n",
        "1. Sparsity problem (words are not orthogonal)\n",
        "1. Word meanings and distributional hypothesis\n",
        "1. word2vec: idea and algorithm\n",
        "1. Visualization of word vectors\n",
        "1. Properties of word vectors\n",
        "1. GloVe\n",
        "1. FastText\n",
        "1. Word vectors in spaCy"
      ]
    },
    {
      "cell_type": "markdown",
      "metadata": {
        "id": "9FoyjBIAJW-a"
      },
      "source": [
        "<!--@slideshow slide-->\n",
        "# Sparsity problem (words are not orthogonal)\n",
        "\n",
        "So far, we treated words (or terms) as discrete symbols.\n",
        "  - For each word, `TfidfVectorizer` creates a separate vector component.\n",
        "  - Hence all words are _orthogonal_.\n"
      ]
    },
    {
      "cell_type": "markdown",
      "metadata": {
        "id": "YNAF2SPNKuvW"
      },
      "source": [
        "<!--@slideshow fragment-->\n",
        "The following experiment shows that it may be a problem:\n",
        "1. Take two questions from the Quora Question Pairs dataset:\n",
        "    - \"How can I be a good geologist?\"\n",
        "    - \"What should I do to be a great geologist?\"\n",
        "1. Compute the distance between their tfidf-vectors\n",
        "1. Repeat with only one change in the second question: \"good\" instead of \"great\"."
      ]
    },
    {
      "cell_type": "code",
      "metadata": {
        "id": "FK0zGGCiFJCl",
        "outputId": "8b226033-eff2-4b05-9f2e-c1aa421cf2b8",
        "colab": {
          "base_uri": "https://localhost:8080/"
        }
      },
      "source": [
        "#@slideshow slide\n",
        "from sklearn.feature_extraction.text import TfidfVectorizer\n",
        "import pandas as pd\n",
        "import numpy as np\n",
        "from scipy.spatial.distance import cosine\n",
        "def row_to_array(sparse_matrix_row):\n",
        "    return np.squeeze(np.asarray(sparse_matrix_row.todense()))\n",
        "\n",
        "df = pd.read_csv(\"harbour-space-text-mining-course/datasets/quora_question_pairs/train.csv\")\n",
        "\n",
        "# words 'good' and 'great' are similar, but have different TF-IDF representations\n",
        "# let's see if it makes any difference\n",
        "\n",
        "vec = TfidfVectorizer().fit(list(df[\"question1\"].fillna(\".\")) + list(df[\"question2\"].fillna(\".\")))\n",
        "\n",
        "question_1 =              \"How can I be a good geologist?\"  # df.iloc[7][\"question1\"]\n",
        "question_2 =              \"What should I do to be a great geologist?\"  # df.iloc[7][\"question2\"]\n",
        "question_2_reformulated = \"What should I do to be a good geologist?\"\n",
        "\n",
        "vector_1 = row_to_array(vec.transform([question_1]))\n",
        "vector_2 = row_to_array(vec.transform([question_2]))\n",
        "vector_2_reformulated = row_to_array(vec.transform([question_2_reformulated]))\n",
        "print(\"cosine(\\\"{}\\\", \\\"{}\\\") = {:.2f}\".format(question_1, question_2, cosine(vector_1, vector_2)))\n",
        "print(\"cosine(\\\"{}\\\", \\\"{}\\\") = {:.2f}\".format(question_1, question_2_reformulated, cosine(vector_1, vector_2_reformulated)))"
      ],
      "execution_count": 58,
      "outputs": [
        {
          "output_type": "stream",
          "name": "stdout",
          "text": [
            "cosine(\"How can I be a good geologist?\", \"What should I do to be a great geologist?\") = 0.24\n",
            "cosine(\"How can I be a good geologist?\", \"What should I do to be a good geologist?\") = 0.11\n"
          ]
        }
      ]
    },
    {
      "cell_type": "markdown",
      "metadata": {
        "id": "YzNCaEQTNBg5"
      },
      "source": [
        "<!--@slideshow slide-->\n",
        "Words \"good\" and \"great\" have similar meanings in this case, but for TF-IDF they are different."
      ]
    },
    {
      "cell_type": "markdown",
      "metadata": {
        "id": "KIYY9IzvNluc"
      },
      "source": [
        "<!--@slideshow fragment-->\n",
        "**Our goal**: instead of discrete representations (all words are different, or orthogonal), find representations that captures similarity between words.\n"
      ]
    },
    {
      "cell_type": "markdown",
      "metadata": {
        "id": "Q-ho9k9fPnfz"
      },
      "source": [
        "<!--@slideshow fragment-->\n",
        "**Technically**, we will represent words as _vectors_ such that the words with similar meanings will have similar (close) vectors.\n"
      ]
    },
    {
      "cell_type": "markdown",
      "metadata": {
        "id": "U469CuXOPpCW"
      },
      "source": [
        "<!--@slideshow fragment-->\n",
        "But, what is \"meaning\"? How do **we** understand the meaning of the word?"
      ]
    },
    {
      "cell_type": "markdown",
      "metadata": {
        "id": "OLQjN62YJZNt"
      },
      "source": [
        "<!--@slideshow slide-->\n",
        "# Word meanings. Distributional hypothesis."
      ]
    },
    {
      "cell_type": "markdown",
      "metadata": {
        "id": "zzqkeZTO8Odk"
      },
      "source": [
        "<!--@slideshow slide-->\n",
        "## Colab quiz 1\n",
        "What is \"skibidi\"?"
      ]
    },
    {
      "cell_type": "code",
      "metadata": {
        "id": "qX09ii5f7fgi",
        "outputId": "e8c20bb6-1be3-4d49-f731-e6d4fc3b0c91",
        "colab": {
          "base_uri": "https://localhost:8080/",
          "height": 363,
          "referenced_widgets": [
            "1407544ab620429f9ece2942b61959f2",
            "914672fd3383434083315f50e816aafb",
            "86245f6841594119b84159f19ed98bac",
            "ab90163acc504654b510b559edb0e56d",
            "6c72122264e0406eb04e15b6229ff883",
            "28165ef27944490cbbc678552e4c522a",
            "8177e87139aa414486a6422525f50b24",
            "eeb76d7450bd48cfac2e83ac71445518",
            "c4e0553d6fcf4ae081745c825ecaa7fc",
            "20ee4206132a43db8f1ebc8da3c1c127",
            "1cdc1021458d4ad58e764d3b1a842f7c",
            "78cf77c0b6924fca96900711b95e695f",
            "ee18a682ba154c228a9827c0de0599dd",
            "950f8de4daa34691b234a961954b1b03",
            "64e1834095364545991385938b9ed611",
            "cef46bfafc784187b34132939542b639"
          ]
        }
      },
      "source": [
        "quiz_skibidi()()"
      ],
      "execution_count": 59,
      "outputs": [
        {
          "output_type": "display_data",
          "data": {
            "text/plain": [
              "VBox(children=(Output(), RadioButtons(options=('definition 1', 'definition 2', 'definition 3', 'definition 4')…"
            ],
            "application/vnd.jupyter.widget-view+json": {
              "version_major": 2,
              "version_minor": 0,
              "model_id": "1407544ab620429f9ece2942b61959f2"
            }
          },
          "metadata": {}
        }
      ]
    },
    {
      "cell_type": "markdown",
      "metadata": {
        "id": "x7AUEpSj5Osa"
      },
      "source": [
        "<!--@slideshow fragment-->\n",
        "Actually, neither the word \"skibidi\" nor the definitions 1-4 exist.\n",
        "This quiz was generated using https://www.thisworddoesnotexist.com/\n",
        "\n",
        "How did you know the meaning of \"skibidi\"?"
      ]
    },
    {
      "cell_type": "markdown",
      "metadata": {
        "id": "sO514X8YRr5G"
      },
      "source": [
        "<!--@slideshow slide-->\n",
        "## Distributional semantics\n",
        "**Idea**: the meaning of a word can be deduced from  _contexts_ the word appears in.\n",
        "\n",
        "> \"You shall know a word by the company it keeps\" (Firth, 1957)"
      ]
    },
    {
      "cell_type": "markdown",
      "metadata": {
        "id": "N5ZIg0nBUBwH"
      },
      "source": [
        "<!--@slideshow slide-->\n",
        "- **What we need**: represent words by vectors such that words with similar meanings have similar vectors.\n",
        "- **What we know (assume)**: the meaning of a word can be deduced from  _contexts_ the word appears in\n",
        "- **What we will do**: given a word, predict its context."
      ]
    },
    {
      "cell_type": "markdown",
      "metadata": {
        "id": "z9PVWFNoJgs1"
      },
      "source": [
        "<!--@slideshow slide-->\n",
        "# word2vec\n"
      ]
    },
    {
      "cell_type": "markdown",
      "metadata": {
        "id": "JeY7gHTNdQpM"
      },
      "source": [
        "<!--@slideshow slide-->\n",
        "**Idea**: for each word, find a vector such that words with similar vectors often occur in the same context.\n"
      ]
    },
    {
      "cell_type": "markdown",
      "metadata": {
        "id": "-aUIMGM4dW4H"
      },
      "source": [
        "<!--@slideshow fragment-->\n",
        "- A large corpus of text (Wikipedia).\n",
        "- Every word is represented by a vector.\n",
        "- For each position in the text:\n",
        "  1. Get the word on this position.\n",
        "  1. Get the context of the word.\n",
        "  1. Adjust vectors to maximize the probability of the observed context (the closer the vectors, the larger the probability)."
      ]
    },
    {
      "cell_type": "markdown",
      "metadata": {
        "id": "VkqgywE0xHaF"
      },
      "source": [
        "<!--@slideshow slide-->\n",
        "## Colab demo: word2vec context\n",
        "\n",
        "By definition, the context consists of $m$ surrounding words on the left and $m$ on the right. See the demonstration for $m=3$."
      ]
    },
    {
      "cell_type": "code",
      "metadata": {
        "id": "WNR55q1QPE62",
        "outputId": "53af9b80-0c30-497f-d3e5-93acfda3ed53",
        "colab": {
          "base_uri": "https://localhost:8080/",
          "height": 120,
          "referenced_widgets": [
            "a7c23c3759414d7085ea74e304ddcb41",
            "ef0354dbc18d40b6b15c94493f10a014",
            "1ba1e3e9089a45e183b505f9d9e60743",
            "b43522575beb493c80d1356e3bec2acd",
            "7c701d4bf81a43bdaf36169e2fc5a80a",
            "530478beef7d43b7950955e600dd7b15",
            "b8397ff02f23412ba79b5eb1950bdc39",
            "e55e4c2d411b49068f6a2e524c600151",
            "687f80ae95324276ba2e0d1a3221334b",
            "6580b76980a14320b859ce30ef9c9117",
            "0960df79b20c462ea1cd69f3739dac40",
            "dee5bc8695d94bbba5b935dfe65d4c21"
          ]
        }
      },
      "source": [
        "demo_word2vec_batch(\"never gonna give you up never gonna let you down\".split(), 3)"
      ],
      "execution_count": 60,
      "outputs": [
        {
          "output_type": "display_data",
          "data": {
            "text/plain": [
              "VBox(children=(HBox(children=(Button(description='<<', style=ButtonStyle()), Button(description='>>', style=Bu…"
            ],
            "application/vnd.jupyter.widget-view+json": {
              "version_major": 2,
              "version_minor": 0,
              "model_id": "a7c23c3759414d7085ea74e304ddcb41"
            }
          },
          "metadata": {}
        }
      ]
    },
    {
      "cell_type": "markdown",
      "metadata": {
        "id": "Ty_viUrnTX7K"
      },
      "source": [
        "<!--@slideshow slide-->\n",
        "## Colab quiz 2\n",
        "Choose the correct context"
      ]
    },
    {
      "cell_type": "code",
      "metadata": {
        "id": "oFuY_cNoTaZ9",
        "outputId": "3c523e96-5a1c-4fee-f49b-228617b7eea4",
        "colab": {
          "base_uri": "https://localhost:8080/",
          "height": 253,
          "referenced_widgets": [
            "4ebb539bccd943fa860309c60d0029f3",
            "9c8c4aaab38c4c65aefe55795acff86d",
            "ce3f6be1e238405286446d32de0f16ac",
            "642a2ea964fe410ab51794aebeb15732",
            "c73beb9161654ae884c9f54b4005a571",
            "0ed583fb660e4d389ca4a865c5ae66bd",
            "9fe87dfaec224312a0bcaff1fc0c04e4",
            "e827f6c2ef8743dcabc159c4e787f2bb",
            "ef99281e7fb94467b035b05038a332a7",
            "62a83dace2a14927a2ffa547c3fa5c8e",
            "51d5afbb7dfd47fcbcdb811d683373e1",
            "7b20dcb230fd4fc994711ef14a96b806",
            "e4d389361ce84b2ba52af1fb11119e2c",
            "3bcbcf6fb5f04b87a3f5a38d9df96023",
            "5d99df9a8825465787819f1565f3bbd0",
            "59a969c85d244bf49b3245c64d7ff31e"
          ]
        }
      },
      "source": [
        "quiz_word2vec_context()()"
      ],
      "execution_count": 61,
      "outputs": [
        {
          "output_type": "display_data",
          "data": {
            "text/plain": [
              "VBox(children=(Output(), RadioButtons(options=('(the, brown)', '(the, quick, brown, fox)', '(the, brown, fox)'…"
            ],
            "application/vnd.jupyter.widget-view+json": {
              "version_major": 2,
              "version_minor": 0,
              "model_id": "4ebb539bccd943fa860309c60d0029f3"
            }
          },
          "metadata": {}
        }
      ]
    },
    {
      "cell_type": "markdown",
      "metadata": {
        "id": "8-MqkDS9i7_n"
      },
      "source": [
        "<!--@slideshow slide-->\n",
        "## word2vec: objective function\n",
        "\n",
        "Consider the position $t$ in the text:\n",
        "- Word: $w_t$\n",
        "- Context: $$w_{t-m}, w_{t-m + 1}, \\dots, w_{\\color{red}{t-1}}, w_{\\color{red}{t+1}}, \\dots, w_{t+m-1}, w_{t+m}$$\n",
        "- Probability of the context\n",
        "$$\n",
        "\\Pr(w_{t-m}, w_{t-m + 1}, \\dots, w_{t-1}, w_{t+1}, \\dots, w_{t+m-1}, w_{t+m}|w_t) \\equiv \\Pr_{\\textrm{context}}(t)\n",
        "$$\n",
        "- Likelihood of the corpus is:\n",
        "$$\n",
        "\\prod_{t=1}^T \\Pr_{\\textrm{context}}(t)\n",
        "$$"
      ]
    },
    {
      "cell_type": "markdown",
      "metadata": {
        "id": "L8w7ZOwfn4aD"
      },
      "source": [
        "<!--@slideshow slide-->\n",
        "\n",
        "Word vectors are _parameters_ $\\theta$.\n",
        "\n",
        "**Our goal**: maximize the likelihood, or minimize the _negative log-likelihood_ w.r.t. $\\theta$:\n",
        "$$\n",
        "L(\\theta) = -\\sum_{t=1}^T \\log\\Pr_{\\textrm{context}}(t)\n",
        "$$"
      ]
    },
    {
      "cell_type": "markdown",
      "metadata": {
        "id": "jk2cRFLds82c"
      },
      "source": [
        "<!--@slideshow fragment-->\n",
        "**Assumption**: for each $t$, words both inside and outside the context are conditionally independent given $w_t$.\n",
        "\n",
        "> Informally, for any word $\\hat{w}$, the probability to find $\\hat{w}$ in the context of $w_t$ depends only on $w_t$.\n"
      ]
    },
    {
      "cell_type": "markdown",
      "metadata": {
        "id": "NsiscDad3Cya"
      },
      "source": [
        "<!--@slideshow fragment-->\n",
        "So we can write:\n",
        "$$\n",
        "\\Pr_{\\textrm{context}}(t) = \\left(\\prod_{w' \\in \\textrm{context}(w_t)} \\Pr(w'|w_t)\\right)\\left(\\prod_{w'' \\notin \\textrm{context}(w_t)}(1 - \\Pr(w''|w))\\right)\n",
        "$$"
      ]
    },
    {
      "cell_type": "markdown",
      "metadata": {
        "id": "7VQ4bZrsWTQr"
      },
      "source": [
        "<!--@slideshow slide-->\n",
        "The objective function:\n",
        "$$\n",
        "L(\\theta) = -\\sum_{t=1}^T \\left(\\sum_{w' \\in \\textrm{context}(w_t)} \\log\\Pr(w'|w_t) + \\sum_{w'' \\notin \\textrm{context}(w_t)}\\log(1 - \\Pr(w''|w))\\right)\n",
        "$$\n",
        "\n",
        "As usual, we will use gradient descent to find parameters (word vectors) $\\theta$ that minimize $L(\\theta)$. "
      ]
    },
    {
      "cell_type": "markdown",
      "metadata": {
        "id": "sUG7EMdOXiAI"
      },
      "source": [
        "<!--@slideshow slide-->\n",
        "## Problem 1: word in its own context\n",
        "\n",
        "How do we estimate $\\Pr(o|c)$?\n",
        "\n",
        "Suppose the word $o$ has vector $\\mathbf{u}$, and the word $c$ has vector $\\mathbf{v}$.\n",
        "\n",
        "It's natural to estimate\n",
        "$$\n",
        "\\Pr(o|c) = \\sigma(\\mathbf{u} \\cdot \\mathbf{v})\n",
        "$$\n",
        "where $\\mathbf{u} \\cdot \\mathbf{v}$ is the dot product, and $\\sigma(s) = \\dfrac{1}{1 + e^{-s}}$ is the sigmoid function."
      ]
    },
    {
      "cell_type": "markdown",
      "metadata": {
        "id": "VMTbDSrxYtkI"
      },
      "source": [
        "<!--@slideshow fragment-->\n",
        "But what if $o = c$?\n",
        "\n",
        "The dot product is large, but the probability to see the word in its own context is low!"
      ]
    },
    {
      "cell_type": "markdown",
      "metadata": {
        "id": "lBxzV36-ZLEI"
      },
      "source": [
        "<!--@slideshow fragment-->\n",
        "**Solution**: for each word $w$, instead of _one_ vector, keep _two_ vectors:\n",
        "1. When $w$ is the context word: $\\mathbf{u}_w$.\n",
        "1. When $w$ is the central word: $\\mathbf{v}_w$."
      ]
    },
    {
      "cell_type": "markdown",
      "metadata": {
        "id": "K19QPD1AaU-J"
      },
      "source": [
        "<!--@slideshow slide-->\n",
        "## Problem 2: computational complexity\n",
        "Remember that the objective function is\n",
        "$$\n",
        "L(\\theta) = -\\sum_{t=1}^T \\left(\\sum_{w' \\in \\textrm{context}(w_t)} \\log\\Pr(w'|w_t) + \\sum_{\\color{red}{w'' \\notin \\textrm{context}(w_t)}}\\log(1 - \\Pr(w''|w))\\right)\n",
        "$$\n"
      ]
    },
    {
      "cell_type": "markdown",
      "metadata": {
        "id": "dwQsuPcIzTFQ"
      },
      "source": [
        "<!--@slideshow fragment-->\n",
        "- In each term, the second sum is computed over the full vocabulary (except for the context of $w_t$).\n",
        "- We need to compute it for each position $t$ in the text.\n"
      ]
    },
    {
      "cell_type": "markdown",
      "metadata": {
        "id": "pZmXnyhXzUfn"
      },
      "source": [
        "<!--@slideshow fragment-->\n",
        "**Solution**: **for each context word**, keep only the fixed number (5-20) of terms in the second sum.\n",
        "\n",
        "> This is called **negative sampling**."
      ]
    },
    {
      "cell_type": "markdown",
      "metadata": {
        "id": "QIXXM9Dxbd4h"
      },
      "source": [
        "<!--@slideshow slide-->\n",
        "## Problem 3: \"meaningless\" words\n",
        "\n",
        "Some words (like prepositions and articles in English)\n",
        "- are very frequent,\n",
        "- play only a technical role and therefore don't have meaning.\n",
        "\n"
      ]
    },
    {
      "cell_type": "markdown",
      "metadata": {
        "id": "RKG2AWi13SkR"
      },
      "source": [
        "<!--@slideshow fragment-->\n",
        "So they harm the performance of stochastic gradient descent, because\n",
        "- they cause may updates because they are frequent,\n",
        "- these updates are \"noisy\", because \"technical\" words don't have meaning."
      ]
    },
    {
      "cell_type": "markdown",
      "metadata": {
        "id": "Cf4-WD6adbAd"
      },
      "source": [
        "<!--@slideshow fragment-->\n",
        "**Solution**: throw frequent words away with some probability (the higher the frequency, the higher the probability).\n",
        "\n",
        "> This is called **subsampling**."
      ]
    },
    {
      "cell_type": "markdown",
      "metadata": {
        "id": "DmOTcfQuJnDs"
      },
      "source": [
        "<!--@slideshow slide-->\n",
        "## Colab demo: word2vec implementation"
      ]
    },
    {
      "cell_type": "code",
      "metadata": {
        "id": "3iUFbbRY8HuF"
      },
      "source": [
        "import numpy as np\n",
        "from collections import Counter\n",
        "from scipy.special import softmax\n",
        "from scipy.special import expit as sigmoid  # \"expit\" is the inverse of \"logit\"\n",
        "from scipy.spatial.distance import cosine as cosine_distance\n",
        "\n",
        "class Word2Vec:\n",
        "    \"\"\"\n",
        "    This is an instructive implementation of skip-gram word2vec algorithm with negative sampling loss.\n",
        "    It is deliberately inefficient: it uses built-in Python data structures (dicts and lists)\n",
        "    instead of matrix-vector operations.\n",
        "\n",
        "    The recommended way to read the code is the following:\n",
        "    1. First, read the implementation of the `train()` method:\n",
        "        - Training loop: iterate few times (epochs) over the training data.\n",
        "          Number of epochs is provided in the `n_epoch` parameter,\n",
        "          and `self.learning_rate` is predefined step size of gradient descent.\n",
        "        - In each iteration, a batch (central_word and context_words) is generated.\n",
        "        - Too frequent words are discarded (subsampling).\n",
        "        - The gradients are computed and gradient step is performed.\n",
        "    2. Then look at the method `generate_batches()`.\n",
        "       It creates pairs (central word, [list of context words])\n",
        "       by moving sliding window of predefined size `self.window_size`.\n",
        "    3. Then check the `generate_negative_samples()` method.\n",
        "       Its implementation is short, but there are two important details:\n",
        "       - Sampling is performed with replacement. It mimics i.i.d. assumption:\n",
        "         negative samples must be independent.\n",
        "       - The central word and the context word are discarded from the set \n",
        "         of negative samples.\n",
        "    4. The most important part is how gradients are computed: the method `compute_gradients()`.\n",
        "       The gradients are derived in this lecture; this method just implements them in Python code.\n",
        "    5. Then take a look at `build_vocabulary()`: it is mostly technical.\n",
        "    6. `get_vector()` method is just a one-liner, but pay attention to the fact\n",
        "       that we use only one of two matrices (the matrix of central vectors).\n",
        "    7. `get_similar_words()` method implements inefficient (O(|V|)) search of\n",
        "       words whose vectors are closest to the vector of the given word.\n",
        "    8. `__init__()` method just stores all hyperparameters and initializes necessary data structures.\n",
        "    \"\"\"\n",
        "    def __init__(\n",
        "        self,\n",
        "        window_size=2,\n",
        "        vector_size=10,\n",
        "        n_negative_samples=20,\n",
        "        learning_rate=1e-5,\n",
        "        seed=0\n",
        "    ):\n",
        "        self.window_size = window_size\n",
        "        self.learning_rate = learning_rate\n",
        "\n",
        "        self.vocab = Counter()\n",
        "\n",
        "        # how many dimensions each vector has\n",
        "        self.vector_size = vector_size\n",
        "        # vectors are initialized in .build_vocabulary() after the vocabulary is known\n",
        "        self.central_vectors = dict()  \n",
        "        self.context_vectors = dict()\n",
        "\n",
        "        # number of negative samples for each context word\n",
        "        self.n_negative_samples = n_negative_samples\n",
        "\n",
        "        # prepare vocabulary for negative sampling and subsampling\n",
        "        self.words_array = []\n",
        "        self.negative_sampling_probabilities = []\n",
        "        self.subsampling_probabilities = dict()\n",
        "\n",
        "        np.random.seed(seed)\n",
        "\n",
        "    def build_vocabulary(self, sequences):\n",
        "        # count all the words\n",
        "        for sequence in sequences:\n",
        "            for word in sequence:\n",
        "                self.vocab[word] += 1\n",
        "\n",
        "        sum_counts_negative_sampling = sum(v**0.75 for v in self.vocab.values())\n",
        "        sum_counts_subsampling = sum(self.vocab.values())\n",
        "        for word, count in self.vocab.items():\n",
        "            self.words_array.append(word)\n",
        "            self.negative_sampling_probabilities.append(count**0.75 / sum_counts_negative_sampling)\n",
        "            word_frequency = count / sum_counts_subsampling\n",
        "            self.subsampling_probabilities[word] = (1 + np.sqrt(word_frequency / 0.001)) * 0.001 / word_frequency\n",
        "\n",
        "        # initialize vectors with small values around 0\n",
        "        for word in self.vocab:\n",
        "            self.central_vectors[word] = np.random.randn(self.vector_size) * 0.1\n",
        "            self.context_vectors[word] = np.random.randn(self.vector_size) * 0.1\n",
        "\n",
        "    def generate_batches(self, sequence):\n",
        "        # move sliding window over the sequence \n",
        "        # for each position of the window generate list of context words\n",
        "        # return list of lists pairs (central word, [context words])\n",
        "        batches = []\n",
        "        for i_central, central_word in enumerate(sequence):\n",
        "            # ignore the words outside of vocabulary (we don't have vectors for them)\n",
        "            if central_word not in self.vocab:\n",
        "                continue\n",
        "            context_words = []\n",
        "            # iterate from i_central - window_size, i_central + window_size\n",
        "            for i_context in range(i_central - self.window_size, i_central + self.window_size + 1):\n",
        "                # handle boundary cases\n",
        "                if i_context < 0 or i_context >= len(sequence):\n",
        "                    continue\n",
        "                # exclude the central word itself\n",
        "                if i_context == i_central:\n",
        "                    continue\n",
        "                context_word = sequence[i_context]\n",
        "                # ignore the words outside of vocabulary\n",
        "                if context_word not in self.vocab:\n",
        "                    continue\n",
        "                # update the batch that corresponds to the current central word\n",
        "                context_words.append(context_word)\n",
        "            # update batches with the collected batch\n",
        "            batches.append((central_word, context_words))\n",
        "        return batches\n",
        "\n",
        "    def generate_negative_samples(self, central_word, context_word):\n",
        "        negative_samples = np.random.choice(\n",
        "            self.words_array,\n",
        "            size=self.n_negative_samples,\n",
        "            replace=True,  # sampling with replacement: mimics i.i.d assumption\n",
        "            p=self.negative_sampling_probabilities\n",
        "        )\n",
        "        return [n for n in negative_samples if n != central_word and n != context_word]\n",
        "\n",
        "    def compute_gradients(self, central_word, context_word, negative_samples):\n",
        "        central_vector = self.central_vectors[central_word]\n",
        "\n",
        "        # accumulate gradient of the central word\n",
        "        central_word_gradient = np.zeros(self.vector_size)\n",
        "\n",
        "        context_word_vector = self.context_vectors[context_word]\n",
        "        context_words_gradient = -central_vector * (1 - sigmoid(np.dot(context_word_vector, central_vector)))\n",
        "\n",
        "        central_word_gradient += -context_word_vector * (1 - sigmoid(np.dot(context_word_vector, central_vector)))\n",
        "\n",
        "        # a word in negative sample can be sampled many times, so we accumulate gradients\n",
        "        negative_samples_gradients = {n: np.zeros(self.vector_size) for n in negative_samples}\n",
        "        for negative_sample in negative_samples:\n",
        "            negative_sample_vector = self.context_vectors[negative_sample]\n",
        "            negative_samples_gradients[negative_sample] += central_vector * (1 - sigmoid(-np.dot(negative_sample_vector, central_vector)))\n",
        "            central_word_gradient += negative_sample_vector * (1 - sigmoid(-np.dot(negative_sample_vector, central_vector)))\n",
        "\n",
        "        return central_word_gradient, context_words_gradient, negative_samples_gradients\n",
        "\n",
        "    def train(self, sequences, n_epoch=5):\n",
        "        T = 0\n",
        "        for epoch in range(n_epoch):\n",
        "            for sequence in sequences:\n",
        "                # learning rate decays proportional to the number of iterations\n",
        "                # similar to the original word2vec code\n",
        "                alpha = self.learning_rate * max(0.0001, (1 - T / (n_epoch * len(sequences))))\n",
        "                T += 1\n",
        "                for batch in self.generate_batches(sequence):\n",
        "                    central_word, context_words = batch\n",
        "\n",
        "                    # subsample: randomly discard too frequent words\n",
        "                    if np.random.random() > self.subsampling_probabilities[central_word]:\n",
        "                        continue\n",
        "\n",
        "                    for context_word in context_words:\n",
        "                        # generate negative samples\n",
        "                        # negative samples do not include the central word and the context word\n",
        "                        negative_samples = self.generate_negative_samples(central_word, context_word)\n",
        "\n",
        "                        # compute gradients\n",
        "                        central_word_gradient, context_word_gradient, negative_samples_gradients = self.compute_gradients(\n",
        "                            central_word, context_word, negative_samples\n",
        "                        )\n",
        "                        # perform one step of gradient descent: update all the parameters in direction opposite to gradient\n",
        "                        self.central_vectors[central_word] -= alpha * central_word_gradient\n",
        "                        self.context_vectors[context_word] -= alpha * context_word_gradient\n",
        "                        for negative_sample in negative_samples:\n",
        "                            self.context_vectors[negative_sample] -= alpha * negative_samples_gradients[negative_sample]\n",
        "\n",
        "    def get_vector(self, word):\n",
        "        return self.central_vectors[word]\n",
        "\n",
        "    def get_similar_words(self, word, k=10):\n",
        "        word_vector = self.get_vector(word)\n",
        "        cosine_similarities = [1 - 0.5 * cosine_distance(word_vector, self.get_vector(w)) for w in self.words_array]\n",
        "        return list(\n",
        "            reversed([\n",
        "                (self.words_array[i], cosine_similarities[i])\n",
        "                for i in np.argsort(cosine_similarities)[-k-1:-1]  # exclude the word itself\n",
        "            ])\n",
        "        )\n"
      ],
      "execution_count": 62,
      "outputs": []
    },
    {
      "cell_type": "code",
      "metadata": {
        "id": "iFkOzUEArFcU",
        "outputId": "9c0e44ed-b06e-41b5-d136-cbfc4af4c0b5",
        "colab": {
          "base_uri": "https://localhost:8080/"
        }
      },
      "source": [
        "# toy example: \"A\" and \"B\" always occur near X\n",
        "# all the other words (actually, characters) from the left and from the right are random\n",
        "from string import ascii_lowercase\n",
        "import random\n",
        "from pprint import pprint\n",
        "\n",
        "random.seed(0)\n",
        "n_examples = 1000\n",
        "# generate random left and right halves\n",
        "left_contexts = [random.choices(ascii_lowercase, k=5) for _ in range(n_examples)]\n",
        "right_contexts = [random.choices(ascii_lowercase, k=5) for _ in range(n_examples)]\n",
        "\n",
        "# insert \"XA\" and \"XB\" to the middle\n",
        "toy_dataset = [\n",
        "    l + list(\"XA\") + r for l, r in zip(left_contexts, right_contexts)\n",
        "] + [\n",
        "    l + list(\"XB\") + r for l, r in zip(left_contexts, right_contexts)\n",
        "]\n",
        "random.shuffle(toy_dataset)\n",
        "\n",
        "print(\"A few lines of the toy dataset:\")\n",
        "print(\"\\n\".join([\"\".join(t) for t in toy_dataset[:3]]))\n",
        "window_size = 1\n",
        "vector_size = 2\n",
        "learning_rate = 0.1\n",
        "n_epoch = 5\n",
        "n_negative_samples = 5\n",
        "word2vec = Word2Vec(\n",
        "    seed=1,\n",
        "    window_size=window_size,\n",
        "    vector_size=vector_size,\n",
        "    learning_rate=learning_rate,\n",
        "    n_negative_samples=n_negative_samples\n",
        ")\n",
        "word2vec.build_vocabulary(toy_dataset)\n",
        "word2vec.train(toy_dataset, n_epoch=n_epoch)\n",
        "print(\"Words most similar to 'A'\")\n",
        "pprint(word2vec.get_similar_words(\"A\"))"
      ],
      "execution_count": 63,
      "outputs": [
        {
          "output_type": "stream",
          "name": "stdout",
          "text": [
            "A few lines of the toy dataset:\n",
            "vohgkXAyfvap\n",
            "lgenmXAfojrf\n",
            "lpkohXBwinqm\n",
            "Words most similar to 'A'\n",
            "[('B', 0.9999876210481137),\n",
            " ('z', 0.957950766495169),\n",
            " ('a', 0.9129377419737474),\n",
            " ('k', 0.9053724127989855),\n",
            " ('i', 0.903494187003081),\n",
            " ('b', 0.8990275152337034),\n",
            " ('n', 0.8655117493755607),\n",
            " ('g', 0.8500906263010772),\n",
            " ('t', 0.8474761246122444),\n",
            " ('m', 0.8428073281604462)]\n"
          ]
        }
      ]
    },
    {
      "cell_type": "markdown",
      "metadata": {
        "id": "fM-u4-mWWdk1"
      },
      "source": [
        "<!--@slideshow slide-->\n",
        "## Colab quiz 3\n",
        "\n",
        "How are word vectors computed?"
      ]
    },
    {
      "cell_type": "code",
      "metadata": {
        "id": "VJlKXB_-WfA3",
        "outputId": "5c86eb7f-da14-4f39-d781-c5ed8e6c5b78",
        "colab": {
          "base_uri": "https://localhost:8080/",
          "height": 225,
          "referenced_widgets": [
            "6bf20395c4224570bab0ae4ff25eec87",
            "da947a734f1c4fae997b9db6a8f8193b",
            "3855a5c1a6c34c4fbd39cf2dac1c549d",
            "656455b0405a43a892d52730970ae4e7",
            "a426aee27c6441ea80248492d6cf73d6",
            "e225cd056e2b4a7086c23abd0bae30f7",
            "99472d29d10a4904adf742d87409ee55",
            "2a3a697bf7954525a5dfc525008a1a5a",
            "603c5faff9bc42f5b802fb18533bd46d",
            "0794a92819014096b73ea2cb972986d1",
            "24a6dd9c56de465ab95125681b3952de",
            "5eb4a1abe79b4b069b8e6dbac2826aba",
            "2a419bad422844e1ba7c540068e3a143",
            "ec67222f53b947478f461362cbd6fd70",
            "ae61ab2392e54037893832c3bcae07fb",
            "393b614bad244d3989a9162455aba662"
          ]
        }
      },
      "source": [
        "quiz_word2vec_word_vector()()"
      ],
      "execution_count": 64,
      "outputs": [
        {
          "output_type": "display_data",
          "data": {
            "text/plain": [
              "VBox(children=(Output(), RadioButtons(options=('Taken from the matrix of context vectors', 'Taken from the mat…"
            ],
            "application/vnd.jupyter.widget-view+json": {
              "version_major": 2,
              "version_minor": 0,
              "model_id": "6bf20395c4224570bab0ae4ff25eec87"
            }
          },
          "metadata": {}
        }
      ]
    },
    {
      "cell_type": "markdown",
      "metadata": {
        "id": "0g2DUJydV21w"
      },
      "source": [
        "<!--@slideshow slide-->\n",
        "## Colab quiz 4\n",
        "\n",
        "Which words are subsampled?"
      ]
    },
    {
      "cell_type": "code",
      "metadata": {
        "id": "yimy-T6YV4UF",
        "outputId": "f0e308a5-e514-4356-d432-b842934e3b64",
        "colab": {
          "base_uri": "https://localhost:8080/",
          "height": 197,
          "referenced_widgets": [
            "cc7bb88e1f434e848ef04dfbcb9bead6",
            "75eed0d4aaf54d429631066c4c005d2c",
            "368e1140bb324478954f42121dd4ef93",
            "33592f31e8f3401cb48c893ba42f121f",
            "a2c05b4adad5432d847640e39450350d",
            "00355bae73b64d6d9b3390c547760db3",
            "6c18710343f24e8f85591da1cd9b7858",
            "cc69c0654f5f41ca91f75470bfa2295d",
            "8c3630b43ca049d2aed6dc4d9d960a19",
            "2f7d8f95c29243e1a51b1afe5cfbad43",
            "87a5b2d2a81b4dd7a1ec534681972135",
            "7fab49025f374a0f9a2d5d422b2337c7",
            "bd351f34f28c4f69aa37dadbf2bd3332",
            "5da7e92b2d764b82a675426f4f8ed2e9",
            "9a4e3c2ec4d7414aa7ddbd09cf052d49",
            "93974e9afaff4f68960d6757e65be94f"
          ]
        }
      },
      "source": [
        "quiz_word2vec_subsampling()()"
      ],
      "execution_count": 65,
      "outputs": [
        {
          "output_type": "display_data",
          "data": {
            "text/plain": [
              "VBox(children=(Output(), RadioButtons(options=('Central words', 'Context words', 'Negative samples', 'All of t…"
            ],
            "application/vnd.jupyter.widget-view+json": {
              "version_major": 2,
              "version_minor": 0,
              "model_id": "cc7bb88e1f434e848ef04dfbcb9bead6"
            }
          },
          "metadata": {}
        }
      ]
    },
    {
      "cell_type": "markdown",
      "metadata": {
        "id": "QdGKcJ-AV9xq"
      },
      "source": [
        "<!--@slideshow slide-->\n",
        "## Colab quiz 5\n",
        "\n",
        "Details of negative sampling."
      ]
    },
    {
      "cell_type": "code",
      "metadata": {
        "id": "oObLIsyZWNsB",
        "outputId": "7e187656-35f7-4084-9f09-7a358619ac14",
        "colab": {
          "base_uri": "https://localhost:8080/",
          "height": 197,
          "referenced_widgets": [
            "04a4bed8b6f14786914d4272269b51ed",
            "14a1008b670144299ddfd3ea4b5adf78",
            "29b402dc6ea84726be569ff255f591e9",
            "7e905d9514574ed68a4e98b17cbd572d",
            "e3acecd394e042209f811a0b5923c30d",
            "852f7d3af6f3419f8f20b26e69e769c2",
            "88fcd238c80248caa17e6536c6fd1ed8",
            "8d80d96dd2c94110b1863a7969308f30",
            "3cb59d96779c4743965df3645e06a180",
            "af7b5f83db2549f88786e3b717ea3089",
            "92f355e4b77748139d4e597f880352e5",
            "8aa2786405174053aa48f31b9d797dc1",
            "a99b146f96124c09ac59a0284635439c",
            "a9672baca94b435dac93302157fa03f1",
            "500bf6c339154977b68308c46ceacf71",
            "44e5132914c246e1b4e25b21da4f114a"
          ]
        }
      },
      "source": [
        "quiz_word2vec_negative_sampling()()"
      ],
      "execution_count": 66,
      "outputs": [
        {
          "output_type": "display_data",
          "data": {
            "text/plain": [
              "VBox(children=(Output(), RadioButtons(options=('without replacement; negative samples are i.i.d.', 'with repla…"
            ],
            "application/vnd.jupyter.widget-view+json": {
              "version_major": 2,
              "version_minor": 0,
              "model_id": "04a4bed8b6f14786914d4272269b51ed"
            }
          },
          "metadata": {}
        }
      ]
    },
    {
      "cell_type": "markdown",
      "metadata": {
        "id": "ed79xvIsVmUU"
      },
      "source": [
        "<!--@slideshow slide-->\n",
        "## Derivation of gradients"
      ]
    },
    {
      "cell_type": "markdown",
      "metadata": {
        "id": "83RIkP3VlfcG"
      },
      "source": [
        "<!--@slideshow slide-->\n",
        "## Exercise 1\n",
        "Prove that $\\sigma(-\\mathbf{x}) = 1 - \\sigma(\\mathbf{x})$."
      ]
    },
    {
      "cell_type": "markdown",
      "metadata": {
        "id": "F352RwUBVo_X"
      },
      "source": [
        "<!--@slideshow slide-->\n",
        "## Exercise 2\n",
        "\n",
        "Prove that $\\dfrac{\\mathrm{d}\\sigma(\\mathbf{x})}{\\mathrm{d}\\mathbf{x}} = \\sigma(\\mathbf{x})(1-\\sigma(\\mathbf{x}))$."
      ]
    },
    {
      "cell_type": "markdown",
      "metadata": {
        "id": "TDXhIvRgkzc1"
      },
      "source": [
        "<!--@slideshow slide-->\n",
        "## Exercise 3\n",
        "\n",
        "Prove that for arbitrary vectors $\\mathbf{x}, \\mathbf{y}$\n",
        "- $\\dfrac{\\mathrm{d}(\\mathbf{x} \\cdot \\mathbf{y})}{\\mathrm{d}\\mathbf{x}} = \\mathbf{y}$\n",
        "- $\\dfrac{\\mathrm{d}(\\mathbf{x} \\cdot \\mathbf{y})}{\\mathrm{d}\\mathbf{y}} = \\mathbf{x}$"
      ]
    },
    {
      "cell_type": "markdown",
      "metadata": {
        "id": "uhS8aD2SlPvr"
      },
      "source": [
        "<!--@slideshow slide-->\n",
        "### Derivation of gradient w.r.t. central word\n",
        "\n",
        "Consider one term in the objective function:\n",
        "$$\n",
        "\\ell(c, o, N) = -\\log\\Pr(o|c) - \\sum_{n \\in N}\\log(1 - \\Pr(n|c))\n",
        "$$\n",
        "where $c$ is the central word, $o$ is the context (\"outside\") word, $n \\in N$ is a negative sample."
      ]
    },
    {
      "cell_type": "markdown",
      "metadata": {
        "id": "c3AfJugEnHfy"
      },
      "source": [
        "<!--@slideshow fragment-->\n",
        "Since $\\Pr(o|c) = \\sigma(\\mathbf{u}_o \\cdot \\mathbf{v}_c)$ and $1 - \\Pr(n|c) = \\sigma(-\\mathbf{u}_n \\cdot \\mathbf{v}_c)$, we have\n",
        "$$\n",
        "\\ell(c, o, N) = -\\log\\sigma(\\mathbf{u}_o \\cdot \\mathbf{v}_c) - \\sum_{n \\in N}\\log\\sigma(-\\mathbf{u}_n \\cdot \\mathbf{v}_c)\n",
        "$$"
      ]
    },
    {
      "cell_type": "markdown",
      "metadata": {
        "id": "RXZW7ZPNqkIJ"
      },
      "source": [
        "<!--@slideshow slide-->\n",
        "$$\n",
        "-\\dfrac{\\mathrm{d}\\log\\sigma(\\mathbf{u}_o \\cdot \\mathbf{v}_c)}{\\mathrm{d}\\mathbf{v}_c} \n",
        "$$\n"
      ]
    },
    {
      "cell_type": "markdown",
      "metadata": {
        "id": "fhLJMNx5qlVV"
      },
      "source": [
        "<!--@slideshow fragment-->\n",
        "$$\n",
        "= - \\dfrac{1}{\\sigma(\\mathbf{u}_o \\cdot \\mathbf{v}_c)} \\dfrac{\\mathrm{d}\\sigma(\\mathbf{u}_o \\cdot \\mathbf{v}_c)}{\\mathrm{d}\\mathbf{v}_c}\n",
        "$$\n"
      ]
    },
    {
      "cell_type": "markdown",
      "metadata": {
        "id": "U8y65R9vqmr1"
      },
      "source": [
        "<!--@slideshow fragment-->\n",
        "$$\n",
        "= - \\dfrac{1}{\\sigma(\\mathbf{u}_o \\cdot \\mathbf{v}_c)} \\sigma(\\mathbf{u}_o \\cdot \\mathbf{v}_c) (1 - \\sigma(\\mathbf{u}_o \\cdot \\mathbf{v}_c)) \\dfrac{\\mathrm{d} \\mathbf{u}_o \\cdot \\mathbf{v}_c}{\\mathrm{d}\\mathbf{v}_c}\n",
        "$$\n"
      ]
    },
    {
      "cell_type": "markdown",
      "metadata": {
        "id": "ZNHcGVYfqn0z"
      },
      "source": [
        "<!--@slideshow fragment-->\n",
        "$$\n",
        "= - (1 - \\sigma(\\mathbf{u}_o \\cdot \\mathbf{v}_c)) \\mathbf{u}_o\n",
        "$$"
      ]
    },
    {
      "cell_type": "markdown",
      "metadata": {
        "id": "h-eqmh8aqxa3"
      },
      "source": [
        "<!--@slideshow slide-->\n",
        "Similarly,\n",
        "\n",
        "$$\n",
        "\\dfrac{\\mathrm{d}}{\\mathrm{d}\\mathbf{v}_c}\\left(-\\sum_{n \\in N}\\log\\sigma(-\\mathbf{u}_n \\cdot \\mathbf{v}_c)\\right)\n",
        "=\n",
        "\\sum_{n \\in N} \\mathbf{u}_n(1 - \\sigma(-\\mathbf{u}_n\\cdot \\mathbf{v}_c))\n",
        "$$ "
      ]
    },
    {
      "cell_type": "markdown",
      "metadata": {
        "id": "zyvcncqkwBxr"
      },
      "source": [
        "<!--@slideshow slide-->\n",
        "## Exercise 4\n",
        "Find derivatives $\\dfrac{\\mathrm{d}\\ell(c, o, N)}{\\mathrm{d}\\mathbf{u}_o}$ and $\\dfrac{\\mathrm{d}\\ell(c, o, N)}{\\mathrm{d}\\mathbf{u}_n}$."
      ]
    },
    {
      "cell_type": "markdown",
      "metadata": {
        "id": "qZAMIjFAJyhz"
      },
      "source": [
        "<!--@slideshow slide-->\n",
        "# Colab demo: word2vec in gensim"
      ]
    },
    {
      "cell_type": "markdown",
      "metadata": {
        "id": "Qu5mpaClbTYH"
      },
      "source": [
        "## How to train"
      ]
    },
    {
      "cell_type": "code",
      "metadata": {
        "id": "15DlND7gVet4",
        "outputId": "73aa1765-2033-4826-8556-9201394f5014",
        "colab": {
          "base_uri": "https://localhost:8080/"
        }
      },
      "source": [
        "print(\"Words most similar to 'A' (gensim implementation)\")\n",
        "from gensim.models import Word2Vec\n",
        "\n",
        "gensim_word2vec = Word2Vec(\n",
        "    sg=1,  # skip-gram\n",
        "    hs=0,  # negative sampling\n",
        "    size=vector_size,\n",
        "    window=window_size,\n",
        "    alpha=learning_rate,\n",
        "    negative=n_negative_samples\n",
        ")\n",
        "gensim_word2vec.build_vocab(toy_dataset)\n",
        "gensim_word2vec.train(toy_dataset, total_examples=len(toy_dataset), epochs=n_epoch)\n",
        "pprint(gensim_word2vec.wv.most_similar(\"A\"))"
      ],
      "execution_count": 67,
      "outputs": [
        {
          "output_type": "stream",
          "name": "stderr",
          "text": [
            "WARNING:gensim.models.base_any2vec:consider setting layer size to a multiple of 4 for greater performance\n",
            "WARNING:gensim.models.base_any2vec:under 10 jobs per worker: consider setting a smaller `batch_words' for smoother alpha decay\n"
          ]
        },
        {
          "output_type": "stream",
          "name": "stdout",
          "text": [
            "Words most similar to 'A' (gensim implementation)\n",
            "[('B', 0.9979004859924316),\n",
            " ('r', 0.7980645298957825),\n",
            " ('d', 0.7550197243690491),\n",
            " ('e', 0.7487218379974365),\n",
            " ('v', 0.7393407225608826),\n",
            " ('f', 0.6941909790039062),\n",
            " ('z', 0.6901156902313232),\n",
            " ('p', 0.6767732501029968),\n",
            " ('q', 0.6506662368774414),\n",
            " ('j', 0.6409609913825989)]\n"
          ]
        }
      ]
    },
    {
      "cell_type": "code",
      "metadata": {
        "id": "XLRju_9VfmgA",
        "outputId": "76238479-feb2-4e64-d16a-3ddbf908ebde",
        "colab": {
          "base_uri": "https://localhost:8080/",
          "height": 49,
          "referenced_widgets": [
            "8824370e52e14c44bf2223bbe2efd10e",
            "cb75bf2e506d457ebf7ac7868534dab8",
            "1333c5a5f0794dacb4310f274ce16323",
            "4a0918bc59be4565a4cdfb8a91f8b841",
            "ec810567372d47ac805655333ba98c54",
            "41803633000b41d38c19eb6aeb123ac9",
            "38e54ce265114402b179fc1b1c11e5d7",
            "f4b0b3ff84f94f33bb4f78cca7e328fb",
            "bc62ce1de5c449ca8eac1589728f984e",
            "59fdfeab5f354bf4b8ecb9ec55279592",
            "937548f45a104956b768e12c51481f57"
          ]
        }
      },
      "source": [
        "# try the real dataset\n",
        "from sklearn.datasets import fetch_20newsgroups\n",
        "dataset = fetch_20newsgroups(\n",
        "    subset=\"all\",\n",
        "    shuffle=True,\n",
        "    random_state=1,\n",
        "    remove=('headers', 'footers', 'quotes')\n",
        ")\n",
        "\n",
        "from tqdm.notebook import tqdm\n",
        "import spacy\n",
        "\n",
        "# extract tokens (lemmas) with spaCy\n",
        "nlp = spacy.load(\"en_core_web_sm\", disable=['parser', 'ner', 'tagger', 'tok2vec'])\n",
        "def tokens(s):\n",
        "    return [t.lemma_ for t in nlp(s)]\n",
        "\n",
        "texts = [tokens(text) for text in tqdm(dataset.data, desc=\"tokenize\")]"
      ],
      "execution_count": 68,
      "outputs": [
        {
          "output_type": "display_data",
          "data": {
            "text/plain": [
              "tokenize:   0%|          | 0/18846 [00:00<?, ?it/s]"
            ],
            "application/vnd.jupyter.widget-view+json": {
              "version_major": 2,
              "version_minor": 0,
              "model_id": "8824370e52e14c44bf2223bbe2efd10e"
            }
          },
          "metadata": {}
        }
      ]
    },
    {
      "cell_type": "code",
      "metadata": {
        "id": "EIsfauQZgDUb"
      },
      "source": [
        "# initialize, build vocabulary and train at once\n",
        "gensim_word2vec = Word2Vec(\n",
        "    texts,\n",
        "    sg=1,  # skip-gram\n",
        "    hs=0,  # negative sampling\n",
        "    size=32,\n",
        "    window=5,  # context is a 5-word window around the target word\n",
        "    min_count=5  # ignore words that occur less than 5 times\n",
        ").wv  # \"wv\" stands for \"word vectors\""
      ],
      "execution_count": 69,
      "outputs": []
    },
    {
      "cell_type": "code",
      "metadata": {
        "id": "QEGwLcxkit-N",
        "outputId": "f33e6095-939c-448f-df5c-13874922d901",
        "colab": {
          "base_uri": "https://localhost:8080/"
        }
      },
      "source": [
        "gensim_word2vec.most_similar(\"space\")"
      ],
      "execution_count": 70,
      "outputs": [
        {
          "output_type": "execute_result",
          "data": {
            "text/plain": [
              "[('planetary', 0.8659758567810059),\n",
              " ('exploration', 0.8650424480438232),\n",
              " ('hubble', 0.8597362041473389),\n",
              " ('shuttle', 0.8581129312515259),\n",
              " ('schedules', 0.8565541505813599),\n",
              " ('manned', 0.8454277515411377),\n",
              " ('nasa', 0.8419719934463501),\n",
              " ('missions', 0.8294183015823364),\n",
              " ('investor', 0.8272771835327148),\n",
              " ('ssf', 0.8271588683128357)]"
            ]
          },
          "metadata": {},
          "execution_count": 70
        }
      ]
    },
    {
      "cell_type": "code",
      "metadata": {
        "id": "J1YWPktljLrG",
        "outputId": "31a703c4-9529-4a83-8133-85a836e0b1c3",
        "colab": {
          "base_uri": "https://localhost:8080/"
        }
      },
      "source": [
        "gensim_word2vec.most_similar(\"gif\")"
      ],
      "execution_count": 71,
      "outputs": [
        {
          "output_type": "execute_result",
          "data": {
            "text/plain": [
              "[('images', 0.9353200197219849),\n",
              " ('jpeg', 0.9249697327613831),\n",
              " ('tiff', 0.9147523045539856),\n",
              " ('gifs', 0.8970943093299866),\n",
              " ('viewer', 0.8958752751350403),\n",
              " ('viewing', 0.8911834359169006),\n",
              " ('targa', 0.8879003524780273),\n",
              " ('bmp', 0.8820237517356873),\n",
              " ('pcx', 0.868255615234375),\n",
              " ('ppm', 0.8660796284675598)]"
            ]
          },
          "metadata": {},
          "execution_count": 71
        }
      ]
    },
    {
      "cell_type": "code",
      "metadata": {
        "id": "7-vdgFv1jTs4",
        "outputId": "7cc409e1-be65-41ac-cb2c-6a4816589a58",
        "colab": {
          "base_uri": "https://localhost:8080/"
        }
      },
      "source": [
        "gensim_word2vec.most_similar(\"hockey\")"
      ],
      "execution_count": 72,
      "outputs": [
        {
          "output_type": "execute_result",
          "data": {
            "text/plain": [
              "[('nhl', 0.9141407012939453),\n",
              " ('regulars', 0.9000725746154785),\n",
              " ('baseball', 0.8906190395355225),\n",
              " ('basketball', 0.8836904764175415),\n",
              " ('league', 0.8729032278060913),\n",
              " ('champions', 0.8671470284461975),\n",
              " ('tournament', 0.860136091709137),\n",
              " ('espn', 0.8469244241714478),\n",
              " ('mlb', 0.8414235711097717),\n",
              " ('finals', 0.8407819867134094)]"
            ]
          },
          "metadata": {},
          "execution_count": 72
        }
      ]
    },
    {
      "cell_type": "markdown",
      "metadata": {
        "id": "A48Ke60ubVdb"
      },
      "source": [
        "## Pre-trained vectors"
      ]
    },
    {
      "cell_type": "code",
      "metadata": {
        "id": "PKx66YxwbXDY",
        "outputId": "039c5104-a02f-4d5b-e004-a06a8f832548",
        "colab": {
          "base_uri": "https://localhost:8080/",
          "height": 526
        }
      },
      "source": [
        "import gensim.downloader as api\n",
        "\n",
        "# list all available models\n",
        "from tabulate import tabulate\n",
        "from IPython.display import display, HTML\n",
        "all_gensim_models = api.info()[\"models\"]\n",
        "gensim_model_description = [(m, all_gensim_models[m][\"description\"]) for m in all_gensim_models]\n",
        "display(HTML(tabulate(gensim_model_description, headers=(\"model name\", \"description\"), tablefmt=\"html\")))"
      ],
      "execution_count": 73,
      "outputs": [
        {
          "output_type": "display_data",
          "data": {
            "text/plain": [
              "<IPython.core.display.HTML object>"
            ],
            "text/html": [
              "<table>\n",
              "<thead>\n",
              "<tr><th>model name                        </th><th>description                                                                                                                                                                                                                                                                                                                                                                                                                                                                                                                                                                                                  </th></tr>\n",
              "</thead>\n",
              "<tbody>\n",
              "<tr><td>fasttext-wiki-news-subwords-300   </td><td>1 million word vectors trained on Wikipedia 2017, UMBC webbase corpus and statmt.org news dataset (16B tokens).                                                                                                                                                                                                                                                                                                                                                                                                                                                                                              </td></tr>\n",
              "<tr><td>conceptnet-numberbatch-17-06-300  </td><td>ConceptNet Numberbatch consists of state-of-the-art semantic vectors (also known as word embeddings) that can be used directly as a representation of word meanings or as a starting point for further machine learning. ConceptNet Numberbatch is part of the ConceptNet open data project. ConceptNet provides lots of ways to compute with word meanings, one of which is word embeddings. ConceptNet Numberbatch is a snapshot of just the word embeddings. It is built using an ensemble that combines data from ConceptNet, word2vec, GloVe, and OpenSubtitles 2016, using a variation on retrofitting.</td></tr>\n",
              "<tr><td>word2vec-ruscorpora-300           </td><td>Word2vec Continuous Skipgram vectors trained on full Russian National Corpus (about 250M words). The model contains 185K words.                                                                                                                                                                                                                                                                                                                                                                                                                                                                              </td></tr>\n",
              "<tr><td>word2vec-google-news-300          </td><td>Pre-trained vectors trained on a part of the Google News dataset (about 100 billion words). The model contains 300-dimensional vectors for 3 million words and phrases. The phrases were obtained using a simple data-driven approach described in &#x27;Distributed Representations of Words and Phrases and their Compositionality&#x27; (https://code.google.com/archive/p/word2vec/).                                                                                                                                                                                                                              </td></tr>\n",
              "<tr><td>glove-wiki-gigaword-50            </td><td>Pre-trained vectors based on Wikipedia 2014 + Gigaword, 5.6B tokens, 400K vocab, uncased (https://nlp.stanford.edu/projects/glove/).                                                                                                                                                                                                                                                                                                                                                                                                                                                                         </td></tr>\n",
              "<tr><td>glove-wiki-gigaword-100           </td><td>Pre-trained vectors based on Wikipedia 2014 + Gigaword 5.6B tokens, 400K vocab, uncased (https://nlp.stanford.edu/projects/glove/).                                                                                                                                                                                                                                                                                                                                                                                                                                                                          </td></tr>\n",
              "<tr><td>glove-wiki-gigaword-200           </td><td>Pre-trained vectors based on Wikipedia 2014 + Gigaword, 5.6B tokens, 400K vocab, uncased (https://nlp.stanford.edu/projects/glove/).                                                                                                                                                                                                                                                                                                                                                                                                                                                                         </td></tr>\n",
              "<tr><td>glove-wiki-gigaword-300           </td><td>Pre-trained vectors based on Wikipedia 2014 + Gigaword, 5.6B tokens, 400K vocab, uncased (https://nlp.stanford.edu/projects/glove/).                                                                                                                                                                                                                                                                                                                                                                                                                                                                         </td></tr>\n",
              "<tr><td>glove-twitter-25                  </td><td>Pre-trained vectors based on 2B tweets, 27B tokens, 1.2M vocab, uncased (https://nlp.stanford.edu/projects/glove/).                                                                                                                                                                                                                                                                                                                                                                                                                                                                                          </td></tr>\n",
              "<tr><td>glove-twitter-50                  </td><td>Pre-trained vectors based on 2B tweets, 27B tokens, 1.2M vocab, uncased (https://nlp.stanford.edu/projects/glove/)                                                                                                                                                                                                                                                                                                                                                                                                                                                                                           </td></tr>\n",
              "<tr><td>glove-twitter-100                 </td><td>Pre-trained vectors based on  2B tweets, 27B tokens, 1.2M vocab, uncased (https://nlp.stanford.edu/projects/glove/)                                                                                                                                                                                                                                                                                                                                                                                                                                                                                          </td></tr>\n",
              "<tr><td>glove-twitter-200                 </td><td>Pre-trained vectors based on 2B tweets, 27B tokens, 1.2M vocab, uncased (https://nlp.stanford.edu/projects/glove/).                                                                                                                                                                                                                                                                                                                                                                                                                                                                                          </td></tr>\n",
              "<tr><td>__testing_word2vec-matrix-synopsis</td><td>[THIS IS ONLY FOR TESTING] Word vecrors of the movie matrix.                                                                                                                                                                                                                                                                                                                                                                                                                                                                                                                                                 </td></tr>\n",
              "</tbody>\n",
              "</table>"
            ]
          },
          "metadata": {}
        }
      ]
    },
    {
      "cell_type": "code",
      "metadata": {
        "id": "8yCHnqd3lOQd"
      },
      "source": [
        "# load a relatively small (128MB) model\n",
        "model = api.load(\"glove-wiki-gigaword-100\")"
      ],
      "execution_count": 74,
      "outputs": []
    },
    {
      "cell_type": "code",
      "metadata": {
        "id": "FWx4ur_tmvhk",
        "colab": {
          "base_uri": "https://localhost:8080/"
        },
        "outputId": "0a8fbda9-a60d-419b-8495-87204eba6fcb"
      },
      "source": [
        "model.most_similar(\"twitter\")"
      ],
      "execution_count": 75,
      "outputs": [
        {
          "output_type": "execute_result",
          "data": {
            "text/plain": [
              "[('facebook', 0.9159134030342102),\n",
              " ('myspace', 0.838465690612793),\n",
              " ('youtube', 0.7946596741676331),\n",
              " ('blog', 0.7410155534744263),\n",
              " ('tweets', 0.726836085319519),\n",
              " ('tumblr', 0.7218027114868164),\n",
              " ('blogging', 0.7101112604141235),\n",
              " ('blogs', 0.6958351731300354),\n",
              " ('instagram', 0.6919254064559937),\n",
              " ('email', 0.6856087446212769)]"
            ]
          },
          "metadata": {},
          "execution_count": 75
        }
      ]
    },
    {
      "cell_type": "markdown",
      "metadata": {
        "id": "Kuj7YzeeoIUf"
      },
      "source": [
        "<!--@slideshow slide-->\n",
        "## Colab quiz 6\n",
        "\n",
        "What is the most similar to \"twitter\"?"
      ]
    },
    {
      "cell_type": "code",
      "metadata": {
        "id": "aA0qJsVinmLO",
        "colab": {
          "base_uri": "https://localhost:8080/",
          "height": 197,
          "referenced_widgets": [
            "9fe2582b00c24804a3a40748d22b7f07",
            "65a8dd4a0030468ab8cf1eea8c87b422",
            "d372a7e3c18947ce8389bac567d45515",
            "4dfd612ebb184a67b8062ef4d13a7091",
            "cf723c28d9e2498a95d529bd9d8f7582",
            "dcf051cea10f4c23a65a5d1ad8c1ff7b",
            "ede6d32ec0274572bd5a488f9ae1922d",
            "28f5783e278c4b27bd14b5e963f96c49",
            "ee0a0f83e8914533a5689a9a415aa387",
            "3a30339e4e444e24ab4d63ade3f08fdb",
            "5580034672b640989fde866aea86bc15",
            "e3294ba6d28f47c19259d1ab7b3956ed",
            "d19b0f10b165452b9ff710b06cf2fc35",
            "877e6c5c991d4b26b6888aca39512127",
            "b778f7ba09be4ddcbec73794fa4eeaf0",
            "f136e4f48d9b492dbc85267eff77b1c3"
          ]
        },
        "outputId": "133c30c8-714e-41ee-8428-63f11dac3713"
      },
      "source": [
        "quiz_most_similar()()"
      ],
      "execution_count": 76,
      "outputs": [
        {
          "output_type": "display_data",
          "data": {
            "text/plain": [
              "VBox(children=(Output(), RadioButtons(options=('instagram', 'facebook', 'youtube', 'internet'), value='instagr…"
            ],
            "application/vnd.jupyter.widget-view+json": {
              "version_major": 2,
              "version_minor": 0,
              "model_id": "9fe2582b00c24804a3a40748d22b7f07"
            }
          },
          "metadata": {}
        }
      ]
    },
    {
      "cell_type": "markdown",
      "metadata": {
        "id": "2ps1l2bbJ3sM"
      },
      "source": [
        "<!--@slideshow slide-->\n",
        "# Visualization of word vectors"
      ]
    },
    {
      "cell_type": "code",
      "metadata": {
        "id": "kbe00Hoxo9c6",
        "colab": {
          "base_uri": "https://localhost:8080/",
          "height": 374
        },
        "outputId": "a764191e-1e8a-4415-f319-c29c35cfe1f2"
      },
      "source": [
        "#@slideshow fragment tags=remove_input\n",
        "display_pca_scatterplot(\n",
        "    model,\n",
        "    ['coffee', 'tea', 'beer', 'wine', 'brandy', 'rum', 'champagne', 'water',\n",
        "    'spaghetti', 'borscht', 'hamburger', 'pizza', 'falafel', 'sushi', 'meatballs',\n",
        "    'dog', 'horse', 'cat', 'monkey', 'parrot', 'koala', 'lizard',\n",
        "    'frog', 'toad', 'monkey', 'ape', 'kangaroo', 'wombat', 'wolf',\n",
        "    'france', 'germany', 'hungary', 'luxembourg', 'australia', 'fiji', 'china',\n",
        "    'homework', 'assignment', 'problem', 'exam', 'test', 'class',\n",
        "    'school', 'college', 'university', 'institute',]\n",
        ")"
      ],
      "execution_count": 77,
      "outputs": [
        {
          "output_type": "display_data",
          "data": {
            "text/plain": [
              "<Figure size 432x432 with 1 Axes>"
            ],
            "image/png": "[encoded data removed]"
          },
          "metadata": {
            "needs_background": "light"
          }
        }
      ]
    },
    {
      "cell_type": "markdown",
      "metadata": {
        "id": "NceO4M0NJ1qq"
      },
      "source": [
        "<!--@slideshow slide-->\n",
        "# Properties of word vectors"
      ]
    },
    {
      "cell_type": "code",
      "metadata": {
        "id": "xaktqcwqycaf",
        "colab": {
          "base_uri": "https://localhost:8080/",
          "height": 374
        },
        "outputId": "e3f30774-2eb1-41d8-9c22-9968f705f761"
      },
      "source": [
        "#@slideshow slide tags=remove_input\n",
        "display_pca_scatterplot(\n",
        "    model,\n",
        "    [\n",
        "        \"china\", \"beijing\",\n",
        "        \"russia\", \"moscow\",\n",
        "        \"turkey\", \"ankara\",\n",
        "        \"poland\", \"warsaw\",\n",
        "        \"germany\", \"berlin\",\n",
        "    ]\n",
        ")"
      ],
      "execution_count": 78,
      "outputs": [
        {
          "output_type": "display_data",
          "data": {
            "text/plain": [
              "<Figure size 432x432 with 1 Axes>"
            ],
            "image/png": "[encoded data removed]"
          },
          "metadata": {
            "needs_background": "light"
          }
        }
      ]
    },
    {
      "cell_type": "markdown",
      "metadata": {
        "id": "s_3xDG6S7NC1"
      },
      "source": [
        "<!--@slideshow fragment-->\n",
        "For example, \n",
        "$$\n",
        "\\overrightarrow{\\mathrm{Warsaw}} - \\overrightarrow{\\mathrm{Poland}} \\approx  \\overrightarrow{\\mathrm{Moscow}} - \\overrightarrow{\\mathrm{Russia}}\n",
        "$$\n",
        "or, equivalently\n",
        "$$\n",
        "\\overrightarrow{\\mathrm{Warsaw}} - \\overrightarrow{\\mathrm{Poland}}  + \\overrightarrow{\\mathrm{Russia}} \\approx \\overrightarrow{\\mathrm{Moscow}}\n",
        "$$\n"
      ]
    },
    {
      "cell_type": "markdown",
      "metadata": {
        "id": "q3SSeMSh2oMD"
      },
      "source": [
        "Thus, word vectors represent some (but not all!) relations between words (\"Warsaw is related to Poland in the same way as Moscow is related to Russia\")."
      ]
    },
    {
      "cell_type": "code",
      "metadata": {
        "id": "cRnrlx0A5ibR",
        "colab": {
          "base_uri": "https://localhost:8080/"
        },
        "outputId": "f0978916-f8c4-45bb-a25e-9d5b2ea45d26"
      },
      "source": [
        "#@slideshow slide\n",
        "from scipy.spatial.distance import cosine\n",
        "print(\"Distance between <warsaw> and <moscow>:\", cosine(model[\"warsaw\"], model[\"moscow\"]))\n",
        "print(\"Distance between <poland> and <russia>:\", cosine(model[\"poland\"], model[\"russia\"]))\n",
        "print(\"Distance between <warsaw> - <poland> + <russia> and <moscow>:\", cosine(model[\"warsaw\"] - model[\"poland\"] + model[\"russia\"], model[\"moscow\"]))"
      ],
      "execution_count": 79,
      "outputs": [
        {
          "output_type": "stream",
          "name": "stdout",
          "text": [
            "Distance between <warsaw> and <moscow>: 0.3461671471595764\n",
            "Distance between <poland> and <russia>: 0.3346114158630371\n",
            "Distance between <warsaw> - <poland> + <russia> and <moscow>: 0.13101792335510254\n"
          ]
        }
      ]
    },
    {
      "cell_type": "code",
      "metadata": {
        "id": "AVe8qEwg86CU",
        "colab": {
          "base_uri": "https://localhost:8080/",
          "height": 35
        },
        "outputId": "c8955e62-90e0-47a1-bac5-bf9e64f339ed"
      },
      "source": [
        "#@slideshow slide\n",
        "def analogy(model, left_negative, left_positive, right_negative):\n",
        "    \"\"\"\n",
        "    Solve the equation:\n",
        "    left_positive - left_negative == X - right_negative\n",
        "    X answers the question '`left_negative` to `left_positive` is `right_negative` to what?'\n",
        "    \"\"\"\n",
        "    return model.most_similar(\n",
        "        positive=[left_positive, right_negative],\n",
        "        negative=[left_negative])[0][0]\n",
        "\n",
        "# 'poland' is to 'warsaw' as 'russia' is to what?\n",
        "analogy(model, \"poland\", \"warsaw\", \"russia\")"
      ],
      "execution_count": 80,
      "outputs": [
        {
          "output_type": "execute_result",
          "data": {
            "text/plain": [
              "'moscow'"
            ],
            "application/vnd.google.colaboratory.intrinsic+json": {
              "type": "string"
            }
          },
          "metadata": {},
          "execution_count": 80
        }
      ]
    },
    {
      "cell_type": "code",
      "source": [
        "#@slideshow fragment\n",
        "# expore other analogies\n",
        "analogy(model, \"germany\", \"beer\", \"france\")"
      ],
      "metadata": {
        "id": "qeqK-sKTXPkL",
        "colab": {
          "base_uri": "https://localhost:8080/",
          "height": 35
        },
        "outputId": "a820d578-1883-4cde-f6cb-00d4bab19cea"
      },
      "execution_count": 81,
      "outputs": [
        {
          "output_type": "execute_result",
          "data": {
            "text/plain": [
              "'wine'"
            ],
            "application/vnd.google.colaboratory.intrinsic+json": {
              "type": "string"
            }
          },
          "metadata": {},
          "execution_count": 81
        }
      ]
    },
    {
      "cell_type": "code",
      "source": [
        "#@slideshow fragment\n",
        "# word vectors capture certain linguistic properties\n",
        "analogy(model, \"tall\", \"tallest\", \"long\")"
      ],
      "metadata": {
        "id": "ETMNlkZzVCYk",
        "colab": {
          "base_uri": "https://localhost:8080/",
          "height": 35
        },
        "outputId": "29ad99b6-f7f2-4cec-b128-79fb264944b6"
      },
      "execution_count": 82,
      "outputs": [
        {
          "output_type": "execute_result",
          "data": {
            "text/plain": [
              "'longest'"
            ],
            "application/vnd.google.colaboratory.intrinsic+json": {
              "type": "string"
            }
          },
          "metadata": {},
          "execution_count": 82
        }
      ]
    },
    {
      "cell_type": "markdown",
      "metadata": {
        "id": "qlZnL-8mFjEo"
      },
      "source": [
        "<!--@slideshow slide-->\n",
        "## Colab quiz 7"
      ]
    },
    {
      "cell_type": "code",
      "metadata": {
        "id": "QaPTaiMXDVQv",
        "colab": {
          "base_uri": "https://localhost:8080/",
          "height": 256,
          "referenced_widgets": [
            "17f317cee1cc4fe7bacfa842fe71c822",
            "15aafb640ad44a27b2a3dbf52b2f8c05",
            "53acda1351a943578a0da69a969bda8c",
            "ccaa6d8de0a34180bd65cffd330c3bec",
            "2ca204b9dd1248b8abea47999f4646a0",
            "f4f31ee785de4127bc20f77b8745b07c",
            "67cd67c750514055b6e8ed211faebf20",
            "a82f619ce48842878669bb782faa7ce1",
            "5824bf8722e44c5c8cfdf9b06f4a8bca",
            "36a04e2c90f247e9a987c0dc49004401",
            "7d09c5498f6447888876d8616cf95acb",
            "a41491d728fa48968f5e6eddfa11a61f",
            "efb47ae4531549aebdbbf14c89088481",
            "ea3c5962209b43a7be26303bfb6d8adb",
            "d0b8ce31708746c9bf92ab49f78c628b",
            "c7b79b9f807f45bebece04e793e0e6e4"
          ]
        },
        "outputId": "2091fb84-2c7e-458c-b40e-8927666652e6"
      },
      "source": [
        "# earl - man = X - woman\n",
        "enable_mathjax_in_cell()\n",
        "quiz_earl()()"
      ],
      "execution_count": 83,
      "outputs": [
        {
          "output_type": "display_data",
          "data": {
            "text/plain": [
              "<IPython.core.display.HTML object>"
            ],
            "text/html": [
              "\n",
              "        <script src=\"https://www.gstatic.com/external_hosted/mathjax/latest/MathJax.js?config=TeX-AMS_HTML-full,Safe&delayStartupUntil=configured\"></script>\n",
              "        <script>\n",
              "            (() => {\n",
              "            const mathjax = window.MathJax;\n",
              "            mathjax.Hub.Config({\n",
              "            'tex2jax': {\n",
              "                'inlineMath': [['$', '$'], ['\\(', '\\)']],\n",
              "                'displayMath': [['$$', '$$'], ['\\[', '\\]']],\n",
              "                'processEscapes': true,\n",
              "                'processEnvironments': true,\n",
              "                'skipTags': ['script', 'noscript', 'style', 'textarea', 'code'],\n",
              "                'displayAlign': 'center',\n",
              "            },\n",
              "            'HTML-CSS': {\n",
              "                'styles': {'.MathJax_Display': {'margin': 0}},\n",
              "                'linebreaks': {'automatic': true},\n",
              "                // Disable to prevent OTF font loading, which aren't part of our\n",
              "                // distribution.\n",
              "                'imageFont': null,\n",
              "            },\n",
              "            'messageStyle': 'none'\n",
              "            });\n",
              "            mathjax.Hub.Configured();\n",
              "        })();\n",
              "        </script>\n",
              "        "
            ]
          },
          "metadata": {}
        },
        {
          "output_type": "display_data",
          "data": {
            "text/plain": [
              "VBox(children=(Output(), RadioButtons(options=('X = duchess', 'X = marquess', 'X = countess', 'X = baronet'), …"
            ],
            "application/vnd.jupyter.widget-view+json": {
              "version_major": 2,
              "version_minor": 0,
              "model_id": "17f317cee1cc4fe7bacfa842fe71c822"
            }
          },
          "metadata": {}
        }
      ]
    },
    {
      "cell_type": "markdown",
      "metadata": {
        "id": "fmRxDyahd67Y"
      },
      "source": [
        "<!--@slideshow slide-->\n",
        "# GloVe"
      ]
    },
    {
      "cell_type": "markdown",
      "source": [
        "<!--@slideshow fragment-->\n",
        "**Question**: why do vectors represent relations?"
      ],
      "metadata": {
        "id": "uMgcmyt8Tgx3"
      }
    },
    {
      "cell_type": "markdown",
      "metadata": {
        "id": "as_-SSjAtrBL"
      },
      "source": [
        "<!--@slideshow fragment-->\n",
        "**Insight**: _ratios_ of co-occurrence probabilities also give information - they encode meaningful componens."
      ]
    },
    {
      "cell_type": "markdown",
      "metadata": {
        "id": "iuu_rwH2ul0h"
      },
      "source": [
        "<!--@slideshow slide-->\n",
        "![alt text](https://raw.githubusercontent.com/horoshenkih/harbour-space-text-mining-course/master/pic/ratios-1.png)"
      ]
    },
    {
      "cell_type": "markdown",
      "metadata": {
        "id": "3WxL6Fo9uo6A"
      },
      "source": [
        "<!--@slideshow slide-->\n",
        "![alt text](https://raw.githubusercontent.com/horoshenkih/harbour-space-text-mining-course/master/pic/ratios-2.png)"
      ]
    },
    {
      "cell_type": "markdown",
      "metadata": {
        "id": "RN5StdvWuuJd"
      },
      "source": [
        "<!--@slideshow slide-->\n",
        "\n",
        "**Idea**: if we predict\n",
        "$$\n",
        "\\log\\Pr(o|c) = \\mathbf{v}_o \\cdot \\mathbf{v}_c\n",
        "$$\n",
        "then _vector differences_ correspond to ratios of co-oсcurrence probabilities!\n",
        "$$\n",
        "\\log\\dfrac{\\Pr(o|c_2)}{\\Pr(o|c_1)} = \\mathbf{v}_o \\cdot (\\mathbf{v}_{c_2} - \\mathbf{v}_{c_1})\n",
        "$$"
      ]
    },
    {
      "cell_type": "markdown",
      "source": [
        "<!--@slideshow slide-->\n",
        "In our example:\n",
        "$$\n",
        "\\log\\dfrac{\\Pr(o|\\mathrm{ice})}{\\Pr(o|\\mathrm{steam})} = \\mathbf{v}_o \\cdot (\\mathbf{v}_{\\mathrm{ice}} - \\mathbf{v}_{\\mathrm{steam}})\n",
        "$$"
      ],
      "metadata": {
        "id": "qgQFKpd2UMPu"
      }
    },
    {
      "cell_type": "markdown",
      "source": [
        "<!--@slideshow fragment-->\n",
        "- $\\mathbf{v}_\\mathrm{solid} \\cdot (\\mathbf{v}_{\\mathrm{ice}} - \\mathbf{v}_{\\mathrm{steam}}) = \\log\\dfrac{\\Pr(\\mathrm{solid}|\\mathrm{ice})}{\\Pr(\\mathrm{solid}|\\mathrm{steam})} = \\log 8.9 \\approx 2.19$\n",
        "- $\\mathbf{v}_\\mathrm{gas} \\cdot (\\mathbf{v}_{\\mathrm{ice}} - \\mathbf{v}_{\\mathrm{steam}}) = \\log\\dfrac{\\Pr(\\mathrm{gas}|\\mathrm{ice})}{\\Pr(\\mathrm{gas}|\\mathrm{steam})} = \\log 8.5 \\cdot 10^{-2} \\approx -2.47$\n",
        "- $\\mathbf{v}_\\mathrm{water} \\cdot (\\mathbf{v}_{\\mathrm{ice}} - \\mathbf{v}_{\\mathrm{steam}}) = \\log\\dfrac{\\Pr(\\mathrm{water}|\\mathrm{ice})}{\\Pr(\\mathrm{water}|\\mathrm{steam})} = \\log 1.36 \\approx 0.31$\n",
        "- $\\mathbf{v}_\\mathrm{fashion} \\cdot (\\mathbf{v}_{\\mathrm{ice}} - \\mathbf{v}_{\\mathrm{steam}}) = \\log\\dfrac{\\Pr(\\mathrm{fashion}|\\mathrm{ice})}{\\Pr(\\mathrm{fashion}|\\mathrm{steam})} = \\log 0.96 \\approx -0.04$\n",
        "\n"
      ],
      "metadata": {
        "id": "CeWTrhbOVSx4"
      }
    },
    {
      "cell_type": "markdown",
      "source": [
        "<!--@slideshow fragment-->\n",
        "**Interpretation**:\n",
        "\n",
        "On the scale between \"ice\" and \"steam\",\n",
        "- \"solid\" is closer to \"ice\"\n",
        "- \"gas\" is closer to \"steam\"\n",
        "- \"water\" is orthogonal (somewhere in between, related to both)\n",
        "- \"fashion\" is orthogonal (unrelated)"
      ],
      "metadata": {
        "id": "Bfq4ecpzYGfo"
      }
    },
    {
      "cell_type": "markdown",
      "metadata": {
        "id": "ILXZDQ2Nvh3M"
      },
      "source": [
        "<!--@slideshow slide-->\n",
        "\n",
        "## GloVe: algorithm\n",
        "Minimize:\n",
        "$$\n",
        "L(\\theta) = \\sum_{i \\in V, j \\in V, i \\neq j} f(X_{ij}) \\cdot (\\mathbf{v}_i \\cdot \\tilde{\\mathbf{v}}_j + b_i + \\tilde{b}_j - \\log X_{ij})^2\n",
        "$$\n",
        "where \n",
        "- $i, j$ -- words\n",
        "- $X_{ij}$ -- how many times words $i$ and $j$ co-occur\n",
        "- $\\mathbf{v}_k, \\tilde{\\mathbf{v}}_k$ - word vectors of  $k$ (represent \"meaning\" of $k$)\n",
        "- $ b_k, \\tilde{b}_k$ -- bias terms of a word $k$ (helphul for training, represent frequency of $k$)\n",
        "- $f(X_{ij})$ -- suppress rare (noisy) counters, helpful for training\n",
        "\n",
        "![alt text](https://raw.githubusercontent.com/horoshenkih/harbour-space-text-mining-course/master/pic/f.png)"
      ]
    },
    {
      "cell_type": "markdown",
      "source": [
        "<!--@slideshow slide-->\n",
        "## GloVe: word vectors\n",
        "$$\n",
        "L(\\theta) = \\sum_{i \\in V, j \\in V, i \\neq j} f(X_{ij}) \\cdot (\\mathbf{v}_i \\cdot \\tilde{\\mathbf{v}}_j + b_i + \\tilde{b}_j - \\log X_{ij})^2\n",
        "$$\n",
        "\n",
        "Each word is represented by two vectors $\\mathbf{v}, \\tilde{\\mathbf{v}}$, because\n",
        "- We want to approximate $\\mathbf{v}_i \\cdot \\tilde{\\mathbf{v}}_j \\approx \\Pr(i|j)$.\n",
        "- In general, $\\Pr(i|j) \\neq \\Pr(j|i)$."
      ],
      "metadata": {
        "id": "t-ifCmTE-sQe"
      }
    },
    {
      "cell_type": "markdown",
      "source": [
        "<!--@slideshow slide-->\n",
        "## GloVe: bias terms\n",
        "$$\n",
        "L(\\theta) = \\sum_{i \\in V, j \\in V, i \\neq j} f(X_{ij}) \\cdot (\\mathbf{v}_i \\cdot \\tilde{\\mathbf{v}}_j + b_i + \\tilde{b}_j - \\log X_{ij})^2\n",
        "$$\n",
        "\n",
        "We want to approximate $\\mathbf{v}_i \\cdot \\tilde{\\mathbf{v}}_j \\approx \\log \\Pr(i|j)$.\n",
        "\n",
        "But the target (what we actually predict) is $\\log X_{ij}$.\n"
      ],
      "metadata": {
        "id": "jjIF-qzaA9O-"
      }
    },
    {
      "cell_type": "markdown",
      "source": [
        "<!--@slideshow fragment-->\n",
        "The \"true\" target could be estimated from counts\n",
        "- $X_i$ - # of times word $i$ occurs\n",
        "- $X_{ij}$ - # of times words $i,j$ co-occur\n",
        "\n",
        "$$\n",
        "\\log \\hat\\Pr(i|j) = \\log \\frac{\\hat\\Pr(ij)}{\\hat \\Pr(i)} = \\log \\left[C \\cdot \\frac{X_{ij}}{X_i}\\right] = \\log X_{ij} - \\log X_i + \\mathrm{constant}\n",
        "$$\n",
        "\n"
      ],
      "metadata": {
        "id": "Lr_MPky5FaSY"
      }
    },
    {
      "cell_type": "markdown",
      "source": [
        "<!--@slideshow fragment-->\n",
        "$\\log \\hat\\Pr(i|j)$ is noisy because of $X_i$ in the denominator, so we need smoothing, for example:\n",
        "$$\n",
        "\\log \\hat\\Pr(i|j) = \\log \\left[C \\cdot \\frac{X_{ij}}{X_i \\color{red}{+ \\delta}}\\right] = \\log X_{ij} - \\log [X_i\\color{red}{+ \\delta}] + \\mathrm{constant}\n",
        "$$\n",
        "\n"
      ],
      "metadata": {
        "id": "_XB71wfEH8Z_"
      }
    },
    {
      "cell_type": "markdown",
      "source": [
        "<!--@slideshow fragment-->\n",
        "**Idea**: $X_{ij}$ contains all necessary information, learn everything else from data.\n",
        "\n",
        "$$\n",
        "b_i \\approx - \\log [X_i+ \\delta] + \\mathrm{constant}\n",
        "$$"
      ],
      "metadata": {
        "id": "XUz48OjCH83f"
      }
    },
    {
      "cell_type": "markdown",
      "source": [
        "<!--@slideshow slide-->\n",
        "# FastText"
      ],
      "metadata": {
        "id": "vE4H1ZQ6NyEX"
      }
    },
    {
      "cell_type": "markdown",
      "metadata": {
        "id": "WQVI4K2oPYfl"
      },
      "source": [
        "<!--@slideshow slide-->\n",
        "## Word vectors with subword information\n",
        "\n",
        "Sometimes we may guess (at least partially) the meaning of a word by looking at its pieces.\n"
      ]
    },
    {
      "cell_type": "markdown",
      "metadata": {
        "id": "PK3dNVBbjsiS"
      },
      "source": [
        "<!--@slideshow fragment-->\n",
        "For example, for the word \"sesquipedalophobia\" we may guess it is a phobia (a fear of something)."
      ]
    },
    {
      "cell_type": "markdown",
      "metadata": {
        "id": "CgrtCdmWj8oK"
      },
      "source": [
        "<!--@slideshow fragment-->\n",
        "(In case you are wondering, \"sesquipedalophobia\" is the fear of long words.)"
      ]
    },
    {
      "cell_type": "markdown",
      "metadata": {
        "id": "8LDevDPHkMuv"
      },
      "source": [
        "<!--@slideshow fragment-->\n",
        "**Idea**: learn not only word vectors, but also subword vectors."
      ]
    },
    {
      "cell_type": "markdown",
      "metadata": {
        "id": "Tii6l_oYjrkm"
      },
      "source": [
        "<!--@slideshow slide-->\n",
        "**Algorithm**:\n",
        "- Represent each word as a collection of character $n$-gram.\n",
        "- Include the word w itself in the set of its $n$-grams.\n",
        "- Add special boundary symbols `<` and `>` at the beginning and end of words, allowing to distinguish prefixes and suffixes from other character sequences.\n",
        "- Word vector is the sum of the vector representations of its $n$-grams.\n"
      ]
    },
    {
      "cell_type": "markdown",
      "metadata": {
        "id": "6MSRxWf5lI-M"
      },
      "source": [
        "<!--@slideshow fragment-->\n",
        "**Example**: for $n=3$, the word \"where\" is represented as\n",
        "\n",
        "  `<wh, whe, her, ere, re>, <where>`\n",
        "    \n",
        "> Note that the sequence `<her>`, corresponding to the word \"her\" is different from the trigram `her` from the word \"where\"."
      ]
    },
    {
      "cell_type": "markdown",
      "metadata": {
        "id": "QfE6njjJlP7_"
      },
      "source": [
        "<!--@slideshow slide-->\n",
        "## Colab demo: FastText (unsupervised)"
      ]
    },
    {
      "cell_type": "code",
      "source": [
        "!pip install -q fasttext"
      ],
      "metadata": {
        "id": "BWuyBuzCRYR1"
      },
      "execution_count": 84,
      "outputs": []
    },
    {
      "cell_type": "code",
      "metadata": {
        "id": "TRfiTnvFGV5o"
      },
      "source": [
        "import fasttext"
      ],
      "execution_count": 85,
      "outputs": []
    },
    {
      "cell_type": "code",
      "metadata": {
        "id": "gmqrHVV9QJ_f"
      },
      "source": [
        "from sklearn.datasets import fetch_20newsgroups\n",
        "dataset = fetch_20newsgroups(subset=\"all\", shuffle=True, random_state=1, categories=(\"sci.space\",), remove=('headers', 'footers', 'quotes'))"
      ],
      "execution_count": 86,
      "outputs": []
    },
    {
      "cell_type": "code",
      "metadata": {
        "id": "pAtyCKn6VeRt"
      },
      "source": [
        "def prepare_text(t):\n",
        "    import re\n",
        "    s = \" \".join(t.split()).lower()  # no newlines, lowercase\n",
        "    return re.sub(r'[^\\w\\s]',' ',s)  # remove punctuation"
      ],
      "execution_count": 87,
      "outputs": []
    },
    {
      "cell_type": "code",
      "metadata": {
        "id": "JI66Gdq9VlrE"
      },
      "source": [
        "# fasttest works with files in filesystem\n",
        "with open(\"texts.txt\", \"w\") as f:\n",
        "    for t in dataset.data:\n",
        "        f.write(prepare_text(t) + \"\\n\")"
      ],
      "execution_count": 88,
      "outputs": []
    },
    {
      "cell_type": "code",
      "source": [
        "!head texts.txt"
      ],
      "metadata": {
        "colab": {
          "base_uri": "https://localhost:8080/"
        },
        "id": "zsCKFyNT1cku",
        "outputId": "e764cb5c-b642-4e3e-f652-f990a111500d"
      },
      "execution_count": 89,
      "outputs": [
        {
          "output_type": "stream",
          "name": "stdout",
          "text": [
            "re  space billboards even easier to implement than writing messages on the moon  once upon a time a group of space activists i belonged to in seattle considered a  goodyear blimp in orbit   the idea was to use a large structure that could carry an array of lights like the goodyear blimp has  placed in a low earth orbit of high inclination  it could eventually be seen by almost everyone on earth  only our collective disapproval of cluttering up space with such a thing stopped us from pursuing it  it had quite feasible economics  which i will not post here because i don t want to encourage the idea  if you want to do such a thing  go figure it out for yourself   dani eder\n",
            "    how can you tell they re identical  you got one of them  star drek  the next syndication  neutrino scanners \n",
            "i had to turn to one of my problem sets that i did in class for this little problem  i don t have a calculator  but i do have the problem set that we did not too long ago  so i ll use that  and hope it s what you wanted  this is a highly simplified problem  with a very simple burst  bursts are usually more complex than this example i will use here  our burst has a peak flux of 5 43e 6 ergs cm  2 sec  1 and a duration of 8 95 seconds  during the frst second of the burst  and the last 4 seconds  its flux is half of the peak flux  it s flux is the peak flux the rest of the time  assume that the background flux is 10e 7 erg cm  2 sec  1  then we had to find the integrated luminosity of the burst  for several different spheres  r  25pc oort cloud radius   r 22 5pc at the edge of the galaxy   r 183 5pc or the edge of the galactic corona  and lastly at a r 8800mpc  we integrated the flux over all time to find the fluence  then used the old standby formula  luminosity 4 pi  r 2 fpeak for a radius of  25 pc  we found an l around 10 32 erg sec  pretty energetic for close by  for the coronal model  we found around 10 43 erg sec  and lastly  for the cosmological model an l 10 53  that s what you d call moderately energetic  i d say  any suggestions about what could put out that much energy in one second   jeremy\n",
            "i don t think you re going to be able to see the differences from a sphere unless they are greatly exaggerated  even the equatorial bulge is only about 1 part in 300    you d never notice a 1mm error in a 30cm globe    and the other deviations from spherical shape are much smaller \n",
            "jfc  if gamma ray bursters are extragalactic  would absorption from the jfc  galaxy be expected  how transparent is the galactic core to gamma jfc  rays  and later    jb  so  if the 1 r 2 law is incorrect  assume jb  some unknown material  dark matter    inhibits gamma ray propagation   jb  could it be possible that we are actually seeing much less energetic jb  events happening much closer to us  the even distribution could jb  be caused by the characteristic propagation distance of gamma rays jb  being shorter then 1 2 the thickness of the disk of the galaxy  0  well  maybe not zero  but very little  at the typical energies for gamma rays  the galaxy is effectively transparent  hans bloemen had a review article in ann  rev  astr  astrophys  a few years back in which he discusses this in more depth \n",
            "bear in mind that a lot of the vandenberg launch traffic is military and at least semi secret  they aren t interested in publicizing it beforehand \n",
            "i believe the reason is that the lung diaphram gets too tired to pump the liquid in and out and simply stops breathing after 2 3 minutes  so if your in the vehicle ready to go they better not put you on hold  or else   that s about it  remember a liquid is several more times as dense as a gas by its very nature   10 i think  depending on the gas and liquid comparision of course \n",
            "forwarded from the mars observer project mars observer status report april 30  1993 11 30 am pdt dss 65  madrid 34 meter antenna  did not acquire the expected mars observer spacecraft signal at the scheduled beginning of track yesterday morning  4 29  at approximately 6 00 am  indications were that the spacecraft had entered a fault protection mode sometime between that time and receipt of normal telemetry at the end of the previous station pass  dss 15   goldstone 34 meter antenna  at approximately 8 00 pm the evening before  entry into contingency mode was verified when signal was reacquired and telemetry indicated that the spacecraft was sun coning  after subsystem engineers reported all systems performing nominally  fault protection telemetry modes were reconfigured and memory readouts of command system audit queue and aacs  attitude and articulation control subsystem  starex performed  these readouts verified that contingency mode entry occurred shortly after 1 30 am yesterday  4 29 93  preliminary indications are that a sun ephemeris check failure triggered fault protection  however  the flight team will be determining the precise cause over the next few days  as of last evening  the spacecraft had been commanded back to inertial reference and was stable in that mode  the flight team is planning to command the spacecraft back to array normal spin state today \n",
            "i missed the presentations given in the morning session  when shea gave his  rambling and almost inaudible  presentation   but i did attend the afternoon session  the meeting was in a small conference room  the speaker was wired with a mike  and there were microphones on the table for the panel members to use  peons  like me  sat in a foyer outside the conference room  and watched the presentations on closed circuit tv  in general  the sound system was fair to poor  and some of the other speakers  like the committee member from the italian space agency  also were  almost inaudible   shea didn t  lead the formal presentation   in the sense of running or guiding the presentation  he didn t even attend the afternoon session  vest ran the show  president of mit  the chair of the advisory panel  \n",
            "hi guys  i ve been hearing lots of talk on the net about dc x and dc y  but none of the many posts actually explain what they are     sorry if this is a faq  but would somebody please explain to me what they are  reply by email please       thanks  andy ajjb adam4 bnsc rl ac uk   \n"
          ]
        }
      ]
    },
    {
      "cell_type": "code",
      "metadata": {
        "id": "SZ7nZAA-WIdJ"
      },
      "source": [
        "model = fasttext.train_unsupervised(\n",
        "    input=\"texts.txt\",\n",
        "    epoch=10\n",
        ")"
      ],
      "execution_count": 90,
      "outputs": []
    },
    {
      "cell_type": "code",
      "metadata": {
        "id": "vzrHX3UMWXns",
        "colab": {
          "base_uri": "https://localhost:8080/"
        },
        "outputId": "8c7d07bc-2cdc-4903-a2f9-1544b9e364b2"
      },
      "source": [
        "model.get_nearest_neighbors(\"satellite\")"
      ],
      "execution_count": 91,
      "outputs": [
        {
          "output_type": "execute_result",
          "data": {
            "text/plain": [
              "[(0.9310543537139893, 'satellites'),\n",
              " (0.826610267162323, 'sat'),\n",
              " (0.7046252489089966, 'radar'),\n",
              " (0.684397280216217, 'iridium'),\n",
              " (0.6659807562828064, 'tracking'),\n",
              " (0.6609216928482056, 'telecommunications'),\n",
              " (0.6603425145149231, 'korean'),\n",
              " (0.656222939491272, 'intelsat'),\n",
              " (0.6515015959739685, 'european'),\n",
              " (0.6475222706794739, 'japan')]"
            ]
          },
          "metadata": {},
          "execution_count": 91
        }
      ]
    },
    {
      "cell_type": "code",
      "metadata": {
        "id": "1kifiPUVZuH0",
        "colab": {
          "base_uri": "https://localhost:8080/"
        },
        "outputId": "83d35ec9-c78b-4538-8b6e-5a35a286ac08"
      },
      "source": [
        "model.get_nearest_neighbors(\"satelite\")"
      ],
      "execution_count": 92,
      "outputs": [
        {
          "output_type": "execute_result",
          "data": {
            "text/plain": [
              "[(0.965173065662384, 'satellite'),\n",
              " (0.8960800766944885, 'satellites'),\n",
              " (0.8491849303245544, 'sat'),\n",
              " (0.7472147345542908, 'items'),\n",
              " (0.7320234775543213, 'korean'),\n",
              " (0.723210334777832, 'radar'),\n",
              " (0.720881462097168, 'european'),\n",
              " (0.7101620435714722, 'iridium'),\n",
              " (0.709301233291626, 'olympus'),\n",
              " (0.7044820785522461, 'intelsat')]"
            ]
          },
          "metadata": {},
          "execution_count": 92
        }
      ]
    },
    {
      "cell_type": "markdown",
      "metadata": {
        "id": "uWkAji_9JvyT"
      },
      "source": [
        "<!--@slideshow slide-->\n",
        "## Text classification\n",
        "\n",
        "**Idea**: \n",
        "- Represent a text as the average of word vectors.\n",
        "- Learn matrix $A$ such that $\\mathrm{softmax}(A \\cdot v)$ gives probability distribution over classes.\n",
        "- Instead of the loss function for word2vec (negative log-likelihood), optimize the loss function for classification (cross-entropy)."
      ]
    },
    {
      "cell_type": "code",
      "metadata": {
        "id": "GkoecYhJm84p",
        "outputId": "9686b8d6-a74a-41c2-b712-8c2c724c970f",
        "colab": {
          "base_uri": "https://localhost:8080/",
          "height": 383
        }
      },
      "source": [
        "#@slideshow fragment tags=remove_input\n",
        "import matplotlib.pyplot as plt\n",
        "from scipy.special import softmax\n",
        "fig, (ax1, ax2) = plt.subplots(1, 2, figsize=(10, 6))\n",
        "\n",
        "x = [-0.1, -1, 0.7, 0.5, 0.33]\n",
        "i = list(range(len(x)))\n",
        "ax1.bar(i, x)\n",
        "ax2.bar(i, softmax(x))\n",
        "ax1.set_title(r\"$X = {}$\".format(x))\n",
        "ax2.set_title(r\"$\\mathrm{softmax}(X) \\sim e^X$\")\n",
        "ax1.set_xticks([])\n",
        "ax2.set_xticks([])\n",
        "plt.show()"
      ],
      "execution_count": 93,
      "outputs": [
        {
          "output_type": "display_data",
          "data": {
            "text/plain": [
              "<Figure size 720x432 with 2 Axes>"
            ],
            "image/png": "[encoded data removed]"
          },
          "metadata": {
            "needs_background": "light"
          }
        }
      ]
    },
    {
      "cell_type": "markdown",
      "metadata": {
        "id": "q6AFnFxElWad"
      },
      "source": [
        "<!--@slideshow slide-->\n",
        "## Colab demo: FastText (supervised)"
      ]
    },
    {
      "cell_type": "code",
      "metadata": {
        "id": "ogVXd469JxYG"
      },
      "source": [
        "from sklearn.datasets import fetch_20newsgroups\n",
        "fetch_params = dict(\n",
        "    shuffle=True,\n",
        "    random_state=1,\n",
        "    remove=('headers', 'footers', 'quotes')\n",
        ")\n",
        "train_dataset = fetch_20newsgroups(subset=\"train\", **fetch_params)\n",
        "test_dataset = fetch_20newsgroups(subset=\"test\", **fetch_params)"
      ],
      "execution_count": 94,
      "outputs": []
    },
    {
      "cell_type": "code",
      "metadata": {
        "id": "h_EKqGHMKaUT"
      },
      "source": [
        "def convert_dataset_to_fasttext_file(texts, labels, path):\n",
        "    with open(path, \"w\") as f:\n",
        "        for t, l in zip(texts, labels):\n",
        "            t = prepare_text(t)\n",
        "            # labels are stored in file with prefix \"__label__\"\n",
        "            f.write(f\"__label__{l}\\t{t}\\n\")\n",
        "\n",
        "convert_dataset_to_fasttext_file(\n",
        "    train_dataset.data,\n",
        "    [train_dataset.target_names[c] for c in train_dataset.target],\n",
        "    \"train.txt\"\n",
        ")"
      ],
      "execution_count": 95,
      "outputs": []
    },
    {
      "cell_type": "code",
      "metadata": {
        "id": "qbW6EdV0AMy4",
        "colab": {
          "base_uri": "https://localhost:8080/"
        },
        "outputId": "0397890a-490f-4544-e9e1-b8b62d11be9e"
      },
      "source": [
        "!head -n1 train.txt"
      ],
      "execution_count": 96,
      "outputs": [
        {
          "output_type": "stream",
          "name": "stdout",
          "text": [
            "__label__talk.politics.mideast\twell i m not sure about the story nad it did seem biased  what i disagree with is your statement that the u s  media is out to ruin israels reputation  that is rediculous  the u s  media is the most pro israeli media in the world  having lived in europe i realize that incidences such as the one described in the letter have occured  the u s  media as a whole seem to try to ignore them  the u s  is subsidizing israels existance and the europeans are not  at least not to the same degree   so i think that might be a reason they report more clearly on the atrocities  what is a shame is that in austria  daily reports of the inhuman acts commited by israeli soldiers and the blessing received from the government makes some of the holocaust guilt go away  after all  look how the jews are treating other races when they got power  it is unfortunate \n"
          ]
        }
      ]
    },
    {
      "cell_type": "code",
      "metadata": {
        "id": "v5i8yuN2KyKD"
      },
      "source": [
        "model = fasttext.train_supervised(\n",
        "    input=\"train.txt\",\n",
        "    lr=0.1,\n",
        "    epoch=25\n",
        ")"
      ],
      "execution_count": 97,
      "outputs": []
    },
    {
      "cell_type": "code",
      "metadata": {
        "id": "kgXGm6t-Lz_8",
        "colab": {
          "base_uri": "https://localhost:8080/"
        },
        "outputId": "61224482-a8ae-4ad1-ef73-b09fb5373e77"
      },
      "source": [
        "total = 0\n",
        "correct = 0\n",
        "for t, c in zip(test_dataset.data, test_dataset.target):\n",
        "    total += 1\n",
        "    label = test_dataset.target_names[c]\n",
        "    predicted_label = model.predict(prepare_text(t))[0][0][len(\"__label__\"):]\n",
        "    if label == predicted_label:\n",
        "        correct += 1\n",
        "print(f\"accuracy: {correct / total}\")"
      ],
      "execution_count": 98,
      "outputs": [
        {
          "output_type": "stream",
          "name": "stdout",
          "text": [
            "accuracy: 0.5762081784386617\n"
          ]
        }
      ]
    },
    {
      "cell_type": "markdown",
      "metadata": {
        "id": "UufFB2dq1WHx"
      },
      "source": [
        "<!--@slideshow slide-->\n",
        "# Colab demo: word vectors in spaCy"
      ]
    },
    {
      "cell_type": "code",
      "metadata": {
        "id": "UgdJ4HbQ1uN0"
      },
      "source": [
        "import spacy\n",
        "# spaCy is equipped by pre-trained word vectors\n",
        "# for example, they are stored in \"en_core_web_lg\"\n",
        "# in Colab, you need to run !python -m spacy download en_core_web_lg (the first cell) and restart runtime\n",
        "nlp = spacy.load(\"en_core_web_lg\", disable=[\"tagger\", \"ner\", \"parser\"])"
      ],
      "execution_count": 99,
      "outputs": []
    },
    {
      "cell_type": "code",
      "metadata": {
        "id": "157ScdZJ5W98",
        "colab": {
          "base_uri": "https://localhost:8080/"
        },
        "outputId": "a16bd128-97ef-4665-bd79-1378c57ea79c"
      },
      "source": [
        "doc = nlp(\"dog cat banana afskfsd\")\n",
        "\n",
        "# you can check the attribute `.has_vector` of a token\n",
        "for token in doc:\n",
        "    print(f\"Token '{token.text}' has a vector: {token.has_vector}\")\n",
        "\n",
        "# doc (parsed text, the collection of tokens) also has vector (the average over all tokens)\n",
        "print(f\"Doc has a vector: {doc.has_vector}\")"
      ],
      "execution_count": 100,
      "outputs": [
        {
          "output_type": "stream",
          "name": "stdout",
          "text": [
            "Token 'dog' has a vector: True\n",
            "Token 'cat' has a vector: True\n",
            "Token 'banana' has a vector: True\n",
            "Token 'afskfsd' has a vector: False\n",
            "Doc has a vector: True\n"
          ]
        }
      ]
    },
    {
      "cell_type": "code",
      "metadata": {
        "id": "EeHqgw6H4leg",
        "colab": {
          "base_uri": "https://localhost:8080/"
        },
        "outputId": "a67c9905-2708-4375-c210-7fcc18d78ab4"
      },
      "source": [
        "# for any pair of objects that have vectors, we can find similarity\n",
        "# the example from the last lesson\n",
        "doc1 = nlp(\"How can I be a good geologist?\")\n",
        "doc2 = nlp(\"What should I do to be a great geologist?\")\n",
        "doc3 = nlp(\"What should I do to be a good geologist?\")\n",
        "doc1.similarity(doc2), doc1.similarity(doc3)"
      ],
      "execution_count": 101,
      "outputs": [
        {
          "output_type": "execute_result",
          "data": {
            "text/plain": [
              "(0.9265519131082379, 0.9298576579974973)"
            ]
          },
          "metadata": {},
          "execution_count": 101
        }
      ]
    },
    {
      "cell_type": "code",
      "metadata": {
        "id": "d7qKHKpo4vHb",
        "colab": {
          "base_uri": "https://localhost:8080/"
        },
        "outputId": "553e04ce-7b72-4a48-9c2d-44b58b9e4af9"
      },
      "source": [
        "# in particular, any subsequence of a document (so-called Span) also may have a vector\n",
        "# for example, a sentence in a document has vector (the average over all tokens of the sentence)\n",
        "# to split the document into sentences, we need to add 'sentencizer' to NLP pipeline\n",
        "nlp.add_pipe('sentencizer')"
      ],
      "execution_count": 102,
      "outputs": [
        {
          "output_type": "execute_result",
          "data": {
            "text/plain": [
              "<spacy.pipeline.sentencizer.Sentencizer at 0x7f53325cb800>"
            ]
          },
          "metadata": {},
          "execution_count": 102
        }
      ]
    },
    {
      "cell_type": "code",
      "metadata": {
        "id": "85tR-5X_5hKF",
        "colab": {
          "base_uri": "https://localhost:8080/"
        },
        "outputId": "fd8ae0c8-d280-4f8e-8f4e-7ddbdd48378a"
      },
      "source": [
        "from sklearn.datasets import fetch_20newsgroups\n",
        "dataset = fetch_20newsgroups(\n",
        "    subset=\"all\",\n",
        "    shuffle=True,\n",
        "    random_state=1,\n",
        "    categories=(\"sci.space\",),\n",
        "    remove=('headers', 'footers', 'quotes')\n",
        ")\n",
        "from pprint import pprint\n",
        "\n",
        "# after the sentenciser has been added, the parsed document contains `.sents` attribute:\n",
        "for sentence in nlp(dataset.data[0]).sents:\n",
        "    print(\"SENTENCE:\\n\", sentence)\n",
        "    print(\"HAS VECTOR:\", sentence.has_vector)\n",
        "    print(\"---\")"
      ],
      "execution_count": 103,
      "outputs": [
        {
          "output_type": "stream",
          "name": "stdout",
          "text": [
            "SENTENCE:\n",
            " Re: Space billboards\n",
            "\n",
            "Even easier to implement than writing messages on the Moon, once upon\n",
            "a time a group of space activists I belonged to in Seattle considered\n",
            "a \"Goodyear Blimp in orbit\".\n",
            "HAS VECTOR: True\n",
            "---\n",
            "SENTENCE:\n",
            "  The idea was to use a large structure\n",
            "that could carry an array of lights like the Goodyear Blimp has.\n",
            "HAS VECTOR: True\n",
            "---\n",
            "SENTENCE:\n",
            " \n",
            "Placed in a low Earth orbit of high inclination, it could eventually\n",
            "be seen by almost everyone on Earth.\n",
            "HAS VECTOR: True\n",
            "---\n",
            "SENTENCE:\n",
            "  Only our collective disapproval\n",
            "of cluttering up space with such a thing stopped us from pursuing\n",
            "it.\n",
            "HAS VECTOR: True\n",
            "---\n",
            "SENTENCE:\n",
            "  It had quite feasible economics, which I will not post here\n",
            "because I don't want to encourage the idea (if you want to do such\n",
            "a thing, go figure it out for yourself).\n",
            "HAS VECTOR: True\n",
            "---\n",
            "SENTENCE:\n",
            " \n",
            "\n",
            "Dani Eder\n",
            "\n",
            "HAS VECTOR: True\n",
            "---\n"
          ]
        }
      ]
    },
    {
      "cell_type": "markdown",
      "metadata": {
        "id": "vesL_f-BwpF0"
      },
      "source": [
        "<!--@slideshow slide-->\n",
        "# Summary\n",
        "1. Words can be represented as non-orthogonal vectors.\n",
        "1. The meaning of the word can be deduced from contexts the word appears in (distributional semantics).\n",
        "1. word2vec\n",
        "  - Find vectors such that words with similar vectors often occur in the same context.\n",
        "  - Optimize log-likelihood using gradient descent.\n",
        "  - Details: 2 vectors for each word, negative sampling, subsampling.\n",
        "1. word2vec in gensim.\n",
        "1. Word vectors capture relations between words.\n",
        "1. GloVe: approximate co-occurrence probability\n",
        "1. FastText: use subword information\n",
        "1. Word vectors in spaCy"
      ]
    },
    {
      "cell_type": "markdown",
      "source": [
        "# Home Assignment 8\n",
        "\n",
        "## Exercise 1 (6 points)\n",
        "\n",
        "Use SpaCy vectors to solve Quora Question Pairs (like we did in the previous lecture with TD-IDF vectors).\n",
        "You don't have to train vectors, the only thing you need is to apply spaCy vectors to the test dataset and compute similarities. The relevant code from the previous lecture is [here](https://colab.research.google.com/drive/1fq3Y-730mivy0halpGJhcq0nGEkOsYNP#scrollTo=n7A9Tq-47gcN&line=1&uniqifier=1).\n",
        "\n",
        "Compare the results with TF-IDF. For TF-IDF vectors, we got the result ROC AUC = 0.719 on the test dataset .\n"
      ],
      "metadata": {
        "id": "DXIDQQ8tb4m0"
      }
    },
    {
      "cell_type": "code",
      "source": [
        "# YOUR CODE HERE\n",
        "import pandas as pd\n",
        "\n",
        "df = pd.read_csv(\"harbour-space-text-mining-course/datasets/quora_question_pairs/train.csv\")\n",
        "print(f\"Total samples: {df.shape[0]}\")\n",
        "df = df.head(20000)\n",
        "df[[\"question1\", \"question2\", \"is_duplicate\"]].head(10)\n"
      ],
      "metadata": {
        "id": "pq4t8sQZc0Pj",
        "outputId": "1f2cdba3-6f44-42d2-ca77-44a3c1a58a32",
        "colab": {
          "base_uri": "https://localhost:8080/",
          "height": 381
        }
      },
      "execution_count": 111,
      "outputs": [
        {
          "output_type": "stream",
          "name": "stdout",
          "text": [
            "Total samples: 404290\n"
          ]
        },
        {
          "output_type": "execute_result",
          "data": {
            "text/plain": [
              "                                           question1  \\\n",
              "0  What is the step by step guide to invest in sh...   \n",
              "1  What is the story of Kohinoor (Koh-i-Noor) Dia...   \n",
              "2  How can I increase the speed of my internet co...   \n",
              "3  Why am I mentally very lonely? How can I solve...   \n",
              "4  Which one dissolve in water quikly sugar, salt...   \n",
              "5  Astrology: I am a Capricorn Sun Cap moon and c...   \n",
              "6                                Should I buy tiago?   \n",
              "7                     How can I be a good geologist?   \n",
              "8                    When do you use シ instead of し?   \n",
              "9  Motorola (company): Can I hack my Charter Moto...   \n",
              "\n",
              "                                           question2  is_duplicate  \n",
              "0  What is the step by step guide to invest in sh...             0  \n",
              "1  What would happen if the Indian government sto...             0  \n",
              "2  How can Internet speed be increased by hacking...             0  \n",
              "3  Find the remainder when [math]23^{24}[/math] i...             0  \n",
              "4            Which fish would survive in salt water?             0  \n",
              "5  I'm a triple Capricorn (Sun, Moon and ascendan...             1  \n",
              "6  What keeps childern active and far from phone ...             0  \n",
              "7          What should I do to be a great geologist?             1  \n",
              "8              When do you use \"&\" instead of \"and\"?             0  \n",
              "9  How do I hack Motorola DCX3400 for free internet?             0  "
            ],
            "text/html": [
              "\n",
              "  <div id=\"df-afd10b9e-19fb-4f67-9729-d0444660ac36\">\n",
              "    <div class=\"colab-df-container\">\n",
              "      <div>\n",
              "<style scoped>\n",
              "    .dataframe tbody tr th:only-of-type {\n",
              "        vertical-align: middle;\n",
              "    }\n",
              "\n",
              "    .dataframe tbody tr th {\n",
              "        vertical-align: top;\n",
              "    }\n",
              "\n",
              "    .dataframe thead th {\n",
              "        text-align: right;\n",
              "    }\n",
              "</style>\n",
              "<table border=\"1\" class=\"dataframe\">\n",
              "  <thead>\n",
              "    <tr style=\"text-align: right;\">\n",
              "      <th></th>\n",
              "      <th>question1</th>\n",
              "      <th>question2</th>\n",
              "      <th>is_duplicate</th>\n",
              "    </tr>\n",
              "  </thead>\n",
              "  <tbody>\n",
              "    <tr>\n",
              "      <th>0</th>\n",
              "      <td>What is the step by step guide to invest in sh...</td>\n",
              "      <td>What is the step by step guide to invest in sh...</td>\n",
              "      <td>0</td>\n",
              "    </tr>\n",
              "    <tr>\n",
              "      <th>1</th>\n",
              "      <td>What is the story of Kohinoor (Koh-i-Noor) Dia...</td>\n",
              "      <td>What would happen if the Indian government sto...</td>\n",
              "      <td>0</td>\n",
              "    </tr>\n",
              "    <tr>\n",
              "      <th>2</th>\n",
              "      <td>How can I increase the speed of my internet co...</td>\n",
              "      <td>How can Internet speed be increased by hacking...</td>\n",
              "      <td>0</td>\n",
              "    </tr>\n",
              "    <tr>\n",
              "      <th>3</th>\n",
              "      <td>Why am I mentally very lonely? How can I solve...</td>\n",
              "      <td>Find the remainder when [math]23^{24}[/math] i...</td>\n",
              "      <td>0</td>\n",
              "    </tr>\n",
              "    <tr>\n",
              "      <th>4</th>\n",
              "      <td>Which one dissolve in water quikly sugar, salt...</td>\n",
              "      <td>Which fish would survive in salt water?</td>\n",
              "      <td>0</td>\n",
              "    </tr>\n",
              "    <tr>\n",
              "      <th>5</th>\n",
              "      <td>Astrology: I am a Capricorn Sun Cap moon and c...</td>\n",
              "      <td>I'm a triple Capricorn (Sun, Moon and ascendan...</td>\n",
              "      <td>1</td>\n",
              "    </tr>\n",
              "    <tr>\n",
              "      <th>6</th>\n",
              "      <td>Should I buy tiago?</td>\n",
              "      <td>What keeps childern active and far from phone ...</td>\n",
              "      <td>0</td>\n",
              "    </tr>\n",
              "    <tr>\n",
              "      <th>7</th>\n",
              "      <td>How can I be a good geologist?</td>\n",
              "      <td>What should I do to be a great geologist?</td>\n",
              "      <td>1</td>\n",
              "    </tr>\n",
              "    <tr>\n",
              "      <th>8</th>\n",
              "      <td>When do you use シ instead of し?</td>\n",
              "      <td>When do you use \"&amp;\" instead of \"and\"?</td>\n",
              "      <td>0</td>\n",
              "    </tr>\n",
              "    <tr>\n",
              "      <th>9</th>\n",
              "      <td>Motorola (company): Can I hack my Charter Moto...</td>\n",
              "      <td>How do I hack Motorola DCX3400 for free internet?</td>\n",
              "      <td>0</td>\n",
              "    </tr>\n",
              "  </tbody>\n",
              "</table>\n",
              "</div>\n",
              "      <button class=\"colab-df-convert\" onclick=\"convertToInteractive('df-afd10b9e-19fb-4f67-9729-d0444660ac36')\"\n",
              "              title=\"Convert this dataframe to an interactive table.\"\n",
              "              style=\"display:none;\">\n",
              "        \n",
              "  <svg xmlns=\"http://www.w3.org/2000/svg\" height=\"24px\"viewBox=\"0 0 24 24\"\n",
              "       width=\"24px\">\n",
              "    <path d=\"M0 0h24v24H0V0z\" fill=\"none\"/>\n",
              "    <path d=\"M18.56 5.44l.94 2.06.94-2.06 2.06-.94-2.06-.94-.94-2.06-.94 2.06-2.06.94zm-11 1L8.5 8.5l.94-2.06 2.06-.94-2.06-.94L8.5 2.5l-.94 2.06-2.06.94zm10 10l.94 2.06.94-2.06 2.06-.94-2.06-.94-.94-2.06-.94 2.06-2.06.94z\"/><path d=\"M17.41 7.96l-1.37-1.37c-.4-.4-.92-.59-1.43-.59-.52 0-1.04.2-1.43.59L10.3 9.45l-7.72 7.72c-.78.78-.78 2.05 0 2.83L4 21.41c.39.39.9.59 1.41.59.51 0 1.02-.2 1.41-.59l7.78-7.78 2.81-2.81c.8-.78.8-2.07 0-2.86zM5.41 20L4 18.59l7.72-7.72 1.47 1.35L5.41 20z\"/>\n",
              "  </svg>\n",
              "      </button>\n",
              "      \n",
              "  <style>\n",
              "    .colab-df-container {\n",
              "      display:flex;\n",
              "      flex-wrap:wrap;\n",
              "      gap: 12px;\n",
              "    }\n",
              "\n",
              "    .colab-df-convert {\n",
              "      background-color: #E8F0FE;\n",
              "      border: none;\n",
              "      border-radius: 50%;\n",
              "      cursor: pointer;\n",
              "      display: none;\n",
              "      fill: #1967D2;\n",
              "      height: 32px;\n",
              "      padding: 0 0 0 0;\n",
              "      width: 32px;\n",
              "    }\n",
              "\n",
              "    .colab-df-convert:hover {\n",
              "      background-color: #E2EBFA;\n",
              "      box-shadow: 0px 1px 2px rgba(60, 64, 67, 0.3), 0px 1px 3px 1px rgba(60, 64, 67, 0.15);\n",
              "      fill: #174EA6;\n",
              "    }\n",
              "\n",
              "    [theme=dark] .colab-df-convert {\n",
              "      background-color: #3B4455;\n",
              "      fill: #D2E3FC;\n",
              "    }\n",
              "\n",
              "    [theme=dark] .colab-df-convert:hover {\n",
              "      background-color: #434B5C;\n",
              "      box-shadow: 0px 1px 3px 1px rgba(0, 0, 0, 0.15);\n",
              "      filter: drop-shadow(0px 1px 2px rgba(0, 0, 0, 0.3));\n",
              "      fill: #FFFFFF;\n",
              "    }\n",
              "  </style>\n",
              "\n",
              "      <script>\n",
              "        const buttonEl =\n",
              "          document.querySelector('#df-afd10b9e-19fb-4f67-9729-d0444660ac36 button.colab-df-convert');\n",
              "        buttonEl.style.display =\n",
              "          google.colab.kernel.accessAllowed ? 'block' : 'none';\n",
              "\n",
              "        async function convertToInteractive(key) {\n",
              "          const element = document.querySelector('#df-afd10b9e-19fb-4f67-9729-d0444660ac36');\n",
              "          const dataTable =\n",
              "            await google.colab.kernel.invokeFunction('convertToInteractive',\n",
              "                                                     [key], {});\n",
              "          if (!dataTable) return;\n",
              "\n",
              "          const docLinkHtml = 'Like what you see? Visit the ' +\n",
              "            '<a target=\"_blank\" href=https://colab.research.google.com/notebooks/data_table.ipynb>data table notebook</a>'\n",
              "            + ' to learn more about interactive tables.';\n",
              "          element.innerHTML = '';\n",
              "          dataTable['output_type'] = 'display_data';\n",
              "          await google.colab.output.renderOutput(dataTable, element);\n",
              "          const docLink = document.createElement('div');\n",
              "          docLink.innerHTML = docLinkHtml;\n",
              "          element.appendChild(docLink);\n",
              "        }\n",
              "      </script>\n",
              "    </div>\n",
              "  </div>\n",
              "  "
            ]
          },
          "metadata": {},
          "execution_count": 111
        }
      ]
    },
    {
      "cell_type": "code",
      "source": [
        "import numpy as np\n",
        "from sklearn.model_selection import train_test_split\n",
        "df_train, df_test = train_test_split(df.fillna(\".\"), test_size=0.5, shuffle=True, random_state=0)"
      ],
      "metadata": {
        "id": "tHMH52iDZaO-"
      },
      "execution_count": 138,
      "outputs": []
    },
    {
      "cell_type": "code",
      "source": [
        "similarities=[]\n",
        "for i,j in df_test.iterrows():\n",
        "  similarities.append(nlp(j['question1']).similarity(nlp(j['question2'])))"
      ],
      "metadata": {
        "id": "SvcSCuWCeLyV"
      },
      "execution_count": 139,
      "outputs": []
    },
    {
      "cell_type": "code",
      "source": [
        "from sklearn.metrics import roc_auc_score\n",
        "print(\"ROC AUC:\", roc_auc_score(df_test.is_duplicate, similarities))"
      ],
      "metadata": {
        "id": "NAlk9YptfeL5",
        "outputId": "260382d4-a022-4f25-ff17-c29dac9e64e0",
        "colab": {
          "base_uri": "https://localhost:8080/"
        }
      },
      "execution_count": 140,
      "outputs": [
        {
          "output_type": "stream",
          "name": "stdout",
          "text": [
            "ROC AUC: 0.6513046758531265\n"
          ]
        }
      ]
    },
    {
      "cell_type": "markdown",
      "source": [
        "**Using similar data as exercise 7(50% test) we get 0.65 ROC AUC score which is lower than TFIDF vectorizer.**"
      ],
      "metadata": {
        "id": "w-Mpr77UhH0t"
      }
    },
    {
      "cell_type": "markdown",
      "metadata": {
        "id": "QfMd0u7O0GD8"
      },
      "source": [
        "<!--@slideshow slide-->\n",
        "# In-class coding session\n",
        "\n",
        "Build news summarizer using word2vec.\n",
        "\n",
        "Try the following idea:\n",
        "1. Assume that there is a \"central\" vector (the main idea) of the article which is the average vector of all tokens in the article.\n",
        "1. Find $k$ sentences closest to the \"central\" vector. The assumption is that these sentences are \"informative\", and other sentences are \"noisy\" and not important. To extract sentences (and their vectors), use `nlp.add_pipe('sentencizer')` and `doc.sents` property.\n",
        "\n",
        "The function `parse_techcrunch_url(url)` parses the content from [techcrunch.com](https://techcrunch.com), you can use it to check your implementation on real data.\n",
        "\n",
        "To estimate similarity, use `doc.similarity(sentence)` (or vise versa).\n",
        "\n",
        "Also, implement a random baseline (get $k$ random sentences from the text) and compare the results (visually)."
      ]
    },
    {
      "cell_type": "code",
      "metadata": {
        "id": "CAzNZd420m_J",
        "colab": {
          "base_uri": "https://localhost:8080/"
        },
        "outputId": "cf2b811f-2b50-4fe8-f3a3-b0d78325f023"
      },
      "source": [
        "def parse_techcrunch_url(url):\n",
        "    import bs4\n",
        "    import re\n",
        "    import requests\n",
        "    response = requests.get(url)\n",
        "    soup = bs4.BeautifulSoup(response.text, \"html.parser\")\n",
        "    items = soup.find(\"div\", {\"class\": \"article-content\"}).findAll(\"p\")\n",
        "    raw_html = \"\\n\".join(map(str, items))\n",
        "    cleanr = re.compile('<.*?>')\n",
        "    clean_html = re.sub(cleanr, '', raw_html)\n",
        "    return clean_html\n",
        "\n",
        "from pprint import pprint\n",
        "url = \"https://techcrunch.com/2020/05/23/hackers-iphone-new-jailbreak/\"\n",
        "url = \"https://techcrunch.com/2023/01/17/discord-acquires-gas-a-compliments-based-social-media-app-for-teens/\"\n",
        "pprint(parse_techcrunch_url(url))"
      ],
      "execution_count": 105,
      "outputs": [
        {
          "output_type": "stream",
          "name": "stdout",
          "text": [
            "('The messaging platform Discord announced its acquisition of Gas, an app '\n",
            " 'that’s popular among teens for its positive spin on social media.\\n'\n",
            " 'On Gas, users sign up with their school, add friends and answer polls about '\n",
            " 'their classmates. But the questions in the polls are intended to boost '\n",
            " 'users’ confidence rather than damage it. Teens might be asked to choose '\n",
            " 'which of four friends is the best DJ or has the best smile. Then the person '\n",
            " 'who was chosen will get an anonymous message with their compliment, sent '\n",
            " 'from a vague “boy in 10th grade” or “girl in 11th grade.”\\n'\n",
            " 'Gas was founded by Nikita Bier, who previously sold a similar app called tbh '\n",
            " 'to Facebook in 2017 — tbh has since been shut down.\\n'\n",
            " 'According to data from Sensor Tower, Gas reached 7.4 million installs and '\n",
            " 'almost $7 million in consumer spending since its launch in summer 2022. '\n",
            " 'Users can subscribe to a paid feature called “God Mode,” which gives users '\n",
            " 'hints about who their secret complimenters are.\\n'\n",
            " 'Gas got gassed up on the Today Show this morning https://t.co/qEJfMp7M2Z\\n'\n",
            " '— Nikita Bier (@nikitabier) January 10, 2023\\n'\n",
            " '\\n'\n",
            " '“At this time, Gas will continue as its own standalone app and the Gas team '\n",
            " 'will be joining Discord to help our efforts to continue to grow across new '\n",
            " 'and core audiences,” Discord wrote in an announcement. As of October, Bier '\n",
            " 'said Gas had four team members.\\n'\n",
            " 'Despite Gas’s fast popularity, the app has had a rocky road to its exit. The '\n",
            " 'app was the subject of a widespread sex-trafficking rumor, which was '\n",
            " 'completely false, yet still impacted the app’s downloads. Bier told the '\n",
            " 'Washington Post that he and his team received hundreds of graphic death '\n",
            " 'threats as a result of this hoax. Other viral social apps IRL and WalkSafe '\n",
            " 'have also been hit with unfounded trafficking accusations.\\n'\n",
            " 'Gas is one of several anonymous apps — some based around compliments, some '\n",
            " 'not — that have gone viral recently. But TechCrunch found that apps like NGL '\n",
            " 'and Sendit were using bots to simulate engagement. Like Gas, these apps '\n",
            " 'offer users the ability to pay to see who asked questions. Understandably, '\n",
            " 'some customers felt scammed when it turned out that these questions didn’t '\n",
            " 'actually come from their friends. Meanwhile, 9count, the company that made '\n",
            " 'Spark and Summer, is working on a product similar to Gas called nocapp.\\n'\n",
            " 'Even though Discord is currently going to keep Gas operating as a '\n",
            " 'stand-alone product, Discord recently announced that it would integrate a '\n",
            " 'selection of apps into its servers. So, it’s possible that we could see '\n",
            " 'these positive community polls on the messaging platform in the future.\\n'\n",
            " '“We’re always working to create an inclusive world where no one feels like '\n",
            " 'an outsider and we’re excited to welcome Gas to the Discord community as our '\n",
            " 'next step to fulfilling that vision,” Discord wrote in its announcement.\\n'\n",
            " 'The terms of Discord’s acquisition of Gas have not been disclosed.\\n'\n",
            " 'Discord doubles down on apps to make servers more dynamic\\n'\n",
            " '\\n'\n",
            " 'Anonymous social app NGL tops 15M installs, $2.4M in revenue as users '\n",
            " 'complain about being scammed\\n')\n"
          ]
        }
      ]
    },
    {
      "cell_type": "code",
      "source": [
        "text = parse_techcrunch_url(\"https://techcrunch.com/2020/05/23/hackers-iphone-new-jailbreak/\")\n",
        "\n",
        "nlp = spacy.load(\"en_core_web_lg\", disable=[\"tagger\", \"ner\", \"parser\"])\n",
        "nlp.add_pipe('sentencizer')"
      ],
      "metadata": {
        "colab": {
          "base_uri": "https://localhost:8080/"
        },
        "id": "-IWd18tHTlCU",
        "outputId": "82e6871e-96ee-4afa-9839-3462755331a4"
      },
      "execution_count": 106,
      "outputs": [
        {
          "output_type": "execute_result",
          "data": {
            "text/plain": [
              "<spacy.pipeline.sentencizer.Sentencizer at 0x7f542a65d640>"
            ]
          },
          "metadata": {},
          "execution_count": 106
        }
      ]
    },
    {
      "cell_type": "code",
      "source": [
        "def summarize(text, k=5):\n",
        "    # parse the input\n",
        "    doc = nlp(text)\n",
        "    sentence_data = []\n",
        "    for i, sentence in enumerate(doc.sents):\n",
        "        sentence_data.append((i, sentence.text, doc.similarity(sentence)))\n",
        "    # get top closest sentences\n",
        "    top_sentences = list(sorted(sentence_data, key=lambda x: -x[2]))[:k]\n",
        "    top_sentences.sort(key=lambda x: x[0])\n",
        "\n",
        "    return \" \".join([x[1] for x in top_sentences])\n",
        "\n",
        "pprint(summarize(text))"
      ],
      "metadata": {
        "colab": {
          "base_uri": "https://localhost:8080/"
        },
        "id": "PrbMC9UlTMm0",
        "outputId": "3558826c-4530-4e11-aa03-53741ca9e484"
      },
      "execution_count": 107,
      "outputs": [
        {
          "output_type": "stream",
          "name": "stdout",
          "text": [
            "('Hackers do this by finding a previously undisclosed vulnerability in iOS '\n",
            " 'that break through some of the many restrictions that Apple puts in place to '\n",
            " 'prevent access to the underlying software. But jailbreakers say breaking '\n",
            " 'through those restrictions allows them to customize their iPhones more than '\n",
            " 'they would otherwise, in a way that most Android users are already '\n",
            " 'accustomed to. \\n'\n",
            " 'Details of the vulnerability that the hackers used to build the jailbreak '\n",
            " 'aren’t known, but it’s not expected to last forever. Just as jailbreakers '\n",
            " 'work to find a way in, Apple works fast to patch the flaws and close the '\n",
            " 'jailbreak. \\n'\n",
            " 'Security experts typically advise iPhone users against jailbreaking, because '\n",
            " 'breaking out of the “walled garden” vastly increases the surface area for '\n",
            " 'new vulnerabilities to exist and to be found.')\n"
          ]
        }
      ]
    },
    {
      "cell_type": "markdown",
      "metadata": {
        "id": "p0ACJFY28MuM"
      },
      "source": [
        "<!--@slideshow slide-->\n",
        "# Recommended resources\n",
        "- [📖 Distributional semantics](https://en.wikipedia.org/wiki/Distributional_semantics)\n",
        "- [📖 YDSA NLP course, lecture 1](https://github.com/yandexdataschool/nlp_course/tree/2019/week01_embeddings)\n",
        "- Stanford CS224n, lecture 1\n",
        "  - [📺 video](https://www.youtube.com/watch?v=8rXD5-xhemo&feature=youtu.be)\n",
        "  - [📖 slides](https://web.stanford.edu/class/archive/cs/cs224n/cs224n.1194/slides/cs224n-2019-lecture01-wordvecs1.pdf)\n",
        "  - [📖 notes](https://web.stanford.edu/class/archive/cs/cs224n/cs224n.1194/readings/cs224n-2019-notes01-wordvecs1.pdf)\n",
        "- [📖 The original word2vec code](https://code.google.com/archive/p/word2vec/)\n",
        "- FastText\n",
        "  - [Documentation](https://fasttext.cc/)\n",
        "  - [Paper \"Enriching Word Vectors with Subword Information\"](https://arxiv.org/abs/1607.04606)\n",
        "  - [Paper \"Bag of Tricks for Efficient Text Classification\"](https://arxiv.org/abs/1607.01759)\n",
        "- [vectors in spaCy](https://spacy.io/usage/vectors-similarity)"
      ]
    },
    {
      "cell_type": "markdown",
      "metadata": {
        "id": "1_kJQ_FIK1FX"
      },
      "source": [
        "# [OPTIONAL] Principal Component Analysis (PCA)\n",
        "\n",
        "The illustration of the Principal Component Analysis. In case of 2 dimensions, PCA can be understood as the best projection of 2-dimensional data into a straingt line."
      ]
    },
    {
      "cell_type": "code",
      "metadata": {
        "id": "5-bmGXPQOROg",
        "colab": {
          "base_uri": "https://localhost:8080/",
          "height": 283
        },
        "outputId": "39faba4c-01bb-4899-a45e-b284b92bddbc"
      },
      "source": [
        "# project 2-dimensional ellipsoid onto a 1-dimensional line\n",
        "# in other words: explain each point with a single number\n",
        "def rotation_matrix(radians):\n",
        "    c, s = np.cos(radians), np.sin(radians)\n",
        "    return np.matrix([[c, s], [-s, c]])\n",
        "\n",
        "def generate_cloud(size, var1, var2, radians):\n",
        "    import numpy as np\n",
        "    j = rotation_matrix(radians)\n",
        "    return np.asarray(np.random.multivariate_normal([0., 0.], [[var1, 0], [0, var2]], size=size) @ j)\n",
        "\n",
        "cloud = generate_cloud(100, 0.5, 20, 0.5)\n",
        "import matplotlib.pyplot as plt\n",
        "\n",
        "plt.scatter(cloud[:, 0], cloud[:, 1])\n",
        "plt.axis(\"equal\")"
      ],
      "execution_count": 108,
      "outputs": [
        {
          "output_type": "execute_result",
          "data": {
            "text/plain": [
              "(-6.501071474160739, 6.877616311403686, -12.01989936222766, 10.706263560914952)"
            ]
          },
          "metadata": {},
          "execution_count": 108
        },
        {
          "output_type": "display_data",
          "data": {
            "text/plain": [
              "<Figure size 432x288 with 1 Axes>"
            ],
            "image/png": "[encoded data removed]"
          },
          "metadata": {
            "needs_background": "light"
          }
        }
      ]
    },
    {
      "cell_type": "code",
      "metadata": {
        "id": "4g_8Xra1SV2k",
        "colab": {
          "base_uri": "https://localhost:8080/",
          "height": 336
        },
        "outputId": "1b552511-4761-427b-8f11-ae63815728d5"
      },
      "source": [
        "# find the rotation angle via slope\n",
        "from sklearn.linear_model import LinearRegression\n",
        "clf = LinearRegression()\n",
        "clf.fit(cloud[:, 0].reshape(-1, 1), cloud[:, 1])\n",
        "# clf.coef_ is the slope = tan(rotation angles)\n",
        "# rotate back\n",
        "angle_to_rotate = -np.arctan(clf.coef_).item()\n",
        "rotated_cloud = np.asarray(cloud @ rotation_matrix(angle_to_rotate))\n",
        "plt.scatter(\n",
        "    rotated_cloud[:, 0],  # the first principal component\n",
        "    rotated_cloud[:, 1]\n",
        ")\n",
        "plt.axis(\"equal\")"
      ],
      "execution_count": 109,
      "outputs": [
        {
          "output_type": "execute_result",
          "data": {
            "text/plain": [
              "(-12.525150925830724,\n",
              " 13.846057843408872,\n",
              " -1.8395641594815182,\n",
              " 1.8529875886678913)"
            ]
          },
          "metadata": {},
          "execution_count": 109
        },
        {
          "output_type": "display_data",
          "data": {
            "text/plain": [
              "<Figure size 432x288 with 1 Axes>"
            ],
            "image/png": "[encoded data removed]"
          },
          "metadata": {
            "needs_background": "light"
          }
        }
      ]
    },
    {
      "cell_type": "code",
      "metadata": {
        "id": "1pwF-QVbRjoe",
        "colab": {
          "base_uri": "https://localhost:8080/",
          "height": 336
        },
        "outputId": "8ff017c4-11b1-4da4-c9de-8db15cfd3c43"
      },
      "source": [
        "from sklearn.decomposition import PCA\n",
        "trf = PCA()\n",
        "result = trf.fit_transform(cloud)\n",
        "\n",
        "plt.scatter(result[:, 0], result[:, 1])\n",
        "plt.axis(\"equal\")"
      ],
      "execution_count": 110,
      "outputs": [
        {
          "output_type": "execute_result",
          "data": {
            "text/plain": [
              "(-12.353731513739344,\n",
              " 14.007788256632987,\n",
              " -1.6862173835975365,\n",
              " 1.7064803806761493)"
            ]
          },
          "metadata": {},
          "execution_count": 110
        },
        {
          "output_type": "display_data",
          "data": {
            "text/plain": [
              "<Figure size 432x288 with 1 Axes>"
            ],
            "image/png": "[encoded data removed]"
          },
          "metadata": {
            "needs_background": "light"
          }
        }
      ]
    }
  ]
}