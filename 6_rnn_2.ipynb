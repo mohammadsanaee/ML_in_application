{
  "nbformat": 4,
  "nbformat_minor": 0,
  "metadata": {
    "colab": {
      "provenance": [],
      "toc_visible": true,
      "include_colab_link": true
    },
    "kernelspec": {
      "name": "python3",
      "display_name": "Python 3"
    },
    "widgets": {
      "application/vnd.jupyter.widget-state+json": {
        "5c27af73dd6646818075b3e7d883d6bd": {
          "model_module": "@jupyter-widgets/controls",
          "model_name": "HBoxModel",
          "model_module_version": "1.5.0",
          "state": {
            "_dom_classes": [],
            "_model_module": "@jupyter-widgets/controls",
            "_model_module_version": "1.5.0",
            "_model_name": "HBoxModel",
            "_view_count": null,
            "_view_module": "@jupyter-widgets/controls",
            "_view_module_version": "1.5.0",
            "_view_name": "HBoxView",
            "box_style": "",
            "children": [
              "IPY_MODEL_95121d82a299406bab9244a4da5bd16b",
              "IPY_MODEL_3de6031ed952439aa30f91948290b428",
              "IPY_MODEL_7f0b5ed91abd47d5bd4eefc9ea1130a4"
            ],
            "layout": "IPY_MODEL_1bd26bb7557a478a99e8dc4066d2d9c2"
          }
        },
        "95121d82a299406bab9244a4da5bd16b": {
          "model_module": "@jupyter-widgets/controls",
          "model_name": "HTMLModel",
          "model_module_version": "1.5.0",
          "state": {
            "_dom_classes": [],
            "_model_module": "@jupyter-widgets/controls",
            "_model_module_version": "1.5.0",
            "_model_name": "HTMLModel",
            "_view_count": null,
            "_view_module": "@jupyter-widgets/controls",
            "_view_module_version": "1.5.0",
            "_view_name": "HTMLView",
            "description": "",
            "description_tooltip": null,
            "layout": "IPY_MODEL_4905f50eb548436688ed996200112181",
            "placeholder": "​",
            "style": "IPY_MODEL_422c5ddcd1754685922768f30ba58edb",
            "value": "100%"
          }
        },
        "3de6031ed952439aa30f91948290b428": {
          "model_module": "@jupyter-widgets/controls",
          "model_name": "FloatProgressModel",
          "model_module_version": "1.5.0",
          "state": {
            "_dom_classes": [],
            "_model_module": "@jupyter-widgets/controls",
            "_model_module_version": "1.5.0",
            "_model_name": "FloatProgressModel",
            "_view_count": null,
            "_view_module": "@jupyter-widgets/controls",
            "_view_module_version": "1.5.0",
            "_view_name": "ProgressView",
            "bar_style": "success",
            "description": "",
            "description_tooltip": null,
            "layout": "IPY_MODEL_3425a44a38cb47dbb85ac34bb221db43",
            "max": 1500,
            "min": 0,
            "orientation": "horizontal",
            "style": "IPY_MODEL_ce7fde7bd9544d31a140aba9a6e31509",
            "value": 1500
          }
        },
        "7f0b5ed91abd47d5bd4eefc9ea1130a4": {
          "model_module": "@jupyter-widgets/controls",
          "model_name": "HTMLModel",
          "model_module_version": "1.5.0",
          "state": {
            "_dom_classes": [],
            "_model_module": "@jupyter-widgets/controls",
            "_model_module_version": "1.5.0",
            "_model_name": "HTMLModel",
            "_view_count": null,
            "_view_module": "@jupyter-widgets/controls",
            "_view_module_version": "1.5.0",
            "_view_name": "HTMLView",
            "description": "",
            "description_tooltip": null,
            "layout": "IPY_MODEL_61c4b1fd4248447cb94f862bbd91f014",
            "placeholder": "​",
            "style": "IPY_MODEL_63fda8a8a5ca4b6f91a9417ef5549449",
            "value": " 1500/1500 [00:38&lt;00:00, 67.75it/s]"
          }
        },
        "1bd26bb7557a478a99e8dc4066d2d9c2": {
          "model_module": "@jupyter-widgets/base",
          "model_name": "LayoutModel",
          "model_module_version": "1.2.0",
          "state": {
            "_model_module": "@jupyter-widgets/base",
            "_model_module_version": "1.2.0",
            "_model_name": "LayoutModel",
            "_view_count": null,
            "_view_module": "@jupyter-widgets/base",
            "_view_module_version": "1.2.0",
            "_view_name": "LayoutView",
            "align_content": null,
            "align_items": null,
            "align_self": null,
            "border": null,
            "bottom": null,
            "display": null,
            "flex": null,
            "flex_flow": null,
            "grid_area": null,
            "grid_auto_columns": null,
            "grid_auto_flow": null,
            "grid_auto_rows": null,
            "grid_column": null,
            "grid_gap": null,
            "grid_row": null,
            "grid_template_areas": null,
            "grid_template_columns": null,
            "grid_template_rows": null,
            "height": null,
            "justify_content": null,
            "justify_items": null,
            "left": null,
            "margin": null,
            "max_height": null,
            "max_width": null,
            "min_height": null,
            "min_width": null,
            "object_fit": null,
            "object_position": null,
            "order": null,
            "overflow": null,
            "overflow_x": null,
            "overflow_y": null,
            "padding": null,
            "right": null,
            "top": null,
            "visibility": null,
            "width": null
          }
        },
        "4905f50eb548436688ed996200112181": {
          "model_module": "@jupyter-widgets/base",
          "model_name": "LayoutModel",
          "model_module_version": "1.2.0",
          "state": {
            "_model_module": "@jupyter-widgets/base",
            "_model_module_version": "1.2.0",
            "_model_name": "LayoutModel",
            "_view_count": null,
            "_view_module": "@jupyter-widgets/base",
            "_view_module_version": "1.2.0",
            "_view_name": "LayoutView",
            "align_content": null,
            "align_items": null,
            "align_self": null,
            "border": null,
            "bottom": null,
            "display": null,
            "flex": null,
            "flex_flow": null,
            "grid_area": null,
            "grid_auto_columns": null,
            "grid_auto_flow": null,
            "grid_auto_rows": null,
            "grid_column": null,
            "grid_gap": null,
            "grid_row": null,
            "grid_template_areas": null,
            "grid_template_columns": null,
            "grid_template_rows": null,
            "height": null,
            "justify_content": null,
            "justify_items": null,
            "left": null,
            "margin": null,
            "max_height": null,
            "max_width": null,
            "min_height": null,
            "min_width": null,
            "object_fit": null,
            "object_position": null,
            "order": null,
            "overflow": null,
            "overflow_x": null,
            "overflow_y": null,
            "padding": null,
            "right": null,
            "top": null,
            "visibility": null,
            "width": null
          }
        },
        "422c5ddcd1754685922768f30ba58edb": {
          "model_module": "@jupyter-widgets/controls",
          "model_name": "DescriptionStyleModel",
          "model_module_version": "1.5.0",
          "state": {
            "_model_module": "@jupyter-widgets/controls",
            "_model_module_version": "1.5.0",
            "_model_name": "DescriptionStyleModel",
            "_view_count": null,
            "_view_module": "@jupyter-widgets/base",
            "_view_module_version": "1.2.0",
            "_view_name": "StyleView",
            "description_width": ""
          }
        },
        "3425a44a38cb47dbb85ac34bb221db43": {
          "model_module": "@jupyter-widgets/base",
          "model_name": "LayoutModel",
          "model_module_version": "1.2.0",
          "state": {
            "_model_module": "@jupyter-widgets/base",
            "_model_module_version": "1.2.0",
            "_model_name": "LayoutModel",
            "_view_count": null,
            "_view_module": "@jupyter-widgets/base",
            "_view_module_version": "1.2.0",
            "_view_name": "LayoutView",
            "align_content": null,
            "align_items": null,
            "align_self": null,
            "border": null,
            "bottom": null,
            "display": null,
            "flex": null,
            "flex_flow": null,
            "grid_area": null,
            "grid_auto_columns": null,
            "grid_auto_flow": null,
            "grid_auto_rows": null,
            "grid_column": null,
            "grid_gap": null,
            "grid_row": null,
            "grid_template_areas": null,
            "grid_template_columns": null,
            "grid_template_rows": null,
            "height": null,
            "justify_content": null,
            "justify_items": null,
            "left": null,
            "margin": null,
            "max_height": null,
            "max_width": null,
            "min_height": null,
            "min_width": null,
            "object_fit": null,
            "object_position": null,
            "order": null,
            "overflow": null,
            "overflow_x": null,
            "overflow_y": null,
            "padding": null,
            "right": null,
            "top": null,
            "visibility": null,
            "width": null
          }
        },
        "ce7fde7bd9544d31a140aba9a6e31509": {
          "model_module": "@jupyter-widgets/controls",
          "model_name": "ProgressStyleModel",
          "model_module_version": "1.5.0",
          "state": {
            "_model_module": "@jupyter-widgets/controls",
            "_model_module_version": "1.5.0",
            "_model_name": "ProgressStyleModel",
            "_view_count": null,
            "_view_module": "@jupyter-widgets/base",
            "_view_module_version": "1.2.0",
            "_view_name": "StyleView",
            "bar_color": null,
            "description_width": ""
          }
        },
        "61c4b1fd4248447cb94f862bbd91f014": {
          "model_module": "@jupyter-widgets/base",
          "model_name": "LayoutModel",
          "model_module_version": "1.2.0",
          "state": {
            "_model_module": "@jupyter-widgets/base",
            "_model_module_version": "1.2.0",
            "_model_name": "LayoutModel",
            "_view_count": null,
            "_view_module": "@jupyter-widgets/base",
            "_view_module_version": "1.2.0",
            "_view_name": "LayoutView",
            "align_content": null,
            "align_items": null,
            "align_self": null,
            "border": null,
            "bottom": null,
            "display": null,
            "flex": null,
            "flex_flow": null,
            "grid_area": null,
            "grid_auto_columns": null,
            "grid_auto_flow": null,
            "grid_auto_rows": null,
            "grid_column": null,
            "grid_gap": null,
            "grid_row": null,
            "grid_template_areas": null,
            "grid_template_columns": null,
            "grid_template_rows": null,
            "height": null,
            "justify_content": null,
            "justify_items": null,
            "left": null,
            "margin": null,
            "max_height": null,
            "max_width": null,
            "min_height": null,
            "min_width": null,
            "object_fit": null,
            "object_position": null,
            "order": null,
            "overflow": null,
            "overflow_x": null,
            "overflow_y": null,
            "padding": null,
            "right": null,
            "top": null,
            "visibility": null,
            "width": null
          }
        },
        "63fda8a8a5ca4b6f91a9417ef5549449": {
          "model_module": "@jupyter-widgets/controls",
          "model_name": "DescriptionStyleModel",
          "model_module_version": "1.5.0",
          "state": {
            "_model_module": "@jupyter-widgets/controls",
            "_model_module_version": "1.5.0",
            "_model_name": "DescriptionStyleModel",
            "_view_count": null,
            "_view_module": "@jupyter-widgets/base",
            "_view_module_version": "1.2.0",
            "_view_name": "StyleView",
            "description_width": ""
          }
        },
        "27a33713f08b4b6e9d5062c48044980f": {
          "model_module": "@jupyter-widgets/controls",
          "model_name": "HBoxModel",
          "model_module_version": "1.5.0",
          "state": {
            "_dom_classes": [],
            "_model_module": "@jupyter-widgets/controls",
            "_model_module_version": "1.5.0",
            "_model_name": "HBoxModel",
            "_view_count": null,
            "_view_module": "@jupyter-widgets/controls",
            "_view_module_version": "1.5.0",
            "_view_name": "HBoxView",
            "box_style": "",
            "children": [
              "IPY_MODEL_58cf22094f454e93946798d6038c60ba",
              "IPY_MODEL_3748f66a84ad424cb0f0c7a9c4ee0b86",
              "IPY_MODEL_0db0a8ae9c2f4917b08c6e2704a13136"
            ],
            "layout": "IPY_MODEL_1184e1d413974bfd831a27e06f373115"
          }
        },
        "58cf22094f454e93946798d6038c60ba": {
          "model_module": "@jupyter-widgets/controls",
          "model_name": "HTMLModel",
          "model_module_version": "1.5.0",
          "state": {
            "_dom_classes": [],
            "_model_module": "@jupyter-widgets/controls",
            "_model_module_version": "1.5.0",
            "_model_name": "HTMLModel",
            "_view_count": null,
            "_view_module": "@jupyter-widgets/controls",
            "_view_module_version": "1.5.0",
            "_view_name": "HTMLView",
            "description": "",
            "description_tooltip": null,
            "layout": "IPY_MODEL_302d0a19cae347c995886a5839fab61c",
            "placeholder": "​",
            "style": "IPY_MODEL_50fcd7b16efc44c682d36a2229cfbd1a",
            "value": "100%"
          }
        },
        "3748f66a84ad424cb0f0c7a9c4ee0b86": {
          "model_module": "@jupyter-widgets/controls",
          "model_name": "FloatProgressModel",
          "model_module_version": "1.5.0",
          "state": {
            "_dom_classes": [],
            "_model_module": "@jupyter-widgets/controls",
            "_model_module_version": "1.5.0",
            "_model_name": "FloatProgressModel",
            "_view_count": null,
            "_view_module": "@jupyter-widgets/controls",
            "_view_module_version": "1.5.0",
            "_view_name": "ProgressView",
            "bar_style": "success",
            "description": "",
            "description_tooltip": null,
            "layout": "IPY_MODEL_4044da4c36064260bf194c726a0ddd00",
            "max": 4000,
            "min": 0,
            "orientation": "horizontal",
            "style": "IPY_MODEL_08f03a8706e14ec9909cbc15714866cf",
            "value": 4000
          }
        },
        "0db0a8ae9c2f4917b08c6e2704a13136": {
          "model_module": "@jupyter-widgets/controls",
          "model_name": "HTMLModel",
          "model_module_version": "1.5.0",
          "state": {
            "_dom_classes": [],
            "_model_module": "@jupyter-widgets/controls",
            "_model_module_version": "1.5.0",
            "_model_name": "HTMLModel",
            "_view_count": null,
            "_view_module": "@jupyter-widgets/controls",
            "_view_module_version": "1.5.0",
            "_view_name": "HTMLView",
            "description": "",
            "description_tooltip": null,
            "layout": "IPY_MODEL_4d0424d7720d49b89f4d10438a0a1a09",
            "placeholder": "​",
            "style": "IPY_MODEL_221f267c27e04d2ba17f959482ec60c8",
            "value": " 4000/4000 [01:02&lt;00:00, 61.21it/s]"
          }
        },
        "1184e1d413974bfd831a27e06f373115": {
          "model_module": "@jupyter-widgets/base",
          "model_name": "LayoutModel",
          "model_module_version": "1.2.0",
          "state": {
            "_model_module": "@jupyter-widgets/base",
            "_model_module_version": "1.2.0",
            "_model_name": "LayoutModel",
            "_view_count": null,
            "_view_module": "@jupyter-widgets/base",
            "_view_module_version": "1.2.0",
            "_view_name": "LayoutView",
            "align_content": null,
            "align_items": null,
            "align_self": null,
            "border": null,
            "bottom": null,
            "display": null,
            "flex": null,
            "flex_flow": null,
            "grid_area": null,
            "grid_auto_columns": null,
            "grid_auto_flow": null,
            "grid_auto_rows": null,
            "grid_column": null,
            "grid_gap": null,
            "grid_row": null,
            "grid_template_areas": null,
            "grid_template_columns": null,
            "grid_template_rows": null,
            "height": null,
            "justify_content": null,
            "justify_items": null,
            "left": null,
            "margin": null,
            "max_height": null,
            "max_width": null,
            "min_height": null,
            "min_width": null,
            "object_fit": null,
            "object_position": null,
            "order": null,
            "overflow": null,
            "overflow_x": null,
            "overflow_y": null,
            "padding": null,
            "right": null,
            "top": null,
            "visibility": null,
            "width": null
          }
        },
        "302d0a19cae347c995886a5839fab61c": {
          "model_module": "@jupyter-widgets/base",
          "model_name": "LayoutModel",
          "model_module_version": "1.2.0",
          "state": {
            "_model_module": "@jupyter-widgets/base",
            "_model_module_version": "1.2.0",
            "_model_name": "LayoutModel",
            "_view_count": null,
            "_view_module": "@jupyter-widgets/base",
            "_view_module_version": "1.2.0",
            "_view_name": "LayoutView",
            "align_content": null,
            "align_items": null,
            "align_self": null,
            "border": null,
            "bottom": null,
            "display": null,
            "flex": null,
            "flex_flow": null,
            "grid_area": null,
            "grid_auto_columns": null,
            "grid_auto_flow": null,
            "grid_auto_rows": null,
            "grid_column": null,
            "grid_gap": null,
            "grid_row": null,
            "grid_template_areas": null,
            "grid_template_columns": null,
            "grid_template_rows": null,
            "height": null,
            "justify_content": null,
            "justify_items": null,
            "left": null,
            "margin": null,
            "max_height": null,
            "max_width": null,
            "min_height": null,
            "min_width": null,
            "object_fit": null,
            "object_position": null,
            "order": null,
            "overflow": null,
            "overflow_x": null,
            "overflow_y": null,
            "padding": null,
            "right": null,
            "top": null,
            "visibility": null,
            "width": null
          }
        },
        "50fcd7b16efc44c682d36a2229cfbd1a": {
          "model_module": "@jupyter-widgets/controls",
          "model_name": "DescriptionStyleModel",
          "model_module_version": "1.5.0",
          "state": {
            "_model_module": "@jupyter-widgets/controls",
            "_model_module_version": "1.5.0",
            "_model_name": "DescriptionStyleModel",
            "_view_count": null,
            "_view_module": "@jupyter-widgets/base",
            "_view_module_version": "1.2.0",
            "_view_name": "StyleView",
            "description_width": ""
          }
        },
        "4044da4c36064260bf194c726a0ddd00": {
          "model_module": "@jupyter-widgets/base",
          "model_name": "LayoutModel",
          "model_module_version": "1.2.0",
          "state": {
            "_model_module": "@jupyter-widgets/base",
            "_model_module_version": "1.2.0",
            "_model_name": "LayoutModel",
            "_view_count": null,
            "_view_module": "@jupyter-widgets/base",
            "_view_module_version": "1.2.0",
            "_view_name": "LayoutView",
            "align_content": null,
            "align_items": null,
            "align_self": null,
            "border": null,
            "bottom": null,
            "display": null,
            "flex": null,
            "flex_flow": null,
            "grid_area": null,
            "grid_auto_columns": null,
            "grid_auto_flow": null,
            "grid_auto_rows": null,
            "grid_column": null,
            "grid_gap": null,
            "grid_row": null,
            "grid_template_areas": null,
            "grid_template_columns": null,
            "grid_template_rows": null,
            "height": null,
            "justify_content": null,
            "justify_items": null,
            "left": null,
            "margin": null,
            "max_height": null,
            "max_width": null,
            "min_height": null,
            "min_width": null,
            "object_fit": null,
            "object_position": null,
            "order": null,
            "overflow": null,
            "overflow_x": null,
            "overflow_y": null,
            "padding": null,
            "right": null,
            "top": null,
            "visibility": null,
            "width": null
          }
        },
        "08f03a8706e14ec9909cbc15714866cf": {
          "model_module": "@jupyter-widgets/controls",
          "model_name": "ProgressStyleModel",
          "model_module_version": "1.5.0",
          "state": {
            "_model_module": "@jupyter-widgets/controls",
            "_model_module_version": "1.5.0",
            "_model_name": "ProgressStyleModel",
            "_view_count": null,
            "_view_module": "@jupyter-widgets/base",
            "_view_module_version": "1.2.0",
            "_view_name": "StyleView",
            "bar_color": null,
            "description_width": ""
          }
        },
        "4d0424d7720d49b89f4d10438a0a1a09": {
          "model_module": "@jupyter-widgets/base",
          "model_name": "LayoutModel",
          "model_module_version": "1.2.0",
          "state": {
            "_model_module": "@jupyter-widgets/base",
            "_model_module_version": "1.2.0",
            "_model_name": "LayoutModel",
            "_view_count": null,
            "_view_module": "@jupyter-widgets/base",
            "_view_module_version": "1.2.0",
            "_view_name": "LayoutView",
            "align_content": null,
            "align_items": null,
            "align_self": null,
            "border": null,
            "bottom": null,
            "display": null,
            "flex": null,
            "flex_flow": null,
            "grid_area": null,
            "grid_auto_columns": null,
            "grid_auto_flow": null,
            "grid_auto_rows": null,
            "grid_column": null,
            "grid_gap": null,
            "grid_row": null,
            "grid_template_areas": null,
            "grid_template_columns": null,
            "grid_template_rows": null,
            "height": null,
            "justify_content": null,
            "justify_items": null,
            "left": null,
            "margin": null,
            "max_height": null,
            "max_width": null,
            "min_height": null,
            "min_width": null,
            "object_fit": null,
            "object_position": null,
            "order": null,
            "overflow": null,
            "overflow_x": null,
            "overflow_y": null,
            "padding": null,
            "right": null,
            "top": null,
            "visibility": null,
            "width": null
          }
        },
        "221f267c27e04d2ba17f959482ec60c8": {
          "model_module": "@jupyter-widgets/controls",
          "model_name": "DescriptionStyleModel",
          "model_module_version": "1.5.0",
          "state": {
            "_model_module": "@jupyter-widgets/controls",
            "_model_module_version": "1.5.0",
            "_model_name": "DescriptionStyleModel",
            "_view_count": null,
            "_view_module": "@jupyter-widgets/base",
            "_view_module_version": "1.2.0",
            "_view_name": "StyleView",
            "description_width": ""
          }
        },
        "8624bcaf4b98482babf91527ae2bd7a5": {
          "model_module": "@jupyter-widgets/controls",
          "model_name": "HBoxModel",
          "model_module_version": "1.5.0",
          "state": {
            "_dom_classes": [],
            "_model_module": "@jupyter-widgets/controls",
            "_model_module_version": "1.5.0",
            "_model_name": "HBoxModel",
            "_view_count": null,
            "_view_module": "@jupyter-widgets/controls",
            "_view_module_version": "1.5.0",
            "_view_name": "HBoxView",
            "box_style": "",
            "children": [
              "IPY_MODEL_23bddb26f3b24c93a2db3ce940dfef01",
              "IPY_MODEL_8d51c59aae694e6a83d1774b39fc26cd",
              "IPY_MODEL_1dc58f6acc1b41adbcc93212f9aae1c3"
            ],
            "layout": "IPY_MODEL_c02030819dbc4c3e9750094fbbb215cc"
          }
        },
        "23bddb26f3b24c93a2db3ce940dfef01": {
          "model_module": "@jupyter-widgets/controls",
          "model_name": "HTMLModel",
          "model_module_version": "1.5.0",
          "state": {
            "_dom_classes": [],
            "_model_module": "@jupyter-widgets/controls",
            "_model_module_version": "1.5.0",
            "_model_name": "HTMLModel",
            "_view_count": null,
            "_view_module": "@jupyter-widgets/controls",
            "_view_module_version": "1.5.0",
            "_view_name": "HTMLView",
            "description": "",
            "description_tooltip": null,
            "layout": "IPY_MODEL_3480a5690d234d6b942db8d32d14daac",
            "placeholder": "​",
            "style": "IPY_MODEL_736a2126f3b3475481ce39bd956ccb5b",
            "value": "100%"
          }
        },
        "8d51c59aae694e6a83d1774b39fc26cd": {
          "model_module": "@jupyter-widgets/controls",
          "model_name": "FloatProgressModel",
          "model_module_version": "1.5.0",
          "state": {
            "_dom_classes": [],
            "_model_module": "@jupyter-widgets/controls",
            "_model_module_version": "1.5.0",
            "_model_name": "FloatProgressModel",
            "_view_count": null,
            "_view_module": "@jupyter-widgets/controls",
            "_view_module_version": "1.5.0",
            "_view_name": "ProgressView",
            "bar_style": "success",
            "description": "",
            "description_tooltip": null,
            "layout": "IPY_MODEL_28759b35596646a089deb5d18dcbfaee",
            "max": 15000,
            "min": 0,
            "orientation": "horizontal",
            "style": "IPY_MODEL_106b79c4316f471b8908d3874a09ec14",
            "value": 15000
          }
        },
        "1dc58f6acc1b41adbcc93212f9aae1c3": {
          "model_module": "@jupyter-widgets/controls",
          "model_name": "HTMLModel",
          "model_module_version": "1.5.0",
          "state": {
            "_dom_classes": [],
            "_model_module": "@jupyter-widgets/controls",
            "_model_module_version": "1.5.0",
            "_model_name": "HTMLModel",
            "_view_count": null,
            "_view_module": "@jupyter-widgets/controls",
            "_view_module_version": "1.5.0",
            "_view_name": "HTMLView",
            "description": "",
            "description_tooltip": null,
            "layout": "IPY_MODEL_b2e1ba6e6e784777b5236e5a7d05f5d8",
            "placeholder": "​",
            "style": "IPY_MODEL_02023848272b4e4381e128e771c6415f",
            "value": " 15000/15000 [03:53&lt;00:00, 65.12it/s]"
          }
        },
        "c02030819dbc4c3e9750094fbbb215cc": {
          "model_module": "@jupyter-widgets/base",
          "model_name": "LayoutModel",
          "model_module_version": "1.2.0",
          "state": {
            "_model_module": "@jupyter-widgets/base",
            "_model_module_version": "1.2.0",
            "_model_name": "LayoutModel",
            "_view_count": null,
            "_view_module": "@jupyter-widgets/base",
            "_view_module_version": "1.2.0",
            "_view_name": "LayoutView",
            "align_content": null,
            "align_items": null,
            "align_self": null,
            "border": null,
            "bottom": null,
            "display": null,
            "flex": null,
            "flex_flow": null,
            "grid_area": null,
            "grid_auto_columns": null,
            "grid_auto_flow": null,
            "grid_auto_rows": null,
            "grid_column": null,
            "grid_gap": null,
            "grid_row": null,
            "grid_template_areas": null,
            "grid_template_columns": null,
            "grid_template_rows": null,
            "height": null,
            "justify_content": null,
            "justify_items": null,
            "left": null,
            "margin": null,
            "max_height": null,
            "max_width": null,
            "min_height": null,
            "min_width": null,
            "object_fit": null,
            "object_position": null,
            "order": null,
            "overflow": null,
            "overflow_x": null,
            "overflow_y": null,
            "padding": null,
            "right": null,
            "top": null,
            "visibility": null,
            "width": null
          }
        },
        "3480a5690d234d6b942db8d32d14daac": {
          "model_module": "@jupyter-widgets/base",
          "model_name": "LayoutModel",
          "model_module_version": "1.2.0",
          "state": {
            "_model_module": "@jupyter-widgets/base",
            "_model_module_version": "1.2.0",
            "_model_name": "LayoutModel",
            "_view_count": null,
            "_view_module": "@jupyter-widgets/base",
            "_view_module_version": "1.2.0",
            "_view_name": "LayoutView",
            "align_content": null,
            "align_items": null,
            "align_self": null,
            "border": null,
            "bottom": null,
            "display": null,
            "flex": null,
            "flex_flow": null,
            "grid_area": null,
            "grid_auto_columns": null,
            "grid_auto_flow": null,
            "grid_auto_rows": null,
            "grid_column": null,
            "grid_gap": null,
            "grid_row": null,
            "grid_template_areas": null,
            "grid_template_columns": null,
            "grid_template_rows": null,
            "height": null,
            "justify_content": null,
            "justify_items": null,
            "left": null,
            "margin": null,
            "max_height": null,
            "max_width": null,
            "min_height": null,
            "min_width": null,
            "object_fit": null,
            "object_position": null,
            "order": null,
            "overflow": null,
            "overflow_x": null,
            "overflow_y": null,
            "padding": null,
            "right": null,
            "top": null,
            "visibility": null,
            "width": null
          }
        },
        "736a2126f3b3475481ce39bd956ccb5b": {
          "model_module": "@jupyter-widgets/controls",
          "model_name": "DescriptionStyleModel",
          "model_module_version": "1.5.0",
          "state": {
            "_model_module": "@jupyter-widgets/controls",
            "_model_module_version": "1.5.0",
            "_model_name": "DescriptionStyleModel",
            "_view_count": null,
            "_view_module": "@jupyter-widgets/base",
            "_view_module_version": "1.2.0",
            "_view_name": "StyleView",
            "description_width": ""
          }
        },
        "28759b35596646a089deb5d18dcbfaee": {
          "model_module": "@jupyter-widgets/base",
          "model_name": "LayoutModel",
          "model_module_version": "1.2.0",
          "state": {
            "_model_module": "@jupyter-widgets/base",
            "_model_module_version": "1.2.0",
            "_model_name": "LayoutModel",
            "_view_count": null,
            "_view_module": "@jupyter-widgets/base",
            "_view_module_version": "1.2.0",
            "_view_name": "LayoutView",
            "align_content": null,
            "align_items": null,
            "align_self": null,
            "border": null,
            "bottom": null,
            "display": null,
            "flex": null,
            "flex_flow": null,
            "grid_area": null,
            "grid_auto_columns": null,
            "grid_auto_flow": null,
            "grid_auto_rows": null,
            "grid_column": null,
            "grid_gap": null,
            "grid_row": null,
            "grid_template_areas": null,
            "grid_template_columns": null,
            "grid_template_rows": null,
            "height": null,
            "justify_content": null,
            "justify_items": null,
            "left": null,
            "margin": null,
            "max_height": null,
            "max_width": null,
            "min_height": null,
            "min_width": null,
            "object_fit": null,
            "object_position": null,
            "order": null,
            "overflow": null,
            "overflow_x": null,
            "overflow_y": null,
            "padding": null,
            "right": null,
            "top": null,
            "visibility": null,
            "width": null
          }
        },
        "106b79c4316f471b8908d3874a09ec14": {
          "model_module": "@jupyter-widgets/controls",
          "model_name": "ProgressStyleModel",
          "model_module_version": "1.5.0",
          "state": {
            "_model_module": "@jupyter-widgets/controls",
            "_model_module_version": "1.5.0",
            "_model_name": "ProgressStyleModel",
            "_view_count": null,
            "_view_module": "@jupyter-widgets/base",
            "_view_module_version": "1.2.0",
            "_view_name": "StyleView",
            "bar_color": null,
            "description_width": ""
          }
        },
        "b2e1ba6e6e784777b5236e5a7d05f5d8": {
          "model_module": "@jupyter-widgets/base",
          "model_name": "LayoutModel",
          "model_module_version": "1.2.0",
          "state": {
            "_model_module": "@jupyter-widgets/base",
            "_model_module_version": "1.2.0",
            "_model_name": "LayoutModel",
            "_view_count": null,
            "_view_module": "@jupyter-widgets/base",
            "_view_module_version": "1.2.0",
            "_view_name": "LayoutView",
            "align_content": null,
            "align_items": null,
            "align_self": null,
            "border": null,
            "bottom": null,
            "display": null,
            "flex": null,
            "flex_flow": null,
            "grid_area": null,
            "grid_auto_columns": null,
            "grid_auto_flow": null,
            "grid_auto_rows": null,
            "grid_column": null,
            "grid_gap": null,
            "grid_row": null,
            "grid_template_areas": null,
            "grid_template_columns": null,
            "grid_template_rows": null,
            "height": null,
            "justify_content": null,
            "justify_items": null,
            "left": null,
            "margin": null,
            "max_height": null,
            "max_width": null,
            "min_height": null,
            "min_width": null,
            "object_fit": null,
            "object_position": null,
            "order": null,
            "overflow": null,
            "overflow_x": null,
            "overflow_y": null,
            "padding": null,
            "right": null,
            "top": null,
            "visibility": null,
            "width": null
          }
        },
        "02023848272b4e4381e128e771c6415f": {
          "model_module": "@jupyter-widgets/controls",
          "model_name": "DescriptionStyleModel",
          "model_module_version": "1.5.0",
          "state": {
            "_model_module": "@jupyter-widgets/controls",
            "_model_module_version": "1.5.0",
            "_model_name": "DescriptionStyleModel",
            "_view_count": null,
            "_view_module": "@jupyter-widgets/base",
            "_view_module_version": "1.2.0",
            "_view_name": "StyleView",
            "description_width": ""
          }
        },
        "9b7d10d485c643edbd41a27de9bcad6d": {
          "model_module": "@jupyter-widgets/controls",
          "model_name": "HBoxModel",
          "model_module_version": "1.5.0",
          "state": {
            "_dom_classes": [],
            "_model_module": "@jupyter-widgets/controls",
            "_model_module_version": "1.5.0",
            "_model_name": "HBoxModel",
            "_view_count": null,
            "_view_module": "@jupyter-widgets/controls",
            "_view_module_version": "1.5.0",
            "_view_name": "HBoxView",
            "box_style": "",
            "children": [
              "IPY_MODEL_87ce3d43c7614af4b73561926af08009",
              "IPY_MODEL_cc58ae39290d433e8f0b0ce50675362c",
              "IPY_MODEL_e242c45fab9b449caf4a161373059773"
            ],
            "layout": "IPY_MODEL_4532501ecada49eea96b816343eec847"
          }
        },
        "87ce3d43c7614af4b73561926af08009": {
          "model_module": "@jupyter-widgets/controls",
          "model_name": "HTMLModel",
          "model_module_version": "1.5.0",
          "state": {
            "_dom_classes": [],
            "_model_module": "@jupyter-widgets/controls",
            "_model_module_version": "1.5.0",
            "_model_name": "HTMLModel",
            "_view_count": null,
            "_view_module": "@jupyter-widgets/controls",
            "_view_module_version": "1.5.0",
            "_view_name": "HTMLView",
            "description": "",
            "description_tooltip": null,
            "layout": "IPY_MODEL_2cc59fe055364516a594842ce902139f",
            "placeholder": "​",
            "style": "IPY_MODEL_a7289c301ba048aca5ca902ef7366abe",
            "value": "100%"
          }
        },
        "cc58ae39290d433e8f0b0ce50675362c": {
          "model_module": "@jupyter-widgets/controls",
          "model_name": "FloatProgressModel",
          "model_module_version": "1.5.0",
          "state": {
            "_dom_classes": [],
            "_model_module": "@jupyter-widgets/controls",
            "_model_module_version": "1.5.0",
            "_model_name": "FloatProgressModel",
            "_view_count": null,
            "_view_module": "@jupyter-widgets/controls",
            "_view_module_version": "1.5.0",
            "_view_name": "ProgressView",
            "bar_style": "success",
            "description": "",
            "description_tooltip": null,
            "layout": "IPY_MODEL_f039ee06db034f9dbb6472cdcc6b662a",
            "max": 1500,
            "min": 0,
            "orientation": "horizontal",
            "style": "IPY_MODEL_3b4ecea1ac1841b38b4389e12ce62cf4",
            "value": 1500
          }
        },
        "e242c45fab9b449caf4a161373059773": {
          "model_module": "@jupyter-widgets/controls",
          "model_name": "HTMLModel",
          "model_module_version": "1.5.0",
          "state": {
            "_dom_classes": [],
            "_model_module": "@jupyter-widgets/controls",
            "_model_module_version": "1.5.0",
            "_model_name": "HTMLModel",
            "_view_count": null,
            "_view_module": "@jupyter-widgets/controls",
            "_view_module_version": "1.5.0",
            "_view_name": "HTMLView",
            "description": "",
            "description_tooltip": null,
            "layout": "IPY_MODEL_e74530dd3d7c407c9cab9c8796df5585",
            "placeholder": "​",
            "style": "IPY_MODEL_c78296a631e442e3bda93a116db98cc4",
            "value": " 1500/1500 [01:02&lt;00:00, 21.89it/s]"
          }
        },
        "4532501ecada49eea96b816343eec847": {
          "model_module": "@jupyter-widgets/base",
          "model_name": "LayoutModel",
          "model_module_version": "1.2.0",
          "state": {
            "_model_module": "@jupyter-widgets/base",
            "_model_module_version": "1.2.0",
            "_model_name": "LayoutModel",
            "_view_count": null,
            "_view_module": "@jupyter-widgets/base",
            "_view_module_version": "1.2.0",
            "_view_name": "LayoutView",
            "align_content": null,
            "align_items": null,
            "align_self": null,
            "border": null,
            "bottom": null,
            "display": null,
            "flex": null,
            "flex_flow": null,
            "grid_area": null,
            "grid_auto_columns": null,
            "grid_auto_flow": null,
            "grid_auto_rows": null,
            "grid_column": null,
            "grid_gap": null,
            "grid_row": null,
            "grid_template_areas": null,
            "grid_template_columns": null,
            "grid_template_rows": null,
            "height": null,
            "justify_content": null,
            "justify_items": null,
            "left": null,
            "margin": null,
            "max_height": null,
            "max_width": null,
            "min_height": null,
            "min_width": null,
            "object_fit": null,
            "object_position": null,
            "order": null,
            "overflow": null,
            "overflow_x": null,
            "overflow_y": null,
            "padding": null,
            "right": null,
            "top": null,
            "visibility": null,
            "width": null
          }
        },
        "2cc59fe055364516a594842ce902139f": {
          "model_module": "@jupyter-widgets/base",
          "model_name": "LayoutModel",
          "model_module_version": "1.2.0",
          "state": {
            "_model_module": "@jupyter-widgets/base",
            "_model_module_version": "1.2.0",
            "_model_name": "LayoutModel",
            "_view_count": null,
            "_view_module": "@jupyter-widgets/base",
            "_view_module_version": "1.2.0",
            "_view_name": "LayoutView",
            "align_content": null,
            "align_items": null,
            "align_self": null,
            "border": null,
            "bottom": null,
            "display": null,
            "flex": null,
            "flex_flow": null,
            "grid_area": null,
            "grid_auto_columns": null,
            "grid_auto_flow": null,
            "grid_auto_rows": null,
            "grid_column": null,
            "grid_gap": null,
            "grid_row": null,
            "grid_template_areas": null,
            "grid_template_columns": null,
            "grid_template_rows": null,
            "height": null,
            "justify_content": null,
            "justify_items": null,
            "left": null,
            "margin": null,
            "max_height": null,
            "max_width": null,
            "min_height": null,
            "min_width": null,
            "object_fit": null,
            "object_position": null,
            "order": null,
            "overflow": null,
            "overflow_x": null,
            "overflow_y": null,
            "padding": null,
            "right": null,
            "top": null,
            "visibility": null,
            "width": null
          }
        },
        "a7289c301ba048aca5ca902ef7366abe": {
          "model_module": "@jupyter-widgets/controls",
          "model_name": "DescriptionStyleModel",
          "model_module_version": "1.5.0",
          "state": {
            "_model_module": "@jupyter-widgets/controls",
            "_model_module_version": "1.5.0",
            "_model_name": "DescriptionStyleModel",
            "_view_count": null,
            "_view_module": "@jupyter-widgets/base",
            "_view_module_version": "1.2.0",
            "_view_name": "StyleView",
            "description_width": ""
          }
        },
        "f039ee06db034f9dbb6472cdcc6b662a": {
          "model_module": "@jupyter-widgets/base",
          "model_name": "LayoutModel",
          "model_module_version": "1.2.0",
          "state": {
            "_model_module": "@jupyter-widgets/base",
            "_model_module_version": "1.2.0",
            "_model_name": "LayoutModel",
            "_view_count": null,
            "_view_module": "@jupyter-widgets/base",
            "_view_module_version": "1.2.0",
            "_view_name": "LayoutView",
            "align_content": null,
            "align_items": null,
            "align_self": null,
            "border": null,
            "bottom": null,
            "display": null,
            "flex": null,
            "flex_flow": null,
            "grid_area": null,
            "grid_auto_columns": null,
            "grid_auto_flow": null,
            "grid_auto_rows": null,
            "grid_column": null,
            "grid_gap": null,
            "grid_row": null,
            "grid_template_areas": null,
            "grid_template_columns": null,
            "grid_template_rows": null,
            "height": null,
            "justify_content": null,
            "justify_items": null,
            "left": null,
            "margin": null,
            "max_height": null,
            "max_width": null,
            "min_height": null,
            "min_width": null,
            "object_fit": null,
            "object_position": null,
            "order": null,
            "overflow": null,
            "overflow_x": null,
            "overflow_y": null,
            "padding": null,
            "right": null,
            "top": null,
            "visibility": null,
            "width": null
          }
        },
        "3b4ecea1ac1841b38b4389e12ce62cf4": {
          "model_module": "@jupyter-widgets/controls",
          "model_name": "ProgressStyleModel",
          "model_module_version": "1.5.0",
          "state": {
            "_model_module": "@jupyter-widgets/controls",
            "_model_module_version": "1.5.0",
            "_model_name": "ProgressStyleModel",
            "_view_count": null,
            "_view_module": "@jupyter-widgets/base",
            "_view_module_version": "1.2.0",
            "_view_name": "StyleView",
            "bar_color": null,
            "description_width": ""
          }
        },
        "e74530dd3d7c407c9cab9c8796df5585": {
          "model_module": "@jupyter-widgets/base",
          "model_name": "LayoutModel",
          "model_module_version": "1.2.0",
          "state": {
            "_model_module": "@jupyter-widgets/base",
            "_model_module_version": "1.2.0",
            "_model_name": "LayoutModel",
            "_view_count": null,
            "_view_module": "@jupyter-widgets/base",
            "_view_module_version": "1.2.0",
            "_view_name": "LayoutView",
            "align_content": null,
            "align_items": null,
            "align_self": null,
            "border": null,
            "bottom": null,
            "display": null,
            "flex": null,
            "flex_flow": null,
            "grid_area": null,
            "grid_auto_columns": null,
            "grid_auto_flow": null,
            "grid_auto_rows": null,
            "grid_column": null,
            "grid_gap": null,
            "grid_row": null,
            "grid_template_areas": null,
            "grid_template_columns": null,
            "grid_template_rows": null,
            "height": null,
            "justify_content": null,
            "justify_items": null,
            "left": null,
            "margin": null,
            "max_height": null,
            "max_width": null,
            "min_height": null,
            "min_width": null,
            "object_fit": null,
            "object_position": null,
            "order": null,
            "overflow": null,
            "overflow_x": null,
            "overflow_y": null,
            "padding": null,
            "right": null,
            "top": null,
            "visibility": null,
            "width": null
          }
        },
        "c78296a631e442e3bda93a116db98cc4": {
          "model_module": "@jupyter-widgets/controls",
          "model_name": "DescriptionStyleModel",
          "model_module_version": "1.5.0",
          "state": {
            "_model_module": "@jupyter-widgets/controls",
            "_model_module_version": "1.5.0",
            "_model_name": "DescriptionStyleModel",
            "_view_count": null,
            "_view_module": "@jupyter-widgets/base",
            "_view_module_version": "1.2.0",
            "_view_name": "StyleView",
            "description_width": ""
          }
        },
        "9e681eccf5244697a44cc57466c05367": {
          "model_module": "@jupyter-widgets/controls",
          "model_name": "HBoxModel",
          "model_module_version": "1.5.0",
          "state": {
            "_dom_classes": [],
            "_model_module": "@jupyter-widgets/controls",
            "_model_module_version": "1.5.0",
            "_model_name": "HBoxModel",
            "_view_count": null,
            "_view_module": "@jupyter-widgets/controls",
            "_view_module_version": "1.5.0",
            "_view_name": "HBoxView",
            "box_style": "",
            "children": [
              "IPY_MODEL_81b596dae2114646a9c8c2df9372ecbf",
              "IPY_MODEL_43473d3da45b4455a5eaefa5c74aa263",
              "IPY_MODEL_0bf87d537b3543c288f83a00ef36c9f9"
            ],
            "layout": "IPY_MODEL_2e7bb048d1ac42938f34c1970c4e1456"
          }
        },
        "81b596dae2114646a9c8c2df9372ecbf": {
          "model_module": "@jupyter-widgets/controls",
          "model_name": "HTMLModel",
          "model_module_version": "1.5.0",
          "state": {
            "_dom_classes": [],
            "_model_module": "@jupyter-widgets/controls",
            "_model_module_version": "1.5.0",
            "_model_name": "HTMLModel",
            "_view_count": null,
            "_view_module": "@jupyter-widgets/controls",
            "_view_module_version": "1.5.0",
            "_view_name": "HTMLView",
            "description": "",
            "description_tooltip": null,
            "layout": "IPY_MODEL_b800e41abb41474187304a20204fc608",
            "placeholder": "​",
            "style": "IPY_MODEL_ba2bc00fac4f4f499fd2d62eca099521",
            "value": "100%"
          }
        },
        "43473d3da45b4455a5eaefa5c74aa263": {
          "model_module": "@jupyter-widgets/controls",
          "model_name": "FloatProgressModel",
          "model_module_version": "1.5.0",
          "state": {
            "_dom_classes": [],
            "_model_module": "@jupyter-widgets/controls",
            "_model_module_version": "1.5.0",
            "_model_name": "FloatProgressModel",
            "_view_count": null,
            "_view_module": "@jupyter-widgets/controls",
            "_view_module_version": "1.5.0",
            "_view_name": "ProgressView",
            "bar_style": "success",
            "description": "",
            "description_tooltip": null,
            "layout": "IPY_MODEL_6fc59f053edb4d91a813345179f7118d",
            "max": 4000,
            "min": 0,
            "orientation": "horizontal",
            "style": "IPY_MODEL_63d0625691e44f938f9c38e9f325de61",
            "value": 4000
          }
        },
        "0bf87d537b3543c288f83a00ef36c9f9": {
          "model_module": "@jupyter-widgets/controls",
          "model_name": "HTMLModel",
          "model_module_version": "1.5.0",
          "state": {
            "_dom_classes": [],
            "_model_module": "@jupyter-widgets/controls",
            "_model_module_version": "1.5.0",
            "_model_name": "HTMLModel",
            "_view_count": null,
            "_view_module": "@jupyter-widgets/controls",
            "_view_module_version": "1.5.0",
            "_view_name": "HTMLView",
            "description": "",
            "description_tooltip": null,
            "layout": "IPY_MODEL_0a5a7504f3224277ace2a2d780dd8f19",
            "placeholder": "​",
            "style": "IPY_MODEL_c203908df7e94694b6fcbb88cebaef42",
            "value": " 4000/4000 [02:48&lt;00:00, 23.42it/s]"
          }
        },
        "2e7bb048d1ac42938f34c1970c4e1456": {
          "model_module": "@jupyter-widgets/base",
          "model_name": "LayoutModel",
          "model_module_version": "1.2.0",
          "state": {
            "_model_module": "@jupyter-widgets/base",
            "_model_module_version": "1.2.0",
            "_model_name": "LayoutModel",
            "_view_count": null,
            "_view_module": "@jupyter-widgets/base",
            "_view_module_version": "1.2.0",
            "_view_name": "LayoutView",
            "align_content": null,
            "align_items": null,
            "align_self": null,
            "border": null,
            "bottom": null,
            "display": null,
            "flex": null,
            "flex_flow": null,
            "grid_area": null,
            "grid_auto_columns": null,
            "grid_auto_flow": null,
            "grid_auto_rows": null,
            "grid_column": null,
            "grid_gap": null,
            "grid_row": null,
            "grid_template_areas": null,
            "grid_template_columns": null,
            "grid_template_rows": null,
            "height": null,
            "justify_content": null,
            "justify_items": null,
            "left": null,
            "margin": null,
            "max_height": null,
            "max_width": null,
            "min_height": null,
            "min_width": null,
            "object_fit": null,
            "object_position": null,
            "order": null,
            "overflow": null,
            "overflow_x": null,
            "overflow_y": null,
            "padding": null,
            "right": null,
            "top": null,
            "visibility": null,
            "width": null
          }
        },
        "b800e41abb41474187304a20204fc608": {
          "model_module": "@jupyter-widgets/base",
          "model_name": "LayoutModel",
          "model_module_version": "1.2.0",
          "state": {
            "_model_module": "@jupyter-widgets/base",
            "_model_module_version": "1.2.0",
            "_model_name": "LayoutModel",
            "_view_count": null,
            "_view_module": "@jupyter-widgets/base",
            "_view_module_version": "1.2.0",
            "_view_name": "LayoutView",
            "align_content": null,
            "align_items": null,
            "align_self": null,
            "border": null,
            "bottom": null,
            "display": null,
            "flex": null,
            "flex_flow": null,
            "grid_area": null,
            "grid_auto_columns": null,
            "grid_auto_flow": null,
            "grid_auto_rows": null,
            "grid_column": null,
            "grid_gap": null,
            "grid_row": null,
            "grid_template_areas": null,
            "grid_template_columns": null,
            "grid_template_rows": null,
            "height": null,
            "justify_content": null,
            "justify_items": null,
            "left": null,
            "margin": null,
            "max_height": null,
            "max_width": null,
            "min_height": null,
            "min_width": null,
            "object_fit": null,
            "object_position": null,
            "order": null,
            "overflow": null,
            "overflow_x": null,
            "overflow_y": null,
            "padding": null,
            "right": null,
            "top": null,
            "visibility": null,
            "width": null
          }
        },
        "ba2bc00fac4f4f499fd2d62eca099521": {
          "model_module": "@jupyter-widgets/controls",
          "model_name": "DescriptionStyleModel",
          "model_module_version": "1.5.0",
          "state": {
            "_model_module": "@jupyter-widgets/controls",
            "_model_module_version": "1.5.0",
            "_model_name": "DescriptionStyleModel",
            "_view_count": null,
            "_view_module": "@jupyter-widgets/base",
            "_view_module_version": "1.2.0",
            "_view_name": "StyleView",
            "description_width": ""
          }
        },
        "6fc59f053edb4d91a813345179f7118d": {
          "model_module": "@jupyter-widgets/base",
          "model_name": "LayoutModel",
          "model_module_version": "1.2.0",
          "state": {
            "_model_module": "@jupyter-widgets/base",
            "_model_module_version": "1.2.0",
            "_model_name": "LayoutModel",
            "_view_count": null,
            "_view_module": "@jupyter-widgets/base",
            "_view_module_version": "1.2.0",
            "_view_name": "LayoutView",
            "align_content": null,
            "align_items": null,
            "align_self": null,
            "border": null,
            "bottom": null,
            "display": null,
            "flex": null,
            "flex_flow": null,
            "grid_area": null,
            "grid_auto_columns": null,
            "grid_auto_flow": null,
            "grid_auto_rows": null,
            "grid_column": null,
            "grid_gap": null,
            "grid_row": null,
            "grid_template_areas": null,
            "grid_template_columns": null,
            "grid_template_rows": null,
            "height": null,
            "justify_content": null,
            "justify_items": null,
            "left": null,
            "margin": null,
            "max_height": null,
            "max_width": null,
            "min_height": null,
            "min_width": null,
            "object_fit": null,
            "object_position": null,
            "order": null,
            "overflow": null,
            "overflow_x": null,
            "overflow_y": null,
            "padding": null,
            "right": null,
            "top": null,
            "visibility": null,
            "width": null
          }
        },
        "63d0625691e44f938f9c38e9f325de61": {
          "model_module": "@jupyter-widgets/controls",
          "model_name": "ProgressStyleModel",
          "model_module_version": "1.5.0",
          "state": {
            "_model_module": "@jupyter-widgets/controls",
            "_model_module_version": "1.5.0",
            "_model_name": "ProgressStyleModel",
            "_view_count": null,
            "_view_module": "@jupyter-widgets/base",
            "_view_module_version": "1.2.0",
            "_view_name": "StyleView",
            "bar_color": null,
            "description_width": ""
          }
        },
        "0a5a7504f3224277ace2a2d780dd8f19": {
          "model_module": "@jupyter-widgets/base",
          "model_name": "LayoutModel",
          "model_module_version": "1.2.0",
          "state": {
            "_model_module": "@jupyter-widgets/base",
            "_model_module_version": "1.2.0",
            "_model_name": "LayoutModel",
            "_view_count": null,
            "_view_module": "@jupyter-widgets/base",
            "_view_module_version": "1.2.0",
            "_view_name": "LayoutView",
            "align_content": null,
            "align_items": null,
            "align_self": null,
            "border": null,
            "bottom": null,
            "display": null,
            "flex": null,
            "flex_flow": null,
            "grid_area": null,
            "grid_auto_columns": null,
            "grid_auto_flow": null,
            "grid_auto_rows": null,
            "grid_column": null,
            "grid_gap": null,
            "grid_row": null,
            "grid_template_areas": null,
            "grid_template_columns": null,
            "grid_template_rows": null,
            "height": null,
            "justify_content": null,
            "justify_items": null,
            "left": null,
            "margin": null,
            "max_height": null,
            "max_width": null,
            "min_height": null,
            "min_width": null,
            "object_fit": null,
            "object_position": null,
            "order": null,
            "overflow": null,
            "overflow_x": null,
            "overflow_y": null,
            "padding": null,
            "right": null,
            "top": null,
            "visibility": null,
            "width": null
          }
        },
        "c203908df7e94694b6fcbb88cebaef42": {
          "model_module": "@jupyter-widgets/controls",
          "model_name": "DescriptionStyleModel",
          "model_module_version": "1.5.0",
          "state": {
            "_model_module": "@jupyter-widgets/controls",
            "_model_module_version": "1.5.0",
            "_model_name": "DescriptionStyleModel",
            "_view_count": null,
            "_view_module": "@jupyter-widgets/base",
            "_view_module_version": "1.2.0",
            "_view_name": "StyleView",
            "description_width": ""
          }
        },
        "58eac51fb1544dd783a6f03a71b37304": {
          "model_module": "@jupyter-widgets/controls",
          "model_name": "HBoxModel",
          "model_module_version": "1.5.0",
          "state": {
            "_dom_classes": [],
            "_model_module": "@jupyter-widgets/controls",
            "_model_module_version": "1.5.0",
            "_model_name": "HBoxModel",
            "_view_count": null,
            "_view_module": "@jupyter-widgets/controls",
            "_view_module_version": "1.5.0",
            "_view_name": "HBoxView",
            "box_style": "",
            "children": [
              "IPY_MODEL_aeebe73c901942ecad84070acc40b0ea",
              "IPY_MODEL_5e8b57ecf06e419f80cd00dd7eae4b35",
              "IPY_MODEL_48f0f918e1be4c69a736510f2f7e606d"
            ],
            "layout": "IPY_MODEL_eb9a584ad1a54924b3f1d7936fa4db10"
          }
        },
        "aeebe73c901942ecad84070acc40b0ea": {
          "model_module": "@jupyter-widgets/controls",
          "model_name": "HTMLModel",
          "model_module_version": "1.5.0",
          "state": {
            "_dom_classes": [],
            "_model_module": "@jupyter-widgets/controls",
            "_model_module_version": "1.5.0",
            "_model_name": "HTMLModel",
            "_view_count": null,
            "_view_module": "@jupyter-widgets/controls",
            "_view_module_version": "1.5.0",
            "_view_name": "HTMLView",
            "description": "",
            "description_tooltip": null,
            "layout": "IPY_MODEL_5f0cdd9e0aec4a46b6bc32edac2d296a",
            "placeholder": "​",
            "style": "IPY_MODEL_08cf8bba6003487bbf00a16aa4495b83",
            "value": "100%"
          }
        },
        "5e8b57ecf06e419f80cd00dd7eae4b35": {
          "model_module": "@jupyter-widgets/controls",
          "model_name": "FloatProgressModel",
          "model_module_version": "1.5.0",
          "state": {
            "_dom_classes": [],
            "_model_module": "@jupyter-widgets/controls",
            "_model_module_version": "1.5.0",
            "_model_name": "FloatProgressModel",
            "_view_count": null,
            "_view_module": "@jupyter-widgets/controls",
            "_view_module_version": "1.5.0",
            "_view_name": "ProgressView",
            "bar_style": "success",
            "description": "",
            "description_tooltip": null,
            "layout": "IPY_MODEL_f1a28aab404649f6bf6efe52b5e6b1b1",
            "max": 15000,
            "min": 0,
            "orientation": "horizontal",
            "style": "IPY_MODEL_87afc31190df4a8b8fac61762c1c4197",
            "value": 15000
          }
        },
        "48f0f918e1be4c69a736510f2f7e606d": {
          "model_module": "@jupyter-widgets/controls",
          "model_name": "HTMLModel",
          "model_module_version": "1.5.0",
          "state": {
            "_dom_classes": [],
            "_model_module": "@jupyter-widgets/controls",
            "_model_module_version": "1.5.0",
            "_model_name": "HTMLModel",
            "_view_count": null,
            "_view_module": "@jupyter-widgets/controls",
            "_view_module_version": "1.5.0",
            "_view_name": "HTMLView",
            "description": "",
            "description_tooltip": null,
            "layout": "IPY_MODEL_f618ef256f1641a6b8d7beca558b8332",
            "placeholder": "​",
            "style": "IPY_MODEL_a0c7a96877514c75a775e624243e8283",
            "value": " 15000/15000 [10:29&lt;00:00, 22.88it/s]"
          }
        },
        "eb9a584ad1a54924b3f1d7936fa4db10": {
          "model_module": "@jupyter-widgets/base",
          "model_name": "LayoutModel",
          "model_module_version": "1.2.0",
          "state": {
            "_model_module": "@jupyter-widgets/base",
            "_model_module_version": "1.2.0",
            "_model_name": "LayoutModel",
            "_view_count": null,
            "_view_module": "@jupyter-widgets/base",
            "_view_module_version": "1.2.0",
            "_view_name": "LayoutView",
            "align_content": null,
            "align_items": null,
            "align_self": null,
            "border": null,
            "bottom": null,
            "display": null,
            "flex": null,
            "flex_flow": null,
            "grid_area": null,
            "grid_auto_columns": null,
            "grid_auto_flow": null,
            "grid_auto_rows": null,
            "grid_column": null,
            "grid_gap": null,
            "grid_row": null,
            "grid_template_areas": null,
            "grid_template_columns": null,
            "grid_template_rows": null,
            "height": null,
            "justify_content": null,
            "justify_items": null,
            "left": null,
            "margin": null,
            "max_height": null,
            "max_width": null,
            "min_height": null,
            "min_width": null,
            "object_fit": null,
            "object_position": null,
            "order": null,
            "overflow": null,
            "overflow_x": null,
            "overflow_y": null,
            "padding": null,
            "right": null,
            "top": null,
            "visibility": null,
            "width": null
          }
        },
        "5f0cdd9e0aec4a46b6bc32edac2d296a": {
          "model_module": "@jupyter-widgets/base",
          "model_name": "LayoutModel",
          "model_module_version": "1.2.0",
          "state": {
            "_model_module": "@jupyter-widgets/base",
            "_model_module_version": "1.2.0",
            "_model_name": "LayoutModel",
            "_view_count": null,
            "_view_module": "@jupyter-widgets/base",
            "_view_module_version": "1.2.0",
            "_view_name": "LayoutView",
            "align_content": null,
            "align_items": null,
            "align_self": null,
            "border": null,
            "bottom": null,
            "display": null,
            "flex": null,
            "flex_flow": null,
            "grid_area": null,
            "grid_auto_columns": null,
            "grid_auto_flow": null,
            "grid_auto_rows": null,
            "grid_column": null,
            "grid_gap": null,
            "grid_row": null,
            "grid_template_areas": null,
            "grid_template_columns": null,
            "grid_template_rows": null,
            "height": null,
            "justify_content": null,
            "justify_items": null,
            "left": null,
            "margin": null,
            "max_height": null,
            "max_width": null,
            "min_height": null,
            "min_width": null,
            "object_fit": null,
            "object_position": null,
            "order": null,
            "overflow": null,
            "overflow_x": null,
            "overflow_y": null,
            "padding": null,
            "right": null,
            "top": null,
            "visibility": null,
            "width": null
          }
        },
        "08cf8bba6003487bbf00a16aa4495b83": {
          "model_module": "@jupyter-widgets/controls",
          "model_name": "DescriptionStyleModel",
          "model_module_version": "1.5.0",
          "state": {
            "_model_module": "@jupyter-widgets/controls",
            "_model_module_version": "1.5.0",
            "_model_name": "DescriptionStyleModel",
            "_view_count": null,
            "_view_module": "@jupyter-widgets/base",
            "_view_module_version": "1.2.0",
            "_view_name": "StyleView",
            "description_width": ""
          }
        },
        "f1a28aab404649f6bf6efe52b5e6b1b1": {
          "model_module": "@jupyter-widgets/base",
          "model_name": "LayoutModel",
          "model_module_version": "1.2.0",
          "state": {
            "_model_module": "@jupyter-widgets/base",
            "_model_module_version": "1.2.0",
            "_model_name": "LayoutModel",
            "_view_count": null,
            "_view_module": "@jupyter-widgets/base",
            "_view_module_version": "1.2.0",
            "_view_name": "LayoutView",
            "align_content": null,
            "align_items": null,
            "align_self": null,
            "border": null,
            "bottom": null,
            "display": null,
            "flex": null,
            "flex_flow": null,
            "grid_area": null,
            "grid_auto_columns": null,
            "grid_auto_flow": null,
            "grid_auto_rows": null,
            "grid_column": null,
            "grid_gap": null,
            "grid_row": null,
            "grid_template_areas": null,
            "grid_template_columns": null,
            "grid_template_rows": null,
            "height": null,
            "justify_content": null,
            "justify_items": null,
            "left": null,
            "margin": null,
            "max_height": null,
            "max_width": null,
            "min_height": null,
            "min_width": null,
            "object_fit": null,
            "object_position": null,
            "order": null,
            "overflow": null,
            "overflow_x": null,
            "overflow_y": null,
            "padding": null,
            "right": null,
            "top": null,
            "visibility": null,
            "width": null
          }
        },
        "87afc31190df4a8b8fac61762c1c4197": {
          "model_module": "@jupyter-widgets/controls",
          "model_name": "ProgressStyleModel",
          "model_module_version": "1.5.0",
          "state": {
            "_model_module": "@jupyter-widgets/controls",
            "_model_module_version": "1.5.0",
            "_model_name": "ProgressStyleModel",
            "_view_count": null,
            "_view_module": "@jupyter-widgets/base",
            "_view_module_version": "1.2.0",
            "_view_name": "StyleView",
            "bar_color": null,
            "description_width": ""
          }
        },
        "f618ef256f1641a6b8d7beca558b8332": {
          "model_module": "@jupyter-widgets/base",
          "model_name": "LayoutModel",
          "model_module_version": "1.2.0",
          "state": {
            "_model_module": "@jupyter-widgets/base",
            "_model_module_version": "1.2.0",
            "_model_name": "LayoutModel",
            "_view_count": null,
            "_view_module": "@jupyter-widgets/base",
            "_view_module_version": "1.2.0",
            "_view_name": "LayoutView",
            "align_content": null,
            "align_items": null,
            "align_self": null,
            "border": null,
            "bottom": null,
            "display": null,
            "flex": null,
            "flex_flow": null,
            "grid_area": null,
            "grid_auto_columns": null,
            "grid_auto_flow": null,
            "grid_auto_rows": null,
            "grid_column": null,
            "grid_gap": null,
            "grid_row": null,
            "grid_template_areas": null,
            "grid_template_columns": null,
            "grid_template_rows": null,
            "height": null,
            "justify_content": null,
            "justify_items": null,
            "left": null,
            "margin": null,
            "max_height": null,
            "max_width": null,
            "min_height": null,
            "min_width": null,
            "object_fit": null,
            "object_position": null,
            "order": null,
            "overflow": null,
            "overflow_x": null,
            "overflow_y": null,
            "padding": null,
            "right": null,
            "top": null,
            "visibility": null,
            "width": null
          }
        },
        "a0c7a96877514c75a775e624243e8283": {
          "model_module": "@jupyter-widgets/controls",
          "model_name": "DescriptionStyleModel",
          "model_module_version": "1.5.0",
          "state": {
            "_model_module": "@jupyter-widgets/controls",
            "_model_module_version": "1.5.0",
            "_model_name": "DescriptionStyleModel",
            "_view_count": null,
            "_view_module": "@jupyter-widgets/base",
            "_view_module_version": "1.2.0",
            "_view_name": "StyleView",
            "description_width": ""
          }
        },
        "4f2f7312d0274ff99a4c94828b1fea2d": {
          "model_module": "@jupyter-widgets/controls",
          "model_name": "HBoxModel",
          "model_module_version": "1.5.0",
          "state": {
            "_dom_classes": [],
            "_model_module": "@jupyter-widgets/controls",
            "_model_module_version": "1.5.0",
            "_model_name": "HBoxModel",
            "_view_count": null,
            "_view_module": "@jupyter-widgets/controls",
            "_view_module_version": "1.5.0",
            "_view_name": "HBoxView",
            "box_style": "",
            "children": [
              "IPY_MODEL_608081de7b434915bca5997b388b257b",
              "IPY_MODEL_e9251f37c44b4b52a106a87d4a10b652",
              "IPY_MODEL_e07ac862ac3b4237881049c44d0a0f3a"
            ],
            "layout": "IPY_MODEL_69bee99cca964dee9f4a5a987683770c"
          }
        },
        "608081de7b434915bca5997b388b257b": {
          "model_module": "@jupyter-widgets/controls",
          "model_name": "HTMLModel",
          "model_module_version": "1.5.0",
          "state": {
            "_dom_classes": [],
            "_model_module": "@jupyter-widgets/controls",
            "_model_module_version": "1.5.0",
            "_model_name": "HTMLModel",
            "_view_count": null,
            "_view_module": "@jupyter-widgets/controls",
            "_view_module_version": "1.5.0",
            "_view_name": "HTMLView",
            "description": "",
            "description_tooltip": null,
            "layout": "IPY_MODEL_cafc12a660214bdb9a39810a52168f25",
            "placeholder": "​",
            "style": "IPY_MODEL_2ab20ab3a1c74799a4bebd666a9b9d0c",
            "value": "100%"
          }
        },
        "e9251f37c44b4b52a106a87d4a10b652": {
          "model_module": "@jupyter-widgets/controls",
          "model_name": "FloatProgressModel",
          "model_module_version": "1.5.0",
          "state": {
            "_dom_classes": [],
            "_model_module": "@jupyter-widgets/controls",
            "_model_module_version": "1.5.0",
            "_model_name": "FloatProgressModel",
            "_view_count": null,
            "_view_module": "@jupyter-widgets/controls",
            "_view_module_version": "1.5.0",
            "_view_name": "ProgressView",
            "bar_style": "success",
            "description": "",
            "description_tooltip": null,
            "layout": "IPY_MODEL_c9b6bd30d09a47b5bb9327daa0b3e778",
            "max": 30000,
            "min": 0,
            "orientation": "horizontal",
            "style": "IPY_MODEL_fcfb1c5bf62b46ae83889e206ac49b26",
            "value": 30000
          }
        },
        "e07ac862ac3b4237881049c44d0a0f3a": {
          "model_module": "@jupyter-widgets/controls",
          "model_name": "HTMLModel",
          "model_module_version": "1.5.0",
          "state": {
            "_dom_classes": [],
            "_model_module": "@jupyter-widgets/controls",
            "_model_module_version": "1.5.0",
            "_model_name": "HTMLModel",
            "_view_count": null,
            "_view_module": "@jupyter-widgets/controls",
            "_view_module_version": "1.5.0",
            "_view_name": "HTMLView",
            "description": "",
            "description_tooltip": null,
            "layout": "IPY_MODEL_e10106fb0c7947f59502e6f67083857c",
            "placeholder": "​",
            "style": "IPY_MODEL_df9f2ee786754d0688d71978d928552b",
            "value": " 30000/30000 [03:29&lt;00:00, 163.25it/s]"
          }
        },
        "69bee99cca964dee9f4a5a987683770c": {
          "model_module": "@jupyter-widgets/base",
          "model_name": "LayoutModel",
          "model_module_version": "1.2.0",
          "state": {
            "_model_module": "@jupyter-widgets/base",
            "_model_module_version": "1.2.0",
            "_model_name": "LayoutModel",
            "_view_count": null,
            "_view_module": "@jupyter-widgets/base",
            "_view_module_version": "1.2.0",
            "_view_name": "LayoutView",
            "align_content": null,
            "align_items": null,
            "align_self": null,
            "border": null,
            "bottom": null,
            "display": null,
            "flex": null,
            "flex_flow": null,
            "grid_area": null,
            "grid_auto_columns": null,
            "grid_auto_flow": null,
            "grid_auto_rows": null,
            "grid_column": null,
            "grid_gap": null,
            "grid_row": null,
            "grid_template_areas": null,
            "grid_template_columns": null,
            "grid_template_rows": null,
            "height": null,
            "justify_content": null,
            "justify_items": null,
            "left": null,
            "margin": null,
            "max_height": null,
            "max_width": null,
            "min_height": null,
            "min_width": null,
            "object_fit": null,
            "object_position": null,
            "order": null,
            "overflow": null,
            "overflow_x": null,
            "overflow_y": null,
            "padding": null,
            "right": null,
            "top": null,
            "visibility": null,
            "width": null
          }
        },
        "cafc12a660214bdb9a39810a52168f25": {
          "model_module": "@jupyter-widgets/base",
          "model_name": "LayoutModel",
          "model_module_version": "1.2.0",
          "state": {
            "_model_module": "@jupyter-widgets/base",
            "_model_module_version": "1.2.0",
            "_model_name": "LayoutModel",
            "_view_count": null,
            "_view_module": "@jupyter-widgets/base",
            "_view_module_version": "1.2.0",
            "_view_name": "LayoutView",
            "align_content": null,
            "align_items": null,
            "align_self": null,
            "border": null,
            "bottom": null,
            "display": null,
            "flex": null,
            "flex_flow": null,
            "grid_area": null,
            "grid_auto_columns": null,
            "grid_auto_flow": null,
            "grid_auto_rows": null,
            "grid_column": null,
            "grid_gap": null,
            "grid_row": null,
            "grid_template_areas": null,
            "grid_template_columns": null,
            "grid_template_rows": null,
            "height": null,
            "justify_content": null,
            "justify_items": null,
            "left": null,
            "margin": null,
            "max_height": null,
            "max_width": null,
            "min_height": null,
            "min_width": null,
            "object_fit": null,
            "object_position": null,
            "order": null,
            "overflow": null,
            "overflow_x": null,
            "overflow_y": null,
            "padding": null,
            "right": null,
            "top": null,
            "visibility": null,
            "width": null
          }
        },
        "2ab20ab3a1c74799a4bebd666a9b9d0c": {
          "model_module": "@jupyter-widgets/controls",
          "model_name": "DescriptionStyleModel",
          "model_module_version": "1.5.0",
          "state": {
            "_model_module": "@jupyter-widgets/controls",
            "_model_module_version": "1.5.0",
            "_model_name": "DescriptionStyleModel",
            "_view_count": null,
            "_view_module": "@jupyter-widgets/base",
            "_view_module_version": "1.2.0",
            "_view_name": "StyleView",
            "description_width": ""
          }
        },
        "c9b6bd30d09a47b5bb9327daa0b3e778": {
          "model_module": "@jupyter-widgets/base",
          "model_name": "LayoutModel",
          "model_module_version": "1.2.0",
          "state": {
            "_model_module": "@jupyter-widgets/base",
            "_model_module_version": "1.2.0",
            "_model_name": "LayoutModel",
            "_view_count": null,
            "_view_module": "@jupyter-widgets/base",
            "_view_module_version": "1.2.0",
            "_view_name": "LayoutView",
            "align_content": null,
            "align_items": null,
            "align_self": null,
            "border": null,
            "bottom": null,
            "display": null,
            "flex": null,
            "flex_flow": null,
            "grid_area": null,
            "grid_auto_columns": null,
            "grid_auto_flow": null,
            "grid_auto_rows": null,
            "grid_column": null,
            "grid_gap": null,
            "grid_row": null,
            "grid_template_areas": null,
            "grid_template_columns": null,
            "grid_template_rows": null,
            "height": null,
            "justify_content": null,
            "justify_items": null,
            "left": null,
            "margin": null,
            "max_height": null,
            "max_width": null,
            "min_height": null,
            "min_width": null,
            "object_fit": null,
            "object_position": null,
            "order": null,
            "overflow": null,
            "overflow_x": null,
            "overflow_y": null,
            "padding": null,
            "right": null,
            "top": null,
            "visibility": null,
            "width": null
          }
        },
        "fcfb1c5bf62b46ae83889e206ac49b26": {
          "model_module": "@jupyter-widgets/controls",
          "model_name": "ProgressStyleModel",
          "model_module_version": "1.5.0",
          "state": {
            "_model_module": "@jupyter-widgets/controls",
            "_model_module_version": "1.5.0",
            "_model_name": "ProgressStyleModel",
            "_view_count": null,
            "_view_module": "@jupyter-widgets/base",
            "_view_module_version": "1.2.0",
            "_view_name": "StyleView",
            "bar_color": null,
            "description_width": ""
          }
        },
        "e10106fb0c7947f59502e6f67083857c": {
          "model_module": "@jupyter-widgets/base",
          "model_name": "LayoutModel",
          "model_module_version": "1.2.0",
          "state": {
            "_model_module": "@jupyter-widgets/base",
            "_model_module_version": "1.2.0",
            "_model_name": "LayoutModel",
            "_view_count": null,
            "_view_module": "@jupyter-widgets/base",
            "_view_module_version": "1.2.0",
            "_view_name": "LayoutView",
            "align_content": null,
            "align_items": null,
            "align_self": null,
            "border": null,
            "bottom": null,
            "display": null,
            "flex": null,
            "flex_flow": null,
            "grid_area": null,
            "grid_auto_columns": null,
            "grid_auto_flow": null,
            "grid_auto_rows": null,
            "grid_column": null,
            "grid_gap": null,
            "grid_row": null,
            "grid_template_areas": null,
            "grid_template_columns": null,
            "grid_template_rows": null,
            "height": null,
            "justify_content": null,
            "justify_items": null,
            "left": null,
            "margin": null,
            "max_height": null,
            "max_width": null,
            "min_height": null,
            "min_width": null,
            "object_fit": null,
            "object_position": null,
            "order": null,
            "overflow": null,
            "overflow_x": null,
            "overflow_y": null,
            "padding": null,
            "right": null,
            "top": null,
            "visibility": null,
            "width": null
          }
        },
        "df9f2ee786754d0688d71978d928552b": {
          "model_module": "@jupyter-widgets/controls",
          "model_name": "DescriptionStyleModel",
          "model_module_version": "1.5.0",
          "state": {
            "_model_module": "@jupyter-widgets/controls",
            "_model_module_version": "1.5.0",
            "_model_name": "DescriptionStyleModel",
            "_view_count": null,
            "_view_module": "@jupyter-widgets/base",
            "_view_module_version": "1.2.0",
            "_view_name": "StyleView",
            "description_width": ""
          }
        }
      }
    }
  },
  "cells": [
    {
      "cell_type": "markdown",
      "metadata": {
        "id": "view-in-github",
        "colab_type": "text"
      },
      "source": [
        "<a href=\"https://colab.research.google.com/github/mohammadsanaee/ML_in_application/blob/main/6_rnn_2.ipynb\" target=\"_parent\"><img src=\"https://colab.research.google.com/assets/colab-badge.svg\" alt=\"Open In Colab\"/></a>"
      ]
    },
    {
      "cell_type": "code",
      "metadata": {
        "id": "pK3ktocHYvfn",
        "outputId": "6ff35d34-4ca6-43f4-e040-48a6f0f37b17",
        "colab": {
          "base_uri": "https://localhost:8080/"
        }
      },
      "source": [
        "#@title <b><font color=\"red\">▶</font><font color=\"black\"> run this cell to prepare supplementary materials for the lesson</font></b>\n",
        "\n",
        "!rm -rf harbour-space-text-mining-course\n",
        "!git clone https://github.com/horoshenkih/harbour-space-text-mining-course.git\n",
        "import sys\n",
        "if 'harbour-space-text-mining-course' not in sys.path:\n",
        "    sys.path.append('harbour-space-text-mining-course')\n",
        "\n",
        "# from tmcourse.demo import (\n",
        "# )\n",
        "# from tmcourse.quiz import (\n",
        "# )\n",
        "from tmcourse.ipyquiz import Quiz, Function\n",
        "from tmcourse.utils import enable_mathjax_in_cell\n",
        "\n",
        "from IPython.display import HTML, display\n",
        "\n",
        "# get_ipython().events.register('pre_run_cell', enable_mathjax_in_cell)\n",
        "from IPython.display import set_matplotlib_formats\n",
        "%matplotlib inline\n",
        "set_matplotlib_formats('svg')\n",
        "import matplotlib.pyplot as plt\n",
        "plt.rcParams['figure.figsize'] = (10.0, 6.0)\n",
        "\n",
        "import torch\n",
        "torch.manual_seed(0)\n"
      ],
      "execution_count": null,
      "outputs": [
        {
          "output_type": "stream",
          "name": "stdout",
          "text": [
            "Cloning into 'harbour-space-text-mining-course'...\n",
            "remote: Enumerating objects: 734, done.\u001b[K\n",
            "remote: Counting objects: 100% (171/171), done.\u001b[K\n",
            "remote: Compressing objects: 100% (101/101), done.\u001b[K\n",
            "remote: Total 734 (delta 77), reused 157 (delta 69), pack-reused 563\u001b[K\n",
            "Receiving objects: 100% (734/734), 179.49 MiB | 24.38 MiB/s, done.\n",
            "Resolving deltas: 100% (401/401), done.\n",
            "Checking out files: 100% (129/129), done.\n"
          ]
        },
        {
          "output_type": "execute_result",
          "data": {
            "text/plain": [
              "<torch._C.Generator at 0x7f6dd3d8ced0>"
            ]
          },
          "metadata": {},
          "execution_count": 23
        }
      ]
    },
    {
      "cell_type": "markdown",
      "metadata": {
        "id": "HWUdCXVWY14f"
      },
      "source": [
        "<!--@slideshow slide-->\n",
        "<h1><center>Recurrent Neural Networks - 2</center></h1>\n"
      ]
    },
    {
      "cell_type": "markdown",
      "metadata": {
        "id": "FEt3UbfvjoD2"
      },
      "source": [
        "<!--@slideshow slide-->\n",
        "# Last time\n",
        "1. Recurrent functions accept sequences as inputs.\n",
        "$$\n",
        "h_t = f(x_t, h_{t-1})\n",
        "$$\n",
        "1. Recurrent Neural Networks are recurrent _layers_: they consist of linear transformations followed by activation functions.\n",
        "$$\n",
        "h_t = \\mathrm{SomeFunction}(W_{xh}x_t + W_{hh}h_{t-1})\n",
        "$$\n",
        "1. RNNs are trained with backpropagation on \"unrolled\" computational graph.\n",
        "1. Example: classification of names with RNN."
      ]
    },
    {
      "cell_type": "markdown",
      "metadata": {
        "id": "ScWoVz4Oh2xV"
      },
      "source": [
        "<!--@slideshow slide-->\n",
        "# Plan for today\n",
        "1. Methods of gradient optimization.\n",
        "1. When RNN fails: conflicting updates.\n",
        "1. Long Short-Term Memory (LSTM)"
      ]
    },
    {
      "cell_type": "markdown",
      "metadata": {
        "id": "yu2KTrZO0Aed"
      },
      "source": [
        "<!--@slideshow slide-->\n",
        "# Methods of gradient optimization\n",
        "## Colab demo: gradient methods for neural networks\n",
        "[link](https://colab.research.google.com/drive/1TEX4GuQLU1oEYes-zhAMvoahRZ1yJHMl?usp=sharing)"
      ]
    },
    {
      "cell_type": "markdown",
      "metadata": {
        "id": "I57-p0vR0P94"
      },
      "source": [
        "<!--@slideshow slide-->\n",
        "## Colab demo: PyTorch optimizers"
      ]
    },
    {
      "cell_type": "code",
      "metadata": {
        "id": "lSYsQ-jxiuIu"
      },
      "source": [
        "import torch\n",
        "import torch.nn as nn\n",
        "\n",
        "class RNN(nn.Module):\n",
        "    # the same as LanguageModelRNN from the previous lecture, but without conditioning\n",
        "    def __init__(self, input_size, hidden_size, output_size):\n",
        "        super().__init__()\n",
        "        self.hidden_size = hidden_size\n",
        "\n",
        "        # hidden -> hidden\n",
        "        self.hh = nn.Linear(hidden_size, hidden_size)\n",
        "        # input -> hidden\n",
        "        self.xh = nn.Linear(input_size, hidden_size)\n",
        "        # hidden -> output\n",
        "        self.hy = nn.Linear(hidden_size, output_size)\n",
        "        self.relu = nn.ReLU()\n",
        "        self.softmax = nn.LogSoftmax(dim=1)\n",
        "\n",
        "    def forward(self, x, h):\n",
        "        # h_t = f(h_{t-1}, x_t)\n",
        "        hidden = self.relu(self.hh(h) + self.xh(x))\n",
        "        # o_t = g(h_t)\n",
        "        output = self.softmax(self.hy(hidden))\n",
        "        return output, hidden\n",
        "\n",
        "    def h0(self):\n",
        "        return torch.zeros(1, self.hidden_size)"
      ],
      "execution_count": null,
      "outputs": []
    },
    {
      "cell_type": "markdown",
      "metadata": {
        "id": "4HRqTaomZCpN"
      },
      "source": [
        "`process_sequence_rnn()` builds many-to-many computational graph.\n",
        "\n",
        "![link text](https://raw.githubusercontent.com/horoshenkih/harbour-space-text-mining-course/master/pic/rnn-lm.png)"
      ]
    },
    {
      "cell_type": "code",
      "metadata": {
        "id": "AS3PX3TXj5H5"
      },
      "source": [
        "def process_sequence_rnn(\n",
        "    rnn,\n",
        "    input_line_tensor,\n",
        "    target_line_tensor,\n",
        "    learning_rate\n",
        "):\n",
        "    # instead of manual parameter update, we will use PyTorch optimizer\n",
        "    # create the optimizer\n",
        "    optimizer = torch.optim.Adam(rnn.parameters(), lr=learning_rate)\n",
        "    optimizer.zero_grad()\n",
        "\n",
        "    loss_function = nn.NLLLoss()\n",
        "    hidden = rnn.h0()\n",
        "\n",
        "    loss = 0\n",
        "\n",
        "    for i in range(input_line_tensor.size(0)):\n",
        "        output, hidden = rnn(input_line_tensor[i], hidden)\n",
        "        # update the loss for each element x_t\n",
        "        l = loss_function(output, target_line_tensor[i])\n",
        "        loss += l\n",
        "\n",
        "    loss.backward()\n",
        "\n",
        "    # perform gradient step\n",
        "    \n",
        "    # last time, we implemented the gradient step like this:\n",
        "    # >> with torch.no_grad():\n",
        "    # >>     for parameter in rnn.parameters():\n",
        "    # >>         parameter -= learning_rate * parameter.grad\n",
        "\n",
        "    # now, we use optimizer\n",
        "    optimizer.step()\n",
        "\n",
        "    return loss.item() / input_line_tensor.size(0)"
      ],
      "execution_count": null,
      "outputs": []
    },
    {
      "cell_type": "markdown",
      "metadata": {
        "id": "s87ShI65k_7k"
      },
      "source": [
        "<!--@slideshow slide-->\n",
        "# When RNN fails: conflicting updates"
      ]
    },
    {
      "cell_type": "code",
      "metadata": {
        "id": "W29TFsznLSWP",
        "outputId": "6743d18a-ddfe-4ba1-e34a-19edd9373888",
        "colab": {
          "base_uri": "https://localhost:8080/"
        }
      },
      "source": [
        "#@slideshow slide\n",
        "def toy_example(char_seq):\n",
        "    \"\"\"\n",
        "    Synthetic dataset.\n",
        "    Input: sequence of characters `char_seq`.\n",
        "    Target: \"turn on\" 1 if \"+\" is found, wait for \"-\" to \"turn off\".\n",
        "    \"\"\"\n",
        "    target = []\n",
        "    turned_on = 0\n",
        "    for c in char_seq:\n",
        "        if c == \"+\":\n",
        "            turned_on = 1\n",
        "        elif c == \"-\":\n",
        "            turned_on = 0\n",
        "        target.append(turned_on)\n",
        "    return target\n",
        "\n",
        "inp = \"aajh-dd+dklddf+dd-jjola\"\n",
        "print(\"input: \", inp)\n",
        "print(\"target:\", \"\".join(map(str, toy_example(inp))))"
      ],
      "execution_count": null,
      "outputs": [
        {
          "output_type": "stream",
          "name": "stdout",
          "text": [
            "input:  aajh-dd+dklddf+dd-jjola\n",
            "target: 00000001111111111000000\n"
          ]
        }
      ]
    },
    {
      "cell_type": "markdown",
      "metadata": {
        "id": "-h1lwdlRYRZT"
      },
      "source": [
        "<!--@slideshow slide-->\n",
        "## Colab demo: train RNN on the toy dataset"
      ]
    },
    {
      "cell_type": "markdown",
      "metadata": {
        "id": "nOibJHVvYjkc"
      },
      "source": [
        "Generate synthetic sequences with `generate_data()`."
      ]
    },
    {
      "cell_type": "code",
      "metadata": {
        "id": "jNJgP5FPYCLL",
        "outputId": "74f96a66-0f67-4329-9384-1e07f6c7eecc",
        "colab": {
          "base_uri": "https://localhost:8080/"
        }
      },
      "source": [
        "import torch\n",
        "import random\n",
        "\n",
        "def get_vocabulary(n_additional_symbols):\n",
        "    lower = \"abcdefghijklmnopqrstuvwxyz\"\n",
        "    return list(\"+-\" + lower[:n_additional_symbols])\n",
        "\n",
        "def generate_data(n_samples, seed=0, n_additional_symbols=0):\n",
        "    alphabet = get_vocabulary(n_additional_symbols)\n",
        "    random.seed(seed)\n",
        "\n",
        "    char_tensor = torch.zeros(n_samples, 1, len(alphabet))  # one-hotted, 1 batch\n",
        "    target_tensor = torch.zeros(n_samples, 1)\n",
        "    index_seq = random.choices(range(len(alphabet)), k=n_samples)\n",
        "    char_seq = [alphabet[i] for i in index_seq]  # human-readable\n",
        "    for k, idx in enumerate(index_seq):\n",
        "        char_tensor[k][0][idx] = 1\n",
        "    \n",
        "    # target: turn on if \"+\", turn off if \"-\"\n",
        "    target_seq = toy_example(char_seq)\n",
        "    for i, target in enumerate(target_seq):\n",
        "        target_tensor[i][0] = target\n",
        "\n",
        "    return \"\".join(char_seq), \"\".join(map(str, target_seq)), char_tensor, target_tensor.type(torch.LongTensor)\n",
        "\n",
        "print(\"0 additional symbols\")\n",
        "chars, target, chars_tensor, target_tensor = generate_data(100)\n",
        "print(chars)\n",
        "print(target)\n",
        "print()\n",
        "\n",
        "print(\"10 additional symbols\")\n",
        "chars, target, chars_tensor, target_tensor = generate_data(100, n_additional_symbols=10)\n",
        "print(chars)\n",
        "print(target)"
      ],
      "execution_count": null,
      "outputs": [
        {
          "output_type": "stream",
          "name": "stdout",
          "text": [
            "0 additional symbols\n",
            "--++-+-++---+--+----+---+++---+-+--+-+--++-++-+-+--+++--+--------+-+-+++--++-------+-+------+----+-+\n",
            "0011010110001001000010001110001010010100110110101001110010000000010101110011000000010100000010000101\n",
            "\n",
            "10 additional symbols\n",
            "ihdbechbdfiebhfbijhibgigd-dfijdibhe+gchg+diabiaeajhd+bej-egehejffdfcebaaffd-hijiijecgbhiifjedfjjh+fd\n",
            "0000000000000000000000000000000000011111111111111111111100000000000000000000000000000000000000000111\n"
          ]
        }
      ]
    },
    {
      "cell_type": "markdown",
      "metadata": {
        "id": "xST9N3bNYrZE"
      },
      "source": [
        "Training loop for many-to-many RNN."
      ]
    },
    {
      "cell_type": "code",
      "metadata": {
        "id": "ZmImnQJJnOsP"
      },
      "source": [
        "def train_many_to_many_rnn(\n",
        "    n_additional_symbols=0,\n",
        "    hidden_size=16,\n",
        "    sequence_length=50,\n",
        "    n_iters=1000,\n",
        "    learning_rate=0.0005\n",
        "):\n",
        "    from tqdm.notebook import tqdm\n",
        "    import numpy as np\n",
        "    import matplotlib.pyplot as plt\n",
        "    print_every = n_iters // 20\n",
        "\n",
        "    rnn = RNN(n_additional_symbols + 2, hidden_size, 2)\n",
        "    all_losses = []\n",
        "    iterations = []\n",
        "    losses = []\n",
        "\n",
        "    for i in tqdm(range(1, n_iters + 1)):\n",
        "        # random sample\n",
        "        chars, target, input_tensor, target_tensor = generate_data(\n",
        "            sequence_length,\n",
        "            seed=i,\n",
        "            n_additional_symbols=n_additional_symbols\n",
        "        )\n",
        "        loss = process_sequence_rnn(\n",
        "            rnn,\n",
        "            input_tensor,\n",
        "            target_tensor,\n",
        "            learning_rate\n",
        "        )\n",
        "\n",
        "        all_losses.append(loss)\n",
        "\n",
        "        if i % print_every == 0:\n",
        "            iterations.append(i)\n",
        "            avg_loss = np.mean(all_losses[-print_every:])\n",
        "            losses.append(avg_loss)\n",
        "            print(f\"iteration {i}: loss {avg_loss}\")\n",
        "\n",
        "    plt.plot(iterations, losses)\n",
        "    plt.show()\n",
        "\n",
        "    return rnn"
      ],
      "execution_count": null,
      "outputs": []
    },
    {
      "cell_type": "markdown",
      "metadata": {
        "id": "3t3sdcXcZPjV"
      },
      "source": [
        "Auxiliary functions."
      ]
    },
    {
      "cell_type": "code",
      "metadata": {
        "id": "KH3mmPR_rWjE"
      },
      "source": [
        "def evaluate(rnn, input_tensor):\n",
        "    # read the sequence and return the final output\n",
        "    hidden = rnn.h0()\n",
        "\n",
        "    outputs = torch.zeros(input_tensor.size()[0], 1, 2)\n",
        "    for i in range(input_tensor.size()[0]):\n",
        "        output, hidden = rnn(input_tensor[i], hidden)\n",
        "        outputs[i][0] = output\n",
        "\n",
        "    return outputs\n",
        "\n",
        "def prediction_chars(prediction_tensor):\n",
        "    chars = []\n",
        "    for i in range(prediction_tensor.size()[0]):\n",
        "        if prediction_tensor[i][0][0] > prediction_tensor[i][0][1]:\n",
        "            chars.append('0')\n",
        "        else:\n",
        "            chars.append('1')\n",
        "    return chars\n",
        "\n",
        "def visualize_predictions(rnn, seed, n_additional_symbols, sequence_length=50):\n",
        "    chars, target, input_tensor, target_tensor = generate_data(\n",
        "        sequence_length,\n",
        "        seed=seed,\n",
        "        n_additional_symbols=n_additional_symbols\n",
        "    )\n",
        "\n",
        "    prediction = evaluate(rnn, input_tensor)\n",
        "\n",
        "    print(\"input:     \", \"\".join(chars))\n",
        "    print(\"target:    \", \"\".join(target))\n",
        "    print(\"prediction:\", \"\".join(prediction_chars(prediction)))"
      ],
      "execution_count": null,
      "outputs": []
    },
    {
      "cell_type": "markdown",
      "metadata": {
        "id": "IJs4XnwpuPrV"
      },
      "source": [
        "### Case 1: 2 symbols in the input sequence (no additional symbols)\n",
        "\n",
        "This is an easy task for RNN, training converges quickly, the resulting loss is close to 0."
      ]
    },
    {
      "cell_type": "code",
      "metadata": {
        "id": "LXlykNnbnf5v",
        "outputId": "9ec360c5-6d96-4e38-833e-3ca59b7a343a",
        "colab": {
          "base_uri": "https://localhost:8080/",
          "height": 674,
          "referenced_widgets": [
            "5c27af73dd6646818075b3e7d883d6bd",
            "95121d82a299406bab9244a4da5bd16b",
            "3de6031ed952439aa30f91948290b428",
            "7f0b5ed91abd47d5bd4eefc9ea1130a4",
            "1bd26bb7557a478a99e8dc4066d2d9c2",
            "4905f50eb548436688ed996200112181",
            "422c5ddcd1754685922768f30ba58edb",
            "3425a44a38cb47dbb85ac34bb221db43",
            "ce7fde7bd9544d31a140aba9a6e31509",
            "61c4b1fd4248447cb94f862bbd91f014",
            "63fda8a8a5ca4b6f91a9417ef5549449"
          ]
        }
      },
      "source": [
        "rnn = train_many_to_many_rnn(n_additional_symbols=0, n_iters=1500)"
      ],
      "execution_count": null,
      "outputs": [
        {
          "output_type": "display_data",
          "data": {
            "text/plain": [
              "  0%|          | 0/1500 [00:00<?, ?it/s]"
            ],
            "application/vnd.jupyter.widget-view+json": {
              "version_major": 2,
              "version_minor": 0,
              "model_id": "5c27af73dd6646818075b3e7d883d6bd"
            }
          },
          "metadata": {}
        },
        {
          "output_type": "stream",
          "name": "stdout",
          "text": [
            "iteration 75: loss 0.5581459976196288\n",
            "iteration 150: loss 0.4148217315673828\n",
            "iteration 225: loss 0.29125918045043947\n",
            "iteration 300: loss 0.19420498593648278\n",
            "iteration 375: loss 0.12064695307413736\n",
            "iteration 450: loss 0.0699927365620931\n",
            "iteration 525: loss 0.037728096675872805\n",
            "iteration 600: loss 0.018823943010965984\n",
            "iteration 675: loss 0.008651627421379088\n",
            "iteration 750: loss 0.00393922123114268\n",
            "iteration 825: loss 0.0016431891312201816\n",
            "iteration 900: loss 0.0006578736911217371\n",
            "iteration 975: loss 0.00024222832098603244\n",
            "iteration 1050: loss 8.908746720602114e-05\n",
            "iteration 1125: loss 3.033862377827366e-05\n",
            "iteration 1200: loss 1.0989124223124237e-05\n",
            "iteration 1275: loss 3.7800794331512096e-06\n",
            "iteration 1350: loss 1.1880382992482436e-06\n",
            "iteration 1425: loss 4.5791869500438524e-07\n",
            "iteration 1500: loss 1.4953548082606477e-07\n"
          ]
        },
        {
          "output_type": "display_data",
          "data": {
            "text/plain": [
              "<Figure size 432x288 with 1 Axes>"
            ],
            "image/png": "[encoded data removed]"
          },
          "metadata": {
            "needs_background": "light"
          }
        }
      ]
    },
    {
      "cell_type": "code",
      "metadata": {
        "id": "3Tc_PZcEuhzI",
        "outputId": "74f43a85-f614-4480-a865-46e31a0d7199",
        "colab": {
          "base_uri": "https://localhost:8080/"
        }
      },
      "source": [
        "visualize_predictions(rnn, 99999, 0)"
      ],
      "execution_count": null,
      "outputs": [
        {
          "output_type": "stream",
          "name": "stdout",
          "text": [
            "input:      ++--+++---+++----+-+--+-+-----+-+--+-++++-+----+++\n",
            "target:     11001110001110000101001010000010100101111010000111\n",
            "prediction: 11001110001110000101001010000010100101111010000111\n"
          ]
        }
      ]
    },
    {
      "cell_type": "markdown",
      "metadata": {
        "id": "QJzp5JjWuUDT"
      },
      "source": [
        "### Case 2: 10 additional symbols\n",
        "More iterations are needed to converge, the resulting loss is higher."
      ]
    },
    {
      "cell_type": "code",
      "metadata": {
        "id": "KaM16YwauV5L",
        "outputId": "9685fe47-7369-429d-f2fb-a56253015fec",
        "colab": {
          "base_uri": "https://localhost:8080/",
          "height": 674,
          "referenced_widgets": [
            "27a33713f08b4b6e9d5062c48044980f",
            "58cf22094f454e93946798d6038c60ba",
            "3748f66a84ad424cb0f0c7a9c4ee0b86",
            "0db0a8ae9c2f4917b08c6e2704a13136",
            "1184e1d413974bfd831a27e06f373115",
            "302d0a19cae347c995886a5839fab61c",
            "50fcd7b16efc44c682d36a2229cfbd1a",
            "4044da4c36064260bf194c726a0ddd00",
            "08f03a8706e14ec9909cbc15714866cf",
            "4d0424d7720d49b89f4d10438a0a1a09",
            "221f267c27e04d2ba17f959482ec60c8"
          ]
        }
      },
      "source": [
        "rnn = train_many_to_many_rnn(n_additional_symbols=10, n_iters=4000)"
      ],
      "execution_count": null,
      "outputs": [
        {
          "output_type": "display_data",
          "data": {
            "text/plain": [
              "  0%|          | 0/4000 [00:00<?, ?it/s]"
            ],
            "application/vnd.jupyter.widget-view+json": {
              "version_major": 2,
              "version_minor": 0,
              "model_id": "27a33713f08b4b6e9d5062c48044980f"
            }
          },
          "metadata": {}
        },
        {
          "output_type": "stream",
          "name": "stdout",
          "text": [
            "iteration 200: loss 0.691795627784729\n",
            "iteration 400: loss 0.6508998291015626\n",
            "iteration 600: loss 0.6141790405273437\n",
            "iteration 800: loss 0.5157744303703308\n",
            "iteration 1000: loss 0.45412872333526605\n",
            "iteration 1200: loss 0.3877144681453704\n",
            "iteration 1400: loss 0.3327460609912872\n",
            "iteration 1600: loss 0.281032957649231\n",
            "iteration 1800: loss 0.23419987220764163\n",
            "iteration 2000: loss 0.1960661535143852\n",
            "iteration 2200: loss 0.14156381868720053\n",
            "iteration 2400: loss 0.11410199961662293\n",
            "iteration 2600: loss 0.12224944688379764\n",
            "iteration 2800: loss 0.08834932101219893\n",
            "iteration 3000: loss 0.08600135546326637\n",
            "iteration 3200: loss 0.09982238504588604\n",
            "iteration 3400: loss 0.09064039874076844\n",
            "iteration 3600: loss 0.07456546059660614\n",
            "iteration 3800: loss 0.05995532962083818\n",
            "iteration 4000: loss 0.08615224209968002\n"
          ]
        },
        {
          "output_type": "display_data",
          "data": {
            "text/plain": [
              "<Figure size 432x288 with 1 Axes>"
            ],
            "image/png": "[encoded data removed]"
          },
          "metadata": {
            "needs_background": "light"
          }
        }
      ]
    },
    {
      "cell_type": "code",
      "metadata": {
        "id": "uZe08YT5yvI7",
        "outputId": "c34b50a0-d44a-45e2-a00f-530439d9dda3",
        "colab": {
          "base_uri": "https://localhost:8080/"
        }
      },
      "source": [
        "visualize_predictions(rnn, 99999, 10)"
      ],
      "execution_count": null,
      "outputs": [
        {
          "output_type": "stream",
          "name": "stdout",
          "text": [
            "input:      -bjgcacjfh+bcehegajbhg-f-fiefjchcge-ic++dh+iehfb+c\n",
            "target:     00000000001111111111110000000000000000111111111111\n",
            "prediction: 00000000001111111111110000000000000000111111111111\n"
          ]
        }
      ]
    },
    {
      "cell_type": "markdown",
      "metadata": {
        "id": "keemCRz71hPU"
      },
      "source": [
        "### Case 3: 26 additional symbols\n",
        "Note that there are 28 symbols but only 16 components in the hidden state.\n",
        "This is typical for practical applications: the size of vocabulary is larger than the number of components of the hidden state.\n",
        "\n",
        "The loss is high during training, more iterations don't help."
      ]
    },
    {
      "cell_type": "code",
      "metadata": {
        "id": "wgfNPYIovpq6",
        "outputId": "a6bd10ac-ab12-41ce-de06-74e12430de09",
        "colab": {
          "base_uri": "https://localhost:8080/",
          "height": 674,
          "referenced_widgets": [
            "8624bcaf4b98482babf91527ae2bd7a5",
            "23bddb26f3b24c93a2db3ce940dfef01",
            "8d51c59aae694e6a83d1774b39fc26cd",
            "1dc58f6acc1b41adbcc93212f9aae1c3",
            "c02030819dbc4c3e9750094fbbb215cc",
            "3480a5690d234d6b942db8d32d14daac",
            "736a2126f3b3475481ce39bd956ccb5b",
            "28759b35596646a089deb5d18dcbfaee",
            "106b79c4316f471b8908d3874a09ec14",
            "b2e1ba6e6e784777b5236e5a7d05f5d8",
            "02023848272b4e4381e128e771c6415f"
          ]
        }
      },
      "source": [
        "rnn = train_many_to_many_rnn(n_additional_symbols=26, n_iters=15000)"
      ],
      "execution_count": null,
      "outputs": [
        {
          "output_type": "display_data",
          "data": {
            "text/plain": [
              "  0%|          | 0/15000 [00:00<?, ?it/s]"
            ],
            "application/vnd.jupyter.widget-view+json": {
              "version_major": 2,
              "version_minor": 0,
              "model_id": "8624bcaf4b98482babf91527ae2bd7a5"
            }
          },
          "metadata": {}
        },
        {
          "output_type": "stream",
          "name": "stdout",
          "text": [
            "iteration 750: loss 0.6606282354227702\n",
            "iteration 1500: loss 0.5862316585413615\n",
            "iteration 2250: loss 0.6124177056233089\n",
            "iteration 3000: loss 2.12382915850242\n",
            "iteration 3750: loss 38.05549560994506\n",
            "iteration 4500: loss 456.64324067948303\n",
            "iteration 5250: loss 553.1252445505901\n",
            "iteration 6000: loss 4257.646193877628\n",
            "iteration 6750: loss 2435.388580753852\n",
            "iteration 7500: loss 6.542113442253605\n",
            "iteration 8250: loss 313.0034768409245\n",
            "iteration 9000: loss 528.204141010056\n",
            "iteration 9750: loss 204.07973027119988\n",
            "iteration 10500: loss 2210.2421438552856\n",
            "iteration 11250: loss 8181.382853745813\n",
            "iteration 12000: loss 25681.557764648158\n",
            "iteration 12750: loss 832.8795456299772\n",
            "iteration 13500: loss 643.3156839708037\n",
            "iteration 14250: loss 178.94751555121283\n",
            "iteration 15000: loss 2931.495357859766\n"
          ]
        },
        {
          "output_type": "display_data",
          "data": {
            "text/plain": [
              "<Figure size 432x288 with 1 Axes>"
            ],
            "image/png": "[encoded data removed]"
          },
          "metadata": {
            "needs_background": "light"
          }
        }
      ]
    },
    {
      "cell_type": "code",
      "metadata": {
        "id": "PcG5dECzyw8y",
        "outputId": "5cb24a28-7510-432b-ff05-33a3dfe13b6c",
        "colab": {
          "base_uri": "https://localhost:8080/"
        }
      },
      "source": [
        "visualize_predictions(rnn, 99999, 26)"
      ],
      "execution_count": null,
      "outputs": [
        {
          "output_type": "stream",
          "name": "stdout",
          "text": [
            "input:      bgyshdjxov-hioumrczhusaqboxmqzjuismbvj++jt-xnuqg+h\n",
            "target:     00000000000000000000000000000000000000111100000011\n",
            "prediction: 00000000000000000000000000000000000000000000000000\n"
          ]
        }
      ]
    },
    {
      "cell_type": "markdown",
      "metadata": {
        "id": "GDCDre9iZvhV"
      },
      "source": [
        "<!--@slideshow slide-->\n",
        "## Problem: conflicting updates\n",
        "\n",
        "RNN update rule:\n",
        "$$\n",
        "h_t = f(W_{xh} x_t + W_{hh} h_{t-1})\n",
        "$$\n",
        "\n",
        "**Problem**: $h_t$ is always updated, but _sometimes_ (for some inputs) we want to protect it from updates.\n"
      ]
    },
    {
      "cell_type": "markdown",
      "metadata": {
        "id": "5_753zy54LCv"
      },
      "source": [
        "<!--@slideshow slide-->\n",
        "\n",
        "**Notation**: one-hot encoding of inputs and outputs.\n",
        "\n",
        "**Input**:\n",
        "$x = (0, 1, \\dots)^T$\n",
        "corresponds to `\"+\"` character, and\n",
        "$x = (1, 0, \\dots)^T$\n",
        "corresponds to `\"-\"` character.\n",
        "\n",
        "Any other character is represented as\n",
        "$x = (0, 0, \\dots)^T$\n",
        "\n",
        "**Output**:\n",
        "$h = (0, 1)^T$\n",
        "corresponds to label 1, and\n",
        "$h = (1, 0)^T$\n",
        "corresponds to label 0."
      ]
    },
    {
      "cell_type": "markdown",
      "metadata": {
        "id": "_IzG2sLXZ2-3"
      },
      "source": [
        "<!--@slideshow fragment-->\n",
        "Only the first two components of $x_t$ are relevant, so we want\n",
        "$$\n",
        "W_{xh} = \\begin{pmatrix}\n",
        "1 & 0 & 0 & 0 & \\dots\\\\\n",
        "0 & 1 & 0 & 0 & \\dots\\\\\n",
        "\\end{pmatrix}\n",
        "$$\n",
        "\n",
        "We need the update rule with \"protection\":\n",
        "$$\n",
        "h_t = \\begin{cases}\n",
        "W_{xh} x_t & \\textrm{if }W_{xh} x_t \\textrm{ is nonzero}\\\\\n",
        "h_{t-1}, & \\textrm{if }W_{xh} x_t \\textrm{ is zero}\n",
        "\\end{cases}\n",
        "$$"
      ]
    },
    {
      "cell_type": "markdown",
      "metadata": {
        "id": "Qxr3b0WsW8FX"
      },
      "source": [
        "<!--@slideshow slide-->\n",
        "# Long Short-Term Memory (LSTM)\n",
        "\n",
        "[Sepp Hochreiter and Jürgen Schmidhuber, “Long Short-Term Memory,” Neural Computation 9, no. 8 (1997).](http://citeseerx.ist.psu.edu/viewdoc/download?doi=10.1.1.676.4320&rep=rep1&type=pdf)\n",
        "\n",
        "<table>\n",
        "  <tr>\n",
        "    <td><img src=\"https://3qeqpr26caki16dnhd19sv6by6v-wpengine.netdna-ssl.com/wp-content/uploads/2017/05/Example-of-LSTM-Architecture.png\" height=\"400\"/></td>\n",
        "    <td><img src=\"https://static.tvtropes.org/pmwiki/pub/images/6db_3.jpg\" height=\"400\"/> </td> \n",
        "  </tr>\n",
        "</table>\n"
      ]
    },
    {
      "cell_type": "markdown",
      "metadata": {
        "id": "1tw07ACyaG9z"
      },
      "source": [
        "<!--@slideshow slide-->\n",
        "**Idea**: treat the hidden state as \"memory\" and control its updates depending on the input.\n",
        "\n",
        "> This is the same what we do in the toy example: update the state only for the particular inputs (`\"+\"` or `\"-\"`)."
      ]
    },
    {
      "cell_type": "markdown",
      "metadata": {
        "id": "WrOpWl1ObN8j"
      },
      "source": [
        "<!--@slideshow fragment-->\n",
        "**What we have**: layers (matrices + nonlinearities).\n",
        "\n",
        "**What we want**: memory, conditions (if-else)."
      ]
    },
    {
      "cell_type": "markdown",
      "metadata": {
        "id": "68bKJzYEcGUY"
      },
      "source": [
        "<!--@slideshow slide-->\n",
        "**Memory** will be represented as a vector.\n",
        "- Each element stores a real number.\n",
        "- An element can be erased.\n",
        "- An element can be incremented/decremented."
      ]
    },
    {
      "cell_type": "markdown",
      "metadata": {
        "id": "twT7fysWc8Vq"
      },
      "source": [
        "<!--@slideshow fragment-->\n",
        "**Conditions** correspond to the _sigmoid function_, which returns values between 0 (\"False\") and 1 (\"True\")."
      ]
    },
    {
      "cell_type": "markdown",
      "metadata": {
        "id": "6VLrBYT4doda"
      },
      "source": [
        "<!--@slideshow fragment-->\n",
        "**Memory updates** (increments and decrements) correspond to _tanh_, which returns values between -1 (\"decrement\") and 1 (\"increment\")."
      ]
    },
    {
      "cell_type": "markdown",
      "metadata": {
        "id": "et25hp09jwrK"
      },
      "source": [
        "<!--@slideshow slide-->\n",
        "## 1. Cell state and output gate\n",
        "\n",
        "In general, algorithms don't return the full memory state. So we need to\n",
        "1. Separate the full memory state from the returning state\n",
        "1. Decide which parts of the full memory state to return\n"
      ]
    },
    {
      "cell_type": "markdown",
      "metadata": {
        "id": "OPLv99eVblqw"
      },
      "source": [
        "<!--@slideshow fragment-->\n",
        "The full memory state is called **cell state** $c_t$.\n",
        "\n",
        "From the cell state $c_t$, we \"return\" only some elements.\n"
      ]
    },
    {
      "cell_type": "markdown",
      "metadata": {
        "id": "VPW2_UW0bm8u"
      },
      "source": [
        "<!--@slideshow slide-->\n",
        "We need a function $o_t$ that tells which elements of $c_t$ should be returned:\n",
        "- This function depends on inputs: $o_t(x_t, h_{t-1})$.\n",
        "- For each element, it should \"return\" 0 or 1.\n",
        "- We will _learn_ this function, so represent it as a layer:\n",
        "$$\n",
        "o_t = \\sigma(W_{io} x_t + b_{io} + W_{ho} h_{t-1} + b_{ho})\n",
        "$$\n",
        "\n",
        "The function $o_t$ that decides which parts of memory to return is called **output gate**.\n"
      ]
    },
    {
      "cell_type": "markdown",
      "metadata": {
        "id": "XSyxrcLiboPk"
      },
      "source": [
        "<!--@slideshow fragment-->\n",
        "Also, we control the magnitute of the output using tanh:\n",
        "$$\n",
        "h_t = o_t \\odot \\mathrm{tanh}(c_t)\n",
        "$$"
      ]
    },
    {
      "cell_type": "markdown",
      "metadata": {
        "id": "UyGZO7htvSth"
      },
      "source": [
        "<!--@slideshow slide-->\n",
        "## 2. Update cell state\n",
        "\n",
        "From the input $x_t, h_{t-1}$, we decide how to update the cell state $c_t$ (increment or decrement elements).\n",
        "$$\n",
        "g_t = \\mathrm{tanh}(W_{ig}x_t + b_{ig} + W_{hg}h_{t-1} + b_{hg})\n",
        "$$\n",
        "\n",
        "\n"
      ]
    },
    {
      "cell_type": "markdown",
      "metadata": {
        "id": "kP85swC9b5f_"
      },
      "source": [
        "<!--@slideshow fragment-->\n",
        "But we cannot write\n",
        "$$\n",
        "c_t = g_t\n",
        "$$\n",
        "because we also need to _protect_ some parts of memory."
      ]
    },
    {
      "cell_type": "markdown",
      "metadata": {
        "id": "e9adHtreeyOQ"
      },
      "source": [
        "<!--@slideshow slide-->\n",
        "## 3. Input gate and forget gate\n",
        "\n",
        "To _protect_ some parts of memory $c_t$ from overwriting, we need a function $i_t$ that tells which elements should be overwritten.\n"
      ]
    },
    {
      "cell_type": "markdown",
      "metadata": {
        "id": "Cg4Rm_WkcdNM"
      },
      "source": [
        "<!--@slideshow fragment-->\n",
        "Again, it should return \"boolean\" (between 0 and 1) values, and we learn it, so it is a layer:\n",
        "$$\n",
        "i_t = \\sigma(W_{ii} x_t + b_{ii} + W_{hi}h_{t-1} + b_{hi})\n",
        "$$\n",
        "\n",
        "This function is called **input gate**."
      ]
    },
    {
      "cell_type": "markdown",
      "metadata": {
        "id": "5qlT2KQLiYSI"
      },
      "source": [
        "<!--@slideshow slide-->\n",
        "Similarly, we need to erase (forget) some parts of memory.\n",
        "\n",
        "\n"
      ]
    },
    {
      "cell_type": "markdown",
      "metadata": {
        "id": "f3AeMPgycjoM"
      },
      "source": [
        "<!--@slideshow fragment-->\n",
        "We need a function $f_t$  (**forget gate**) that \"zeroes out\" some elements of $c_t$ depending on input.\n",
        "$$\n",
        "f_t = \\sigma(W_{if}x_t + b_{if} + W_{hf} h_{t-1} + b_{hf})\n",
        "$$"
      ]
    },
    {
      "cell_type": "markdown",
      "metadata": {
        "id": "8_3EGNvQxahU"
      },
      "source": [
        "<!--@slideshow slide-->\n",
        "The final update of the cell state is\n",
        "$$\n",
        "c_t = f_t \\odot c_{t-1} + i_t \\odot g_t\n",
        "$$"
      ]
    },
    {
      "cell_type": "markdown",
      "metadata": {
        "id": "Q51OXZBNx-LW"
      },
      "source": [
        "<!--@slideshow slide-->\n",
        "Putting it all together, we obtain _LSTM equations_:\n",
        "\n",
        "$$\n",
        "i_t = \\sigma(W_{ii} x_t + b_{ii} + W_{hi}h_{t-1} + b_{hi})\n",
        "$$\n",
        "$$\n",
        "f_t = \\sigma(W_{if}x_t + b_{if} + W_{hf} h_{t-1} + b_{hf})\n",
        "$$\n",
        "$$\n",
        "g_t = \\mathrm{tanh}(W_{ig}x_t + b_{ig} + W_{hg}h_{t-1} + b_{hg})\n",
        "$$\n",
        "$$\n",
        "o_t = \\sigma(W_{io} x_t + b_{io} + W_{ho} h_{t-1} + b_{ho})\n",
        "$$\n",
        "$$\n",
        "c_t = f_t \\odot c_{t-1} + i_t \\odot g_t\n",
        "$$\n",
        "$$\n",
        "h_t = o_t \\odot \\mathrm{tanh}(c_t)\n",
        "$$"
      ]
    },
    {
      "cell_type": "markdown",
      "metadata": {
        "id": "KjC8ZmXhjpTy"
      },
      "source": [
        "<!--@slideshow slide-->\n",
        "## Colab demo: LSTM implementation in PyTorch"
      ]
    },
    {
      "cell_type": "code",
      "metadata": {
        "id": "8MGZofsM7isy"
      },
      "source": [
        "class LSTM(nn.Module):\n",
        "    def __init__(self, input_size, hidden_size, output_size):\n",
        "        super().__init__()\n",
        "        self.hidden_size = hidden_size\n",
        "\n",
        "        # input gate\n",
        "        self.ii = nn.Linear(input_size, hidden_size)\n",
        "        self.hi = nn.Linear(hidden_size, hidden_size)\n",
        "\n",
        "        # forget gate\n",
        "        self.if_ = nn.Linear(input_size, hidden_size)\n",
        "        self.hf = nn.Linear(hidden_size, hidden_size)\n",
        "\n",
        "        # cell\n",
        "        self.ig = nn.Linear(input_size, hidden_size)\n",
        "        self.hg = nn.Linear(hidden_size, hidden_size)\n",
        "\n",
        "        # output gate\n",
        "        self.io = nn.Linear(input_size, hidden_size)\n",
        "        self.ho = nn.Linear(hidden_size, hidden_size)\n",
        "\n",
        "        self.tanh = nn.Tanh()\n",
        "        self.sigmoid = nn.Sigmoid()\n",
        "\n",
        "        # transformation of LSTM output to log-probabilities\n",
        "        self.oo = nn.Linear(hidden_size, output_size)\n",
        "        self.softmax = nn.LogSoftmax(dim=1)\n",
        "\n",
        "    def forward(self, x, state):\n",
        "        h, c = state  # state is a pair of hidden state and cell state\n",
        "\n",
        "        # input gate\n",
        "        i = self.sigmoid(self.ii(x) + self.hi(h))\n",
        "        # forget gate\n",
        "        f = self.sigmoid(self.if_(x) + self.hf(h))\n",
        "        # cell\n",
        "        g = self.tanh(self.ig(x) + self.hg(h))\n",
        "        # output gate\n",
        "        o = self.sigmoid(self.io(x) + self.ho(h))\n",
        "\n",
        "        # update cell state\n",
        "        cell = f * c + i * g\n",
        "        # update hidden state\n",
        "        hidden = o * self.tanh(cell)\n",
        "\n",
        "        # output\n",
        "        output = self.softmax(self.oo(hidden))\n",
        "\n",
        "        return output, (hidden, cell)\n",
        "\n",
        "    def h0c0(self):\n",
        "        return torch.zeros(1, self.hidden_size), torch.zeros(1, self.hidden_size)"
      ],
      "execution_count": null,
      "outputs": []
    },
    {
      "cell_type": "code",
      "metadata": {
        "id": "I8-vontN_fIC"
      },
      "source": [
        "def process_sequence_lstm(\n",
        "    lstm,\n",
        "    input_line_tensor,\n",
        "    target_line_tensor,\n",
        "    learning_rate\n",
        "):\n",
        "    loss_function = nn.NLLLoss()\n",
        "    state = lstm.h0c0()\n",
        "    lstm.zero_grad()\n",
        "\n",
        "    loss = 0\n",
        "\n",
        "    for i in range(input_line_tensor.size(0)):\n",
        "        output, state = lstm(input_line_tensor[i], state)\n",
        "        # update the loss for each element x_t\n",
        "        l = loss_function(output, target_line_tensor[i])\n",
        "        loss += l\n",
        "\n",
        "    loss.backward()\n",
        "\n",
        "    # instead of manual parameter update, we use PyTorch optimizer\n",
        "    # create the optimizer\n",
        "    optimizer = torch.optim.Adam(lstm.parameters(), lr=learning_rate)\n",
        "    # perform gradient step\n",
        "    optimizer.step()\n",
        "\n",
        "    return loss.item() / input_line_tensor.size(0)"
      ],
      "execution_count": null,
      "outputs": []
    },
    {
      "cell_type": "code",
      "metadata": {
        "id": "PXjGTRepBTVO"
      },
      "source": [
        "def train_many_to_many_lstm(\n",
        "    n_additional_symbols=0,\n",
        "    hidden_size=16,\n",
        "    sequence_length=50,\n",
        "    n_iters=1000,\n",
        "    learning_rate=0.0005\n",
        "):\n",
        "    from tqdm.notebook import tqdm\n",
        "    import numpy as np\n",
        "    import matplotlib.pyplot as plt\n",
        "    print_every = n_iters // 20\n",
        "\n",
        "    lstm = LSTM(n_additional_symbols + 2, hidden_size, 2)\n",
        "    all_losses = []\n",
        "    iterations = []\n",
        "    losses = []\n",
        "\n",
        "    for i in tqdm(range(1, n_iters + 1)):\n",
        "        # random sample\n",
        "        chars, target, input_tensor, target_tensor = generate_data(\n",
        "            sequence_length,\n",
        "            seed=i,\n",
        "            n_additional_symbols=n_additional_symbols\n",
        "        )\n",
        "        loss = process_sequence_lstm(\n",
        "            lstm,\n",
        "            input_tensor,\n",
        "            target_tensor,\n",
        "            learning_rate\n",
        "        )\n",
        "\n",
        "        all_losses.append(loss)\n",
        "\n",
        "        if i % print_every == 0:\n",
        "            iterations.append(i)\n",
        "            avg_loss = np.mean(all_losses[-print_every:])\n",
        "            losses.append(avg_loss)\n",
        "            print(f\"iteration {i}: loss {avg_loss}\")\n",
        "\n",
        "    plt.plot(iterations, losses)\n",
        "    plt.show()\n",
        "\n",
        "    return lstm"
      ],
      "execution_count": null,
      "outputs": []
    },
    {
      "cell_type": "markdown",
      "metadata": {
        "id": "dWqJLaYnctp3"
      },
      "source": [
        "### Case 1: 2 symbols in the input sequence (no additional symbols)\n",
        "\n",
        "Sanity check: LSTM converges quickly."
      ]
    },
    {
      "cell_type": "code",
      "metadata": {
        "id": "UAG_eWJ1BvqQ",
        "outputId": "366eae6a-d365-4708-feb2-d76b69ad7924",
        "colab": {
          "base_uri": "https://localhost:8080/",
          "height": 938,
          "referenced_widgets": [
            "9b7d10d485c643edbd41a27de9bcad6d",
            "87ce3d43c7614af4b73561926af08009",
            "cc58ae39290d433e8f0b0ce50675362c",
            "e242c45fab9b449caf4a161373059773",
            "4532501ecada49eea96b816343eec847",
            "2cc59fe055364516a594842ce902139f",
            "a7289c301ba048aca5ca902ef7366abe",
            "f039ee06db034f9dbb6472cdcc6b662a",
            "3b4ecea1ac1841b38b4389e12ce62cf4",
            "e74530dd3d7c407c9cab9c8796df5585",
            "c78296a631e442e3bda93a116db98cc4"
          ]
        }
      },
      "source": [
        "train_many_to_many_lstm(n_additional_symbols=0, n_iters=1500)"
      ],
      "execution_count": null,
      "outputs": [
        {
          "output_type": "display_data",
          "data": {
            "text/plain": [
              "  0%|          | 0/1500 [00:00<?, ?it/s]"
            ],
            "application/vnd.jupyter.widget-view+json": {
              "version_major": 2,
              "version_minor": 0,
              "model_id": "9b7d10d485c643edbd41a27de9bcad6d"
            }
          },
          "metadata": {}
        },
        {
          "output_type": "stream",
          "name": "stdout",
          "text": [
            "iteration 75: loss 0.6853904368082683\n",
            "iteration 150: loss 0.6255009628295899\n",
            "iteration 225: loss 0.5540985844930013\n",
            "iteration 300: loss 0.46884996185302746\n",
            "iteration 375: loss 0.3789133214314778\n",
            "iteration 450: loss 0.29582710418701175\n",
            "iteration 525: loss 0.22046806106567382\n",
            "iteration 600: loss 0.15798457107543948\n",
            "iteration 675: loss 0.10903880945841472\n",
            "iteration 750: loss 0.0728042376836141\n",
            "iteration 825: loss 0.04684780263900757\n",
            "iteration 900: loss 0.029208191045125335\n",
            "iteration 975: loss 0.01748997343381246\n",
            "iteration 1050: loss 0.010076893798510234\n",
            "iteration 1125: loss 0.00566928207874298\n",
            "iteration 1200: loss 0.0031127456724643707\n",
            "iteration 1275: loss 0.0016654585947593053\n",
            "iteration 1350: loss 0.0008700144300858181\n",
            "iteration 1425: loss 0.00044187029153108586\n",
            "iteration 1500: loss 0.00021776561575631302\n"
          ]
        },
        {
          "output_type": "display_data",
          "data": {
            "text/plain": [
              "<Figure size 432x288 with 1 Axes>"
            ],
            "image/png": "[encoded data removed]"
          },
          "metadata": {
            "needs_background": "light"
          }
        },
        {
          "output_type": "execute_result",
          "data": {
            "text/plain": [
              "LSTM(\n",
              "  (ii): Linear(in_features=2, out_features=16, bias=True)\n",
              "  (hi): Linear(in_features=16, out_features=16, bias=True)\n",
              "  (if_): Linear(in_features=2, out_features=16, bias=True)\n",
              "  (hf): Linear(in_features=16, out_features=16, bias=True)\n",
              "  (ig): Linear(in_features=2, out_features=16, bias=True)\n",
              "  (hg): Linear(in_features=16, out_features=16, bias=True)\n",
              "  (io): Linear(in_features=2, out_features=16, bias=True)\n",
              "  (ho): Linear(in_features=16, out_features=16, bias=True)\n",
              "  (tanh): Tanh()\n",
              "  (sigmoid): Sigmoid()\n",
              "  (oo): Linear(in_features=16, out_features=2, bias=True)\n",
              "  (softmax): LogSoftmax(dim=1)\n",
              ")"
            ]
          },
          "metadata": {},
          "execution_count": 16
        }
      ]
    },
    {
      "cell_type": "markdown",
      "metadata": {
        "id": "CeqyFiBUc3Gg"
      },
      "source": [
        "### Case 2: 10 additional symbols\n",
        "\n",
        "LSTM has lower loss compared to RNN."
      ]
    },
    {
      "cell_type": "code",
      "metadata": {
        "id": "Cq0PsLyWD6m1",
        "outputId": "29995b5a-fd2f-4799-d239-9b7b0ac7b7c4",
        "colab": {
          "base_uri": "https://localhost:8080/",
          "height": 938,
          "referenced_widgets": [
            "9e681eccf5244697a44cc57466c05367",
            "81b596dae2114646a9c8c2df9372ecbf",
            "43473d3da45b4455a5eaefa5c74aa263",
            "0bf87d537b3543c288f83a00ef36c9f9",
            "2e7bb048d1ac42938f34c1970c4e1456",
            "b800e41abb41474187304a20204fc608",
            "ba2bc00fac4f4f499fd2d62eca099521",
            "6fc59f053edb4d91a813345179f7118d",
            "63d0625691e44f938f9c38e9f325de61",
            "0a5a7504f3224277ace2a2d780dd8f19",
            "c203908df7e94694b6fcbb88cebaef42"
          ]
        }
      },
      "source": [
        "train_many_to_many_lstm(n_additional_symbols=10, n_iters=4000)"
      ],
      "execution_count": null,
      "outputs": [
        {
          "output_type": "display_data",
          "data": {
            "text/plain": [
              "  0%|          | 0/4000 [00:00<?, ?it/s]"
            ],
            "application/vnd.jupyter.widget-view+json": {
              "version_major": 2,
              "version_minor": 0,
              "model_id": "9e681eccf5244697a44cc57466c05367"
            }
          },
          "metadata": {}
        },
        {
          "output_type": "stream",
          "name": "stdout",
          "text": [
            "iteration 200: loss 0.6803459321975709\n",
            "iteration 400: loss 0.6366172424316406\n",
            "iteration 600: loss 0.5462216360092164\n",
            "iteration 800: loss 0.47579896249771125\n",
            "iteration 1000: loss 0.3958074868202209\n",
            "iteration 1200: loss 0.33549606347084043\n",
            "iteration 1400: loss 0.3019349523544312\n",
            "iteration 1600: loss 0.25357865896224974\n",
            "iteration 1800: loss 0.20622973811626433\n",
            "iteration 2000: loss 0.15115934457778932\n",
            "iteration 2200: loss 0.10873711191415786\n",
            "iteration 2400: loss 0.06118206797242164\n",
            "iteration 2600: loss 0.04465319163799286\n",
            "iteration 2800: loss 0.023056439572572706\n",
            "iteration 3000: loss 0.012743152847886085\n",
            "iteration 3200: loss 0.014612113704252994\n",
            "iteration 3400: loss 0.000605198128533084\n",
            "iteration 3600: loss 0.00016577378510264677\n",
            "iteration 3800: loss 3.6942582538176795e-05\n",
            "iteration 4000: loss 8.052367149502971e-06\n"
          ]
        },
        {
          "output_type": "display_data",
          "data": {
            "text/plain": [
              "<Figure size 432x288 with 1 Axes>"
            ],
            "image/png": "[encoded data removed]"
          },
          "metadata": {
            "needs_background": "light"
          }
        },
        {
          "output_type": "execute_result",
          "data": {
            "text/plain": [
              "LSTM(\n",
              "  (ii): Linear(in_features=12, out_features=16, bias=True)\n",
              "  (hi): Linear(in_features=16, out_features=16, bias=True)\n",
              "  (if_): Linear(in_features=12, out_features=16, bias=True)\n",
              "  (hf): Linear(in_features=16, out_features=16, bias=True)\n",
              "  (ig): Linear(in_features=12, out_features=16, bias=True)\n",
              "  (hg): Linear(in_features=16, out_features=16, bias=True)\n",
              "  (io): Linear(in_features=12, out_features=16, bias=True)\n",
              "  (ho): Linear(in_features=16, out_features=16, bias=True)\n",
              "  (tanh): Tanh()\n",
              "  (sigmoid): Sigmoid()\n",
              "  (oo): Linear(in_features=16, out_features=2, bias=True)\n",
              "  (softmax): LogSoftmax(dim=1)\n",
              ")"
            ]
          },
          "metadata": {},
          "execution_count": 17
        }
      ]
    },
    {
      "cell_type": "markdown",
      "metadata": {
        "id": "nibBl8Nqc6A_"
      },
      "source": [
        "### Case 3: 26 additional symbols\n",
        "\n",
        "Training converges, more iterations are better."
      ]
    },
    {
      "cell_type": "code",
      "metadata": {
        "id": "RsMYA6vLD-Qw",
        "outputId": "bc93c25c-9e29-4233-d06a-f9fb094a00b0",
        "colab": {
          "base_uri": "https://localhost:8080/",
          "height": 674,
          "referenced_widgets": [
            "58eac51fb1544dd783a6f03a71b37304",
            "aeebe73c901942ecad84070acc40b0ea",
            "5e8b57ecf06e419f80cd00dd7eae4b35",
            "48f0f918e1be4c69a736510f2f7e606d",
            "eb9a584ad1a54924b3f1d7936fa4db10",
            "5f0cdd9e0aec4a46b6bc32edac2d296a",
            "08cf8bba6003487bbf00a16aa4495b83",
            "f1a28aab404649f6bf6efe52b5e6b1b1",
            "87afc31190df4a8b8fac61762c1c4197",
            "f618ef256f1641a6b8d7beca558b8332",
            "a0c7a96877514c75a775e624243e8283"
          ]
        }
      },
      "source": [
        "lstm = train_many_to_many_lstm(n_additional_symbols=26, n_iters=15000)"
      ],
      "execution_count": null,
      "outputs": [
        {
          "output_type": "display_data",
          "data": {
            "text/plain": [
              "  0%|          | 0/15000 [00:00<?, ?it/s]"
            ],
            "application/vnd.jupyter.widget-view+json": {
              "version_major": 2,
              "version_minor": 0,
              "model_id": "58eac51fb1544dd783a6f03a71b37304"
            }
          },
          "metadata": {}
        },
        {
          "output_type": "stream",
          "name": "stdout",
          "text": [
            "iteration 750: loss 0.6423196632130941\n",
            "iteration 1500: loss 0.42056070839564\n",
            "iteration 2250: loss 0.30242893667221066\n",
            "iteration 3000: loss 0.23613269421418506\n",
            "iteration 3750: loss 0.1200203790858388\n",
            "iteration 4500: loss 0.0456985596239008\n",
            "iteration 5250: loss 0.00981655317626217\n",
            "iteration 6000: loss 0.001838315781279306\n",
            "iteration 6750: loss 0.00042354356545370466\n",
            "iteration 7500: loss 3.5820370664130983e-08\n",
            "iteration 8250: loss 4.6449441731889836e-08\n",
            "iteration 9000: loss 0.00195663765906842\n",
            "iteration 9750: loss 4.16435677645192e-10\n",
            "iteration 10500: loss 4.132587757036769e-11\n",
            "iteration 11250: loss 5.086262471346952e-11\n",
            "iteration 12000: loss 1.5894570424279662e-11\n",
            "iteration 12750: loss 1.9073484812300496e-11\n",
            "iteration 13500: loss 6.357828397085541e-12\n",
            "iteration 14250: loss 6.357828397085541e-12\n",
            "iteration 15000: loss 1.2715656415214957e-11\n"
          ]
        },
        {
          "output_type": "display_data",
          "data": {
            "text/plain": [
              "<Figure size 432x288 with 1 Axes>"
            ],
            "image/png": "[encoded data removed]"
          },
          "metadata": {
            "needs_background": "light"
          }
        }
      ]
    },
    {
      "cell_type": "markdown",
      "metadata": {
        "id": "rgYAIwyuEZy9"
      },
      "source": [
        "<!--@slideshow slide-->\n",
        "## Colab demo: `nn.LSTM`"
      ]
    },
    {
      "cell_type": "code",
      "metadata": {
        "id": "YDIqf6uTydn0"
      },
      "source": [
        "import torch\n",
        "import torch.nn as nn\n",
        "\n",
        "class ClassificationLSTM(nn.Module):\n",
        "    def __init__(self, input_size, hidden_size, output_size):\n",
        "        super().__init__()\n",
        "        self.lstm = nn.LSTM(input_size, hidden_size)\n",
        "        self.out = nn.Linear(hidden_size, output_size)\n",
        "        self.softmax = nn.LogSoftmax(dim=1)\n",
        "\n",
        "        # keep hidden sise for initialization of h_0, c_0\n",
        "        self.hidden_size = hidden_size\n",
        "\n",
        "    def forward(self, x):\n",
        "        # Set initial states\n",
        "        h0 = torch.zeros(1, 1, self.hidden_size)\n",
        "        c0 = torch.zeros(1, 1, self.hidden_size)\n",
        "        \n",
        "        # Forward propagate LSTM\n",
        "        out, _ = self.lstm(x, (h0, c0))  # out: tensor of shape (seq_len, batch, hidden_size)\n",
        "        \n",
        "        # Decode the hidden state of the last time step\n",
        "        out = self.out(out[-1, :, :])\n",
        "\n",
        "        return self.softmax(out)"
      ],
      "execution_count": null,
      "outputs": []
    },
    {
      "cell_type": "code",
      "metadata": {
        "id": "z6TKHuZt14u9"
      },
      "source": [
        "def process_sequence_classification_lstm(lstm, target_tensor, input_tensor, learning_rate):\n",
        "    loss_function = nn.NLLLoss()\n",
        "    optimizer = torch.optim.Adam(lstm.parameters(), lr=learning_rate)\n",
        "\n",
        "    output = lstm(input_tensor)\n",
        "    loss = loss_function(output, target_tensor)\n",
        "\n",
        "    # backprop + update\n",
        "    optimizer.zero_grad()\n",
        "    loss.backward()\n",
        "    optimizer.step()\n",
        "\n",
        "    return loss.item()"
      ],
      "execution_count": null,
      "outputs": []
    },
    {
      "cell_type": "markdown",
      "metadata": {
        "id": "Rguye2iJ3El0"
      },
      "source": [
        "Get the data"
      ]
    },
    {
      "cell_type": "code",
      "metadata": {
        "id": "jb8zSRwA3JUt"
      },
      "source": [
        "#@title run this cell to copy-paste the code from the previous lecture: get the data, define ClassificationRNN\n",
        "\n",
        "from collections import defaultdict\n",
        "category_to_names = defaultdict(list)\n",
        "with open(\"harbour-space-text-mining-course/datasets/pytorch_tutorial/names_by_language.txt\") as f:\n",
        "    for line in f:\n",
        "        name, category = line.strip().split(\"\\t\")\n",
        "        category_to_names[category].append(name)\n",
        "\n",
        "# count total number of letters\n",
        "all_letters = set()\n",
        "all_categories = set()\n",
        "\n",
        "for category, names in category_to_names.items():\n",
        "    all_categories.add(category)\n",
        "    for name in names:\n",
        "        all_letters.update(list(name))\n",
        "all_letters = list(sorted(all_letters))\n",
        "all_categories = list(sorted(all_categories))\n",
        "\n",
        "def name_to_tensor(name, all_letters):\n",
        "    tensor = torch.zeros(len(name), 1, len(all_letters))\n",
        "    for li, letter in enumerate(name):\n",
        "        letter_idx = all_letters.index(letter)\n",
        "        tensor[li][0][letter_idx] = 1  # one-hot encoding\n",
        "    return tensor\n",
        "\n",
        "category_to_training_samples = defaultdict(list)\n",
        "for category, names in category_to_names.items():\n",
        "    category_tensor = torch.tensor([all_categories.index(category)], dtype=torch.long)\n",
        "    for name in names:\n",
        "        name_tensor = name_to_tensor(name, all_letters)\n",
        "        sample = category_tensor, name_tensor\n",
        "        category_to_training_samples[category].append(sample)\n",
        "\n",
        "class ClassificationRNN(nn.Module):\n",
        "    def __init__(self, input_size, hidden_size, output_size):\n",
        "        super().__init__()\n",
        "        # instead of explicit matrix multiplications, we use Linear layers\n",
        "        # W_hh: hidden -> hidden\n",
        "        self.hh = nn.Linear(hidden_size, hidden_size)\n",
        "        # W_xh: input -> hidden\n",
        "        self.xh = nn.Linear(input_size, hidden_size)\n",
        "        # W_hy: hidden -> output\n",
        "        self.hy = nn.Linear(hidden_size, output_size)\n",
        "\n",
        "        # nonlinearities we will use:\n",
        "        # ReLU for h_t = f(h_{t-1}, x_t)\n",
        "        self.relu = nn.ReLU()\n",
        "        # LogSoftmax for y_t = g(h_t) (because we are doing classification)\n",
        "        self.softmax = nn.LogSoftmax(dim=1)\n",
        "\n",
        "        # keep hidden sise for initialization of h_0\n",
        "        self.hidden_size = hidden_size\n",
        "\n",
        "    def forward(self, x, h):\n",
        "        # h_t = f(h_{t-1}, x_t)\n",
        "        hidden = self.relu(self.hh(h) + self.xh(x))\n",
        "        # y_t = g(h_t)\n",
        "        output = self.softmax(self.hy(hidden))\n",
        "        return output, hidden\n",
        "\n",
        "    def h0(self):\n",
        "        # compute the initial value (all zeros) for the hidden state\n",
        "        return torch.zeros(1, self.hidden_size)\n",
        "import torch\n",
        "\n",
        "def process_sequence_classification(rnn, target_tensor, input_tensor, learning_rate):\n",
        "    \"\"\"\n",
        "    The algorithm:\n",
        "    - Read the input sequence left-to-right\n",
        "    - At each step, compute new hidden state and new output\n",
        "    - Get the last output (probability distribution over classes) and compute loss\n",
        "    - Backpropagate gradients and update parameters\n",
        "\n",
        "    input_tensor is a 3-dimensional tensor: sequence length x 1 x vocabulary size\n",
        "     - the first dimension: each element in this dimension corresponds to x_t\n",
        "     - the second dimension is a \"batch dimension\", in our case it always contains 1 element\n",
        "     - the last dimension contains components of x_t\n",
        "    \"\"\"\n",
        "\n",
        "    # prepare for backprop\n",
        "    rnn.zero_grad()\n",
        "    # initialize hidden state\n",
        "    hidden = rnn.h0()\n",
        "\n",
        "    # read all elements of the input sequence, update hidden state and output\n",
        "    for i in range(input_tensor.size()[0]):\n",
        "        output, hidden = rnn(input_tensor[i], hidden)\n",
        "\n",
        "    # get the last output, compute the loss function and backpropagate\n",
        "    loss_function = nn.NLLLoss()\n",
        "    loss = loss_function(output, target_tensor)\n",
        "    loss.backward()\n",
        "\n",
        "    # update parameters\n",
        "    with torch.no_grad():\n",
        "        for parameter in rnn.parameters():\n",
        "            parameter -= learning_rate * parameter.grad\n",
        "\n",
        "    return loss.item()"
      ],
      "execution_count": null,
      "outputs": []
    },
    {
      "cell_type": "markdown",
      "metadata": {
        "id": "A29gI4gB4dTp"
      },
      "source": [
        "Create and train `ClassificationLSTM`. Compare with `ClassificationRNN`."
      ]
    },
    {
      "cell_type": "code",
      "metadata": {
        "id": "jC-bKoFO3dfQ",
        "outputId": "7aa6a1e0-9c80-4097-a7db-91bbfe28507b",
        "colab": {
          "base_uri": "https://localhost:8080/",
          "height": 906,
          "referenced_widgets": [
            "4f2f7312d0274ff99a4c94828b1fea2d",
            "608081de7b434915bca5997b388b257b",
            "e9251f37c44b4b52a106a87d4a10b652",
            "e07ac862ac3b4237881049c44d0a0f3a",
            "69bee99cca964dee9f4a5a987683770c",
            "cafc12a660214bdb9a39810a52168f25",
            "2ab20ab3a1c74799a4bebd666a9b9d0c",
            "c9b6bd30d09a47b5bb9327daa0b3e778",
            "fcfb1c5bf62b46ae83889e206ac49b26",
            "e10106fb0c7947f59502e6f67083857c",
            "df9f2ee786754d0688d71978d928552b"
          ]
        }
      },
      "source": [
        "n_hidden = 128\n",
        "classification_lstm = ClassificationLSTM(len(all_letters), n_hidden, len(all_categories))\n",
        "classification_rnn = ClassificationRNN(len(all_letters), n_hidden, len(all_categories))\n",
        "\n",
        "import math\n",
        "from tqdm.notebook import tqdm\n",
        "import random\n",
        "import numpy as np\n",
        "import matplotlib.pyplot as plt\n",
        "random.seed(0)\n",
        "\n",
        "n_iters = 30000\n",
        "print_every = 1500\n",
        "\n",
        "all_losses = []\n",
        "iterations = []\n",
        "losses = []\n",
        "all_rnn_losses = []\n",
        "rnn_losses = []\n",
        "\n",
        "for i in tqdm(range(1, n_iters + 1)):\n",
        "    random_category = random.choice(all_categories)\n",
        "    category_tensor, name_tensor = random.choice(category_to_training_samples[random_category])\n",
        "\n",
        "    loss = process_sequence_classification_lstm(classification_lstm, category_tensor, name_tensor, 0.0005)\n",
        "    all_losses.append(loss)\n",
        "\n",
        "    rnn_loss = process_sequence_classification(classification_rnn, category_tensor, name_tensor, 0.001)\n",
        "    all_rnn_losses.append(rnn_loss)\n",
        "    if i % print_every == 0:\n",
        "        iterations.append(i)\n",
        "        avg_loss = np.mean(all_losses[-print_every:])\n",
        "        losses.append(avg_loss)\n",
        "        avg_rnn_loss = np.mean(all_rnn_losses[-print_every:])\n",
        "        rnn_losses.append(avg_rnn_loss)\n",
        "        print(f\"iteration {i}: LSTM loss {avg_loss}, RNN loss {avg_rnn_loss}\")\n",
        "\n",
        "plt.plot(iterations, losses, label=\"lstm\")\n",
        "plt.plot(iterations, rnn_losses, label=\"rnn\")\n",
        "plt.legend()\n",
        "plt.show()"
      ],
      "execution_count": null,
      "outputs": [
        {
          "output_type": "display_data",
          "data": {
            "text/plain": [
              "  0%|          | 0/30000 [00:00<?, ?it/s]"
            ],
            "application/vnd.jupyter.widget-view+json": {
              "version_major": 2,
              "version_minor": 0,
              "model_id": "4f2f7312d0274ff99a4c94828b1fea2d"
            }
          },
          "metadata": {}
        },
        {
          "output_type": "stream",
          "name": "stdout",
          "text": [
            "iteration 1500: LSTM loss 2.8803129607041678, RNN loss 2.8922096966107684\n",
            "iteration 3000: LSTM loss 2.754323328177134, RNN loss 2.882747580051422\n",
            "iteration 4500: LSTM loss 2.6458211202224096, RNN loss 2.8737022215525307\n",
            "iteration 6000: LSTM loss 2.702673468788465, RNN loss 2.8660151451428733\n",
            "iteration 7500: LSTM loss 2.6169950920939447, RNN loss 2.854747447490692\n",
            "iteration 9000: LSTM loss 2.587603723833958, RNN loss 2.8439748916625978\n",
            "iteration 10500: LSTM loss 2.5558325101137163, RNN loss 2.8373699741363527\n",
            "iteration 12000: LSTM loss 2.578670886327823, RNN loss 2.828503492037455\n",
            "iteration 13500: LSTM loss 2.4939204195862015, RNN loss 2.8112658767700194\n",
            "iteration 15000: LSTM loss 2.4599703561874726, RNN loss 2.7997008919715882\n",
            "iteration 16500: LSTM loss 2.4154910963264604, RNN loss 2.7816403090159096\n",
            "iteration 18000: LSTM loss 2.3905178098392983, RNN loss 2.7635065960884093\n",
            "iteration 19500: LSTM loss 2.377405059256901, RNN loss 2.750637503862381\n",
            "iteration 21000: LSTM loss 2.229397516075056, RNN loss 2.701439965009689\n",
            "iteration 22500: LSTM loss 2.2735727398268257, RNN loss 2.6312795010010404\n",
            "iteration 24000: LSTM loss 2.298985778241108, RNN loss 2.5655373860994977\n",
            "iteration 25500: LSTM loss 2.2401714252807627, RNN loss 2.4879004585544267\n",
            "iteration 27000: LSTM loss 2.1551034892145995, RNN loss 2.426982575217883\n",
            "iteration 28500: LSTM loss 2.166344490516731, RNN loss 2.366551598807176\n",
            "iteration 30000: LSTM loss 2.0845837839199133, RNN loss 2.32645313813289\n"
          ]
        },
        {
          "output_type": "display_data",
          "data": {
            "text/plain": [
              "<Figure size 720x432 with 1 Axes>"
            ],
            "image/svg+xml": "<?xml version=\"1.0\" encoding=\"utf-8\" standalone=\"no\"?>\n<!DOCTYPE svg PUBLIC \"-//W3C//DTD SVG 1.1//EN\"\n  \"http://www.w3.org/Graphics/SVG/1.1/DTD/svg11.dtd\">\n<!-- Created with matplotlib (https://matplotlib.org/) -->\n<svg height=\"357.238125pt\" version=\"1.1\" viewBox=\"0 0 595.303125 357.238125\" width=\"595.303125pt\" xmlns=\"http://www.w3.org/2000/svg\" xmlns:xlink=\"http://www.w3.org/1999/xlink\">\n <defs>\n  <style type=\"text/css\">\n*{stroke-linecap:butt;stroke-linejoin:round;}\n  </style>\n </defs>\n <g id=\"figure_1\">\n  <g id=\"patch_1\">\n   <path d=\"M -0 357.238125 \nL 595.303125 357.238125 \nL 595.303125 0 \nL -0 0 \nz\n\" style=\"fill:none;\"/>\n  </g>\n  <g id=\"axes_1\">\n   <g id=\"patch_2\">\n    <path d=\"M 30.103125 333.36 \nL 588.103125 333.36 \nL 588.103125 7.2 \nL 30.103125 7.2 \nz\n\" style=\"fill:#ffffff;\"/>\n   </g>\n   <g id=\"matplotlib.axis_1\">\n    <g id=\"xtick_1\">\n     <g id=\"line2d_1\">\n      <defs>\n       <path d=\"M 0 0 \nL 0 3.5 \n\" id=\"m90b6e52862\" style=\"stroke:#000000;stroke-width:0.8;\"/>\n      </defs>\n      <g>\n       <use style=\"stroke:#000000;stroke-width:0.8;\" x=\"117.763412\" xlink:href=\"#m90b6e52862\" y=\"333.36\"/>\n      </g>\n     </g>\n     <g id=\"text_1\">\n      <!-- 5000 -->\n      <defs>\n       <path d=\"M 10.796875 72.90625 \nL 49.515625 72.90625 \nL 49.515625 64.59375 \nL 19.828125 64.59375 \nL 19.828125 46.734375 \nQ 21.96875 47.46875 24.109375 47.828125 \nQ 26.265625 48.1875 28.421875 48.1875 \nQ 40.625 48.1875 47.75 41.5 \nQ 54.890625 34.8125 54.890625 23.390625 \nQ 54.890625 11.625 47.5625 5.09375 \nQ 40.234375 -1.421875 26.90625 -1.421875 \nQ 22.3125 -1.421875 17.546875 -0.640625 \nQ 12.796875 0.140625 7.71875 1.703125 \nL 7.71875 11.625 \nQ 12.109375 9.234375 16.796875 8.0625 \nQ 21.484375 6.890625 26.703125 6.890625 \nQ 35.15625 6.890625 40.078125 11.328125 \nQ 45.015625 15.765625 45.015625 23.390625 \nQ 45.015625 31 40.078125 35.4375 \nQ 35.15625 39.890625 26.703125 39.890625 \nQ 22.75 39.890625 18.8125 39.015625 \nQ 14.890625 38.140625 10.796875 36.28125 \nz\n\" id=\"DejaVuSans-53\"/>\n       <path d=\"M 31.78125 66.40625 \nQ 24.171875 66.40625 20.328125 58.90625 \nQ 16.5 51.421875 16.5 36.375 \nQ 16.5 21.390625 20.328125 13.890625 \nQ 24.171875 6.390625 31.78125 6.390625 \nQ 39.453125 6.390625 43.28125 13.890625 \nQ 47.125 21.390625 47.125 36.375 \nQ 47.125 51.421875 43.28125 58.90625 \nQ 39.453125 66.40625 31.78125 66.40625 \nz\nM 31.78125 74.21875 \nQ 44.046875 74.21875 50.515625 64.515625 \nQ 56.984375 54.828125 56.984375 36.375 \nQ 56.984375 17.96875 50.515625 8.265625 \nQ 44.046875 -1.421875 31.78125 -1.421875 \nQ 19.53125 -1.421875 13.0625 8.265625 \nQ 6.59375 17.96875 6.59375 36.375 \nQ 6.59375 54.828125 13.0625 64.515625 \nQ 19.53125 74.21875 31.78125 74.21875 \nz\n\" id=\"DejaVuSans-48\"/>\n      </defs>\n      <g transform=\"translate(105.038412 347.958438)scale(0.1 -0.1)\">\n       <use xlink:href=\"#DejaVuSans-53\"/>\n       <use x=\"63.623047\" xlink:href=\"#DejaVuSans-48\"/>\n       <use x=\"127.246094\" xlink:href=\"#DejaVuSans-48\"/>\n       <use x=\"190.869141\" xlink:href=\"#DejaVuSans-48\"/>\n      </g>\n     </g>\n    </g>\n    <g id=\"xtick_2\">\n     <g id=\"line2d_2\">\n      <g>\n       <use style=\"stroke:#000000;stroke-width:0.8;\" x=\"206.758627\" xlink:href=\"#m90b6e52862\" y=\"333.36\"/>\n      </g>\n     </g>\n     <g id=\"text_2\">\n      <!-- 10000 -->\n      <defs>\n       <path d=\"M 12.40625 8.296875 \nL 28.515625 8.296875 \nL 28.515625 63.921875 \nL 10.984375 60.40625 \nL 10.984375 69.390625 \nL 28.421875 72.90625 \nL 38.28125 72.90625 \nL 38.28125 8.296875 \nL 54.390625 8.296875 \nL 54.390625 0 \nL 12.40625 0 \nz\n\" id=\"DejaVuSans-49\"/>\n      </defs>\n      <g transform=\"translate(190.852377 347.958438)scale(0.1 -0.1)\">\n       <use xlink:href=\"#DejaVuSans-49\"/>\n       <use x=\"63.623047\" xlink:href=\"#DejaVuSans-48\"/>\n       <use x=\"127.246094\" xlink:href=\"#DejaVuSans-48\"/>\n       <use x=\"190.869141\" xlink:href=\"#DejaVuSans-48\"/>\n       <use x=\"254.492188\" xlink:href=\"#DejaVuSans-48\"/>\n      </g>\n     </g>\n    </g>\n    <g id=\"xtick_3\">\n     <g id=\"line2d_3\">\n      <g>\n       <use style=\"stroke:#000000;stroke-width:0.8;\" x=\"295.753843\" xlink:href=\"#m90b6e52862\" y=\"333.36\"/>\n      </g>\n     </g>\n     <g id=\"text_3\">\n      <!-- 15000 -->\n      <g transform=\"translate(279.847593 347.958438)scale(0.1 -0.1)\">\n       <use xlink:href=\"#DejaVuSans-49\"/>\n       <use x=\"63.623047\" xlink:href=\"#DejaVuSans-53\"/>\n       <use x=\"127.246094\" xlink:href=\"#DejaVuSans-48\"/>\n       <use x=\"190.869141\" xlink:href=\"#DejaVuSans-48\"/>\n       <use x=\"254.492188\" xlink:href=\"#DejaVuSans-48\"/>\n      </g>\n     </g>\n    </g>\n    <g id=\"xtick_4\">\n     <g id=\"line2d_4\">\n      <g>\n       <use style=\"stroke:#000000;stroke-width:0.8;\" x=\"384.749058\" xlink:href=\"#m90b6e52862\" y=\"333.36\"/>\n      </g>\n     </g>\n     <g id=\"text_4\">\n      <!-- 20000 -->\n      <defs>\n       <path d=\"M 19.1875 8.296875 \nL 53.609375 8.296875 \nL 53.609375 0 \nL 7.328125 0 \nL 7.328125 8.296875 \nQ 12.9375 14.109375 22.625 23.890625 \nQ 32.328125 33.6875 34.8125 36.53125 \nQ 39.546875 41.84375 41.421875 45.53125 \nQ 43.3125 49.21875 43.3125 52.78125 \nQ 43.3125 58.59375 39.234375 62.25 \nQ 35.15625 65.921875 28.609375 65.921875 \nQ 23.96875 65.921875 18.8125 64.3125 \nQ 13.671875 62.703125 7.8125 59.421875 \nL 7.8125 69.390625 \nQ 13.765625 71.78125 18.9375 73 \nQ 24.125 74.21875 28.421875 74.21875 \nQ 39.75 74.21875 46.484375 68.546875 \nQ 53.21875 62.890625 53.21875 53.421875 \nQ 53.21875 48.921875 51.53125 44.890625 \nQ 49.859375 40.875 45.40625 35.40625 \nQ 44.1875 33.984375 37.640625 27.21875 \nQ 31.109375 20.453125 19.1875 8.296875 \nz\n\" id=\"DejaVuSans-50\"/>\n      </defs>\n      <g transform=\"translate(368.842808 347.958438)scale(0.1 -0.1)\">\n       <use xlink:href=\"#DejaVuSans-50\"/>\n       <use x=\"63.623047\" xlink:href=\"#DejaVuSans-48\"/>\n       <use x=\"127.246094\" xlink:href=\"#DejaVuSans-48\"/>\n       <use x=\"190.869141\" xlink:href=\"#DejaVuSans-48\"/>\n       <use x=\"254.492188\" xlink:href=\"#DejaVuSans-48\"/>\n      </g>\n     </g>\n    </g>\n    <g id=\"xtick_5\">\n     <g id=\"line2d_5\">\n      <g>\n       <use style=\"stroke:#000000;stroke-width:0.8;\" x=\"473.744273\" xlink:href=\"#m90b6e52862\" y=\"333.36\"/>\n      </g>\n     </g>\n     <g id=\"text_5\">\n      <!-- 25000 -->\n      <g transform=\"translate(457.838023 347.958438)scale(0.1 -0.1)\">\n       <use xlink:href=\"#DejaVuSans-50\"/>\n       <use x=\"63.623047\" xlink:href=\"#DejaVuSans-53\"/>\n       <use x=\"127.246094\" xlink:href=\"#DejaVuSans-48\"/>\n       <use x=\"190.869141\" xlink:href=\"#DejaVuSans-48\"/>\n       <use x=\"254.492188\" xlink:href=\"#DejaVuSans-48\"/>\n      </g>\n     </g>\n    </g>\n    <g id=\"xtick_6\">\n     <g id=\"line2d_6\">\n      <g>\n       <use style=\"stroke:#000000;stroke-width:0.8;\" x=\"562.739489\" xlink:href=\"#m90b6e52862\" y=\"333.36\"/>\n      </g>\n     </g>\n     <g id=\"text_6\">\n      <!-- 30000 -->\n      <defs>\n       <path d=\"M 40.578125 39.3125 \nQ 47.65625 37.796875 51.625 33 \nQ 55.609375 28.21875 55.609375 21.1875 \nQ 55.609375 10.40625 48.1875 4.484375 \nQ 40.765625 -1.421875 27.09375 -1.421875 \nQ 22.515625 -1.421875 17.65625 -0.515625 \nQ 12.796875 0.390625 7.625 2.203125 \nL 7.625 11.71875 \nQ 11.71875 9.328125 16.59375 8.109375 \nQ 21.484375 6.890625 26.8125 6.890625 \nQ 36.078125 6.890625 40.9375 10.546875 \nQ 45.796875 14.203125 45.796875 21.1875 \nQ 45.796875 27.640625 41.28125 31.265625 \nQ 36.765625 34.90625 28.71875 34.90625 \nL 20.21875 34.90625 \nL 20.21875 43.015625 \nL 29.109375 43.015625 \nQ 36.375 43.015625 40.234375 45.921875 \nQ 44.09375 48.828125 44.09375 54.296875 \nQ 44.09375 59.90625 40.109375 62.90625 \nQ 36.140625 65.921875 28.71875 65.921875 \nQ 24.65625 65.921875 20.015625 65.03125 \nQ 15.375 64.15625 9.8125 62.3125 \nL 9.8125 71.09375 \nQ 15.4375 72.65625 20.34375 73.4375 \nQ 25.25 74.21875 29.59375 74.21875 \nQ 40.828125 74.21875 47.359375 69.109375 \nQ 53.90625 64.015625 53.90625 55.328125 \nQ 53.90625 49.265625 50.4375 45.09375 \nQ 46.96875 40.921875 40.578125 39.3125 \nz\n\" id=\"DejaVuSans-51\"/>\n      </defs>\n      <g transform=\"translate(546.833239 347.958438)scale(0.1 -0.1)\">\n       <use xlink:href=\"#DejaVuSans-51\"/>\n       <use x=\"63.623047\" xlink:href=\"#DejaVuSans-48\"/>\n       <use x=\"127.246094\" xlink:href=\"#DejaVuSans-48\"/>\n       <use x=\"190.869141\" xlink:href=\"#DejaVuSans-48\"/>\n       <use x=\"254.492188\" xlink:href=\"#DejaVuSans-48\"/>\n      </g>\n     </g>\n    </g>\n   </g>\n   <g id=\"matplotlib.axis_2\">\n    <g id=\"ytick_1\">\n     <g id=\"line2d_7\">\n      <defs>\n       <path d=\"M 0 0 \nL -3.5 0 \n\" id=\"m6e0cebbd08\" style=\"stroke:#000000;stroke-width:0.8;\"/>\n      </defs>\n      <g>\n       <use style=\"stroke:#000000;stroke-width:0.8;\" x=\"30.103125\" xlink:href=\"#m6e0cebbd08\" y=\"312.874687\"/>\n      </g>\n     </g>\n     <g id=\"text_7\">\n      <!-- 2.1 -->\n      <defs>\n       <path d=\"M 10.6875 12.40625 \nL 21 12.40625 \nL 21 0 \nL 10.6875 0 \nz\n\" id=\"DejaVuSans-46\"/>\n      </defs>\n      <g transform=\"translate(7.2 316.673906)scale(0.1 -0.1)\">\n       <use xlink:href=\"#DejaVuSans-50\"/>\n       <use x=\"63.623047\" xlink:href=\"#DejaVuSans-46\"/>\n       <use x=\"95.410156\" xlink:href=\"#DejaVuSans-49\"/>\n      </g>\n     </g>\n    </g>\n    <g id=\"ytick_2\">\n     <g id=\"line2d_8\">\n      <g>\n       <use style=\"stroke:#000000;stroke-width:0.8;\" x=\"30.103125\" xlink:href=\"#m6e0cebbd08\" y=\"276.16102\"/>\n      </g>\n     </g>\n     <g id=\"text_8\">\n      <!-- 2.2 -->\n      <g transform=\"translate(7.2 279.960239)scale(0.1 -0.1)\">\n       <use xlink:href=\"#DejaVuSans-50\"/>\n       <use x=\"63.623047\" xlink:href=\"#DejaVuSans-46\"/>\n       <use x=\"95.410156\" xlink:href=\"#DejaVuSans-50\"/>\n      </g>\n     </g>\n    </g>\n    <g id=\"ytick_3\">\n     <g id=\"line2d_9\">\n      <g>\n       <use style=\"stroke:#000000;stroke-width:0.8;\" x=\"30.103125\" xlink:href=\"#m6e0cebbd08\" y=\"239.447352\"/>\n      </g>\n     </g>\n     <g id=\"text_9\">\n      <!-- 2.3 -->\n      <g transform=\"translate(7.2 243.246571)scale(0.1 -0.1)\">\n       <use xlink:href=\"#DejaVuSans-50\"/>\n       <use x=\"63.623047\" xlink:href=\"#DejaVuSans-46\"/>\n       <use x=\"95.410156\" xlink:href=\"#DejaVuSans-51\"/>\n      </g>\n     </g>\n    </g>\n    <g id=\"ytick_4\">\n     <g id=\"line2d_10\">\n      <g>\n       <use style=\"stroke:#000000;stroke-width:0.8;\" x=\"30.103125\" xlink:href=\"#m6e0cebbd08\" y=\"202.733685\"/>\n      </g>\n     </g>\n     <g id=\"text_10\">\n      <!-- 2.4 -->\n      <defs>\n       <path d=\"M 37.796875 64.3125 \nL 12.890625 25.390625 \nL 37.796875 25.390625 \nz\nM 35.203125 72.90625 \nL 47.609375 72.90625 \nL 47.609375 25.390625 \nL 58.015625 25.390625 \nL 58.015625 17.1875 \nL 47.609375 17.1875 \nL 47.609375 0 \nL 37.796875 0 \nL 37.796875 17.1875 \nL 4.890625 17.1875 \nL 4.890625 26.703125 \nz\n\" id=\"DejaVuSans-52\"/>\n      </defs>\n      <g transform=\"translate(7.2 206.532904)scale(0.1 -0.1)\">\n       <use xlink:href=\"#DejaVuSans-50\"/>\n       <use x=\"63.623047\" xlink:href=\"#DejaVuSans-46\"/>\n       <use x=\"95.410156\" xlink:href=\"#DejaVuSans-52\"/>\n      </g>\n     </g>\n    </g>\n    <g id=\"ytick_5\">\n     <g id=\"line2d_11\">\n      <g>\n       <use style=\"stroke:#000000;stroke-width:0.8;\" x=\"30.103125\" xlink:href=\"#m6e0cebbd08\" y=\"166.020018\"/>\n      </g>\n     </g>\n     <g id=\"text_11\">\n      <!-- 2.5 -->\n      <g transform=\"translate(7.2 169.819237)scale(0.1 -0.1)\">\n       <use xlink:href=\"#DejaVuSans-50\"/>\n       <use x=\"63.623047\" xlink:href=\"#DejaVuSans-46\"/>\n       <use x=\"95.410156\" xlink:href=\"#DejaVuSans-53\"/>\n      </g>\n     </g>\n    </g>\n    <g id=\"ytick_6\">\n     <g id=\"line2d_12\">\n      <g>\n       <use style=\"stroke:#000000;stroke-width:0.8;\" x=\"30.103125\" xlink:href=\"#m6e0cebbd08\" y=\"129.30635\"/>\n      </g>\n     </g>\n     <g id=\"text_12\">\n      <!-- 2.6 -->\n      <defs>\n       <path d=\"M 33.015625 40.375 \nQ 26.375 40.375 22.484375 35.828125 \nQ 18.609375 31.296875 18.609375 23.390625 \nQ 18.609375 15.53125 22.484375 10.953125 \nQ 26.375 6.390625 33.015625 6.390625 \nQ 39.65625 6.390625 43.53125 10.953125 \nQ 47.40625 15.53125 47.40625 23.390625 \nQ 47.40625 31.296875 43.53125 35.828125 \nQ 39.65625 40.375 33.015625 40.375 \nz\nM 52.59375 71.296875 \nL 52.59375 62.3125 \nQ 48.875 64.0625 45.09375 64.984375 \nQ 41.3125 65.921875 37.59375 65.921875 \nQ 27.828125 65.921875 22.671875 59.328125 \nQ 17.53125 52.734375 16.796875 39.40625 \nQ 19.671875 43.65625 24.015625 45.921875 \nQ 28.375 48.1875 33.59375 48.1875 \nQ 44.578125 48.1875 50.953125 41.515625 \nQ 57.328125 34.859375 57.328125 23.390625 \nQ 57.328125 12.15625 50.6875 5.359375 \nQ 44.046875 -1.421875 33.015625 -1.421875 \nQ 20.359375 -1.421875 13.671875 8.265625 \nQ 6.984375 17.96875 6.984375 36.375 \nQ 6.984375 53.65625 15.1875 63.9375 \nQ 23.390625 74.21875 37.203125 74.21875 \nQ 40.921875 74.21875 44.703125 73.484375 \nQ 48.484375 72.75 52.59375 71.296875 \nz\n\" id=\"DejaVuSans-54\"/>\n      </defs>\n      <g transform=\"translate(7.2 133.105569)scale(0.1 -0.1)\">\n       <use xlink:href=\"#DejaVuSans-50\"/>\n       <use x=\"63.623047\" xlink:href=\"#DejaVuSans-46\"/>\n       <use x=\"95.410156\" xlink:href=\"#DejaVuSans-54\"/>\n      </g>\n     </g>\n    </g>\n    <g id=\"ytick_7\">\n     <g id=\"line2d_13\">\n      <g>\n       <use style=\"stroke:#000000;stroke-width:0.8;\" x=\"30.103125\" xlink:href=\"#m6e0cebbd08\" y=\"92.592683\"/>\n      </g>\n     </g>\n     <g id=\"text_13\">\n      <!-- 2.7 -->\n      <defs>\n       <path d=\"M 8.203125 72.90625 \nL 55.078125 72.90625 \nL 55.078125 68.703125 \nL 28.609375 0 \nL 18.3125 0 \nL 43.21875 64.59375 \nL 8.203125 64.59375 \nz\n\" id=\"DejaVuSans-55\"/>\n      </defs>\n      <g transform=\"translate(7.2 96.391902)scale(0.1 -0.1)\">\n       <use xlink:href=\"#DejaVuSans-50\"/>\n       <use x=\"63.623047\" xlink:href=\"#DejaVuSans-46\"/>\n       <use x=\"95.410156\" xlink:href=\"#DejaVuSans-55\"/>\n      </g>\n     </g>\n    </g>\n    <g id=\"ytick_8\">\n     <g id=\"line2d_14\">\n      <g>\n       <use style=\"stroke:#000000;stroke-width:0.8;\" x=\"30.103125\" xlink:href=\"#m6e0cebbd08\" y=\"55.879016\"/>\n      </g>\n     </g>\n     <g id=\"text_14\">\n      <!-- 2.8 -->\n      <defs>\n       <path d=\"M 31.78125 34.625 \nQ 24.75 34.625 20.71875 30.859375 \nQ 16.703125 27.09375 16.703125 20.515625 \nQ 16.703125 13.921875 20.71875 10.15625 \nQ 24.75 6.390625 31.78125 6.390625 \nQ 38.8125 6.390625 42.859375 10.171875 \nQ 46.921875 13.96875 46.921875 20.515625 \nQ 46.921875 27.09375 42.890625 30.859375 \nQ 38.875 34.625 31.78125 34.625 \nz\nM 21.921875 38.8125 \nQ 15.578125 40.375 12.03125 44.71875 \nQ 8.5 49.078125 8.5 55.328125 \nQ 8.5 64.0625 14.71875 69.140625 \nQ 20.953125 74.21875 31.78125 74.21875 \nQ 42.671875 74.21875 48.875 69.140625 \nQ 55.078125 64.0625 55.078125 55.328125 \nQ 55.078125 49.078125 51.53125 44.71875 \nQ 48 40.375 41.703125 38.8125 \nQ 48.828125 37.15625 52.796875 32.3125 \nQ 56.78125 27.484375 56.78125 20.515625 \nQ 56.78125 9.90625 50.3125 4.234375 \nQ 43.84375 -1.421875 31.78125 -1.421875 \nQ 19.734375 -1.421875 13.25 4.234375 \nQ 6.78125 9.90625 6.78125 20.515625 \nQ 6.78125 27.484375 10.78125 32.3125 \nQ 14.796875 37.15625 21.921875 38.8125 \nz\nM 18.3125 54.390625 \nQ 18.3125 48.734375 21.84375 45.5625 \nQ 25.390625 42.390625 31.78125 42.390625 \nQ 38.140625 42.390625 41.71875 45.5625 \nQ 45.3125 48.734375 45.3125 54.390625 \nQ 45.3125 60.0625 41.71875 63.234375 \nQ 38.140625 66.40625 31.78125 66.40625 \nQ 25.390625 66.40625 21.84375 63.234375 \nQ 18.3125 60.0625 18.3125 54.390625 \nz\n\" id=\"DejaVuSans-56\"/>\n      </defs>\n      <g transform=\"translate(7.2 59.678235)scale(0.1 -0.1)\">\n       <use xlink:href=\"#DejaVuSans-50\"/>\n       <use x=\"63.623047\" xlink:href=\"#DejaVuSans-46\"/>\n       <use x=\"95.410156\" xlink:href=\"#DejaVuSans-56\"/>\n      </g>\n     </g>\n    </g>\n    <g id=\"ytick_9\">\n     <g id=\"line2d_15\">\n      <g>\n       <use style=\"stroke:#000000;stroke-width:0.8;\" x=\"30.103125\" xlink:href=\"#m6e0cebbd08\" y=\"19.165348\"/>\n      </g>\n     </g>\n     <g id=\"text_15\">\n      <!-- 2.9 -->\n      <defs>\n       <path d=\"M 10.984375 1.515625 \nL 10.984375 10.5 \nQ 14.703125 8.734375 18.5 7.8125 \nQ 22.3125 6.890625 25.984375 6.890625 \nQ 35.75 6.890625 40.890625 13.453125 \nQ 46.046875 20.015625 46.78125 33.40625 \nQ 43.953125 29.203125 39.59375 26.953125 \nQ 35.25 24.703125 29.984375 24.703125 \nQ 19.046875 24.703125 12.671875 31.3125 \nQ 6.296875 37.9375 6.296875 49.421875 \nQ 6.296875 60.640625 12.9375 67.421875 \nQ 19.578125 74.21875 30.609375 74.21875 \nQ 43.265625 74.21875 49.921875 64.515625 \nQ 56.59375 54.828125 56.59375 36.375 \nQ 56.59375 19.140625 48.40625 8.859375 \nQ 40.234375 -1.421875 26.421875 -1.421875 \nQ 22.703125 -1.421875 18.890625 -0.6875 \nQ 15.09375 0.046875 10.984375 1.515625 \nz\nM 30.609375 32.421875 \nQ 37.25 32.421875 41.125 36.953125 \nQ 45.015625 41.5 45.015625 49.421875 \nQ 45.015625 57.28125 41.125 61.84375 \nQ 37.25 66.40625 30.609375 66.40625 \nQ 23.96875 66.40625 20.09375 61.84375 \nQ 16.21875 57.28125 16.21875 49.421875 \nQ 16.21875 41.5 20.09375 36.953125 \nQ 23.96875 32.421875 30.609375 32.421875 \nz\n\" id=\"DejaVuSans-57\"/>\n      </defs>\n      <g transform=\"translate(7.2 22.964567)scale(0.1 -0.1)\">\n       <use xlink:href=\"#DejaVuSans-50\"/>\n       <use x=\"63.623047\" xlink:href=\"#DejaVuSans-46\"/>\n       <use x=\"95.410156\" xlink:href=\"#DejaVuSans-57\"/>\n      </g>\n     </g>\n    </g>\n   </g>\n   <g id=\"line2d_16\">\n    <path clip-path=\"url(#p782670e1ff)\" d=\"M 55.466761 26.393183 \nL 82.165326 72.648597 \nL 108.863891 112.483737 \nL 135.562455 91.611155 \nL 162.26102 123.066829 \nL 188.959584 133.857478 \nL 215.658149 145.521856 \nL 242.356714 137.13705 \nL 269.055278 168.252055 \nL 295.753843 180.716368 \nL 322.452407 197.046336 \nL 349.150972 206.214945 \nL 375.849536 211.029117 \nL 402.548101 265.368114 \nL 429.246666 249.149769 \nL 455.94523 239.81971 \nL 482.643795 261.412616 \nL 509.342359 292.644175 \nL 536.040924 288.517192 \nL 562.739489 318.534545 \n\" style=\"fill:none;stroke:#1f77b4;stroke-linecap:square;stroke-width:1.5;\"/>\n   </g>\n   <g id=\"line2d_17\">\n    <path clip-path=\"url(#p782670e1ff)\" d=\"M 55.466761 22.025455 \nL 82.165326 25.499345 \nL 108.863891 28.820227 \nL 135.562455 31.642435 \nL 162.26102 35.77922 \nL 188.959584 39.73422 \nL 215.658149 42.159128 \nL 242.356714 45.414339 \nL 269.055278 51.742899 \nL 295.753843 55.988829 \nL 322.452407 62.619532 \nL 349.150972 69.277083 \nL 375.849536 74.001798 \nL 402.548101 92.064019 \nL 429.246666 117.822499 \nL 455.94523 141.95884 \nL 482.643795 170.462203 \nL 509.342359 192.827392 \nL 536.040924 215.01382 \nL 562.739489 229.735435 \n\" style=\"fill:none;stroke:#ff7f0e;stroke-linecap:square;stroke-width:1.5;\"/>\n   </g>\n   <g id=\"patch_3\">\n    <path d=\"M 30.103125 333.36 \nL 30.103125 7.2 \n\" style=\"fill:none;stroke:#000000;stroke-linecap:square;stroke-linejoin:miter;stroke-width:0.8;\"/>\n   </g>\n   <g id=\"patch_4\">\n    <path d=\"M 588.103125 333.36 \nL 588.103125 7.2 \n\" style=\"fill:none;stroke:#000000;stroke-linecap:square;stroke-linejoin:miter;stroke-width:0.8;\"/>\n   </g>\n   <g id=\"patch_5\">\n    <path d=\"M 30.103125 333.36 \nL 588.103125 333.36 \n\" style=\"fill:none;stroke:#000000;stroke-linecap:square;stroke-linejoin:miter;stroke-width:0.8;\"/>\n   </g>\n   <g id=\"patch_6\">\n    <path d=\"M 30.103125 7.2 \nL 588.103125 7.2 \n\" style=\"fill:none;stroke:#000000;stroke-linecap:square;stroke-linejoin:miter;stroke-width:0.8;\"/>\n   </g>\n   <g id=\"legend_1\">\n    <g id=\"patch_7\">\n     <path d=\"M 527.454687 44.55625 \nL 581.103125 44.55625 \nQ 583.103125 44.55625 583.103125 42.55625 \nL 583.103125 14.2 \nQ 583.103125 12.2 581.103125 12.2 \nL 527.454687 12.2 \nQ 525.454687 12.2 525.454687 14.2 \nL 525.454687 42.55625 \nQ 525.454687 44.55625 527.454687 44.55625 \nz\n\" style=\"fill:#ffffff;opacity:0.8;stroke:#cccccc;stroke-linejoin:miter;\"/>\n    </g>\n    <g id=\"line2d_18\">\n     <path d=\"M 529.454687 20.298437 \nL 549.454687 20.298437 \n\" style=\"fill:none;stroke:#1f77b4;stroke-linecap:square;stroke-width:1.5;\"/>\n    </g>\n    <g id=\"line2d_19\"/>\n    <g id=\"text_16\">\n     <!-- lstm -->\n     <defs>\n      <path d=\"M 9.421875 75.984375 \nL 18.40625 75.984375 \nL 18.40625 0 \nL 9.421875 0 \nz\n\" id=\"DejaVuSans-108\"/>\n      <path d=\"M 44.28125 53.078125 \nL 44.28125 44.578125 \nQ 40.484375 46.53125 36.375 47.5 \nQ 32.28125 48.484375 27.875 48.484375 \nQ 21.1875 48.484375 17.84375 46.4375 \nQ 14.5 44.390625 14.5 40.28125 \nQ 14.5 37.15625 16.890625 35.375 \nQ 19.28125 33.59375 26.515625 31.984375 \nL 29.59375 31.296875 \nQ 39.15625 29.25 43.1875 25.515625 \nQ 47.21875 21.78125 47.21875 15.09375 \nQ 47.21875 7.46875 41.1875 3.015625 \nQ 35.15625 -1.421875 24.609375 -1.421875 \nQ 20.21875 -1.421875 15.453125 -0.5625 \nQ 10.6875 0.296875 5.421875 2 \nL 5.421875 11.28125 \nQ 10.40625 8.6875 15.234375 7.390625 \nQ 20.0625 6.109375 24.8125 6.109375 \nQ 31.15625 6.109375 34.5625 8.28125 \nQ 37.984375 10.453125 37.984375 14.40625 \nQ 37.984375 18.0625 35.515625 20.015625 \nQ 33.0625 21.96875 24.703125 23.78125 \nL 21.578125 24.515625 \nQ 13.234375 26.265625 9.515625 29.90625 \nQ 5.8125 33.546875 5.8125 39.890625 \nQ 5.8125 47.609375 11.28125 51.796875 \nQ 16.75 56 26.8125 56 \nQ 31.78125 56 36.171875 55.265625 \nQ 40.578125 54.546875 44.28125 53.078125 \nz\n\" id=\"DejaVuSans-115\"/>\n      <path d=\"M 18.3125 70.21875 \nL 18.3125 54.6875 \nL 36.8125 54.6875 \nL 36.8125 47.703125 \nL 18.3125 47.703125 \nL 18.3125 18.015625 \nQ 18.3125 11.328125 20.140625 9.421875 \nQ 21.96875 7.515625 27.59375 7.515625 \nL 36.8125 7.515625 \nL 36.8125 0 \nL 27.59375 0 \nQ 17.1875 0 13.234375 3.875 \nQ 9.28125 7.765625 9.28125 18.015625 \nL 9.28125 47.703125 \nL 2.6875 47.703125 \nL 2.6875 54.6875 \nL 9.28125 54.6875 \nL 9.28125 70.21875 \nz\n\" id=\"DejaVuSans-116\"/>\n      <path d=\"M 52 44.1875 \nQ 55.375 50.25 60.0625 53.125 \nQ 64.75 56 71.09375 56 \nQ 79.640625 56 84.28125 50.015625 \nQ 88.921875 44.046875 88.921875 33.015625 \nL 88.921875 0 \nL 79.890625 0 \nL 79.890625 32.71875 \nQ 79.890625 40.578125 77.09375 44.375 \nQ 74.3125 48.1875 68.609375 48.1875 \nQ 61.625 48.1875 57.5625 43.546875 \nQ 53.515625 38.921875 53.515625 30.90625 \nL 53.515625 0 \nL 44.484375 0 \nL 44.484375 32.71875 \nQ 44.484375 40.625 41.703125 44.40625 \nQ 38.921875 48.1875 33.109375 48.1875 \nQ 26.21875 48.1875 22.15625 43.53125 \nQ 18.109375 38.875 18.109375 30.90625 \nL 18.109375 0 \nL 9.078125 0 \nL 9.078125 54.6875 \nL 18.109375 54.6875 \nL 18.109375 46.1875 \nQ 21.1875 51.21875 25.484375 53.609375 \nQ 29.78125 56 35.6875 56 \nQ 41.65625 56 45.828125 52.96875 \nQ 50 49.953125 52 44.1875 \nz\n\" id=\"DejaVuSans-109\"/>\n     </defs>\n     <g transform=\"translate(557.454687 23.798437)scale(0.1 -0.1)\">\n      <use xlink:href=\"#DejaVuSans-108\"/>\n      <use x=\"27.783203\" xlink:href=\"#DejaVuSans-115\"/>\n      <use x=\"79.882812\" xlink:href=\"#DejaVuSans-116\"/>\n      <use x=\"119.091797\" xlink:href=\"#DejaVuSans-109\"/>\n     </g>\n    </g>\n    <g id=\"line2d_20\">\n     <path d=\"M 529.454687 34.976562 \nL 549.454687 34.976562 \n\" style=\"fill:none;stroke:#ff7f0e;stroke-linecap:square;stroke-width:1.5;\"/>\n    </g>\n    <g id=\"line2d_21\"/>\n    <g id=\"text_17\">\n     <!-- rnn -->\n     <defs>\n      <path d=\"M 41.109375 46.296875 \nQ 39.59375 47.171875 37.8125 47.578125 \nQ 36.03125 48 33.890625 48 \nQ 26.265625 48 22.1875 43.046875 \nQ 18.109375 38.09375 18.109375 28.8125 \nL 18.109375 0 \nL 9.078125 0 \nL 9.078125 54.6875 \nL 18.109375 54.6875 \nL 18.109375 46.1875 \nQ 20.953125 51.171875 25.484375 53.578125 \nQ 30.03125 56 36.53125 56 \nQ 37.453125 56 38.578125 55.875 \nQ 39.703125 55.765625 41.0625 55.515625 \nz\n\" id=\"DejaVuSans-114\"/>\n      <path d=\"M 54.890625 33.015625 \nL 54.890625 0 \nL 45.90625 0 \nL 45.90625 32.71875 \nQ 45.90625 40.484375 42.875 44.328125 \nQ 39.84375 48.1875 33.796875 48.1875 \nQ 26.515625 48.1875 22.3125 43.546875 \nQ 18.109375 38.921875 18.109375 30.90625 \nL 18.109375 0 \nL 9.078125 0 \nL 9.078125 54.6875 \nL 18.109375 54.6875 \nL 18.109375 46.1875 \nQ 21.34375 51.125 25.703125 53.5625 \nQ 30.078125 56 35.796875 56 \nQ 45.21875 56 50.046875 50.171875 \nQ 54.890625 44.34375 54.890625 33.015625 \nz\n\" id=\"DejaVuSans-110\"/>\n     </defs>\n     <g transform=\"translate(557.454687 38.476562)scale(0.1 -0.1)\">\n      <use xlink:href=\"#DejaVuSans-114\"/>\n      <use x=\"39.363281\" xlink:href=\"#DejaVuSans-110\"/>\n      <use x=\"102.742188\" xlink:href=\"#DejaVuSans-110\"/>\n     </g>\n    </g>\n   </g>\n  </g>\n </g>\n <defs>\n  <clipPath id=\"p782670e1ff\">\n   <rect height=\"326.16\" width=\"558\" x=\"30.103125\" y=\"7.2\"/>\n  </clipPath>\n </defs>\n</svg>\n"
          },
          "metadata": {
            "needs_background": "light"
          }
        }
      ]
    },
    {
      "cell_type": "markdown",
      "metadata": {
        "id": "C_8XL2wPC6bt"
      },
      "source": [
        "<!--@slideshow slide-->\n",
        "# Summary\n",
        "1. Methods of gradient optimization: \"vanilla\", momentum, Nesterov momentum, Adagrad, RMSProp, Adam.\n",
        "1. Conflicting updates in RNN\n",
        "1. Long Short-Term Memory (LSTM)\n",
        "  - Treat the hidden state as \"memory\" and control its updates depending on the input.\n",
        "  - Cell state and cell update\n",
        "  - Output gate\n",
        "  - Input gate\n",
        "  - Forget gate"
      ]
    },
    {
      "cell_type": "markdown",
      "metadata": {
        "id": "wLgrgziTAvMp"
      },
      "source": [
        "<!--@slideshow slide-->\n",
        "# Recommended resources\n",
        "- [Deep Learning Book, ch. 10: Sequence Modeling: Recurrentand Recursive Nets](https://www.deeplearningbook.org/contents/rnn.html)\n",
        "- [Understanding LSTMs](https://colah.github.io/posts/2015-08-Understanding-LSTMs/)\n",
        "- [Sepp Hochreiter and Jürgen Schmidhuber, “Long Short-Term Memory,” Neural Computation 9, no. 8 (1997).](http://citeseerx.ist.psu.edu/viewdoc/download?doi=10.1.1.676.4320&rep=rep1&type=pdf)"
      ]
    },
    {
      "cell_type": "markdown",
      "metadata": {
        "id": "tN33OgFouZH6"
      },
      "source": [
        "<!--@slideshow slide-->\n",
        "# Home assignment 6\n",
        "## Exercise 1 (2 points)\n",
        "Refactor your solution from the Home Assignment 4: in the function `train_clf`, use Adam optimizer.\n",
        "\n",
        "## Exercise 2 (4 points)\n",
        "Refactor your solution from the Home Assignment 5 (Exercise 2): use `nn.LSTM` in `ClassificationRNN`."
      ]
    }
  ]
}